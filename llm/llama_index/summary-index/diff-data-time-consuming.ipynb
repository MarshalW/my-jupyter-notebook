{
 "cells": [
  {
   "cell_type": "markdown",
   "id": "428dd103-941d-45ae-bc09-e4ec95bf129a",
   "metadata": {},
   "source": [
    "# 查询耗时测试"
   ]
  },
  {
   "cell_type": "markdown",
   "id": "6d08c648-b1ca-4ec4-95c3-07bef7cdeec4",
   "metadata": {},
   "source": [
    "为什么百度百科的公园数据和动物数据，summaryIndex 生成回答耗时不同：\n",
    "\n",
    "- 公园数据似乎和文档数无关\n",
    "- 动物数据和文档数线性相关\n"
   ]
  },
  {
   "cell_type": "markdown",
   "id": "4ab954e3-4029-4679-859a-f71d004846f8",
   "metadata": {},
   "source": [
    "## 全局设置"
   ]
  },
  {
   "cell_type": "code",
   "execution_count": 1,
   "id": "e6429449-12f1-4090-967f-4774a8e3e2b7",
   "metadata": {},
   "outputs": [
    {
     "name": "stdout",
     "output_type": "stream",
     "text": [
      "CPU times: user 3.23 s, sys: 416 ms, total: 3.65 s\n",
      "Wall time: 3.26 s\n"
     ]
    }
   ],
   "source": [
    "%%time\n",
    "\n",
    "from llama_index.core import Settings\n",
    "from llama_index.llms.openai_like import OpenAILike\n",
    "from llama_index.embeddings.ollama import OllamaEmbedding\n",
    "\n",
    "Settings.llm=OpenAILike(\n",
    "    # model=\"qwen2\", \n",
    "    model=\"glm4\", \n",
    "    api_base=\"http://ape:3000/v1\", \n",
    "    api_key=\"sk-bJP6QSnUfjAYeYeE505d3eBf63A643BeB0B8E350Df9b7750\",\n",
    "    is_chat_model=True,\n",
    "    temperature=0.1,\n",
    "    request_timeout=60.0\n",
    ")\n",
    "\n",
    "Settings.embed_model = OllamaEmbedding(\n",
    "    model_name=\"quentinz/bge-large-zh-v1.5\",\n",
    "    base_url=\"http://ape:11434\",\n",
    "    ollama_additional_kwargs={\"mirostat\": 0}, # -mirostat N 使用 Mirostat 采样。\n",
    ")"
   ]
  },
  {
   "cell_type": "markdown",
   "id": "b9268d03-09f5-4df6-8858-d16096480d19",
   "metadata": {},
   "source": [
    "## 公园数据测试"
   ]
  },
  {
   "cell_type": "code",
   "execution_count": 2,
   "id": "bf615ae3-6284-44a3-85b2-abb22355296c",
   "metadata": {},
   "outputs": [
    {
     "name": "stdout",
     "output_type": "stream",
     "text": [
      "CPU times: user 1.74 s, sys: 25.9 ms, total: 1.76 s\n",
      "Wall time: 2.64 s\n"
     ]
    },
    {
     "data": {
      "text/plain": [
       "10"
      ]
     },
     "execution_count": 2,
     "metadata": {},
     "output_type": "execute_result"
    }
   ],
   "source": [
    "%%time\n",
    "\n",
    "from llama_index.readers.web import TrafilaturaWebReader\n",
    "\n",
    "items=[\n",
    "    \"颐和园\",\n",
    "    \"北海公园\",\n",
    "    \"故宫\",\n",
    "    \"八达岭长城\",\n",
    "    \"天坛公园\",\n",
    "    \"恭王府\",\n",
    "    \"圆明园\",\n",
    "    \"景山公园\",\n",
    "    \"中山公园\",\n",
    "    \"陶然亭公园\",\n",
    "]\n",
    "\n",
    "documents_attractions = TrafilaturaWebReader().load_data(\n",
    "    [ f\"https://baike.baidu.com/item/{item}\" for item in items]\n",
    ")\n",
    "\n",
    "len(documents_attractions)"
   ]
  },
  {
   "cell_type": "code",
   "execution_count": 3,
   "id": "9d3f4779-1cbd-41f7-bb7d-e3a8f0ade86e",
   "metadata": {},
   "outputs": [
    {
     "name": "stdout",
     "output_type": "stream",
     "text": [
      "CPU times: user 370 ms, sys: 90 µs, total: 370 ms\n",
      "Wall time: 370 ms\n"
     ]
    },
    {
     "data": {
      "text/plain": [
       "171"
      ]
     },
     "execution_count": 3,
     "metadata": {},
     "output_type": "execute_result"
    }
   ],
   "source": [
    "%%time\n",
    "\n",
    "from llama_index.core.node_parser import SentenceSplitter\n",
    "from llama_index.core import SummaryIndex\n",
    "\n",
    "parser = SentenceSplitter(chunk_size=1024,chunk_overlap=20)\n",
    "nodes = parser.get_nodes_from_documents(documents_attractions)\n",
    "summary_index_attractions = SummaryIndex(nodes)\n",
    "\n",
    "len(nodes)"
   ]
  },
  {
   "cell_type": "code",
   "execution_count": 4,
   "id": "5aa1fcf5-705f-4f8f-bab1-0d3217e54f94",
   "metadata": {},
   "outputs": [
    {
     "name": "stdout",
     "output_type": "stream",
     "text": [
      "CPU times: user 26 µs, sys: 2 µs, total: 28 µs\n",
      "Wall time: 30.3 µs\n"
     ]
    }
   ],
   "source": [
    "%%time\n",
    "\n",
    "# 创建索引器\n",
    "\n",
    "summary_retriever_attractions = summary_index_attractions.as_retriever()"
   ]
  },
  {
   "cell_type": "code",
   "execution_count": 5,
   "id": "efe7503b-c783-4113-b7a5-6ca45d03ea60",
   "metadata": {},
   "outputs": [
    {
     "name": "stdout",
     "output_type": "stream",
     "text": [
      "CPU times: user 133 µs, sys: 12 µs, total: 145 µs\n",
      "Wall time: 147 µs\n"
     ]
    }
   ],
   "source": [
    "%%time\n",
    "\n",
    "from llama_index.core import get_response_synthesizer\n",
    "from llama_index.core.query_engine import RetrieverQueryEngine\n",
    "\n",
    "response_synthesizer = get_response_synthesizer(\n",
    "    response_mode=\"tree_summarize\",\n",
    "    streaming=True,\n",
    ")\n",
    "\n",
    "query_engine = RetrieverQueryEngine(\n",
    "    retriever=summary_retriever_attractions,\n",
    "    response_synthesizer=response_synthesizer,\n",
    ")"
   ]
  },
  {
   "cell_type": "code",
   "execution_count": 6,
   "id": "d3e1c940-de2b-4234-b677-5052ec0a0d80",
   "metadata": {},
   "outputs": [
    {
     "name": "stdout",
     "output_type": "stream",
     "text": [
      "颐和园位于北京市海淀区，是中国著名的皇家园林。其历史始于金代，但现在的规模和格局主要是在清朝乾隆年间形成的。1750年，为庆祝皇太后六十寿辰，清乾隆皇帝下令在昆明湖畔建造“清漪园”。然而，1860年英法联军入侵北京时，清漪园遭到严重破坏。1886年，慈禧太后重建园林，并更名为“颐和园”，成为清朝皇室的夏宫。1900年八国联军侵华战争期间，颐和园再次遭受破坏。1912年中华民国成立后，颐和园被辟为公园，对外开放。新中国成立后，政府对颐和园进行了大规模的修复和保护工作，使其成为中国现存规模最大、保存最完整的皇家园林之一。1998年，颐和园被列入世界文化遗产名录。CPU times: user 898 ms, sys: 35.1 ms, total: 933 ms\n",
      "Wall time: 9min 34s\n"
     ]
    }
   ],
   "source": [
    "%%time\n",
    "\n",
    "response = query_engine.query(\"介绍下颐和园的历史\")\n",
    "response.print_response_stream()"
   ]
  },
  {
   "cell_type": "code",
   "execution_count": null,
   "id": "0c7de0c9-618d-452e-81f5-5394c30c00b6",
   "metadata": {},
   "outputs": [],
   "source": []
  }
 ],
 "metadata": {
  "kernelspec": {
   "display_name": "Python 3 (ipykernel)",
   "language": "python",
   "name": "python3"
  },
  "language_info": {
   "codemirror_mode": {
    "name": "ipython",
    "version": 3
   },
   "file_extension": ".py",
   "mimetype": "text/x-python",
   "name": "python",
   "nbconvert_exporter": "python",
   "pygments_lexer": "ipython3",
   "version": "3.10.12"
  }
 },
 "nbformat": 4,
 "nbformat_minor": 5
}
