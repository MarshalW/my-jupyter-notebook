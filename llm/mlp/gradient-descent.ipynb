{
 "cells": [
  {
   "cell_type": "markdown",
   "id": "8931005e-187f-46cc-8a4f-fe36626341fe",
   "metadata": {},
   "source": [
    "# 梯度下降法"
   ]
  },
  {
   "cell_type": "code",
   "execution_count": 3,
   "id": "9a582025-d1ce-43e8-a65c-04712e09fb10",
   "metadata": {},
   "outputs": [],
   "source": [
    "import numpy as np"
   ]
  },
  {
   "cell_type": "code",
   "execution_count": 46,
   "id": "1b07099b-e89b-4f10-8713-1d724092f75d",
   "metadata": {},
   "outputs": [
    {
     "name": "stdout",
     "output_type": "stream",
     "text": [
      "最小值点： -0.9999999977592604\n",
      "函数值： 0.0\n",
      "CPU times: user 413 µs, sys: 0 ns, total: 413 µs\n",
      "Wall time: 365 µs\n"
     ]
    }
   ],
   "source": [
    "%%time\n",
    "\n",
    "# 定义一个简单的二次函数\n",
    "def quadratic_function(x):\n",
    "    return x**2 + 2*x + 1\n",
    "\n",
    "# 求函数的导数（梯度）\n",
    "def gradient(x):\n",
    "    return 2*x + 2\n",
    "\n",
    "# 梯度下降函数\n",
    "def gradient_descent(learning_rate, max_iterations, initial_x):\n",
    "    x = initial_x\n",
    "    for _ in range(max_iterations):\n",
    "        grad = gradient(x)\n",
    "        x = x - learning_rate * grad\n",
    "    return x\n",
    "\n",
    "# 设定初始值和超参数\n",
    "initial_x = 10.0\n",
    "learning_rate = 0.1\n",
    "max_iterations = 100\n",
    "\n",
    "# 运行梯度下降算法\n",
    "result = gradient_descent(learning_rate, max_iterations, initial_x)\n",
    "print(\"最小值点：\", result)\n",
    "print(\"函数值：\", quadratic_function(result))"
   ]
  },
  {
   "cell_type": "code",
   "execution_count": 63,
   "id": "1108144c-dd17-4bcc-bc85-9896d334d202",
   "metadata": {},
   "outputs": [
    {
     "name": "stdout",
     "output_type": "stream",
     "text": [
      "Test accuracy: 68.39285714285714%\n",
      "CPU times: user 2min 1s, sys: 26.1 s, total: 2min 27s\n",
      "Wall time: 1min 19s\n"
     ]
    }
   ],
   "source": []
  },
  {
   "cell_type": "code",
   "execution_count": null,
   "id": "5038302b-08f0-482c-bc6b-064045ede392",
   "metadata": {},
   "outputs": [],
   "source": []
  }
 ],
 "metadata": {
  "kernelspec": {
   "display_name": "Python 3 (ipykernel)",
   "language": "python",
   "name": "python3"
  },
  "language_info": {
   "codemirror_mode": {
    "name": "ipython",
    "version": 3
   },
   "file_extension": ".py",
   "mimetype": "text/x-python",
   "name": "python",
   "nbconvert_exporter": "python",
   "pygments_lexer": "ipython3",
   "version": "3.10.12"
  }
 },
 "nbformat": 4,
 "nbformat_minor": 5
}
