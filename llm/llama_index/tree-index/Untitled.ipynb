{
 "cells": [
  {
   "cell_type": "code",
   "execution_count": 4,
   "id": "b38a3ee5-de21-448f-9ed6-a7e7a06311ea",
   "metadata": {},
   "outputs": [
    {
     "name": "stdout",
     "output_type": "stream",
     "text": [
      "CUDA available: True\n",
      "CUDA Driver Version: compiler\n",
      "cuDNN Version: N/A\n",
      "PyTorch Version: 2.3.1+cu121\n",
      "CPU times: user 850 ms, sys: 224 ms, total: 1.07 s\n",
      "Wall time: 964 ms\n"
     ]
    }
   ],
   "source": [
    "%%time\n",
    "\n",
    "# deepseek\n",
    "\n",
    "import subprocess\n",
    "import torch\n",
    "\n",
    "def check_cuda():\n",
    "    try:\n",
    "        # Check if CUDA is available\n",
    "        cuda_available = torch.cuda.is_available()\n",
    "        print(f\"CUDA available: {cuda_available}\")\n",
    "        \n",
    "        if cuda_available:\n",
    "            # Get the version of the CUDA driver\n",
    "            nvcc_info = subprocess.run(['nvcc', '--version'], capture_output=True, text=True)\n",
    "            cuda_version = nvcc_info.stdout.splitlines()[0].split()[-2]\n",
    "            print(f\"CUDA Driver Version: {cuda_version}\")\n",
    "            \n",
    "            # Get the version of the cuDNN library if available\n",
    "            try:\n",
    "                cudnn_info = subprocess.run(['nvidia-smi'], capture_output=True, text=True)\n",
    "                cudnn_version = cudnn_info.stdout.splitlines()[8].split()[-2]\n",
    "                print(f\"cuDNN Version: {cudnn_version}\")\n",
    "            except Exception as e:\n",
    "                print(\"cuDNN not available or could not be retrieved.\")\n",
    "            \n",
    "        # Check if PyTorch is installed and its version\n",
    "        pytorch_version = torch.__version__\n",
    "        print(f\"PyTorch Version: {pytorch_version}\")\n",
    "        \n",
    "    except Exception as e:\n",
    "        print(f\"An error occurred: {e}\")\n",
    "\n",
    "if __name__ == \"__main__\":\n",
    "    check_cuda()"
   ]
  },
  {
   "cell_type": "code",
   "execution_count": 5,
   "id": "4379e53a-2701-4420-a81f-b050fafa0868",
   "metadata": {},
   "outputs": [
    {
     "name": "stdout",
     "output_type": "stream",
     "text": [
      "CUDA Driver Version: 535.183.01\n",
      "GPU Name:  NVIDIA GeForce RTX 4060 Ti\n",
      "PyTorch Version: 2.3.1+cu121\n",
      "CPU times: user 1.66 ms, sys: 338 µs, total: 2 ms\n",
      "Wall time: 13.9 ms\n"
     ]
    }
   ],
   "source": [
    "%%time\n",
    "\n",
    "# glm4\n",
    "\n",
    "import subprocess\n",
    "\n",
    "def get_cuda_version():\n",
    "    try:\n",
    "        # 使用nvidia-smi命令获取CUDA版本\n",
    "        nvsmi_output = subprocess.check_output(['nvidia-smi', '--query-gpu=driver_version,name', '--format=csv,noheader,nounits'],\n",
    "                                                encoding='utf-8')\n",
    "        lines = nvsmi_output.strip().split('\\\\n')\n",
    "        if len(lines) > 0:\n",
    "            driver_version, gpu_name = lines[0].split(',')\n",
    "            print(f\"CUDA Driver Version: {driver_version}\")\n",
    "            print(f\"GPU Name: {gpu_name}\")\n",
    "            return True\n",
    "    except FileNotFoundError:\n",
    "        print(\"CUDA不是默认安装的，或nvidia-smi命令未找到。\")\n",
    "    except subprocess.CalledProcessError as e:\n",
    "        print(f\"获取CUDA信息失败：{e}\")\n",
    "    return False\n",
    "\n",
    "def get_pytorch_version():\n",
    "    try:\n",
    "        import torch\n",
    "        print(f\"PyTorch Version: {torch.__version__}\")\n",
    "        return True\n",
    "    except ImportError:\n",
    "        print(\"PyTorch没有安装。\")\n",
    "        return False\n",
    "\n",
    "if __name__ == \"__main__\":\n",
    "    # 检查CUDA设备和驱动程序\n",
    "    has_cuda = get_cuda_version()\n",
    "\n",
    "    if has_cuda:\n",
    "        # 如果有CUDA，检查是否安装了PyTorch\n",
    "        get_pytorch_version()"
   ]
  },
  {
   "cell_type": "code",
   "execution_count": 6,
   "id": "41c844e0-4f06-4581-9b97-565526455eed",
   "metadata": {},
   "outputs": [
    {
     "name": "stdout",
     "output_type": "stream",
     "text": [
      "Found CUDA devices with version: 535.183.01\n",
      "GPU Name: NVIDIA GeForce RTX 4060 Ti\n",
      "PyTorch version: 2.3.1+cu121\n",
      "CPU times: user 2.81 ms, sys: 0 ns, total: 2.81 ms\n",
      "Wall time: 25.4 ms\n"
     ]
    }
   ],
   "source": [
    "%%time\n",
    "\n",
    "# qwen2:7b\n",
    "\n",
    "import subprocess\n",
    "\n",
    "def get_cuda_version():\n",
    "    \"\"\"检查是否存在CUDA设备并返回CUDA驱动版本\"\"\"\n",
    "    try:\n",
    "        # 使用 nvidia-smi 命令来获取GPU信息和驱动版本号（如果有）\n",
    "        command = \"nvidia-smi --query-gpu=driver_version --format=csv,noheader\"\n",
    "        result = subprocess.run(command.split(), capture_output=True, text=True)\n",
    "        \n",
    "        if result.returncode == 0:\n",
    "            cuda_driver_version = result.stdout.strip()\n",
    "            print(f\"Found CUDA devices with version: {cuda_driver_version}\")\n",
    "            \n",
    "            # 获取GPU名称\n",
    "            command = \"nvidia-smi --query-gpu=name --format=csv,noheader\"\n",
    "            gpu_info = subprocess.run(command.split(), capture_output=True, text=True)\n",
    "            if gpu_info.returncode == 0:\n",
    "                print(f\"GPU Name: {gpu_info.stdout.strip()}\")\n",
    "        else:\n",
    "            print(\"No CUDA devices found.\")\n",
    "    except Exception as e:\n",
    "        print(f\"Error occurred: {e}\")\n",
    "\n",
    "def check_pytorch_installed():\n",
    "    \"\"\"检查PyTorch是否已安装，并打印其版本\"\"\"\n",
    "    try:\n",
    "        import torch\n",
    "        print(f\"PyTorch version: {torch.__version__}\")\n",
    "    except ImportError:\n",
    "        print(\"PyTorch is not installed.\")\n",
    "\n",
    "if __name__ == \"__main__\":\n",
    "    get_cuda_version()\n",
    "    check_pytorch_installed()"
   ]
  },
  {
   "cell_type": "code",
   "execution_count": null,
   "id": "543f66b8-3cb0-433b-bda3-e8f256291d69",
   "metadata": {},
   "outputs": [],
   "source": []
  }
 ],
 "metadata": {
  "kernelspec": {
   "display_name": "Python 3 (ipykernel)",
   "language": "python",
   "name": "python3"
  },
  "language_info": {
   "codemirror_mode": {
    "name": "ipython",
    "version": 3
   },
   "file_extension": ".py",
   "mimetype": "text/x-python",
   "name": "python",
   "nbconvert_exporter": "python",
   "pygments_lexer": "ipython3",
   "version": "3.10.12"
  }
 },
 "nbformat": 4,
 "nbformat_minor": 5
}
