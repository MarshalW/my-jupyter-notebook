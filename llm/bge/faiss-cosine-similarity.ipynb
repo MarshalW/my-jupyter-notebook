{
 "cells": [
  {
   "cell_type": "markdown",
   "id": "4ddd6308-9025-476f-97aa-d74791c7c31e",
   "metadata": {},
   "source": [
    "# faiss使用余弦相似度 - 围城示例"
   ]
  },
  {
   "cell_type": "code",
   "execution_count": 1,
   "id": "661e3fd6-f781-49ee-bdf7-6c33d1615412",
   "metadata": {},
   "outputs": [
    {
     "name": "stdout",
     "output_type": "stream",
     "text": [
      "CPU times: user 28.7 ms, sys: 23.6 ms, total: 52.2 ms\n",
      "Wall time: 7.6 s\n"
     ]
    }
   ],
   "source": [
    "%%time\n",
    "%%capture\n",
    "\n",
    "# 所有依赖库\n",
    "!pip install llama-index\n",
    "!pip install llama-index-llms-openai-like\n",
    "!pip install llama-index-llms-ollama\n",
    "!pip install llama-index-vector-stores-faiss"
   ]
  },
  {
   "cell_type": "code",
   "execution_count": 2,
   "id": "f24c3284-d5a5-41f1-b53b-4de96da040f0",
   "metadata": {},
   "outputs": [
    {
     "name": "stdout",
     "output_type": "stream",
     "text": [
      "CPU times: user 1.34 s, sys: 206 ms, total: 1.55 s\n",
      "Wall time: 1.26 s\n"
     ]
    }
   ],
   "source": [
    "%%time\n",
    "\n",
    "# 导入需要的包\n",
    "\n",
    "from llama_index.core import Settings\n",
    "from llama_index.embeddings.ollama import OllamaEmbedding\n",
    "from llama_index.core import (\n",
    "    SimpleDirectoryReader,\n",
    "    load_index_from_storage,\n",
    "    VectorStoreIndex,\n",
    "    StorageContext,\n",
    ")\n",
    "from llama_index.vector_stores.faiss import FaissVectorStore"
   ]
  },
  {
   "cell_type": "code",
   "execution_count": 3,
   "id": "0ebf74cc-4a5e-4fff-8e57-bd89ac341b96",
   "metadata": {},
   "outputs": [
    {
     "name": "stdout",
     "output_type": "stream",
     "text": [
      "CPU times: user 649 ms, sys: 31.8 ms, total: 681 ms\n",
      "Wall time: 681 ms\n"
     ]
    }
   ],
   "source": [
    "%%time\n",
    "\n",
    "# 初始化全局 embedding 模型\n",
    "from llama_index.embeddings.ollama import OllamaEmbedding\n",
    "\n",
    "ollama_embedding = OllamaEmbedding(\n",
    "    model_name=\"dztech/bge-large-zh:v1.5\",\n",
    "    # model_name=\"bge-m3:latest\",\n",
    "    base_url=\"http://192.168.0.72:11435\",\n",
    "    ollama_additional_kwargs={\"mirostat\": 0}, # -mirostat N 使用 Mirostat 采样。\n",
    ")\n",
    "\n",
    "Settings.embed_model = ollama_embedding"
   ]
  },
  {
   "cell_type": "code",
   "execution_count": 4,
   "id": "44097bde-dd6f-486b-b82b-77c459fc242c",
   "metadata": {},
   "outputs": [
    {
     "name": "stdout",
     "output_type": "stream",
     "text": [
      "CPU times: user 165 µs, sys: 0 ns, total: 165 µs\n",
      "Wall time: 169 µs\n"
     ]
    }
   ],
   "source": [
    "%%time\n",
    "\n",
    "import logging\n",
    "import sys\n",
    "\n",
    "# 设置系统日志，便于设置level排查\n",
    "\n",
    "logging.basicConfig(stream=sys.stdout, level=logging.INFO)\n",
    "logging.getLogger().addHandler(logging.StreamHandler(stream=sys.stdout))"
   ]
  },
  {
   "cell_type": "code",
   "execution_count": 5,
   "id": "012ddf6e-497a-49cd-b110-e44a0ce928c0",
   "metadata": {},
   "outputs": [
    {
     "name": "stdout",
     "output_type": "stream",
     "text": [
      "CPU times: user 10.3 ms, sys: 329 µs, total: 10.6 ms\n",
      "Wall time: 10.5 ms\n"
     ]
    },
    {
     "data": {
      "text/plain": [
       "'围城.txt'"
      ]
     },
     "execution_count": 5,
     "metadata": {},
     "output_type": "execute_result"
    }
   ],
   "source": [
    "%%time\n",
    "\n",
    "# 加载围城小说文本\n",
    "\n",
    "documents = SimpleDirectoryReader(input_files=[\"./围城.txt\"]).load_data()\n",
    "documents[0].metadata['file_path']"
   ]
  },
  {
   "cell_type": "code",
   "execution_count": 6,
   "id": "9039ea8a-f6f1-4fe1-8ecf-024385ff4c29",
   "metadata": {},
   "outputs": [
    {
     "name": "stdout",
     "output_type": "stream",
     "text": [
      "INFO:faiss.loader:Loading faiss with AVX2 support.\n",
      "Loading faiss with AVX2 support.\n",
      "INFO:faiss.loader:Successfully loaded faiss with AVX2 support.\n",
      "Successfully loaded faiss with AVX2 support.\n",
      "CPU times: user 19 s, sys: 539 ms, total: 19.5 s\n",
      "Wall time: 1min 13s\n"
     ]
    }
   ],
   "source": [
    "%%time\n",
    "\n",
    "# 生成faiss索引\n",
    "\n",
    "import faiss\n",
    "\n",
    "Settings.chunk_size=128\n",
    "Settings.chunk_overlap=20\n",
    "\n",
    "# dimensions of bge-large-zh\n",
    "d = 1024\n",
    "faiss_index = faiss.IndexFlatIP(d)\n",
    "\n",
    "vector_store = FaissVectorStore(faiss_index=faiss_index)\n",
    "storage_context = StorageContext.from_defaults(vector_store=vector_store)\n",
    "index = VectorStoreIndex.from_documents(\n",
    "    documents, storage_context=storage_context\n",
    ")"
   ]
  },
  {
   "cell_type": "code",
   "execution_count": 7,
   "id": "d1eb0741-f085-41c9-99b8-9bfac538caa5",
   "metadata": {},
   "outputs": [
    {
     "name": "stdout",
     "output_type": "stream",
     "text": [
      "CPU times: user 1.05 s, sys: 71.8 ms, total: 1.13 s\n",
      "Wall time: 1.13 s\n"
     ]
    }
   ],
   "source": [
    "%%time\n",
    "\n",
    "from llama_index.llms.openai_like import OpenAILike\n",
    "\n",
    "llm = OpenAILike(model=\"xiaoyu\", \n",
    "                 api_base=\"http://192.168.0.72:3000/v1\", \n",
    "                 api_key=\"sk-bJP6QSnUfjAYeYeE505d3eBf63A643BeB0B8E350Df9b7750\",\n",
    "                 is_chat_model=True\n",
    "                )\n",
    "Settings.llm =llm"
   ]
  },
  {
   "cell_type": "code",
   "execution_count": 9,
   "id": "b30c0d24-8703-4fce-97a7-51f906e0298d",
   "metadata": {},
   "outputs": [
    {
     "name": "stdout",
     "output_type": "stream",
     "text": [
      "INFO:httpx:HTTP Request: POST http://192.168.0.72:3000/v1/chat/completions \"HTTP/1.1 200 OK\"\n",
      "HTTP Request: POST http://192.168.0.72:3000/v1/chat/completions \"HTTP/1.1 200 OK\"\n",
      "INFO:httpx:HTTP Request: POST http://192.168.0.72:3000/v1/chat/completions \"HTTP/1.1 200 OK\"\n",
      "HTTP Request: POST http://192.168.0.72:3000/v1/chat/completions \"HTTP/1.1 200 OK\"\n",
      "INFO:httpx:HTTP Request: POST http://192.168.0.72:3000/v1/chat/completions \"HTTP/1.1 200 OK\"\n",
      "HTTP Request: POST http://192.168.0.72:3000/v1/chat/completions \"HTTP/1.1 200 OK\"\n",
      "INFO:httpx:HTTP Request: POST http://192.168.0.72:3000/v1/chat/completions \"HTTP/1.1 200 OK\"\n",
      "HTTP Request: POST http://192.168.0.72:3000/v1/chat/completions \"HTTP/1.1 200 OK\"\n",
      "方鸿渐的妻子是苏小姐，小说中称为苏文纨。\n",
      "CPU times: user 233 ms, sys: 7.85 ms, total: 241 ms\n",
      "Wall time: 9.58 s\n"
     ]
    }
   ],
   "source": [
    "%%time\n",
    "\n",
    "# set Logging to DEBUG for more detailed outputs\n",
    "logging.basicConfig(stream=sys.stdout, level=logging.DEBUG)\n",
    "\n",
    "query_engine = index.as_query_engine(\n",
    "    streaming=True,\n",
    "    similarity_top_k=100,\n",
    "    similarity_cutoff=0.5\n",
    ")\n",
    "\n",
    "streaming_response = query_engine.query(\"方鸿渐的妻子是谁，给出她的姓名\")\n",
    "streaming_response.print_response_stream()\n",
    "print()"
   ]
  },
  {
   "cell_type": "code",
   "execution_count": 10,
   "id": "063345e0-f1da-4473-98ef-28f6de653a3d",
   "metadata": {},
   "outputs": [
    {
     "name": "stdout",
     "output_type": "stream",
     "text": [
      "INFO:httpx:HTTP Request: POST http://192.168.0.72:3000/v1/chat/completions \"HTTP/1.1 200 OK\"\n",
      "HTTP Request: POST http://192.168.0.72:3000/v1/chat/completions \"HTTP/1.1 200 OK\"\n",
      "INFO:httpx:HTTP Request: POST http://192.168.0.72:3000/v1/chat/completions \"HTTP/1.1 200 OK\"\n",
      "HTTP Request: POST http://192.168.0.72:3000/v1/chat/completions \"HTTP/1.1 200 OK\"\n",
      "INFO:httpx:HTTP Request: POST http://192.168.0.72:3000/v1/chat/completions \"HTTP/1.1 200 OK\"\n",
      "HTTP Request: POST http://192.168.0.72:3000/v1/chat/completions \"HTTP/1.1 200 OK\"\n",
      "INFO:httpx:HTTP Request: POST http://192.168.0.72:3000/v1/chat/completions \"HTTP/1.1 200 OK\"\n",
      "HTTP Request: POST http://192.168.0.72:3000/v1/chat/completions \"HTTP/1.1 200 OK\"\n",
      "INFO:httpx:HTTP Request: POST http://192.168.0.72:3000/v1/chat/completions \"HTTP/1.1 200 OK\"\n",
      "HTTP Request: POST http://192.168.0.72:3000/v1/chat/completions \"HTTP/1.1 200 OK\"\n",
      "INFO:httpx:HTTP Request: POST http://192.168.0.72:3000/v1/chat/completions \"HTTP/1.1 200 OK\"\n",
      "HTTP Request: POST http://192.168.0.72:3000/v1/chat/completions \"HTTP/1.1 200 OK\"\n",
      "局部真理在文中指的是个人或特定情境下的见解，它可能基于特定的专业知识、经验或者文化背景，对于某个问题或情况可能是正确的，但在更广泛或全局的视角下可能并不通用。赵辛楣将学哲学与不学习相提并论，认为对实际工作帮助有限，这是他作为实践者的观点，强调的是理论知识在解决实际问题时的局限性。这种看法是根据他的经验和职业需求得出的，因此是一种局部真理。\n",
      "CPU times: user 460 ms, sys: 30.8 ms, total: 491 ms\n",
      "Wall time: 28.7 s\n"
     ]
    }
   ],
   "source": [
    "%%time\n",
    "\n",
    "streaming_response = query_engine.query(\"文中提到的局部真理是啥意思\")\n",
    "streaming_response.print_response_stream()\n",
    "print()"
   ]
  },
  {
   "cell_type": "code",
   "execution_count": 11,
   "id": "3ad954d3-b553-435b-a7d2-ce4f54125d75",
   "metadata": {},
   "outputs": [
    {
     "name": "stdout",
     "output_type": "stream",
     "text": [
      "CPU times: user 1.16 s, sys: 709 ms, total: 1.87 s\n",
      "Wall time: 1.24 s\n"
     ]
    }
   ],
   "source": [
    "%%time\n",
    "\n",
    "from llama_index.core.postprocessor import SentenceTransformerRerank\n",
    "\n",
    "reranker = SentenceTransformerRerank(model='/models/bge-reranker-v2-m3', top_n=5)"
   ]
  },
  {
   "cell_type": "code",
   "execution_count": 12,
   "id": "2b8f6387-b0b5-48a6-9e11-52506b70dc50",
   "metadata": {},
   "outputs": [
    {
     "name": "stdout",
     "output_type": "stream",
     "text": [
      "CPU times: user 225 µs, sys: 0 ns, total: 225 µs\n",
      "Wall time: 229 µs\n"
     ]
    }
   ],
   "source": [
    "%%time\n",
    "\n",
    "query_engine = index.as_query_engine(\n",
    "    streaming=True,\n",
    "    similarity_top_k=100,\n",
    "    node_postprocessors=[reranker],\n",
    "    similarity_cutoff=0.5\n",
    ")"
   ]
  },
  {
   "cell_type": "code",
   "execution_count": 15,
   "id": "220a2ca7-e9f6-4898-a259-70bb9aaa8bcc",
   "metadata": {},
   "outputs": [
    {
     "data": {
      "application/vnd.jupyter.widget-view+json": {
       "model_id": "dd19d2a56a98482392477fb727883424",
       "version_major": 2,
       "version_minor": 0
      },
      "text/plain": [
       "Batches:   0%|          | 0/4 [00:00<?, ?it/s]"
      ]
     },
     "metadata": {},
     "output_type": "display_data"
    },
    {
     "name": "stdout",
     "output_type": "stream",
     "text": [
      "INFO:httpx:HTTP Request: POST http://192.168.0.72:3000/v1/chat/completions \"HTTP/1.1 200 OK\"\n",
      "HTTP Request: POST http://192.168.0.72:3000/v1/chat/completions \"HTTP/1.1 200 OK\"\n",
      "方鸿渐的妻子是孙柔嘉。\n",
      "CPU times: user 636 ms, sys: 873 µs, total: 637 ms\n",
      "Wall time: 1.45 s\n"
     ]
    }
   ],
   "source": [
    "%%time\n",
    "\n",
    "streaming_response = query_engine.query(\"方鸿渐的妻子是谁\")\n",
    "streaming_response.print_response_stream()\n",
    "print()"
   ]
  },
  {
   "cell_type": "code",
   "execution_count": 16,
   "id": "009934a3-bf00-4e67-b271-3357bc4a0ef7",
   "metadata": {},
   "outputs": [
    {
     "data": {
      "application/vnd.jupyter.widget-view+json": {
       "model_id": "2466eb008dc24f8182c547a31e7007b5",
       "version_major": 2,
       "version_minor": 0
      },
      "text/plain": [
       "Batches:   0%|          | 0/4 [00:00<?, ?it/s]"
      ]
     },
     "metadata": {},
     "output_type": "display_data"
    },
    {
     "name": "stdout",
     "output_type": "stream",
     "text": [
      "INFO:httpx:HTTP Request: POST http://192.168.0.72:3000/v1/chat/completions \"HTTP/1.1 200 OK\"\n",
      "HTTP Request: POST http://192.168.0.72:3000/v1/chat/completions \"HTTP/1.1 200 OK\"\n",
      "文中提到的“局部的真理”可能是指一种不全面或不完整的理解或表达，这里的鲍小姐并未完全赤裸，所以他们用“局部的真理”这个词来形容这种不完全的情况。这可能暗示着某种隐晦或委婉的说法，用来避免直接讨论敏感话题。\n",
      "CPU times: user 743 ms, sys: 24.7 ms, total: 767 ms\n",
      "Wall time: 3.55 s\n"
     ]
    }
   ],
   "source": [
    "%%time\n",
    "\n",
    "streaming_response = query_engine.query(\"文中提到的局部真理是啥意思\")\n",
    "streaming_response.print_response_stream()\n",
    "print()"
   ]
  },
  {
   "cell_type": "code",
   "execution_count": 17,
   "id": "10c762bb-fe1f-46a4-846a-b5818fd76723",
   "metadata": {},
   "outputs": [
    {
     "data": {
      "text/plain": [
       "5"
      ]
     },
     "metadata": {},
     "output_type": "display_data"
    }
   ],
   "source": [
    "display(len(streaming_response.source_nodes))"
   ]
  },
  {
   "cell_type": "code",
   "execution_count": 18,
   "id": "6a504510-9e7b-4744-9d09-200005c97d9f",
   "metadata": {},
   "outputs": [
    {
     "data": {
      "text/plain": [
       "[NodeWithScore(node=TextNode(id_='7b623dfb-6f34-4837-83bd-05a3d17c77ff', embedding=None, metadata={'file_path': '围城.txt', 'file_name': '围城.txt', 'file_type': 'text/plain', 'file_size': 644668, 'creation_date': '2024-05-07', 'last_modified_date': '2024-05-07'}, excluded_embed_metadata_keys=['file_name', 'file_type', 'file_size', 'creation_date', 'last_modified_date', 'last_accessed_date'], excluded_llm_metadata_keys=['file_name', 'file_type', 'file_size', 'creation_date', 'last_modified_date', 'last_accessed_date'], relationships={<NodeRelationship.SOURCE: '1'>: RelatedNodeInfo(node_id='0ada476a-5255-4484-be84-166c2adb4f7d', node_type=<ObjectType.DOCUMENT: '4'>, metadata={'file_path': '围城.txt', 'file_name': '围城.txt', 'file_type': 'text/plain', 'file_size': 644668, 'creation_date': '2024-05-07', 'last_modified_date': '2024-05-07'}, hash='5c95afdac58fe0642a5e9382eb5d5323c30dbc68388f6faccd997d7d1fb1690e'), <NodeRelationship.PREVIOUS: '2'>: RelatedNodeInfo(node_id='73e50055-969e-4746-bcd1-fecfeccd24b0', node_type=<ObjectType.TEXT: '1'>, metadata={'file_path': '围城.txt', 'file_name': '围城.txt', 'file_type': 'text/plain', 'file_size': 644668, 'creation_date': '2024-05-07', 'last_modified_date': '2024-05-07'}, hash='0a9ddcec38352521fa599892da3eeb92dab80854abf233e8c40d4e4b03a87b6f'), <NodeRelationship.NEXT: '3'>: RelatedNodeInfo(node_id='d0ec90be-adca-46a2-bd98-b83a038ebb70', node_type=<ObjectType.TEXT: '1'>, metadata={}, hash='1d5e2f46dfd1eb3898ef4adc211c838219788f83e44f2919e55539f78c8e2f78')}, text='鲍小姐并未一丝不挂，所以他们修正为“局部的真理”。\\n    鲍小姐走来了，招呼她们俩说：“你们起得真早呀，我大爇天还喜欢懒在床上。令天苏小姐起身我都不知道，睡得像木头。', start_char_idx=4751, end_char_idx=4835, text_template='{metadata_str}\\n\\n{content}', metadata_template='{key}: {value}', metadata_seperator='\\n'), score=0.77791935),\n",
       " NodeWithScore(node=TextNode(id_='5384d68a-3947-4e46-8fdf-7c0279a730de', embedding=None, metadata={'file_path': '围城.txt', 'file_name': '围城.txt', 'file_type': 'text/plain', 'file_size': 644668, 'creation_date': '2024-05-07', 'last_modified_date': '2024-05-07'}, excluded_embed_metadata_keys=['file_name', 'file_type', 'file_size', 'creation_date', 'last_modified_date', 'last_accessed_date'], excluded_llm_metadata_keys=['file_name', 'file_type', 'file_size', 'creation_date', 'last_modified_date', 'last_accessed_date'], relationships={<NodeRelationship.SOURCE: '1'>: RelatedNodeInfo(node_id='0ada476a-5255-4484-be84-166c2adb4f7d', node_type=<ObjectType.DOCUMENT: '4'>, metadata={'file_path': '围城.txt', 'file_name': '围城.txt', 'file_type': 'text/plain', 'file_size': 644668, 'creation_date': '2024-05-07', 'last_modified_date': '2024-05-07'}, hash='5c95afdac58fe0642a5e9382eb5d5323c30dbc68388f6faccd997d7d1fb1690e'), <NodeRelationship.PREVIOUS: '2'>: RelatedNodeInfo(node_id='8708ad1b-8862-41be-bbc3-8185f772e6c6', node_type=<ObjectType.TEXT: '1'>, metadata={'file_path': '围城.txt', 'file_name': '围城.txt', 'file_type': 'text/plain', 'file_size': 644668, 'creation_date': '2024-05-07', 'last_modified_date': '2024-05-07'}, hash='388c10ce774893827c857c72536f4edfc11f9c0bf535764ff1ada654b7dfebdd'), <NodeRelationship.NEXT: '3'>: RelatedNodeInfo(node_id='f61fb883-aecd-40fd-8e74-af9820d91584', node_type=<ObjectType.TEXT: '1'>, metadata={}, hash='9b4499a2f53c1aa0fafce8a5758bfe2c8eef7d06c4ddd32fb16ff6838feafae6')}, text='心里装满女人，研究数理逻辑的时候，看见ａｐｏｓｔｅｒｉｏｒｉ那个名词会联想到ｐｏｓｔ－ｅｒｉｏｒ，看见×记号会联想到ｋｉｓｓ，亏得他没细读柏拉图的太米谒斯对话（', start_char_idx=53286, end_char_idx=53366, text_template='{metadata_str}\\n\\n{content}', metadata_template='{key}: {value}', metadata_seperator='\\n'), score=0.021840854),\n",
       " NodeWithScore(node=TextNode(id_='d43ef654-8638-43eb-8f7e-595cf23329f4', embedding=None, metadata={'file_path': '围城.txt', 'file_name': '围城.txt', 'file_type': 'text/plain', 'file_size': 644668, 'creation_date': '2024-05-07', 'last_modified_date': '2024-05-07'}, excluded_embed_metadata_keys=['file_name', 'file_type', 'file_size', 'creation_date', 'last_modified_date', 'last_accessed_date'], excluded_llm_metadata_keys=['file_name', 'file_type', 'file_size', 'creation_date', 'last_modified_date', 'last_accessed_date'], relationships={<NodeRelationship.SOURCE: '1'>: RelatedNodeInfo(node_id='0ada476a-5255-4484-be84-166c2adb4f7d', node_type=<ObjectType.DOCUMENT: '4'>, metadata={'file_path': '围城.txt', 'file_name': '围城.txt', 'file_type': 'text/plain', 'file_size': 644668, 'creation_date': '2024-05-07', 'last_modified_date': '2024-05-07'}, hash='5c95afdac58fe0642a5e9382eb5d5323c30dbc68388f6faccd997d7d1fb1690e'), <NodeRelationship.PREVIOUS: '2'>: RelatedNodeInfo(node_id='984931d9-3d79-49b3-9428-491f63631fca', node_type=<ObjectType.TEXT: '1'>, metadata={'file_path': '围城.txt', 'file_name': '围城.txt', 'file_type': 'text/plain', 'file_size': 644668, 'creation_date': '2024-05-07', 'last_modified_date': '2024-05-07'}, hash='1436f213f07065e6eeb447fd7059275df180708c091a67c900c21c8db7520d58'), <NodeRelationship.NEXT: '3'>: RelatedNodeInfo(node_id='6c766221-5159-4894-90f6-30d07c5e4945', node_type=<ObjectType.TEXT: '1'>, metadata={}, hash='9cf17ca13f6779a2f34e75ff3a5896eb1f270be13fc7230637b68fbe886e40c0')}, text='题目是杂拌儿、十八扯的意思，你只要看忽而用这个人的诗句，忽而用那个人的诗句，中文里夹了西文，自然有一种杂凑乌合的印象。唐小姐，你领略到这个拉杂错综的印象，是不是？”唐小姐只好点头。', start_char_idx=38508, end_char_idx=38598, text_template='{metadata_str}\\n\\n{content}', metadata_template='{key}: {value}', metadata_seperator='\\n'), score=0.0043989914),\n",
       " NodeWithScore(node=TextNode(id_='10f727dc-b61e-44bc-b55c-9ff02a1e37ae', embedding=None, metadata={'file_path': '围城.txt', 'file_name': '围城.txt', 'file_type': 'text/plain', 'file_size': 644668, 'creation_date': '2024-05-07', 'last_modified_date': '2024-05-07'}, excluded_embed_metadata_keys=['file_name', 'file_type', 'file_size', 'creation_date', 'last_modified_date', 'last_accessed_date'], excluded_llm_metadata_keys=['file_name', 'file_type', 'file_size', 'creation_date', 'last_modified_date', 'last_accessed_date'], relationships={<NodeRelationship.SOURCE: '1'>: RelatedNodeInfo(node_id='0ada476a-5255-4484-be84-166c2adb4f7d', node_type=<ObjectType.DOCUMENT: '4'>, metadata={'file_path': '围城.txt', 'file_name': '围城.txt', 'file_type': 'text/plain', 'file_size': 644668, 'creation_date': '2024-05-07', 'last_modified_date': '2024-05-07'}, hash='5c95afdac58fe0642a5e9382eb5d5323c30dbc68388f6faccd997d7d1fb1690e'), <NodeRelationship.PREVIOUS: '2'>: RelatedNodeInfo(node_id='477be530-aa69-47a9-9054-5ca29998c6be', node_type=<ObjectType.TEXT: '1'>, metadata={'file_path': '围城.txt', 'file_name': '围城.txt', 'file_type': 'text/plain', 'file_size': 644668, 'creation_date': '2024-05-07', 'last_modified_date': '2024-05-07'}, hash='11f024d7538fc58a296a5ae7e4ed9f4bc562f9d052986a0cf278087672660045'), <NodeRelationship.NEXT: '3'>: RelatedNodeInfo(node_id='2391fbf5-82cb-4798-b381-4786f4f5038b', node_type=<ObjectType.TEXT: '1'>, metadata={}, hash='9d90111b50b982abf9591523e03b83100503d6c7d0e74b0280d4def353b7c37a')}, text='这是什么道理？借了要还的，一借一还，一本书可以做两次接触的借口，而且不着痕迹。这是男女恋爱必然的初步，一借书，问题就大了。”\\n    鸿渐笑道：“你真可怕！可是你讲孙小姐的话完全是痴人说梦。', start_char_idx=81963, end_char_idx=82058, text_template='{metadata_str}\\n\\n{content}', metadata_template='{key}: {value}', metadata_seperator='\\n'), score=0.0033386631),\n",
       " NodeWithScore(node=TextNode(id_='3286b99b-f1bc-4248-8561-18202d64a08c', embedding=None, metadata={'file_path': '围城.txt', 'file_name': '围城.txt', 'file_type': 'text/plain', 'file_size': 644668, 'creation_date': '2024-05-07', 'last_modified_date': '2024-05-07'}, excluded_embed_metadata_keys=['file_name', 'file_type', 'file_size', 'creation_date', 'last_modified_date', 'last_accessed_date'], excluded_llm_metadata_keys=['file_name', 'file_type', 'file_size', 'creation_date', 'last_modified_date', 'last_accessed_date'], relationships={<NodeRelationship.SOURCE: '1'>: RelatedNodeInfo(node_id='0ada476a-5255-4484-be84-166c2adb4f7d', node_type=<ObjectType.DOCUMENT: '4'>, metadata={'file_path': '围城.txt', 'file_name': '围城.txt', 'file_type': 'text/plain', 'file_size': 644668, 'creation_date': '2024-05-07', 'last_modified_date': '2024-05-07'}, hash='5c95afdac58fe0642a5e9382eb5d5323c30dbc68388f6faccd997d7d1fb1690e'), <NodeRelationship.PREVIOUS: '2'>: RelatedNodeInfo(node_id='af9325d6-1bfa-453c-ad93-8c778ff936a4', node_type=<ObjectType.TEXT: '1'>, metadata={'file_path': '围城.txt', 'file_name': '围城.txt', 'file_type': 'text/plain', 'file_size': 644668, 'creation_date': '2024-05-07', 'last_modified_date': '2024-05-07'}, hash='8d182b32f849f741e214336aab59159fdd83ece96a869b12d74f86423b47dcbe'), <NodeRelationship.NEXT: '3'>: RelatedNodeInfo(node_id='1e15b84f-0c2b-47ea-8821-d99d2081ebc6', node_type=<ObjectType.TEXT: '1'>, metadata={}, hash='086996b2b34e5b009d21b20bb0ee0ba7b564aa249c337a26651fdc1398fb31c8')}, text='”想以后非点名不可，照这样下去，只剩有脚而跑不子的椅子和桌子听课了。不过从大学者的放任忽变而为小学教师的琐碎，多么丢脸，这些学生是狡猾不过的，准看破了自己的用意。\\n    一件是讲书。', start_char_idx=127152, end_char_idx=127244, text_template='{metadata_str}\\n\\n{content}', metadata_template='{key}: {value}', metadata_seperator='\\n'), score=0.0032507868)]"
      ]
     },
     "execution_count": 18,
     "metadata": {},
     "output_type": "execute_result"
    }
   ],
   "source": [
    "streaming_response.source_nodes"
   ]
  },
  {
   "cell_type": "code",
   "execution_count": 22,
   "id": "e8ffa9e4-983a-4aec-88fc-f854cd260d17",
   "metadata": {},
   "outputs": [
    {
     "data": {
      "text/plain": [
       "0.77791935"
      ]
     },
     "execution_count": 22,
     "metadata": {},
     "output_type": "execute_result"
    }
   ],
   "source": [
    "streaming_response.source_nodes[0].score"
   ]
  },
  {
   "cell_type": "code",
   "execution_count": null,
   "id": "27446aa6-f5b0-4ae9-9a67-5ef9dab81ec5",
   "metadata": {},
   "outputs": [],
   "source": []
  }
 ],
 "metadata": {
  "kernelspec": {
   "display_name": "Python 3 (ipykernel)",
   "language": "python",
   "name": "python3"
  },
  "language_info": {
   "codemirror_mode": {
    "name": "ipython",
    "version": 3
   },
   "file_extension": ".py",
   "mimetype": "text/x-python",
   "name": "python",
   "nbconvert_exporter": "python",
   "pygments_lexer": "ipython3",
   "version": "3.10.12"
  }
 },
 "nbformat": 4,
 "nbformat_minor": 5
}
