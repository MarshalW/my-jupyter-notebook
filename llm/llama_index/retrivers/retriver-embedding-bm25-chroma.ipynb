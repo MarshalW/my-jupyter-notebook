{
 "cells": [
  {
   "cell_type": "markdown",
   "id": "d636bc7a-430a-4b77-a8c7-7594eac57d81",
   "metadata": {},
   "source": [
    "# 基于嵌入和 BM25 混合检索"
   ]
  },
  {
   "cell_type": "markdown",
   "id": "cd243bbc-a48d-4998-9db7-553bd216d631",
   "metadata": {},
   "source": [
    "## 准备"
   ]
  },
  {
   "cell_type": "code",
   "execution_count": 1,
   "id": "5360e336-9e1a-43e1-af91-4615453c76ed",
   "metadata": {},
   "outputs": [
    {
     "name": "stdout",
     "output_type": "stream",
     "text": [
      "CPU times: user 58.1 ms, sys: 23.1 ms, total: 81.2 ms\n",
      "Wall time: 26.7 s\n"
     ]
    }
   ],
   "source": [
    "%%time\n",
    "%%capture\n",
    "\n",
    "# 安装所需的库\n",
    "\n",
    "!pip install llama-index-vector-stores-qdrant\n",
    "!pip install qdrant_client\n",
    "!pip install trafilatura\n",
    "\n",
    "!pip install rank_bm25\n",
    "!pip install nltk jieba\n",
    "\n",
    "!pip install llama-index-retrievers-bm25==0.1.3\n",
    "!pip install rank_bm25\n",
    "!pip install jieba"
   ]
  },
  {
   "cell_type": "code",
   "execution_count": 2,
   "id": "01ba7cb3-c140-4151-8973-95ed888b4c9f",
   "metadata": {},
   "outputs": [
    {
     "name": "stdout",
     "output_type": "stream",
     "text": [
      "CPU times: user 1 µs, sys: 0 ns, total: 1 µs\n",
      "Wall time: 3.1 µs\n"
     ]
    }
   ],
   "source": [
    "%time\n",
    "\n",
    "# 加载llm和embeddings\n",
    "\n",
    "%run ../utils2.py\n",
    "\n",
    "from llama_index.core import Settings\n",
    "\n",
    "Settings.llm=get_llm()\n",
    "Settings.embed_model = get_embedding()"
   ]
  },
  {
   "cell_type": "markdown",
   "id": "811f2184-148c-4abf-b82d-29e120db14ac",
   "metadata": {},
   "source": [
    "## 加载文档"
   ]
  },
  {
   "cell_type": "code",
   "execution_count": 4,
   "id": "e45daa0a-431a-4274-9586-fc132303b041",
   "metadata": {},
   "outputs": [
    {
     "name": "stdout",
     "output_type": "stream",
     "text": [
      "CPU times: user 194 ms, sys: 4.27 ms, total: 199 ms\n",
      "Wall time: 269 ms\n"
     ]
    },
    {
     "data": {
      "text/plain": [
       "1"
      ]
     },
     "execution_count": 4,
     "metadata": {},
     "output_type": "execute_result"
    }
   ],
   "source": [
    "%%time\n",
    "\n",
    "from llama_index.readers.web import TrafilaturaWebReader\n",
    "\n",
    "documents = TrafilaturaWebReader().load_data(\n",
    "    [\"https://baike.baidu.com/item/颐和园/63458\"]\n",
    ")\n",
    "\n",
    "len(documents)"
   ]
  },
  {
   "cell_type": "code",
   "execution_count": 5,
   "id": "f7133b29-5fde-4b56-b864-3a82624e903d",
   "metadata": {},
   "outputs": [
    {
     "data": {
      "text/plain": [
       "'收藏\\n查看我的收藏\\n0有用+1\\n颐和园，中国清朝时期皇家园林，前身为清漪园，坐落在北京西郊，距城区15千米，全园占地3.009平方千米（其中颐和园世界文化遗产区面积为2.97平方千米），水面约占四分之三。 [18]与圆明园毗邻。它是以昆明湖、万寿山为基址，以杭州西湖为蓝本，汲取江南园林的设计手法而建成的一座大型山水园林，也是保存最完整的一座皇家行宫御苑，被誉为“皇家园林博物馆”。\\n清朝乾隆皇帝继位以前，在北京西郊一带，建起了四座大型皇家园林。乾隆十五年（1750年），乾隆皇帝为孝敬其母崇庆皇太后动用448万两白银把这里改建为清漪园，形成了从现清华园到香山长达二十千米的皇家园林区。咸丰十年（1860年），清漪园被英法联军焚毁。光绪十四年（1888年）重建，改称颐和园，作消夏游乐地。光绪二十六年（1900年），颐和园又遭“八国联军”的破坏，珍宝被劫掠一空。清朝灭亡后，颐和园在军阀混战和国民党统治时期，又遭破坏。\\n颐和园暑期取消周一闭馆2024-07-14 10:13\\n7月14日，颐和园官方发布公告，为满足市民游客暑期游览需求，提供优质文旅服务，即日起至8月31日，取消园中园周一闭园（馆）规'"
      ]
     },
     "execution_count": 5,
     "metadata": {},
     "output_type": "execute_result"
    }
   ],
   "source": [
    "documents[0].text[:500]"
   ]
  },
  {
   "cell_type": "code",
   "execution_count": 6,
   "id": "b340d18d-d611-45e3-b656-f01a1baba717",
   "metadata": {},
   "outputs": [
    {
     "name": "stdout",
     "output_type": "stream",
     "text": [
      "CPU times: user 289 ms, sys: 69 µs, total: 289 ms\n",
      "Wall time: 288 ms\n"
     ]
    },
    {
     "data": {
      "text/plain": [
       "136"
      ]
     },
     "execution_count": 6,
     "metadata": {},
     "output_type": "execute_result"
    }
   ],
   "source": [
    "%%time\n",
    "\n",
    "from llama_index.core.node_parser import SentenceSplitter\n",
    "\n",
    "splitter = SentenceSplitter(chunk_size=128, chunk_overlap=10)\n",
    "nodes = splitter.get_nodes_from_documents(documents)\n",
    "\n",
    "len(nodes)"
   ]
  },
  {
   "cell_type": "markdown",
   "id": "fadf4ab1-670c-4814-8c88-ded3e7929186",
   "metadata": {},
   "source": [
    "## 向量索引存储"
   ]
  },
  {
   "cell_type": "code",
   "execution_count": 7,
   "id": "43098b8a-9a9f-4d65-b03f-1109c7afde0f",
   "metadata": {},
   "outputs": [
    {
     "name": "stdout",
     "output_type": "stream",
     "text": [
      "CPU times: user 1.23 s, sys: 53 ms, total: 1.28 s\n",
      "Wall time: 14.9 s\n"
     ]
    }
   ],
   "source": [
    "%%time\n",
    "\n",
    "from llama_index.core import VectorStoreIndex, StorageContext\n",
    "from llama_index.core.storage.docstore import SimpleDocumentStore\n",
    "from llama_index.vector_stores.chroma import ChromaVectorStore\n",
    "import chromadb\n",
    "\n",
    "docstore = SimpleDocumentStore()\n",
    "docstore.add_documents(nodes)\n",
    "\n",
    "db = chromadb.PersistentClient(path=\"./chroma_db\")\n",
    "chroma_collection = db.get_or_create_collection(\"dense_vectors\")\n",
    "vector_store = ChromaVectorStore(chroma_collection=chroma_collection)\n",
    "\n",
    "storage_context = StorageContext.from_defaults(\n",
    "    docstore=docstore, vector_store=vector_store\n",
    ")\n",
    "\n",
    "index = VectorStoreIndex(nodes=nodes, storage_context=storage_context)"
   ]
  },
  {
   "cell_type": "markdown",
   "id": "b68bd217-5bab-49b7-bbbe-4657af2a981c",
   "metadata": {},
   "source": [
    "## BM25"
   ]
  },
  {
   "cell_type": "code",
   "execution_count": 8,
   "id": "06b7f140-a3b5-4ed7-a660-6487b1952b67",
   "metadata": {},
   "outputs": [
    {
     "name": "stdout",
     "output_type": "stream",
     "text": [
      "CPU times: user 10.2 ms, sys: 0 ns, total: 10.2 ms\n",
      "Wall time: 366 ms\n"
     ]
    },
    {
     "name": "stderr",
     "output_type": "stream",
     "text": [
      "[nltk_data] Downloading package stopwords to /root/nltk_data...\n",
      "[nltk_data]   Package stopwords is already up-to-date!\n"
     ]
    },
    {
     "data": {
      "text/plain": [
       "True"
      ]
     },
     "execution_count": 8,
     "metadata": {},
     "output_type": "execute_result"
    }
   ],
   "source": [
    "%%time\n",
    "\n",
    "# 下载停用词\n",
    "\n",
    "# 设置 HTTP 代理环境变量\n",
    "# https://github.com/nltk/nltk_data/issues/154#issuecomment-2144880495\n",
    "http_proxy=\"http://192.168.0.134:7890\"\n",
    "\n",
    "import nltk\n",
    "nltk.set_proxy(f'{http_proxy}')\n",
    "nltk.download('stopwords')"
   ]
  },
  {
   "cell_type": "code",
   "execution_count": 9,
   "id": "90c11c6f-a7a7-40ed-8916-8ceb8c330574",
   "metadata": {},
   "outputs": [
    {
     "name": "stdout",
     "output_type": "stream",
     "text": [
      "CPU times: user 68.3 ms, sys: 8.05 ms, total: 76.3 ms\n",
      "Wall time: 76.2 ms\n"
     ]
    }
   ],
   "source": [
    "%%time\n",
    "\n",
    "import jieba\n",
    "from typing import List\n",
    "from nltk.corpus import stopwords\n",
    "\n",
    "def chinese_tokenizer(text: str) -> List[str]:\n",
    "    # Use jieba to segment Chinese text\n",
    "    return list(jieba.cut(text))\n",
    "    # return list(jieba.lcut(text))"
   ]
  },
  {
   "cell_type": "markdown",
   "id": "d6868550-da44-4474-bd56-3b6d07a386a5",
   "metadata": {},
   "source": [
    "## retriver"
   ]
  },
  {
   "cell_type": "code",
   "execution_count": 11,
   "id": "2a78abdf-54d2-4e9d-a8ad-316b6cc694fc",
   "metadata": {},
   "outputs": [
    {
     "name": "stderr",
     "output_type": "stream",
     "text": [
      "Building prefix dict from the default dictionary ...\n",
      "Loading model from cache /tmp/jieba.cache\n",
      "Loading model cost 0.416 seconds.\n",
      "Prefix dict has been built successfully.\n"
     ]
    },
    {
     "name": "stdout",
     "output_type": "stream",
     "text": [
      "CPU times: user 418 ms, sys: 44.2 ms, total: 463 ms\n",
      "Wall time: 457 ms\n"
     ]
    }
   ],
   "source": [
    "%%time\n",
    "\n",
    "from llama_index.core.retrievers import QueryFusionRetriever\n",
    "from llama_index.retrievers.bm25 import BM25Retriever\n",
    "\n",
    "import nest_asyncio\n",
    "\n",
    "nest_asyncio.apply()\n",
    "\n",
    "from llama_index.core.retrievers import QueryFusionRetriever\n",
    "\n",
    "retriever = QueryFusionRetriever(\n",
    "    [\n",
    "        index.as_retriever(similarity_top_k=2),\n",
    "        BM25Retriever.from_defaults(\n",
    "            docstore=index.docstore, \n",
    "            similarity_top_k=2,\n",
    "            tokenizer=chinese_tokenizer,\n",
    "        ),\n",
    "    ],\n",
    "    num_queries=1,\n",
    "    use_async=True,\n",
    ")"
   ]
  },
  {
   "cell_type": "code",
   "execution_count": 12,
   "id": "95d283e4-bf95-4f46-ac1e-f093338fc034",
   "metadata": {},
   "outputs": [
    {
     "name": "stdout",
     "output_type": "stream",
     "text": [
      "光绪三十年（1904年），西苑电灯公所恢复发电；同年五月，电灯重新在颐和园亮了起来。\n",
      "光绪二十四年（1898年）四月二十八日（6月16日），光绪帝在颐和园仁寿殿召见康有为，命康在总署章京上行走，并许其专折奏事。\n",
      "\n",
      "两天后，她发动政变，囚禁光绪帝，逮捕杀害维新派人士，戊戌变法失败。在变法期间（6月至9月间），慈禧一直住在颐和园。颐和园成为守旧派反对变法、准备政变的中枢 [15]。\n",
      "CPU times: user 11.1 ms, sys: 0 ns, total: 11.1 ms\n",
      "Wall time: 117 ms\n"
     ]
    }
   ],
   "source": [
    "%%time\n",
    "\n",
    "nodes = retriever.retrieve(\"颐和园在哪里?\")\n",
    "print(\"\\n\\n\".join(node.text for node in nodes))"
   ]
  },
  {
   "cell_type": "code",
   "execution_count": 15,
   "id": "3b4b2a86-6d16-40b0-b358-547d553a324d",
   "metadata": {},
   "outputs": [
    {
     "name": "stdout",
     "output_type": "stream",
     "text": [
      "| |\n",
      "东宫门 | ||\n",
      "清晏舫 | ||\n",
      "文昌院 | 文昌院位于颐和园内文昌阁之东，是中国古典园林中规模最大、品级最高的文物陈列馆。\n",
      "\n",
      "颐和园联票：60元/张（旺季），50元/张（淡季），有半价票。1、联票包括门票和园中园门票 （园中园包括文昌院、德和园、佛香阁和苏州街）。2、门票和联票均有优惠票，优惠门票：15元。\n",
      "CPU times: user 11 ms, sys: 0 ns, total: 11 ms\n",
      "Wall time: 144 ms\n"
     ]
    }
   ],
   "source": [
    "%%time\n",
    "\n",
    "nodes = retriever.retrieve(\"介绍下颐和园文昌院\")\n",
    "print(\"\\n\\n\".join(node.text for node in nodes))"
   ]
  },
  {
   "cell_type": "markdown",
   "id": "c2802843-cff1-4931-8ec9-4d7c2c244563",
   "metadata": {},
   "source": [
    "## query"
   ]
  },
  {
   "cell_type": "code",
   "execution_count": 13,
   "id": "1f67ca21-0d1d-451f-a0af-709698b28b93",
   "metadata": {},
   "outputs": [
    {
     "name": "stdout",
     "output_type": "stream",
     "text": [
      "颐和园位于中国北京市，是中国清朝时期的皇家园林。\n",
      "CPU times: user 93 ms, sys: 8.02 ms, total: 101 ms\n",
      "Wall time: 3.22 s\n"
     ]
    }
   ],
   "source": [
    "%%time\n",
    "\n",
    "from llama_index.core.query_engine import RetrieverQueryEngine\n",
    "\n",
    "query_engine = RetrieverQueryEngine(retriever)\n",
    "response = query_engine.query(\"颐和园在哪里?\")\n",
    "print(response)"
   ]
  },
  {
   "cell_type": "code",
   "execution_count": 14,
   "id": "899edb42-e907-443c-b93f-0579125d23b1",
   "metadata": {},
   "outputs": [
    {
     "name": "stdout",
     "output_type": "stream",
     "text": [
      "文昌院位于颐和园内，紧邻文昌阁。作为中国古典园林中规模宏大、等级最高的文物陈列馆，它在颐和园内的地位颇为显著。如果您对历史文物感兴趣或是想要深入了解中国传统文化，文昌院是不可错过的一站。\n",
      "\n",
      "关于门票信息：\n",
      "- 正常情况下（旺季），一张颐和园联票的价格为60元人民币。\n",
      "- 在淡季时，联票价格则会降低至50元人民币。\n",
      "- 对于学生、老年人等特定群体，提供半价票优惠。\n",
      "\n",
      "联票包含了门票以及进入园中的一些特别景点的费用。这些景点包括文昌院、德和园、佛香阁和苏州街。如果您单独购买门票，对于某些特定区域可能还有优惠票价，比如15元人民币的优惠门票。\n",
      "CPU times: user 17.9 ms, sys: 1 µs, total: 17.9 ms\n",
      "Wall time: 3.86 s\n"
     ]
    }
   ],
   "source": [
    "%%time\n",
    "\n",
    "response = query_engine.query(\"介绍下颐和园文昌院\")\n",
    "print(response)"
   ]
  },
  {
   "cell_type": "code",
   "execution_count": null,
   "id": "3ca463ea-8196-4532-8fd8-f3bd311d2db7",
   "metadata": {},
   "outputs": [],
   "source": []
  }
 ],
 "metadata": {
  "kernelspec": {
   "display_name": "Python 3 (ipykernel)",
   "language": "python",
   "name": "python3"
  },
  "language_info": {
   "codemirror_mode": {
    "name": "ipython",
    "version": 3
   },
   "file_extension": ".py",
   "mimetype": "text/x-python",
   "name": "python",
   "nbconvert_exporter": "python",
   "pygments_lexer": "ipython3",
   "version": "3.10.12"
  }
 },
 "nbformat": 4,
 "nbformat_minor": 5
}
