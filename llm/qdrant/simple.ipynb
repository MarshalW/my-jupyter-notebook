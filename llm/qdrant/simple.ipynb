{
 "cells": [
  {
   "cell_type": "markdown",
   "id": "4943289a-f20b-49d5-bdff-4c5747be3b0b",
   "metadata": {},
   "source": [
    "# Qdrant的基本使用"
   ]
  },
  {
   "cell_type": "markdown",
   "id": "9b423523-bb63-4256-b811-2ed93580ef17",
   "metadata": {},
   "source": [
    "https://qdrant.tech/documentation/tutorials/search-beginners/"
   ]
  },
  {
   "cell_type": "markdown",
   "id": "4d9aa1e9-9633-4290-908e-6e6da1ac2942",
   "metadata": {},
   "source": [
    "## 准备"
   ]
  },
  {
   "cell_type": "code",
   "execution_count": 1,
   "id": "0a581b6a-f414-4385-9721-5457712ffbcb",
   "metadata": {},
   "outputs": [
    {
     "name": "stdout",
     "output_type": "stream",
     "text": [
      "CPU times: user 10.4 ms, sys: 7.61 ms, total: 18 ms\n",
      "Wall time: 3.94 s\n"
     ]
    }
   ],
   "source": [
    "%%time\n",
    "%%capture\n",
    "\n",
    "!pip install qdrant-client"
   ]
  },
  {
   "cell_type": "code",
   "execution_count": 2,
   "id": "f4483cba-cf30-4b2a-8345-c77df76d183c",
   "metadata": {},
   "outputs": [
    {
     "name": "stdout",
     "output_type": "stream",
     "text": [
      "CPU times: user 2 µs, sys: 0 ns, total: 2 µs\n",
      "Wall time: 3.58 µs\n"
     ]
    }
   ],
   "source": [
    "%%time\n",
    "\n",
    "documents = [\n",
    "    {\n",
    "        \"name\": \"围城\",\n",
    "        \"description\": \"主人公方鸿渐留学回国后，面临找工作和个人感情的种种问题。他经历了几段感情波折，包括与鲍小姐的失败婚姻和与孙柔嘉的恋情，最终与孙柔嘉结婚。但婚后生活并不如意，他在事业上也遭遇挫折，未能实现自己的理想。\",\n",
    "        \"author\": \"钱钟书\",\n",
    "    },\n",
    "    {\n",
    "        \"name\": \"故乡\",\n",
    "        \"description\": \"小说讲述了主人公“我”（即鲁迅的化身）在阔别多年后回到故乡接母亲到城里生活的故事。在故乡，他遇到了童年的玩伴闰土和老仆人杨二嫂。通过与他们的交谈和观察，主人公感受到故乡的变化和人们生活的困苦。\",\n",
    "        \"author\": \"鲁迅\",\n",
    "    },\n",
    "    {\n",
    "       \"name\": \"阿Q正传\",\n",
    "        \"description\": \"讲述了阿Q这个贫苦农民在中国封建社会中的悲惨生活。他虽然穷困潦倒，但心态自负，总是以精神胜利法来安慰自己，逃避现实的困境。然而，随着社会动荡和革命的到来，阿Q的命运变得更加悲惨，最终被误认为是革命党人而被处死。\",\n",
    "        \"author\": \"鲁迅\",\n",
    "    }, \n",
    "]"
   ]
  },
  {
   "cell_type": "code",
   "execution_count": 3,
   "id": "dfc4048d-8740-4002-ab06-707243fd1fdc",
   "metadata": {},
   "outputs": [
    {
     "name": "stdout",
     "output_type": "stream",
     "text": [
      "CPU times: user 2.37 s, sys: 411 ms, total: 2.78 s\n",
      "Wall time: 2.4 s\n"
     ]
    }
   ],
   "source": [
    "%%time\n",
    "\n",
    "# 嵌入模型\n",
    "\n",
    "from sentence_transformers import SentenceTransformer\n",
    "\n",
    "encoder = SentenceTransformer('/models/bge-small-zh-v1.5')"
   ]
  },
  {
   "cell_type": "code",
   "execution_count": 4,
   "id": "4d32ca90-725a-46c3-a53f-bebd6ea53bae",
   "metadata": {},
   "outputs": [
    {
     "data": {
      "text/plain": [
       "512"
      ]
     },
     "execution_count": 4,
     "metadata": {},
     "output_type": "execute_result"
    }
   ],
   "source": [
    "encoder.get_sentence_embedding_dimension()"
   ]
  },
  {
   "cell_type": "markdown",
   "id": "d1a510c2-07ec-4d82-9a88-d47afbbb64ae",
   "metadata": {},
   "source": [
    "## 使用 Qdrant"
   ]
  },
  {
   "cell_type": "markdown",
   "id": "ce0944c2-9b64-47db-ae2e-05f078f44daa",
   "metadata": {},
   "source": [
    "### 设置存储位置"
   ]
  },
  {
   "cell_type": "code",
   "execution_count": 5,
   "id": "ea49c031-7812-4f84-83ba-ae420438e43c",
   "metadata": {},
   "outputs": [
    {
     "name": "stdout",
     "output_type": "stream",
     "text": [
      "CPU times: user 902 ms, sys: 24.9 ms, total: 927 ms\n",
      "Wall time: 928 ms\n"
     ]
    }
   ],
   "source": [
    "%%time\n",
    "\n",
    "from qdrant_client import QdrantClient\n",
    "\n",
    "client = QdrantClient(\":memory:\")"
   ]
  },
  {
   "cell_type": "markdown",
   "id": "a90c3496-e728-42ff-8699-8d7c2d0386b0",
   "metadata": {},
   "source": [
    "### 创建集合"
   ]
  },
  {
   "cell_type": "code",
   "execution_count": 6,
   "id": "1f921a71-f4c6-4bff-91f4-9c399f7dfc37",
   "metadata": {},
   "outputs": [
    {
     "name": "stdout",
     "output_type": "stream",
     "text": [
      "CPU times: user 620 µs, sys: 87 µs, total: 707 µs\n",
      "Wall time: 705 µs\n"
     ]
    }
   ],
   "source": [
    "%%time\n",
    "\n",
    "from qdrant_client import models\n",
    "\n",
    "collection_name=\"my_books\"\n",
    "\n",
    "if not client.collection_exists(collection_name):\n",
    "    client.create_collection(\n",
    "        collection_name=collection_name,\n",
    "        vectors_config=models.VectorParams(\n",
    "            size=encoder.get_sentence_embedding_dimension(),  # Vector size is defined by used model\n",
    "            distance=models.Distance.COSINE,\n",
    "        ),\n",
    "    )"
   ]
  },
  {
   "cell_type": "markdown",
   "id": "6bee5867-9ad9-4780-ba3a-faea0fc602ca",
   "metadata": {},
   "source": [
    "### 向集合传入数据"
   ]
  },
  {
   "cell_type": "code",
   "execution_count": 7,
   "id": "d7857940-e2dd-4ce4-a738-2989d577aede",
   "metadata": {},
   "outputs": [
    {
     "name": "stdout",
     "output_type": "stream",
     "text": [
      "CPU times: user 341 ms, sys: 51.6 ms, total: 393 ms\n",
      "Wall time: 434 ms\n"
     ]
    }
   ],
   "source": [
    "%%time\n",
    "\n",
    "client.upload_points(\n",
    "    collection_name=\"my_books\",\n",
    "    points=[\n",
    "        models.PointStruct(\n",
    "            id=idx, vector=encoder.encode(doc[\"description\"]).tolist(), payload=doc\n",
    "        )\n",
    "        for idx, doc in enumerate(documents)\n",
    "    ],\n",
    ")"
   ]
  },
  {
   "cell_type": "markdown",
   "id": "6b90d425-5ce1-44c6-bf82-5d78d319bf04",
   "metadata": {},
   "source": [
    "### 查询"
   ]
  },
  {
   "cell_type": "code",
   "execution_count": 8,
   "id": "22490ff0-2b25-4dbb-8780-a8a1bd28ed15",
   "metadata": {},
   "outputs": [
    {
     "name": "stdout",
     "output_type": "stream",
     "text": [
      "{'name': '围城', 'description': '主人公方鸿渐留学回国后，面临找工作和个人感情的种种问题。他经历了几段感情波折，包括与鲍小姐的失败婚姻和与孙柔嘉的恋情，最终与孙柔嘉结婚。但婚后生活并不如意，他在事业上也遭遇挫折，未能实现自己的理想。', 'author': '钱钟书'} score: 0.6095981240348884\n",
      "{'name': '故乡', 'description': '小说讲述了主人公“我”（即鲁迅的化身）在阔别多年后回到故乡接母亲到城里生活的故事。在故乡，他遇到了童年的玩伴闰土和老仆人杨二嫂。通过与他们的交谈和观察，主人公感受到故乡的变化和人们生活的困苦。', 'author': '鲁迅'} score: 0.2970311065063162\n",
      "{'name': '阿Q正传', 'description': '讲述了阿Q这个贫苦农民在中国封建社会中的悲惨生活。他虽然穷困潦倒，但心态自负，总是以精神胜利法来安慰自己，逃避现实的困境。然而，随着社会动荡和革命的到来，阿Q的命运变得更加悲惨，最终被误认为是革命党人而被处死。', 'author': '鲁迅'} score: 0.2725128023510518\n",
      "CPU times: user 10 ms, sys: 242 µs, total: 10.3 ms\n",
      "Wall time: 9.44 ms\n"
     ]
    }
   ],
   "source": [
    "%%time\n",
    "\n",
    "hits = client.search(\n",
    "    collection_name=\"my_books\",\n",
    "    query_vector=encoder.encode(\"方鸿渐\").tolist(),\n",
    "    limit=3,\n",
    ")\n",
    "\n",
    "for hit in hits:\n",
    "    print(hit.payload, \"score:\", hit.score)"
   ]
  },
  {
   "cell_type": "markdown",
   "id": "2834935f-a2c8-41f8-b0d4-43c352d67dd3",
   "metadata": {},
   "source": [
    "### 过滤条件"
   ]
  },
  {
   "cell_type": "code",
   "execution_count": 9,
   "id": "c41f7c12-b716-44b9-9379-12b003119cf1",
   "metadata": {},
   "outputs": [
    {
     "name": "stdout",
     "output_type": "stream",
     "text": [
      "{'name': '围城', 'description': '主人公方鸿渐留学回国后，面临找工作和个人感情的种种问题。他经历了几段感情波折，包括与鲍小姐的失败婚姻和与孙柔嘉的恋情，最终与孙柔嘉结婚。但婚后生活并不如意，他在事业上也遭遇挫折，未能实现自己的理想。', 'author': '钱钟书'} score: 0.6095981240348884\n",
      "CPU times: user 3.83 ms, sys: 3.34 ms, total: 7.16 ms\n",
      "Wall time: 6.42 ms\n"
     ]
    }
   ],
   "source": [
    "%%time\n",
    "\n",
    "hits = client.search(\n",
    "    collection_name=\"my_books\",\n",
    "    query_vector=encoder.encode(\"方鸿渐\").tolist(),\n",
    "    query_filter=models.Filter(\n",
    "        must=[models.FieldCondition(key=\"author\", match=models.MatchValue(value=\"钱钟书\"),)]\n",
    "    ),\n",
    "    limit=3,\n",
    ")\n",
    "for hit in hits:\n",
    "    print(hit.payload, \"score:\", hit.score)"
   ]
  },
  {
   "cell_type": "code",
   "execution_count": null,
   "id": "eca875ee-a17f-4219-a24e-22039ebfb3a6",
   "metadata": {},
   "outputs": [],
   "source": []
  }
 ],
 "metadata": {
  "kernelspec": {
   "display_name": "Python 3 (ipykernel)",
   "language": "python",
   "name": "python3"
  },
  "language_info": {
   "codemirror_mode": {
    "name": "ipython",
    "version": 3
   },
   "file_extension": ".py",
   "mimetype": "text/x-python",
   "name": "python",
   "nbconvert_exporter": "python",
   "pygments_lexer": "ipython3",
   "version": "3.10.12"
  }
 },
 "nbformat": 4,
 "nbformat_minor": 5
}
