{
 "cells": [
  {
   "cell_type": "markdown",
   "id": "fa9cbd39-c34c-4031-b2b2-def8b123112f",
   "metadata": {},
   "source": [
    "# 在笔记中嵌入视频\n",
    "\n",
    "## 使用 html 代码\n",
    "\n",
    "需要在代码前增加 `%%HTML`"
   ]
  },
  {
   "cell_type": "code",
   "execution_count": 4,
   "id": "69eebfed-3986-4ca4-92a7-60865a8b98e8",
   "metadata": {},
   "outputs": [
    {
     "data": {
      "text/html": [
       "<video width=\"320\" \n",
       "       src=\"./neural_network_visualization.webm\"  \n",
       "       controls>\n",
       "</video>\n"
      ],
      "text/plain": [
       "<IPython.core.display.HTML object>"
      ]
     },
     "metadata": {},
     "output_type": "display_data"
    }
   ],
   "source": [
    "%%HTML\n",
    "<video width=\"600\" \n",
    "       src=\"./neural_network_visualization.webm\"  \n",
    "       controls>\n",
    "</video>"
   ]
  },
  {
   "cell_type": "code",
   "execution_count": null,
   "id": "6d76e82c-c858-4cf5-a872-52b49665bf20",
   "metadata": {},
   "outputs": [],
   "source": []
  }
 ],
 "metadata": {
  "kernelspec": {
   "display_name": "Python 3 (ipykernel)",
   "language": "python",
   "name": "python3"
  },
  "language_info": {
   "codemirror_mode": {
    "name": "ipython",
    "version": 3
   },
   "file_extension": ".py",
   "mimetype": "text/x-python",
   "name": "python",
   "nbconvert_exporter": "python",
   "pygments_lexer": "ipython3",
   "version": "3.10.12"
  }
 },
 "nbformat": 4,
 "nbformat_minor": 5
}
