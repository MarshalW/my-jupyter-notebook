{
 "cells": [
  {
   "cell_type": "markdown",
   "id": "9be0d83a-f112-4811-931d-eb9edf3cea2b",
   "metadata": {},
   "source": [
    "# TreeIndex 100 文档测试"
   ]
  },
  {
   "cell_type": "markdown",
   "id": "f7a4b27f-6f0f-4ff1-a9e8-d772f54e6d5e",
   "metadata": {},
   "source": [
    "初步结论：\n",
    "\n",
    "- ROOT 方式时间和1个，10个的情况类似 `5-7s`\n",
    "- SELECT_LEAF_EMBEDDING, 耗时和1个，10个情况类似： `15~17s`\n",
    "- SELECT_LEAF, 100的情况，时间拉长了，从1个、10个的 `18.5~19.5s` 拉长到 `25.7s`"
   ]
  },
  {
   "cell_type": "markdown",
   "id": "e9aa91e4-73e8-4446-ba0f-8dd9e744134c",
   "metadata": {},
   "source": [
    "## 全局设置"
   ]
  },
  {
   "cell_type": "code",
   "execution_count": 1,
   "id": "c75e6d52-a9ee-4a5f-988e-47df9b7de153",
   "metadata": {},
   "outputs": [
    {
     "name": "stdout",
     "output_type": "stream",
     "text": [
      "CPU times: user 3.39 s, sys: 463 ms, total: 3.85 s\n",
      "Wall time: 3.62 s\n"
     ]
    }
   ],
   "source": [
    "%%time\n",
    "\n",
    "from llama_index.core import Settings\n",
    "from llama_index.llms.openai_like import OpenAILike\n",
    "from llama_index.embeddings.ollama import OllamaEmbedding\n",
    "\n",
    "Settings.llm=OpenAILike(\n",
    "    # model=\"qwen2\", \n",
    "    model=\"glm4\", \n",
    "    api_base=\"http://ape:3000/v1\", \n",
    "    api_key=\"sk-bJP6QSnUfjAYeYeE505d3eBf63A643BeB0B8E350Df9b7750\",\n",
    "    is_chat_model=True,\n",
    "    temperature=0.1,\n",
    "    request_timeout=60.0\n",
    ")\n",
    "\n",
    "Settings.embed_model = OllamaEmbedding(\n",
    "    model_name=\"quentinz/bge-large-zh-v1.5\",\n",
    "    base_url=\"http://ape:11434\",\n",
    "    ollama_additional_kwargs={\"mirostat\": 0}, # -mirostat N 使用 Mirostat 采样。\n",
    ")"
   ]
  },
  {
   "cell_type": "markdown",
   "id": "fc0fa388-e11b-438f-99f1-a03c55c6a393",
   "metadata": {},
   "source": [
    "## 加载数据"
   ]
  },
  {
   "cell_type": "code",
   "execution_count": 2,
   "id": "3219477a-af49-4556-9ffa-4b6447f2ecc5",
   "metadata": {},
   "outputs": [
    {
     "name": "stdout",
     "output_type": "stream",
     "text": [
      "颐和园 已经存在.\n",
      "北海公园 已经存在.\n",
      "故宫 已经存在.\n",
      "八达岭长城 已经存在.\n",
      "天坛公园 已经存在.\n",
      "恭王府 已经存在.\n",
      "圆明园 已经存在.\n",
      "景山公园 已经存在.\n",
      "中山公园 已经存在.\n",
      "陶然亭公园 已经存在.\n",
      "十三陵 已经存在.\n",
      "中国国家博物馆 已经存在.\n",
      "白塔寺 已经存在.\n",
      "钟鼓楼 已经存在.\n",
      "北京动物园 已经存在.\n",
      "雍和宫 已经存在.\n",
      "中国国家图书馆 已经存在.\n",
      "皇城根遗址公园 已经存在.\n",
      "卢沟桥 已经存在.\n",
      "八达岭野生动物园 已经存在.\n",
      "司马台长城 已经存在.\n",
      "大钟寺 已经存在.\n",
      "慕田峪长城 已经存在.\n",
      "金山岭长城 已经存在.\n",
      "天安门广场 已经存在.\n",
      "国家大剧院 已经存在.\n",
      "北京植物园 已经存在.\n",
      "香山公园 已经存在.\n",
      "中国人民革命军事博物馆 已经存在.\n",
      "红螺寺 已经存在.\n",
      "北京天文馆 已经存在.\n",
      "水立方游泳馆 已经存在.\n",
      "毛主席纪念堂 已经存在.\n",
      "龙庆峡 已经存在.\n",
      "国家体育馆 已经存在.\n",
      "中华民族园 已经存在.\n",
      "北京欢乐谷 已经存在.\n",
      "中国人民抗日战争纪念馆 已经存在.\n",
      "淳亲王府 已经存在.\n",
      "地坛公园 已经存在.\n",
      "国子监 已经存在.\n",
      "首都博物馆 已经存在.\n",
      "北京月坛公园 已经存在.\n",
      "朝阳公园 已经存在.\n",
      "日坛公园 已经存在.\n",
      "紫竹院公园 已经存在.\n",
      "玉渊潭公园 已经存在.\n",
      "凤凰岭自然风景区 已经存在.\n",
      "百望山森林公园 已经存在.\n",
      "北京西山国家森林公园 已经存在.\n",
      "北京西山大觉寺 已经存在.\n",
      "世界公园 已经存在.\n",
      "北京园博园 已经存在.\n",
      "北京世界花卉大观园 已经存在.\n",
      "青龙湖公园 已经存在.\n",
      "八大处公园 已经存在.\n",
      "戒台寺 已经存在.\n",
      "潭柘寺 已经存在.\n",
      "京西古道 已经存在.\n",
      "周口店遗址博物馆 已经存在.\n",
      "中国电影博物馆 已经存在.\n",
      "北京顺义国际鲜花港 已经存在.\n",
      "居庸关长城 已经存在.\n",
      "北京黄花城水长城旅游区 已经存在.\n",
      "北京喇叭沟原始森林公园 已经存在.\n",
      "黑龙潭 已经存在.\n",
      "北顶娘娘庙 已经存在.\n",
      "什刹海 已经存在.\n",
      "南锣鼓巷 已经存在.\n",
      "北宫国家森林公园 已经存在.\n",
      "八达岭野生动物园 已经存在.\n",
      "太庙 已经存在.\n",
      "北京自然博物馆 已经存在.\n",
      "王府井大街 已经存在.\n",
      "蟒山国家森林公园 已经存在.\n",
      "中国美术馆 已经存在.\n",
      "北京白云观 已经存在.\n",
      "桃源仙谷自然风景区 已经存在.\n",
      "北京延庆硅化木国家地质公园 已经存在.\n",
      "中国科学技术馆 已经存在.\n",
      "通州运河公园 已经存在.\n",
      "中国地质博物馆 已经存在.\n",
      "北京卧佛寺 已经存在.\n",
      "法源寺 已经存在.\n",
      "皇史宬 已经存在.\n",
      "先农坛 已经存在.\n",
      "广济寺 已经存在.\n",
      "广化寺 已经存在.\n",
      "北京图书大厦 已经存在.\n",
      "北普陀影视城 已经存在.\n",
      "金海湖风景区 已经存在.\n",
      "历代帝王庙 已经存在.\n",
      "沿河城 已经存在.\n",
      "永宁古城 已经存在.\n",
      "雁栖湖 已经存在.\n",
      "十渡 已经存在.\n",
      "北京温都水城 已经存在.\n",
      "云居寺 已经存在.\n",
      "北京汽车博物馆 已经存在.\n",
      "中国航空博物馆 已经存在.\n",
      "CPU times: user 8.16 s, sys: 78.5 ms, total: 8.24 s\n",
      "Wall time: 22.6 s\n"
     ]
    }
   ],
   "source": [
    "%%time\n",
    "\n",
    "from llama_index.readers.web import TrafilaturaWebReader\n",
    "import os\n",
    "\n",
    "items=[\n",
    "    \"颐和园\",\n",
    "    \"北海公园\",\n",
    "    \"故宫\",\n",
    "    \"八达岭长城\",\n",
    "    \"天坛公园\",\n",
    "    \"恭王府\",\n",
    "    \"圆明园\",\n",
    "    \"景山公园\",\n",
    "    \"中山公园\",\n",
    "    \"陶然亭公园\",\n",
    "    \"十三陵\",\n",
    "    \"中国国家博物馆\",\n",
    "    \"白塔寺\",\n",
    "    \"钟鼓楼\",\n",
    "    \"北京动物园\",\n",
    "    \"雍和宫\",\n",
    "    \"中国国家图书馆\",\n",
    "    \"皇城根遗址公园\",\n",
    "    \"卢沟桥\",\n",
    "    \"八达岭野生动物园\", # 20\n",
    "    \"司马台长城\",\n",
    "    \"大钟寺\",\n",
    "    \"慕田峪长城\",\n",
    "    \"金山岭长城\",\n",
    "    \"天安门广场\",\n",
    "    \"国家大剧院\",\n",
    "    \"北京植物园\",\n",
    "    \"香山公园\",\n",
    "    \"中国人民革命军事博物馆\",\n",
    "    \"红螺寺\", # 30\n",
    "    \"北京天文馆\",\n",
    "    \"水立方游泳馆\",\n",
    "    \"毛主席纪念堂\",\n",
    "    \"龙庆峡\",\n",
    "    \"国家体育馆\",\n",
    "    \"中华民族园\",\n",
    "    \"北京欢乐谷\",\n",
    "    \"中国人民抗日战争纪念馆\",\n",
    "    \"淳亲王府\",\n",
    "    \"地坛公园\", # 40\n",
    "    \"国子监\",\n",
    "    \"首都博物馆\",\n",
    "    \"北京月坛公园\",\n",
    "    \"朝阳公园\",\n",
    "    \"日坛公园\",\n",
    "    \"紫竹院公园\",\n",
    "    \"玉渊潭公园\",\n",
    "    \"凤凰岭自然风景区\",\n",
    "    \"百望山森林公园\",\n",
    "    \"北京西山国家森林公园\", # 50\n",
    "    \"北京西山大觉寺\",\n",
    "    \"世界公园\",\n",
    "    \"北京园博园\",\n",
    "    \"北京世界花卉大观园\",\n",
    "    \"青龙湖公园\",\n",
    "    \"八大处公园\",\n",
    "    \"戒台寺\",\n",
    "    \"潭柘寺\",\n",
    "    \"京西古道\",\n",
    "    \"周口店遗址博物馆\", # 60\n",
    "    \"中国电影博物馆\",\n",
    "    \"北京顺义国际鲜花港\",\n",
    "    \"居庸关长城\",\n",
    "    \"北京黄花城水长城旅游区\",\n",
    "    \"北京喇叭沟原始森林公园\",\n",
    "    \"黑龙潭\",\n",
    "    \"北顶娘娘庙\", #\"大栅栏\",\n",
    "    \"什刹海\",\n",
    "    \"南锣鼓巷\",\n",
    "    \"北宫国家森林公园\", # 70\n",
    "    \"八达岭野生动物园\",\n",
    "    \"太庙\",\n",
    "    \"北京自然博物馆\",\n",
    "    \"王府井大街\",\n",
    "    \"蟒山国家森林公园\",\n",
    "    \"中国美术馆\",\n",
    "    \"北京白云观\",\n",
    "    \"桃源仙谷自然风景区\",\n",
    "    \"北京延庆硅化木国家地质公园\",\n",
    "    \"中国科学技术馆\", # \"南海子郊野公园\", # 80\n",
    "    \"通州运河公园\",\n",
    "    \"中国地质博物馆\",\n",
    "    \"北京卧佛寺\",\n",
    "    \"法源寺\",\n",
    "    \"皇史宬\",\n",
    "    \"先农坛\",\n",
    "    \"广济寺\",\n",
    "    \"广化寺\",\n",
    "    \"北京图书大厦\",\n",
    "    \"北普陀影视城\", # 90\n",
    "    \"金海湖风景区\",\n",
    "    \"历代帝王庙\",\n",
    "    \"沿河城\",\n",
    "    \"永宁古城\",\n",
    "    \"雁栖湖\",\n",
    "    \"十渡\",\n",
    "    \"北京温都水城\",\n",
    "    \"云居寺\",\n",
    "    \"北京汽车博物馆\",\n",
    "    \"中国航空博物馆\", # 100\n",
    "]\n",
    "\n",
    "for item in items:\n",
    "    try:\n",
    "        document=TrafilaturaWebReader().load_data([f\"https://baike.baidu.com/item/{item}\"])[0]\n",
    "        \n",
    "        if not os.path.exists('./data/'):\n",
    "            os.makedirs('./data/')\n",
    "            \n",
    "        file_path = f'./data/{item}.txt'\n",
    "        # 检查文件是否存在\n",
    "        if not os.path.isfile(file_path):\n",
    "            # 如果文件不存在，则创建并写入内容\n",
    "            with open(file_path, 'w', encoding='utf-8') as file:\n",
    "                file.write(document.text)\n",
    "                print(f\"{item} 创建在： {file_path}.\")\n",
    "        else:\n",
    "            print(f\"{item} 已经存在.\")\n",
    "                    \n",
    "        # documents.append(TrafilaturaWebReader().load_data([f\"https://baike.baidu.com/item/{item}\"]))\n",
    "    except Exception as e:\n",
    "        print(f\"error: {item}\")"
   ]
  },
  {
   "cell_type": "code",
   "execution_count": 3,
   "id": "5b50445f-0685-4662-8413-fcf8e562ad5c",
   "metadata": {},
   "outputs": [
    {
     "name": "stdout",
     "output_type": "stream",
     "text": [
      "CPU times: user 22.1 ms, sys: 4.13 ms, total: 26.3 ms\n",
      "Wall time: 26.9 ms\n"
     ]
    },
    {
     "data": {
      "text/plain": [
       "99"
      ]
     },
     "execution_count": 3,
     "metadata": {},
     "output_type": "execute_result"
    }
   ],
   "source": [
    "%%time\n",
    "\n",
    "from llama_index.core import SimpleDirectoryReader\n",
    "\n",
    "documents = SimpleDirectoryReader('./data').load_data()\n",
    "len(documents)"
   ]
  },
  {
   "cell_type": "markdown",
   "id": "8546c809-aee4-483b-b029-cc19cef67cc5",
   "metadata": {},
   "source": [
    "## 创建索引"
   ]
  },
  {
   "cell_type": "code",
   "execution_count": 5,
   "id": "e2f44e7d-78b6-4de4-869e-928d825ac12b",
   "metadata": {},
   "outputs": [
    {
     "name": "stdout",
     "output_type": "stream",
     "text": [
      "CPU times: user 3.49 s, sys: 16.3 ms, total: 3.51 s\n",
      "Wall time: 17min 46s\n"
     ]
    }
   ],
   "source": [
    "%%time\n",
    "\n",
    "from llama_index.core import TreeIndex\n",
    "from llama_index.core.node_parser import SentenceSplitter\n",
    "\n",
    "index = TreeIndex.from_documents(\n",
    "    documents,\n",
    "    # num_children=5,\n",
    "    # transformations=[SentenceSplitter(chunk_size=128,chunk_overlap=10)]\n",
    ")\n",
    "\n",
    "# len(index.docstore.docs.items())"
   ]
  },
  {
   "cell_type": "markdown",
   "id": "ac941f8e-2a1d-451c-b831-a03b520aebf1",
   "metadata": {},
   "source": [
    "## 查询"
   ]
  },
  {
   "cell_type": "markdown",
   "id": "d319d845-f2a9-45d9-b862-fcd9b81b2117",
   "metadata": {},
   "source": [
    "### SELECT_LEAF"
   ]
  },
  {
   "cell_type": "code",
   "execution_count": 6,
   "id": "b28ac514-53d4-413d-99db-fe230b54c298",
   "metadata": {},
   "outputs": [
    {
     "name": "stdout",
     "output_type": "stream",
     "text": [
      "颐和园的历史源远流长。始建于光绪十二年（1886年），当时名为清漪园，是作为慈禧太后归政后“颐养冲和”之所而建。在重建过程中，慈禧太后大力经营，搜集珍宝，使得颐和园成为了一个富丽堂皇的园林。然而，1900年八国联军攻入北京时，颐和园遭受严重破坏，园内文物被毁掠一空。\n",
      "\n",
      "光绪二十八年（1902年），慈禧回銮后再次修复颐和园，并充实了园内的陈设。新中国成立后，特别是改革开放以来，颐和园得到了妥善保护，其园藏文物达到了四万余件，涵盖了几乎所有的中国传世文物门类，包括不少外国文物。其中，国家级文物有二万余件，如虢宣公子白鼎、三牺尊等国宝级珍品。颐和园不仅再现了清漪园的景物，也继承了自秦汉以来皇家园林的规制和内容。\n",
      "CPU times: user 216 ms, sys: 3.65 ms, total: 220 ms\n",
      "Wall time: 25.7 s\n"
     ]
    }
   ],
   "source": [
    "%%time\n",
    "\n",
    "from llama_index.core.indices.tree.base import TreeRetrieverMode\n",
    "\n",
    "query_engine = index.as_query_engine(\n",
    "    retriever_mode=TreeRetrieverMode.SELECT_LEAF,\n",
    "    child_branch_factor=3,\n",
    ")\n",
    "\n",
    "response = query_engine.query(\"介绍下颐和园的历史\")\n",
    "print(response.response)"
   ]
  },
  {
   "cell_type": "markdown",
   "id": "7a49672f-9cca-4b3e-8eb9-cf897bad6a3d",
   "metadata": {},
   "source": [
    "### ROOT"
   ]
  },
  {
   "cell_type": "code",
   "execution_count": 8,
   "id": "33c9b383-26fd-47b4-9cc7-9ca8db70e2da",
   "metadata": {},
   "outputs": [
    {
     "name": "stdout",
     "output_type": "stream",
     "text": [
      "颐和园，又称“圆明园”，是位于北京的一个国家级重点文化遗址，也是联合国教科文组织的世界文化遗产。它始建于清朝乾隆年间，最初是作为皇家园林而建，后来成为慈禧太后的避暑行宫。颐和园融合了中西建筑风格，以其精美的园林艺术、丰富的历史故事和独特的文化价值著称。\n",
      "\n",
      "在历史上，颐和园曾遭受外国军队的破坏，但之后得到了重建。它不仅是清朝皇室的休闲场所，还见证了政治事件，如八国联军侵华战争期间，颐和园曾被占领。园内有许多著名的建筑，包括长廊、佛香阁、十七孔桥等，以及众多精美的园林景观。\n",
      "\n",
      "其中，佛香阁是颐和园的标志性建筑之一，位于万寿山之巅，是观赏全园景色的绝佳地点。此外，颐和园还包含有历史悠久的昆明湖，以及许多亭台楼阁，共同构成了一个和谐的自然与人文景观。\n",
      "\n",
      "在文化层面，颐和园不仅是皇家园林的代表，也是中国园林艺术的典范。它不仅体现了中国古代的哲学思想、审美观念和建筑技艺，而且承载了丰富的历史文化信息。如今，颐和园已成为北京乃至中国的著名旅游景点，每年吸引着大量国内外游客参观游览。\n",
      "CPU times: user 7.25 ms, sys: 4 ms, total: 11.2 ms\n",
      "Wall time: 6.55 s\n"
     ]
    }
   ],
   "source": [
    "%%time\n",
    "\n",
    "query_engine = index.as_query_engine(\n",
    "    retriever_mode=TreeRetrieverMode.ROOT,\n",
    ")\n",
    "\n",
    "response = query_engine.query(\"介绍下颐和园的历史\")\n",
    "print(response.response)"
   ]
  },
  {
   "cell_type": "markdown",
   "id": "c428d5f5-ea48-4812-8bfb-09b6da123a51",
   "metadata": {},
   "source": [
    "### SELECT_LEAF_EMBEDDING"
   ]
  },
  {
   "cell_type": "code",
   "execution_count": 10,
   "id": "f6670120-61e5-4cae-b673-330c3c993703",
   "metadata": {},
   "outputs": [
    {
     "name": "stdout",
     "output_type": "stream",
     "text": [
      "颐和园是中国著名的皇家园林，位于北京市西北郊，始建于清朝乾隆十五年（1744年），原名清漪园。它曾是清朝帝王的行宫和花园，也是中国现存规模最大、保存最完整的皇家园林之一。\n",
      "\n",
      "颐和园的历史可以追溯到17世纪末，当时这里是一片湖泊和农田。在乾隆年间，为了庆祝皇太后六十寿辰，开始大规模修建园林。经过多次扩建和修缮，颐和园逐渐形成了今天的规模和风貌。\n",
      "\n",
      "1860年，英法联军入侵北京，颐和园遭到严重破坏。1900年，八国联军再次侵华，颐和园再次遭受战火洗礼。尽管如此，颐和园的主体建筑仍然得以保存。\n",
      "\n",
      "1912年中华民国成立后，清漪园改名为颐和园，并对外开放。新中国成立后，政府对颐和园进行了大规模的修复和保护工作，使其成为世界文化遗产之一。\n",
      "\n",
      "颐和园不仅具有极高的历史、艺术和科学价值，还承载着丰富的文化内涵。它融合了自然景观与人工建筑，体现了中国古代园林艺术的精华。\n",
      "CPU times: user 511 ms, sys: 0 ns, total: 511 ms\n",
      "Wall time: 14.9 s\n"
     ]
    }
   ],
   "source": [
    "%%time\n",
    "\n",
    "query_engine = index.as_query_engine(\n",
    "    retriever_mode=TreeRetrieverMode.SELECT_LEAF_EMBEDDING,\n",
    "    child_branch_factor=3,\n",
    ")\n",
    "\n",
    "response = query_engine.query(\"介绍下颐和园的历史\")\n",
    "print(response.response)"
   ]
  },
  {
   "cell_type": "code",
   "execution_count": null,
   "id": "bba75820-dbb7-4834-a671-a6e7c03581be",
   "metadata": {},
   "outputs": [],
   "source": []
  }
 ],
 "metadata": {
  "kernelspec": {
   "display_name": "Python 3 (ipykernel)",
   "language": "python",
   "name": "python3"
  },
  "language_info": {
   "codemirror_mode": {
    "name": "ipython",
    "version": 3
   },
   "file_extension": ".py",
   "mimetype": "text/x-python",
   "name": "python",
   "nbconvert_exporter": "python",
   "pygments_lexer": "ipython3",
   "version": "3.10.12"
  }
 },
 "nbformat": 4,
 "nbformat_minor": 5
}
