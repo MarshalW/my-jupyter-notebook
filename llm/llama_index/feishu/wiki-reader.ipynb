{
 "cells": [
  {
   "cell_type": "markdown",
   "id": "9a43f251-46d7-4286-a616-28e602e19313",
   "metadata": {},
   "source": [
    "# 使用飞书知识库实现查询"
   ]
  },
  {
   "cell_type": "markdown",
   "id": "2be5062b-f1cf-421b-9d6f-736ec79946e7",
   "metadata": {},
   "source": [
    "直接用request不好，放弃，改用官方python sdk，另外起新的页面。"
   ]
  },
  {
   "cell_type": "markdown",
   "id": "5c7b0878-2306-4152-bd1c-42d19a6bb57a",
   "metadata": {},
   "source": [
    "## 全局设置"
   ]
  },
  {
   "cell_type": "markdown",
   "id": "c2d7ff58-45f8-4f52-95ac-90597e97357e",
   "metadata": {},
   "source": [
    "### 安装依赖库"
   ]
  },
  {
   "cell_type": "code",
   "execution_count": 1,
   "id": "c2469df6-e28e-4df0-a7f3-5173d0f8110d",
   "metadata": {},
   "outputs": [
    {
     "name": "stdout",
     "output_type": "stream",
     "text": [
      "CPU times: user 5.62 ms, sys: 7.69 ms, total: 13.3 ms\n",
      "Wall time: 1.92 s\n"
     ]
    }
   ],
   "source": [
    "%%time\n",
    "%%capture\n",
    "\n",
    "!pip install llama-index-readers-feishu-wiki"
   ]
  },
  {
   "cell_type": "markdown",
   "id": "679168aa-0aac-43fa-8950-b33786b8e707",
   "metadata": {},
   "source": [
    "### LLM 和嵌入模型"
   ]
  },
  {
   "cell_type": "code",
   "execution_count": 2,
   "id": "7b00eb75-8b58-478b-93ca-9a44cb2deb06",
   "metadata": {},
   "outputs": [
    {
     "name": "stdout",
     "output_type": "stream",
     "text": [
      "CPU times: user 2.16 s, sys: 231 ms, total: 2.39 s\n",
      "Wall time: 2.01 s\n"
     ]
    }
   ],
   "source": [
    "%%time\n",
    "\n",
    "from llama_index.core import Settings\n",
    "from llama_index.llms.ollama import Ollama\n",
    "from llama_index.embeddings.ollama import OllamaEmbedding\n",
    "\n",
    "Settings.llm=Ollama(\n",
    "    base_url=\"http://ape:11434\",\n",
    "    model=\"qwen2\",\n",
    "    is_chat_model=True,\n",
    "    temperature=0.1,\n",
    "    request_timeout=60.0\n",
    ")\n",
    "\n",
    "Settings.embed_model = OllamaEmbedding(\n",
    "    model_name=\"quentinz/bge-large-zh-v1.5\",\n",
    "    base_url=\"http://ape:11434\",\n",
    "    ollama_additional_kwargs={\"mirostat\": 0}, # -mirostat N 使用 Mirostat 采样。\n",
    ")"
   ]
  },
  {
   "cell_type": "markdown",
   "id": "0081dac8-88a3-4f96-ab2d-9137fc3496c7",
   "metadata": {},
   "source": [
    "### 设置飞书id和令牌"
   ]
  },
  {
   "cell_type": "code",
   "execution_count": 3,
   "id": "ac89218b-6684-4fa4-b4c7-5a64e3d367e4",
   "metadata": {},
   "outputs": [
    {
     "name": "stdout",
     "output_type": "stream",
     "text": [
      "CPU times: user 2 µs, sys: 1 µs, total: 3 µs\n",
      "Wall time: 3.34 µs\n"
     ]
    }
   ],
   "source": [
    "%%time\n",
    "\n",
    "app_id = \"cli_a644510a88eb900c\"\n",
    "app_secret = \"HVk6lCNTQEg22zJkNp7rhehivBUz4GOn\""
   ]
  },
  {
   "cell_type": "code",
   "execution_count": 20,
   "id": "5b7c8ef0-04cc-44d4-8534-f8308147c661",
   "metadata": {},
   "outputs": [
    {
     "name": "stdout",
     "output_type": "stream",
     "text": [
      "CPU times: user 1 µs, sys: 0 ns, total: 1 µs\n",
      "Wall time: 3.81 µs\n"
     ]
    }
   ],
   "source": [
    "%%time\n",
    "\n",
    "# 通过 https://open.feishu.cn/api-explorer 获取并设置\n",
    "\n",
    "user_access_token=\"u-cS3YF1DXlfLUep3XoSB_9Q50gzTNk579UE00508y08CR\"\n",
    "access_token=\"t-g1048tfhMZ4BKNUOX5ACBZ56BFABXG7IZGVTULHG\""
   ]
  },
  {
   "cell_type": "markdown",
   "id": "99dfec45-5ae7-4582-9359-76b1d3be74ea",
   "metadata": {},
   "source": [
    "## 知识库授权"
   ]
  },
  {
   "cell_type": "code",
   "execution_count": 21,
   "id": "450d2fa7-03df-4a41-ac99-63b5422e6137",
   "metadata": {},
   "outputs": [
    {
     "name": "stdout",
     "output_type": "stream",
     "text": [
      "CPU times: user 4.6 ms, sys: 61 µs, total: 4.66 ms\n",
      "Wall time: 137 ms\n"
     ]
    },
    {
     "data": {
      "text/plain": [
       "'t-g1048tfhMZ4BKNUOX5ACBZ56BFABXG7IZGVTULHG'"
      ]
     },
     "execution_count": 21,
     "metadata": {},
     "output_type": "execute_result"
    }
   ],
   "source": [
    "%%time\n",
    "\n",
    "def get_access_token(app_id, app_secret):\n",
    "    url = \"https://open.feishu.cn/open-apis/auth/v3/tenant_access_token/internal/\"\n",
    "    headers = {\n",
    "        \"Content-Type\": \"application/json\"\n",
    "    }\n",
    "    data = {\n",
    "        \"app_id\": app_id,\n",
    "        \"app_secret\": app_secret\n",
    "    }\n",
    "    response = requests.post(url, headers=headers, json=data)\n",
    "    response_data = response.json()\n",
    "    if response_data.get(\"code\") == 0:\n",
    "        return response_data.get(\"tenant_access_token\")\n",
    "    else:\n",
    "        raise Exception(\"Failed to get access token: {}\".format(response_data))\n",
    "\n",
    "access_token=get_access_token(app_id, app_secret)\n",
    "access_token"
   ]
  },
  {
   "cell_type": "markdown",
   "id": "98244e62-13bc-4f72-a458-533964bcad16",
   "metadata": {},
   "source": [
    "### 获取应用的open_id"
   ]
  },
  {
   "cell_type": "code",
   "execution_count": 22,
   "id": "7834da51-6540-49dc-8e48-6922d5781406",
   "metadata": {},
   "outputs": [
    {
     "name": "stdout",
     "output_type": "stream",
     "text": [
      "CPU times: user 4.7 ms, sys: 74 µs, total: 4.77 ms\n",
      "Wall time: 210 ms\n"
     ]
    },
    {
     "data": {
      "text/plain": [
       "'ou_4d2f4ed816ff2b3c95ce8304ef0a78af'"
      ]
     },
     "execution_count": 22,
     "metadata": {},
     "output_type": "execute_result"
    }
   ],
   "source": [
    "%%time\n",
    "\n",
    "def get_bot_info(access_token):\n",
    "    url = \"https://open.feishu.cn/open-apis/bot/v3/info\"\n",
    "    headers = {\n",
    "        \"Authorization\": \"Bearer {}\".format(access_token),\n",
    "        \"Content-Type\": \"application/json\"\n",
    "    }\n",
    "    response = requests.get(url, headers=headers)\n",
    "    response_data = response.json()\n",
    "    if response_data.get(\"code\") == 0:\n",
    "        # return response_data.get(\"data\", {})\n",
    "        return response_data\n",
    "    else:\n",
    "        raise Exception(\"Failed to get info: {}\".format(response_data))\n",
    "\n",
    "open_id=get_bot_info(access_token)['bot']['open_id']\n",
    "open_id"
   ]
  },
  {
   "cell_type": "markdown",
   "id": "d31b1042-d685-47d6-a26a-6fb51f4810ea",
   "metadata": {},
   "source": [
    "### 获取知识库 space_id"
   ]
  },
  {
   "cell_type": "code",
   "execution_count": 15,
   "id": "6d122698-e83f-4575-8b7d-5e2ea7042260",
   "metadata": {},
   "outputs": [
    {
     "name": "stdout",
     "output_type": "stream",
     "text": [
      "CPU times: user 5.13 ms, sys: 0 ns, total: 5.13 ms\n",
      "Wall time: 290 ms\n"
     ]
    },
    {
     "data": {
      "text/plain": [
       "'7408151433373335556'"
      ]
     },
     "execution_count": 15,
     "metadata": {},
     "output_type": "execute_result"
    }
   ],
   "source": [
    "%%time\n",
    "\n",
    "def get_knowledge_bases(access_token):\n",
    "    url = \"https://open.feishu.cn/open-apis/wiki/v2/spaces\"\n",
    "    headers = {\n",
    "        \"Authorization\": \"Bearer {}\".format(access_token),\n",
    "        \"Content-Type\": \"application/json\"\n",
    "    }\n",
    "    response = requests.get(url, headers=headers)\n",
    "    response_data = response.json()\n",
    "    if response_data.get(\"code\") == 0:\n",
    "        return response_data.get(\"data\", {}).get(\"items\", [])\n",
    "    else:\n",
    "        raise Exception(\"Failed to get knowledge bases: {}\".format(response_data))\n",
    "\n",
    "space_name=\"mykb\"\n",
    "space_id = next((item['space_id'] for item in get_knowledge_bases(access_token) if item.get('name') == space_name), None)\n",
    "space_id"
   ]
  },
  {
   "cell_type": "markdown",
   "id": "54557465-2ff0-42d3-998f-89f618df0192",
   "metadata": {},
   "source": [
    "### 应用添加为知识库成员"
   ]
  },
  {
   "cell_type": "markdown",
   "id": "14b90c67-b19b-463b-8666-08105bef2982",
   "metadata": {},
   "source": [
    "见： https://open.feishu.cn/document/server-docs/docs/wiki-v2/wiki-qa#a40ad4ca"
   ]
  },
  {
   "cell_type": "code",
   "execution_count": 23,
   "id": "19b12eda-0d35-47cc-87d4-82243d481890",
   "metadata": {},
   "outputs": [
    {
     "ename": "JSONDecodeError",
     "evalue": "Extra data: line 1 column 5 (char 4)",
     "output_type": "error",
     "traceback": [
      "\u001b[0;31m---------------------------------------------------------------------------\u001b[0m",
      "\u001b[0;31mJSONDecodeError\u001b[0m                           Traceback (most recent call last)",
      "File \u001b[0;32m/usr/local/lib/python3.10/dist-packages/requests/models.py:974\u001b[0m, in \u001b[0;36mResponse.json\u001b[0;34m(self, **kwargs)\u001b[0m\n\u001b[1;32m    973\u001b[0m \u001b[38;5;28;01mtry\u001b[39;00m:\n\u001b[0;32m--> 974\u001b[0m     \u001b[38;5;28;01mreturn\u001b[39;00m \u001b[43mcomplexjson\u001b[49m\u001b[38;5;241;43m.\u001b[39;49m\u001b[43mloads\u001b[49m\u001b[43m(\u001b[49m\u001b[38;5;28;43mself\u001b[39;49m\u001b[38;5;241;43m.\u001b[39;49m\u001b[43mtext\u001b[49m\u001b[43m,\u001b[49m\u001b[43m \u001b[49m\u001b[38;5;241;43m*\u001b[39;49m\u001b[38;5;241;43m*\u001b[39;49m\u001b[43mkwargs\u001b[49m\u001b[43m)\u001b[49m\n\u001b[1;32m    975\u001b[0m \u001b[38;5;28;01mexcept\u001b[39;00m JSONDecodeError \u001b[38;5;28;01mas\u001b[39;00m e:\n\u001b[1;32m    976\u001b[0m     \u001b[38;5;66;03m# Catch JSON-related errors and raise as requests.JSONDecodeError\u001b[39;00m\n\u001b[1;32m    977\u001b[0m     \u001b[38;5;66;03m# This aliases json.JSONDecodeError and simplejson.JSONDecodeError\u001b[39;00m\n",
      "File \u001b[0;32m/usr/local/lib/python3.10/dist-packages/simplejson/__init__.py:514\u001b[0m, in \u001b[0;36mloads\u001b[0;34m(s, encoding, cls, object_hook, parse_float, parse_int, parse_constant, object_pairs_hook, use_decimal, allow_nan, **kw)\u001b[0m\n\u001b[1;32m    510\u001b[0m \u001b[38;5;28;01mif\u001b[39;00m (\u001b[38;5;28mcls\u001b[39m \u001b[38;5;129;01mis\u001b[39;00m \u001b[38;5;28;01mNone\u001b[39;00m \u001b[38;5;129;01mand\u001b[39;00m encoding \u001b[38;5;129;01mis\u001b[39;00m \u001b[38;5;28;01mNone\u001b[39;00m \u001b[38;5;129;01mand\u001b[39;00m object_hook \u001b[38;5;129;01mis\u001b[39;00m \u001b[38;5;28;01mNone\u001b[39;00m \u001b[38;5;129;01mand\u001b[39;00m\n\u001b[1;32m    511\u001b[0m         parse_int \u001b[38;5;129;01mis\u001b[39;00m \u001b[38;5;28;01mNone\u001b[39;00m \u001b[38;5;129;01mand\u001b[39;00m parse_float \u001b[38;5;129;01mis\u001b[39;00m \u001b[38;5;28;01mNone\u001b[39;00m \u001b[38;5;129;01mand\u001b[39;00m\n\u001b[1;32m    512\u001b[0m         parse_constant \u001b[38;5;129;01mis\u001b[39;00m \u001b[38;5;28;01mNone\u001b[39;00m \u001b[38;5;129;01mand\u001b[39;00m object_pairs_hook \u001b[38;5;129;01mis\u001b[39;00m \u001b[38;5;28;01mNone\u001b[39;00m\n\u001b[1;32m    513\u001b[0m         \u001b[38;5;129;01mand\u001b[39;00m \u001b[38;5;129;01mnot\u001b[39;00m use_decimal \u001b[38;5;129;01mand\u001b[39;00m \u001b[38;5;129;01mnot\u001b[39;00m allow_nan \u001b[38;5;129;01mand\u001b[39;00m \u001b[38;5;129;01mnot\u001b[39;00m kw):\n\u001b[0;32m--> 514\u001b[0m     \u001b[38;5;28;01mreturn\u001b[39;00m \u001b[43m_default_decoder\u001b[49m\u001b[38;5;241;43m.\u001b[39;49m\u001b[43mdecode\u001b[49m\u001b[43m(\u001b[49m\u001b[43ms\u001b[49m\u001b[43m)\u001b[49m\n\u001b[1;32m    515\u001b[0m \u001b[38;5;28;01mif\u001b[39;00m \u001b[38;5;28mcls\u001b[39m \u001b[38;5;129;01mis\u001b[39;00m \u001b[38;5;28;01mNone\u001b[39;00m:\n",
      "File \u001b[0;32m/usr/local/lib/python3.10/dist-packages/simplejson/decoder.py:389\u001b[0m, in \u001b[0;36mJSONDecoder.decode\u001b[0;34m(self, s, _w, _PY3)\u001b[0m\n\u001b[1;32m    388\u001b[0m \u001b[38;5;28;01mif\u001b[39;00m end \u001b[38;5;241m!=\u001b[39m \u001b[38;5;28mlen\u001b[39m(s):\n\u001b[0;32m--> 389\u001b[0m     \u001b[38;5;28;01mraise\u001b[39;00m JSONDecodeError(\u001b[38;5;124m\"\u001b[39m\u001b[38;5;124mExtra data\u001b[39m\u001b[38;5;124m\"\u001b[39m, s, end, \u001b[38;5;28mlen\u001b[39m(s))\n\u001b[1;32m    390\u001b[0m \u001b[38;5;28;01mreturn\u001b[39;00m obj\n",
      "\u001b[0;31mJSONDecodeError\u001b[0m: Extra data: line 1 column 5 - line 1 column 19 (char 4 - 18)",
      "\nDuring handling of the above exception, another exception occurred:\n",
      "\u001b[0;31mJSONDecodeError\u001b[0m                           Traceback (most recent call last)",
      "File \u001b[0;32m<timed exec>:21\u001b[0m\n",
      "File \u001b[0;32m<timed exec>:13\u001b[0m, in \u001b[0;36madd_knowledge_space_member\u001b[0;34m(user_access_token, space_id, user_id)\u001b[0m\n",
      "File \u001b[0;32m/usr/local/lib/python3.10/dist-packages/requests/models.py:978\u001b[0m, in \u001b[0;36mResponse.json\u001b[0;34m(self, **kwargs)\u001b[0m\n\u001b[1;32m    974\u001b[0m     \u001b[38;5;28;01mreturn\u001b[39;00m complexjson\u001b[38;5;241m.\u001b[39mloads(\u001b[38;5;28mself\u001b[39m\u001b[38;5;241m.\u001b[39mtext, \u001b[38;5;241m*\u001b[39m\u001b[38;5;241m*\u001b[39mkwargs)\n\u001b[1;32m    975\u001b[0m \u001b[38;5;28;01mexcept\u001b[39;00m JSONDecodeError \u001b[38;5;28;01mas\u001b[39;00m e:\n\u001b[1;32m    976\u001b[0m     \u001b[38;5;66;03m# Catch JSON-related errors and raise as requests.JSONDecodeError\u001b[39;00m\n\u001b[1;32m    977\u001b[0m     \u001b[38;5;66;03m# This aliases json.JSONDecodeError and simplejson.JSONDecodeError\u001b[39;00m\n\u001b[0;32m--> 978\u001b[0m     \u001b[38;5;28;01mraise\u001b[39;00m RequestsJSONDecodeError(e\u001b[38;5;241m.\u001b[39mmsg, e\u001b[38;5;241m.\u001b[39mdoc, e\u001b[38;5;241m.\u001b[39mpos)\n",
      "\u001b[0;31mJSONDecodeError\u001b[0m: Extra data: line 1 column 5 (char 4)"
     ]
    }
   ],
   "source": [
    "%%time\n",
    "\n",
    "def add_knowledge_space_member(user_access_token, space_id, user_id):\n",
    "    url = f\"https://open.feishu.cn/open-apis/wiki/v2/spaces/{space_id}/members/batch_add\"\n",
    "    headers = {\n",
    "        \"Authorization\": f\"Bearer {app_access_token}\",\n",
    "        \"Content-Type\": \"application/json; charset=utf-8\"\n",
    "    }\n",
    "    data = {\n",
    "        \"member_ids\": [user_id],\n",
    "        \"member_type\": \"admin\"\n",
    "    }\n",
    "\n",
    "    response = requests.post(url, json=data, headers=headers)\n",
    "    response_data = response.json()\n",
    "\n",
    "    if response_data[\"code\"] == 0:\n",
    "        print(f\"Successfully added member {user_id} to space {space_id}\")\n",
    "    else:\n",
    "        raise Exception(f\"Failed to add member: {response_data}\")\n",
    "\n",
    "\n",
    "add_knowledge_space_member(user_access_token, space_id, open_id)"
   ]
  },
  {
   "cell_type": "code",
   "execution_count": null,
   "id": "cb2bb049-7e7a-4b6a-a5e3-29397eb0375e",
   "metadata": {},
   "outputs": [],
   "source": []
  }
 ],
 "metadata": {
  "kernelspec": {
   "display_name": "Python 3 (ipykernel)",
   "language": "python",
   "name": "python3"
  },
  "language_info": {
   "codemirror_mode": {
    "name": "ipython",
    "version": 3
   },
   "file_extension": ".py",
   "mimetype": "text/x-python",
   "name": "python",
   "nbconvert_exporter": "python",
   "pygments_lexer": "ipython3",
   "version": "3.10.12"
  }
 },
 "nbformat": 4,
 "nbformat_minor": 5
}
