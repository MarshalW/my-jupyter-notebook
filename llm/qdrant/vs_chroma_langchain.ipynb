{
 "cells": [
  {
   "cell_type": "markdown",
   "id": "c408df37-0cfd-4bcf-9518-cc475e9e0aaf",
   "metadata": {},
   "source": [
    "# 和 Chroma@llamaindex 比较"
   ]
  },
  {
   "cell_type": "markdown",
   "id": "a4ad9c57-0e9a-46d3-a6dc-bf9af9699787",
   "metadata": {},
   "source": [
    "## 准备"
   ]
  },
  {
   "cell_type": "code",
   "execution_count": 1,
   "id": "6d2e4b1d-ec30-42ee-90a6-cd4799fe07af",
   "metadata": {},
   "outputs": [
    {
     "name": "stdout",
     "output_type": "stream",
     "text": [
      "CPU times: user 35.4 ms, sys: 7.09 ms, total: 42.5 ms\n",
      "Wall time: 10.3 s\n"
     ]
    }
   ],
   "source": [
    "%%time\n",
    "%%capture\n",
    "\n",
    "!pip install langchain-chroma\n",
    "!pip install langchain\n",
    "!pip install langchain-community"
   ]
  },
  {
   "cell_type": "markdown",
   "id": "09bdc02a-f0f2-43a8-965e-bd0c9e9439dd",
   "metadata": {},
   "source": [
    "## 文档"
   ]
  },
  {
   "cell_type": "code",
   "execution_count": 2,
   "id": "28e05e1a-5954-47e8-8c8f-ac3da71f51a2",
   "metadata": {},
   "outputs": [
    {
     "name": "stdout",
     "output_type": "stream",
     "text": [
      "CPU times: user 2 µs, sys: 0 ns, total: 2 µs\n",
      "Wall time: 3.58 µs\n"
     ]
    }
   ],
   "source": [
    "%%time\n",
    "\n",
    "books = [\n",
    "    {\n",
    "        \"name\": \"围城\",\n",
    "        \"description\": \"主人公方鸿渐留学回国后，面临找工作和个人感情的种种问题。他经历了几段感情波折，包括与鲍小姐的失败婚姻和与孙柔嘉的恋情，最终与孙柔嘉结婚。但婚后生活并不如意，他在事业上也遭遇挫折，未能实现自己的理想。\",\n",
    "        \"author\": \"钱钟书\",\n",
    "    },\n",
    "    {\n",
    "        \"name\": \"故乡\",\n",
    "        \"description\": \"小说讲述了主人公“我”（即鲁迅的化身）在阔别多年后回到故乡接母亲到城里生活的故事。在故乡，他遇到了童年的玩伴闰土和老仆人杨二嫂。通过与他们的交谈和观察，主人公感受到故乡的变化和人们生活的困苦。\",\n",
    "        \"author\": \"鲁迅\",\n",
    "    },\n",
    "    {\n",
    "       \"name\": \"阿Q正传\",\n",
    "        \"description\": \"讲述了阿Q这个贫苦农民在中国封建社会中的悲惨生活。他虽然穷困潦倒，但心态自负，总是以精神胜利法来安慰自己，逃避现实的困境。然而，随着社会动荡和革命的到来，阿Q的命运变得更加悲惨，最终被误认为是革命党人而被处死。\",\n",
    "        \"author\": \"鲁迅\",\n",
    "    }, \n",
    "]"
   ]
  },
  {
   "cell_type": "code",
   "execution_count": 3,
   "id": "9db683d2-da41-48cc-aa2a-b4ec6c8d1b87",
   "metadata": {},
   "outputs": [
    {
     "name": "stdout",
     "output_type": "stream",
     "text": [
      "CPU times: user 122 ms, sys: 11.4 ms, total: 133 ms\n",
      "Wall time: 133 ms\n"
     ]
    }
   ],
   "source": [
    "%%time\n",
    "\n",
    "from langchain_core.documents import Document\n",
    "\n",
    "documents=[]\n",
    "\n",
    "for book in books:\n",
    "    document=Document(\n",
    "        page_content=book['description'],\n",
    "        metadata={\"name\": book['name'], \"author\": book['author']},\n",
    "    )\n",
    "    documents.append(document)"
   ]
  },
  {
   "cell_type": "code",
   "execution_count": 4,
   "id": "56f9442b-0074-4387-80a2-29f5c4153b0a",
   "metadata": {},
   "outputs": [
    {
     "name": "stdout",
     "output_type": "stream",
     "text": [
      "CPU times: user 4.81 ms, sys: 0 ns, total: 4.81 ms\n",
      "Wall time: 4.28 ms\n"
     ]
    }
   ],
   "source": [
    "%%time\n",
    "\n",
    "from langchain_text_splitters import CharacterTextSplitter\n",
    "\n",
    "text_splitter = CharacterTextSplitter(chunk_size=1000, chunk_overlap=0)\n",
    "docs = text_splitter.split_documents(documents)"
   ]
  },
  {
   "cell_type": "markdown",
   "id": "a8c296fa-fb00-4ed3-b335-2441c213e0a2",
   "metadata": {},
   "source": [
    "## 嵌入模型"
   ]
  },
  {
   "cell_type": "code",
   "execution_count": 5,
   "id": "2693c3ec-1578-46ae-87e7-a257630dc239",
   "metadata": {},
   "outputs": [
    {
     "name": "stdout",
     "output_type": "stream",
     "text": [
      "CPU times: user 2.21 s, sys: 535 ms, total: 2.74 s\n",
      "Wall time: 2.37 s\n"
     ]
    }
   ],
   "source": [
    "%%time\n",
    "\n",
    "# from langchain_community.embeddings import OllamaEmbeddings\n",
    "\n",
    "# ollama_emb = OllamaEmbeddings(\n",
    "#     model=\"quentinz/bge-large-zh-v1.5\",\n",
    "#     base_url=\"http://ape:11435\",\n",
    "# )\n",
    "\n",
    "# embedding_function =ollama_emb\n",
    "\n",
    "from langchain.embeddings import HuggingFaceEmbeddings\n",
    "\n",
    "embedding_function = HuggingFaceEmbeddings(\n",
    "    model_name=\"/models/bge-small-zh-v1.5\"\n",
    ")"
   ]
  },
  {
   "cell_type": "markdown",
   "id": "a19777c3-5b7d-4160-bc38-3ddfd42adc27",
   "metadata": {},
   "source": [
    "## 获取余弦相似度"
   ]
  },
  {
   "cell_type": "code",
   "execution_count": 6,
   "id": "7373c3c6-cfdb-4374-9de8-23d884f985d4",
   "metadata": {},
   "outputs": [
    {
     "name": "stdout",
     "output_type": "stream",
     "text": [
      "CPU times: user 813 ms, sys: 47.1 ms, total: 861 ms\n",
      "Wall time: 903 ms\n"
     ]
    }
   ],
   "source": [
    "%%time\n",
    "\n",
    "from langchain_chroma import Chroma\n",
    "\n",
    "# load it into Chroma\n",
    "db = Chroma.from_documents(\n",
    "    docs, \n",
    "    embedding_function,\n",
    "    collection_metadata={\"hnsw:space\": \"cosine\"}\n",
    ")"
   ]
  },
  {
   "cell_type": "code",
   "execution_count": 7,
   "id": "72318dab-1d0a-4abf-9d30-fa6ec27ee5f1",
   "metadata": {},
   "outputs": [
    {
     "name": "stderr",
     "output_type": "stream",
     "text": [
      "Number of requested results 4 is greater than number of elements in index 3, updating n_results = 3\n"
     ]
    },
    {
     "name": "stdout",
     "output_type": "stream",
     "text": [
      "CPU times: user 8.4 ms, sys: 9.72 ms, total: 18.1 ms\n",
      "Wall time: 17.1 ms\n"
     ]
    },
    {
     "data": {
      "text/plain": [
       "'主人公方鸿渐留学回国后，面临找工作和个人感情的种种问题。他经历了几段感情波折，包括与鲍小姐的失败婚姻和与孙柔嘉的恋情，最终与孙柔嘉结婚。但婚后生活并不如意，他在事业上也遭遇挫折，未能实现自己的理想。'"
      ]
     },
     "execution_count": 7,
     "metadata": {},
     "output_type": "execute_result"
    }
   ],
   "source": [
    "%%time\n",
    "\n",
    "docs = db.similarity_search(\"方鸿渐\")\n",
    "docs[0].page_content"
   ]
  },
  {
   "cell_type": "code",
   "execution_count": 8,
   "id": "fb17d85f-c4b1-4b86-9ca8-21036828498e",
   "metadata": {},
   "outputs": [
    {
     "name": "stderr",
     "output_type": "stream",
     "text": [
      "Number of requested results 4 is greater than number of elements in index 3, updating n_results = 3\n"
     ]
    },
    {
     "name": "stdout",
     "output_type": "stream",
     "text": [
      "CPU times: user 8 ms, sys: 0 ns, total: 8 ms\n",
      "Wall time: 7.28 ms\n"
     ]
    },
    {
     "data": {
      "text/plain": [
       "(Document(page_content='主人公方鸿渐留学回国后，面临找工作和个人感情的种种问题。他经历了几段感情波折，包括与鲍小姐的失败婚姻和与孙柔嘉的恋情，最终与孙柔嘉结婚。但婚后生活并不如意，他在事业上也遭遇挫折，未能实现自己的理想。', metadata={'author': '钱钟书', 'name': '围城'}),\n",
       " 0.39040178060531616)"
      ]
     },
     "execution_count": 8,
     "metadata": {},
     "output_type": "execute_result"
    }
   ],
   "source": [
    "%%time\n",
    "\n",
    "docs = db.similarity_search_with_score(\"方鸿渐\")\n",
    "docs[0]"
   ]
  },
  {
   "cell_type": "code",
   "execution_count": 9,
   "id": "3f24ab27-4682-4216-aa43-07db2549e01f",
   "metadata": {},
   "outputs": [
    {
     "data": {
      "text/plain": [
       "0.6095982193946838"
      ]
     },
     "execution_count": 9,
     "metadata": {},
     "output_type": "execute_result"
    }
   ],
   "source": [
    "1-docs[0][1]"
   ]
  }
 ],
 "metadata": {
  "kernelspec": {
   "display_name": "Python 3 (ipykernel)",
   "language": "python",
   "name": "python3"
  },
  "language_info": {
   "codemirror_mode": {
    "name": "ipython",
    "version": 3
   },
   "file_extension": ".py",
   "mimetype": "text/x-python",
   "name": "python",
   "nbconvert_exporter": "python",
   "pygments_lexer": "ipython3",
   "version": "3.10.12"
  }
 },
 "nbformat": 4,
 "nbformat_minor": 5
}
