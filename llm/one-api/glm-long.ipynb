{
 "cells": [
  {
   "cell_type": "markdown",
   "id": "6769e3ae-290e-41a8-8131-542fdb968b8a",
   "metadata": {},
   "source": [
    "# glm 长上下文测试"
   ]
  },
  {
   "cell_type": "markdown",
   "id": "da587e5d-2e71-4e3a-873d-5a1aa25ae9db",
   "metadata": {},
   "source": [
    "`glm-3-turbo`、`glm-4`、`glm-4-air`（生成的质量不好速度不稳定）、`glm-4-flash`(最便宜也很快，质量稍差) 都可以加载18KB"
   ]
  },
  {
   "cell_type": "markdown",
   "id": "b5dffa8c-2568-4145-b25f-1971b584ce69",
   "metadata": {},
   "source": [
    "## 测试是否可用"
   ]
  },
  {
   "cell_type": "code",
   "execution_count": 1,
   "id": "b7bedca3-e352-4bbc-aeb5-aa2582d482bf",
   "metadata": {},
   "outputs": [
    {
     "name": "stdout",
     "output_type": "stream",
     "text": [
      "{\n",
      "  \"choices\": [\n",
      "    {\n",
      "      \"finish_reason\": \"stop\",\n",
      "      \"index\": 0,\n",
      "      \"message\": {\n",
      "        \"content\": \"我是一个人工智能助手，很高兴为您提供帮助。请问有什么问题我可以解答吗？\",\n",
      "        \"role\": \"assistant\"\n",
      "      }\n",
      "    }\n",
      "  ],\n",
      "  \"created\": 1717753785,\n",
      "  \"id\": \"8726256235629369720\",\n",
      "  \"model\": \"glm-4\",\n",
      "  \"request_id\": \"8726256235629369720\",\n",
      "  \"usage\": {\n",
      "    \"completion_tokens\": 17,\n",
      "    \"prompt_tokens\": 8,\n",
      "    \"total_tokens\": 25\n",
      "  }\n",
      "}\n"
     ]
    }
   ],
   "source": [
    "%%bash\n",
    "\n",
    "TOKEN=sk-bJP6QSnUfjAYeYeE505d3eBf63A643BeB0B8E350Df9b7750\n",
    "HOST_URL=http://192.168.0.72:3000 \n",
    "\n",
    "curl -s \"$HOST_URL\"/v1/chat/completions \\\n",
    "  -H \"Content-Type: application/json\" \\\n",
    "  -H \"Authorization: Bearer $TOKEN\" \\\n",
    "  -d '{\n",
    "     \"model\": \"glm-4\",\n",
    "     \"messages\": [{\"role\": \"user\", \"content\": \"你谁啊\"}],\n",
    "     \"temperature\": 0.7\n",
    "   }' | jq ."
   ]
  },
  {
   "cell_type": "markdown",
   "id": "4288138e-5b5c-4f19-996d-54f0d3503143",
   "metadata": {},
   "source": [
    "## 长文本测试"
   ]
  },
  {
   "cell_type": "code",
   "execution_count": 2,
   "id": "d93f9424-2657-4f1c-a5b3-a0eeb29370c3",
   "metadata": {},
   "outputs": [
    {
     "name": "stdout",
     "output_type": "stream",
     "text": [
      "CPU times: user 333 ms, sys: 43.7 ms, total: 377 ms\n",
      "Wall time: 379 ms\n"
     ]
    }
   ],
   "source": [
    "%%time\n",
    "\n",
    "from openai import OpenAI\n",
    "\n",
    "base_url = \"http://192.168.0.72:3000/v1\"\n",
    "api_key = \"sk-bJP6QSnUfjAYeYeE505d3eBf63A643BeB0B8E350Df9b7750\"\n",
    "\n",
    "client = OpenAI(api_key=api_key, base_url=base_url)"
   ]
  },
  {
   "cell_type": "code",
   "execution_count": 4,
   "id": "0868c843-3c52-4d32-99b4-ade8e6c70565",
   "metadata": {},
   "outputs": [
    {
     "name": "stdout",
     "output_type": "stream",
     "text": [
      "我是一个人工智能助手，很高兴为您提供帮助。请问有什么问题我可以解答吗？CPU times: user 15.5 ms, sys: 130 µs, total: 15.6 ms\n",
      "Wall time: 838 ms\n"
     ]
    }
   ],
   "source": [
    "%%time\n",
    "\n",
    "stream = client.chat.completions.create(\n",
    "    model=\"glm-4\",\n",
    "    messages=[{\"role\": \"user\", \"content\": \"你谁啊？\"}],\n",
    "    stream=True,\n",
    "    stream_options= {\"include_usage\": True}\n",
    ")\n",
    "\n",
    "for chunk in stream:\n",
    "    print(chunk.choices[0].delta.content or \"\", end=\"\")"
   ]
  },
  {
   "cell_type": "code",
   "execution_count": 5,
   "id": "8c91de1d-f90f-47f4-8ae9-5444a8f1c83a",
   "metadata": {},
   "outputs": [
    {
     "name": "stdout",
     "output_type": "stream",
     "text": [
      "CPU times: user 246 µs, sys: 0 ns, total: 246 µs\n",
      "Wall time: 324 µs\n"
     ]
    },
    {
     "data": {
      "text/plain": [
       "17587"
      ]
     },
     "execution_count": 5,
     "metadata": {},
     "output_type": "execute_result"
    }
   ],
   "source": [
    "%%time\n",
    "\n",
    "file_path = './content-18k.txt'\n",
    "\n",
    "# Read the content of the file and store it in a string variable\n",
    "with open(file_path, 'r', encoding='utf-8') as file:\n",
    "    content = file.read()\n",
    "\n",
    "len(content)"
   ]
  },
  {
   "cell_type": "code",
   "execution_count": 6,
   "id": "f617925d-fdc7-4425-ae59-e1a9e6b0ef71",
   "metadata": {},
   "outputs": [
    {
     "name": "stdout",
     "output_type": "stream",
     "text": [
      "本文主要讨论了世界进入“大争之世”，中美将产生结构性冲突的观点，具体要点如下：\n",
      "\n",
      "1. **“大争之世”的定义**：全球秩序发生根本性转变，从西方主导转变为“东升西降”，具体表现为新的国际格局、新的现代化模式、新的工业革命和新的全球治理。\n",
      "\n",
      "2. **新的国际格局**：从西方主导到“东升西降”，中国、印度和东盟的崛起，以及欧洲和日本的相对衰落。\n",
      "\n",
      "3. **新的现代化模式**：中国式现代化，与西方现代化模式不同，强调政党中心主义，和平发展道路。\n",
      "\n",
      "4. **新的工业革命**：第四次工业革命，中国有望在人工智能、新能源等领域取得领先。\n",
      "\n",
      "5. **新的全球治理**：从西方主导到中西共治，中国提出全球安全倡议和一带一路倡议。\n",
      "\n",
      "6. **中国是关键变量**：中国的崛起是“东升西降”的核心，提供了与西方不同的发展模式。\n",
      "\n",
      "7. **中美结构性矛盾**：中国成为西方模式的“替代性挑战者”，与美国形成结构性矛盾。\n",
      "\n",
      "8. **中国的应对之道**：内部团结，高质量发展，斗争精神，积极外交。CPU times: user 144 ms, sys: 2.27 ms, total: 146 ms\n",
      "Wall time: 20.5 s\n"
     ]
    }
   ],
   "source": [
    "%%time\n",
    "\n",
    "stream = client.chat.completions.create(\n",
    "  model=\"glm-4\",\n",
    "  max_tokens=5000,\n",
    "  messages=[\n",
    "    {\"role\": \"system\", \"content\": \"你是一个概括内容和提炼主要内容的助手。\"},\n",
    "    {\"role\": \"user\", \"content\": f\"文章内容：{content}\\n\\n主要讲了啥，详细归纳一下，形成要点列表。\"}\n",
    "  ],\n",
    "  stream=True,\n",
    ")\n",
    "\n",
    "for chunk in stream:\n",
    "    print(chunk.choices[0].delta.content or \"\", end=\"\")"
   ]
  },
  {
   "cell_type": "code",
   "execution_count": 7,
   "id": "e46aec18-3545-4d65-8d05-8c3d631b5718",
   "metadata": {},
   "outputs": [
    {
     "name": "stdout",
     "output_type": "stream",
     "text": [
      "本文主要讨论了以下几个要点：\n",
      "\n",
      "1. **“大争之世”的概念**：文章首先提出了“大争之世”这一概念，用以描述当前全球秩序的根本性转变，即从过去500年的西方主导转变为当今的“东升西降”。\n",
      "\n",
      "2. **国际格局的变化**：文章分析了国际格局的转变，特别是中国、印度和东南亚国家联盟（ASEAN）的崛起，以及欧洲联盟和日本的相对衰落。\n",
      "\n",
      "3. **新的现代化模式**：文章探讨了中国式现代化的特点，包括中国共产党领导下的社会主义现代化，以及其与西方现代化模式的区别。\n",
      "\n",
      "4. **新的工业革命**：文章讨论了第四次工业革命的到来，以及中国在人工智能、新能源技术等领域的贡献。\n",
      "\n",
      "5. **新的全球治理**：文章分析了全球治理的转变，特别是中国提出的《全球安全倡议》和“一带一路”倡议。\n",
      "\n",
      "6. **中国作为关键性变量**：文章强调中国在全球变化中的关键作用，以及其与美国之间的结构性矛盾。\n",
      "\n",
      "7. **中国的应对之道**：文章讨论了中国应对全球变化和中美结构性矛盾的策略，包括内部团结、经济发展、斗争精神和积极的外交政策。\n",
      "\n",
      "总体来说，文章深入分析了当前全球秩序的转变，特别是中国在这一过程中的关键作用，以及中美之间的结构性矛盾和中国的应对策略。CPU times: user 124 ms, sys: 12.8 ms, total: 137 ms\n",
      "Wall time: 13.7 s\n"
     ]
    }
   ],
   "source": [
    "%%time\n",
    "\n",
    "stream = client.chat.completions.create(\n",
    "  model=\"glm-3-turbo\",\n",
    "  max_tokens=5000,\n",
    "  messages=[\n",
    "    {\"role\": \"system\", \"content\": \"你是一个概括内容和提炼主要内容的助手。\"},\n",
    "    {\"role\": \"user\", \"content\": f\"文章内容：{content}\\n\\n主要讲了啥，详细归纳一下，形成要点列表。\"}\n",
    "  ],\n",
    "  stream=True,\n",
    ")\n",
    "\n",
    "for chunk in stream:\n",
    "    print(chunk.choices[0].delta.content or \"\", end=\"\")"
   ]
  },
  {
   "cell_type": "code",
   "execution_count": 9,
   "id": "9810fe9a-c84a-45eb-be5e-30b2ea6381e2",
   "metadata": {},
   "outputs": [
    {
     "name": "stdout",
     "output_type": "stream",
     "text": [
      "**文章主要观点**：\n",
      "\n",
      "*   **世界进入“大争之世”**： 全球秩序发生根本性转变，从西方主导转向“东升西降”。\n",
      "*   **“大争之世”的具体表现**：\n",
      "    *   **新的国际格局**： 中国、印度和东盟崛起，欧洲和日本实力下降。\n",
      "    *   **新的现代化模式**： 中国式现代化，区别于西方模式，强调共同富裕、和平发展。\n",
      "    *   **新的工业革命**： 第四次工业革命到来，中国在人工智能、新能源等领域取得领先。\n",
      "    *   **新的全球治理**： 从西方主导转向“中西共治”，中国提出“一带一路”倡议和“全球安全倡议”。\n",
      "*   **中国是“大争之世”的关键性变量**： 中国的崛起推动国际格局变化，提供新的发展模式，与美国形成结构性矛盾。\n",
      "*   **中美之间的结构性矛盾**： 美国视中国为挑战，采取全面战略对抗，包括贸易战、科技战和地缘政治竞争。\n",
      "*   **中国应对“大争之世”的策略**：\n",
      "    *   内部团结，坚持党的领导。\n",
      "    *   优先发展经济，保证经济高质量发展。\n",
      "    *   勇于斗争，积极应对挑战。\n",
      "    *   积极参与全球治理，推动构建人类命运共同体。\n",
      "\n",
      "**文章核心观点**：\n",
      "\n",
      "*   世界进入“大争之世”，中国崛起成为关键力量，推动国际格局变化，与美国形成结构性矛盾。\n",
      "*   中国应坚持内部团结、经济发展、斗争精神和积极外交，应对“大争之世”的挑战，推动构建人类命运共同体。CPU times: user 147 ms, sys: 12.9 ms, total: 159 ms\n",
      "Wall time: 1min 17s\n"
     ]
    }
   ],
   "source": [
    "%%time\n",
    "\n",
    "stream = client.chat.completions.create(\n",
    "  model=\"glm-4-air\",\n",
    "  max_tokens=5000,\n",
    "  messages=[\n",
    "    {\"role\": \"system\", \"content\": \"你是一个概括内容和提炼主要内容的助手。\"},\n",
    "    {\"role\": \"user\", \"content\": f\"文章内容：{content}\\n\\n主要讲了啥，详细归纳一下，形成要点列表。\"}\n",
    "  ],\n",
    "  stream=True,\n",
    ")\n",
    "\n",
    "for chunk in stream:\n",
    "    print(chunk.choices[0].delta.content or \"\", end=\"\")"
   ]
  },
  {
   "cell_type": "code",
   "execution_count": 11,
   "id": "e5c44ab6-4f02-46d9-95c2-725e4652a54e",
   "metadata": {},
   "outputs": [
    {
     "name": "stdout",
     "output_type": "stream",
     "text": [
      "1. **“大争之世”概念**：\n",
      "   - 指全球秩序发生根本性转变，从西方主导转向“东升西降”。\n",
      "   - 表现为新的国际格局、现代化模式、工业革命和全球治理。\n",
      "\n",
      "2. **全球秩序变化**：\n",
      "   - 国际格局：从西方主导转向“东升西降”，中国成为关键变量。\n",
      "   - 现代化模式：中国式现代化，与西方模式不同。\n",
      "   - 工业革命：第四次工业革命，中国有望在某些领域领先。\n",
      "   - 全球治理：从西方主导转向“中西共治”，中国提出全球安全倡议和“一带一路”倡议。\n",
      "\n",
      "3. **中国崛起原因**：\n",
      "   - 致力于工业化，将人口和土地资源转化为优势。\n",
      "   - 自强不息精神和包容性，坚持和平发展道路。\n",
      "\n",
      "4. **中美关系**：\n",
      "   - 中美之间形成结构性矛盾，美国对华政策转向全面竞争。\n",
      "   - 中美关系短期内难以改善，长期竞争趋势明显。\n",
      "\n",
      "5. **中国应对策略**：\n",
      "   - 内部团结，保证经济发展，贯彻斗争精神。\n",
      "   - 积极参与全球治理，推动国际合作，维护国家利益。CPU times: user 73 ms, sys: 7.33 ms, total: 80.3 ms\n",
      "Wall time: 4.23 s\n"
     ]
    }
   ],
   "source": [
    "%%time\n",
    "\n",
    "stream = client.chat.completions.create(\n",
    "  model=\"glm-4-flash\",\n",
    "  max_tokens=5000,\n",
    "  messages=[\n",
    "    {\"role\": \"system\", \"content\": \"你是一个概括内容和提炼主要内容的助手。\"},\n",
    "    {\"role\": \"user\", \"content\": f\"文章内容：{content}\\n\\n主要讲了啥，详细归纳一下，形成要点列表。\"}\n",
    "  ],\n",
    "  stream=True,\n",
    ")\n",
    "\n",
    "for chunk in stream:\n",
    "    print(chunk.choices[0].delta.content or \"\", end=\"\")"
   ]
  },
  {
   "cell_type": "code",
   "execution_count": null,
   "id": "1c84e832-22fc-415b-ab4c-191ac6776de0",
   "metadata": {},
   "outputs": [],
   "source": []
  }
 ],
 "metadata": {
  "kernelspec": {
   "display_name": "Python 3 (ipykernel)",
   "language": "python",
   "name": "python3"
  },
  "language_info": {
   "codemirror_mode": {
    "name": "ipython",
    "version": 3
   },
   "file_extension": ".py",
   "mimetype": "text/x-python",
   "name": "python",
   "nbconvert_exporter": "python",
   "pygments_lexer": "ipython3",
   "version": "3.10.12"
  }
 },
 "nbformat": 4,
 "nbformat_minor": 5
}
