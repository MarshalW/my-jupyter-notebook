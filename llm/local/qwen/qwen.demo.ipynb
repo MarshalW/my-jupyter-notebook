{
 "cells": [
  {
   "cell_type": "markdown",
   "id": "55fda4ed-b4d5-4fe7-ada1-4600bfadf669",
   "metadata": {},
   "source": [
    "# Qwen 基本示例\n",
    "\n",
    "## 加载模型"
   ]
  },
  {
   "cell_type": "code",
   "execution_count": 1,
   "id": "24700e6b-d58f-480e-966e-39f0f77f0979",
   "metadata": {},
   "outputs": [
    {
     "name": "stderr",
     "output_type": "stream",
     "text": [
      "Try importing flash-attention for faster inference...\n",
      "Warning: import flash_attn rotary fail, please install FlashAttention rotary to get higher efficiency https://github.com/Dao-AILab/flash-attention/tree/main/csrc/rotary\n",
      "Warning: import flash_attn rms_norm fail, please install FlashAttention layer_norm to get higher efficiency https://github.com/Dao-AILab/flash-attention/tree/main/csrc/layer_norm\n",
      "Warning: import flash_attn fail, please install FlashAttention to get higher efficiency https://github.com/Dao-AILab/flash-attention\n"
     ]
    },
    {
     "name": "stdout",
     "output_type": "stream",
     "text": [
      "Load OK.\n"
     ]
    }
   ],
   "source": [
    "from transformers import AutoTokenizer, AutoModelForCausalLM\n",
    "\n",
    "model_path=\"/models/Qwen-1_8B-Chat-Int4\"\n",
    "\n",
    "tokenizer = AutoTokenizer.from_pretrained(model_path, revision='master', trust_remote_code=True)\n",
    "model = AutoModelForCausalLM.from_pretrained(\n",
    "    model_path, revision='master',\n",
    "    device_map=\"auto\",\n",
    "    trust_remote_code=True\n",
    ").eval()\n",
    "\n",
    "print ('Load OK.')"
   ]
  },
  {
   "cell_type": "markdown",
   "id": "d4aff88e-0121-4851-9648-a39794ceb079",
   "metadata": {},
   "source": [
    "## 最基本的聊天"
   ]
  },
  {
   "cell_type": "code",
   "execution_count": 2,
   "id": "8a26f48c-928c-4ee4-99be-54b84e40b1e1",
   "metadata": {},
   "outputs": [
    {
     "name": "stdout",
     "output_type": "stream",
     "text": [
      "你好！有什么我能帮助你的吗？\n"
     ]
    }
   ],
   "source": [
    "response, history = model.chat(tokenizer, \"你好\", history=None)\n",
    "print(response)"
   ]
  },
  {
   "cell_type": "code",
   "execution_count": 10,
   "id": "3ef53715-a51b-4979-a89c-974e904d0bfa",
   "metadata": {},
   "outputs": [
    {
     "name": "stdout",
     "output_type": "stream",
     "text": [
      "我们可以使用视觉、嗅觉和味觉来区别橘子和橙子。视觉上，橙子的皮比较厚，颜色通常是橙色或黄色；而橘子的皮薄，颜色可能是红色、绿色或黄色。气味上，橙子的气味非常浓郁，常常带有柑橘类水果特有的香味；而橘子的气味比较淡，可能还有些糖分的味道。\n",
      "\n",
      "口感上，橙子的肉质较硬，味道甜中带酸；而橘子的肉质较软，味道鲜美多汁。在食用时，还可以通过轻轻挤压或者品尝来区别这两种水果。\n"
     ]
    }
   ],
   "source": [
    "response, history = model.chat(tokenizer, \"怎么区分橘子和橙子\", history=None)\n",
    "print(response)"
   ]
  },
  {
   "cell_type": "markdown",
   "id": "c36c6506-f033-4531-9d17-a6bd8d8d52f0",
   "metadata": {},
   "source": [
    "## 流式输出"
   ]
  },
  {
   "cell_type": "code",
   "execution_count": 13,
   "id": "67d27292-39a5-4b5d-a4d9-b7228a6018e6",
   "metadata": {},
   "outputs": [
    {
     "name": "stdout",
     "output_type": "stream",
     "text": [
      "以下是一些常见的电磁学内容：\n",
      "\n",
      "1. 电场和磁场的基本概念：电场是由于带电粒子或电流产生的力场，而磁场则是由磁体产生的力场。\n",
      "\n",
      "2. 波粒二象性：电磁学研究了光和电磁波的性质，包括其产生、传播和吸收的过程。\n",
      "\n",
      "3. 基本力学：电磁学研究了物质在空间中的运动规律，包括速度、加速度和位移等。\n",
      "\n",
      "4. 电磁场和电磁波的描述：电磁场是由变化的电场和磁场组成的。电磁波是由电磁场波动形成的，并具有波长、频率和速度。\n",
      "\n",
      "5. 静电力和电磁感应：静电力是两个点之间相互吸引的力，而电磁感应则是电子或其他离子在磁场中产生电动势的现象。\n",
      "\n",
      "6. 能量转换和传递：电磁学研究了能量从一种形式转化为另一种形式的过程，以及能量如何通过电路进行传输。\n",
      "\n",
      "7. 磁阻定律：电磁学研究了当电阻器被激励时，它会产生一个输出电压，这个输入电压与电阻器的阻值成反比。\n",
      "\n",
      "8. 安培环路定理：安培环路定理是描述交变电流中电阻产生的功率与电源电压的关系。\n",
      "\n",
      "9. 电磁场的量子化：电磁场可以表现出微观粒子的行为，这被称为量子化的电磁学。\n",
      "\n",
      "以上只是一部分基本的电磁学内容，实际上电磁学涉及的内容远不止这些。\n",
      "\n",
      "耗时：17.3813 秒\n"
     ]
    }
   ],
   "source": [
    "import time\n",
    "\n",
    "# 记录开始时间\n",
    "start_time = time.time()\n",
    "\n",
    "past_key_values, history = None, []\n",
    "current_length = 0\n",
    "\n",
    "question=\"电磁学有哪些主要内容，列表说明\"\n",
    "\n",
    "for response in model.chat_stream(tokenizer=tokenizer, \n",
    "                                  query=question, \n",
    "                                  temperature=1,\n",
    "                                  history=None):\n",
    "    print(response[current_length:], end=\"\", flush=True)\n",
    "    current_length = len(response)\n",
    "\n",
    "print(\"\")\n",
    "\n",
    "# 记录结束时间\n",
    "end_time = time.time()\n",
    "\n",
    "# 计算执行时间\n",
    "elapsed_time = end_time - start_time\n",
    "\n",
    "print(\"\")\n",
    "print(f\"耗时：{elapsed_time:.4f} 秒\")"
   ]
  },
  {
   "cell_type": "code",
   "execution_count": null,
   "id": "a05ff2de-00dc-48ac-aa33-eb3b826f9b68",
   "metadata": {},
   "outputs": [],
   "source": []
  },
  {
   "cell_type": "code",
   "execution_count": null,
   "id": "d426240b-a2ed-4cc9-b190-16a4127b1c63",
   "metadata": {},
   "outputs": [],
   "source": []
  }
 ],
 "metadata": {
  "kernelspec": {
   "display_name": "Python 3 (ipykernel)",
   "language": "python",
   "name": "python3"
  },
  "language_info": {
   "codemirror_mode": {
    "name": "ipython",
    "version": 3
   },
   "file_extension": ".py",
   "mimetype": "text/x-python",
   "name": "python",
   "nbconvert_exporter": "python",
   "pygments_lexer": "ipython3",
   "version": "3.10.12"
  }
 },
 "nbformat": 4,
 "nbformat_minor": 5
}
