{
 "cells": [
  {
   "cell_type": "markdown",
   "id": "40dafda0-3ded-4fd5-be07-c6f3ad37470b",
   "metadata": {},
   "source": [
    "# 评估查询结果"
   ]
  },
  {
   "cell_type": "markdown",
   "id": "6e52cb41-c22e-4bc7-a5e9-01dbfb1804bc",
   "metadata": {},
   "source": [
    "## 数据准备"
   ]
  },
  {
   "cell_type": "code",
   "execution_count": 1,
   "id": "a6a1d10f-4e34-4948-81e8-619ca2bb71d8",
   "metadata": {},
   "outputs": [
    {
     "name": "stdout",
     "output_type": "stream",
     "text": [
      "CPU times: user 17 ms, sys: 7.47 ms, total: 24.5 ms\n",
      "Wall time: 3.74 s\n"
     ]
    }
   ],
   "source": [
    "%%time\n",
    "%%capture\n",
    "\n",
    "%env DATA_PATH=simple-data\n",
    "!rm -rf $DATA_PATH && mkdir -p $DATA_PATH\n",
    "\n",
    "import os\n",
    "data_path = os.getenv('DATA_PATH')\n",
    "\n",
    "!pip install trafilatura"
   ]
  },
  {
   "cell_type": "code",
   "execution_count": 2,
   "id": "100e79a6-37e8-45b9-83c1-c1fffd67051d",
   "metadata": {},
   "outputs": [
    {
     "name": "stdout",
     "output_type": "stream",
     "text": [
      "CPU times: user 3.38 s, sys: 367 ms, total: 3.75 s\n",
      "Wall time: 3.65 s\n"
     ]
    },
    {
     "data": {
      "text/plain": [
       "3"
      ]
     },
     "execution_count": 2,
     "metadata": {},
     "output_type": "execute_result"
    }
   ],
   "source": [
    "%%time\n",
    "\n",
    "from llama_index.readers.web import TrafilaturaWebReader\n",
    "\n",
    "items=[\n",
    "    \"颐和园\",\n",
    "    \"故宫\",\n",
    "    \"北海公园\",\n",
    "]\n",
    "\n",
    "documents = TrafilaturaWebReader().load_data(\n",
    "    [ f\"https://baike.baidu.com/item/{item}\" for item in items]\n",
    ")\n",
    "\n",
    "len(documents)"
   ]
  },
  {
   "cell_type": "code",
   "execution_count": 3,
   "id": "8013a500-1173-4eae-907b-31fb6d0ab0fc",
   "metadata": {},
   "outputs": [
    {
     "name": "stdout",
     "output_type": "stream",
     "text": [
      "CPU times: user 1.61 ms, sys: 0 ns, total: 1.61 ms\n",
      "Wall time: 1.47 ms\n"
     ]
    }
   ],
   "source": [
    "%%time\n",
    "\n",
    "import os\n",
    "\n",
    "documents_data=[[items[index], documents[index].text] for index,item in enumerate(items)]\n",
    "\n",
    "for data in documents_data:\n",
    "    with open(os.path.join(f'{data_path}', f\"{data[0]}.txt\"), \"w\", encoding=\"utf-8\") as file:\n",
    "        file.write(data[1])\n",
    "    "
   ]
  },
  {
   "cell_type": "markdown",
   "id": "4a2bffdd-1543-4c84-a6f3-c59bb4e51e47",
   "metadata": {},
   "source": [
    "## 模型准备"
   ]
  },
  {
   "cell_type": "code",
   "execution_count": 4,
   "id": "5528ad6a-76c6-4256-aa06-7227d2df6581",
   "metadata": {},
   "outputs": [
    {
     "name": "stdout",
     "output_type": "stream",
     "text": [
      "CPU times: user 931 ms, sys: 31.9 ms, total: 962 ms\n",
      "Wall time: 962 ms\n"
     ]
    }
   ],
   "source": [
    "%%time\n",
    "\n",
    "from llama_index.llms.openai_like import OpenAILike\n",
    "from llama_index.embeddings.ollama import OllamaEmbedding\n",
    "from llama_index.core import Settings\n",
    "\n",
    "Settings.llm =OpenAILike(\n",
    "    model=\"qwen2\", \n",
    "    api_base=\"http://monkey:11434/v1\", \n",
    "    api_key=\"ollama\",\n",
    "    is_chat_model=True,\n",
    "    temperature=0.1,\n",
    "    request_timeout=60.0\n",
    ")\n",
    "\n",
    "Settings.embed_model =OllamaEmbedding(\n",
    "    model_name=\"quentinz/bge-large-zh-v1.5\",\n",
    "    base_url=\"http://monkey:11434\",\n",
    "    ollama_additional_kwargs={\"mirostat\": 0}, # -mirostat N 使用 Mirostat 采样。\n",
    ")\n",
    "\n",
    "Settings.chunk_size=128\n",
    "Settings.chunk_overlap=10\n",
    "\n",
    "\n",
    "evaluating_llm=OpenAILike(\n",
    "    model='gpt-4-turbo', \n",
    "    api_base=\"http://ape:3000/v1\", \n",
    "    api_key=\"sk-bJP6QSnUfjAYeYeE505d3eBf63A643BeB0B8E350Df9b7750\",\n",
    "    is_chat_model=True,\n",
    "    temperature=0.1,\n",
    "    request_timeout=60.0\n",
    ")"
   ]
  },
  {
   "cell_type": "markdown",
   "id": "8b51d5fb-61c1-453a-9681-a07fbbc76737",
   "metadata": {},
   "source": [
    "## 嵌套异步的支持"
   ]
  },
  {
   "cell_type": "code",
   "execution_count": 5,
   "id": "6e739816-8c07-46f0-92bf-b1b18d6b885c",
   "metadata": {},
   "outputs": [
    {
     "name": "stdout",
     "output_type": "stream",
     "text": [
      "CPU times: user 868 µs, sys: 83 µs, total: 951 µs\n",
      "Wall time: 740 µs\n"
     ]
    }
   ],
   "source": [
    "%%time\n",
    "\n",
    "import nest_asyncio\n",
    "nest_asyncio.apply()"
   ]
  },
  {
   "cell_type": "markdown",
   "id": "7f5c0e2a-0a32-4ed3-8193-e52bb25228a8",
   "metadata": {},
   "source": [
    "## 生成索引"
   ]
  },
  {
   "cell_type": "code",
   "execution_count": 6,
   "id": "420af63e-e9f5-43c1-a228-bd466b2ffa5b",
   "metadata": {},
   "outputs": [
    {
     "name": "stdout",
     "output_type": "stream",
     "text": [
      "CPU times: user 2.27 s, sys: 154 ms, total: 2.43 s\n",
      "Wall time: 48.1 s\n"
     ]
    }
   ],
   "source": [
    "%%time\n",
    "\n",
    "from llama_index.core import VectorStoreIndex\n",
    "\n",
    "index = VectorStoreIndex.from_documents(documents=documents)"
   ]
  },
  {
   "cell_type": "markdown",
   "id": "e8300a2d-3c46-41e0-8e3c-950e369e6386",
   "metadata": {},
   "source": [
    "## 使用索引查询"
   ]
  },
  {
   "cell_type": "code",
   "execution_count": 7,
   "id": "7888a575-03f5-4e69-a139-46be708d8247",
   "metadata": {},
   "outputs": [
    {
     "name": "stdout",
     "output_type": "stream",
     "text": [
      "CPU times: user 104 ms, sys: 8.34 ms, total: 113 ms\n",
      "Wall time: 1.63 s\n"
     ]
    },
    {
     "data": {
      "text/plain": [
       "'北海公园位于北京市西城区文津街1号。'"
      ]
     },
     "execution_count": 7,
     "metadata": {},
     "output_type": "execute_result"
    }
   ],
   "source": [
    "%%time\n",
    "\n",
    "query_engine = index.as_query_engine()\n",
    "response = query_engine.query(\n",
    "    \"北海公园在哪儿?\"\n",
    ")\n",
    "response.response"
   ]
  },
  {
   "cell_type": "markdown",
   "id": "736b5d70-c59d-4089-9d61-a4122982c616",
   "metadata": {},
   "source": [
    "## 对查询结果的评估"
   ]
  },
  {
   "cell_type": "code",
   "execution_count": 8,
   "id": "6672edb1-3749-4b41-a4a2-b24cfc15756f",
   "metadata": {},
   "outputs": [
    {
     "name": "stdout",
     "output_type": "stream",
     "text": [
      "True\n",
      "CPU times: user 88.1 ms, sys: 0 ns, total: 88.1 ms\n",
      "Wall time: 2.7 s\n"
     ]
    }
   ],
   "source": [
    "%%time\n",
    "\n",
    "from llama_index.core.evaluation import FaithfulnessEvaluator\n",
    "\n",
    "evaluator = FaithfulnessEvaluator(llm=evaluating_llm)\n",
    "\n",
    "query_engine = index.as_query_engine()\n",
    "response = query_engine.query(\n",
    "    \"北海公园在哪儿?\"\n",
    ")\n",
    "\n",
    "eval_result = evaluator.evaluate_response(response=response)\n",
    "print(str(eval_result.passing))"
   ]
  },
  {
   "cell_type": "code",
   "execution_count": 9,
   "id": "e1ae7590-bf96-44d5-aa6c-45995b45c51d",
   "metadata": {},
   "outputs": [
    {
     "data": {
      "text/plain": [
       "EvaluationResult(query=None, contexts=['收藏\\n查看我的收藏\\n0有用+1\\n北海公园（Beihai Park），位于北京市西城区文津街1号，东邻景山公园，南濒中南海，北连什刹海，全园占地68.2万平方米（其中水域面积38.9万平方米，陆地面积29.3万平方米），1925年开放为公园。', '北海公园\\n- 外文名\\n- Beihai Park\\n- 地理位置\\n- 北京市西城区文津街1号\\n- 气候条件\\n- 温带季风气候\\n- 开放时间\\n- 4月1日-10月31日 06:00-21:00；11月1日-次年3月31日 06:30-20:00 [1]\\n- 景点级别\\n- AAAA级\\n-'], response='北海公园位于北京市西城区文津街1号。', passing=True, feedback='YES', score=1.0, pairwise_source=None, invalid_result=False, invalid_reason=None)"
      ]
     },
     "execution_count": 9,
     "metadata": {},
     "output_type": "execute_result"
    }
   ],
   "source": [
    "eval_result"
   ]
  },
  {
   "cell_type": "markdown",
   "id": "22e82b7e-654d-4984-b49a-21c005e69607",
   "metadata": {},
   "source": [
    "## 对检索结果的评估"
   ]
  },
  {
   "cell_type": "code",
   "execution_count": 18,
   "id": "3c4fee36-8575-4a1c-84ce-251c6e964ec3",
   "metadata": {},
   "outputs": [
    {
     "name": "stdout",
     "output_type": "stream",
     "text": [
      "CPU times: user 19.6 ms, sys: 277 µs, total: 19.8 ms\n",
      "Wall time: 125 ms\n"
     ]
    }
   ],
   "source": [
    "%%time\n",
    "\n",
    "from llama_index.core.evaluation import RetrieverEvaluator\n",
    "\n",
    "retriever = index.as_retriever(similarity_top_k=2)\n",
    "\n",
    "retriever_evaluator = RetrieverEvaluator.from_metric_names(\n",
    "    [\"mrr\", \"hit_rate\"], retriever=retriever\n",
    ")\n",
    "\n",
    "eval_result=retriever_evaluator.evaluate(\n",
    "    query=\"北海公园在哪儿?\", \n",
    "    expected_ids=[\n",
    "        \"cdd17ca3-a9d6-4ef6-8ad2-5697858fd9cd\", \n",
    "    ],\n",
    ")"
   ]
  },
  {
   "cell_type": "code",
   "execution_count": 19,
   "id": "78a4491e-0429-43c5-9e54-6a9e53907384",
   "metadata": {},
   "outputs": [
    {
     "data": {
      "text/plain": [
       "RetrievalEvalResult(query='北海公园在哪儿?', expected_ids=['cdd17ca3-a9d6-4ef6-8ad2-5697858fd9cd'], expected_texts=None, retrieved_ids=['cdd17ca3-a9d6-4ef6-8ad2-5697858fd9cd', 'c2a4da8b-4bfb-4902-a8d8-26aec1fe445e'], retrieved_texts=['收藏\\n查看我的收藏\\n0有用+1\\n北海公园（Beihai Park），位于北京市西城区文津街1号，东邻景山公园，南濒中南海，北连什刹海，全园占地68.2万平方米（其中水域面积38.9万平方米，陆地面积29.3万平方米），1925年开放为公园。', '北海公园\\n- 外文名\\n- Beihai Park\\n- 地理位置\\n- 北京市西城区文津街1号\\n- 气候条件\\n- 温带季风气候\\n- 开放时间\\n- 4月1日-10月31日 06:00-21:00；11月1日-次年3月31日 06:30-20:00 [1]\\n- 景点级别\\n- AAAA级\\n-'], mode=<RetrievalEvalMode.TEXT: 'text'>, metric_dict={'mrr': RetrievalMetricResult(score=1.0, metadata={}), 'hit_rate': RetrievalMetricResult(score=1.0, metadata={})})"
      ]
     },
     "execution_count": 19,
     "metadata": {},
     "output_type": "execute_result"
    }
   ],
   "source": [
    "eval_result"
   ]
  },
  {
   "cell_type": "code",
   "execution_count": 20,
   "id": "5ae44ce3-a542-46fc-b664-6447b36a1c30",
   "metadata": {},
   "outputs": [
    {
     "data": {
      "text/plain": [
       "'收藏\\n查看我的收藏\\n0有用+1\\n北海公园（Beihai Park），位于北京市西城区文津街1号，东邻景山公园，南濒中南海，北连什刹海，全园占地68.2万平方米（其中水域面积38.9万平方米，陆地面积29.3万平方米），1925年开放为公园。'"
      ]
     },
     "execution_count": 20,
     "metadata": {},
     "output_type": "execute_result"
    }
   ],
   "source": [
    "eval_result.retrieved_texts[0]"
   ]
  },
  {
   "cell_type": "code",
   "execution_count": 21,
   "id": "88c9be52-3c2d-4b08-9f91-9a23d22fe1e7",
   "metadata": {},
   "outputs": [
    {
     "data": {
      "text/plain": [
       "1.0"
      ]
     },
     "execution_count": 21,
     "metadata": {},
     "output_type": "execute_result"
    }
   ],
   "source": [
    "eval_result.metric_dict['hit_rate'].score"
   ]
  }
 ],
 "metadata": {
  "kernelspec": {
   "display_name": "Python 3 (ipykernel)",
   "language": "python",
   "name": "python3"
  },
  "language_info": {
   "codemirror_mode": {
    "name": "ipython",
    "version": 3
   },
   "file_extension": ".py",
   "mimetype": "text/x-python",
   "name": "python",
   "nbconvert_exporter": "python",
   "pygments_lexer": "ipython3",
   "version": "3.10.12"
  }
 },
 "nbformat": 4,
 "nbformat_minor": 5
}
