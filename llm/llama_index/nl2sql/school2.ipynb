{
 "cells": [
  {
   "cell_type": "markdown",
   "id": "0d55ef03-6646-4aee-8170-c837242d69a3",
   "metadata": {},
   "source": [
    "# 学校信息查询"
   ]
  },
  {
   "cell_type": "markdown",
   "id": "cb05e5cd-ebaa-4695-887c-e276e716dc1d",
   "metadata": {},
   "source": [
    "初步结论，nl2sql能够满足一些场景的使用。\n",
    "\n",
    "为了能让本地模型回答正确，需要调整提示词，使之能稳定的输出正确答案。"
   ]
  },
  {
   "cell_type": "markdown",
   "id": "32243a8a-1dd9-4231-a858-34f935e4f9ea",
   "metadata": {},
   "source": [
    "## 准备"
   ]
  },
  {
   "cell_type": "code",
   "execution_count": 1,
   "id": "923cebd7-d284-4d0d-93ef-84636a1448b4",
   "metadata": {},
   "outputs": [
    {
     "name": "stdout",
     "output_type": "stream",
     "text": [
      "CPU times: user 3.4 s, sys: 400 ms, total: 3.8 s\n",
      "Wall time: 3.57 s\n"
     ]
    }
   ],
   "source": [
    "%%time\n",
    "\n",
    "# 加载llm和embeddings\n",
    "%run ../utils2.py\n",
    "\n",
    "from llama_index.core import Settings\n",
    "\n",
    "Settings.llm=get_llm()\n",
    "Settings.embed_model = get_embedding()"
   ]
  },
  {
   "cell_type": "code",
   "execution_count": 2,
   "id": "c42618fa-0696-43cd-a8a3-1c1e8982bc09",
   "metadata": {},
   "outputs": [
    {
     "name": "stdout",
     "output_type": "stream",
     "text": [
      "CPU times: user 8.84 ms, sys: 101 µs, total: 8.94 ms\n",
      "Wall time: 11.2 ms\n"
     ]
    }
   ],
   "source": [
    "%%time\n",
    "\n",
    "# 建立连接和表\n",
    "from sqlalchemy import (\n",
    "    create_engine,\n",
    "    MetaData,\n",
    "    Table,\n",
    "    Column,\n",
    "    String,\n",
    "    Integer,\n",
    "    select,\n",
    ")\n",
    "\n",
    "engine = create_engine(\"sqlite:///:memory:\")\n",
    "metadata_obj = MetaData()\n",
    "\n",
    "# create city SQL table\n",
    "table_name = \"school_info\"\n",
    "school_info_table = Table(\n",
    "    table_name,\n",
    "    metadata_obj,\n",
    "    Column(\"school_name\", String(200), primary_key=True),\n",
    "    Column(\"students_enrolled\", Integer,nullable=False),\n",
    ")\n",
    "metadata_obj.create_all(engine)"
   ]
  },
  {
   "cell_type": "code",
   "execution_count": 3,
   "id": "e46f8a4e-2271-4e64-bb90-e8fd5aeabd16",
   "metadata": {},
   "outputs": [
    {
     "name": "stdout",
     "output_type": "stream",
     "text": [
      "CPU times: user 5.05 ms, sys: 130 µs, total: 5.18 ms\n",
      "Wall time: 4.49 ms\n"
     ]
    }
   ],
   "source": [
    "%%time\n",
    "\n",
    "from llama_index.core import SQLDatabase\n",
    "\n",
    "sql_database = SQLDatabase(engine, include_tables=[\"school_info\"])"
   ]
  },
  {
   "cell_type": "code",
   "execution_count": 4,
   "id": "a6912af8-beb7-4345-845a-e4766c4bf0cf",
   "metadata": {},
   "outputs": [
    {
     "name": "stdout",
     "output_type": "stream",
     "text": [
      "CPU times: user 3.12 ms, sys: 0 ns, total: 3.12 ms\n",
      "Wall time: 2.88 ms\n"
     ]
    }
   ],
   "source": [
    "%%time\n",
    "\n",
    "from sqlalchemy import insert\n",
    "\n",
    "rows = [\n",
    "    {\"school_name\": \"北京市第八十中学\", \"students_enrolled\": 260},\n",
    "    {\"school_name\": \"北京市陈经纶中学\", \"students_enrolled\": 279},\n",
    "    {\"school_name\": \"北京市日坛中学\", \"students_enrolled\": 403},\n",
    "    {\"school_name\": \"中国人民大学附属中学朝阳学校\", \"students_enrolled\": 247},\n",
    "    {\"school_name\": \"北京工业大学附属中学\", \"students_enrolled\": 418},\n",
    "    {\"school_name\": \"北京中学\", \"students_enrolled\": 121},\n",
    "]\n",
    "for row in rows:\n",
    "    stmt = insert(school_info_table).values(**row)\n",
    "    with engine.begin() as connection:\n",
    "        cursor = connection.execute(stmt)"
   ]
  },
  {
   "cell_type": "code",
   "execution_count": 5,
   "id": "e47c407c-d998-4fee-8043-789f46c4dcac",
   "metadata": {},
   "outputs": [
    {
     "name": "stdout",
     "output_type": "stream",
     "text": [
      "CPU times: user 1.54 ms, sys: 0 ns, total: 1.54 ms\n",
      "Wall time: 1.37 ms\n"
     ]
    },
    {
     "data": {
      "text/html": [
       "<div>\n",
       "<style scoped>\n",
       "    .dataframe tbody tr th:only-of-type {\n",
       "        vertical-align: middle;\n",
       "    }\n",
       "\n",
       "    .dataframe tbody tr th {\n",
       "        vertical-align: top;\n",
       "    }\n",
       "\n",
       "    .dataframe thead th {\n",
       "        text-align: right;\n",
       "    }\n",
       "</style>\n",
       "<table border=\"1\" class=\"dataframe\">\n",
       "  <thead>\n",
       "    <tr style=\"text-align: right;\">\n",
       "      <th></th>\n",
       "      <th>school_name</th>\n",
       "      <th>students_enrolled</th>\n",
       "    </tr>\n",
       "  </thead>\n",
       "  <tbody>\n",
       "    <tr>\n",
       "      <th>0</th>\n",
       "      <td>北京市第八十中学</td>\n",
       "      <td>260</td>\n",
       "    </tr>\n",
       "    <tr>\n",
       "      <th>1</th>\n",
       "      <td>北京市陈经纶中学</td>\n",
       "      <td>279</td>\n",
       "    </tr>\n",
       "    <tr>\n",
       "      <th>2</th>\n",
       "      <td>北京市日坛中学</td>\n",
       "      <td>403</td>\n",
       "    </tr>\n",
       "    <tr>\n",
       "      <th>3</th>\n",
       "      <td>中国人民大学附属中学朝阳学校</td>\n",
       "      <td>247</td>\n",
       "    </tr>\n",
       "    <tr>\n",
       "      <th>4</th>\n",
       "      <td>北京工业大学附属中学</td>\n",
       "      <td>418</td>\n",
       "    </tr>\n",
       "  </tbody>\n",
       "</table>\n",
       "</div>"
      ],
      "text/plain": [
       "      school_name  students_enrolled\n",
       "0        北京市第八十中学                260\n",
       "1        北京市陈经纶中学                279\n",
       "2         北京市日坛中学                403\n",
       "3  中国人民大学附属中学朝阳学校                247\n",
       "4      北京工业大学附属中学                418"
      ]
     },
     "execution_count": 5,
     "metadata": {},
     "output_type": "execute_result"
    }
   ],
   "source": [
    "%%time\n",
    "\n",
    "import pandas as pd\n",
    "\n",
    "df = pd.read_sql_query(\"SELECT * from school_info\", engine)\n",
    "df.head()"
   ]
  },
  {
   "cell_type": "code",
   "execution_count": 6,
   "id": "0860949c-1f2c-4162-a791-4f871bc506b2",
   "metadata": {},
   "outputs": [
    {
     "name": "stdout",
     "output_type": "stream",
     "text": [
      "CPU times: user 229 µs, sys: 0 ns, total: 229 µs\n",
      "Wall time: 232 µs\n"
     ]
    }
   ],
   "source": [
    "%%time\n",
    "\n",
    "import logging\n",
    "import sys\n",
    "\n",
    "# logging.basicConfig(stream=sys.stdout, level=logging.DEBUG)\n",
    "logging.basicConfig(stream=sys.stdout, level=logging.INFO)\n",
    "logging.getLogger().addHandler(logging.StreamHandler(stream=sys.stdout))"
   ]
  },
  {
   "cell_type": "markdown",
   "id": "93cbd985-4739-452a-9806-10351515e70c",
   "metadata": {},
   "source": [
    "## 基本查询"
   ]
  },
  {
   "cell_type": "markdown",
   "id": "e3d68c3b-e10a-4a42-b314-7c08e333a6d4",
   "metadata": {},
   "source": [
    "### 有效的查询用例"
   ]
  },
  {
   "cell_type": "code",
   "execution_count": 7,
   "id": "2210a9e2-8203-417c-b80c-64bf573a4068",
   "metadata": {},
   "outputs": [
    {
     "name": "stdout",
     "output_type": "stream",
     "text": [
      "INFO:llama_index.core.indices.struct_store.sql_retriever:> Table desc str: Table 'school_info' has columns: school_name (VARCHAR(200)), students_enrolled (INTEGER), and foreign keys: .\n",
      "> Table desc str: Table 'school_info' has columns: school_name (VARCHAR(200)), students_enrolled (INTEGER), and foreign keys: .\n",
      "INFO:httpx:HTTP Request: POST http://192.168.0.72:3000/v1/chat/completions \"HTTP/1.1 200 OK\"\n",
      "HTTP Request: POST http://192.168.0.72:3000/v1/chat/completions \"HTTP/1.1 200 OK\"\n",
      "INFO:httpx:HTTP Request: POST http://192.168.0.72:3000/v1/chat/completions \"HTTP/1.1 200 OK\"\n",
      "HTTP Request: POST http://192.168.0.72:3000/v1/chat/completions \"HTTP/1.1 200 OK\"\n",
      "CPU times: user 353 ms, sys: 23 ms, total: 376 ms\n",
      "Wall time: 4.44 s\n"
     ]
    },
    {
     "data": {
      "text/plain": [
       "'招生人数最多的学校是北京工业大学附属中学，共有418名学生。'"
      ]
     },
     "execution_count": 7,
     "metadata": {},
     "output_type": "execute_result"
    }
   ],
   "source": [
    "%%time\n",
    "\n",
    "from llama_index.core.query_engine import NLSQLTableQueryEngine\n",
    "\n",
    "query_engine = NLSQLTableQueryEngine(\n",
    "    sql_database=sql_database, tables=[\"school_info\"],\n",
    ")\n",
    "query_str = \"招生最多的是哪个学校?\"\n",
    "response = query_engine.query(query_str)\n",
    "\n",
    "response.response"
   ]
  },
  {
   "cell_type": "code",
   "execution_count": 8,
   "id": "fa6b6967-3fc4-4288-95a8-66f1a03eb864",
   "metadata": {},
   "outputs": [
    {
     "data": {
      "text/plain": [
       "'北京市第八十中学的招生人数为260人。'"
      ]
     },
     "execution_count": 8,
     "metadata": {},
     "output_type": "execute_result"
    }
   ],
   "source": [
    "query_str = \"北京中学招多少?\"\n",
    "response = query_engine.query(query_str)\n",
    "\n",
    "response.response"
   ]
  },
  {
   "cell_type": "markdown",
   "id": "bd09f55e-f474-49dc-96ba-92f8f48eba3e",
   "metadata": {},
   "source": [
    "### 不能模糊查询的解决办法 - 自定义提示词"
   ]
  },
  {
   "cell_type": "markdown",
   "id": "ae1a51bb-e2a6-459b-aa4b-0137fba8c81d",
   "metadata": {},
   "source": [
    "#### 本地模型qwen1.5:7b有效 -- qwen2-7b无效"
   ]
  },
  {
   "cell_type": "code",
   "execution_count": 10,
   "id": "3d2befb9-cfc0-432d-96c3-93e030838f9c",
   "metadata": {},
   "outputs": [
    {
     "data": {
      "text/plain": [
       "'对不起，当前查询结果中没有提供关于\"陈经纶\"招收学生的具体数字。可能需要进一步的信息或者确认学校名称的准确性。'"
      ]
     },
     "execution_count": 10,
     "metadata": {},
     "output_type": "execute_result"
    }
   ],
   "source": [
    "query_str = \"陈经纶招多少?\"\n",
    "response = query_engine.query(query_str)\n",
    "\n",
    "response.response"
   ]
  },
  {
   "cell_type": "code",
   "execution_count": 11,
   "id": "2a07cb92-1c50-4cbf-837f-f5135b00ef75",
   "metadata": {},
   "outputs": [
    {
     "name": "stdout",
     "output_type": "stream",
     "text": [
      "CPU times: user 143 µs, sys: 41 µs, total: 184 µs\n",
      "Wall time: 189 µs\n"
     ]
    },
    {
     "data": {
      "text/plain": [
       "'Given an input question, first create a syntactically correct {dialect} query to run, then look at the results of the query and return the answer. You can order the results by a relevant column to return the most interesting examples in the database.\\n\\nNever query for all the columns from a specific table, only ask for a few relevant columns given the question.\\n\\nPay attention to use only the column names that you can see in the schema description. Be careful to not query for columns that do not exist. Pay attention to which column is in which table. Also, qualify column names with the table name when needed. You are required to use the following format, each taking one line:\\n\\nQuestion: Question here\\nSQLQuery: SQL Query to run\\nSQLResult: Result of the SQLQuery\\nAnswer: Final answer here\\n\\nOnly use tables listed below.\\n{schema}\\n\\nQuestion: {query_str}\\nSQLQuery: '"
      ]
     },
     "execution_count": 11,
     "metadata": {},
     "output_type": "execute_result"
    }
   ],
   "source": [
    "%%time\n",
    "\n",
    "from llama_index.core import PromptTemplate\n",
    "\n",
    "prompts = query_engine.get_prompts()\n",
    "prompts['sql_retriever:text_to_sql_prompt'].template"
   ]
  },
  {
   "cell_type": "code",
   "execution_count": 12,
   "id": "9e7e4276-ce94-47a1-a550-f915ffc0d845",
   "metadata": {},
   "outputs": [
    {
     "name": "stdout",
     "output_type": "stream",
     "text": [
      "CPU times: user 96 µs, sys: 0 ns, total: 96 µs\n",
      "Wall time: 99.2 µs\n"
     ]
    }
   ],
   "source": [
    "%%time\n",
    "\n",
    "old_prompt_str=prompts['sql_retriever:text_to_sql_prompt'].template\n",
    "new_prompt = PromptTemplate(\n",
    "    f\"{old_prompt_str}\"\n",
    "    \"关键字的查询使用like做全模糊查询，比如 school_name like '%keyword%'\\n\"\n",
    "    \"查询学校名称时，使用模糊查询\"\n",
    ")\n",
    "query_engine.update_prompts({\"sql_retriever:text_to_sql_prompt\": new_prompt})"
   ]
  },
  {
   "cell_type": "code",
   "execution_count": 13,
   "id": "98a8a1f3-5dbf-40f4-8784-47af587dca7a",
   "metadata": {},
   "outputs": [
    {
     "data": {
      "text/plain": [
       "'对不起，当前查询结果中无法提供具体的招生人数。请尝试其他关键词或详细信息进行搜索。'"
      ]
     },
     "execution_count": 13,
     "metadata": {},
     "output_type": "execute_result"
    }
   ],
   "source": [
    "query_str = \"陈经纶招多少?\"\n",
    "response = query_engine.query(query_str)\n",
    "\n",
    "response.response"
   ]
  },
  {
   "cell_type": "code",
   "execution_count": 14,
   "id": "2370587a-1c73-424f-b326-7744fac4dd78",
   "metadata": {},
   "outputs": [
    {
     "name": "stdout",
     "output_type": "stream",
     "text": [
      "CPU times: user 60.6 ms, sys: 0 ns, total: 60.6 ms\n",
      "Wall time: 12.9 s\n"
     ]
    },
    {
     "data": {
      "text/plain": [
       "'陈经纶学校招收了279名学生。'"
      ]
     },
     "execution_count": 14,
     "metadata": {},
     "output_type": "execute_result"
    }
   ],
   "source": [
    "%%time\n",
    "\n",
    "query_engine = NLSQLTableQueryEngine(\n",
    "    sql_database=sql_database,\n",
    "    tables=[\"school_info\"],\n",
    "    llm=get_llm('qwen:14b')\n",
    ")\n",
    "\n",
    "old_prompt_str=prompts['sql_retriever:text_to_sql_prompt'].template\n",
    "new_prompt = PromptTemplate(\n",
    "    f\"{old_prompt_str}\"\n",
    "    # \"关键字的查询使用like做全模糊查询，比如 school_name like '%keyword%'\\n\"\n",
    "    \"查询学校名称时，使用模糊查询\"\n",
    ")\n",
    "query_engine.update_prompts({\"sql_retriever:text_to_sql_prompt\": new_prompt})\n",
    "\n",
    "query_str = \"陈经纶招多少?\"\n",
    "response = query_engine.query(query_str)\n",
    "\n",
    "response.response"
   ]
  },
  {
   "cell_type": "markdown",
   "id": "627ef81e-662e-42b5-9d5b-6ea2f02bf4e5",
   "metadata": {},
   "source": [
    "#### 部分云端模型是可以的 - 文心一言不行"
   ]
  },
  {
   "cell_type": "code",
   "execution_count": 15,
   "id": "c8c0d512-f6a2-4e8d-8760-1174540c39c9",
   "metadata": {},
   "outputs": [
    {
     "name": "stdout",
     "output_type": "stream",
     "text": [
      "CPU times: user 61.2 ms, sys: 0 ns, total: 61.2 ms\n",
      "Wall time: 3.8 s\n"
     ]
    },
    {
     "data": {
      "text/plain": [
       "'陈经纶学校的学生人数为279人。'"
      ]
     },
     "execution_count": 15,
     "metadata": {},
     "output_type": "execute_result"
    }
   ],
   "source": [
    "%%time\n",
    "\n",
    "query_engine = NLSQLTableQueryEngine(\n",
    "    sql_database=sql_database,\n",
    "    tables=[\"school_info\"],\n",
    "    llm=get_llm('qwen-turbo')\n",
    "    # llm=get_llm('glm-4')\n",
    "    # llm=get_llm('moonshot-v1-8k')\n",
    ")\n",
    "\n",
    "old_prompt_str=prompts['sql_retriever:text_to_sql_prompt'].template\n",
    "new_prompt = PromptTemplate(\n",
    "    f\"{old_prompt_str}\"\n",
    "    # \"关键字的查询使用like做全模糊查询，比如 school_name like '%keyword%'\\n\"\n",
    "    \"查询学校名称时，使用模糊查询\"\n",
    ")\n",
    "query_engine.update_prompts({\"sql_retriever:text_to_sql_prompt\": new_prompt})\n",
    "\n",
    "query_str = \"陈经纶招多少?\"\n",
    "response = query_engine.query(query_str)\n",
    "\n",
    "response.response"
   ]
  },
  {
   "cell_type": "markdown",
   "id": "b539010e-333d-4ce3-9d97-d4de78bb4ccc",
   "metadata": {},
   "source": [
    "### 基础查询的问题"
   ]
  },
  {
   "cell_type": "markdown",
   "id": "4c07e9d4-ea05-46c3-96b1-d72ad53446d7",
   "metadata": {},
   "source": [
    "- 无法流式输出\n",
    "- 只能用于管道或者组合使用"
   ]
  },
  {
   "cell_type": "markdown",
   "id": "47431573-8821-44d2-8ae8-41d4265dc23b",
   "metadata": {},
   "source": [
    "## 基于表索引的查询"
   ]
  },
  {
   "cell_type": "markdown",
   "id": "72033ad8-9071-40cf-99f1-9e386c2ba350",
   "metadata": {},
   "source": [
    "### 直接使用 NLSQLTableQueryEngine 的问题"
   ]
  },
  {
   "cell_type": "markdown",
   "id": "720cac52-dc26-476b-8cb6-8345d38ebec1",
   "metadata": {},
   "source": [
    "直接使用 NLSQLTableQueryEngine，当表模式过多时，会造成生成的提示词超过 LLM 限制。"
   ]
  },
  {
   "cell_type": "markdown",
   "id": "b2ee5a5a-e9df-46bb-8b94-ae6ed33a1c08",
   "metadata": {},
   "source": [
    "### 使用表索引的查询"
   ]
  },
  {
   "cell_type": "code",
   "execution_count": 16,
   "id": "872be76c-4a97-488a-b811-b7f8110f9689",
   "metadata": {},
   "outputs": [
    {
     "name": "stdout",
     "output_type": "stream",
     "text": [
      "CPU times: user 27.2 ms, sys: 0 ns, total: 27.2 ms\n",
      "Wall time: 6.58 s\n"
     ]
    },
    {
     "data": {
      "text/plain": [
       "'招生最多的是北京工业大学附属中学，招收了418名学生。'"
      ]
     },
     "execution_count": 16,
     "metadata": {},
     "output_type": "execute_result"
    }
   ],
   "source": [
    "%%time\n",
    "\n",
    "from llama_index.core.indices.struct_store.sql_query import (\n",
    "    SQLTableRetrieverQueryEngine,\n",
    ")\n",
    "from llama_index.core.objects import (\n",
    "    SQLTableNodeMapping,\n",
    "    ObjectIndex,\n",
    "    SQLTableSchema,\n",
    ")\n",
    "from llama_index.core import VectorStoreIndex\n",
    "\n",
    "table_node_mapping = SQLTableNodeMapping(sql_database)\n",
    "table_schema_objs = [\n",
    "    (SQLTableSchema(table_name=\"school_info\"))\n",
    "]\n",
    "\n",
    "obj_index = ObjectIndex.from_objects(\n",
    "    table_schema_objs,\n",
    "    table_node_mapping,\n",
    "    VectorStoreIndex,\n",
    ")\n",
    "query_engine = SQLTableRetrieverQueryEngine(\n",
    "    sql_database, \n",
    "    obj_index.as_retriever(similarity_top_k=1)\n",
    ")\n",
    "\n",
    "response = query_engine.query(\"招生最多的是哪个学校, 招多少?\")\n",
    "response.response"
   ]
  },
  {
   "cell_type": "markdown",
   "id": "3167b190-70ad-40a3-a80d-c9f381442353",
   "metadata": {},
   "source": [
    "### SQLTableRetrieverQueryEngine 不支持流式输出"
   ]
  },
  {
   "cell_type": "code",
   "execution_count": 19,
   "id": "d2e41129-df01-4859-92ec-484307265ab7",
   "metadata": {},
   "outputs": [
    {
     "name": "stdout",
     "output_type": "stream",
     "text": [
      "CPU times: user 17.8 ms, sys: 0 ns, total: 17.8 ms\n",
      "Wall time: 2.92 s\n"
     ]
    },
    {
     "data": {
      "text/plain": [
       "Response(response='招生人数最多的学校是北京工业大学附属中学，招收了418名学生。', source_nodes=[NodeWithScore(node=TextNode(id_='d689eed9-afe7-4d42-aea6-2338f814c86f', embedding=None, metadata={}, excluded_embed_metadata_keys=[], excluded_llm_metadata_keys=[], relationships={}, text=\"[('北京工业大学附属中学', 418)]\", start_char_idx=None, end_char_idx=None, text_template='{metadata_str}\\n\\n{content}', metadata_template='{key}: {value}', metadata_seperator='\\n'), score=None)], metadata={'d689eed9-afe7-4d42-aea6-2338f814c86f': {}, 'sql_query': 'SELECT school_name, students_enrolled FROM school_info ORDER BY students_enrolled DESC LIMIT 1;', 'result': [('北京工业大学附属中学', 418)], 'col_keys': ['school_name', 'students_enrolled']})"
      ]
     },
     "execution_count": 19,
     "metadata": {},
     "output_type": "execute_result"
    }
   ],
   "source": [
    "%%time\n",
    "\n",
    "from llama_index.core import get_response_synthesizer\n",
    "\n",
    "synth = get_response_synthesizer(streaming=True)\n",
    "\n",
    "query_engine = SQLTableRetrieverQueryEngine(\n",
    "    sql_database, \n",
    "    obj_index.as_retriever(similarity_top_k=1),\n",
    "    synthesize_response=synth,\n",
    ")\n",
    "\n",
    "streaming_response = query_engine.query(\"招生最多的是哪个学校, 招多少?\")\n",
    "# streaming_response.print_response_stream()\n",
    "# for text in streaming_response.response_gen:\n",
    "#     print(text,end=\"\")\n",
    "streaming_response"
   ]
  },
  {
   "cell_type": "markdown",
   "id": "625b6ecc-8241-417d-a671-b5db9fc5def4",
   "metadata": {},
   "source": [
    "## 单独使用sql检索以及集成到查询引擎"
   ]
  },
  {
   "cell_type": "markdown",
   "id": "322f5377-e1f0-44da-ac83-4935441c1487",
   "metadata": {},
   "source": [
    "### 单独使用sql检索"
   ]
  },
  {
   "cell_type": "markdown",
   "id": "f61a022e-bb21-4ea6-b6fd-0d135c8c2315",
   "metadata": {},
   "source": [
    "#### 基本使用"
   ]
  },
  {
   "cell_type": "code",
   "execution_count": 30,
   "id": "1e8e2013-31e2-4f57-8f38-5388b374da1f",
   "metadata": {},
   "outputs": [
    {
     "name": "stdout",
     "output_type": "stream",
     "text": [
      "CPU times: user 6.72 ms, sys: 343 µs, total: 7.06 ms\n",
      "Wall time: 1.97 s\n"
     ]
    },
    {
     "data": {
      "text/plain": [
       "\"[('北京工业大学附属中学', 418), ('北京市日坛中学', 403), ('北京市陈经纶中学', 279)]\""
      ]
     },
     "execution_count": 30,
     "metadata": {},
     "output_type": "execute_result"
    }
   ],
   "source": [
    "%%time\n",
    "\n",
    "from llama_index.core.retrievers import NLSQLRetriever\n",
    "\n",
    "# default retrieval (return_raw=True)\n",
    "nl_sql_retriever = NLSQLRetriever(\n",
    "    sql_database, tables=[\"school_info\"], return_raw=True\n",
    ")\n",
    "\n",
    "results = nl_sql_retriever.retrieve(\n",
    "    \"招生最多的前三个学校?\"\n",
    ")\n",
    "\n",
    "results[0].text"
   ]
  },
  {
   "cell_type": "markdown",
   "id": "43e936e0-a39d-424d-91de-aee5d8654ff2",
   "metadata": {},
   "source": [
    "#### 支持模糊查询"
   ]
  },
  {
   "cell_type": "code",
   "execution_count": 21,
   "id": "a406e53b-f70e-4291-a7b5-cab9788eea85",
   "metadata": {},
   "outputs": [
    {
     "name": "stdout",
     "output_type": "stream",
     "text": [
      "CPU times: user 7.32 ms, sys: 0 ns, total: 7.32 ms\n",
      "Wall time: 3.07 s\n"
     ]
    },
    {
     "data": {
      "text/plain": [
       "NodeWithScore(node=TextNode(id_='88df7ba5-4b58-4e2a-b438-394ffb6d0128', embedding=None, metadata={'school_name': '北京市陈经纶中学', 'students_enrolled': 279}, excluded_embed_metadata_keys=[], excluded_llm_metadata_keys=[], relationships={}, text='', start_char_idx=None, end_char_idx=None, text_template='{metadata_str}\\n\\n{content}', metadata_template='{key}: {value}', metadata_seperator='\\n'), score=None)"
      ]
     },
     "execution_count": 21,
     "metadata": {},
     "output_type": "execute_result"
    }
   ],
   "source": [
    "%%time\n",
    "\n",
    "from llama_index.core.retrievers import NLSQLRetriever\n",
    "\n",
    "# default retrieval (return_raw=True)\n",
    "nl_sql_retriever = NLSQLRetriever(\n",
    "    sql_database, tables=[\"school_info\"], \n",
    "    # return_raw=True,\n",
    "    return_raw=False,\n",
    "    # llm=get_llm(\"qwen-turbo\")\n",
    ")\n",
    "\n",
    "old_prompt_str=nl_sql_retriever.get_prompts()['text_to_sql_prompt'].template\n",
    "new_prompt = PromptTemplate(\n",
    "    f\"{old_prompt_str}\"\n",
    "    \"关键字的查询使用like做全模糊查询，比如 school_name like '%keyword%'\\n\"\n",
    "    \"查询学校名称时，使用模糊查询，比如 school_name like '%keyword%'，并且查询结果附带学校名称\"\n",
    ")\n",
    "nl_sql_retriever.update_prompts({\"text_to_sql_prompt\": new_prompt})\n",
    "\n",
    "results = nl_sql_retriever.retrieve(\n",
    "    \"陈经纶招多少?\"\n",
    ")\n",
    "\n",
    "results[0]"
   ]
  },
  {
   "cell_type": "markdown",
   "id": "b29fefff-301b-430f-b126-cabcdd0f0e93",
   "metadata": {},
   "source": [
    "### 传入sql检索到查询引擎"
   ]
  },
  {
   "cell_type": "markdown",
   "id": "ac3f7898-830e-4a8a-b5c3-6a4f34d89834",
   "metadata": {},
   "source": [
    "#### 基本使用"
   ]
  },
  {
   "cell_type": "code",
   "execution_count": 22,
   "id": "fe13f83c-78f6-4caa-91c1-a8e6b1bd5f83",
   "metadata": {},
   "outputs": [
    {
     "name": "stdout",
     "output_type": "stream",
     "text": [
      "CPU times: user 14.5 ms, sys: 0 ns, total: 14.5 ms\n",
      "Wall time: 3.95 s\n"
     ]
    },
    {
     "data": {
      "text/plain": [
       "'招生最多的前三个学校是北京工业大学附属中学，它招收了418名学生；其次是北京市日坛中学，招收了403名学生；排在第三位的是北京市陈经纶中学，招收了279名学生。'"
      ]
     },
     "execution_count": 22,
     "metadata": {},
     "output_type": "execute_result"
    }
   ],
   "source": [
    "%%time\n",
    "\n",
    "from llama_index.core.query_engine import RetrieverQueryEngine\n",
    "\n",
    "query_engine = RetrieverQueryEngine.from_args(nl_sql_retriever)\n",
    "\n",
    "response = query_engine.query(\n",
    "    \"招生最多的前三个学校?\"\n",
    ")\n",
    "\n",
    "response.response"
   ]
  },
  {
   "cell_type": "markdown",
   "id": "50e58a27-80d3-499e-a6ed-b844fea78ed3",
   "metadata": {},
   "source": [
    "#### 使用流式输出"
   ]
  },
  {
   "cell_type": "code",
   "execution_count": 23,
   "id": "7719140c-8140-49d8-a331-eccb4d5cfcb3",
   "metadata": {},
   "outputs": [
    {
     "name": "stdout",
     "output_type": "stream",
     "text": [
      "招生最多的前三个学校是北京工业大学附属中学，它招收了418名学生；其次是北京市日坛中学，招收了403名学生；排在第三位的是北京市陈经纶中学，招收了279名学生。CPU times: user 86.6 ms, sys: 0 ns, total: 86.6 ms\n",
      "Wall time: 3.97 s\n"
     ]
    }
   ],
   "source": [
    "%%time\n",
    "\n",
    "query_engine = RetrieverQueryEngine.from_args(\n",
    "    nl_sql_retriever,\n",
    "    streaming=True\n",
    ")\n",
    "\n",
    "response = query_engine.query(\n",
    "    \"招生最多的前三个学校?\"\n",
    ")\n",
    "response.print_response_stream()"
   ]
  },
  {
   "cell_type": "markdown",
   "id": "74b7a164-173c-408f-8bb5-e728c642a1d3",
   "metadata": {},
   "source": [
    "#### 自定义提示词实现模糊查询"
   ]
  },
  {
   "cell_type": "code",
   "execution_count": 24,
   "id": "164b7ff5-1efe-40ff-9895-d5af439f5c51",
   "metadata": {},
   "outputs": [
    {
     "name": "stdout",
     "output_type": "stream",
     "text": [
      "CPU times: user 7.87 ms, sys: 0 ns, total: 7.87 ms\n",
      "Wall time: 2.9 s\n"
     ]
    },
    {
     "data": {
      "text/plain": [
       "\"[('北京市陈经纶中学', 279)]\""
      ]
     },
     "execution_count": 24,
     "metadata": {},
     "output_type": "execute_result"
    }
   ],
   "source": [
    "%%time\n",
    "\n",
    "nl_sql_retriever = NLSQLRetriever(\n",
    "    sql_database, tables=[\"school_info\"], \n",
    "    return_raw=True,\n",
    ")\n",
    "\n",
    "old_prompt_str=nl_sql_retriever.get_prompts()['text_to_sql_prompt'].template\n",
    "new_prompt = PromptTemplate(\n",
    "    f\"{old_prompt_str}\"\n",
    "    \"关键字的查询使用like做全模糊查询，比如 school_name like '%keyword%'\\n\"\n",
    "    \"查询学校名称时，使用模糊查询，比如 school_name like '%keyword%'，并且查询结果附带学校名称\"\n",
    ")\n",
    "nl_sql_retriever.update_prompts({\"text_to_sql_prompt\": new_prompt})\n",
    "\n",
    "results = nl_sql_retriever.retrieve(\n",
    "    \"陈经纶招多少?\"\n",
    ")\n",
    "\n",
    "results[0].text"
   ]
  },
  {
   "cell_type": "code",
   "execution_count": 25,
   "id": "8aa6144a-6486-41ae-b110-38778dceac6c",
   "metadata": {},
   "outputs": [
    {
     "name": "stdout",
     "output_type": "stream",
     "text": [
      "根据提供的上下文信息，无法直接确定“陈经纶招多少”。需要更多具体的信息来解答这个问题。CPU times: user 50.5 ms, sys: 0 ns, total: 50.5 ms\n",
      "Wall time: 3.83 s\n"
     ]
    }
   ],
   "source": [
    "%%time\n",
    "\n",
    "# logging.disable(logging.CRITICAL + 1)\n",
    "\n",
    "query_engine = RetrieverQueryEngine.from_args(\n",
    "    nl_sql_retriever,\n",
    "    streaming=True,\n",
    ")\n",
    "\n",
    "response = query_engine.query(\n",
    "    \"陈经纶招多少?\"\n",
    ")\n",
    "response.print_response_stream()"
   ]
  },
  {
   "cell_type": "code",
   "execution_count": 26,
   "id": "c2b2b45b-2309-4587-986d-c665c1e56406",
   "metadata": {},
   "outputs": [
    {
     "name": "stdout",
     "output_type": "stream",
     "text": [
      "北京市陈经纶中学招收学生数量为279人。CPU times: user 31 ms, sys: 4.68 ms, total: 35.7 ms\n",
      "Wall time: 3.61 s\n"
     ]
    }
   ],
   "source": [
    "%%time\n",
    "\n",
    "from llama_index.core.prompts import PromptType\n",
    "\n",
    "my_qa_prompt_template = (\n",
    "    \"回答的示例，数据：[('北京市陈经纶中学', 279)]，回答：北京市陈经纶中学招收学生数量为279人。\"\n",
    "    \"Context information is below.\\n\"\n",
    "    \"---------------------\\n\"\n",
    "    \"{context_str}\\n\"\n",
    "    \"---------------------\\n\"\n",
    "    \"Given the context information and not prior knowledge, \"\n",
    "    \"answer the query.\\n\"\n",
    "    \"Query: {query_str}\\n\"\n",
    "    \"Answer: \"\n",
    ")\n",
    "my_qa_prompt = PromptTemplate(\n",
    "    my_qa_prompt_template, prompt_type=PromptType.QUESTION_ANSWER\n",
    ")\n",
    "\n",
    "query_engine = RetrieverQueryEngine.from_args(\n",
    "    nl_sql_retriever,\n",
    "    streaming=True,\n",
    "    text_qa_template=my_qa_prompt,\n",
    ")\n",
    "\n",
    "response = query_engine.query(\n",
    "    \"陈经纶招多少?\"\n",
    ")\n",
    "response.print_response_stream()"
   ]
  },
  {
   "cell_type": "markdown",
   "id": "cb321f7b-0333-455d-8978-8dc690beaa2c",
   "metadata": {},
   "source": [
    "#### 基于sql返回raw的处理 - 可以少写一层提示词"
   ]
  },
  {
   "cell_type": "code",
   "execution_count": 29,
   "id": "c2ca2c18-3fdf-484e-8e02-24acfbf6e839",
   "metadata": {},
   "outputs": [
    {
     "name": "stdout",
     "output_type": "stream",
     "text": [
      "陈经纶招收279名学生。CPU times: user 35.6 ms, sys: 0 ns, total: 35.6 ms\n",
      "Wall time: 4.87 s\n"
     ]
    }
   ],
   "source": [
    "%%time\n",
    "\n",
    "nl_sql_retriever = NLSQLRetriever(\n",
    "    sql_database, tables=[\"school_info\"], \n",
    "    return_raw=False,\n",
    ")\n",
    "\n",
    "old_prompt_str=nl_sql_retriever.get_prompts()['text_to_sql_prompt'].template\n",
    "new_prompt = PromptTemplate(\n",
    "    f\"{old_prompt_str}\"\n",
    "    \"关键字的查询使用like做全模糊查询，比如 school_name like '%keyword%'\\n\"\n",
    "    \"查询学校名称时，使用模糊查询，比如 school_name like '%keyword%'，并且查询结果附带学校名称\"\n",
    ")\n",
    "nl_sql_retriever.update_prompts({\"text_to_sql_prompt\": new_prompt})\n",
    "\n",
    "results = nl_sql_retriever.retrieve(\n",
    "    \"陈经纶招多少?\"\n",
    ")\n",
    "\n",
    "# results\n",
    "\n",
    "query_engine = RetrieverQueryEngine.from_args(\n",
    "    nl_sql_retriever,\n",
    "    streaming=True,\n",
    ")\n",
    "\n",
    "response = query_engine.query(\n",
    "    \"陈经纶招多少?\"\n",
    ")\n",
    "response.print_response_stream()"
   ]
  },
  {
   "cell_type": "code",
   "execution_count": null,
   "id": "5b98a3ba-b29a-434c-aa88-88c2b5481686",
   "metadata": {},
   "outputs": [],
   "source": []
  }
 ],
 "metadata": {
  "kernelspec": {
   "display_name": "Python 3 (ipykernel)",
   "language": "python",
   "name": "python3"
  },
  "language_info": {
   "codemirror_mode": {
    "name": "ipython",
    "version": 3
   },
   "file_extension": ".py",
   "mimetype": "text/x-python",
   "name": "python",
   "nbconvert_exporter": "python",
   "pygments_lexer": "ipython3",
   "version": "3.10.12"
  }
 },
 "nbformat": 4,
 "nbformat_minor": 5
}
