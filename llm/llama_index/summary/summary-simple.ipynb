{
 "cells": [
  {
   "cell_type": "markdown",
   "id": "dbf8cd68-299e-4676-90b9-cde4dd1feea6",
   "metadata": {},
   "source": [
    "# 长文档的中文摘要"
   ]
  },
  {
   "cell_type": "markdown",
   "id": "e4ff05b7-254f-459f-bf52-e88fbde29ead",
   "metadata": {},
   "source": [
    "## 准备"
   ]
  },
  {
   "cell_type": "code",
   "execution_count": 1,
   "id": "505be463-71f9-4226-9291-5253056e7c8f",
   "metadata": {},
   "outputs": [
    {
     "name": "stdout",
     "output_type": "stream",
     "text": [
      "CPU times: user 2.92 s, sys: 530 ms, total: 3.45 s\n",
      "Wall time: 4.65 s\n"
     ]
    }
   ],
   "source": [
    "%%time\n",
    "\n",
    "from llama_index.llms.openai_like import OpenAILike\n",
    "from llama_index.core import Settings\n",
    "\n",
    "llm = OpenAILike(model=\"qwen2-7b-6k\", \n",
    "                 api_base=\"http://192.168.0.72:3000/v1\", \n",
    "                 api_key=\"sk-bJP6QSnUfjAYeYeE505d3eBf63A643BeB0B8E350Df9b7750\",\n",
    "                 is_chat_model=True,\n",
    "                 temperature=0.1,\n",
    "                 request_timeout=60.0\n",
    "                )\n",
    "\n",
    "Settings.llm =llm"
   ]
  },
  {
   "cell_type": "code",
   "execution_count": 2,
   "id": "0a1f407b-8e06-48cf-8ab6-c67f384cc5fa",
   "metadata": {},
   "outputs": [
    {
     "name": "stdout",
     "output_type": "stream",
     "text": [
      "CPU times: user 543 ms, sys: 39.3 ms, total: 583 ms\n",
      "Wall time: 726 ms\n"
     ]
    }
   ],
   "source": [
    "%%time\n",
    "\n",
    "# embedding\n",
    "from llama_index.embeddings.ollama import OllamaEmbedding\n",
    "\n",
    "ollama_embedding = OllamaEmbedding(\n",
    "    # model_name=\"dztech/bge-large-zh:v1.5\",\n",
    "    # model_name=\"bge-m3:latest\",\n",
    "    model_name=\"chatfire/bge-m3:q8_0\",\n",
    "    base_url=\"http://192.168.0.72:11435\",\n",
    "    ollama_additional_kwargs={\"mirostat\": 0}, # -mirostat N 使用 Mirostat 采样。\n",
    ")\n",
    "\n",
    "Settings.embed_model = ollama_embedding"
   ]
  },
  {
   "cell_type": "code",
   "execution_count": 4,
   "id": "a5e8c1f3-c61f-4344-b0af-2f04f16df004",
   "metadata": {},
   "outputs": [
    {
     "data": {
      "text/plain": [
       "'扎米尔·艾哈迈德·阿旺：对接中国企业落地，巴基斯坦有三大优势\\n扎米尔·艾哈迈德·阿旺\\n扎米尔·艾哈迈德·阿旺\\n巴基斯坦国家科技大学中国和全球化中心研究员\\n\\n分享到：   39\\n2024-06-08 0'"
      ]
     },
     "execution_count": 4,
     "metadata": {},
     "output_type": "execute_result"
    }
   ],
   "source": [
    "from llama_index.core import SimpleDirectoryReader\n",
    "\n",
    "docs = SimpleDirectoryReader(\n",
    "        input_files=[f\"../content-short.txt\", \"../content.txt\"]\n",
    "    ).load_data()\n",
    "\n",
    "docs[0].doc_id = \"短新闻\"\n",
    "docs[1].doc_id = \"长新闻\"\n",
    "\n",
    "docs[0].text[:100]"
   ]
  },
  {
   "cell_type": "code",
   "execution_count": 12,
   "id": "3e1d5c5f-f9c5-4c1e-afed-533f9a3fcc5c",
   "metadata": {},
   "outputs": [
    {
     "data": {
      "text/plain": [
       "3892"
      ]
     },
     "execution_count": 12,
     "metadata": {},
     "output_type": "execute_result"
    }
   ],
   "source": [
    "len(docs[0].text)"
   ]
  },
  {
   "cell_type": "code",
   "execution_count": 24,
   "id": "9c1ba944-9ccd-415a-9693-db2a69f53f09",
   "metadata": {},
   "outputs": [
    {
     "data": {
      "text/plain": [
       "'安德烈·科尔图诺夫：无论经济发展还是和平建设，亚洲都可以给欧洲上一课\\n安德烈·科尔图诺夫\\n安德烈·科尔图诺夫\\n俄罗斯国际事务委员会学术委员会主任\\n\\n分享到：   1926\\n2024-06-06 08:'"
      ]
     },
     "execution_count": 24,
     "metadata": {},
     "output_type": "execute_result"
    }
   ],
   "source": [
    "docs[1].text[:100]"
   ]
  },
  {
   "cell_type": "code",
   "execution_count": 25,
   "id": "71a964f6-fbb2-468e-b415-8bf693a392b0",
   "metadata": {},
   "outputs": [
    {
     "data": {
      "text/plain": [
       "6290"
      ]
     },
     "execution_count": 25,
     "metadata": {},
     "output_type": "execute_result"
    }
   ],
   "source": [
    "len(docs[1].text)"
   ]
  },
  {
   "cell_type": "code",
   "execution_count": 3,
   "id": "a213c94a-2898-4b6f-a34e-ae773e8c8c30",
   "metadata": {},
   "outputs": [
    {
     "name": "stdout",
     "output_type": "stream",
     "text": [
      "CPU times: user 224 ms, sys: 23.9 ms, total: 248 ms\n",
      "Wall time: 252 ms\n"
     ]
    }
   ],
   "source": [
    "%%time\n",
    "\n",
    "from llama_index.core.node_parser import SentenceSplitter\n",
    "splitter = SentenceSplitter(chunk_size=1024)"
   ]
  },
  {
   "cell_type": "markdown",
   "id": "58c6afed-a6dd-4d4c-b595-9acc21d815ed",
   "metadata": {},
   "source": [
    "## 基于 DocumentSummaryIndex"
   ]
  },
  {
   "cell_type": "code",
   "execution_count": 5,
   "id": "61a0fa63-4699-464c-bc4e-f5df2e5fa088",
   "metadata": {},
   "outputs": [
    {
     "data": {
      "application/vnd.jupyter.widget-view+json": {
       "model_id": "cdd2b36314b6478e821f84751454b59c",
       "version_major": 2,
       "version_minor": 0
      },
      "text/plain": [
       "Parsing nodes:   0%|          | 0/1 [00:00<?, ?it/s]"
      ]
     },
     "metadata": {},
     "output_type": "display_data"
    },
    {
     "data": {
      "application/vnd.jupyter.widget-view+json": {
       "model_id": "7252bb7e6d6b4cb6a949f25e05a5d40b",
       "version_major": 2,
       "version_minor": 0
      },
      "text/plain": [
       "Summarizing documents:   0%|          | 0/1 [00:00<?, ?it/s]"
      ]
     },
     "metadata": {},
     "output_type": "display_data"
    },
    {
     "name": "stdout",
     "output_type": "stream",
     "text": [
      "current doc id: 短新闻\n"
     ]
    },
    {
     "data": {
      "application/vnd.jupyter.widget-view+json": {
       "model_id": "ae61990b9cf941e58097bc427429fed2",
       "version_major": 2,
       "version_minor": 0
      },
      "text/plain": [
       "Generating embeddings:   0%|          | 0/1 [00:00<?, ?it/s]"
      ]
     },
     "metadata": {},
     "output_type": "display_data"
    },
    {
     "name": "stdout",
     "output_type": "stream",
     "text": [
      "CPU times: user 171 ms, sys: 4.78 ms, total: 176 ms\n",
      "Wall time: 25.4 s\n"
     ]
    }
   ],
   "source": [
    "%%time\n",
    "\n",
    "from llama_index.core import get_response_synthesizer\n",
    "from llama_index.core import DocumentSummaryIndex\n",
    "\n",
    "import nest_asyncio\n",
    "nest_asyncio.apply()\n",
    "\n",
    "response_synthesizer = get_response_synthesizer(\n",
    "    response_mode=\"tree_summarize\", use_async=True,\n",
    ")\n",
    "\n",
    "doc_summary_index = DocumentSummaryIndex.from_documents(\n",
    "    [docs[0]],\n",
    "    transformations=[splitter],\n",
    "    response_synthesizer=response_synthesizer,\n",
    "    show_progress=True,\n",
    ")"
   ]
  },
  {
   "cell_type": "code",
   "execution_count": 6,
   "id": "f345d5d7-e8ca-42ed-9ec5-22229683f006",
   "metadata": {},
   "outputs": [
    {
     "data": {
      "text/plain": [
       "\"The provided text discusses various aspects related to the relationship between China and Pakistan, focusing on their cooperation in economic development, security concerns, political dynamics, and historical diplomatic ties. It highlights expectations from the visit of Pakistani Prime Minister Shehbaz Sharif to China, emphasizing economic cooperation as a key focus area for Pakistan due to its current economic challenges.\\n\\nSome of the questions that this text can answer include:\\n\\n1. **Why is this visit significant for Pakistan?** - The visit signifies an opportunity for increased economic collaboration and addresses Pakistan's need for foreign investment during challenging economic times.\\n2. **What are Pakistan’s expectations from economic cooperation with China?** - Expectations include leveraging Pakistan's labor market potential, utilizing affordable raw materials, and attracting Chinese investments through government-led initiatives like the Pakistani-Chinese Business Conference in Shenzhen.\\n3. **How does Pakistan’s labor market compare to that in China?** - The text suggests that Pakistan offers a large, young, and relatively inexpensive labor force as an attractive factor for Chinese investors looking to expand overseas.\\n4. **What role do raw materials play in attracting Chinese investment?** - Availability of affordable raw materials is seen as a significant advantage for Chinese businesses considering investments in Pakistan.\\n5. **What are the specific sectors highlighted by the Pakistani-Chinese Business Conference for potential investments?** - The text mentions that high-tech industries and other sectors were emphasized during the conference to attract Chinese investors.\\n6. **How does political alignment between Pakistan and China manifest in their foreign policies?** - Strong political alignment is discussed, particularly on issues such as Taiwan, Xinjiang, Hong Kong, Afghanistan, and Kashmir, which influence bilateral relations.\\n7. **What challenges does Prime Minister Shehbaz Sharif face due to external factors?** - The text outlines difficulties faced by the prime minister due to Pakistan's geopolitical position and the impact of external factors like India on his leadership.\\n\\nThese questions explore different facets of the Sino-Pakistani relationship, including economic cooperation, labor market dynamics, raw material availability, government efforts, political alignment, and challenges posed by external influences.\""
      ]
     },
     "execution_count": 6,
     "metadata": {},
     "output_type": "execute_result"
    }
   ],
   "source": [
    "doc_summary_index.get_document_summary(\"短新闻\")"
   ]
  },
  {
   "cell_type": "code",
   "execution_count": 20,
   "id": "8d6ebc04-caaf-4f7e-9de9-1f4a78404064",
   "metadata": {},
   "outputs": [],
   "source": [
    "from llama_index.core import PromptTemplate\n",
    "\n",
    "qa_prompt_tmpl = (\n",
    "    \"上下文信息如下。\\n\"\n",
    "    \"---------------------\\n\"\n",
    "    \"{context_str}\\n\"\n",
    "    \"---------------------\\n\"\n",
    "    \"根据上下文信息而非先验知识，\"\n",
    "    \"回答查询。\\n\"\n",
    "    # \"请同时以 {tone_name} 的语气写出答案。\\n\"\n",
    "    \"回答请使用中文。\\n\"\n",
    "    \"查询：{query_str}\\n\"\n",
    "    \"答案：\"\n",
    ")\n",
    "\n",
    "qa_prompt = PromptTemplate(qa_prompt_tmpl)\n",
    "\n",
    "refine_prompt_tmpl=(\n",
    "    \"原始查询如下： {query_str}\\n\"\n",
    "    \"我们已提供现有答案： {existing_answer}\\n\"\n",
    "    \"我们有机会通过以下更多上下文来改进现有答案 \"\n",
    "    \"（仅在需要时）。\\n\"\n",
    "    \"------------\\n\"\n",
    "    \"{context_msg}\\n\"\n",
    "    \"------------\\n\"\n",
    "    \"鉴于新的上下文，改进原始答案以更好地\"\n",
    "    \"回答查询。\"\n",
    "    \"请使用中文回答。\"\n",
    "    \"如果上下文无用，则返回原始答案。\\n\"\n",
    "    \"改进后的答案： \"\n",
    ")\n",
    "refine_prompt=PromptTemplate(refine_prompt_tmpl)\n",
    "\n",
    "summary_prompt_tmpl=(\n",
    "    \"Write a summary of the following. Try to use only the \"\n",
    "    \"information provided. \"\n",
    "    \"Try to include as many key details as possible.\\n\"\n",
    "    \"请使用中文回答。\"\n",
    "    \"\\n\"\n",
    "    \"\\n\"\n",
    "    \"{context_str}\\n\"\n",
    "    \"\\n\"\n",
    "    \"\\n\"\n",
    "    'SUMMARY:\"\"\"\\n'\n",
    ")\n",
    "summary_prompt=PromptTemplate(summary_prompt_tmpl)"
   ]
  },
  {
   "cell_type": "code",
   "execution_count": 21,
   "id": "89c09861-d3d4-44ac-89c8-3c771f01fedb",
   "metadata": {},
   "outputs": [
    {
     "data": {
      "application/vnd.jupyter.widget-view+json": {
       "model_id": "9b418bdc918d418baac293dfe5f0279e",
       "version_major": 2,
       "version_minor": 0
      },
      "text/plain": [
       "Parsing nodes:   0%|          | 0/1 [00:00<?, ?it/s]"
      ]
     },
     "metadata": {},
     "output_type": "display_data"
    },
    {
     "data": {
      "application/vnd.jupyter.widget-view+json": {
       "model_id": "a47982914cce4bc78ada87decfaaff6d",
       "version_major": 2,
       "version_minor": 0
      },
      "text/plain": [
       "Summarizing documents:   0%|          | 0/1 [00:00<?, ?it/s]"
      ]
     },
     "metadata": {},
     "output_type": "display_data"
    },
    {
     "name": "stdout",
     "output_type": "stream",
     "text": [
      "current doc id: 短新闻\n"
     ]
    },
    {
     "data": {
      "application/vnd.jupyter.widget-view+json": {
       "model_id": "eb0dc2d4b7d04c199c1a3c8cd45a59e9",
       "version_major": 2,
       "version_minor": 0
      },
      "text/plain": [
       "Generating embeddings:   0%|          | 0/1 [00:00<?, ?it/s]"
      ]
     },
     "metadata": {},
     "output_type": "display_data"
    },
    {
     "name": "stdout",
     "output_type": "stream",
     "text": [
      "CPU times: user 44 ms, sys: 15.4 ms, total: 59.4 ms\n",
      "Wall time: 27.1 s\n"
     ]
    }
   ],
   "source": [
    "%%time\n",
    "\n",
    "# default mode of building the index\n",
    "response_synthesizer = get_response_synthesizer(\n",
    "    response_mode=\"tree_summarize\", use_async=True,\n",
    "    text_qa_template=qa_prompt,\n",
    "    refine_template=refine_prompt,\n",
    "    summary_template=summary_prompt,\n",
    ")\n",
    "doc_summary_index = DocumentSummaryIndex.from_documents(\n",
    "    [docs[0]],\n",
    "    transformations=[splitter],\n",
    "    response_synthesizer=response_synthesizer,\n",
    "    show_progress=True,\n",
    ")"
   ]
  },
  {
   "cell_type": "code",
   "execution_count": 22,
   "id": "3abd4bd7-fe43-472b-9b67-5a4fa890db83",
   "metadata": {},
   "outputs": [
    {
     "data": {
      "text/plain": [
       "'扎米尔·艾哈迈德·阿旺认为，在巴基斯坦新政府成立后，总理夏巴兹·谢里夫访华的主要期待是加强与中国的经济合作。当前，巴基斯坦面临经济和政治问题，希望借助中国在海外投资、经济援助等方面的支持。中巴传统友谊深厚，但巴基斯坦需要更多外部帮助来解决经济困境。\\n\\n阿旺指出，巴基斯坦具有发展经济的潜力，主要体现在以下几个方面：\\n1. 年轻且庞大的劳动力市场；\\n2. 相对较低的劳动力成本，与中国的比较优势；\\n3. 丰富的原材料资源，成本相对低廉。\\n\\n6月5日，深圳召开了巴基斯坦中国商务会议，旨在吸引中国企业投资。会议聚焦于高科技产业等细分领域，并强调了经济合作的前提是双边外交关系稳固。夏巴兹总理访华前已与各相关部门讨论如何深化中巴合作、加强经贸交流及鼓励中国企业赴巴发展。\\n\\n阿旺还提到，夏巴兹总理面临的主要挑战包括国内的贫困问题和贫富差距，以及巴基斯坦作为小国在国际政治中的脆弱性。他希望借鉴中国模式，改善巴基斯坦经济和社会状况，并与中国紧密合作以克服外部压力。\\n\\n中巴关系面临着来自印度、阿富汗等周边国家的挑战，尤其是印度的民族主义情绪可能对穆斯林群体及南亚地区造成影响。阿旺指出，印度与多个邻国的关系紧张，包括领土争端和外交摩擦等问题。相比之下，中国在处理周边国家关系时展现出大国风范，并与尼泊尔、缅甸等保持良好外交关系。\\n\\n中巴经济走廊的安全反恐问题被视为进一步巩固两国关系的关键领域。阿富汗局势的稳定对中巴商贸合作至关重要，因为阿富汗作为四战之地的历史背景影响着区域安全和经济对接的可能性。\\n\\n贫穷与恐怖主义之间存在紧密联系，提升巴基斯坦的国民经济水平以消除贫困根源是解决恐怖主义的关键。前任巴基斯坦总理伊姆兰·汗施政方针受到国内反对派批评，但新中国成立以来的领导人都与中国保持着高度互信的外交关系。在多党制下，每个执政党的更迭可能影响政策连续性，但中巴之间的利益和友谊不会改变。\\n\\n印度工业化项目强调制造业自主可控，但面临极端天气等挑战，导致民用水电短缺。印度与美国建立紧密关系后，在高科技、经济、政治和国防等领域获得支持，工业产业相对稳定。然而，印度存在民族融合问题和社会不安定因素，并且能源供应受到气候反常和工业污染的威胁。\\n\\n巴基斯坦在大选后的五年任期中只能解决短期问题，而中国采用民主集中制原则处理长期问题的能力被认为是一个伟大发明。本文由观察者网独家撰写，不代表平台观点，未经授权不得转载。'"
      ]
     },
     "execution_count": 22,
     "metadata": {},
     "output_type": "execute_result"
    }
   ],
   "source": [
    "doc_summary_index.get_document_summary(\"短新闻\")"
   ]
  },
  {
   "cell_type": "code",
   "execution_count": 28,
   "id": "f2b0c51d-2a9f-475f-8a8c-2a86c2c50a70",
   "metadata": {},
   "outputs": [
    {
     "data": {
      "application/vnd.jupyter.widget-view+json": {
       "model_id": "8ccfa98d739149f4a2a6401deea1f259",
       "version_major": 2,
       "version_minor": 0
      },
      "text/plain": [
       "Parsing nodes:   0%|          | 0/1 [00:00<?, ?it/s]"
      ]
     },
     "metadata": {},
     "output_type": "display_data"
    },
    {
     "data": {
      "application/vnd.jupyter.widget-view+json": {
       "model_id": "898dac13315846e1b869acb305ab5c7d",
       "version_major": 2,
       "version_minor": 0
      },
      "text/plain": [
       "Summarizing documents:   0%|          | 0/1 [00:00<?, ?it/s]"
      ]
     },
     "metadata": {},
     "output_type": "display_data"
    },
    {
     "name": "stdout",
     "output_type": "stream",
     "text": [
      "current doc id: 长新闻\n"
     ]
    },
    {
     "data": {
      "application/vnd.jupyter.widget-view+json": {
       "model_id": "ef0c4fe439c7489ba8228206a027dec7",
       "version_major": 2,
       "version_minor": 0
      },
      "text/plain": [
       "Generating embeddings:   0%|          | 0/1 [00:00<?, ?it/s]"
      ]
     },
     "metadata": {},
     "output_type": "display_data"
    },
    {
     "name": "stdout",
     "output_type": "stream",
     "text": [
      "CPU times: user 62.8 ms, sys: 12.7 ms, total: 75.5 ms\n",
      "Wall time: 27.4 s\n"
     ]
    }
   ],
   "source": [
    "%%time\n",
    "\n",
    "response_synthesizer = get_response_synthesizer(\n",
    "    response_mode=\"tree_summarize\", use_async=True,\n",
    ")\n",
    "\n",
    "doc_summary_index = DocumentSummaryIndex.from_documents(\n",
    "    [docs[1]],\n",
    "    transformations=[splitter],\n",
    "    response_synthesizer=response_synthesizer,\n",
    "    show_progress=True,\n",
    ")"
   ]
  },
  {
   "cell_type": "code",
   "execution_count": 29,
   "id": "865e8d84-bd0a-42c0-833c-760751e44965",
   "metadata": {},
   "outputs": [
    {
     "data": {
      "text/plain": [
       "\"The provided texts discuss various aspects related to global politics with a focus on Asia and its historical connections with Europe, particularly Russia. The discussions cover topics such as transformations in Harbin, China's city influenced by Russian colonialism; World War II remembrance from the perspective of Russia compared to Europe; differences in how Europeans and Asians perceive World War II, especially regarding Japan's actions during the conflict; contrasts between Europe's post-WWII recovery process and that of Asia, particularly concerning Japan; and current security challenges facing Asia.\\n\\nSome key questions that this text can answer include:\\n1. How has Harbin transformed over time to become an important hub for economic, cultural, educational, and human exchanges between China and its northern neighbors?\\n2. What role did Russia play in World War II specifically concerning the liberation of China from Japanese occupation?\\n3. How do Europeans typically perceive World War II compared to Asians, particularly regarding Japan's actions during the conflict?\\n4. Why is there a discrepancy in how Japan's involvement in World War II is remembered among different regions and cultures?\\n5. What are some of the key differences between Europe's post-WWII recovery process and that of Asia, especially concerning Japan?\\n\\nThese questions aim to explore themes such as historical memory, cultural exchange, geopolitical perspectives on major global events, and comparative studies between different regions affected by significant historical events or contemporary issues.\""
      ]
     },
     "execution_count": 29,
     "metadata": {},
     "output_type": "execute_result"
    }
   ],
   "source": [
    "doc_summary_index.get_document_summary(\"长新闻\")"
   ]
  },
  {
   "cell_type": "markdown",
   "id": "c6896ed7-5720-4fdb-860e-64e7ff013103",
   "metadata": {},
   "source": [
    "### 长文档"
   ]
  },
  {
   "cell_type": "code",
   "execution_count": 7,
   "id": "0b6f7bc4-4d87-4ecf-aef5-b30022257f96",
   "metadata": {},
   "outputs": [
    {
     "data": {
      "text/plain": [
       "'欧盟对华急征电车关税，一场“汽车大战”的预言即将兑现？｜文化纵横\\n\\n文化纵横《文化纵横》杂志官方账号昨天 10:02\\n【导读】近日，欧盟委员会公布对中国电动汽车的反补贴调查结果，称中国的纯电动汽车价值'"
      ]
     },
     "execution_count": 7,
     "metadata": {},
     "output_type": "execute_result"
    }
   ],
   "source": [
    "from llama_index.core import SimpleDirectoryReader\n",
    "\n",
    "docs = SimpleDirectoryReader(\n",
    "        input_files=[f\"../data/news-14k.txt\"]\n",
    "    ).load_data()\n",
    "\n",
    "docs[0].doc_id = \"news-14k\"\n",
    "\n",
    "docs[0].text[:100]"
   ]
  },
  {
   "cell_type": "code",
   "execution_count": 11,
   "id": "75a3ad33-05f5-4d32-a91e-38cc0b21dfab",
   "metadata": {},
   "outputs": [
    {
     "data": {
      "text/plain": [
       "13869"
      ]
     },
     "execution_count": 11,
     "metadata": {},
     "output_type": "execute_result"
    }
   ],
   "source": [
    "len(docs[0].text)"
   ]
  },
  {
   "cell_type": "code",
   "execution_count": 8,
   "id": "22b5166c-e512-43f7-bcb4-9765c8d3a22c",
   "metadata": {},
   "outputs": [
    {
     "data": {
      "application/vnd.jupyter.widget-view+json": {
       "model_id": "2f6c7ef0249e4c30b7ab5140f4db99d5",
       "version_major": 2,
       "version_minor": 0
      },
      "text/plain": [
       "Parsing nodes:   0%|          | 0/1 [00:00<?, ?it/s]"
      ]
     },
     "metadata": {},
     "output_type": "display_data"
    },
    {
     "data": {
      "application/vnd.jupyter.widget-view+json": {
       "model_id": "a58fa1839d314ad2a4e2cb33248260c1",
       "version_major": 2,
       "version_minor": 0
      },
      "text/plain": [
       "Summarizing documents:   0%|          | 0/1 [00:00<?, ?it/s]"
      ]
     },
     "metadata": {},
     "output_type": "display_data"
    },
    {
     "name": "stdout",
     "output_type": "stream",
     "text": [
      "current doc id: news-14k\n"
     ]
    },
    {
     "data": {
      "application/vnd.jupyter.widget-view+json": {
       "model_id": "3582e56684d545cbb2b3dc866d41a939",
       "version_major": 2,
       "version_minor": 0
      },
      "text/plain": [
       "Generating embeddings:   0%|          | 0/1 [00:00<?, ?it/s]"
      ]
     },
     "metadata": {},
     "output_type": "display_data"
    },
    {
     "name": "stdout",
     "output_type": "stream",
     "text": [
      "CPU times: user 112 ms, sys: 12.8 ms, total: 125 ms\n",
      "Wall time: 43 s\n"
     ]
    }
   ],
   "source": [
    "%%time\n",
    "\n",
    "splitter = SentenceSplitter(chunk_size=1024*2)\n",
    "\n",
    "response_synthesizer = get_response_synthesizer(\n",
    "    response_mode=\"tree_summarize\", use_async=True,\n",
    ")\n",
    "\n",
    "doc_summary_index = DocumentSummaryIndex.from_documents(\n",
    "    [docs[0]],\n",
    "    transformations=[splitter],\n",
    "    response_synthesizer=response_synthesizer,\n",
    "    show_progress=True,\n",
    ")"
   ]
  },
  {
   "cell_type": "code",
   "execution_count": 9,
   "id": "30cbd9cb-3912-4ecb-8905-5df468ac0e69",
   "metadata": {},
   "outputs": [
    {
     "data": {
      "text/plain": [
       "\"The provided text discusses the global competition in the field of新能源汽车 (electric vehicles) with a focus on China's rapid development and its impact on international markets, particularly from the perspective of European Union actions against Chinese electric vehicle manufacturers. It highlights various aspects such as:\\n\\n1. **EU's Actions**: The EU has imposed tariffs on Chinese-made electric vehicles due to allegations that they benefit from unfair subsidies, which is seen as detrimental to EU producers.\\n2. **China's Response**: China has criticized the EU's investigation for being unfounded and politically motivated. It argues that imposing tariffs will only temporarily protect EU markets but may lead to a decline in the global competitiveness of European automotive industries.\\n3. **Global Impact**: The text suggests that electric vehicles could be as transformative as cars were in the 20th century, potentially reshaping international trade dynamics and competition across various sectors.\\n4. **Strategies for China**: It outlines strategies for China's automotive industry to navigate this global challenge by exploring new markets, integrating with developing countries' industrial activities, and promoting their own economies through increased income levels among these nations' populations.\\n5. **International Dynamics**: The text also touches on the actions of other major players like the US, which has imposed restrictions on Chinese electric vehicles entering its market, and the European Union's efforts to implement carbon tariffs as part of a broader strategy in the automotive industry.\\n\\nThe questions that this text can answer include:\\n\\n- What are the reasons behind the EU imposing tariffs on Chinese electric vehicles?\\n- How does China respond to these actions by the EU?\\n- How might electric vehicles influence global trade dynamics and competition?\\n- What strategies is China employing to cope with international challenges in the automotive sector?\\n- What role are other countries like the US playing in this context, particularly regarding their policies towards Chinese electric vehicles?\""
      ]
     },
     "execution_count": 9,
     "metadata": {},
     "output_type": "execute_result"
    }
   ],
   "source": [
    "doc_summary_index.get_document_summary(\"news-14k\")"
   ]
  },
  {
   "cell_type": "code",
   "execution_count": 13,
   "id": "fc46189e-53c6-41cf-a39d-1d1952f75555",
   "metadata": {},
   "outputs": [
    {
     "name": "stdout",
     "output_type": "stream",
     "text": [
      "CPU times: user 135 µs, sys: 20 µs, total: 155 µs\n",
      "Wall time: 159 µs\n"
     ]
    }
   ],
   "source": [
    "%%time\n",
    "\n",
    "query_engine = doc_summary_index.as_query_engine(\n",
    "    response_mode=\"tree_summarize\", \n",
    "    streaming=True,\n",
    "    similarity_top_k=5\n",
    ")"
   ]
  },
  {
   "cell_type": "code",
   "execution_count": 14,
   "id": "421b6494-900c-4498-8d94-7a4db7a9d6f1",
   "metadata": {},
   "outputs": [
    {
     "name": "stdout",
     "output_type": "stream",
     "text": [
      "欧盟对中国的电动汽车征收关税的主要原因是为了保护本土新能源汽车产业发展、实施公平贸易政策以及确保供应链安全与国家安全。这些措施包括限制特定来源的进口，提供优惠政策支持本土产业，加强法规管理关键零部件和电池产业，并通过反补贴调查来评估潜在的不公平竞争行为。征收关税的目的在于促进本地汽车产业的发展，减少对中国低成本电动汽车的依赖，同时确保在关键技术和资源方面实现自主可控。通过设置贸易壁垒，欧盟希望为本国企业创造一个更加公平的竞争环境，同时推动绿色经济的发展和本土产业的转型。这些举措旨在支持和强化欧洲本土汽车产业，以及在市场保护、技术转移担忧、供应链安全考量、环境与可持续发展考虑、公平贸易原则以及经济利益与竞争平衡方面实现目标。CPU times: user 286 ms, sys: 30.4 ms, total: 317 ms\n",
      "Wall time: 1min 15s\n"
     ]
    }
   ],
   "source": [
    "%%time\n",
    "\n",
    "response = query_engine.query(\"为什么欧盟会对中国的电动汽车征收关税？\")\n",
    "response.print_response_stream()"
   ]
  },
  {
   "cell_type": "code",
   "execution_count": 15,
   "id": "d4147879-b32e-42ea-ba64-4f91e44ad1ea",
   "metadata": {},
   "outputs": [
    {
     "name": "stdout",
     "output_type": "stream",
     "text": [
      "面对欧盟可能采取的保护主义措施及对中国的投资与企业活动设置的障碍，中国可以采取以下策略来应对：\n",
      "\n",
      "1. **增强国内产业竞争力**：通过加大研发投入、优化政策环境和提高生产效率等手段，提升新能源汽车产业的整体实力。这包括推动技术创新、产品质量和服务水平的提升。\n",
      "\n",
      "2. **深化国际合作**：在新能源汽车领域寻求与欧盟的合作机会，特别是在标准制定和技术研发方面，以促进全球市场的互联互通和互利共赢。\n",
      "\n",
      "3. **市场多元化战略**：加强与其他国家和地区（如美国、日本、韩国等）的新能源汽车市场合作，减少对单一市场的依赖。通过出口和投资等方式拓展国际市场。\n",
      "\n",
      "4. **政策调整与优化**：根据国际形势的变化适时调整产业政策，包括关税政策、补贴政策以及外国企业准入规定，以适应全球竞争的新格局。\n",
      "\n",
      "5. **技术转移与交流**：鼓励中国新能源汽车企业参与国际展会和技术合作项目，加强与其他国家在新能源领域的技术交流和转让，提升自身在全球产业链中的地位。\n",
      "\n",
      "6. **构建绿色供应链**：推动建立更加可持续、环保的供应链体系，提高供应链透明度和责任性，以符合全球对绿色经济的需求和标准。\n",
      "\n",
      "7. **法律与外交手段**：通过国际组织或双边谈判表达立场和诉求，寻求公平竞争环境，并可能采取法律措施保护自身利益。\n",
      "\n",
      "此外，中国还可以：\n",
      "\n",
      "- **多元化市场战略**：继续开拓新兴市场，如南亚、东南亚、中东等地区，利用这些市场的增长潜力和较低的人均汽车保有量作为机遇。\n",
      "  \n",
      "- **加强国际标准合作**：与目标国家建立检测认证联盟，简化产品进入海外市场的流程和成本。解决不同市场间的法规差异，减少风险和成本。\n",
      "\n",
      "- **推动“新型全球化”**：\n",
      "  - 在本土进行技术创新和研发，形成基于中国技术议程和市场需求的核心竞争力。\n",
      "  - 积极参与南方国家的工业化进程，通过新能源汽车产能输出、基础设施建设等项目帮助当地新兴工薪阶层转变为复杂工业产品的消费者。\n",
      "\n",
      "- **资源与供应链管理**：关注关键金属原材料供应的多元化和合作，确保供应链的安全性和稳定性。探索与矿产大国建立紧密合作关系，并可能参与“金属欧佩克”组织等实体的合作或竞争机制。\n",
      "\n",
      "- **政策调整与谈判**：通过外交渠道与中国及其他国家进行政策对话，寻求共同利益点和解决方案。利用多边平台如世界贸易组织（WTO）参与全球规则制定和完善，争取更公平、透明的国际贸易环境。\n",
      "\n",
      "- **增强软实力**：通过文化、教育、科技交流提升中国在国际社会的形象和影响力，为经济合作创造良好的外部环境。CPU times: user 787 ms, sys: 77.3 ms, total: 865 ms\n",
      "Wall time: 1min 26s\n"
     ]
    }
   ],
   "source": [
    "%%time\n",
    "\n",
    "response = query_engine.query(\"中国如何回应欧盟的这些行动？\")\n",
    "response.print_response_stream()"
   ]
  },
  {
   "cell_type": "code",
   "execution_count": null,
   "id": "0ffd8b2c-6e31-4bfc-9b87-afa0fa7d430a",
   "metadata": {},
   "outputs": [],
   "source": []
  }
 ],
 "metadata": {
  "kernelspec": {
   "display_name": "Python 3 (ipykernel)",
   "language": "python",
   "name": "python3"
  },
  "language_info": {
   "codemirror_mode": {
    "name": "ipython",
    "version": 3
   },
   "file_extension": ".py",
   "mimetype": "text/x-python",
   "name": "python",
   "nbconvert_exporter": "python",
   "pygments_lexer": "ipython3",
   "version": "3.10.12"
  }
 },
 "nbformat": 4,
 "nbformat_minor": 5
}
