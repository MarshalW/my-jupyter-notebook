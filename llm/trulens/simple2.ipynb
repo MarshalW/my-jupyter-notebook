{
 "cells": [
  {
   "cell_type": "markdown",
   "id": "293546c9-90fa-4aad-a85a-cb8cac114691",
   "metadata": {},
   "source": [
    "https://www.trulens.org/trulens_eval/getting_started/quickstarts/groundtruth_evals/\n",
    "\n",
    "结论：\n",
    "\n",
    "- 即使使用openai api，运行结果中并没有 `ground truth`等指标\n",
    "- 使用本地模型，情况也是一样的，结果指标都没有得到 `ground truth`等指标"
   ]
  },
  {
   "cell_type": "code",
   "execution_count": 1,
   "id": "caddf035-34c8-4383-9952-3d358bc25253",
   "metadata": {},
   "outputs": [
    {
     "name": "stdout",
     "output_type": "stream",
     "text": [
      "🦑 Tru initialized with db url sqlite:///default.sqlite .\n",
      "🛑 Secret keys may be written to the database. See the `database_redact_keys` option of `Tru` to prevent this.\n"
     ]
    }
   ],
   "source": [
    "from trulens_eval import Tru\n",
    "\n",
    "tru = Tru()\n",
    "tru.reset_database()"
   ]
  },
  {
   "cell_type": "code",
   "execution_count": 2,
   "id": "349929f1-cf7d-40bd-a54d-612bc3d13cff",
   "metadata": {},
   "outputs": [
    {
     "name": "stdout",
     "output_type": "stream",
     "text": [
      "微分中值定理是微分学中的一个基本定理，它描述了在一个连续函数上存在某个点，该点的导数等于函数在两个固定点处导数之差与自变量在这两个点之差的比值。\n",
      "\n",
      "具体来说，微分中值定理可以分为两个部分：\n",
      "1.拉格朗日中值定理：设函数f(x)在闭区间[a,b]上连续，在开区间(a,b)上可导，则在(a,b)内至少存在一点ξ，使得f'(ξ)等于函数在端点a和b处导数的平均值，即f'(ξ)=(f(b)-f(a))/(b-a)。\n",
      "2.柯西中值定理：设函数f(x)和g(x)在闭区间[a,b]上连续且在开区间(a,b)内可导，且g(x)在区间内没有零点，则在(a,b)内至少存在一点ξ，使得[f(b)-f(a)]/g(b)-g(a)等于[f'(ξ)]/g'(ξ)。\n",
      "\n",
      "基本思路是通过函数在两个固定点处导数之差与自变量在这两个点之差的比值来推导出函数在某个点的导数等于这个比值。这个定理在证明不同的情况下有不同的证明方法，但都可以通过中值定理来证明。CPU times: user 120 ms, sys: 11.2 ms, total: 131 ms\n",
      "Wall time: 5.52 s\n"
     ]
    }
   ],
   "source": [
    "%%time\n",
    "\n",
    "from openai import OpenAI\n",
    "import os\n",
    "\n",
    "base_url = \"http://ape:3000/v1\"\n",
    "api_key = \"sk-bJP6QSnUfjAYeYeE505d3eBf63A643BeB0B8E350Df9b7750\"\n",
    "\n",
    "# base_url= \"https://api.bianxie.ai/v1\"\n",
    "# api_key = \"sk-FdNf8kpfMG1yy1pU16D8E82592974693Bf40E2Df39117991\"\n",
    "\n",
    "os.environ[\"OPENAI_API_KEY\"] = api_key\n",
    "os.environ[\"OPENAI_API_BASE\"] = base_url\n",
    "\n",
    "client = OpenAI(api_key=api_key, base_url=base_url)\n",
    "\n",
    "stream = client.chat.completions.create(\n",
    "    model=\"gpt-3.5-turbo\",\n",
    "    messages=[{\"role\": \"user\", \"content\": \"解释下微分中值定理的基本思路\"}],\n",
    "    stream=True,\n",
    "    stream_options= {\"include_usage\": True}\n",
    ")\n",
    "\n",
    "for chunk in stream:\n",
    "    if chunk.usage:\n",
    "        print()\n",
    "        print(chunk.usage)\n",
    "    else:\n",
    "        print(chunk.choices[0].delta.content or \"\", end=\"\")"
   ]
  },
  {
   "cell_type": "code",
   "execution_count": 8,
   "id": "3eff2872-eee8-4632-8297-62b19f98902c",
   "metadata": {},
   "outputs": [
    {
     "name": "stdout",
     "output_type": "stream",
     "text": [
      "CPU times: user 33 µs, sys: 2 µs, total: 35 µs\n",
      "Wall time: 38.6 µs\n"
     ]
    }
   ],
   "source": [
    "%%time\n",
    "\n",
    "from trulens_eval.tru_custom_app import instrument\n",
    "\n",
    "class APP:\n",
    "    @instrument\n",
    "    def completion(self, prompt):\n",
    "        completion = client.chat.completions.create(\n",
    "                # model=\"gpt-3.5-turbo\",\n",
    "                # model=\"qwen2\",\n",
    "                model=\"gpt-4-turbo\",\n",
    "                temperature=0,\n",
    "                messages=\n",
    "                [\n",
    "                    {\"role\": \"user\",\n",
    "                    \"content\": \n",
    "                    f\"Please answer the question: {prompt}\"\n",
    "                    }\n",
    "                ]\n",
    "                ).choices[0].message.content\n",
    "        return completion\n",
    "    \n",
    "llm_app = APP()"
   ]
  },
  {
   "cell_type": "code",
   "execution_count": 9,
   "id": "493adb7c-0f62-4449-b377-b85deb6b9a46",
   "metadata": {},
   "outputs": [
    {
     "name": "stdout",
     "output_type": "stream",
     "text": [
      "✅ In Ground Truth, input prompt will be set to __record__.main_input or `Select.RecordInput` .\n",
      "✅ In Ground Truth, input response will be set to __record__.main_output or `Select.RecordOutput` .\n",
      "CPU times: user 50.4 ms, sys: 5.49 ms, total: 55.9 ms\n",
      "Wall time: 55 ms\n"
     ]
    }
   ],
   "source": [
    "%%time\n",
    "\n",
    "from trulens_eval import Feedback\n",
    "from trulens_eval.feedback import GroundTruthAgreement\n",
    "\n",
    "golden_set = [\n",
    "    {\"query\": \"who invented the lightbulb?\", \"response\": \"Thomas Edison\"},\n",
    "    {\"query\": \"¿quien invento la bombilla?\", \"response\": \"Thomas Edison\"}\n",
    "]\n",
    "\n",
    "f_groundtruth = Feedback(GroundTruthAgreement(golden_set).agreement_measure, name = \"Ground Truth\").on_input_output()\n"
   ]
  },
  {
   "cell_type": "code",
   "execution_count": 10,
   "id": "89db32fd-82e0-413f-9b34-56f918658b0b",
   "metadata": {},
   "outputs": [
    {
     "name": "stdout",
     "output_type": "stream",
     "text": [
      "CPU times: user 56 ms, sys: 0 ns, total: 56 ms\n",
      "Wall time: 58.3 ms\n"
     ]
    }
   ],
   "source": [
    "%%time\n",
    "\n",
    "# add trulens as a context manager for llm_app\n",
    "from trulens_eval import TruCustomApp\n",
    "tru_app = TruCustomApp(llm_app, app_id = 'LLM App v1', feedbacks = [f_groundtruth])"
   ]
  },
  {
   "cell_type": "code",
   "execution_count": 11,
   "id": "376fbb6a-4683-4d03-ab36-178d5c88bc11",
   "metadata": {},
   "outputs": [
    {
     "name": "stdout",
     "output_type": "stream",
     "text": [
      "CPU times: user 661 ms, sys: 0 ns, total: 661 ms\n",
      "Wall time: 8.7 s\n"
     ]
    }
   ],
   "source": [
    "%%time\n",
    "\n",
    "# Instrumented query engine can operate as a context manager:\n",
    "with tru_app as recording:\n",
    "    llm_app.completion(\"¿quien invento la bombilla?\")\n",
    "    llm_app.completion(\"who invented the lightbulb?\")"
   ]
  },
  {
   "cell_type": "code",
   "execution_count": 12,
   "id": "0757678a-7b83-4032-adeb-c9bd1d791817",
   "metadata": {},
   "outputs": [
    {
     "data": {
      "text/html": [
       "<div>\n",
       "<style scoped>\n",
       "    .dataframe tbody tr th:only-of-type {\n",
       "        vertical-align: middle;\n",
       "    }\n",
       "\n",
       "    .dataframe tbody tr th {\n",
       "        vertical-align: top;\n",
       "    }\n",
       "\n",
       "    .dataframe thead th {\n",
       "        text-align: right;\n",
       "    }\n",
       "</style>\n",
       "<table border=\"1\" class=\"dataframe\">\n",
       "  <thead>\n",
       "    <tr style=\"text-align: right;\">\n",
       "      <th></th>\n",
       "      <th>latency</th>\n",
       "      <th>total_cost</th>\n",
       "    </tr>\n",
       "    <tr>\n",
       "      <th>app_id</th>\n",
       "      <th></th>\n",
       "      <th></th>\n",
       "    </tr>\n",
       "  </thead>\n",
       "  <tbody>\n",
       "    <tr>\n",
       "      <th>LLM App v1</th>\n",
       "      <td>4.75</td>\n",
       "      <td>0.000648</td>\n",
       "    </tr>\n",
       "  </tbody>\n",
       "</table>\n",
       "</div>"
      ],
      "text/plain": [
       "            latency  total_cost\n",
       "app_id                         \n",
       "LLM App v1     4.75    0.000648"
      ]
     },
     "execution_count": 12,
     "metadata": {},
     "output_type": "execute_result"
    }
   ],
   "source": [
    "tru.get_leaderboard(app_ids=[tru_app.app_id])"
   ]
  },
  {
   "cell_type": "code",
   "execution_count": null,
   "id": "88b68671-8919-4e6f-bc2a-6a5d62985699",
   "metadata": {},
   "outputs": [],
   "source": []
  }
 ],
 "metadata": {
  "kernelspec": {
   "display_name": "Python 3 (ipykernel)",
   "language": "python",
   "name": "python3"
  },
  "language_info": {
   "codemirror_mode": {
    "name": "ipython",
    "version": 3
   },
   "file_extension": ".py",
   "mimetype": "text/x-python",
   "name": "python",
   "nbconvert_exporter": "python",
   "pygments_lexer": "ipython3",
   "version": "3.10.12"
  }
 },
 "nbformat": 4,
 "nbformat_minor": 5
}
