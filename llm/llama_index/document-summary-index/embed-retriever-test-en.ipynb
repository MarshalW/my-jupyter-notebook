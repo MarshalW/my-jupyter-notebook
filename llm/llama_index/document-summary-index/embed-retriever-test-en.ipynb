{
 "cells": [
  {
   "cell_type": "markdown",
   "id": "c7840257-008a-48c6-b928-addea86b71d7",
   "metadata": {},
   "source": [
    "# 测试通过嵌入检索的成功率 - 测试纯英文情况"
   ]
  },
  {
   "cell_type": "markdown",
   "id": "489c061b-c7a5-4d8e-8d5e-22c5a83f7713",
   "metadata": {},
   "source": [
    "## 准备"
   ]
  },
  {
   "cell_type": "code",
   "execution_count": 3,
   "id": "fbc76639-aef4-492c-a000-be0bc65c1b31",
   "metadata": {},
   "outputs": [
    {
     "name": "stdout",
     "output_type": "stream",
     "text": [
      "CPU times: user 2 µs, sys: 0 ns, total: 2 µs\n",
      "Wall time: 3.58 µs\n"
     ]
    }
   ],
   "source": [
    "%%time\n",
    "\n",
    "INDEX_PATH=\"retrieve-en-index\"\n",
    "DATA_PATH=\"retrieve-en-data\"\n",
    "\n",
    "PROXY=\"http://192.168.0.134:7890\""
   ]
  },
  {
   "cell_type": "code",
   "execution_count": 11,
   "id": "2d8b26a9-b473-4173-9914-6302a280aa3c",
   "metadata": {},
   "outputs": [
    {
     "name": "stdout",
     "output_type": "stream",
     "text": [
      "CPU times: user 3 µs, sys: 0 ns, total: 3 µs\n",
      "Wall time: 4.53 µs\n"
     ]
    }
   ],
   "source": [
    "%%time\n",
    "\n",
    "test_data=[\n",
    "    {\n",
    "        \"url\": \"https://www.bbc.com/news/articles/cn0099v8ywpo\",\n",
    "        \"question\": \"How does the upcoming debate between Donald Trump and Joe Biden differ from past presidential debates in the United States?\"\n",
    "    },{\n",
    "        \"url\": \"https://www.bbc.com/news/articles/cx77l5ej2yyo\",\n",
    "        \"question\": \"How did the BBC team ultimately identify the smuggler known as Jabal in Luxembourg?\"\n",
    "    },{\n",
    "        \"url\": \"https://www.bbc.com/news/articles/cl5y3d0dzk4o\",\n",
    "        \"question\": \"What prompted Hong Kong to intensify its focus on \\\"patriotic\\\" education starting from 2020?\"\n",
    "    },{\n",
    "        \"url\": \"https://www.bbc.com/news/articles/c4nglpj3dllo\",\n",
    "        \"question\": \"What is Webtoon Entertainment's market value ahead of its US listing, and what is its expected initial share price on Nasdaq?\"\n",
    "    },{\n",
    "        \"url\": \"https://www.bbc.com/news/articles/ceqd10qej32o\",\n",
    "        \"question\": \"How did Cate Campbell reflect on her career and achievements after missing out on qualifying for the 2024 Paris Olympics?\"\n",
    "    }\n",
    "]"
   ]
  },
  {
   "cell_type": "code",
   "execution_count": 13,
   "id": "cc1aec96-d1a0-4bdf-b8a1-e68f84838137",
   "metadata": {},
   "outputs": [],
   "source": [
    "import os\n",
    "\n",
    "# 设置HTTP代理\n",
    "os.environ['HTTP_PROXY'] = PROXY\n",
    "os.environ['HTTPS_PROXY'] = PROXY"
   ]
  },
  {
   "cell_type": "code",
   "execution_count": 12,
   "id": "514a3ace-5087-4a5f-a1af-94f951c88fa3",
   "metadata": {},
   "outputs": [
    {
     "name": "stdout",
     "output_type": "stream",
     "text": [
      "CPU times: user 76.1 ms, sys: 78.3 ms, total: 154 ms\n",
      "Wall time: 54.8 ms\n"
     ]
    }
   ],
   "source": [
    "%%time\n",
    "\n",
    "import requests\n",
    "from gne import GeneralNewsExtractor\n",
    "\n",
    "def get_news_data(url):\n",
    "    response = requests.get(url)\n",
    "    html = response.text\n",
    "\n",
    "    extractor = GeneralNewsExtractor()\n",
    "    data = extractor.extract(html, noise_node_list=[\n",
    "                               '//div[@class=\"comment-list\"]'])\n",
    "    data['url']=url\n",
    "    return data"
   ]
  },
  {
   "cell_type": "code",
   "execution_count": 14,
   "id": "c85d47ae-5c9f-486e-b513-de149c40e364",
   "metadata": {},
   "outputs": [
    {
     "name": "stdout",
     "output_type": "stream",
     "text": [
      "CPU times: user 898 ms, sys: 5.75 ms, total: 904 ms\n",
      "Wall time: 2.83 s\n"
     ]
    }
   ],
   "source": [
    "%%time\n",
    "\n",
    "!mkdir -p $DATA_PATH\n",
    "\n",
    "import json\n",
    "\n",
    "for news in test_data:\n",
    "    data=get_news_data(news['url'])\n",
    "    data['url']=news['url']\n",
    "    file_path = f'./{DATA_PATH}/{data[\"title\"]}.json'\n",
    "    with open(file_path, 'w') as json_file:\n",
    "        json.dump(data, json_file, indent=4)"
   ]
  },
  {
   "cell_type": "code",
   "execution_count": 15,
   "id": "91f4744a-ed48-45c7-9462-28c384338e86",
   "metadata": {},
   "outputs": [],
   "source": [
    "# 取消设置HTTP代理\n",
    "if 'HTTP_PROXY' in os.environ:\n",
    "    del os.environ['HTTP_PROXY']\n",
    "if 'HTTPS_PROXY' in os.environ:\n",
    "    del os.environ['HTTPS_PROXY']"
   ]
  },
  {
   "cell_type": "code",
   "execution_count": 16,
   "id": "11b71ae2-527b-47a1-8d15-1fef4d8ee7b8",
   "metadata": {},
   "outputs": [
    {
     "name": "stdout",
     "output_type": "stream",
     "text": [
      "CPU times: user 2.59 s, sys: 203 ms, total: 2.79 s\n",
      "Wall time: 2.6 s\n"
     ]
    }
   ],
   "source": [
    "%%time\n",
    "\n",
    "from llama_index.core import(\n",
    "    Document\n",
    ")\n",
    "\n",
    "def data2doc(news_data):\n",
    "    document=Document(text=news_data['content'], \n",
    "                  metadata={\"title\": news_data['title'],\n",
    "                            'publish_time': news_data['publish_time'],\n",
    "                            'author': news_data['author'],\n",
    "                            'url': news_data['url'],\n",
    "                            'images': news_data['images'],\n",
    "                           })\n",
    "    document.doc_id = document.metadata[\"title\"]\n",
    "    return document"
   ]
  },
  {
   "cell_type": "code",
   "execution_count": 17,
   "id": "fd7657fb-7793-4fc4-b44d-73c1a7f0b7fc",
   "metadata": {},
   "outputs": [
    {
     "name": "stdout",
     "output_type": "stream",
     "text": [
      "CPU times: user 10.2 ms, sys: 0 ns, total: 10.2 ms\n",
      "Wall time: 2.98 s\n"
     ]
    },
    {
     "data": {
      "text/plain": [
       "5"
      ]
     },
     "execution_count": 17,
     "metadata": {},
     "output_type": "execute_result"
    }
   ],
   "source": [
    "%%time\n",
    "\n",
    "from llama_index.core import SimpleDirectoryReader\n",
    "\n",
    "documents=SimpleDirectoryReader(input_dir=f\"./{DATA_PATH}\").load_data(num_workers=4)\n",
    "for document in documents:\n",
    "    document.doc_id=document.metadata['file_name']\n",
    "\n",
    "import json\n",
    "\n",
    "docs=[]\n",
    "for document in documents:\n",
    "    news_data=json.loads(document.text) # documents[0].text\n",
    "    docs.append(data2doc(news_data))\n",
    "\n",
    "documents=docs\n",
    "\n",
    "len(docs)"
   ]
  },
  {
   "cell_type": "code",
   "execution_count": 18,
   "id": "2734bd2b-87b9-4e71-83c4-200e45f3c17c",
   "metadata": {},
   "outputs": [
    {
     "name": "stdout",
     "output_type": "stream",
     "text": [
      "CPU times: user 0 ns, sys: 1.55 ms, total: 1.55 ms\n",
      "Wall time: 1.22 ms\n"
     ]
    }
   ],
   "source": [
    "%%time\n",
    "\n",
    "import nest_asyncio\n",
    "nest_asyncio.apply()"
   ]
  },
  {
   "cell_type": "code",
   "execution_count": 19,
   "id": "dbaa0a26-9447-4f5b-b63f-de9851145cd4",
   "metadata": {},
   "outputs": [
    {
     "name": "stdout",
     "output_type": "stream",
     "text": [
      "CPU times: user 545 ms, sys: 39.7 ms, total: 585 ms\n",
      "Wall time: 584 ms\n"
     ]
    }
   ],
   "source": [
    "%%time\n",
    "\n",
    "# 加载llm和embeddings\n",
    "%run ../utils2.py\n",
    "\n",
    "from llama_index.core import Settings\n",
    "\n",
    "Settings.llm=get_llm()\n",
    "Settings.embed_model=get_embedding()"
   ]
  },
  {
   "cell_type": "code",
   "execution_count": 20,
   "id": "9f807885-d154-49a0-bfac-3cec7a83065d",
   "metadata": {},
   "outputs": [
    {
     "data": {
      "application/vnd.jupyter.widget-view+json": {
       "model_id": "8d19d14b091347dfb1747faac8b52728",
       "version_major": 2,
       "version_minor": 0
      },
      "text/plain": [
       "Parsing nodes:   0%|          | 0/5 [00:00<?, ?it/s]"
      ]
     },
     "metadata": {},
     "output_type": "display_data"
    },
    {
     "data": {
      "application/vnd.jupyter.widget-view+json": {
       "model_id": "8947be01fad14b2cb09d70ab30ca37c5",
       "version_major": 2,
       "version_minor": 0
      },
      "text/plain": [
       "Summarizing documents:   0%|          | 0/5 [00:00<?, ?it/s]"
      ]
     },
     "metadata": {},
     "output_type": "display_data"
    },
    {
     "name": "stdout",
     "output_type": "stream",
     "text": [
      "current doc id: Australia's\n",
      "current doc id: behind Channel crossing which killed Sara, 7\n",
      "current doc id: chool children sang anthem too softly\n",
      "current doc id: market debut\n",
      "current doc id: presidential debate?\n"
     ]
    },
    {
     "data": {
      "application/vnd.jupyter.widget-view+json": {
       "model_id": "80e21da4987b49eba000298fb29167ff",
       "version_major": 2,
       "version_minor": 0
      },
      "text/plain": [
       "Generating embeddings:   0%|          | 0/5 [00:00<?, ?it/s]"
      ]
     },
     "metadata": {},
     "output_type": "display_data"
    },
    {
     "name": "stdout",
     "output_type": "stream",
     "text": [
      "CPU times: user 394 ms, sys: 17.2 ms, total: 411 ms\n",
      "Wall time: 32.4 s\n"
     ]
    }
   ],
   "source": [
    "%%time\n",
    "\n",
    "from llama_index.core import get_response_synthesizer\n",
    "from llama_index.core import DocumentSummaryIndex\n",
    "from llama_index.core.node_parser import SentenceSplitter\n",
    "\n",
    "splitter = SentenceSplitter(chunk_size=1024)\n",
    "\n",
    "response_synthesizer = get_response_synthesizer(\n",
    "    response_mode=\"tree_summarize\", \n",
    "    use_async=True\n",
    ")\n",
    "\n",
    "doc_summary_index = DocumentSummaryIndex.from_documents(\n",
    "    documents,\n",
    "    transformations=[splitter],\n",
    "    response_synthesizer=response_synthesizer,\n",
    "    show_progress=True,\n",
    ")"
   ]
  },
  {
   "cell_type": "code",
   "execution_count": 21,
   "id": "70f67333-43da-4ca2-b59a-6c710b43d484",
   "metadata": {},
   "outputs": [
    {
     "name": "stdout",
     "output_type": "stream",
     "text": [
      "CPU times: user 18.1 ms, sys: 0 ns, total: 18.1 ms\n",
      "Wall time: 17.9 ms\n"
     ]
    }
   ],
   "source": [
    "%%time\n",
    "\n",
    "doc_summary_index.storage_context.persist(INDEX_PATH)"
   ]
  },
  {
   "cell_type": "code",
   "execution_count": 22,
   "id": "38ec04d5-7400-4e51-9105-89e86593cb20",
   "metadata": {},
   "outputs": [
    {
     "name": "stdout",
     "output_type": "stream",
     "text": [
      "CPU times: user 31.6 ms, sys: 0 ns, total: 31.6 ms\n",
      "Wall time: 31.2 ms\n"
     ]
    }
   ],
   "source": [
    "%%time\n",
    "\n",
    "from llama_index.core import load_index_from_storage\n",
    "from llama_index.core import StorageContext\n",
    "\n",
    "# rebuild storage context\n",
    "storage_context = StorageContext.from_defaults(persist_dir=INDEX_PATH)\n",
    "doc_summary_index = load_index_from_storage(storage_context)"
   ]
  },
  {
   "cell_type": "markdown",
   "id": "7fae3bd6-a9f5-4a33-b4ba-8cee957e1e00",
   "metadata": {},
   "source": [
    "## 检索"
   ]
  },
  {
   "cell_type": "markdown",
   "id": "53f728e9-3eaa-438b-9e2f-81ca0c7d077d",
   "metadata": {},
   "source": [
    "### k=1"
   ]
  },
  {
   "cell_type": "code",
   "execution_count": 29,
   "id": "1bc6594d-06af-4fe1-9011-dcdc8741e469",
   "metadata": {},
   "outputs": [
    {
     "name": "stdout",
     "output_type": "stream",
     "text": [
      "CPU times: user 19.3 ms, sys: 0 ns, total: 19.3 ms\n",
      "Wall time: 482 ms\n"
     ]
    },
    {
     "data": {
      "text/plain": [
       "[True, True, True, True, True]"
      ]
     },
     "execution_count": 29,
     "metadata": {},
     "output_type": "execute_result"
    }
   ],
   "source": [
    "%%time\n",
    "\n",
    "from llama_index.core.indices.document_summary import (\n",
    "    DocumentSummaryIndexEmbeddingRetriever,\n",
    ")\n",
    "\n",
    "retriever = DocumentSummaryIndexEmbeddingRetriever(\n",
    "    doc_summary_index,\n",
    "    similarity_top_k=1,\n",
    ")\n",
    "\n",
    "results=[]\n",
    "\n",
    "for news in test_data:\n",
    "    retrieved_nodes = retriever.retrieve(news[\"question\"])\n",
    "    result=False\n",
    "    for node in retrieved_nodes:\n",
    "        if node.metadata['url']==news[\"url\"]:\n",
    "            result=True\n",
    "            break\n",
    "    results.append(result)\n",
    "\n",
    "results"
   ]
  },
  {
   "cell_type": "code",
   "execution_count": 30,
   "id": "b95f16b1-69f0-42e7-a334-5fddc8bf531d",
   "metadata": {},
   "outputs": [
    {
     "data": {
      "text/plain": [
       "1.0"
      ]
     },
     "execution_count": 30,
     "metadata": {},
     "output_type": "execute_result"
    }
   ],
   "source": [
    "results.count(True) / len(results)"
   ]
  },
  {
   "cell_type": "code",
   "execution_count": 31,
   "id": "8ea76c7d-09c4-4887-adb2-4403c511b5e3",
   "metadata": {},
   "outputs": [
    {
     "data": {
      "text/plain": [
       "1"
      ]
     },
     "execution_count": 31,
     "metadata": {},
     "output_type": "execute_result"
    }
   ],
   "source": [
    "retrieved_nodes = retriever.retrieve(\"What prompted Hong Kong to intensify its focus on \\\"patriotic\\\" education starting from 2020?\")\n",
    "\n",
    "len(retrieved_nodes)"
   ]
  },
  {
   "cell_type": "code",
   "execution_count": 33,
   "id": "f0a90c9f-6887-4661-9d00-ed7fcab39f57",
   "metadata": {},
   "outputs": [
    {
     "data": {
      "text/plain": [
       "'Many former opposition lawmakers and democracy campaigners have been jailed since 2020 under a controversial national security law that criminalised all forms of dissent. Depsite international condemnation, Beijing defends the law as essential for stability.\\nIn the years since, patriotism has become a byword for China\\'s growing control of the city. It\\noverhauled Hong Kong\\'s electoral system with a \"patriots\\' law\"\\nthat barred those seen as \"unpatriotic\" from political office. More recently, it\\nbanned what has effectively been the city\\'s unofficial anthem\\n, a protest song called Glory to Hong Kong, because of its \"seditious\" possibilities.\\nThe city has also set up a government committee to help \"the new generation to really appreciate our Chinese culture, our Chinese history,\" Hong Kong\\'s chief executive John Lee said.\\nThe education bureau\\'s latest efforts are seen as part of the same campaign.\\nIn November last year, the bureau introduced a new subject which would require students as young as eight to start learning about the Beijing-enacted security law. It also covers \"Chinese culture\" and history that aligns with the Chinese Communist Party\\'s vision.\\n\"Students [should be] able to understand that Hong Kong has the advantage of enjoying strong support of the Motherland and being closely connected to the world, which helps them build up cultural confidence,\" read a circular published by the bureau in November.\\nLast month, the bureau also\\ncalled on parents to work with schools\\nto \"help [their children] learn the importance of safeguarding national security and enhance their national identity and national pride\".'"
      ]
     },
     "execution_count": 33,
     "metadata": {},
     "output_type": "execute_result"
    }
   ],
   "source": [
    "retrieved_nodes[0].text"
   ]
  },
  {
   "cell_type": "code",
   "execution_count": 34,
   "id": "1455fe5b-ba30-4a9e-afc6-a0daada302bb",
   "metadata": {},
   "outputs": [
    {
     "data": {
      "text/plain": [
       "{'title': 'chool children sang anthem too softly',\n",
       " 'publish_time': '2024-06-27',\n",
       " 'author': '',\n",
       " 'url': 'https://www.bbc.com/news/articles/cl5y3d0dzk4o',\n",
       " 'images': []}"
      ]
     },
     "execution_count": 34,
     "metadata": {},
     "output_type": "execute_result"
    }
   ],
   "source": [
    "retrieved_nodes[0].metadata"
   ]
  },
  {
   "cell_type": "markdown",
   "id": "abff6fdf-027a-4276-8802-77fffcc5e482",
   "metadata": {},
   "source": [
    "### k=5"
   ]
  },
  {
   "cell_type": "code",
   "execution_count": 26,
   "id": "62523cfb-935b-4d4a-adf6-73e0d9344f4b",
   "metadata": {},
   "outputs": [
    {
     "name": "stdout",
     "output_type": "stream",
     "text": [
      "CPU times: user 20.9 ms, sys: 0 ns, total: 20.9 ms\n",
      "Wall time: 483 ms\n"
     ]
    },
    {
     "data": {
      "text/plain": [
       "1.0"
      ]
     },
     "execution_count": 26,
     "metadata": {},
     "output_type": "execute_result"
    }
   ],
   "source": [
    "%%time\n",
    "\n",
    "from llama_index.core.indices.document_summary import (\n",
    "    DocumentSummaryIndexEmbeddingRetriever,\n",
    ")\n",
    "\n",
    "retriever = DocumentSummaryIndexEmbeddingRetriever(\n",
    "    doc_summary_index,\n",
    "    similarity_top_k=5,\n",
    ")\n",
    "\n",
    "results=[]\n",
    "\n",
    "for news in test_data:\n",
    "    retrieved_nodes = retriever.retrieve(news[\"question\"])\n",
    "    result=False\n",
    "    for node in retrieved_nodes:\n",
    "        if node.metadata['url']==news[\"url\"]:\n",
    "            result=True\n",
    "            break\n",
    "    results.append(result)\n",
    "\n",
    "results.count(True) / len(results)"
   ]
  },
  {
   "cell_type": "code",
   "execution_count": 28,
   "id": "29cfe35a-e88d-4c77-8553-212ed54829b4",
   "metadata": {},
   "outputs": [
    {
     "data": {
      "text/plain": [
       "5"
      ]
     },
     "execution_count": 28,
     "metadata": {},
     "output_type": "execute_result"
    }
   ],
   "source": [
    "retrieved_nodes = retriever.retrieve(\"What prompted Hong Kong to intensify its focus on \\\"patriotic\\\" education starting from 2020?\")\n",
    "\n",
    "len(retrieved_nodes)"
   ]
  },
  {
   "cell_type": "code",
   "execution_count": null,
   "id": "1a95ae33-34fa-43a4-b8c7-b7468fa5daf5",
   "metadata": {},
   "outputs": [],
   "source": []
  },
  {
   "cell_type": "code",
   "execution_count": null,
   "id": "1f35903d-ad40-4a1c-802b-9edca56c5f1c",
   "metadata": {},
   "outputs": [],
   "source": []
  }
 ],
 "metadata": {
  "kernelspec": {
   "display_name": "Python 3 (ipykernel)",
   "language": "python",
   "name": "python3"
  },
  "language_info": {
   "codemirror_mode": {
    "name": "ipython",
    "version": 3
   },
   "file_extension": ".py",
   "mimetype": "text/x-python",
   "name": "python",
   "nbconvert_exporter": "python",
   "pygments_lexer": "ipython3",
   "version": "3.10.12"
  }
 },
 "nbformat": 4,
 "nbformat_minor": 5
}
