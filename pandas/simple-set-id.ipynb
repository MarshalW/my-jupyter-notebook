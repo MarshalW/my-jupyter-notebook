{
 "cells": [
  {
   "cell_type": "markdown",
   "id": "31ff78d9-71a2-4975-a4fa-7bd944a83208",
   "metadata": {},
   "source": [
    "# pandas 表格设置id的示例"
   ]
  },
  {
   "cell_type": "code",
   "execution_count": 2,
   "id": "d7899ddb-62d0-40fb-8d09-110441d750d8",
   "metadata": {},
   "outputs": [
    {
     "name": "stdout",
     "output_type": "stream",
     "text": [
      "CPU times: user 8.67 ms, sys: 1.15 ms, total: 9.82 ms\n",
      "Wall time: 2.38 s\n"
     ]
    }
   ],
   "source": [
    "%%time\n",
    "%%capture\n",
    "\n",
    "!pip install pandas"
   ]
  },
  {
   "cell_type": "markdown",
   "id": "190973db-e218-4e9e-8c90-af5b8d511126",
   "metadata": {},
   "source": [
    "## 最简单的实现"
   ]
  },
  {
   "cell_type": "markdown",
   "id": "e994a5f8-7467-4e4c-8211-e335f768186b",
   "metadata": {},
   "source": [
    "### 设置id"
   ]
  },
  {
   "cell_type": "code",
   "execution_count": 4,
   "id": "58169979-1c38-445b-8ff3-ae1b7f6c47cb",
   "metadata": {},
   "outputs": [
    {
     "data": {
      "text/html": [
       "<div>\n",
       "<style scoped>\n",
       "    .dataframe tbody tr th:only-of-type {\n",
       "        vertical-align: middle;\n",
       "    }\n",
       "\n",
       "    .dataframe tbody tr th {\n",
       "        vertical-align: top;\n",
       "    }\n",
       "\n",
       "    .dataframe thead th {\n",
       "        text-align: right;\n",
       "    }\n",
       "</style>\n",
       "<table border=\"1\" class=\"dataframe\">\n",
       "  <thead>\n",
       "    <tr style=\"text-align: right;\">\n",
       "      <th></th>\n",
       "      <th>ID</th>\n",
       "      <th>Name</th>\n",
       "      <th>Age</th>\n",
       "    </tr>\n",
       "  </thead>\n",
       "  <tbody>\n",
       "    <tr>\n",
       "      <th>0</th>\n",
       "      <td>0</td>\n",
       "      <td>Alice</td>\n",
       "      <td>25</td>\n",
       "    </tr>\n",
       "    <tr>\n",
       "      <th>1</th>\n",
       "      <td>1</td>\n",
       "      <td>Bob</td>\n",
       "      <td>30</td>\n",
       "    </tr>\n",
       "  </tbody>\n",
       "</table>\n",
       "</div>"
      ],
      "text/plain": [
       "   ID   Name  Age\n",
       "0   0  Alice   25\n",
       "1   1    Bob   30"
      ]
     },
     "execution_count": 4,
     "metadata": {},
     "output_type": "execute_result"
    }
   ],
   "source": [
    "import pandas as pd\n",
    "\n",
    "# 创建一个示例 DataFrame\n",
    "data = {'Name': ['Alice', 'Bob', 'Charlie', 'David'],\n",
    "        'Age': [25, 30, 35, 40]}\n",
    "df = pd.DataFrame(data)\n",
    "\n",
    "# 为每条记录设置 ID\n",
    "df = df.reset_index(drop=False, names='ID')  # drop=False 保留原有索引作为新列\n",
    "df[:2]"
   ]
  },
  {
   "cell_type": "markdown",
   "id": "ff9f381d-e090-40ba-8723-ace5e8a39f35",
   "metadata": {},
   "source": [
    "### 删除指定id的行"
   ]
  },
  {
   "cell_type": "code",
   "execution_count": 8,
   "id": "011dab79-82ac-4223-86b1-3a11abd353f5",
   "metadata": {},
   "outputs": [
    {
     "data": {
      "text/html": [
       "<div>\n",
       "<style scoped>\n",
       "    .dataframe tbody tr th:only-of-type {\n",
       "        vertical-align: middle;\n",
       "    }\n",
       "\n",
       "    .dataframe tbody tr th {\n",
       "        vertical-align: top;\n",
       "    }\n",
       "\n",
       "    .dataframe thead th {\n",
       "        text-align: right;\n",
       "    }\n",
       "</style>\n",
       "<table border=\"1\" class=\"dataframe\">\n",
       "  <thead>\n",
       "    <tr style=\"text-align: right;\">\n",
       "      <th></th>\n",
       "      <th>ID</th>\n",
       "      <th>Name</th>\n",
       "      <th>Age</th>\n",
       "    </tr>\n",
       "  </thead>\n",
       "  <tbody>\n",
       "    <tr>\n",
       "      <th>1</th>\n",
       "      <td>1</td>\n",
       "      <td>Bob</td>\n",
       "      <td>30</td>\n",
       "    </tr>\n",
       "    <tr>\n",
       "      <th>2</th>\n",
       "      <td>2</td>\n",
       "      <td>Charlie</td>\n",
       "      <td>35</td>\n",
       "    </tr>\n",
       "    <tr>\n",
       "      <th>3</th>\n",
       "      <td>3</td>\n",
       "      <td>David</td>\n",
       "      <td>40</td>\n",
       "    </tr>\n",
       "  </tbody>\n",
       "</table>\n",
       "</div>"
      ],
      "text/plain": [
       "   ID     Name  Age\n",
       "1   1      Bob   30\n",
       "2   2  Charlie   35\n",
       "3   3    David   40"
      ]
     },
     "execution_count": 8,
     "metadata": {},
     "output_type": "execute_result"
    }
   ],
   "source": [
    "# 删除 ID 为 0 的行\n",
    "df = df[df['ID'] != 0]\n",
    "df"
   ]
  },
  {
   "cell_type": "markdown",
   "id": "1daf6af7-8670-438b-9765-a1cfa32cbdf1",
   "metadata": {},
   "source": [
    "### 增加指定id的行"
   ]
  },
  {
   "cell_type": "code",
   "execution_count": 9,
   "id": "df0f190d-61c8-40e2-a215-6950af92bdb3",
   "metadata": {},
   "outputs": [
    {
     "data": {
      "text/html": [
       "<div>\n",
       "<style scoped>\n",
       "    .dataframe tbody tr th:only-of-type {\n",
       "        vertical-align: middle;\n",
       "    }\n",
       "\n",
       "    .dataframe tbody tr th {\n",
       "        vertical-align: top;\n",
       "    }\n",
       "\n",
       "    .dataframe thead th {\n",
       "        text-align: right;\n",
       "    }\n",
       "</style>\n",
       "<table border=\"1\" class=\"dataframe\">\n",
       "  <thead>\n",
       "    <tr style=\"text-align: right;\">\n",
       "      <th></th>\n",
       "      <th>ID</th>\n",
       "      <th>Name</th>\n",
       "      <th>Age</th>\n",
       "    </tr>\n",
       "  </thead>\n",
       "  <tbody>\n",
       "    <tr>\n",
       "      <th>0</th>\n",
       "      <td>1</td>\n",
       "      <td>Bob</td>\n",
       "      <td>30</td>\n",
       "    </tr>\n",
       "    <tr>\n",
       "      <th>1</th>\n",
       "      <td>2</td>\n",
       "      <td>Charlie</td>\n",
       "      <td>35</td>\n",
       "    </tr>\n",
       "    <tr>\n",
       "      <th>2</th>\n",
       "      <td>3</td>\n",
       "      <td>David</td>\n",
       "      <td>40</td>\n",
       "    </tr>\n",
       "    <tr>\n",
       "      <th>3</th>\n",
       "      <td>0</td>\n",
       "      <td>Eve</td>\n",
       "      <td>28</td>\n",
       "    </tr>\n",
       "  </tbody>\n",
       "</table>\n",
       "</div>"
      ],
      "text/plain": [
       "   ID     Name  Age\n",
       "0   1      Bob   30\n",
       "1   2  Charlie   35\n",
       "2   3    David   40\n",
       "3   0      Eve   28"
      ]
     },
     "execution_count": 9,
     "metadata": {},
     "output_type": "execute_result"
    }
   ],
   "source": [
    "new_row = {'ID': 0, 'Name': 'Eve', 'Age': 28}\n",
    "df = pd.concat([df, pd.DataFrame([new_row])], ignore_index=True)\n",
    "df"
   ]
  },
  {
   "cell_type": "markdown",
   "id": "db1c3142-b7ad-4fcd-8524-688f5245f0d9",
   "metadata": {},
   "source": [
    "## 自定义id的情况"
   ]
  },
  {
   "cell_type": "code",
   "execution_count": 12,
   "id": "ba032627-5d20-473c-b2fc-36a901e831cd",
   "metadata": {},
   "outputs": [
    {
     "data": {
      "text/html": [
       "<div>\n",
       "<style scoped>\n",
       "    .dataframe tbody tr th:only-of-type {\n",
       "        vertical-align: middle;\n",
       "    }\n",
       "\n",
       "    .dataframe tbody tr th {\n",
       "        vertical-align: top;\n",
       "    }\n",
       "\n",
       "    .dataframe thead th {\n",
       "        text-align: right;\n",
       "    }\n",
       "</style>\n",
       "<table border=\"1\" class=\"dataframe\">\n",
       "  <thead>\n",
       "    <tr style=\"text-align: right;\">\n",
       "      <th></th>\n",
       "      <th>id</th>\n",
       "      <th>文本</th>\n",
       "      <th>分类</th>\n",
       "    </tr>\n",
       "  </thead>\n",
       "  <tbody>\n",
       "    <tr>\n",
       "      <th>0</th>\n",
       "      <td>1</td>\n",
       "      <td>《沧海寄》是一个故事游戏，讲述了公元14世纪至22世纪跨度800余年间，全球范围内，发生的各...</td>\n",
       "      <td>故事设定</td>\n",
       "    </tr>\n",
       "    <tr>\n",
       "      <th>1</th>\n",
       "      <td>2</td>\n",
       "      <td>潘菲洛，14世纪人物，生活在威尼斯。曾经是大商人，破产后又遭遇大瘟疫，出海避险，辗转于黎凡特...</td>\n",
       "      <td>人物设定</td>\n",
       "    </tr>\n",
       "    <tr>\n",
       "      <th>2</th>\n",
       "      <td>3</td>\n",
       "      <td>马努，15世纪人物，是摩鹿加群岛哈朗加帝国的军事贵族，曾经多次联合其他伊斯兰力量，击败葡萄牙...</td>\n",
       "      <td>人物设定</td>\n",
       "    </tr>\n",
       "    <tr>\n",
       "      <th>3</th>\n",
       "      <td>4</td>\n",
       "      <td>博尔都，14世纪人物，元末明初人。曾官至南昌府知府。因红巾军战乱，颠沛流离，中年在漠北北元做...</td>\n",
       "      <td>人物设定</td>\n",
       "    </tr>\n",
       "  </tbody>\n",
       "</table>\n",
       "</div>"
      ],
      "text/plain": [
       "   id                                                 文本    分类\n",
       "0   1  《沧海寄》是一个故事游戏，讲述了公元14世纪至22世纪跨度800余年间，全球范围内，发生的各...  故事设定\n",
       "1   2  潘菲洛，14世纪人物，生活在威尼斯。曾经是大商人，破产后又遭遇大瘟疫，出海避险，辗转于黎凡特...  人物设定\n",
       "2   3  马努，15世纪人物，是摩鹿加群岛哈朗加帝国的军事贵族，曾经多次联合其他伊斯兰力量，击败葡萄牙...  人物设定\n",
       "3   4  博尔都，14世纪人物，元末明初人。曾官至南昌府知府。因红巾军战乱，颠沛流离，中年在漠北北元做...  人物设定"
      ]
     },
     "execution_count": 12,
     "metadata": {},
     "output_type": "execute_result"
    }
   ],
   "source": [
    "data = [[1, '《沧海寄》是一个故事游戏，讲述了公元14世纪至22世纪跨度800余年间，全球范围内，发生的各种故事。涌现出众多人物，在历史的大背景下，合情合理而令人印象深刻的呈现他们的故事。', '故事设定'],\n",
    "[2,'潘菲洛，14世纪人物，生活在威尼斯。曾经是大商人，破产后又遭遇大瘟疫，出海避险，辗转于黎凡特和加尔各答，重新赢得了财富。晚年定居热那亚。', '人物设定'],\n",
    "[3,'马努，15世纪人物，是摩鹿加群岛哈朗加帝国的军事贵族，曾经多次联合其他伊斯兰力量，击败葡萄牙和西班牙的入侵。晚年遭遇权力斗争中失败，这也波及到他参与组织的海军阶层。马努死后第5年，西班牙人屠灭了哈朗加帝国。', '人物设定'],\n",
    "[4,'博尔都，14世纪人物，元末明初人。曾官至南昌府知府。因红巾军战乱，颠沛流离，中年在漠北北元做过枢密院的小官。又因蓝玉扫北被俘，多次辗转后，终老于撒马尔罕。', '人物设定']\n",
    "]\n",
    "df = pd.DataFrame(data, columns = ['id','文本', '分类'])\n",
    "df"
   ]
  },
  {
   "cell_type": "code",
   "execution_count": 13,
   "id": "1349091d-b45d-4773-818c-a767f3e249fd",
   "metadata": {},
   "outputs": [
    {
     "data": {
      "text/html": [
       "<div>\n",
       "<style scoped>\n",
       "    .dataframe tbody tr th:only-of-type {\n",
       "        vertical-align: middle;\n",
       "    }\n",
       "\n",
       "    .dataframe tbody tr th {\n",
       "        vertical-align: top;\n",
       "    }\n",
       "\n",
       "    .dataframe thead th {\n",
       "        text-align: right;\n",
       "    }\n",
       "</style>\n",
       "<table border=\"1\" class=\"dataframe\">\n",
       "  <thead>\n",
       "    <tr style=\"text-align: right;\">\n",
       "      <th></th>\n",
       "      <th>id</th>\n",
       "      <th>文本</th>\n",
       "      <th>分类</th>\n",
       "    </tr>\n",
       "  </thead>\n",
       "  <tbody>\n",
       "    <tr>\n",
       "      <th>0</th>\n",
       "      <td>1</td>\n",
       "      <td>《沧海寄》是一个故事游戏，讲述了公元14世纪至22世纪跨度800余年间，全球范围内，发生的各...</td>\n",
       "      <td>故事设定</td>\n",
       "    </tr>\n",
       "    <tr>\n",
       "      <th>2</th>\n",
       "      <td>3</td>\n",
       "      <td>马努，15世纪人物，是摩鹿加群岛哈朗加帝国的军事贵族，曾经多次联合其他伊斯兰力量，击败葡萄牙...</td>\n",
       "      <td>人物设定</td>\n",
       "    </tr>\n",
       "    <tr>\n",
       "      <th>3</th>\n",
       "      <td>4</td>\n",
       "      <td>博尔都，14世纪人物，元末明初人。曾官至南昌府知府。因红巾军战乱，颠沛流离，中年在漠北北元做...</td>\n",
       "      <td>人物设定</td>\n",
       "    </tr>\n",
       "  </tbody>\n",
       "</table>\n",
       "</div>"
      ],
      "text/plain": [
       "   id                                                 文本    分类\n",
       "0   1  《沧海寄》是一个故事游戏，讲述了公元14世纪至22世纪跨度800余年间，全球范围内，发生的各...  故事设定\n",
       "2   3  马努，15世纪人物，是摩鹿加群岛哈朗加帝国的军事贵族，曾经多次联合其他伊斯兰力量，击败葡萄牙...  人物设定\n",
       "3   4  博尔都，14世纪人物，元末明初人。曾官至南昌府知府。因红巾军战乱，颠沛流离，中年在漠北北元做...  人物设定"
      ]
     },
     "execution_count": 13,
     "metadata": {},
     "output_type": "execute_result"
    }
   ],
   "source": [
    "# 删除 ID 为 0 的行\n",
    "df = df[df['id'] != 2]\n",
    "df"
   ]
  },
  {
   "cell_type": "code",
   "execution_count": 14,
   "id": "bff0bd47-23fb-465e-939c-9c75da326952",
   "metadata": {},
   "outputs": [
    {
     "data": {
      "text/html": [
       "<div>\n",
       "<style scoped>\n",
       "    .dataframe tbody tr th:only-of-type {\n",
       "        vertical-align: middle;\n",
       "    }\n",
       "\n",
       "    .dataframe tbody tr th {\n",
       "        vertical-align: top;\n",
       "    }\n",
       "\n",
       "    .dataframe thead th {\n",
       "        text-align: right;\n",
       "    }\n",
       "</style>\n",
       "<table border=\"1\" class=\"dataframe\">\n",
       "  <thead>\n",
       "    <tr style=\"text-align: right;\">\n",
       "      <th></th>\n",
       "      <th>id</th>\n",
       "      <th>文本</th>\n",
       "      <th>分类</th>\n",
       "    </tr>\n",
       "  </thead>\n",
       "  <tbody>\n",
       "    <tr>\n",
       "      <th>0</th>\n",
       "      <td>1</td>\n",
       "      <td>《沧海寄》是一个故事游戏，讲述了公元14世纪至22世纪跨度800余年间，全球范围内，发生的各...</td>\n",
       "      <td>故事设定</td>\n",
       "    </tr>\n",
       "    <tr>\n",
       "      <th>1</th>\n",
       "      <td>3</td>\n",
       "      <td>马努，15世纪人物，是摩鹿加群岛哈朗加帝国的军事贵族，曾经多次联合其他伊斯兰力量，击败葡萄牙...</td>\n",
       "      <td>人物设定</td>\n",
       "    </tr>\n",
       "    <tr>\n",
       "      <th>2</th>\n",
       "      <td>4</td>\n",
       "      <td>博尔都，14世纪人物，元末明初人。曾官至南昌府知府。因红巾军战乱，颠沛流离，中年在漠北北元做...</td>\n",
       "      <td>人物设定</td>\n",
       "    </tr>\n",
       "    <tr>\n",
       "      <th>3</th>\n",
       "      <td>2</td>\n",
       "      <td>郭居静，字仰凤，原名拉扎罗。天主教耶稣会意大利籍传教士。明朝时来华传教士之一，是利玛窦传教的...</td>\n",
       "      <td>人物设定</td>\n",
       "    </tr>\n",
       "  </tbody>\n",
       "</table>\n",
       "</div>"
      ],
      "text/plain": [
       "   id                                                 文本    分类\n",
       "0   1  《沧海寄》是一个故事游戏，讲述了公元14世纪至22世纪跨度800余年间，全球范围内，发生的各...  故事设定\n",
       "1   3  马努，15世纪人物，是摩鹿加群岛哈朗加帝国的军事贵族，曾经多次联合其他伊斯兰力量，击败葡萄牙...  人物设定\n",
       "2   4  博尔都，14世纪人物，元末明初人。曾官至南昌府知府。因红巾军战乱，颠沛流离，中年在漠北北元做...  人物设定\n",
       "3   2  郭居静，字仰凤，原名拉扎罗。天主教耶稣会意大利籍传教士。明朝时来华传教士之一，是利玛窦传教的...  人物设定"
      ]
     },
     "execution_count": 14,
     "metadata": {},
     "output_type": "execute_result"
    }
   ],
   "source": [
    "new_row = {'id': 2, '文本': '郭居静，字仰凤，原名拉扎罗。天主教耶稣会意大利籍传教士。明朝时来华传教士之一，是利玛窦传教的主要助手。后卷入郭居静事件，事件平息后，赴上海和杭州开教。卒于杭州。', '分类': '人物设定'}\n",
    "df = pd.concat([df, pd.DataFrame([new_row])], ignore_index=True)\n",
    "df"
   ]
  }
 ],
 "metadata": {
  "kernelspec": {
   "display_name": "Python 3 (ipykernel)",
   "language": "python",
   "name": "python3"
  },
  "language_info": {
   "codemirror_mode": {
    "name": "ipython",
    "version": 3
   },
   "file_extension": ".py",
   "mimetype": "text/x-python",
   "name": "python",
   "nbconvert_exporter": "python",
   "pygments_lexer": "ipython3",
   "version": "3.10.12"
  }
 },
 "nbformat": 4,
 "nbformat_minor": 5
}
