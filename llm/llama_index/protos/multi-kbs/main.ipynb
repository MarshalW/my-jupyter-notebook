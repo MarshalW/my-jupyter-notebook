{
 "cells": [
  {
   "cell_type": "markdown",
   "id": "7340eae2-bd00-4598-a8b4-a1d9b0eea4b3",
   "metadata": {},
   "source": [
    "# 基于路由的多数据源 RAG"
   ]
  },
  {
   "cell_type": "markdown",
   "id": "a3d9f991-7510-45f5-8472-5bfe201febbf",
   "metadata": {},
   "source": [
    "理解可能有误\n",
    "\n",
    "router retriver 是针对同一个数据源，采取不同的索引策略？"
   ]
  },
  {
   "cell_type": "markdown",
   "id": "1879bbf5-70dd-40e6-835e-78556f4924ba",
   "metadata": {},
   "source": [
    "## 全局设置"
   ]
  },
  {
   "cell_type": "code",
   "execution_count": 1,
   "id": "13e092a8-44e7-4bba-821f-c99412a29ea9",
   "metadata": {},
   "outputs": [
    {
     "name": "stdout",
     "output_type": "stream",
     "text": [
      "CPU times: user 3.43 s, sys: 425 ms, total: 3.85 s\n",
      "Wall time: 3.47 s\n"
     ]
    }
   ],
   "source": [
    "%%time\n",
    "\n",
    "from llama_index.core import Settings\n",
    "from llama_index.llms.openai_like import OpenAILike\n",
    "from llama_index.embeddings.ollama import OllamaEmbedding\n",
    "\n",
    "Settings.llm=OpenAILike(\n",
    "    model=\"qwen2\", \n",
    "    api_base=\"http://ape:3000/v1\", \n",
    "    api_key=\"sk-bJP6QSnUfjAYeYeE505d3eBf63A643BeB0B8E350Df9b7750\",\n",
    "    is_chat_model=True,\n",
    "    temperature=0.1,\n",
    "    request_timeout=60.0\n",
    ")\n",
    "\n",
    "Settings.embed_model = OllamaEmbedding(\n",
    "    model_name=\"quentinz/bge-large-zh-v1.5\",\n",
    "    base_url=\"http://ape:11434\",\n",
    "    ollama_additional_kwargs={\"mirostat\": 0}, # -mirostat N 使用 Mirostat 采样。\n",
    ")\n",
    "\n",
    "Settings.chunk_size = 128\n",
    "Settings.chunk_overlap = 10"
   ]
  },
  {
   "cell_type": "markdown",
   "id": "794ad145-509e-4253-ae6a-7e5878c68d99",
   "metadata": {},
   "source": [
    "## 创建多个检索器"
   ]
  },
  {
   "cell_type": "markdown",
   "id": "a504028d-880b-43da-a16e-e0d4f3fb7b2a",
   "metadata": {},
   "source": [
    "### 旅游信息检索器"
   ]
  },
  {
   "cell_type": "code",
   "execution_count": 2,
   "id": "8edf3911-e119-4613-a91e-95ffd81417f2",
   "metadata": {},
   "outputs": [
    {
     "name": "stdout",
     "output_type": "stream",
     "text": [
      "CPU times: user 740 ms, sys: 12.2 ms, total: 752 ms\n",
      "Wall time: 984 ms\n"
     ]
    },
    {
     "data": {
      "text/plain": [
       "3"
      ]
     },
     "execution_count": 2,
     "metadata": {},
     "output_type": "execute_result"
    }
   ],
   "source": [
    "%%time\n",
    "\n",
    "items=[\n",
    "    \"颐和园\",\n",
    "    \"北海公园\",\n",
    "    \"故宫\",\n",
    "]\n",
    "\n",
    "from llama_index.readers.web import TrafilaturaWebReader\n",
    "\n",
    "documents = TrafilaturaWebReader().load_data(\n",
    "    [ f\"https://baike.baidu.com/item/{item}\" for item in items]\n",
    ")\n",
    "\n",
    "len(documents)"
   ]
  },
  {
   "cell_type": "code",
   "execution_count": 3,
   "id": "227d8b81-56cc-4dce-9f05-3f8477653a7c",
   "metadata": {},
   "outputs": [
    {
     "name": "stdout",
     "output_type": "stream",
     "text": [
      "CPU times: user 2.54 s, sys: 96.3 ms, total: 2.64 s\n",
      "Wall time: 54.7 s\n"
     ]
    }
   ],
   "source": [
    "%%time\n",
    "\n",
    "from llama_index.core import VectorStoreIndex\n",
    "from llama_index.core.retrievers import VectorIndexRetriever\n",
    "\n",
    "vector_index = VectorStoreIndex.from_documents(documents)\n",
    "# attractions_retriever=vector_index.as_retriever()\n",
    "attractions_retriever = VectorIndexRetriever(\n",
    "    index=vector_index,\n",
    "    # similarity_top_k=1,\n",
    ")"
   ]
  },
  {
   "cell_type": "code",
   "execution_count": 4,
   "id": "09798028-4f03-4b30-b1a6-abf3052c89c8",
   "metadata": {},
   "outputs": [
    {
     "name": "stdout",
     "output_type": "stream",
     "text": [
      "CPU times: user 107 ms, sys: 3.72 ms, total: 111 ms\n",
      "Wall time: 2.28 s\n"
     ]
    },
    {
     "data": {
      "text/plain": [
       "'北海公园位于北京市西城区文津街1号。'"
      ]
     },
     "execution_count": 4,
     "metadata": {},
     "output_type": "execute_result"
    }
   ],
   "source": [
    "%%time\n",
    "\n",
    "from llama_index.core import get_response_synthesizer\n",
    "from llama_index.core.query_engine import RetrieverQueryEngine\n",
    "\n",
    "response_synthesizer = get_response_synthesizer()\n",
    "query_engine = RetrieverQueryEngine(\n",
    "    retriever=attractions_retriever,\n",
    "    response_synthesizer=response_synthesizer,\n",
    ")\n",
    "\n",
    "response = query_engine.query(\"北海公园在哪里？\")\n",
    "response.response"
   ]
  },
  {
   "cell_type": "markdown",
   "id": "471fb4bf-fc77-4834-bb84-37aba03daca5",
   "metadata": {},
   "source": [
    "### 动物信息检索器"
   ]
  },
  {
   "cell_type": "code",
   "execution_count": 5,
   "id": "5feb377d-19e2-4ddc-94f4-07216f388dea",
   "metadata": {},
   "outputs": [
    {
     "name": "stdout",
     "output_type": "stream",
     "text": [
      "CPU times: user 302 ms, sys: 3.04 ms, total: 305 ms\n",
      "Wall time: 551 ms\n"
     ]
    },
    {
     "data": {
      "text/plain": [
       "3"
      ]
     },
     "execution_count": 5,
     "metadata": {},
     "output_type": "execute_result"
    }
   ],
   "source": [
    "%%time\n",
    "\n",
    "items=[\n",
    "    \"大熊猫\",\n",
    "    \"东北虎\",\n",
    "    \"狸花猫\",\n",
    "]\n",
    "\n",
    "from llama_index.readers.web import TrafilaturaWebReader\n",
    "\n",
    "documents = TrafilaturaWebReader().load_data(\n",
    "    [ f\"https://baike.baidu.com/item/{item}\" for item in items]\n",
    ")\n",
    "\n",
    "len(documents)"
   ]
  },
  {
   "cell_type": "code",
   "execution_count": 6,
   "id": "605bb4e2-c7cd-4413-9c21-1afff71cdd78",
   "metadata": {},
   "outputs": [
    {
     "name": "stdout",
     "output_type": "stream",
     "text": [
      "CPU times: user 1.84 s, sys: 72.1 ms, total: 1.91 s\n",
      "Wall time: 38.8 s\n"
     ]
    }
   ],
   "source": [
    "%%time\n",
    "\n",
    "vector_index = VectorStoreIndex.from_documents(documents)\n",
    "# animals_retriever=vector_index.as_retriever()\n",
    "animals_retriever = VectorIndexRetriever(\n",
    "    index=vector_index,\n",
    "    # similarity_top_k=1,\n",
    ")"
   ]
  },
  {
   "cell_type": "code",
   "execution_count": 7,
   "id": "691d052f-b72f-42d0-8a0b-feaa58cb5197",
   "metadata": {},
   "outputs": [
    {
     "name": "stdout",
     "output_type": "stream",
     "text": [
      "CPU times: user 22 ms, sys: 3.36 ms, total: 25.4 ms\n",
      "Wall time: 626 ms\n"
     ]
    },
    {
     "data": {
      "text/plain": [
       "'成年东北虎雄性的平均体重为250千克。'"
      ]
     },
     "execution_count": 7,
     "metadata": {},
     "output_type": "execute_result"
    }
   ],
   "source": [
    "%%time\n",
    "\n",
    "response_synthesizer = get_response_synthesizer()\n",
    "query_engine = RetrieverQueryEngine(\n",
    "    retriever=animals_retriever,\n",
    "    response_synthesizer=response_synthesizer,\n",
    ")\n",
    "\n",
    "response = query_engine.query(\"东北虎有多重？\")\n",
    "response.response"
   ]
  },
  {
   "cell_type": "markdown",
   "id": "032143a1-a4fa-4f7d-8983-acae3d66c717",
   "metadata": {},
   "source": [
    "## 实现路由查询"
   ]
  },
  {
   "cell_type": "code",
   "execution_count": 8,
   "id": "2fc3535b-b15e-4689-abd4-dd125ffdf745",
   "metadata": {},
   "outputs": [
    {
     "name": "stdout",
     "output_type": "stream",
     "text": [
      "CPU times: user 12 µs, sys: 1 µs, total: 13 µs\n",
      "Wall time: 14.3 µs\n"
     ]
    }
   ],
   "source": [
    "%%time\n",
    "\n",
    "from llama_index.core.tools import RetrieverTool\n",
    "\n",
    "attractions_tool = RetrieverTool.from_defaults(\n",
    "    retriever=attractions_retriever,\n",
    "    description=(\n",
    "        \"检索有关旅游景点方面信息上下文\"\n",
    "        \"目前包括： 颐和园、北海公园和故宫等\"\n",
    "    ),\n",
    ")"
   ]
  },
  {
   "cell_type": "code",
   "execution_count": 9,
   "id": "742fd616-2da6-4ffe-98ff-08d206a9fe20",
   "metadata": {},
   "outputs": [
    {
     "name": "stdout",
     "output_type": "stream",
     "text": [
      "CPU times: user 8 µs, sys: 1e+03 ns, total: 9 µs\n",
      "Wall time: 10.3 µs\n"
     ]
    }
   ],
   "source": [
    "%%time\n",
    "\n",
    "animals_tool = RetrieverTool.from_defaults(\n",
    "    retriever=animals_retriever,\n",
    "    description=(\n",
    "        \"检索有关动物方面信息上下文\"\n",
    "    ),\n",
    ")"
   ]
  },
  {
   "cell_type": "code",
   "execution_count": 13,
   "id": "a8a0a697-f721-4255-a923-522bafc823b2",
   "metadata": {},
   "outputs": [
    {
     "ename": "AttributeError",
     "evalue": "'VectorIndexRetriever' object has no attribute 'retriever'",
     "output_type": "error",
     "traceback": [
      "\u001b[0;31m---------------------------------------------------------------------------\u001b[0m",
      "\u001b[0;31mAttributeError\u001b[0m                            Traceback (most recent call last)",
      "File \u001b[0;32m<timed exec>:6\u001b[0m\n",
      "File \u001b[0;32m/usr/local/lib/python3.10/dist-packages/llama_index/core/retrievers/router_retriever.py:51\u001b[0m, in \u001b[0;36mRouterRetriever.__init__\u001b[0;34m(self, selector, retriever_tools, llm, service_context, objects, object_map, verbose)\u001b[0m\n\u001b[1;32m     49\u001b[0m \u001b[38;5;28mself\u001b[39m\u001b[38;5;241m.\u001b[39m_llm \u001b[38;5;241m=\u001b[39m llm \u001b[38;5;129;01mor\u001b[39;00m llm_from_settings_or_context(Settings, service_context)\n\u001b[1;32m     50\u001b[0m \u001b[38;5;28mself\u001b[39m\u001b[38;5;241m.\u001b[39m_selector \u001b[38;5;241m=\u001b[39m selector\n\u001b[0;32m---> 51\u001b[0m \u001b[38;5;28mself\u001b[39m\u001b[38;5;241m.\u001b[39m_retrievers: List[BaseRetriever] \u001b[38;5;241m=\u001b[39m [x\u001b[38;5;241m.\u001b[39mretriever \u001b[38;5;28;01mfor\u001b[39;00m x \u001b[38;5;129;01min\u001b[39;00m retriever_tools]\n\u001b[1;32m     52\u001b[0m \u001b[38;5;28mself\u001b[39m\u001b[38;5;241m.\u001b[39m_metadatas \u001b[38;5;241m=\u001b[39m [x\u001b[38;5;241m.\u001b[39mmetadata \u001b[38;5;28;01mfor\u001b[39;00m x \u001b[38;5;129;01min\u001b[39;00m retriever_tools]\n\u001b[1;32m     54\u001b[0m \u001b[38;5;28msuper\u001b[39m()\u001b[38;5;241m.\u001b[39m\u001b[38;5;21m__init__\u001b[39m(\n\u001b[1;32m     55\u001b[0m     callback_manager\u001b[38;5;241m=\u001b[39mcallback_manager_from_settings_or_context(\n\u001b[1;32m     56\u001b[0m         Settings, service_context\n\u001b[0;32m   (...)\u001b[0m\n\u001b[1;32m     60\u001b[0m     verbose\u001b[38;5;241m=\u001b[39mverbose,\n\u001b[1;32m     61\u001b[0m )\n",
      "File \u001b[0;32m/usr/local/lib/python3.10/dist-packages/llama_index/core/retrievers/router_retriever.py:51\u001b[0m, in \u001b[0;36m<listcomp>\u001b[0;34m(.0)\u001b[0m\n\u001b[1;32m     49\u001b[0m \u001b[38;5;28mself\u001b[39m\u001b[38;5;241m.\u001b[39m_llm \u001b[38;5;241m=\u001b[39m llm \u001b[38;5;129;01mor\u001b[39;00m llm_from_settings_or_context(Settings, service_context)\n\u001b[1;32m     50\u001b[0m \u001b[38;5;28mself\u001b[39m\u001b[38;5;241m.\u001b[39m_selector \u001b[38;5;241m=\u001b[39m selector\n\u001b[0;32m---> 51\u001b[0m \u001b[38;5;28mself\u001b[39m\u001b[38;5;241m.\u001b[39m_retrievers: List[BaseRetriever] \u001b[38;5;241m=\u001b[39m [\u001b[43mx\u001b[49m\u001b[38;5;241;43m.\u001b[39;49m\u001b[43mretriever\u001b[49m \u001b[38;5;28;01mfor\u001b[39;00m x \u001b[38;5;129;01min\u001b[39;00m retriever_tools]\n\u001b[1;32m     52\u001b[0m \u001b[38;5;28mself\u001b[39m\u001b[38;5;241m.\u001b[39m_metadatas \u001b[38;5;241m=\u001b[39m [x\u001b[38;5;241m.\u001b[39mmetadata \u001b[38;5;28;01mfor\u001b[39;00m x \u001b[38;5;129;01min\u001b[39;00m retriever_tools]\n\u001b[1;32m     54\u001b[0m \u001b[38;5;28msuper\u001b[39m()\u001b[38;5;241m.\u001b[39m\u001b[38;5;21m__init__\u001b[39m(\n\u001b[1;32m     55\u001b[0m     callback_manager\u001b[38;5;241m=\u001b[39mcallback_manager_from_settings_or_context(\n\u001b[1;32m     56\u001b[0m         Settings, service_context\n\u001b[0;32m   (...)\u001b[0m\n\u001b[1;32m     60\u001b[0m     verbose\u001b[38;5;241m=\u001b[39mverbose,\n\u001b[1;32m     61\u001b[0m )\n",
      "\u001b[0;31mAttributeError\u001b[0m: 'VectorIndexRetriever' object has no attribute 'retriever'"
     ]
    }
   ],
   "source": [
    "%%time\n",
    "\n",
    "from llama_index.core.retrievers import RouterRetriever\n",
    "from llama_index.core.selectors import LLMSingleSelector\n",
    "# from llama_index.selectors.llm_selectors import LLMSingleSelector\n",
    "from llama_index.llms.openai import OpenAI\n",
    "\n",
    "retriever = RouterRetriever(\n",
    "    selector=LLMSingleSelector.from_defaults(),\n",
    "    retriever_tools=[\n",
    "        attractions_retriever,\n",
    "        animals_retriever,\n",
    "    ],\n",
    ")"
   ]
  },
  {
   "cell_type": "code",
   "execution_count": null,
   "id": "6bbc6602-a34c-41f3-9fce-4e370d987890",
   "metadata": {},
   "outputs": [],
   "source": []
  }
 ],
 "metadata": {
  "kernelspec": {
   "display_name": "Python 3 (ipykernel)",
   "language": "python",
   "name": "python3"
  },
  "language_info": {
   "codemirror_mode": {
    "name": "ipython",
    "version": 3
   },
   "file_extension": ".py",
   "mimetype": "text/x-python",
   "name": "python",
   "nbconvert_exporter": "python",
   "pygments_lexer": "ipython3",
   "version": "3.10.12"
  }
 },
 "nbformat": 4,
 "nbformat_minor": 5
}
