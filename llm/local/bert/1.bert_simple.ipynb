{
 "cells": [
  {
   "cell_type": "markdown",
   "id": "b183812d-7f28-4fbd-807f-7203e51d6560",
   "metadata": {},
   "source": [
    "# 使用 BERT 模型做情感分类\n",
    "\n",
    "模型：distilbert-base-uncased-finetuned-sst-2-english\n",
    "\n",
    "默认代码会通过 huggingface.co 自动下载模型，但国内无法直接访问。\n",
    "\n",
    "因此这里将模型下载到本地，再通过设置本地路径执行。\n",
    "\n",
    "BERT 不支持中文。\n",
    "\n",
    "## 使用 cpu 做推理的版本\n"
   ]
  },
  {
   "cell_type": "code",
   "execution_count": 1,
   "id": "ca9dc75c-6cb3-45d0-9ef8-fb29e50b16e1",
   "metadata": {},
   "outputs": [
    {
     "name": "stdout",
     "output_type": "stream",
     "text": [
      "文本: Tottenham 2-0 Fulham: Ange Postecoglou is 'bringing the excitement back to Tottenham'\n",
      "情感: 积极\n",
      "使用设备: cpu\n",
      "耗时: 0.9387893676757812 秒\n"
     ]
    }
   ],
   "source": [
    "import torch\n",
    "from transformers import DistilBertTokenizer, DistilBertForSequenceClassification\n",
    "import time\n",
    "\n",
    "start_time = time.time()\n",
    "\n",
    "# 用于强制使用 cpu 时\n",
    "import os\n",
    "os.environ[\"CUDA_VISIBLE_DEVICES\"] = \"-1\"\n",
    "\n",
    "# 加载DistilBERT模型和Tokenizer\n",
    "model_name = \"/root/notebook/huggingface/distilbert-base-uncased-finetuned-sst-2-english\"\n",
    "tokenizer = DistilBertTokenizer.from_pretrained(model_name)\n",
    "model = DistilBertForSequenceClassification.from_pretrained(model_name)\n",
    "\n",
    "# 输入文本\n",
    "text = \"Tottenham 2-0 Fulham: Ange Postecoglou is 'bringing the excitement back to Tottenham'\"\n",
    "\n",
    "# 对文本进行标记化和编码\n",
    "inputs = tokenizer(text, return_tensors='pt', padding=True, truncation=True)\n",
    "\n",
    "# 获取模型的预测\n",
    "with torch.no_grad():\n",
    "    outputs = model(**inputs)\n",
    "    logits = outputs.logits\n",
    "\n",
    "# 分析预测结果\n",
    "probabilities = torch.softmax(logits, dim=1)\n",
    "predicted_class = torch.argmax(probabilities, dim=1).item()\n",
    "class_labels = ['消极', '积极']\n",
    "\n",
    "print(f\"文本: {text}\")\n",
    "print(f\"情感: {class_labels[predicted_class]}\")\n",
    "\n",
    "device = torch.device(\"cuda\" if torch.cuda.is_available() else \"cpu\")\n",
    "print(f\"使用设备: {device}\")\n",
    "end_time = time.time()\n",
    "delta_time = end_time - start_time\n",
    "print(\"耗时:\", delta_time, \"秒\")\n"
   ]
  },
  {
   "cell_type": "markdown",
   "id": "f47acd2d-d999-4b32-be5d-ae72c051d499",
   "metadata": {},
   "source": [
    "## 使用 gpu 做推理的版本"
   ]
  },
  {
   "cell_type": "code",
   "execution_count": 2,
   "id": "f72b9fa1-1a4a-4b8a-8c49-c9826d2418d1",
   "metadata": {},
   "outputs": [
    {
     "name": "stdout",
     "output_type": "stream",
     "text": [
      "文本: Tottenham 2-0 Fulham: Ange Postecoglou is 'bringing the excitement back to Tottenham'\n",
      "情感: 积极\n",
      "使用设备: cpu\n",
      "耗时: 0.5708107948303223 秒\n"
     ]
    }
   ],
   "source": [
    "import torch\n",
    "from transformers import DistilBertTokenizer, DistilBertForSequenceClassification\n",
    "import time\n",
    "\n",
    "start_time = time.time()\n",
    "\n",
    "# # 用于强制使用 cpu 时\n",
    "# import os\n",
    "# os.environ[\"CUDA_VISIBLE_DEVICES\"] = \"-1\"\n",
    "\n",
    "# 加载DistilBERT模型和Tokenizer\n",
    "model_name = \"/root/notebook/huggingface/distilbert-base-uncased-finetuned-sst-2-english\"\n",
    "tokenizer = DistilBertTokenizer.from_pretrained(model_name)\n",
    "model = DistilBertForSequenceClassification.from_pretrained(model_name)\n",
    "\n",
    "# 输入文本\n",
    "text = \"Tottenham 2-0 Fulham: Ange Postecoglou is 'bringing the excitement back to Tottenham'\"\n",
    "\n",
    "# 对文本进行标记化和编码\n",
    "inputs = tokenizer(text, return_tensors='pt', padding=True, truncation=True)\n",
    "\n",
    "# 获取模型的预测\n",
    "with torch.no_grad():\n",
    "    outputs = model(**inputs)\n",
    "    logits = outputs.logits\n",
    "\n",
    "# 分析预测结果\n",
    "probabilities = torch.softmax(logits, dim=1)\n",
    "predicted_class = torch.argmax(probabilities, dim=1).item()\n",
    "class_labels = ['消极', '积极']\n",
    "\n",
    "print(f\"文本: {text}\")\n",
    "print(f\"情感: {class_labels[predicted_class]}\")\n",
    "\n",
    "device = torch.device(\"cuda\" if torch.cuda.is_available() else \"cpu\")\n",
    "print(f\"使用设备: {device}\")\n",
    "end_time = time.time()\n",
    "delta_time = end_time - start_time\n",
    "print(\"耗时:\", delta_time, \"秒\")"
   ]
  },
  {
   "cell_type": "code",
   "execution_count": null,
   "id": "bf22e407-ffe2-4dd3-8704-2d734842d194",
   "metadata": {},
   "outputs": [],
   "source": []
  }
 ],
 "metadata": {
  "kernelspec": {
   "display_name": "Python 3 (ipykernel)",
   "language": "python",
   "name": "python3"
  },
  "language_info": {
   "codemirror_mode": {
    "name": "ipython",
    "version": 3
   },
   "file_extension": ".py",
   "mimetype": "text/x-python",
   "name": "python",
   "nbconvert_exporter": "python",
   "pygments_lexer": "ipython3",
   "version": "3.10.12"
  }
 },
 "nbformat": 4,
 "nbformat_minor": 5
}
