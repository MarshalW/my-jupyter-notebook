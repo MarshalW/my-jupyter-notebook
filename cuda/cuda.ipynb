{
 "cells": [
  {
   "cell_type": "markdown",
   "id": "27649f03-a9d6-4f2b-bf8a-4cbaa46fc01d",
   "metadata": {},
   "source": [
    "# 测试 pytorch 和 cuda 是否工作"
   ]
  },
  {
   "cell_type": "code",
   "execution_count": 1,
   "id": "a3fc872c-cd14-44bc-ad39-26cd7e85af64",
   "metadata": {},
   "outputs": [
    {
     "data": {
      "text/plain": [
       "'NVIDIA GeForce GTX 1650'"
      ]
     },
     "execution_count": 1,
     "metadata": {},
     "output_type": "execute_result"
    }
   ],
   "source": [
    "import torch\n",
    "\n",
    "# 获取 cuda 设备名称\n",
    "torch.cuda.get_device_name()"
   ]
  }
 ],
 "metadata": {
  "kernelspec": {
   "display_name": "Python 3 (ipykernel)",
   "language": "python",
   "name": "python3"
  },
  "language_info": {
   "codemirror_mode": {
    "name": "ipython",
    "version": 3
   },
   "file_extension": ".py",
   "mimetype": "text/x-python",
   "name": "python",
   "nbconvert_exporter": "python",
   "pygments_lexer": "ipython3",
   "version": "3.10.12"
  }
 },
 "nbformat": 4,
 "nbformat_minor": 5
}
