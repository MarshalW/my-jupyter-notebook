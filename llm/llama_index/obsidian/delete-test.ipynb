{
 "cells": [
  {
   "cell_type": "markdown",
   "id": "df5109fc-4c0c-43d7-a94b-533c2eb10562",
   "metadata": {},
   "source": [
    "# 删除测试"
   ]
  },
  {
   "cell_type": "markdown",
   "id": "329756ac-144b-4abd-95fd-ec9078f4cd9f",
   "metadata": {},
   "source": [
    "是否能按照预期删除索引存储的记录。"
   ]
  },
  {
   "cell_type": "markdown",
   "id": "9d569d48-638b-448d-a40e-ff3a7691708a",
   "metadata": {},
   "source": [
    "## 全局设置"
   ]
  },
  {
   "cell_type": "code",
   "execution_count": 1,
   "id": "5e947c21-00f1-491f-812b-5b1d176007a4",
   "metadata": {},
   "outputs": [
    {
     "name": "stdout",
     "output_type": "stream",
     "text": [
      "CPU times: user 2.15 s, sys: 264 ms, total: 2.41 s\n",
      "Wall time: 2.03 s\n"
     ]
    }
   ],
   "source": [
    "%%time\n",
    "\n",
    "from llama_index.core import Settings\n",
    "from llama_index.llms.ollama import Ollama\n",
    "from llama_index.embeddings.ollama import OllamaEmbedding\n",
    "\n",
    "Settings.llm=Ollama(\n",
    "    base_url=\"http://ape:11434\",\n",
    "    model=\"qwen2\",\n",
    "    is_chat_model=True,\n",
    "    temperature=0.1,\n",
    "    request_timeout=60.0\n",
    ")\n",
    "\n",
    "Settings.embed_model = OllamaEmbedding(\n",
    "    model_name=\"quentinz/bge-large-zh-v1.5\",\n",
    "    base_url=\"http://ape:11434\",\n",
    "    ollama_additional_kwargs={\"mirostat\": 0}, # -mirostat N 使用 Mirostat 采样。\n",
    ")"
   ]
  },
  {
   "cell_type": "markdown",
   "id": "344393f3-99ec-447c-8bf3-d03e559d4de2",
   "metadata": {},
   "source": [
    "## 准备工作"
   ]
  },
  {
   "cell_type": "code",
   "execution_count": 2,
   "id": "a31d5cd9-53e9-4122-a5c0-71f2a2e2bffc",
   "metadata": {},
   "outputs": [
    {
     "name": "stdout",
     "output_type": "stream",
     "text": [
      "CPU times: user 0 ns, sys: 72 µs, total: 72 µs\n",
      "Wall time: 73.9 µs\n"
     ]
    },
    {
     "data": {
      "text/plain": [
       "'doc_01'"
      ]
     },
     "execution_count": 2,
     "metadata": {},
     "output_type": "execute_result"
    }
   ],
   "source": [
    "%%time\n",
    "\n",
    "from llama_index.core import Document\n",
    "\n",
    "documents = [\n",
    "    Document( text=\"test1\", doc_id=\"doc_01\"),\n",
    "    Document( text=\"test2\", doc_id=\"doc_02\"),\n",
    "    Document( text=\"test3\", doc_id=\"doc_03\"),\n",
    "]\n",
    "\n",
    "documents[0].id_"
   ]
  },
  {
   "cell_type": "code",
   "execution_count": 3,
   "id": "892cb3b7-02c9-4c4f-87fb-74e9c407d76f",
   "metadata": {},
   "outputs": [
    {
     "name": "stdout",
     "output_type": "stream",
     "text": [
      "CPU times: user 808 µs, sys: 7.56 ms, total: 8.37 ms\n",
      "Wall time: 113 ms\n"
     ]
    }
   ],
   "source": [
    "%%time\n",
    "\n",
    "!rm -rf storage"
   ]
  },
  {
   "cell_type": "code",
   "execution_count": 4,
   "id": "473ebc97-4660-4e5b-9ef3-0db7ff126a5e",
   "metadata": {},
   "outputs": [
    {
     "name": "stdout",
     "output_type": "stream",
     "text": [
      "CPU times: user 235 ms, sys: 27.9 ms, total: 263 ms\n",
      "Wall time: 1.54 s\n"
     ]
    }
   ],
   "source": [
    "%%time\n",
    "\n",
    "from llama_index.core import VectorStoreIndex\n",
    "\n",
    "index = VectorStoreIndex.from_documents(documents)\n",
    "index.storage_context.persist()"
   ]
  },
  {
   "cell_type": "markdown",
   "id": "433d5d3b-ef10-4ac9-8780-2a9d8e3b66ba",
   "metadata": {},
   "source": [
    "## 测试删除"
   ]
  },
  {
   "cell_type": "code",
   "execution_count": 5,
   "id": "4b9b3a1a-e0fa-4b7a-8033-1c8061938ac6",
   "metadata": {},
   "outputs": [
    {
     "name": "stdout",
     "output_type": "stream",
     "text": [
      "CPU times: user 151 µs, sys: 0 ns, total: 151 µs\n",
      "Wall time: 154 µs\n"
     ]
    }
   ],
   "source": [
    "%%time\n",
    "\n",
    "status=index.delete_ref_doc(\"doc_03\", delete_from_docstore=True)"
   ]
  },
  {
   "cell_type": "code",
   "execution_count": 7,
   "id": "0b56ec8c-df48-44ad-b9ab-652d14dfb929",
   "metadata": {},
   "outputs": [
    {
     "data": {
      "text/plain": [
       "dict_items([('doc_01', RefDocInfo(node_ids=['06fc718a-d3be-4b26-8da6-6177d3febc74'], metadata={})), ('doc_02', RefDocInfo(node_ids=['789f27e7-644c-4529-8e77-3c0fe6fd17ba'], metadata={}))])"
      ]
     },
     "execution_count": 7,
     "metadata": {},
     "output_type": "execute_result"
    }
   ],
   "source": [
    "index.ref_doc_info.items()"
   ]
  },
  {
   "cell_type": "markdown",
   "id": "e121dc1c-b5f9-470f-a18a-759f8261ed12",
   "metadata": {},
   "source": [
    "## 重新加载索引"
   ]
  },
  {
   "cell_type": "code",
   "execution_count": 10,
   "id": "7f376bfd-9170-4731-9c9f-eb85073da754",
   "metadata": {},
   "outputs": [],
   "source": [
    "from llama_index.core import StorageContext, load_index_from_storage\n",
    "\n",
    "storage_context = StorageContext.from_defaults(\n",
    "    persist_dir=\"./storage\",\n",
    ")\n",
    "index = load_index_from_storage(storage_context)"
   ]
  },
  {
   "cell_type": "code",
   "execution_count": 11,
   "id": "4673f9f0-f59a-452b-b6de-b284f4fd500c",
   "metadata": {},
   "outputs": [
    {
     "data": {
      "text/plain": [
       "dict_items([('doc_01', RefDocInfo(node_ids=['06fc718a-d3be-4b26-8da6-6177d3febc74'], metadata={})), ('doc_02', RefDocInfo(node_ids=['789f27e7-644c-4529-8e77-3c0fe6fd17ba'], metadata={})), ('doc_03', RefDocInfo(node_ids=['8626c83e-c562-47cc-a977-83aa51f620eb'], metadata={}))])"
      ]
     },
     "execution_count": 11,
     "metadata": {},
     "output_type": "execute_result"
    }
   ],
   "source": [
    "index.ref_doc_info.items()"
   ]
  },
  {
   "cell_type": "code",
   "execution_count": null,
   "id": "170a1c6b-85e6-48c4-9771-b7419be66ad5",
   "metadata": {},
   "outputs": [],
   "source": []
  }
 ],
 "metadata": {
  "kernelspec": {
   "display_name": "Python 3 (ipykernel)",
   "language": "python",
   "name": "python3"
  },
  "language_info": {
   "codemirror_mode": {
    "name": "ipython",
    "version": 3
   },
   "file_extension": ".py",
   "mimetype": "text/x-python",
   "name": "python",
   "nbconvert_exporter": "python",
   "pygments_lexer": "ipython3",
   "version": "3.10.12"
  }
 },
 "nbformat": 4,
 "nbformat_minor": 5
}
