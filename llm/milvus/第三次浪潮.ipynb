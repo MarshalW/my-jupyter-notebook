{
 "cells": [
  {
   "cell_type": "markdown",
   "id": "679c1c1a-e0fb-479e-9e8a-1e6802d40ad7",
   "metadata": {},
   "source": [
    "# 加载和分析《第三次浪潮》"
   ]
  },
  {
   "cell_type": "markdown",
   "id": "c2642062-a7ed-4920-b873-3075c93bfb27",
   "metadata": {},
   "source": [
    "## 准备"
   ]
  },
  {
   "cell_type": "code",
   "execution_count": 1,
   "id": "aba634bc-3009-4bbd-a8b5-0f7f1a50eaf0",
   "metadata": {},
   "outputs": [
    {
     "name": "stdout",
     "output_type": "stream",
     "text": [
      "CPU times: user 3.56 s, sys: 480 ms, total: 4.04 s\n",
      "Wall time: 3.67 s\n"
     ]
    }
   ],
   "source": [
    "%%time\n",
    "\n",
    "from llama_index.core import SummaryIndex, Document\n",
    "from llama_index.core import Settings\n",
    "\n",
    "from llama_index.llms.openai_like import OpenAILike\n",
    "from llama_index.embeddings.ollama import OllamaEmbedding\n",
    "\n",
    "from milvus import default_server\n",
    "from pymilvus import connections, utility\n",
    "\n",
    "from llama_index.core import VectorStoreIndex, StorageContext\n",
    "from llama_index.core import (\n",
    "    SimpleDirectoryReader,\n",
    "    load_index_from_storage,\n",
    "    VectorStoreIndex,\n",
    "    StorageContext,\n",
    ")\n",
    "from llama_index.vector_stores.milvus import MilvusVectorStore\n",
    "\n",
    "from llama_index.core.llms import ChatMessage"
   ]
  },
  {
   "cell_type": "code",
   "execution_count": 2,
   "id": "a0c09e23-5db6-498b-8069-73786ace5293",
   "metadata": {},
   "outputs": [
    {
     "data": {
      "text/plain": [
       "_Settings(_llm=None, _embed_model=None, _callback_manager=None, _tokenizer=None, _node_parser=SentenceSplitter(include_metadata=True, include_prev_next_rel=True, callback_manager=<llama_index.core.callbacks.base.CallbackManager object at 0x7f81ed8ad060>, id_func=<function default_id_func at 0x7f82b33f7010>, chunk_size=128, chunk_overlap=10, separator=' ', paragraph_separator='\\n\\n\\n', secondary_chunking_regex='[^,.;。？！]+[,.;。？！]?'), _prompt_helper=None, _transformations=None)"
      ]
     },
     "execution_count": 2,
     "metadata": {},
     "output_type": "execute_result"
    }
   ],
   "source": [
    "Settings.chunk_size=128\n",
    "Settings.chunk_overlap=10\n",
    "\n",
    "Settings"
   ]
  },
  {
   "cell_type": "code",
   "execution_count": 3,
   "id": "5303918c-d2f1-46e8-a3ca-5ecace91603f",
   "metadata": {},
   "outputs": [
    {
     "name": "stdout",
     "output_type": "stream",
     "text": [
      "v2.3.5-lite\n",
      "CPU times: user 3.15 s, sys: 324 ms, total: 3.48 s\n",
      "Wall time: 6.59 s\n"
     ]
    },
    {
     "data": {
      "text/plain": [
       "19530"
      ]
     },
     "execution_count": 3,
     "metadata": {},
     "output_type": "execute_result"
    }
   ],
   "source": [
    "%%time\n",
    "\n",
    "# 启动milvus服务器\n",
    "\n",
    "default_server.set_base_dir('milvus_data')\n",
    "\n",
    "# (OPTIONAL) if you want cleanup previous data\n",
    "default_server.cleanup()\n",
    "\n",
    "# Start your milvus server\n",
    "default_server.start()\n",
    "\n",
    "# Now you could connect with localhost and the given port\n",
    "# Port is defined by default_server.listen_port\n",
    "connections.connect(host='127.0.0.1', port=default_server.listen_port)\n",
    "\n",
    "# Check if the server is ready.\n",
    "print(utility.get_server_version())\n",
    "\n",
    "# Stop your milvus server\n",
    "# default_server.stop()\n",
    "\n",
    "default_server.listen_port"
   ]
  },
  {
   "cell_type": "code",
   "execution_count": 4,
   "id": "66f91805-cccb-4273-999e-5354aac6fabd",
   "metadata": {},
   "outputs": [
    {
     "name": "stdout",
     "output_type": "stream",
     "text": [
      "CPU times: user 119 ms, sys: 3.91 ms, total: 123 ms\n",
      "Wall time: 124 ms\n"
     ]
    }
   ],
   "source": [
    "%%time\n",
    "\n",
    "# 初始化全局 llm\n",
    "\n",
    "llm = OpenAILike(model=\"xiaoyu\", \n",
    "                 api_base=\"http://192.168.0.72:3000/v1\", \n",
    "                 api_key=\"sk-bJP6QSnUfjAYeYeE505d3eBf63A643BeB0B8E350Df9b7750\",\n",
    "                 is_chat_model=True,\n",
    "                 temperature=0.1\n",
    "                )\n",
    "\n",
    "Settings.llm =llm"
   ]
  },
  {
   "cell_type": "code",
   "execution_count": 5,
   "id": "3f0d1c7a-1ca8-48da-831e-00655901e65b",
   "metadata": {},
   "outputs": [
    {
     "name": "stdout",
     "output_type": "stream",
     "text": [
      "CPU times: user 424 ms, sys: 16 ms, total: 440 ms\n",
      "Wall time: 441 ms\n"
     ]
    }
   ],
   "source": [
    "%%time\n",
    "\n",
    "# 初始化全局 embedding 模型\n",
    "\n",
    "ollama_embedding = OllamaEmbedding(\n",
    "    model_name=\"dztech/bge-large-zh:v1.5\",\n",
    "    # model_name=\"bge-m3:latest\",\n",
    "    base_url=\"http://192.168.0.72:11435\",\n",
    "    ollama_additional_kwargs={\"mirostat\": 0}, # -mirostat N 使用 Mirostat 采样。\n",
    ")\n",
    "\n",
    "Settings.embed_model = ollama_embedding"
   ]
  },
  {
   "cell_type": "code",
   "execution_count": 6,
   "id": "52299ab1-b405-4296-bd4d-66367562f461",
   "metadata": {},
   "outputs": [
    {
     "name": "stdout",
     "output_type": "stream",
     "text": [
      "CPU times: user 318 µs, sys: 36 µs, total: 354 µs\n",
      "Wall time: 358 µs\n"
     ]
    }
   ],
   "source": [
    "%%time\n",
    "\n",
    "import logging\n",
    "import sys\n",
    "\n",
    "# 设置系统日志，便于设置level排查\n",
    "\n",
    "logging.basicConfig(stream=sys.stdout, level=logging.INFO)\n",
    "logging.getLogger().addHandler(logging.StreamHandler(stream=sys.stdout))"
   ]
  },
  {
   "cell_type": "code",
   "execution_count": 7,
   "id": "69f24e3c-9b08-4500-8cce-f80ea340edbd",
   "metadata": {},
   "outputs": [
    {
     "name": "stdout",
     "output_type": "stream",
     "text": [
      "WARNING:pypdf._reader:Ignoring wrong pointing object 1517 0 (offset 0)\n",
      "Ignoring wrong pointing object 1517 0 (offset 0)\n",
      "WARNING:pypdf._reader:Ignoring wrong pointing object 1523 0 (offset 0)\n",
      "Ignoring wrong pointing object 1523 0 (offset 0)\n",
      "WARNING:pypdf._reader:Ignoring wrong pointing object 1529 0 (offset 0)\n",
      "Ignoring wrong pointing object 1529 0 (offset 0)\n",
      "WARNING:pypdf._reader:Ignoring wrong pointing object 1535 0 (offset 0)\n",
      "Ignoring wrong pointing object 1535 0 (offset 0)\n",
      "WARNING:pypdf._reader:Ignoring wrong pointing object 1541 0 (offset 0)\n",
      "Ignoring wrong pointing object 1541 0 (offset 0)\n",
      "WARNING:pypdf._reader:Ignoring wrong pointing object 1547 0 (offset 0)\n",
      "Ignoring wrong pointing object 1547 0 (offset 0)\n",
      "WARNING:pypdf._reader:Ignoring wrong pointing object 1553 0 (offset 0)\n",
      "Ignoring wrong pointing object 1553 0 (offset 0)\n",
      "WARNING:pypdf._reader:Ignoring wrong pointing object 1559 0 (offset 0)\n",
      "Ignoring wrong pointing object 1559 0 (offset 0)\n",
      "WARNING:pypdf._reader:Ignoring wrong pointing object 1565 0 (offset 0)\n",
      "Ignoring wrong pointing object 1565 0 (offset 0)\n",
      "WARNING:pypdf._reader:Ignoring wrong pointing object 1571 0 (offset 0)\n",
      "Ignoring wrong pointing object 1571 0 (offset 0)\n",
      "WARNING:pypdf._reader:Ignoring wrong pointing object 1577 0 (offset 0)\n",
      "Ignoring wrong pointing object 1577 0 (offset 0)\n",
      "WARNING:pypdf._reader:Ignoring wrong pointing object 1583 0 (offset 0)\n",
      "Ignoring wrong pointing object 1583 0 (offset 0)\n",
      "WARNING:pypdf._reader:Ignoring wrong pointing object 1589 0 (offset 0)\n",
      "Ignoring wrong pointing object 1589 0 (offset 0)\n",
      "WARNING:pypdf._reader:Ignoring wrong pointing object 1595 0 (offset 0)\n",
      "Ignoring wrong pointing object 1595 0 (offset 0)\n",
      "WARNING:pypdf._reader:Ignoring wrong pointing object 1601 0 (offset 0)\n",
      "Ignoring wrong pointing object 1601 0 (offset 0)\n",
      "WARNING:pypdf._reader:Ignoring wrong pointing object 1607 0 (offset 0)\n",
      "Ignoring wrong pointing object 1607 0 (offset 0)\n",
      "WARNING:pypdf._reader:Ignoring wrong pointing object 1613 0 (offset 0)\n",
      "Ignoring wrong pointing object 1613 0 (offset 0)\n",
      "WARNING:pypdf._reader:Ignoring wrong pointing object 1619 0 (offset 0)\n",
      "Ignoring wrong pointing object 1619 0 (offset 0)\n",
      "WARNING:pypdf._reader:Ignoring wrong pointing object 1625 0 (offset 0)\n",
      "Ignoring wrong pointing object 1625 0 (offset 0)\n",
      "WARNING:pypdf._reader:Ignoring wrong pointing object 1631 0 (offset 0)\n",
      "Ignoring wrong pointing object 1631 0 (offset 0)\n",
      "WARNING:pypdf._reader:Ignoring wrong pointing object 1637 0 (offset 0)\n",
      "Ignoring wrong pointing object 1637 0 (offset 0)\n",
      "WARNING:pypdf._reader:Ignoring wrong pointing object 1643 0 (offset 0)\n",
      "Ignoring wrong pointing object 1643 0 (offset 0)\n",
      "WARNING:pypdf._reader:Ignoring wrong pointing object 1649 0 (offset 0)\n",
      "Ignoring wrong pointing object 1649 0 (offset 0)\n",
      "WARNING:pypdf._reader:Ignoring wrong pointing object 1655 0 (offset 0)\n",
      "Ignoring wrong pointing object 1655 0 (offset 0)\n",
      "WARNING:pypdf._reader:Ignoring wrong pointing object 1661 0 (offset 0)\n",
      "Ignoring wrong pointing object 1661 0 (offset 0)\n",
      "WARNING:pypdf._reader:Ignoring wrong pointing object 1667 0 (offset 0)\n",
      "Ignoring wrong pointing object 1667 0 (offset 0)\n",
      "WARNING:pypdf._reader:Ignoring wrong pointing object 1673 0 (offset 0)\n",
      "Ignoring wrong pointing object 1673 0 (offset 0)\n",
      "WARNING:pypdf._reader:Ignoring wrong pointing object 1679 0 (offset 0)\n",
      "Ignoring wrong pointing object 1679 0 (offset 0)\n",
      "WARNING:pypdf._reader:Ignoring wrong pointing object 1685 0 (offset 0)\n",
      "Ignoring wrong pointing object 1685 0 (offset 0)\n",
      "WARNING:pypdf._reader:Ignoring wrong pointing object 1691 0 (offset 0)\n",
      "Ignoring wrong pointing object 1691 0 (offset 0)\n",
      "WARNING:pypdf._reader:Ignoring wrong pointing object 1697 0 (offset 0)\n",
      "Ignoring wrong pointing object 1697 0 (offset 0)\n",
      "WARNING:pypdf._reader:Ignoring wrong pointing object 1703 0 (offset 0)\n",
      "Ignoring wrong pointing object 1703 0 (offset 0)\n",
      "WARNING:pypdf._reader:Ignoring wrong pointing object 1709 0 (offset 0)\n",
      "Ignoring wrong pointing object 1709 0 (offset 0)\n",
      "CPU times: user 19.8 s, sys: 37 ms, total: 19.8 s\n",
      "Wall time: 19.8 s\n"
     ]
    }
   ],
   "source": [
    "%%time\n",
    "%%capture\n",
    "\n",
    "# load documents\n",
    "documents = SimpleDirectoryReader(input_files=[\"books2/第三次浪潮.pdf\"]).load_data()\n",
    "for doc in documents:\n",
    "    print(doc.doc_id, doc.metadata['file_name'])"
   ]
  },
  {
   "cell_type": "code",
   "execution_count": 8,
   "id": "735ea540-eaf8-4a4a-9248-ad1431e659d4",
   "metadata": {},
   "outputs": [
    {
     "name": "stdout",
     "output_type": "stream",
     "text": [
      "DEBUG:pymilvus.milvus_client.milvus_client:Created new connection using: 9fed255c090b401a9f69e42f9a24d113\n",
      "Created new connection using: 9fed255c090b401a9f69e42f9a24d113\n",
      "DEBUG:pymilvus.milvus_client.milvus_client:Successfully created collection: llamacollection\n",
      "Successfully created collection: llamacollection\n",
      "DEBUG:pymilvus.milvus_client.milvus_client:Successfully created an index on collection: llamacollection\n",
      "Successfully created an index on collection: llamacollection\n",
      "CPU times: user 16.3 s, sys: 627 ms, total: 17 s\n",
      "Wall time: 1min 37s\n"
     ]
    }
   ],
   "source": [
    "%%time\n",
    "\n",
    "vector_store = MilvusVectorStore(dim=1024, overwrite=True)\n",
    "storage_context = StorageContext.from_defaults(vector_store=vector_store)\n",
    "index = VectorStoreIndex.from_documents(\n",
    "    documents, storage_context=storage_context\n",
    ")"
   ]
  },
  {
   "cell_type": "markdown",
   "id": "abe665d2-34e3-47c5-888d-37a2ef545ae4",
   "metadata": {},
   "source": [
    "## 基于基本嵌入问答"
   ]
  },
  {
   "cell_type": "code",
   "execution_count": 9,
   "id": "642ceb6f-e7bd-4d59-b6f2-05b2229040a3",
   "metadata": {},
   "outputs": [
    {
     "name": "stdout",
     "output_type": "stream",
     "text": [
      "INFO:httpx:HTTP Request: POST http://192.168.0.72:3000/v1/chat/completions \"HTTP/1.1 200 OK\"\n",
      "HTTP Request: POST http://192.168.0.72:3000/v1/chat/completions \"HTTP/1.1 200 OK\"\n",
      "INFO:httpx:HTTP Request: POST http://192.168.0.72:3000/v1/chat/completions \"HTTP/1.1 200 OK\"\n",
      "HTTP Request: POST http://192.168.0.72:3000/v1/chat/completions \"HTTP/1.1 200 OK\"\n",
      "INFO:httpx:HTTP Request: POST http://192.168.0.72:3000/v1/chat/completions \"HTTP/1.1 200 OK\"\n",
      "HTTP Request: POST http://192.168.0.72:3000/v1/chat/completions \"HTTP/1.1 200 OK\"\n",
      "INFO:httpx:HTTP Request: POST http://192.168.0.72:3000/v1/chat/completions \"HTTP/1.1 200 OK\"\n",
      "HTTP Request: POST http://192.168.0.72:3000/v1/chat/completions \"HTTP/1.1 200 OK\"\n",
      "INFO:httpx:HTTP Request: POST http://192.168.0.72:3000/v1/chat/completions \"HTTP/1.1 200 OK\"\n",
      "HTTP Request: POST http://192.168.0.72:3000/v1/chat/completions \"HTTP/1.1 200 OK\"\n",
      "INFO:httpx:HTTP Request: POST http://192.168.0.72:3000/v1/chat/completions \"HTTP/1.1 200 OK\"\n",
      "HTTP Request: POST http://192.168.0.72:3000/v1/chat/completions \"HTTP/1.1 200 OK\"\n",
      "宗教在社会中扮演着多种角色，它不仅作为个人的精神支柱，提供道德指导和文化传承，还通过社区活动增强凝聚力，参与慈善服务，并影响社会秩序。例如，统一教的组织结构展示了宗教如何作为社区建设的一部分，而宗教的慈善工作则体现了其对社会福利的贡献。宗教的哲学思考也帮助个体理解生命的意义和宇宙的秩序。\n",
      "\n",
      "然而，随着科学的发展和多元文化的并存，宗教的作用在现代社会中可能因人而异，有些人可能更倾向于个人探索而非集体信仰。总的来说，宗教在个人和社会层面都发挥着重要作用，尽管其具体影响会根据不同的社会环境和个体选择而变化。\n",
      "CPU times: user 946 ms, sys: 47.1 ms, total: 993 ms\n",
      "Wall time: 53.1 s\n"
     ]
    }
   ],
   "source": [
    "%%time\n",
    "\n",
    "query_engine = index.as_query_engine(\n",
    "    streaming=True,\n",
    "    similarity_top_k=100,\n",
    "    similarity_cutoff=0.5\n",
    ")\n",
    "\n",
    "streaming_response = query_engine.query(\"宗教有哪些作用\")\n",
    "streaming_response.print_response_stream()\n",
    "print()"
   ]
  },
  {
   "cell_type": "code",
   "execution_count": 10,
   "id": "56450b69-4ae2-4577-9533-3dfb86e516c2",
   "metadata": {},
   "outputs": [
    {
     "name": "stdout",
     "output_type": "stream",
     "text": [
      "INFO:httpx:HTTP Request: POST http://192.168.0.72:3000/v1/chat/completions \"HTTP/1.1 200 OK\"\n",
      "HTTP Request: POST http://192.168.0.72:3000/v1/chat/completions \"HTTP/1.1 200 OK\"\n",
      "INFO:httpx:HTTP Request: POST http://192.168.0.72:3000/v1/chat/completions \"HTTP/1.1 200 OK\"\n",
      "HTTP Request: POST http://192.168.0.72:3000/v1/chat/completions \"HTTP/1.1 200 OK\"\n",
      "INFO:httpx:HTTP Request: POST http://192.168.0.72:3000/v1/chat/completions \"HTTP/1.1 200 OK\"\n",
      "HTTP Request: POST http://192.168.0.72:3000/v1/chat/completions \"HTTP/1.1 200 OK\"\n",
      "INFO:httpx:HTTP Request: POST http://192.168.0.72:3000/v1/chat/completions \"HTTP/1.1 200 OK\"\n",
      "HTTP Request: POST http://192.168.0.72:3000/v1/chat/completions \"HTTP/1.1 200 OK\"\n",
      "第三次浪潮的主要特征包括：\n",
      "\n",
      "- **技术分散**：随着工业化的减少，技术变得更加分散，不再局限于大型工厂或城市中心。\n",
      "- **知识民主化**：信息的流通更加自由，互联网和全球通信网络使得知识无国界，个体可以获取和分享更多资源。\n",
      "- **个性化与创新**：鼓励个人表达和创新，反对大规模生产中的标准化，支持定制化产品和服务。\n",
      "- **科技重建**：信息技术和通信技术的革新重塑了经济结构，推动向服务和知识驱动的经济转型。\n",
      "- **时间价值**：对时间的理解更注重效率和即时性，强调快速决策和信息处理的重要性。\n",
      "- **政治分散化**：权力从中央向地方分散，可能涉及新的决策机制，如社会中对少数群体声音的重视。\n",
      "- **信息时代**：以数据和知识为基础的社会，依赖于信息技术驱动的创新，影响教育结构和科学研究方向。\n",
      "- **挑战选举制度**：可能质疑传统的投票方式，强调少数群体的声音在政治决策中的重要性。\n",
      "- **经济转型**：从工业经济转向知识经济，就业模式和财富分配发生变化，可能减少对化石燃料的依赖。\n",
      "- **能源转型**：转向可再生能源和分布式能源系统，减少对化石燃料的依赖，推动能源结构的转变。\n",
      "- **社会结构变化**：小型社区和分布式系统取代大型城市，内部交互作用复杂，需要更多的能量、质量和信息资源来维持其存在。\n",
      "\n",
      "这些特征标志着第三次浪潮文明对前两个浪潮（农业和工业革命）的超越，标志着社会、经济、科技以及生活方式的深刻变革。\n",
      "CPU times: user 993 ms, sys: 60.8 ms, total: 1.05 s\n",
      "Wall time: 51 s\n"
     ]
    }
   ],
   "source": [
    "%%time\n",
    "\n",
    "streaming_response = query_engine.query(\"第三次浪潮有哪些主要特征，列表说明\")\n",
    "streaming_response.print_response_stream()\n",
    "print()"
   ]
  },
  {
   "cell_type": "code",
   "execution_count": 11,
   "id": "d5e0d2fe-2171-4e93-b55c-f2b818c42c76",
   "metadata": {},
   "outputs": [
    {
     "name": "stdout",
     "output_type": "stream",
     "text": [
      "INFO:httpx:HTTP Request: POST http://192.168.0.72:3000/v1/chat/completions \"HTTP/1.1 200 OK\"\n",
      "HTTP Request: POST http://192.168.0.72:3000/v1/chat/completions \"HTTP/1.1 200 OK\"\n",
      "INFO:httpx:HTTP Request: POST http://192.168.0.72:3000/v1/chat/completions \"HTTP/1.1 200 OK\"\n",
      "HTTP Request: POST http://192.168.0.72:3000/v1/chat/completions \"HTTP/1.1 200 OK\"\n",
      "INFO:httpx:HTTP Request: POST http://192.168.0.72:3000/v1/chat/completions \"HTTP/1.1 200 OK\"\n",
      "HTTP Request: POST http://192.168.0.72:3000/v1/chat/completions \"HTTP/1.1 200 OK\"\n",
      "INFO:httpx:HTTP Request: POST http://192.168.0.72:3000/v1/chat/completions \"HTTP/1.1 200 OK\"\n",
      "HTTP Request: POST http://192.168.0.72:3000/v1/chat/completions \"HTTP/1.1 200 OK\"\n",
      "INFO:httpx:HTTP Request: POST http://192.168.0.72:3000/v1/chat/completions \"HTTP/1.1 200 OK\"\n",
      "HTTP Request: POST http://192.168.0.72:3000/v1/chat/completions \"HTTP/1.1 200 OK\"\n",
      "</noinput>\n",
      "CPU times: user 276 ms, sys: 4.3 ms, total: 280 ms\n",
      "Wall time: 19.7 s\n"
     ]
    }
   ],
   "source": [
    "%%time\n",
    "\n",
    "streaming_response = query_engine.query(\"文中提到的英国病，指的是啥\")\n",
    "streaming_response.print_response_stream()\n",
    "print()"
   ]
  },
  {
   "cell_type": "markdown",
   "id": "2b4a8d8a-2eb1-4f6e-a676-fda70fc397bb",
   "metadata": {},
   "source": [
    "## 基于rerank的问答"
   ]
  },
  {
   "cell_type": "code",
   "execution_count": 12,
   "id": "15dc4268-1d54-463a-8874-8fd0e871a864",
   "metadata": {},
   "outputs": [
    {
     "name": "stdout",
     "output_type": "stream",
     "text": [
      "CPU times: user 923 ms, sys: 659 ms, total: 1.58 s\n",
      "Wall time: 803 ms\n"
     ]
    }
   ],
   "source": [
    "%%time\n",
    "\n",
    "from llama_index.core.postprocessor import SentenceTransformerRerank\n",
    "\n",
    "reranker = SentenceTransformerRerank(model='/models/bge-reranker-v2-m3', top_n=5)"
   ]
  },
  {
   "cell_type": "code",
   "execution_count": 13,
   "id": "984af6f4-52e0-48f2-89e2-ceed55a6ebd4",
   "metadata": {},
   "outputs": [
    {
     "data": {
      "application/vnd.jupyter.widget-view+json": {
       "model_id": "6423ce4034494c42a932d7cfb0460a8c",
       "version_major": 2,
       "version_minor": 0
      },
      "text/plain": [
       "Batches:   0%|          | 0/4 [00:00<?, ?it/s]"
      ]
     },
     "metadata": {},
     "output_type": "display_data"
    },
    {
     "name": "stdout",
     "output_type": "stream",
     "text": [
      "INFO:httpx:HTTP Request: POST http://192.168.0.72:3000/v1/chat/completions \"HTTP/1.1 200 OK\"\n",
      "HTTP Request: POST http://192.168.0.72:3000/v1/chat/completions \"HTTP/1.1 200 OK\"\n",
      "宗教的作用包括提供共同意识、秩序以及意义。它给予人们一种团结和归属感，通过教义和严格的行为规范，帮助信徒整理和理解复杂的世界。尽管有些教派的教义可能在外人看来不切实际，但它们的组织结构为信徒提供了一个稳定的框架来存储信息，从而减轻认知负荷。此外，宗教还能满足人们在情感上的需求，如在寂寞时给予温暖和关怀，通过牺牲个人自由（如放弃某些物质享受或遵循严格的规定）来换取精神上的满足。然而，必须指出的是，宗教中的某些行为规范可能具有限制性和压迫性，如体罚和强制劳动等。\n",
      "CPU times: user 1.48 s, sys: 108 ms, total: 1.59 s\n",
      "Wall time: 7.77 s\n"
     ]
    }
   ],
   "source": [
    "%%time\n",
    "\n",
    "query_engine = index.as_query_engine(\n",
    "    streaming=True,\n",
    "    similarity_top_k=100,\n",
    "    node_postprocessors=[reranker],\n",
    "    similarity_cutoff=0.5\n",
    ")\n",
    "\n",
    "streaming_response = query_engine.query(\"宗教有哪些作用\")\n",
    "streaming_response.print_response_stream()\n",
    "print()"
   ]
  },
  {
   "cell_type": "code",
   "execution_count": 14,
   "id": "fe028367-043d-40fd-b278-7cbda06dfeb0",
   "metadata": {},
   "outputs": [
    {
     "data": {
      "application/vnd.jupyter.widget-view+json": {
       "model_id": "9990b5fd7ee445b3ba6bb4599e4bff78",
       "version_major": 2,
       "version_minor": 0
      },
      "text/plain": [
       "Batches:   0%|          | 0/4 [00:00<?, ?it/s]"
      ]
     },
     "metadata": {},
     "output_type": "display_data"
    },
    {
     "name": "stdout",
     "output_type": "stream",
     "text": [
      "INFO:httpx:HTTP Request: POST http://192.168.0.72:3000/v1/chat/completions \"HTTP/1.1 200 OK\"\n",
      "HTTP Request: POST http://192.168.0.72:3000/v1/chat/completions \"HTTP/1.1 200 OK\"\n",
      "- 分散式生产\n",
      "- 适当的规模\n",
      "- 可再生的能源\n",
      "- 疏散都市人口\n",
      "- 在家中工作\n",
      "- 自己生产自己消费\n",
      "- 非集中化的生活特征\n",
      "- 弹性的工作节奏和多样性\n",
      "- 能源需求量小，市场竞争激烈\n",
      "CPU times: user 691 ms, sys: 8.02 ms, total: 699 ms\n",
      "Wall time: 3.82 s\n"
     ]
    }
   ],
   "source": [
    "%%time\n",
    "\n",
    "streaming_response = query_engine.query(\"第三次浪潮有哪些主要特征，列表说明\")\n",
    "streaming_response.print_response_stream()\n",
    "print()"
   ]
  },
  {
   "cell_type": "code",
   "execution_count": 15,
   "id": "6b3180cb-d34b-4c3b-a7c2-52d44170f00d",
   "metadata": {},
   "outputs": [
    {
     "data": {
      "application/vnd.jupyter.widget-view+json": {
       "model_id": "be42e5dc65a14090bac49cb3a2f36dc7",
       "version_major": 2,
       "version_minor": 0
      },
      "text/plain": [
       "Batches:   0%|          | 0/4 [00:00<?, ?it/s]"
      ]
     },
     "metadata": {},
     "output_type": "display_data"
    },
    {
     "name": "stdout",
     "output_type": "stream",
     "text": [
      "INFO:httpx:HTTP Request: POST http://192.168.0.72:3000/v1/chat/completions \"HTTP/1.1 200 OK\"\n",
      "HTTP Request: POST http://192.168.0.72:3000/v1/chat/completions \"HTTP/1.1 200 OK\"\n",
      "文中提到的“英国病”是指在西方国家中普遍存在的对辛勤工作的漠视态度，尤其是管理人员对于人们工作努力程度下降的担忧。他们认为这种现象如果不加以纠正，可能会在未来变得更糟。这可能与工业社会的一些问题有关，如过度的物质主义和对健康、艺术和心理层面的影响，以及对疯人院病患的不正常看法。\n",
      "CPU times: user 762 ms, sys: 16.1 ms, total: 778 ms\n",
      "Wall time: 4.35 s\n"
     ]
    }
   ],
   "source": [
    "%%time\n",
    "\n",
    "streaming_response = query_engine.query(\"文中提到的英国病，指的是啥\")\n",
    "streaming_response.print_response_stream()\n",
    "print()"
   ]
  },
  {
   "cell_type": "code",
   "execution_count": null,
   "id": "008bdd2f-c660-4db7-b389-7c2f05d0769c",
   "metadata": {},
   "outputs": [],
   "source": []
  }
 ],
 "metadata": {
  "kernelspec": {
   "display_name": "Python 3 (ipykernel)",
   "language": "python",
   "name": "python3"
  },
  "language_info": {
   "codemirror_mode": {
    "name": "ipython",
    "version": 3
   },
   "file_extension": ".py",
   "mimetype": "text/x-python",
   "name": "python",
   "nbconvert_exporter": "python",
   "pygments_lexer": "ipython3",
   "version": "3.10.12"
  }
 },
 "nbformat": 4,
 "nbformat_minor": 5
}
