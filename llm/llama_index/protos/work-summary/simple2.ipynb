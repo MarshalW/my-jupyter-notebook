{
 "cells": [
  {
   "cell_type": "markdown",
   "id": "6af2eee3-1a5f-48df-a27f-86b753be9f0e",
   "metadata": {},
   "source": [
    "# 尝试路由不同的数据源"
   ]
  },
  {
   "cell_type": "markdown",
   "id": "863796ee-6b1e-449e-81d9-a4a2db3f1d45",
   "metadata": {},
   "source": [
    "使用路由查询引擎，对不同数据源的选择查询。\n",
    "\n",
    "初步结论：\n",
    "\n",
    "- 是可以的\n"
   ]
  },
  {
   "cell_type": "markdown",
   "id": "9e64cd87-7f97-4365-aa8f-6de165f12acc",
   "metadata": {},
   "source": [
    "## 全局设置"
   ]
  },
  {
   "cell_type": "code",
   "execution_count": 1,
   "id": "3ffafb28-6d0b-4f3d-85a0-17b9b5fa099e",
   "metadata": {},
   "outputs": [
    {
     "name": "stdout",
     "output_type": "stream",
     "text": [
      "CPU times: user 3.41 s, sys: 441 ms, total: 3.85 s\n",
      "Wall time: 3.5 s\n"
     ]
    }
   ],
   "source": [
    "%%time\n",
    "\n",
    "from llama_index.core import Settings\n",
    "from llama_index.llms.openai_like import OpenAILike\n",
    "from llama_index.embeddings.ollama import OllamaEmbedding\n",
    "\n",
    "Settings.llm=OpenAILike(\n",
    "    model=\"qwen2\", \n",
    "    api_base=\"http://ape:3000/v1\", \n",
    "    api_key=\"sk-bJP6QSnUfjAYeYeE505d3eBf63A643BeB0B8E350Df9b7750\",\n",
    "    is_chat_model=True,\n",
    "    temperature=0.1,\n",
    "    request_timeout=60.0\n",
    ")\n",
    "\n",
    "Settings.embed_model = OllamaEmbedding(\n",
    "    model_name=\"quentinz/bge-large-zh-v1.5\",\n",
    "    base_url=\"http://ape:11434\",\n",
    "    ollama_additional_kwargs={\"mirostat\": 0}, # -mirostat N 使用 Mirostat 采样。\n",
    ")\n",
    "\n",
    "Settings.chunk_size = 128\n",
    "Settings.chunk_overlap = 10"
   ]
  },
  {
   "cell_type": "markdown",
   "id": "bb7740f1-fecd-4397-92de-9fcee8010f89",
   "metadata": {},
   "source": [
    "## 加载数据"
   ]
  },
  {
   "cell_type": "code",
   "execution_count": 3,
   "id": "7270f805-e5f1-4f5a-811a-ca2d7da264d3",
   "metadata": {},
   "outputs": [
    {
     "name": "stdout",
     "output_type": "stream",
     "text": [
      "CPU times: user 332 ms, sys: 76 µs, total: 332 ms\n",
      "Wall time: 499 ms\n"
     ]
    }
   ],
   "source": [
    "%%time\n",
    "\n",
    "from llama_index.readers.web import TrafilaturaWebReader\n",
    "\n",
    "documents_yiheyuan = TrafilaturaWebReader().load_data(\n",
    "    [ \"https://baike.baidu.com/item/颐和园\" for item in items]\n",
    ")\n",
    "\n",
    "documents_beihai = TrafilaturaWebReader().load_data(\n",
    "    [ \"https://baike.baidu.com/item/北海公园\" for item in items]\n",
    ")"
   ]
  },
  {
   "cell_type": "markdown",
   "id": "59f75e1c-cee4-4fe9-92a0-06f639c8e916",
   "metadata": {},
   "source": [
    "## 建立索引"
   ]
  },
  {
   "cell_type": "code",
   "execution_count": 4,
   "id": "e1f981df-c37d-453e-8996-d4861a98cfcc",
   "metadata": {},
   "outputs": [
    {
     "name": "stdout",
     "output_type": "stream",
     "text": [
      "CPU times: user 1.5 s, sys: 72.3 ms, total: 1.57 s\n",
      "Wall time: 32.7 s\n"
     ]
    }
   ],
   "source": [
    "%%time\n",
    "\n",
    "from llama_index.core import VectorStoreIndex\n",
    "\n",
    "nodes = Settings.node_parser.get_nodes_from_documents(documents_yiheyuan)\n",
    "vector_yiheyuan = VectorStoreIndex(nodes)\n",
    "\n",
    "nodes = Settings.node_parser.get_nodes_from_documents(documents_beihai)\n",
    "vector_beihai = VectorStoreIndex(nodes)"
   ]
  },
  {
   "cell_type": "markdown",
   "id": "6a6b5af8-9594-4d49-8b8f-0cb605b685ee",
   "metadata": {},
   "source": [
    "## 建立查询引擎"
   ]
  },
  {
   "cell_type": "code",
   "execution_count": 6,
   "id": "595281e4-3910-40dc-b4d4-fadda9630e18",
   "metadata": {},
   "outputs": [
    {
     "name": "stdout",
     "output_type": "stream",
     "text": [
      "CPU times: user 207 µs, sys: 0 ns, total: 207 µs\n",
      "Wall time: 209 µs\n"
     ]
    }
   ],
   "source": [
    "%%time\n",
    "\n",
    "from llama_index.core.tools import QueryEngineTool\n",
    "\n",
    "yiheyuan_tool = QueryEngineTool.from_defaults(\n",
    "    query_engine=vector_yiheyuan.as_query_engine(\n",
    "        response_mode=\"tree_summarize\",\n",
    "        use_async=True,\n",
    "    ),\n",
    "    description=(\n",
    "        \"适用于颐和园相关问题。\"\n",
    "    ),\n",
    ")\n",
    "\n",
    "beihai_tool = QueryEngineTool.from_defaults(\n",
    "    query_engine=vector_beihai.as_query_engine(\n",
    "        response_mode=\"tree_summarize\",\n",
    "        use_async=True,\n",
    "    ),\n",
    "    description=(\n",
    "        \"适用于北海公园相关问题。\"\n",
    "    ),\n",
    ")"
   ]
  },
  {
   "cell_type": "code",
   "execution_count": 7,
   "id": "c9696ed4-ae71-4318-9d23-073052835b6f",
   "metadata": {},
   "outputs": [
    {
     "name": "stdout",
     "output_type": "stream",
     "text": [
      "CPU times: user 216 µs, sys: 0 ns, total: 216 µs\n",
      "Wall time: 219 µs\n"
     ]
    }
   ],
   "source": [
    "%%time\n",
    "\n",
    "from llama_index.core.query_engine import RouterQueryEngine\n",
    "from llama_index.core.selectors import LLMSingleSelector\n",
    "\n",
    "query_engine = RouterQueryEngine(\n",
    "    selector=LLMSingleSelector.from_defaults(),\n",
    "    query_engine_tools=[\n",
    "        yiheyuan_tool,\n",
    "        beihai_tool,\n",
    "    ],\n",
    ")"
   ]
  },
  {
   "cell_type": "markdown",
   "id": "e6b8ac3e-e5f2-4163-b73d-794af9b92a54",
   "metadata": {},
   "source": [
    "## 查询"
   ]
  },
  {
   "cell_type": "code",
   "execution_count": 8,
   "id": "f45234a3-0b05-411d-9401-63a934d07d5c",
   "metadata": {},
   "outputs": [
    {
     "name": "stdout",
     "output_type": "stream",
     "text": [
      "颐和园是中国清朝时期的皇家园林，位于北京市西郊海淀区新建宫门路19号。它前身为清漪园，始建于清乾隆十五年（1750年），在咸丰十年（1860年）被英法联军烧毁后得以重建。颐和园利用昆明湖、万寿山为基址，并借鉴了杭州西湖的风景作为设计蓝本，融合了江南园林的设计手法和意境。它不仅是保存最完整的皇家行宫御苑，还被誉为“皇家园林博物馆”。全园占地总面积约为3.0平方千米。\n",
      "CPU times: user 77 ms, sys: 0 ns, total: 77 ms\n",
      "Wall time: 4.91 s\n"
     ]
    }
   ],
   "source": [
    "%%time\n",
    "\n",
    "response = query_engine.query(\"介绍下颐和园\")\n",
    "print(str(response))"
   ]
  },
  {
   "cell_type": "code",
   "execution_count": 9,
   "id": "c52a8ae8-7e0f-4e6d-ac23-e1225bc431f7",
   "metadata": {},
   "outputs": [
    {
     "name": "stdout",
     "output_type": "stream",
     "text": [
      "夏天颐和园的门票价格为30元/张。\n",
      "CPU times: user 25.4 ms, sys: 68 µs, total: 25.5 ms\n",
      "Wall time: 1.37 s\n"
     ]
    }
   ],
   "source": [
    "%%time\n",
    "\n",
    "response = query_engine.query(\"夏天颐和园的门票信息\")\n",
    "print(str(response))"
   ]
  },
  {
   "cell_type": "code",
   "execution_count": 10,
   "id": "fbb63391-9800-45f0-960b-52e606a094b5",
   "metadata": {},
   "outputs": [
    {
     "name": "stdout",
     "output_type": "stream",
     "text": [
      "北海公园位于中国北京市西城区文津街1号。要到达北海公园，您可以选择多种交通方式：\n",
      "\n",
      "1. **公共交通**：\n",
      "   - 地铁：乘坐地铁至南池子站或南池子北站（6号线），然后步行约500米即可到达。\n",
      "   - 公交车：有多条公交线路经过北海公园附近，如1、2、8、13、47、107、111、118、120、122、609等。您可以在附近的站点下车后步行前往。\n",
      "\n",
      "2. **打车或自驾**：\n",
      "   - 使用手机地图应用（如高德地图、百度地图）输入“北海公园”，即可获取从您当前位置到北海公园的路线指引和实时交通信息。\n",
      "   - 如果选择自驾车，建议使用导航系统以获得最准确的道路指引。\n",
      "\n",
      "3. **步行**：\n",
      "   - 北海公园周边有多个景点，如果您在北京市内，可以选择步行前往。例如，东邻景山公园，南濒中南海，北连什刹海，这些地方都相对靠近，您可以根据自己的行程规划选择合适的路线。\n",
      "\n",
      "到达北海公园后，请遵守园区规定和安全提示，享受您的游览时光。\n",
      "CPU times: user 19.3 ms, sys: 263 µs, total: 19.6 ms\n",
      "Wall time: 6 s\n"
     ]
    }
   ],
   "source": [
    "%%time\n",
    "\n",
    "response = query_engine.query(\"北海公园在哪里，怎么坐车\")\n",
    "print(str(response))"
   ]
  },
  {
   "cell_type": "code",
   "execution_count": null,
   "id": "a48ee495-5cdf-442f-a705-2b42fd5849e6",
   "metadata": {},
   "outputs": [],
   "source": []
  }
 ],
 "metadata": {
  "kernelspec": {
   "display_name": "Python 3 (ipykernel)",
   "language": "python",
   "name": "python3"
  },
  "language_info": {
   "codemirror_mode": {
    "name": "ipython",
    "version": 3
   },
   "file_extension": ".py",
   "mimetype": "text/x-python",
   "name": "python",
   "nbconvert_exporter": "python",
   "pygments_lexer": "ipython3",
   "version": "3.10.12"
  }
 },
 "nbformat": 4,
 "nbformat_minor": 5
}
