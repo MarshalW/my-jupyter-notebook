{
 "cells": [
  {
   "cell_type": "markdown",
   "id": "472ea4e2-0d8b-43aa-a96f-df9a06bc7452",
   "metadata": {},
   "source": [
    "# refresh 是否保存到文件"
   ]
  },
  {
   "cell_type": "markdown",
   "id": "b509e9ed-5def-4a88-a0b4-52ec3412b402",
   "metadata": {},
   "source": [
    "refresh_doc 是否保存到文件存储了。"
   ]
  },
  {
   "cell_type": "markdown",
   "id": "85fc7739-6074-4c29-b94e-024aa8c9bcc9",
   "metadata": {},
   "source": [
    "## 全局设置"
   ]
  },
  {
   "cell_type": "code",
   "execution_count": 1,
   "id": "4198eb80-4c89-430b-95b0-192974d1e2b4",
   "metadata": {},
   "outputs": [
    {
     "name": "stdout",
     "output_type": "stream",
     "text": [
      "CPU times: user 2.19 s, sys: 220 ms, total: 2.41 s\n",
      "Wall time: 2.03 s\n"
     ]
    }
   ],
   "source": [
    "%%time\n",
    "\n",
    "from llama_index.core import Settings\n",
    "from llama_index.llms.ollama import Ollama\n",
    "from llama_index.embeddings.ollama import OllamaEmbedding\n",
    "\n",
    "Settings.llm=Ollama(\n",
    "    base_url=\"http://ape:11434\",\n",
    "    model=\"qwen2\",\n",
    "    is_chat_model=True,\n",
    "    temperature=0.1,\n",
    "    request_timeout=60.0\n",
    ")\n",
    "\n",
    "Settings.embed_model = OllamaEmbedding(\n",
    "    model_name=\"quentinz/bge-large-zh-v1.5\",\n",
    "    base_url=\"http://ape:11434\",\n",
    "    ollama_additional_kwargs={\"mirostat\": 0}, # -mirostat N 使用 Mirostat 采样。\n",
    ")"
   ]
  },
  {
   "cell_type": "markdown",
   "id": "5e850f0b-51a6-40d6-a4a9-28168d510ce9",
   "metadata": {},
   "source": [
    "## 手动创建文档"
   ]
  },
  {
   "cell_type": "code",
   "execution_count": 2,
   "id": "5dd99046-a6e3-4138-a601-354c2d6b53b7",
   "metadata": {},
   "outputs": [
    {
     "name": "stdout",
     "output_type": "stream",
     "text": [
      "CPU times: user 66 µs, sys: 7 µs, total: 73 µs\n",
      "Wall time: 75.6 µs\n"
     ]
    },
    {
     "data": {
      "text/plain": [
       "'doc_01'"
      ]
     },
     "execution_count": 2,
     "metadata": {},
     "output_type": "execute_result"
    }
   ],
   "source": [
    "%%time\n",
    "\n",
    "from llama_index.core import Document\n",
    "\n",
    "documents = [\n",
    "    Document( text=\"test1\", doc_id=\"doc_01\"),\n",
    "    Document( text=\"test2\", doc_id=\"doc_02\"),\n",
    "    Document( text=\"test3\", doc_id=\"doc_03\"),\n",
    "]\n",
    "\n",
    "documents[0].id_"
   ]
  },
  {
   "cell_type": "markdown",
   "id": "e6272464-a758-45d1-a9ae-e74c470af44e",
   "metadata": {},
   "source": [
    "## 建立索引和存储"
   ]
  },
  {
   "cell_type": "code",
   "execution_count": 3,
   "id": "0506cc17-2152-487a-ac85-ed6096b0832c",
   "metadata": {},
   "outputs": [
    {
     "name": "stdout",
     "output_type": "stream",
     "text": [
      "CPU times: user 4.93 ms, sys: 4.11 ms, total: 9.05 ms\n",
      "Wall time: 114 ms\n"
     ]
    }
   ],
   "source": [
    "%%time\n",
    "\n",
    "!rm -rf storage"
   ]
  },
  {
   "cell_type": "code",
   "execution_count": 4,
   "id": "6e7965f6-2784-4d37-810f-744486c31818",
   "metadata": {},
   "outputs": [
    {
     "name": "stdout",
     "output_type": "stream",
     "text": [
      "CPU times: user 239 ms, sys: 40.2 ms, total: 279 ms\n",
      "Wall time: 1.55 s\n"
     ]
    }
   ],
   "source": [
    "%%time\n",
    "\n",
    "from llama_index.core import VectorStoreIndex\n",
    "\n",
    "index = VectorStoreIndex.from_documents(documents)\n",
    "index.storage_context.persist()"
   ]
  },
  {
   "cell_type": "markdown",
   "id": "6dc36aec-4077-45b6-b889-1c83ad88ec3f",
   "metadata": {},
   "source": [
    "## 修改文档内容"
   ]
  },
  {
   "cell_type": "code",
   "execution_count": 5,
   "id": "53ae0e2e-eeb6-4eda-be94-3392577b1f05",
   "metadata": {},
   "outputs": [
    {
     "name": "stdout",
     "output_type": "stream",
     "text": [
      "CPU times: user 4.45 ms, sys: 512 µs, total: 4.96 ms\n",
      "Wall time: 105 ms\n"
     ]
    },
    {
     "data": {
      "text/plain": [
       "[False, False, True]"
      ]
     },
     "execution_count": 5,
     "metadata": {},
     "output_type": "execute_result"
    }
   ],
   "source": [
    "%%time\n",
    "\n",
    "documents = [\n",
    "    Document( text=\"test1\", doc_id=\"doc_01\"),\n",
    "    Document( text=\"test2\", doc_id=\"doc_02\"),\n",
    "    Document( text=\"test3\"+\"~~~\", doc_id=\"doc_03\"),\n",
    "]\n",
    "\n",
    "status = index.refresh_ref_docs(documents)\n",
    "status"
   ]
  },
  {
   "cell_type": "markdown",
   "id": "d31a0c99-c3bb-4f17-b422-9bf60d70a570",
   "metadata": {},
   "source": [
    "查看 `./storage/docstore.json` 并没有修改。"
   ]
  },
  {
   "cell_type": "code",
   "execution_count": 6,
   "id": "c360146c-5309-4d9f-a499-f9bc8856c5cf",
   "metadata": {},
   "outputs": [
    {
     "name": "stdout",
     "output_type": "stream",
     "text": [
      "CPU times: user 11.6 ms, sys: 0 ns, total: 11.6 ms\n",
      "Wall time: 11.1 ms\n"
     ]
    }
   ],
   "source": [
    "%%time\n",
    "\n",
    "index.storage_context.persist()"
   ]
  },
  {
   "cell_type": "markdown",
   "id": "b4980a4b-2957-462b-bdd9-ee9806515482",
   "metadata": {},
   "source": [
    "查看 ./storage/docstore.json 已经修改了。"
   ]
  },
  {
   "cell_type": "code",
   "execution_count": null,
   "id": "619b2f5d-1352-43d8-a77c-061df6e19d20",
   "metadata": {},
   "outputs": [],
   "source": []
  }
 ],
 "metadata": {
  "kernelspec": {
   "display_name": "Python 3 (ipykernel)",
   "language": "python",
   "name": "python3"
  },
  "language_info": {
   "codemirror_mode": {
    "name": "ipython",
    "version": 3
   },
   "file_extension": ".py",
   "mimetype": "text/x-python",
   "name": "python",
   "nbconvert_exporter": "python",
   "pygments_lexer": "ipython3",
   "version": "3.10.12"
  }
 },
 "nbformat": 4,
 "nbformat_minor": 5
}
