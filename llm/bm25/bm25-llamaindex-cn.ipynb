{
 "cells": [
  {
   "cell_type": "markdown",
   "id": "415481c8-09dc-4ae4-96cc-984858c4c2d1",
   "metadata": {},
   "source": [
    "# bm25 llamaindex 支持中文"
   ]
  },
  {
   "cell_type": "markdown",
   "id": "8aaf5170-7218-4a09-b56d-3bb379a5bbd5",
   "metadata": {},
   "source": [
    "## 准备工作"
   ]
  },
  {
   "cell_type": "code",
   "execution_count": 2,
   "id": "1d1dfed2-7185-456a-8d96-60fc5e2f39e4",
   "metadata": {},
   "outputs": [
    {
     "name": "stdout",
     "output_type": "stream",
     "text": [
      "CPU times: user 43.3 ms, sys: 7.09 ms, total: 50.3 ms\n",
      "Wall time: 16.8 s\n"
     ]
    }
   ],
   "source": [
    "%%time\n",
    "%%capture\n",
    "\n",
    "%pip install rank_bm25\n",
    "%pip install nltk jieba\n",
    "\n",
    "!pip install llama-index-retrievers-bm25==0.1.3\n",
    "!pip install rank_bm25\n",
    "!pip install jieba"
   ]
  },
  {
   "cell_type": "code",
   "execution_count": 3,
   "id": "dc1117de-d99b-4bfb-ab73-f92df09640a0",
   "metadata": {},
   "outputs": [
    {
     "name": "stdout",
     "output_type": "stream",
     "text": [
      "CPU times: user 655 ms, sys: 191 ms, total: 846 ms\n",
      "Wall time: 1.05 s\n"
     ]
    },
    {
     "name": "stderr",
     "output_type": "stream",
     "text": [
      "[nltk_data] Downloading package stopwords to /root/nltk_data...\n",
      "[nltk_data]   Package stopwords is already up-to-date!\n"
     ]
    },
    {
     "data": {
      "text/plain": [
       "True"
      ]
     },
     "execution_count": 3,
     "metadata": {},
     "output_type": "execute_result"
    }
   ],
   "source": [
    "%%time\n",
    "\n",
    "# 下载停用词\n",
    "\n",
    "# 设置 HTTP 代理环境变量\n",
    "# https://github.com/nltk/nltk_data/issues/154#issuecomment-2144880495\n",
    "http_proxy=\"http://192.168.0.134:7890\"\n",
    "\n",
    "import nltk\n",
    "nltk.set_proxy(f'{http_proxy}')\n",
    "nltk.download('stopwords')"
   ]
  },
  {
   "cell_type": "code",
   "execution_count": 4,
   "id": "47a3c595-96c4-46cb-b6c6-feee6a623e10",
   "metadata": {},
   "outputs": [
    {
     "name": "stdout",
     "output_type": "stream",
     "text": [
      "CPU times: user 65.2 ms, sys: 20.4 ms, total: 85.7 ms\n",
      "Wall time: 96.8 ms\n"
     ]
    }
   ],
   "source": [
    "%%time\n",
    "import jieba\n",
    "from typing import List\n",
    "from nltk.corpus import stopwords\n",
    "\n",
    "def chinese_tokenizer(text: str) -> List[str]:\n",
    "    # Use jieba to segment Chinese text\n",
    "    return list(jieba.cut(text))\n",
    "    # return list(jieba.lcut(text))"
   ]
  },
  {
   "cell_type": "code",
   "execution_count": 5,
   "id": "b1e9cbf4-5e33-45cb-af2a-8918f7ff34eb",
   "metadata": {},
   "outputs": [
    {
     "name": "stderr",
     "output_type": "stream",
     "text": [
      "Building prefix dict from the default dictionary ...\n",
      "Loading model from cache /tmp/jieba.cache\n",
      "Loading model cost 0.421 seconds.\n",
      "Prefix dict has been built successfully.\n"
     ]
    },
    {
     "data": {
      "text/plain": [
       "['床前', '明月光']"
      ]
     },
     "execution_count": 5,
     "metadata": {},
     "output_type": "execute_result"
    }
   ],
   "source": [
    "chinese_tokenizer(\"床前明月光\")"
   ]
  },
  {
   "cell_type": "markdown",
   "id": "55ebe829-df7a-4872-9f89-6fc416e56a28",
   "metadata": {},
   "source": [
    "## 简单示例 - 唐诗"
   ]
  },
  {
   "cell_type": "markdown",
   "id": "ce2788a5-119c-4970-bd0f-7278ccd8716e",
   "metadata": {},
   "source": [
    "### 创建文档"
   ]
  },
  {
   "cell_type": "code",
   "execution_count": 6,
   "id": "3e193a90-f70b-4007-92fc-c7f1179e821d",
   "metadata": {},
   "outputs": [
    {
     "name": "stdout",
     "output_type": "stream",
     "text": [
      "CPU times: user 2.48 s, sys: 194 ms, total: 2.67 s\n",
      "Wall time: 2.77 s\n"
     ]
    },
    {
     "data": {
      "text/plain": [
       "[TextNode(id_='dedaf6f4-fe19-4545-86e0-8d307ea3d537', embedding=None, metadata={}, excluded_embed_metadata_keys=[], excluded_llm_metadata_keys=[], relationships={<NodeRelationship.SOURCE: '1'>: RelatedNodeInfo(node_id='655161fd-8613-4829-82a5-26626eb1c7e0', node_type=<ObjectType.DOCUMENT: '4'>, metadata={}, hash='ac0f389f8d076d84f369d702eaf943bb5a090d8aa88d9db41a0f79cbc098ea86')}, text='床前明月光', start_char_idx=0, end_char_idx=5, text_template='{metadata_str}\\n\\n{content}', metadata_template='{key}: {value}', metadata_seperator='\\n'),\n",
       " TextNode(id_='dbc4c562-cac7-4e86-a77c-f9a49702bf51', embedding=None, metadata={}, excluded_embed_metadata_keys=[], excluded_llm_metadata_keys=[], relationships={<NodeRelationship.SOURCE: '1'>: RelatedNodeInfo(node_id='63ef91c7-b779-4c9b-b7a8-13d4c24e0dbc', node_type=<ObjectType.DOCUMENT: '4'>, metadata={}, hash='761a48a5e3191f70fdb9c7799ef3c6168a3cc0db449cb4a7b40b0b450fd66fd9')}, text='疑是地上霜', start_char_idx=0, end_char_idx=5, text_template='{metadata_str}\\n\\n{content}', metadata_template='{key}: {value}', metadata_seperator='\\n'),\n",
       " TextNode(id_='357302a9-19aa-4a25-8603-f07726a96c7d', embedding=None, metadata={}, excluded_embed_metadata_keys=[], excluded_llm_metadata_keys=[], relationships={<NodeRelationship.SOURCE: '1'>: RelatedNodeInfo(node_id='e6af8627-7dca-44ec-b395-81df59ba2f4f', node_type=<ObjectType.DOCUMENT: '4'>, metadata={}, hash='42bf7864167ad4408fb5929d538790398e1be8b5c36dffb328dc493f94cd0f64')}, text='举头望明月', start_char_idx=0, end_char_idx=5, text_template='{metadata_str}\\n\\n{content}', metadata_template='{key}: {value}', metadata_seperator='\\n'),\n",
       " TextNode(id_='7b685b22-b73c-48be-a196-1c79ceeb6e6d', embedding=None, metadata={}, excluded_embed_metadata_keys=[], excluded_llm_metadata_keys=[], relationships={<NodeRelationship.SOURCE: '1'>: RelatedNodeInfo(node_id='cd1cf2b1-5048-4a88-bdd5-12a031b5845e', node_type=<ObjectType.DOCUMENT: '4'>, metadata={}, hash='d5b6840ed7517b443f5a2bf10b5aa511799e6715c432857123f40212514233b2')}, text='低头思故乡', start_char_idx=0, end_char_idx=5, text_template='{metadata_str}\\n\\n{content}', metadata_template='{key}: {value}', metadata_seperator='\\n')]"
      ]
     },
     "execution_count": 6,
     "metadata": {},
     "output_type": "execute_result"
    }
   ],
   "source": [
    "%%time\n",
    "\n",
    "from llama_index.retrievers.bm25 import BM25Retriever\n",
    "from llama_index.core import Document\n",
    "from llama_index.core.node_parser import SentenceSplitter\n",
    "from llama_index.core.response.notebook_utils import display_source_node\n",
    "\n",
    "documents = [Document(text=\"床前明月光\"),\n",
    "             Document(text=\"疑是地上霜\"),\n",
    "             Document(text=\"举头望明月\"),\n",
    "             Document(text=\"低头思故乡\")]\n",
    "\n",
    "splitter = SentenceSplitter(chunk_size=1024)\n",
    "nodes = splitter.get_nodes_from_documents(documents)\n",
    "\n",
    "nodes"
   ]
  },
  {
   "cell_type": "markdown",
   "id": "a3c43646-8a4b-4051-bcf3-cee9b5b09550",
   "metadata": {},
   "source": [
    "### 使用 retriver"
   ]
  },
  {
   "cell_type": "code",
   "execution_count": 7,
   "id": "eebf81ef-2056-44df-b4c1-c6b8305fbf07",
   "metadata": {},
   "outputs": [
    {
     "name": "stdout",
     "output_type": "stream",
     "text": [
      "CPU times: user 169 µs, sys: 20 µs, total: 189 µs\n",
      "Wall time: 192 µs\n"
     ]
    }
   ],
   "source": [
    "%%time\n",
    "\n",
    "retriever = BM25Retriever.from_defaults(\n",
    "    nodes=nodes,\n",
    "    similarity_top_k=1,\n",
    "    tokenizer=chinese_tokenizer,\n",
    ")"
   ]
  },
  {
   "cell_type": "code",
   "execution_count": 8,
   "id": "f34c3257-8973-40f6-a335-db80baabb6ec",
   "metadata": {},
   "outputs": [
    {
     "data": {
      "text/plain": [
       "[NodeWithScore(node=TextNode(id_='7b685b22-b73c-48be-a196-1c79ceeb6e6d', embedding=None, metadata={}, excluded_embed_metadata_keys=[], excluded_llm_metadata_keys=[], relationships={<NodeRelationship.SOURCE: '1'>: RelatedNodeInfo(node_id='cd1cf2b1-5048-4a88-bdd5-12a031b5845e', node_type=<ObjectType.DOCUMENT: '4'>, metadata={}, hash='d5b6840ed7517b443f5a2bf10b5aa511799e6715c432857123f40212514233b2')}, text='低头思故乡', start_char_idx=0, end_char_idx=5, text_template='{metadata_str}\\n\\n{content}', metadata_template='{key}: {value}', metadata_seperator='\\n'), score=0.777337486593765)]"
      ]
     },
     "execution_count": 8,
     "metadata": {},
     "output_type": "execute_result"
    }
   ],
   "source": [
    "retriever.retrieve(\"故乡\")"
   ]
  },
  {
   "cell_type": "code",
   "execution_count": 9,
   "id": "d5e22abc-7791-46b6-bafb-0e59b4bab2c1",
   "metadata": {},
   "outputs": [
    {
     "data": {
      "text/plain": [
       "[NodeWithScore(node=TextNode(id_='357302a9-19aa-4a25-8603-f07726a96c7d', embedding=None, metadata={}, excluded_embed_metadata_keys=[], excluded_llm_metadata_keys=[], relationships={<NodeRelationship.SOURCE: '1'>: RelatedNodeInfo(node_id='e6af8627-7dca-44ec-b395-81df59ba2f4f', node_type=<ObjectType.DOCUMENT: '4'>, metadata={}, hash='42bf7864167ad4408fb5929d538790398e1be8b5c36dffb328dc493f94cd0f64')}, text='举头望明月', start_char_idx=0, end_char_idx=5, text_template='{metadata_str}\\n\\n{content}', metadata_template='{key}: {value}', metadata_seperator='\\n'), score=0.9310965498760481)]"
      ]
     },
     "execution_count": 9,
     "metadata": {},
     "output_type": "execute_result"
    }
   ],
   "source": [
    "retriever.retrieve(\"举头\")"
   ]
  },
  {
   "cell_type": "markdown",
   "id": "c1c2f49a-7764-4b26-819c-06ec3d3c6cb8",
   "metadata": {},
   "source": [
    "## 复杂示例 - 新闻摘要"
   ]
  },
  {
   "cell_type": "markdown",
   "id": "7c3dd136-fb5c-4411-ada2-6e09f16d7218",
   "metadata": {},
   "source": [
    "### 创建文档"
   ]
  },
  {
   "cell_type": "code",
   "execution_count": 10,
   "id": "de2030cf-c2ce-40a0-8bc9-2002bcac6b80",
   "metadata": {},
   "outputs": [
    {
     "name": "stdout",
     "output_type": "stream",
     "text": [
      "CPU times: user 2.55 ms, sys: 311 µs, total: 2.86 ms\n",
      "Wall time: 2.12 ms\n"
     ]
    }
   ],
   "source": [
    "%%time\n",
    "\n",
    "documents = [Document(text=\"欧盟委员会首席发言人埃里克·马梅宣布，由于匈牙利担任欧盟理事会轮值主席国以来的事态发展，欧盟委员会主席冯德莱恩决定只派高级公务员代表参加理事会非正式会议，而不是派遣高级官员。匈牙利方面对此表示质疑，认为欧盟委员会不能挑选它想要合作的机构和成员国。\"),\n",
    "             Document(text=\"文章由专栏作者青岚撰写，主要探讨了荷兰光刻机巨头ASML公司在四十年的芯片产业发展中的变迁，以及它如何从最初的市场挑战者变成了当前全球半导体产业政治博弈中的焦点。\"),\n",
    "             Document(text=\"文章由华阳海洋研究中心理事长吴士存撰写，讨论了近期中菲在南海仁爱礁的对峙问题，并提出了中国应对该问题的建议。\"),\n",
    "             Document(text=\"报道主要关注了孟加拉国总理哈西娜在提斯塔河项目上的立场，以及孟加拉国和印度在水资源分配问题上的长期争端。哈西娜倾向于让印度负责项目，以确保孟加拉国的水资源需求得到满足。\")]\n",
    "\n",
    "splitter = SentenceSplitter(chunk_size=1024)\n",
    "nodes = splitter.get_nodes_from_documents(documents)"
   ]
  },
  {
   "cell_type": "markdown",
   "id": "8ea771ef-7c10-4151-9190-94c164e3645a",
   "metadata": {},
   "source": [
    "### 使用 retriver"
   ]
  },
  {
   "cell_type": "code",
   "execution_count": 11,
   "id": "7c17f636-9b6b-4184-8079-172edae120b7",
   "metadata": {},
   "outputs": [
    {
     "name": "stdout",
     "output_type": "stream",
     "text": [
      "CPU times: user 1.03 ms, sys: 124 µs, total: 1.15 ms\n",
      "Wall time: 1.16 ms\n"
     ]
    }
   ],
   "source": [
    "%%time\n",
    "\n",
    "retriever = BM25Retriever.from_defaults(\n",
    "    nodes=nodes,\n",
    "    similarity_top_k=1,\n",
    "    tokenizer=chinese_tokenizer,\n",
    ")"
   ]
  },
  {
   "cell_type": "code",
   "execution_count": 12,
   "id": "867679aa-0989-4f1b-b0e2-268dc9d53336",
   "metadata": {},
   "outputs": [
    {
     "name": "stdout",
     "output_type": "stream",
     "text": [
      "CPU times: user 1.38 ms, sys: 0 ns, total: 1.38 ms\n",
      "Wall time: 1.1 ms\n"
     ]
    },
    {
     "data": {
      "text/plain": [
       "[NodeWithScore(node=TextNode(id_='66ecca59-522d-49f2-be65-1574e2dc334b', embedding=None, metadata={}, excluded_embed_metadata_keys=[], excluded_llm_metadata_keys=[], relationships={<NodeRelationship.SOURCE: '1'>: RelatedNodeInfo(node_id='a0c2d4aa-479d-40e5-83ed-da976755d019', node_type=<ObjectType.DOCUMENT: '4'>, metadata={}, hash='da0f80d48d2c7374c50a4b3ef22dce19c723c2e43db9a6c6110637d697f5466a')}, text='欧盟委员会首席发言人埃里克·马梅宣布，由于匈牙利担任欧盟理事会轮值主席国以来的事态发展，欧盟委员会主席冯德莱恩决定只派高级公务员代表参加理事会非正式会议，而不是派遣高级官员。匈牙利方面对此表示质疑，认为欧盟委员会不能挑选它想要合作的机构和成员国。', start_char_idx=0, end_char_idx=123, text_template='{metadata_str}\\n\\n{content}', metadata_template='{key}: {value}', metadata_seperator='\\n'), score=3.375648286021731)]"
      ]
     },
     "execution_count": 12,
     "metadata": {},
     "output_type": "execute_result"
    }
   ],
   "source": [
    "%%time\n",
    "\n",
    "retriever.retrieve(\"欧盟匈牙利轮值主席国后发生了啥\")"
   ]
  },
  {
   "cell_type": "code",
   "execution_count": 13,
   "id": "edc0d34c-6f5f-4284-bf57-3960c909cebb",
   "metadata": {},
   "outputs": [
    {
     "name": "stdout",
     "output_type": "stream",
     "text": [
      "CPU times: user 679 µs, sys: 83 µs, total: 762 µs\n",
      "Wall time: 757 µs\n"
     ]
    },
    {
     "data": {
      "text/plain": [
       "[NodeWithScore(node=TextNode(id_='0a02f38b-89dd-457c-86f0-a9963441a151', embedding=None, metadata={}, excluded_embed_metadata_keys=[], excluded_llm_metadata_keys=[], relationships={<NodeRelationship.SOURCE: '1'>: RelatedNodeInfo(node_id='2a8d6d4e-cbae-4f22-94ae-58feeb11d325', node_type=<ObjectType.DOCUMENT: '4'>, metadata={}, hash='678927f4d186eb02e8f1ca9fd066c9c9fa333e2a8d25bf50904d2de9f094c987')}, text='文章由专栏作者青岚撰写，主要探讨了荷兰光刻机巨头ASML公司在四十年的芯片产业发展中的变迁，以及它如何从最初的市场挑战者变成了当前全球半导体产业政治博弈中的焦点。', start_char_idx=0, end_char_idx=81, text_template='{metadata_str}\\n\\n{content}', metadata_template='{key}: {value}', metadata_seperator='\\n'), score=1.6903462469691775)]"
      ]
     },
     "execution_count": 13,
     "metadata": {},
     "output_type": "execute_result"
    }
   ],
   "source": [
    "%%time\n",
    "\n",
    "retriever.retrieve(\"荷兰asml公司发展有哪些故事\")"
   ]
  },
  {
   "cell_type": "code",
   "execution_count": 14,
   "id": "8ec81ce6-bd78-419d-a30d-df52f23b73a6",
   "metadata": {},
   "outputs": [
    {
     "name": "stdout",
     "output_type": "stream",
     "text": [
      "CPU times: user 1.36 ms, sys: 0 ns, total: 1.36 ms\n",
      "Wall time: 1.23 ms\n"
     ]
    },
    {
     "data": {
      "text/plain": [
       "[NodeWithScore(node=TextNode(id_='e71163d6-887a-4aa2-99b5-79064ea80a45', embedding=None, metadata={}, excluded_embed_metadata_keys=[], excluded_llm_metadata_keys=[], relationships={<NodeRelationship.SOURCE: '1'>: RelatedNodeInfo(node_id='a7239a07-35f0-484e-97d1-ee7b5129f387', node_type=<ObjectType.DOCUMENT: '4'>, metadata={}, hash='e7d871f0cb2a5b3fca85ef67599dec9c170018551a96b3b29db2589bdc49c7df')}, text='文章由华阳海洋研究中心理事长吴士存撰写，讨论了近期中菲在南海仁爱礁的对峙问题，并提出了中国应对该问题的建议。', start_char_idx=0, end_char_idx=54, text_template='{metadata_str}\\n\\n{content}', metadata_template='{key}: {value}', metadata_seperator='\\n'), score=1.9438169434067216)]"
      ]
     },
     "execution_count": 14,
     "metadata": {},
     "output_type": "execute_result"
    }
   ],
   "source": [
    "%%time\n",
    "\n",
    "retriever.retrieve(\"仁爱礁下一步会发生什么事情\")"
   ]
  },
  {
   "cell_type": "code",
   "execution_count": null,
   "id": "f4cccabb-b24c-456d-848b-db7302cbdc36",
   "metadata": {},
   "outputs": [],
   "source": []
  }
 ],
 "metadata": {
  "kernelspec": {
   "display_name": "Python 3 (ipykernel)",
   "language": "python",
   "name": "python3"
  },
  "language_info": {
   "codemirror_mode": {
    "name": "ipython",
    "version": 3
   },
   "file_extension": ".py",
   "mimetype": "text/x-python",
   "name": "python",
   "nbconvert_exporter": "python",
   "pygments_lexer": "ipython3",
   "version": "3.10.12"
  }
 },
 "nbformat": 4,
 "nbformat_minor": 5
}
