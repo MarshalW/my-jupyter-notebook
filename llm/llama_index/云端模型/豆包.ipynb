{
 "cells": [
  {
   "cell_type": "markdown",
   "id": "c8d4c9d8-0481-46df-83fb-10e5155ec731",
   "metadata": {},
   "source": [
    "# 使用豆包模型"
   ]
  },
  {
   "cell_type": "markdown",
   "id": "00162ca4-ddcb-47fb-aab1-1f5587fe0e46",
   "metadata": {},
   "source": [
    "结论：\n",
    "\n",
    "- LLM 是可以通过 openai_like 使用的\n",
    "- Embedding LlamaIndex 不支持它，LangChain中有一个奇怪的 VolcanoEngineEmbedding 但是无法使用豆包的嵌入模型，只能使用 `bge-large-zh`，而且还有权限报错\n",
    "\n",
    "如果要使用豆包模型，只能是嵌入模型使用其他第三方的。"
   ]
  },
  {
   "cell_type": "markdown",
   "id": "d2a4e961-34a0-4a03-8bfa-ff300159b13e",
   "metadata": {},
   "source": [
    "## 设置和使用 LLM"
   ]
  },
  {
   "cell_type": "code",
   "execution_count": 1,
   "id": "c61d777d-c1f6-4b07-8366-d26d638b9adc",
   "metadata": {},
   "outputs": [
    {
     "name": "stdout",
     "output_type": "stream",
     "text": [
      "CPU times: user 3.04 ms, sys: 7.82 ms, total: 10.9 ms\n",
      "Wall time: 1.81 s\n"
     ]
    }
   ],
   "source": [
    "%%time\n",
    "%%capture\n",
    "\n",
    "!pip install python-dotenv"
   ]
  },
  {
   "cell_type": "code",
   "execution_count": 2,
   "id": "bb76f7c2-4490-4d22-9f31-95aeffd5dbf2",
   "metadata": {},
   "outputs": [
    {
     "name": "stdout",
     "output_type": "stream",
     "text": [
      "CPU times: user 4.52 ms, sys: 0 ns, total: 4.52 ms\n",
      "Wall time: 4.25 ms\n"
     ]
    }
   ],
   "source": [
    "%%time\n",
    "\n",
    "from dotenv import load_dotenv\n",
    "import os\n",
    "\n",
    "load_dotenv()\n",
    "api_key = os.getenv(\"DOUBAO_API_KEY\")"
   ]
  },
  {
   "cell_type": "code",
   "execution_count": 3,
   "id": "e85300a3-5f54-4083-8c48-c6a6b8d9c8a1",
   "metadata": {},
   "outputs": [
    {
     "name": "stdout",
     "output_type": "stream",
     "text": [
      "CPU times: user 2.79 s, sys: 375 ms, total: 3.17 s\n",
      "Wall time: 2.78 s\n"
     ]
    }
   ],
   "source": [
    "%%time\n",
    "\n",
    "from llama_index.llms.openai_like import OpenAILike\n",
    "from llama_index.core import Settings\n",
    "\n",
    "model=\"ep-20240918183344-lvb4l\"\n",
    "llm = OpenAILike(\n",
    "    model=model, \n",
    "    api_base=\"https://ark.cn-beijing.volces.com/api/v3\", \n",
    "    api_key=api_key,\n",
    "    is_chat_model=True,\n",
    "    temperature=0.1,\n",
    "    request_timeout=60.0\n",
    ")"
   ]
  },
  {
   "cell_type": "code",
   "execution_count": 4,
   "id": "c6008312-3e2e-4a18-92d8-96e53d2d917b",
   "metadata": {},
   "outputs": [
    {
     "name": "stdout",
     "output_type": "stream",
     "text": [
      "置信区间是在统计学中用于推断总体参数的一个重要概念。\n",
      "\n",
      "它指的是在一定的置信水平下，总体参数的取值范围。具体来说，给定一个样本数据，通过计算统计量（如样本均值、样本比例等），并结合样本的标准差等信息，可以构造出一个区间，使得有一定的置信水平（通常为 95%或 99%等）认为总体参数落在这个区间内。\n",
      "\n",
      "例如，对于一个样本均值，我们可以计算出它的置信区间。如果我们说样本均值的置信区间为（a，b），那么这意味着我们有一定的把握认为总体均值的真实值落在区间（a，b）内。这个区间的宽度反映了我们对总体参数估计的精确程度和不确定性程度。\n",
      "\n",
      "置信区间的作用主要有以下几点：\n",
      "1. 提供了对总体参数的一种估计范围，有助于我们对总体情况进行初步的了解和推断。\n",
      "2. 可以用于假设检验，判断样本数据是否支持关于总体参数的某个假设。\n",
      "3. 帮助我们在有限的样本信息基础上对总体进行一定程度的估计和推测。\n",
      "\n",
      "在实际应用中，选择合适的置信水平和计算置信区间的方法是非常重要的，需要根据具体的研究问题和数据特点来确定。CPU times: user 156 ms, sys: 7.9 ms, total: 164 ms\n",
      "Wall time: 9.38 s\n"
     ]
    }
   ],
   "source": [
    "%%time\n",
    "\n",
    "resp = llm.stream_complete(\"介绍下什么叫置信区间\")\n",
    "\n",
    "for r in resp:\n",
    "    print(r.delta, end=\"\")"
   ]
  },
  {
   "cell_type": "markdown",
   "id": "0e63f440-acf1-4d2d-b977-dd688f879722",
   "metadata": {},
   "source": [
    "## 设置和使用 Embedding"
   ]
  },
  {
   "cell_type": "code",
   "execution_count": 17,
   "id": "a9387dea-005e-4de8-ad4f-d222d9321562",
   "metadata": {},
   "outputs": [
    {
     "name": "stdout",
     "output_type": "stream",
     "text": [
      "----- embeddings request -----\n",
      "CPU times: user 52.7 ms, sys: 10.7 ms, total: 63.4 ms\n",
      "Wall time: 184 ms\n"
     ]
    },
    {
     "data": {
      "text/plain": [
       "[-0.345703125, -1.8671875, -1.8828125, -1.703125, -1.9609375]"
      ]
     },
     "execution_count": 17,
     "metadata": {},
     "output_type": "execute_result"
    }
   ],
   "source": [
    "%%time\n",
    "\n",
    "import os\n",
    "from openai import OpenAI\n",
    "\n",
    "client = OpenAI(\n",
    "    api_key=api_key,\n",
    "    base_url=\"https://ark.cn-beijing.volces.com/api/v3\",\n",
    ")\n",
    "\n",
    "print(\"----- embeddings request -----\")\n",
    "resp = client.embeddings.create(\n",
    "    model=\"ep-20240918183239-l2jqq\",\n",
    "    input=[\"花椰菜又称菜花、花菜，是一种常见的蔬菜。\"],\n",
    "    encoding_format=\"float\"\n",
    ")\n",
    "resp.data[0].embedding[:5]"
   ]
  },
  {
   "cell_type": "code",
   "execution_count": 19,
   "id": "013553d5-62dd-44c9-8f84-9e64cd6a8e72",
   "metadata": {},
   "outputs": [
    {
     "name": "stdout",
     "output_type": "stream",
     "text": [
      "CPU times: user 46.8 ms, sys: 8.78 ms, total: 55.6 ms\n",
      "Wall time: 15.3 s\n"
     ]
    }
   ],
   "source": [
    "%%time\n",
    "%%capture\n",
    "\n",
    "!pip install volcengine"
   ]
  },
  {
   "cell_type": "code",
   "execution_count": 20,
   "id": "c3e0f359-0060-484b-bc6a-493a11033fc5",
   "metadata": {},
   "outputs": [
    {
     "name": "stdout",
     "output_type": "stream",
     "text": [
      "embed_documents result:\n"
     ]
    },
    {
     "ename": "ValueError",
     "evalue": "embed by volcengine Error: Detailed exception information is listed below.\nreq_id: 202409181911547458221C04914ECC70F6\ncode_n: 1709818\ncode: UnauthorizedUserForEndpoint\nmessage: 没有访问该模型服务节点的权限",
     "output_type": "error",
     "traceback": [
      "\u001b[0;31m---------------------------------------------------------------------------\u001b[0m",
      "\u001b[0;31mException\u001b[0m                                 Traceback (most recent call last)",
      "File \u001b[0;32m/usr/local/lib/python3.10/dist-packages/volcengine/maas/MaasService.py:160\u001b[0m, in \u001b[0;36mMaasService.embeddings\u001b[0;34m(self, req)\u001b[0m\n\u001b[1;32m    159\u001b[0m \u001b[38;5;28;01mtry\u001b[39;00m:\n\u001b[0;32m--> 160\u001b[0m     res \u001b[38;5;241m=\u001b[39m \u001b[38;5;28;43mself\u001b[39;49m\u001b[38;5;241;43m.\u001b[39;49m\u001b[43mjson\u001b[49m\u001b[43m(\u001b[49m\u001b[38;5;124;43m\"\u001b[39;49m\u001b[38;5;124;43membeddings\u001b[39;49m\u001b[38;5;124;43m\"\u001b[39;49m\u001b[43m,\u001b[49m\u001b[43m \u001b[49m\u001b[43m{\u001b[49m\u001b[43m}\u001b[49m\u001b[43m,\u001b[49m\u001b[43m \u001b[49m\u001b[43mjson\u001b[49m\u001b[38;5;241;43m.\u001b[39;49m\u001b[43mdumps\u001b[49m\u001b[43m(\u001b[49m\u001b[43mreq\u001b[49m\u001b[43m)\u001b[49m\u001b[38;5;241;43m.\u001b[39;49m\u001b[43mencode\u001b[49m\u001b[43m(\u001b[49m\u001b[38;5;124;43m\"\u001b[39;49m\u001b[38;5;124;43mutf-8\u001b[39;49m\u001b[38;5;124;43m\"\u001b[39;49m\u001b[43m)\u001b[49m\u001b[43m)\u001b[49m\n\u001b[1;32m    161\u001b[0m     \u001b[38;5;28;01mif\u001b[39;00m res \u001b[38;5;241m==\u001b[39m \u001b[38;5;124m'\u001b[39m\u001b[38;5;124m'\u001b[39m:\n",
      "File \u001b[0;32m/usr/local/lib/python3.10/dist-packages/volcengine/base/Service.py:194\u001b[0m, in \u001b[0;36mService.json\u001b[0;34m(self, api, params, body)\u001b[0m\n\u001b[1;32m    193\u001b[0m \u001b[38;5;28;01melse\u001b[39;00m:\n\u001b[0;32m--> 194\u001b[0m     \u001b[38;5;28;01mraise\u001b[39;00m \u001b[38;5;167;01mException\u001b[39;00m(resp\u001b[38;5;241m.\u001b[39mtext\u001b[38;5;241m.\u001b[39mencode(\u001b[38;5;124m\"\u001b[39m\u001b[38;5;124mutf-8\u001b[39m\u001b[38;5;124m\"\u001b[39m))\n",
      "\u001b[0;31mException\u001b[0m: b'{\"req_id\":\"202409181911547458221C04914ECC70F6\",\"error\":{\"code\":\"UnauthorizedUserForEndpoint\",\"code_n\":1709818,\"message\":\"\\xe6\\xb2\\xa1\\xe6\\x9c\\x89\\xe8\\xae\\xbf\\xe9\\x97\\xae\\xe8\\xaf\\xa5\\xe6\\xa8\\xa1\\xe5\\x9e\\x8b\\xe6\\x9c\\x8d\\xe5\\x8a\\xa1\\xe8\\x8a\\x82\\xe7\\x82\\xb9\\xe7\\x9a\\x84\\xe6\\x9d\\x83\\xe9\\x99\\x90\"}}'",
      "\nDuring handling of the above exception, another exception occurred:\n",
      "\u001b[0;31mMaasException\u001b[0m                             Traceback (most recent call last)",
      "File \u001b[0;32m/usr/local/lib/python3.10/dist-packages/langchain_community/embeddings/volcengine.py:124\u001b[0m, in \u001b[0;36mVolcanoEmbeddings.embed_documents\u001b[0;34m(self, texts)\u001b[0m\n\u001b[1;32m    122\u001b[0m \u001b[38;5;28;01mfrom\u001b[39;00m \u001b[38;5;21;01mvolcengine\u001b[39;00m\u001b[38;5;21;01m.\u001b[39;00m\u001b[38;5;21;01mmaas\u001b[39;00m \u001b[38;5;28;01mimport\u001b[39;00m MaasException\n\u001b[0;32m--> 124\u001b[0m resp \u001b[38;5;241m=\u001b[39m \u001b[38;5;28;43mself\u001b[39;49m\u001b[38;5;241;43m.\u001b[39;49m\u001b[43mclient\u001b[49m\u001b[38;5;241;43m.\u001b[39;49m\u001b[43membeddings\u001b[49m\u001b[43m(\u001b[49m\u001b[43mreq\u001b[49m\u001b[43m)\u001b[49m\n\u001b[1;32m    125\u001b[0m lst\u001b[38;5;241m.\u001b[39mextend([res[\u001b[38;5;124m\"\u001b[39m\u001b[38;5;124membedding\u001b[39m\u001b[38;5;124m\"\u001b[39m] \u001b[38;5;28;01mfor\u001b[39;00m res \u001b[38;5;129;01min\u001b[39;00m resp[\u001b[38;5;124m\"\u001b[39m\u001b[38;5;124mdata\u001b[39m\u001b[38;5;124m\"\u001b[39m]])\n",
      "File \u001b[0;32m/usr/local/lib/python3.10/dist-packages/volcengine/maas/MaasService.py:170\u001b[0m, in \u001b[0;36mMaasService.embeddings\u001b[0;34m(self, req)\u001b[0m\n\u001b[1;32m    169\u001b[0m     \u001b[38;5;28;01melse\u001b[39;00m:\n\u001b[0;32m--> 170\u001b[0m         \u001b[38;5;28;01mraise\u001b[39;00m MaasException(resp\u001b[38;5;241m.\u001b[39merror\u001b[38;5;241m.\u001b[39mcode_n, resp\u001b[38;5;241m.\u001b[39merror\u001b[38;5;241m.\u001b[39mcode, resp\u001b[38;5;241m.\u001b[39merror\u001b[38;5;241m.\u001b[39mmessage, resp\u001b[38;5;241m.\u001b[39mreq_id)\n\u001b[1;32m    171\u001b[0m \u001b[38;5;28;01melse\u001b[39;00m:\n",
      "\u001b[0;31mMaasException\u001b[0m: Detailed exception information is listed below.\nreq_id: 202409181911547458221C04914ECC70F6\ncode_n: 1709818\ncode: UnauthorizedUserForEndpoint\nmessage: 没有访问该模型服务节点的权限",
      "\nDuring handling of the above exception, another exception occurred:\n",
      "\u001b[0;31mValueError\u001b[0m                                Traceback (most recent call last)",
      "File \u001b[0;32m<timed exec>:13\u001b[0m\n",
      "File \u001b[0;32m/usr/local/lib/python3.10/dist-packages/langchain_community/embeddings/volcengine.py:127\u001b[0m, in \u001b[0;36mVolcanoEmbeddings.embed_documents\u001b[0;34m(self, texts)\u001b[0m\n\u001b[1;32m    125\u001b[0m         lst\u001b[38;5;241m.\u001b[39mextend([res[\u001b[38;5;124m\"\u001b[39m\u001b[38;5;124membedding\u001b[39m\u001b[38;5;124m\"\u001b[39m] \u001b[38;5;28;01mfor\u001b[39;00m res \u001b[38;5;129;01min\u001b[39;00m resp[\u001b[38;5;124m\"\u001b[39m\u001b[38;5;124mdata\u001b[39m\u001b[38;5;124m\"\u001b[39m]])\n\u001b[1;32m    126\u001b[0m     \u001b[38;5;28;01mexcept\u001b[39;00m MaasException \u001b[38;5;28;01mas\u001b[39;00m e:\n\u001b[0;32m--> 127\u001b[0m         \u001b[38;5;28;01mraise\u001b[39;00m \u001b[38;5;167;01mValueError\u001b[39;00m(\u001b[38;5;124mf\u001b[39m\u001b[38;5;124m\"\u001b[39m\u001b[38;5;124membed by volcengine Error: \u001b[39m\u001b[38;5;132;01m{\u001b[39;00me\u001b[38;5;132;01m}\u001b[39;00m\u001b[38;5;124m\"\u001b[39m)\n\u001b[1;32m    128\u001b[0m \u001b[38;5;28;01mreturn\u001b[39;00m lst\n",
      "\u001b[0;31mValueError\u001b[0m: embed by volcengine Error: Detailed exception information is listed below.\nreq_id: 202409181911547458221C04914ECC70F6\ncode_n: 1709818\ncode: UnauthorizedUserForEndpoint\nmessage: 没有访问该模型服务节点的权限"
     ]
    }
   ],
   "source": [
    "%%time\n",
    "\n",
    "\"\"\"For basic init and call\"\"\"\n",
    "\n",
    "# https://python.langchain.com/docs/integrations/text_embedding/volcengine/\n",
    "\n",
    "import os\n",
    "\n",
    "from langchain_community.embeddings import VolcanoEmbeddings\n",
    "\n",
    "embed = VolcanoEmbeddings(\n",
    "    volcano_ak=\"xxx\", \n",
    "    volcano_sk=\"xxx\")\n",
    "print(\"embed_documents result:\")\n",
    "res = embed.embed_documents([\"风急天高猿啸哀\"])\n",
    "res[0][:5]"
   ]
  },
  {
   "cell_type": "code",
   "execution_count": null,
   "id": "b1ed6204-f7ad-4e08-a16e-7d9f1707659f",
   "metadata": {},
   "outputs": [],
   "source": []
  }
 ],
 "metadata": {
  "kernelspec": {
   "display_name": "Python 3 (ipykernel)",
   "language": "python",
   "name": "python3"
  },
  "language_info": {
   "codemirror_mode": {
    "name": "ipython",
    "version": 3
   },
   "file_extension": ".py",
   "mimetype": "text/x-python",
   "name": "python",
   "nbconvert_exporter": "python",
   "pygments_lexer": "ipython3",
   "version": "3.10.12"
  }
 },
 "nbformat": 4,
 "nbformat_minor": 5
}
