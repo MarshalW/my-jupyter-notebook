{
 "cells": [
  {
   "cell_type": "code",
   "execution_count": 5,
   "id": "3745860d-4bde-412b-876f-d2632cd4c1b6",
   "metadata": {},
   "outputs": [
    {
     "name": "stdout",
     "output_type": "stream",
     "text": [
      "要注册微信小程序，请按照以下步骤操作：\n",
      "\n",
      "1. **准备邮箱**：首先需要一个单独的邮箱用于注册。可以使用阿里云企业邮箱服务，通过 `https://qiye.aliyun.com/` 登录并创建一个新的邮件组，例如“小程序01/mini_01”，按照顺序排列。\n",
      "\n",
      "2. **激活邮箱组成员**：通过邮件组中的账号接收激活小程序的相关信息或链接。\n",
      "\n",
      "3. **注册微信小程序**：\n",
      "   - 访问微信官方平台的注册页面：`https://mp.weixin.qq.com/`\n",
      "   - 按照提示完成注册流程，通常需要填写相关信息、验证身份等步骤。\n",
      "\n",
      "4. **安装“微信开发者工具”**：\n",
      "   - 使用命令行工具（如终端或命令提示符）运行以下命令来安装微信开发者工具的Mac版本：`brew install --cask wechatwebdevtools`\n",
      "\n",
      "5. **在“微信开发者工具”中创建原型项目**：\n",
      "   - 启动微信开发者工具后，使用提供的模板生成一个基本框架的小程序项目。\n",
      "\n",
      "6. **进行原生小程序开发**：\n",
      "   - 小程序有2种主要的开发方式：基于原始API和组件API实现项目或使用第三方开发框架（如taro等）。\n",
      "     - **直接使用原始API**：性能最佳，但不适用于复杂应用且不利于代码复用。\n",
      "     - **使用第三方框架**：最终会将代码编译为小程序原生形式，性能稍逊于直接使用原始API。优点是利于代码复用和自动化开发部署过程。\n",
      "\n",
      "通过以上步骤，您就可以完成微信小程序的注册及初步开发工作。CPU times: user 359 ms, sys: 47.7 ms, total: 407 ms\n",
      "Wall time: 7.67 s\n"
     ]
    }
   ],
   "source": [
    "%%time\n",
    "\n",
    "from llama_index.core import Settings\n",
    "from llama_index.llms.ollama import Ollama\n",
    "from llama_index.embeddings.ollama import OllamaEmbedding\n",
    "from llama_index.core import SimpleDirectoryReader\n",
    "from llama_index.core import VectorStoreIndex\n",
    "\n",
    "Settings.llm=Ollama(\n",
    "    base_url=\"http://ape:11434\",\n",
    "    model=\"qwen2\",\n",
    "    is_chat_model=True,\n",
    "    temperature=0.1,\n",
    "    request_timeout=60.0\n",
    ")\n",
    "\n",
    "Settings.embed_model = OllamaEmbedding(\n",
    "    model_name=\"quentinz/bge-large-zh-v1.5\",\n",
    "    base_url=\"http://ape:11434\",\n",
    "    ollama_additional_kwargs={\"mirostat\": 0}, # -mirostat N 使用 Mirostat 采样。\n",
    ")\n",
    "\n",
    "documents = SimpleDirectoryReader(\n",
    "    input_dir=\"./data\", \n",
    "    filename_as_id=True,\n",
    "    required_exts=[\".md\"]).load_data()\n",
    "\n",
    "index = VectorStoreIndex.from_documents(documents=documents)\n",
    "\n",
    "query_engine = index.as_query_engine(\n",
    "    streaming=True,\n",
    "    similarity_top_k=10\n",
    ")\n",
    "\n",
    "streaming_response = query_engine.query(\"怎样注册微信小程序？\")\n",
    "streaming_response.print_response_stream()"
   ]
  },
  {
   "cell_type": "code",
   "execution_count": 6,
   "id": "3f800ad0-5cff-4ffd-9fbc-a93abc6888b3",
   "metadata": {},
   "outputs": [
    {
     "data": {
      "text/plain": [
       "<llama_index.core.indices.vector_store.base.VectorStoreIndex at 0x7fb8f3cc52a0>"
      ]
     },
     "execution_count": 6,
     "metadata": {},
     "output_type": "execute_result"
    }
   ],
   "source": [
    "index"
   ]
  },
  {
   "cell_type": "code",
   "execution_count": 7,
   "id": "41b4813c-103b-490f-b1ee-5782600554c0",
   "metadata": {},
   "outputs": [
    {
     "data": {
      "text/plain": [
       "[False, False, False, False, False]"
      ]
     },
     "execution_count": 7,
     "metadata": {},
     "output_type": "execute_result"
    }
   ],
   "source": [
    "index.refresh_ref_docs(documents)"
   ]
  },
  {
   "cell_type": "code",
   "execution_count": 34,
   "id": "2861f7a7-74b5-4fa6-873a-8348fc34f830",
   "metadata": {},
   "outputs": [
    {
     "data": {
      "text/plain": [
       "[True, True, True, True, True, False]"
      ]
     },
     "execution_count": 34,
     "metadata": {},
     "output_type": "execute_result"
    }
   ],
   "source": [
    "documents = SimpleDirectoryReader(\n",
    "    input_dir=\"./data\", \n",
    "    filename_as_id=True,\n",
    "    required_exts=[\".md\"]).load_data()\n",
    "\n",
    "index.refresh_ref_docs(documents)"
   ]
  },
  {
   "cell_type": "code",
   "execution_count": 29,
   "id": "fcb29a3a-1e94-4db4-85f2-3450e2ad3d08",
   "metadata": {},
   "outputs": [
    {
     "data": {
      "text/plain": [
       "Document(id_='/root/notebook/my-jupyter-notebook/llm/llama_index/reader/data/test.md_part_0', embedding=None, metadata={'file_path': '/root/notebook/my-jupyter-notebook/llm/llama_index/reader/data/test.md', 'file_name': 'test.md', 'file_type': 'text/markdown', 'file_size': 1202, 'creation_date': '2024-09-04', 'last_modified_date': '2024-09-04'}, excluded_embed_metadata_keys=['file_name', 'file_type', 'file_size', 'creation_date', 'last_modified_date', 'last_accessed_date'], excluded_llm_metadata_keys=['file_name', 'file_type', 'file_size', 'creation_date', 'last_modified_date', 'last_accessed_date'], relationships={}, text='\\n\\n主要步骤\\n\\n- 注册微信小程序\\n- 安装 “微信开发者工具”\\n- 在 “微信开发者工具” 中创建原型项目\\n- 进行原生小程序开发\\n', mimetype='text/plain', start_char_idx=None, end_char_idx=None, text_template='{metadata_str}\\n\\n{content}', metadata_template='{key}: {value}', metadata_seperator='\\n')"
      ]
     },
     "execution_count": 29,
     "metadata": {},
     "output_type": "execute_result"
    }
   ],
   "source": [
    "documents[0]"
   ]
  },
  {
   "cell_type": "code",
   "execution_count": 35,
   "id": "62efe273-2097-4507-a6f6-78f47289637a",
   "metadata": {},
   "outputs": [],
   "source": [
    "index.storage_context.persist(persist_dir=\"./index\")"
   ]
  },
  {
   "cell_type": "code",
   "execution_count": 36,
   "id": "f1b9b0eb-deb9-4d27-abd0-0c5cbabf9f02",
   "metadata": {},
   "outputs": [],
   "source": [
    "from llama_index.core import StorageContext, load_index_from_storage\n",
    "\n",
    "storage_context = StorageContext.from_defaults(persist_dir=\"./index\")\n",
    "index = load_index_from_storage(storage_context)"
   ]
  },
  {
   "cell_type": "code",
   "execution_count": 37,
   "id": "2bbee92a-b09c-4faa-88c2-5f0bf62d6613",
   "metadata": {},
   "outputs": [
    {
     "name": "stdout",
     "output_type": "stream",
     "text": [
      "要注册微信小程序，请按照以下步骤操作：\n",
      "\n",
      "1. **创建单独的邮箱**：使用如阿里云的企业邮箱服务，以“postmaster”账号登录。\n",
      "2. **建立邮件组**：创建一个新邮件组，例如命名为“小程序01/mini_01”，并按照顺序排列。\n",
      "3. **接收激活通知**：通过邮件组成员账号来接收激活微信小程序的邮件。\n",
      "\n",
      "完成这些步骤后，您将准备好注册微信小程序。接下来，请继续进行以下操作：\n",
      "\n",
      "- **安装 “微信开发者工具”**：使用命令 `brew install --cask wechatwebdevtools` 来安装。\n",
      "- **创建原型项目**：在“微信开发者工具”中选择模板来生成最基本的框架项目。\n",
      "\n",
      "完成上述步骤后，您就可以开始基于小程序原生API和组件API或第三方开发框架进行原生小程序的开发。对于原生小程序开发，有两种主要方式：\n",
      "\n",
      "1. **直接使用原生API**：\n",
      "   - 性能最佳。\n",
      "   - 不利于开发复杂应用。\n",
      "   - 不利于代码复用。\n",
      "\n",
      "2. **使用第三方开发框架（如taro）**：\n",
      "   - 最终将代码编译为小程序原生形式。\n",
      "   - 性能不如直接使用原生API。\n",
      "   - 有利于代码复用，例如转换为支付宝小程序等。\n",
      "   - 有助于自动化开发和部署过程。\n",
      "\n",
      "在进行Jupyterlab笔记中使用LlamaIndex时，为了支持嵌套事件循环，请加入以下代码：\n",
      "\n",
      "```python\n",
      "import nest_asyncio\n",
      "nest_asyncio.apply()\n",
      "```\n",
      "\n",
      "这将帮助您在Jupyterlab环境中更好地处理异步操作。"
     ]
    }
   ],
   "source": [
    "query_engine = index.as_query_engine(\n",
    "    streaming=True,\n",
    "    similarity_top_k=10\n",
    ")\n",
    "\n",
    "streaming_response = query_engine.query(\"怎样注册微信小程序？\")\n",
    "streaming_response.print_response_stream()"
   ]
  },
  {
   "cell_type": "code",
   "execution_count": null,
   "id": "385edaeb-1c0a-49ea-8b41-f1d9be17b687",
   "metadata": {},
   "outputs": [],
   "source": []
  }
 ],
 "metadata": {
  "kernelspec": {
   "display_name": "Python 3 (ipykernel)",
   "language": "python",
   "name": "python3"
  },
  "language_info": {
   "codemirror_mode": {
    "name": "ipython",
    "version": 3
   },
   "file_extension": ".py",
   "mimetype": "text/x-python",
   "name": "python",
   "nbconvert_exporter": "python",
   "pygments_lexer": "ipython3",
   "version": "3.10.12"
  }
 },
 "nbformat": 4,
 "nbformat_minor": 5
}
