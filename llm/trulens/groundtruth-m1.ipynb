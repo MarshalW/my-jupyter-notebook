{
 "cells": [
  {
   "cell_type": "markdown",
   "id": "413256af-7f4e-4175-8559-9cb3753c98bc",
   "metadata": {},
   "source": [
    "# 早期准确性测试"
   ]
  },
  {
   "cell_type": "markdown",
   "id": "cbd1983f-aac8-4e68-8092-00a641a15504",
   "metadata": {},
   "source": [
    "包括要完成的核心用力，便于深入了解应用的性能。\n",
    "\n",
    "一般在早期开发阶段使用。\n",
    "\n",
    "参考： https://www.trulens.org/trulens_eval/getting_started/quickstarts/groundtruth_evals/\n",
    "\n",
    "初步结论：\n",
    "\n",
    "- 如果使用litellm，使用openai，反馈结果为空"
   ]
  },
  {
   "cell_type": "code",
   "execution_count": 1,
   "id": "77011718-eb16-4ea9-a5a0-a6e345e53501",
   "metadata": {},
   "outputs": [
    {
     "name": "stdout",
     "output_type": "stream",
     "text": [
      "CPU times: user 9 µs, sys: 1e+03 ns, total: 10 µs\n",
      "Wall time: 12.4 µs\n"
     ]
    }
   ],
   "source": [
    "%%time\n",
    "\n",
    "import os\n",
    "\n",
    "base_url = \"http://ape:3000/v1\"\n",
    "api_key = \"sk-bJP6QSnUfjAYeYeE505d3eBf63A643BeB0B8E350Df9b7750\"\n",
    "\n",
    "os.environ[\"OPENAI_API_KEY\"] = api_key\n",
    "os.environ[\"OPENAI_API_BASE\"] = base_url"
   ]
  },
  {
   "cell_type": "code",
   "execution_count": 2,
   "id": "50f1f412-6b07-49c9-9eae-338af5cc0b92",
   "metadata": {},
   "outputs": [
    {
     "name": "stdout",
     "output_type": "stream",
     "text": [
      "🦑 Tru initialized with db url sqlite:///default.sqlite .\n",
      "🛑 Secret keys may be written to the database. See the `database_redact_keys` option of `Tru` to prevent this.\n",
      "CPU times: user 6.45 s, sys: 547 ms, total: 6.99 s\n",
      "Wall time: 6.64 s\n"
     ]
    }
   ],
   "source": [
    "%%time\n",
    "\n",
    "from trulens_eval import Tru\n",
    "\n",
    "tru = Tru()\n",
    "tru.reset_database()"
   ]
  },
  {
   "cell_type": "code",
   "execution_count": 3,
   "id": "dde290bb-3dd7-47b3-9730-1cd0a95c4904",
   "metadata": {},
   "outputs": [
    {
     "name": "stdout",
     "output_type": "stream",
     "text": [
      "CPU times: user 48 ms, sys: 0 ns, total: 48 ms\n",
      "Wall time: 46.9 ms\n"
     ]
    }
   ],
   "source": [
    "%%time\n",
    "\n",
    "from openai import OpenAI\n",
    "oai_client = OpenAI(\n",
    "    base_url = base_url,\n",
    "    api_key = api_key,\n",
    ")\n",
    "\n",
    "\n",
    "from trulens_eval.tru_custom_app import instrument\n",
    "\n",
    "class APP:\n",
    "    @instrument\n",
    "    def completion(self, prompt):\n",
    "        completion = oai_client.chat.completions.create(\n",
    "                model=\"gpt-3.5-turbo\",\n",
    "                temperature=0,\n",
    "                messages=\n",
    "                [\n",
    "                    {\"role\": \"user\",\n",
    "                    \"content\": \n",
    "                    f\"Please answer the question: {prompt}\"\n",
    "                    }\n",
    "                ]\n",
    "                ).choices[0].message.content\n",
    "        return completion\n",
    "    \n",
    "llm_app = APP()"
   ]
  },
  {
   "cell_type": "code",
   "execution_count": 4,
   "id": "29ef48dd-b0ab-4fa4-adf9-252336fa0164",
   "metadata": {},
   "outputs": [
    {
     "name": "stdout",
     "output_type": "stream",
     "text": [
      "✅ In Ground Truth, input prompt will be set to __record__.main_input or `Select.RecordInput` .\n",
      "✅ In Ground Truth, input response will be set to __record__.main_output or `Select.RecordOutput` .\n"
     ]
    }
   ],
   "source": [
    "from trulens_eval import Feedback\n",
    "from trulens_eval.feedback import GroundTruthAgreement\n",
    "\n",
    "golden_set = [\n",
    "    {\"query\": \"who invented the lightbulb?\", \"response\": \"Thomas Edison\"},\n",
    "    {\"query\": \"¿quien invento la bombilla?\", \"response\": \"Thomas Edison\"},\n",
    "]\n",
    "\n",
    "f_groundtruth = Feedback(\n",
    "    GroundTruthAgreement(golden_set).agreement_measure, name=\"Ground Truth\"\n",
    ").on_input_output()"
   ]
  },
  {
   "cell_type": "code",
   "execution_count": 5,
   "id": "c8146488-044e-4edb-8a4c-d25ebd8585b1",
   "metadata": {},
   "outputs": [],
   "source": [
    "# add trulens as a context manager for llm_app\n",
    "from trulens_eval import TruCustomApp\n",
    "\n",
    "tru_app = TruCustomApp(llm_app, app_id=\"LLM App v1\", feedbacks=[f_groundtruth])"
   ]
  },
  {
   "cell_type": "code",
   "execution_count": 6,
   "id": "f0a7345e-a6b0-4c49-a531-cde17d21f16f",
   "metadata": {},
   "outputs": [],
   "source": [
    "# Instrumented query engine can operate as a context manager:\n",
    "with tru_app as recording:\n",
    "    llm_app.completion(\"¿quien invento la bombilla?\")\n",
    "    llm_app.completion(\"who invented the lightbulb?\")"
   ]
  },
  {
   "cell_type": "code",
   "execution_count": 7,
   "id": "1fcd5178-9b72-4819-b051-be2c8af548be",
   "metadata": {},
   "outputs": [
    {
     "name": "stdout",
     "output_type": "stream",
     "text": [
      "CPU times: user 16.8 ms, sys: 0 ns, total: 16.8 ms\n",
      "Wall time: 10.8 ms\n"
     ]
    },
    {
     "data": {
      "text/html": [
       "<div>\n",
       "<style scoped>\n",
       "    .dataframe tbody tr th:only-of-type {\n",
       "        vertical-align: middle;\n",
       "    }\n",
       "\n",
       "    .dataframe tbody tr th {\n",
       "        vertical-align: top;\n",
       "    }\n",
       "\n",
       "    .dataframe thead th {\n",
       "        text-align: right;\n",
       "    }\n",
       "</style>\n",
       "<table border=\"1\" class=\"dataframe\">\n",
       "  <thead>\n",
       "    <tr style=\"text-align: right;\">\n",
       "      <th></th>\n",
       "      <th>latency</th>\n",
       "      <th>total_cost</th>\n",
       "    </tr>\n",
       "    <tr>\n",
       "      <th>app_id</th>\n",
       "      <th></th>\n",
       "      <th></th>\n",
       "    </tr>\n",
       "  </thead>\n",
       "  <tbody>\n",
       "    <tr>\n",
       "      <th>LLM App v1</th>\n",
       "      <td>1.5</td>\n",
       "      <td>0.000054</td>\n",
       "    </tr>\n",
       "  </tbody>\n",
       "</table>\n",
       "</div>"
      ],
      "text/plain": [
       "            latency  total_cost\n",
       "app_id                         \n",
       "LLM App v1      1.5    0.000054"
      ]
     },
     "execution_count": 7,
     "metadata": {},
     "output_type": "execute_result"
    }
   ],
   "source": [
    "%%time\n",
    "\n",
    "tru.get_leaderboard(app_ids=[tru_app.app_id])"
   ]
  },
  {
   "cell_type": "code",
   "execution_count": null,
   "id": "8649bb9a-c5a8-4af2-a60a-57e5c44ac270",
   "metadata": {},
   "outputs": [],
   "source": []
  }
 ],
 "metadata": {
  "kernelspec": {
   "display_name": "Python 3 (ipykernel)",
   "language": "python",
   "name": "python3"
  },
  "language_info": {
   "codemirror_mode": {
    "name": "ipython",
    "version": 3
   },
   "file_extension": ".py",
   "mimetype": "text/x-python",
   "name": "python",
   "nbconvert_exporter": "python",
   "pygments_lexer": "ipython3",
   "version": "3.10.12"
  }
 },
 "nbformat": 4,
 "nbformat_minor": 5
}
