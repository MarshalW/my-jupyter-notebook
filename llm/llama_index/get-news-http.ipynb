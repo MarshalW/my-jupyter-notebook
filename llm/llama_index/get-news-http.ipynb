{
 "cells": [
  {
   "cell_type": "markdown",
   "id": "24e2f556-d2ae-4b5f-a463-cc6f4f4c9a08",
   "metadata": {},
   "source": [
    "# 解决一些来源无法正确获取新闻内容的问题"
   ]
  },
  {
   "cell_type": "code",
   "execution_count": 1,
   "id": "e26ec351-152b-41c8-a288-ffb539e37b84",
   "metadata": {},
   "outputs": [
    {
     "name": "stdout",
     "output_type": "stream",
     "text": [
      "CPU times: user 196 ms, sys: 101 ms, total: 297 ms\n",
      "Wall time: 125 ms\n"
     ]
    }
   ],
   "source": [
    "%%time\n",
    "\n",
    "from gne import GeneralNewsExtractor\n",
    "import requests\n",
    "\n",
    "def get_url_content(url:str) -> str:\n",
    "    \"\"\"根据 url 访问并返回内容\"\"\"\n",
    "    response = requests.get(url)\n",
    "    html=response.text\n",
    "\n",
    "    return html"
   ]
  },
  {
   "cell_type": "code",
   "execution_count": 3,
   "id": "0fe9f69b-27cd-4543-9ce3-8f9fe1c2e4be",
   "metadata": {},
   "outputs": [
    {
     "name": "stdout",
     "output_type": "stream",
     "text": [
      "CPU times: user 30 µs, sys: 0 ns, total: 30 µs\n",
      "Wall time: 32.4 µs\n"
     ]
    }
   ],
   "source": [
    "%%time\n",
    "\n",
    "import requests\n",
    "import urllib3\n",
    "import ssl\n",
    "\n",
    "\n",
    "class CustomHttpAdapter (requests.adapters.HTTPAdapter):\n",
    "    # \"Transport adapter\" that allows us to use custom ssl_context.\n",
    "\n",
    "    def __init__(self, ssl_context=None, **kwargs):\n",
    "        self.ssl_context = ssl_context\n",
    "        super().__init__(**kwargs)\n",
    "\n",
    "    def init_poolmanager(self, connections, maxsize, block=False):\n",
    "        self.poolmanager = urllib3.poolmanager.PoolManager(\n",
    "            num_pools=connections, maxsize=maxsize,\n",
    "            block=block, ssl_context=self.ssl_context)\n",
    "\n",
    "\n",
    "def get_legacy_session():\n",
    "    ctx = ssl.create_default_context(ssl.Purpose.SERVER_AUTH)\n",
    "    ctx.options |= 0x4  # OP_LEGACY_SERVER_CONNECT\n",
    "    session = requests.session()\n",
    "    session.mount('https://', CustomHttpAdapter(ctx))\n",
    "    return session"
   ]
  },
  {
   "cell_type": "code",
   "execution_count": 15,
   "id": "2a4f7453-8d0d-4cf5-a15b-ad3517ca65a7",
   "metadata": {},
   "outputs": [
    {
     "name": "stdout",
     "output_type": "stream",
     "text": [
      "CPU times: user 53.6 ms, sys: 0 ns, total: 53.6 ms\n",
      "Wall time: 77 ms\n"
     ]
    },
    {
     "data": {
      "text/plain": [
       "'<!DOCTYPE html>\\r\\n<html>\\r\\n<head> \\r\\n<meta name=\"tplInfo\" content=\\'{\"id\":46074,\"name\":\"2018文章页全媒体纯净版\",\"nodeid\":0}\\'>\\r\\n<script src=\"//img.gmw.cn/js/public_share.js\" atremote></script>\\r\\n<meta charset=\"UTF-8\" />\\r\\n<meta http-equiv=\"Cache-Control\" content=\"max-age=0\" />\\r\\n<meta http-equiv=\"pragma\" content=\"no-cache\" />\\r\\n<meta http-equiv=\"Expires\" content=\"0\" />\\r\\n<meta name=\"renderer\" content=\"webkit|ie-stand|ie-comp\">\\r\\n<meta name=\"viewport\" content=\"width=device-width, initial-scale=1.0, minimum-scale=1.0, maximum-scale=3.0, user-scalable=no\" >\\r\\n<meta http-equiv=\"X-UA-Compatible\" content=\"IE=10,chrome=1\"/>\\r\\n<meta name=\"description\" content=\"近日，中共中央总书记、国家主席、中央军委主席习近平给中国科学院院士、清华大学教授姚期智回信，向他致以诚挚问候并提出殷切希望。\">\\r\\n<meta name=\"keywords\" content=\"习近平 姚期智 清华大学 科学院院士 教育强国\">\\r\\n<meta name=\"filetype\" content=\"0\">\\r\\n<meta name=\"publishedtype\" content=\"1\">\\r\\n<meta name=\"pagetype\" content=\"1\">\\r\\n<META name=\"catalogs\" content=\"23717\">\\r\\n<META name=\"contentid\" content=\"37375817\">\\r\\n<META name=\"publishdate\" content=\"2024-0'"
      ]
     },
     "execution_count": 15,
     "metadata": {},
     "output_type": "execute_result"
    }
   ],
   "source": [
    "%%time\n",
    "\n",
    "url=\"https://politics.gmw.cn/2024-06/12/content_37375817.htm\"\n",
    "response=get_legacy_session().get(url)\n",
    "\n",
    "response.encoding=\"utf-8\"\n",
    "response.text[:1000]"
   ]
  },
  {
   "cell_type": "code",
   "execution_count": 16,
   "id": "8cb7b1b0-e462-46f8-b348-020276653018",
   "metadata": {},
   "outputs": [
    {
     "name": "stdout",
     "output_type": "stream",
     "text": [
      "CPU times: user 13.3 ms, sys: 3.99 ms, total: 17.3 ms\n",
      "Wall time: 16.3 ms\n"
     ]
    },
    {
     "data": {
      "text/plain": [
       "{'title': '习近平给中国科学院院士、清华大学教授姚期智回信',\n",
       " 'author': '杨煜',\n",
       " 'publish_time': '2024-06-12',\n",
       " 'content': '新华社北京6月12日电\\n近日，中共中央总书记、国家主席、中央军委主席习近平给中国科学院院士、清华大学教授姚期智回信，向他致以诚挚问候并提出殷切希望。',\n",
       " 'images': [],\n",
       " 'meta': {'tplInfo': '{\"id\":46074,\"name\":\"2018文章页全媒体纯净版\",\"nodeid\":0}',\n",
       "  'renderer': 'webkit|ie-stand|ie-comp',\n",
       "  'viewport': 'width=device-width, initial-scale=1.0, minimum-scale=1.0, maximum-scale=3.0, user-scalable=no',\n",
       "  'description': '近日，中共中央总书记、国家主席、中央军委主席习近平给中国科学院院士、清华大学教授姚期智回信，向他致以诚挚问候并提出殷切希望。',\n",
       "  'keywords': '习近平 姚期智 清华大学 科学院院士 教育强国',\n",
       "  'filetype': '0',\n",
       "  'publishedtype': '1',\n",
       "  'pagetype': '1',\n",
       "  'catalogs': '23717',\n",
       "  'contentid': '37375817',\n",
       "  'publishdate': '2024-06-12',\n",
       "  'author': '杨煜',\n",
       "  'editor': '杨煜'}}"
      ]
     },
     "execution_count": 16,
     "metadata": {},
     "output_type": "execute_result"
    }
   ],
   "source": [
    "%%time\n",
    "\n",
    "from gne import GeneralNewsExtractor\n",
    "\n",
    "html=response.text\n",
    "extractor = GeneralNewsExtractor()\n",
    "result = extractor.extract(html, noise_node_list=['//div[@class=\"comment-list\"]'])\n",
    "\n",
    "result"
   ]
  },
  {
   "cell_type": "code",
   "execution_count": 11,
   "id": "e1864a51-b8de-4a65-a1d4-e7a8385d6988",
   "metadata": {},
   "outputs": [
    {
     "name": "stdout",
     "output_type": "stream",
     "text": [
      "CPU times: user 4.5 ms, sys: 54 µs, total: 4.55 ms\n",
      "Wall time: 96.5 ms\n"
     ]
    },
    {
     "data": {
      "text/plain": [
       "'\\ufeff<!DOCTYPE html>\\r\\n<html lang=\"en\">\\r\\n\\r\\n<head>\\r\\n    <meta charset=\"UTF-8\" />\\r\\n    \\r\\n    \\r\\n    <meta property=\"og:type\" content=\"website\" />\\r\\n    <meta property=\"og:title\" content=\"莫斯科证券交易所宣布停止使用美元和欧元交易\">\\r\\n    <meta property=\"og:description\" content=\"中国网--网上中国\">\\r\\n    <meta property=\"og:image\" content=\"http://images.china.cn/images1/ch/2022ChinaIdex/img/shareF2023.png\">\\r\\n    <meta property=\"og:url\" content=\"http://www.china.com.cn/\">\\r\\n\\r\\n    \\r\\n    <meta name=\"viewport\" content=\"width=device-width, initial-scale=1.0, maximum-scale=1.0, minimum-scale=1.0\" />\\r\\n    <meta http-equiv=\"X-UA-Compatible\" content=\"ie=edge\" />\\r\\n    <link rel=\"stylesheet\" href=\"http://images.china.cn/images1/resource/styles/reset-1.0.css\" />\\r\\n    <link rel=\"stylesheet\" href=\"http://images.china.cn/images1/ch/2022ChinaIdex/nav/css/topMenu.min.css\">\\r\\n    <link rel=\"stylesheet\" href=\"http://images.china.cn/images1/ch/2022ChinaIdex/content/css/content_two.min.css\">\\r\\n    <link rel=\"stylesheet\" href=\"http://images.china.cn/i'"
      ]
     },
     "execution_count": 11,
     "metadata": {},
     "output_type": "execute_result"
    }
   ],
   "source": [
    "%%time\n",
    "\n",
    "url=\"http://news.china.com.cn/2024-06/13/content_117250849.shtml\"\n",
    "response=get_legacy_session().get(url)\n",
    "\n",
    "response.text[:1000]"
   ]
  },
  {
   "cell_type": "code",
   "execution_count": 12,
   "id": "7b1b12e7-81ca-4ee8-95ad-c35cd14271d2",
   "metadata": {},
   "outputs": [
    {
     "data": {
      "text/plain": [
       "{'title': '莫斯科证券交易所宣布停止使用美元和欧元交易',\n",
       " 'author': '刘洪庆',\n",
       " 'publish_time': ' 2024-06-13',\n",
       " 'content': '新华社圣彼得堡6月12日电（记者 安晓萌）俄罗斯莫斯科证券交易所12日发布公告，宣布次日起不再使用美元和欧元进行交易。\\n公告说，由于美国对莫斯科证券交易所采取限制措施，莫斯科证券交易所自6月13日起将不再使用美元和欧元进行外汇和贵金属交易。此外，在股票和货币市场以及标准化金融衍生工具市场，也不再使用以美元和欧元结算的金融工具进行交易。\\n美国财政部12日宣布对俄罗斯实行新一揽子制裁措施，目标包括俄金融系统的组成机构，以及为俄黄金生产商提供原料以支持俄武器制造的“跨国网络”等。其中，莫斯科证券交易所及其下设的国家结算存管公司以及国家清算中心等在制裁对象名单中。（参与记者：邓仙来）\\n【责任编辑：刘洪庆】',\n",
       " 'images': [],\n",
       " 'meta': {'og:type': 'website',\n",
       "  'og:title': '莫斯科证券交易所宣布停止使用美元和欧元交易',\n",
       "  'og:description': '中国网--网上中国',\n",
       "  'og:image': 'http://images.china.cn/images1/ch/2022ChinaIdex/img/shareF2023.png',\n",
       "  'og:url': 'http://www.china.com.cn/',\n",
       "  'viewport': 'width=device-width, initial-scale=1.0, maximum-scale=1.0, minimum-scale=1.0',\n",
       "  'keywords': '莫斯科,金融,交易,制裁,不再',\n",
       "  'filetype': '0',\n",
       "  'publishedtype': '1',\n",
       "  'pagetype': '1',\n",
       "  'catalogs': '',\n",
       "  'contentid': '117250849',\n",
       "  'publishdate': ' 2024-06-13',\n",
       "  'author': '刘洪庆',\n",
       "  'titlePic': ''}}"
      ]
     },
     "execution_count": 12,
     "metadata": {},
     "output_type": "execute_result"
    }
   ],
   "source": [
    "html=response.text\n",
    "extractor = GeneralNewsExtractor()\n",
    "result = extractor.extract(html, noise_node_list=['//div[@class=\"comment-list\"]'])\n",
    "\n",
    "result"
   ]
  },
  {
   "cell_type": "code",
   "execution_count": null,
   "id": "c538cc9b-16ff-4fbb-9d6f-f8f7e0229bd0",
   "metadata": {},
   "outputs": [],
   "source": []
  }
 ],
 "metadata": {
  "kernelspec": {
   "display_name": "Python 3 (ipykernel)",
   "language": "python",
   "name": "python3"
  },
  "language_info": {
   "codemirror_mode": {
    "name": "ipython",
    "version": 3
   },
   "file_extension": ".py",
   "mimetype": "text/x-python",
   "name": "python",
   "nbconvert_exporter": "python",
   "pygments_lexer": "ipython3",
   "version": "3.10.12"
  }
 },
 "nbformat": 4,
 "nbformat_minor": 5
}
