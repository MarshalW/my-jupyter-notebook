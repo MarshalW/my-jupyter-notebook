{
 "cells": [
  {
   "cell_type": "markdown",
   "id": "7e7ef461-f258-4e1b-841d-c73e36d26c30",
   "metadata": {},
   "source": [
    "# Ragas 对北京旅游 RAG 的评估"
   ]
  },
  {
   "cell_type": "markdown",
   "id": "fa573786-bfce-4879-a409-a68c1de80ce9",
   "metadata": {},
   "source": [
    "通过 LlamaIndex 模拟最小的 RAG，加载北海信息。\n",
    "\n",
    "测试评估方式。"
   ]
  },
  {
   "cell_type": "markdown",
   "id": "5dced9be-3f3b-44cb-95ea-c42f72151c6a",
   "metadata": {},
   "source": [
    "## 加载数据"
   ]
  },
  {
   "cell_type": "code",
   "execution_count": 2,
   "id": "85001821-6dca-4a28-bf15-08e2bb3bd86b",
   "metadata": {},
   "outputs": [
    {
     "name": "stdout",
     "output_type": "stream",
     "text": [
      "CPU times: user 1.45 ms, sys: 189 µs, total: 1.64 ms\n",
      "Wall time: 1.41 ms\n"
     ]
    },
    {
     "data": {
      "text/plain": [
       "'收藏\\n查看我的收藏\\n0有用+1\\n北海公园（Beihai Park），位于北京市西城区文津街1号，东邻景山公园，南濒中南海，北连什刹海，全园占地68.2万平方米（其中水域面积38.9万平方米，陆地面积29.3万平方米），1925年开放为公园。 [3] [28]\\n北海及团城于1961年被中华人民共和国中央人民政府公布为第一批全国重点文物保护单位。 [32]北海公园也是国家AAAA级旅游景区。 [33]\\n2023年4月，北海公园入选第二批国家级文明旅游示范单位公示名单。 [37]\\n- 中文名\\n- 北海公园\\n- 外文名\\n- Beihai Park\\n- 地理位置\\n- 北京市西城区文津街1号\\n- 气候条件\\n- 温带季风气候\\n- 开放时间\\n- 4月1日-10月31日 06:00-21:00；11月1日-次年3月31日 06:30-20:00 [1]\\n- 景点级别\\n- AAAA级\\n- 门票价格\\n- 旺季10元，淡季5元\\n- 占地面积\\n- 682000 m²（其中水面积38.9万平方米，陆地面积29.3万平方米）\\n- 著名景点\\n- 琼华岛、永安寺、北海白塔\\n北海公园原为辽燕京城东北一片湖泊，名金海。中有'"
      ]
     },
     "execution_count": 2,
     "metadata": {},
     "output_type": "execute_result"
    }
   ],
   "source": [
    "%%time\n",
    "from llama_index.core import SimpleDirectoryReader\n",
    "\n",
    "documents = SimpleDirectoryReader(\"./data\").load_data()\n",
    "documents[0].text[:500]"
   ]
  },
  {
   "cell_type": "markdown",
   "id": "3a720340-72c6-41e8-b43f-5f4471f7a25f",
   "metadata": {},
   "source": [
    "## 生成测试集"
   ]
  },
  {
   "cell_type": "code",
   "execution_count": 10,
   "id": "d5cec9fb-2c67-47e0-bcb3-70d4a28f06e6",
   "metadata": {},
   "outputs": [
    {
     "name": "stdout",
     "output_type": "stream",
     "text": [
      "CPU times: user 5 µs, sys: 1e+03 ns, total: 6 µs\n",
      "Wall time: 7.87 µs\n"
     ]
    }
   ],
   "source": [
    "%%time\n",
    "\n",
    "from datasets import Dataset \n",
    "\n",
    "data_samples = {\n",
    "    'question': ['北海公园在哪里？', ],\n",
    "    'contexts' : ['北海公园（Beihai Park），位于北京市西城区文津街1号，东邻景山公园，南濒中南海，北连什刹海，全园占地68.2万平方米（其中水域面积38.9万平方米，陆地面积29.3万平方米），1925年开放为公园。'],\n",
    "    'ground_truth': ['北海公园位于北京市西城区文津街1号，东邻景山公园，南濒中南海，北连什刹海。'],\n",
    "    \n",
    "}"
   ]
  },
  {
   "cell_type": "code",
   "execution_count": 11,
   "id": "e74675c6-8c66-46c7-a557-bd3ce903837b",
   "metadata": {},
   "outputs": [
    {
     "data": {
      "text/html": [
       "<div>\n",
       "<style scoped>\n",
       "    .dataframe tbody tr th:only-of-type {\n",
       "        vertical-align: middle;\n",
       "    }\n",
       "\n",
       "    .dataframe tbody tr th {\n",
       "        vertical-align: top;\n",
       "    }\n",
       "\n",
       "    .dataframe thead th {\n",
       "        text-align: right;\n",
       "    }\n",
       "</style>\n",
       "<table border=\"1\" class=\"dataframe\">\n",
       "  <thead>\n",
       "    <tr style=\"text-align: right;\">\n",
       "      <th></th>\n",
       "      <th>question</th>\n",
       "      <th>contexts</th>\n",
       "      <th>ground_truth</th>\n",
       "    </tr>\n",
       "  </thead>\n",
       "  <tbody>\n",
       "    <tr>\n",
       "      <th>0</th>\n",
       "      <td>北海公园在哪里？</td>\n",
       "      <td>北海公园（Beihai Park），位于北京市西城区文津街1号，东邻景山公园，南濒中南海，北...</td>\n",
       "      <td>北海公园位于北京市西城区文津街1号，东邻景山公园，南濒中南海，北连什刹海。</td>\n",
       "    </tr>\n",
       "  </tbody>\n",
       "</table>\n",
       "</div>"
      ],
      "text/plain": [
       "   question                                           contexts  \\\n",
       "0  北海公园在哪里？  北海公园（Beihai Park），位于北京市西城区文津街1号，东邻景山公园，南濒中南海，北...   \n",
       "\n",
       "                            ground_truth  \n",
       "0  北海公园位于北京市西城区文津街1号，东邻景山公园，南濒中南海，北连什刹海。  "
      ]
     },
     "execution_count": 11,
     "metadata": {},
     "output_type": "execute_result"
    }
   ],
   "source": [
    "import pandas as pd\n",
    "from datasets import Dataset\n",
    "\n",
    "\n",
    "# 创建Pandas DataFrame\n",
    "df = pd.DataFrame(data_samples)\n",
    "\n",
    "df.head()"
   ]
  },
  {
   "cell_type": "code",
   "execution_count": 12,
   "id": "41a07b2b-d2d0-4c15-9d32-91f7b512430b",
   "metadata": {},
   "outputs": [
    {
     "data": {
      "text/plain": [
       "Dataset({\n",
       "    features: ['question', 'contexts', 'ground_truth'],\n",
       "    num_rows: 1\n",
       "})"
      ]
     },
     "execution_count": 12,
     "metadata": {},
     "output_type": "execute_result"
    }
   ],
   "source": [
    "hf_dataset = Dataset.from_pandas(df)\n",
    "hf_dataset"
   ]
  },
  {
   "cell_type": "markdown",
   "id": "58cdb27f-d0fe-4dba-a08e-9f2870389fce",
   "metadata": {},
   "source": [
    "## 创建 RAG"
   ]
  },
  {
   "cell_type": "code",
   "execution_count": 14,
   "id": "0d4f31bc-d6dd-4f9d-a889-145374c7f7e8",
   "metadata": {},
   "outputs": [
    {
     "name": "stdout",
     "output_type": "stream",
     "text": [
      "CPU times: user 1.16 s, sys: 36.5 ms, total: 1.2 s\n",
      "Wall time: 9.82 s\n"
     ]
    }
   ],
   "source": [
    "%%time\n",
    "\n",
    "# build query engine\n",
    "from llama_index.core import VectorStoreIndex\n",
    "from llama_index.core.settings import Settings\n",
    "from llama_index.llms.openai_like import OpenAILike\n",
    "from llama_index.embeddings.ollama import OllamaEmbedding\n",
    "\n",
    "Settings.llm=OpenAILike(\n",
    "    model=\"qwen2\", \n",
    "    api_base=\"http://ape:3000/v1\", \n",
    "    api_key=\"sk-bJP6QSnUfjAYeYeE505d3eBf63A643BeB0B8E350Df9b7750\",\n",
    "    is_chat_model=True,\n",
    "    temperature=0.1,\n",
    "    request_timeout=60.0\n",
    ")\n",
    "\n",
    "Settings.embed_model=OllamaEmbedding(\n",
    "    model_name=\"quentinz/bge-large-zh-v1.5\",\n",
    "    base_url=\"http://monkey:11434\",\n",
    "    ollama_additional_kwargs={\"mirostat\": 0}, # -mirostat N 使用 Mirostat 采样。\n",
    ")\n",
    "\n",
    "Settings.chunk_size = 128\n",
    "Settings.chunk_overlap = 10\n",
    "\n",
    "vector_index = VectorStoreIndex.from_documents(documents)\n",
    "\n",
    "query_engine = vector_index.as_query_engine()"
   ]
  },
  {
   "cell_type": "code",
   "execution_count": 15,
   "id": "8a458b1c-cde4-4c02-9d0a-66b167162b18",
   "metadata": {},
   "outputs": [
    {
     "data": {
      "text/plain": [
       "'北海公园在哪里？'"
      ]
     },
     "execution_count": 15,
     "metadata": {},
     "output_type": "execute_result"
    }
   ],
   "source": [
    "df[\"question\"][0]"
   ]
  },
  {
   "cell_type": "code",
   "execution_count": 16,
   "id": "71ebf9b9-2aea-42bd-9187-849cc87ab05f",
   "metadata": {},
   "outputs": [
    {
     "name": "stdout",
     "output_type": "stream",
     "text": [
      "北海公园位于北京市西城区文津街1号。\n",
      "CPU times: user 57.8 ms, sys: 8.22 ms, total: 66 ms\n",
      "Wall time: 2.27 s\n"
     ]
    }
   ],
   "source": [
    "%%time\n",
    "\n",
    "response = query_engine.query(df[\"question\"][0])\n",
    "print(response)"
   ]
  },
  {
   "cell_type": "markdown",
   "id": "cdf25df7-da37-454f-a266-ed241e0b5d74",
   "metadata": {},
   "source": [
    "## 评估"
   ]
  },
  {
   "cell_type": "code",
   "execution_count": 18,
   "id": "991d6631-ca84-43e1-91bf-5783235db1a9",
   "metadata": {},
   "outputs": [
    {
     "name": "stdout",
     "output_type": "stream",
     "text": [
      "CPU times: user 9 µs, sys: 1 µs, total: 10 µs\n",
      "Wall time: 10.7 µs\n"
     ]
    }
   ],
   "source": [
    "%%time\n",
    "\n",
    "from ragas.metrics import (\n",
    "    faithfulness,\n",
    "    answer_relevancy,\n",
    "    context_precision,\n",
    "    context_recall,\n",
    ")\n",
    "from ragas.metrics.critique import harmfulness\n",
    "\n",
    "metrics = [\n",
    "    faithfulness,\n",
    "    answer_relevancy,\n",
    "    context_precision,\n",
    "    context_recall,\n",
    "    harmfulness,\n",
    "]"
   ]
  },
  {
   "cell_type": "code",
   "execution_count": 19,
   "id": "91bf82c0-5941-4462-af45-51d1bfc63447",
   "metadata": {},
   "outputs": [
    {
     "name": "stdout",
     "output_type": "stream",
     "text": [
      "CPU times: user 111 µs, sys: 0 ns, total: 111 µs\n",
      "Wall time: 113 µs\n"
     ]
    }
   ],
   "source": [
    "%%time\n",
    "\n",
    "# using GPT 3.5, use GPT 4 / 4-turbo for better accuracy\n",
    "evaluator_llm = OpenAILike(\n",
    "    model=\"gpt-3.5-turbo\", \n",
    "    api_base=\"http://ape:3000/v1\", \n",
    "    api_key=\"sk-bJP6QSnUfjAYeYeE505d3eBf63A643BeB0B8E350Df9b7750\",\n",
    "    is_chat_model=True,\n",
    "    temperature=0.1,\n",
    "    request_timeout=60.0\n",
    ")"
   ]
  },
  {
   "cell_type": "code",
   "execution_count": 24,
   "id": "6b1b6ddc-f87f-4da7-96d5-8e86ab0ca35f",
   "metadata": {},
   "outputs": [
    {
     "data": {
      "text/plain": [
       "['北海公园在哪里？']"
      ]
     },
     "execution_count": 24,
     "metadata": {},
     "output_type": "execute_result"
    }
   ],
   "source": [
    "data_samples[\"question\"]"
   ]
  },
  {
   "cell_type": "code",
   "execution_count": 25,
   "id": "685bc02a-5752-400b-a290-0f0c592b4616",
   "metadata": {},
   "outputs": [
    {
     "data": {
      "text/plain": [
       "['北海公园位于北京市西城区文津街1号，东邻景山公园，南濒中南海，北连什刹海。']"
      ]
     },
     "execution_count": 25,
     "metadata": {},
     "output_type": "execute_result"
    }
   ],
   "source": [
    "data_samples[\"ground_truth\"]"
   ]
  },
  {
   "cell_type": "code",
   "execution_count": 26,
   "id": "688c59f1-34da-4584-8f33-1d41bb26d9a5",
   "metadata": {},
   "outputs": [
    {
     "data": {
      "application/vnd.jupyter.widget-view+json": {
       "model_id": "e0428ec1943a42eca9532e3172da78aa",
       "version_major": 2,
       "version_minor": 0
      },
      "text/plain": [
       "Running Query Engine:   0%|          | 0/1 [00:00<?, ?it/s]"
      ]
     },
     "metadata": {},
     "output_type": "display_data"
    },
    {
     "data": {
      "application/vnd.jupyter.widget-view+json": {
       "model_id": "e00ad8745e20455d9baebd5c74af381e",
       "version_major": 2,
       "version_minor": 0
      },
      "text/plain": [
       "Evaluating:   0%|          | 0/5 [00:00<?, ?it/s]"
      ]
     },
     "metadata": {},
     "output_type": "display_data"
    },
    {
     "name": "stderr",
     "output_type": "stream",
     "text": [
      "n values greater than 1 not support for LlamaIndex LLMs\n"
     ]
    },
    {
     "name": "stdout",
     "output_type": "stream",
     "text": [
      "CPU times: user 250 ms, sys: 9.87 ms, total: 260 ms\n",
      "Wall time: 8.52 s\n"
     ]
    }
   ],
   "source": [
    "%%time\n",
    "\n",
    "from ragas.integrations.llama_index import evaluate\n",
    "\n",
    "result = evaluate(\n",
    "    query_engine=query_engine,\n",
    "    metrics=metrics,\n",
    "    dataset=data_samples,\n",
    "    llm=evaluator_llm,\n",
    "    embeddings=Settings.embed_model,\n",
    ")"
   ]
  },
  {
   "cell_type": "code",
   "execution_count": 27,
   "id": "f33b71ce-a4be-461f-b05d-1e76efe66e04",
   "metadata": {},
   "outputs": [
    {
     "data": {
      "text/plain": [
       "{'faithfulness': 1.0000, 'answer_relevancy': 0.8781, 'context_precision': 1.0000, 'context_recall': 1.0000, 'harmfulness': 0.0000}"
      ]
     },
     "execution_count": 27,
     "metadata": {},
     "output_type": "execute_result"
    }
   ],
   "source": [
    "result"
   ]
  },
  {
   "cell_type": "code",
   "execution_count": 28,
   "id": "3ec4478d-cb83-40bc-bcc9-a815d89f104d",
   "metadata": {},
   "outputs": [
    {
     "data": {
      "text/html": [
       "<div>\n",
       "<style scoped>\n",
       "    .dataframe tbody tr th:only-of-type {\n",
       "        vertical-align: middle;\n",
       "    }\n",
       "\n",
       "    .dataframe tbody tr th {\n",
       "        vertical-align: top;\n",
       "    }\n",
       "\n",
       "    .dataframe thead th {\n",
       "        text-align: right;\n",
       "    }\n",
       "</style>\n",
       "<table border=\"1\" class=\"dataframe\">\n",
       "  <thead>\n",
       "    <tr style=\"text-align: right;\">\n",
       "      <th></th>\n",
       "      <th>question</th>\n",
       "      <th>contexts</th>\n",
       "      <th>answer</th>\n",
       "      <th>ground_truth</th>\n",
       "      <th>faithfulness</th>\n",
       "      <th>answer_relevancy</th>\n",
       "      <th>context_precision</th>\n",
       "      <th>context_recall</th>\n",
       "      <th>harmfulness</th>\n",
       "    </tr>\n",
       "  </thead>\n",
       "  <tbody>\n",
       "    <tr>\n",
       "      <th>0</th>\n",
       "      <td>北海公园在哪里？</td>\n",
       "      <td>[[33]\\n2023年4月，北海公园入选第二批国家级文明旅游示范单位公示名单。 [37]\\...</td>\n",
       "      <td>北海公园位于北京市西城区文津街1号。</td>\n",
       "      <td>北海公园位于北京市西城区文津街1号，东邻景山公园，南濒中南海，北连什刹海。</td>\n",
       "      <td>1.0</td>\n",
       "      <td>0.878119</td>\n",
       "      <td>1.0</td>\n",
       "      <td>1.0</td>\n",
       "      <td>0</td>\n",
       "    </tr>\n",
       "  </tbody>\n",
       "</table>\n",
       "</div>"
      ],
      "text/plain": [
       "   question                                           contexts  \\\n",
       "0  北海公园在哪里？  [[33]\\n2023年4月，北海公园入选第二批国家级文明旅游示范单位公示名单。 [37]\\...   \n",
       "\n",
       "               answer                           ground_truth  faithfulness  \\\n",
       "0  北海公园位于北京市西城区文津街1号。  北海公园位于北京市西城区文津街1号，东邻景山公园，南濒中南海，北连什刹海。           1.0   \n",
       "\n",
       "   answer_relevancy  context_precision  context_recall  harmfulness  \n",
       "0          0.878119                1.0             1.0            0  "
      ]
     },
     "execution_count": 28,
     "metadata": {},
     "output_type": "execute_result"
    }
   ],
   "source": [
    "result.to_pandas()"
   ]
  },
  {
   "cell_type": "code",
   "execution_count": 35,
   "id": "98615d63-5d10-482e-8247-025c2ad3175f",
   "metadata": {},
   "outputs": [
    {
     "data": {
      "text/html": [
       "<div>\n",
       "<style scoped>\n",
       "    .dataframe tbody tr th:only-of-type {\n",
       "        vertical-align: middle;\n",
       "    }\n",
       "\n",
       "    .dataframe tbody tr th {\n",
       "        vertical-align: top;\n",
       "    }\n",
       "\n",
       "    .dataframe thead th {\n",
       "        text-align: right;\n",
       "    }\n",
       "</style>\n",
       "<table border=\"1\" class=\"dataframe\">\n",
       "  <thead>\n",
       "    <tr style=\"text-align: right;\">\n",
       "      <th></th>\n",
       "      <th>faithfulness</th>\n",
       "      <th>answer_relevancy</th>\n",
       "      <th>context_precision</th>\n",
       "      <th>context_recall</th>\n",
       "      <th>harmfulness</th>\n",
       "    </tr>\n",
       "  </thead>\n",
       "  <tbody>\n",
       "    <tr>\n",
       "      <th>0</th>\n",
       "      <td>1.0</td>\n",
       "      <td>0.878119</td>\n",
       "      <td>1.0</td>\n",
       "      <td>1.0</td>\n",
       "      <td>0</td>\n",
       "    </tr>\n",
       "  </tbody>\n",
       "</table>\n",
       "</div>"
      ],
      "text/plain": [
       "   faithfulness  answer_relevancy  context_precision  context_recall  \\\n",
       "0           1.0          0.878119                1.0             1.0   \n",
       "\n",
       "   harmfulness  \n",
       "0            0  "
      ]
     },
     "execution_count": 35,
     "metadata": {},
     "output_type": "execute_result"
    }
   ],
   "source": [
    "result.scores.to_pandas()"
   ]
  },
  {
   "cell_type": "code",
   "execution_count": null,
   "id": "d0dde86f-909e-43fe-8560-401b6aa45674",
   "metadata": {},
   "outputs": [],
   "source": []
  }
 ],
 "metadata": {
  "kernelspec": {
   "display_name": "Python 3 (ipykernel)",
   "language": "python",
   "name": "python3"
  },
  "language_info": {
   "codemirror_mode": {
    "name": "ipython",
    "version": 3
   },
   "file_extension": ".py",
   "mimetype": "text/x-python",
   "name": "python",
   "nbconvert_exporter": "python",
   "pygments_lexer": "ipython3",
   "version": "3.10.12"
  }
 },
 "nbformat": 4,
 "nbformat_minor": 5
}
