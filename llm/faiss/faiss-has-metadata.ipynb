{
 "cells": [
  {
   "cell_type": "markdown",
   "id": "617aa5d9-cf64-4f2e-918f-3c5c09308f8f",
   "metadata": {
    "editable": true,
    "slideshow": {
     "slide_type": ""
    },
    "tags": []
   },
   "source": [
    "# faiss是否保留 metadata - 保存索引"
   ]
  },
  {
   "cell_type": "markdown",
   "id": "cc49ad83-2c86-4442-8978-759b26ea5eeb",
   "metadata": {},
   "source": [
    "验证faiss是否保存了metadata在索引文件中。"
   ]
  },
  {
   "cell_type": "code",
   "execution_count": 1,
   "id": "5edfdfe1-f649-4ea8-90e5-581c7a77561a",
   "metadata": {},
   "outputs": [
    {
     "name": "stdout",
     "output_type": "stream",
     "text": [
      "CPU times: user 11.4 ms, sys: 12 ms, total: 23.4 ms\n",
      "Wall time: 3.83 s\n"
     ]
    }
   ],
   "source": [
    "%%time\n",
    "%%capture\n",
    "\n",
    "# 所有依赖库\n",
    "!pip install llama-index\n",
    "# !pip install llama-index-llms-openai-like\n",
    "# !pip install llama-index-llms-ollama\n",
    "!pip install llama-index-vector-stores-faiss"
   ]
  },
  {
   "cell_type": "code",
   "execution_count": 2,
   "id": "cdf6175b-8010-4da0-9c5e-d6a83fd02f53",
   "metadata": {},
   "outputs": [
    {
     "name": "stdout",
     "output_type": "stream",
     "text": [
      "CPU times: user 1.39 s, sys: 261 ms, total: 1.65 s\n",
      "Wall time: 1.35 s\n"
     ]
    }
   ],
   "source": [
    "%%time\n",
    "\n",
    "# 导入需要的包\n",
    "\n",
    "from llama_index.core import Settings\n",
    "from llama_index.embeddings.ollama import OllamaEmbedding\n",
    "from llama_index.core import (\n",
    "    SimpleDirectoryReader,\n",
    "    load_index_from_storage,\n",
    "    VectorStoreIndex,\n",
    "    StorageContext,\n",
    ")\n",
    "from llama_index.vector_stores.faiss import FaissVectorStore"
   ]
  },
  {
   "cell_type": "code",
   "execution_count": 3,
   "id": "78f15bfd-32f4-4c3f-8724-16c0ee088c74",
   "metadata": {},
   "outputs": [
    {
     "name": "stdout",
     "output_type": "stream",
     "text": [
      "CPU times: user 658 ms, sys: 23.9 ms, total: 682 ms\n",
      "Wall time: 687 ms\n"
     ]
    }
   ],
   "source": [
    "%%time\n",
    "\n",
    "# 初始化全局 embedding 模型\n",
    "from llama_index.embeddings.ollama import OllamaEmbedding\n",
    "\n",
    "ollama_embedding = OllamaEmbedding(\n",
    "    model_name=\"dztech/bge-large-zh:v1.5\",\n",
    "    # model_name=\"bge-m3:latest\",\n",
    "    base_url=\"http://192.168.0.72:11435\",\n",
    "    ollama_additional_kwargs={\"mirostat\": 0}, # -mirostat N 使用 Mirostat 采样。\n",
    ")\n",
    "\n",
    "Settings.embed_model = ollama_embedding"
   ]
  },
  {
   "cell_type": "code",
   "execution_count": 4,
   "id": "f86684a6-0af1-4fca-aba5-6b9ee416ab1f",
   "metadata": {},
   "outputs": [
    {
     "name": "stdout",
     "output_type": "stream",
     "text": [
      "CPU times: user 130 µs, sys: 19 µs, total: 149 µs\n",
      "Wall time: 152 µs\n"
     ]
    }
   ],
   "source": [
    "%%time\n",
    "\n",
    "import logging\n",
    "import sys\n",
    "\n",
    "# 设置系统日志，便于设置level排查\n",
    "\n",
    "logging.basicConfig(stream=sys.stdout, level=logging.INFO)\n",
    "logging.getLogger().addHandler(logging.StreamHandler(stream=sys.stdout))"
   ]
  },
  {
   "cell_type": "code",
   "execution_count": 5,
   "id": "fa83372f-4b2d-4240-84b5-badf7a76fb7f",
   "metadata": {},
   "outputs": [
    {
     "name": "stdout",
     "output_type": "stream",
     "text": [
      "CPU times: user 11.3 ms, sys: 0 ns, total: 11.3 ms\n",
      "Wall time: 11.2 ms\n"
     ]
    },
    {
     "data": {
      "text/plain": [
       "'/root/notebook/my-jupyter-notebook/llm/faiss/news/n1.txt'"
      ]
     },
     "execution_count": 5,
     "metadata": {},
     "output_type": "execute_result"
    }
   ],
   "source": [
    "%%time\n",
    "\n",
    "# 加载文件\n",
    "\n",
    "documents = SimpleDirectoryReader(\"./news/\").load_data()\n",
    "documents[0].metadata['file_path']"
   ]
  },
  {
   "cell_type": "code",
   "execution_count": 6,
   "id": "762d817f-8f46-4dd1-906f-9dcd681fc5be",
   "metadata": {},
   "outputs": [
    {
     "name": "stdout",
     "output_type": "stream",
     "text": [
      "INFO:faiss.loader:Loading faiss with AVX2 support.\n",
      "Loading faiss with AVX2 support.\n",
      "INFO:faiss.loader:Successfully loaded faiss with AVX2 support.\n",
      "Successfully loaded faiss with AVX2 support.\n",
      "CPU times: user 610 ms, sys: 32 ms, total: 642 ms\n",
      "Wall time: 2.67 s\n"
     ]
    }
   ],
   "source": [
    "%%time\n",
    "\n",
    "# 生成faiss索引\n",
    "\n",
    "import faiss\n",
    "\n",
    "Settings.chunk_size=128\n",
    "Settings.chunk_overlap=20\n",
    "\n",
    "# dimensions of bge-large-zh\n",
    "d = 1024\n",
    "faiss_index = faiss.IndexFlatL2(d)\n",
    "\n",
    "vector_store = FaissVectorStore(faiss_index=faiss_index)\n",
    "storage_context = StorageContext.from_defaults(vector_store=vector_store)\n",
    "index = VectorStoreIndex.from_documents(\n",
    "    documents, storage_context=storage_context\n",
    ")"
   ]
  },
  {
   "cell_type": "code",
   "execution_count": 7,
   "id": "86973552-f7c2-46aa-a6eb-4ec5047a2373",
   "metadata": {},
   "outputs": [
    {
     "name": "stdout",
     "output_type": "stream",
     "text": [
      "CPU times: user 596 µs, sys: 3.27 ms, total: 3.87 ms\n",
      "Wall time: 3.89 ms\n"
     ]
    }
   ],
   "source": [
    "%%time\n",
    "\n",
    "# save index to disk\n",
    "index.storage_context.persist()"
   ]
  },
  {
   "cell_type": "code",
   "execution_count": 9,
   "id": "bbfbcc12-3342-4537-9d0f-c1b3edb2c0ad",
   "metadata": {},
   "outputs": [
    {
     "name": "stdout",
     "output_type": "stream",
     "text": [
      "INFO:root:Loading llama_index.vector_stores.faiss.base from ./storage/default__vector_store.json.\n",
      "Loading llama_index.vector_stores.faiss.base from ./storage/default__vector_store.json.\n",
      "INFO:llama_index.core.indices.loading:Loading all indices.\n",
      "Loading all indices.\n",
      "CPU times: user 5.93 ms, sys: 1.99 ms, total: 7.92 ms\n",
      "Wall time: 6.9 ms\n"
     ]
    }
   ],
   "source": [
    "%%time\n",
    "\n",
    "# load index from disk\n",
    "vector_store = FaissVectorStore.from_persist_dir(\"./storage\")\n",
    "storage_context = StorageContext.from_defaults(\n",
    "    vector_store=vector_store, persist_dir=\"./storage\"\n",
    ")\n",
    "index = load_index_from_storage(storage_context=storage_context)"
   ]
  },
  {
   "cell_type": "code",
   "execution_count": 10,
   "id": "5806f5b1-61c9-47ef-8574-1a2dd1de7624",
   "metadata": {},
   "outputs": [
    {
     "name": "stdout",
     "output_type": "stream",
     "text": [
      "CPU times: user 1.16 s, sys: 150 ms, total: 1.31 s\n",
      "Wall time: 1.35 s\n"
     ]
    }
   ],
   "source": [
    "%%time\n",
    "\n",
    "from llama_index.llms.openai_like import OpenAILike\n",
    "\n",
    "llm = OpenAILike(model=\"xiaoyu\", \n",
    "                 api_base=\"http://192.168.0.72:3000/v1\", \n",
    "                 api_key=\"sk-bJP6QSnUfjAYeYeE505d3eBf63A643BeB0B8E350Df9b7750\",\n",
    "                 is_chat_model=True\n",
    "                )\n",
    "Settings.llm =llm"
   ]
  },
  {
   "cell_type": "code",
   "execution_count": 11,
   "id": "e2503ba2-88c4-41a2-b3ef-04f384cb0f5e",
   "metadata": {},
   "outputs": [
    {
     "name": "stdout",
     "output_type": "stream",
     "text": [
      "INFO:httpx:HTTP Request: POST http://192.168.0.72:3000/v1/chat/completions \"HTTP/1.1 200 OK\"\n",
      "HTTP Request: POST http://192.168.0.72:3000/v1/chat/completions \"HTTP/1.1 200 OK\"\n",
      "嫦娥六号探测器在月球背面南极-艾特肯盆地预选着陆和采样。\n",
      "CPU times: user 128 ms, sys: 7.86 ms, total: 136 ms\n",
      "Wall time: 5.3 s\n"
     ]
    }
   ],
   "source": [
    "%%time\n",
    "\n",
    "# set Logging to DEBUG for more detailed outputs\n",
    "logging.basicConfig(stream=sys.stdout, level=logging.DEBUG)\n",
    "\n",
    "query_engine = index.as_query_engine(\n",
    "    streaming=True,\n",
    "    similarity_top_k=10,\n",
    "    similarity_cutoff=0.5\n",
    ")\n",
    "\n",
    "streaming_response = query_engine.query(\"嫦娥六号探测器在哪里着陆\")\n",
    "streaming_response.print_response_stream()\n",
    "print()"
   ]
  },
  {
   "cell_type": "code",
   "execution_count": 12,
   "id": "334563ec-b36e-4d1d-9bc0-ba2cea6cf0c1",
   "metadata": {},
   "outputs": [
    {
     "data": {
      "text/plain": [
       "StreamingResponse(response_gen=<generator object stream_chat_response_to_tokens.<locals>.gen at 0x7f025f4a1b60>, source_nodes=[NodeWithScore(node=TextNode(id_='11a65fd7-56a4-496c-9b4a-23221143699a', embedding=None, metadata={'file_path': '/root/notebook/my-jupyter-notebook/llm/faiss/news/n1.txt', 'file_name': 'n1.txt', 'file_type': 'text/plain', 'file_size': 7003, 'creation_date': '2024-05-07', 'last_modified_date': '2024-05-07'}, excluded_embed_metadata_keys=['file_name', 'file_type', 'file_size', 'creation_date', 'last_modified_date', 'last_accessed_date'], excluded_llm_metadata_keys=['file_name', 'file_type', 'file_size', 'creation_date', 'last_modified_date', 'last_accessed_date'], relationships={<NodeRelationship.SOURCE: '1'>: RelatedNodeInfo(node_id='aa05b489-d81c-4a34-b022-7c35eddffdbd', node_type=<ObjectType.DOCUMENT: '4'>, metadata={'file_path': '/root/notebook/my-jupyter-notebook/llm/faiss/news/n1.txt', 'file_name': 'n1.txt', 'file_type': 'text/plain', 'file_size': 7003, 'creation_date': '2024-05-07', 'last_modified_date': '2024-05-07'}, hash='a25ff753647dc5c06b730be6d09c5d4214298da22c06a8fd9ae9eb63c5404312'), <NodeRelationship.NEXT: '3'>: RelatedNodeInfo(node_id='e9d7cdd9-6c82-4ad9-bce2-54e4806f0f86', node_type=<ObjectType.TEXT: '1'>, metadata={}, hash='ea78babba7dd9e6476bb326f4744489f7b92baec9fbb88706be6782608152665')}, text='据央视新闻客户端消息，记者从国家航天局获悉，5月3日17时27分，嫦娥六号探测器由长征五号遥八运载火箭在中国文昌航天发射场成功发射，之后准确进入地月转移轨道，发射任', start_char_idx=0, end_char_idx=82, text_template='{metadata_str}\\n\\n{content}', metadata_template='{key}: {value}', metadata_seperator='\\n'), score=680.32373046875), NodeWithScore(node=TextNode(id_='7de62316-373b-43b0-bdff-7fe9bceb4428', embedding=None, metadata={'file_path': '/root/notebook/my-jupyter-notebook/llm/faiss/news/n1.txt', 'file_name': 'n1.txt', 'file_type': 'text/plain', 'file_size': 7003, 'creation_date': '2024-05-07', 'last_modified_date': '2024-05-07'}, excluded_embed_metadata_keys=['file_name', 'file_type', 'file_size', 'creation_date', 'last_modified_date', 'last_accessed_date'], excluded_llm_metadata_keys=['file_name', 'file_type', 'file_size', 'creation_date', 'last_modified_date', 'last_accessed_date'], relationships={<NodeRelationship.SOURCE: '1'>: RelatedNodeInfo(node_id='aa05b489-d81c-4a34-b022-7c35eddffdbd', node_type=<ObjectType.DOCUMENT: '4'>, metadata={'file_path': '/root/notebook/my-jupyter-notebook/llm/faiss/news/n1.txt', 'file_name': 'n1.txt', 'file_type': 'text/plain', 'file_size': 7003, 'creation_date': '2024-05-07', 'last_modified_date': '2024-05-07'}, hash='a25ff753647dc5c06b730be6d09c5d4214298da22c06a8fd9ae9eb63c5404312'), <NodeRelationship.PREVIOUS: '2'>: RelatedNodeInfo(node_id='cc44efbd-76b2-4afd-ae5f-6e0fad6b9b7b', node_type=<ObjectType.TEXT: '1'>, metadata={'file_path': '/root/notebook/my-jupyter-notebook/llm/faiss/news/n1.txt', 'file_name': 'n1.txt', 'file_type': 'text/plain', 'file_size': 7003, 'creation_date': '2024-05-07', 'last_modified_date': '2024-05-07'}, hash='8827aa521dbd658981346cd3dedbfeeb544c859906372aee9631034121f459c8'), <NodeRelationship.NEXT: '3'>: RelatedNodeInfo(node_id='12e485c9-7437-43b5-a157-23b0ebb238c5', node_type=<ObjectType.TEXT: '1'>, metadata={}, hash='029364cc1ac8c7a877e026add70791c050fa323527df56917a9e0c8ebce2b8d1')}, text='胡震宇：\\n\\n嫦娥六号任务主要经历了11个飞行阶段，分别是：\\n\\n发射入轨段、地月转移段、近月制动段、环月飞行段、着陆下降段、月面工作段、月面上升段、交会对接与样品转移段、环月等待段', start_char_idx=1778, end_char_idx=1867, text_template='{metadata_str}\\n\\n{content}', metadata_template='{key}: {value}', metadata_seperator='\\n'), score=686.6589965820312), NodeWithScore(node=TextNode(id_='502bbf72-f28f-43ac-8c10-8d11fda036d0', embedding=None, metadata={'file_path': '/root/notebook/my-jupyter-notebook/llm/faiss/news/n1.txt', 'file_name': 'n1.txt', 'file_type': 'text/plain', 'file_size': 7003, 'creation_date': '2024-05-07', 'last_modified_date': '2024-05-07'}, excluded_embed_metadata_keys=['file_name', 'file_type', 'file_size', 'creation_date', 'last_modified_date', 'last_accessed_date'], excluded_llm_metadata_keys=['file_name', 'file_type', 'file_size', 'creation_date', 'last_modified_date', 'last_accessed_date'], relationships={<NodeRelationship.SOURCE: '1'>: RelatedNodeInfo(node_id='aa05b489-d81c-4a34-b022-7c35eddffdbd', node_type=<ObjectType.DOCUMENT: '4'>, metadata={'file_path': '/root/notebook/my-jupyter-notebook/llm/faiss/news/n1.txt', 'file_name': 'n1.txt', 'file_type': 'text/plain', 'file_size': 7003, 'creation_date': '2024-05-07', 'last_modified_date': '2024-05-07'}, hash='a25ff753647dc5c06b730be6d09c5d4214298da22c06a8fd9ae9eb63c5404312'), <NodeRelationship.PREVIOUS: '2'>: RelatedNodeInfo(node_id='093e3324-a575-4760-b767-36f6bc17688f', node_type=<ObjectType.TEXT: '1'>, metadata={'file_path': '/root/notebook/my-jupyter-notebook/llm/faiss/news/n1.txt', 'file_name': 'n1.txt', 'file_type': 'text/plain', 'file_size': 7003, 'creation_date': '2024-05-07', 'last_modified_date': '2024-05-07'}, hash='9cae54417b00bcd71162c840d4cd7c85b6daa8e17991df491be535f4eab74e1e'), <NodeRelationship.NEXT: '3'>: RelatedNodeInfo(node_id='ae6b7164-d4a8-4906-bfa3-8891c87dfb98', node_type=<ObjectType.TEXT: '1'>, metadata={}, hash='07f1efdda72b39710888b6e3e69f5eea0451add2404801def92ba94bb36108d4')}, text='此次嫦娥六号任务中，工程总体由国家航天局探月与航天工程中心承担；探测器、运载火箭分别由中国航天科技集团有限公司空间技术研究院、运载火箭技术研究院抓总研制；发', start_char_idx=1286, end_char_idx=1364, text_template='{metadata_str}\\n\\n{content}', metadata_template='{key}: {value}', metadata_seperator='\\n'), score=688.4706420898438), NodeWithScore(node=TextNode(id_='458df15b-8a9f-47b0-9c25-9ce1d3905893', embedding=None, metadata={'file_path': '/root/notebook/my-jupyter-notebook/llm/faiss/news/n1.txt', 'file_name': 'n1.txt', 'file_type': 'text/plain', 'file_size': 7003, 'creation_date': '2024-05-07', 'last_modified_date': '2024-05-07'}, excluded_embed_metadata_keys=['file_name', 'file_type', 'file_size', 'creation_date', 'last_modified_date', 'last_accessed_date'], excluded_llm_metadata_keys=['file_name', 'file_type', 'file_size', 'creation_date', 'last_modified_date', 'last_accessed_date'], relationships={<NodeRelationship.SOURCE: '1'>: RelatedNodeInfo(node_id='aa05b489-d81c-4a34-b022-7c35eddffdbd', node_type=<ObjectType.DOCUMENT: '4'>, metadata={'file_path': '/root/notebook/my-jupyter-notebook/llm/faiss/news/n1.txt', 'file_name': 'n1.txt', 'file_type': 'text/plain', 'file_size': 7003, 'creation_date': '2024-05-07', 'last_modified_date': '2024-05-07'}, hash='a25ff753647dc5c06b730be6d09c5d4214298da22c06a8fd9ae9eb63c5404312'), <NodeRelationship.PREVIOUS: '2'>: RelatedNodeInfo(node_id='23f77219-d7fe-4bed-89dc-8f40418d9757', node_type=<ObjectType.TEXT: '1'>, metadata={'file_path': '/root/notebook/my-jupyter-notebook/llm/faiss/news/n1.txt', 'file_name': 'n1.txt', 'file_type': 'text/plain', 'file_size': 7003, 'creation_date': '2024-05-07', 'last_modified_date': '2024-05-07'}, hash='792428b423200b171042629fb73acc259fc600a3d4fa0f995970f3a14fbe14c7'), <NodeRelationship.NEXT: '3'>: RelatedNodeInfo(node_id='0f0b7eeb-29a1-4d69-aaaa-dc16d0fb6026', node_type=<ObjectType.TEXT: '1'>, metadata={}, hash='faaf5ba67f6b06c0382837df8337208723c23e9989f64777bb572beccd1b4228')}, text='据介绍，嫦娥六号任务发射至采样返回全过程约53天，任务周期长，工程创新多，风险高，难度大，每个阶段环环相扣。相比2020年实现月球正面采样返回的嫦娥五号任务，嫦娥六号任务', start_char_idx=411, end_char_idx=496, text_template='{metadata_str}\\n\\n{content}', metadata_template='{key}: {value}', metadata_seperator='\\n'), score=690.9134521484375), NodeWithScore(node=TextNode(id_='093e3324-a575-4760-b767-36f6bc17688f', embedding=None, metadata={'file_path': '/root/notebook/my-jupyter-notebook/llm/faiss/news/n1.txt', 'file_name': 'n1.txt', 'file_type': 'text/plain', 'file_size': 7003, 'creation_date': '2024-05-07', 'last_modified_date': '2024-05-07'}, excluded_embed_metadata_keys=['file_name', 'file_type', 'file_size', 'creation_date', 'last_modified_date', 'last_accessed_date'], excluded_llm_metadata_keys=['file_name', 'file_type', 'file_size', 'creation_date', 'last_modified_date', 'last_accessed_date'], relationships={<NodeRelationship.SOURCE: '1'>: RelatedNodeInfo(node_id='aa05b489-d81c-4a34-b022-7c35eddffdbd', node_type=<ObjectType.DOCUMENT: '4'>, metadata={'file_path': '/root/notebook/my-jupyter-notebook/llm/faiss/news/n1.txt', 'file_name': 'n1.txt', 'file_type': 'text/plain', 'file_size': 7003, 'creation_date': '2024-05-07', 'last_modified_date': '2024-05-07'}, hash='a25ff753647dc5c06b730be6d09c5d4214298da22c06a8fd9ae9eb63c5404312'), <NodeRelationship.PREVIOUS: '2'>: RelatedNodeInfo(node_id='94fbb2f7-d7de-4c07-9cbb-a584f836a30a', node_type=<ObjectType.TEXT: '1'>, metadata={'file_path': '/root/notebook/my-jupyter-notebook/llm/faiss/news/n1.txt', 'file_name': 'n1.txt', 'file_type': 'text/plain', 'file_size': 7003, 'creation_date': '2024-05-07', 'last_modified_date': '2024-05-07'}, hash='6c08466e6270000d6ee823313398cbcbda57f24f0c76b5ef2697c05a2241bf09'), <NodeRelationship.NEXT: '3'>: RelatedNodeInfo(node_id='502bbf72-f28f-43ac-8c10-8d11fda036d0', node_type=<ObjectType.TEXT: '1'>, metadata={}, hash='ddfb829f94d129f6011df94ed4129ca83517110700b1d8a8613a3e11722c8106')}, text='同时，研制团队持续优化发射场流程，由发射嫦娥五号时的近60天缩减到43天。这是长征系列运载火箭第519次发射。\\n\\n探月工程由国家航天局牵头组织实施。此次嫦娥六号任务中，工程总', start_char_idx=1212, end_char_idx=1299, text_template='{metadata_str}\\n\\n{content}', metadata_template='{key}: {value}', metadata_seperator='\\n'), score=691.722900390625), NodeWithScore(node=TextNode(id_='3a0480aa-9de0-4bb8-b9c1-36876c54a213', embedding=None, metadata={'file_path': '/root/notebook/my-jupyter-notebook/llm/faiss/news/n1.txt', 'file_name': 'n1.txt', 'file_type': 'text/plain', 'file_size': 7003, 'creation_date': '2024-05-07', 'last_modified_date': '2024-05-07'}, excluded_embed_metadata_keys=['file_name', 'file_type', 'file_size', 'creation_date', 'last_modified_date', 'last_accessed_date'], excluded_llm_metadata_keys=['file_name', 'file_type', 'file_size', 'creation_date', 'last_modified_date', 'last_accessed_date'], relationships={<NodeRelationship.SOURCE: '1'>: RelatedNodeInfo(node_id='aa05b489-d81c-4a34-b022-7c35eddffdbd', node_type=<ObjectType.DOCUMENT: '4'>, metadata={'file_path': '/root/notebook/my-jupyter-notebook/llm/faiss/news/n1.txt', 'file_name': 'n1.txt', 'file_type': 'text/plain', 'file_size': 7003, 'creation_date': '2024-05-07', 'last_modified_date': '2024-05-07'}, hash='a25ff753647dc5c06b730be6d09c5d4214298da22c06a8fd9ae9eb63c5404312'), <NodeRelationship.PREVIOUS: '2'>: RelatedNodeInfo(node_id='0f0b7eeb-29a1-4d69-aaaa-dc16d0fb6026', node_type=<ObjectType.TEXT: '1'>, metadata={'file_path': '/root/notebook/my-jupyter-notebook/llm/faiss/news/n1.txt', 'file_name': 'n1.txt', 'file_type': 'text/plain', 'file_size': 7003, 'creation_date': '2024-05-07', 'last_modified_date': '2024-05-07'}, hash='036440ebe62ad35bd9b29f498cc0c0a85134e110c515be0d49d1c26a63fbc6a7'), <NodeRelationship.NEXT: '3'>: RelatedNodeInfo(node_id='8011a67a-d4bf-4f2a-a050-edb61b9fc0af', node_type=<ObjectType.TEXT: '1'>, metadata={}, hash='ed8c1d23f2df14326b372c03e9af7362c290c997824ae8f138f9d5859d6a3a9c')}, text='采样、月背起飞上升等关键技术。同时，嫦娥六号任务将开展月球背面着陆区的现场调查分析，月球样品实验室分析研究等科学探测，深化月球成因和演化历史的研究。', start_char_idx=543, end_char_idx=617, text_template='{metadata_str}\\n\\n{content}', metadata_template='{key}: {value}', metadata_seperator='\\n'), score=691.7476196289062), NodeWithScore(node=TextNode(id_='d0e35c83-408b-4712-9414-370abfd7bb9c', embedding=None, metadata={'file_path': '/root/notebook/my-jupyter-notebook/llm/faiss/news/n1.txt', 'file_name': 'n1.txt', 'file_type': 'text/plain', 'file_size': 7003, 'creation_date': '2024-05-07', 'last_modified_date': '2024-05-07'}, excluded_embed_metadata_keys=['file_name', 'file_type', 'file_size', 'creation_date', 'last_modified_date', 'last_accessed_date'], excluded_llm_metadata_keys=['file_name', 'file_type', 'file_size', 'creation_date', 'last_modified_date', 'last_accessed_date'], relationships={<NodeRelationship.SOURCE: '1'>: RelatedNodeInfo(node_id='aa05b489-d81c-4a34-b022-7c35eddffdbd', node_type=<ObjectType.DOCUMENT: '4'>, metadata={'file_path': '/root/notebook/my-jupyter-notebook/llm/faiss/news/n1.txt', 'file_name': 'n1.txt', 'file_type': 'text/plain', 'file_size': 7003, 'creation_date': '2024-05-07', 'last_modified_date': '2024-05-07'}, hash='a25ff753647dc5c06b730be6d09c5d4214298da22c06a8fd9ae9eb63c5404312'), <NodeRelationship.PREVIOUS: '2'>: RelatedNodeInfo(node_id='28c8c4f8-ca31-4b35-8cde-d9701adc5464', node_type=<ObjectType.TEXT: '1'>, metadata={'file_path': '/root/notebook/my-jupyter-notebook/llm/faiss/news/n1.txt', 'file_name': 'n1.txt', 'file_type': 'text/plain', 'file_size': 7003, 'creation_date': '2024-05-07', 'last_modified_date': '2024-05-07'}, hash='1bc76743fcdc402a3b89cf3d58fcac1845884852fddae67857f5444701a14eb3'), <NodeRelationship.NEXT: '3'>: RelatedNodeInfo(node_id='12f6b5c8-5924-4935-8f2b-61b47ab014f6', node_type=<ObjectType.TEXT: '1'>, metadata={}, hash='2f71a669517b7de4d6d951ee805301476a4e241ffd77687343e433faaa393d75')}, text='采样完成后就将开展月面上升、环月轨道交会对接等工作。这期间，嫦娥六号还将在环月轨道开展多项科学探测。', start_char_idx=2133, end_char_idx=2183, text_template='{metadata_str}\\n\\n{content}', metadata_template='{key}: {value}', metadata_seperator='\\n'), score=692.48779296875), NodeWithScore(node=TextNode(id_='12e485c9-7437-43b5-a157-23b0ebb238c5', embedding=None, metadata={'file_path': '/root/notebook/my-jupyter-notebook/llm/faiss/news/n1.txt', 'file_name': 'n1.txt', 'file_type': 'text/plain', 'file_size': 7003, 'creation_date': '2024-05-07', 'last_modified_date': '2024-05-07'}, excluded_embed_metadata_keys=['file_name', 'file_type', 'file_size', 'creation_date', 'last_modified_date', 'last_accessed_date'], excluded_llm_metadata_keys=['file_name', 'file_type', 'file_size', 'creation_date', 'last_modified_date', 'last_accessed_date'], relationships={<NodeRelationship.SOURCE: '1'>: RelatedNodeInfo(node_id='aa05b489-d81c-4a34-b022-7c35eddffdbd', node_type=<ObjectType.DOCUMENT: '4'>, metadata={'file_path': '/root/notebook/my-jupyter-notebook/llm/faiss/news/n1.txt', 'file_name': 'n1.txt', 'file_type': 'text/plain', 'file_size': 7003, 'creation_date': '2024-05-07', 'last_modified_date': '2024-05-07'}, hash='a25ff753647dc5c06b730be6d09c5d4214298da22c06a8fd9ae9eb63c5404312'), <NodeRelationship.PREVIOUS: '2'>: RelatedNodeInfo(node_id='7de62316-373b-43b0-bdff-7fe9bceb4428', node_type=<ObjectType.TEXT: '1'>, metadata={'file_path': '/root/notebook/my-jupyter-notebook/llm/faiss/news/n1.txt', 'file_name': 'n1.txt', 'file_type': 'text/plain', 'file_size': 7003, 'creation_date': '2024-05-07', 'last_modified_date': '2024-05-07'}, hash='f2001fb5a09ab404ed6c001bdce701bd0125489362eb164642973772105ed137'), <NodeRelationship.NEXT: '3'>: RelatedNodeInfo(node_id='89bc2e9d-b14b-4d96-acef-a8d7d5090f6f', node_type=<ObjectType.TEXT: '1'>, metadata={}, hash='ed7bfae9f0740056d42be239d1a9abc9a976d0059081b5f0ebd26b86533ecd5b')}, text='升段、交会对接与样品转移段、环月等待段、月地转移段以及再入回收段。\\n\\n其间，还涉及探测器的四个组成部分：上升器、着陆器、返回器和轨道器的多次分离组合。\\n\\n嫦娥六号可以说是环环相扣、步步关键。', start_char_idx=1848, end_char_idx=1943, text_template='{metadata_str}\\n\\n{content}', metadata_template='{key}: {value}', metadata_seperator='\\n'), score=692.9952392578125), NodeWithScore(node=TextNode(id_='8011a67a-d4bf-4f2a-a050-edb61b9fc0af', embedding=None, metadata={'file_path': '/root/notebook/my-jupyter-notebook/llm/faiss/news/n1.txt', 'file_name': 'n1.txt', 'file_type': 'text/plain', 'file_size': 7003, 'creation_date': '2024-05-07', 'last_modified_date': '2024-05-07'}, excluded_embed_metadata_keys=['file_name', 'file_type', 'file_size', 'creation_date', 'last_modified_date', 'last_accessed_date'], excluded_llm_metadata_keys=['file_name', 'file_type', 'file_size', 'creation_date', 'last_modified_date', 'last_accessed_date'], relationships={<NodeRelationship.SOURCE: '1'>: RelatedNodeInfo(node_id='aa05b489-d81c-4a34-b022-7c35eddffdbd', node_type=<ObjectType.DOCUMENT: '4'>, metadata={'file_path': '/root/notebook/my-jupyter-notebook/llm/faiss/news/n1.txt', 'file_name': 'n1.txt', 'file_type': 'text/plain', 'file_size': 7003, 'creation_date': '2024-05-07', 'last_modified_date': '2024-05-07'}, hash='a25ff753647dc5c06b730be6d09c5d4214298da22c06a8fd9ae9eb63c5404312'), <NodeRelationship.PREVIOUS: '2'>: RelatedNodeInfo(node_id='3a0480aa-9de0-4bb8-b9c1-36876c54a213', node_type=<ObjectType.TEXT: '1'>, metadata={'file_path': '/root/notebook/my-jupyter-notebook/llm/faiss/news/n1.txt', 'file_name': 'n1.txt', 'file_type': 'text/plain', 'file_size': 7003, 'creation_date': '2024-05-07', 'last_modified_date': '2024-05-07'}, hash='7d3b2adcce73df4e5b6b62824282fdfd1b8c37cc739c3eb10f96d5943b1e4d40'), <NodeRelationship.NEXT: '3'>: RelatedNodeInfo(node_id='78102407-5c63-4628-912f-444098401f76', node_type=<ObjectType.TEXT: '1'>, metadata={}, hash='040e7aeaeddf1a978e4deaa49a4264f09a7b68806497d056d2b4a59a49740c84')}, text='此外，嫦娥六号任务开展了务实国际合作。2019年4月，国家航天局对外发布了《嫦娥六号任务国际载荷合作机遇公告》，通过对两批次国际载荷搭载项目建议的征集、遴选，最终确定', start_char_idx=619, end_char_idx=702, text_template='{metadata_str}\\n\\n{content}', metadata_template='{key}: {value}', metadata_seperator='\\n'), score=694.5621337890625), NodeWithScore(node=TextNode(id_='e9d7cdd9-6c82-4ad9-bce2-54e4806f0f86', embedding=None, metadata={'file_path': '/root/notebook/my-jupyter-notebook/llm/faiss/news/n1.txt', 'file_name': 'n1.txt', 'file_type': 'text/plain', 'file_size': 7003, 'creation_date': '2024-05-07', 'last_modified_date': '2024-05-07'}, excluded_embed_metadata_keys=['file_name', 'file_type', 'file_size', 'creation_date', 'last_modified_date', 'last_accessed_date'], excluded_llm_metadata_keys=['file_name', 'file_type', 'file_size', 'creation_date', 'last_modified_date', 'last_accessed_date'], relationships={<NodeRelationship.SOURCE: '1'>: RelatedNodeInfo(node_id='aa05b489-d81c-4a34-b022-7c35eddffdbd', node_type=<ObjectType.DOCUMENT: '4'>, metadata={'file_path': '/root/notebook/my-jupyter-notebook/llm/faiss/news/n1.txt', 'file_name': 'n1.txt', 'file_type': 'text/plain', 'file_size': 7003, 'creation_date': '2024-05-07', 'last_modified_date': '2024-05-07'}, hash='a25ff753647dc5c06b730be6d09c5d4214298da22c06a8fd9ae9eb63c5404312'), <NodeRelationship.PREVIOUS: '2'>: RelatedNodeInfo(node_id='11a65fd7-56a4-496c-9b4a-23221143699a', node_type=<ObjectType.TEXT: '1'>, metadata={'file_path': '/root/notebook/my-jupyter-notebook/llm/faiss/news/n1.txt', 'file_name': 'n1.txt', 'file_type': 'text/plain', 'file_size': 7003, 'creation_date': '2024-05-07', 'last_modified_date': '2024-05-07'}, hash='c544304c39bbf8b646bee877f9c49fe793574796f63638f14672ec8d3f6bdfb2'), <NodeRelationship.NEXT: '3'>: RelatedNodeInfo(node_id='cf04ddea-bc98-4426-a38d-f1a90e91b24d', node_type=<ObjectType.TEXT: '1'>, metadata={}, hash='72e442ec5ff0b888ad483960127fcd36a30a0bc5c75cd4eb7b46244650bcb226')}, text='，之后准确进入地月转移轨道，发射任务取得圆满成功。嫦娥六号探测器开启世界首次月球背面采样返回之旅，预选着陆和采样区为月球背面南极-艾特肯盆地。', start_char_idx=65, end_char_idx=136, text_template='{metadata_str}\\n\\n{content}', metadata_template='{key}: {value}', metadata_seperator='\\n'), score=706.4464721679688)], metadata={'11a65fd7-56a4-496c-9b4a-23221143699a': {'file_path': '/root/notebook/my-jupyter-notebook/llm/faiss/news/n1.txt', 'file_name': 'n1.txt', 'file_type': 'text/plain', 'file_size': 7003, 'creation_date': '2024-05-07', 'last_modified_date': '2024-05-07'}, '7de62316-373b-43b0-bdff-7fe9bceb4428': {'file_path': '/root/notebook/my-jupyter-notebook/llm/faiss/news/n1.txt', 'file_name': 'n1.txt', 'file_type': 'text/plain', 'file_size': 7003, 'creation_date': '2024-05-07', 'last_modified_date': '2024-05-07'}, '502bbf72-f28f-43ac-8c10-8d11fda036d0': {'file_path': '/root/notebook/my-jupyter-notebook/llm/faiss/news/n1.txt', 'file_name': 'n1.txt', 'file_type': 'text/plain', 'file_size': 7003, 'creation_date': '2024-05-07', 'last_modified_date': '2024-05-07'}, '458df15b-8a9f-47b0-9c25-9ce1d3905893': {'file_path': '/root/notebook/my-jupyter-notebook/llm/faiss/news/n1.txt', 'file_name': 'n1.txt', 'file_type': 'text/plain', 'file_size': 7003, 'creation_date': '2024-05-07', 'last_modified_date': '2024-05-07'}, '093e3324-a575-4760-b767-36f6bc17688f': {'file_path': '/root/notebook/my-jupyter-notebook/llm/faiss/news/n1.txt', 'file_name': 'n1.txt', 'file_type': 'text/plain', 'file_size': 7003, 'creation_date': '2024-05-07', 'last_modified_date': '2024-05-07'}, '3a0480aa-9de0-4bb8-b9c1-36876c54a213': {'file_path': '/root/notebook/my-jupyter-notebook/llm/faiss/news/n1.txt', 'file_name': 'n1.txt', 'file_type': 'text/plain', 'file_size': 7003, 'creation_date': '2024-05-07', 'last_modified_date': '2024-05-07'}, 'd0e35c83-408b-4712-9414-370abfd7bb9c': {'file_path': '/root/notebook/my-jupyter-notebook/llm/faiss/news/n1.txt', 'file_name': 'n1.txt', 'file_type': 'text/plain', 'file_size': 7003, 'creation_date': '2024-05-07', 'last_modified_date': '2024-05-07'}, '12e485c9-7437-43b5-a157-23b0ebb238c5': {'file_path': '/root/notebook/my-jupyter-notebook/llm/faiss/news/n1.txt', 'file_name': 'n1.txt', 'file_type': 'text/plain', 'file_size': 7003, 'creation_date': '2024-05-07', 'last_modified_date': '2024-05-07'}, '8011a67a-d4bf-4f2a-a050-edb61b9fc0af': {'file_path': '/root/notebook/my-jupyter-notebook/llm/faiss/news/n1.txt', 'file_name': 'n1.txt', 'file_type': 'text/plain', 'file_size': 7003, 'creation_date': '2024-05-07', 'last_modified_date': '2024-05-07'}, 'e9d7cdd9-6c82-4ad9-bce2-54e4806f0f86': {'file_path': '/root/notebook/my-jupyter-notebook/llm/faiss/news/n1.txt', 'file_name': 'n1.txt', 'file_type': 'text/plain', 'file_size': 7003, 'creation_date': '2024-05-07', 'last_modified_date': '2024-05-07'}}, response_txt='嫦娥六号探测器在月球背面南极-艾特肯盆地预选着陆和采样。')"
      ]
     },
     "execution_count": 12,
     "metadata": {},
     "output_type": "execute_result"
    }
   ],
   "source": [
    "streaming_response"
   ]
  },
  {
   "cell_type": "code",
   "execution_count": null,
   "id": "45a06ba8-f4eb-4e27-9f3f-f6d7a9a3617f",
   "metadata": {},
   "outputs": [],
   "source": []
  }
 ],
 "metadata": {
  "kernelspec": {
   "display_name": "Python 3 (ipykernel)",
   "language": "python",
   "name": "python3"
  },
  "language_info": {
   "codemirror_mode": {
    "name": "ipython",
    "version": 3
   },
   "file_extension": ".py",
   "mimetype": "text/x-python",
   "name": "python",
   "nbconvert_exporter": "python",
   "pygments_lexer": "ipython3",
   "version": "3.10.12"
  }
 },
 "nbformat": 4,
 "nbformat_minor": 5
}
