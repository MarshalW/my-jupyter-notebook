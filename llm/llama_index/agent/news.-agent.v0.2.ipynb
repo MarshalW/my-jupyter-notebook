{
 "cells": [
  {
   "cell_type": "markdown",
   "id": "9aa83bd8-af4e-46ef-952e-2567374886b2",
   "metadata": {},
   "source": [
    "# 用于新闻问单的 agent v0.2"
   ]
  },
  {
   "cell_type": "markdown",
   "id": "cb16b547-9fe1-4751-866b-dc6e0d793e94",
   "metadata": {},
   "source": [
    "## 通用设置"
   ]
  },
  {
   "cell_type": "code",
   "execution_count": 8,
   "id": "1903cd1f-235d-4d5e-87da-016619ec794a",
   "metadata": {},
   "outputs": [
    {
     "name": "stdout",
     "output_type": "stream",
     "text": [
      "CPU times: user 2 µs, sys: 0 ns, total: 2 µs\n",
      "Wall time: 3.58 µs\n"
     ]
    }
   ],
   "source": [
    "%%time\n",
    "\n",
    "INDEX_PATH=\"news-index\""
   ]
  },
  {
   "cell_type": "markdown",
   "id": "53a3ce7a-b117-416b-ab88-89e5f2a57117",
   "metadata": {},
   "source": [
    "## 初始化准备"
   ]
  },
  {
   "cell_type": "code",
   "execution_count": 10,
   "id": "115daf41-a662-4a7e-83a7-0aab9a32f9a5",
   "metadata": {},
   "outputs": [
    {
     "name": "stdout",
     "output_type": "stream",
     "text": [
      "CPU times: user 5.18 ms, sys: 7.66 ms, total: 12.8 ms\n",
      "Wall time: 122 ms\n"
     ]
    }
   ],
   "source": [
    "%%time\n",
    "!rm -rf news-index"
   ]
  },
  {
   "cell_type": "markdown",
   "id": "9a2dd5ca-ca89-4cfc-975f-88a6020eece0",
   "metadata": {},
   "source": [
    "## 加载模型和嵌入"
   ]
  },
  {
   "cell_type": "code",
   "execution_count": 1,
   "id": "8942746d-9e63-4543-9f91-0d7b5465db11",
   "metadata": {},
   "outputs": [
    {
     "name": "stdout",
     "output_type": "stream",
     "text": [
      "CPU times: user 3.38 s, sys: 411 ms, total: 3.79 s\n",
      "Wall time: 3.41 s\n"
     ]
    }
   ],
   "source": [
    "%%time\n",
    "\n",
    "# 加载llm和embeddings\n",
    "%run ../utils2.py\n",
    "\n",
    "from llama_index.core import Settings\n",
    "\n",
    "# Settings.llm=get_llm(\"gpt-3.5-turbo\")\n",
    "Settings.llm=get_llm()\n",
    "Settings.embed_model=get_embedding()"
   ]
  },
  {
   "cell_type": "markdown",
   "id": "e780f612-bd8a-4f90-a44d-4c3013598116",
   "metadata": {},
   "source": [
    "## 通用函数"
   ]
  },
  {
   "cell_type": "markdown",
   "id": "b2488658-fd8e-4935-986f-a022e9e33441",
   "metadata": {},
   "source": [
    "### get_news_data"
   ]
  },
  {
   "cell_type": "code",
   "execution_count": 2,
   "id": "22012d69-0194-43ec-9070-caa92d29378b",
   "metadata": {},
   "outputs": [
    {
     "name": "stdout",
     "output_type": "stream",
     "text": [
      "CPU times: user 11.8 ms, sys: 0 ns, total: 11.8 ms\n",
      "Wall time: 11.5 ms\n"
     ]
    }
   ],
   "source": [
    "%%time\n",
    "\n",
    "import requests\n",
    "from gne import GeneralNewsExtractor\n",
    "\n",
    "def get_news_data(url):\n",
    "    response = requests.get(url)\n",
    "    html = response.text\n",
    "\n",
    "    extractor = GeneralNewsExtractor()\n",
    "    data = extractor.extract(html, noise_node_list=[\n",
    "                               '//div[@class=\"comment-list\"]'])\n",
    "    data['url']=url\n",
    "    return data\n",
    "    "
   ]
  },
  {
   "cell_type": "markdown",
   "id": "ffca56bc-8184-497a-b6fb-5eecac11c26e",
   "metadata": {},
   "source": [
    "### load_index"
   ]
  },
  {
   "cell_type": "code",
   "execution_count": 3,
   "id": "711c8469-c9c7-4ef7-9812-dd5809aed167",
   "metadata": {},
   "outputs": [
    {
     "name": "stdout",
     "output_type": "stream",
     "text": [
      "CPU times: user 13 µs, sys: 2 µs, total: 15 µs\n",
      "Wall time: 16.5 µs\n"
     ]
    }
   ],
   "source": [
    "%%time\n",
    "\n",
    "import os\n",
    "from llama_index.core import(\n",
    "    StorageContext, \n",
    "    load_index_from_storage,\n",
    "    get_response_synthesizer,\n",
    "    DocumentSummaryIndex,\n",
    "    Document\n",
    ")\n",
    "from llama_index.core.node_parser import SentenceSplitter\n",
    "\n",
    "def load_index(folder_path):\n",
    "    # 考虑不存在的情况，创建空的索引\n",
    "    if not os.path.exists(folder_path):\n",
    "        splitter = SentenceSplitter(chunk_size=1024)\n",
    "        response_synthesizer = get_response_synthesizer(\n",
    "            response_mode=\"tree_summarize\", use_async=True,\n",
    "        )\n",
    "        \n",
    "        doc_summary_index = DocumentSummaryIndex.from_documents(\n",
    "            [],\n",
    "            transformations=[splitter],\n",
    "            response_synthesizer=response_synthesizer,\n",
    "            show_progress=True,\n",
    "        )\n",
    "        \n",
    "        doc_summary_index.storage_context.persist(folder_path)\n",
    "        \n",
    "    storage_context = StorageContext.from_defaults(persist_dir=folder_path)\n",
    "    return load_index_from_storage(storage_context)\n",
    "    "
   ]
  },
  {
   "cell_type": "markdown",
   "id": "81d32259-d2e7-4066-8faa-45780afcdbc6",
   "metadata": {},
   "source": [
    "### data2doc"
   ]
  },
  {
   "cell_type": "code",
   "execution_count": 4,
   "id": "6eb40844-d9a7-44cb-804b-a2a8f6e3d832",
   "metadata": {},
   "outputs": [
    {
     "name": "stdout",
     "output_type": "stream",
     "text": [
      "CPU times: user 2 µs, sys: 0 ns, total: 2 µs\n",
      "Wall time: 3.34 µs\n"
     ]
    }
   ],
   "source": [
    "%%time\n",
    "\n",
    "def _data2doc(news_data):\n",
    "    document=Document(text=news_data['content'], \n",
    "                  metadata={\"title\": news_data['title'],\n",
    "                            'publish_time': news_data['publish_time'],\n",
    "                            'author': news_data['author'],\n",
    "                            'url': news_data['url'],\n",
    "                            'images': news_data['images'],\n",
    "                           })\n",
    "    document.doc_id = document.metadata[\"title\"]\n",
    "    return document"
   ]
  },
  {
   "cell_type": "markdown",
   "id": "e5be576a-2734-4284-b2c0-ae90760ee7fb",
   "metadata": {},
   "source": [
    "### get_news_summary_tool"
   ]
  },
  {
   "cell_type": "code",
   "execution_count": 5,
   "id": "53cb3642-ea8c-4c95-90af-e771adccfa3e",
   "metadata": {},
   "outputs": [
    {
     "name": "stdout",
     "output_type": "stream",
     "text": [
      "CPU times: user 371 µs, sys: 0 ns, total: 371 µs\n",
      "Wall time: 375 µs\n"
     ]
    }
   ],
   "source": [
    "%%time\n",
    "\n",
    "from llama_index.core.tools import FunctionTool\n",
    "\n",
    "def get_news_summary(url: str) -> str:\n",
    "    \"\"\"根据url获取新闻内容, 提示词中应提供url\"\"\"\n",
    "    \n",
    "    news_data=get_news_data(url)\n",
    "    document=_data2doc(news_data)\n",
    "    doc_summary_index=load_index(INDEX_PATH)\n",
    "\n",
    "    if document.doc_id not in doc_summary_index.ref_doc_info:\n",
    "        doc_summary_index.insert(document)\n",
    "        doc_summary_index.refresh([document])\n",
    "        doc_summary_index.storage_context.persist(INDEX_PATH)\n",
    "\n",
    "    summary=doc_summary_index.get_document_summary(document.doc_id)\n",
    "\n",
    "    prompt=f\"\"\"\n",
    "    请根据{summary}, 用中文做有条理的表述。\n",
    "    \"\"\"\n",
    "        \n",
    "    return prompt\n",
    "\n",
    "get_news_summary_tool = FunctionTool.from_defaults(\n",
    "            fn=get_news_summary)"
   ]
  },
  {
   "cell_type": "markdown",
   "id": "a2c089a8-2926-4ecf-89c3-8798f5c07300",
   "metadata": {},
   "source": [
    "### get_query_engine_tool"
   ]
  },
  {
   "cell_type": "code",
   "execution_count": 6,
   "id": "1b4af203-6ca8-43b6-a599-7bd49a284a46",
   "metadata": {},
   "outputs": [
    {
     "name": "stdout",
     "output_type": "stream",
     "text": [
      "CPU times: user 8 µs, sys: 1 µs, total: 9 µs\n",
      "Wall time: 10.7 µs\n"
     ]
    }
   ],
   "source": [
    "%%time\n",
    "\n",
    "from llama_index.core.tools import QueryEngineTool\n",
    "from llama_index.core.tools.types import ToolMetadata\n",
    "\n",
    "def get_query_engine():\n",
    "    \"\"\"根据提示词查询信息，提示词不应存在url\"\"\"\n",
    "\n",
    "    # content='查询到的信息: 1. xxx, 2. xxx ...'\n",
    "    # return f\"根据{query}查询到信息\\n\\n{content}\"\n",
    "    doc_summary_index=load_index(INDEX_PATH)\n",
    "\n",
    "    return doc_summary_index.as_query_engine(\n",
    "        response_mode=\"tree_summarize\", \n",
    "        streaming=True,\n",
    "        # similarity_top_k=5\n",
    "    )\n",
    "\n",
    "def get_query_engine_tool():\n",
    "    return QueryEngineTool.from_defaults(\n",
    "        query_engine=get_query_engine(),\n",
    "        name=\"query\",\n",
    "        description=\"根据提示词查询信息，提示词不应存在url。\",\n",
    "        # return_direct=True,\n",
    "    )\n"
   ]
  },
  {
   "cell_type": "markdown",
   "id": "12af805f-e33c-4533-bc6d-dfcccee0451c",
   "metadata": {},
   "source": [
    "## 使用"
   ]
  },
  {
   "cell_type": "markdown",
   "id": "ce60e529-17c5-482a-aff0-761561eaca1c",
   "metadata": {},
   "source": [
    "### 创建agent"
   ]
  },
  {
   "cell_type": "code",
   "execution_count": 9,
   "id": "75447dfa-21e4-4424-ae1f-e94823320dfc",
   "metadata": {},
   "outputs": [
    {
     "name": "stdout",
     "output_type": "stream",
     "text": [
      "CPU times: user 316 ms, sys: 20 ms, total: 336 ms\n",
      "Wall time: 335 ms\n"
     ]
    }
   ],
   "source": [
    "%%time\n",
    "\n",
    "from llama_index.core.agent import ReActAgent\n",
    "\n",
    "agent = ReActAgent.from_tools([\n",
    "    get_news_summary_tool,\n",
    "    get_query_engine_tool()], verbose=True)"
   ]
  },
  {
   "cell_type": "markdown",
   "id": "3cf77356-9c9c-4944-bbe0-22ff2a4d6cb4",
   "metadata": {},
   "source": [
    "### 发送新闻链接得到摘要信息"
   ]
  },
  {
   "cell_type": "code",
   "execution_count": 11,
   "id": "8c1537f4-6143-4642-9e01-6812ab0cbf9f",
   "metadata": {},
   "outputs": [
    {
     "name": "stdout",
     "output_type": "stream",
     "text": [
      "\u001b[1;3;38;5;200mThought: The user has provided a URL to a news article. I need to use the get_news_summary tool to extract the summary of this article.\n",
      "Action: get_news_summary\n",
      "Action Input: {'url': 'https://www.guancha.cn/internation/2024_06_19_738488.shtml'}\n",
      "\u001b[0m"
     ]
    },
    {
     "data": {
      "application/vnd.jupyter.widget-view+json": {
       "model_id": "5988bf10f77a4723afcabad45496d4e3",
       "version_major": 2,
       "version_minor": 0
      },
      "text/plain": [
       "Parsing nodes: 0it [00:00, ?it/s]"
      ]
     },
     "metadata": {},
     "output_type": "display_data"
    },
    {
     "data": {
      "application/vnd.jupyter.widget-view+json": {
       "model_id": "db713279647a42299894f5874d700037",
       "version_major": 2,
       "version_minor": 0
      },
      "text/plain": [
       "Summarizing documents: 0it [00:00, ?it/s]"
      ]
     },
     "metadata": {},
     "output_type": "display_data"
    },
    {
     "data": {
      "application/vnd.jupyter.widget-view+json": {
       "model_id": "a8ea17c299b048cc9132979e112ed1c7",
       "version_major": 2,
       "version_minor": 0
      },
      "text/plain": [
       "Generating embeddings: 0it [00:00, ?it/s]"
      ]
     },
     "metadata": {},
     "output_type": "display_data"
    },
    {
     "name": "stdout",
     "output_type": "stream",
     "text": [
      "current doc id: 波音CEO承认公司报复“吹哨人”\n",
      "\u001b[1;3;34mObservation: \n",
      "    请根据The provided texts are about a hearing held by the US Senate Permanent Subcommittee on Investigations concerning issues at Boeing Company, particularly focusing on its safety culture and management practices. The key points include:\n",
      "\n",
      "1. **Reputation Crisis**: The article highlights the ongoing reputation crisis faced by Boeing due to frequent accidents involving their aircraft and allegations of retaliation against whistleblowers who exposed manufacturing issues.\n",
      "\n",
      "2. **Executive Compensation**: There is discussion about CEO Dave Calhoun's compensation, which has increased from $22.6 million in 2022 to $32.8 million in 2023, leading to criticism from Republican Senator Josh Hawley regarding the disparity between high executive pay and company issues.\n",
      "\n",
      "3. **Whistleblower Retaliation**: The text mentions that Boeing has been accused of retaliating against whistleblowers who have come forward with information about manufacturing irregularities or safety concerns. This includes incidents where whistleblowers faced threats and were forced to remain silent due to fear of repercussions.\n",
      "\n",
      "4. **Safety Issues**: The article discusses the safety issues surrounding Boeing's aircraft, particularly the 737 MAX model which was involved in two fatal accidents within five months in 2018 and 2019, resulting in 346 deaths.\n",
      "\n",
      "5. **Legal Implications**: There are discussions about potential legal actions against Boeing by the US Justice Department due to allegations of violations of agreements made after the fatal accidents involving their aircraft.\n",
      "\n",
      "The text can answer questions such as:\n",
      "\n",
      "- What specific issues led to the hearing on Boeing?\n",
      "- How has Dave Calhoun's compensation changed, and what criticism did it receive?\n",
      "- What evidence supports the claims of whistleblower retaliation at Boeing?\n",
      "- How have safety concerns affected Boeing's operations and public perception?\n",
      "- What legal actions are being considered against Boeing by the US Justice Department?, 用中文做有条理的表述。\n",
      "    \n",
      "\u001b[0m 这篇文章讲述了美国参议院常设调查委员会举行的一次听证会，主题是关于波音公司面临的安全文化与管理实践问题。关键点包括：\n",
      "\n",
      "1. **声誉危机**：文章指出，由于波音公司的飞机频繁发生事故以及对揭露制造问题的举报人进行报复的指控，该公司正面临着持续的声誉危机。\n",
      "\n",
      "2. **高管薪酬**：讨论了CEO戴夫·卡尔霍恩的薪酬从2022年的2260万美元增加到2023年的3280万美元。共和党参议员乔希·豪利批评这种在公司问题与高管高薪之间的巨大差距。\n",
      "\n",
      "3. **举报人报复**：文章提到，波音被指控对揭露制造不合规或安全担忧的举报人进行报复。包括举报人在因担心受到报复而被迫保持沉默时面临威胁的情况。\n",
      "\n",
      "4. **安全问题**：文章讨论了波音飞机的安全问题，特别是737 MAX型号，在2018年和2019年的五个月内发生了两起致命事故，导致346人死亡。\n",
      "\n",
      "5. **法律后果**：文章提到了美国司法部可能对波音采取的法律行动，原因是对其在致命飞机事故后达成的协议的指控存在违规行为。CPU times: user 5.1 s, sys: 993 ms, total: 6.1 s\n",
      "Wall time: 20.9 s\n"
     ]
    }
   ],
   "source": [
    "%%time\n",
    "\n",
    "response = agent.stream_chat(\"https://www.guancha.cn/internation/2024_06_19_738488.shtml\",chat_history=[])\n",
    "response.print_response_stream()"
   ]
  },
  {
   "cell_type": "code",
   "execution_count": 43,
   "id": "0e7a414f-caed-4084-9a55-8659f1a64d09",
   "metadata": {},
   "outputs": [
    {
     "name": "stdout",
     "output_type": "stream",
     "text": [
      "CPU times: user 13.9 ms, sys: 0 ns, total: 13.9 ms\n",
      "Wall time: 13.5 ms\n"
     ]
    },
    {
     "data": {
      "text/plain": [
       "{'波音CEO承认公司报复“吹哨人”': RefDocInfo(node_ids=['f9772a5c-c610-4351-9a3c-7ef9fd4a998b', '8e67f7a8-9e9f-44e2-8f04-adaa5c35cda2', 'd62c4145-62f7-4e73-9255-6605155400c9', 'a997cdd6-3a05-4f8d-b947-ba1cb81cb56c', '68bae5b6-6e1e-432c-a4b6-150a97f2a5b5', 'f9772a5c-c610-4351-9a3c-7ef9fd4a998b', '8e67f7a8-9e9f-44e2-8f04-adaa5c35cda2', 'd62c4145-62f7-4e73-9255-6605155400c9', 'a997cdd6-3a05-4f8d-b947-ba1cb81cb56c', '68bae5b6-6e1e-432c-a4b6-150a97f2a5b5', '61d5ad1a-6266-4c3a-939b-2c7748c7f67b', 'f9772a5c-c610-4351-9a3c-7ef9fd4a998b', '8e67f7a8-9e9f-44e2-8f04-adaa5c35cda2', 'd62c4145-62f7-4e73-9255-6605155400c9', 'a997cdd6-3a05-4f8d-b947-ba1cb81cb56c', '68bae5b6-6e1e-432c-a4b6-150a97f2a5b5', '61d5ad1a-6266-4c3a-939b-2c7748c7f67b', '316df1d0-685d-40f0-8459-52eb04b393bd', 'db5f6d14-0913-4817-90be-0102eb2c12f3'], metadata={'title': '波音CEO承认公司报复“吹哨人”', 'publish_time': '2024-06-19 11:35:32', 'author': '王恺雯', 'url': 'https://www.guancha.cn/internation/2024_06_19_738488.shtml', 'images': ['https://i.guancha.cn/news/vcg/2024/06/19/20240619111750993.jpg', 'https://i.guancha.cn/news/external/2024/06/19/20240619111828613.png']})}"
      ]
     },
     "execution_count": 43,
     "metadata": {},
     "output_type": "execute_result"
    }
   ],
   "source": [
    "%%time\n",
    "\n",
    "doc_summary_index=load_index(INDEX_PATH)\n",
    "doc_summary_index.ref_doc_info"
   ]
  },
  {
   "cell_type": "markdown",
   "id": "4945e728-2b8e-4ccc-9368-47260b47d175",
   "metadata": {},
   "source": [
    "### 查询索引中新闻的信息"
   ]
  },
  {
   "cell_type": "code",
   "execution_count": 12,
   "id": "53858260-b09a-42df-9420-90a15db6d553",
   "metadata": {},
   "outputs": [
    {
     "name": "stdout",
     "output_type": "stream",
     "text": [
      "\u001b[1;3;38;5;200mThought: 我需要查询关于波音公司的安全问题的具体指控。\n",
      "Action: query\n",
      "Action Input: {'input': '波音公司安全问题指控'}\n",
      "\u001b[0m\u001b[1;3;34mObservation: 波音公司近期面临了多方面的安全问题指控和舆论压力。这些问题包括：\n",
      "\n",
      "1. **薪酬与管理层变动**：波音首席执行官戴夫·卡尔霍恩（Dave Calhoun）的高薪引起了关注，尤其是在公司安全声誉受损的情况下。卡尔霍恩在2023年的薪酬上涨至3280万美元，较前一年增长了45%。\n",
      "\n",
      "2. **“吹哨人”事件**：多名内部员工（即“吹哨人”）揭露了波音公司在制造环节存在的问题，并遭受了来自公司高层的威胁和报复。这些指控包括使用不符合规格的零件以及向监管机构隐瞒相关信息。一些“吹哨人”的死亡事件加剧了外界对波音公司的质疑。\n",
      "\n",
      "3. **安全文化**：波音被指责存在“破碎的安全文化”，这可能与一系列安全事故有关，尤其是2018年和2019年间两架737 MAX 8型飞机接连发生坠机事故，造成346人死亡。卡尔霍恩在听证会上承认了公司对“吹哨人”的报复行为，并表示已对涉事主管进行了处罚或解雇。\n",
      "\n",
      "4. **法律责任与诉讼**：遇难者家属和美国参议院常设调查小组委员会主席布卢门撒尔（Richard Blumenthal）呼吁追究波音公司的法律责任，要求其承担事故责任并接受透明度和问责制。美国司法部正在考虑对波音公司提起诉讼。\n",
      "\n",
      "这些指控和事件表明了波音公司在安全管理和企业文化方面存在严重问题，并引发了公众、监管机构以及法律部门的广泛关注。\n",
      "\u001b[0m 波音公司近期面临的安全问题主要包括：\n",
      "\n",
      "1. **薪酬与管理层变动**：波音首席执行官戴夫·卡尔霍恩在2023年的高薪（3280万美元）引起了公众的广泛关注，尤其是在公司安全声誉受损的情况下。他的薪酬较前一年增长了45%。\n",
      "\n",
      "2. **“吹哨人”事件**：多名内部员工揭露了波音公司在制造环节存在的问题，并遭受了来自公司高层的威胁和报复。这些指控包括使用不符合规格的零件以及向监管机构隐瞒相关信息。一些“吹哨人”的死亡事件加剧了外界对波音公司的质疑。\n",
      "\n",
      "3. **安全文化**：波音被指责存在“破碎的安全文化”，这可能与一系列安全事故有关，尤其是2018年和2019年间两架737 MAX 8型飞机接连发生坠机事故，造成346人死亡。卡尔霍恩在听证会上承认了公司对“吹哨人”的报复行为，并表示已对涉事主管进行了处罚或解雇。\n",
      "\n",
      "4. **法律责任与诉讼**：遇难者家属和美国参议院常设调查小组委员会主席布卢门撒尔呼吁追究波音公司的法律责任，要求其承担事故责任并接受透明度和问责制。美国司法部正在考虑对波音公司提起诉讼。\n",
      "\n",
      "这些指控和事件表明了波音公司在安全管理和企业文化方面存在严重问题，并引发了公众、监管机构以及法律部门的广泛关注。CPU times: user 5.96 s, sys: 1.21 s, total: 7.17 s\n",
      "Wall time: 18.4 s\n"
     ]
    }
   ],
   "source": [
    "%%time\n",
    "\n",
    "response = agent.stream_chat(\"针对波音公司安全问题，具体指控有哪些？\",chat_history=[])\n",
    "response.print_response_stream()\n",
    "# for token in response.response_gen:\n",
    "#     print(token, end=\"\")"
   ]
  },
  {
   "cell_type": "markdown",
   "id": "0ffae6dc-2d4a-4ae5-9182-82da4febaba0",
   "metadata": {},
   "source": [
    "### 查询索引中不存在话题"
   ]
  },
  {
   "cell_type": "code",
   "execution_count": 13,
   "id": "c3774499-5c10-40b7-9531-ba319a78fd81",
   "metadata": {},
   "outputs": [
    {
     "name": "stdout",
     "output_type": "stream",
     "text": [
      "\u001b[1;3;38;5;200mThought: 我需要查询关于美国考虑恢复所有B-52核打击能力的原因的信息。\n",
      "Action: query\n",
      "Action Input: {'input': '美国为什么考虑恢复所有B-52核打击能力'}\n",
      "\u001b[0m\u001b[1;3;34mObservation: 根据提供的信息，没有提到美国考虑恢复所有B-52核打击能力的相关内容。所提供的信息主要关注的是波音公司（Boeing）的CEO戴夫·卡尔霍恩（Dave Calhoun）在面对美国参议院常设调查小组委员会听证会时承认了公司对“吹哨人”进行了报复，以及波音公司在安全文化、管理层调整和薪酬问题上的讨论。此外，信息还提到了波音737 MAX 8型飞机的坠机事故、遇难者家属的诉求、波音公司的责任以及美国司法部可能对波音提起诉讼的可能性。\n",
      "\n",
      "关于B-52核打击能力的问题与提供的信息内容不符，因此无法基于这些信息回答有关恢复所有B-52核打击能力的原因。要了解美国考虑恢复所有B-52核打击能力的具体原因，需要查阅其他相关资料或提供更具体的情境背景。\n",
      "\u001b[0m 关于美国考虑恢复所有B-52核打击能力的原因，我目前无法提供详细的信息。这可能与国家安全政策、军事战略调整或武器现代化计划有关。要获得更准确和具体的信息，请查阅最新的官方声明、国防预算报告或相关国际新闻报道。CPU times: user 1.25 s, sys: 255 ms, total: 1.51 s\n",
      "Wall time: 9.8 s\n"
     ]
    }
   ],
   "source": [
    "%%time\n",
    "\n",
    "response = agent.stream_chat(\"美国为啥要考虑恢复所有B-52核打击能力？\",chat_history=[])\n",
    "response.print_response_stream()"
   ]
  },
  {
   "cell_type": "code",
   "execution_count": 14,
   "id": "678ddde0-3498-4755-b95b-1a7c2a02b492",
   "metadata": {},
   "outputs": [
    {
     "name": "stdout",
     "output_type": "stream",
     "text": [
      "\u001b[1;3;38;5;200mThought: 我需要查询关于2035年中国国家能源局新建核电站机组的信息。\n",
      "Action: query\n",
      "Action Input: {'input': '到2035年国家能源局将新建多少核电机组'}\n",
      "\u001b[0m\u001b[1;3;34mObservation: 无法根据提供的信息回答这个问题，因为这些信息主要关注的是埃隆·马斯克对未来智能手机的展望，并没有提及到2035年中国国家能源局计划新建多少核电站机组。需要有关中国国家能源局和核电站建设的具体数据才能提供准确的答案。\n",
      "\u001b[0m 根据目前的信息，我无法提供关于到2035年国家能源局将新建多少核电机组的具体数据。需要有关中国国家能源局和核电站建设的具体信息才能提供准确的答案。CPU times: user 882 ms, sys: 196 ms, total: 1.08 s\n",
      "Wall time: 5.75 s\n"
     ]
    }
   ],
   "source": [
    "%%time\n",
    "\n",
    "response = agent.stream_chat(\"到2035年国家能源局将新建多少核电机组？\",chat_history=[])\n",
    "response.print_response_stream()"
   ]
  },
  {
   "cell_type": "code",
   "execution_count": 76,
   "id": "a01aba93-a273-45f2-a984-77c4e8c1b07d",
   "metadata": {},
   "outputs": [
    {
     "name": "stdout",
     "output_type": "stream",
     "text": [
      "CPU times: user 19.3 ms, sys: 133 µs, total: 19.5 ms\n",
      "Wall time: 19 ms\n"
     ]
    },
    {
     "data": {
      "text/plain": [
       "{'波音CEO承认公司报复“吹哨人”': RefDocInfo(node_ids=['f9772a5c-c610-4351-9a3c-7ef9fd4a998b', '8e67f7a8-9e9f-44e2-8f04-adaa5c35cda2', 'd62c4145-62f7-4e73-9255-6605155400c9', 'a997cdd6-3a05-4f8d-b947-ba1cb81cb56c', '68bae5b6-6e1e-432c-a4b6-150a97f2a5b5', 'f9772a5c-c610-4351-9a3c-7ef9fd4a998b', '8e67f7a8-9e9f-44e2-8f04-adaa5c35cda2', 'd62c4145-62f7-4e73-9255-6605155400c9', 'a997cdd6-3a05-4f8d-b947-ba1cb81cb56c', '68bae5b6-6e1e-432c-a4b6-150a97f2a5b5', '61d5ad1a-6266-4c3a-939b-2c7748c7f67b', 'f9772a5c-c610-4351-9a3c-7ef9fd4a998b', '8e67f7a8-9e9f-44e2-8f04-adaa5c35cda2', 'd62c4145-62f7-4e73-9255-6605155400c9', 'a997cdd6-3a05-4f8d-b947-ba1cb81cb56c', '68bae5b6-6e1e-432c-a4b6-150a97f2a5b5', '61d5ad1a-6266-4c3a-939b-2c7748c7f67b', '316df1d0-685d-40f0-8459-52eb04b393bd', 'db5f6d14-0913-4817-90be-0102eb2c12f3'], metadata={'title': '波音CEO承认公司报复“吹哨人”', 'publish_time': '2024-06-19 11:35:32', 'author': '王恺雯', 'url': 'https://www.guancha.cn/internation/2024_06_19_738488.shtml', 'images': ['https://i.guancha.cn/news/vcg/2024/06/19/20240619111750993.jpg', 'https://i.guancha.cn/news/external/2024/06/19/20240619111828613.png']}),\n",
       " 'Not Found': RefDocInfo(node_ids=['5485adae-e9ce-4df3-9ccb-f662a55f45ac', '94edb927-88dd-45ca-8ae8-eb897b6eb102'], metadata={'title': 'Not Found', 'publish_time': '2018-04-05T15:43:23+0000', 'author': '', 'url': 'https://www.cnbc.com/2023/06/19/elon-musk-future-no-need-for-smartphones.html', 'images': []})}"
      ]
     },
     "execution_count": 76,
     "metadata": {},
     "output_type": "execute_result"
    }
   ],
   "source": [
    "%%time\n",
    "\n",
    "doc_summary_index=load_index(INDEX_PATH)\n",
    "doc_summary_index.ref_doc_info"
   ]
  }
 ],
 "metadata": {
  "kernelspec": {
   "display_name": "Python 3 (ipykernel)",
   "language": "python",
   "name": "python3"
  },
  "language_info": {
   "codemirror_mode": {
    "name": "ipython",
    "version": 3
   },
   "file_extension": ".py",
   "mimetype": "text/x-python",
   "name": "python",
   "nbconvert_exporter": "python",
   "pygments_lexer": "ipython3",
   "version": "3.10.12"
  }
 },
 "nbformat": 4,
 "nbformat_minor": 5
}
