{
 "cells": [
  {
   "cell_type": "markdown",
   "id": "25a1b1ed-7926-4a3d-b86f-e4da3f280000",
   "metadata": {},
   "source": [
    "# 加载新闻数据的相似度"
   ]
  },
  {
   "cell_type": "markdown",
   "id": "cdf94fc1-9f4c-4c3b-ae42-1afc5d92f2db",
   "metadata": {},
   "source": [
    "## 准备工作"
   ]
  },
  {
   "cell_type": "code",
   "execution_count": 3,
   "id": "af85b62a-fbde-410a-b382-d6d22651a7da",
   "metadata": {},
   "outputs": [],
   "source": [
    "import faiss\n",
    "import numpy as np\n",
    "import pandas as pd\n",
    "from sentence_transformers import SentenceTransformer"
   ]
  },
  {
   "cell_type": "markdown",
   "id": "ef9fc6cd-129b-4388-9cbe-25ac893f60ff",
   "metadata": {},
   "source": [
    "## 加载数据"
   ]
  },
  {
   "cell_type": "code",
   "execution_count": 36,
   "id": "d751cfff-2273-4d2e-b575-e3194ac3ea11",
   "metadata": {},
   "outputs": [
    {
     "name": "stdout",
     "output_type": "stream",
     "text": [
      "CPU times: user 3.53 ms, sys: 0 ns, total: 3.53 ms\n",
      "Wall time: 3.07 ms\n"
     ]
    },
    {
     "data": {
      "text/html": [
       "<div>\n",
       "<style scoped>\n",
       "    .dataframe tbody tr th:only-of-type {\n",
       "        vertical-align: middle;\n",
       "    }\n",
       "\n",
       "    .dataframe tbody tr th {\n",
       "        vertical-align: top;\n",
       "    }\n",
       "\n",
       "    .dataframe thead th {\n",
       "        text-align: right;\n",
       "    }\n",
       "</style>\n",
       "<table border=\"1\" class=\"dataframe\">\n",
       "  <thead>\n",
       "    <tr style=\"text-align: right;\">\n",
       "      <th></th>\n",
       "      <th>text1</th>\n",
       "      <th>text2</th>\n",
       "    </tr>\n",
       "  </thead>\n",
       "  <tbody>\n",
       "    <tr>\n",
       "      <th>0</th>\n",
       "      <td>本文总结了十个可穿戴产品的设计原则，而这些原则，同样也是笔者认为是这个行业最吸引人的地方：1...</td>\n",
       "      <td>可穿戴技术十大设计原则</td>\n",
       "    </tr>\n",
       "    <tr>\n",
       "      <th>1</th>\n",
       "      <td>2007年乔布斯向人们展示iPhone并宣称“它将会改变世界”，还有人认为他在夸大其词，然而...</td>\n",
       "      <td>经济学人：智能手机将成为“真正的个人电脑”</td>\n",
       "    </tr>\n",
       "    <tr>\n",
       "      <th>2</th>\n",
       "      <td>雅虎发布2014年第四季度财报，并推出了免税方式剥离其持有的阿里巴巴集团15％股权的计划，打...</td>\n",
       "      <td>雅虎宣布剥离阿里巴巴股份</td>\n",
       "    </tr>\n",
       "    <tr>\n",
       "      <th>3</th>\n",
       "      <td>2014年，51信用卡管家跟宜信等P2P公司合作，推出线上信贷产品“瞬时贷”，其是一种纯在线...</td>\n",
       "      <td>51信用卡管家，预计2015年放贷额度远超30亿</td>\n",
       "    </tr>\n",
       "    <tr>\n",
       "      <th>4</th>\n",
       "      <td>目前世界上有着几百种编程语言，我应该学哪个?如何选择“正确”的编程语言进行学习?我所学的语言...</td>\n",
       "      <td>如何选择正确的编程语言进行学习</td>\n",
       "    </tr>\n",
       "    <tr>\n",
       "      <th>5</th>\n",
       "      <td>受众在哪里，媒体就应该在哪里，媒体的体制、内容、技术就应该向哪里转变。媒体融合关键是以人为本...</td>\n",
       "      <td>媒体融合关键是以人为本</td>\n",
       "    </tr>\n",
       "    <tr>\n",
       "      <th>6</th>\n",
       "      <td>中国铁路总公司消息，自2015年1月5日起，自行车不能进站乘车了。骑友大呼难以接受。这部分希...</td>\n",
       "      <td>自行车不能带上火车</td>\n",
       "    </tr>\n",
       "    <tr>\n",
       "      <th>7</th>\n",
       "      <td>今天有传在北京某小区，一光头明星因吸毒被捕的消息。下午北京警方官方微博发布声明通报情况，证实...</td>\n",
       "      <td>北京警方确认李代沫吸毒被捕(图)</td>\n",
       "    </tr>\n",
       "    <tr>\n",
       "      <th>8</th>\n",
       "      <td>党的十八大以来，以习近平同志为总书记的党中央高瞻远瞩战略谋划，着力创新发展理念，大力建设生态...</td>\n",
       "      <td>生态兴则文明兴生态衰则文明衰</td>\n",
       "    </tr>\n",
       "    <tr>\n",
       "      <th>9</th>\n",
       "      <td>昨晚，中联航空成都飞北京一架航班被发现有多人吸烟。后因天气原因，飞机备降太原机场。几名乘客在...</td>\n",
       "      <td>成都飞北京航班多人吸烟机组人员与未吸烟乘客冲突</td>\n",
       "    </tr>\n",
       "  </tbody>\n",
       "</table>\n",
       "</div>"
      ],
      "text/plain": [
       "                                               text1                     text2\n",
       "0  本文总结了十个可穿戴产品的设计原则，而这些原则，同样也是笔者认为是这个行业最吸引人的地方：1...               可穿戴技术十大设计原则\n",
       "1  2007年乔布斯向人们展示iPhone并宣称“它将会改变世界”，还有人认为他在夸大其词，然而...     经济学人：智能手机将成为“真正的个人电脑”\n",
       "2  雅虎发布2014年第四季度财报，并推出了免税方式剥离其持有的阿里巴巴集团15％股权的计划，打...              雅虎宣布剥离阿里巴巴股份\n",
       "3  2014年，51信用卡管家跟宜信等P2P公司合作，推出线上信贷产品“瞬时贷”，其是一种纯在线...  51信用卡管家，预计2015年放贷额度远超30亿\n",
       "4  目前世界上有着几百种编程语言，我应该学哪个?如何选择“正确”的编程语言进行学习?我所学的语言...           如何选择正确的编程语言进行学习\n",
       "5  受众在哪里，媒体就应该在哪里，媒体的体制、内容、技术就应该向哪里转变。媒体融合关键是以人为本...               媒体融合关键是以人为本\n",
       "6  中国铁路总公司消息，自2015年1月5日起，自行车不能进站乘车了。骑友大呼难以接受。这部分希...                 自行车不能带上火车\n",
       "7  今天有传在北京某小区，一光头明星因吸毒被捕的消息。下午北京警方官方微博发布声明通报情况，证实...          北京警方确认李代沫吸毒被捕(图)\n",
       "8  党的十八大以来，以习近平同志为总书记的党中央高瞻远瞩战略谋划，着力创新发展理念，大力建设生态...            生态兴则文明兴生态衰则文明衰\n",
       "9  昨晚，中联航空成都飞北京一架航班被发现有多人吸烟。后因天气原因，飞机备降太原机场。几名乘客在...   成都飞北京航班多人吸烟机组人员与未吸烟乘客冲突"
      ]
     },
     "execution_count": 36,
     "metadata": {},
     "output_type": "execute_result"
    }
   ],
   "source": [
    "%%time\n",
    "\n",
    "# 加载 CSV 文件\n",
    "df = pd.read_csv('./test-100.csv')\n",
    "# 显示前10条\n",
    "df.head(10)"
   ]
  },
  {
   "cell_type": "markdown",
   "id": "b37070af-4c10-4572-b423-8f78bc7573ff",
   "metadata": {},
   "source": [
    "## 文档编码"
   ]
  },
  {
   "cell_type": "code",
   "execution_count": 7,
   "id": "1bbe000d-7f54-4102-820f-e963cac61ea3",
   "metadata": {},
   "outputs": [
    {
     "name": "stdout",
     "output_type": "stream",
     "text": [
      "CPU times: user 1.19 s, sys: 626 ms, total: 1.82 s\n",
      "Wall time: 1.52 s\n"
     ]
    }
   ],
   "source": [
    "%%time\n",
    "\n",
    "from sentence_transformers import SentenceTransformer\n",
    "encoder = SentenceTransformer(\"/models/bge-large-zh-v1.5\")"
   ]
  },
  {
   "cell_type": "code",
   "execution_count": 8,
   "id": "6c87c939-5b00-47f2-a675-27dc78514a77",
   "metadata": {},
   "outputs": [
    {
     "data": {
      "text/plain": [
       "0     本文总结了十个可穿戴产品的设计原则，而这些原则，同样也是笔者认为是这个行业最吸引人的地方：1...\n",
       "1     2007年乔布斯向人们展示iPhone并宣称“它将会改变世界”，还有人认为他在夸大其词，然而...\n",
       "2     雅虎发布2014年第四季度财报，并推出了免税方式剥离其持有的阿里巴巴集团15％股权的计划，打...\n",
       "3     2014年，51信用卡管家跟宜信等P2P公司合作，推出线上信贷产品“瞬时贷”，其是一种纯在线...\n",
       "4     目前世界上有着几百种编程语言，我应该学哪个?如何选择“正确”的编程语言进行学习?我所学的语言...\n",
       "                            ...                        \n",
       "94    银行股连创新高，踩了王亚伟，捧了史玉柱。王亚伟“不爱”银行股，甚至传“郭树清因此斥责王亚伟”...\n",
       "95    1月20日上午，湖南湘乡市一老式爆米花机突然爆炸，碎片击中一7岁小孩头部，致其当场身亡。男孩...\n",
       "96    5月9日，利得财富管理集团正式对外宣布，旗下基于利得财富官方微信(微信号：leadcf)端口...\n",
       "97    “有些人并没看清其中深意。要么认为反腐是杀鸡儆猴，抓几个贪官为了聚拢民心；要么就认为这是高层...\n",
       "98    欠债还钱，自古天理。为什么有那么一些业主，自己可以大手大脚随便挥霍，就是不肯把仨瓜俩枣的工钱...\n",
       "Name: text1, Length: 99, dtype: object"
      ]
     },
     "execution_count": 8,
     "metadata": {},
     "output_type": "execute_result"
    }
   ],
   "source": [
    "text=df['text1']\n",
    "text"
   ]
  },
  {
   "cell_type": "code",
   "execution_count": 11,
   "id": "b764c42a-97c0-45a0-b9a9-18a3089e6ec2",
   "metadata": {},
   "outputs": [
    {
     "name": "stdout",
     "output_type": "stream",
     "text": [
      "CPU times: user 4.3 s, sys: 130 ms, total: 4.43 s\n",
      "Wall time: 4.44 s\n"
     ]
    }
   ],
   "source": [
    "%%time\n",
    "\n",
    "encoded_data = encoder.encode(text)"
   ]
  },
  {
   "cell_type": "markdown",
   "id": "cea268d4-93b8-4985-a0af-22b012ef3616",
   "metadata": {},
   "source": [
    "## 创建索引"
   ]
  },
  {
   "cell_type": "code",
   "execution_count": 12,
   "id": "a2b40f99-1f39-4ac5-b4dd-fcac18d9d758",
   "metadata": {},
   "outputs": [
    {
     "name": "stdout",
     "output_type": "stream",
     "text": [
      "CPU times: user 0 ns, sys: 404 µs, total: 404 µs\n",
      "Wall time: 443 µs\n"
     ]
    }
   ],
   "source": [
    "%%time\n",
    "\n",
    "index = faiss.IndexIDMap(faiss.IndexFlatIP(1024))\n",
    "index.add_with_ids(encoded_data, np.arange(len(text)))"
   ]
  },
  {
   "cell_type": "markdown",
   "id": "6de9fe07-504d-45fe-b88e-8295c139f29c",
   "metadata": {},
   "source": [
    "## 搜索"
   ]
  },
  {
   "cell_type": "code",
   "execution_count": 15,
   "id": "5ebfe920-9ce1-441a-badd-62c55f9d69e6",
   "metadata": {},
   "outputs": [],
   "source": [
    "def search(query, k=1):\n",
    "    query_vector = encoder.encode([query])\n",
    "    top_k = index.search(query_vector, k)\n",
    "    print(top_k)\n",
    "    return [\n",
    "        text[_id] for _id in top_k[1][0]\n",
    "    ]"
   ]
  },
  {
   "cell_type": "code",
   "execution_count": 17,
   "id": "09d9fc32-606d-4479-9c0f-1d5d518e48dd",
   "metadata": {},
   "outputs": [
    {
     "name": "stdout",
     "output_type": "stream",
     "text": [
      "(array([[0.51555777]], dtype=float32), array([[7]]))\n",
      "CPU times: user 20.6 ms, sys: 17.3 ms, total: 37.8 ms\n",
      "Wall time: 39.9 ms\n"
     ]
    },
    {
     "data": {
      "text/plain": [
       "['今天有传在北京某小区，一光头明星因吸毒被捕的消息。下午北京警方官方微博发布声明通报情况，证实该明星为李代沫。李代沫伙同另外6人，于17日晚在北京朝阳区三里屯某小区的暂住地内吸食毒品，6人全部被警方抓获，且当事人对犯案实施供认不讳。']"
      ]
     },
     "execution_count": 17,
     "metadata": {},
     "output_type": "execute_result"
    }
   ],
   "source": [
    "%%time\n",
    "\n",
    "search('李代沫',k=1)"
   ]
  },
  {
   "cell_type": "code",
   "execution_count": 21,
   "id": "d2772c62-9b0c-4697-aea5-0fe54a2433c9",
   "metadata": {},
   "outputs": [
    {
     "name": "stdout",
     "output_type": "stream",
     "text": [
      "(array([[0.4607549 , 0.45903063, 0.44265407, 0.4400144 , 0.41214722]],\n",
      "      dtype=float32), array([[ 6, 30, 54, 47, 46]]))\n",
      "CPU times: user 22.8 ms, sys: 16.4 ms, total: 39.2 ms\n",
      "Wall time: 38.8 ms\n"
     ]
    },
    {
     "data": {
      "text/plain": [
       "['中国铁路总公司消息，自2015年1月5日起，自行车不能进站乘车了。骑友大呼难以接受。这部分希望下车就能踏上骑游旅程的旅客，只能先办理托运业务，可咨询12306客服电话，就近提前办理。运费每公斤价格根据运输里程不同而不同。',\n",
       " '文章称，30年收费政策功不可没，使公路发展摆脱了资金不足的束缚。世界各国政府在提供公路基础设施过程中都面临这样一个艰难的选择，就是让全民通过付税还是让使用者通过付费来承担这项长期的责任。',\n",
       " '春节临近，内地客赴港“扫货游”掀热潮，本周末已迎来客流高峰，预计下周末再创新高。岁末年初，以购物为主要内容的“扫货游”成为出境游的重要内容，其中港澳依旧是内地客最热门出游目的地之一。如直达香港的广九直通车，较平时激增逾6成，超1.2万人次。',\n",
       " '近年来，逢雨必涝、逢涝必瘫，几成我国城市通病。上周，中国青年报对全国31个省（区、市）5375人进行的调查显示，91.6%的人关注所在城市的排水问题；84.7%的受访者赞同，城市现代化更表现在地面之下，应加大地下民生工程建设投入。',\n",
       " '8月1日，全国性地方债审计全面开闸。审计的背后，是部分地方政府盲目举债的隐忧及无力还债的现实。媒体披露审计的15个目标省会城市中，债务压力排名前10为：南京、成都、广州、合肥、昆明、长沙、武汉、哈尔滨、西安和兰州。']"
      ]
     },
     "execution_count": 21,
     "metadata": {},
     "output_type": "execute_result"
    }
   ],
   "source": [
    "%%time\n",
    "\n",
    "search('交通',k=5)"
   ]
  },
  {
   "cell_type": "code",
   "execution_count": 22,
   "id": "b5b34b9b-0b3b-4d47-addb-d44d0ed3da7b",
   "metadata": {},
   "outputs": [
    {
     "name": "stdout",
     "output_type": "stream",
     "text": [
      "(array([[0.4321493 , 0.40868598, 0.39781177]], dtype=float32), array([[11, 82, 28]]))\n",
      "CPU times: user 19.5 ms, sys: 20.1 ms, total: 39.5 ms\n",
      "Wall time: 39.6 ms\n"
     ]
    },
    {
     "data": {
      "text/plain": [
       "['11日下午，中共中央政治局常委、中央书记处书记刘云山登门看望了国家最高科技奖获得者于敏、张存浩。刘云山指出，广大科技工作者要学习老一辈科学家求真务实的钻研精神，淡泊名利、潜心科研，努力创造更多一流科研成果。',\n",
       " '仔细一算，上海的互联网公司不乏成功案例，但最终成为BAT一类巨头的几乎没有，这也能解释为何纳税百强的榜单中鲜少互联网公司的身影。有一类是被并购，比如：易趣、土豆网、PPS、TrinitiInteractive、PPTV、1号店等；有一类是数年偏安于细分市场',\n",
       " '李克强总理5月30日主持召开国务院常务会议，决定对国务院已出台政策措施落实情况开展全面督查。这既是中央政府贯彻了科学发展观，也是地方政府树立了正确的政绩观。政策和落实，进行辨证统一之后，改革成果指数才能寻求到最大公约数。']"
      ]
     },
     "execution_count": 22,
     "metadata": {},
     "output_type": "execute_result"
    }
   ],
   "source": [
    "%%time\n",
    "\n",
    "search('科技',k=3)"
   ]
  },
  {
   "cell_type": "markdown",
   "id": "5cac5677-bd2f-4c83-b70d-c0ac7e540216",
   "metadata": {},
   "source": [
    "## 保存索引"
   ]
  },
  {
   "cell_type": "code",
   "execution_count": 23,
   "id": "6f57a1bb-d3ce-4c37-b363-2471e1ac3438",
   "metadata": {},
   "outputs": [
    {
     "name": "stdout",
     "output_type": "stream",
     "text": [
      "CPU times: user 0 ns, sys: 671 µs, total: 671 µs\n",
      "Wall time: 467 µs\n"
     ]
    }
   ],
   "source": [
    "%%time\n",
    "\n",
    "path = './news-100.index'\n",
    "\n",
    "# Save index\n",
    "faiss.write_index(index, path)"
   ]
  },
  {
   "cell_type": "markdown",
   "id": "90f6fde5-e52e-42dd-bcb2-87d0e084d8c5",
   "metadata": {},
   "source": [
    "## 增加新数据并搜索"
   ]
  },
  {
   "cell_type": "markdown",
   "id": "e39aa099-93e4-4b07-b8e5-1e02d11bac54",
   "metadata": {},
   "source": [
    "### 加载文件"
   ]
  },
  {
   "cell_type": "code",
   "execution_count": 49,
   "id": "a602fabe-82e2-44b9-bbcf-2aea3d609b4f",
   "metadata": {},
   "outputs": [
    {
     "name": "stdout",
     "output_type": "stream",
     "text": [
      "CPU times: user 2.97 ms, sys: 0 ns, total: 2.97 ms\n",
      "Wall time: 2.32 ms\n"
     ]
    }
   ],
   "source": [
    "%%time\n",
    "\n",
    "# 加载索引文件\n",
    "index = faiss.read_index(path)\n",
    "# 加载 CSV 文件\n",
    "df = pd.read_csv('./test-100.csv')"
   ]
  },
  {
   "cell_type": "markdown",
   "id": "4aae6016-740d-4913-b02d-b4c57165ad24",
   "metadata": {},
   "source": [
    "### 加入新数据"
   ]
  },
  {
   "cell_type": "code",
   "execution_count": 50,
   "id": "f3d7b433-74d7-42ca-b3b4-ebd752d236a8",
   "metadata": {},
   "outputs": [
    {
     "data": {
      "text/html": [
       "<div>\n",
       "<style scoped>\n",
       "    .dataframe tbody tr th:only-of-type {\n",
       "        vertical-align: middle;\n",
       "    }\n",
       "\n",
       "    .dataframe tbody tr th {\n",
       "        vertical-align: top;\n",
       "    }\n",
       "\n",
       "    .dataframe thead th {\n",
       "        text-align: right;\n",
       "    }\n",
       "</style>\n",
       "<table border=\"1\" class=\"dataframe\">\n",
       "  <thead>\n",
       "    <tr style=\"text-align: right;\">\n",
       "      <th></th>\n",
       "      <th>text1</th>\n",
       "      <th>text2</th>\n",
       "    </tr>\n",
       "  </thead>\n",
       "  <tbody>\n",
       "    <tr>\n",
       "      <th>0</th>\n",
       "      <td>本文总结了十个可穿戴产品的设计原则，而这些原则，同样也是笔者认为是这个行业最吸引人的地方：1...</td>\n",
       "      <td>可穿戴技术十大设计原则</td>\n",
       "    </tr>\n",
       "    <tr>\n",
       "      <th>1</th>\n",
       "      <td>2007年乔布斯向人们展示iPhone并宣称“它将会改变世界”，还有人认为他在夸大其词，然而...</td>\n",
       "      <td>经济学人：智能手机将成为“真正的个人电脑”</td>\n",
       "    </tr>\n",
       "    <tr>\n",
       "      <th>2</th>\n",
       "      <td>雅虎发布2014年第四季度财报，并推出了免税方式剥离其持有的阿里巴巴集团15％股权的计划，打...</td>\n",
       "      <td>雅虎宣布剥离阿里巴巴股份</td>\n",
       "    </tr>\n",
       "    <tr>\n",
       "      <th>3</th>\n",
       "      <td>2014年，51信用卡管家跟宜信等P2P公司合作，推出线上信贷产品“瞬时贷”，其是一种纯在线...</td>\n",
       "      <td>51信用卡管家，预计2015年放贷额度远超30亿</td>\n",
       "    </tr>\n",
       "    <tr>\n",
       "      <th>4</th>\n",
       "      <td>目前世界上有着几百种编程语言，我应该学哪个?如何选择“正确”的编程语言进行学习?我所学的语言...</td>\n",
       "      <td>如何选择正确的编程语言进行学习</td>\n",
       "    </tr>\n",
       "    <tr>\n",
       "      <th>...</th>\n",
       "      <td>...</td>\n",
       "      <td>...</td>\n",
       "    </tr>\n",
       "    <tr>\n",
       "      <th>95</th>\n",
       "      <td>1月20日上午，湖南湘乡市一老式爆米花机突然爆炸，碎片击中一7岁小孩头部，致其当场身亡。男孩...</td>\n",
       "      <td>爆米花机爆炸，碎铁砸死7岁男童</td>\n",
       "    </tr>\n",
       "    <tr>\n",
       "      <th>96</th>\n",
       "      <td>5月9日，利得财富管理集团正式对外宣布，旗下基于利得财富官方微信(微信号：leadcf)端口...</td>\n",
       "      <td>利得财富移动互联网金融O2O微官网平台正式上线</td>\n",
       "    </tr>\n",
       "    <tr>\n",
       "      <th>97</th>\n",
       "      <td>“有些人并没看清其中深意。要么认为反腐是杀鸡儆猴，抓几个贪官为了聚拢民心；要么就认为这是高层...</td>\n",
       "      <td>新设计师习近平•反腐篇</td>\n",
       "    </tr>\n",
       "    <tr>\n",
       "      <th>98</th>\n",
       "      <td>欠债还钱，自古天理。为什么有那么一些业主，自己可以大手大脚随便挥霍，就是不肯把仨瓜俩枣的工钱...</td>\n",
       "      <td>党报批欠薪业主：自己挥霍就不肯把工钱给农民工</td>\n",
       "    </tr>\n",
       "    <tr>\n",
       "      <th>99</th>\n",
       "      <td>2024年4月26日，中共中央政治局委员、外交部长王毅在北京同美国国务卿布林肯举行会谈时，就...</td>\n",
       "      <td>王毅谈中方对中美关系的“三个一以贯之”</td>\n",
       "    </tr>\n",
       "  </tbody>\n",
       "</table>\n",
       "<p>100 rows × 2 columns</p>\n",
       "</div>"
      ],
      "text/plain": [
       "                                                text1  \\\n",
       "0   本文总结了十个可穿戴产品的设计原则，而这些原则，同样也是笔者认为是这个行业最吸引人的地方：1...   \n",
       "1   2007年乔布斯向人们展示iPhone并宣称“它将会改变世界”，还有人认为他在夸大其词，然而...   \n",
       "2   雅虎发布2014年第四季度财报，并推出了免税方式剥离其持有的阿里巴巴集团15％股权的计划，打...   \n",
       "3   2014年，51信用卡管家跟宜信等P2P公司合作，推出线上信贷产品“瞬时贷”，其是一种纯在线...   \n",
       "4   目前世界上有着几百种编程语言，我应该学哪个?如何选择“正确”的编程语言进行学习?我所学的语言...   \n",
       "..                                                ...   \n",
       "95  1月20日上午，湖南湘乡市一老式爆米花机突然爆炸，碎片击中一7岁小孩头部，致其当场身亡。男孩...   \n",
       "96  5月9日，利得财富管理集团正式对外宣布，旗下基于利得财富官方微信(微信号：leadcf)端口...   \n",
       "97  “有些人并没看清其中深意。要么认为反腐是杀鸡儆猴，抓几个贪官为了聚拢民心；要么就认为这是高层...   \n",
       "98  欠债还钱，自古天理。为什么有那么一些业主，自己可以大手大脚随便挥霍，就是不肯把仨瓜俩枣的工钱...   \n",
       "99  2024年4月26日，中共中央政治局委员、外交部长王毅在北京同美国国务卿布林肯举行会谈时，就...   \n",
       "\n",
       "                       text2  \n",
       "0                可穿戴技术十大设计原则  \n",
       "1      经济学人：智能手机将成为“真正的个人电脑”  \n",
       "2               雅虎宣布剥离阿里巴巴股份  \n",
       "3   51信用卡管家，预计2015年放贷额度远超30亿  \n",
       "4            如何选择正确的编程语言进行学习  \n",
       "..                       ...  \n",
       "95           爆米花机爆炸，碎铁砸死7岁男童  \n",
       "96   利得财富移动互联网金融O2O微官网平台正式上线  \n",
       "97               新设计师习近平•反腐篇  \n",
       "98    党报批欠薪业主：自己挥霍就不肯把工钱给农民工  \n",
       "99       王毅谈中方对中美关系的“三个一以贯之”  \n",
       "\n",
       "[100 rows x 2 columns]"
      ]
     },
     "execution_count": 50,
     "metadata": {},
     "output_type": "execute_result"
    }
   ],
   "source": [
    "# 要追加的数据\n",
    "new_data = {\n",
    "    'text1': ['2024年4月26日，中共中央政治局委员、外交部长王毅在北京同美国国务卿布林肯举行会谈时，就中美关系表示，去年11月，习近平主席和拜登总统在旧金山会晤，共同擘画了“旧金山愿景”。在两国元首的掌舵领航下，中美关系总体止跌企稳，双方各领域的对话增多、合作增多、积极面增多，两国人民和国际社会都对此表示欢迎。但另一方面，中美关系的负面因素仍在上升积聚，面临各种干扰破坏，中国的正当发展权利遭到无理打压，中方的核心利益不断受到挑战。'], \n",
    "    'text2': ['王毅谈中方对中美关系的“三个一以贯之”']}\n",
    "# 创建要追加的 DataFrame\n",
    "new_df = pd.DataFrame(new_data)\n",
    "# 追加数据\n",
    "df = pd.concat([df, new_df], ignore_index=True)\n",
    "\n",
    "df"
   ]
  },
  {
   "cell_type": "markdown",
   "id": "f0ec1a62-f9f9-4721-a10d-5e34bffdcb18",
   "metadata": {},
   "source": [
    "### 加入索引"
   ]
  },
  {
   "cell_type": "code",
   "execution_count": 51,
   "id": "c7eea8a2-6c07-4aa0-a2d9-11ba665c4480",
   "metadata": {},
   "outputs": [
    {
     "name": "stdout",
     "output_type": "stream",
     "text": [
      "CPU times: user 112 ms, sys: 19.8 ms, total: 132 ms\n",
      "Wall time: 150 ms\n"
     ]
    }
   ],
   "source": [
    "%%time\n",
    "\n",
    "new_data['text1']\n",
    "new_encoded_data = encoder.encode(new_data['text1'])\n",
    "index.add_with_ids(new_encoded_data, len(df)-1)"
   ]
  },
  {
   "cell_type": "code",
   "execution_count": 53,
   "id": "965b1fbe-9463-4702-8930-74c33305be4e",
   "metadata": {},
   "outputs": [],
   "source": [
    "text=df['text1']"
   ]
  },
  {
   "cell_type": "markdown",
   "id": "64c95bf7-a4a5-4548-a330-656efb510623",
   "metadata": {},
   "source": [
    "### 搜索"
   ]
  },
  {
   "cell_type": "code",
   "execution_count": 56,
   "id": "b0033249-c0a0-4175-a73c-5080c36a4315",
   "metadata": {},
   "outputs": [
    {
     "name": "stdout",
     "output_type": "stream",
     "text": [
      "(array([[0.62922513]], dtype=float32), array([[99]]))\n",
      "CPU times: user 19.2 ms, sys: 20.8 ms, total: 40 ms\n",
      "Wall time: 39 ms\n"
     ]
    },
    {
     "data": {
      "text/plain": [
       "['2024年4月26日，中共中央政治局委员、外交部长王毅在北京同美国国务卿布林肯举行会谈时，就中美关系表示，去年11月，习近平主席和拜登总统在旧金山会晤，共同擘画了“旧金山愿景”。在两国元首的掌舵领航下，中美关系总体止跌企稳，双方各领域的对话增多、合作增多、积极面增多，两国人民和国际社会都对此表示欢迎。但另一方面，中美关系的负面因素仍在上升积聚，面临各种干扰破坏，中国的正当发展权利遭到无理打压，中方的核心利益不断受到挑战。']"
      ]
     },
     "execution_count": 56,
     "metadata": {},
     "output_type": "execute_result"
    }
   ],
   "source": [
    "%%time\n",
    "\n",
    "search('中美关系',k=1)\n"
   ]
  },
  {
   "cell_type": "code",
   "execution_count": null,
   "id": "a74b6bfe-afcc-4eae-b17a-49dd24657b8a",
   "metadata": {},
   "outputs": [],
   "source": []
  }
 ],
 "metadata": {
  "kernelspec": {
   "display_name": "Python 3 (ipykernel)",
   "language": "python",
   "name": "python3"
  },
  "language_info": {
   "codemirror_mode": {
    "name": "ipython",
    "version": 3
   },
   "file_extension": ".py",
   "mimetype": "text/x-python",
   "name": "python",
   "nbconvert_exporter": "python",
   "pygments_lexer": "ipython3",
   "version": "3.10.12"
  }
 },
 "nbformat": 4,
 "nbformat_minor": 5
}
