{
 "cells": [
  {
   "cell_type": "markdown",
   "id": "a4acb1b8-39be-428b-b561-aa9ba23bfce1",
   "metadata": {},
   "source": [
    "# 使用 Ollama 模型 tokenizer 问题"
   ]
  },
  {
   "cell_type": "markdown",
   "id": "0ecb4414-df02-4ac3-ba6f-c2c200162be5",
   "metadata": {},
   "source": [
    "默认情况下，使用的是 OpenAI 的 `cl100k_base`。\n",
    "\n",
    "通过 Ollama 加载本地模型也是用`cl100k_base`，带来一些问题，主要是计算token值有问题:\n",
    "\n",
    "- [Add Tokenize and Detokenize Endpoints to Ollama Server](https://github.com/ollama/ollama/issues/3582)\n",
    "- [is there a way to calculate token size?](https://github.com/ollama/ollama/issues/1716)"
   ]
  },
  {
   "cell_type": "code",
   "execution_count": 1,
   "id": "9760e132-2096-440a-aa50-6c6ab95a8abe",
   "metadata": {},
   "outputs": [
    {
     "name": "stdout",
     "output_type": "stream",
     "text": [
      "CPU times: user 2.78 s, sys: 368 ms, total: 3.15 s\n",
      "Wall time: 2.77 s\n"
     ]
    }
   ],
   "source": [
    "%%time\n",
    "\n",
    "from llama_index.llms.openai_like import OpenAILike\n",
    "from llama_index.core import Settings\n",
    "\n",
    "llm = OpenAILike(model=\"qwen2-7b-6k\", \n",
    "                 api_base=\"http://192.168.0.72:3000/v1\", \n",
    "                 api_key=\"sk-bJP6QSnUfjAYeYeE505d3eBf63A643BeB0B8E350Df9b7750\",\n",
    "                 is_chat_model=True,\n",
    "                 temperature=0.1\n",
    "                )\n",
    "\n",
    "Settings.llm =llm"
   ]
  },
  {
   "cell_type": "code",
   "execution_count": 2,
   "id": "992b08a0-1357-4c5a-b299-0247597f5edf",
   "metadata": {},
   "outputs": [
    {
     "data": {
      "text/plain": [
       "functools.partial(<bound method Encoding.encode of <Encoding 'cl100k_base'>>, allowed_special='all')"
      ]
     },
     "execution_count": 2,
     "metadata": {},
     "output_type": "execute_result"
    }
   ],
   "source": [
    "Settings.tokenizer"
   ]
  }
 ],
 "metadata": {
  "kernelspec": {
   "display_name": "Python 3 (ipykernel)",
   "language": "python",
   "name": "python3"
  },
  "language_info": {
   "codemirror_mode": {
    "name": "ipython",
    "version": 3
   },
   "file_extension": ".py",
   "mimetype": "text/x-python",
   "name": "python",
   "nbconvert_exporter": "python",
   "pygments_lexer": "ipython3",
   "version": "3.10.12"
  }
 },
 "nbformat": 4,
 "nbformat_minor": 5
}
