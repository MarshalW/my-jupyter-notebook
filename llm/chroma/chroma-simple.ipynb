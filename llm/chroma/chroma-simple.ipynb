{
 "cells": [
  {
   "cell_type": "markdown",
   "id": "a2fe2465-ef7e-44df-858f-cc3927ac8edf",
   "metadata": {},
   "source": [
    "# chroma 简单示例"
   ]
  },
  {
   "cell_type": "markdown",
   "id": "c3f7fea2-b580-45d5-a8a3-aed23789864b",
   "metadata": {},
   "source": [
    "初步结论：\n",
    "\n",
    "- 性能不如faiss，耗时都超过faiss很多\n",
    "- 得到的结果不理想，尤其是rerank以后\n",
    "\n",
    "因此，不打算使用chroma"
   ]
  },
  {
   "cell_type": "markdown",
   "id": "67e3a09d-c843-4f35-846d-45621947f80f",
   "metadata": {},
   "source": [
    "## 准备"
   ]
  },
  {
   "cell_type": "code",
   "execution_count": 1,
   "id": "97176ab5-f75d-45be-bd1d-bddb03e302df",
   "metadata": {},
   "outputs": [
    {
     "name": "stdout",
     "output_type": "stream",
     "text": [
      "CPU times: user 43.5 ms, sys: 15.4 ms, total: 58.8 ms\n",
      "Wall time: 9.07 s\n"
     ]
    }
   ],
   "source": [
    "%%time\n",
    "%%capture\n",
    "\n",
    "!pip install chromadb\n",
    "!pip install llama-index-vector-stores-chroma\n",
    "!pip install llama-index-embeddings-huggingface\n",
    "!pip install llama-index"
   ]
  },
  {
   "cell_type": "code",
   "execution_count": 2,
   "id": "30b016f9-6422-4527-ba6d-4f137f8fe15f",
   "metadata": {},
   "outputs": [
    {
     "name": "stdout",
     "output_type": "stream",
     "text": [
      "CPU times: user 2.86 s, sys: 380 ms, total: 3.24 s\n",
      "Wall time: 2.94 s\n"
     ]
    }
   ],
   "source": [
    "%%time\n",
    "\n",
    "# import\n",
    "from llama_index.core import VectorStoreIndex, SimpleDirectoryReader\n",
    "from llama_index.vector_stores.chroma import ChromaVectorStore\n",
    "from llama_index.core import StorageContext\n",
    "from llama_index.embeddings.huggingface import HuggingFaceEmbedding\n",
    "from IPython.display import Markdown, display\n",
    "import chromadb\n",
    "from llama_index.core import Settings\n",
    "from llama_index.embeddings.ollama import OllamaEmbedding"
   ]
  },
  {
   "cell_type": "code",
   "execution_count": 3,
   "id": "39e2032f-b2ce-49d4-a41f-a8e19e53c5be",
   "metadata": {},
   "outputs": [
    {
     "name": "stdout",
     "output_type": "stream",
     "text": [
      "CPU times: user 78.8 ms, sys: 3.82 ms, total: 82.6 ms\n",
      "Wall time: 82 ms\n"
     ]
    }
   ],
   "source": [
    "%%time\n",
    "\n",
    "# create client and a new collection\n",
    "chroma_client = chromadb.EphemeralClient()\n",
    "chroma_collection = chroma_client.create_collection(\"quickstart\")"
   ]
  },
  {
   "cell_type": "code",
   "execution_count": 4,
   "id": "8afe15f8-518c-4974-8810-e22a5c9f1a7f",
   "metadata": {},
   "outputs": [
    {
     "name": "stdout",
     "output_type": "stream",
     "text": [
      "CPU times: user 127 ms, sys: 4.07 ms, total: 131 ms\n",
      "Wall time: 130 ms\n"
     ]
    }
   ],
   "source": [
    "%%time\n",
    "\n",
    "from llama_index.llms.openai_like import OpenAILike\n",
    "\n",
    "llm = OpenAILike(model=\"xiaoyu\", \n",
    "                 api_base=\"http://192.168.0.72:3000/v1\", \n",
    "                 api_key=\"sk-bJP6QSnUfjAYeYeE505d3eBf63A643BeB0B8E350Df9b7750\",\n",
    "                 is_chat_model=True\n",
    "                )\n",
    "Settings.llm =llm"
   ]
  },
  {
   "cell_type": "code",
   "execution_count": 5,
   "id": "f6076330-c7fc-4220-8561-32268fae5881",
   "metadata": {},
   "outputs": [
    {
     "name": "stdout",
     "output_type": "stream",
     "text": [
      "CPU times: user 543 ms, sys: 20.3 ms, total: 563 ms\n",
      "Wall time: 563 ms\n"
     ]
    }
   ],
   "source": [
    "%%time\n",
    "\n",
    "# 初始化全局 embedding 模型\n",
    "from llama_index.embeddings.ollama import OllamaEmbedding\n",
    "\n",
    "ollama_embedding = OllamaEmbedding(\n",
    "    model_name=\"dztech/bge-large-zh:v1.5\",\n",
    "    # model_name=\"bge-m3:latest\",\n",
    "    base_url=\"http://192.168.0.72:11435\",\n",
    "    ollama_additional_kwargs={\"mirostat\": 0}, # -mirostat N 使用 Mirostat 采样。\n",
    ")\n",
    "\n",
    "Settings.embed_model = ollama_embedding"
   ]
  },
  {
   "cell_type": "code",
   "execution_count": 6,
   "id": "d3b0ef6e-efeb-403f-8e9d-1cc85480229b",
   "metadata": {},
   "outputs": [
    {
     "name": "stdout",
     "output_type": "stream",
     "text": [
      "CPU times: user 6.98 ms, sys: 4.01 ms, total: 11 ms\n",
      "Wall time: 10.5 ms\n"
     ]
    }
   ],
   "source": [
    "%%time\n",
    "\n",
    "# load documents\n",
    "documents = SimpleDirectoryReader(\"./books/\").load_data()"
   ]
  },
  {
   "cell_type": "code",
   "execution_count": 7,
   "id": "be720fab-0df3-4107-a861-09508eda3e48",
   "metadata": {},
   "outputs": [
    {
     "name": "stdout",
     "output_type": "stream",
     "text": [
      "CPU times: user 2.4 s, sys: 93.2 ms, total: 2.49 s\n",
      "Wall time: 14.2 s\n"
     ]
    }
   ],
   "source": [
    "%%time\n",
    "\n",
    "# set up ChromaVectorStore and load in data\n",
    "vector_store = ChromaVectorStore(chroma_collection=chroma_collection)\n",
    "storage_context = StorageContext.from_defaults(vector_store=vector_store)\n",
    "index = VectorStoreIndex.from_documents(\n",
    "    documents, storage_context=storage_context\n",
    ")"
   ]
  },
  {
   "cell_type": "markdown",
   "id": "dff768e6-9cee-4fbc-865f-5cfe1416a439",
   "metadata": {},
   "source": [
    "## 基本的嵌入查询"
   ]
  },
  {
   "cell_type": "code",
   "execution_count": 16,
   "id": "8102e4a7-67fd-47ab-b382-a814a5e68c7d",
   "metadata": {},
   "outputs": [
    {
     "name": "stdout",
     "output_type": "stream",
     "text": [
      "孙柔嘉是方鸿渐的妻子。\n",
      "CPU times: user 104 ms, sys: 3.17 ms, total: 107 ms\n",
      "Wall time: 10 s\n"
     ]
    }
   ],
   "source": [
    "%%time\n",
    "\n",
    "Settings.chunk_size=128\n",
    "Settings.chunk_overlap=10\n",
    "\n",
    "# Query Data\n",
    "query_engine = index.as_query_engine(\n",
    "    streaming=True,\n",
    "    similarity_top_k=100,\n",
    "    similarity_cutoff=0.2\n",
    ")\n",
    "\n",
    "streaming_response = query_engine.query(\"方鸿渐的妻子是谁\")\n",
    "streaming_response.print_response_stream()\n",
    "print()"
   ]
  },
  {
   "cell_type": "code",
   "execution_count": 17,
   "id": "a0a3088b-36fc-4c5e-9ecf-3a2fe423d88a",
   "metadata": {},
   "outputs": [
    {
     "name": "stdout",
     "output_type": "stream",
     "text": [
      "局部真理在这个上下文中指的是，在特定情境或临时状态下被认为是对的或有效的观念或行为，尽管它可能不符合普遍的道德准则或绝对真理。方鸿渐通过比较柏拉图和孔子的例子来说明，在照顾病人或维护社会秩序时，可能需要做出暂时的、看似不诚实的决策，以达到更大的善。这种观点强调的是道德决策的复杂性和灵活性，认为在特殊情况下，真理是相对的，而非绝对的。因此，“局部真理”在这里指的是在特定情境下的道德权衡或策略。\n",
      "CPU times: user 389 ms, sys: 34.9 ms, total: 423 ms\n",
      "Wall time: 24.3 s\n"
     ]
    }
   ],
   "source": [
    "%%time\n",
    "\n",
    "streaming_response = query_engine.query(\"文中提到的局部真理是啥意思\")\n",
    "streaming_response.print_response_stream()\n",
    "print()"
   ]
  },
  {
   "cell_type": "markdown",
   "id": "d798566b-f226-4fdd-9164-e80a9ab73fec",
   "metadata": {},
   "source": [
    "## 带rerank的查询"
   ]
  },
  {
   "cell_type": "code",
   "execution_count": 9,
   "id": "18df55b8-87f5-41fc-9263-6cd529cb0d85",
   "metadata": {},
   "outputs": [
    {
     "name": "stdout",
     "output_type": "stream",
     "text": [
      "CPU times: user 1.17 s, sys: 630 ms, total: 1.8 s\n",
      "Wall time: 1.03 s\n"
     ]
    }
   ],
   "source": [
    "%%time\n",
    "\n",
    "from llama_index.core.postprocessor import SentenceTransformerRerank\n",
    "\n",
    "reranker = SentenceTransformerRerank(model='/models/bge-reranker-v2-m3', top_n=5)"
   ]
  },
  {
   "cell_type": "code",
   "execution_count": 10,
   "id": "2cce3f8d-b591-4326-815a-9731092b6ac6",
   "metadata": {},
   "outputs": [
    {
     "name": "stdout",
     "output_type": "stream",
     "text": [
      "CPU times: user 183 µs, sys: 0 ns, total: 183 µs\n",
      "Wall time: 186 µs\n"
     ]
    }
   ],
   "source": [
    "%%time\n",
    "\n",
    "query_engine = index.as_query_engine(\n",
    "    streaming=True,\n",
    "    similarity_top_k=100,\n",
    "    node_postprocessors=[reranker],\n",
    "    similarity_cutoff=0.5\n",
    ")"
   ]
  },
  {
   "cell_type": "code",
   "execution_count": 11,
   "id": "58cebbee-995c-4abe-855b-e3c317713e88",
   "metadata": {},
   "outputs": [
    {
     "name": "stdout",
     "output_type": "stream",
     "text": [
      "方鸿渐的妻子是孙小姐，这是在小说《围城》中的情节。他们是在回国途中经由汪处厚做媒而订婚的。不过，值得注意的是，尽管订了婚，但故事中并未明确提及他们结婚，暗示着他们的关系可能有所变化或未果。\n",
      "CPU times: user 5.39 s, sys: 165 ms, total: 5.55 s\n",
      "Wall time: 12 s\n"
     ]
    }
   ],
   "source": [
    "%%time\n",
    "\n",
    "streaming_response = query_engine.query(\"方鸿渐的妻子是谁\")\n",
    "streaming_response.print_response_stream()\n",
    "print()"
   ]
  },
  {
   "cell_type": "code",
   "execution_count": 12,
   "id": "4d096031-1563-45d7-ad10-54f44008058b",
   "metadata": {},
   "outputs": [
    {
     "name": "stdout",
     "output_type": "stream",
     "text": [
      "赵辛楣的结局在给定的文本中没有详细描述，但从他提到的旅馆账单问题和后续的朋友帮忙解决来看，他应该是顺利地度过了这次财务困境，并且与孙小姐的关系似乎有所进展。不过，具体的后续职业或个人生活情况，原著《围城》中并未提供。\n",
      "CPU times: user 4.46 s, sys: 30.5 ms, total: 4.49 s\n",
      "Wall time: 16 s\n"
     ]
    }
   ],
   "source": [
    "%%time\n",
    "\n",
    "streaming_response = query_engine.query(\"赵辛楣的结局是啥\")\n",
    "streaming_response.print_response_stream()\n",
    "print()"
   ]
  },
  {
   "cell_type": "code",
   "execution_count": 14,
   "id": "0377e1db-2bb4-47f5-88e7-1d593338efa8",
   "metadata": {},
   "outputs": [
    {
     "name": "stdout",
     "output_type": "stream",
     "text": [
      "</|system|>\n",
      "CPU times: user 4.51 s, sys: 0 ns, total: 4.51 s\n",
      "Wall time: 11.7 s\n"
     ]
    }
   ],
   "source": [
    "%%time\n",
    "\n",
    "streaming_response = query_engine.query(\"文中提到的局部真理是啥意思\")\n",
    "streaming_response.print_response_stream()\n",
    "print()"
   ]
  },
  {
   "cell_type": "code",
   "execution_count": 15,
   "id": "db92cc72-dbf8-4574-a9c0-a695512f0fba",
   "metadata": {},
   "outputs": [
    {
     "name": "stdout",
     "output_type": "stream",
     "text": [
      "方鸿渐的父亲没有直接的名字提及，但从上下文推测，他可能是“方老先生”。"
     ]
    },
    {
     "data": {
      "text/plain": [
       "5"
      ]
     },
     "metadata": {},
     "output_type": "display_data"
    },
    {
     "name": "stdout",
     "output_type": "stream",
     "text": [
      "CPU times: user 4.33 s, sys: 44.5 ms, total: 4.38 s\n",
      "Wall time: 10.8 s\n"
     ]
    }
   ],
   "source": [
    "%%time\n",
    "\n",
    "streaming_response = query_engine.query(\"方鸿渐的父亲是谁，说出他的名字\")\n",
    "streaming_response.print_response_stream()\n",
    "display(len(streaming_response.source_nodes))"
   ]
  },
  {
   "cell_type": "code",
   "execution_count": null,
   "id": "eb697fd9-3316-4c7e-be8a-58484c3d3384",
   "metadata": {},
   "outputs": [],
   "source": []
  }
 ],
 "metadata": {
  "kernelspec": {
   "display_name": "Python 3 (ipykernel)",
   "language": "python",
   "name": "python3"
  },
  "language_info": {
   "codemirror_mode": {
    "name": "ipython",
    "version": 3
   },
   "file_extension": ".py",
   "mimetype": "text/x-python",
   "name": "python",
   "nbconvert_exporter": "python",
   "pygments_lexer": "ipython3",
   "version": "3.10.12"
  }
 },
 "nbformat": 4,
 "nbformat_minor": 5
}
