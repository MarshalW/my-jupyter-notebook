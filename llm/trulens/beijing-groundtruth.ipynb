{
 "cells": [
  {
   "cell_type": "markdown",
   "id": "59bfc84b-336c-46b7-98ad-bc7310793781",
   "metadata": {},
   "source": [
    "# 真实值评估的示例，北京旅游"
   ]
  },
  {
   "cell_type": "markdown",
   "id": "81ba1997-d91d-4762-9181-a76fac0fdb6e",
   "metadata": {},
   "source": [
    "https://github.com/truera/trulens/blob/main/trulens_eval/examples/expositional/frameworks/llama_index/llama_index_groundtruth.ipynb\n",
    "\n",
    "初步结论：\n",
    "\n",
    "- 可以跑通api\n",
    "- 没有得到想要的结果，`ground truth` 等指标"
   ]
  },
  {
   "cell_type": "code",
   "execution_count": 1,
   "id": "f0633dab-fc7b-40f9-bac7-680b08e9099a",
   "metadata": {},
   "outputs": [
    {
     "name": "stdout",
     "output_type": "stream",
     "text": [
      "🦑 Tru initialized with db url sqlite:///default.sqlite .\n",
      "🛑 Secret keys may be written to the database. See the `database_redact_keys` option of `Tru` to prevent this.\n"
     ]
    }
   ],
   "source": [
    "from trulens_eval import Tru\n",
    "\n",
    "tru = Tru()\n",
    "tru.reset_database()"
   ]
  },
  {
   "cell_type": "code",
   "execution_count": 2,
   "id": "2bcd0071-0e5d-4cb5-a652-1adbf28891ff",
   "metadata": {},
   "outputs": [
    {
     "name": "stdout",
     "output_type": "stream",
     "text": [
      "CPU times: user 27.8 ms, sys: 0 ns, total: 27.8 ms\n",
      "Wall time: 27.2 ms\n"
     ]
    }
   ],
   "source": [
    "%%time\n",
    "\n",
    "from llama_index.core import Settings\n",
    "from llama_index.llms.openai_like import OpenAILike\n",
    "from llama_index.embeddings.ollama import OllamaEmbedding\n",
    "\n",
    "Settings.chunk_size = 128\n",
    "Settings.chunk_overlap = 16\n",
    "\n",
    "Settings.llm = OpenAILike(\n",
    "    model=\"qwen2\", \n",
    "    api_base=\"http://monkey:11434/v1\", \n",
    "    api_key=\"ollama\",\n",
    "    is_chat_model=True,\n",
    "    temperature=0.1,\n",
    "    request_timeout=60.0\n",
    ")\n",
    "\n",
    "Settings.embed_model =OllamaEmbedding(\n",
    "    model_name=\"quentinz/bge-large-zh-v1.5\",\n",
    "    base_url=\"http://monkey:11434\",\n",
    "    ollama_additional_kwargs={\"mirostat\": 0}, # -mirostat N 使用 Mirostat 采样。\n",
    ")"
   ]
  },
  {
   "cell_type": "code",
   "execution_count": 3,
   "id": "9d06c798-78b5-4502-aad5-3893a5ee614b",
   "metadata": {},
   "outputs": [
    {
     "name": "stdout",
     "output_type": "stream",
     "text": [
      "CPU times: user 2.52 s, sys: 92.4 ms, total: 2.61 s\n",
      "Wall time: 48.8 s\n"
     ]
    }
   ],
   "source": [
    "%%time\n",
    "\n",
    "from llama_index.core import VectorStoreIndex\n",
    "from llama_index.readers.web import SimpleWebPageReader\n",
    "\n",
    "documents = SimpleWebPageReader(html_to_text=True).load_data(\n",
    "    [\"https://baike.baidu.com/item/%E9%A2%90%E5%92%8C%E5%9B%AD/63458\"]\n",
    ")\n",
    "index = VectorStoreIndex.from_documents(documents)\n",
    "\n",
    "query_engine = index.as_query_engine()"
   ]
  },
  {
   "cell_type": "code",
   "execution_count": 4,
   "id": "8ced75bc-b02c-4020-8818-2eac3f78cc21",
   "metadata": {},
   "outputs": [],
   "source": [
    "golden_set = [\n",
    "    {\n",
    "        \"query\": \"颐和园在哪里？\",\n",
    "        \"response\": \"颐和园位于北京市西郊海淀区新建宫门路19号。\",\n",
    "    },\n",
    "]"
   ]
  },
  {
   "cell_type": "code",
   "execution_count": 5,
   "id": "fe81e2b6-4607-4486-be95-4f9f99fbe221",
   "metadata": {},
   "outputs": [],
   "source": [
    "import os\n",
    "from trulens_eval.feedback.provider import OpenAI\n",
    "\n",
    "os.environ[\"OPENAI_API_KEY\"] = \"sk-bJP6QSnUfjAYeYeE505d3eBf63A643BeB0B8E350Df9b7750\"\n",
    "os.environ[\"OPENAI_API_BASE\"] = \"https://ape:3000/v1\"\n",
    "provider = OpenAI(\n",
    "    model_engine=\"gpt-4-turbo\"\n",
    ")"
   ]
  },
  {
   "cell_type": "code",
   "execution_count": 6,
   "id": "e0a82293-645d-4591-a3c5-26dcb5309c6c",
   "metadata": {},
   "outputs": [
    {
     "name": "stdout",
     "output_type": "stream",
     "text": [
      "✅ In Ground Truth Eval, input prompt will be set to __record__.main_input or `Select.RecordInput` .\n",
      "✅ In Ground Truth Eval, input response will be set to __record__.main_output or `Select.RecordOutput` .\n"
     ]
    }
   ],
   "source": [
    "from trulens_eval import Feedback\n",
    "from trulens_eval.feedback import GroundTruthAgreement\n",
    "from trulens_eval.app import App\n",
    "\n",
    "f_groundtruth = Feedback(\n",
    "    GroundTruthAgreement(golden_set).agreement_measure, name=\"Ground Truth Eval\"\n",
    ").on_input_output()"
   ]
  },
  {
   "cell_type": "code",
   "execution_count": 7,
   "id": "ab2d363a-62ce-413b-87a2-0330bee422a0",
   "metadata": {},
   "outputs": [],
   "source": [
    "from trulens_eval import TruLlama\n",
    "\n",
    "tru_query_engine_recorder = TruLlama(\n",
    "    query_engine,\n",
    "    app_id=\"LlamaIndex_App1\",\n",
    "    feedbacks=[f_groundtruth],\n",
    ")"
   ]
  },
  {
   "cell_type": "code",
   "execution_count": 8,
   "id": "fbfa53e5-1dcc-4962-8c65-350a2da80651",
   "metadata": {},
   "outputs": [
    {
     "name": "stdout",
     "output_type": "stream",
     "text": [
      "颐和园位于北京市西郊海淀区新建宫门路19号。\n"
     ]
    }
   ],
   "source": [
    "import nltk\n",
    "nltk.set_proxy('http://myproxy:7890')\n",
    "\n",
    "# Run and evaluate on groundtruth questions\n",
    "for pair in golden_set:\n",
    "    with tru_query_engine_recorder as recording:\n",
    "        llm_response = query_engine.query(pair[\"query\"])\n",
    "        print(llm_response)"
   ]
  },
  {
   "cell_type": "code",
   "execution_count": 9,
   "id": "141384d1-e0bc-4fd4-9c51-555b3c811a29",
   "metadata": {},
   "outputs": [
    {
     "data": {
      "text/html": [
       "<div>\n",
       "<style scoped>\n",
       "    .dataframe tbody tr th:only-of-type {\n",
       "        vertical-align: middle;\n",
       "    }\n",
       "\n",
       "    .dataframe tbody tr th {\n",
       "        vertical-align: top;\n",
       "    }\n",
       "\n",
       "    .dataframe thead th {\n",
       "        text-align: right;\n",
       "    }\n",
       "</style>\n",
       "<table border=\"1\" class=\"dataframe\">\n",
       "  <thead>\n",
       "    <tr style=\"text-align: right;\">\n",
       "      <th></th>\n",
       "      <th>app_id</th>\n",
       "      <th>app_json</th>\n",
       "      <th>type</th>\n",
       "      <th>record_id</th>\n",
       "      <th>input</th>\n",
       "      <th>output</th>\n",
       "      <th>tags</th>\n",
       "      <th>record_json</th>\n",
       "      <th>cost_json</th>\n",
       "      <th>perf_json</th>\n",
       "      <th>ts</th>\n",
       "      <th>latency</th>\n",
       "      <th>total_tokens</th>\n",
       "      <th>total_cost</th>\n",
       "    </tr>\n",
       "  </thead>\n",
       "  <tbody>\n",
       "    <tr>\n",
       "      <th>0</th>\n",
       "      <td>LlamaIndex_App1</td>\n",
       "      <td>{\"tru_class_info\": {\"name\": \"TruLlama\", \"modul...</td>\n",
       "      <td>RetrieverQueryEngine(llama_index.core.query_en...</td>\n",
       "      <td>record_hash_4d1204bf76a84aeac8fa04814c8aef8c</td>\n",
       "      <td>\"\\u9890\\u548c\\u56ed\\u5728\\u54ea\\u91cc\\uff1f\"</td>\n",
       "      <td>\"\\u9890\\u548c\\u56ed\\u4f4d\\u4e8e\\u5317\\u4eac\\u5...</td>\n",
       "      <td>-</td>\n",
       "      <td>{\"record_id\": \"record_hash_4d1204bf76a84aeac8f...</td>\n",
       "      <td>{\"n_requests\": 1, \"n_successful_requests\": 1, ...</td>\n",
       "      <td>{\"start_time\": \"2024-08-06T11:17:54.924637\", \"...</td>\n",
       "      <td>2024-08-06T11:17:58.804649</td>\n",
       "      <td>3</td>\n",
       "      <td>358</td>\n",
       "      <td>0.0</td>\n",
       "    </tr>\n",
       "  </tbody>\n",
       "</table>\n",
       "</div>"
      ],
      "text/plain": [
       "            app_id                                           app_json  \\\n",
       "0  LlamaIndex_App1  {\"tru_class_info\": {\"name\": \"TruLlama\", \"modul...   \n",
       "\n",
       "                                                type  \\\n",
       "0  RetrieverQueryEngine(llama_index.core.query_en...   \n",
       "\n",
       "                                      record_id  \\\n",
       "0  record_hash_4d1204bf76a84aeac8fa04814c8aef8c   \n",
       "\n",
       "                                          input  \\\n",
       "0  \"\\u9890\\u548c\\u56ed\\u5728\\u54ea\\u91cc\\uff1f\"   \n",
       "\n",
       "                                              output tags  \\\n",
       "0  \"\\u9890\\u548c\\u56ed\\u4f4d\\u4e8e\\u5317\\u4eac\\u5...    -   \n",
       "\n",
       "                                         record_json  \\\n",
       "0  {\"record_id\": \"record_hash_4d1204bf76a84aeac8f...   \n",
       "\n",
       "                                           cost_json  \\\n",
       "0  {\"n_requests\": 1, \"n_successful_requests\": 1, ...   \n",
       "\n",
       "                                           perf_json  \\\n",
       "0  {\"start_time\": \"2024-08-06T11:17:54.924637\", \"...   \n",
       "\n",
       "                           ts  latency  total_tokens  total_cost  \n",
       "0  2024-08-06T11:17:58.804649        3           358         0.0  "
      ]
     },
     "execution_count": 9,
     "metadata": {},
     "output_type": "execute_result"
    }
   ],
   "source": [
    "records, feedback = tru.get_records_and_feedback(\n",
    "    app_ids=[]\n",
    ")  # pass an empty list of app_ids to get all\n",
    "records.head()"
   ]
  },
  {
   "cell_type": "code",
   "execution_count": 10,
   "id": "9d192d86-386a-4947-a4ca-8da25328be81",
   "metadata": {},
   "outputs": [
    {
     "data": {
      "text/plain": [
       "'LlamaIndex_App1'"
      ]
     },
     "execution_count": 10,
     "metadata": {},
     "output_type": "execute_result"
    }
   ],
   "source": [
    "tru_query_engine_recorder.app_id"
   ]
  },
  {
   "cell_type": "code",
   "execution_count": 11,
   "id": "56d45678-0c5f-40cf-9a49-281a459adca9",
   "metadata": {},
   "outputs": [
    {
     "data": {
      "text/html": [
       "<div>\n",
       "<style scoped>\n",
       "    .dataframe tbody tr th:only-of-type {\n",
       "        vertical-align: middle;\n",
       "    }\n",
       "\n",
       "    .dataframe tbody tr th {\n",
       "        vertical-align: top;\n",
       "    }\n",
       "\n",
       "    .dataframe thead th {\n",
       "        text-align: right;\n",
       "    }\n",
       "</style>\n",
       "<table border=\"1\" class=\"dataframe\">\n",
       "  <thead>\n",
       "    <tr style=\"text-align: right;\">\n",
       "      <th></th>\n",
       "      <th>latency</th>\n",
       "      <th>total_cost</th>\n",
       "    </tr>\n",
       "    <tr>\n",
       "      <th>app_id</th>\n",
       "      <th></th>\n",
       "      <th></th>\n",
       "    </tr>\n",
       "  </thead>\n",
       "  <tbody>\n",
       "    <tr>\n",
       "      <th>LlamaIndex_App1</th>\n",
       "      <td>3.0</td>\n",
       "      <td>0.0</td>\n",
       "    </tr>\n",
       "  </tbody>\n",
       "</table>\n",
       "</div>"
      ],
      "text/plain": [
       "                 latency  total_cost\n",
       "app_id                              \n",
       "LlamaIndex_App1      3.0         0.0"
      ]
     },
     "execution_count": 11,
     "metadata": {},
     "output_type": "execute_result"
    }
   ],
   "source": [
    "tru.get_leaderboard(app_ids=[tru_query_engine_recorder.app_id])"
   ]
  },
  {
   "cell_type": "code",
   "execution_count": null,
   "id": "06a3f3bb-59cc-4f2f-a5d5-ec1ed6b5a311",
   "metadata": {},
   "outputs": [],
   "source": []
  }
 ],
 "metadata": {
  "kernelspec": {
   "display_name": "Python 3 (ipykernel)",
   "language": "python",
   "name": "python3"
  },
  "language_info": {
   "codemirror_mode": {
    "name": "ipython",
    "version": 3
   },
   "file_extension": ".py",
   "mimetype": "text/x-python",
   "name": "python",
   "nbconvert_exporter": "python",
   "pygments_lexer": "ipython3",
   "version": "3.10.12"
  }
 },
 "nbformat": 4,
 "nbformat_minor": 5
}
