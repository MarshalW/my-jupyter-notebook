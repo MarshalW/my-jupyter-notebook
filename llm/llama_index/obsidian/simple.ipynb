{
 "cells": [
  {
   "cell_type": "markdown",
   "id": "b29aaa92-d39a-487b-95a3-9a3a360f26ac",
   "metadata": {},
   "source": [
    "# 加载和查询 Obsidian 笔记"
   ]
  },
  {
   "cell_type": "markdown",
   "id": "16c02e91-cd8e-4ec6-b3c6-e66e192f4356",
   "metadata": {},
   "source": [
    "结论：\n",
    "\n",
    "- 能查，看起来准确性没问题\n",
    "- 不能回溯到具体的文档\n",
    "- 加载时已经做了分割，而不是按照文档为单位"
   ]
  },
  {
   "cell_type": "markdown",
   "id": "9a09a20a-e39b-416d-a6fc-ccc92dbec94c",
   "metadata": {},
   "source": [
    "## 全局设置"
   ]
  },
  {
   "cell_type": "code",
   "execution_count": 1,
   "id": "9bd1885b-3e0f-4f2e-935a-1854ce0b5caf",
   "metadata": {},
   "outputs": [
    {
     "name": "stdout",
     "output_type": "stream",
     "text": [
      "CPU times: user 2.15 s, sys: 232 ms, total: 2.38 s\n",
      "Wall time: 2 s\n"
     ]
    }
   ],
   "source": [
    "%%time\n",
    "\n",
    "from llama_index.core import Settings\n",
    "from llama_index.llms.ollama import Ollama\n",
    "from llama_index.embeddings.ollama import OllamaEmbedding\n",
    "\n",
    "Settings.llm=Ollama(\n",
    "    base_url=\"http://ape:11434\",\n",
    "    model=\"qwen2\",\n",
    "    is_chat_model=True,\n",
    "    temperature=0.1,\n",
    "    request_timeout=60.0\n",
    ")\n",
    "\n",
    "Settings.embed_model = OllamaEmbedding(\n",
    "    model_name=\"quentinz/bge-large-zh-v1.5\",\n",
    "    base_url=\"http://ape:11434\",\n",
    "    ollama_additional_kwargs={\"mirostat\": 0}, # -mirostat N 使用 Mirostat 采样。\n",
    ")"
   ]
  },
  {
   "cell_type": "code",
   "execution_count": 2,
   "id": "a6332808-6ae7-4967-b260-b88cee5e77a8",
   "metadata": {},
   "outputs": [
    {
     "name": "stdout",
     "output_type": "stream",
     "text": [
      "CPU times: user 8.53 ms, sys: 8.02 ms, total: 16.6 ms\n",
      "Wall time: 1.93 s\n"
     ]
    }
   ],
   "source": [
    "%%time\n",
    "%%capture\n",
    "\n",
    "!pip install llama_index.readers.obsidian"
   ]
  },
  {
   "cell_type": "markdown",
   "id": "623d089e-54a9-4b60-8122-8f19a9b75dff",
   "metadata": {},
   "source": [
    "## 加载数据"
   ]
  },
  {
   "cell_type": "code",
   "execution_count": 3,
   "id": "a1ab36ba-126f-42f7-b528-185aeea58aa5",
   "metadata": {},
   "outputs": [
    {
     "name": "stdout",
     "output_type": "stream",
     "text": [
      "CPU times: user 157 ms, sys: 15.2 ms, total: 172 ms\n",
      "Wall time: 173 ms\n"
     ]
    }
   ],
   "source": [
    "%%time\n",
    "\n",
    "from llama_index.readers.obsidian import ObsidianReader\n",
    "\n",
    "\n",
    "documents = ObsidianReader(\n",
    "    \"/models/obsidian/kb/知识库\"\n",
    ").load_data() "
   ]
  },
  {
   "cell_type": "code",
   "execution_count": 4,
   "id": "fa589a11-f216-4b77-a42a-8c493b49e0e5",
   "metadata": {},
   "outputs": [
    {
     "data": {
      "text/plain": [
       "21"
      ]
     },
     "execution_count": 4,
     "metadata": {},
     "output_type": "execute_result"
    }
   ],
   "source": [
    "len(documents)"
   ]
  },
  {
   "cell_type": "markdown",
   "id": "574349c4-09e9-400b-9816-4efe51293162",
   "metadata": {},
   "source": [
    "## 创建索引"
   ]
  },
  {
   "cell_type": "code",
   "execution_count": 5,
   "id": "867ce139-dcbd-4ffd-ba6d-78f194460f91",
   "metadata": {},
   "outputs": [
    {
     "name": "stdout",
     "output_type": "stream",
     "text": [
      "CPU times: user 247 ms, sys: 41.4 ms, total: 289 ms\n",
      "Wall time: 3.26 s\n"
     ]
    }
   ],
   "source": [
    "%%time\n",
    "\n",
    "from llama_index.core import VectorStoreIndex\n",
    "\n",
    "index = VectorStoreIndex.from_documents(\n",
    "    documents\n",
    ")"
   ]
  },
  {
   "cell_type": "markdown",
   "id": "ba094023-b446-458c-99ef-e44a4960b588",
   "metadata": {},
   "source": [
    "## 查询"
   ]
  },
  {
   "cell_type": "code",
   "execution_count": 6,
   "id": "97bb8440-6757-4bc4-8a94-df71d33cbd62",
   "metadata": {},
   "outputs": [
    {
     "name": "stdout",
     "output_type": "stream",
     "text": [
      "docker 容器在后台执行的命令通常使用 `docker run` 命令，并通过添加 `-d` 参数来指定。根据提供的上下文信息，以下是在后台执行的命令示例：\n",
      "\n",
      "1. 使用基础命令行方式：\n",
      "   ```bash\n",
      "   docker run -d -t --rm bash\n",
      "   ```\n",
      "   \n",
      "2. 在 Docker Compose 文件中定义服务时：\n",
      "   ```yaml\n",
      "   services:\n",
      "     bash:\n",
      "       container_name: bash\n",
      "       image: bash:latest\n",
      "       tty: true\n",
      "   ```\n",
      "\n",
      "3. 使用 `docker-compose.yaml` 文件启动容器时，可以指定用户 UID 和组 ID 以及其他配置选项。例如：\n",
      "\n",
      "   ```bash\n",
      "   CURRENT_UID=$(id -u):$(id -g) docker-compose up -d\n",
      "   ```\n",
      "   \n",
      "   这里使用了 `CURRENT_UID` 变量来启动容器，并通过 `-d` 参数在后台运行。\n",
      "\n",
      "这些命令和配置都是为了在 Docker 容器中执行指定的命令或服务，且通常会设置一些额外参数以满足特定需求。CPU times: user 251 ms, sys: 33.8 ms, total: 285 ms\n",
      "Wall time: 6.42 s\n"
     ]
    }
   ],
   "source": [
    "%%time\n",
    "\n",
    "query_engine = index.as_query_engine(\n",
    "    streaming=True\n",
    ")\n",
    "streaming_response = query_engine.query(\"docker容器在后台执行的命令\")\n",
    "streaming_response.print_response_stream()"
   ]
  },
  {
   "cell_type": "code",
   "execution_count": 7,
   "id": "9383a581-6751-46c0-bf65-2b8ca45063bb",
   "metadata": {},
   "outputs": [
    {
     "name": "stdout",
     "output_type": "stream",
     "text": [
      "要重启Docker，可以使用以下命令：\n",
      "```properties\n",
      "sudo systemctl daemon-reload && sudo systemctl restart docker\n",
      "```CPU times: user 72.7 ms, sys: 7.54 ms, total: 80.3 ms\n",
      "Wall time: 862 ms\n"
     ]
    }
   ],
   "source": [
    "%%time\n",
    "\n",
    "streaming_response = query_engine.query(\"重启docker的命令\")\n",
    "streaming_response.print_response_stream()"
   ]
  },
  {
   "cell_type": "code",
   "execution_count": 8,
   "id": "c0f66c6b-c285-417c-9cc7-725c88f09c55",
   "metadata": {},
   "outputs": [
    {
     "name": "stdout",
     "output_type": "stream",
     "text": [
      "要注册微信小程序，请按照以下步骤操作：\n",
      "\n",
      "1. 访问微信小程序的注册地址：[https://mp.weixin.qq.com/](https://mp.weixin.qq.com/)。\n",
      "2. 创建一个单独的邮箱，并使用这个邮箱进行注册。在注册过程中，可能需要通过验证邮件来确认邮箱的有效性。\n",
      "3. 完成微信小程序的基本信息填写和审核流程。\n",
      "\n",
      "请注意，在完成上述步骤后，您还需要安装“微信开发者工具”，创建原型项目，并进行原生小程序开发。CPU times: user 155 ms, sys: 12.3 ms, total: 167 ms\n",
      "Wall time: 2.35 s\n"
     ]
    }
   ],
   "source": [
    "%%time\n",
    "\n",
    "streaming_response = query_engine.query(\"怎么注册微信小程序\")\n",
    "streaming_response.print_response_stream()"
   ]
  },
  {
   "cell_type": "code",
   "execution_count": 9,
   "id": "dda91eef-70d4-458b-9a4a-fcd9ca3081a9",
   "metadata": {},
   "outputs": [
    {
     "name": "stdout",
     "output_type": "stream",
     "text": [
      "进行原生小程序开发有以下两种方式：\n",
      "\n",
      "1. **基于小程序原生API和组件API实现项目**：\n",
      "   - 这是最直接的方法，直接使用原生API来开发应用。\n",
      "   - 性能表现最佳，因为是直接利用底层的原生能力。\n",
      "   - 但这种方法不适用于开发复杂的应用，也不利于代码复用。\n",
      "\n",
      "2. **使用第三方开发框架**（例如Taro等）：\n",
      "   - 这种方式最终会将代码编译为小程序的原生形式。\n",
      "   - 性能可能不如直接使用原生API，因为需要通过框架进行转换。\n",
      "   - 优点是有利于代码复用，比如可以将同一份代码用于开发支付宝小程序等其他平台的应用。\n",
      "   - 另外，使用第三方框架有助于自动化开发和部署过程。CPU times: user 201 ms, sys: 24.7 ms, total: 226 ms\n",
      "Wall time: 3.74 s\n"
     ]
    }
   ],
   "source": [
    "%%time\n",
    "\n",
    "streaming_response = query_engine.query(\"原生小程序怎么开发\")\n",
    "streaming_response.print_response_stream()"
   ]
  },
  {
   "cell_type": "code",
   "execution_count": 10,
   "id": "881baebb-67d7-4091-abbc-6ee59b2ebfd7",
   "metadata": {},
   "outputs": [
    {
     "data": {
      "text/plain": [
       "StreamingResponse(response_gen=<generator object stream_chat_response_to_tokens.<locals>.gen at 0x7f48a5068970>, source_nodes=[NodeWithScore(node=TextNode(id_='6df3656c-c87e-49bf-853c-973173a82151', embedding=None, metadata={}, excluded_embed_metadata_keys=[], excluded_llm_metadata_keys=[], relationships={<NodeRelationship.SOURCE: '1'>: RelatedNodeInfo(node_id='f58d6f6b-2ba0-4745-bb8d-5fb6b9c02c00', node_type=<ObjectType.DOCUMENT: '4'>, metadata={}, hash='ea4b00b3713acc970aa70f64a0682042db72fc3a3218bdba61bcb1e949bc1c95')}, text='主要步骤\\n\\n- 注册微信小程序\\n- 安装 “微信开发者工具”\\n- 在 “微信开发者工具” 中创建原型项目\\n- 进行原生小程序开发', mimetype='text/plain', start_char_idx=2, end_char_idx=66, text_template='{metadata_str}\\n\\n{content}', metadata_template='{key}: {value}', metadata_seperator='\\n'), score=0.7927414393375357), NodeWithScore(node=TextNode(id_='19e4a003-457f-4e4b-8616-8f90ef73efa0', embedding=None, metadata={}, excluded_embed_metadata_keys=[], excluded_llm_metadata_keys=[], relationships={<NodeRelationship.SOURCE: '1'>: RelatedNodeInfo(node_id='2bf10967-d7a5-4ed5-b3ff-1a0580b28eed', node_type=<ObjectType.DOCUMENT: '4'>, metadata={}, hash='4e4533e0557f84e65ae698f9e69e5c2d88e2388689ef47dc6d2cd542b6b4dcf2')}, text='进行原生小程序开发\\n\\n小程序有2种开发方式：\\n\\n- 基于小程序原生api和组件api实现项目，这是最简单的实现方式\\n\\t- 直接用原生api，性能最好\\n\\t- 不利于开发复杂应用\\n\\t- 不利于复用\\n- 使用第三方开发框架，比如 taro 等，\\n\\t- 最终也会将代码编译为小程序原生形式\\n\\t- 性能不如直接用原生api\\n\\t- 利于复用，比如编译为支付宝小程序等\\n\\t- 利于开发部署过程的自动化', mimetype='text/plain', start_char_idx=2, end_char_idx=195, text_template='{metadata_str}\\n\\n{content}', metadata_template='{key}: {value}', metadata_seperator='\\n'), score=0.785804939449195)], metadata={'6df3656c-c87e-49bf-853c-973173a82151': {}, '19e4a003-457f-4e4b-8616-8f90ef73efa0': {}}, response_txt='进行原生小程序开发有以下两种方式：\\n\\n1. **基于小程序原生API和组件API实现项目**：\\n   - 这是最直接的方法，直接使用原生API来开发应用。\\n   - 性能表现最佳，因为是直接利用底层的原生能力。\\n   - 但这种方法不适用于开发复杂的应用，也不利于代码复用。\\n\\n2. **使用第三方开发框架**（例如Taro等）：\\n   - 这种方式最终会将代码编译为小程序的原生形式。\\n   - 性能可能不如直接使用原生API，因为需要通过框架进行转换。\\n   - 优点是有利于代码复用，比如可以将同一份代码用于开发支付宝小程序等其他平台的应用。\\n   - 另外，使用第三方框架有助于自动化开发和部署过程。')"
      ]
     },
     "execution_count": 10,
     "metadata": {},
     "output_type": "execute_result"
    }
   ],
   "source": [
    "streaming_response"
   ]
  },
  {
   "cell_type": "code",
   "execution_count": 11,
   "id": "1ccb93ca-7c43-4b0c-b25f-06e92855f577",
   "metadata": {},
   "outputs": [
    {
     "data": {
      "text/plain": [
       "2"
      ]
     },
     "execution_count": 11,
     "metadata": {},
     "output_type": "execute_result"
    }
   ],
   "source": [
    "len(streaming_response.source_nodes)"
   ]
  },
  {
   "cell_type": "code",
   "execution_count": 12,
   "id": "ef2a4fe3-f46d-44be-b6ef-17bb8e0132ba",
   "metadata": {},
   "outputs": [
    {
     "data": {
      "text/plain": [
       "NodeWithScore(node=TextNode(id_='6df3656c-c87e-49bf-853c-973173a82151', embedding=None, metadata={}, excluded_embed_metadata_keys=[], excluded_llm_metadata_keys=[], relationships={<NodeRelationship.SOURCE: '1'>: RelatedNodeInfo(node_id='f58d6f6b-2ba0-4745-bb8d-5fb6b9c02c00', node_type=<ObjectType.DOCUMENT: '4'>, metadata={}, hash='ea4b00b3713acc970aa70f64a0682042db72fc3a3218bdba61bcb1e949bc1c95')}, text='主要步骤\\n\\n- 注册微信小程序\\n- 安装 “微信开发者工具”\\n- 在 “微信开发者工具” 中创建原型项目\\n- 进行原生小程序开发', mimetype='text/plain', start_char_idx=2, end_char_idx=66, text_template='{metadata_str}\\n\\n{content}', metadata_template='{key}: {value}', metadata_seperator='\\n'), score=0.7927414393375357)"
      ]
     },
     "execution_count": 12,
     "metadata": {},
     "output_type": "execute_result"
    }
   ],
   "source": [
    "streaming_response.source_nodes[0]"
   ]
  },
  {
   "cell_type": "code",
   "execution_count": 13,
   "id": "2c1ea8da-5460-4a25-a11c-d6994eecf603",
   "metadata": {},
   "outputs": [
    {
     "data": {
      "text/plain": [
       "NodeWithScore(node=TextNode(id_='19e4a003-457f-4e4b-8616-8f90ef73efa0', embedding=None, metadata={}, excluded_embed_metadata_keys=[], excluded_llm_metadata_keys=[], relationships={<NodeRelationship.SOURCE: '1'>: RelatedNodeInfo(node_id='2bf10967-d7a5-4ed5-b3ff-1a0580b28eed', node_type=<ObjectType.DOCUMENT: '4'>, metadata={}, hash='4e4533e0557f84e65ae698f9e69e5c2d88e2388689ef47dc6d2cd542b6b4dcf2')}, text='进行原生小程序开发\\n\\n小程序有2种开发方式：\\n\\n- 基于小程序原生api和组件api实现项目，这是最简单的实现方式\\n\\t- 直接用原生api，性能最好\\n\\t- 不利于开发复杂应用\\n\\t- 不利于复用\\n- 使用第三方开发框架，比如 taro 等，\\n\\t- 最终也会将代码编译为小程序原生形式\\n\\t- 性能不如直接用原生api\\n\\t- 利于复用，比如编译为支付宝小程序等\\n\\t- 利于开发部署过程的自动化', mimetype='text/plain', start_char_idx=2, end_char_idx=195, text_template='{metadata_str}\\n\\n{content}', metadata_template='{key}: {value}', metadata_seperator='\\n'), score=0.785804939449195)"
      ]
     },
     "execution_count": 13,
     "metadata": {},
     "output_type": "execute_result"
    }
   ],
   "source": [
    "streaming_response.source_nodes[1]"
   ]
  },
  {
   "cell_type": "code",
   "execution_count": 17,
   "id": "d1fcee34-44d3-495f-a8f3-c06ca6b9c5b8",
   "metadata": {},
   "outputs": [
    {
     "data": {
      "text/plain": [
       "Document(id_='de3f2c28-3ce1-48fa-aef0-052b96db228a', embedding=None, metadata={}, excluded_embed_metadata_keys=[], excluded_llm_metadata_keys=[], relationships={}, text='\\n\\ndocker container proxy\\n\\n参见：https://docs.docker.com/network/proxy/\\n\\n编辑：`~/.docker/config.json`\\n\\n```json\\n{\\n  \"proxies\": {\\n    \"default\": {\\n      \"httpProxy\": \"http://10.1.1.100:8118\",\\n      \"httpsProxy\": \"http://10.1.1.100:8118\",\\n      \"noProxy\": \"localhost,*.test.example.com,.example2.com\"\\n    }\\n  }\\n}  \\n```\\n', mimetype='text/plain', start_char_idx=None, end_char_idx=None, text_template='{metadata_str}\\n\\n{content}', metadata_template='{key}: {value}', metadata_seperator='\\n')"
      ]
     },
     "execution_count": 17,
     "metadata": {},
     "output_type": "execute_result"
    }
   ],
   "source": [
    "documents[3]"
   ]
  },
  {
   "cell_type": "code",
   "execution_count": null,
   "id": "1afd05ff-9bde-43de-8cbe-8f807bbc368c",
   "metadata": {},
   "outputs": [],
   "source": []
  }
 ],
 "metadata": {
  "kernelspec": {
   "display_name": "Python 3 (ipykernel)",
   "language": "python",
   "name": "python3"
  },
  "language_info": {
   "codemirror_mode": {
    "name": "ipython",
    "version": 3
   },
   "file_extension": ".py",
   "mimetype": "text/x-python",
   "name": "python",
   "nbconvert_exporter": "python",
   "pygments_lexer": "ipython3",
   "version": "3.10.12"
  }
 },
 "nbformat": 4,
 "nbformat_minor": 5
}
