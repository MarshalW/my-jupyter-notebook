{
 "cells": [
  {
   "cell_type": "markdown",
   "id": "f24e9331-6d00-407b-babe-35dd1e6972fa",
   "metadata": {},
   "source": [
    "# 智谱 AI\n",
    "\n",
    "需要先安装：\n",
    "\n",
    "```bash\n",
    "pip install zhipuai\n",
    "```\n",
    "\n",
    "实现一个最简单的问答功能："
   ]
  },
  {
   "cell_type": "code",
   "execution_count": 3,
   "id": "b0157e60-5be8-4d48-a48a-fb735d2e873a",
   "metadata": {},
   "outputs": [
    {
     "name": "stdout",
     "output_type": "stream",
     "text": [
      " 在与中介签订租房合同之前，需要注意以下几点：\n",
      "\n",
      "1. 验证中介资质：确保中介具备相应资质，如营业执照、房产中介许可证等，以避免遇到非法中介。\n",
      "\n",
      "2. 了解租房合同条款：在签订合同前，务必认真阅读合同条款，了解租赁期限、租金、押金、违约责任等方面的内容，确保自己的权益。\n",
      "\n",
      "3. 确认房屋信息：核实房屋地址、面积、户型、朝向、楼层、装修情况等，确保与实际情况相符。\n",
      "\n",
      "4. 费用明细：了解中介费、服务费、押金、租金等费用，并确认支付方式和时间节点。\n",
      "\n",
      "5. 维修责任：明确房屋设施设备的维修责任，如水电设施、家具家电等，了解维修费用承担方式。\n",
      "\n",
      "6. 转租和退租：了解转租和退租的条件、流程及费用，确保自己的权益。\n",
      "\n",
      "7. 押金退还：了解押金退还规定，确保在租赁期满或提前解约时，能够顺利退还押金。\n",
      "\n",
      "8. 合同解除：了解双方在合同解除方面的权利和义务，确保在出现纠纷时能够依法解决。\n",
      "\n",
      "9. 证据保全：妥善保管合同、收据等文件，以便在出现纠纷时作为证据使用。\n",
      "\n",
      "10. 防范霸王条款：避免签订含有霸王条款的合同，如中介单方面解除合同、随意涨租等不平等条款。\n",
      "\n",
      "在签订租房合同时，务必保持警惕，确保自己的权益不受损害。如有疑问，可寻求专业法律人士帮助。\n",
      "\n",
      "{\"task_status\":\"SUCCESS\",\"usage\":{\"completion_tokens\":343,\"prompt_tokens\":260,\"total_tokens\":603},\"task_id\":\"8055401619716677592\",\"request_id\":\"8055401619716677592\"}"
     ]
    }
   ],
   "source": [
    "# %load_ext dotenv\n",
    "# %dotenv\n",
    "%reload_ext dotenv\n",
    "\n",
    "import zhipuai\n",
    "import os\n",
    "\n",
    "zhipuai.api_key = os.environ['API_KEY']\n",
    "response = zhipuai.model_api.sse_invoke(\n",
    "    model=\"chatglm_pro\",\n",
    "    prompt= [{\"role\":\"user\",\"content\":\"租房子前与中介签订租房合同，需要注意哪些事情？\"}],\n",
    "    temperature= 0.9,\n",
    "    top_p= 0.7,\n",
    "    incremental=True\n",
    ")\n",
    "\n",
    "for event in response.events():\n",
    "    if event.event == \"add\":\n",
    "        print(event.data, end=\"\")\n",
    "    elif event.event == \"error\" or event.event == \"interrupted\":\n",
    "        print(event.data, end=\"\")\n",
    "    elif event.event == \"finish\":\n",
    "        print(event.data)\n",
    "        print()\n",
    "        print(event.meta, end=\"\")\n",
    "    else:\n",
    "        print(event.data, end=\"\")"
   ]
  },
  {
   "cell_type": "code",
   "execution_count": null,
   "id": "a9ae48fe-0a66-480b-9d4e-5db3c4d43206",
   "metadata": {},
   "outputs": [],
   "source": []
  }
 ],
 "metadata": {
  "kernelspec": {
   "display_name": "Python 3 (ipykernel)",
   "language": "python",
   "name": "python3"
  },
  "language_info": {
   "codemirror_mode": {
    "name": "ipython",
    "version": 3
   },
   "file_extension": ".py",
   "mimetype": "text/x-python",
   "name": "python",
   "nbconvert_exporter": "python",
   "pygments_lexer": "ipython3",
   "version": "3.10.12"
  }
 },
 "nbformat": 4,
 "nbformat_minor": 5
}
