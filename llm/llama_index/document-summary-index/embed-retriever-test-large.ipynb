{
 "cells": [
  {
   "cell_type": "markdown",
   "id": "a12b28e1-365c-46e0-8c4a-6cc4739da59b",
   "metadata": {},
   "source": [
    "# 测试通过嵌入检索的成功率"
   ]
  },
  {
   "cell_type": "markdown",
   "id": "0c3d906f-4e4b-4426-8b72-8924d5820550",
   "metadata": {},
   "source": [
    "初步结论：\n",
    "\n",
    "- k=1时，只有56%，明显低于中文提示词的情况，后者是72%\n",
    "- k=2时，达到83%，又高于中文的情况\n",
    "- k=5时，依然是83%\n",
    "\n",
    "初始情况不如中文提示词，但是文档摘要中包括问答。\n",
    "\n",
    "整体看documentSummaryIndex，简单易用，但是效果一般，只能达到70%左右的检索召回率"
   ]
  },
  {
   "cell_type": "markdown",
   "id": "52e50f10-3f39-471b-87f9-d983167435cc",
   "metadata": {},
   "source": [
    "## 准备"
   ]
  },
  {
   "cell_type": "code",
   "execution_count": 1,
   "id": "59d05ce4-91f8-427a-a62a-a5739c799059",
   "metadata": {},
   "outputs": [
    {
     "name": "stdout",
     "output_type": "stream",
     "text": [
      "CPU times: user 2 µs, sys: 0 ns, total: 2 µs\n",
      "Wall time: 3.1 µs\n"
     ]
    }
   ],
   "source": [
    "%%time\n",
    "\n",
    "INDEX_PATH=\"retrieve-index2\"\n",
    "DATA_PATH=\"retrieve-data2\""
   ]
  },
  {
   "cell_type": "code",
   "execution_count": 2,
   "id": "54b8276e-b57d-4829-8028-d00cf84405a4",
   "metadata": {},
   "outputs": [
    {
     "name": "stdout",
     "output_type": "stream",
     "text": [
      "CPU times: user 6.43 ms, sys: 428 µs, total: 6.86 ms\n",
      "Wall time: 109 ms\n"
     ]
    }
   ],
   "source": [
    "%%time\n",
    "!rm -rf $INDEX_PATH"
   ]
  },
  {
   "cell_type": "code",
   "execution_count": 20,
   "id": "1c404852-c0c6-47f5-9d30-02e3f580a36a",
   "metadata": {},
   "outputs": [
    {
     "name": "stdout",
     "output_type": "stream",
     "text": [
      "CPU times: user 716 µs, sys: 10 µs, total: 726 µs\n",
      "Wall time: 689 µs\n"
     ]
    },
    {
     "data": {
      "text/plain": [
       "205"
      ]
     },
     "execution_count": 20,
     "metadata": {},
     "output_type": "execute_result"
    }
   ],
   "source": [
    "%%time\n",
    "\n",
    "# test_data=[\n",
    "#     {\n",
    "#         \"url\": \"https://www.guancha.cn/ZiZheng/2024_06_27_739401_s.shtml\",\n",
    "#         \"question\": \"和平共处五项原则为啥到现在还有重要意义？\"\n",
    "#     },\n",
    "#     {\n",
    "#         \"url\": \"https://www.guancha.cn/kegongliliang/2024_06_27_739408_s.shtml\",\n",
    "#         \"question\": \"丰鸟科技在内蒙古主场地的资产清点和撤出的具体原因是什么？\"\n",
    "#     },\n",
    "#     {\n",
    "#         \"url\": \"https://user.guancha.cn/main/content?id=1257033\",\n",
    "#         \"question\": \"电池工厂火灾的具体起因是什么？\"\n",
    "#     },\n",
    "# ]\n",
    "\n",
    "import json\n",
    "\n",
    "file_path = './news-data-from-shen.json'\n",
    "with open(file_path, 'r', encoding='utf-8') as file:\n",
    "    test_data = json.load(file)\n",
    "\n",
    "len(test_data)"
   ]
  },
  {
   "cell_type": "code",
   "execution_count": 4,
   "id": "166208d4-b60d-43db-be9e-d74f8e6bc99a",
   "metadata": {},
   "outputs": [],
   "source": [
    "import logging\n",
    "import sys\n",
    "\n",
    "logging.basicConfig(stream=sys.stdout, level=logging.DEBUG, force=True)"
   ]
  },
  {
   "cell_type": "code",
   "execution_count": 21,
   "id": "84c5a23e-cf3d-4b2c-b1ba-4899a446b27e",
   "metadata": {},
   "outputs": [
    {
     "name": "stdout",
     "output_type": "stream",
     "text": [
      "CPU times: user 9 µs, sys: 0 ns, total: 9 µs\n",
      "Wall time: 10.5 µs\n"
     ]
    }
   ],
   "source": [
    "%%time\n",
    "\n",
    "import requests\n",
    "from gne import GeneralNewsExtractor\n",
    "\n",
    "def get_news_data(url):\n",
    "\n",
    "    headers = {\n",
    "        'User-Agent': 'Mozilla/5.0 (Linux; Android 10; SM-G975F) AppleWebKit/537.36 (KHTML, like Gecko) Chrome/83.0.4103.106 Mobile Safari/537.36'\n",
    "    }\n",
    "    response = requests.get(url, headers=headers)\n",
    "\n",
    "    if 'finance.china.com.cn' in url:\n",
    "        response.encoding = 'utf-8'\n",
    "        \n",
    "    html = response.text\n",
    "\n",
    "    extractor = GeneralNewsExtractor()\n",
    "    data = extractor.extract(html, noise_node_list=[\n",
    "                               '//div[@class=\"comment-list\"]'])\n",
    "    data['url']=url\n",
    "    return data"
   ]
  },
  {
   "cell_type": "code",
   "execution_count": 22,
   "id": "5801562c-3e2f-4237-9171-2463e5b7c33a",
   "metadata": {},
   "outputs": [
    {
     "name": "stdout",
     "output_type": "stream",
     "text": [
      "CPU times: user 13.4 s, sys: 135 ms, total: 13.6 s\n",
      "Wall time: 51.7 s\n"
     ]
    }
   ],
   "source": [
    "%%time\n",
    "\n",
    "!rm -rf $DATA_PATH\n",
    "!mkdir -p $DATA_PATH\n",
    "\n",
    "import json\n",
    "\n",
    "for news in test_data:\n",
    "    data=get_news_data(news['url'])\n",
    "    data['url']=news['url']\n",
    "    file_path = f'./{DATA_PATH}/{data[\"title\"]}.json'\n",
    "    with open(file_path, 'w') as json_file:\n",
    "        json.dump(data, json_file, indent=4)"
   ]
  },
  {
   "cell_type": "code",
   "execution_count": 23,
   "id": "b2ace683-e6ee-4afd-bc8c-97cc5e710523",
   "metadata": {},
   "outputs": [
    {
     "name": "stdout",
     "output_type": "stream",
     "text": [
      "在 ./retrieve-data2 目录下有 200 个 .json 文件。\n",
      "CPU times: user 0 ns, sys: 1.92 ms, total: 1.92 ms\n",
      "Wall time: 1.56 ms\n"
     ]
    }
   ],
   "source": [
    "%%time\n",
    "\n",
    "import glob\n",
    "\n",
    "# 指定目录路径\n",
    "directory = f'./{DATA_PATH}'\n",
    "\n",
    "# 使用 glob 模块匹配所有的 .json 文件\n",
    "json_files = glob.glob(f\"{directory}/*.json\")\n",
    "\n",
    "# 输出文件数量\n",
    "print(f\"在 {directory} 目录下有 {len(json_files)} 个 .json 文件。\")\n"
   ]
  },
  {
   "cell_type": "code",
   "execution_count": 24,
   "id": "92294140-e970-4a2b-a866-98a5a3fa9d83",
   "metadata": {},
   "outputs": [
    {
     "name": "stdout",
     "output_type": "stream",
     "text": [
      "CPU times: user 2.45 s, sys: 257 ms, total: 2.71 s\n",
      "Wall time: 2.52 s\n"
     ]
    }
   ],
   "source": [
    "%%time\n",
    "\n",
    "from llama_index.core import(\n",
    "    Document\n",
    ")\n",
    "\n",
    "def data2doc(news_data):\n",
    "    document=Document(text=news_data['content'], \n",
    "                  metadata={\"title\": news_data['title'],\n",
    "                            'publish_time': news_data['publish_time'],\n",
    "                            'author': news_data['author'],\n",
    "                            'url': news_data['url'],\n",
    "                            'images': news_data['images'],\n",
    "                           })\n",
    "    document.doc_id = document.metadata[\"title\"]\n",
    "    return document"
   ]
  },
  {
   "cell_type": "code",
   "execution_count": 25,
   "id": "6d9554c0-23bc-477b-beb0-f4e5dc818fb1",
   "metadata": {},
   "outputs": [
    {
     "name": "stdout",
     "output_type": "stream",
     "text": [
      "CPU times: user 39.7 ms, sys: 57 µs, total: 39.7 ms\n",
      "Wall time: 3.08 s\n"
     ]
    }
   ],
   "source": [
    "%%time\n",
    "\n",
    "from llama_index.core import SimpleDirectoryReader\n",
    "\n",
    "documents=SimpleDirectoryReader(input_dir=f\"./{DATA_PATH}\").load_data(num_workers=4)\n",
    "for document in documents:\n",
    "    document.doc_id=document.metadata['file_name']"
   ]
  },
  {
   "cell_type": "code",
   "execution_count": 26,
   "id": "6a2323ab-0523-4938-b8e0-0b2af389445c",
   "metadata": {},
   "outputs": [
    {
     "name": "stdout",
     "output_type": "stream",
     "text": [
      "CPU times: user 12.3 ms, sys: 3.95 ms, total: 16.3 ms\n",
      "Wall time: 15.4 ms\n"
     ]
    },
    {
     "data": {
      "text/plain": [
       "200"
      ]
     },
     "execution_count": 26,
     "metadata": {},
     "output_type": "execute_result"
    }
   ],
   "source": [
    "%%time\n",
    "\n",
    "import json\n",
    "\n",
    "docs=[]\n",
    "for document in documents:\n",
    "    news_data=json.loads(document.text) # documents[0].text\n",
    "    docs.append(data2doc(news_data))\n",
    "\n",
    "documents=docs\n",
    "\n",
    "len(docs)"
   ]
  },
  {
   "cell_type": "code",
   "execution_count": 27,
   "id": "d9b84a89-9a56-40fb-b392-6d029182b6b9",
   "metadata": {},
   "outputs": [
    {
     "name": "stdout",
     "output_type": "stream",
     "text": [
      "CPU times: user 1.49 ms, sys: 24 µs, total: 1.52 ms\n",
      "Wall time: 1.25 ms\n"
     ]
    }
   ],
   "source": [
    "%%time\n",
    "\n",
    "import nest_asyncio\n",
    "nest_asyncio.apply()"
   ]
  },
  {
   "cell_type": "code",
   "execution_count": 28,
   "id": "5d3eec82-2a1f-4d7f-afe5-7950c2679253",
   "metadata": {},
   "outputs": [
    {
     "name": "stdout",
     "output_type": "stream",
     "text": [
      "CPU times: user 664 ms, sys: 28 ms, total: 692 ms\n",
      "Wall time: 692 ms\n"
     ]
    }
   ],
   "source": [
    "%%time\n",
    "\n",
    "# 加载llm和embeddings\n",
    "%run ../utils2.py\n",
    "\n",
    "from llama_index.core import Settings\n",
    "\n",
    "Settings.llm=get_llm()\n",
    "Settings.embed_model=get_embedding()"
   ]
  },
  {
   "cell_type": "code",
   "execution_count": 29,
   "id": "872783ce-cddd-46f1-abb3-b9fed052c6b5",
   "metadata": {},
   "outputs": [
    {
     "data": {
      "application/vnd.jupyter.widget-view+json": {
       "model_id": "50f2f9530b7b49e1a282d2808f3771fd",
       "version_major": 2,
       "version_minor": 0
      },
      "text/plain": [
       "Parsing nodes:   0%|          | 0/200 [00:00<?, ?it/s]"
      ]
     },
     "metadata": {},
     "output_type": "display_data"
    },
    {
     "data": {
      "application/vnd.jupyter.widget-view+json": {
       "model_id": "2954e03ae069422ab8e1f30846bd8b38",
       "version_major": 2,
       "version_minor": 0
      },
      "text/plain": [
       "Summarizing documents:   0%|          | 0/200 [00:00<?, ?it/s]"
      ]
     },
     "metadata": {},
     "output_type": "display_data"
    },
    {
     "name": "stdout",
     "output_type": "stream",
     "text": [
      "current doc id: 1至5月份规模以上工业企业利润保持增长\n",
      "current doc id: 2023年度审计工作报告发布：中央财政赤字4.16万亿元 与调整后预算持平\n",
      "current doc id: 2024世界人工智能大会将于7月4日开幕 这些亮点值得期待→\n",
      "current doc id: 2024年“礼赞共和国创造新生活”现代科技馆体系联合行动 “智慧未来”主题科普活动在湖南长沙举办\n",
      "current doc id: 7月1日起正式启动申报！2024年国家医保药品目录将迎来调整\n",
      "current doc id: OpenAI究竟在砸谁的饭碗？\n",
      "current doc id: OpenAI：推迟发布语音助手以保更佳处理用户要求\n",
      "current doc id: “1+N”政策体系推进建设高质量资本市场\n",
      "current doc id: “产能过剩”这道伪命题给经济学家整不会了\n",
      "current doc id: “人工智能+”带来新变化\n",
      "current doc id: “塞铁”跳反了？塞尔维亚“背刺”俄罗斯：承认已暗中向乌克兰提供8亿美元弹药！\n",
      "current doc id: “威胁马科斯执政”，杜特尔特父子三人明年将竞选菲律宾参议员\n",
      "current doc id: “季末回表” VS “存款搬家” 银行理财规模高增6月会否再现\n",
      "current doc id: “屏蔽生”又上热搜！打击高考分数炒作，光是令行禁止还远远不够【弓道是非】\n",
      "current doc id: “我真想从上海带两个机器人回去”——秘鲁总统点赞中国科技进步\n",
      "current doc id: “旅游补贴”？以谣言为低价游引流的吃相太难看\n",
      "current doc id: “类型片赛道拥挤难破局，《潜伏》深入人心后，再写假夫妻就很难”\n",
      "current doc id: “至少23人死亡”，肯尼亚总统让步：拒绝签署财政法案，退回议会重审\n",
      "current doc id: “防晒焦虑”背后隐藏什么？专家：过度防晒有害健康\n",
      "current doc id: 《光伏产业专利发展年度报告（2024）》发布 知识产权生态建设稳步向前\n",
      "current doc id: 【C财经】国家能源局：中国新能源产业不存在所谓的“产能过剩”问题\n",
      "current doc id: 【世界说】荒谬！美国枪支销售商成为“种族战争”煽动者\n",
      "current doc id: 【中国网评】弘扬和平共处五项原则，既是历史重托更是时代召唤\n",
      "current doc id: 【透视】美国作家游中国有感：中国在七大方面远超美国\n",
      "current doc id: 一个阿桑奇终于解脱，别个阿桑奇路在何方？【弓道是非】\n",
      "current doc id: 一周军评：菲律宾“后继乏力”，我们的考验又在哪里？\n",
      "current doc id: 七成受访青年肯定家乡发展对自己吸引力大\n",
      "current doc id: 不顾一切的脱钩：美国国会为何瞄准这家中国企业\n",
      "current doc id: 与中方通话后，匈牙利外长表态：将努力确保欧盟和中国之间不会发生关税战或贸易战\n",
      "current doc id: 专家呼吁将拔尖创新人才选拔培养扩大到职校\n",
      "current doc id: 专家提醒高考志愿填报不能过多指望人工智能\n",
      "current doc id: 个税年度汇算申报本月底截止\n",
      "current doc id: 中国发布丨全球经贸摩擦指数仍处高位、大阪世博会中国馆项目进度更新 中国贸促会最新发声\n",
      "current doc id: 中国没有过度举债，但亟需优化债务结构，好消息是：政策空间足够大\n",
      "current doc id: 中央气象台：长江中下游地区有持续性强降雨\n",
      "current doc id: 中欧科技合作“龙计划”六期正式启动\n",
      "current doc id: 中美在世界秩序中的角色互换定义了21世纪\n",
      "current doc id: 中越第36次北部湾联合巡逻圆满结束\n",
      "current doc id: 为知识付费还是被“割韭菜”？网红卖课乱象惹争议\n",
      "current doc id: 人民币对美元即期汇率上半年下跌2.45%，下半年如何走\n",
      "current doc id: 从牌照发放到准入上路试点——高阶智能驾驶进入快车道\n",
      "current doc id: 从管道式向制度型转变 金融高水平对外开放奏响发展强音\n",
      "current doc id: 低空经济加快基础设施“补短板”\n",
      "current doc id: 供销两旺碾碎“产能过剩”谎言——中国新能源车热销巴西的一线观察\n",
      "current doc id: 促基建引创投 多方加码智能网联汽车\n",
      "current doc id: 儿童高烧反复或为腺病毒感染 专家提醒：勿盲吃抗生素\n",
      "current doc id: 全力呵护孩子的眼睛\n",
      "current doc id: 全民反诈宣传月来了，怎样才能实现“天下无骗”？\n",
      "current doc id: 全球首列商用碳纤维地铁列车问世\n",
      "current doc id: 八子补肾治疗早衰循证研究在国际期刊《植物医学》发表\n",
      "current doc id: 公募基金持续降费让利 至少17只产品开启“二次降费”\n",
      "current doc id: 冬晓：娱乐大麻除罪化，是谁在为毒品洗白？\n",
      "current doc id: 冯超：普京访越，透视出的国家相处之道应该是什么？\n",
      "current doc id: 券商板块估值将持续修复 并购重组主线贯穿全年\n",
      "current doc id: 前5个月工业企业利润同比增长3.4%\n",
      "current doc id: 前五月网上零售额增长百分之十二点四\n",
      "current doc id: 加强网络法治建设　促进新技术新应用健康有序发展\n",
      "current doc id: 加拿大商界“中国通”：中国为跨国企业提供巨大机遇\n",
      "current doc id: 助力中国茶产业透明化进阶 小罐茶“敢保真”战略与“专利开源”计划发布\n",
      "current doc id: 北上广深楼市“新政”全部落地，影响几何？\n",
      "current doc id: 北京农商银行海淀支行与东升镇人民政府 签署全面战略合作协议\n",
      "current doc id: 北京首套房首付比例最低降至20%\n",
      "current doc id: 北方多地高温持续 河南、河北多措并举抗旱保夏播\n",
      "current doc id: 双突破！隆基两项目获 2023年度国家科学技术奖\n",
      "current doc id: 各地多举措加快推动工业设备更新\n",
      "current doc id: 同等学力博士毕业通过答辩拿不到学位？中国医科大学：需重审资格\n",
      "current doc id: 吴士存：南海历史集体记忆需要正本清源\n",
      "current doc id: 吴心伯：大趋势与小周期作用下的中美关系\n",
      "current doc id: 和评理｜保护主义给欧盟绿色转型蒙灰\n",
      "current doc id: 和评理｜吆喝盟友上“贼船”，美国推行芯片禁令阻碍重重\n",
      "current doc id: 和评理｜欧盟借俄乌冲突制裁中国企业，破坏中欧信任基石\n",
      "current doc id: 哥斯达黎加前总统顾问：欧盟推行保护主义只会适得其反\n",
      "current doc id: 商务部等9部门印发《2024年家政兴农行动工作方案》\n",
      "current doc id: 商务部：高度关注欧盟《外国补贴条例》相关做法对中国企业负面影响\n",
      "current doc id: 四大一线城市楼市新政全部落地 激发市场新活力\n",
      "current doc id: 四部门印发通知符合条件的设备更新贷款可享受财政贴息\n",
      "current doc id: 国产剧如何“破圈”海外：电视剧、演员都应该走出去\n",
      "current doc id: 国台办：1017万两岸民众参与厦金大桥“云端”建设 展现两岸一家亲\n",
      "current doc id: 国家医保局重构产科服务价格项目 助力构建生育友好型社会\n",
      "current doc id: 国家安全部：警惕网络社交媒体中的“猎密者”\n",
      "current doc id: 国家统计局：前5月全国规模以上工业企业利润增长3.4%\n",
      "current doc id: 国常会：一视同仁支持内外资企业参与大规模设备更新、政府采购和投资\n",
      "current doc id: 国海证券：打造差异化竞争优势，以高质量的金融服务做好“五篇大文章”\n",
      "current doc id: 国铁沈阳局暑运预计发送旅客4260万人次\n",
      "current doc id: 城市面貌更新 居住环境更优 城中村改造稳步推进\n",
      "current doc id: 基金半年考临近 重仓AI产品全面超车\n",
      "current doc id: 夏季达沃斯论坛｜人工智能、绿色转型、前沿创新——夏季达沃斯论坛上的中国经济“热词”\n",
      "current doc id: 夏季达沃斯论坛｜开放、共赢、未来——夏季达沃斯论坛传递三大信号\n",
      "current doc id: 外交部：敦促有关方面停止为反中乱港分子撑腰打气\n",
      "current doc id: 外交部：美国执意“以武助独”必将引火烧身 以失败告终\n",
      "current doc id: 多地加速打造外商投资新热土\n",
      "current doc id: 夯实高质量发展根基 推动制造业高端化、智能化、绿色化发展\n",
      "current doc id: 女清洁工被垃圾车撞倒掉进压缩箱下落不明，广东开平公布调查报告\n",
      "current doc id: 如何破解流量背后的“创业密码”?踏实经营才是法宝\n",
      "current doc id: 姚洋：“内卷”的根本原因是许多资金涌向了成熟领域\n",
      "current doc id: 子政：和平共处五项原则历久弥新的原因是什么？\n",
      "current doc id: 孟可心：美国小动作频出，为何仍搞不倒中企在秘鲁的钱凯港项目\n",
      "current doc id: 学习运用“千万工程”经验 探索乡村振兴新模式 中国数字游民公社项目正式发起\n",
      "current doc id: 安徽汉驰通航直升机驰援黄山歙县抗洪救灾工作\n",
      "current doc id: 安理会强烈谴责俄罗斯达吉斯坦共和国恐袭事件\n",
      "current doc id: 安莫然：外国人在中国不安全？我在中国待了12年后发现……\n",
      "current doc id: 将日本列入“汇率操纵监测名单” 美国套在日本脖子上的金融绞索越拴越紧\n",
      "current doc id: 小麦增储收购稳定市场预期\n",
      "current doc id: 左玮：我国禁毒力度连海外“毒虫”都怕，但新问题层出不穷\n",
      "current doc id: 巴西专家：中国与拉美谋求共同发展\n",
      "current doc id: 帕德伯恩大学国际预科学院与中公教育启动中国校区共建项目\n",
      "current doc id: 常洛闻：俄朝恢复同盟关系，戳到了韩国的痛处\n",
      "current doc id: 年内109家公募机构设立新基金605只\n",
      "current doc id: 广西多措施改善患者就医服务 减轻民众就医负担\n",
      "current doc id: 建设数字乡村不会一蹴而就\n",
      "current doc id: 张仲麟：队伍断档的美国航司，还能裱糊多久？\n",
      "current doc id: 强磁风助星系中心超大质量黑洞生长\n",
      "current doc id: 强降雨已致安徽逾70万人受灾\n",
      "current doc id: 彭博社：在从受影响公司处获得更多信息后，欧盟仅“略微”下调对华拟议关税\n",
      "current doc id: 彭博社：西方所谓“补贴”并非灵丹妙药，中国电动汽车取得突破依靠的是创新与竞争\n",
      "current doc id: 彭森驳“中国经济见顶论”等论调：目的是遏制中国发展\n",
      "current doc id: 很遗憾，美国驻华大使伯恩斯已经沦落为一个“工具人”\n",
      "current doc id: 徐文海：“伤害中华民族感情”表述将被修改，下一个问题来了……\n",
      "current doc id: 微众银行：党建引领数字普惠金融发展\n",
      "current doc id: 德国新《国籍法》生效：入籍须认同以色列的生存权\n",
      "current doc id: 快递业数智升级推动特色产品消费\n",
      "current doc id: 我国复用火箭10公里级垂直起降飞行试验成功\n",
      "current doc id: 拉夫罗夫：金砖十国已投票决定，暂时停止扩员以专注整合新成员国\n",
      "current doc id: 挡通道挪不走惹人嫌　\"非共享\"单车该停哪儿好？\n",
      "current doc id: 探索科技前沿 协力应对挑战——中国深入践行构建人类命运共同体理念让科技更好造福人类\n",
      "current doc id: 推动人工智能政策与技术并行\n",
      "current doc id: 提高农业适应气候变化能力 保障国家粮食安全\n",
      "current doc id: 数据产品化是数据资产大规模增值的驱动力\n",
      "current doc id: 数智基建进一步丰富智能化应用场景\n",
      "current doc id: 斯蒂芬·沃尔特：美国应该从中国外交中学到些什么？\n",
      "current doc id: 新一轮大规模工业设备更新潜力有多大？\n",
      "current doc id: 新华视点｜夏季达沃斯论坛：透视人工智能发展新趋势\n",
      "current doc id: 新规实施已三个月 怎样让快递送上门更好实现\n",
      "current doc id: 新规来了！公费师范生怎么招 如何培养？\n",
      "current doc id: 新闻1+1丨高考志愿填报 自己的人生别花钱交给机构\n",
      "current doc id: 景区敞开大门迎客，旅游体验如何保障？\n",
      "current doc id: 智翔金泰GR2001注射液喜获重磅认定 正式被纳入突破性治疗品种\n",
      "current doc id: 智能生活，未来已来｜2024 世界智能产业博览会观察\n",
      "current doc id: 智行天下 能动未来  “CEO：与中国共成长”中外CEO对接活动在天津成功举办\n",
      "current doc id: 暴雨红色预警，浙江、江西情况怎样？\n",
      "current doc id: 最高法知识产权法庭：涉外案件年均增长近30%，我国日益成为国际知识产权诉讼优选地\n",
      "current doc id: 权小星：这次惨剧背后，是韩国内部诸多矛盾的集中爆发\n",
      "current doc id: 李炫璇：内贾德被拒选的背后，2024伊朗总统大选路在何方？\n",
      "current doc id: 来智博会，看“智慧交通”新图景\n",
      "current doc id: 欧盟“内定”冯德莱恩连任，意大利总理警告：注定在欧洲议会遇到困难\n",
      "current doc id: 欧盟对华发动关税战将严重恶化中欧经贸关系\n",
      "current doc id: 欧盟拟对中国电动汽车加征关税 滥用保护主义引发国际媒体担忧\n",
      "current doc id: 毛克疾：美国究竟能在多大程度上容忍印度？\n",
      "current doc id: 民政部等部门联合出台政策加快发展农村养老服务\n",
      "current doc id: 江苏银行推出经营贷办理惠民活动\n",
      "current doc id: 沦为“工具”的菲律宾，该醒醒了\n",
      "current doc id: 治理同药不同价乱象，多地上线药品比价系统\n",
      "current doc id: 浙大毕业做网红惹争议，你如何看待学霸当网红？\n",
      "current doc id: 澳大利亚学者：中澳关系并非一帆风顺，但也不缺韧性\n",
      "current doc id: 炎夏如何运动更安全？运动后如何科学补水？\n",
      "current doc id: 热搜可定制？“网络水军”的危害不可低估\n",
      "current doc id: 爱康集团第三次发布北京市体检人群“成绩单”，看看北京市民今年健康状态如何？\n",
      "current doc id: 琪朗助力全国300间教室照明环境升级\n",
      "current doc id: 电商网购节创新举措促消费\n",
      "current doc id: 百年品牌家乐携手全国餐饮先锋代表走进北京大学 共同探寻餐饮新周期下的突破之法\n",
      "current doc id: 社会主义民主法治更加健全——党的十八届三中全会以来政治体制改革成就综述\n",
      "current doc id: 突然走红网络的普通劳动者如何破解流量之困？\n",
      "current doc id: 紧张氛围下的“自在搭子”——益达口香糖助力北大辩手\n",
      "current doc id: 绿色是共同语言　更是共赢引擎——欧洲多国人士对中国新能源汽车助力绿色转型充满期待\n",
      "current doc id: 网友建议调查王闰秋是否借学生姜萍账号参赛，涟水县：正在调查办理\n",
      "current doc id: 聚焦高质量增长，吉利汽车一季度营收523亿元创新高\n",
      "current doc id: 胡子南：经济部长访华，德国为电动车关税降温的可能性有多大？\n",
      "current doc id: 英国大学教授：中国为全球河流治理树立榜样\n",
      "current doc id: 蜜雪冰城员工水池洗脚?北京官方通报:系脚部烫伤,已闭店整改\n",
      "current doc id: 补上跨境电商发展短板\n",
      "current doc id: 被中国在仁爱礁缴械后，菲律宾“两大家族”开始内斗了\n",
      "current doc id: 被俄外交部“回怼”，韩国外交部：俄罗斯不要犯错误\n",
      "current doc id: 警惕虚假宣传！暑期研学火爆 部分产品价格虚高\n",
      "current doc id: 让“聪明的车”走好“智慧的路”——智能网联汽车产业新生态观察\n",
      "current doc id: 评论 | 张树彬：尼泊尔抗议“印度强占”的领土，到底是怎么回事？\n",
      "current doc id: 诊疗付费更便捷 江苏银行“信用就医”签约即享“先诊疗、后付费”\n",
      "current doc id: 读研成名校本科生首选，清北毕业生每10人约有8人升学深造\n",
      "current doc id: 财政部：5月份全国共销售彩票476.17亿元，同比下降4.8%\n",
      "current doc id: 越疆科技赴港IPO：连亏3年 机器人销量持续下滑\n",
      "current doc id: 选准低空经济切入点\n",
      "current doc id: 鄱阳湖水位超警，南昌锦江河松湖段水位超历史极值\n",
      "current doc id: 金融监管总局召开专家座谈会 围绕“金融服务新质生产力、做好‘五篇大文章’、推进高质量发展”听取意见建议\n",
      "current doc id: 金融赋能，文旅产业添动力\n",
      "current doc id: 锻造人工智能创新优势\n",
      "current doc id: 长三角地区已入“汛”，今年极端天气多吗？\n",
      "current doc id: 防霉保粮促减损 颗粒归仓保安全\n",
      "current doc id: 陈蓝：嫦娥六号回家，中国航天为什么要带国际载荷？\n",
      "current doc id: 陈鸿斌：岸田陷入四面楚歌，却佯装听不见阵阵逼宫声\n",
      "current doc id: 雁默：行王道，如何解决“台湾问题国际化”？\n",
      "current doc id: 雷霆扫毒！中国海警5年来海上缴获毒品8.729吨、制毒物品2.182吨\n",
      "current doc id: 预售制个人拼团，团长卷款跑路买家维权无门\n",
      "current doc id: 首份国家层面农村养老总体部署出台 布局三个层级\n",
      "current doc id: 首批基础设施公募REITs上市三周年 我国公募REITs市场提质扩面更上层楼\n",
      "current doc id: 马来西亚前驻华大使：互惠互利带来发展动力\n",
      "current doc id: 驻美大使谢锋：发展中国家不应永远处于国际产业链低端\n",
      "current doc id: 高天伟：国产可重复火箭完成10公里测试，有一点与马斯克很不一样\n",
      "current doc id: 高考如何填志愿选专业？专家建议不要盲目选“热门”\n",
      "current doc id: 高质量发展调研行丨大连金普新区：构建氢能全产业链发展格局\n",
      "current doc id: 高铁技术树起国际标杆！复兴号为什么能？\n",
      "current doc id: 黎以紧张局势会否滑向全面战争\n"
     ]
    },
    {
     "data": {
      "application/vnd.jupyter.widget-view+json": {
       "model_id": "140fe724d40940aeb6524cabc27de576",
       "version_major": 2,
       "version_minor": 0
      },
      "text/plain": [
       "Generating embeddings:   0%|          | 0/200 [00:00<?, ?it/s]"
      ]
     },
     "metadata": {},
     "output_type": "display_data"
    },
    {
     "name": "stdout",
     "output_type": "stream",
     "text": [
      "CPU times: user 4.8 s, sys: 263 ms, total: 5.06 s\n",
      "Wall time: 44min 40s\n"
     ]
    }
   ],
   "source": [
    "%%time\n",
    "\n",
    "from llama_index.core import get_response_synthesizer\n",
    "from llama_index.core import DocumentSummaryIndex\n",
    "from llama_index.core.node_parser import SentenceSplitter\n",
    "\n",
    "splitter = SentenceSplitter(chunk_size=1024)\n",
    "\n",
    "response_synthesizer = get_response_synthesizer(\n",
    "    response_mode=\"tree_summarize\", use_async=True\n",
    ")\n",
    "\n",
    "doc_summary_index = DocumentSummaryIndex.from_documents(\n",
    "    documents,\n",
    "    transformations=[splitter],\n",
    "    response_synthesizer=response_synthesizer,\n",
    "    show_progress=True,\n",
    ")"
   ]
  },
  {
   "cell_type": "code",
   "execution_count": 30,
   "id": "445504a0-c0e6-4fbc-9082-ede6c3918484",
   "metadata": {},
   "outputs": [
    {
     "name": "stdout",
     "output_type": "stream",
     "text": [
      "CPU times: user 646 ms, sys: 11.9 ms, total: 658 ms\n",
      "Wall time: 658 ms\n"
     ]
    }
   ],
   "source": [
    "%%time\n",
    "\n",
    "doc_summary_index.storage_context.persist(INDEX_PATH)"
   ]
  },
  {
   "cell_type": "code",
   "execution_count": 26,
   "id": "106bff5e-ad38-4f0b-8c43-eec504e1db3a",
   "metadata": {},
   "outputs": [
    {
     "name": "stdout",
     "output_type": "stream",
     "text": [
      "CPU times: user 103 ms, sys: 0 ns, total: 103 ms\n",
      "Wall time: 102 ms\n"
     ]
    }
   ],
   "source": [
    "%%time\n",
    "\n",
    "from llama_index.core import load_index_from_storage\n",
    "from llama_index.core import StorageContext\n",
    "\n",
    "# rebuild storage context\n",
    "storage_context = StorageContext.from_defaults(persist_dir=INDEX_PATH)\n",
    "doc_summary_index = load_index_from_storage(storage_context)"
   ]
  },
  {
   "cell_type": "markdown",
   "id": "abc46796-4f56-4826-8e72-ea2eee2d64ac",
   "metadata": {},
   "source": [
    "## 检索"
   ]
  },
  {
   "cell_type": "markdown",
   "id": "6b328881-16a6-4cf6-98d5-352322b882bd",
   "metadata": {},
   "source": [
    "### 简单测试"
   ]
  },
  {
   "cell_type": "code",
   "execution_count": 31,
   "id": "455b4213-d6ac-49e9-8639-5c1d98e9e0de",
   "metadata": {},
   "outputs": [
    {
     "name": "stdout",
     "output_type": "stream",
     "text": [
      "CPU times: user 11.7 ms, sys: 0 ns, total: 11.7 ms\n",
      "Wall time: 1.42 s\n"
     ]
    }
   ],
   "source": [
    "%%time\n",
    "\n",
    "from llama_index.core.indices.document_summary import (\n",
    "    DocumentSummaryIndexEmbeddingRetriever,\n",
    ")\n",
    "\n",
    "retriever = DocumentSummaryIndexEmbeddingRetriever(\n",
    "    doc_summary_index,\n",
    "    # similarity_top_k=1,\n",
    ")\n",
    "\n",
    "retrieved_nodes = retriever.retrieve(test_data[0][\"question\"])"
   ]
  },
  {
   "cell_type": "code",
   "execution_count": 28,
   "id": "3b68507c-e0fe-4860-a271-2d98b6d2d2a9",
   "metadata": {},
   "outputs": [
    {
     "data": {
      "text/plain": [
       "{'title': '冯超：普京访越，透视出的国家相处之道应该是什么？',\n",
       " 'publish_time': '2024-06-23 08:48:43',\n",
       " 'author': '小婷',\n",
       " 'url': 'https://www.guancha.cn/fengchao/2024_06_23_738933_s.shtml',\n",
       " 'images': ['https://i.guancha.cn/news/dfic/2024/06/21/20240621150313664.jpg',\n",
       "  'https://i.guancha.cn/news/dfic/2024/06/21/20240621150436659.jpg',\n",
       "  'https://i.guancha.cn/shiping-banner.jpg']}"
      ]
     },
     "execution_count": 28,
     "metadata": {},
     "output_type": "execute_result"
    }
   ],
   "source": [
    "retrieved_nodes[0].metadata"
   ]
  },
  {
   "cell_type": "code",
   "execution_count": 32,
   "id": "d092dd11-4f0f-488d-9099-5690562bf506",
   "metadata": {},
   "outputs": [
    {
     "data": {
      "text/plain": [
       "False"
      ]
     },
     "execution_count": 32,
     "metadata": {},
     "output_type": "execute_result"
    }
   ],
   "source": [
    "retrieved_nodes[0].metadata['url']==test_data[0][\"url\"]"
   ]
  },
  {
   "cell_type": "markdown",
   "id": "d9d77e96-08ec-4927-bf7a-7fcdff2f6dc5",
   "metadata": {},
   "source": [
    "### k=1"
   ]
  },
  {
   "cell_type": "code",
   "execution_count": 33,
   "id": "668100dc-5fa2-4179-9a67-36f2454edcb5",
   "metadata": {},
   "outputs": [
    {
     "name": "stdout",
     "output_type": "stream",
     "text": [
      "CPU times: user 1.97 s, sys: 22.8 ms, total: 1.99 s\n",
      "Wall time: 20.2 s\n"
     ]
    },
    {
     "data": {
      "text/plain": [
       "[False,\n",
       " False,\n",
       " True,\n",
       " False,\n",
       " False,\n",
       " False,\n",
       " False,\n",
       " False,\n",
       " True,\n",
       " False,\n",
       " False,\n",
       " False,\n",
       " False,\n",
       " False,\n",
       " True,\n",
       " True,\n",
       " False,\n",
       " True,\n",
       " False,\n",
       " True,\n",
       " False,\n",
       " False,\n",
       " False,\n",
       " True,\n",
       " False,\n",
       " False,\n",
       " True,\n",
       " False,\n",
       " False,\n",
       " False,\n",
       " False,\n",
       " False,\n",
       " True,\n",
       " True,\n",
       " True,\n",
       " False,\n",
       " False,\n",
       " False,\n",
       " False,\n",
       " False,\n",
       " False,\n",
       " True,\n",
       " False,\n",
       " False,\n",
       " False,\n",
       " False,\n",
       " False,\n",
       " True,\n",
       " True,\n",
       " True,\n",
       " False,\n",
       " False,\n",
       " False,\n",
       " False,\n",
       " False,\n",
       " False,\n",
       " True,\n",
       " True,\n",
       " True,\n",
       " False,\n",
       " True,\n",
       " True,\n",
       " True,\n",
       " False,\n",
       " False,\n",
       " False,\n",
       " False,\n",
       " True,\n",
       " False,\n",
       " False,\n",
       " False,\n",
       " False,\n",
       " False,\n",
       " False,\n",
       " False,\n",
       " True,\n",
       " False,\n",
       " True,\n",
       " False,\n",
       " True,\n",
       " True,\n",
       " True,\n",
       " False,\n",
       " False,\n",
       " False,\n",
       " True,\n",
       " False,\n",
       " True,\n",
       " True,\n",
       " True,\n",
       " True,\n",
       " True,\n",
       " False,\n",
       " True,\n",
       " False,\n",
       " False,\n",
       " True,\n",
       " True,\n",
       " False,\n",
       " True,\n",
       " False,\n",
       " False,\n",
       " False,\n",
       " True,\n",
       " False,\n",
       " False,\n",
       " True,\n",
       " True,\n",
       " False,\n",
       " False,\n",
       " True,\n",
       " True,\n",
       " True,\n",
       " True,\n",
       " False,\n",
       " True,\n",
       " True,\n",
       " False,\n",
       " True,\n",
       " False,\n",
       " False,\n",
       " False,\n",
       " False,\n",
       " False,\n",
       " False,\n",
       " False,\n",
       " False,\n",
       " False,\n",
       " False,\n",
       " False,\n",
       " False,\n",
       " True,\n",
       " False,\n",
       " False,\n",
       " False,\n",
       " False,\n",
       " False,\n",
       " False,\n",
       " True,\n",
       " False,\n",
       " True,\n",
       " False,\n",
       " True,\n",
       " True,\n",
       " False,\n",
       " False,\n",
       " False,\n",
       " False,\n",
       " True,\n",
       " False,\n",
       " False,\n",
       " False,\n",
       " False,\n",
       " True,\n",
       " False,\n",
       " True,\n",
       " True,\n",
       " True,\n",
       " True,\n",
       " False,\n",
       " True,\n",
       " False,\n",
       " True,\n",
       " False,\n",
       " False,\n",
       " False,\n",
       " False,\n",
       " False,\n",
       " False,\n",
       " False,\n",
       " False,\n",
       " True,\n",
       " True,\n",
       " False,\n",
       " True,\n",
       " True,\n",
       " True,\n",
       " False,\n",
       " False,\n",
       " False,\n",
       " False,\n",
       " True,\n",
       " True,\n",
       " True,\n",
       " True,\n",
       " True,\n",
       " False,\n",
       " False,\n",
       " False,\n",
       " False,\n",
       " True,\n",
       " False,\n",
       " False,\n",
       " False,\n",
       " False,\n",
       " False,\n",
       " False,\n",
       " False,\n",
       " False,\n",
       " False,\n",
       " False,\n",
       " False,\n",
       " False,\n",
       " False,\n",
       " False]"
      ]
     },
     "execution_count": 33,
     "metadata": {},
     "output_type": "execute_result"
    }
   ],
   "source": [
    "%%time\n",
    "\n",
    "retriever = DocumentSummaryIndexEmbeddingRetriever(\n",
    "    doc_summary_index,\n",
    "    similarity_top_k=1,\n",
    ")\n",
    "\n",
    "results=[]\n",
    "\n",
    "for news in test_data:\n",
    "    retrieved_nodes = retriever.retrieve(news[\"question\"])\n",
    "    result=False\n",
    "    for node in retrieved_nodes:\n",
    "        # print(news[\"question\"])\n",
    "        if node.metadata['url']==news[\"url\"]:\n",
    "            result=True\n",
    "            break\n",
    "    results.append(result)\n",
    "\n",
    "results"
   ]
  },
  {
   "cell_type": "code",
   "execution_count": 35,
   "id": "75f96bf9-e689-49df-b90e-557a4d3a6b7d",
   "metadata": {},
   "outputs": [
    {
     "data": {
      "text/plain": [
       "0.43902439024390244"
      ]
     },
     "execution_count": 35,
     "metadata": {},
     "output_type": "execute_result"
    }
   ],
   "source": [
    "results.count(True) / len(results)"
   ]
  },
  {
   "cell_type": "markdown",
   "id": "7d6376fa-4477-4f5c-872e-b23a4811c66f",
   "metadata": {},
   "source": [
    "### k=2"
   ]
  },
  {
   "cell_type": "code",
   "execution_count": 34,
   "id": "0373309d-7a80-4870-ba0d-0c1ec4fd0185",
   "metadata": {},
   "outputs": [
    {
     "name": "stdout",
     "output_type": "stream",
     "text": [
      "CPU times: user 2.01 s, sys: 38.8 ms, total: 2.05 s\n",
      "Wall time: 20.3 s\n"
     ]
    },
    {
     "data": {
      "text/plain": [
       "0.43902439024390244"
      ]
     },
     "execution_count": 34,
     "metadata": {},
     "output_type": "execute_result"
    }
   ],
   "source": [
    "%%time\n",
    "\n",
    "retriever = DocumentSummaryIndexEmbeddingRetriever(\n",
    "    doc_summary_index,\n",
    "    similarity_top_k=2,\n",
    ")\n",
    "\n",
    "results=[]\n",
    "\n",
    "for news in test_data:\n",
    "    retrieved_nodes = retriever.retrieve(news[\"question\"])\n",
    "    result=False\n",
    "    for node in retrieved_nodes:\n",
    "        if node.metadata['url']==news[\"url\"]:\n",
    "            result=True\n",
    "            break\n",
    "    results.append(result)\n",
    "\n",
    "results.count(True) / len(results)"
   ]
  },
  {
   "cell_type": "markdown",
   "id": "61dd0dfd-988b-43d2-9eef-d8668b2e99ee",
   "metadata": {},
   "source": [
    "### k=3"
   ]
  },
  {
   "cell_type": "code",
   "execution_count": 36,
   "id": "05d837af-047f-44d8-bde5-d437b463968f",
   "metadata": {},
   "outputs": [
    {
     "name": "stdout",
     "output_type": "stream",
     "text": [
      "CPU times: user 2.13 s, sys: 31 ms, total: 2.16 s\n",
      "Wall time: 20.3 s\n"
     ]
    },
    {
     "data": {
      "text/plain": [
       "0.5414634146341464"
      ]
     },
     "execution_count": 36,
     "metadata": {},
     "output_type": "execute_result"
    }
   ],
   "source": [
    "%%time\n",
    "\n",
    "retriever = DocumentSummaryIndexEmbeddingRetriever(\n",
    "    doc_summary_index,\n",
    "    similarity_top_k=3,\n",
    ")\n",
    "\n",
    "results=[]\n",
    "\n",
    "for news in test_data:\n",
    "    retrieved_nodes = retriever.retrieve(news[\"question\"])\n",
    "    result=False\n",
    "    for node in retrieved_nodes:\n",
    "        if node.metadata['url']==news[\"url\"]:\n",
    "            result=True\n",
    "            break\n",
    "    results.append(result)\n",
    "\n",
    "results.count(True) / len(results)"
   ]
  },
  {
   "cell_type": "markdown",
   "id": "ff4ed1d2-170c-4709-9a3d-5322bacc1436",
   "metadata": {},
   "source": [
    "### k=5"
   ]
  },
  {
   "cell_type": "code",
   "execution_count": 37,
   "id": "d7f2ef66-158f-47b3-8aa0-873c940f1fd3",
   "metadata": {},
   "outputs": [
    {
     "name": "stdout",
     "output_type": "stream",
     "text": [
      "CPU times: user 2.23 s, sys: 26.7 ms, total: 2.25 s\n",
      "Wall time: 20.5 s\n"
     ]
    },
    {
     "data": {
      "text/plain": [
       "0.624390243902439"
      ]
     },
     "execution_count": 37,
     "metadata": {},
     "output_type": "execute_result"
    }
   ],
   "source": [
    "%%time\n",
    "\n",
    "retriever = DocumentSummaryIndexEmbeddingRetriever(\n",
    "    doc_summary_index,\n",
    "    similarity_top_k=5,\n",
    ")\n",
    "\n",
    "results=[]\n",
    "\n",
    "for news in test_data:\n",
    "    retrieved_nodes = retriever.retrieve(news[\"question\"])\n",
    "    result=False\n",
    "    for node in retrieved_nodes:\n",
    "        if node.metadata['url']==news[\"url\"]:\n",
    "            result=True\n",
    "            break\n",
    "    results.append(result)\n",
    "\n",
    "results.count(True) / len(results)"
   ]
  },
  {
   "cell_type": "markdown",
   "id": "8cb54f5f-f739-460e-a323-bb934e5d7161",
   "metadata": {},
   "source": [
    "### k=6"
   ]
  },
  {
   "cell_type": "code",
   "execution_count": 38,
   "id": "4dc39b5c-8f68-46eb-9be7-248266989448",
   "metadata": {},
   "outputs": [
    {
     "name": "stdout",
     "output_type": "stream",
     "text": [
      "CPU times: user 2.3 s, sys: 42.8 ms, total: 2.34 s\n",
      "Wall time: 20.6 s\n"
     ]
    },
    {
     "data": {
      "text/plain": [
       "0.6390243902439025"
      ]
     },
     "execution_count": 38,
     "metadata": {},
     "output_type": "execute_result"
    }
   ],
   "source": [
    "%%time\n",
    "\n",
    "retriever = DocumentSummaryIndexEmbeddingRetriever(\n",
    "    doc_summary_index,\n",
    "    similarity_top_k=6,\n",
    ")\n",
    "\n",
    "results=[]\n",
    "\n",
    "for news in test_data:\n",
    "    retrieved_nodes = retriever.retrieve(news[\"question\"])\n",
    "    result=False\n",
    "    for node in retrieved_nodes:\n",
    "        if node.metadata['url']==news[\"url\"]:\n",
    "            result=True\n",
    "            break\n",
    "    results.append(result)\n",
    "\n",
    "results.count(True) / len(results)"
   ]
  },
  {
   "cell_type": "markdown",
   "id": "e050e846-331b-44fa-b00e-f57edc33cd2f",
   "metadata": {},
   "source": [
    "### k=10"
   ]
  },
  {
   "cell_type": "code",
   "execution_count": 39,
   "id": "6ca4508c-1077-4dce-976a-21ae3f54942d",
   "metadata": {},
   "outputs": [
    {
     "name": "stdout",
     "output_type": "stream",
     "text": [
      "CPU times: user 2.59 s, sys: 16.7 ms, total: 2.61 s\n",
      "Wall time: 20.8 s\n"
     ]
    },
    {
     "data": {
      "text/plain": [
       "0.697560975609756"
      ]
     },
     "execution_count": 39,
     "metadata": {},
     "output_type": "execute_result"
    }
   ],
   "source": [
    "%%time\n",
    "\n",
    "retriever = DocumentSummaryIndexEmbeddingRetriever(\n",
    "    doc_summary_index,\n",
    "    similarity_top_k=10,\n",
    ")\n",
    "\n",
    "results=[]\n",
    "\n",
    "for news in test_data:\n",
    "    retrieved_nodes = retriever.retrieve(news[\"question\"])\n",
    "    result=False\n",
    "    for node in retrieved_nodes:\n",
    "        if node.metadata['url']==news[\"url\"]:\n",
    "            result=True\n",
    "            break\n",
    "    results.append(result)\n",
    "\n",
    "results.count(True) / len(results)"
   ]
  },
  {
   "cell_type": "markdown",
   "id": "d4dcc307-8e8c-47ea-8fb9-99471026ae80",
   "metadata": {},
   "source": [
    "### k=100"
   ]
  },
  {
   "cell_type": "code",
   "execution_count": 41,
   "id": "cef9b4db-0636-43f9-8c87-3f55fdab0ded",
   "metadata": {},
   "outputs": [
    {
     "name": "stdout",
     "output_type": "stream",
     "text": [
      "CPU times: user 9.83 s, sys: 32.8 ms, total: 9.86 s\n",
      "Wall time: 22.9 s\n"
     ]
    },
    {
     "data": {
      "text/plain": [
       "0.8975609756097561"
      ]
     },
     "execution_count": 41,
     "metadata": {},
     "output_type": "execute_result"
    }
   ],
   "source": [
    "%%time\n",
    "\n",
    "retriever = DocumentSummaryIndexEmbeddingRetriever(\n",
    "    doc_summary_index,\n",
    "    similarity_top_k=len(test_data)/2,\n",
    ")\n",
    "\n",
    "results=[]\n",
    "\n",
    "for news in test_data:\n",
    "    retrieved_nodes = retriever.retrieve(news[\"question\"])\n",
    "    result=False\n",
    "    for node in retrieved_nodes:\n",
    "        if node.metadata['url']==news[\"url\"]:\n",
    "            result=True\n",
    "            break\n",
    "    results.append(result)\n",
    "\n",
    "results.count(True) / len(results)"
   ]
  },
  {
   "cell_type": "code",
   "execution_count": null,
   "id": "5dd827f6-7867-4c71-9cb7-40194e38ea72",
   "metadata": {},
   "outputs": [],
   "source": []
  }
 ],
 "metadata": {
  "kernelspec": {
   "display_name": "Python 3 (ipykernel)",
   "language": "python",
   "name": "python3"
  },
  "language_info": {
   "codemirror_mode": {
    "name": "ipython",
    "version": 3
   },
   "file_extension": ".py",
   "mimetype": "text/x-python",
   "name": "python",
   "nbconvert_exporter": "python",
   "pygments_lexer": "ipython3",
   "version": "3.10.12"
  }
 },
 "nbformat": 4,
 "nbformat_minor": 5
}
