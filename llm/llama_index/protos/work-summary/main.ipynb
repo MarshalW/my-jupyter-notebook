{
 "cells": [
  {
   "cell_type": "markdown",
   "id": "7537fb47-0617-4464-bb55-7a81cd905d76",
   "metadata": {},
   "source": [
    "# 基于路由的工作任务查询"
   ]
  },
  {
   "cell_type": "markdown",
   "id": "489e0818-49f5-4d69-b2c3-dbef2bc3e3a2",
   "metadata": {},
   "source": [
    "## 全局设置"
   ]
  },
  {
   "cell_type": "code",
   "execution_count": 21,
   "id": "0f6bcf25-79d4-49e6-9aed-5972d94a056b",
   "metadata": {},
   "outputs": [
    {
     "name": "stdout",
     "output_type": "stream",
     "text": [
      "CPU times: user 267 µs, sys: 35 µs, total: 302 µs\n",
      "Wall time: 305 µs\n"
     ]
    }
   ],
   "source": [
    "%%time\n",
    "\n",
    "from llama_index.core import Settings\n",
    "from llama_index.llms.openai_like import OpenAILike\n",
    "from llama_index.embeddings.ollama import OllamaEmbedding\n",
    "\n",
    "Settings.llm=OpenAILike(\n",
    "    model=\"qwen2\", \n",
    "    api_base=\"http://ape:3000/v1\", \n",
    "    api_key=\"sk-bJP6QSnUfjAYeYeE505d3eBf63A643BeB0B8E350Df9b7750\",\n",
    "    is_chat_model=True,\n",
    "    temperature=0,\n",
    "    request_timeout=60.0\n",
    ")\n",
    "\n",
    "Settings.embed_model = OllamaEmbedding(\n",
    "    model_name=\"quentinz/bge-large-zh-v1.5\",\n",
    "    base_url=\"http://ape:11434\",\n",
    "    ollama_additional_kwargs={\"mirostat\": 0}, # -mirostat N 使用 Mirostat 采样。\n",
    ")\n",
    "\n",
    "Settings.chunk_size = 128\n",
    "Settings.chunk_overlap = 10"
   ]
  },
  {
   "cell_type": "code",
   "execution_count": 2,
   "id": "1f0a7aa4-ba9a-44fa-af20-d1f9210a4866",
   "metadata": {},
   "outputs": [
    {
     "name": "stdout",
     "output_type": "stream",
     "text": [
      "CPU times: user 1.26 ms, sys: 166 µs, total: 1.43 ms\n",
      "Wall time: 1.19 ms\n"
     ]
    }
   ],
   "source": [
    "%%time\n",
    "\n",
    "import nest_asyncio\n",
    "nest_asyncio.apply()"
   ]
  },
  {
   "cell_type": "markdown",
   "id": "4cf31218-c63a-4bc2-92bd-bd6c83eebf16",
   "metadata": {},
   "source": [
    "## 加载数据"
   ]
  },
  {
   "cell_type": "code",
   "execution_count": 28,
   "id": "32c39f6b-7f82-49d8-8a34-8b087e237dc6",
   "metadata": {},
   "outputs": [
    {
     "name": "stdout",
     "output_type": "stream",
     "text": [
      "CPU times: user 3 µs, sys: 1 µs, total: 4 µs\n",
      "Wall time: 4.77 µs\n"
     ]
    }
   ],
   "source": [
    "%%time\n",
    "\n",
    "# 模拟一个当天的全体人员工作日志\n",
    "items=[\n",
    "\"开发部韩宇轩，simple-rag 产品，实现新特性：针对文档的摘要索引。通过摘要索引，为用户生成的总结性能有大幅度提升。经测试评估，准确率达到了95%，以前是45%。\",\n",
    "\"开发部陈逸飞，simple-rag 产品，修正bug：中文断句不完整。之前断句不完整，造成嵌入相似度准确率不高。目前的做法是更换splitter实现，并且对分块参数做了优化。\",\n",
    "\"开发部郑千，simple-rag 产品，修正bug：聊天界面 markdown 格式显示错误。bug的现象是部分字体显示不全，更换实现库，解决了这个问题。\",\n",
    "\"产品部林晓琪，simple-rag 产品，提交新特性需求：多数据源的融合检索查询。用户反映以及我们测试，在某些功能下，大文档的检索召回率不高，造成回答效果不好。希望通过增加新的检索方法，并融合现在的检索结果，提高检索召回率。\",\n",
    "\"产品部林晓琪，江南皮革厂客服助手项目，和客户开会，沟通需求。确定了客服助手的基本功能，并约定了下一次沟通时间和沟通内容。\",\n",
    "\"运维部李泽言，江南皮革厂客服平台，系统扩容，解决了负载过高造成服务卡的问题。服务卡的主要原因是算力不足，原来是2张a100 40G，目前扩到了4张。今天业务高峰时间负载不到60%，问题解决。\",\n",
    "\"销售部韩雪薇，天津化工集团后勤服务平台，准备标书商务部分，完成公司资质方面的文案。资质文案主要包括： 相关软件著作权证书、银行资质证明、国安资质证书和验资报告等，已经整理成word文件。\",\n",
    "\"法务部张峻宁，完成审核了与深圳做大事公司的商务合同。之前对方提出了多个版权方面的条款，经过沟通，以及有关方面的查询，修改了相关条款，消除了商业风险，和客户达成了共识。目前已经提交给办公室。\",\n",
    "]"
   ]
  },
  {
   "cell_type": "code",
   "execution_count": 29,
   "id": "8671b490-c420-4b89-a1c1-4e12c2236668",
   "metadata": {},
   "outputs": [
    {
     "data": {
      "text/plain": [
       "TextNode(id_='node_0', embedding=None, metadata={}, excluded_embed_metadata_keys=[], excluded_llm_metadata_keys=[], relationships={}, text='开发部韩宇轩，simple-rag 产品，实现新特性：针对文档的摘要索引。通过摘要索引，为用户生成的总结性能有大幅度提升。经测试评估，准确率达到了95%，以前是45%。', start_char_idx=None, end_char_idx=None, text_template='{metadata_str}\\n\\n{content}', metadata_template='{key}: {value}', metadata_seperator='\\n')"
      ]
     },
     "execution_count": 29,
     "metadata": {},
     "output_type": "execute_result"
    }
   ],
   "source": [
    "from llama_index.core.schema import TextNode\n",
    "\n",
    "nodes=[ TextNode(text=item, id_=f\"node_{index}\") for index, item in enumerate(items)]\n",
    "nodes[0]"
   ]
  },
  {
   "cell_type": "markdown",
   "id": "c4d83262-fe9a-4bfa-98b2-f6a65b9d46fe",
   "metadata": {},
   "source": [
    "## 摘要索引"
   ]
  },
  {
   "cell_type": "code",
   "execution_count": 30,
   "id": "454a873e-dcc3-455b-a5f5-3445fcfc7984",
   "metadata": {},
   "outputs": [
    {
     "name": "stdout",
     "output_type": "stream",
     "text": [
      "CPU times: user 393 µs, sys: 50 µs, total: 443 µs\n",
      "Wall time: 436 µs\n"
     ]
    }
   ],
   "source": [
    "%%time\n",
    "\n",
    "\n",
    "from llama_index.core import SummaryIndex\n",
    "\n",
    "summary_index = SummaryIndex(nodes)"
   ]
  },
  {
   "cell_type": "code",
   "execution_count": 43,
   "id": "088c66d8-0ce2-4225-aa5c-f3d9d04d73c2",
   "metadata": {},
   "outputs": [
    {
     "name": "stdout",
     "output_type": "stream",
     "text": [
      "产品部:\n",
      "\n",
      "- 林晓琪\n",
      "    - simple-rag 产品，提交新特性需求：多数据源的融合检索查询。关注提高大文档的检索召回率。\n",
      "    - 江南皮革厂客服助手项目，和客户开会，沟通需求并确定了基本功能。\n",
      "\n",
      "开发部:\n",
      "  \n",
      "- 韩宇轩\n",
      "    - simple-rag 产品，实现新特性：针对文档的摘要索引。优化总结生成性能，准确率提升至95%。\n",
      "- 陈逸飞\n",
      "    - simple-rag 产品，修正bug：中文断句不完整问题，通过更换splitter实现并优化分块参数解决此问题。\n",
      "- 郑千\n",
      "    - simple-rag 产品，修正bug：聊天界面 markdown 格式显示错误，更换实现库解决了显示不全的问题。\n",
      "\n",
      "运维部:\n",
      "\n",
      "- 李泽言\n",
      "    - 江南皮革厂客服平台，系统扩容以解决负载过高造成的服务卡问题。通过增加算力（4张a100 40G）成功降低业务高峰时的负载至不到60%。\n",
      "\n",
      "销售部:\n",
      "\n",
      "- 韩雪薇\n",
      "    - 天津化工集团后勤服务平台，准备标书商务部分，完成公司资质方面的文案整理成word文件。\n",
      "\n",
      "法务部:\n",
      "\n",
      "- 张峻宁\n",
      "    - 审核与深圳做大事公司的商务合同。修改了涉及版权的条款以消除商业风险，并达成共识后提交给办公室。\n",
      "CPU times: user 9.91 ms, sys: 0 ns, total: 9.91 ms\n",
      "Wall time: 6.37 s\n"
     ]
    }
   ],
   "source": [
    "%%time\n",
    "\n",
    "from llama_index.core import get_response_synthesizer\n",
    "from llama_index.core.query_engine import RetrieverQueryEngine\n",
    "\n",
    "summary_retriever=summary_index.as_retriever()\n",
    "\n",
    "# configure response synthesizer\n",
    "response_synthesizer = get_response_synthesizer(\n",
    "    response_mode=\"tree_summarize\",\n",
    ")\n",
    "\n",
    "summary_query_engine = RetrieverQueryEngine(\n",
    "    retriever=summary_retriever,\n",
    "    response_synthesizer=response_synthesizer,\n",
    ")\n",
    "\n",
    "response = query_engine.query(\n",
    "    \"给出涉及的所有部门所有人的任务摘要输出，输出示例如下：\"\n",
    "    \"\"\"\n",
    "    产品部:\n",
    "\n",
    "    - 张三\n",
    "        - xxx产品，提交新特性需求: xxx\n",
    "        - xxx项目，和客户开会，xxxxx\n",
    "        - ...\n",
    "    - 李四\n",
    "        - xxxx\n",
    "        - ...\n",
    "    - 王五\n",
    "      - ...\n",
    "\n",
    "    开发部:\n",
    "    \n",
    "    - 赵六\n",
    "      - xxx产品，修正bug：xxxx\n",
    "      - xxx项目，实现新特性：xxxx\n",
    "      ...\n",
    "    - 于七\n",
    "      - xxx产品，修正bug：xxxx\n",
    "      - xxx项目，实现新特性：xxxx\n",
    "      ...\n",
    "    ...\n",
    "\n",
    "    xxx部:\n",
    "    ...\n",
    "    \"\"\"\n",
    ")\n",
    "\n",
    "print(str(response))"
   ]
  },
  {
   "cell_type": "code",
   "execution_count": null,
   "id": "32a3f790-7953-40d3-a8d7-58cfd1c63b7b",
   "metadata": {},
   "outputs": [],
   "source": [
    "%%time\n",
    "\n",
    "response = query_engine.query(\"林晓琪完成哪些任务\")"
   ]
  },
  {
   "cell_type": "markdown",
   "id": "2041db86-3e84-49f2-a412-5c4cc1e62e5b",
   "metadata": {},
   "source": [
    "## 向量索引"
   ]
  },
  {
   "cell_type": "code",
   "execution_count": 41,
   "id": "1222ca27-c783-408a-9bb9-1b4705fdc07a",
   "metadata": {},
   "outputs": [
    {
     "name": "stdout",
     "output_type": "stream",
     "text": [
      "CPU times: user 36.7 ms, sys: 0 ns, total: 36.7 ms\n",
      "Wall time: 1.76 s\n"
     ]
    }
   ],
   "source": [
    "%%time\n",
    "\n",
    "from llama_index.core import VectorStoreIndex\n",
    "\n",
    "vector_index = VectorStoreIndex(nodes)"
   ]
  },
  {
   "cell_type": "code",
   "execution_count": 45,
   "id": "811d6abd-e5bd-49aa-affb-e7b9e61dcc9c",
   "metadata": {},
   "outputs": [
    {
     "name": "stdout",
     "output_type": "stream",
     "text": [
      "林晓琪完成了以下任务：\n",
      "1. 提交了关于simple-rag产品的多数据源融合检索查询的新特性需求，以提高大文档的检索召回率。\n",
      "2. 和江南皮革厂客服助手项目的客户开会沟通需求，确定了客服助手的基本功能，并约定了下一次沟通时间和内容。\n",
      "CPU times: user 5.87 ms, sys: 3.76 ms, total: 9.63 ms\n",
      "Wall time: 1.48 s\n"
     ]
    }
   ],
   "source": [
    "%%time\n",
    "\n",
    "vector_retriever=vector_index.as_retriever()\n",
    "\n",
    "# configure response synthesizer\n",
    "response_synthesizer = get_response_synthesizer(\n",
    "    response_mode=\"tree_summarize\",\n",
    ")\n",
    "\n",
    "vector_query_engine = RetrieverQueryEngine(\n",
    "    retriever=vector_retriever,\n",
    "    response_synthesizer=response_synthesizer,\n",
    ")\n",
    "\n",
    "response = query_engine.query(\"林晓琪完成哪些任务\")\n",
    "print(str(response))"
   ]
  },
  {
   "cell_type": "code",
   "execution_count": 47,
   "id": "0ff42313-1f78-4490-9553-d2cca0e30a4d",
   "metadata": {},
   "outputs": [
    {
     "name": "stdout",
     "output_type": "stream",
     "text": [
      "产品部林晓琪在simple-rag产品的开发过程中提出了新特性需求：多数据源的融合检索查询。用户反馈及测试结果显示，在某些功能下，大文档的检索召回率不高，影响了回答效果。为了提升性能，希望通过增加新的检索方法并整合现有的检索结果，从而提高检索召回率。\n",
      "CPU times: user 9.7 ms, sys: 0 ns, total: 9.7 ms\n",
      "Wall time: 1.54 s\n"
     ]
    }
   ],
   "source": [
    "%%time\n",
    "\n",
    "response = query_engine.query(\"具体说下多数据源融合检索查询的新特性需求\")\n",
    "print(str(response))"
   ]
  },
  {
   "cell_type": "markdown",
   "id": "fd0a6e9b-fa72-404c-aa2e-2becf92dcb84",
   "metadata": {},
   "source": [
    "## 基于单选的路由查询引擎"
   ]
  },
  {
   "cell_type": "code",
   "execution_count": 65,
   "id": "f64116a8-2399-4a96-ad80-d3c39f8ce7b9",
   "metadata": {},
   "outputs": [
    {
     "name": "stdout",
     "output_type": "stream",
     "text": [
      "CPU times: user 192 µs, sys: 0 ns, total: 192 µs\n",
      "Wall time: 195 µs\n"
     ]
    }
   ],
   "source": [
    "%%time\n",
    "\n",
    "\n",
    "summary_query_engine = summary_index.as_query_engine(\n",
    "    response_mode=\"tree_summarize\",\n",
    "    use_async=True,\n",
    ")\n",
    "vector_query_engine = vector_index.as_query_engine(top_k=5)"
   ]
  },
  {
   "cell_type": "code",
   "execution_count": 66,
   "id": "92310181-8cd1-477c-934d-78e356934344",
   "metadata": {},
   "outputs": [
    {
     "name": "stdout",
     "output_type": "stream",
     "text": [
      "CPU times: user 13 µs, sys: 2 µs, total: 15 µs\n",
      "Wall time: 16.2 µs\n"
     ]
    }
   ],
   "source": [
    "%%time\n",
    "\n",
    "from llama_index.core.tools import QueryEngineTool\n",
    "\n",
    "\n",
    "summary_tool = QueryEngineTool.from_defaults(\n",
    "    query_engine=summary_query_engine,\n",
    "    description=(\n",
    "        \"对工作任务总结方面的问题很有用。\"\n",
    "    ),\n",
    ")\n",
    "\n",
    "vector_tool = QueryEngineTool.from_defaults(\n",
    "    query_engine=vector_query_engine,\n",
    "    description=(\n",
    "        \"适用于回答工作任务相关的具体问题。\"\n",
    "    ),\n",
    ")"
   ]
  },
  {
   "cell_type": "code",
   "execution_count": 67,
   "id": "35e7d86a-ac8d-4f53-bda3-f14510ebcbd5",
   "metadata": {},
   "outputs": [
    {
     "name": "stdout",
     "output_type": "stream",
     "text": [
      "CPU times: user 172 µs, sys: 0 ns, total: 172 µs\n",
      "Wall time: 175 µs\n"
     ]
    }
   ],
   "source": [
    "%%time\n",
    "\n",
    "from llama_index.core.query_engine import RouterQueryEngine\n",
    "from llama_index.core.selectors import LLMSingleSelector\n",
    "\n",
    "query_engine = RouterQueryEngine(\n",
    "    selector=LLMSingleSelector.from_defaults(),\n",
    "    query_engine_tools=[\n",
    "        summary_tool,\n",
    "        vector_tool,\n",
    "    ],\n",
    ")"
   ]
  },
  {
   "cell_type": "markdown",
   "id": "10bda3ab-5677-46e7-af55-a5bb8d201181",
   "metadata": {},
   "source": [
    "### 摘要相关的问题"
   ]
  },
  {
   "cell_type": "code",
   "execution_count": 70,
   "id": "8aa957d4-37e0-4180-a94e-b836e0bfe24d",
   "metadata": {},
   "outputs": [
    {
     "name": "stdout",
     "output_type": "stream",
     "text": [
      "产品部:\n",
      "\n",
      "- 林晓琪\n",
      "  - simple-rag产品，提交新特性需求：多数据源的融合检索查询。提升大文档检索召回率以改善回答效果。\n",
      "  - 江南皮革厂客服助手项目，与客户沟通需求并确定基本功能。\n",
      "\n",
      "开发部:\n",
      "\n",
      "- 韩宇轩\n",
      "  - simple-rag产品，实现新特性：针对文档摘要索引，提升用户生成的总结性能至95%准确率。\n",
      "  \n",
      "- 陈逸飞\n",
      "  - simple-rag产品，修正bug：中文断句不完整问题。改进分句方式并优化分块参数。\n",
      "\n",
      "运维部:\n",
      "\n",
      "- 李泽言\n",
      "  - 江南皮革厂客服平台，解决系统负载过高的问题。通过扩容算力至4张a100 GPU以提高服务稳定性和响应能力。\n",
      "\n",
      "销售部:\n",
      "\n",
      "- 韩雪薇\n",
      "  - 天津化工集团后勤服务平台，完成标书商务部分的文案准备工作，整理公司资质文件如软件著作权证书、银行资质证明等。\n",
      "\n",
      "法务部:\n",
      "\n",
      "- 张峻宁\n",
      "  - 审核并修改与深圳做大事公司的商务合同中的版权条款。通过沟通和查询消除商业风险，并达成共识后提交办公室。\n",
      "CPU times: user 14.6 ms, sys: 307 µs, total: 14.9 ms\n",
      "Wall time: 6.45 s\n"
     ]
    }
   ],
   "source": [
    "%%time\n",
    "\n",
    "response = query_engine.query(\n",
    "    \"给出涉及的所有部门所有人的任务摘要输出，输出示例如下：\"\n",
    "    \"\"\"\n",
    "    产品部:\n",
    "\n",
    "    - 张三\n",
    "        - xxx产品，提交新特性需求: xxx\n",
    "        - xxx项目，和客户开会，xxxxx\n",
    "        - ...\n",
    "    - 李四\n",
    "        - xxxx\n",
    "        - ...\n",
    "    - 王五\n",
    "      - ...\n",
    "\n",
    "    开发部:\n",
    "    \n",
    "    - 赵六\n",
    "      - xxx产品，修正bug：xxxx\n",
    "      - xxx项目，实现新特性：xxxx\n",
    "      ...\n",
    "    - 于七\n",
    "      - xxx产品，修正bug：xxxx\n",
    "      - xxx项目，实现新特性：xxxx\n",
    "      ...\n",
    "    ...\n",
    "\n",
    "    xxx部:\n",
    "    ...\n",
    "    \"\"\"\n",
    ")\n",
    "\n",
    "print(str(response))"
   ]
  },
  {
   "cell_type": "code",
   "execution_count": 99,
   "id": "f1ea2ccd-0254-49d1-aac3-b64a4b9128ce",
   "metadata": {},
   "outputs": [
    {
     "name": "stdout",
     "output_type": "stream",
     "text": [
      "{\n",
      "    \"name\": \"林晓琪\",\n",
      "    \"dept\": \"产品部\",\n",
      "    \"tasks\": [\n",
      "        \"simple-rag 产品，提交新特性需求: 多数据源的融合检索查询\",\n",
      "        \"江南皮革厂客服助手项目，和客户开会，沟通需求。确定了客服助手的基本功能，并约定了下一次沟通时间和内容\"\n",
      "    ]\n",
      "}\n",
      "CPU times: user 14.3 ms, sys: 0 ns, total: 14.3 ms\n",
      "Wall time: 2.75 s\n"
     ]
    }
   ],
   "source": [
    "%%time\n",
    "\n",
    "response = query_engine.query(\n",
    "    \"这是工作任务总结方面的问题\"\n",
    "    \"林晓琪做了哪些工作任务，用json格式输出，比如：\"\n",
    "    \"\"\"\n",
    "    {\n",
    "        \"name\": \"张三\",\n",
    "        \"dept:: \"开发部\",\n",
    "        \"tasks\": [\n",
    "            \"xx项目，实现新特性: xxxx\",\n",
    "             \"xx产品，提交新特性: xxx\",\n",
    "             ...\n",
    "        ]\n",
    "    }\n",
    "    \"\"\"\n",
    "    \n",
    ")\n",
    "print(str(response))"
   ]
  },
  {
   "cell_type": "code",
   "execution_count": 102,
   "id": "d8337ab1-d777-4592-a71c-5418cd52d1df",
   "metadata": {},
   "outputs": [
    {
     "name": "stdout",
     "output_type": "stream",
     "text": [
      "在这份任务总结中，林晓琪主要负责以下几项工作：\n",
      "\n",
      "1. **simple-rag产品**：提交了关于多数据源融合检索查询的新特性需求。此需求是为了提升大文档检索召回率，通过增加新的检索方法并融合现有结果来优化搜索体验。\n",
      "\n",
      "2. **江南皮革厂客服助手项目**：与客户开会沟通需求，明确了客服助手的基本功能，并安排了下一次的沟通时间与内容。\n",
      "\n",
      "这些任务显示林晓琪在产品开发和客户关系管理方面扮演着重要角色。\n",
      "CPU times: user 10.2 ms, sys: 3.35 ms, total: 13.5 ms\n",
      "Wall time: 3.45 s\n"
     ]
    }
   ],
   "source": [
    "%%time\n",
    "\n",
    "response = query_engine.query(\n",
    "    \"这是工作任务总结方面的问题\"\n",
    "    \"列表简要回答，林晓琪做了哪些工作任务\"    \n",
    ")\n",
    "print(str(response))"
   ]
  },
  {
   "cell_type": "markdown",
   "id": "ba956696-00af-486b-b70c-d22898198b19",
   "metadata": {},
   "source": [
    "### 具体问题"
   ]
  },
  {
   "cell_type": "code",
   "execution_count": 103,
   "id": "837f3af3-55dc-4493-87bd-96bf55554fd7",
   "metadata": {},
   "outputs": [
    {
     "name": "stdout",
     "output_type": "stream",
     "text": [
      "产品部林晓琪针对simple-rag产品提交了新特性的需求——多数据源的融合检索查询。这一需求旨在解决在某些功能下大文档检索召回率不高的问题，从而提升整体回答效果。通过引入新的检索方法并整合现有的检索结果，期望能够显著提高检索的召回率，确保用户能获取到更加全面和准确的信息。\n",
      "CPU times: user 14 ms, sys: 3.8 ms, total: 17.8 ms\n",
      "Wall time: 3.65 s\n"
     ]
    }
   ],
   "source": [
    "%%time\n",
    "\n",
    "response = query_engine.query(\"具体说下多数据源融合检索查询的新特性需求\")\n",
    "print(str(response))"
   ]
  }
 ],
 "metadata": {
  "kernelspec": {
   "display_name": "Python 3 (ipykernel)",
   "language": "python",
   "name": "python3"
  },
  "language_info": {
   "codemirror_mode": {
    "name": "ipython",
    "version": 3
   },
   "file_extension": ".py",
   "mimetype": "text/x-python",
   "name": "python",
   "nbconvert_exporter": "python",
   "pygments_lexer": "ipython3",
   "version": "3.10.12"
  }
 },
 "nbformat": 4,
 "nbformat_minor": 5
}
