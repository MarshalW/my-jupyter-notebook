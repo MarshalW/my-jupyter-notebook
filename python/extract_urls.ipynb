{
 "cells": [
  {
   "cell_type": "markdown",
   "id": "fdd6f4f8-eab8-40f6-8d04-fe1fee49ff81",
   "metadata": {},
   "source": [
    "# 从字符串中抽取出url"
   ]
  },
  {
   "cell_type": "code",
   "execution_count": 1,
   "id": "22d4261b-7303-4d66-ad8c-8885f0bea40b",
   "metadata": {},
   "outputs": [
    {
     "name": "stdout",
     "output_type": "stream",
     "text": [
      "['https://www.example.com', 'http://test.com.', 'https://www.anotherexample.org']\n"
     ]
    }
   ],
   "source": [
    "import re\n",
    "\n",
    "def extract_urls(text):\n",
    "    # Regular expression pattern to identify URLs\n",
    "    url_pattern = re.compile(r'(https?://\\S+)')\n",
    "    # Find all URLs in the text\n",
    "    urls = url_pattern.findall(text)\n",
    "    return urls\n",
    "\n",
    "# Example text containing URLs\n",
    "text = \"\"\"\n",
    "Here are some URLs: https://www.example.com and http://test.com.\n",
    "Check out https://www.anotherexample.org for more information.\n",
    "\"\"\"\n",
    "\n",
    "# Extract URLs\n",
    "extracted_urls = extract_urls(text)\n",
    "print(extracted_urls)\n"
   ]
  },
  {
   "cell_type": "code",
   "execution_count": 2,
   "id": "962b4e29-d6ac-4ee8-a273-b45f9de4be8d",
   "metadata": {},
   "outputs": [
    {
     "name": "stdout",
     "output_type": "stream",
     "text": [
      "['https://www.example.com/test/K=123&F=abd', 'http://test.com:8080/kk?id=12.', 'https://www.anotherexample.org']\n"
     ]
    }
   ],
   "source": [
    "import re\n",
    "\n",
    "def extract_urls(text):\n",
    "    # Regular expression pattern to identify URLs\n",
    "    url_pattern = re.compile(r'(https?://\\S+)')\n",
    "    # Find all URLs in the text\n",
    "    urls = url_pattern.findall(text)\n",
    "    return urls\n",
    "\n",
    "# Example text containing URLs\n",
    "text = \"\"\"\n",
    "Here are some URLs: https://www.example.com/test/K=123&F=abd and http://test.com:8080/kk?id=12.\n",
    "Check out https://www.anotherexample.org for more information.\n",
    "\"\"\"\n",
    "\n",
    "# Extract URLs\n",
    "extracted_urls = extract_urls(text)\n",
    "print(extracted_urls)"
   ]
  },
  {
   "cell_type": "code",
   "execution_count": 3,
   "id": "23cdcddf-34d6-4bd3-afe5-6235f6ce0f42",
   "metadata": {},
   "outputs": [
    {
     "name": "stdout",
     "output_type": "stream",
     "text": [
      "[]\n"
     ]
    }
   ],
   "source": [
    "text = \"\"\"\n",
    "Here are some URdfafaasfa\n",
    "\"\"\"\n",
    "\n",
    "# Extract URLs\n",
    "extracted_urls = extract_urls(text)\n",
    "print(extracted_urls)"
   ]
  },
  {
   "cell_type": "code",
   "execution_count": null,
   "id": "3283a06f-e35e-4ddb-a6d7-d22d735df29a",
   "metadata": {},
   "outputs": [],
   "source": []
  }
 ],
 "metadata": {
  "kernelspec": {
   "display_name": "Python 3 (ipykernel)",
   "language": "python",
   "name": "python3"
  },
  "language_info": {
   "codemirror_mode": {
    "name": "ipython",
    "version": 3
   },
   "file_extension": ".py",
   "mimetype": "text/x-python",
   "name": "python",
   "nbconvert_exporter": "python",
   "pygments_lexer": "ipython3",
   "version": "3.10.12"
  }
 },
 "nbformat": 4,
 "nbformat_minor": 5
}
