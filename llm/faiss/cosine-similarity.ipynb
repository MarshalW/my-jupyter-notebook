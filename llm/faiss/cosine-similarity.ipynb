{
 "cells": [
  {
   "cell_type": "markdown",
   "id": "6594aed3-20bf-4e28-add6-847c07bd7785",
   "metadata": {},
   "source": [
    "# 余弦相似度"
   ]
  },
  {
   "cell_type": "code",
   "execution_count": null,
   "id": "b9994037-78f7-4198-b77c-8e606ae8c707",
   "metadata": {},
   "outputs": [],
   "source": [
    "- 余弦相似度适合用于自然语言文本、图像和高维场景\n",
    "- 欧式距离适合用于数值数据和低维数据"
   ]
  },
  {
   "cell_type": "markdown",
   "id": "802e95ee-3615-47be-a9db-aa9429a6bdb2",
   "metadata": {},
   "source": [
    "## 准备"
   ]
  },
  {
   "cell_type": "code",
   "execution_count": 1,
   "id": "630cd38c-663c-462a-bb44-de21c2dc463e",
   "metadata": {},
   "outputs": [],
   "source": [
    "import faiss\n",
    "import numpy as np\n",
    "import pandas as pd\n",
    "from sentence_transformers import SentenceTransformer"
   ]
  },
  {
   "cell_type": "markdown",
   "id": "1847362d-c1aa-45f4-a75f-7c07ded100db",
   "metadata": {},
   "source": [
    "## 最基本示例"
   ]
  },
  {
   "cell_type": "code",
   "execution_count": 2,
   "id": "92871953-ad3f-42d9-95c7-c9b0f1b91f5f",
   "metadata": {},
   "outputs": [
    {
     "name": "stdout",
     "output_type": "stream",
     "text": [
      "最相似的向量索引： [[8 7 1 0 4]]\n",
      "相似度度量值： [[0.8394477  0.79711246 0.7828023  0.77742726 0.76630914]]\n"
     ]
    }
   ],
   "source": [
    "# 创建一些示例向量\n",
    "vecs = np.random.random((10, 64)).astype('float32')\n",
    "\n",
    "# 对向量进行归一化\n",
    "vecs /= np.linalg.norm(vecs, axis=1)[:, np.newaxis]\n",
    "\n",
    "# 创建一个FlatIndex\n",
    "index = faiss.IndexFlatIP(64)  # 使用内积作为相似度度量\n",
    "\n",
    "# 向索引中添加向量\n",
    "index.add(vecs)\n",
    "\n",
    "# 查询向量\n",
    "query_vec = np.random.random((1, 64)).astype('float32')\n",
    "query_vec /= np.linalg.norm(query_vec)\n",
    "\n",
    "# 进行查询\n",
    "k = 5  # 查询前5个最相似的向量\n",
    "distances, indices = index.search(query_vec, k)\n",
    "\n",
    "print(\"最相似的向量索引：\", indices)\n",
    "print(\"相似度度量值：\", distances)"
   ]
  },
  {
   "cell_type": "markdown",
   "id": "a5dbd48f-dd93-44cc-a911-82786d632909",
   "metadata": {},
   "source": [
    "## 给猫吃点啥"
   ]
  },
  {
   "cell_type": "code",
   "execution_count": 3,
   "id": "8539f863-f4b8-4eed-8d71-1a221dac723a",
   "metadata": {},
   "outputs": [
    {
     "name": "stdout",
     "output_type": "stream",
     "text": [
      "\n",
      "数据:\n"
     ]
    },
    {
     "data": {
      "text/html": [
       "<div>\n",
       "<style scoped>\n",
       "    .dataframe tbody tr th:only-of-type {\n",
       "        vertical-align: middle;\n",
       "    }\n",
       "\n",
       "    .dataframe tbody tr th {\n",
       "        vertical-align: top;\n",
       "    }\n",
       "\n",
       "    .dataframe thead th {\n",
       "        text-align: right;\n",
       "    }\n",
       "</style>\n",
       "<table border=\"1\" class=\"dataframe\">\n",
       "  <thead>\n",
       "    <tr style=\"text-align: right;\">\n",
       "      <th></th>\n",
       "      <th>文本</th>\n",
       "      <th>分类</th>\n",
       "    </tr>\n",
       "  </thead>\n",
       "  <tbody>\n",
       "    <tr>\n",
       "      <th>0</th>\n",
       "      <td>六分仪（Sextant）是一种用于测量天体角度的仪器，常用于航海和天文导航。</td>\n",
       "      <td>工具</td>\n",
       "    </tr>\n",
       "    <tr>\n",
       "      <th>1</th>\n",
       "      <td>烤白薯是一道美味健康的小吃，下面是简单的制作步骤</td>\n",
       "      <td>菜谱</td>\n",
       "    </tr>\n",
       "    <tr>\n",
       "      <th>2</th>\n",
       "      <td>老鼠是一种常见的小型哺乳动物，属于鼠科。</td>\n",
       "      <td>动物</td>\n",
       "    </tr>\n",
       "    <tr>\n",
       "      <th>3</th>\n",
       "      <td>比瑞吉 优选系列 添加深海鱼油 成猫猫粮2kg</td>\n",
       "      <td>电商</td>\n",
       "    </tr>\n",
       "    <tr>\n",
       "      <th>4</th>\n",
       "      <td>奶酪是一种以牛、羊、山羊或其他动物的乳汁为原料，经过发酵和加工制作而成的食品。</td>\n",
       "      <td>食品</td>\n",
       "    </tr>\n",
       "    <tr>\n",
       "      <th>5</th>\n",
       "      <td>凯锐思 幼猫猫粮奶糕全价幼猫粮天然粮 【尝鲜装】幼猫粮500g</td>\n",
       "      <td>电商</td>\n",
       "    </tr>\n",
       "    <tr>\n",
       "      <th>6</th>\n",
       "      <td>黑洞是宇宙中一种极为神秘的天体，它是一种极度密集的天体，其引力非常强大，甚至连光都无法逃离其吸引。</td>\n",
       "      <td>天体物理</td>\n",
       "    </tr>\n",
       "    <tr>\n",
       "      <th>7</th>\n",
       "      <td>\"阿拉斯加的鳄鱼\" 这个短语通常是一种幽默或谐音，用来形容一个不存在的事物或情况。</td>\n",
       "      <td>修辞</td>\n",
       "    </tr>\n",
       "    <tr>\n",
       "      <th>8</th>\n",
       "      <td>潭中鱼可百许头，皆若空游无所依。</td>\n",
       "      <td>古代文学</td>\n",
       "    </tr>\n",
       "    <tr>\n",
       "      <th>9</th>\n",
       "      <td>武松是中国古典小说《水浒传》中的一个著名人物，他是108位好汉中的一员，也是四大头领之一。</td>\n",
       "      <td>古代文学</td>\n",
       "    </tr>\n",
       "  </tbody>\n",
       "</table>\n",
       "</div>"
      ],
      "text/plain": [
       "                                                  文本    分类\n",
       "0             六分仪（Sextant）是一种用于测量天体角度的仪器，常用于航海和天文导航。    工具\n",
       "1                           烤白薯是一道美味健康的小吃，下面是简单的制作步骤    菜谱\n",
       "2                               老鼠是一种常见的小型哺乳动物，属于鼠科。    动物\n",
       "3                            比瑞吉 优选系列 添加深海鱼油 成猫猫粮2kg    电商\n",
       "4            奶酪是一种以牛、羊、山羊或其他动物的乳汁为原料，经过发酵和加工制作而成的食品。    食品\n",
       "5                    凯锐思 幼猫猫粮奶糕全价幼猫粮天然粮 【尝鲜装】幼猫粮500g    电商\n",
       "6  黑洞是宇宙中一种极为神秘的天体，它是一种极度密集的天体，其引力非常强大，甚至连光都无法逃离其吸引。  天体物理\n",
       "7          \"阿拉斯加的鳄鱼\" 这个短语通常是一种幽默或谐音，用来形容一个不存在的事物或情况。    修辞\n",
       "8                                   潭中鱼可百许头，皆若空游无所依。  古代文学\n",
       "9      武松是中国古典小说《水浒传》中的一个著名人物，他是108位好汉中的一员，也是四大头领之一。  古代文学"
      ]
     },
     "metadata": {},
     "output_type": "display_data"
    }
   ],
   "source": [
    "data = [['六分仪（Sextant）是一种用于测量天体角度的仪器，常用于航海和天文导航。', '工具'],\n",
    "['烤白薯是一道美味健康的小吃，下面是简单的制作步骤', '菜谱'],\n",
    "['老鼠是一种常见的小型哺乳动物，属于鼠科。', '动物'],\n",
    "['比瑞吉 优选系列 添加深海鱼油 成猫猫粮2kg', '电商'],\n",
    "['奶酪是一种以牛、羊、山羊或其他动物的乳汁为原料，经过发酵和加工制作而成的食品。', '食品'],\n",
    "['凯锐思 幼猫猫粮奶糕全价幼猫粮天然粮 【尝鲜装】幼猫粮500g','电商'],\n",
    "['黑洞是宇宙中一种极为神秘的天体，它是一种极度密集的天体，其引力非常强大，甚至连光都无法逃离其吸引。','天体物理'],\n",
    "['\"阿拉斯加的鳄鱼\" 这个短语通常是一种幽默或谐音，用来形容一个不存在的事物或情况。','修辞'],\n",
    "['潭中鱼可百许头，皆若空游无所依。','古代文学'],\n",
    "['武松是中国古典小说《水浒传》中的一个著名人物，他是108位好汉中的一员，也是四大头领之一。','古代文学']]\n",
    "df = pd.DataFrame(data, columns = ['文本', '分类'])\n",
    "\n",
    "print('\\n数据:')\n",
    "display(df)\n",
    "\n",
    "text = df['文本']"
   ]
  },
  {
   "cell_type": "code",
   "execution_count": 4,
   "id": "62ba484c-ce06-4ecd-89cb-60f6ec375ee0",
   "metadata": {},
   "outputs": [
    {
     "name": "stdout",
     "output_type": "stream",
     "text": [
      "CPU times: user 1.57 s, sys: 671 ms, total: 2.24 s\n",
      "Wall time: 1.96 s\n"
     ]
    },
    {
     "data": {
      "text/plain": [
       "1024"
      ]
     },
     "execution_count": 4,
     "metadata": {},
     "output_type": "execute_result"
    }
   ],
   "source": [
    "%%time\n",
    "\n",
    "encoder = SentenceTransformer(\"/models/bge-large-zh-v1.5\")\n",
    "vectors = encoder.encode(text)\n",
    "vector_dimension = vectors.shape[1]\n",
    "\n",
    "vector_dimension"
   ]
  },
  {
   "cell_type": "code",
   "execution_count": 5,
   "id": "f2968131-a135-4e84-8d69-905efb9bceaf",
   "metadata": {},
   "outputs": [
    {
     "data": {
      "text/plain": [
       "array([[ 0.02792057, -0.03714846, -0.01159202, ..., -0.01725691,\n",
       "        -0.00189179, -0.0196649 ],\n",
       "       [-0.00108438, -0.04289852,  0.03477975, ...,  0.01018529,\n",
       "         0.02182655, -0.00230852],\n",
       "       [-0.00641309, -0.02665936,  0.0109663 , ...,  0.01449825,\n",
       "         0.02765447,  0.00925979],\n",
       "       ...,\n",
       "       [-0.04652889, -0.0133617 , -0.00904603, ..., -0.00231135,\n",
       "        -0.00262135,  0.03224764],\n",
       "       [ 0.02496061,  0.0328386 , -0.01557181, ..., -0.03958136,\n",
       "        -0.03401508,  0.04865717],\n",
       "       [-0.00382815, -0.03929801,  0.05309108, ..., -0.01528487,\n",
       "         0.01552107,  0.01694353]], dtype=float32)"
      ]
     },
     "execution_count": 5,
     "metadata": {},
     "output_type": "execute_result"
    }
   ],
   "source": [
    "vectors"
   ]
  },
  {
   "cell_type": "code",
   "execution_count": 6,
   "id": "0c8ba4d0-2d0e-465e-ae6b-dbf4490508bf",
   "metadata": {},
   "outputs": [],
   "source": [
    "index = faiss.IndexFlatIP(vector_dimension)\n",
    "index.add(vectors)"
   ]
  },
  {
   "cell_type": "code",
   "execution_count": 7,
   "id": "98ed1b2a-1759-421e-a29f-346cccf47be6",
   "metadata": {},
   "outputs": [
    {
     "data": {
      "text/plain": [
       "'给小猫吃点啥?'"
      ]
     },
     "execution_count": 7,
     "metadata": {},
     "output_type": "execute_result"
    }
   ],
   "source": [
    "search_text = '给小猫吃点啥?'\n",
    "search_text"
   ]
  },
  {
   "cell_type": "code",
   "execution_count": 8,
   "id": "cbae48a3-c84a-4436-b5a3-adbbffe2f457",
   "metadata": {},
   "outputs": [
    {
     "name": "stdout",
     "output_type": "stream",
     "text": [
      "\n",
      "相似度排序\n"
     ]
    },
    {
     "data": {
      "text/html": [
       "<div>\n",
       "<style scoped>\n",
       "    .dataframe tbody tr th:only-of-type {\n",
       "        vertical-align: middle;\n",
       "    }\n",
       "\n",
       "    .dataframe tbody tr th {\n",
       "        vertical-align: top;\n",
       "    }\n",
       "\n",
       "    .dataframe thead th {\n",
       "        text-align: right;\n",
       "    }\n",
       "</style>\n",
       "<table border=\"1\" class=\"dataframe\">\n",
       "  <thead>\n",
       "    <tr style=\"text-align: right;\">\n",
       "      <th></th>\n",
       "      <th>distances</th>\n",
       "      <th>ann</th>\n",
       "      <th>文本</th>\n",
       "      <th>分类</th>\n",
       "    </tr>\n",
       "  </thead>\n",
       "  <tbody>\n",
       "    <tr>\n",
       "      <th>0</th>\n",
       "      <td>0.426950</td>\n",
       "      <td>5</td>\n",
       "      <td>凯锐思 幼猫猫粮奶糕全价幼猫粮天然粮 【尝鲜装】幼猫粮500g</td>\n",
       "      <td>电商</td>\n",
       "    </tr>\n",
       "    <tr>\n",
       "      <th>1</th>\n",
       "      <td>0.321440</td>\n",
       "      <td>3</td>\n",
       "      <td>比瑞吉 优选系列 添加深海鱼油 成猫猫粮2kg</td>\n",
       "      <td>电商</td>\n",
       "    </tr>\n",
       "    <tr>\n",
       "      <th>2</th>\n",
       "      <td>0.311746</td>\n",
       "      <td>2</td>\n",
       "      <td>老鼠是一种常见的小型哺乳动物，属于鼠科。</td>\n",
       "      <td>动物</td>\n",
       "    </tr>\n",
       "    <tr>\n",
       "      <th>3</th>\n",
       "      <td>0.300995</td>\n",
       "      <td>1</td>\n",
       "      <td>烤白薯是一道美味健康的小吃，下面是简单的制作步骤</td>\n",
       "      <td>菜谱</td>\n",
       "    </tr>\n",
       "    <tr>\n",
       "      <th>4</th>\n",
       "      <td>0.270809</td>\n",
       "      <td>4</td>\n",
       "      <td>奶酪是一种以牛、羊、山羊或其他动物的乳汁为原料，经过发酵和加工制作而成的食品。</td>\n",
       "      <td>食品</td>\n",
       "    </tr>\n",
       "    <tr>\n",
       "      <th>5</th>\n",
       "      <td>0.172551</td>\n",
       "      <td>8</td>\n",
       "      <td>潭中鱼可百许头，皆若空游无所依。</td>\n",
       "      <td>古代文学</td>\n",
       "    </tr>\n",
       "    <tr>\n",
       "      <th>6</th>\n",
       "      <td>0.122142</td>\n",
       "      <td>6</td>\n",
       "      <td>黑洞是宇宙中一种极为神秘的天体，它是一种极度密集的天体，其引力非常强大，甚至连光都无法逃离其吸引。</td>\n",
       "      <td>天体物理</td>\n",
       "    </tr>\n",
       "    <tr>\n",
       "      <th>7</th>\n",
       "      <td>0.117711</td>\n",
       "      <td>7</td>\n",
       "      <td>\"阿拉斯加的鳄鱼\" 这个短语通常是一种幽默或谐音，用来形容一个不存在的事物或情况。</td>\n",
       "      <td>修辞</td>\n",
       "    </tr>\n",
       "    <tr>\n",
       "      <th>8</th>\n",
       "      <td>0.068569</td>\n",
       "      <td>0</td>\n",
       "      <td>六分仪（Sextant）是一种用于测量天体角度的仪器，常用于航海和天文导航。</td>\n",
       "      <td>工具</td>\n",
       "    </tr>\n",
       "    <tr>\n",
       "      <th>9</th>\n",
       "      <td>0.046192</td>\n",
       "      <td>9</td>\n",
       "      <td>武松是中国古典小说《水浒传》中的一个著名人物，他是108位好汉中的一员，也是四大头领之一。</td>\n",
       "      <td>古代文学</td>\n",
       "    </tr>\n",
       "  </tbody>\n",
       "</table>\n",
       "</div>"
      ],
      "text/plain": [
       "   distances  ann                                                 文本    分类\n",
       "0   0.426950    5                    凯锐思 幼猫猫粮奶糕全价幼猫粮天然粮 【尝鲜装】幼猫粮500g    电商\n",
       "1   0.321440    3                            比瑞吉 优选系列 添加深海鱼油 成猫猫粮2kg    电商\n",
       "2   0.311746    2                               老鼠是一种常见的小型哺乳动物，属于鼠科。    动物\n",
       "3   0.300995    1                           烤白薯是一道美味健康的小吃，下面是简单的制作步骤    菜谱\n",
       "4   0.270809    4            奶酪是一种以牛、羊、山羊或其他动物的乳汁为原料，经过发酵和加工制作而成的食品。    食品\n",
       "5   0.172551    8                                   潭中鱼可百许头，皆若空游无所依。  古代文学\n",
       "6   0.122142    6  黑洞是宇宙中一种极为神秘的天体，它是一种极度密集的天体，其引力非常强大，甚至连光都无法逃离其吸引。  天体物理\n",
       "7   0.117711    7          \"阿拉斯加的鳄鱼\" 这个短语通常是一种幽默或谐音，用来形容一个不存在的事物或情况。    修辞\n",
       "8   0.068569    0             六分仪（Sextant）是一种用于测量天体角度的仪器，常用于航海和天文导航。    工具\n",
       "9   0.046192    9      武松是中国古典小说《水浒传》中的一个著名人物，他是108位好汉中的一员，也是四大头领之一。  古代文学"
      ]
     },
     "metadata": {},
     "output_type": "display_data"
    }
   ],
   "source": [
    "search_vector = encoder.encode(search_text)\n",
    "_vector = np.array([search_vector])\n",
    "\n",
    "k = index.ntotal\n",
    "distances, ann = index.search(_vector, k=k)\n",
    "\n",
    "results = pd.DataFrame({'distances': distances[0], 'ann': ann[0]})\n",
    "merge=pd.merge(results,df,left_on='ann',right_index=True)\n",
    "\n",
    "print('\\n相似度排序')\n",
    "display(merge)"
   ]
  }
 ],
 "metadata": {
  "kernelspec": {
   "display_name": "Python 3 (ipykernel)",
   "language": "python",
   "name": "python3"
  },
  "language_info": {
   "codemirror_mode": {
    "name": "ipython",
    "version": 3
   },
   "file_extension": ".py",
   "mimetype": "text/x-python",
   "name": "python",
   "nbconvert_exporter": "python",
   "pygments_lexer": "ipython3",
   "version": "3.10.12"
  }
 },
 "nbformat": 4,
 "nbformat_minor": 5
}
