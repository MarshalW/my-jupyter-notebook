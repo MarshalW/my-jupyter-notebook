{
 "cells": [
  {
   "cell_type": "markdown",
   "id": "bc628e62-8957-438f-83e9-23e4d5bd450b",
   "metadata": {},
   "source": [
    "# 围城数据的 KBs - 无向量数据库"
   ]
  },
  {
   "cell_type": "markdown",
   "id": "6e7139ba-bb60-44a8-a873-381c8ef3772f",
   "metadata": {},
   "source": [
    "结论：\n",
    "\n",
    "- 可以没有向量数据库\n",
    "- 向量（嵌入）将存储在本地\n",
    "- 运行正常"
   ]
  },
  {
   "cell_type": "markdown",
   "id": "52d06e14-20c7-47e1-8af1-3de52f930259",
   "metadata": {},
   "source": [
    "## 生成数据"
   ]
  },
  {
   "cell_type": "code",
   "execution_count": 5,
   "id": "3f8e452b-62f6-448e-b575-2c2cbe79b052",
   "metadata": {},
   "outputs": [
    {
     "name": "stdout",
     "output_type": "stream",
     "text": [
      "CPU times: user 2.02 ms, sys: 227 µs, total: 2.25 ms\n",
      "Wall time: 1.87 ms\n"
     ]
    },
    {
     "data": {
      "text/plain": [
       "1"
      ]
     },
     "execution_count": 5,
     "metadata": {},
     "output_type": "execute_result"
    }
   ],
   "source": [
    "%%time\n",
    "\n",
    "from llama_index.core import SimpleDirectoryReader\n",
    "\n",
    "documents=SimpleDirectoryReader(input_files=[\"books/围城.txt\"]).load_data()\n",
    "len(documents)"
   ]
  },
  {
   "cell_type": "markdown",
   "id": "0acf9b41-1276-4b0d-a725-82bfaf1218f7",
   "metadata": {},
   "source": [
    "## 设置 LlamaIndex 全局变量"
   ]
  },
  {
   "cell_type": "code",
   "execution_count": 6,
   "id": "a4537520-643a-4fc4-a1e9-72ac428207c1",
   "metadata": {},
   "outputs": [
    {
     "name": "stdout",
     "output_type": "stream",
     "text": [
      "CPU times: user 3.9 ms, sys: 8.2 ms, total: 12.1 ms\n",
      "Wall time: 119 ms\n"
     ]
    }
   ],
   "source": [
    "%%time\n",
    "\n",
    "# 加载llm和embeddings\n",
    "%run ../../utils2.py\n",
    "\n",
    "from llama_index.core import Settings\n",
    "\n",
    "Settings.llm=get_llm(model=\"qwen2-7b-6k\")\n",
    "\n",
    "# Settings.embed_model = get_embedding(model_name=\"quentinz/bge-large-zh-v1.5\")\n",
    "# embedding_dimension=1024\n",
    "\n",
    "Settings.embed_model = get_embedding(model_name=\"rjmalagon/gte-qwen2-1.5b-instruct-embed-f16\")\n",
    "embedding_dimension=1536\n",
    "\n",
    "persist_dir=\"/tmp/weicheng-kbs-simple\"\n",
    "!rm -rf $persist_dir"
   ]
  },
  {
   "cell_type": "markdown",
   "id": "7a448ab3-378f-47e2-9d8f-2f1d3cfe4524",
   "metadata": {},
   "source": [
    "## 生成索引"
   ]
  },
  {
   "cell_type": "code",
   "execution_count": 7,
   "id": "02b3d0d0-89b4-4066-a024-b766ccb02bd7",
   "metadata": {},
   "outputs": [
    {
     "name": "stdout",
     "output_type": "stream",
     "text": [
      "CPU times: user 818 ms, sys: 22.5 ms, total: 841 ms\n",
      "Wall time: 840 ms\n"
     ]
    },
    {
     "data": {
      "text/plain": [
       "3006"
      ]
     },
     "execution_count": 7,
     "metadata": {},
     "output_type": "execute_result"
    }
   ],
   "source": [
    "%%time\n",
    "\n",
    "from llama_index.core.node_parser import SentenceSplitter\n",
    "\n",
    "parser = SentenceSplitter(\n",
    "    chunk_size=128,\n",
    "    chunk_overlap=10\n",
    ")\n",
    "document_nodes = parser.get_nodes_from_documents(documents)\n",
    "\n",
    "len(document_nodes)"
   ]
  },
  {
   "cell_type": "code",
   "execution_count": 9,
   "id": "23413e87-d151-4b71-a01a-86f89ff2f5c9",
   "metadata": {},
   "outputs": [
    {
     "name": "stdout",
     "output_type": "stream",
     "text": [
      "CPU times: user 25 s, sys: 205 ms, total: 25.2 s\n",
      "Wall time: 5min 22s\n"
     ]
    }
   ],
   "source": [
    "%%time\n",
    "\n",
    "from llama_index.core import VectorStoreIndex\n",
    "\n",
    "index = VectorStoreIndex(document_nodes)"
   ]
  },
  {
   "cell_type": "markdown",
   "id": "6ba514bb-e451-4193-9527-e5f2f6f0046e",
   "metadata": {},
   "source": [
    "## 存储和加载索引"
   ]
  },
  {
   "cell_type": "code",
   "execution_count": 11,
   "id": "5e0d3fcb-b04b-4d02-b874-6077d9b73d0c",
   "metadata": {},
   "outputs": [
    {
     "name": "stdout",
     "output_type": "stream",
     "text": [
      "CPU times: user 13.4 s, sys: 117 ms, total: 13.5 s\n",
      "Wall time: 13.5 s\n"
     ]
    }
   ],
   "source": [
    "%%time\n",
    "\n",
    "index.storage_context.persist('./weicheng-no-vectordb')"
   ]
  },
  {
   "cell_type": "code",
   "execution_count": 20,
   "id": "b619aeef-7db8-4fe9-9c41-2c2496188aa7",
   "metadata": {},
   "outputs": [
    {
     "name": "stdout",
     "output_type": "stream",
     "text": [
      "CPU times: user 24 s, sys: 56.6 ms, total: 24.1 s\n",
      "Wall time: 24.1 s\n"
     ]
    }
   ],
   "source": [
    "%%time\n",
    "\n",
    "from llama_index.core import (\n",
    "    load_index_from_storage,\n",
    "    StorageContext,\n",
    ")\n",
    "\n",
    "index = load_index_from_storage(StorageContext.from_defaults(persist_dir=\"./weicheng-no-vectordb\"))"
   ]
  },
  {
   "cell_type": "markdown",
   "id": "af1f6537-7051-4061-be07-09acf38eaf47",
   "metadata": {},
   "source": [
    "## 基于嵌入检索的查询"
   ]
  },
  {
   "cell_type": "code",
   "execution_count": 21,
   "id": "53091086-0bb1-44ff-b286-81d36869b5f2",
   "metadata": {},
   "outputs": [
    {
     "name": "stdout",
     "output_type": "stream",
     "text": [
      "根据提供的信息，无法确定方鸿渐的妻子是谁。文中提到了“苏文纨小姐”，但并未明确表示她就是方鸿渐的配偶。因此，不能仅凭这些信息推断出方鸿渐的妻子身份。CPU times: user 192 ms, sys: 16.7 ms, total: 208 ms\n",
      "Wall time: 6.69 s\n"
     ]
    }
   ],
   "source": [
    "%%time\n",
    "\n",
    "from llama_index.core import get_response_synthesizer\n",
    "from llama_index.core.query_engine import RetrieverQueryEngine\n",
    "\n",
    "embedding_retriever = index.as_retriever(\n",
    "    similarity_top_k=5,\n",
    ")\n",
    "\n",
    "response_synthesizer = get_response_synthesizer(\n",
    "    response_mode=\"tree_summarize\",\n",
    "    streaming=True,\n",
    ")\n",
    "\n",
    "# assemble query engine\n",
    "query_engine = RetrieverQueryEngine(\n",
    "    retriever=embedding_retriever,\n",
    "    response_synthesizer=response_synthesizer,\n",
    ")\n",
    "\n",
    "# query\n",
    "streaming_response = query_engine.query(\"方鸿渐的老婆是谁\")\n",
    "streaming_response.print_response_stream()"
   ]
  },
  {
   "cell_type": "markdown",
   "id": "749c100a-de35-4dac-86a6-f051e71a6204",
   "metadata": {},
   "source": [
    "## 基于 BM25 检索的查询"
   ]
  },
  {
   "cell_type": "code",
   "execution_count": 13,
   "id": "6c31d0be-385d-428f-8ed8-44a0634ca462",
   "metadata": {},
   "outputs": [
    {
     "name": "stdout",
     "output_type": "stream",
     "text": [
      "CPU times: user 2.34 ms, sys: 8.62 ms, total: 11 ms\n",
      "Wall time: 435 ms\n"
     ]
    },
    {
     "name": "stderr",
     "output_type": "stream",
     "text": [
      "[nltk_data] Downloading package stopwords to /root/nltk_data...\n",
      "[nltk_data]   Package stopwords is already up-to-date!\n"
     ]
    },
    {
     "data": {
      "text/plain": [
       "True"
      ]
     },
     "execution_count": 13,
     "metadata": {},
     "output_type": "execute_result"
    }
   ],
   "source": [
    "%%time\n",
    "\n",
    "# 下载停用词\n",
    "\n",
    "# 设置 HTTP 代理环境变量\n",
    "# https://github.com/nltk/nltk_data/issues/154#issuecomment-2144880495\n",
    "http_proxy=\"http://192.168.0.134:7890\"\n",
    "\n",
    "import nltk\n",
    "nltk.set_proxy(f'{http_proxy}')\n",
    "nltk.download('stopwords')"
   ]
  },
  {
   "cell_type": "code",
   "execution_count": 14,
   "id": "d5a169e5-e9a1-4cb1-aa35-663c8918720f",
   "metadata": {},
   "outputs": [
    {
     "name": "stdout",
     "output_type": "stream",
     "text": [
      "CPU times: user 71.1 ms, sys: 8.57 ms, total: 79.7 ms\n",
      "Wall time: 79.4 ms\n"
     ]
    }
   ],
   "source": [
    "%%time\n",
    "\n",
    "import jieba\n",
    "from typing import List\n",
    "from nltk.corpus import stopwords\n",
    "\n",
    "def chinese_tokenizer(text: str) -> List[str]:\n",
    "    # Use jieba to segment Chinese text\n",
    "    return list(jieba.cut(text))"
   ]
  },
  {
   "cell_type": "code",
   "execution_count": 15,
   "id": "b1596ee3-b77c-44e0-ac84-144741abcfca",
   "metadata": {},
   "outputs": [
    {
     "name": "stderr",
     "output_type": "stream",
     "text": [
      "Building prefix dict from the default dictionary ...\n",
      "Loading model from cache /tmp/jieba.cache\n",
      "Loading model cost 0.402 seconds.\n",
      "Prefix dict has been built successfully.\n"
     ]
    },
    {
     "name": "stdout",
     "output_type": "stream",
     "text": [
      "CPU times: user 2.43 s, sys: 26.1 ms, total: 2.46 s\n",
      "Wall time: 2.45 s\n"
     ]
    }
   ],
   "source": [
    "%%time\n",
    "\n",
    "from llama_index.retrievers.bm25 import BM25Retriever\n",
    "from llama_index.core.storage.docstore import SimpleDocumentStore\n",
    "\n",
    "splitter = SentenceSplitter(chunk_size=128, chunk_overlap=10)\n",
    "docstore = SimpleDocumentStore()\n",
    "docstore.add_documents(splitter.get_nodes_from_documents(documents))\n",
    "\n",
    "bm25_retriever=BM25Retriever.from_defaults(\n",
    "    docstore=docstore, \n",
    "    similarity_top_k=5,\n",
    "    tokenizer=chinese_tokenizer,\n",
    ")"
   ]
  },
  {
   "cell_type": "code",
   "execution_count": 16,
   "id": "a5c64092-44aa-4b8a-9e77-36b89a705f3d",
   "metadata": {},
   "outputs": [
    {
     "name": "stdout",
     "output_type": "stream",
     "text": [
      "根据提供的信息，无法直接确定方鸿渐的老婆的具体身份。文中提到了“结婚二十多年，生的一个儿子都在大学毕业，这老婆早死了”这一描述，但没有明确指出这个老婆的名字。因此，我们不能从这些信息中得出方鸿渐的老婆是谁的答案。CPU times: user 118 ms, sys: 0 ns, total: 118 ms\n",
      "Wall time: 1.72 s\n"
     ]
    }
   ],
   "source": [
    "%%time\n",
    "\n",
    "response_synthesizer = get_response_synthesizer(\n",
    "    response_mode=\"tree_summarize\",\n",
    "    streaming=True,\n",
    ")\n",
    "\n",
    "# assemble query engine\n",
    "query_engine = RetrieverQueryEngine(\n",
    "    retriever=bm25_retriever,\n",
    "    response_synthesizer=response_synthesizer,\n",
    ")\n",
    "\n",
    "# query\n",
    "streaming_response = query_engine.query(\"方鸿渐的老婆是谁\")\n",
    "streaming_response.print_response_stream()"
   ]
  },
  {
   "cell_type": "markdown",
   "id": "0592833b-2c40-443e-9630-231759adeb26",
   "metadata": {},
   "source": [
    "## 基于混合检索的查询"
   ]
  },
  {
   "cell_type": "code",
   "execution_count": 17,
   "id": "c0b9fe0c-6235-4ec6-9b8a-89e9b1e27dc4",
   "metadata": {},
   "outputs": [
    {
     "name": "stdout",
     "output_type": "stream",
     "text": [
      "CPU times: user 2.79 ms, sys: 58 µs, total: 2.85 ms\n",
      "Wall time: 2.53 ms\n"
     ]
    }
   ],
   "source": [
    "%%time\n",
    "\n",
    "from llama_index.core.retrievers import QueryFusionRetriever\n",
    "\n",
    "fusion_retriever = QueryFusionRetriever(\n",
    "    [\n",
    "        embedding_retriever,\n",
    "        bm25_retriever,\n",
    "    ],\n",
    "    num_queries=1,\n",
    "    use_async=True,\n",
    ")"
   ]
  },
  {
   "cell_type": "code",
   "execution_count": 18,
   "id": "2cade08b-87bd-456c-836a-c0eff9712a68",
   "metadata": {},
   "outputs": [
    {
     "name": "stdout",
     "output_type": "stream",
     "text": [
      "根据提供的信息，方鸿渐的妻子是白俄（可能是俄罗斯或乌克兰人）出身的外国妻子。她在中国去世了，并且在去世前与方鸿渐结婚已有二十多年的时间。他们有一个儿子已经大学毕业。CPU times: user 233 ms, sys: 11.4 ms, total: 244 ms\n",
      "Wall time: 1.59 s\n"
     ]
    }
   ],
   "source": [
    "%%time\n",
    "\n",
    "response_synthesizer = get_response_synthesizer(\n",
    "    response_mode=\"tree_summarize\",\n",
    "    streaming=True,\n",
    ")\n",
    "\n",
    "# query_engine = RetrieverQueryEngine.from_args(fusion_retriever)\n",
    "\n",
    "# assemble query engine\n",
    "query_engine = RetrieverQueryEngine(\n",
    "    retriever=fusion_retriever,\n",
    "    response_synthesizer=response_synthesizer,\n",
    ")\n",
    "\n",
    "# query\n",
    "streaming_response = query_engine.query(\"方鸿渐的老婆是谁\")\n",
    "streaming_response.print_response_stream()"
   ]
  },
  {
   "cell_type": "code",
   "execution_count": null,
   "id": "648b4375-4d7d-49ae-b46b-c262be4e8fbd",
   "metadata": {},
   "outputs": [],
   "source": []
  }
 ],
 "metadata": {
  "kernelspec": {
   "display_name": "Python 3 (ipykernel)",
   "language": "python",
   "name": "python3"
  },
  "language_info": {
   "codemirror_mode": {
    "name": "ipython",
    "version": 3
   },
   "file_extension": ".py",
   "mimetype": "text/x-python",
   "name": "python",
   "nbconvert_exporter": "python",
   "pygments_lexer": "ipython3",
   "version": "3.10.12"
  }
 },
 "nbformat": 4,
 "nbformat_minor": 5
}
