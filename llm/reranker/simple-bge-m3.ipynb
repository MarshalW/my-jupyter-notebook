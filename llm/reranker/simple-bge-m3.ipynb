{
 "cells": [
  {
   "cell_type": "markdown",
   "id": "92ae5327-6a8d-4633-8122-49c834b35e7c",
   "metadata": {},
   "source": [
    "# 最简单的bge-reranker-m3"
   ]
  },
  {
   "cell_type": "markdown",
   "id": "dcb09760-562a-4442-9c84-300a883713e0",
   "metadata": {},
   "source": [
    "## 官方示例"
   ]
  },
  {
   "cell_type": "code",
   "execution_count": 1,
   "id": "12f8fa49-96f6-47e0-ba8c-0e1feb3509ea",
   "metadata": {},
   "outputs": [
    {
     "name": "stdout",
     "output_type": "stream",
     "text": [
      "tensor([-8.1838,  5.2650])\n"
     ]
    }
   ],
   "source": [
    "import torch\n",
    "from transformers import AutoModelForSequenceClassification, AutoTokenizer\n",
    "\n",
    "tokenizer = AutoTokenizer.from_pretrained('/models/bge-reranker-v2-m3')\n",
    "model = AutoModelForSequenceClassification.from_pretrained('/models/bge-reranker-v2-m3')\n",
    "model.eval()\n",
    "\n",
    "pairs = [['what is panda?', 'hi'], ['what is panda?', 'The giant panda (Ailuropoda melanoleuca), sometimes called a panda bear or simply panda, is a bear species endemic to China.']]\n",
    "with torch.no_grad():\n",
    "    inputs = tokenizer(pairs, padding=True, truncation=True, return_tensors='pt', max_length=512)\n",
    "    scores = model(**inputs, return_dict=True).logits.view(-1, ).float()\n",
    "    print(scores)\n"
   ]
  },
  {
   "cell_type": "markdown",
   "id": "2db2264b-fe0b-4115-b16e-966661566c53",
   "metadata": {},
   "source": [
    "## 自定义示例"
   ]
  },
  {
   "cell_type": "code",
   "execution_count": 2,
   "id": "1bce5cb8-1669-4f40-9d56-d0f29543c094",
   "metadata": {},
   "outputs": [
    {
     "name": "stdout",
     "output_type": "stream",
     "text": [
      "tensor([-6.9455,  4.5169])\n"
     ]
    }
   ],
   "source": [
    "pairs = [['熊猫是啥?', '你好啊'], ['熊猫是啥?', '熊猫，也称大熊猫，是中国特有的哺乳动物，以其标志性的黑白色和圆润的外形而闻名。']]\n",
    "with torch.no_grad():\n",
    "    inputs = tokenizer(pairs, padding=True, truncation=True, return_tensors='pt', max_length=512)\n",
    "    scores = model(**inputs, return_dict=True).logits.view(-1, ).float()\n",
    "    print(scores)"
   ]
  },
  {
   "cell_type": "code",
   "execution_count": null,
   "id": "da8e782c-5d4f-4494-a2e5-e2df4faf0c7a",
   "metadata": {},
   "outputs": [],
   "source": []
  }
 ],
 "metadata": {
  "kernelspec": {
   "display_name": "Python 3 (ipykernel)",
   "language": "python",
   "name": "python3"
  },
  "language_info": {
   "codemirror_mode": {
    "name": "ipython",
    "version": 3
   },
   "file_extension": ".py",
   "mimetype": "text/x-python",
   "name": "python",
   "nbconvert_exporter": "python",
   "pygments_lexer": "ipython3",
   "version": "3.10.12"
  }
 },
 "nbformat": 4,
 "nbformat_minor": 5
}
