{
 "cells": [
  {
   "cell_type": "markdown",
   "id": "533c3d52-b5d4-4f4a-8be4-27f4f8c202dc",
   "metadata": {},
   "source": [
    "# 最简单的 MarkdownReader 示例"
   ]
  },
  {
   "cell_type": "markdown",
   "id": "3973dacd-8844-4609-abb1-dc809c208db8",
   "metadata": {},
   "source": [
    "结论：\n",
    "\n",
    "- MarkdownReader 会根据 `md` 文件的标题，拆分出多个 `Document`\n",
    "- 可以通过继承类，覆盖方法，实现在 `Document` 对象增加 metadata 数据的功能 -- 文件路径"
   ]
  },
  {
   "cell_type": "code",
   "execution_count": 1,
   "id": "533b5423-4755-435a-b76b-8a08a45a04f2",
   "metadata": {},
   "outputs": [
    {
     "name": "stdout",
     "output_type": "stream",
     "text": [
      "CPU times: user 1.55 s, sys: 260 ms, total: 1.81 s\n",
      "Wall time: 1.42 s\n"
     ]
    }
   ],
   "source": [
    "%%time\n",
    "\n",
    "from pathlib import Path\n",
    "from llama_index.readers.file import MarkdownReader\n",
    "\n",
    "filepath=\"./data/test.md\"\n",
    "content = MarkdownReader().load_data(Path(filepath))"
   ]
  },
  {
   "cell_type": "code",
   "execution_count": 3,
   "id": "6be8a5e4-44a9-4df4-a410-36b466d969ec",
   "metadata": {},
   "outputs": [
    {
     "data": {
      "text/plain": [
       "5"
      ]
     },
     "execution_count": 3,
     "metadata": {},
     "output_type": "execute_result"
    }
   ],
   "source": [
    "len(content)"
   ]
  },
  {
   "cell_type": "code",
   "execution_count": 4,
   "id": "76a4a5c6-7a1e-43bd-beb8-540828913ddb",
   "metadata": {},
   "outputs": [
    {
     "data": {
      "text/plain": [
       "[Document(id_='6f2d6fe4-bfc1-498d-a181-f5b00603fcc5', embedding=None, metadata={}, excluded_embed_metadata_keys=[], excluded_llm_metadata_keys=[], relationships={}, text='\\n\\n主要步骤\\n\\n- 注册微信小程序\\n- 安装 “微信开发者工具”\\n- 在 “微信开发者工具” 中创建原型项目\\n- 进行原生小程序开发\\n', mimetype='text/plain', start_char_idx=None, end_char_idx=None, text_template='{metadata_str}\\n\\n{content}', metadata_template='{key}: {value}', metadata_seperator='\\n'),\n",
       " Document(id_='56dcc8de-b3c4-4b04-a9a8-7c572586de7b', embedding=None, metadata={}, excluded_embed_metadata_keys=[], excluded_llm_metadata_keys=[], relationships={}, text='\\n\\n注册微信小程序\\n\\n地址： https://mp.weixin.qq.com/\\n\\n需要创建一个单独的邮箱，用于注册:\\n\\n- https://qiye.aliyun.com/ 使用 postmaster 账号登录\\n- 创建新的邮件组，小程序01/mini_01，按照顺序排列\\n- 通过邮件组成员账号接收激活小程序\\n\\n', mimetype='text/plain', start_char_idx=None, end_char_idx=None, text_template='{metadata_str}\\n\\n{content}', metadata_template='{key}: {value}', metadata_seperator='\\n'),\n",
       " Document(id_='b658864e-3981-4a71-be6e-c5d284fd5abc', embedding=None, metadata={}, excluded_embed_metadata_keys=[], excluded_llm_metadata_keys=[], relationships={}, text='\\n\\n安装“微信开发者工具”\\n\\n```bash\\nbrew install --cask wechatwebdevtools\\n```\\n', mimetype='text/plain', start_char_idx=None, end_char_idx=None, text_template='{metadata_str}\\n\\n{content}', metadata_template='{key}: {value}', metadata_seperator='\\n'),\n",
       " Document(id_='70d39ceb-d006-4d28-bf38-f5d5a798d12b', embedding=None, metadata={}, excluded_embed_metadata_keys=[], excluded_llm_metadata_keys=[], relationships={}, text='\\n\\n在 “微信开发者工具” 中创建原型项目\\n\\n使用模版，生成最基本的框架项目。\\n', mimetype='text/plain', start_char_idx=None, end_char_idx=None, text_template='{metadata_str}\\n\\n{content}', metadata_template='{key}: {value}', metadata_seperator='\\n'),\n",
       " Document(id_='2131c899-e592-42b7-a480-a9fb53171c30', embedding=None, metadata={}, excluded_embed_metadata_keys=[], excluded_llm_metadata_keys=[], relationships={}, text='\\n\\n进行原生小程序开发\\n\\n小程序有2种开发方式：\\n\\n- 基于小程序原生api和组件api实现项目，这是最简单的实现方式\\n        - 直接用原生api，性能最好\\n        - 不利于开发复杂应用\\n        - 不利于复用\\n- 使用第三方开发框架，比如 taro 等，\\n        - 最终也会将代码编译为小程序原生形式\\n        - 性能不如直接用原生api\\n        - 利于复用，比如编译为支付宝小程序等\\n        - 利于开发部署过程的自动化', mimetype='text/plain', start_char_idx=None, end_char_idx=None, text_template='{metadata_str}\\n\\n{content}', metadata_template='{key}: {value}', metadata_seperator='\\n')]"
      ]
     },
     "execution_count": 4,
     "metadata": {},
     "output_type": "execute_result"
    }
   ],
   "source": [
    "content"
   ]
  },
  {
   "cell_type": "code",
   "execution_count": 23,
   "id": "26f5b46e-8303-4c8e-9d10-d4bdf4df4ee5",
   "metadata": {},
   "outputs": [],
   "source": [
    "from typing import Any, Dict, List, Optional, Tuple\n",
    "from fsspec import AbstractFileSystem\n",
    "from llama_index.core.schema import Document\n",
    "\n",
    "class MyReader(MarkdownReader):\n",
    "\n",
    "    def load_data(\n",
    "        self,\n",
    "        file: Path,\n",
    "        extra_info: Optional[Dict] = None,\n",
    "        fs: Optional[AbstractFileSystem] = None,\n",
    "    ) -> List[Document]:\n",
    "        \"\"\"Parse file into string.\"\"\"\n",
    "        tups = self.parse_tups(file, fs=fs)\n",
    "        results = []\n",
    "        # TODO: don't include headers right now\n",
    "        for header, value in tups:\n",
    "            print(header,file)\n",
    "            if header is None:\n",
    "                results.append(Document(text=value, metadata=extra_info or {}))\n",
    "            else:\n",
    "                results.append(\n",
    "                    Document(text=f\"\\n\\n{header}\\n{value}\", metadata=extra_info or {})\n",
    "                )\n",
    "            results[-1].metadata['file']=file.as_posix()\n",
    "\n",
    "        return results"
   ]
  },
  {
   "cell_type": "code",
   "execution_count": 24,
   "id": "fd4207b7-2390-4231-b729-bf6ef4574289",
   "metadata": {},
   "outputs": [
    {
     "name": "stdout",
     "output_type": "stream",
     "text": [
      "主要步骤 data/test.md\n",
      "注册微信小程序 data/test.md\n",
      "安装“微信开发者工具” data/test.md\n",
      "在 “微信开发者工具” 中创建原型项目 data/test.md\n",
      "进行原生小程序开发 data/test.md\n"
     ]
    },
    {
     "data": {
      "text/plain": [
       "5"
      ]
     },
     "execution_count": 24,
     "metadata": {},
     "output_type": "execute_result"
    }
   ],
   "source": [
    "content2 = MyReader().load_data(Path(filepath))\n",
    "len(content2)"
   ]
  },
  {
   "cell_type": "code",
   "execution_count": 25,
   "id": "4112db66-cd48-4276-9e99-b0d56eb0f22d",
   "metadata": {},
   "outputs": [
    {
     "data": {
      "text/plain": [
       "[Document(id_='e7b44df4-b738-4466-8f79-6d255078829f', embedding=None, metadata={'file': 'data/test.md'}, excluded_embed_metadata_keys=[], excluded_llm_metadata_keys=[], relationships={}, text='\\n\\n主要步骤\\n\\n- 注册微信小程序\\n- 安装 “微信开发者工具”\\n- 在 “微信开发者工具” 中创建原型项目\\n- 进行原生小程序开发\\n', mimetype='text/plain', start_char_idx=None, end_char_idx=None, text_template='{metadata_str}\\n\\n{content}', metadata_template='{key}: {value}', metadata_seperator='\\n'),\n",
       " Document(id_='fba7cb12-48a7-4c85-aa92-67f024adcd82', embedding=None, metadata={'file': 'data/test.md'}, excluded_embed_metadata_keys=[], excluded_llm_metadata_keys=[], relationships={}, text='\\n\\n注册微信小程序\\n\\n地址： https://mp.weixin.qq.com/\\n\\n需要创建一个单独的邮箱，用于注册:\\n\\n- https://qiye.aliyun.com/ 使用 postmaster 账号登录\\n- 创建新的邮件组，小程序01/mini_01，按照顺序排列\\n- 通过邮件组成员账号接收激活小程序\\n\\n', mimetype='text/plain', start_char_idx=None, end_char_idx=None, text_template='{metadata_str}\\n\\n{content}', metadata_template='{key}: {value}', metadata_seperator='\\n'),\n",
       " Document(id_='754f25f7-640b-44d1-9240-3db61f26a7cd', embedding=None, metadata={'file': 'data/test.md'}, excluded_embed_metadata_keys=[], excluded_llm_metadata_keys=[], relationships={}, text='\\n\\n安装“微信开发者工具”\\n\\n```bash\\nbrew install --cask wechatwebdevtools\\n```\\n', mimetype='text/plain', start_char_idx=None, end_char_idx=None, text_template='{metadata_str}\\n\\n{content}', metadata_template='{key}: {value}', metadata_seperator='\\n'),\n",
       " Document(id_='f893f3fd-199b-4f22-bd59-dec61ff9a96c', embedding=None, metadata={'file': 'data/test.md'}, excluded_embed_metadata_keys=[], excluded_llm_metadata_keys=[], relationships={}, text='\\n\\n在 “微信开发者工具” 中创建原型项目\\n\\n使用模版，生成最基本的框架项目。\\n', mimetype='text/plain', start_char_idx=None, end_char_idx=None, text_template='{metadata_str}\\n\\n{content}', metadata_template='{key}: {value}', metadata_seperator='\\n'),\n",
       " Document(id_='0761dafe-11d0-47d3-8b50-931e539b243e', embedding=None, metadata={'file': 'data/test.md'}, excluded_embed_metadata_keys=[], excluded_llm_metadata_keys=[], relationships={}, text='\\n\\n进行原生小程序开发\\n\\n小程序有2种开发方式：\\n\\n- 基于小程序原生api和组件api实现项目，这是最简单的实现方式\\n        - 直接用原生api，性能最好\\n        - 不利于开发复杂应用\\n        - 不利于复用\\n- 使用第三方开发框架，比如 taro 等，\\n        - 最终也会将代码编译为小程序原生形式\\n        - 性能不如直接用原生api\\n        - 利于复用，比如编译为支付宝小程序等\\n        - 利于开发部署过程的自动化', mimetype='text/plain', start_char_idx=None, end_char_idx=None, text_template='{metadata_str}\\n\\n{content}', metadata_template='{key}: {value}', metadata_seperator='\\n')]"
      ]
     },
     "execution_count": 25,
     "metadata": {},
     "output_type": "execute_result"
    }
   ],
   "source": [
    "content2"
   ]
  },
  {
   "cell_type": "code",
   "execution_count": null,
   "id": "b0cfd2e4-ff8f-455d-b23b-f82030010d53",
   "metadata": {},
   "outputs": [],
   "source": []
  }
 ],
 "metadata": {
  "kernelspec": {
   "display_name": "Python 3 (ipykernel)",
   "language": "python",
   "name": "python3"
  },
  "language_info": {
   "codemirror_mode": {
    "name": "ipython",
    "version": 3
   },
   "file_extension": ".py",
   "mimetype": "text/x-python",
   "name": "python",
   "nbconvert_exporter": "python",
   "pygments_lexer": "ipython3",
   "version": "3.10.12"
  }
 },
 "nbformat": 4,
 "nbformat_minor": 5
}
