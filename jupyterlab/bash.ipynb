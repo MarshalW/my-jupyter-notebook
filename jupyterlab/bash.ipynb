{
 "cells": [
  {
   "cell_type": "markdown",
   "id": "5d244d86-fba3-4116-94f5-c480788dfbc6",
   "metadata": {},
   "source": [
    "# 在笔记中嵌入命令行\n",
    "\n",
    "## sh\n",
    "\n",
    "加上前缀 `%%sh` 即可。\n"
   ]
  },
  {
   "cell_type": "code",
   "execution_count": 2,
   "id": "ed1ba428-f057-4451-89cc-ecf8440df9dd",
   "metadata": {},
   "outputs": [
    {
     "name": "stdout",
     "output_type": "stream",
     "text": [
      "total 4.8M\n",
      "drwxr-xr-x 4 root root 4.0K Oct 24 14:58 .\n",
      "drwxr-xr-x 7 root root 4.0K Oct 24 12:35 ..\n",
      "-rw-r--r-- 1 root root   52 Oct 24 12:40 .env\n",
      "drwxr-xr-x 2 root root 4.0K Oct 24 14:58 .ipynb_checkpoints\n",
      "-rw-r--r-- 1 root root  229 Oct 24 14:58 README.md\n",
      "-rw-r--r-- 1 root root   72 Oct 24 14:58 Untitled.ipynb\n",
      "-rw-r--r-- 1 root root  314 Oct 24 11:34 bash.md\n",
      "drwxr-xr-x 3 root root 4.0K Oct 24 11:51 chinese\n",
      "-rw-r--r-- 1 root root 1.5K Oct 24 12:42 env.ipynb\n",
      "-rw-r--r-- 1 root root 4.6M Oct 24 12:04 neural_network_visualization.webm\n",
      "-rw-r--r-- 1 root root  118 Oct 24 11:22 toc.md\n",
      "-rw-r--r-- 1 root root 131K Oct 24 11:21 toc.png\n",
      "-rw-r--r-- 1 root root    0 Oct 24 12:29 untitled.txt\n",
      "-rw-r--r-- 1 root root 1.5K Oct 24 12:11 video.ipynb\n"
     ]
    }
   ],
   "source": [
    "%%sh\n",
    "ls -hla"
   ]
  },
  {
   "cell_type": "code",
   "execution_count": 3,
   "id": "6fe8afbd-f4c0-4abe-9bc0-f8b9005316b0",
   "metadata": {},
   "outputs": [
    {
     "name": "stdout",
     "output_type": "stream",
     "text": [
      "Tue Oct 24 14:59:25 2023       \n",
      "+---------------------------------------------------------------------------------------+\n",
      "| NVIDIA-SMI 535.113.01             Driver Version: 535.113.01   CUDA Version: 12.2     |\n",
      "|-----------------------------------------+----------------------+----------------------+\n",
      "| GPU  Name                 Persistence-M | Bus-Id        Disp.A | Volatile Uncorr. ECC |\n",
      "| Fan  Temp   Perf          Pwr:Usage/Cap |         Memory-Usage | GPU-Util  Compute M. |\n",
      "|                                         |                      |               MIG M. |\n",
      "|=========================================+======================+======================|\n",
      "|   0  NVIDIA GeForce GTX 1650        Off | 00000000:01:00.0 Off |                  N/A |\n",
      "| 33%   39C    P8               7W /  75W |    849MiB /  4096MiB |      0%      Default |\n",
      "|                                         |                      |                  N/A |\n",
      "+-----------------------------------------+----------------------+----------------------+\n",
      "                                                                                         \n",
      "+---------------------------------------------------------------------------------------+\n",
      "| Processes:                                                                            |\n",
      "|  GPU   GI   CI        PID   Type   Process name                            GPU Memory |\n",
      "|        ID   ID                                                             Usage      |\n",
      "|=======================================================================================|\n",
      "+---------------------------------------------------------------------------------------+\n"
     ]
    }
   ],
   "source": [
    "%%sh\n",
    "nvidia-smi"
   ]
  },
  {
   "cell_type": "markdown",
   "id": "e48694fd-559e-49f1-b89b-8589fd42c224",
   "metadata": {},
   "source": [
    "## bash\n",
    "\n",
    "加入 `%%bash`"
   ]
  },
  {
   "cell_type": "code",
   "execution_count": 4,
   "id": "eacb131b-581b-4fc1-afc5-744a3f76a283",
   "metadata": {},
   "outputs": [
    {
     "name": "stdout",
     "output_type": "stream",
     "text": [
      "Hello world~\n"
     ]
    }
   ],
   "source": [
    "%%bash\n",
    "echo \"Hello world~\""
   ]
  },
  {
   "cell_type": "code",
   "execution_count": null,
   "id": "d89b668c-ac65-4904-b196-0a3a4b72eccf",
   "metadata": {},
   "outputs": [],
   "source": []
  }
 ],
 "metadata": {
  "kernelspec": {
   "display_name": "Python 3 (ipykernel)",
   "language": "python",
   "name": "python3"
  },
  "language_info": {
   "codemirror_mode": {
    "name": "ipython",
    "version": 3
   },
   "file_extension": ".py",
   "mimetype": "text/x-python",
   "name": "python",
   "nbconvert_exporter": "python",
   "pygments_lexer": "ipython3",
   "version": "3.10.12"
  }
 },
 "nbformat": 4,
 "nbformat_minor": 5
}
