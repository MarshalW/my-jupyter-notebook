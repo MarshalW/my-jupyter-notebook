{
 "cells": [
  {
   "cell_type": "markdown",
   "id": "31ab5018-b58d-4f5a-b141-08fc4c8f72fa",
   "metadata": {},
   "source": [
    "# 调用飞书开放平台 api"
   ]
  },
  {
   "cell_type": "code",
   "execution_count": 1,
   "id": "01e64057-3c6d-48a7-bca6-089049c2a9c7",
   "metadata": {},
   "outputs": [],
   "source": [
    "import requests\n",
    "\n",
    "# Step 1: 获取访问令牌\n",
    "def get_access_token(app_id, app_secret):\n",
    "    url = \"https://open.feishu.cn/open-apis/auth/v3/tenant_access_token/internal/\"\n",
    "    headers = {\n",
    "        \"Content-Type\": \"application/json\"\n",
    "    }\n",
    "    data = {\n",
    "        \"app_id\": app_id,\n",
    "        \"app_secret\": app_secret\n",
    "    }\n",
    "    response = requests.post(url, headers=headers, json=data)\n",
    "    response_data = response.json()\n",
    "    if response_data.get(\"code\") == 0:\n",
    "        return response_data.get(\"tenant_access_token\")\n",
    "    else:\n",
    "        raise Exception(\"Failed to get access token: {}\".format(response_data))"
   ]
  },
  {
   "cell_type": "code",
   "execution_count": 3,
   "id": "08f60264-a5fd-4c63-8991-c57a7cf174bd",
   "metadata": {},
   "outputs": [
    {
     "name": "stdout",
     "output_type": "stream",
     "text": [
      "CPU times: user 2.01 ms, sys: 3.9 ms, total: 5.92 ms\n",
      "Wall time: 114 ms\n"
     ]
    }
   ],
   "source": [
    "%%time\n",
    "\n",
    "app_id = \"cli_a644510a88eb900c\"\n",
    "app_secret = \"HVk6lCNTQEg22zJkNp7rhehivBUz4GOn\"\n",
    "\n",
    "access_token=get_access_token(app_id, app_secret)"
   ]
  },
  {
   "cell_type": "code",
   "execution_count": 4,
   "id": "9d29e42f-e093-4a6c-a7c6-0916ec1b7dd2",
   "metadata": {},
   "outputs": [
    {
     "data": {
      "text/plain": [
       "'t-g1048shr5MEGYF4DXTGN5IGM6MJIS5GM5FRZKAUM'"
      ]
     },
     "execution_count": 4,
     "metadata": {},
     "output_type": "execute_result"
    }
   ],
   "source": [
    "access_token"
   ]
  },
  {
   "cell_type": "code",
   "execution_count": 9,
   "id": "f174cd34-ff0b-4a0d-b1cd-453ee0818117",
   "metadata": {},
   "outputs": [],
   "source": [
    "\n",
    "def get_bot_info(access_token):\n",
    "    url = \"https://open.feishu.cn/open-apis/bot/v3/info\"\n",
    "    headers = {\n",
    "        \"Authorization\": \"Bearer {}\".format(access_token),\n",
    "        \"Content-Type\": \"application/json\"\n",
    "    }\n",
    "    response = requests.get(url, headers=headers)\n",
    "    response_data = response.json()\n",
    "    if response_data.get(\"code\") == 0:\n",
    "        # return response_data.get(\"data\", {})\n",
    "        return response_data\n",
    "    else:\n",
    "        raise Exception(\"Failed to get info: {}\".format(response_data))"
   ]
  },
  {
   "cell_type": "code",
   "execution_count": 10,
   "id": "8f0b3958-c071-4484-94b9-0467be2f0ea8",
   "metadata": {},
   "outputs": [
    {
     "name": "stdout",
     "output_type": "stream",
     "text": [
      "CPU times: user 4.75 ms, sys: 52 µs, total: 4.8 ms\n",
      "Wall time: 184 ms\n"
     ]
    }
   ],
   "source": [
    "%%time\n",
    "\n",
    "result = get_bot_info(access_token)"
   ]
  },
  {
   "cell_type": "code",
   "execution_count": 11,
   "id": "67474990-3057-482f-9aef-c79f1e51ac63",
   "metadata": {},
   "outputs": [
    {
     "data": {
      "text/plain": [
       "{'bot': {'activate_status': 2,\n",
       "  'app_name': 'kbs',\n",
       "  'avatar_url': 'https://s3-imfile.feishucdn.com/static-resource/v1/v3_00e6_56db3658-e4bb-4989-93b7-d81812d2b60g',\n",
       "  'ip_white_list': [],\n",
       "  'open_id': 'ou_4d2f4ed816ff2b3c95ce8304ef0a78af'},\n",
       " 'code': 0,\n",
       " 'msg': 'ok'}"
      ]
     },
     "execution_count": 11,
     "metadata": {},
     "output_type": "execute_result"
    }
   ],
   "source": [
    "result"
   ]
  },
  {
   "cell_type": "code",
   "execution_count": null,
   "id": "27c1dc88-18e7-4da9-b51b-fbc96f56b360",
   "metadata": {},
   "outputs": [],
   "source": []
  }
 ],
 "metadata": {
  "kernelspec": {
   "display_name": "Python 3 (ipykernel)",
   "language": "python",
   "name": "python3"
  },
  "language_info": {
   "codemirror_mode": {
    "name": "ipython",
    "version": 3
   },
   "file_extension": ".py",
   "mimetype": "text/x-python",
   "name": "python",
   "nbconvert_exporter": "python",
   "pygments_lexer": "ipython3",
   "version": "3.10.12"
  }
 },
 "nbformat": 4,
 "nbformat_minor": 5
}
