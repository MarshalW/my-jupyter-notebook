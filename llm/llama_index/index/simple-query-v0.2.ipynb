{
 "cells": [
  {
   "cell_type": "markdown",
   "id": "81605daa-fefb-441a-9fd5-258ba235591a",
   "metadata": {},
   "source": [
    "# 最基本查询示例 v0.2"
   ]
  },
  {
   "cell_type": "code",
   "execution_count": null,
   "id": "b635cad7-22f5-46d2-93f3-3defc04a540f",
   "metadata": {},
   "outputs": [],
   "source": [
    "初步结论：\n",
    "\n",
    "- 本示例主要是用documentSummaryIndex, 效果较好\n",
    "- 适用于300篇左右文章的查询\n",
    "- 索引保存在本地文件中\n",
    "\n",
    "参考：\n",
    "\n",
    "- https://note.com/pescafe/n/nba8306b88344"
   ]
  },
  {
   "cell_type": "markdown",
   "id": "ab608ab0-dcea-4d75-9e8d-c3a991354399",
   "metadata": {},
   "source": [
    "## 准备"
   ]
  },
  {
   "cell_type": "code",
   "execution_count": 1,
   "id": "40e6c526-0630-44a4-a66d-e5dde30af737",
   "metadata": {},
   "outputs": [
    {
     "name": "stdout",
     "output_type": "stream",
     "text": [
      "CPU times: user 3.28 s, sys: 344 ms, total: 3.63 s\n",
      "Wall time: 3.31 s\n"
     ]
    }
   ],
   "source": [
    "%%time\n",
    "\n",
    "# 加载llm和embeddings\n",
    "%run ../utils.py"
   ]
  },
  {
   "cell_type": "markdown",
   "id": "7c176189-e134-42ec-b776-e61f1477e6a4",
   "metadata": {},
   "source": [
    "## 加载新闻数据"
   ]
  },
  {
   "cell_type": "code",
   "execution_count": 2,
   "id": "ed26eb0f-4402-4d28-87cb-bc49fb7fc798",
   "metadata": {},
   "outputs": [
    {
     "name": "stdout",
     "output_type": "stream",
     "text": [
      "CPU times: user 1.15 ms, sys: 63 µs, total: 1.21 ms\n",
      "Wall time: 903 µs\n"
     ]
    },
    {
     "data": {
      "text/plain": [
       "3"
      ]
     },
     "execution_count": 2,
     "metadata": {},
     "output_type": "execute_result"
    }
   ],
   "source": [
    "%%time\n",
    "\n",
    "import os\n",
    "import json\n",
    "\n",
    "directory = './news'\n",
    "\n",
    "news_list=[]\n",
    "\n",
    "# List all files in the specified directory\n",
    "for file in os.listdir(directory):\n",
    "    if file.endswith('.json'):\n",
    "        file_path = os.path.join(directory, file)\n",
    "        # Open and read the JSON file\n",
    "        with open(file_path, 'r', encoding='utf-8') as f:\n",
    "            try:\n",
    "                data = json.load(f)\n",
    "                news_list.append(data)\n",
    "            except json.JSONDecodeError as e:\n",
    "                print(f\"Error reading {file_path}: {e}\")\n",
    "\n",
    "len(news_list)"
   ]
  },
  {
   "cell_type": "markdown",
   "id": "3067b04c-7b55-4c24-8d0d-81fb3221ee31",
   "metadata": {},
   "source": [
    "## 创建 Document"
   ]
  },
  {
   "cell_type": "code",
   "execution_count": 3,
   "id": "73677788-15af-4786-ba34-33d9882761aa",
   "metadata": {},
   "outputs": [
    {
     "name": "stdout",
     "output_type": "stream",
     "text": [
      "CPU times: user 203 µs, sys: 0 ns, total: 203 µs\n",
      "Wall time: 178 µs\n"
     ]
    }
   ],
   "source": [
    "%%time\n",
    "\n",
    "from llama_index.core import Document\n",
    "\n",
    "documents = [Document(text=t['content'], \n",
    "                      metadata={\"title\": t['title'],\n",
    "                                'publish_time': t['publish_time'],\n",
    "                                'author': t['author'],\n",
    "                                'images': t['images'],\n",
    "                               }) \n",
    "             for t in news_list]\n",
    "\n",
    "for document in documents:\n",
    "    document.doc_id = document.metadata[\"title\"]"
   ]
  },
  {
   "cell_type": "markdown",
   "id": "6c896339-8527-4190-b5d8-0194ed9b09c0",
   "metadata": {},
   "source": [
    "## 文档摘要索引"
   ]
  },
  {
   "cell_type": "markdown",
   "id": "59406755-2e6a-40e0-a61e-0a8c25e8697c",
   "metadata": {},
   "source": [
    "### 生成文档摘要索引"
   ]
  },
  {
   "cell_type": "code",
   "execution_count": 4,
   "id": "3142cca4-33d8-439c-ba79-b1e0eec3faf8",
   "metadata": {},
   "outputs": [
    {
     "data": {
      "application/vnd.jupyter.widget-view+json": {
       "model_id": "c0881e2df7f14b8c99bfaff4c0f4aa21",
       "version_major": 2,
       "version_minor": 0
      },
      "text/plain": [
       "Parsing nodes:   0%|          | 0/3 [00:00<?, ?it/s]"
      ]
     },
     "metadata": {},
     "output_type": "display_data"
    },
    {
     "data": {
      "application/vnd.jupyter.widget-view+json": {
       "model_id": "9a7324f7387c4153a314ac3644f80bdd",
       "version_major": 2,
       "version_minor": 0
      },
      "text/plain": [
       "Summarizing documents:   0%|          | 0/3 [00:00<?, ?it/s]"
      ]
     },
     "metadata": {},
     "output_type": "display_data"
    },
    {
     "name": "stdout",
     "output_type": "stream",
     "text": [
      "current doc id: 中国驻菲律宾使馆发言人就美国军方发动秘密心理战抹黑中国疫苗发表声明\n",
      "current doc id: 鲍韶山:中澳正在消除分歧,但澳大利亚仍是一个焦虑的国家\n",
      "current doc id: 德国海外商会联盟发布报告:在华德企最担心价格压力,欧盟加征关税只会适得其反\n"
     ]
    },
    {
     "data": {
      "application/vnd.jupyter.widget-view+json": {
       "model_id": "ecc5981f870b48c4a107ad96fd629e8b",
       "version_major": 2,
       "version_minor": 0
      },
      "text/plain": [
       "Generating embeddings:   0%|          | 0/3 [00:00<?, ?it/s]"
      ]
     },
     "metadata": {},
     "output_type": "display_data"
    },
    {
     "name": "stdout",
     "output_type": "stream",
     "text": [
      "CPU times: user 463 ms, sys: 11.5 ms, total: 475 ms\n",
      "Wall time: 55.3 s\n"
     ]
    }
   ],
   "source": [
    "%%time\n",
    "\n",
    "import nest_asyncio\n",
    "nest_asyncio.apply()\n",
    "\n",
    "from llama_index.core import get_response_synthesizer\n",
    "from llama_index.core import DocumentSummaryIndex\n",
    "from llama_index.core.node_parser import SentenceSplitter\n",
    "\n",
    "splitter = SentenceSplitter(chunk_size=1024)\n",
    "\n",
    "response_synthesizer = get_response_synthesizer(\n",
    "    response_mode=\"tree_summarize\", use_async=True,\n",
    ")\n",
    "\n",
    "doc_summary_index = DocumentSummaryIndex.from_documents(\n",
    "    documents,\n",
    "    transformations=[splitter],\n",
    "    response_synthesizer=response_synthesizer,\n",
    "    show_progress=True,\n",
    ")"
   ]
  },
  {
   "cell_type": "markdown",
   "id": "4a85ef65-e935-4d3d-9536-70b6ce76fabc",
   "metadata": {},
   "source": [
    "### 保存文档摘要索引"
   ]
  },
  {
   "cell_type": "code",
   "execution_count": 5,
   "id": "aaca6865-bab7-4c10-aab8-dd81f49ba753",
   "metadata": {},
   "outputs": [
    {
     "name": "stdout",
     "output_type": "stream",
     "text": [
      "CPU times: user 13.1 ms, sys: 102 µs, total: 13.2 ms\n",
      "Wall time: 12.5 ms\n"
     ]
    }
   ],
   "source": [
    "%%time\n",
    "\n",
    "doc_summary_index.storage_context.persist(\"index\")"
   ]
  },
  {
   "cell_type": "markdown",
   "id": "24e6ea20-40e1-493c-b50b-3794626c84a3",
   "metadata": {},
   "source": [
    "### 加载文档摘要索引"
   ]
  },
  {
   "cell_type": "code",
   "execution_count": 6,
   "id": "1b5ffdd0-5a38-4d67-a82e-5ef44278a5b3",
   "metadata": {},
   "outputs": [
    {
     "name": "stdout",
     "output_type": "stream",
     "text": [
      "CPU times: user 20.7 ms, sys: 445 µs, total: 21.2 ms\n",
      "Wall time: 20.7 ms\n"
     ]
    }
   ],
   "source": [
    "%%time\n",
    "\n",
    "from llama_index.core import StorageContext, load_index_from_storage\n",
    "\n",
    "# rebuild storage context\n",
    "storage_context = StorageContext.from_defaults(persist_dir=\"index\")\n",
    "doc_summary_index = load_index_from_storage(storage_context)"
   ]
  },
  {
   "cell_type": "code",
   "execution_count": 12,
   "id": "5af51276-1b87-4063-8025-fb3f474e30ed",
   "metadata": {},
   "outputs": [
    {
     "name": "stdout",
     "output_type": "stream",
     "text": [
      "CPU times: user 15 µs, sys: 0 ns, total: 15 µs\n",
      "Wall time: 17.2 µs\n"
     ]
    },
    {
     "data": {
      "text/plain": [
       "{'中国驻菲律宾使馆发言人就美国军方发动秘密心理战抹黑中国疫苗发表声明': RefDocInfo(node_ids=['98d21f17-e58d-481e-b72b-3334c1760e75', '95e2eab9-aca6-4989-9123-071a62600954', 'c30c2364-e8b5-49d2-a198-866ba581c6a9'], metadata={'title': '中国驻菲律宾使馆发言人就美国军方发动秘密心理战抹黑中国疫苗发表声明', 'publish_time': '2024-06-18 15:34:33', 'author': '林琛力', 'images': []}),\n",
       " '鲍韶山:中澳正在消除分歧,但澳大利亚仍是一个焦虑的国家': RefDocInfo(node_ids=['cf96de48-cf2f-43f9-b812-50d840418b4a', '92221d48-c598-4b68-a66a-d8a4bf09e414', '27ea40de-aa54-4e9c-822f-269b1addf075', '01203e0e-e0fd-41b9-9cad-95b4c08ba1bd', '0795f1a7-364d-42e3-a24b-339196737961', '222a1f31-38f5-408b-8bb4-c7bde065776c', '337c2eae-27c0-4158-a73d-8c41deef30fe', 'd3652456-3756-4311-b12d-53f9344b3a6d', 'c6bdf2f3-11a9-4bba-bfc5-7a459d5061bf', '1bab38e7-2d4b-4e22-af55-ce58e4a92566', '2f618c47-fa62-4e0d-9b63-26211a506a29', 'bc704ad4-b6bd-4ce8-89da-523c5e72aebe'], metadata={'title': '鲍韶山:中澳正在消除分歧,但澳大利亚仍是一个焦虑的国家', 'publish_time': '2024-06-17 07:43:21', 'author': '苏堤', 'images': ['https://i.guancha.cn/news/external/2024/06/14/20240614222611379.png', 'https://i.guancha.cn/news/mainland/2024/06/14/20240614223736493.png', 'https://i.guancha.cn/news/official/2024/06/14/20240614224316558.png', 'https://i.guancha.cn/news/mainland/2024/06/14/20240614230242540.jpg', 'https://i.guancha.cn/news/social/2024/06/14/20240614231040450.png', 'https://i.guancha.cn/news/official/2024/06/14/20240614235215709.png', 'https://i.guancha.cn/shiping-banner.jpg']}),\n",
       " '德国海外商会联盟发布报告:在华德企最担心价格压力,欧盟加征关税只会适得其反': RefDocInfo(node_ids=['f361e574-452f-4d2c-aa0a-056580589ffd', 'bc3f68f6-037e-4b48-a88a-39eae6a4cead', 'da3b4f80-05a2-49f4-8aaf-a6c0e61d8300', '72396233-952e-44ce-9ca9-6f4f4fdee7cd'], metadata={'title': '德国海外商会联盟发布报告:在华德企最担心价格压力,欧盟加征关税只会适得其反', 'publish_time': '2024-06-18 15:28:10', 'author': '陈思佳', 'images': ['https://i.guancha.cn/news/external/2024/06/18/20240618144107163.jpg', 'https://i.guancha.cn/news/external/2024/06/18/20240618144205462.jpg']})}"
      ]
     },
     "execution_count": 12,
     "metadata": {},
     "output_type": "execute_result"
    }
   ],
   "source": [
    "%%time\n",
    "\n",
    "storage_context.docstore.get_all_ref_doc_info()"
   ]
  },
  {
   "cell_type": "code",
   "execution_count": 16,
   "id": "1eee0b21-6095-4833-82c6-41320c69b696",
   "metadata": {},
   "outputs": [
    {
     "name": "stdout",
     "output_type": "stream",
     "text": [
      "CPU times: user 125 µs, sys: 12 µs, total: 137 µs\n",
      "Wall time: 140 µs\n"
     ]
    },
    {
     "data": {
      "text/plain": [
       "'据中国驻菲律宾大使馆微信公众号消息,中国驻菲律宾使馆发言人就美国军方发动秘密心理战抹黑中国疫苗发表声明。\\n一、问:近日,英国路透社报道披露,新冠疫情期间美国军方为了遏制中国影响力,发动秘密心理战,使用社交媒体账号假冒菲律宾人散播中国疫苗和抗疫物资不安全的虚假信息,煽动菲民众对中国疫苗的不信任和恐惧,导致菲成为东南亚接种率最低、死亡率最高国家之一,数以万计民众染疫死亡。菲国内出现要求菲政府和国会对此展开调查的呼声。使馆对此有何评论?'"
      ]
     },
     "execution_count": 16,
     "metadata": {},
     "output_type": "execute_result"
    }
   ],
   "source": [
    "%%time\n",
    "\n",
    "storage_context.docstore.get_nodes(['98d21f17-e58d-481e-b72b-3334c1760e75'])[0].text"
   ]
  },
  {
   "cell_type": "code",
   "execution_count": 18,
   "id": "cfb6a495-0c30-40ee-8096-c5f170b88bd1",
   "metadata": {},
   "outputs": [
    {
     "data": {
      "text/plain": [
       "\"The provided text discusses a statement made by the Chinese Embassy in the Philippines regarding allegations of secret psychological warfare conducted by the US military during the COVID-19 pandemic to discredit Chinese vaccines. The statement addresses two main points:\\n\\n1. **US Military's Alleged Actions**: It accuses the US military of using social media accounts to impersonate Filipinos and spread false information about the safety of Chinese vaccines, thereby sowing distrust among Filipino citizens towards Chinese vaccines. This is said to have contributed to low vaccination rates and high death tolls in the Philippines during the pandemic.\\n\\n2. **International Repercussions**: The text mentions that this issue has sparked calls for investigation by both the Philippine government and its parliament. It also highlights the frustration of Filipinos who are demanding accountability from their leaders regarding the situation.\\n\\nThe statement further criticizes US actions, emphasizing hypocrisy and double standards, particularly in relation to human rights claims versus actual actions during the pandemic. It questions why the US prioritized its own interests over helping the Philippines when it came to vaccine access and availability.\\n\\n**Questions this text can answer include:**\\n\\n1. **What did the Chinese Embassy statement address about the US military's actions?**\\n2. **How did these alleged actions by the US military impact vaccination rates and death tolls in the Philippines during the pandemic?**\\n3. **What calls for action have been made as a result of this issue, according to the text?**\\n4. **How does the statement critique the US regarding its claims about human rights versus its actual actions during the pandemic?**\\n5. **What is the stance of the Chinese Embassy on the credibility and safety of Chinese vaccines based on this statement?**\\n6. **What advice or warnings are given in the statement to Filipino citizens regarding misinformation and its potential impacts on their country's relationship with China and regional peace?**\""
      ]
     },
     "execution_count": 18,
     "metadata": {},
     "output_type": "execute_result"
    }
   ],
   "source": [
    "storage_context.docstore.get_nodes(['c30c2364-e8b5-49d2-a198-866ba581c6a9'])[0].text"
   ]
  },
  {
   "cell_type": "code",
   "execution_count": 7,
   "id": "64e8f873-292f-4998-81ab-44663799a6e8",
   "metadata": {},
   "outputs": [
    {
     "data": {
      "text/plain": [
       "\"The provided text discusses a statement made by the Chinese Embassy in the Philippines regarding allegations of secret psychological warfare conducted by the US military during the COVID-19 pandemic to discredit Chinese vaccines. The statement addresses two main points:\\n\\n1. **US Military's Alleged Actions**: It accuses the US military of spreading false information about the safety and efficacy of Chinese vaccines through social media, aiming to undermine trust in Chinese vaccines among Filipino citizens. This is said to have contributed to low vaccination rates and high death tolls in the Philippines during the pandemic.\\n\\n2. **International Response**: The text mentions that there are calls for investigations by the Philippine government and its legislature on this matter. It also highlights previous revelations about similar actions taken by other countries, which have now been substantiated through a recent report.\\n\\nThe statement expresses strong disapproval of these actions, criticizing the US for prioritizing its own interests over global health concerns and accusing it of hypocrisy in promoting human rights while failing to protect Filipino lives during the pandemic. It also calls on the US to stop spreading false information about other countries and to fulfill its responsibilities as a global leader.\\n\\n**Questions this text can answer include:**\\n\\n1. **What actions did the US military allegedly take regarding Chinese vaccines?**\\n2. **How has this affected vaccination rates and death tolls in the Philippines?**\\n3. **What is the response of the Chinese Embassy to these allegations?**\\n4. **Are there calls for investigations by the Philippine government on this matter?**\\n5. **What criticism does the statement make about the US's actions during the pandemic?**\\n6. **How does the text suggest countries should respond to such incidents in the future?**\""
      ]
     },
     "execution_count": 7,
     "metadata": {},
     "output_type": "execute_result"
    }
   ],
   "source": [
    "doc_summary_index.get_document_summary(\"中国驻菲律宾使馆发言人就美国军方发动秘密心理战抹黑中国疫苗发表声明\")"
   ]
  },
  {
   "cell_type": "markdown",
   "id": "50001cd2-9e9e-4d1d-b370-597490af8699",
   "metadata": {},
   "source": [
    "### 使用文档摘要索引查询"
   ]
  },
  {
   "cell_type": "markdown",
   "id": "cbde2af9-bbec-4aea-8d08-f1837b00a606",
   "metadata": {},
   "source": [
    "#### 高级查询 api - 基于嵌入的召回"
   ]
  },
  {
   "cell_type": "code",
   "execution_count": 20,
   "id": "056d5ecb-8792-4aca-b6ea-23214edb670d",
   "metadata": {},
   "outputs": [
    {
     "name": "stdout",
     "output_type": "stream",
     "text": [
      "根据提供的信息，没有直接提及中国驻菲律宾大使馆对美国军方行动的具体评论。所给的信息主要关注了澳大利亚与中国之间的经济、外交关系以及安全态势，并讨论了供应链风险、贸易伙伴份额和政策影响等议题。关于中国驻菲律宾大使馆的评论或声明并未在这些资料中出现。\n",
      "\n",
      "要获取有关中国驻菲律宾大使馆针对美国军方行动的官方立场或评论，通常需要查阅最新的外交公告、新闻发布会记录或者直接访问中国外交部或相关使领馆的官方网站以获得最准确和权威的信息。CPU times: user 252 ms, sys: 15.2 ms, total: 267 ms\n",
      "Wall time: 35.1 s\n"
     ]
    }
   ],
   "source": [
    "%%time\n",
    "\n",
    "query_engine = doc_summary_index.as_query_engine(\n",
    "    response_mode=\"tree_summarize\", \n",
    "    streaming=True,\n",
    "    similarity_top_k=5\n",
    ")\n",
    "\n",
    "response = query_engine.query(\"中国驻菲律宾大使馆对美国军方的行动有何评论？\")\n",
    "response.print_response_stream()"
   ]
  },
  {
   "cell_type": "code",
   "execution_count": 21,
   "id": "baeff95c-3677-476f-9075-601363093a3a",
   "metadata": {},
   "outputs": [
    {
     "name": "stdout",
     "output_type": "stream",
     "text": [
      "澳大利亚人对中国的恐惧再次被激活，这一现象主要与以下几个因素相关：\n",
      "\n",
      "1. **地缘政治和经济关系**：受到美国“去风险”和“脱钩”政策的影响，澳大利亚的外交政策在处理与中国的关系时受到了外部压力。这表明澳大利亚在平衡其经济利益、国家安全以及与美国的盟友关系之间存在复杂考量。\n",
      "\n",
      "2. **供应链安全与产能发展**：澳大利亚寻求提高关键矿产和稀土等资源的附加值，并在这一过程中依赖中国企业的参与。然而，如果将这些关键资源的供应链与美国的安全需求挂钩，可能会导致产能发展的限制风险。这反映了澳大利亚在确保经济独立性、国家安全以及全球市场竞争力之间的挑战。\n",
      "\n",
      "3. **历史记忆**：19世纪60年代针对澳大利亚金矿华工的暴力事件留下了深刻的历史烙印，在某种程度上影响了当前对中国的看法和态度。这种历史背景可能加深了公众对中国形象的认知，尤其是与早期移民政策相关的负面情绪。\n",
      "\n",
      "4. **政策自主性与外交依赖**：过去20年里，澳大利亚国防政策强调自给自足，但这一策略不再适用。国家主权在国防能力中的从属地位使得澳大利亚的外交决策受到外部力量的影响，特别是美国的安全利益和全球主导地位。这表明澳大利亚在处理与中国的关系时需要平衡其国内安全、经济需求与国际盟友之间的关系。\n",
      "\n",
      "5. **焦虑与依赖**：澳大利亚被描述为一个“焦虑的国家”，其对亚洲尤其是对中国的态度，在很大程度上取决于美国的一举一动。这种外交政策上的依赖性导致了公众对中国持有高度警惕和不信任的态度，尤其是在国家安全和战略利益方面。\n",
      "\n",
      "综上所述，澳大利亚人对中国的恐惧再次被激活是由于复杂的国际关系、历史因素、政策考量以及地缘政治环境的相互作用所导致的结果。这一现象反映了澳大利亚在处理与中国的关系时面临的挑战和不确定性。CPU times: user 580 ms, sys: 21.9 ms, total: 602 ms\n",
      "Wall time: 1min\n"
     ]
    }
   ],
   "source": [
    "%%time\n",
    "\n",
    "query_engine = doc_summary_index.as_query_engine(\n",
    "    response_mode=\"tree_summarize\", \n",
    "    streaming=True,\n",
    "    similarity_top_k=5\n",
    ")\n",
    "\n",
    "response = query_engine.query(\"澳大利亚人对中国的恐惧再次被激活是怎么回事？\")\n",
    "response.print_response_stream()"
   ]
  },
  {
   "cell_type": "code",
   "execution_count": 14,
   "id": "452094bb-7bf5-4cee-8705-8061f970e691",
   "metadata": {},
   "outputs": [
    {
     "name": "stdout",
     "output_type": "stream",
     "text": [
      "中国外交部发言人汪文斌表示，中国新能源产业的发展是基于企业长期的技术积累和开放竞争的结果。在充分的竞争环境中，通过技术实力拼争获得市场地位，而不是依赖于政府补贴。这一发展过程完全遵循了市场经济规律和公平竞争的原则。中国认为其新能源产能是推动全球经济绿色转型的先进力量，并非过剩产能。\n",
      "\n",
      "要获取汪文斌关于中国新能源产业发展的具体介绍内容，建议查阅官方声明、新闻发布会记录或演讲稿等官方渠道发布的资料。通常情况下，这些信息会通过政府官方网站、外交部新闻发布平台或是权威媒体进行发布和传播。CPU times: user 223 ms, sys: 16.7 ms, total: 240 ms\n",
      "Wall time: 31.2 s\n"
     ]
    }
   ],
   "source": [
    "%%time\n",
    "\n",
    "query_engine = doc_summary_index.as_query_engine(\n",
    "    response_mode=\"tree_summarize\", \n",
    "    streaming=True,\n",
    "    similarity_top_k=5\n",
    ")\n",
    "\n",
    "response = query_engine.query(\"中国外交部发言人汪文斌是怎么介绍中国新能源产业的发展的？\")\n",
    "response.print_response_stream()"
   ]
  },
  {
   "cell_type": "markdown",
   "id": "56e5c864-743b-45f1-ad70-352c068ef914",
   "metadata": {},
   "source": [
    "#### 底层召回api - 基于嵌入的召回"
   ]
  },
  {
   "cell_type": "code",
   "execution_count": 22,
   "id": "55775244-5a2c-4aa7-b0a4-ab8cfed5c32e",
   "metadata": {},
   "outputs": [
    {
     "name": "stdout",
     "output_type": "stream",
     "text": [
      "根据提供的信息，没有直接提及中国驻菲律宾大使馆对美国军方行动的具体评论。所给的信息主要关注了中澳关系、澳大利亚与中国之间的经济联系以及澳大利亚在面对中美竞争时的“焦虑”情绪和对外交政策的影响。因此，无法从这些资料中提取出关于中国驻菲律宾大使馆针对美国军方行动的评论内容。\n",
      "\n",
      "要获取有关此问题的答案，需要查阅最新的外交声明或官方文件，这些通常由相关政府机构或大使馆发布。CPU times: user 201 ms, sys: 11.9 ms, total: 213 ms\n",
      "Wall time: 33.4 s\n"
     ]
    }
   ],
   "source": [
    "%%time\n",
    "\n",
    "from llama_index.core.indices.document_summary import (\n",
    "    DocumentSummaryIndexEmbeddingRetriever,\n",
    ")\n",
    "\n",
    "retriever = DocumentSummaryIndexEmbeddingRetriever(\n",
    "    doc_summary_index,\n",
    "    similarity_top_k=5,\n",
    ")\n",
    "\n",
    "from llama_index.core.query_engine import RetrieverQueryEngine\n",
    "\n",
    "response_synthesizer = get_response_synthesizer(\n",
    "    response_mode=\"tree_summarize\",\n",
    "    streaming=True,\n",
    ")\n",
    "\n",
    "# assemble query engine\n",
    "query_engine = RetrieverQueryEngine(\n",
    "    retriever=retriever,\n",
    "    response_synthesizer=response_synthesizer,\n",
    ")\n",
    "\n",
    "response = query_engine.query(\"中国驻菲律宾大使馆对美国军方的行动有何评论？\")\n",
    "response.print_response_stream()\n"
   ]
  },
  {
   "cell_type": "markdown",
   "id": "0cf8f9df-4755-4983-b38a-6020445bbac2",
   "metadata": {},
   "source": [
    "#### 底层召回api - 基于llm的召回"
   ]
  },
  {
   "cell_type": "code",
   "execution_count": 10,
   "id": "ce035b18-61e7-4203-9b1a-d6d021375e6a",
   "metadata": {},
   "outputs": [
    {
     "name": "stdout",
     "output_type": "stream",
     "text": [
      "中国驻菲律宾大使馆发言人表示，对于美军在新冠疫情期间发动的秘密心理战行为深感愤慨。美国声称尊重人权，但在关乎菲律宾人民生命健康的最大人权问题上采取了相反的做法。美国在关键时刻让菲律宾人民孤立无援，并出于地缘政治私利阻止菲律宾获得中国援助。针对全球公共卫生的重大问题，美国散布虚假信息和欺骗行为被认为是不可接受的。\n",
      "\n",
      "发言人强调，如果美国真正遵循其言论，就应该停止炮制针对别国的虚假信息，切实承担大国责任，尊重地区国家维护民众健康福祉和地区和平稳定的努力。同时，中菲两国人民都应对美国军方在网上继续进行的秘密信息行动保持高度警惕，并及时揭露和抵制可能影响南海和平稳定的煽风拱火行为。\n",
      "\n",
      "大使馆呼吁中菲关系和南海地区的和平与稳定由双方共同呵护，而不是被外部势力所塑造或破坏。CPU times: user 279 ms, sys: 45.9 ms, total: 324 ms\n",
      "Wall time: 27.4 s\n"
     ]
    }
   ],
   "source": [
    "%%time\n",
    "\n",
    "from llama_index.core.indices.document_summary import (\n",
    "    DocumentSummaryIndexLLMRetriever,\n",
    ")\n",
    "\n",
    "retriever = DocumentSummaryIndexLLMRetriever(\n",
    "    doc_summary_index,\n",
    "    # choice_select_prompt=None,\n",
    "    # choice_batch_size=10,\n",
    "    # choice_top_k=1,\n",
    "    # format_node_batch_fn=None,\n",
    "    # parse_choice_select_answer_fn=None,\n",
    ")\n",
    "\n",
    "response_synthesizer = get_response_synthesizer(\n",
    "    response_mode=\"tree_summarize\",\n",
    "    streaming=True\n",
    ")\n",
    "\n",
    "# query\n",
    "response = query_engine.query(\"中国驻菲律宾大使馆对美国军方的行动有何评论？\")\n",
    "response.print_response_stream()"
   ]
  },
  {
   "cell_type": "markdown",
   "id": "3be36bb6-25cd-43b3-82ca-3793d129b248",
   "metadata": {},
   "source": [
    "### 直接使用文档摘要索引召回"
   ]
  },
  {
   "cell_type": "code",
   "execution_count": 23,
   "id": "ca70d872-e568-4c23-81d3-b6c11152ae83",
   "metadata": {},
   "outputs": [
    {
     "name": "stdout",
     "output_type": "stream",
     "text": [
      "CPU times: user 5.54 ms, sys: 278 µs, total: 5.82 ms\n",
      "Wall time: 111 ms\n"
     ]
    },
    {
     "data": {
      "text/plain": [
       "3"
      ]
     },
     "execution_count": 23,
     "metadata": {},
     "output_type": "execute_result"
    }
   ],
   "source": [
    "%%time\n",
    "\n",
    "retriever = DocumentSummaryIndexEmbeddingRetriever(\n",
    "    doc_summary_index,\n",
    "    similarity_top_k=1,\n",
    ")\n",
    "\n",
    "retrieved_nodes = retriever.retrieve(\"中国外交部发言人汪文斌是怎么介绍中国新能源产业的发展的？\")\n",
    "\n",
    "len(retrieved_nodes)"
   ]
  },
  {
   "cell_type": "code",
   "execution_count": 25,
   "id": "62aee01e-417a-4a7f-8289-dc3854efdb8d",
   "metadata": {},
   "outputs": [
    {
     "data": {
      "text/plain": [
       "NodeWithScore(node=TextNode(id_='f361e574-452f-4d2c-aa0a-056580589ffd', embedding=None, metadata={'title': '德国海外商会联盟发布报告:在华德企最担心价格压力,欧盟加征关税只会适得其反', 'publish_time': '2024-06-18 15:28:10', 'author': '陈思佳', 'images': ['https://i.guancha.cn/news/external/2024/06/18/20240618144107163.jpg', 'https://i.guancha.cn/news/external/2024/06/18/20240618144205462.jpg']}, excluded_embed_metadata_keys=[], excluded_llm_metadata_keys=[], relationships={<NodeRelationship.SOURCE: '1'>: RelatedNodeInfo(node_id='德国海外商会联盟发布报告:在华德企最担心价格压力,欧盟加征关税只会适得其反', node_type=<ObjectType.DOCUMENT: '4'>, metadata={'title': '德国海外商会联盟发布报告:在华德企最担心价格压力,欧盟加征关税只会适得其反', 'publish_time': '2024-06-18 15:28:10', 'author': '陈思佳', 'images': ['https://i.guancha.cn/news/external/2024/06/18/20240618144107163.jpg', 'https://i.guancha.cn/news/external/2024/06/18/20240618144205462.jpg']}, hash='f6c16ef1e2793c53a61a9106ef4d181167ba5b1c014ab2f0c25c1d2e5f5f731a'), <NodeRelationship.NEXT: '3'>: RelatedNodeInfo(node_id='bc3f68f6-037e-4b48-a88a-39eae6a4cead', node_type=<ObjectType.TEXT: '1'>, metadata={}, hash='ba0745ad3689db1cbfd3686a2c9ccf2fcd56ef667c0e3b23f085b9255a5dc8bb')}, text='【文/观察者网 陈思佳】据德国《商报》6月17日报道,在德国经济部长哈贝克即将访问中国之际,德国海外商会联盟17日发布一份报告称,61%的德国企业认为,激烈竞争带来的价格压力是德企在华面临的主要挑战,欧盟加征关税的举措只会适得其反。\\n受访企业多为德国机械工程企业和汽车制造商。上周,欧盟委员会宣布拟对中国电动汽车加征高额惩罚性关税,这一举措引起德国汽车制造商的普遍反对和担忧。中国德国商会高管近日指出,加征关税无法为欧盟汽车制造商提供保护,也无法提高他们的竞争力。\\n报道称,186家德国企业接受了德国海外商会联盟的调查,其中汽车制造商占到21%。有61%的受访企业表示,价格压力是德企在中国面临的主要挑战。中国德国商会上海董事会主席柯曼(Clas Neumann)称:“德国在华企业最担心的是激烈竞争带来的价格压力,全球需求的疲弱又加剧了这种压力。”\\n报告还显示,近半数受访德企认为经济形势不会发生太大变化,超过三分之一的德企预计经济形势将持续改善。在未来两年内,约半数以上的受访德企希望增加在中国的投资。\\n位于合肥的大众汽车(安徽\\n)有限公司智造基地(IC photo)\\n这份报告还声称,75%的受访企业认为其所在行业存在所谓“产能过剩”的情况。布特克称,这一问题现在更多的是中期影响,在未来几年内不会得到解决,德国商界希望全球范围内的需求能够增加。他表示,德企一致认为,只有提高竞争力才能在当下的市场中生存。\\n近来,美国等西方国家频繁鼓吹中国在电池、光伏等领域存在所谓“产能过剩”。中国外交部发言人汪文斌此前表示,中国新能源产业的发展,是企业长期技术积累和开放竞争的结果,是在充分竞争中拼出来的而不是靠产业补贴补出来的,完全符合市场经济规律和公平竞争原则。中国的新能源产能是助推世界经济绿色转型亟需的先进产能,而不是过剩产能。', start_char_idx=0, end_char_idx=765, text_template='{metadata_str}\\n\\n{content}', metadata_template='{key}: {value}', metadata_seperator='\\n'), score=None)"
      ]
     },
     "execution_count": 25,
     "metadata": {},
     "output_type": "execute_result"
    }
   ],
   "source": [
    "retrieved_nodes[0]"
   ]
  },
  {
   "cell_type": "code",
   "execution_count": 26,
   "id": "f200dd31-5bbc-4ed6-b0a0-ef826427b108",
   "metadata": {},
   "outputs": [
    {
     "name": "stdout",
     "output_type": "stream",
     "text": [
      "CPU times: user 5.43 ms, sys: 145 µs, total: 5.58 ms\n",
      "Wall time: 114 ms\n"
     ]
    },
    {
     "data": {
      "text/plain": [
       "NodeWithScore(node=TextNode(id_='98d21f17-e58d-481e-b72b-3334c1760e75', embedding=None, metadata={'title': '中国驻菲律宾使馆发言人就美国军方发动秘密心理战抹黑中国疫苗发表声明', 'publish_time': '2024-06-18 15:34:33', 'author': '林琛力', 'images': []}, excluded_embed_metadata_keys=[], excluded_llm_metadata_keys=[], relationships={<NodeRelationship.SOURCE: '1'>: RelatedNodeInfo(node_id='中国驻菲律宾使馆发言人就美国军方发动秘密心理战抹黑中国疫苗发表声明', node_type=<ObjectType.DOCUMENT: '4'>, metadata={'title': '中国驻菲律宾使馆发言人就美国军方发动秘密心理战抹黑中国疫苗发表声明', 'publish_time': '2024-06-18 15:34:33', 'author': '林琛力', 'images': []}, hash='9218ed62df3afe0b78f534f578c7a9fc61f51997670d9a6988fd8a4ed05bc14e'), <NodeRelationship.NEXT: '3'>: RelatedNodeInfo(node_id='95e2eab9-aca6-4989-9123-071a62600954', node_type=<ObjectType.TEXT: '1'>, metadata={}, hash='432b8c5c1bcbfb0c4d81d195c93e616aa69a3994fb48949b746e68aceaf6e0bb')}, text='据中国驻菲律宾大使馆微信公众号消息,中国驻菲律宾使馆发言人就美国军方发动秘密心理战抹黑中国疫苗发表声明。\\n一、问:近日,英国路透社报道披露,新冠疫情期间美国军方为了遏制中国影响力,发动秘密心理战,使用社交媒体账号假冒菲律宾人散播中国疫苗和抗疫物资不安全的虚假信息,煽动菲民众对中国疫苗的不信任和恐惧,导致菲成为东南亚接种率最低、死亡率最高国家之一,数以万计民众染疫死亡。菲国内出现要求菲政府和国会对此展开调查的呼声。使馆对此有何评论?', start_char_idx=0, end_char_idx=217, text_template='{metadata_str}\\n\\n{content}', metadata_template='{key}: {value}', metadata_seperator='\\n'), score=None)"
      ]
     },
     "execution_count": 26,
     "metadata": {},
     "output_type": "execute_result"
    }
   ],
   "source": [
    "%%time\n",
    "\n",
    "retrieved_nodes = retriever.retrieve(\"中国驻菲律宾大使馆对美国军方的行动有何评论？\")\n",
    "retrieved_nodes[0]"
   ]
  },
  {
   "cell_type": "code",
   "execution_count": 27,
   "id": "4c6710f5-888a-40c2-9f45-0041085ff8c6",
   "metadata": {},
   "outputs": [
    {
     "data": {
      "text/plain": [
       "'中国驻菲律宾使馆发言人就美国军方发动秘密心理战抹黑中国疫苗发表声明'"
      ]
     },
     "execution_count": 27,
     "metadata": {},
     "output_type": "execute_result"
    }
   ],
   "source": [
    "retrieved_nodes[0].metadata['title']"
   ]
  },
  {
   "cell_type": "code",
   "execution_count": null,
   "id": "a85cd330-7cb3-4059-bd98-561ae344ce7e",
   "metadata": {},
   "outputs": [],
   "source": []
  }
 ],
 "metadata": {
  "kernelspec": {
   "display_name": "Python 3 (ipykernel)",
   "language": "python",
   "name": "python3"
  },
  "language_info": {
   "codemirror_mode": {
    "name": "ipython",
    "version": 3
   },
   "file_extension": ".py",
   "mimetype": "text/x-python",
   "name": "python",
   "nbconvert_exporter": "python",
   "pygments_lexer": "ipython3",
   "version": "3.10.12"
  }
 },
 "nbformat": 4,
 "nbformat_minor": 5
}
