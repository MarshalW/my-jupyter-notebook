{
 "cells": [
  {
   "cell_type": "markdown",
   "id": "8661d7f2-ea80-4837-9e1b-aa3b7afe1498",
   "metadata": {},
   "source": [
    "# one-api 使用示例"
   ]
  },
  {
   "cell_type": "markdown",
   "id": "17f5f479-ee9f-46cc-a51c-6d6989c1ab77",
   "metadata": {
    "jp-MarkdownHeadingCollapsed": true
   },
   "source": [
    "## 依赖包"
   ]
  },
  {
   "cell_type": "code",
   "execution_count": 1,
   "id": "f38c247b-8a0d-424c-b268-e7f25afb90e1",
   "metadata": {},
   "outputs": [
    {
     "name": "stdout",
     "output_type": "stream",
     "text": [
      "Looking in indexes: https://pypi.tuna.tsinghua.edu.cn/simple\n",
      "Requirement already satisfied: openai in /usr/local/lib/python3.10/dist-packages (1.17.0)\n",
      "Requirement already satisfied: pydantic<3,>=1.9.0 in /usr/local/lib/python3.10/dist-packages (from openai) (2.6.4)\n",
      "Requirement already satisfied: sniffio in /usr/local/lib/python3.10/dist-packages (from openai) (1.3.0)\n",
      "Requirement already satisfied: anyio<5,>=3.5.0 in /usr/local/lib/python3.10/dist-packages (from openai) (4.2.0)\n",
      "Requirement already satisfied: distro<2,>=1.7.0 in /usr/local/lib/python3.10/dist-packages (from openai) (1.9.0)\n",
      "Requirement already satisfied: typing-extensions<5,>=4.7 in /usr/local/lib/python3.10/dist-packages (from openai) (4.9.0)\n",
      "Requirement already satisfied: httpx<1,>=0.23.0 in /usr/local/lib/python3.10/dist-packages (from openai) (0.26.0)\n",
      "Requirement already satisfied: tqdm>4 in /usr/local/lib/python3.10/dist-packages (from openai) (4.66.2)\n",
      "Requirement already satisfied: exceptiongroup>=1.0.2 in /usr/local/lib/python3.10/dist-packages (from anyio<5,>=3.5.0->openai) (1.2.0)\n",
      "Requirement already satisfied: idna>=2.8 in /usr/local/lib/python3.10/dist-packages (from anyio<5,>=3.5.0->openai) (3.6)\n",
      "Requirement already satisfied: httpcore==1.* in /usr/local/lib/python3.10/dist-packages (from httpx<1,>=0.23.0->openai) (1.0.3)\n",
      "Requirement already satisfied: certifi in /usr/local/lib/python3.10/dist-packages (from httpx<1,>=0.23.0->openai) (2024.2.2)\n",
      "Requirement already satisfied: h11<0.15,>=0.13 in /usr/local/lib/python3.10/dist-packages (from httpcore==1.*->httpx<1,>=0.23.0->openai) (0.14.0)\n",
      "Requirement already satisfied: annotated-types>=0.4.0 in /usr/local/lib/python3.10/dist-packages (from pydantic<3,>=1.9.0->openai) (0.6.0)\n",
      "Requirement already satisfied: pydantic-core==2.16.3 in /usr/local/lib/python3.10/dist-packages (from pydantic<3,>=1.9.0->openai) (2.16.3)\n",
      "\u001b[33mWARNING: Running pip as the 'root' user can result in broken permissions and conflicting behaviour with the system package manager. It is recommended to use a virtual environment instead: https://pip.pypa.io/warnings/venv\u001b[0m\u001b[33m\n",
      "\u001b[0m"
     ]
    }
   ],
   "source": [
    "!pip install openai"
   ]
  },
  {
   "cell_type": "markdown",
   "id": "b7cb5455-44c3-44ff-be29-cbc621a0009c",
   "metadata": {},
   "source": [
    "## curl的使用示例"
   ]
  },
  {
   "cell_type": "markdown",
   "id": "0bdf6b49-e859-49f7-bedc-2c2719548cff",
   "metadata": {},
   "source": [
    "### ollama QWen 本地模型"
   ]
  },
  {
   "cell_type": "code",
   "execution_count": 29,
   "id": "cdd4a03f-f841-4eb6-96f3-01bbbf738940",
   "metadata": {},
   "outputs": [
    {
     "name": "stdout",
     "output_type": "stream",
     "text": [
      "{\n",
      "  \"id\": \"chatcmpl-9PpWzWDcHLIzA03JMiulT5tPPTZD5\",\n",
      "  \"object\": \"chat.completion\",\n",
      "  \"created\": 1715943313,\n",
      "  \"model\": \"gpt-3.5-turbo-0125\",\n",
      "  \"choices\": [\n",
      "    {\n",
      "      \"index\": 0,\n",
      "      \"message\": {\n",
      "        \"role\": \"assistant\",\n",
      "        \"content\": \"我是一个人工智能助手，可以回答你的问题和提供帮助。有什么可以帮到你的吗？\"\n",
      "      },\n",
      "      \"logprobs\": null,\n",
      "      \"finish_reason\": \"stop\"\n",
      "    }\n",
      "  ],\n",
      "  \"usage\": {\n",
      "    \"prompt_tokens\": 12,\n",
      "    \"completion_tokens\": 40,\n",
      "    \"total_tokens\": 52\n",
      "  },\n",
      "  \"system_fingerprint\": null\n",
      "}\n"
     ]
    }
   ],
   "source": [
    "%%bash\n",
    "\n",
    "TOKEN=sk-bJP6QSnUfjAYeYeE505d3eBf63A643BeB0B8E350Df9b7750\n",
    "HOST_URL=http://192.168.0.72:3000 \n",
    "\n",
    "curl -s \"$HOST_URL\"/v1/chat/completions \\\n",
    "  -H \"Content-Type: application/json\" \\\n",
    "  -H \"Authorization: Bearer $TOKEN\" \\\n",
    "  -d '{\n",
    "     \"model\": \"gpt-3.5-turbo\",\n",
    "     \"messages\": [{\"role\": \"user\", \"content\": \"你谁啊\"}],\n",
    "     \"temperature\": 0.7\n",
    "   }' | jq ."
   ]
  },
  {
   "cell_type": "markdown",
   "id": "f1d0bedc-d684-43a6-b8d2-f3530b30e582",
   "metadata": {},
   "source": [
    "### 百度文心一言"
   ]
  },
  {
   "cell_type": "code",
   "execution_count": 34,
   "id": "5dc22048-d5a6-4340-a0cb-e8f69f738576",
   "metadata": {},
   "outputs": [
    {
     "name": "stdout",
     "output_type": "stream",
     "text": [
      "{\n",
      "  \"id\": \"as-ma0gvm62gb\",\n",
      "  \"model\": \"ernie-bot\",\n",
      "  \"object\": \"chat.completion\",\n",
      "  \"created\": 1713084121,\n",
      "  \"choices\": [\n",
      "    {\n",
      "      \"index\": 0,\n",
      "      \"message\": {\n",
      "        \"role\": \"assistant\",\n",
      "        \"content\": \"您好，我是百度研发的知识增强大语言模型，中文名是文心一言，英文名是ERNIE Bot。我能够与人对话互动，回答问题，协助创作，高效便捷地帮助人们获取信息、知识和灵感。\\n\\n如果您有任何问题，请随时告诉我。\"\n",
      "      },\n",
      "      \"finish_reason\": \"stop\"\n",
      "    }\n",
      "  ],\n",
      "  \"usage\": {\n",
      "    \"prompt_tokens\": 3,\n",
      "    \"completion_tokens\": 59,\n",
      "    \"total_tokens\": 62\n",
      "  }\n",
      "}\n"
     ]
    }
   ],
   "source": [
    "%%bash\n",
    "\n",
    "TOKEN=sk-bJP6QSnUfjAYeYeE505d3eBf63A643BeB0B8E350Df9b7750\n",
    "HOST_URL=http://192.168.0.72:3000\n",
    "\n",
    "curl -s \"$HOST_URL\"/v1/chat/completions \\\n",
    "  -H \"Content-Type: application/json\" \\\n",
    "  -H \"Authorization: Bearer $TOKEN\" \\\n",
    "  -d '{\n",
    "     \"model\": \"ERNIE-Lite-8K-0922\",\n",
    "     \"messages\": [{\"role\": \"user\", \"content\": \"你谁啊\"}],\n",
    "     \"temperature\": 0.7\n",
    "   }' | jq ."
   ]
  },
  {
   "cell_type": "markdown",
   "id": "ade938be-82a8-4ee8-b585-e30aa6e2aa36",
   "metadata": {},
   "source": [
    "### OpenAI"
   ]
  },
  {
   "cell_type": "code",
   "execution_count": 20,
   "id": "c8f5ecfb-e6b9-458a-9572-6b2fe0192e1a",
   "metadata": {},
   "outputs": [
    {
     "name": "stdout",
     "output_type": "stream",
     "text": [
      "{\n",
      "  \"id\": \"chatcmpl-9ONa2W602dcsP5QrzSeOGAngFLlXj\",\n",
      "  \"object\": \"chat.completion\",\n",
      "  \"created\": 1715597542,\n",
      "  \"model\": \"gpt-3.5-turbo-0125\",\n",
      "  \"choices\": [\n",
      "    {\n",
      "      \"index\": 0,\n",
      "      \"message\": {\n",
      "        \"role\": \"assistant\",\n",
      "        \"content\": \"我是一个人工智能助手，可以回答你的问题和提供帮助。有什么可以帮到你的吗？\"\n",
      "      },\n",
      "      \"logprobs\": null,\n",
      "      \"finish_reason\": \"stop\"\n",
      "    }\n",
      "  ],\n",
      "  \"usage\": {\n",
      "    \"prompt_tokens\": 12,\n",
      "    \"completion_tokens\": 40,\n",
      "    \"total_tokens\": 52\n",
      "  },\n",
      "  \"system_fingerprint\": null\n",
      "}\n"
     ]
    }
   ],
   "source": [
    "%%bash\n",
    "\n",
    "TOKEN=sk-bJP6QSnUfjAYeYeE505d3eBf63A643BeB0B8E350Df9b7750\n",
    "HOST_URL=http://192.168.0.72:3000\n",
    "\n",
    "curl -s \"$HOST_URL\"/v1/chat/completions \\\n",
    "  -H \"Content-Type: application/json\" \\\n",
    "  -H \"Authorization: Bearer $TOKEN\" \\\n",
    "  -d '{\n",
    "     \"model\": \"gpt-3.5-turbo\",\n",
    "     \"messages\": [{\"role\": \"user\", \"content\": \"你谁啊\"}],\n",
    "     \"temperature\": 0.7\n",
    "   }' | jq ."
   ]
  },
  {
   "cell_type": "markdown",
   "id": "00be3cdf-c6d4-4b15-8233-5793fe7e3289",
   "metadata": {},
   "source": [
    "## python代码"
   ]
  },
  {
   "cell_type": "markdown",
   "id": "1ad7e45c-7f6a-46c7-801f-20d4f9c020aa",
   "metadata": {},
   "source": [
    "使用openai api"
   ]
  },
  {
   "cell_type": "code",
   "execution_count": 26,
   "id": "92ae74b5-53e1-428e-aaa8-3f9ba532df1c",
   "metadata": {
    "editable": true,
    "slideshow": {
     "slide_type": ""
    },
    "tags": []
   },
   "outputs": [],
   "source": [
    "from openai import OpenAI\n",
    "\n",
    "base_url = \"http://192.168.0.72:3000/v1\"\n",
    "api_key = \"sk-bJP6QSnUfjAYeYeE505d3eBf63A643BeB0B8E350Df9b7750\"\n",
    "\n",
    "client = OpenAI(api_key=api_key, base_url=base_url)\n",
    "\n",
    "def process_stream(stream):\n",
    "    for chunk in stream:\n",
    "        if chunk.usage:\n",
    "            print()\n",
    "            print(chunk.usage)\n",
    "        else:\n",
    "            print(chunk.choices[0].delta.content or \"\", end=\"\")\n",
    "        # if chunk.choices[0].delta.content is not None:\n",
    "        #     print(chunk.choices[0].delta.content, end=\"\")"
   ]
  },
  {
   "cell_type": "markdown",
   "id": "ee6a51d1-f72a-48b8-8b4b-3bbc65708af9",
   "metadata": {},
   "source": [
    "### ollama QWen 本地模型"
   ]
  },
  {
   "cell_type": "markdown",
   "id": "c2c3fae5-0fce-44ab-8d9d-5cb511eeb98b",
   "metadata": {},
   "source": [
    "使用 ollama QWen1.5-14b 自定义系统提示词模型"
   ]
  },
  {
   "cell_type": "code",
   "execution_count": 31,
   "id": "272f1b52-368e-499b-8e27-50112e8445de",
   "metadata": {},
   "outputs": [
    {
     "name": "stdout",
     "output_type": "stream",
     "text": [
      "我是小羽，由羽胜科技研发的AI助手。我在这里是为了帮助你解答问题和提供信息。有什么我可以帮助你的吗？\n",
      "\n",
      "--------------\n",
      "\n",
      "贝叶斯主义是一种统计学方法论，它基于贝叶斯定理来处理不确定性问题。该理论是由18世纪英国数学家托马斯·贝叶斯提出的，它强调了用概率来更新和解释知识。在贝叶斯主义中，我们通过收集新的证据或数据来更新对某个事件的概率估计。\n",
      "\n",
      "纯粹贝叶斯主义（或称理想贝叶斯主义）是一种严格遵循贝叶斯定理的立场，它强调所有信念都应该基于概率，并且所有的决策都应基于这些概率。在这个观点下，所有的知识都是概率分布，而且在处理问题时，我们始终根据新的证据更新这些分布。纯粹贝叶斯主义者通常反对非概率的方法，如最大似然估计或决策树等。\n",
      "\n",
      "实用贝叶斯主义则更为实际和灵活，它允许在特定情况下使用非贝叶斯方法。实用主义者可能在数据稀缺或计算资源有限的情况下，采用近似估计或者简化模型。他们可能还会结合其他统计学原则、经验和直觉。这种观点认为，有时候直接应用贝叶斯定理可能是过于复杂或不切实际的，因此需要权衡和适应具体情况。\n",
      "\n",
      "总的来说，纯粹贝叶斯主义是理想化的，强调全面遵循贝叶斯法则，而实用贝叶斯主义则更注重在实践中找到合适的方法来处理问题。"
     ]
    }
   ],
   "source": [
    "stream = client.chat.completions.create(\n",
    "    model=\"xiaoyu\",\n",
    "    messages=[{\"role\": \"user\", \"content\": \"你谁啊？\"}],\n",
    "    stream=True,\n",
    "    stream_options= {\"include_usage\": True}\n",
    ")\n",
    "\n",
    "process_stream(stream)\n",
    "\n",
    "print('\\n\\n--------------\\n')\n",
    "\n",
    "stream = client.chat.completions.create(\n",
    "    model=\"xiaoyu\",\n",
    "    messages=[{\"role\": \"user\", \"content\": \"什么是贝叶斯主义？纯粹贝叶斯主义和实用贝叶斯主义有啥差别？\"}],\n",
    "    stream=True,\n",
    "    stream_options= {\"include_usage\": True}\n",
    ")\n",
    "\n",
    "process_stream(stream)\n",
    "\n",
    "# for chunk in stream:\n",
    "#     if chunk.choices[0].delta.content is not None:\n",
    "#         print(chunk.choices[0].delta.content, end=\"\")"
   ]
  },
  {
   "cell_type": "markdown",
   "id": "5efa247c-ac43-42d5-9549-b477561f4e0c",
   "metadata": {},
   "source": [
    "### 百度文心一言"
   ]
  },
  {
   "cell_type": "code",
   "execution_count": 24,
   "id": "ce994ee9-f62f-475c-980e-bcc33dd614af",
   "metadata": {},
   "outputs": [
    {
     "name": "stdout",
     "output_type": "stream",
     "text": [
      "我是文心一言，一个为你答疑解惑的聊天机器人。我可以理解和回答你的问题，有什么我可以帮助你的吗？\n",
      "\n",
      "--------------\n",
      "\n",
      "频率主义（Frequencyism）是一种统计学和语言学中的理论，它强调了词汇、语法和语言现象出现的相对频率或概率在语言学习和理解中的重要性。根据这一观点，一个词的意思或某个语法结构的正确性并不完全取决于其固有的属性，而是与其在大量语料库中被使用的频率相关。\n",
      "\n",
      "在统计语言模型中，如n-gram模型，频率主义被用于预测下一个词的可能性，即基于前面词组出现的次数来估算一个词出现的概率。它对自然语言处理（NLP）和机器学习中的文本生成、翻译、情感分析等任务有着广泛应用。\n",
      "\n",
      "然而，现代语言学和认知科学认为，频率主义过于简化了人类语言的复杂性，因为语言理解和生成还涉及到其他因素，如上下文、文化背景和交际意图等。因此，尽管频率在语言中扮演着重要角色，但它并不是唯一决定性的因素。"
     ]
    }
   ],
   "source": [
    "stream = client.chat.completions.create(\n",
    "    model=\"ERNIE-Lite-8K-0922\",\n",
    "    messages=[{\"role\": \"user\", \"content\": \"你谁啊？\"}],\n",
    "    stream=True,\n",
    "    stream_options= {\"include_usage\": True}\n",
    ")\n",
    "\n",
    "process_stream(stream)\n",
    "\n",
    "print('\\n\\n--------------\\n')\n",
    "\n",
    "stream = client.chat.completions.create(\n",
    "    model=\"xiaoyu\",\n",
    "    messages=[{\"role\": \"user\", \"content\": \"简要介绍下频率主义\"}],\n",
    "    stream=True,\n",
    "    stream_options= {\"include_usage\": True}\n",
    ")\n",
    "\n",
    "process_stream(stream)"
   ]
  },
  {
   "cell_type": "markdown",
   "id": "cb49bd1f-0d43-4bb6-b840-2671aec7f890",
   "metadata": {},
   "source": [
    "### OpenAI"
   ]
  },
  {
   "cell_type": "code",
   "execution_count": 30,
   "id": "7451b000-fc25-4252-99f9-dafb065561f1",
   "metadata": {},
   "outputs": [
    {
     "name": "stdout",
     "output_type": "stream",
     "text": [
      "我是您的AI助手，可以帮助回答问题和提供信息。有什么可以帮到您的吗？\n",
      "\n",
      "--------------\n",
      "\n",
      "长征五号的主推进剂是液氧和煤油混合物，配备有四个液氧-煤油发动机。这种推进剂组合在航天发射领域被广泛使用，具有高推力和高推进效率的特点。"
     ]
    }
   ],
   "source": [
    "stream = client.chat.completions.create(\n",
    "    model=\"gpt-3.5-turbo\",\n",
    "    messages=[{\"role\": \"user\", \"content\": \"你谁啊？\"}],\n",
    "    stream=True,\n",
    "    stream_options= {\"include_usage\": True}\n",
    ")\n",
    "\n",
    "process_stream(stream)\n",
    "\n",
    "print('\\n\\n--------------\\n')\n",
    "\n",
    "stream = client.chat.completions.create(\n",
    "    model=\"gpt-3.5-turbo\",\n",
    "    messages=[{\"role\": \"user\", \"content\": \"长征五号的推进剂是啥\"}],\n",
    "    stream=True,\n",
    "    stream_options= {\"include_usage\": True}\n",
    ")\n",
    "\n",
    "process_stream(stream)"
   ]
  },
  {
   "cell_type": "code",
   "execution_count": null,
   "id": "9fad9b2a-ef3f-4faf-b2a9-b30ab44cde86",
   "metadata": {},
   "outputs": [],
   "source": []
  }
 ],
 "metadata": {
  "kernelspec": {
   "display_name": "Python 3 (ipykernel)",
   "language": "python",
   "name": "python3"
  },
  "language_info": {
   "codemirror_mode": {
    "name": "ipython",
    "version": 3
   },
   "file_extension": ".py",
   "mimetype": "text/x-python",
   "name": "python",
   "nbconvert_exporter": "python",
   "pygments_lexer": "ipython3",
   "version": "3.10.12"
  }
 },
 "nbformat": 4,
 "nbformat_minor": 5
}
