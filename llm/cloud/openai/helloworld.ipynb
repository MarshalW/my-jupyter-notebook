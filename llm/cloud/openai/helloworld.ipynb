{
 "cells": [
  {
   "cell_type": "markdown",
   "id": "9f46f0f2-3109-4bf5-ae07-2aa25c4b2fc2",
   "metadata": {},
   "source": [
    "# Open AI 最基本的对话示例"
   ]
  },
  {
   "cell_type": "code",
   "execution_count": 2,
   "id": "ac02bb88-85e5-44db-bdcb-c9abefa9c5b5",
   "metadata": {},
   "outputs": [
    {
     "name": "stdout",
     "output_type": "stream",
     "text": [
      "Looking in indexes: https://pypi.tuna.tsinghua.edu.cn/simple\n",
      "Requirement already satisfied: openai in /usr/local/lib/python3.10/dist-packages (1.17.0)\n",
      "Requirement already satisfied: python-dotenv in /usr/local/lib/python3.10/dist-packages (1.0.1)\n",
      "Requirement already satisfied: httpx in /usr/local/lib/python3.10/dist-packages (0.26.0)\n",
      "Requirement already satisfied: typing-extensions<5,>=4.7 in /usr/local/lib/python3.10/dist-packages (from openai) (4.9.0)\n",
      "Requirement already satisfied: distro<2,>=1.7.0 in /usr/local/lib/python3.10/dist-packages (from openai) (1.9.0)\n",
      "Requirement already satisfied: pydantic<3,>=1.9.0 in /usr/local/lib/python3.10/dist-packages (from openai) (2.6.4)\n",
      "Requirement already satisfied: sniffio in /usr/local/lib/python3.10/dist-packages (from openai) (1.3.0)\n",
      "Requirement already satisfied: anyio<5,>=3.5.0 in /usr/local/lib/python3.10/dist-packages (from openai) (4.2.0)\n",
      "Requirement already satisfied: tqdm>4 in /usr/local/lib/python3.10/dist-packages (from openai) (4.66.2)\n",
      "Requirement already satisfied: idna in /usr/local/lib/python3.10/dist-packages (from httpx) (3.6)\n",
      "Requirement already satisfied: httpcore==1.* in /usr/local/lib/python3.10/dist-packages (from httpx) (1.0.3)\n",
      "Requirement already satisfied: certifi in /usr/local/lib/python3.10/dist-packages (from httpx) (2024.2.2)\n",
      "Requirement already satisfied: h11<0.15,>=0.13 in /usr/local/lib/python3.10/dist-packages (from httpcore==1.*->httpx) (0.14.0)\n",
      "Requirement already satisfied: exceptiongroup>=1.0.2 in /usr/local/lib/python3.10/dist-packages (from anyio<5,>=3.5.0->openai) (1.2.0)\n",
      "Requirement already satisfied: annotated-types>=0.4.0 in /usr/local/lib/python3.10/dist-packages (from pydantic<3,>=1.9.0->openai) (0.6.0)\n",
      "Requirement already satisfied: pydantic-core==2.16.3 in /usr/local/lib/python3.10/dist-packages (from pydantic<3,>=1.9.0->openai) (2.16.3)\n",
      "\u001b[33mWARNING: Running pip as the 'root' user can result in broken permissions and conflicting behaviour with the system package manager. It is recommended to use a virtual environment instead: https://pip.pypa.io/warnings/venv\u001b[0m\u001b[33m\n",
      "\u001b[0m"
     ]
    }
   ],
   "source": [
    "!pip install openai python-dotenv httpx"
   ]
  },
  {
   "cell_type": "markdown",
   "id": "9e6030f0-0c98-43b4-a32c-939dd7da1531",
   "metadata": {},
   "source": [
    "## 最基本的流式输出"
   ]
  },
  {
   "cell_type": "code",
   "execution_count": 3,
   "id": "c51ad6c6-2629-465e-abe4-0f9df2622902",
   "metadata": {},
   "outputs": [
    {
     "name": "stdout",
     "output_type": "stream",
     "text": [
      "微分中值定理的基本思路是利用导数的性质来研究函数的变化情况。根据微分中值定理，若函数f在闭区间[a,b]上连续，在开区间(a,b)内可导，那么在(a,b)内至少存在一点c，使得f'(c)等于函数在区间[a,b]上的平均变化率。\n",
      "\n",
      "具体来说，微分中值定理的基本思路包括以下几个步骤：\n",
      "\n",
      "1. 计算函数在区间[a,b]上的平均变化率：首先计算函数在区间[a,b]上的平均变化率，即(f(b) - f(a))/(b - a)，这代表在整个区间上的平均斜率。\n",
      "\n",
      "2. 寻找导数为平均斜率的点：根据微分中值定理，存在一个点c在开区间(a,b)内，使得f'(c)等于平均斜率，即f'(c) = (f(b) - f(a))/(b - a)。\n",
      "\n",
      "3. 证明结论：通过导数的定义和性质，可以证明存在这样一个点c，使得f'(c)等于平均斜率。这一点就是微分中值定理所要表达的结论。\n",
      "\n",
      "总的来说，微分中值定理的基本思路是通过导数的性质来寻找函数在某一点的斜率，从而揭示函数在该点的变化情况。"
     ]
    }
   ],
   "source": [
    "from openai import OpenAI\n",
    "import httpx\n",
    "from dotenv import load_dotenv\n",
    "import os\n",
    "\n",
    "load_dotenv()\n",
    "\n",
    "proxy_url = os.environ.get(\"OPENAI_PROXY_URL\")\n",
    "\n",
    "client = OpenAI() if proxy_url is None or proxy_url == \"\" else OpenAI(http_client=httpx.Client(proxy=proxy_url))\n",
    "\n",
    "stream = client.chat.completions.create(\n",
    "    model=\"gpt-3.5-turbo\",\n",
    "    messages=[{\"role\": \"user\", \"content\": \"解释下微分中值定理的基本思路\"}],\n",
    "    stream=True,\n",
    ")\n",
    "\n",
    "for chunk in stream:\n",
    "    print(chunk.choices[0].delta.content or \"\", end=\"\")"
   ]
  },
  {
   "cell_type": "code",
   "execution_count": null,
   "id": "8aa02460-4ce5-469a-8829-4609b2eadf42",
   "metadata": {},
   "outputs": [],
   "source": []
  }
 ],
 "metadata": {
  "kernelspec": {
   "display_name": "Python 3 (ipykernel)",
   "language": "python",
   "name": "python3"
  },
  "language_info": {
   "codemirror_mode": {
    "name": "ipython",
    "version": 3
   },
   "file_extension": ".py",
   "mimetype": "text/x-python",
   "name": "python",
   "nbconvert_exporter": "python",
   "pygments_lexer": "ipython3",
   "version": "3.10.12"
  }
 },
 "nbformat": 4,
 "nbformat_minor": 5
}
