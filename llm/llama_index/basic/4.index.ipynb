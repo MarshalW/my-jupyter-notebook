{
 "cells": [
  {
   "cell_type": "markdown",
   "id": "9346a595-5cdd-4a3d-86ec-86b77f7d3e0c",
   "metadata": {},
   "source": [
    "# 索引"
   ]
  },
  {
   "cell_type": "markdown",
   "id": "2c3c6425-2909-440f-9918-f1ca6fa5e36b",
   "metadata": {},
   "source": [
    "## 概念"
   ]
  },
  {
   "cell_type": "markdown",
   "id": "947009e9-ed48-46e4-a374-557fc9f97446",
   "metadata": {},
   "source": [
    "Index是一种数据结构，可让我们快速检索用户查询的相关上下文。\n",
    "\n",
    "对于 LlamaIndex 而言，它是检索增强生成 (RAG) 用例的核心基础。\n",
    "\n",
    "从高层次上讲：\n",
    "\n",
    "- Indexes是由文档构建的\n",
    "- 用于构建查询引擎和聊天引擎，从而实现对数据的问答和聊天。\n",
    "\n",
    "在底层：\n",
    "\n",
    "- Indexes将数据存储在Node对象（代表原始文档的块）中\n",
    "- 公开支持额外配置和自动化的Retriever接口\n",
    "\n",
    "最常见的索引是VectorStoreIndex\n"
   ]
  },
  {
   "cell_type": "markdown",
   "id": "6ad1f89b-516d-464b-ad71-8e2d1a1455c4",
   "metadata": {},
   "source": [
    "## 索引是怎么工作的"
   ]
  },
  {
   "cell_type": "markdown",
   "id": "a70f03e1-24cc-4334-96a2-361ed643d446",
   "metadata": {},
   "source": [
    "基础术语：\n",
    "\n",
    "- Node：对应于 Document 中的一段文本。LlamaIndex 接收 Document 对象并在内部将其解析/分块为 Node 对象。\n",
    "- 响应合成：我们的模块根据检索到的节点合成响应。您可以看到如何 [指定不同的响应模式](https://docs.llamaindex.ai/en/stable/module_guides/deploying/query_engine/response_modes/)。"
   ]
  },
  {
   "cell_type": "markdown",
   "id": "7944977b-715c-45bd-bb31-47214ce1198d",
   "metadata": {},
   "source": [
    "### 摘要索引 - SummaryIndex"
   ]
  },
  {
   "cell_type": "markdown",
   "id": "5282139d-0236-4a9a-9fb3-8a7e18aa8570",
   "metadata": {},
   "source": [
    "#### 索引结构"
   ]
  },
  {
   "cell_type": "markdown",
   "id": "4f074c77-3058-44d7-996c-2274f9eed801",
   "metadata": {},
   "source": [
    "摘要索引只是将节点存储为顺序链。\n",
    "\n",
    "![](https://docs.llamaindex.ai/en/stable/_static/indices/list.png)"
   ]
  },
  {
   "cell_type": "markdown",
   "id": "94c28e94-6322-47fa-a245-790c1ed6fe29",
   "metadata": {},
   "source": [
    "#### 查询方式"
   ]
  },
  {
   "cell_type": "markdown",
   "id": "1d1eae93-2b1a-458c-a9fb-2e599e327261",
   "metadata": {},
   "source": [
    "将列表中的所有节点加载到我们的响应合成模块中。\n",
    "\n",
    "![](https://docs.llamaindex.ai/en/stable/_static/indices/list_query.png)\n",
    "\n",
    "提供了多种查询摘要索引的方法:\n",
    "\n",
    "- 基于嵌入的查询（将获取前 k 个邻居）\n",
    "- 添加关键字过滤器\n",
    "\n",
    "![](https://docs.llamaindex.ai/en/stable/_static/indices/list_filter_query.png)"
   ]
  },
  {
   "cell_type": "markdown",
   "id": "1522562c-c5d8-4773-a1c5-ab46d05844af",
   "metadata": {},
   "source": [
    "### 向量存储索引 - VectorStoreIndex"
   ]
  },
  {
   "cell_type": "markdown",
   "id": "67654981-5ed9-4ce6-9bd7-b5c55f725051",
   "metadata": {},
   "source": [
    "#### 索引结构"
   ]
  },
  {
   "cell_type": "markdown",
   "id": "66889c62-4243-4e45-87e1-61cdcd59d3e9",
   "metadata": {},
   "source": [
    "将每个节点和相应的嵌入存储在向量存储中。\n",
    "\n",
    "![](https://docs.llamaindex.ai/en/stable/_static/indices/vector_store.png)\n"
   ]
  },
  {
   "cell_type": "markdown",
   "id": "a935e544-448b-4870-b0b7-f97485b24dbc",
   "metadata": {},
   "source": [
    "#### 查询方式"
   ]
  },
  {
   "cell_type": "markdown",
   "id": "ea778cc1-b277-49d9-9ae2-c3b0365e8772",
   "metadata": {},
   "source": [
    "查询向量存储索引涉及获取前 k 个最相似的节点，并将它们传递到我们的响应合成模块中。\n",
    "\n",
    "![](https://docs.llamaindex.ai/en/stable/_static/indices/vector_store_query.png)"
   ]
  },
  {
   "cell_type": "markdown",
   "id": "c381452f-512f-4940-a4e1-8d6615ea7b4b",
   "metadata": {},
   "source": [
    "### 树索引 - TreeIndex"
   ]
  },
  {
   "cell_type": "markdown",
   "id": "47a84fbb-ac47-4e51-b204-07bac5888b09",
   "metadata": {},
   "source": [
    "#### 索引结构"
   ]
  },
  {
   "cell_type": "markdown",
   "id": "38d554a2-1b7e-4101-b4eb-feb43cedcf92",
   "metadata": {},
   "source": [
    "树索引从一组节点（成为该树中的叶节点）构建一个层次树。\n",
    "\n",
    "我的理解：\n",
    "\n",
    "- 叶子节点和 SummaryIndex 中的节点是一样的\n",
    "- 父节点保存总结叶节点的文本\n",
    "- 创建父节点时的摘要过程是在创建索引时使用LLM完成的\n",
    "- TreeIndex 包含摘要处理的提示词\n",
    "- 叶子节点的数量小于一定数量，则不会构建树结构\n",
    "- 具有相同源文件的叶子节点不一定具有相同的父节点\n",
    "- 可能有多个根节点\n",
    "- 可能存在多个父子层次结构\n",
    "- 摘要结果是英语的，可以通过修改提示词语言来改变\n",
    "- TreeIndex，num_children可以指定 ，默认为10，上限是20\n",
    "\n",
    "![](https://docs.llamaindex.ai/en/stable/_static/indices/tree.png)\n",
    "\n",
    "\n"
   ]
  },
  {
   "cell_type": "markdown",
   "id": "fa5ea8d0-0acf-4f4f-9088-cc86408be281",
   "metadata": {},
   "source": [
    "#### 查询方式"
   ]
  },
  {
   "cell_type": "markdown",
   "id": "9a3b3037-1cf8-41e9-80bf-aad62cd6ac57",
   "metadata": {},
   "source": [
    "查询树形索引涉及从根节点向下遍历到叶节点。\n",
    "\n",
    "默认情况下，（child_branch_factor=1），查询在给定父节点的情况下选择一个子节点。\n",
    "\n",
    "如果child_branch_factor=2，查询每级选择两个子节点。\n",
    "\n",
    "![](https://docs.llamaindex.ai/en/stable/_static/indices/tree_query.png)"
   ]
  },
  {
   "cell_type": "markdown",
   "id": "7754516e-f795-4730-bc91-e7e87d1e1036",
   "metadata": {},
   "source": [
    "### 关键字表索引 - KeywordTableIndex"
   ]
  },
  {
   "cell_type": "markdown",
   "id": "3235bb7b-55d4-4f54-9fbb-4f640b577afc",
   "metadata": {},
   "source": [
    "#### 索引结构"
   ]
  },
  {
   "cell_type": "markdown",
   "id": "99c3af2c-75c0-4552-afbe-e1e3a95d6899",
   "metadata": {},
   "source": [
    "关键字表索引从每个节点提取关键字，并建立从每个关键字到该关键字对应节点的映射。\n",
    "\n",
    "KeywordTableIndex - 索引使用 LLM 从文本中提取关键词。\n",
    "\n",
    "![](https://docs.llamaindex.ai/en/stable/_static/indices/keyword.png)"
   ]
  },
  {
   "cell_type": "markdown",
   "id": "c2de2966-6620-44c6-9455-fe1a2827ea0e",
   "metadata": {},
   "source": [
    "#### 查询方式"
   ]
  },
  {
   "cell_type": "markdown",
   "id": "afd13e7f-910f-4a07-a66f-c20f547abba1",
   "metadata": {},
   "source": [
    "在查询时，我们从查询中提取相关关键字，并将其与预先提取的节点关键字进行匹配以获取相应的节点。\n",
    "\n",
    "提取的节点被传递给我们的响应合成模块。\n",
    "\n",
    "![](https://docs.llamaindex.ai/en/stable/_static/indices/keyword_query.png)"
   ]
  },
  {
   "cell_type": "markdown",
   "id": "5706db03-bc06-43ea-98c6-252457bb0463",
   "metadata": {},
   "source": [
    "### 属性图索引 - Property Graph Index "
   ]
  },
  {
   "cell_type": "markdown",
   "id": "5060024d-e940-480d-abec-a304b585d1e9",
   "metadata": {},
   "source": [
    "工作原理是\n",
    "\n",
    "- 首先构建一个包含标记节点和关系的知识图谱\n",
    "- 图谱的构建高度可定制，范围从让 LLM 提取其想要的任何内容，到使用严格模式提取，甚至实现您自己的提取模块。\n",
    "\n",
    "还可以跳过创建，并使用 Neo4j 等集成连接到现有知识图。"
   ]
  },
  {
   "cell_type": "markdown",
   "id": "f29088ff-0263-4f35-8e66-0363b244daef",
   "metadata": {},
   "source": [
    "## 使用 VectorStoreIndex"
   ]
  },
  {
   "cell_type": "markdown",
   "id": "7a3872d3-e096-47a4-93cf-5cd4e90f6fc4",
   "metadata": {},
   "source": [
    "向量存储是检索增强生成 (RAG) 的关键组件，因此您最终会在使用 LlamaIndex 制作的几乎每个应用程序中直接或间接地使用它们。"
   ]
  },
  {
   "cell_type": "markdown",
   "id": "ef27577e-d7b0-4c0c-979d-60232d4ae73d",
   "metadata": {},
   "source": [
    "### 加载数据到索引"
   ]
  },
  {
   "cell_type": "markdown",
   "id": "68fcc1d3-f6bf-45b0-a532-cca1b2052aac",
   "metadata": {},
   "source": [
    "#### 基本用法"
   ]
  },
  {
   "cell_type": "markdown",
   "id": "c7638884-5fc7-4e86-8cc5-fba46c8f2b08",
   "metadata": {},
   "source": [
    "要点：\n",
    "\n",
    "- 使用时from_documents，您的文档将被分成块并解析为Node对象\n",
    "- 默认情况下，VectorStoreIndex 将所有内容存储在内存中\n",
    "- 默认情况下，VectorStoreIndex将以 2048 个节点为一批生成和插入向量，远程托管可能需要调整这个数字"
   ]
  },
  {
   "cell_type": "code",
   "execution_count": null,
   "id": "7d478572-e089-458e-a303-64a8a13e69eb",
   "metadata": {},
   "outputs": [],
   "source": [
    "from llama_index.core import VectorStoreIndex, SimpleDirectoryReader\n",
    "\n",
    "# Load documents and build index\n",
    "documents = SimpleDirectoryReader(\n",
    "    \"../../examples/data/paul_graham\"\n",
    ").load_data()\n",
    "index = VectorStoreIndex.from_documents(documents)"
   ]
  },
  {
   "cell_type": "markdown",
   "id": "0ad2f074-3e34-41d6-b63f-f864390cbe0d",
   "metadata": {},
   "source": [
    "#### 使用摄取管道创建节点"
   ]
  },
  {
   "cell_type": "markdown",
   "id": "28489451-fcc6-4fac-bb26-c1cfe7b65a24",
   "metadata": {},
   "source": [
    "想要更好地控制文档的索引方式，我们建议您使用提取管道。这允许您自定义节点的\n",
    "\n",
    "- 分块、\n",
    "- 元数据和\n",
    "- 嵌入。"
   ]
  },
  {
   "cell_type": "code",
   "execution_count": null,
   "id": "6ee54e57-e16b-4621-902b-1b7ba6654d43",
   "metadata": {},
   "outputs": [],
   "source": [
    "from llama_index.core import Document\n",
    "from llama_index.embeddings.openai import OpenAIEmbedding\n",
    "from llama_index.core.node_parser import SentenceSplitter\n",
    "from llama_index.core.extractors import TitleExtractor\n",
    "from llama_index.core.ingestion import IngestionPipeline, IngestionCache\n",
    "\n",
    "# create the pipeline with transformations\n",
    "pipeline = IngestionPipeline(\n",
    "    transformations=[\n",
    "        SentenceSplitter(chunk_size=25, chunk_overlap=0),\n",
    "        TitleExtractor(),\n",
    "        OpenAIEmbedding(),\n",
    "    ]\n",
    ")\n",
    "\n",
    "# run the pipeline\n",
    "nodes = pipeline.run(documents=[Document.example()])"
   ]
  },
  {
   "cell_type": "markdown",
   "id": "2e62390b-9225-4387-a641-03c1454f3135",
   "metadata": {},
   "source": [
    "pipeline需要设置vector_store，这样可以自动存储处理的转换。"
   ]
  },
  {
   "cell_type": "code",
   "execution_count": null,
   "id": "4e6b8f4d-206e-4e15-9660-fa524b9de243",
   "metadata": {},
   "outputs": [],
   "source": [
    "pipeline = IngestionPipeline(\n",
    "    transformations=[\n",
    "        SentenceSplitter(chunk_size=25, chunk_overlap=0),\n",
    "        TitleExtractor(),\n",
    "        OpenAIEmbedding(),\n",
    "    ],\n",
    "    vector_store=vector_store,\n",
    ")\n",
    "\n",
    "# Ingest directly into a vector db\n",
    "pipeline.run(documents=[Document.example()])"
   ]
  },
  {
   "cell_type": "markdown",
   "id": "59a66bf6-7804-4c19-876a-0ec8811fca5d",
   "metadata": {},
   "source": [
    "#### 直接创建和管理节点"
   ]
  },
  {
   "cell_type": "markdown",
   "id": "16e84845-cf3b-47f6-a6d9-97c05982dcc8",
   "metadata": {},
   "source": [
    "想要完全控制索引，您可以手动创建和定义节点并将它们直接传递给索引构造函数："
   ]
  },
  {
   "cell_type": "code",
   "execution_count": null,
   "id": "a126f3c1-65ce-4294-8a41-fda340ff50ea",
   "metadata": {},
   "outputs": [],
   "source": [
    "from llama_index.core.schema import TextNode\n",
    "\n",
    "node1 = TextNode(text=\"<text_chunk>\", id_=\"<node_id>\")\n",
    "node2 = TextNode(text=\"<text_chunk>\", id_=\"<node_id>\")\n",
    "nodes = [node1, node2]\n",
    "index = VectorStoreIndex(nodes)"
   ]
  },
  {
   "cell_type": "markdown",
   "id": "9e3dd30c-534f-487e-b1d9-bc492b8c0672",
   "metadata": {},
   "source": [
    "需要处理随时间变化的数据源。Index类具有插入，删除，更新和刷新操作，您可以在下面了解有关它们的更多信息：\n",
    "\n",
    "- 元数据提取\n",
    "- 文件管理"
   ]
  },
  {
   "cell_type": "markdown",
   "id": "232f47c6-2e15-4e84-8e34-25d2001da03c",
   "metadata": {},
   "source": [
    "### 存储向量索引"
   ]
  },
  {
   "cell_type": "markdown",
   "id": "d97ed22e-4f61-4c6c-bbab-7cfc091e2677",
   "metadata": {},
   "source": [
    "LlamaIndex 支持几十个向量存储。\n",
    "\n",
    "你可以通过传入一个来指定使用哪一个StorageContext，然后在其上指定vector_store参数。"
   ]
  },
  {
   "cell_type": "code",
   "execution_count": null,
   "id": "023f5958-aacd-41a2-b639-9a5126589049",
   "metadata": {},
   "outputs": [],
   "source": [
    "import pinecone\n",
    "from llama_index.core import (\n",
    "    VectorStoreIndex,\n",
    "    SimpleDirectoryReader,\n",
    "    StorageContext,\n",
    ")\n",
    "from llama_index.vector_stores.pinecone import PineconeVectorStore\n",
    "\n",
    "# init pinecone\n",
    "pinecone.init(api_key=\"<api_key>\", environment=\"<environment>\")\n",
    "pinecone.create_index(\n",
    "    \"quickstart\", dimension=1536, metric=\"euclidean\", pod_type=\"p1\"\n",
    ")\n",
    "\n",
    "# construct vector store and customize storage context\n",
    "storage_context = StorageContext.from_defaults(\n",
    "    vector_store=PineconeVectorStore(pinecone.Index(\"quickstart\"))\n",
    ")\n",
    "\n",
    "# Load documents and build index\n",
    "documents = SimpleDirectoryReader(\n",
    "    \"../../examples/data/paul_graham\"\n",
    ").load_data()\n",
    "index = VectorStoreIndex.from_documents(\n",
    "    documents, storage_context=storage_context\n",
    ")"
   ]
  },
  {
   "cell_type": "markdown",
   "id": "57d545e4-3e0c-45cf-8118-4de3ea553c7a",
   "metadata": {},
   "source": [
    "### 可组合索引"
   ]
  },
  {
   "cell_type": "markdown",
   "id": "05e51e03-040b-4811-9f20-43096da251e1",
   "metadata": {},
   "source": [
    "（VectorStoreIndex以及任何其他索引/检索器）能够检索通用对象，包括\n",
    "\n",
    "- 节点引用 - nodes\n",
    "- 查询引擎 - query engines\n",
    "- 检索器 - retrievers\n",
    "- 查询管道 - query pipeline\n",
    "\n",
    "检索到这些对象，它们将使用提供的查询自动运行："
   ]
  },
  {
   "cell_type": "code",
   "execution_count": null,
   "id": "eba430ac-e535-4e04-bf73-cdc998889b92",
   "metadata": {},
   "outputs": [],
   "source": [
    "from llama_index.core.schema import IndexNode\n",
    "\n",
    "query_engine = other_index.as_query_engine\n",
    "obj = IndexNode(\n",
    "    text=\"A query engine describing X, Y, and Z.\",\n",
    "    obj=query_engine,\n",
    "    index_id=\"my_query_engine\",\n",
    ")\n",
    "\n",
    "index = VectorStoreIndex(nodes=nodes, objects=[obj])\n",
    "retriever = index.as_retreiver(verbose=True)"
   ]
  },
  {
   "cell_type": "markdown",
   "id": "1a04eca0-96e3-4b57-a239-56a301d69f03",
   "metadata": {},
   "source": [
    "## 使用属性图索引 - PropertyGraphIndex"
   ]
  },
  {
   "cell_type": "markdown",
   "id": "8338aa32-5201-42a9-b4c9-fa02fcc7ab55",
   "metadata": {},
   "source": [
    "属性图是带有属性（即元数据）的标记节点（即实体类别、文本标签等）的知识集合。\n",
    "\n",
    "通过关系链接在一起形成结构化路径。\n",
    "\n",
    "在 LlamaIndex 中，PropertyGraphIndex提供了围绕\n",
    "\n",
    "- 构建一个图，constructing a graph\n",
    "- 查询一个图，querying a graph"
   ]
  },
  {
   "cell_type": "markdown",
   "id": "a7f26159-f57b-4017-b54e-eff70d211303",
   "metadata": {},
   "source": [
    "### 使用"
   ]
  },
  {
   "cell_type": "markdown",
   "id": "c7196c03-4a00-4af7-86ab-dc86e4eb6047",
   "metadata": {},
   "source": [
    "#### 基本使用"
   ]
  },
  {
   "cell_type": "code",
   "execution_count": null,
   "id": "22117a93-12da-427c-b003-3b17302ebdb8",
   "metadata": {},
   "outputs": [],
   "source": [
    "from llama_index.core import PropertyGraphIndex\n",
    "\n",
    "# create\n",
    "index = PropertyGraphIndex.from_documents(\n",
    "    documents,\n",
    ")\n",
    "\n",
    "# use\n",
    "retriever = index.as_retriever(\n",
    "    include_text=True,  # include source chunk with matching paths\n",
    "    similarity_top_k=2,  # top k for vector kg node retrieval\n",
    ")\n",
    "nodes = retriever.retrieve(\"Test\")\n",
    "\n",
    "query_engine = index.as_query_engine(\n",
    "    include_text=True,  # include source chunk with matching paths\n",
    "    similarity_top_k=2,  # top k for vector kg node retrieval\n",
    ")\n",
    "response = query_engine.query(\"Test\")\n",
    "\n",
    "# save and load\n",
    "index.storage_context.persist(persist_dir=\"./storage\")\n",
    "\n",
    "from llama_index.core import StorageContext, load_index_from_storage\n",
    "\n",
    "index = load_index_from_storage(\n",
    "    StorageContext.from_defaults(persist_dir=\"./storage\")\n",
    ")\n",
    "\n",
    "# loading from existing graph store (and optional vector store)\n",
    "# load from existing graph/vector store\n",
    "index = PropertyGraphIndex.from_existing(\n",
    "    property_graph_store=graph_store, vector_store=vector_store, ...\n",
    ")"
   ]
  },
  {
   "cell_type": "markdown",
   "id": "9e747510-0ac6-49e0-bad6-0ec06a198638",
   "metadata": {},
   "source": [
    "#### 构建"
   ]
  },
  {
   "cell_type": "markdown",
   "id": "5c42ea5d-d490-491d-8c2a-90851772ccb4",
   "metadata": {},
   "source": [
    "LlamaIndex 中的属性图构建通过对每个块执行一系列操作kg_extractors，并将实体和关系作为元数据附加到每个 llama-index 节点来实现。\n",
    "\n",
    "设置提取器（默认值为SimpleLLMPathExtractor和ImplicitPathExtractor）："
   ]
  },
  {
   "cell_type": "code",
   "execution_count": null,
   "id": "70ecdf61-2245-4441-be5e-eeb2f3a71536",
   "metadata": {},
   "outputs": [],
   "source": [
    "index = PropertyGraphIndex.from_documents(\n",
    "    documents,\n",
    "    kg_extractors=[extractor1, extractor2, ...],\n",
    ")\n",
    "\n",
    "# insert additional documents / nodes\n",
    "index.insert(document)\n",
    "index.insert_nodes(nodes)"
   ]
  },
  {
   "cell_type": "markdown",
   "id": "8aa4dd52-9523-44ae-b522-e51a113d9502",
   "metadata": {},
   "source": [
    "##### SimpleLLMPathExtractor"
   ]
  },
  {
   "cell_type": "markdown",
   "id": "9c8a9ef3-c33e-48c9-a25d-9255c246904d",
   "metadata": {},
   "source": [
    "使用 LLM 提取简短语句来提示和解析格式为 ( entity1, relation, entity2)的单跳路径"
   ]
  },
  {
   "cell_type": "code",
   "execution_count": null,
   "id": "e8a86b16-90d6-4e58-8ef6-4bfe9f572da7",
   "metadata": {},
   "outputs": [],
   "source": [
    "from llama_index.core.indices.property_graph import SimpleLLMPathExtractor\n",
    "\n",
    "kg_extractor = SimpleLLMPathExtractor(\n",
    "    llm=llm,\n",
    "    max_paths_per_chunk=10,\n",
    "    num_workers=4,\n",
    "    show_progress=False,\n",
    ")"
   ]
  },
  {
   "cell_type": "markdown",
   "id": "1ed6a50c-f568-4565-a029-98df7f79dd8f",
   "metadata": {},
   "source": [
    "##### ImplicitPathExtractor"
   ]
  },
  {
   "cell_type": "markdown",
   "id": "e6ab050d-a549-4b3e-b561-8c168f28d614",
   "metadata": {},
   "source": [
    "使用每个 llama-index 节点对象上的属性提取路径。\n",
    "\n",
    "不需要 LLM 或嵌入模型来运行，因为它仅仅解析 llama-index 节点对象上已经存在的属性。"
   ]
  },
  {
   "cell_type": "code",
   "execution_count": null,
   "id": "adeeadce-ad7f-42e5-a268-a83b58aa10c3",
   "metadata": {},
   "outputs": [],
   "source": [
    "from llama_index.core.indices.property_graph import ImplicitPathExtractor\n",
    "\n",
    "kg_extractor = ImplicitPathExtractor()"
   ]
  },
  {
   "cell_type": "markdown",
   "id": "53636c89-4932-4e53-ad15-59e5f7081e08",
   "metadata": {},
   "source": [
    "##### SchemaLLMPathExtractor"
   ]
  },
  {
   "cell_type": "markdown",
   "id": "af7c0fd2-82fb-491e-a302-d77765ac91ed",
   "metadata": {},
   "source": [
    "按照允许的实体、关系以及哪些实体可以连接到哪些关系的严格模式提取路径。"
   ]
  },
  {
   "cell_type": "code",
   "execution_count": null,
   "id": "d573c777-6f62-4499-b6ce-319492a14fe4",
   "metadata": {},
   "outputs": [],
   "source": [
    "from typing import Literal\n",
    "from llama_index.core.indices.property_graph import SchemaLLMPathExtractor\n",
    "\n",
    "# recommended uppercase, underscore separated\n",
    "entities = Literal[\"PERSON\", \"PLACE\", \"THING\"]\n",
    "relations = Literal[\"PART_OF\", \"HAS\", \"IS_A\"]\n",
    "schema = {\n",
    "    \"PERSON\": [\"PART_OF\", \"HAS\", \"IS_A\"],\n",
    "    \"PLACE\": [\"PART_OF\", \"HAS\"],\n",
    "    \"THING\": [\"IS_A\"],\n",
    "}\n",
    "\n",
    "kg_extractor = SchemaLLMPathExtractor(\n",
    "    llm=llm,\n",
    "    possible_entities=entities,\n",
    "    possible_relations=relations,\n",
    "    kg_validation_schema=schema,\n",
    "    strict=True,  # if false, will allow triples outside of the schema\n",
    "    num_workers=4,\n",
    "    max_paths_per_chunk=10,\n",
    "    show_progres=False,\n",
    ")"
   ]
  },
  {
   "cell_type": "markdown",
   "id": "4186e1c6-c8b3-4d54-a46d-33c366313dbc",
   "metadata": {},
   "source": [
    "#### 检索和查询"
   ]
  },
  {
   "cell_type": "markdown",
   "id": "71c80242-5e5b-49cc-ba5d-83d41caa3399",
   "metadata": {},
   "source": [
    "标记属性图可以通过多种方式查询以检索节点和路径。\n",
    "\n",
    "在 LlamaIndex 中，我们可以同时组合多种节点检索方法！"
   ]
  },
  {
   "cell_type": "code",
   "execution_count": null,
   "id": "e7045d58-70d4-48b9-97d7-ef430e0b1e7c",
   "metadata": {},
   "outputs": [],
   "source": [
    "# create a retriever\n",
    "retriever = index.as_retriever(sub_retrievers=[retriever1, retriever2, ...])\n",
    "\n",
    "# create a query engine\n",
    "query_engine = index.as_query_engine(\n",
    "    sub_retrievers=[retriever1, retriever2, ...]\n",
    ")"
   ]
  },
  {
   "cell_type": "markdown",
   "id": "d025de46-e3d1-436e-95c3-218b0e5f0957",
   "metadata": {},
   "source": [
    "#### 存储"
   ]
  },
  {
   "cell_type": "markdown",
   "id": "93135278-0c9f-458a-a984-6f60a5cc798a",
   "metadata": {},
   "source": [
    "支持的图存储：\n",
    "\n",
    "- SimplePropertyGraphStore\n",
    "- Neo4jPropertyGraphStore\n",
    "- NebulaPropertyGraphStore\n",
    "- TiDBPropertyGraphStore"
   ]
  },
  {
   "cell_type": "markdown",
   "id": "f4d7e937-7989-4fe0-a25b-e0d5c2148af5",
   "metadata": {},
   "source": [
    "##### 保存到磁盘/从磁盘加载"
   ]
  },
  {
   "cell_type": "markdown",
   "id": "d396eb67-1e68-45b6-bebc-4a93118bf102",
   "metadata": {},
   "source": [
    "默认属性图存储SimplePropertyGraphStore将所有内容存储在内存中并持久保存并从磁盘加载。"
   ]
  },
  {
   "cell_type": "code",
   "execution_count": null,
   "id": "92d4c294-78f5-407a-907f-c00d5f825134",
   "metadata": {},
   "outputs": [],
   "source": [
    "from llama_index.core import StorageContext, load_index_from_storage\n",
    "from llama_index.core.indices import PropertyGraphIndex\n",
    "\n",
    "# create\n",
    "index = PropertyGraphIndex.from_documents(documents)\n",
    "\n",
    "# save\n",
    "index.storage_context.persist(\"./storage\")\n",
    "\n",
    "# load\n",
    "storage_context = StorageContext.from_defaults(persist_dir=\"./storage\")\n",
    "index = load_index_from_storage(storage_context)"
   ]
  },
  {
   "cell_type": "markdown",
   "id": "95f0b103-184f-4b6a-8481-e75f360a51e5",
   "metadata": {},
   "source": [
    "##### 使用集成保存和加载"
   ]
  },
  {
   "cell_type": "markdown",
   "id": "91cdeffa-9011-410d-b972-f9118f2918f6",
   "metadata": {},
   "source": []
  },
  {
   "cell_type": "markdown",
   "id": "f3c0963d-e57f-42f6-954e-ea426a0e526c",
   "metadata": {},
   "source": [
    "##### 直接使用 Property Graph Store"
   ]
  },
  {
   "cell_type": "markdown",
   "id": "dd27c280-6b9c-48a7-9566-dbc03eb410e9",
   "metadata": {},
   "source": []
  },
  {
   "cell_type": "markdown",
   "id": "aa7bc7a6-3b6f-4572-b3a1-41d467c05c21",
   "metadata": {},
   "source": [
    "#### 高级定制"
   ]
  },
  {
   "cell_type": "code",
   "execution_count": null,
   "id": "a3f03ac0-abb3-44ee-ad40-b0ece527f28d",
   "metadata": {},
   "outputs": [],
   "source": []
  },
  {
   "cell_type": "markdown",
   "id": "3cd222e0-f832-4297-b1dd-06880700579f",
   "metadata": {},
   "source": [
    "## 文件管理"
   ]
  },
  {
   "cell_type": "markdown",
   "id": "1c00c9a3-5a50-463a-afc9-cd229415c948",
   "metadata": {},
   "source": [
    "大多数 LlamaIndex 索引结构允许插入、删除、更新和刷新操作。"
   ]
  },
  {
   "cell_type": "markdown",
   "id": "52d51219-8bb6-4b46-ac89-167ca1ef9c4b",
   "metadata": {},
   "source": [
    "### 插入"
   ]
  },
  {
   "cell_type": "markdown",
   "id": "f9953800-de1b-4534-a7f8-799682d69a87",
   "metadata": {},
   "source": [
    "可以在初始构建索引后将新文档“插入”到任何索引数据结构中。\n",
    "\n",
    "文档将被分解为节点并被纳入索引。\n",
    "\n",
    "背后的底层机制取决于索引结构。例如，\n",
    "\n",
    "- 对于摘要索引，会将新文档作为列表中的附加节点插入\n",
    "- 对于向量存储索引，会将新文档（和嵌入）插入到底层文档/嵌入存储中"
   ]
  },
  {
   "cell_type": "code",
   "execution_count": null,
   "id": "9045742a-f9a9-4b1c-84f6-4e44e4f1e091",
   "metadata": {},
   "outputs": [],
   "source": [
    "from llama_index.core import SummaryIndex, Document\n",
    "\n",
    "index = SummaryIndex([])\n",
    "text_chunks = [\"text_chunk_1\", \"text_chunk_2\", \"text_chunk_3\"]\n",
    "\n",
    "doc_chunks = []\n",
    "for i, text in enumerate(text_chunks):\n",
    "    doc = Document(text=text, id_=f\"doc_id_{i}\")\n",
    "    doc_chunks.append(doc)\n",
    "\n",
    "# insert\n",
    "for doc_chunk in doc_chunks:\n",
    "    index.insert(doc_chunk)"
   ]
  },
  {
   "cell_type": "markdown",
   "id": "01d62a9f-c4e7-48de-91be-d60165f711ab",
   "metadata": {},
   "source": [
    "### 删除"
   ]
  },
  {
   "cell_type": "markdown",
   "id": "b38a4b1f-3a03-4dba-8929-971299e3c3c8",
   "metadata": {},
   "source": [
    "通过指定 document_id 从大多数索引数据结构中“删除”文档。\n",
    "\n",
    "与文档对应的所有节点都将被删除。\n",
    "\n",
    "树索引目前不支持删除。"
   ]
  },
  {
   "cell_type": "code",
   "execution_count": null,
   "id": "df1d0525-03b3-4b49-ac58-1162e69eefe4",
   "metadata": {},
   "outputs": [],
   "source": [
    "index.delete_ref_doc(\"doc_id_0\", delete_from_docstore=True)"
   ]
  },
  {
   "cell_type": "markdown",
   "id": "a00565b2-5a0f-46c1-a4e9-b3c0d052576a",
   "metadata": {},
   "source": [
    "`delete_from_docstore` 如果您在使用相同文档库的索引之间共享节点，则默认为False。"
   ]
  },
  {
   "cell_type": "markdown",
   "id": "78f93ab9-8938-48ac-b80b-127742ae4b1c",
   "metadata": {},
   "source": [
    "### 更新"
   ]
  },
  {
   "cell_type": "markdown",
   "id": "3ce0ce92-d318-480f-8b70-2d3daf42aee4",
   "metadata": {},
   "source": [
    "如果文档已存在于索引中，则可以使用相同的文档“更新”。\n",
    "\n",
    "传递了一些额外的 kwargs 来确保文档从 docstore 中删除。"
   ]
  },
  {
   "cell_type": "code",
   "execution_count": null,
   "id": "6c0b22e1-a60f-4257-a415-8b5e15c5442d",
   "metadata": {},
   "outputs": [],
   "source": [
    "# NOTE: the document has a `doc_id` specified\n",
    "doc_chunks[0].text = \"Brand new document text\"\n",
    "index.update_ref_doc(\n",
    "    doc_chunks[0],\n",
    "    update_kwargs={\"delete_kwargs\": {\"delete_from_docstore\": True}},\n",
    ")"
   ]
  },
  {
   "cell_type": "markdown",
   "id": "009ed8db-9b7c-40b4-9d38-2f5998fc1473",
   "metadata": {},
   "source": [
    "### 刷新"
   ]
  },
  {
   "cell_type": "markdown",
   "id": "91058f2b-626f-40d0-8f42-96bd973c3df8",
   "metadata": {},
   "source": [
    "加载数据时，如果设置每个文档的文档id_，可以自动刷新索引。\n",
    "\n",
    "refresh()函数只会更新具有相同 doc id_，但不同文本内容的文档。索引中不存在的任何文档也将被插入。\n",
    "\n",
    "refresh()还返回一个布尔列表，指示输入中的哪些文档已在索引中刷新。\n",
    "\n",
    "当从不断更新新信息的目录中读取数据时，这非常有用。\n",
    "\n",
    "id_若要在使用时自动设置文档SimpleDirectoryReader，您可以设置filename_as_id标志。"
   ]
  },
  {
   "cell_type": "code",
   "execution_count": null,
   "id": "f7f7a682-7cff-4223-9cf9-e83c38f12866",
   "metadata": {},
   "outputs": [],
   "source": [
    "# modify first document, with the same doc_id\n",
    "doc_chunks[0] = Document(text=\"Super new document text\", id_=\"doc_id_0\")\n",
    "\n",
    "# add a new document\n",
    "doc_chunks.append(\n",
    "    Document(\n",
    "        text=\"This isn't in the index yet, but it will be soon!\",\n",
    "        id_=\"doc_id_3\",\n",
    "    )\n",
    ")\n",
    "\n",
    "# refresh the index\n",
    "refreshed_docs = index.refresh_ref_docs(\n",
    "    doc_chunks, update_kwargs={\"delete_kwargs\": {\"delete_from_docstore\": True}}\n",
    ")\n",
    "\n",
    "# refreshed_docs[0] and refreshed_docs[-1] should be true"
   ]
  },
  {
   "cell_type": "markdown",
   "id": "0561b7ab-54e8-4af8-924b-d5d57bef50a2",
   "metadata": {},
   "source": [
    "### 文档追踪"
   ]
  },
  {
   "cell_type": "markdown",
   "id": "45a6d95a-2231-4d9f-be23-3947c2a6d754",
   "metadata": {},
   "source": [
    "任何使用文档存储的索引（即除了大多数向量存储集成之外的所有索引），您还可以看到已插入文档存储的文档。\n",
    "\n",
    "输出中的每个条目都将摄取的文档显示id_为键，并将其node_ids与分割成的节点关联。\n",
    "\n",
    "最后，metadata还会跟踪每个输入文档的原始词典。您可以在自定义文档metadata中阅读有关该属性的更多信息。"
   ]
  },
  {
   "cell_type": "code",
   "execution_count": null,
   "id": "73913584-05fc-4cd4-8150-6df2113971bc",
   "metadata": {},
   "outputs": [],
   "source": [
    "print(index.ref_doc_info)\n",
    "\"\"\"\n",
    "> {'doc_id_1': RefDocInfo(node_ids=['071a66a8-3c47-49ad-84fa-7010c6277479'], metadata={}),\n",
    "   'doc_id_2': RefDocInfo(node_ids=['9563e84b-f934-41c3-acfd-22e88492c869'], metadata={}),\n",
    "   'doc_id_0': RefDocInfo(node_ids=['b53e6c2f-16f7-4024-af4c-42890e945f36'], metadata={}),\n",
    "   'doc_id_3': RefDocInfo(node_ids=['6bedb29f-15db-4c7c-9885-7490e10aa33f'], metadata={})}\n",
    "\"\"\""
   ]
  },
  {
   "cell_type": "markdown",
   "id": "2b89a5b3-d1d5-4a55-bbc6-701f45837e74",
   "metadata": {},
   "source": [
    "## LlamaCloudIndex"
   ]
  },
  {
   "cell_type": "markdown",
   "id": "22f07ad7-c5b8-48cf-ac37-776fc4704a17",
   "metadata": {},
   "source": [
    "LlamaCloud 是新一代托管解析、提取和检索服务，旨在为您的 LLM 和 RAG 应用程序带来生产级上下文增强。\n",
    "\n",
    "目前，LlamaCloud 支持\n",
    "\n",
    "- 托管摄取 API，处理解析和文档管理\n",
    "- 托管检索 API，为您的 RAG 系统配置最佳检索"
   ]
  },
  {
   "cell_type": "markdown",
   "id": "85598541-3984-4476-8008-dbe51f5afeb0",
   "metadata": {},
   "source": [
    "## 元数据提取"
   ]
  },
  {
   "cell_type": "markdown",
   "id": "b5b4eb52-5325-4de9-ace5-309f87208a83",
   "metadata": {},
   "source": [
    "### 介绍"
   ]
  },
  {
   "cell_type": "markdown",
   "id": "2db49b96-6ef4-438f-abc8-b942c4fc36ad",
   "metadata": {},
   "source": [
    "在许多情况下，尤其是长文档中，一段文本可能缺少必要的上下文来将该段文本与其他类似的文本段区分开来。\n",
    "\n",
    "为了解决这个问题，我们使用 LLM 来提取与文档相关的某些上下文信息，以便更好地帮助检索和语言模型消除看起来相似的段落的歧义。"
   ]
  },
  {
   "cell_type": "markdown",
   "id": "51c5e0e3-23e1-485a-9370-ee45cc714416",
   "metadata": {},
   "source": [
    "### 用法"
   ]
  },
  {
   "cell_type": "markdown",
   "id": "db3fd16f-3a6c-45d6-ab8b-5a490ad0e43d",
   "metadata": {},
   "source": [
    "首先，我们定义一个元数据提取器，它接收将按顺序处理的特征提取器列表。\n",
    "\n",
    "然后我们将其提供给节点解析器，它将向每个节点添加额外的元数据。"
   ]
  },
  {
   "cell_type": "code",
   "execution_count": null,
   "id": "1f1032ec-176d-409c-b36d-9c7643315e39",
   "metadata": {},
   "outputs": [],
   "source": [
    "from llama_index.core.node_parser import SentenceSplitter\n",
    "from llama_index.core.extractors import (\n",
    "    SummaryExtractor,\n",
    "    QuestionsAnsweredExtractor,\n",
    "    TitleExtractor,\n",
    "    KeywordExtractor,\n",
    ")\n",
    "from llama_index.extractors.entity import EntityExtractor\n",
    "\n",
    "transformations = [\n",
    "    SentenceSplitter(),\n",
    "    TitleExtractor(nodes=5),\n",
    "    QuestionsAnsweredExtractor(questions=3),\n",
    "    SummaryExtractor(summaries=[\"prev\", \"self\"]),\n",
    "    KeywordExtractor(keywords=10),\n",
    "    EntityExtractor(prediction_threshold=0.5),\n",
    "]"
   ]
  },
  {
   "cell_type": "markdown",
   "id": "4beda106-f0b6-4e5d-9933-f3e6625d9282",
   "metadata": {},
   "source": [
    "然后，我们可以在输入文档或节点上运行转换："
   ]
  },
  {
   "cell_type": "code",
   "execution_count": null,
   "id": "b83bf99a-66b8-4527-9e0c-da26ac636c8b",
   "metadata": {},
   "outputs": [],
   "source": [
    "from llama_index.core.ingestion import IngestionPipeline\n",
    "\n",
    "pipeline = IngestionPipeline(transformations=transformations)\n",
    "\n",
    "nodes = pipeline.run(documents=documents)"
   ]
  },
  {
   "cell_type": "markdown",
   "id": "c5621409-f4fc-4746-84b9-20cfe22af590",
   "metadata": {},
   "source": [
    "以下是提取的元数据的示例："
   ]
  },
  {
   "cell_type": "code",
   "execution_count": null,
   "id": "c2c71363-b346-4ed2-bae8-5ba131f5eb13",
   "metadata": {},
   "outputs": [],
   "source": [
    "{'page_label': '2',\n",
    " 'file_name': '10k-132.pdf',\n",
    " 'document_title': 'Uber Technologies, Inc. 2019 Annual Report: Revolutionizing Mobility and Logistics Across 69 Countries and 111 Million MAPCs with $65 Billion in Gross Bookings',\n",
    " 'questions_this_excerpt_can_answer': '\\n\\n1. How many countries does Uber Technologies, Inc. operate in?\\n2. What is the total number of MAPCs served by Uber Technologies, Inc.?\\n3. How much gross bookings did Uber Technologies, Inc. generate in 2019?',\n",
    " 'prev_section_summary': \"\\n\\nThe 2019 Annual Report provides an overview of the key topics and entities that have been important to the organization over the past year. These include financial performance, operational highlights, customer satisfaction, employee engagement, and sustainability initiatives. It also provides an overview of the organization's strategic objectives and goals for the upcoming year.\",\n",
    " 'section_summary': '\\nThis section discusses a global tech platform that serves multiple multi-trillion dollar markets with products leveraging core technology and infrastructure. It enables consumers and drivers to tap a button and get a ride or work. The platform has revolutionized personal mobility with ridesharing and is now leveraging its platform to redefine the massive meal delivery and logistics industries. The foundation of the platform is its massive network, leading technology, operational excellence, and product expertise.',\n",
    " 'excerpt_keywords': '\\nRidesharing, Mobility, Meal Delivery, Logistics, Network, Technology, Operational Excellence, Product Expertise, Point A, Point B'}"
   ]
  },
  {
   "cell_type": "markdown",
   "id": "1af2c6e0-6813-48b4-88a0-ac462866570a",
   "metadata": {},
   "source": [
    "### 自定义提取器"
   ]
  },
  {
   "cell_type": "markdown",
   "id": "d7171e54-4ad9-4b03-bbd0-f8aa1120c3a0",
   "metadata": {},
   "source": [
    "如果提供的提取器不能满足您的需求，您还可以定义自定义提取器，如下所示："
   ]
  },
  {
   "cell_type": "code",
   "execution_count": null,
   "id": "1c69ad15-8db1-47ff-a550-92200772c7ae",
   "metadata": {},
   "outputs": [],
   "source": [
    "from llama_index.core.extractors import BaseExtractor\n",
    "\n",
    "\n",
    "class CustomExtractor(BaseExtractor):\n",
    "    async def aextract(self, nodes) -> List[Dict]:\n",
    "        metadata_list = [\n",
    "            {\n",
    "                \"custom\": node.metadata[\"document_title\"]\n",
    "                + \"\\n\"\n",
    "                + node.metadata[\"excerpt_keywords\"]\n",
    "            }\n",
    "            for node in nodes\n",
    "        ]\n",
    "        return metadata_list"
   ]
  },
  {
   "cell_type": "markdown",
   "id": "6d175161-edc1-4848-a4a2-180a77b4ba72",
   "metadata": {},
   "source": [
    "extractor.extract()将自动aextract()在后台调用，以提供同步和异步入口点。\n",
    "\n",
    "在更高级的示例中，它还可以利用llm从节点内容和现有元数据中提取特征。"
   ]
  },
  {
   "cell_type": "code",
   "execution_count": null,
   "id": "fa9cd7cd-0331-42a4-973f-2f1953bd2f27",
   "metadata": {},
   "outputs": [],
   "source": []
  }
 ],
 "metadata": {
  "kernelspec": {
   "display_name": "Python 3 (ipykernel)",
   "language": "python",
   "name": "python3"
  },
  "language_info": {
   "codemirror_mode": {
    "name": "ipython",
    "version": 3
   },
   "file_extension": ".py",
   "mimetype": "text/x-python",
   "name": "python",
   "nbconvert_exporter": "python",
   "pygments_lexer": "ipython3",
   "version": "3.10.12"
  }
 },
 "nbformat": 4,
 "nbformat_minor": 5
}
