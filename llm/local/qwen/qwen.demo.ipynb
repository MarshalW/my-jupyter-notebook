{
 "cells": [
  {
   "cell_type": "markdown",
   "id": "55fda4ed-b4d5-4fe7-ada1-4600bfadf669",
   "metadata": {},
   "source": [
    "# Qwen 基本示例\n",
    "\n",
    "## 加载模型"
   ]
  },
  {
   "cell_type": "code",
   "execution_count": 1,
   "id": "24700e6b-d58f-480e-966e-39f0f77f0979",
   "metadata": {},
   "outputs": [
    {
     "name": "stderr",
     "output_type": "stream",
     "text": [
      "Try importing flash-attention for faster inference...\n",
      "Warning: import flash_attn rotary fail, please install FlashAttention rotary to get higher efficiency https://github.com/Dao-AILab/flash-attention/tree/main/csrc/rotary\n",
      "Warning: import flash_attn rms_norm fail, please install FlashAttention layer_norm to get higher efficiency https://github.com/Dao-AILab/flash-attention/tree/main/csrc/layer_norm\n",
      "Warning: import flash_attn fail, please install FlashAttention to get higher efficiency https://github.com/Dao-AILab/flash-attention\n"
     ]
    },
    {
     "name": "stdout",
     "output_type": "stream",
     "text": [
      "Load OK.\n"
     ]
    }
   ],
   "source": [
    "from transformers import AutoTokenizer, AutoModelForCausalLM\n",
    "\n",
    "model_path=\"/models/Qwen-1_8B-Chat-Int4\"\n",
    "\n",
    "tokenizer = AutoTokenizer.from_pretrained(model_path, revision='master', trust_remote_code=True)\n",
    "model = AutoModelForCausalLM.from_pretrained(\n",
    "    model_path, revision='master',\n",
    "    device_map=\"auto\",\n",
    "    trust_remote_code=True\n",
    ").eval()\n",
    "\n",
    "print ('Load OK.')"
   ]
  },
  {
   "cell_type": "markdown",
   "id": "d4aff88e-0121-4851-9648-a39794ceb079",
   "metadata": {},
   "source": [
    "## 最基本的聊天"
   ]
  },
  {
   "cell_type": "code",
   "execution_count": 2,
   "id": "8a26f48c-928c-4ee4-99be-54b84e40b1e1",
   "metadata": {},
   "outputs": [
    {
     "name": "stdout",
     "output_type": "stream",
     "text": [
      "你好！有什么我能帮助你的吗？\n"
     ]
    }
   ],
   "source": [
    "response, history = model.chat(tokenizer, \"你好\", history=None)\n",
    "print(response)"
   ]
  },
  {
   "cell_type": "code",
   "execution_count": 3,
   "id": "3ef53715-a51b-4979-a89c-974e904d0bfa",
   "metadata": {},
   "outputs": [
    {
     "name": "stdout",
     "output_type": "stream",
     "text": [
      "水果根据果实成熟程度分为成熟果、未熟果和生果三种，其中成熟果包括了橙子和橘子。建议通过颜色区分：橙子的皮是黄色或淡红色，表面有蜡质保护层；橘子的皮是青色或绿色，表面光滑无蜡质保护层。不同种类的柑橘类水果，表皮颜色也会有所不同，如蜜桔皮呈白色或浅黄色，蜜柚皮呈紫色。果肉质地取决于品种和种类，有的较硬实，有的则比较软嫩。一般情况下，成熟的柑橘类水果皮厚，果肉细嫩多汁，甜酸适口。未成熟的柑橘类水果皮薄，果肉干涩，口感较差。另外，需要注意的是，某些水果可能会产生假成熟的现象，其表皮可能还会呈现绿色或者黄褐色。在购买时，请消费者仔细观察，并注意检查柑橘类水果的新鲜度和重量。\n"
     ]
    }
   ],
   "source": [
    "response, history = model.chat(tokenizer, \"怎么区分橘子和橙子\", history=None)\n",
    "print(response)"
   ]
  },
  {
   "cell_type": "markdown",
   "id": "c36c6506-f033-4531-9d17-a6bd8d8d52f0",
   "metadata": {},
   "source": [
    "## 流式输出"
   ]
  },
  {
   "cell_type": "code",
   "execution_count": 13,
   "id": "67d27292-39a5-4b5d-a4d9-b7228a6018e6",
   "metadata": {},
   "outputs": [
    {
     "name": "stdout",
     "output_type": "stream",
     "text": [
      "电磁学是一门研究电场和磁场的物理学分支。它主要涉及了以下几个主要内容：\n",
      "\n",
      "1. 电荷和电场：解释电荷的基本性质和电场的形成。\n",
      "2. 磁场：描述磁场的特性、基本结构和相互作用。\n",
      "3. 电磁波：介绍电磁波的产生、传播和接收过程，包括无线电波、红外线、可见光、紫外线等。\n",
      "4. 波粒二象性：解释微观粒子（如电子）的行为模式与宏观物体的行为模式的区别。\n",
      "5. 麦克斯韦方程组：这是描述电场和磁场之间相互作用的数学公式。\n",
      "\n",
      "以上是电磁学的一些主要内容，具体的学科领域还会进一步细分。在学习过程中，了解这些内容是理解和应用电磁学的基础。\n",
      "\n",
      "耗时：9.2602 秒\n"
     ]
    }
   ],
   "source": [
    "import time\n",
    "\n",
    "# 记录开始时间\n",
    "start_time = time.time()\n",
    "\n",
    "past_key_values, history = None, []\n",
    "current_length = 0\n",
    "\n",
    "question=\"电磁学有哪些主要内容，列表说明\"\n",
    "\n",
    "for response in model.chat_stream(tokenizer=tokenizer, query=question, history=None):\n",
    "    print(response[current_length:], end=\"\", flush=True)\n",
    "    current_length = len(response)\n",
    "\n",
    "print(\"\")\n",
    "\n",
    "# 记录结束时间\n",
    "end_time = time.time()\n",
    "\n",
    "# 计算执行时间\n",
    "elapsed_time = end_time - start_time\n",
    "\n",
    "print(\"\")\n",
    "print(f\"耗时：{elapsed_time:.4f} 秒\")"
   ]
  },
  {
   "cell_type": "code",
   "execution_count": null,
   "id": "a05ff2de-00dc-48ac-aa33-eb3b826f9b68",
   "metadata": {},
   "outputs": [],
   "source": []
  }
 ],
 "metadata": {
  "kernelspec": {
   "display_name": "Python 3 (ipykernel)",
   "language": "python",
   "name": "python3"
  },
  "language_info": {
   "codemirror_mode": {
    "name": "ipython",
    "version": 3
   },
   "file_extension": ".py",
   "mimetype": "text/x-python",
   "name": "python",
   "nbconvert_exporter": "python",
   "pygments_lexer": "ipython3",
   "version": "3.10.12"
  }
 },
 "nbformat": 4,
 "nbformat_minor": 5
}
