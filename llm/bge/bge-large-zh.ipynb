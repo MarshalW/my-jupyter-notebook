{
 "cells": [
  {
   "cell_type": "markdown",
   "id": "0598eff8-e911-48e5-97e7-736f2b516177",
   "metadata": {},
   "source": [
    "# bge-large-zh"
   ]
  },
  {
   "cell_type": "markdown",
   "id": "0df98948-fd4f-4826-a438-0e2f6de5c598",
   "metadata": {},
   "source": [
    "## curl 简单调用 -- 判断是否可用"
   ]
  },
  {
   "cell_type": "code",
   "execution_count": 1,
   "id": "2ff40b95-126a-407a-9130-25728cc4d2d9",
   "metadata": {
    "editable": true,
    "slideshow": {
     "slide_type": ""
    },
    "tags": []
   },
   "outputs": [
    {
     "name": "stdout",
     "output_type": "stream",
     "text": [
      "CPU times: user 4.59 ms, sys: 4.11 ms, total: 8.7 ms\n",
      "Wall time: 780 ms\n"
     ]
    }
   ],
   "source": [
    "%%time\n",
    "%%capture\n",
    "%%bash\n",
    "\n",
    "curl -s http://192.168.0.72:11435/api/embeddings \\\n",
    "    -H \"Content-Type: application/json\" \\\n",
    "    -d '{\n",
    "        \"model\": \"dztech/bge-large-zh:v1.5\",\n",
    "        \"prompt\": \"Llamas are members of the camelid family\"\n",
    "    }'"
   ]
  },
  {
   "cell_type": "code",
   "execution_count": 2,
   "id": "b3685354-34e7-4a0d-a3e3-7d0382fddf9a",
   "metadata": {},
   "outputs": [
    {
     "name": "stdout",
     "output_type": "stream",
     "text": [
      "CPU times: user 3.73 ms, sys: 0 ns, total: 3.73 ms\n",
      "Wall time: 27.8 ms\n"
     ]
    }
   ],
   "source": [
    "%%time\n",
    "%%capture\n",
    "%%bash\n",
    "\n",
    "curl -s http://192.168.0.72:11435/api/embeddings \\\n",
    "    -H \"Content-Type: application/json\" \\\n",
    "    -d '{\n",
    "        \"model\": \"chatfire/bge-m3:q8_0\",\n",
    "        \"prompt\": \"Llamas are members of the camelid family\"\n",
    "    }'"
   ]
  },
  {
   "cell_type": "markdown",
   "id": "511ad828-34e3-4ae4-b619-51c62d8e8778",
   "metadata": {},
   "source": [
    "## LlamaIndex api - 生成嵌入向量"
   ]
  },
  {
   "cell_type": "code",
   "execution_count": 2,
   "id": "9c1044f4-c318-4cf0-a6a4-4d3f72397f90",
   "metadata": {
    "editable": true,
    "slideshow": {
     "slide_type": ""
    },
    "tags": []
   },
   "outputs": [
    {
     "name": "stdout",
     "output_type": "stream",
     "text": [
      "CPU times: user 1.35 s, sys: 284 ms, total: 1.64 s\n",
      "Wall time: 1.27 s\n"
     ]
    },
    {
     "data": {
      "text/plain": [
       "1024"
      ]
     },
     "execution_count": 2,
     "metadata": {},
     "output_type": "execute_result"
    }
   ],
   "source": [
    "%%time\n",
    "\n",
    "from llama_index.embeddings.ollama import OllamaEmbedding\n",
    "\n",
    "ollama_embedding = OllamaEmbedding(\n",
    "    model_name=\"dztech/bge-large-zh:v1.5\",\n",
    "    # model_name=\"bge-m3:latest\",\n",
    "    base_url=\"http://192.168.0.72:11435\",\n",
    "    ollama_additional_kwargs={\"mirostat\": 0}, # -mirostat N 使用 Mirostat 采样。\n",
    ")\n",
    "\n",
    "pass_embedding = ollama_embedding.get_text_embedding_batch(\n",
    "    [\"This is a passage!\", \"This is another passage\"], \n",
    "    # show_progress=True\n",
    ")\n",
    "len(pass_embedding[1])"
   ]
  },
  {
   "cell_type": "code",
   "execution_count": 3,
   "id": "f6e2ea4b-0a70-4e87-a841-642895e709cb",
   "metadata": {},
   "outputs": [
    {
     "name": "stdout",
     "output_type": "stream",
     "text": [
      "CPU times: user 2.82 s, sys: 513 ms, total: 3.33 s\n",
      "Wall time: 4.06 s\n"
     ]
    },
    {
     "data": {
      "text/plain": [
       "1024"
      ]
     },
     "execution_count": 3,
     "metadata": {},
     "output_type": "execute_result"
    }
   ],
   "source": [
    "%%time\n",
    "\n",
    "from llama_index.embeddings.ollama import OllamaEmbedding\n",
    "\n",
    "ollama_embedding = OllamaEmbedding(\n",
    "    model_name=\"chatfire/bge-m3:q8_0\",\n",
    "    # model_name=\"bge-m3:latest\",\n",
    "    base_url=\"http://192.168.0.72:11435\",\n",
    "    ollama_additional_kwargs={\"mirostat\": 0}, # -mirostat N 使用 Mirostat 采样。\n",
    ")\n",
    "\n",
    "pass_embedding = ollama_embedding.get_text_embedding_batch(\n",
    "    [\"This is a passage!\", \"This is another passage\"], \n",
    "    # show_progress=True\n",
    ")\n",
    "len(pass_embedding[1])"
   ]
  },
  {
   "cell_type": "markdown",
   "id": "0527bde7-5169-4102-b3ad-ba1548ee29f4",
   "metadata": {
    "editable": true,
    "slideshow": {
     "slide_type": ""
    },
    "tags": []
   },
   "source": [
    "## LlamaIndex api + Faiss存储索引"
   ]
  },
  {
   "cell_type": "markdown",
   "id": "831bcc20-45d2-4487-ae36-a0f1ed7d2ded",
   "metadata": {},
   "source": [
    "### 加载库"
   ]
  },
  {
   "cell_type": "code",
   "execution_count": 3,
   "id": "0a8d94ec-446c-4ba7-b2ea-ad696b1d24f8",
   "metadata": {
    "editable": true,
    "slideshow": {
     "slide_type": ""
    },
    "tags": []
   },
   "outputs": [
    {
     "name": "stdout",
     "output_type": "stream",
     "text": [
      "CPU times: user 31.2 ms, sys: 15.5 ms, total: 46.8 ms\n",
      "Wall time: 7.36 s\n"
     ]
    }
   ],
   "source": [
    "%%time\n",
    "%%capture\n",
    "\n",
    "!pip install llama-index\n",
    "!pip install llama-index-llms-openai-like\n",
    "!pip install llama-index-llms-ollama\n",
    "!pip install llama-index-vector-stores-faiss"
   ]
  },
  {
   "cell_type": "code",
   "execution_count": 4,
   "id": "1bf024bb-d199-4682-a4c2-17e37185e7e9",
   "metadata": {
    "editable": true,
    "slideshow": {
     "slide_type": ""
    },
    "tags": []
   },
   "outputs": [
    {
     "name": "stdout",
     "output_type": "stream",
     "text": [
      "CPU times: user 134 µs, sys: 3.28 ms, total: 3.41 ms\n",
      "Wall time: 2.81 ms\n"
     ]
    }
   ],
   "source": [
    "%%time\n",
    "\n",
    "from llama_index.core import Settings\n",
    "from llama_index.embeddings.ollama import OllamaEmbedding\n",
    "from llama_index.core import (\n",
    "    SimpleDirectoryReader,\n",
    "    load_index_from_storage,\n",
    "    VectorStoreIndex,\n",
    "    StorageContext,\n",
    ")\n",
    "from llama_index.vector_stores.faiss import FaissVectorStore"
   ]
  },
  {
   "cell_type": "markdown",
   "id": "2c495944-602e-4e06-a11d-672ae21bd463",
   "metadata": {},
   "source": [
    "### 设置系统日志"
   ]
  },
  {
   "cell_type": "code",
   "execution_count": 5,
   "id": "df598268-0bdb-40c0-bee0-b5188a583d66",
   "metadata": {
    "editable": true,
    "slideshow": {
     "slide_type": ""
    },
    "tags": []
   },
   "outputs": [
    {
     "name": "stdout",
     "output_type": "stream",
     "text": [
      "CPU times: user 209 µs, sys: 42 µs, total: 251 µs\n",
      "Wall time: 254 µs\n"
     ]
    }
   ],
   "source": [
    "%%time\n",
    "\n",
    "import logging\n",
    "import sys\n",
    "\n",
    "logging.basicConfig(stream=sys.stdout, level=logging.INFO)\n",
    "logging.getLogger().addHandler(logging.StreamHandler(stream=sys.stdout))"
   ]
  },
  {
   "cell_type": "markdown",
   "id": "044a14fd-901c-4482-a974-869b6d2b4219",
   "metadata": {},
   "source": [
    "### 嵌入模型 - bge-large-zh"
   ]
  },
  {
   "cell_type": "code",
   "execution_count": 6,
   "id": "edbc570c-1f35-413d-8dd8-98cb39422b67",
   "metadata": {
    "editable": true,
    "slideshow": {
     "slide_type": ""
    },
    "tags": []
   },
   "outputs": [
    {
     "name": "stdout",
     "output_type": "stream",
     "text": [
      "CPU times: user 621 ms, sys: 39.4 ms, total: 660 ms\n",
      "Wall time: 660 ms\n"
     ]
    }
   ],
   "source": [
    "%%time\n",
    "\n",
    "ollama_embedding = OllamaEmbedding(\n",
    "    model_name=\"dztech/bge-large-zh:v1.5\",\n",
    "    base_url=\"http://192.168.0.72:11435\",\n",
    "    ollama_additional_kwargs={\"mirostat\": 0},\n",
    ")\n",
    "\n",
    "Settings.embed_model = ollama_embedding"
   ]
  },
  {
   "cell_type": "markdown",
   "id": "e8b28619-a44c-4dbe-b642-eded9e18ed15",
   "metadata": {
    "editable": true,
    "slideshow": {
     "slide_type": ""
    },
    "tags": []
   },
   "source": [
    "### 加载文档"
   ]
  },
  {
   "cell_type": "code",
   "execution_count": 7,
   "id": "e0a413a1-3748-4bf2-95e7-c7e2f21a0a54",
   "metadata": {
    "editable": true,
    "slideshow": {
     "slide_type": ""
    },
    "tags": []
   },
   "outputs": [
    {
     "name": "stdout",
     "output_type": "stream",
     "text": [
      "CPU times: user 7.01 ms, sys: 3.84 ms, total: 10.9 ms\n",
      "Wall time: 10.4 ms\n"
     ]
    },
    {
     "data": {
      "text/plain": [
       "[Document(id_='f06f07e5-8c85-433d-a652-a195defc7a96', embedding=None, metadata={'file_path': '/root/notebook/my-jupyter-notebook/llm/bge/books/iphone.txt', 'file_name': 'iphone.txt', 'file_type': 'text/plain', 'file_size': 563, 'creation_date': '2024-05-07', 'last_modified_date': '2024-05-07'}, excluded_embed_metadata_keys=['file_name', 'file_type', 'file_size', 'creation_date', 'last_modified_date', 'last_accessed_date'], excluded_llm_metadata_keys=['file_name', 'file_type', 'file_size', 'creation_date', 'last_modified_date', 'last_accessed_date'], relationships={}, text='iPhone 15和iPhone 15 Plus是由Apple Inc.设计、开发和销售的智能手机。它们是第十七代、也是当前一代iPhone，接替iPhone 14 和 iPhone 14 Plus。这些设备于 2023 年 9 月 12 日在加利福尼亚州库比蒂诺Apple Park举行的Apple 活动期间与价格较高的iPhone 15 Pro 和 15 Pro Max一起发布。预订于 2023 年 9 月 15 日开始，这些设备于 2023 年 9 月 22 日上市。与 iPhone 15 Pro 和 Pro Max 一样，15 和 15 Plus 是第一批用USB-C取代专有Lightning连接器的iPhone遵守欧盟的指令。', start_char_idx=None, end_char_idx=None, text_template='{metadata_str}\\n\\n{content}', metadata_template='{key}: {value}', metadata_seperator='\\n'),\n",
       " Document(id_='769d884b-f957-46f9-b93d-3f2303ef4151', embedding=None, metadata={'file_path': '/root/notebook/my-jupyter-notebook/llm/bge/books/tree.txt', 'file_name': 'tree.txt', 'file_type': 'text/plain', 'file_size': 485, 'creation_date': '2024-05-07', 'last_modified_date': '2024-05-07'}, excluded_embed_metadata_keys=['file_name', 'file_type', 'file_size', 'creation_date', 'last_modified_date', 'last_accessed_date'], excluded_llm_metadata_keys=['file_name', 'file_type', 'file_size', 'creation_date', 'last_modified_date', 'last_accessed_date'], relationships={}, text='苹果树（学名：Malus domestica）是蔷薇科苹果亚科苹果属植物，为落叶乔木，在世界上广泛种植。苹果，又称柰或林檎，是苹果树的果实，一般呈红色，但需视品种而定，富含矿物质和维生素，是人们最常食用的水果之一。人们根据需求的不同口感、用途（比如烹饪、生吃、酿苹果酒等）培育不同的品种，已知有超过7,500个苹果品种，拥有一系列人们需要的不同特性。', start_char_idx=None, end_char_idx=None, text_template='{metadata_str}\\n\\n{content}', metadata_template='{key}: {value}', metadata_seperator='\\n'),\n",
       " Document(id_='bb7edc95-6d29-4651-b2ec-69af059e4de9', embedding=None, metadata={'file_path': '/root/notebook/my-jupyter-notebook/llm/bge/books/xiaomi.txt', 'file_name': 'xiaomi.txt', 'file_type': 'text/plain', 'file_size': 403, 'creation_date': '2024-05-07', 'last_modified_date': '2024-05-07'}, excluded_embed_metadata_keys=['file_name', 'file_type', 'file_size', 'creation_date', 'last_modified_date', 'last_accessed_date'], excluded_llm_metadata_keys=['file_name', 'file_type', 'file_size', 'creation_date', 'last_modified_date', 'last_accessed_date'], relationships={}, text='小米14是小米公司继小米13系列之后推出的一系列基于Android的智能手机。该系列是该公司的旗舰产品[4]。小米 14 和 14 Pro 是首款搭载高通 Snapdragon 8 Gen 3片上系统的手机，[5]于 2023 年 10 月 26 日发布，并于 2023 年 11 月 1 日在中国发布。小米 14 Ultra 于 2 月 22 日发布，2024 年在中国与小米 Pad 6S Pro 一起推出。[6]', start_char_idx=None, end_char_idx=None, text_template='{metadata_str}\\n\\n{content}', metadata_template='{key}: {value}', metadata_seperator='\\n')]"
      ]
     },
     "execution_count": 7,
     "metadata": {},
     "output_type": "execute_result"
    }
   ],
   "source": [
    "%%time\n",
    "\n",
    "documents = SimpleDirectoryReader(\"./books/\").load_data()\n",
    "documents[0].id"
   ]
  },
  {
   "cell_type": "markdown",
   "id": "7d1feb3f-ea16-403d-8c85-96571c513579",
   "metadata": {
    "editable": true,
    "slideshow": {
     "slide_type": ""
    },
    "tags": []
   },
   "source": [
    "### 创建Faiss索引"
   ]
  },
  {
   "cell_type": "markdown",
   "id": "0620f2b5-1c10-4eff-88ef-0780c3606cd1",
   "metadata": {
    "editable": true,
    "slideshow": {
     "slide_type": ""
    },
    "tags": []
   },
   "source": [
    "ModuleNotFoundError: No module named 'faiss.swigfaiss_avx2'\n",
    "\n",
    "解决办法是：\n",
    "\n",
    "```bash\n",
    "# find / -name swigfaiss.py\n",
    "/usr/local/lib/python3.10/dist-packages/faiss/swigfaiss.py\n",
    "# cd /usr/local/lib/python3.10/dist-packages/faiss/\n",
    "# ln -s swigfaiss.py swigfaiss_avx2.py\n",
    "```\n",
    "\n",
    "https://github.com/kyamagu/faiss-wheels/issues/39"
   ]
  },
  {
   "cell_type": "code",
   "execution_count": 8,
   "id": "e89561ff-ce06-4d23-945f-eafc09731c03",
   "metadata": {
    "editable": true,
    "slideshow": {
     "slide_type": ""
    },
    "tags": []
   },
   "outputs": [
    {
     "name": "stdout",
     "output_type": "stream",
     "text": [
      "INFO:faiss.loader:Loading faiss with AVX2 support.\n",
      "Loading faiss with AVX2 support.\n",
      "INFO:faiss.loader:Successfully loaded faiss with AVX2 support.\n",
      "Successfully loaded faiss with AVX2 support.\n",
      "CPU times: user 17.3 ms, sys: 181 µs, total: 17.4 ms\n",
      "Wall time: 17.3 ms\n"
     ]
    }
   ],
   "source": [
    "%%time\n",
    "\n",
    "import faiss\n",
    "\n",
    "# dimensions of bge-large-zh\n",
    "d = 1024\n",
    "faiss_index = faiss.IndexFlatL2(d)"
   ]
  },
  {
   "cell_type": "code",
   "execution_count": 9,
   "id": "32c0be77-bca7-427b-93f9-6d3b43365c1e",
   "metadata": {
    "editable": true,
    "slideshow": {
     "slide_type": ""
    },
    "tags": []
   },
   "outputs": [
    {
     "name": "stdout",
     "output_type": "stream",
     "text": [
      "CPU times: user 222 ms, sys: 20.1 ms, total: 242 ms\n",
      "Wall time: 310 ms\n"
     ]
    }
   ],
   "source": [
    "%%time\n",
    "\n",
    "vector_store = FaissVectorStore(faiss_index=faiss_index)\n",
    "storage_context = StorageContext.from_defaults(vector_store=vector_store)\n",
    "index = VectorStoreIndex.from_documents(\n",
    "    documents, storage_context=storage_context\n",
    ")"
   ]
  },
  {
   "cell_type": "code",
   "execution_count": 10,
   "id": "2f0445b7-ad2f-434a-ac48-264a1e200697",
   "metadata": {
    "editable": true,
    "slideshow": {
     "slide_type": ""
    },
    "tags": []
   },
   "outputs": [
    {
     "name": "stdout",
     "output_type": "stream",
     "text": [
      "CPU times: user 2.26 ms, sys: 0 ns, total: 2.26 ms\n",
      "Wall time: 1.97 ms\n"
     ]
    }
   ],
   "source": [
    "%%time\n",
    "\n",
    "# save index to disk\n",
    "index.storage_context.persist()"
   ]
  },
  {
   "cell_type": "code",
   "execution_count": 11,
   "id": "82dba315-8105-4601-a255-ee95902055e4",
   "metadata": {
    "editable": true,
    "slideshow": {
     "slide_type": ""
    },
    "tags": []
   },
   "outputs": [
    {
     "name": "stdout",
     "output_type": "stream",
     "text": [
      "INFO:root:Loading llama_index.vector_stores.faiss.base from ./storage/default__vector_store.json.\n",
      "Loading llama_index.vector_stores.faiss.base from ./storage/default__vector_store.json.\n",
      "INFO:llama_index.core.indices.loading:Loading all indices.\n",
      "Loading all indices.\n",
      "CPU times: user 1.06 ms, sys: 3.57 ms, total: 4.63 ms\n",
      "Wall time: 4.02 ms\n"
     ]
    }
   ],
   "source": [
    "%%time\n",
    "\n",
    "# load index from disk\n",
    "vector_store = FaissVectorStore.from_persist_dir(\"./storage\")\n",
    "storage_context = StorageContext.from_defaults(\n",
    "    vector_store=vector_store, persist_dir=\"./storage\"\n",
    ")\n",
    "index = load_index_from_storage(storage_context=storage_context)"
   ]
  },
  {
   "cell_type": "markdown",
   "id": "2b18b431-a64a-4eeb-9d95-1bc40921b04d",
   "metadata": {},
   "source": [
    "### 查询索引"
   ]
  },
  {
   "cell_type": "code",
   "execution_count": 12,
   "id": "05d7630f-7400-4634-ac54-e17f0e4a0aaa",
   "metadata": {
    "editable": true,
    "slideshow": {
     "slide_type": ""
    },
    "tags": []
   },
   "outputs": [
    {
     "name": "stdout",
     "output_type": "stream",
     "text": [
      "CPU times: user 1.02 s, sys: 120 ms, total: 1.14 s\n",
      "Wall time: 1.14 s\n"
     ]
    }
   ],
   "source": [
    "%%time\n",
    "\n",
    "from llama_index.llms.openai_like import OpenAILike\n",
    "\n",
    "llm = OpenAILike(model=\"xiaoyu\", \n",
    "                 api_base=\"http://192.168.0.72:3000/v1\", \n",
    "                 api_key=\"sk-bJP6QSnUfjAYeYeE505d3eBf63A643BeB0B8E350Df9b7750\",\n",
    "                 is_chat_model=True\n",
    "                )\n",
    "Settings.llm =llm"
   ]
  },
  {
   "cell_type": "code",
   "execution_count": 13,
   "id": "3b545cae-9fbf-4453-8b4a-7da9e3e08cb7",
   "metadata": {
    "editable": true,
    "slideshow": {
     "slide_type": ""
    },
    "tags": []
   },
   "outputs": [
    {
     "name": "stdout",
     "output_type": "stream",
     "text": [
      "INFO:httpx:HTTP Request: POST http://192.168.0.72:3000/v1/chat/completions \"HTTP/1.1 200 OK\"\n",
      "HTTP Request: POST http://192.168.0.72:3000/v1/chat/completions \"HTTP/1.1 200 OK\"\n",
      "CPU times: user 213 ms, sys: 0 ns, total: 213 ms\n",
      "Wall time: 6.85 s\n"
     ]
    }
   ],
   "source": [
    "%%time\n",
    "\n",
    "# set Logging to DEBUG for more detailed outputs\n",
    "logging.basicConfig(stream=sys.stdout, level=logging.DEBUG)\n",
    "\n",
    "query_engine = index.as_query_engine(\n",
    "    similarity_top_k=3,\n",
    "    similarity_cutoff=0.5\n",
    ")\n",
    "response = query_engine.query(\"介绍下iphone15\")"
   ]
  },
  {
   "cell_type": "code",
   "execution_count": 14,
   "id": "b5e74814-0f14-4e76-b1c5-5568e4fafd73",
   "metadata": {
    "editable": true,
    "slideshow": {
     "slide_type": ""
    },
    "tags": []
   },
   "outputs": [
    {
     "data": {
      "text/markdown": [
       "iPhone 15和iPhone 15 Plus是由Apple Inc.设计、开发和销售的智能手机。它们是第十七代、也是当前一代iPhone，接替iPhone 14 和 iPhone 14 Plus。这些设备于 2023 年 9 月 12 日在加利福尼亚州库比蒂诺Apple Park举行的Apple 活动期间与价格较高的iPhone 15 Pro 和 15 Pro Max一起发布。预订于 2023 年 9 月 15 日开始，这些设备于 2023 年 9 月 22 日上市。与 iPhone 15 Pro 和 Pro Max 一样，15 和 15 Plus 是第一批用USB-C取代专有Lightning连接器的iPhone，遵守欧盟的指令。"
      ],
      "text/plain": [
       "<IPython.core.display.Markdown object>"
      ]
     },
     "metadata": {},
     "output_type": "display_data"
    },
    {
     "name": "stdout",
     "output_type": "stream",
     "text": [
      "CPU times: user 1.38 ms, sys: 193 µs, total: 1.57 ms\n",
      "Wall time: 1.24 ms\n"
     ]
    }
   ],
   "source": [
    "%%time\n",
    "\n",
    "from IPython.display import Markdown, display\n",
    "\n",
    "display(Markdown(f\"{response}\"))"
   ]
  },
  {
   "cell_type": "markdown",
   "id": "8653f58f-3960-466b-9ff4-f59b3475a31e",
   "metadata": {},
   "source": [
    "### 流式查询索引"
   ]
  },
  {
   "cell_type": "code",
   "execution_count": 18,
   "id": "48368e51-9ec6-4f46-916b-788b95aa090e",
   "metadata": {
    "editable": true,
    "slideshow": {
     "slide_type": ""
    },
    "tags": []
   },
   "outputs": [
    {
     "name": "stdout",
     "output_type": "stream",
     "text": [
      "INFO:httpx:HTTP Request: POST http://192.168.0.72:3000/v1/chat/completions \"HTTP/1.1 200 OK\"\n",
      "HTTP Request: POST http://192.168.0.72:3000/v1/chat/completions \"HTTP/1.1 200 OK\"\n",
      "苹果树（学名：Malus domestica）是蔷薇科苹果亚科苹果属的一种落叶乔木。这种植物在全球范围内都有广泛的种植，因其果实——苹果而闻名。苹果通常呈红色，但品种众多，颜色和口感各异，从脆甜到绵密不等。它们富含矿物质和维生素，是人们日常饮食中常见的水果之一。苹果树的栽培历史悠久，已知品种超过7,500种，这些品种根据不同的需求和用途，如烹饪、生食或用于酿酒等特性进行了培育。苹果不仅可以直接食用，也被广泛用于食品加工和饮料制作。CPU times: user 176 ms, sys: 24.5 ms, total: 200 ms\n",
      "Wall time: 8.82 s\n"
     ]
    }
   ],
   "source": [
    "%%time\n",
    "\n",
    "query_engine = index.as_query_engine(\n",
    "    streaming=True,\n",
    "    similarity_top_k=3,\n",
    "    similarity_cutoff=0.5\n",
    ")\n",
    "\n",
    "streaming_response = query_engine.query(\"介绍下苹果树这种植物\")\n",
    "streaming_response.print_response_stream()"
   ]
  },
  {
   "cell_type": "markdown",
   "id": "a156c83f-4b6a-4bfc-af74-17ed81723b0e",
   "metadata": {},
   "source": [
    "### response格式"
   ]
  },
  {
   "cell_type": "code",
   "execution_count": 19,
   "id": "d77d6501-17fd-4225-90af-37731e6c1e6b",
   "metadata": {},
   "outputs": [
    {
     "data": {
      "text/plain": [
       "StreamingResponse(response_gen=<generator object stream_chat_response_to_tokens.<locals>.gen at 0x7f0fa8f9b4c0>, source_nodes=[NodeWithScore(node=TextNode(id_='94a98846-0232-4599-a144-33016fe561d2', embedding=None, metadata={'file_path': '/root/notebook/my-jupyter-notebook/llm/bge/books/tree.txt', 'file_name': 'tree.txt', 'file_type': 'text/plain', 'file_size': 485, 'creation_date': '2024-05-07', 'last_modified_date': '2024-05-07'}, excluded_embed_metadata_keys=['file_name', 'file_type', 'file_size', 'creation_date', 'last_modified_date', 'last_accessed_date'], excluded_llm_metadata_keys=['file_name', 'file_type', 'file_size', 'creation_date', 'last_modified_date', 'last_accessed_date'], relationships={<NodeRelationship.SOURCE: '1'>: RelatedNodeInfo(node_id='769d884b-f957-46f9-b93d-3f2303ef4151', node_type=<ObjectType.DOCUMENT: '4'>, metadata={'file_path': '/root/notebook/my-jupyter-notebook/llm/bge/books/tree.txt', 'file_name': 'tree.txt', 'file_type': 'text/plain', 'file_size': 485, 'creation_date': '2024-05-07', 'last_modified_date': '2024-05-07'}, hash='59822ddd03d6a4b78ae8122f3fb4c173db9e0c15aa417c706ae79ff99a7f4d2a')}, text='苹果树（学名：Malus domestica）是蔷薇科苹果亚科苹果属植物，为落叶乔木，在世界上广泛种植。苹果，又称柰或林檎，是苹果树的果实，一般呈红色，但需视品种而定，富含矿物质和维生素，是人们最常食用的水果之一。人们根据需求的不同口感、用途（比如烹饪、生吃、酿苹果酒等）培育不同的品种，已知有超过7,500个苹果品种，拥有一系列人们需要的不同特性。', start_char_idx=0, end_char_idx=175, text_template='{metadata_str}\\n\\n{content}', metadata_template='{key}: {value}', metadata_seperator='\\n'), score=735.306640625), NodeWithScore(node=TextNode(id_='82db807e-291f-44aa-8948-57d572d8c7d3', embedding=None, metadata={'file_path': '/root/notebook/my-jupyter-notebook/llm/bge/books/xiaomi.txt', 'file_name': 'xiaomi.txt', 'file_type': 'text/plain', 'file_size': 403, 'creation_date': '2024-05-07', 'last_modified_date': '2024-05-07'}, excluded_embed_metadata_keys=['file_name', 'file_type', 'file_size', 'creation_date', 'last_modified_date', 'last_accessed_date'], excluded_llm_metadata_keys=['file_name', 'file_type', 'file_size', 'creation_date', 'last_modified_date', 'last_accessed_date'], relationships={<NodeRelationship.SOURCE: '1'>: RelatedNodeInfo(node_id='bb7edc95-6d29-4651-b2ec-69af059e4de9', node_type=<ObjectType.DOCUMENT: '4'>, metadata={'file_path': '/root/notebook/my-jupyter-notebook/llm/bge/books/xiaomi.txt', 'file_name': 'xiaomi.txt', 'file_type': 'text/plain', 'file_size': 403, 'creation_date': '2024-05-07', 'last_modified_date': '2024-05-07'}, hash='e5c7691bd88f5b15cb8ab3d44ffd0dd191dda5b75891a2f872c9447d9dfe3e60')}, text='小米14是小米公司继小米13系列之后推出的一系列基于Android的智能手机。该系列是该公司的旗舰产品[4]。小米 14 和 14 Pro 是首款搭载高通 Snapdragon 8 Gen 3片上系统的手机，[5]于 2023 年 10 月 26 日发布，并于 2023 年 11 月 1 日在中国发布。小米 14 Ultra 于 2 月 22 日发布，2024 年在中国与小米 Pad 6S Pro 一起推出。[6]', start_char_idx=0, end_char_idx=209, text_template='{metadata_str}\\n\\n{content}', metadata_template='{key}: {value}', metadata_seperator='\\n'), score=802.29248046875), NodeWithScore(node=TextNode(id_='4a1b8624-b7c2-4af3-8467-6d456b48eef0', embedding=None, metadata={'file_path': '/root/notebook/my-jupyter-notebook/llm/bge/books/iphone.txt', 'file_name': 'iphone.txt', 'file_type': 'text/plain', 'file_size': 563, 'creation_date': '2024-05-07', 'last_modified_date': '2024-05-07'}, excluded_embed_metadata_keys=['file_name', 'file_type', 'file_size', 'creation_date', 'last_modified_date', 'last_accessed_date'], excluded_llm_metadata_keys=['file_name', 'file_type', 'file_size', 'creation_date', 'last_modified_date', 'last_accessed_date'], relationships={<NodeRelationship.SOURCE: '1'>: RelatedNodeInfo(node_id='f06f07e5-8c85-433d-a652-a195defc7a96', node_type=<ObjectType.DOCUMENT: '4'>, metadata={'file_path': '/root/notebook/my-jupyter-notebook/llm/bge/books/iphone.txt', 'file_name': 'iphone.txt', 'file_type': 'text/plain', 'file_size': 563, 'creation_date': '2024-05-07', 'last_modified_date': '2024-05-07'}, hash='ab44d3456dcb779191b3608d6441f72256cbafff8d9683533167498dec57fb58')}, text='iPhone 15和iPhone 15 Plus是由Apple Inc.设计、开发和销售的智能手机。它们是第十七代、也是当前一代iPhone，接替iPhone 14 和 iPhone 14 Plus。这些设备于 2023 年 9 月 12 日在加利福尼亚州库比蒂诺Apple Park举行的Apple 活动期间与价格较高的iPhone 15 Pro 和 15 Pro Max一起发布。预订于 2023 年 9 月 15 日开始，这些设备于 2023 年 9 月 22 日上市。与 iPhone 15 Pro 和 Pro Max 一样，15 和 15 Plus 是第一批用USB-C取代专有Lightning连接器的iPhone遵守欧盟的指令。', start_char_idx=0, end_char_idx=321, text_template='{metadata_str}\\n\\n{content}', metadata_template='{key}: {value}', metadata_seperator='\\n'), score=857.120849609375)], metadata={'94a98846-0232-4599-a144-33016fe561d2': {'file_path': '/root/notebook/my-jupyter-notebook/llm/bge/books/tree.txt', 'file_name': 'tree.txt', 'file_type': 'text/plain', 'file_size': 485, 'creation_date': '2024-05-07', 'last_modified_date': '2024-05-07'}, '82db807e-291f-44aa-8948-57d572d8c7d3': {'file_path': '/root/notebook/my-jupyter-notebook/llm/bge/books/xiaomi.txt', 'file_name': 'xiaomi.txt', 'file_type': 'text/plain', 'file_size': 403, 'creation_date': '2024-05-07', 'last_modified_date': '2024-05-07'}, '4a1b8624-b7c2-4af3-8467-6d456b48eef0': {'file_path': '/root/notebook/my-jupyter-notebook/llm/bge/books/iphone.txt', 'file_name': 'iphone.txt', 'file_type': 'text/plain', 'file_size': 563, 'creation_date': '2024-05-07', 'last_modified_date': '2024-05-07'}}, response_txt='苹果树（学名：Malus domestica）是蔷薇科苹果亚科苹果属的一种落叶乔木。这种植物在全球范围内都有广泛的种植，因其果实——苹果而闻名。苹果通常呈红色，但品种众多，颜色和口感各异，从脆甜到绵密不等。它们富含矿物质和维生素，是人们日常饮食中常见的水果之一。苹果树的栽培历史悠久，已知品种超过7,500种，这些品种根据不同的需求和用途，如烹饪、生食或用于酿酒等特性进行了培育。苹果不仅可以直接食用，也被广泛用于食品加工和饮料制作。')"
      ]
     },
     "execution_count": 19,
     "metadata": {},
     "output_type": "execute_result"
    }
   ],
   "source": [
    "streaming_response"
   ]
  },
  {
   "cell_type": "code",
   "execution_count": 20,
   "id": "3b0e7750-3583-4ddb-80ad-65e628c182e6",
   "metadata": {
    "editable": true,
    "slideshow": {
     "slide_type": ""
    },
    "tags": []
   },
   "outputs": [
    {
     "data": {
      "text/plain": [
       "NodeWithScore(node=TextNode(id_='94a98846-0232-4599-a144-33016fe561d2', embedding=None, metadata={'file_path': '/root/notebook/my-jupyter-notebook/llm/bge/books/tree.txt', 'file_name': 'tree.txt', 'file_type': 'text/plain', 'file_size': 485, 'creation_date': '2024-05-07', 'last_modified_date': '2024-05-07'}, excluded_embed_metadata_keys=['file_name', 'file_type', 'file_size', 'creation_date', 'last_modified_date', 'last_accessed_date'], excluded_llm_metadata_keys=['file_name', 'file_type', 'file_size', 'creation_date', 'last_modified_date', 'last_accessed_date'], relationships={<NodeRelationship.SOURCE: '1'>: RelatedNodeInfo(node_id='769d884b-f957-46f9-b93d-3f2303ef4151', node_type=<ObjectType.DOCUMENT: '4'>, metadata={'file_path': '/root/notebook/my-jupyter-notebook/llm/bge/books/tree.txt', 'file_name': 'tree.txt', 'file_type': 'text/plain', 'file_size': 485, 'creation_date': '2024-05-07', 'last_modified_date': '2024-05-07'}, hash='59822ddd03d6a4b78ae8122f3fb4c173db9e0c15aa417c706ae79ff99a7f4d2a')}, text='苹果树（学名：Malus domestica）是蔷薇科苹果亚科苹果属植物，为落叶乔木，在世界上广泛种植。苹果，又称柰或林檎，是苹果树的果实，一般呈红色，但需视品种而定，富含矿物质和维生素，是人们最常食用的水果之一。人们根据需求的不同口感、用途（比如烹饪、生吃、酿苹果酒等）培育不同的品种，已知有超过7,500个苹果品种，拥有一系列人们需要的不同特性。', start_char_idx=0, end_char_idx=175, text_template='{metadata_str}\\n\\n{content}', metadata_template='{key}: {value}', metadata_seperator='\\n'), score=735.306640625)"
      ]
     },
     "execution_count": 20,
     "metadata": {},
     "output_type": "execute_result"
    }
   ],
   "source": [
    "streaming_response.source_nodes[0]"
   ]
  },
  {
   "cell_type": "code",
   "execution_count": 24,
   "id": "16acd139-959f-42a0-ab57-7b691bf94fac",
   "metadata": {},
   "outputs": [
    {
     "data": {
      "text/plain": [
       "'/root/notebook/my-jupyter-notebook/llm/bge/books/tree.txt'"
      ]
     },
     "execution_count": 24,
     "metadata": {},
     "output_type": "execute_result"
    }
   ],
   "source": [
    "streaming_response.source_nodes[0].metadata['file_path']"
   ]
  },
  {
   "cell_type": "code",
   "execution_count": 25,
   "id": "6f444de4-6e52-4c5c-813e-97abe09d4560",
   "metadata": {},
   "outputs": [
    {
     "data": {
      "text/plain": [
       "735.306640625"
      ]
     },
     "execution_count": 25,
     "metadata": {},
     "output_type": "execute_result"
    }
   ],
   "source": [
    "streaming_response.source_nodes[0].score"
   ]
  },
  {
   "cell_type": "code",
   "execution_count": 26,
   "id": "8d246a89-6d58-422a-a905-e1a347a07c13",
   "metadata": {},
   "outputs": [
    {
     "data": {
      "text/plain": [
       "'/root/notebook/my-jupyter-notebook/llm/bge/books/xiaomi.txt'"
      ]
     },
     "execution_count": 26,
     "metadata": {},
     "output_type": "execute_result"
    }
   ],
   "source": [
    "streaming_response.source_nodes[1].metadata['file_path']"
   ]
  },
  {
   "cell_type": "code",
   "execution_count": 27,
   "id": "9f6a2893-d22d-4252-8b82-f27e0e9d56a6",
   "metadata": {},
   "outputs": [
    {
     "data": {
      "text/plain": [
       "802.29248046875"
      ]
     },
     "execution_count": 27,
     "metadata": {},
     "output_type": "execute_result"
    }
   ],
   "source": [
    "streaming_response.source_nodes[1].score"
   ]
  },
  {
   "cell_type": "code",
   "execution_count": 29,
   "id": "a610a0ca-cedf-4626-9fad-8a28e203e0aa",
   "metadata": {},
   "outputs": [
    {
     "data": {
      "text/plain": [
       "'/root/notebook/my-jupyter-notebook/llm/bge/books/iphone.txt'"
      ]
     },
     "execution_count": 29,
     "metadata": {},
     "output_type": "execute_result"
    }
   ],
   "source": [
    "streaming_response.source_nodes[2].metadata['file_path']"
   ]
  },
  {
   "cell_type": "code",
   "execution_count": 28,
   "id": "5aa8b199-70ff-4f5a-b706-70488c0e14b1",
   "metadata": {},
   "outputs": [
    {
     "data": {
      "text/plain": [
       "857.120849609375"
      ]
     },
     "execution_count": 28,
     "metadata": {},
     "output_type": "execute_result"
    }
   ],
   "source": [
    "streaming_response.source_nodes[2].score"
   ]
  },
  {
   "cell_type": "markdown",
   "id": "8e2ff656-08a1-4921-a181-93af74b70d05",
   "metadata": {},
   "source": [
    "### 使用底层api流式输出"
   ]
  },
  {
   "cell_type": "code",
   "execution_count": 32,
   "id": "a01c33af-bb7f-4a9b-9b78-c2194fb9d854",
   "metadata": {},
   "outputs": [
    {
     "name": "stdout",
     "output_type": "stream",
     "text": [
      "INFO:httpx:HTTP Request: POST http://192.168.0.72:3000/v1/chat/completions \"HTTP/1.1 200 OK\"\n",
      "HTTP Request: POST http://192.168.0.72:3000/v1/chat/completions \"HTTP/1.1 200 OK\"\n",
      "小米14是小米公司推出的一系列智能手机，基于Android系统，定位为旗舰产品。它搭载了高通Snapdragon 8 Gen 3芯片组，这是2023年发布的产品系列，包括小米14、14 Pro和14 Ultra等型号。其中，小米14 Ultra是在2月22日发布的，而14系列的其他型号在11月1日在中国市场上市。这些手机反映了小米在高端市场的努力，并且可能具有先进的技术和特性。CPU times: user 141 ms, sys: 23 ms, total: 164 ms\n",
      "Wall time: 4.03 s\n"
     ]
    }
   ],
   "source": [
    "%%time\n",
    "\n",
    "streaming_response = query_engine.query(\"介绍下小米手机\")\n",
    "\n",
    "for token in streaming_response.response_gen:\n",
    "    print(token, end=\"\",flush=True)"
   ]
  },
  {
   "cell_type": "code",
   "execution_count": null,
   "id": "e65f24be-3b35-4962-a196-c9aabd5059a1",
   "metadata": {
    "editable": true,
    "slideshow": {
     "slide_type": ""
    },
    "tags": []
   },
   "outputs": [],
   "source": []
  }
 ],
 "metadata": {
  "kernelspec": {
   "display_name": "Python 3 (ipykernel)",
   "language": "python",
   "name": "python3"
  },
  "language_info": {
   "codemirror_mode": {
    "name": "ipython",
    "version": 3
   },
   "file_extension": ".py",
   "mimetype": "text/x-python",
   "name": "python",
   "nbconvert_exporter": "python",
   "pygments_lexer": "ipython3",
   "version": "3.10.12"
  }
 },
 "nbformat": 4,
 "nbformat_minor": 5
}
