{
 "cells": [
  {
   "cell_type": "markdown",
   "id": "489997da-e009-4a99-8724-c81816b3d8f4",
   "metadata": {},
   "source": [
    "# 使用底层api"
   ]
  },
  {
   "cell_type": "markdown",
   "id": "b4d10d10-80e9-4fa7-a814-547a3a391927",
   "metadata": {},
   "source": [
    "为了搞清楚怎么使用余弦相似度。\n",
    "\n",
    "从底层api实现查询。"
   ]
  },
  {
   "cell_type": "code",
   "execution_count": 1,
   "id": "3d475a15-eff7-4ce5-8ba6-5fa3979bb6cb",
   "metadata": {},
   "outputs": [
    {
     "name": "stdout",
     "output_type": "stream",
     "text": [
      "CPU times: user 3.49 s, sys: 543 ms, total: 4.03 s\n",
      "Wall time: 3.69 s\n"
     ]
    }
   ],
   "source": [
    "%%time\n",
    "\n",
    "import logging\n",
    "import sys\n",
    "\n",
    "from llama_index.core import VectorStoreIndex, SimpleDirectoryReader\n",
    "from llama_index.core import StorageContext\n",
    "from llama_index.embeddings.huggingface import HuggingFaceEmbedding\n",
    "from IPython.display import Markdown, display\n",
    "from llama_index.core import Settings\n",
    "from llama_index.embeddings.ollama import OllamaEmbedding\n",
    "\n",
    "from llama_index.llms.openai_like import OpenAILike\n",
    "\n",
    "from llama_index.core import VectorStoreIndex, StorageContext\n",
    "from llama_index.vector_stores.milvus import MilvusVectorStore"
   ]
  },
  {
   "cell_type": "code",
   "execution_count": 2,
   "id": "ddda297b-afd6-4f0b-a517-f208abcfd24e",
   "metadata": {},
   "outputs": [
    {
     "name": "stdout",
     "output_type": "stream",
     "text": [
      "CPU times: user 142 µs, sys: 0 ns, total: 142 µs\n",
      "Wall time: 145 µs\n"
     ]
    }
   ],
   "source": [
    "%%time\n",
    "\n",
    "# llm\n",
    "llm = OpenAILike(model=\"qwen14b\", \n",
    "                 api_base=\"http://192.168.0.72:3000/v1\", \n",
    "                 api_key=\"sk-bJP6QSnUfjAYeYeE505d3eBf63A643BeB0B8E350Df9b7750\",\n",
    "                 is_chat_model=True,\n",
    "                 temperature=0.1\n",
    "                )"
   ]
  },
  {
   "cell_type": "code",
   "execution_count": 3,
   "id": "a5340171-09dd-4909-91b6-af1a6d8efa5d",
   "metadata": {},
   "outputs": [
    {
     "name": "stdout",
     "output_type": "stream",
     "text": [
      "CPU times: user 105 µs, sys: 0 ns, total: 105 µs\n",
      "Wall time: 109 µs\n"
     ]
    }
   ],
   "source": [
    "%%time\n",
    "\n",
    "# embedding\n",
    "from llama_index.embeddings.ollama import OllamaEmbedding\n",
    "\n",
    "ollama_embedding = OllamaEmbedding(\n",
    "    model_name=\"dztech/bge-large-zh:v1.5\",\n",
    "    # model_name=\"bge-m3:latest\",\n",
    "    base_url=\"http://192.168.0.72:11435\",\n",
    "    ollama_additional_kwargs={\"mirostat\": 0}, # -mirostat N 使用 Mirostat 采样。\n",
    ")"
   ]
  },
  {
   "cell_type": "code",
   "execution_count": 4,
   "id": "efa62256-851c-4757-8736-1c5b154695d8",
   "metadata": {},
   "outputs": [
    {
     "data": {
      "text/plain": [
       "_Settings(_llm=OpenAILike(callback_manager=<llama_index.core.callbacks.base.CallbackManager object at 0x7fac5775d420>, system_prompt=None, messages_to_prompt=<function messages_to_prompt at 0x7fac624d8820>, completion_to_prompt=<function default_completion_to_prompt at 0x7fac62517010>, output_parser=None, pydantic_program_mode=<PydanticProgramMode.DEFAULT: 'default'>, query_wrapper_prompt=None, model='qwen14b', temperature=0.1, max_tokens=None, logprobs=None, top_logprobs=0, additional_kwargs={}, max_retries=3, timeout=60.0, default_headers=None, reuse_client=True, api_key='sk-bJP6QSnUfjAYeYeE505d3eBf63A643BeB0B8E350Df9b7750', api_base='http://192.168.0.72:3000/v1', api_version='', context_window=3900, is_chat_model=True, is_function_calling_model=False, tokenizer=None), _embed_model=OllamaEmbedding(model_name='dztech/bge-large-zh:v1.5', embed_batch_size=10, callback_manager=<llama_index.core.callbacks.base.CallbackManager object at 0x7fac5775d420>, num_workers=None, base_url='http://192.168.0.72:11435', ollama_additional_kwargs={'mirostat': 0}), _callback_manager=<llama_index.core.callbacks.base.CallbackManager object at 0x7fac5775d420>, _tokenizer=None, _node_parser=SentenceSplitter(include_metadata=True, include_prev_next_rel=True, callback_manager=<llama_index.core.callbacks.base.CallbackManager object at 0x7fab9c687a60>, id_func=<function default_id_func at 0x7fac62563760>, chunk_size=128, chunk_overlap=10, separator=' ', paragraph_separator='\\n\\n\\n', secondary_chunking_regex='[^,.;。？！]+[,.;。？！]?'), _prompt_helper=None, _transformations=None)"
      ]
     },
     "execution_count": 4,
     "metadata": {},
     "output_type": "execute_result"
    }
   ],
   "source": [
    "Settings.chunk_size=128\n",
    "Settings.chunk_overlap=10\n",
    "\n",
    "Settings.llm =llm\n",
    "Settings.embed_model = ollama_embedding\n",
    "\n",
    "Settings"
   ]
  },
  {
   "cell_type": "code",
   "execution_count": 5,
   "id": "7ec45bf3-606a-4606-a526-c8550eb9fa42",
   "metadata": {},
   "outputs": [
    {
     "name": "stdout",
     "output_type": "stream",
     "text": [
      "v2.3.5-lite\n",
      "CPU times: user 3.18 s, sys: 272 ms, total: 3.45 s\n",
      "Wall time: 6.76 s\n"
     ]
    }
   ],
   "source": [
    "%%time\n",
    "\n",
    "from milvus import default_server\n",
    "from pymilvus import connections, utility\n",
    "\n",
    "default_server.set_base_dir('milvus_data')\n",
    "\n",
    "# (OPTIONAL) if you want cleanup previous data\n",
    "default_server.cleanup()\n",
    "\n",
    "# Start your milvus server\n",
    "default_server.start()\n",
    "\n",
    "# Now you could connect with localhost and the given port\n",
    "# Port is defined by default_server.listen_port\n",
    "connections.connect(host='127.0.0.1', port=default_server.listen_port)\n",
    "\n",
    "# Check if the server is ready.\n",
    "print(utility.get_server_version())"
   ]
  },
  {
   "cell_type": "code",
   "execution_count": 6,
   "id": "7a7f0158-299b-48a9-a1a4-7b5b396c390a",
   "metadata": {},
   "outputs": [
    {
     "name": "stdout",
     "output_type": "stream",
     "text": [
      "Document ID: 00b4ba0f-12f8-4d57-8bcb-a4a975760d78\n",
      "CPU times: user 10.5 ms, sys: 53 µs, total: 10.6 ms\n",
      "Wall time: 10.2 ms\n"
     ]
    }
   ],
   "source": [
    "%%time\n",
    "\n",
    "# load documents\n",
    "documents = SimpleDirectoryReader(input_files=[\"./books1/故乡.txt\"]).load_data()\n",
    "print(\"Document ID:\", documents[0].doc_id)"
   ]
  },
  {
   "cell_type": "code",
   "execution_count": 7,
   "id": "be4f8117-cf6b-4a8a-b0e0-b6d1dd64cf77",
   "metadata": {},
   "outputs": [
    {
     "name": "stdout",
     "output_type": "stream",
     "text": [
      "CPU times: user 400 ms, sys: 20 ms, total: 420 ms\n",
      "Wall time: 12.7 s\n"
     ]
    }
   ],
   "source": [
    "%%time\n",
    "\n",
    "vector_store = MilvusVectorStore(dim=1024, overwrite=True)\n",
    "storage_context = StorageContext.from_defaults(vector_store=vector_store)\n",
    "index = VectorStoreIndex.from_documents(\n",
    "    documents, storage_context=storage_context\n",
    ")"
   ]
  },
  {
   "cell_type": "code",
   "execution_count": 8,
   "id": "67d60235-807a-4dc0-9881-8f1c8c8bb8c3",
   "metadata": {},
   "outputs": [
    {
     "name": "stdout",
     "output_type": "stream",
     "text": [
      "CPU times: user 1.79 ms, sys: 0 ns, total: 1.79 ms\n",
      "Wall time: 1.59 ms\n"
     ]
    }
   ],
   "source": [
    "%%time\n",
    "\n",
    "index.storage_context.persist()"
   ]
  },
  {
   "cell_type": "code",
   "execution_count": 14,
   "id": "cf2a41a7-b584-4d50-a425-a0cc94eb4e1c",
   "metadata": {},
   "outputs": [
    {
     "name": "stdout",
     "output_type": "stream",
     "text": [
      "CPU times: user 157 µs, sys: 0 ns, total: 157 µs\n",
      "Wall time: 160 µs\n"
     ]
    }
   ],
   "source": [
    "%%time\n",
    "\n",
    "from llama_index.core import VectorStoreIndex, get_response_synthesizer\n",
    "from llama_index.core.retrievers import VectorIndexRetriever\n",
    "from llama_index.core.query_engine import RetrieverQueryEngine\n",
    "\n",
    "# configure retriever\n",
    "retriever = VectorIndexRetriever(\n",
    "    index=index,\n",
    "    similarity_top_k=3,\n",
    ")\n",
    "\n",
    "# configure response synthesizer\n",
    "response_synthesizer = get_response_synthesizer(\n",
    "    response_mode=\"tree_summarize\",\n",
    "    streaming=True,\n",
    ")\n",
    "\n",
    "# assemble query engine\n",
    "query_engine = RetrieverQueryEngine(\n",
    "    retriever=retriever,\n",
    "    response_synthesizer=response_synthesizer,\n",
    ")\n"
   ]
  },
  {
   "cell_type": "code",
   "execution_count": 15,
   "id": "aa6127cd-65f3-42dc-a94f-6f1add73ca2c",
   "metadata": {},
   "outputs": [
    {
     "name": "stdout",
     "output_type": "stream",
     "text": [
      "闰土是小说《故乡》中的人物，他是主人公鲁迅（即文中的我）儿时的朋友，和我同年出生，因为生于闰月，五行缺土，所以他的父亲给他取名为闰土。闰土以能装弓捉小鸟雀而闻名。在故事中，他来管祭器，并且与\"我\"见面时表现得有些拘谨和害羞。\n",
      "\n",
      "CPU times: user 115 ms, sys: 26.6 ms, total: 142 ms\n",
      "Wall time: 3.61 s\n"
     ]
    }
   ],
   "source": [
    "%%time\n",
    "\n",
    "streaming_response = query_engine.query(\"闰土是谁\")\n",
    "streaming_response.print_response_stream()\n",
    "print()"
   ]
  },
  {
   "cell_type": "code",
   "execution_count": 16,
   "id": "6a68efc8-3c34-4b8d-81d9-83c3df12e1b3",
   "metadata": {},
   "outputs": [
    {
     "name": "stdout",
     "output_type": "stream",
     "text": [
      "227.4545440673828 故乡.txt 我这时很兴奋，但不知道怎么说才好，只是说..\n",
      "218.80593872070312 故乡.txt 闰土来管祭器的。　　我的父亲允许了；我也..\n",
      "216.45843505859375 故乡.txt “阿呀，老太太真是……这成什么规矩。那时..\n"
     ]
    }
   ],
   "source": [
    "for node in streaming_response.source_nodes:\n",
    "    print(node.score,node.metadata[\"file_name\"],(lambda s: s.replace('\\n', '')[:20] + '..' if len(s.replace('\\n', '')) > 10 else s.replace('\\n', ''))(node.text))"
   ]
  },
  {
   "cell_type": "code",
   "execution_count": 17,
   "id": "1cb0d855-7820-4a4b-a1d9-cb6842c0c4d9",
   "metadata": {},
   "outputs": [
    {
     "name": "stdout",
     "output_type": "stream",
     "text": [
      "CPU times: user 1.74 s, sys: 1.48 s, total: 3.21 s\n",
      "Wall time: 20.6 s\n"
     ]
    }
   ],
   "source": [
    "%%time\n",
    "\n",
    "from llama_index.core.postprocessor import SentenceTransformerRerank\n",
    "\n",
    "reranker = SentenceTransformerRerank(model='/models/bge-reranker-v2-m3', top_n=5)"
   ]
  },
  {
   "cell_type": "code",
   "execution_count": 20,
   "id": "63d89ea8-fe5a-423b-bff1-37706071ce78",
   "metadata": {},
   "outputs": [
    {
     "name": "stdout",
     "output_type": "stream",
     "text": [
      "闰土是鲁迅笔下小说《故乡》中的人物，他是一个十多岁的小男孩，五行缺土，因此他的父亲给他取名为闰土。他能装弓捉小鸟雀，是小说中的一个重要角色。\n",
      "\n",
      "\n",
      "\n",
      "CPU times: user 596 ms, sys: 1.15 ms, total: 597 ms\n",
      "Wall time: 3.9 s\n"
     ]
    }
   ],
   "source": [
    "%%time\n",
    "\n",
    "query_engine = index.as_query_engine(\n",
    "    streaming=True,\n",
    "    similarity_top_k=100,\n",
    "    node_postprocessors=[reranker]\n",
    ")\n",
    "\n",
    "streaming_response = query_engine.query(\"闰土是谁\")\n",
    "streaming_response.print_response_stream()\n",
    "print()"
   ]
  },
  {
   "cell_type": "code",
   "execution_count": 21,
   "id": "d55c6624-04f2-4dfa-8b3f-4ca8e00fffe0",
   "metadata": {},
   "outputs": [
    {
     "name": "stdout",
     "output_type": "stream",
     "text": [
      "0.8655411 故乡.txt 腐西施的杨二嫂，自从我家收拾行李以来，本..\n",
      "0.8528333 故乡.txt 闰土来管祭器的。　　我的父亲允许了；我也..\n",
      "0.79228044 故乡.txt ，反从他的胯下逃走了。　　这少年便是闰土..\n",
      "0.63945824 故乡.txt 工的叫长工；按日给人做工的叫短工；自己也..\n",
      "0.62720495 故乡.txt 一日是天气很冷的午后，我吃过午饭，坐着喝..\n"
     ]
    }
   ],
   "source": [
    "for node in streaming_response.source_nodes:\n",
    "    print(node.score,node.metadata[\"file_name\"],(lambda s: s.replace('\\n', '')[:20] + '..' if len(s.replace('\\n', '')) > 10 else s.replace('\\n', ''))(node.text))"
   ]
  },
  {
   "cell_type": "code",
   "execution_count": 22,
   "id": "3e651ed5-ff94-4b62-bd62-022aa89d4650",
   "metadata": {},
   "outputs": [
    {
     "name": "stdout",
     "output_type": "stream",
     "text": [
      "《故乡》是鲁迅的一篇小说，文中并没有提及名叫孔乙己的人物。这个查询中的“孔乙己”可能是指鲁迅另一部作品《呐喊》中的人物，但根据给定的文本，我们无法确定。在提供的信息中，提到的是闰土、杨二嫂等人物。\n"
     ]
    }
   ],
   "source": [
    "streaming_response = query_engine.query(\"文中提到的孔乙己是谁\")\n",
    "streaming_response.print_response_stream()\n",
    "print()"
   ]
  },
  {
   "cell_type": "code",
   "execution_count": 23,
   "id": "339c16a5-4712-4be9-b47f-9f3d5b1b7fa5",
   "metadata": {},
   "outputs": [
    {
     "name": "stdout",
     "output_type": "stream",
     "text": [
      "0.012071134 故乡.txt 发见了这件事，自己很以为功，便拿了那狗气..\n",
      "0.01149296 故乡.txt 腐西施的杨二嫂，自从我家收拾行李以来，本..\n",
      "0.010160264 故乡.txt ，反从他的胯下逃走了。　　这少年便是闰土..\n",
      "0.0077564907 故乡.txt ⑹西施：春秋时越国的美女，后来用以泛称一..\n",
      "0.00727125 故乡.txt 他正在厨房里，紫色的圆脸，头戴一顶小毡帽..\n"
     ]
    }
   ],
   "source": [
    "for node in streaming_response.source_nodes:\n",
    "    print(node.score,node.metadata[\"file_name\"],(lambda s: s.replace('\\n', '')[:20] + '..' if len(s.replace('\\n', '')) > 10 else s.replace('\\n', ''))(node.text))"
   ]
  },
  {
   "cell_type": "code",
   "execution_count": 24,
   "id": "632e85a7-e89f-45e0-87e7-25f67dab2cdd",
   "metadata": {},
   "outputs": [
    {
     "name": "stdout",
     "output_type": "stream",
     "text": [
      "闰土是鲁迅先生笔下《故乡》中的一个重要角色，他象征着旧时农村生活的典型代表。\n",
      "CPU times: user 190 ms, sys: 2.81 ms, total: 193 ms\n",
      "Wall time: 12.7 s\n"
     ]
    }
   ],
   "source": [
    "%%time\n",
    "\n",
    "from llama_index.core.postprocessor import SimilarityPostprocessor\n",
    "\n",
    "postprocessor = SimilarityPostprocessor(similarity_cutoff=0.7)\n",
    "\n",
    "query_engine = index.as_query_engine(\n",
    "    streaming=True,\n",
    "    similarity_top_k=100,\n",
    "    node_postprocessors=[postprocessor]\n",
    ")\n",
    "\n",
    "streaming_response = query_engine.query(\"闰土是谁\")\n",
    "streaming_response.print_response_stream()\n",
    "print()"
   ]
  },
  {
   "cell_type": "code",
   "execution_count": 25,
   "id": "966384fa-bc96-4a33-8930-239bac5edac6",
   "metadata": {},
   "outputs": [
    {
     "name": "stdout",
     "output_type": "stream",
     "text": [
      "227.4545440673828 故乡.txt 我这时很兴奋，但不知道怎么说才好，只是说..\n",
      "218.80593872070312 故乡.txt 闰土来管祭器的。　　我的父亲允许了；我也..\n",
      "216.45843505859375 故乡.txt “阿呀，老太太真是……这成什么规矩。那时..\n",
      "213.39610290527344 故乡.txt “老太太。信是早收到了。我实在喜欢的不得..\n",
      "212.62362670898438 故乡.txt 工的叫长工；按日给人做工的叫短工；自己也..\n",
      "211.82582092285156 故乡.txt 他见人很怕羞，只是不怕我，没有旁人的时候..\n",
      "210.07339477539062 故乡.txt ，反从他的胯下逃走了。　　这少年便是闰土..\n",
      "209.5423583984375 故乡.txt 一日是天气很冷的午后，我吃过午饭，坐着喝..\n",
      "209.53453063964844 故乡.txt 我于是日日盼望新年，新年到，闰土也就到了..\n",
      "209.19378662109375 故乡.txt “我们沙地里，潮汛要来的时候，就有许多跳..\n",
      "208.85830688476562 故乡.txt 虽然我一见便知道是闰土，但又不是我这记忆..\n",
      "208.84716796875 故乡.txt ”　　“回来？你怎么还没有走就想回来了。..\n",
      "208.17913818359375 故乡.txt 什么都有：稻鸡，角鸡，鹁鸪，蓝背……”　..\n",
      "203.59249877929688 故乡.txt ”便拖出躲在背后的孩子来，这正是一个廿年..\n",
      "202.58010864257812 故乡.txt 我希望他们不再像我，又大家隔膜起来……然..\n",
      "201.83547973632812 故乡.txt 夜间，我们又谈些闲天，都是无关紧要的话；..\n",
      "201.68153381347656 故乡.txt 母亲叫闰土坐，他迟疑了一回，终于就了坐，..\n",
      "201.03677368164062 故乡.txt 他们不知道一些事，闰土在海边时，他们都和..\n",
      "200.26431274414062 故乡.txt 我躺着，听船底潺潺的水声，知道我在走我的..\n",
      "200.21633911132812 故乡.txt “是的。”　　“还有闰土，他每到我家来时..\n",
      "199.05599975585938 故乡.txt 他们应该有新的生活，为我们所未经生活过的..\n",
      "197.1157684326172 故乡.txt 第五个？都是生人，怕生也难怪的；还是宏儿..\n",
      "197.0833740234375 故乡.txt ⑵猹：作者在一九二九年五月四日致舒新城的..\n",
      "194.42678833007812 故乡.txt 腐西施的杨二嫂，自从我家收拾行李以来，本..\n",
      "193.79867553710938 故乡.txt ……”　　我似乎打了一个寒噤；我就知道，..\n",
      "193.78451538085938 故乡.txt ”　　⑶大祭祀的值年：封建社会中的大家族..\n",
      "193.17417907714844 故乡.txt 我想：希望本是无所谓有，无所谓无的。这正..\n",
      "193.08067321777344 故乡.txt 他只是摇头。　　“非常难。第六个孩子也会..\n",
      "192.80599975585938 故乡.txt 我们日里到海边捡贝壳去，红的绿的都有，鬼..\n",
      "191.85671997070312 故乡.txt 你便捏了胡叉，轻轻地走去……”　　我那时..\n",
      "191.6737060546875 故乡.txt 要管的是獾猪，刺猬，猹。月亮底下，你听，..\n",
      "191.50411987304688 故乡.txt 我们沙地上，下了雪，我扫出一块空地来，用..\n",
      "191.42340087890625 故乡.txt ”　　我知道无话可说了，便闭了口，默默的..\n",
      "191.24383544921875 故乡.txt 种出东西来，挑去卖，总要捐几回钱，折了本..\n",
      "190.9632110595703 故乡.txt 他站住了，脸上现出欢喜和凄凉的神情；动着..\n",
      "190.6688232421875 故乡.txt 这祭祀，说是三十多年才能轮到一回，所以很..\n",
      "190.62747192382812 故乡.txt 这真是贵人眼高……”　　“那有这事……我..\n",
      "190.04959106445312 故乡.txt 仿佛也就如此。于是我自己解释说：故乡本也..\n",
      "189.6699676513672 故乡.txt 走到了，看见猹了，你便刺。这畜生很伶俐，..\n",
      "189.17623901367188 故乡.txt ”　　“我并没有阔哩。我须卖了这些，再去..\n",
      "187.98635864257812 故乡.txt ）中各有所属，如甲乙寅卯属木，丙丁巳午属..\n",
      "186.89382934570312 故乡.txt 我便招宏儿走近面前，和他闲话：问他可会写..\n",
      "186.5359649658203 故乡.txt 现在我的母亲提起了他，我这儿时的记忆，忽..\n",
      "185.80690002441406 故乡.txt 第二日，我便要他捕鸟。他说：　　“这不能..\n",
      "184.54815673828125 故乡.txt 我们多年聚族而居的老屋，已经公同卖给别姓..\n",
      "183.76300048828125 故乡.txt 下午，他拣好了几件东西：两条长桌，四个椅..\n",
      "183.3310089111328 故乡.txt 故乡(1)　　我冒了严寒，回到相隔二千余..\n",
      "182.9307861328125 故乡.txt 他出去了；母亲和我都叹息他的景况：多子，..\n",
      "182.91900634765625 故乡.txt 我愕然了。　　“不认识了么？我还抱过你咧..\n",
      "182.87728881835938 故乡.txt 了，亏伊装着这么高低的小脚，竟跑得这样快..\n",
      "182.81814575195312 故乡.txt 宏儿没有见过我，远远的对面站着只是看。　..\n",
      "182.42608642578125 故乡.txt 他的皮毛是油一般的滑……”　　我素不知道..\n",
      "181.927001953125 故乡.txt 我只觉得我四面有看不见的高墙，将我隔成孤..\n",
      "181.635009765625 故乡.txt 即用天干（甲乙丙丁戊己庚辛壬癸）和地支（..\n",
      "180.48028564453125 故乡.txt ……”　　我接着便有许多话，想要连珠一般..\n",
      "179.98983764648438 故乡.txt 他身材增加了一倍；先前的紫色的圆脸，已经..\n",
      "179.79486083984375 故乡.txt 我到了自家的房外，我的母亲早已迎着出来了..\n",
      "179.72872924804688 故乡.txt 第二日清早晨我到了我家的门口了。瓦楞上许..\n",
      "178.78036499023438 故乡.txt 我吃了一吓，赶忙抬起头，却见一个凸颧骨，..\n",
      "177.8002471923828 故乡.txt 但这大约因为年龄的关系，我却并未蒙着一毫..\n",
      "177.32635498046875 故乡.txt 他正在厨房里，紫色的圆脸，头戴一顶小毡帽..\n",
      "177.16163635253906 故乡.txt 他大约只是觉得苦，却又形容不出，沉默了片..\n",
      "177.07789611816406 故乡.txt ⑸鬼见怕和观音手，都是小贝壳的名称。旧时..\n",
      "176.9667510986328 故乡.txt 着一轮金黄的圆月，下面是海边的沙地，都种..\n",
      "176.67088317871094 故乡.txt 但是擦着白粉，颧骨没有这么高，嘴唇也没有..\n",
      "175.8486328125 故乡.txt ……”　　“他？……他景况也很不如意……..\n",
      "175.79757690429688 故乡.txt 发见了这件事，自己很以为功，便拿了那狗气..\n",
      "174.8773193359375 故乡.txt 现在我所谓希望，不也是我自己手制的偶像么..\n",
      "174.2147674560547 故乡.txt 他后来还托他的父亲带给我一包贝壳和几支很..\n",
      "173.1104736328125 故乡.txt 我的心禁不住悲凉起来了。阿！这不是我二十..\n",
      "172.7203369140625 故乡.txt 母亲也说好，而且行李也略已齐集，木器不便..\n",
      "172.32000732421875 故乡.txt ”　　哦，我记得了。我孩子时候，在斜对门..\n",
      "172.1113739013672 故乡.txt 的说，慢慢向外走，顺便将我母亲的一副手套..\n",
      "170.74771118164062 故乡.txt 我们终日很忙碌，再没有谈天的工夫。来客也..\n",
      "169.40908813476562 故乡.txt 他头上是一顶破毡帽，身上只一件极薄的棉衣..\n",
      "168.71389770507812 故乡.txt 我们的船向前走，两岸的青山在黄昏中，都装..\n",
      "165.520751953125 故乡.txt ⑹西施：春秋时越国的美女，后来用以泛称一..\n",
      "164.0939483642578 故乡.txt 他曾领导一七七五年至一七八三年美国反对英..\n",
      "162.60853576660156 故乡.txt 时候既然是深冬；渐近故乡时，天气又阴晦了..\n",
      "157.5740203857422 故乡.txt 一八○四年建立法兰西第一帝国，自称拿破仑..\n",
      "153.26113891601562 故乡.txt 前者是省以下、府州以上的行政长官；后者掌..\n"
     ]
    }
   ],
   "source": [
    "for node in streaming_response.source_nodes:\n",
    "    print(node.score,node.metadata[\"file_name\"],(lambda s: s.replace('\\n', '')[:20] + '..' if len(s.replace('\\n', '')) > 10 else s.replace('\\n', ''))(node.text))"
   ]
  },
  {
   "cell_type": "code",
   "execution_count": null,
   "id": "43eb26dc-1338-412e-b096-7fc3826cbe3b",
   "metadata": {},
   "outputs": [],
   "source": []
  }
 ],
 "metadata": {
  "kernelspec": {
   "display_name": "Python 3 (ipykernel)",
   "language": "python",
   "name": "python3"
  },
  "language_info": {
   "codemirror_mode": {
    "name": "ipython",
    "version": 3
   },
   "file_extension": ".py",
   "mimetype": "text/x-python",
   "name": "python",
   "nbconvert_exporter": "python",
   "pygments_lexer": "ipython3",
   "version": "3.10.12"
  }
 },
 "nbformat": 4,
 "nbformat_minor": 5
}
