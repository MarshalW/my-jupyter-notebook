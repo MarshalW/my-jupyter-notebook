{
 "cells": [
  {
   "cell_type": "markdown",
   "id": "549f0a77-79da-4db7-a68d-90bffbe1e018",
   "metadata": {},
   "source": [
    "# 自动合并检索 - 3rd 示例"
   ]
  },
  {
   "cell_type": "markdown",
   "id": "e7c9cb74-bce3-46f6-9f2a-e47970b9e96a",
   "metadata": {},
   "source": [
    "https://blog.csdn.net/weixin_42608414/article/details/135666037"
   ]
  },
  {
   "cell_type": "markdown",
   "id": "31c2dd37-135a-4f8e-acd3-ed73ca27b21a",
   "metadata": {},
   "source": [
    "## 准备"
   ]
  },
  {
   "cell_type": "code",
   "execution_count": 1,
   "id": "033ebfd7-8fdd-454c-bd6f-66c6a40b3e41",
   "metadata": {},
   "outputs": [
    {
     "name": "stdout",
     "output_type": "stream",
     "text": [
      "CPU times: user 13 ms, sys: 8.52 ms, total: 21.5 ms\n",
      "Wall time: 3.38 s\n"
     ]
    }
   ],
   "source": [
    "%%time\n",
    "%%capture\n",
    "\n",
    "!pip install trafilatura"
   ]
  },
  {
   "cell_type": "markdown",
   "id": "dab681d7-6014-4a2e-b031-a787e6e94c36",
   "metadata": {},
   "source": [
    "## 加载文档"
   ]
  },
  {
   "cell_type": "code",
   "execution_count": 2,
   "id": "5f15f868-e017-48c7-a17a-bd57f7e78572",
   "metadata": {},
   "outputs": [
    {
     "name": "stdout",
     "output_type": "stream",
     "text": [
      "CPU times: user 3.11 s, sys: 389 ms, total: 3.5 s\n",
      "Wall time: 3.3 s\n"
     ]
    },
    {
     "data": {
      "text/plain": [
       "1"
      ]
     },
     "execution_count": 2,
     "metadata": {},
     "output_type": "execute_result"
    }
   ],
   "source": [
    "%%time\n",
    "\n",
    "from llama_index.readers.web import TrafilaturaWebReader\n",
    " \n",
    "url=\"https://baike.baidu.com/item/恐龙/139019\"\n",
    "documents = TrafilaturaWebReader().load_data([url])\n",
    "len(documents)"
   ]
  },
  {
   "cell_type": "code",
   "execution_count": 3,
   "id": "fcff642a-6b6a-4663-abd5-d3e1c14ce85f",
   "metadata": {},
   "outputs": [
    {
     "data": {
      "text/plain": [
       "'收藏\\n查看我的收藏\\n0有用+1\\n恐龙（英文名：Dinosaur），是指三角龙、现代鸟类和梁龙最近的共同祖先及其所有后代。 [1]\\n矫健的四肢、长长的尾巴和庞大的身躯是部分非鸟恐龙的写照。它们主要栖息于湖岸平原（或海岸平原）上的森林地或开阔地带。\\n1915年，美国加利福尼亚大学地质学家乔治·D·劳德伯克博士和R·R·莫斯博士在自贡市发现恐龙化石。 [19] [22]2022年3月，云南大学生命科学院的脊椎动物研究团队发现科氏玉溪龙，是在亚洲发现的迄今最早的有甲类恐龙。 [16]\\n山东发现大宝贝，太大了！2024-06-17 17:42\\n青岛龙无疑是莱阳的恐龙大明星，但它既不是莱阳发现的唯一一种恐龙，也非莱阳发现的第一种恐龙。到目前为止，莱阳一共经历了三次恐龙大发现。...详情\\n内容来自\\n- 纲\\n- 蜥形纲\\n- 亚 纲\\n- 双孔亚纲\\n- 目\\n- 鸟臀目（Ornithischuia)、蜥臀目(Saurischia)\\n- 次亚纲\\n- 主龙型次亚纲\\n- 超 目\\n- 恐龙总目\\n- 生存时间\\n- 中晚三叠世至白垩纪末\\n- 词 源\\n- 日本古生物学家译为恐竜\\n“恐龙”一词在西方指恐蜥（恐怖的蜥蜴），日本的古生物学家译为“恐竜”，后来流行于中国。古希腊语蜥蜴（Saurosc），特指一些巨大的有四肢有尾或兼有翼的类似蜥蜴的爬虫。 [2]\\n人类发现恐龙化石的历史由来已久。早在曼特尔夫妇发现禽龙之前，欧洲人就知道地下埋藏有许多奇形怪状的巨大骨骼化石。但是，当时人们并不知道它们的确切归属，因此一直误认为是“巨人的遗骸” [3]。直到曼特尔夫妇发现了禽龙并与鬣蜥进行对比，科学界才初步确定了这是一种类似于蜥蜴的、早已灭绝的爬行动物。因此，随后发现的新类型的恐龙以及其它一些古老的爬行动物，名称全都和蜥蜴有关，例如“像鲸鱼的蜥蜴”、“森林的蜥蜴”等等。同时，由于最初引起人们注意的这些远古动物化石，往往个体巨大、奇形怪状，着实令人恐怖 [3]。\\n虽然恐龙化石已经在地球上存在了数千万年，但直到19世纪，人们才知道地球上曾经有这么奇特的动物存在过。第一个发现恐龙化石的是一位名叫吉迪昂·曼特尔的英国医师，而创立“恐龙’’的这一名词的是英国古生物学家理查德·欧文 [2]。1842年，英国古生物学家欧文爵士用拉丁文给它们创造了一个名称，这个拉丁文由两个词根组成，前面的词根意思就是“恐怖的”，后面的词根意思就是“'"
      ]
     },
     "execution_count": 3,
     "metadata": {},
     "output_type": "execute_result"
    }
   ],
   "source": [
    "documents[0].text[:1000]"
   ]
  },
  {
   "cell_type": "markdown",
   "id": "c17fd9c7-424f-47de-be36-31157c69357a",
   "metadata": {},
   "source": [
    "## 设置文档层次结构"
   ]
  },
  {
   "cell_type": "code",
   "execution_count": 4,
   "id": "c6810808-314b-439b-8c06-8a2692650123",
   "metadata": {},
   "outputs": [
    {
     "name": "stdout",
     "output_type": "stream",
     "text": [
      "CPU times: user 243 ms, sys: 3.94 ms, total: 247 ms\n",
      "Wall time: 247 ms\n"
     ]
    }
   ],
   "source": [
    "%%time\n",
    "\n",
    "from llama_index.core.node_parser import (\n",
    "    HierarchicalNodeParser,\n",
    "    # SentenceSplitter,\n",
    ")\n",
    " \n",
    "node_parser = HierarchicalNodeParser.from_defaults(\n",
    "    chunk_sizes=[2048, 512, 128]\n",
    ")"
   ]
  },
  {
   "cell_type": "code",
   "execution_count": 5,
   "id": "738038b8-618c-41b4-8e9e-46a6c5876e6f",
   "metadata": {},
   "outputs": [
    {
     "data": {
      "text/plain": [
       "319"
      ]
     },
     "execution_count": 5,
     "metadata": {},
     "output_type": "execute_result"
    }
   ],
   "source": [
    "nodes = node_parser.get_nodes_from_documents(documents)\n",
    " \n",
    "len(nodes)"
   ]
  },
  {
   "cell_type": "code",
   "execution_count": 6,
   "id": "0e0388c6-586c-4337-b84b-c278bc39cb74",
   "metadata": {},
   "outputs": [
    {
     "data": {
      "text/plain": [
       "250"
      ]
     },
     "execution_count": 6,
     "metadata": {},
     "output_type": "execute_result"
    }
   ],
   "source": [
    "from llama_index.core.node_parser import get_leaf_nodes, get_root_nodes\n",
    "\n",
    "leaf_nodes = get_leaf_nodes(nodes)\n",
    "len(leaf_nodes)"
   ]
  },
  {
   "cell_type": "code",
   "execution_count": 7,
   "id": "e507bdaa-c2d3-4aa9-b607-3a44ebc3900d",
   "metadata": {},
   "outputs": [
    {
     "data": {
      "text/plain": [
       "'蜥脚亚目的著名代表有产于中国四川、甘肃晚侏罗纪由19节颈椎组成的脖子长度约等于体长的一半的马门溪龙，世界上已知体形最大的陆地动物——易碎双腔龙。 [7]\\n兽脚类生活在晚三叠世至白垩纪。'"
      ]
     },
     "execution_count": 7,
     "metadata": {},
     "output_type": "execute_result"
    }
   ],
   "source": [
    "leaf_nodes[30].text"
   ]
  },
  {
   "cell_type": "code",
   "execution_count": 8,
   "id": "9af2e490-42cc-43a3-a49f-40eacc2c9929",
   "metadata": {},
   "outputs": [
    {
     "data": {
      "text/plain": [
       "'除臀部结构不同外，两类恐龙在生活及行为特征上也不同。蜥臀目恐龙包括以四肢行走的草食性蜥脚类恐龙，以及几乎用两肢行走的肉食性兽脚类恐龙。 [7]\\n鸟臀目的腰带，肠骨前后都大大扩张，耻骨前侧有一个大的前耻骨突，伸在肠骨的下方，后侧更是大大延伸与坐骨平行伸向肠骨前下方。因此，骨盆从侧面看是四射型（除此之外，还有其他区别）。 [7]\\n蜥脚形类主要生活在晚三叠世至白垩纪，它们绝大多数都是大型的素食恐龙。头小，脖子长，尾巴长，牙齿成小匙状。蜥脚亚目的著名代表有产于中国四川、甘肃晚侏罗纪由19节颈椎组成的脖子长度约等于体长的一半的马门溪龙，世界上已知体形最大的陆地动物——易碎双腔龙。 [7]\\n兽脚类生活在晚三叠世至白垩纪。它们大多为肉食性，两足行走，趾端长有锐利的爪子，头部很发达，为最聪明的一类。'"
      ]
     },
     "execution_count": 8,
     "metadata": {},
     "output_type": "execute_result"
    }
   ],
   "source": [
    "nodes_by_id = {node.node_id: node for node in nodes}\n",
    " \n",
    "parent_node = nodes_by_id[leaf_nodes[30].parent_node.node_id]\n",
    "parent_node.text"
   ]
  },
  {
   "cell_type": "markdown",
   "id": "165b8297-c503-41c6-9e43-5b8780d56e68",
   "metadata": {},
   "source": [
    "## 创建向量索引"
   ]
  },
  {
   "cell_type": "code",
   "execution_count": 9,
   "id": "03683b4c-b0df-4ab6-972d-8eac35ce0c7a",
   "metadata": {},
   "outputs": [
    {
     "name": "stdout",
     "output_type": "stream",
     "text": [
      "CPU times: user 1e+03 ns, sys: 0 ns, total: 1e+03 ns\n",
      "Wall time: 3.58 µs\n"
     ]
    }
   ],
   "source": [
    "%time\n",
    "\n",
    "# 加载llm和embeddings\n",
    "%run ../utils2.py\n",
    "\n",
    "from llama_index.core import Settings\n",
    "\n",
    "Settings.llm=get_llm()\n",
    "Settings.embed_model = get_embedding()"
   ]
  },
  {
   "cell_type": "code",
   "execution_count": 14,
   "id": "6c4ab7a3-7f84-4203-80b2-1868a24981e1",
   "metadata": {},
   "outputs": [
    {
     "name": "stdout",
     "output_type": "stream",
     "text": [
      "CPU times: user 1.84 s, sys: 48.7 ms, total: 1.89 s\n",
      "Wall time: 25.3 s\n"
     ]
    }
   ],
   "source": [
    "%%time\n",
    "\n",
    "from llama_index.core import ServiceContext,StorageContext,VectorStoreIndex\n",
    " \n",
    "# #创建ServiceContext\n",
    "# auto_merging_context = ServiceContext.from_defaults(\n",
    "#     node_parser=node_parser,\n",
    "#     llm=Settings.llm,\n",
    "#     embed_model=Settings.embed_model,\n",
    "# )\n",
    " \n",
    "#创建向量库索引\n",
    "storage_context = StorageContext.from_defaults()\n",
    "storage_context.docstore.add_documents(nodes)\n",
    "automerging_index = VectorStoreIndex(\n",
    "    leaf_nodes, \n",
    "    storage_context=storage_context, \n",
    "    # service_context=auto_merging_context\n",
    ")\n",
    " \n",
    "#向量库持久化\n",
    "automerging_index.storage_context.persist(persist_dir=\"./merging_index\")"
   ]
  },
  {
   "cell_type": "markdown",
   "id": "5f8c2ec9-37c2-474e-9133-293abc218d83",
   "metadata": {},
   "source": [
    "## 定义和执行检索器"
   ]
  },
  {
   "cell_type": "code",
   "execution_count": 15,
   "id": "795a742b-5802-4506-9efc-24124d7aa1f8",
   "metadata": {},
   "outputs": [
    {
     "name": "stdout",
     "output_type": "stream",
     "text": [
      "CPU times: user 1.63 s, sys: 613 ms, total: 2.24 s\n",
      "Wall time: 2.98 s\n"
     ]
    }
   ],
   "source": [
    "%%time\n",
    "\n",
    "from llama_index.core.postprocessor import SentenceTransformerRerank\n",
    "from llama_index.core.retrievers import AutoMergingRetriever\n",
    "from llama_index.core.query_engine import RetrieverQueryEngine\n",
    " \n",
    "base_retriever = automerging_index.as_retriever(\n",
    "    similarity_top_k=12\n",
    ")\n",
    " \n",
    "retriever = AutoMergingRetriever(\n",
    "    base_retriever, \n",
    "    automerging_index.storage_context, \n",
    "    verbose=True\n",
    ")\n",
    " \n",
    "rerank = SentenceTransformerRerank(top_n=6, model=\"/models/bge-reranker-base\")\n",
    " \n",
    "auto_merging_engine = RetrieverQueryEngine.from_args(\n",
    "    retriever, node_postprocessors=[rerank]\n",
    ")"
   ]
  },
  {
   "cell_type": "code",
   "execution_count": 16,
   "id": "ea693436-61b3-4bcb-a4e5-2c6e9dfc2881",
   "metadata": {},
   "outputs": [
    {
     "name": "stdout",
     "output_type": "stream",
     "text": [
      "> Merging 3 nodes into parent node.\n",
      "> Parent node id: f0fbd0fb-6b84-4c10-b4a7-d3a0abf81337.\n",
      "> Parent node text: [12]\n",
      "温血动物说\n",
      "过去，所有的科学家都认为恐龙像其他爬行动物一样是冷血动物或变温动物，但是随着化石资料的不断增多，人们的认识也发生了变化，有人提出，有些恐龙可能是温血动物。首先，他们认为有些...\n",
      "\n",
      "CPU times: user 669 ms, sys: 199 ms, total: 868 ms\n",
      "Wall time: 5.64 s\n"
     ]
    }
   ],
   "source": [
    "%%time\n",
    "\n",
    "auto_merging_response = auto_merging_engine.query(\n",
    "    \"恐龙是冷血动物吗？\"\n",
    ")"
   ]
  },
  {
   "cell_type": "code",
   "execution_count": 17,
   "id": "027c7c93-e07e-4ec0-aa43-23302c06c656",
   "metadata": {},
   "outputs": [
    {
     "data": {
      "text/plain": [
       "'根据上下文信息，恐龙并不是纯粹的冷血动物或变温动物。实际上，它们被描述为介于冷血和温血动物之间的一类动物。这意味着恐龙具有某些类似于温血动物（如鸟类和哺乳动物）的新陈代谢特征，比如较高的生长速率和新陈代谢速率，但同时也保留了一些冷血动物的特性。因此，不能简单地将恐龙归类为冷血动物。'"
      ]
     },
     "execution_count": 17,
     "metadata": {},
     "output_type": "execute_result"
    }
   ],
   "source": [
    "auto_merging_response.response"
   ]
  },
  {
   "cell_type": "code",
   "execution_count": 18,
   "id": "486c0d2b-1178-4110-9fe1-c365d5ec0d7a",
   "metadata": {},
   "outputs": [
    {
     "name": "stdout",
     "output_type": "stream",
     "text": [
      "> Merging 3 nodes into parent node.\n",
      "> Parent node id: 99a3bdd3-a92d-448e-b671-a018a337faa6.\n",
      "> Parent node text: 同时，空气中的水蒸气含量也迅速减少，引起了陆地上普遍的干旱。 [12]\n",
      "气候骤变造成恐龙绝灭的一条可能的途径是严重影响恐龙的卵。一些科学家发现，在恐龙灭绝之前的白垩纪末期，恐龙蛋的蛋壳有变薄的趋...\n",
      "\n",
      "CPU times: user 98.4 ms, sys: 822 µs, total: 99.2 ms\n",
      "Wall time: 8.24 s\n"
     ]
    },
    {
     "data": {
      "text/plain": [
       "'恐龙灭绝的原因有多种理论。其中一种观点认为，当小行星碰撞地球时，引发了一系列环境变化，如海啸、地震、野火和气温的突然变动，这些因素对原本脆弱的恐龙生态系统造成了致命打击，导致恐龙物种陆续消失。另一种理论指出，在白垩纪末期，气候急剧变化可能影响了恐龙的卵，比如发现蛋壳变薄或气孔减少的现象，这可能与寒冷干燥的气候有关。\\n\\n物种进化说认为，由于恐龙繁荣长达1.6亿年，它们的身体变得过于庞大，导致行动迟缓和生活上的不便，最终导致灭绝。此外，一些恐龙如迷惑龙和三角龙因体型巨大、骨骼异常发达而丧失了生存能力或走向自灭。\\n\\n造山运动说指出，在白垩纪末期发生的造山运动使得沼泽干涸，许多依赖沼泽生活的恐龙无法继续生存。气候变化还影响了植物的分布和食物链，导致食草性恐龙相继灭绝。\\n\\n此外，还有观点认为，突发灾难如外来天体撞击或火山喷发可能对地球环境造成巨大破坏，但这些事件后，地球并未恢复到原先的气候环境。这可能导致植物生长受到影响，进而影响动物的食物来源。同时，新的大气环境更适合哺乳动物生存，哺乳动物成为更先进、适应性更强的竞争者，这也加速了恐龙的灭绝过程。\\n\\n寒冷可能不是最严重的问题，但在某些情况下，温度变化对一些动物（包括恐龙）的性别决定有影响，这可能是导致生物大灭绝的原因之一。学术界现在倾向于认为外来天体撞击和火山喷发这两个因素同时作用于地球系统时，才会产生足以导致大规模物种灭绝的影响。'"
      ]
     },
     "execution_count": 18,
     "metadata": {},
     "output_type": "execute_result"
    }
   ],
   "source": [
    "%%time\n",
    "\n",
    "auto_merging_response = auto_merging_engine.query(\n",
    "    \"恐龙为什么会灭绝？\"\n",
    ")\n",
    "\n",
    "auto_merging_response.response"
   ]
  },
  {
   "cell_type": "code",
   "execution_count": null,
   "id": "2fb14952-684c-4aa5-a588-66c03a18d951",
   "metadata": {},
   "outputs": [],
   "source": []
  }
 ],
 "metadata": {
  "kernelspec": {
   "display_name": "Python 3 (ipykernel)",
   "language": "python",
   "name": "python3"
  },
  "language_info": {
   "codemirror_mode": {
    "name": "ipython",
    "version": 3
   },
   "file_extension": ".py",
   "mimetype": "text/x-python",
   "name": "python",
   "nbconvert_exporter": "python",
   "pygments_lexer": "ipython3",
   "version": "3.10.12"
  }
 },
 "nbformat": 4,
 "nbformat_minor": 5
}
