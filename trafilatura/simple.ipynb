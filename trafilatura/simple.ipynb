{
 "cells": [
  {
   "cell_type": "markdown",
   "id": "ca9145cf-9c17-4c8b-a7a5-c1b463abd183",
   "metadata": {},
   "source": [
    "# 使用 trafilatura"
   ]
  },
  {
   "cell_type": "markdown",
   "id": "26b658fe-3075-4258-b7fb-8d971a5c9f98",
   "metadata": {},
   "source": [
    "## 准备"
   ]
  },
  {
   "cell_type": "code",
   "execution_count": 1,
   "id": "ee1cb33f-664a-4754-948e-4869eddc5a48",
   "metadata": {},
   "outputs": [
    {
     "name": "stdout",
     "output_type": "stream",
     "text": [
      "CPU times: user 8.68 ms, sys: 6.6 ms, total: 15.3 ms\n",
      "Wall time: 3.33 s\n"
     ]
    }
   ],
   "source": [
    "%%time\n",
    "%%capture\n",
    "\n",
    "!pip install trafilatura"
   ]
  },
  {
   "cell_type": "markdown",
   "id": "c3bfcb48-701f-42f5-bff5-eaf5ee2aa30c",
   "metadata": {},
   "source": [
    "## 直接使用 api"
   ]
  },
  {
   "cell_type": "code",
   "execution_count": 6,
   "id": "7d7dfd17-cd11-41e7-b6af-4e1be36bb974",
   "metadata": {},
   "outputs": [
    {
     "name": "stdout",
     "output_type": "stream",
     "text": [
      "CPU times: user 15.4 ms, sys: 0 ns, total: 15.4 ms\n",
      "Wall time: 107 ms\n"
     ]
    },
    {
     "data": {
      "text/plain": [
       "'{\"title\": \"美国联邦调查局公布枪击特朗普嫌疑人\", \"author\": null, \"hostname\": null, \"date\": \"2024-07-14\", \"fingerprint\": \"604d4f874a3722f8\", \"id\": null, \"license\": null, \"comments\": \"\", \"raw_text\": \"新华社华盛顿7月14日电（记者熊茂伶）美国联邦调查局14日公布一名来自宾夕法尼亚州的20岁男子为枪击美前总统特朗普的嫌疑人。这名男子已在竞选集会现场被击毙。 美国联邦调查局当天发表声明说，该男子名叫托马斯·马修·克鲁克斯，居住在宾夕法尼亚州贝塞尔帕克，其作案动机尚未确定。目前尚未发现嫌疑人与外国恐怖主义组织有关联，他之前也未出现在执法机构的监控名单上。联邦调查局仍在进一步调查他的背景，并已封锁其住所。 特朗普竞选团队表示，特朗普身体没有大碍，精神状态良好。据悉，他的竞选活动安排没有变化，将按计划参加下周在威斯康辛州密尔沃基市举行的共和党全国代表大会，届时他会被正式提名为共和党总统候选人。 白宫13日晚间表示，总统拜登已与特朗普通电话。 美国前总统、共和党人特朗普13日傍晚在宾夕法尼亚州巴特勒市举行的竞选集会上遭“未遂刺杀”。枪手被特勤局人员打死，现场一名观众死亡，另外两名观众重伤。美国舆论认为，在美国大选年背景下，这起“糟糕事件”表明美国政治极化加剧。  【纠错】   【责任编辑:徐海知】\", \"text\": \"新华社华盛顿7月14日电（记者熊茂伶）美国联邦调查局14日公布一名来自宾夕法尼亚州的20岁男子为枪击美前总统特朗普的嫌疑人。这名男子已在竞选集会现场被击毙。\\\\n美国联邦调查局当天发表声明说，该男子名叫托马斯·马修·克鲁克斯，居住在宾夕法尼亚州贝塞尔帕克，其作案动机尚未确定。目前尚未发现嫌疑人与外国恐怖主义组织有关联，他之前也未出现在执法机构的监控名单上。联邦调查局仍在进一步调查他的背景，并已封锁其住所。\\\\n特朗普竞选团队表示，特朗普身体没有大碍，精神状态良好。据悉，他的竞选活动安排没有变化，将按计划参加下周在威斯康辛州密尔沃基市举行的共和党全国代表大会，届时他会被正式提名为共和党总统候选人。\\\\n白宫13日晚间表示，总统拜登已与特朗普通电话。\\\\n美国前总统、共和党人特朗普13日傍晚在宾夕法尼亚州巴特勒市举行的竞选集会上遭“未遂刺杀”。枪手被特勤局人员打死，现场一名观众死亡，另外两名观众重伤。美国舆论认为，在美国大选年背景下，这起“糟糕事件”表明美国政治极化加剧。\\\\n【纠错】 【责任编辑:徐海知】\", \"language\": null, \"image\": null, \"pagetype\": null, \"filedate\": \"2024-07-16\", \"source\": null, \"source-hostname\": null, \"excerpt\": null, \"categories\": \"\", \"tags\": \"\"}'"
      ]
     },
     "execution_count": 6,
     "metadata": {},
     "output_type": "execute_result"
    }
   ],
   "source": [
    "%%time\n",
    "\n",
    "from trafilatura import fetch_url, extract\n",
    "url = 'http://www.news.cn/world/20240714/25baaa6716ab4d28ae56f86100333697/c.html'\n",
    "downloaded = fetch_url(url)\n",
    "result = extract(downloaded, output_format=\"json\")\n",
    "\n",
    "result"
   ]
  },
  {
   "cell_type": "markdown",
   "id": "f133e677-9615-41cd-8672-4b95316256e3",
   "metadata": {},
   "source": [
    "## 通过 llamaindex api 使用"
   ]
  },
  {
   "cell_type": "code",
   "execution_count": 9,
   "id": "bf79082a-3228-45e1-a8cd-00b28359ca17",
   "metadata": {},
   "outputs": [
    {
     "name": "stdout",
     "output_type": "stream",
     "text": [
      "CPU times: user 34.1 ms, sys: 0 ns, total: 34.1 ms\n",
      "Wall time: 68.5 ms\n"
     ]
    },
    {
     "data": {
      "text/plain": [
       "1"
      ]
     },
     "execution_count": 9,
     "metadata": {},
     "output_type": "execute_result"
    }
   ],
   "source": [
    "%%time\n",
    "\n",
    "from llama_index.readers.web import TrafilaturaWebReader\n",
    "\n",
    "documents = TrafilaturaWebReader().load_data(\n",
    "    [\"https://baike.baidu.com/item/固态电池\"]\n",
    ")\n",
    "\n",
    "len(documents)"
   ]
  },
  {
   "cell_type": "code",
   "execution_count": 10,
   "id": "035df7b8-acfd-42aa-bda4-27d1142960dc",
   "metadata": {},
   "outputs": [
    {
     "data": {
      "text/plain": [
       "'收藏\\n查看我的收藏\\n0有用+1\\n- 中文名\\n- 固态电池\\n- 外文名\\n- Solid-state batteries\\n- 领 域\\n- 硬件\\n- 能量密度\\n- 锂离子电池的2倍\\n- 性 质\\n- 一种使用固体电极和固体电解质的电池\\n- 特 点\\n- 功率密度较低，能量密度较高\\n2030年，锂离子电池将不再是电动汽车电池主流，但其在某些电子原件领域仍有一席之地。 [1]据SNE Researchd的测算，2025年我国固态电池市场空间有望达30亿元，2030年有望达到200亿元。 [3]\\n在2010年，丰田就曾推出过续航里程可超过1000KM的固态电池。而包括QuantumScape以及Sakti3所做的努力也都是在试图用固态电池来取代传统的液态锂电池。\\n加拿大Avestor公司也曾尝试过研发固态锂电池，最终2006年正式申请破产。Avestor公司使用一种高分子聚合物分离器，代替电池中的液体电解质，但一直没有解决安全问题，在北美地区发生过几起电池燃烧或者爆炸事件。\\n2015年3月中旬，真空吸尘器的发明者、英国戴森公司（Dyson）创始人詹姆斯·戴森将其首笔1500万美元的投资投向了固态电池公'"
      ]
     },
     "execution_count": 10,
     "metadata": {},
     "output_type": "execute_result"
    }
   ],
   "source": [
    "documents[0].text[:500]"
   ]
  },
  {
   "cell_type": "code",
   "execution_count": null,
   "id": "d421a0dd-f08c-4e38-a4ac-d33371c7d694",
   "metadata": {},
   "outputs": [],
   "source": []
  }
 ],
 "metadata": {
  "kernelspec": {
   "display_name": "Python 3 (ipykernel)",
   "language": "python",
   "name": "python3"
  },
  "language_info": {
   "codemirror_mode": {
    "name": "ipython",
    "version": 3
   },
   "file_extension": ".py",
   "mimetype": "text/x-python",
   "name": "python",
   "nbconvert_exporter": "python",
   "pygments_lexer": "ipython3",
   "version": "3.10.12"
  }
 },
 "nbformat": 4,
 "nbformat_minor": 5
}
