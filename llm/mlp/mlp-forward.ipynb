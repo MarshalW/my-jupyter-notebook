{
 "cells": [
  {
   "cell_type": "markdown",
   "id": "d0a38d76-ae76-4978-921f-e3056bb20da2",
   "metadata": {},
   "source": [
    "# 多层神经网络推理实现"
   ]
  },
  {
   "cell_type": "markdown",
   "id": "06744975-a530-4208-a7fb-9a2510cc12f2",
   "metadata": {},
   "source": [
    "## 最简三层神经网络的前向传播"
   ]
  },
  {
   "cell_type": "markdown",
   "id": "0c073cbb-c4db-4e0f-a1bd-357ac69c25b2",
   "metadata": {},
   "source": [
    "- 输入层有两个节点\n",
    "- 隐藏层有三个节点\n",
    "- 输出层有三个节点\n",
    "- 激活函数都使用了 sigmoid 函数"
   ]
  },
  {
   "cell_type": "code",
   "execution_count": 1,
   "id": "caa7e2bf-0300-49e1-b85d-b63f8270d5d9",
   "metadata": {},
   "outputs": [
    {
     "name": "stdout",
     "output_type": "stream",
     "text": [
      "输出层输出： [0.73792645 0.79808336 0.84728934]\n"
     ]
    }
   ],
   "source": [
    "import numpy as np\n",
    "\n",
    "# 输入层到隐藏层的权重矩阵和偏置向量\n",
    "weights_input_hidden = np.array([[0.1, 0.2, 0.3],\n",
    "                                  [0.4, 0.5, 0.6]])\n",
    "bias_hidden = np.array([0.1, 0.2, 0.3])\n",
    "\n",
    "# 隐藏层到输出层的权重矩阵和偏置向量\n",
    "weights_hidden_output = np.array([[0.7, 0.8, 0.9],\n",
    "                                   [0.1, 0.2, 0.3],\n",
    "                                   [0.4, 0.5, 0.6]])\n",
    "bias_output = np.array([0.1, 0.2, 0.3])\n",
    "\n",
    "# 输入数据\n",
    "input_data = np.array([1.0, 2.0])\n",
    "\n",
    "# 前向传播\n",
    "hidden_layer_input = np.dot(input_data, weights_input_hidden) + bias_hidden\n",
    "hidden_layer_output = 1 / (1 + np.exp(-hidden_layer_input))  # 使用 sigmoid 激活函数\n",
    "\n",
    "output_layer_input = np.dot(hidden_layer_output, weights_hidden_output) + bias_output\n",
    "output_layer_output = 1 / (1 + np.exp(-output_layer_input))  # 使用 sigmoid 激活函数\n",
    "\n",
    "print(\"输出层输出：\", output_layer_output)"
   ]
  },
  {
   "cell_type": "markdown",
   "id": "b17231a3-5a37-4dab-b8b4-4703760d8168",
   "metadata": {},
   "source": [
    "## 输出层设置为2的情况"
   ]
  },
  {
   "cell_type": "code",
   "execution_count": 2,
   "id": "90db3bd1-2dbf-4758-9b83-66c5a612d47b",
   "metadata": {},
   "outputs": [
    {
     "name": "stdout",
     "output_type": "stream",
     "text": [
      "输出层输出： [0.73792645 0.79808336]\n"
     ]
    }
   ],
   "source": [
    "import numpy as np\n",
    "\n",
    "# 输入层到隐藏层的权重矩阵和偏置向量\n",
    "weights_input_hidden = np.array([[0.1, 0.2, 0.3],\n",
    "                                  [0.4, 0.5, 0.6]])\n",
    "bias_hidden = np.array([0.1, 0.2, 0.3])\n",
    "\n",
    "# 隐藏层到输出层的权重矩阵和偏置向量\n",
    "weights_hidden_output = np.array([[0.7, 0.8],\n",
    "                                   [0.1, 0.2],\n",
    "                                   [0.4, 0.5]])\n",
    "bias_output = np.array([0.1, 0.2])\n",
    "\n",
    "# 输入数据\n",
    "input_data = np.array([1.0, 2.0])\n",
    "\n",
    "# 前向传播\n",
    "hidden_layer_input = np.dot(input_data, weights_input_hidden) + bias_hidden\n",
    "hidden_layer_output = 1 / (1 + np.exp(-hidden_layer_input))  # 使用 sigmoid 激活函数\n",
    "\n",
    "output_layer_input = np.dot(hidden_layer_output, weights_hidden_output) + bias_output\n",
    "output_layer_output = 1 / (1 + np.exp(-output_layer_input))  # 使用 sigmoid 激活函数\n",
    "\n",
    "print(\"输出层输出：\", output_layer_output)"
   ]
  },
  {
   "cell_type": "markdown",
   "id": "b5175ecf-274b-457a-b434-fc7e1dc5c72d",
   "metadata": {},
   "source": [
    "## 基于《深度学习入门》的示例"
   ]
  },
  {
   "cell_type": "markdown",
   "id": "ec524059-b2ed-4d2f-9229-1d8a07258e18",
   "metadata": {},
   "source": [
    "### 输出层使用恒等函数 - 回归问题"
   ]
  },
  {
   "cell_type": "code",
   "execution_count": 3,
   "id": "99e766bf-ca21-4a69-8621-6a29c88c8931",
   "metadata": {},
   "outputs": [
    {
     "name": "stdout",
     "output_type": "stream",
     "text": [
      "[0.31682708 0.69627909]\n"
     ]
    }
   ],
   "source": [
    "import numpy as np\n",
    "\n",
    "def init_network():\n",
    "  network = {}\n",
    "  network['W1'] = np.array([[0.1, 0.3, 0.5], [0.2, 0.4, 0.6]])\n",
    "  network['b1'] = np.array([0.1, 0.2, 0.3])\n",
    "  network['W2'] = np.array([[0.1, 0.4], [0.2, 0.5], [0.3, 0.6]])\n",
    "  network['b2'] = np.array([0.1, 0.2])\n",
    "  network['W3'] = np.array([[0.1, 0.3], [0.2, 0.4]])\n",
    "  network['b3'] = np.array([0.1, 0.2])\n",
    "  return network\n",
    "\n",
    "# 激活函数\n",
    "def sigmoid(x):\n",
    "  return 1 / (1 + np.exp(-x))\n",
    "\n",
    "# 恒等函数\n",
    "def identity_function(x):\n",
    "  return x\n",
    "\n",
    "def forward(network, x):\n",
    "\tW1, W2, W3 = network['W1'], network['W2'], network['W3']\n",
    "\tb1, b2, b3 = network['b1'], network['b2'], network['b3']\n",
    "\ta1 = np.dot(x, W1) + b1\n",
    "\tz1 = sigmoid(a1)\n",
    "\ta2 = np.dot(z1, W2) + b2\n",
    "\tz2 = sigmoid(a2)\n",
    "\ta3 = np.dot(z2, W3) + b3\n",
    "\ty = identity_function(a3)\n",
    "\treturn y\n",
    "\n",
    "network = init_network()\n",
    "x = np.array([1.0, 0.5])\n",
    "y = forward(network, x)\n",
    "print(y) # [0.31682708 0.69627909]"
   ]
  },
  {
   "cell_type": "markdown",
   "id": "a7757724-9f54-4842-b2ff-59330d55b65c",
   "metadata": {},
   "source": [
    "### 输出层使用 softmax 函数 - 分类问题"
   ]
  },
  {
   "cell_type": "code",
   "execution_count": 4,
   "id": "e350b431-6b6f-490b-9a2c-6bbe66c4cf82",
   "metadata": {},
   "outputs": [
    {
     "name": "stdout",
     "output_type": "stream",
     "text": [
      "[0.40625907 0.59374093]\n"
     ]
    }
   ],
   "source": [
    "import numpy as np\n",
    "\n",
    "def init_network():\n",
    "  network = {}\n",
    "  network['W1'] = np.array([[0.1, 0.3, 0.5], [0.2, 0.4, 0.6]])\n",
    "  network['b1'] = np.array([0.1, 0.2, 0.3])\n",
    "  network['W2'] = np.array([[0.1, 0.4], [0.2, 0.5], [0.3, 0.6]])\n",
    "  network['b2'] = np.array([0.1, 0.2])\n",
    "  network['W3'] = np.array([[0.1, 0.3], [0.2, 0.4]])\n",
    "  network['b3'] = np.array([0.1, 0.2])\n",
    "  return network\n",
    "\n",
    "# 激活函数\n",
    "def sigmoid(x):\n",
    "  return 1 / (1 + np.exp(-x))\n",
    "\n",
    "def softmax(a):\n",
    "\tc = np.max(a)\n",
    "\texp_a = np.exp(a - c) #溢出对策\n",
    "\tsum_exp_a = np.sum(exp_a)\n",
    "\ty = exp_a / sum_exp_a\n",
    "\treturn y\n",
    "\n",
    "def forward(network, x):\n",
    "\tW1, W2, W3 = network['W1'], network['W2'], network['W3']\n",
    "\tb1, b2, b3 = network['b1'], network['b2'], network['b3']\n",
    "\ta1 = np.dot(x, W1) + b1\n",
    "\tz1 = sigmoid(a1)\n",
    "\ta2 = np.dot(z1, W2) + b2\n",
    "\tz2 = sigmoid(a2)\n",
    "\ta3 = np.dot(z2, W3) + b3\n",
    "\ty = softmax(a3)\n",
    "\treturn y\n",
    "\n",
    "network = init_network()\n",
    "x = np.array([1.0, 0.5])\n",
    "y = forward(network, x)\n",
    "\n",
    "print(y) # [0.40625907 0.59374093]"
   ]
  },
  {
   "cell_type": "code",
   "execution_count": null,
   "id": "5912dcae-a1e6-496d-b596-379f4c57a67b",
   "metadata": {},
   "outputs": [],
   "source": []
  }
 ],
 "metadata": {
  "kernelspec": {
   "display_name": "Python 3 (ipykernel)",
   "language": "python",
   "name": "python3"
  },
  "language_info": {
   "codemirror_mode": {
    "name": "ipython",
    "version": 3
   },
   "file_extension": ".py",
   "mimetype": "text/x-python",
   "name": "python",
   "nbconvert_exporter": "python",
   "pygments_lexer": "ipython3",
   "version": "3.10.12"
  }
 },
 "nbformat": 4,
 "nbformat_minor": 5
}
