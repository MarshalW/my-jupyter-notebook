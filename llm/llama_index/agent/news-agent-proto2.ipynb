{
 "cells": [
  {
   "cell_type": "code",
   "execution_count": 1,
   "id": "f2da57f3-5aa0-45c6-ab99-abdfa71e71f6",
   "metadata": {},
   "outputs": [
    {
     "name": "stdout",
     "output_type": "stream",
     "text": [
      "CPU times: user 3.41 s, sys: 371 ms, total: 3.78 s\n",
      "Wall time: 3.43 s\n"
     ]
    }
   ],
   "source": [
    "%%time\n",
    "\n",
    "# 加载llm和embeddings\n",
    "%run ../utils2.py\n",
    "\n",
    "from llama_index.core import Settings\n",
    "\n",
    "# Settings.llm=get_llm('ERNIE-Speed-8K') # 执行建索引时报错 TypeError: 'NoneType' object is not subscriptable\n",
    "# Settings.llm=get_llm('ERNIE-4.0-8K') # 能正常回答，但也是将不相关的上下文写入答案\n",
    "# Settings.llm=get_llm('ERNIE-3.5-8K-0205') # 执行建索引时报错 TypeError: 'NoneType' object is not subscriptable\n",
    "# Settings.llm=get_llm('qwen-max')  # 能正常回答，但也是将不相关的上下文写入答案\n",
    "# Settings.llm=get_llm('qwen-turbo') # 和qwen2-7b问题类似，将不相关的上下文写入答案\n",
    "# Settings.llm=get_llm('gpt-4-turbo') # 好用！钱下去的也快～\n",
    "# Settings.llm=get_llm('gpt-3.5-turbo') # 回答不正确，重复了问题，而且回答是英文\n",
    "# Settings.llm=get_llm('glm-4') # 回答内容正确，但怎么是英文？\n",
    "Settings.llm=get_llm('qwen2-7b-6k') # 回答不太正确，将不相关的上下文写入了答案\n",
    "Settings.embed_model=get_embedding()"
   ]
  },
  {
   "cell_type": "code",
   "execution_count": 2,
   "id": "056b2dc9-34a4-4287-b84c-6c1d9c9db150",
   "metadata": {},
   "outputs": [
    {
     "name": "stdout",
     "output_type": "stream",
     "text": [
      "CPU times: user 9.48 ms, sys: 165 µs, total: 9.64 ms\n",
      "Wall time: 9.18 ms\n"
     ]
    }
   ],
   "source": [
    "%%time\n",
    "\n",
    "import requests\n",
    "from gne import GeneralNewsExtractor\n",
    "\n",
    "def get_news_data(url):\n",
    "    response = requests.get(url)\n",
    "    html = response.text\n",
    "\n",
    "    extractor = GeneralNewsExtractor()\n",
    "    result = extractor.extract(html, noise_node_list=[\n",
    "                               '//div[@class=\"comment-list\"]'])\n",
    "    result['url']=url\n",
    "    return result"
   ]
  },
  {
   "cell_type": "code",
   "execution_count": 3,
   "id": "d1764cd1-ee85-4783-8e64-619a34a887a5",
   "metadata": {},
   "outputs": [
    {
     "name": "stdout",
     "output_type": "stream",
     "text": [
      "CPU times: user 3.7 ms, sys: 7.95 ms, total: 11.7 ms\n",
      "Wall time: 121 ms\n"
     ]
    }
   ],
   "source": [
    "%%time\n",
    "\n",
    "!rm -rf ./index"
   ]
  },
  {
   "cell_type": "code",
   "execution_count": 4,
   "id": "34bd4874-2f97-4190-93fd-4fc50ba978b8",
   "metadata": {},
   "outputs": [
    {
     "name": "stdout",
     "output_type": "stream",
     "text": [
      "CPU times: user 0 ns, sys: 24 µs, total: 24 µs\n",
      "Wall time: 26 µs\n"
     ]
    }
   ],
   "source": [
    "%%time\n",
    "\n",
    "import os\n",
    "from llama_index.core import(\n",
    "    StorageContext, \n",
    "    load_index_from_storage,\n",
    "    get_response_synthesizer,\n",
    "    DocumentSummaryIndex,\n",
    "    Document\n",
    ")\n",
    "from llama_index.core.node_parser import SentenceSplitter\n",
    "\n",
    "def _load_index(folder_path):\n",
    "    # 考虑不存在的情况，创建空的索引\n",
    "    if not os.path.exists(folder_path):\n",
    "        splitter = SentenceSplitter(chunk_size=1024)\n",
    "        response_synthesizer = get_response_synthesizer(\n",
    "            response_mode=\"tree_summarize\", use_async=True,\n",
    "        )\n",
    "        \n",
    "        doc_summary_index = DocumentSummaryIndex.from_documents(\n",
    "            [],\n",
    "            transformations=[splitter],\n",
    "            response_synthesizer=response_synthesizer,\n",
    "            show_progress=True,\n",
    "        )\n",
    "        \n",
    "        doc_summary_index.storage_context.persist(folder_path)\n",
    "        \n",
    "    storage_context = StorageContext.from_defaults(persist_dir=folder_path)\n",
    "    return load_index_from_storage(storage_context)\n",
    "    "
   ]
  },
  {
   "cell_type": "code",
   "execution_count": 5,
   "id": "f57b801b-e9dd-48a4-b77d-5c77cbdb514b",
   "metadata": {},
   "outputs": [
    {
     "name": "stdout",
     "output_type": "stream",
     "text": [
      "CPU times: user 2 µs, sys: 1e+03 ns, total: 3 µs\n",
      "Wall time: 3.58 µs\n"
     ]
    }
   ],
   "source": [
    "%%time\n",
    "\n",
    "def _data2doc(news_data):\n",
    "    document=Document(text=news_data['content'], \n",
    "                  metadata={\"title\": news_data['title'],\n",
    "                            'publish_time': news_data['publish_time'],\n",
    "                            'author': news_data['author'],\n",
    "                            'url': news_data['url'],\n",
    "                            'images': news_data['images'],\n",
    "                           })\n",
    "    document.doc_id = document.metadata[\"title\"]\n",
    "    return document"
   ]
  },
  {
   "cell_type": "code",
   "execution_count": 6,
   "id": "d017b03a-95f7-4f8c-af5d-40f94204f02e",
   "metadata": {},
   "outputs": [
    {
     "data": {
      "application/vnd.jupyter.widget-view+json": {
       "model_id": "0b588e087c7e40cfbe41a491ea8f44f0",
       "version_major": 2,
       "version_minor": 0
      },
      "text/plain": [
       "Parsing nodes: 0it [00:00, ?it/s]"
      ]
     },
     "metadata": {},
     "output_type": "display_data"
    },
    {
     "data": {
      "application/vnd.jupyter.widget-view+json": {
       "model_id": "bcafe14e9d6943bd9c842e3f6ecd7cd2",
       "version_major": 2,
       "version_minor": 0
      },
      "text/plain": [
       "Summarizing documents: 0it [00:00, ?it/s]"
      ]
     },
     "metadata": {},
     "output_type": "display_data"
    },
    {
     "data": {
      "application/vnd.jupyter.widget-view+json": {
       "model_id": "b3a545d612cb4310a9dc86cc99a95148",
       "version_major": 2,
       "version_minor": 0
      },
      "text/plain": [
       "Generating embeddings: 0it [00:00, ?it/s]"
      ]
     },
     "metadata": {},
     "output_type": "display_data"
    },
    {
     "name": "stdout",
     "output_type": "stream",
     "text": [
      "current doc id: 沙特麦加酷热难耐，“已有来自埃及、约旦等国超900名朝觐者死亡”\n",
      "CPU times: user 472 ms, sys: 32.1 ms, total: 504 ms\n",
      "Wall time: 12.9 s\n"
     ]
    }
   ],
   "source": [
    "%%time\n",
    "\n",
    "doc_summary_index=_load_index('index')\n",
    "\n",
    "news_data=get_news_data(\"https://www.guancha.cn/internation/2024_06_20_738635.shtml\")\n",
    "document=_data2doc(news_data)\n",
    "doc_summary_index.insert(document)\n",
    "doc_summary_index.refresh([document])\n",
    "doc_summary_index.storage_context.persist('index')"
   ]
  },
  {
   "cell_type": "code",
   "execution_count": 9,
   "id": "fc8f8369-05a1-4edc-a1e2-173fffaa7664",
   "metadata": {},
   "outputs": [
    {
     "name": "stdout",
     "output_type": "stream",
     "text": [
      "不知道。上述提供的信息主要关注沙特麦加酷热期间朝觐者死亡的情况，并未涉及美国对印度的全球策略态度的历史变化。CPU times: user 61.8 ms, sys: 2.95 ms, total: 64.7 ms\n",
      "Wall time: 2.86 s\n"
     ]
    }
   ],
   "source": [
    "%%time\n",
    "\n",
    "doc_summary_index=_load_index('index')\n",
    "\n",
    "query_engine = doc_summary_index.as_query_engine(\n",
    "    response_mode=\"tree_summarize\", \n",
    "    streaming=True,\n",
    "    # similarity_top_k=5\n",
    ")\n",
    "\n",
    "response = query_engine.query(\"美国对印度的全球策略态度在过去是如何变化的？如果上下文没有相关知识，则回答不知道，也不要提及上下文知识。\")\n",
    "response.print_response_stream()"
   ]
  },
  {
   "cell_type": "code",
   "execution_count": 10,
   "id": "3bd6df2b-f9f8-4803-9b4b-4d9f7b52ec3e",
   "metadata": {},
   "outputs": [
    {
     "name": "stdout",
     "output_type": "stream",
     "text": [
      "沙特麦加近期发生了一起因酷热天气导致的朝觐者死亡事件。每年六月是沙特最热的月份之一，也是朝觐季节，吸引了来自世界各地约180万穆斯林参加为期数天的活动。其中大约160万人来自国外，包括一些年老体弱的人。由于经济原因和签证问题，许多低收入国家的朝觐者没有接受过充分的医疗保健，并且试图在未获得官方许可的情况下参加朝圣。\n",
      "\n",
      "极端高温导致了大量中暑病例，沙特官方报告称上周日（16日）有2700多例中暑病例。尽管缺乏具体数据，但据法新社统计，截至当地时间6月19日，已有超过900名朝觐者死亡，其中仅埃及人的死亡人数就从18日的300多人跃升至至少600人。一名阿拉伯地区的外交官表示，大部分死者死于高温。\n",
      "\n",
      "沙特官方称今年的朝圣活动“成功”，并强调了先进的冷却系统和持续供应水源确保了朝觐顺利、安全进行。然而，许多朝觐仪式在白天举行，朝觐者需要长时间户外活动，导致有人中暑晕倒，并且有尸体停放路边。志愿者向朝觐者分发冷饮和冰淇淋以缓解高温影响。\n",
      "\n",
      "德国气候分析研究所的科学顾问卡尔-弗里德里希·施洛伊斯纳指出，随着全球变暖，未来数千万朝圣者将面临更频繁的高温致死事件。近期一项研究显示，到2030年代全球气温可能升高1.5摄氏度，这将使朝圣者中暑的风险增加五倍。\n",
      "\n",
      "麦加医疗中心在19日宣布了死亡名单上的死者姓名和国籍，并要求只有死者亲属才能进入大楼确认身份。"
     ]
    }
   ],
   "source": [
    "query_engine = doc_summary_index.as_query_engine(\n",
    "    response_mode=\"tree_summarize\", \n",
    "    streaming=True,\n",
    "    # similarity_top_k=5\n",
    ")\n",
    "\n",
    "response = query_engine.query(\"沙特麦加发生了什么？如果上下文没有相关知识，则回答不知道，也不要提及上下文知识。\")\n",
    "response.print_response_stream()"
   ]
  },
  {
   "cell_type": "code",
   "execution_count": 15,
   "id": "3e3a4a3f-bfef-46f7-bc95-6617b5abb1de",
   "metadata": {},
   "outputs": [
    {
     "name": "stdout",
     "output_type": "stream",
     "text": [
      "根据提供的信息，无法得知我国海警如何具体处理菲律宾方面的挑衅行动。这些信息主要关注了沙特麦加朝圣期间的高温问题以及由此导致的朝觐者死亡事件，并未涉及中国与菲律宾之间的海上或任何相关冲突情况。因此，关于这个问题的具体答案是未知的。"
     ]
    }
   ],
   "source": [
    "query_engine = doc_summary_index.as_query_engine(\n",
    "    response_mode=\"tree_summarize\", \n",
    "    streaming=True,\n",
    "    similarity_top_k=1\n",
    ")\n",
    "\n",
    "response = query_engine.query(\"我国海警怎样处理菲律宾方面的挑衅行动？如果上下文没有相关知识，则回答不知道，也不要提及上下文知识。\")\n",
    "response.print_response_stream()"
   ]
  },
  {
   "cell_type": "code",
   "execution_count": 16,
   "id": "ec94a5ee-0e05-4f00-9d8f-53d6fa861263",
   "metadata": {},
   "outputs": [
    {
     "data": {
      "text/plain": [
       "4"
      ]
     },
     "execution_count": 16,
     "metadata": {},
     "output_type": "execute_result"
    }
   ],
   "source": [
    "len(response.source_nodes)"
   ]
  },
  {
   "cell_type": "code",
   "execution_count": 18,
   "id": "571c56d9-3b45-4937-81e5-b02605e92313",
   "metadata": {},
   "outputs": [
    {
     "data": {
      "text/plain": [
       "{'title': '沙特麦加酷热难耐，“已有来自埃及、约旦等国超900名朝觐者死亡”',\n",
       " 'publish_time': '2024-06-20 15:24:32',\n",
       " 'author': '齐倩',\n",
       " 'url': 'https://www.guancha.cn/internation/2024_06_20_738635.shtml',\n",
       " 'images': ['https://i.guancha.cn/news/vcg/2024/06/20/20240620143519414.jpg',\n",
       "  'https://i.guancha.cn/news/vcg/2024/06/20/20240620143539769.jpg']}"
      ]
     },
     "execution_count": 18,
     "metadata": {},
     "output_type": "execute_result"
    }
   ],
   "source": [
    "response.source_nodes[0].metadata"
   ]
  },
  {
   "cell_type": "code",
   "execution_count": 22,
   "id": "b10b7cef-2a1d-4e71-8d3f-6e7c54ea05c2",
   "metadata": {},
   "outputs": [
    {
     "data": {
      "text/plain": [
       "{'沙特麦加酷热难耐，“已有来自埃及、约旦等国超900名朝觐者死亡”': RefDocInfo(node_ids=['63460949-8978-4d84-b00a-8b141e5018ce', 'd7baa6c9-f455-43b4-906b-5cea63642689', '4ec04f1b-06d1-461d-8006-36c8bafa00dc', 'd6fdd7bb-454d-4105-af21-c8a9fc48d8b2', '0871a648-727c-428c-a12a-34ef65c6d3e6'], metadata={'title': '沙特麦加酷热难耐，“已有来自埃及、约旦等国超900名朝觐者死亡”', 'publish_time': '2024-06-20 15:24:32', 'author': '齐倩', 'url': 'https://www.guancha.cn/internation/2024_06_20_738635.shtml', 'images': ['https://i.guancha.cn/news/vcg/2024/06/20/20240620143519414.jpg', 'https://i.guancha.cn/news/vcg/2024/06/20/20240620143539769.jpg']})}"
      ]
     },
     "execution_count": 22,
     "metadata": {},
     "output_type": "execute_result"
    }
   ],
   "source": [
    "doc_summary_index.ref_doc_info"
   ]
  },
  {
   "cell_type": "code",
   "execution_count": 27,
   "id": "a93e3e96-76a2-483c-8cd9-e2fee9396c27",
   "metadata": {},
   "outputs": [
    {
     "data": {
      "text/plain": [
       "RefDocInfo(node_ids=['63460949-8978-4d84-b00a-8b141e5018ce', 'd7baa6c9-f455-43b4-906b-5cea63642689', '4ec04f1b-06d1-461d-8006-36c8bafa00dc', 'd6fdd7bb-454d-4105-af21-c8a9fc48d8b2', '0871a648-727c-428c-a12a-34ef65c6d3e6'], metadata={'title': '沙特麦加酷热难耐，“已有来自埃及、约旦等国超900名朝觐者死亡”', 'publish_time': '2024-06-20 15:24:32', 'author': '齐倩', 'url': 'https://www.guancha.cn/internation/2024_06_20_738635.shtml', 'images': ['https://i.guancha.cn/news/vcg/2024/06/20/20240620143519414.jpg', 'https://i.guancha.cn/news/vcg/2024/06/20/20240620143539769.jpg']})"
      ]
     },
     "execution_count": 27,
     "metadata": {},
     "output_type": "execute_result"
    }
   ],
   "source": [
    "doc_info=doc_summary_index.ref_doc_info['沙特麦加酷热难耐，“已有来自埃及、约旦等国超900名朝觐者死亡”']\n",
    "doc_info"
   ]
  },
  {
   "cell_type": "code",
   "execution_count": 31,
   "id": "86aa81b8-b505-47cc-bb59-0d2e066eb051",
   "metadata": {},
   "outputs": [
    {
     "data": {
      "text/plain": [
       "TextNode(id_='63460949-8978-4d84-b00a-8b141e5018ce', embedding=None, metadata={'title': '沙特麦加酷热难耐，“已有来自埃及、约旦等国超900名朝觐者死亡”', 'publish_time': '2024-06-20 15:24:32', 'author': '齐倩', 'url': 'https://www.guancha.cn/internation/2024_06_20_738635.shtml', 'images': ['https://i.guancha.cn/news/vcg/2024/06/20/20240620143519414.jpg', 'https://i.guancha.cn/news/vcg/2024/06/20/20240620143539769.jpg']}, excluded_embed_metadata_keys=[], excluded_llm_metadata_keys=[], relationships={<NodeRelationship.SOURCE: '1'>: RelatedNodeInfo(node_id='沙特麦加酷热难耐，“已有来自埃及、约旦等国超900名朝觐者死亡”', node_type=<ObjectType.DOCUMENT: '4'>, metadata={'title': '沙特麦加酷热难耐，“已有来自埃及、约旦等国超900名朝觐者死亡”', 'publish_time': '2024-06-20 15:24:32', 'author': '齐倩', 'url': 'https://www.guancha.cn/internation/2024_06_20_738635.shtml', 'images': ['https://i.guancha.cn/news/vcg/2024/06/20/20240620143519414.jpg', 'https://i.guancha.cn/news/vcg/2024/06/20/20240620143539769.jpg']}, hash='9978d66b0a0b205b00a0d0fd2d80ade5f58f0fc0ef34a76147a97d9b8ebe057e'), <NodeRelationship.NEXT: '3'>: RelatedNodeInfo(node_id='d7baa6c9-f455-43b4-906b-5cea63642689', node_type=<ObjectType.TEXT: '1'>, metadata={}, hash='1bda9e97620f90533da20d8187dc5559552455a8ff60428163cc8d8b9a967458')}, text='【文/观察者网 齐倩】6月，沙特进入一年中最热月份，高温导致正在“圣城”麦加参加朝觐活动的大批朝觐者死亡。由于官方没有公布具体数据，死亡人数尚不确定。法新社最新统计称，截至当地时间6月19日，死亡人数已飙升至900多人。\\n朝觐是伊斯兰教的五大基本功课之一，所有身体健全且有经济能力的穆斯林在一生之中都须完成至少一次朝觐。据伊斯兰历法，朝觐季节每年都会变化，今年是在六月，也是沙特最热的月份之一。\\n沙特官方数据显示，来自世界各地的约180万穆斯林参加了为期数天的朝觐活动，其中约160万人来自国外，不乏年老体弱的人。据介绍，每年的朝觐活动都会吸引数十万来自低收入国家的朝觐者，“其中许多人几乎没有接受过朝觐前的医疗保健”，导致传染病传播。\\n另外，每年都有数以万计的朝觐者为了省钱，试图在没有获得官方签证的情况下参加朝觐。沙特近期的酷热高温，给朝觐活动又增添危险：非法朝觐者无法使用朝觐路线上提供的空调设施等降暑服务。\\n当地时间17日，麦加气温达到51.8摄氏度。与此同时，沙特以及其他国家的民众纷纷前往医院，或者在社交媒体焦急地发帖求助，试图寻找朝觐期间失踪的亲友。\\n麦加气温超过50摄氏度，大批朝觐者死于高温（图自视觉中国，下同）\\n沙特没有提供死亡人数的具体信息，但仅在上周日（16日）就报告了2700多例“中暑”病例。由于缺乏官方数据，死亡人数尚未确定，且可能会继续上升。\\n美联社19日报道称，网上流传的一份名单显示，数日内已有至少550人死亡。法新社则对各国公布数据统计得出，截至当地时间19日，死亡人数已飙升至900多人。一名阿拉伯地区的外交官告诉法新社，仅埃及人的死亡人数就从18日的300多人跃升至19日的“至少600人”，其中大部分死于高温。', start_char_idx=0, end_char_idx=727, text_template='{metadata_str}\\n\\n{content}', metadata_template='{key}: {value}', metadata_seperator='\\n')"
      ]
     },
     "execution_count": 31,
     "metadata": {},
     "output_type": "execute_result"
    }
   ],
   "source": [
    "\n",
    "doc_summary_index.docstore.get_node('63460949-8978-4d84-b00a-8b141e5018ce')"
   ]
  },
  {
   "cell_type": "code",
   "execution_count": null,
   "id": "51c29673-8cc7-4152-ae56-df26e861b35d",
   "metadata": {},
   "outputs": [],
   "source": []
  }
 ],
 "metadata": {
  "kernelspec": {
   "display_name": "Python 3 (ipykernel)",
   "language": "python",
   "name": "python3"
  },
  "language_info": {
   "codemirror_mode": {
    "name": "ipython",
    "version": 3
   },
   "file_extension": ".py",
   "mimetype": "text/x-python",
   "name": "python",
   "nbconvert_exporter": "python",
   "pygments_lexer": "ipython3",
   "version": "3.10.12"
  }
 },
 "nbformat": 4,
 "nbformat_minor": 5
}
