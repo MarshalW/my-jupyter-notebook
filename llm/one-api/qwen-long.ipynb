{
 "cells": [
  {
   "cell_type": "markdown",
   "id": "33a46ecc-6bc0-4a61-9e57-59e5d96bc745",
   "metadata": {},
   "source": [
    "# qwen-long 长上下文测试"
   ]
  },
  {
   "cell_type": "markdown",
   "id": "97ac2a13-46a8-4919-a1c1-ded4ee646a4c",
   "metadata": {},
   "source": [
    "很奇怪，加入内容后的对话，没有返回内容。\n",
    "\n",
    "只有 `qwen-max-longcontext` 能正常返回，效果还不错"
   ]
  },
  {
   "cell_type": "markdown",
   "id": "4aecfc25-c331-4930-ae5c-c67de36c135d",
   "metadata": {},
   "source": [
    "## 测试是否可用"
   ]
  },
  {
   "cell_type": "code",
   "execution_count": 1,
   "id": "1a3562b5-ac02-44ab-a9b0-5471e3bf7aac",
   "metadata": {},
   "outputs": [
    {
     "name": "stdout",
     "output_type": "stream",
     "text": [
      "{\n",
      "  \"id\": \"f02ffc27-b694-9dad-a543-7a1a65227571\",\n",
      "  \"model\": \"qwen\",\n",
      "  \"object\": \"chat.completion\",\n",
      "  \"created\": 1717750507,\n",
      "  \"choices\": [\n",
      "    {\n",
      "      \"index\": 0,\n",
      "      \"message\": {\n",
      "        \"role\": \"assistant\",\n",
      "        \"content\": \"我是通义千问，由阿里云开发的AI助手。我可以回答各种问题、提供信息和与用户进行对话。有什么我可以帮助你的吗？\"\n",
      "      },\n",
      "      \"finish_reason\": \"stop\"\n",
      "    }\n",
      "  ],\n",
      "  \"usage\": {\n",
      "    \"prompt_tokens\": 3,\n",
      "    \"completion_tokens\": 33,\n",
      "    \"total_tokens\": 36\n",
      "  }\n",
      "}\n"
     ]
    }
   ],
   "source": [
    "%%bash\n",
    "\n",
    "TOKEN=sk-bJP6QSnUfjAYeYeE505d3eBf63A643BeB0B8E350Df9b7750\n",
    "HOST_URL=http://192.168.0.72:3000 \n",
    "\n",
    "curl -s \"$HOST_URL\"/v1/chat/completions \\\n",
    "  -H \"Content-Type: application/json\" \\\n",
    "  -H \"Authorization: Bearer $TOKEN\" \\\n",
    "  -d '{\n",
    "     \"model\": \"qwen-long\",\n",
    "     \"messages\": [{\"role\": \"user\", \"content\": \"你谁啊\"}],\n",
    "     \"temperature\": 0.7\n",
    "   }' | jq ."
   ]
  },
  {
   "cell_type": "markdown",
   "id": "8a942778-1d0e-4d62-a85d-ac27ef6dbb4f",
   "metadata": {},
   "source": [
    "## 长文本测试"
   ]
  },
  {
   "cell_type": "code",
   "execution_count": 2,
   "id": "b6d18769-9622-40d7-9eec-0544b2b124e2",
   "metadata": {},
   "outputs": [],
   "source": [
    "from openai import OpenAI\n",
    "\n",
    "base_url = \"http://192.168.0.72:3000/v1\"\n",
    "api_key = \"sk-bJP6QSnUfjAYeYeE505d3eBf63A643BeB0B8E350Df9b7750\"\n",
    "\n",
    "client = OpenAI(api_key=api_key, base_url=base_url)\n",
    "\n",
    "def process_stream(stream):\n",
    "    for chunk in stream:\n",
    "        if chunk.usage:\n",
    "            print()\n",
    "            print(chunk.usage)\n",
    "        else:\n",
    "            print(chunk.choices[0].delta.content or \"\", end=\"\")"
   ]
  },
  {
   "cell_type": "code",
   "execution_count": 11,
   "id": "4d038aa0-b853-4b9d-82a7-65e7924f2dcd",
   "metadata": {},
   "outputs": [
    {
     "name": "stdout",
     "output_type": "stream",
     "text": [
      "我是通义千问，由阿里云开发的AI助手。我可以回答各种问题、提供信息和与用户进行对话。有什么我可以帮助你的吗？CPU times: user 14 ms, sys: 3.82 ms, total: 17.8 ms\n",
      "Wall time: 3.42 s\n"
     ]
    }
   ],
   "source": [
    "%%time\n",
    "\n",
    "stream = client.chat.completions.create(\n",
    "    model=\"qwen-long\",\n",
    "    messages=[{\"role\": \"user\", \"content\": \"你谁啊？\"}],\n",
    "    stream=True,\n",
    "    stream_options= {\"include_usage\": True}\n",
    ")\n",
    "\n",
    "process_stream(stream)"
   ]
  },
  {
   "cell_type": "code",
   "execution_count": 16,
   "id": "0b1ace54-dafa-41aa-9844-d593716009e7",
   "metadata": {},
   "outputs": [
    {
     "name": "stdout",
     "output_type": "stream",
     "text": [
      "CPU times: user 839 µs, sys: 89 µs, total: 928 µs\n",
      "Wall time: 851 µs\n"
     ]
    },
    {
     "data": {
      "text/plain": [
       "17587"
      ]
     },
     "execution_count": 16,
     "metadata": {},
     "output_type": "execute_result"
    }
   ],
   "source": [
    "%%time\n",
    "\n",
    "file_path = './content-18k.txt'\n",
    "\n",
    "# Read the content of the file and store it in a string variable\n",
    "with open(file_path, 'r', encoding='utf-8') as file:\n",
    "    content = file.read()\n",
    "\n",
    "len(content)"
   ]
  },
  {
   "cell_type": "code",
   "execution_count": 19,
   "id": "8072d59c-4496-4935-bfb2-17c2a42c7f22",
   "metadata": {},
   "outputs": [
    {
     "name": "stdout",
     "output_type": "stream",
     "text": [
      "文章要点归纳如下：\n",
      "\n",
      "1. **大争之世的定义与背景**\n",
      "   - “大争之世”意味着全球秩序的根本性转变，从西方主导转向“东升西降”。\n",
      "   - 这一转变体现在国际格局、现代化模式、工业革命和全球治理的根本变化上。\n",
      "   - 中美结构性冲突是“大争之世”的一个显著特征，源于中国崛起与美国维护霸权的矛盾。\n",
      "\n",
      "2. **国际格局的变化**\n",
      "   - 新的国际格局特点是“东升西降”，中国、印度和东盟等东方力量崛起，而欧洲和日本相对衰落。\n",
      "   - 西方主导的国际格局正在解体，东方国家在经济和人口规模上占据更大比重。\n",
      "\n",
      "3. **现代化模式的转变**\n",
      "   - 中国式现代化与西方模式不同，强调社会主义特色，注重全面、协调和和平发展。\n",
      "   - 中国现代化的成功挑战了西方模式的唯一性，提供了新的发展路径。\n",
      "\n",
      "4. **新的工业革命**\n",
      "   - 第四次工业革命中，中国在人工智能、生命科学、新材料和新能源技术等领域扮演关键角色。\n",
      "   - 中国在某些领域实现领先，为人类文明进步作出贡献，打破了西方在工业革命中的垄断。\n",
      "\n",
      "5. **全球治理的新模式**\n",
      "   - 面对全球安全和发展的挑战，中国提出全球安全倡议和“一带一路”等方案，推动全球治理改革。\n",
      "   - 强调公平、合作与可持续性，反对西方中心主义，为全球治理提供中国智慧和方案。\n",
      "\n",
      "6. **中国作为关键变量的角色**\n",
      "   - 中国凭借工业化、人口与国土规模优势、文化精神和和平发展策略成为“东升”的核心力量。\n",
      "   - 与美国的结构性矛盾基于利益和世界观差异，中国需内部团结、经济发展、斗争精神和积极外交以应对。\n",
      "\n",
      "文章整体分析了国际秩序变迁中中国崛起的背景、影响及中美关系，以及中国在新国际格局、现代化、工业革命和全球治理中的作用，强调了中国作为“大争之世”关键变量的地位与应对策略。CPU times: user 58.2 ms, sys: 15.8 ms, total: 74.1 ms\n",
      "Wall time: 38.4 s\n"
     ]
    }
   ],
   "source": [
    "%%time\n",
    "\n",
    "stream = client.chat.completions.create(\n",
    "  model=\"qwen-max-longcontext\",\n",
    "  max_tokens=5000,\n",
    "  messages=[\n",
    "    {\"role\": \"system\", \"content\": \"你是一个概括内容和提炼主要内容的助手。\"},\n",
    "    {\"role\": \"user\", \"content\": f\"文章内容：{content}\\n\\n主要讲了啥，详细归纳一下，形成要点列表。\"}\n",
    "  ],\n",
    "  stream=True,\n",
    ")\n",
    "\n",
    "for chunk in stream:\n",
    "    print(chunk.choices[0].delta.content or \"\", end=\"\")"
   ]
  },
  {
   "cell_type": "code",
   "execution_count": 20,
   "id": "be8c6c52-d4fa-458e-b43c-a173ef9d061d",
   "metadata": {},
   "outputs": [
    {
     "name": "stdout",
     "output_type": "stream",
     "text": [
      "CPU times: user 9.21 ms, sys: 84 µs, total: 9.29 ms\n",
      "Wall time: 579 ms\n"
     ]
    }
   ],
   "source": [
    "%%time\n",
    "\n",
    "stream = client.chat.completions.create(\n",
    "  model=\"qwen-max\",\n",
    "  max_tokens=5000,\n",
    "  messages=[\n",
    "    {\"role\": \"system\", \"content\": \"你是一个概括内容和提炼主要内容的助手。\"},\n",
    "    {\"role\": \"user\", \"content\": f\"文章内容：{content}\\n\\n主要讲了啥，详细归纳一下，形成要点列表。\"}\n",
    "  ],\n",
    "  stream=True,\n",
    ")\n",
    "\n",
    "for chunk in stream:\n",
    "    print(chunk.choices[0].delta.content or \"\", end=\"\")"
   ]
  },
  {
   "cell_type": "code",
   "execution_count": null,
   "id": "f35ab4e3-e7ab-4c0c-8d33-68618978a5ac",
   "metadata": {},
   "outputs": [],
   "source": []
  }
 ],
 "metadata": {
  "kernelspec": {
   "display_name": "Python 3 (ipykernel)",
   "language": "python",
   "name": "python3"
  },
  "language_info": {
   "codemirror_mode": {
    "name": "ipython",
    "version": 3
   },
   "file_extension": ".py",
   "mimetype": "text/x-python",
   "name": "python",
   "nbconvert_exporter": "python",
   "pygments_lexer": "ipython3",
   "version": "3.10.12"
  }
 },
 "nbformat": 4,
 "nbformat_minor": 5
}
