{
 "cells": [
  {
   "cell_type": "markdown",
   "id": "2a4f840e-622b-4394-94c7-2ba3fea60741",
   "metadata": {
    "editable": true,
    "slideshow": {
     "slide_type": ""
    },
    "tags": []
   },
   "source": [
    "# faiss基于llamaindex的嵌入"
   ]
  },
  {
   "cell_type": "markdown",
   "id": "dfc49582-daaa-46bd-b703-5b2e6e0225c9",
   "metadata": {},
   "source": [
    "为了total-llm项目的文件问答做技术验证"
   ]
  },
  {
   "cell_type": "markdown",
   "id": "97e24be6-2260-4f85-a9fa-12c5c911db28",
   "metadata": {},
   "source": [
    "## 准备"
   ]
  },
  {
   "cell_type": "code",
   "execution_count": 3,
   "id": "634ee621-c6c4-4d1d-b491-b3e6cff04081",
   "metadata": {},
   "outputs": [
    {
     "name": "stdout",
     "output_type": "stream",
     "text": [
      "CPU times: user 34.4 ms, sys: 36.9 ms, total: 71.3 ms\n",
      "Wall time: 14.8 s\n"
     ]
    }
   ],
   "source": [
    "%%time\n",
    "%%capture\n",
    "\n",
    "!pip install llama_index.core\n",
    "!pip install llama-index-llms-openai-like\n",
    "!pip install llama-index-embeddings-ollama\n",
    "!pip install llama-index-vector-stores-faiss\n",
    "!pip install faiss-gpu"
   ]
  },
  {
   "cell_type": "code",
   "execution_count": 10,
   "id": "eeca1e50-9de8-4673-9c8c-e286960da956",
   "metadata": {},
   "outputs": [
    {
     "name": "stdout",
     "output_type": "stream",
     "text": [
      "CPU times: user 16 µs, sys: 0 ns, total: 16 µs\n",
      "Wall time: 18.1 µs\n"
     ]
    }
   ],
   "source": [
    "%%time\n",
    "\n",
    "import logging\n",
    "import sys\n",
    "\n",
    "from llama_index.core import VectorStoreIndex, Document\n",
    "from llama_index.core import StorageContext\n",
    "from IPython.display import Markdown, display\n",
    "from llama_index.core import Settings\n",
    "from llama_index.embeddings.ollama import OllamaEmbedding\n",
    "\n",
    "from llama_index.llms.openai_like import OpenAILike"
   ]
  },
  {
   "cell_type": "code",
   "execution_count": 4,
   "id": "db66d44b-b98d-4508-91ba-01e12c4f0600",
   "metadata": {},
   "outputs": [
    {
     "data": {
      "text/plain": [
       "_Settings(_llm=None, _embed_model=None, _callback_manager=None, _tokenizer=None, _node_parser=SentenceSplitter(include_metadata=True, include_prev_next_rel=True, callback_manager=<llama_index.core.callbacks.base.CallbackManager object at 0x7f5cde0d37f0>, id_func=<function default_id_func at 0x7f5d9c378af0>, chunk_size=128, chunk_overlap=10, separator=' ', paragraph_separator='\\n\\n\\n', secondary_chunking_regex='[^,.;。？！]+[,.;。？！]?'), _prompt_helper=None, _transformations=None)"
      ]
     },
     "execution_count": 4,
     "metadata": {},
     "output_type": "execute_result"
    }
   ],
   "source": [
    "Settings.chunk_size=128\n",
    "Settings.chunk_overlap=10\n",
    "\n",
    "Settings"
   ]
  },
  {
   "cell_type": "code",
   "execution_count": 5,
   "id": "4b5bde22-64a7-48c0-88bb-84f16d168c13",
   "metadata": {},
   "outputs": [
    {
     "name": "stdout",
     "output_type": "stream",
     "text": [
      "CPU times: user 120 ms, sys: 9.48 ms, total: 129 ms\n",
      "Wall time: 157 ms\n"
     ]
    }
   ],
   "source": [
    "%%time\n",
    "\n",
    "llm = OpenAILike(model=\"qwen:14b\", \n",
    "                 api_base=\"http://192.168.0.72:3000/v1\", \n",
    "                 api_key=\"sk-bJP6QSnUfjAYeYeE505d3eBf63A643BeB0B8E350Df9b7750\",\n",
    "                 is_chat_model=True,\n",
    "                 temperature=0.1\n",
    "                )\n",
    "\n",
    "Settings.llm =llm"
   ]
  },
  {
   "cell_type": "code",
   "execution_count": 6,
   "id": "b9340b2f-8c55-41f1-9d2b-bc2b64e08548",
   "metadata": {},
   "outputs": [
    {
     "name": "stdout",
     "output_type": "stream",
     "text": [
      "CPU times: user 441 ms, sys: 45.4 ms, total: 486 ms\n",
      "Wall time: 633 ms\n"
     ]
    }
   ],
   "source": [
    "%%time\n",
    "\n",
    "# 初始化全局 embedding 模型\n",
    "from llama_index.embeddings.ollama import OllamaEmbedding\n",
    "\n",
    "ollama_embedding = OllamaEmbedding(\n",
    "    model_name=\"dztech/bge-large-zh:v1.5\",\n",
    "    # model_name=\"bge-m3:latest\",\n",
    "    base_url=\"http://192.168.0.72:11435\",\n",
    "    ollama_additional_kwargs={\"mirostat\": 0}, # -mirostat N 使用 Mirostat 采样。\n",
    ")\n",
    "\n",
    "Settings.embed_model = ollama_embedding"
   ]
  },
  {
   "cell_type": "code",
   "execution_count": 12,
   "id": "f6b9f8f7-da22-4233-b487-5ddcc662d0c9",
   "metadata": {},
   "outputs": [
    {
     "name": "stdout",
     "output_type": "stream",
     "text": [
      "CPU times: user 0 ns, sys: 1.23 ms, total: 1.23 ms\n",
      "Wall time: 1.13 ms\n"
     ]
    }
   ],
   "source": [
    "%%time\n",
    "\n",
    "# 加载文件数据\n",
    "with open('./books/故乡.txt', 'rb') as file:\n",
    "    byte_data = file.read()\n",
    "\n",
    "docs = [Document(text=byte_data)]"
   ]
  },
  {
   "cell_type": "markdown",
   "id": "05829d60-b116-4ca5-97dd-ef26e8406612",
   "metadata": {},
   "source": [
    "## faiss 索引"
   ]
  },
  {
   "cell_type": "code",
   "execution_count": 14,
   "id": "b89430b5-f510-47ed-a81e-f4b028c7bd6c",
   "metadata": {},
   "outputs": [
    {
     "name": "stdout",
     "output_type": "stream",
     "text": [
      "CPU times: user 261 ms, sys: 19.5 ms, total: 280 ms\n",
      "Wall time: 1.76 s\n"
     ]
    }
   ],
   "source": [
    "%%time\n",
    "\n",
    "import faiss\n",
    "from llama_index.vector_stores.faiss import FaissVectorStore\n",
    "\n",
    "# bge large embedding\n",
    "d = 1024\n",
    "faiss_index = faiss.IndexFlatL2(d)\n",
    "vector_store = FaissVectorStore(faiss_index=faiss_index)\n",
    "storage_context = StorageContext.from_defaults(vector_store=vector_store)\n",
    "\n",
    "index = VectorStoreIndex.from_documents(\n",
    "    docs, storage_context=storage_context\n",
    ")"
   ]
  },
  {
   "cell_type": "markdown",
   "id": "55dceee6-ae99-4473-a2b5-97a84f5d1b0d",
   "metadata": {},
   "source": [
    "## 基本嵌入查询"
   ]
  },
  {
   "cell_type": "code",
   "execution_count": 16,
   "id": "09002cb1-50d3-4c85-9cfd-7f477c1d3573",
   "metadata": {},
   "outputs": [
    {
     "name": "stdout",
     "output_type": "stream",
     "text": [
      "闰土是鲁迅先生笔下的人物，出自小说《故乡》。他是一个朴实的农村少年，与主人公鲁迅有着深厚的友情。\n",
      "CPU times: user 63.4 ms, sys: 707 µs, total: 64.1 ms\n",
      "Wall time: 5.29 s\n"
     ]
    }
   ],
   "source": [
    "%%time\n",
    "\n",
    "query_engine = index.as_query_engine(\n",
    "    streaming=True,\n",
    "    similarity_top_k=10\n",
    ")\n",
    "response = query_engine.query(\"闰土是谁？\")\n",
    "response.print_response_stream()"
   ]
  },
  {
   "cell_type": "code",
   "execution_count": 25,
   "id": "be6d5c38-14d0-4ac1-9061-35e811115f2b",
   "metadata": {},
   "outputs": [
    {
     "name": "stdout",
     "output_type": "stream",
     "text": [
      "我看时，不由的非常出惊，慌忙站起身，迎着走去。\n",
      "\n",
      "　　这来的便是闰土。虽然我一见便知道是闰土，但又不是我这记忆上的闰土了。\n",
      "------\n",
      "我家只有一个忙月（我们这里给人做工的分三种：整年给一定人家做工的叫长工；按日给人做工的叫短工；自己也种地，只在过年过节以及收租时候来给一定人家做工的称忙月），忙不过来，他便对父亲说，可以叫他的儿子闰土来管祭器的。\n",
      "------\n",
      "他见人很怕羞，只是不怕我，没有旁人的时候，便和我说话，于是不到半日，我们便熟识了。\n",
      "\n",
      "　　我们那时候不知道谈些什么，只记得闰土很高兴，说是上城之后，见了许多没有见过的东西。\n",
      "\n",
      "　　第二日，我便要他捕鸟。他说：\n",
      "\n",
      "　　“这不能。\n",
      "------\n",
      "你们先前不是哥弟称呼么？还是照旧：迅哥儿。”母亲高兴的说。\n",
      "\n",
      "　　“阿呀，老太太真是……这成什么规矩。那时是孩子，不懂事……”闰土说着，又叫水生上来打拱，那孩子却害羞，紧紧的只贴在他背后。\n",
      "------\n",
      "我躺着，听船底潺潺的水声，知道我在走我的路。我想：我竟与闰土隔绝到这地步了，但我们的后辈还是一气，宏儿不是正在想念水生么。\n",
      "------\n",
      "“我们沙地里，潮汛要来的时候，就有许多跳鱼儿只是跳，都有青蛙似的两个脚……”\n",
      "\n",
      "　　阿！闰土的心里有无穷无尽的希奇的事，都是我往常的朋友所不知道的。\n",
      "------\n",
      "的刺去，那猹却将身一扭，反从他的胯下逃走了。\n",
      "\n",
      "　　这少年便是闰土。我认识他时，也不过十多岁，离现在将有三十年了；那时我的父亲还在世，家景也好，我正是一个少爷。那一年，我家是一件大祭祀的值年⑶。\n",
      "------\n",
      "“这是第五个孩子，没有见过世面，躲躲闪闪……”\n",
      "\n",
      "　　母亲和宏儿下楼来了，他们大约也听到了声音。\n",
      "\n",
      "　　“老太太。信是早收到了。我实在喜欢的不得了，知道老爷回来……”闰土说。\n",
      "\n",
      "　　“阿，你怎的这样客气起来。\n",
      "------\n",
      "什么都有：稻鸡，角鸡，鹁鸪，蓝背……”\n",
      "\n",
      "　　我于是又很盼望下雪。\n",
      "\n",
      "　　闰土又对我说：\n",
      "\n",
      "　　“现在太冷，你夏天到我们这里来。我们日里到海边捡贝壳去，红的绿的都有，鬼见怕也有，观音手⑸也有。\n",
      "------\n",
      "仿佛也就如此。于是我自己解释说：故乡本也如此，——虽然没有进步，也未必有如我所感的悲凉，这只是我自己心情的改变罢了，因为我这次回乡，本没有什么好心绪。\n",
      "\n",
      "　　我这次是专为了别他而来的。\n"
     ]
    }
   ],
   "source": [
    "texts = [node.text for node in response.source_nodes]\n",
    "print('\\n------\\n'.join(texts))"
   ]
  },
  {
   "cell_type": "markdown",
   "id": "70a284c6-f377-43c7-a2e4-edce35c12c6e",
   "metadata": {},
   "source": [
    "## reranker"
   ]
  },
  {
   "cell_type": "code",
   "execution_count": 26,
   "id": "4d00deb1-5a8c-4a05-973e-f106929044db",
   "metadata": {},
   "outputs": [
    {
     "name": "stdout",
     "output_type": "stream",
     "text": [
      "CPU times: user 2.01 s, sys: 1.67 s, total: 3.68 s\n",
      "Wall time: 19.1 s\n"
     ]
    }
   ],
   "source": [
    "%%time\n",
    "\n",
    "from llama_index.core.postprocessor import SentenceTransformerRerank\n",
    "\n",
    "reranker = SentenceTransformerRerank(model='/models/bge-reranker-v2-m3', top_n=5)"
   ]
  },
  {
   "cell_type": "code",
   "execution_count": 27,
   "id": "5fdd51cf-1289-4976-acae-cbc9221bd563",
   "metadata": {},
   "outputs": [
    {
     "name": "stdout",
     "output_type": "stream",
     "text": [
      "CPU times: user 194 µs, sys: 0 ns, total: 194 µs\n",
      "Wall time: 197 µs\n"
     ]
    }
   ],
   "source": [
    "%%time\n",
    "\n",
    "query_engine = index.as_query_engine(\n",
    "    streaming=True,\n",
    "    similarity_top_k=100,\n",
    "    node_postprocessors=[reranker]\n",
    ")"
   ]
  },
  {
   "cell_type": "code",
   "execution_count": 29,
   "id": "a1e344a5-9af0-4571-b491-32fe0b799bec",
   "metadata": {},
   "outputs": [
    {
     "name": "stdout",
     "output_type": "stream",
     "text": [
      "宏儿是鲁迅先生作品《故乡》中的人物，他是鲁迅八岁的侄子。\n",
      "\n",
      "CPU times: user 466 ms, sys: 14.6 ms, total: 481 ms\n",
      "Wall time: 1.27 s\n"
     ]
    }
   ],
   "source": [
    "%%time\n",
    "\n",
    "streaming_response = query_engine.query(\"宏儿是谁\")\n",
    "streaming_response.print_response_stream()\n",
    "print()"
   ]
  },
  {
   "cell_type": "code",
   "execution_count": 30,
   "id": "a1ce80a9-1b92-4f86-8e92-47f1e351b13c",
   "metadata": {},
   "outputs": [
    {
     "name": "stdout",
     "output_type": "stream",
     "text": [
      "我和宏儿是亲戚关系，具体可能是家人或有亲属纽带的人。\n",
      "\n",
      "CPU times: user 487 ms, sys: 8.25 ms, total: 495 ms\n",
      "Wall time: 1.65 s\n"
     ]
    }
   ],
   "source": [
    "%%time\n",
    "\n",
    "streaming_response = query_engine.query(\"我和宏儿是啥关系\")\n",
    "streaming_response.print_response_stream()\n",
    "print()"
   ]
  },
  {
   "cell_type": "code",
   "execution_count": 31,
   "id": "971c06fb-6bb0-4d4e-b6d0-54b8fe2c99cd",
   "metadata": {},
   "outputs": [
    {
     "name": "stdout",
     "output_type": "stream",
     "text": [
      "闰土是小说《故乡》中的主要人物之一，他是主人公鲁迅（笔名）少年时期的朋友。闰土的名字来源于他出生的月份是闰月，五行中缺土，因此他的父亲给他取了这个名字。闰土在故事中代表了农村生活和农民阶级的形象。\n",
      "\n",
      "CPU times: user 521 ms, sys: 23 ms, total: 544 ms\n",
      "Wall time: 3.34 s\n"
     ]
    }
   ],
   "source": [
    "%%time\n",
    "\n",
    "streaming_response = query_engine.query(\"闰土是谁\")\n",
    "streaming_response.print_response_stream()\n",
    "print()"
   ]
  },
  {
   "cell_type": "code",
   "execution_count": 32,
   "id": "103a5622-8179-4371-9939-1c2ac5517cac",
   "metadata": {},
   "outputs": [
    {
     "name": "stdout",
     "output_type": "stream",
     "text": [
      "闰土和水生可能是亲戚关系或者有其他紧密联系，但具体的关系在给定的文本中并未明确说明。\n",
      "\n",
      "CPU times: user 484 ms, sys: 15.9 ms, total: 500 ms\n",
      "Wall time: 2.07 s\n"
     ]
    }
   ],
   "source": [
    "%%time\n",
    "\n",
    "streaming_response = query_engine.query(\"闰土和水生是啥关系\")\n",
    "streaming_response.print_response_stream()\n",
    "print()"
   ]
  },
  {
   "cell_type": "code",
   "execution_count": 33,
   "id": "a5110672-7e41-4291-84b9-6dc32a4431d4",
   "metadata": {},
   "outputs": [
    {
     "name": "stdout",
     "output_type": "stream",
     "text": [
      "水生和宏儿是朋友关系。宏儿被母亲鼓励去与水生交往，说明他们之间有互动和友谊。\n",
      "\n",
      "CPU times: user 495 ms, sys: 7.65 ms, total: 503 ms\n",
      "Wall time: 2.08 s\n"
     ]
    }
   ],
   "source": [
    "%%time\n",
    "\n",
    "streaming_response = query_engine.query(\"水生和宏儿是啥关系\")\n",
    "streaming_response.print_response_stream()\n",
    "print()"
   ]
  },
  {
   "cell_type": "code",
   "execution_count": 34,
   "id": "f15e2204-6f86-4143-b568-8af6c5bb1cb5",
   "metadata": {},
   "outputs": [
    {
     "name": "stdout",
     "output_type": "stream",
     "text": [
      "闰土小时候与成年后的变化主要体现在以下几个方面：\n",
      "\n",
      "1. 社会角色转变：小时候，闰土是农村孩子，过着简单的生活。而成年后，他可能需要承担家庭责任和社会职责。\n",
      "\n",
      "2. 知识视野拓宽：在鲁迅的记忆中，闰土小时候的世界相对狭窄。而成年后，闰土可能会接触到更广阔的知识领域和信息。\n",
      "\n",
      "3. 心理成熟度提高：随着年龄的增长，闰土的心智会更加成熟，处理问题的方式也会更为理智。\n",
      "\n",
      "4. 生活环境变化：闰土小时候生活在海边的农村，而成年后的生活环境可能因工作、家庭等原因而发生改变。\n",
      "\n",
      "CPU times: user 618 ms, sys: 50 ms, total: 668 ms\n",
      "Wall time: 6.13 s\n"
     ]
    }
   ],
   "source": [
    "%%time\n",
    "\n",
    "streaming_response = query_engine.query(\"闰土小时候和成年后有哪些主要变化\")\n",
    "streaming_response.print_response_stream()\n",
    "print()"
   ]
  },
  {
   "cell_type": "code",
   "execution_count": null,
   "id": "e66ca936-316d-4f57-aa9c-31a5a715bb99",
   "metadata": {},
   "outputs": [],
   "source": []
  }
 ],
 "metadata": {
  "kernelspec": {
   "display_name": "Python 3 (ipykernel)",
   "language": "python",
   "name": "python3"
  },
  "language_info": {
   "codemirror_mode": {
    "name": "ipython",
    "version": 3
   },
   "file_extension": ".py",
   "mimetype": "text/x-python",
   "name": "python",
   "nbconvert_exporter": "python",
   "pygments_lexer": "ipython3",
   "version": "3.10.12"
  }
 },
 "nbformat": 4,
 "nbformat_minor": 5
}
