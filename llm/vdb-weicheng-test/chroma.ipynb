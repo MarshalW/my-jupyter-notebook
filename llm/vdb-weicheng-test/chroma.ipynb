{
 "cells": [
  {
   "cell_type": "markdown",
   "id": "aa347607-58b8-4367-b401-9fad8a662d71",
   "metadata": {},
   "source": [
    "# 使用chroma测试小说《围城》数据集"
   ]
  },
  {
   "cell_type": "markdown",
   "id": "58cbd7cb-cfe0-4d55-93d2-539764be3a4f",
   "metadata": {},
   "source": [
    "## 准备"
   ]
  },
  {
   "cell_type": "code",
   "execution_count": 1,
   "id": "d59d1a27-7c8c-4db8-b4e0-cf4377a8de78",
   "metadata": {},
   "outputs": [
    {
     "name": "stdout",
     "output_type": "stream",
     "text": [
      "CPU times: user 3.01 s, sys: 336 ms, total: 3.34 s\n",
      "Wall time: 3.03 s\n"
     ]
    }
   ],
   "source": [
    "%%time\n",
    "\n",
    "# 导入需要的包\n",
    "\n",
    "from llama_index.core import Settings\n",
    "from llama_index.embeddings.ollama import OllamaEmbedding\n",
    "from llama_index.core import (\n",
    "    SimpleDirectoryReader,\n",
    "    load_index_from_storage,\n",
    "    VectorStoreIndex,\n",
    "    StorageContext,\n",
    ")\n",
    "from llama_index.llms.openai_like import OpenAILike\n",
    "\n",
    "import chromadb\n",
    "from llama_index.vector_stores.chroma import ChromaVectorStore"
   ]
  },
  {
   "cell_type": "code",
   "execution_count": 2,
   "id": "9de73067-474a-498f-ab46-0180d5d9e9be",
   "metadata": {},
   "outputs": [
    {
     "data": {
      "text/plain": [
       "_Settings(_llm=None, _embed_model=None, _callback_manager=None, _tokenizer=None, _node_parser=SentenceSplitter(include_metadata=True, include_prev_next_rel=True, callback_manager=<llama_index.core.callbacks.base.CallbackManager object at 0x7fe4b53671f0>, id_func=<function default_id_func at 0x7fe575ab2dd0>, chunk_size=128, chunk_overlap=10, separator=' ', paragraph_separator='\\n\\n\\n', secondary_chunking_regex='[^,.;。？！]+[,.;。？！]?'), _prompt_helper=None, _transformations=None)"
      ]
     },
     "execution_count": 2,
     "metadata": {},
     "output_type": "execute_result"
    }
   ],
   "source": [
    "Settings.chunk_size=128\n",
    "Settings.chunk_overlap=10\n",
    "\n",
    "Settings"
   ]
  },
  {
   "cell_type": "code",
   "execution_count": 3,
   "id": "8568b04f-32f1-4986-95f7-d7a0ccba75ed",
   "metadata": {},
   "outputs": [
    {
     "name": "stdout",
     "output_type": "stream",
     "text": [
      "CPU times: user 121 ms, sys: 0 ns, total: 121 ms\n",
      "Wall time: 121 ms\n"
     ]
    }
   ],
   "source": [
    "%%time\n",
    "\n",
    "# 初始化全局 llm\n",
    "\n",
    "llm = OpenAILike(model=\"xiaoyu\", \n",
    "                 api_base=\"http://192.168.0.72:3000/v1\", \n",
    "                 api_key=\"sk-bJP6QSnUfjAYeYeE505d3eBf63A643BeB0B8E350Df9b7750\",\n",
    "                 is_chat_model=True,\n",
    "                 temperature=0.1\n",
    "                )\n",
    "\n",
    "Settings.llm =llm"
   ]
  },
  {
   "cell_type": "code",
   "execution_count": 4,
   "id": "8c28537e-1a29-488b-86f8-74f9fe30d637",
   "metadata": {},
   "outputs": [
    {
     "name": "stdout",
     "output_type": "stream",
     "text": [
      "CPU times: user 551 ms, sys: 31.5 ms, total: 582 ms\n",
      "Wall time: 581 ms\n"
     ]
    }
   ],
   "source": [
    "%%time\n",
    "\n",
    "# 初始化全局 embedding 模型\n",
    "\n",
    "ollama_embedding = OllamaEmbedding(\n",
    "    model_name=\"dztech/bge-large-zh:v1.5\",\n",
    "    # model_name=\"bge-m3:latest\",\n",
    "    base_url=\"http://192.168.0.72:11435\",\n",
    "    ollama_additional_kwargs={\"mirostat\": 0}, # -mirostat N 使用 Mirostat 采样。\n",
    ")\n",
    "\n",
    "Settings.embed_model = ollama_embedding"
   ]
  },
  {
   "cell_type": "code",
   "execution_count": 5,
   "id": "629f5a50-b422-4161-89e0-1410137836a6",
   "metadata": {},
   "outputs": [
    {
     "name": "stdout",
     "output_type": "stream",
     "text": [
      "CPU times: user 217 µs, sys: 24 µs, total: 241 µs\n",
      "Wall time: 243 µs\n"
     ]
    }
   ],
   "source": [
    "%%time\n",
    "\n",
    "import logging\n",
    "import sys\n",
    "\n",
    "# 设置系统日志，便于设置level排查\n",
    "\n",
    "logging.basicConfig(stream=sys.stdout, level=logging.INFO)\n",
    "logging.getLogger().addHandler(logging.StreamHandler(stream=sys.stdout))"
   ]
  },
  {
   "cell_type": "markdown",
   "id": "7854ac8f-0d91-475a-97e3-be94d20eb04e",
   "metadata": {},
   "source": [
    "## 索引"
   ]
  },
  {
   "cell_type": "code",
   "execution_count": 6,
   "id": "44b2b0af-e341-4482-8683-67600ac40675",
   "metadata": {},
   "outputs": [
    {
     "name": "stdout",
     "output_type": "stream",
     "text": [
      "Document ID: e0591074-14b1-4f39-903f-e046aaf4da32\n",
      "CPU times: user 5.17 ms, sys: 5.76 ms, total: 10.9 ms\n",
      "Wall time: 10.3 ms\n"
     ]
    }
   ],
   "source": [
    "%%time\n",
    "\n",
    "# load documents\n",
    "documents = SimpleDirectoryReader(\"./books/\").load_data()\n",
    "print(\"Document ID:\", documents[0].doc_id)"
   ]
  },
  {
   "cell_type": "code",
   "execution_count": 8,
   "id": "a987e8d5-0549-4533-9157-6f153ca37ba0",
   "metadata": {},
   "outputs": [
    {
     "name": "stdout",
     "output_type": "stream",
     "text": [
      "INFO:chromadb.telemetry.product.posthog:Anonymized telemetry enabled. See                     https://docs.trychroma.com/telemetry for more information.\n",
      "Anonymized telemetry enabled. See                     https://docs.trychroma.com/telemetry for more information.\n",
      "CPU times: user 82.8 ms, sys: 7.85 ms, total: 90.7 ms\n",
      "Wall time: 91.2 ms\n"
     ]
    }
   ],
   "source": [
    "%%time\n",
    "\n",
    "# create client and a new collection\n",
    "chroma_client = chromadb.EphemeralClient()\n",
    "chroma_collection = chroma_client.create_collection(\"quickstart\")"
   ]
  },
  {
   "cell_type": "code",
   "execution_count": 9,
   "id": "6efeb103-bef4-4351-959a-720a636449ed",
   "metadata": {},
   "outputs": [
    {
     "name": "stdout",
     "output_type": "stream",
     "text": [
      "CPU times: user 20.4 s, sys: 596 ms, total: 21 s\n",
      "Wall time: 1min 27s\n"
     ]
    }
   ],
   "source": [
    "%%time\n",
    "\n",
    "# set up ChromaVectorStore and load in data\n",
    "vector_store = ChromaVectorStore(chroma_collection=chroma_collection)\n",
    "storage_context = StorageContext.from_defaults(vector_store=vector_store)\n",
    "index = VectorStoreIndex.from_documents(\n",
    "    documents, storage_context=storage_context\n",
    ")"
   ]
  },
  {
   "cell_type": "markdown",
   "id": "1585e31d-79d1-4b4e-ac86-94beb82f54e7",
   "metadata": {},
   "source": [
    "## 查询"
   ]
  },
  {
   "cell_type": "markdown",
   "id": "5f1a029e-6c25-4091-82f1-90a486e53360",
   "metadata": {},
   "source": [
    "### 基本嵌入查询"
   ]
  },
  {
   "cell_type": "code",
   "execution_count": 10,
   "id": "04c5c2d4-15ce-41e6-b65f-33a74810307d",
   "metadata": {},
   "outputs": [
    {
     "name": "stdout",
     "output_type": "stream",
     "text": [
      "CPU times: user 35.9 ms, sys: 0 ns, total: 35.9 ms\n",
      "Wall time: 35.4 ms\n"
     ]
    }
   ],
   "source": [
    "%%time\n",
    "\n",
    "query_engine = index.as_query_engine(\n",
    "    streaming=True,\n",
    "    similarity_top_k=100,\n",
    "    similarity_cutoff=0.5\n",
    ")"
   ]
  },
  {
   "cell_type": "code",
   "execution_count": 11,
   "id": "d5a097cb-cdaa-4db5-a389-d8a836f19ae2",
   "metadata": {},
   "outputs": [
    {
     "name": "stdout",
     "output_type": "stream",
     "text": [
      "INFO:httpx:HTTP Request: POST http://192.168.0.72:3000/v1/chat/completions \"HTTP/1.1 200 OK\"\n",
      "HTTP Request: POST http://192.168.0.72:3000/v1/chat/completions \"HTTP/1.1 200 OK\"\n",
      "INFO:httpx:HTTP Request: POST http://192.168.0.72:3000/v1/chat/completions \"HTTP/1.1 200 OK\"\n",
      "HTTP Request: POST http://192.168.0.72:3000/v1/chat/completions \"HTTP/1.1 200 OK\"\n",
      "INFO:httpx:HTTP Request: POST http://192.168.0.72:3000/v1/chat/completions \"HTTP/1.1 200 OK\"\n",
      "HTTP Request: POST http://192.168.0.72:3000/v1/chat/completions \"HTTP/1.1 200 OK\"\n",
      "INFO:httpx:HTTP Request: POST http://192.168.0.72:3000/v1/chat/completions \"HTTP/1.1 200 OK\"\n",
      "HTTP Request: POST http://192.168.0.72:3000/v1/chat/completions \"HTTP/1.1 200 OK\"\n",
      "INFO:httpx:HTTP Request: POST http://192.168.0.72:3000/v1/chat/completions \"HTTP/1.1 200 OK\"\n",
      "HTTP Request: POST http://192.168.0.72:3000/v1/chat/completions \"HTTP/1.1 200 OK\"\n",
      "方鸿渐的妻子是柔嘉。\n",
      "CPU times: user 304 ms, sys: 2.43 ms, total: 307 ms\n",
      "Wall time: 19.3 s\n"
     ]
    }
   ],
   "source": [
    "%%time\n",
    "\n",
    "streaming_response = query_engine.query(\"方鸿渐的妻子是谁\")\n",
    "streaming_response.print_response_stream()\n",
    "print()"
   ]
  },
  {
   "cell_type": "code",
   "execution_count": 12,
   "id": "6e41c3a9-c8db-4802-8ac4-c12a30c81c4d",
   "metadata": {},
   "outputs": [
    {
     "name": "stdout",
     "output_type": "stream",
     "text": [
      "INFO:httpx:HTTP Request: POST http://192.168.0.72:3000/v1/chat/completions \"HTTP/1.1 200 OK\"\n",
      "HTTP Request: POST http://192.168.0.72:3000/v1/chat/completions \"HTTP/1.1 200 OK\"\n",
      "INFO:httpx:HTTP Request: POST http://192.168.0.72:3000/v1/chat/completions \"HTTP/1.1 200 OK\"\n",
      "HTTP Request: POST http://192.168.0.72:3000/v1/chat/completions \"HTTP/1.1 200 OK\"\n",
      "INFO:httpx:HTTP Request: POST http://192.168.0.72:3000/v1/chat/completions \"HTTP/1.1 200 OK\"\n",
      "HTTP Request: POST http://192.168.0.72:3000/v1/chat/completions \"HTTP/1.1 200 OK\"\n",
      "INFO:httpx:HTTP Request: POST http://192.168.0.72:3000/v1/chat/completions \"HTTP/1.1 200 OK\"\n",
      "HTTP Request: POST http://192.168.0.72:3000/v1/chat/completions \"HTTP/1.1 200 OK\"\n",
      "INFO:httpx:HTTP Request: POST http://192.168.0.72:3000/v1/chat/completions \"HTTP/1.1 200 OK\"\n",
      "HTTP Request: POST http://192.168.0.72:3000/v1/chat/completions \"HTTP/1.1 200 OK\"\n",
      "方鸿渐的父亲是一乡之望，但具体的名字在给出的文本中并未提及。\n",
      "CPU times: user 139 ms, sys: 14.8 ms, total: 153 ms\n",
      "Wall time: 12.2 s\n"
     ]
    }
   ],
   "source": [
    "%%time\n",
    "\n",
    "streaming_response = query_engine.query(\"方鸿渐的父亲是谁，说出他的名字\")\n",
    "streaming_response.print_response_stream()\n",
    "print()"
   ]
  },
  {
   "cell_type": "code",
   "execution_count": 13,
   "id": "96576b48-497b-445d-ac56-fbb0c68c284c",
   "metadata": {},
   "outputs": [
    {
     "name": "stdout",
     "output_type": "stream",
     "text": [
      "INFO:httpx:HTTP Request: POST http://192.168.0.72:3000/v1/chat/completions \"HTTP/1.1 200 OK\"\n",
      "HTTP Request: POST http://192.168.0.72:3000/v1/chat/completions \"HTTP/1.1 200 OK\"\n",
      "INFO:httpx:HTTP Request: POST http://192.168.0.72:3000/v1/chat/completions \"HTTP/1.1 200 OK\"\n",
      "HTTP Request: POST http://192.168.0.72:3000/v1/chat/completions \"HTTP/1.1 200 OK\"\n",
      "INFO:httpx:HTTP Request: POST http://192.168.0.72:3000/v1/chat/completions \"HTTP/1.1 200 OK\"\n",
      "HTTP Request: POST http://192.168.0.72:3000/v1/chat/completions \"HTTP/1.1 200 OK\"\n",
      "INFO:httpx:HTTP Request: POST http://192.168.0.72:3000/v1/chat/completions \"HTTP/1.1 200 OK\"\n",
      "HTTP Request: POST http://192.168.0.72:3000/v1/chat/completions \"HTTP/1.1 200 OK\"\n",
      "方豚翁\n",
      "CPU times: user 109 ms, sys: 693 µs, total: 110 ms\n",
      "Wall time: 10.9 s\n"
     ]
    }
   ],
   "source": [
    "%%time\n",
    "\n",
    "streaming_response = query_engine.query(\"方鸿渐的父亲是谁，说出他的名字，名字好像带一个翁字\")\n",
    "streaming_response.print_response_stream()\n",
    "print()"
   ]
  },
  {
   "cell_type": "code",
   "execution_count": 14,
   "id": "2982d888-8141-4c6a-ac37-29ddd68a6759",
   "metadata": {},
   "outputs": [
    {
     "name": "stdout",
     "output_type": "stream",
     "text": [
      "INFO:httpx:HTTP Request: POST http://192.168.0.72:3000/v1/chat/completions \"HTTP/1.1 200 OK\"\n",
      "HTTP Request: POST http://192.168.0.72:3000/v1/chat/completions \"HTTP/1.1 200 OK\"\n",
      "INFO:httpx:HTTP Request: POST http://192.168.0.72:3000/v1/chat/completions \"HTTP/1.1 200 OK\"\n",
      "HTTP Request: POST http://192.168.0.72:3000/v1/chat/completions \"HTTP/1.1 200 OK\"\n",
      "INFO:httpx:HTTP Request: POST http://192.168.0.72:3000/v1/chat/completions \"HTTP/1.1 200 OK\"\n",
      "HTTP Request: POST http://192.168.0.72:3000/v1/chat/completions \"HTTP/1.1 200 OK\"\n",
      "INFO:httpx:HTTP Request: POST http://192.168.0.72:3000/v1/chat/completions \"HTTP/1.1 200 OK\"\n",
      "HTTP Request: POST http://192.168.0.72:3000/v1/chat/completions \"HTTP/1.1 200 OK\"\n",
      "INFO:httpx:HTTP Request: POST http://192.168.0.72:3000/v1/chat/completions \"HTTP/1.1 200 OK\"\n",
      "HTTP Request: POST http://192.168.0.72:3000/v1/chat/completions \"HTTP/1.1 200 OK\"\n",
      "INFO:httpx:HTTP Request: POST http://192.168.0.72:3000/v1/chat/completions \"HTTP/1.1 200 OK\"\n",
      "HTTP Request: POST http://192.168.0.72:3000/v1/chat/completions \"HTTP/1.1 200 OK\"\n",
      "局部真理在这里指的是个人或特定情境下的见解或经验，它们反映了某种特定情况下的真实或合理，但可能并不具有普适性或绝对性。例如，辛楣提到的学生程度退步的观点，虽然在当时的社会背景下可能是真实的，但并不意味着所有时代或所有地方的学生都如此。这种观点强调了真理的相对性和情境依赖性。\n",
      "CPU times: user 539 ms, sys: 20 ms, total: 559 ms\n",
      "Wall time: 35.2 s\n"
     ]
    }
   ],
   "source": [
    "%%time\n",
    "\n",
    "streaming_response = query_engine.query(\"文中提到的局部真理是啥意思\")\n",
    "streaming_response.print_response_stream()\n",
    "print()"
   ]
  },
  {
   "cell_type": "markdown",
   "id": "bc9b65be-f88c-4682-96a4-1015eead6220",
   "metadata": {},
   "source": [
    "### rerank"
   ]
  },
  {
   "cell_type": "code",
   "execution_count": 15,
   "id": "dcf5ac9c-3f48-455a-b17c-e3eb9eaff0b3",
   "metadata": {},
   "outputs": [
    {
     "name": "stdout",
     "output_type": "stream",
     "text": [
      "CPU times: user 1.59 s, sys: 744 ms, total: 2.33 s\n",
      "Wall time: 1.53 s\n"
     ]
    }
   ],
   "source": [
    "%%time\n",
    "\n",
    "from llama_index.core.postprocessor import SentenceTransformerRerank\n",
    "\n",
    "reranker = SentenceTransformerRerank(model='/models/bge-reranker-v2-m3', top_n=5)"
   ]
  },
  {
   "cell_type": "code",
   "execution_count": 16,
   "id": "9440f84a-4cc8-4961-acf0-f368340131db",
   "metadata": {},
   "outputs": [
    {
     "name": "stdout",
     "output_type": "stream",
     "text": [
      "CPU times: user 183 µs, sys: 0 ns, total: 183 µs\n",
      "Wall time: 186 µs\n"
     ]
    }
   ],
   "source": [
    "%%time\n",
    "\n",
    "query_engine = index.as_query_engine(\n",
    "    streaming=True,\n",
    "    similarity_top_k=100,\n",
    "    node_postprocessors=[reranker],\n",
    "    similarity_cutoff=0.5\n",
    ")"
   ]
  },
  {
   "cell_type": "code",
   "execution_count": 18,
   "id": "28461ca4-2452-42f5-9ccb-8a1dcf7eef79",
   "metadata": {},
   "outputs": [
    {
     "data": {
      "application/vnd.jupyter.widget-view+json": {
       "model_id": "a40210832c634fa1921d5682553f936d",
       "version_major": 2,
       "version_minor": 0
      },
      "text/plain": [
       "Batches:   0%|          | 0/4 [00:00<?, ?it/s]"
      ]
     },
     "metadata": {},
     "output_type": "display_data"
    },
    {
     "name": "stdout",
     "output_type": "stream",
     "text": [
      "INFO:httpx:HTTP Request: POST http://192.168.0.72:3000/v1/chat/completions \"HTTP/1.1 200 OK\"\n",
      "HTTP Request: POST http://192.168.0.72:3000/v1/chat/completions \"HTTP/1.1 200 OK\"\n",
      "方鸿渐的妻子在文本中并未直接提及，但从上下文推测，她可能是周家的女性成员，因为有提到“换了旁的女人，要把鸿渐看守得牢牢的”，并且提到了周太太对他的期望。然而，具体是哪一位女性并没有直接点明，因此无法确定是哪一位“方鸿渐的好太太”。\n",
      "CPU times: user 835 ms, sys: 25.3 ms, total: 860 ms\n",
      "Wall time: 3.61 s\n"
     ]
    }
   ],
   "source": [
    "%%time\n",
    "\n",
    "streaming_response = query_engine.query(\"方鸿渐的妻子是谁\")\n",
    "streaming_response.print_response_stream()\n",
    "print()"
   ]
  },
  {
   "cell_type": "code",
   "execution_count": 19,
   "id": "959a569b-8ba0-4def-8179-305ef59f18bd",
   "metadata": {},
   "outputs": [
    {
     "data": {
      "application/vnd.jupyter.widget-view+json": {
       "model_id": "675df59fb6fe423f8eb192591555a54f",
       "version_major": 2,
       "version_minor": 0
      },
      "text/plain": [
       "Batches:   0%|          | 0/4 [00:00<?, ?it/s]"
      ]
     },
     "metadata": {},
     "output_type": "display_data"
    },
    {
     "name": "stdout",
     "output_type": "stream",
     "text": [
      "INFO:httpx:HTTP Request: POST http://192.168.0.72:3000/v1/chat/completions \"HTTP/1.1 200 OK\"\n",
      "HTTP Request: POST http://192.168.0.72:3000/v1/chat/completions \"HTTP/1.1 200 OK\"\n",
      "方鸿渐的父亲叫方鹏图。\n",
      "CPU times: user 805 ms, sys: 56.5 ms, total: 861 ms\n",
      "Wall time: 1.82 s\n"
     ]
    }
   ],
   "source": [
    "%%time\n",
    "\n",
    "streaming_response = query_engine.query(\"方鸿渐的父亲是谁，说出他的名字\")\n",
    "streaming_response.print_response_stream()\n",
    "print()"
   ]
  },
  {
   "cell_type": "code",
   "execution_count": 20,
   "id": "79e38f3b-36a8-490e-ae26-dcd3fb632738",
   "metadata": {},
   "outputs": [
    {
     "data": {
      "application/vnd.jupyter.widget-view+json": {
       "model_id": "03cc922bdb8241fd91080659b183dbb5",
       "version_major": 2,
       "version_minor": 0
      },
      "text/plain": [
       "Batches:   0%|          | 0/4 [00:00<?, ?it/s]"
      ]
     },
     "metadata": {},
     "output_type": "display_data"
    },
    {
     "name": "stdout",
     "output_type": "stream",
     "text": [
      "INFO:httpx:HTTP Request: POST http://192.168.0.72:3000/v1/chat/completions \"HTTP/1.1 200 OK\"\n",
      "HTTP Request: POST http://192.168.0.72:3000/v1/chat/completions \"HTTP/1.1 200 OK\"\n",
      "方鸿渐的父亲叫方豚翁。\n",
      "CPU times: user 849 ms, sys: 0 ns, total: 849 ms\n",
      "Wall time: 1.81 s\n"
     ]
    }
   ],
   "source": [
    "%%time\n",
    "\n",
    "streaming_response = query_engine.query(\"方鸿渐的父亲是谁，说出他的名字，名字好像带一个翁字\")\n",
    "streaming_response.print_response_stream()\n",
    "print()"
   ]
  },
  {
   "cell_type": "code",
   "execution_count": 21,
   "id": "fb8dad7a-36b5-43bc-8ba3-c15d7bc73dad",
   "metadata": {},
   "outputs": [
    {
     "data": {
      "application/vnd.jupyter.widget-view+json": {
       "model_id": "b5fab2209b054b3991686b2a64408a43",
       "version_major": 2,
       "version_minor": 0
      },
      "text/plain": [
       "Batches:   0%|          | 0/4 [00:00<?, ?it/s]"
      ]
     },
     "metadata": {},
     "output_type": "display_data"
    },
    {
     "name": "stdout",
     "output_type": "stream",
     "text": [
      "INFO:httpx:HTTP Request: POST http://192.168.0.72:3000/v1/chat/completions \"HTTP/1.1 200 OK\"\n",
      "HTTP Request: POST http://192.168.0.72:3000/v1/chat/completions \"HTTP/1.1 200 OK\"\n",
      "文中提到的“局部真理”可能是指孙小姐说有事到教授宿舍来时，那一瞬间鸿渐对她的话并没有太在意，直到后来她有所行动或表达了某个观点，才意识到其含义或重要性。这可以理解为话语的意义在最初可能并不明显，但随着时间的推移或情境的变化，其真实含义逐渐显现出来，就像陌生的猫“喵”叫一样，让人注意到它的存在。这里的“局部真理”可能是指话语中隐藏的、需要一定时间和情境来理解和体会的部分含义。\n",
      "CPU times: user 949 ms, sys: 32.6 ms, total: 981 ms\n",
      "Wall time: 5.65 s\n"
     ]
    }
   ],
   "source": [
    "%%time\n",
    "\n",
    "streaming_response = query_engine.query(\"文中提到的局部真理是啥意思\")\n",
    "streaming_response.print_response_stream()\n",
    "print()"
   ]
  },
  {
   "cell_type": "code",
   "execution_count": null,
   "id": "9c51346d-d5e9-4e37-bdba-c6506d0cb381",
   "metadata": {},
   "outputs": [],
   "source": []
  }
 ],
 "metadata": {
  "kernelspec": {
   "display_name": "Python 3 (ipykernel)",
   "language": "python",
   "name": "python3"
  },
  "language_info": {
   "codemirror_mode": {
    "name": "ipython",
    "version": 3
   },
   "file_extension": ".py",
   "mimetype": "text/x-python",
   "name": "python",
   "nbconvert_exporter": "python",
   "pygments_lexer": "ipython3",
   "version": "3.10.12"
  }
 },
 "nbformat": 4,
 "nbformat_minor": 5
}
