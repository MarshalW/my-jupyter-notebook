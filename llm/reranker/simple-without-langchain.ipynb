{
 "cells": [
  {
   "cell_type": "markdown",
   "id": "1972e12f-5f03-432b-843a-84b06050f8f2",
   "metadata": {},
   "source": [
    "# 不依赖langchain的实现"
   ]
  },
  {
   "cell_type": "markdown",
   "id": "7902082f-ba89-461a-9eb2-25ccfdbd90f9",
   "metadata": {},
   "source": [
    "## 需要安装的包"
   ]
  },
  {
   "cell_type": "code",
   "execution_count": 2,
   "id": "170eb933-0e1b-44aa-a50b-78f1c14247f2",
   "metadata": {},
   "outputs": [
    {
     "name": "stdout",
     "output_type": "stream",
     "text": [
      "CPU times: user 36.5 ms, sys: 5.41 ms, total: 41.9 ms\n",
      "Wall time: 12.3 s\n"
     ]
    }
   ],
   "source": [
    "%%time\n",
    "%%capture\n",
    "\n",
    "!pip install faiss-gpu\n",
    "!pip install sentence_transformers\n",
    "!pip install openai\n",
    "!pip install python-dotenv\n",
    "!pip install pandas"
   ]
  },
  {
   "cell_type": "code",
   "execution_count": 3,
   "id": "baf9969d-444f-4f44-8909-3fe4c634e370",
   "metadata": {},
   "outputs": [
    {
     "name": "stdout",
     "output_type": "stream",
     "text": [
      "CPU times: user 1.64 s, sys: 290 ms, total: 1.93 s\n",
      "Wall time: 1.61 s\n"
     ]
    }
   ],
   "source": [
    "%%time\n",
    "\n",
    "import os\n",
    "from openai import OpenAI\n",
    "import pandas as pd\n",
    "from sentence_transformers import SentenceTransformer\n",
    "import faiss\n",
    "import numpy as np"
   ]
  },
  {
   "cell_type": "markdown",
   "id": "fca5bb51-b356-4f48-a1ca-d1bafd044e6e",
   "metadata": {},
   "source": [
    "## 加载环境变量"
   ]
  },
  {
   "cell_type": "code",
   "execution_count": 4,
   "id": "303be869-e340-43c7-973d-a95bb286321e",
   "metadata": {},
   "outputs": [
    {
     "data": {
      "text/plain": [
       "'http://192.168.0.72:3000/v1'"
      ]
     },
     "execution_count": 4,
     "metadata": {},
     "output_type": "execute_result"
    }
   ],
   "source": [
    "%load_ext dotenv\n",
    "%dotenv\n",
    "\n",
    "token = os.environ.get('ONE_API_TOKEN')\n",
    "base_url=os.environ.get('ONE_API_URL')\n",
    "\n",
    "base_url"
   ]
  },
  {
   "cell_type": "markdown",
   "id": "f71542ae-5e45-47f2-9b03-3131ddeb09ac",
   "metadata": {},
   "source": [
    "## 加载嵌入模型"
   ]
  },
  {
   "cell_type": "code",
   "execution_count": 5,
   "id": "020f551c-32ee-4b36-8c6a-65efb2137f5c",
   "metadata": {},
   "outputs": [
    {
     "name": "stdout",
     "output_type": "stream",
     "text": [
      "CPU times: user 2.01 s, sys: 1.21 s, total: 3.21 s\n",
      "Wall time: 7.21 s\n"
     ]
    }
   ],
   "source": [
    "%%time\n",
    "\n",
    "encoder = SentenceTransformer(\"/models/bge-m3\")"
   ]
  },
  {
   "cell_type": "markdown",
   "id": "842cd400-0585-48db-8bd5-23aa6627dbd2",
   "metadata": {},
   "source": [
    "## 编造数据"
   ]
  },
  {
   "cell_type": "code",
   "execution_count": 6,
   "id": "62abd176-8021-4553-990e-d3eb53f317ba",
   "metadata": {},
   "outputs": [
    {
     "data": {
      "text/html": [
       "<div>\n",
       "<style scoped>\n",
       "    .dataframe tbody tr th:only-of-type {\n",
       "        vertical-align: middle;\n",
       "    }\n",
       "\n",
       "    .dataframe tbody tr th {\n",
       "        vertical-align: top;\n",
       "    }\n",
       "\n",
       "    .dataframe thead th {\n",
       "        text-align: right;\n",
       "    }\n",
       "</style>\n",
       "<table border=\"1\" class=\"dataframe\">\n",
       "  <thead>\n",
       "    <tr style=\"text-align: right;\">\n",
       "      <th></th>\n",
       "      <th>文本</th>\n",
       "      <th>分类</th>\n",
       "    </tr>\n",
       "  </thead>\n",
       "  <tbody>\n",
       "    <tr>\n",
       "      <th>0</th>\n",
       "      <td>《西游记》是中国古典小说四大名著之一，又称《大唐西游记》</td>\n",
       "      <td>小说</td>\n",
       "    </tr>\n",
       "    <tr>\n",
       "      <th>1</th>\n",
       "      <td>牛顿的主要著作是《数学原理》。这部著作于1687年首次出版，被认为是自然科学史上最重要的著作之一。</td>\n",
       "      <td>数学</td>\n",
       "    </tr>\n",
       "    <tr>\n",
       "      <th>2</th>\n",
       "      <td>东京迪斯尼乐园（Tokyo Disneyland）和东京迪士尼海洋（Tokyo Disney...</td>\n",
       "      <td>旅游</td>\n",
       "    </tr>\n",
       "    <tr>\n",
       "      <th>3</th>\n",
       "      <td>电视连续剧《西游记》（1986年版）的主题曲是《云宫迅音》。</td>\n",
       "      <td>音乐</td>\n",
       "    </tr>\n",
       "    <tr>\n",
       "      <th>4</th>\n",
       "      <td>《西游记》主要内容围绕着僧人唐僧师徒四人（唐僧、孙悟空、猪八戒和沙悟净）西天取经的故事展开。...</td>\n",
       "      <td>小说</td>\n",
       "    </tr>\n",
       "    <tr>\n",
       "      <th>5</th>\n",
       "      <td>《西游记》电视连续剧讲述了唐僧师徒四人历经千辛万苦，斗妖除魔，取经西天的壮举，以及他们之间深...</td>\n",
       "      <td>电视剧</td>\n",
       "    </tr>\n",
       "  </tbody>\n",
       "</table>\n",
       "</div>"
      ],
      "text/plain": [
       "                                                  文本   分类\n",
       "0                       《西游记》是中国古典小说四大名著之一，又称《大唐西游记》   小说\n",
       "1  牛顿的主要著作是《数学原理》。这部著作于1687年首次出版，被认为是自然科学史上最重要的著作之一。   数学\n",
       "2  东京迪斯尼乐园（Tokyo Disneyland）和东京迪士尼海洋（Tokyo Disney...   旅游\n",
       "3                     电视连续剧《西游记》（1986年版）的主题曲是《云宫迅音》。   音乐\n",
       "4  《西游记》主要内容围绕着僧人唐僧师徒四人（唐僧、孙悟空、猪八戒和沙悟净）西天取经的故事展开。...   小说\n",
       "5  《西游记》电视连续剧讲述了唐僧师徒四人历经千辛万苦，斗妖除魔，取经西天的壮举，以及他们之间深...  电视剧"
      ]
     },
     "execution_count": 6,
     "metadata": {},
     "output_type": "execute_result"
    }
   ],
   "source": [
    "data = [['《西游记》是中国古典小说四大名著之一，又称《大唐西游记》', '小说'],\n",
    "['牛顿的主要著作是《数学原理》。这部著作于1687年首次出版，被认为是自然科学史上最重要的著作之一。', '数学'],\n",
    "['东京迪斯尼乐园（Tokyo Disneyland）和东京迪士尼海洋（Tokyo DisneySea）是东京都内的两座迪士尼度假区。', '旅游'],\n",
    "['电视连续剧《西游记》（1986年版）的主题曲是《云宫迅音》。', '音乐'],\n",
    "['《西游记》主要内容围绕着僧人唐僧师徒四人（唐僧、孙悟空、猪八戒和沙悟净）西天取经的故事展开。他们历经九九八十一难，克服了各种艰险和困难，最终到达印度取回佛经。', '小说'],\n",
    "['《西游记》电视连续剧讲述了唐僧师徒四人历经千辛万苦，斗妖除魔，取经西天的壮举，以及他们之间深厚的师徒情谊和对信仰与人性的思考。','电视剧']]\n",
    "df = pd.DataFrame(data, columns = ['文本', '分类'])\n",
    "\n",
    "df"
   ]
  },
  {
   "cell_type": "markdown",
   "id": "d211774f-7335-4af4-8e63-8db8db28aba0",
   "metadata": {},
   "source": [
    "## 创建向量"
   ]
  },
  {
   "cell_type": "markdown",
   "id": "f6fd835a-afd1-478f-9938-8cafe844f73d",
   "metadata": {},
   "source": [
    "简化处理，取消文档分片过程。"
   ]
  },
  {
   "cell_type": "code",
   "execution_count": 7,
   "id": "4891c022-cb93-496b-8720-989b44a762a8",
   "metadata": {},
   "outputs": [
    {
     "name": "stdout",
     "output_type": "stream",
     "text": [
      "CPU times: user 537 ms, sys: 48 ms, total: 585 ms\n",
      "Wall time: 588 ms\n"
     ]
    }
   ],
   "source": [
    "%%time\n",
    "\n",
    "text = df['文本']\n",
    "vectors = encoder.encode(text)"
   ]
  },
  {
   "cell_type": "markdown",
   "id": "53abd5c5-fb74-4f8e-b12c-cc39edacf9c3",
   "metadata": {},
   "source": [
    "## 创建faiss索引"
   ]
  },
  {
   "cell_type": "code",
   "execution_count": 8,
   "id": "abb9a83c-d623-4f6c-b975-c4552ad23d36",
   "metadata": {},
   "outputs": [
    {
     "name": "stdout",
     "output_type": "stream",
     "text": [
      "CPU times: user 2.66 ms, sys: 0 ns, total: 2.66 ms\n",
      "Wall time: 1.32 ms\n"
     ]
    }
   ],
   "source": [
    "%%time\n",
    "\n",
    "vector_dimension = vectors.shape[1] # 1024\n",
    "index = faiss.IndexFlatL2(vector_dimension)\n",
    "faiss.normalize_L2(vectors)\n",
    "index.add(vectors)"
   ]
  },
  {
   "cell_type": "markdown",
   "id": "f5544121-7347-4b00-bb02-26c67e8bc2a2",
   "metadata": {},
   "source": [
    "## 创建查询向量"
   ]
  },
  {
   "cell_type": "code",
   "execution_count": 9,
   "id": "ed0f7b0b-1cd8-4e8d-97d2-2522bb5d9df2",
   "metadata": {},
   "outputs": [
    {
     "name": "stdout",
     "output_type": "stream",
     "text": [
      "CPU times: user 20.2 ms, sys: 4.12 ms, total: 24.3 ms\n",
      "Wall time: 26.4 ms\n"
     ]
    }
   ],
   "source": [
    "%%time\n",
    "\n",
    "search_text = '西游记演了啥?'\n",
    "search_vector = encoder.encode(search_text)\n",
    "_vector = np.array([search_vector])\n",
    "faiss.normalize_L2(_vector)"
   ]
  },
  {
   "cell_type": "markdown",
   "id": "c9c5ec72-978f-49b6-853b-3abebb46dbe1",
   "metadata": {},
   "source": [
    "## 搜索最近相邻"
   ]
  },
  {
   "cell_type": "code",
   "execution_count": 20,
   "id": "a94c69d7-cf61-41da-b81f-d4492c2876bd",
   "metadata": {},
   "outputs": [
    {
     "name": "stdout",
     "output_type": "stream",
     "text": [
      "CPU times: user 2.38 ms, sys: 0 ns, total: 2.38 ms\n",
      "Wall time: 2.52 ms\n"
     ]
    },
    {
     "data": {
      "text/html": [
       "<div>\n",
       "<style scoped>\n",
       "    .dataframe tbody tr th:only-of-type {\n",
       "        vertical-align: middle;\n",
       "    }\n",
       "\n",
       "    .dataframe tbody tr th {\n",
       "        vertical-align: top;\n",
       "    }\n",
       "\n",
       "    .dataframe thead th {\n",
       "        text-align: right;\n",
       "    }\n",
       "</style>\n",
       "<table border=\"1\" class=\"dataframe\">\n",
       "  <thead>\n",
       "    <tr style=\"text-align: right;\">\n",
       "      <th></th>\n",
       "      <th>distances</th>\n",
       "      <th>ann</th>\n",
       "      <th>文本</th>\n",
       "      <th>分类</th>\n",
       "    </tr>\n",
       "  </thead>\n",
       "  <tbody>\n",
       "    <tr>\n",
       "      <th>0</th>\n",
       "      <td>0.571907</td>\n",
       "      <td>4</td>\n",
       "      <td>《西游记》主要内容围绕着僧人唐僧师徒四人（唐僧、孙悟空、猪八戒和沙悟净）西天取经的故事展开。...</td>\n",
       "      <td>小说</td>\n",
       "    </tr>\n",
       "    <tr>\n",
       "      <th>1</th>\n",
       "      <td>0.603106</td>\n",
       "      <td>5</td>\n",
       "      <td>《西游记》电视连续剧讲述了唐僧师徒四人历经千辛万苦，斗妖除魔，取经西天的壮举，以及他们之间深...</td>\n",
       "      <td>电视剧</td>\n",
       "    </tr>\n",
       "    <tr>\n",
       "      <th>2</th>\n",
       "      <td>0.698558</td>\n",
       "      <td>0</td>\n",
       "      <td>《西游记》是中国古典小说四大名著之一，又称《大唐西游记》</td>\n",
       "      <td>小说</td>\n",
       "    </tr>\n",
       "  </tbody>\n",
       "</table>\n",
       "</div>"
      ],
      "text/plain": [
       "   distances  ann                                                 文本   分类\n",
       "0   0.571907    4  《西游记》主要内容围绕着僧人唐僧师徒四人（唐僧、孙悟空、猪八戒和沙悟净）西天取经的故事展开。...   小说\n",
       "1   0.603106    5  《西游记》电视连续剧讲述了唐僧师徒四人历经千辛万苦，斗妖除魔，取经西天的壮举，以及他们之间深...  电视剧\n",
       "2   0.698558    0                       《西游记》是中国古典小说四大名著之一，又称《大唐西游记》   小说"
      ]
     },
     "execution_count": 20,
     "metadata": {},
     "output_type": "execute_result"
    }
   ],
   "source": [
    "%%time\n",
    "\n",
    "distances, ann = index.search(_vector, k=3)\n",
    "\n",
    "results = pd.DataFrame({'distances': distances[0], 'ann': ann[0]})\n",
    "\n",
    "merge=pd.merge(results,df,left_on='ann',right_index=True)\n",
    "merge"
   ]
  },
  {
   "cell_type": "code",
   "execution_count": 10,
   "id": "9f0f5dd8-5a55-4bda-85eb-5c4e0f8e3fee",
   "metadata": {},
   "outputs": [
    {
     "data": {
      "text/plain": [
       "array(['《西游记》主要内容围绕着僧人唐僧师徒四人（唐僧、孙悟空、猪八戒和沙悟净）西天取经的故事展开。他们历经九九八十一难，克服了各种艰险和困难，最终到达印度取回佛经。',\n",
       "       '《西游记》电视连续剧讲述了唐僧师徒四人历经千辛万苦，斗妖除魔，取经西天的壮举，以及他们之间深厚的师徒情谊和对信仰与人性的思考。',\n",
       "       '《西游记》是中国古典小说四大名著之一，又称《大唐西游记》'], dtype=object)"
      ]
     },
     "execution_count": 10,
     "metadata": {},
     "output_type": "execute_result"
    }
   ],
   "source": [
    "merge['文本'].values"
   ]
  },
  {
   "cell_type": "markdown",
   "id": "630c394d-7f72-4b28-adac-51bafd2d527d",
   "metadata": {},
   "source": [
    "## reranker"
   ]
  },
  {
   "cell_type": "code",
   "execution_count": 11,
   "id": "51c4a7ad-b79f-45df-9349-36bb9f6143e0",
   "metadata": {},
   "outputs": [
    {
     "data": {
      "text/plain": [
       "[['西游记演了啥?',\n",
       "  '《西游记》主要内容围绕着僧人唐僧师徒四人（唐僧、孙悟空、猪八戒和沙悟净）西天取经的故事展开。他们历经九九八十一难，克服了各种艰险和困难，最终到达印度取回佛经。'],\n",
       " ['西游记演了啥?',\n",
       "  '《西游记》电视连续剧讲述了唐僧师徒四人历经千辛万苦，斗妖除魔，取经西天的壮举，以及他们之间深厚的师徒情谊和对信仰与人性的思考。'],\n",
       " ['西游记演了啥?', '《西游记》是中国古典小说四大名著之一，又称《大唐西游记》']]"
      ]
     },
     "execution_count": 11,
     "metadata": {},
     "output_type": "execute_result"
    }
   ],
   "source": [
    "merged_items = [[search_text, x] for x in merge['文本'].values]\n",
    "merged_items"
   ]
  },
  {
   "cell_type": "code",
   "execution_count": 13,
   "id": "9d83c680-d58a-4c86-8319-d4bf62f21d0b",
   "metadata": {},
   "outputs": [
    {
     "name": "stdout",
     "output_type": "stream",
     "text": [
      "CPU times: user 1.18 s, sys: 1.03 s, total: 2.21 s\n",
      "Wall time: 10.9 s\n"
     ]
    },
    {
     "data": {
      "text/plain": [
       "XLMRobertaForSequenceClassification(\n",
       "  (roberta): XLMRobertaModel(\n",
       "    (embeddings): XLMRobertaEmbeddings(\n",
       "      (word_embeddings): Embedding(250002, 1024, padding_idx=1)\n",
       "      (position_embeddings): Embedding(8194, 1024, padding_idx=1)\n",
       "      (token_type_embeddings): Embedding(1, 1024)\n",
       "      (LayerNorm): LayerNorm((1024,), eps=1e-05, elementwise_affine=True)\n",
       "      (dropout): Dropout(p=0.1, inplace=False)\n",
       "    )\n",
       "    (encoder): XLMRobertaEncoder(\n",
       "      (layer): ModuleList(\n",
       "        (0-23): 24 x XLMRobertaLayer(\n",
       "          (attention): XLMRobertaAttention(\n",
       "            (self): XLMRobertaSelfAttention(\n",
       "              (query): Linear(in_features=1024, out_features=1024, bias=True)\n",
       "              (key): Linear(in_features=1024, out_features=1024, bias=True)\n",
       "              (value): Linear(in_features=1024, out_features=1024, bias=True)\n",
       "              (dropout): Dropout(p=0.1, inplace=False)\n",
       "            )\n",
       "            (output): XLMRobertaSelfOutput(\n",
       "              (dense): Linear(in_features=1024, out_features=1024, bias=True)\n",
       "              (LayerNorm): LayerNorm((1024,), eps=1e-05, elementwise_affine=True)\n",
       "              (dropout): Dropout(p=0.1, inplace=False)\n",
       "            )\n",
       "          )\n",
       "          (intermediate): XLMRobertaIntermediate(\n",
       "            (dense): Linear(in_features=1024, out_features=4096, bias=True)\n",
       "            (intermediate_act_fn): GELUActivation()\n",
       "          )\n",
       "          (output): XLMRobertaOutput(\n",
       "            (dense): Linear(in_features=4096, out_features=1024, bias=True)\n",
       "            (LayerNorm): LayerNorm((1024,), eps=1e-05, elementwise_affine=True)\n",
       "            (dropout): Dropout(p=0.1, inplace=False)\n",
       "          )\n",
       "        )\n",
       "      )\n",
       "    )\n",
       "  )\n",
       "  (classifier): XLMRobertaClassificationHead(\n",
       "    (dense): Linear(in_features=1024, out_features=1024, bias=True)\n",
       "    (dropout): Dropout(p=0.1, inplace=False)\n",
       "    (out_proj): Linear(in_features=1024, out_features=1, bias=True)\n",
       "  )\n",
       ")"
      ]
     },
     "execution_count": 13,
     "metadata": {},
     "output_type": "execute_result"
    }
   ],
   "source": [
    "%%time\n",
    "%%capture\n",
    "\n",
    "import torch\n",
    "from transformers import AutoModelForSequenceClassification, AutoTokenizer\n",
    "\n",
    "tokenizer = AutoTokenizer.from_pretrained('/models/bge-reranker-v2-m3')\n",
    "model = AutoModelForSequenceClassification.from_pretrained('/models/bge-reranker-v2-m3')\n",
    "model.eval()"
   ]
  },
  {
   "cell_type": "code",
   "execution_count": 19,
   "id": "438eca3f-1494-46fe-bd4d-ad26988aa268",
   "metadata": {},
   "outputs": [
    {
     "name": "stdout",
     "output_type": "stream",
     "text": [
      "tensor([ 0.3166, -0.2007, -2.1656])\n",
      "CPU times: user 1.97 s, sys: 0 ns, total: 1.97 s\n",
      "Wall time: 508 ms\n"
     ]
    }
   ],
   "source": [
    "%%time\n",
    "\n",
    "with torch.no_grad():\n",
    "    inputs = tokenizer(merged_items, padding=True, truncation=True, return_tensors='pt', max_length=512)\n",
    "    scores = model(**inputs, return_dict=True).logits.view(-1, ).float()\n",
    "    print(scores)"
   ]
  },
  {
   "cell_type": "markdown",
   "id": "a7c934b5-5de6-46df-84c6-974fa166257e",
   "metadata": {},
   "source": [
    "## LLM 生成回答"
   ]
  },
  {
   "cell_type": "markdown",
   "id": "3cdb635d-17bb-415b-b180-d1b5831ef579",
   "metadata": {},
   "source": [
    "TODO: 没有直接使用 reranker的数据，而是手动取前两条数据"
   ]
  },
  {
   "cell_type": "code",
   "execution_count": 21,
   "id": "59fe0cc0-164e-46c6-9ac1-91dd253dbffb",
   "metadata": {},
   "outputs": [
    {
     "name": "stdout",
     "output_type": "stream",
     "text": [
      "我是小羽，来自羽胜科技。我是一个大型语言模型，被设计用来回答各种问题、提供信息和进行对话。有什么可以帮助你的吗？"
     ]
    }
   ],
   "source": [
    "client = OpenAI(api_key=token, base_url=base_url)\n",
    "\n",
    "def process_stream(stream):\n",
    "    for chunk in stream:\n",
    "        if chunk.choices[0].delta.content is not None:\n",
    "            print(chunk.choices[0].delta.content, end=\"\")\n",
    "\n",
    "stream = client.chat.completions.create(\n",
    "    model=\"xiaoyu\",\n",
    "    messages=[{\"role\": \"user\", \"content\": \"你谁啊？\"}],\n",
    "    stream=True,\n",
    ")\n",
    "\n",
    "process_stream(stream)"
   ]
  },
  {
   "cell_type": "code",
   "execution_count": 22,
   "id": "39973301-1a97-4c3a-a76b-ba0a9e7d0cee",
   "metadata": {},
   "outputs": [
    {
     "data": {
      "text/plain": [
       "'这是有关游戏的回答上下文。'"
      ]
     },
     "execution_count": 22,
     "metadata": {},
     "output_type": "execute_result"
    }
   ],
   "source": [
    "str='这是有关{topic}的回答上下文。'\n",
    "topic='游戏'\n",
    "str.format(topic=topic)"
   ]
  },
  {
   "cell_type": "code",
   "execution_count": 26,
   "id": "58a42e14-0df5-4538-9e74-322377e0e363",
   "metadata": {},
   "outputs": [
    {
     "name": "stdout",
     "output_type": "stream",
     "text": [
      "《西游记》电视连续剧主要讲述了唐僧师徒四人（唐僧、孙悟空、猪八戒和沙悟净）取经的故事，他们在取经过程中面对各种妖怪和困难，展现了他们的勇气、智慧和团队合作精神。电视剧着重描绘了他们之间的师徒情谊以及对信仰和人性的深刻探讨。"
     ]
    }
   ],
   "source": [
    "prompt=\"\"\"\n",
    "Answer the following question based only on the provided context:\n",
    "<context>\n",
    "{context}\n",
    "</context>\n",
    "\n",
    "Question: {input}\n",
    "\"\"\"\n",
    "\n",
    "input='西游记演了啥?'\n",
    "context=[\n",
    "    '西游记》主要内容围绕着僧人唐僧师徒四人（唐僧、孙悟空、猪八戒和沙悟净）西天取经的故事展开。他们历经九九八十一难，克服了各种艰险和困难，最终到达印度取回佛经。',\n",
    "    '《西游记》电视连续剧讲述了唐僧师徒四人历经千辛万苦，斗妖除魔，取经西天的壮举，以及他们之间深厚的师徒情谊和对信仰与人性的思考。'\n",
    "]\n",
    "context = '\\n'.join(context)\n",
    "\n",
    "stream = client.chat.completions.create(\n",
    "    model=\"xiaoyu\",\n",
    "    messages=[{\"role\": \"user\", \"content\": prompt.format(input=input,context=context)}],\n",
    "    stream=True,\n",
    ")\n",
    "\n",
    "process_stream(stream)"
   ]
  },
  {
   "cell_type": "code",
   "execution_count": null,
   "id": "6b9b4fa5-40d5-445f-90a7-1b2291aab39b",
   "metadata": {},
   "outputs": [],
   "source": []
  }
 ],
 "metadata": {
  "kernelspec": {
   "display_name": "Python 3 (ipykernel)",
   "language": "python",
   "name": "python3"
  },
  "language_info": {
   "codemirror_mode": {
    "name": "ipython",
    "version": 3
   },
   "file_extension": ".py",
   "mimetype": "text/x-python",
   "name": "python",
   "nbconvert_exporter": "python",
   "pygments_lexer": "ipython3",
   "version": "3.10.12"
  }
 },
 "nbformat": 4,
 "nbformat_minor": 5
}
