{
 "cells": [
  {
   "cell_type": "markdown",
   "id": "b95b1584-ada8-468e-bf72-581e1ebfa392",
   "metadata": {},
   "source": [
    "# Obsidian 笔记时发现问题的测试"
   ]
  },
  {
   "cell_type": "markdown",
   "id": "3289e17d-b1a1-4fec-a858-4b11446ccadc",
   "metadata": {},
   "source": [
    "碰到的问题是：\n",
    "\n",
    "- refresh doc，笔记改名或者移动目录，旧索引记录不被删除\n",
    "\n",
    "总结：\n",
    "\n",
    "- 修改doc内容，正常更新\n",
    "- 未refresh的doc，不会删除\n",
    "- doc修改了id，被当作新的doc加入"
   ]
  },
  {
   "cell_type": "markdown",
   "id": "1e809e28-435a-449b-8bf4-d2b91fd14ef7",
   "metadata": {},
   "source": [
    "## 全局设置"
   ]
  },
  {
   "cell_type": "code",
   "execution_count": 1,
   "id": "30e3faae-fb8a-4f3f-8ab4-626e489bd54e",
   "metadata": {},
   "outputs": [
    {
     "name": "stdout",
     "output_type": "stream",
     "text": [
      "CPU times: user 2.16 s, sys: 272 ms, total: 2.44 s\n",
      "Wall time: 2.06 s\n"
     ]
    }
   ],
   "source": [
    "%%time\n",
    "\n",
    "from llama_index.core import Settings\n",
    "from llama_index.llms.ollama import Ollama\n",
    "from llama_index.embeddings.ollama import OllamaEmbedding\n",
    "\n",
    "Settings.llm=Ollama(\n",
    "    base_url=\"http://ape:11434\",\n",
    "    model=\"qwen2\",\n",
    "    is_chat_model=True,\n",
    "    temperature=0.1,\n",
    "    request_timeout=60.0\n",
    ")\n",
    "\n",
    "Settings.embed_model = OllamaEmbedding(\n",
    "    model_name=\"quentinz/bge-large-zh-v1.5\",\n",
    "    base_url=\"http://ape:11434\",\n",
    "    ollama_additional_kwargs={\"mirostat\": 0}, # -mirostat N 使用 Mirostat 采样。\n",
    ")"
   ]
  },
  {
   "cell_type": "markdown",
   "id": "e3ec6321-d915-4291-9205-d2766fb2902d",
   "metadata": {},
   "source": [
    "## 手动创建文档"
   ]
  },
  {
   "cell_type": "code",
   "execution_count": 2,
   "id": "70d8a9f1-38fa-4c7a-a8e4-8d62b81afd6a",
   "metadata": {},
   "outputs": [
    {
     "name": "stdout",
     "output_type": "stream",
     "text": [
      "CPU times: user 69 µs, sys: 0 ns, total: 69 µs\n",
      "Wall time: 71.3 µs\n"
     ]
    },
    {
     "data": {
      "text/plain": [
       "'doc_01'"
      ]
     },
     "execution_count": 2,
     "metadata": {},
     "output_type": "execute_result"
    }
   ],
   "source": [
    "%%time\n",
    "\n",
    "from llama_index.core import Document\n",
    "\n",
    "documents = [\n",
    "    Document( text=\"test1\", doc_id=\"doc_01\"),\n",
    "    Document( text=\"test2\", doc_id=\"doc_02\"),\n",
    "    Document( text=\"test3\", doc_id=\"doc_03\"),\n",
    "]\n",
    "\n",
    "documents[0].id_"
   ]
  },
  {
   "cell_type": "markdown",
   "id": "6fd56010-1a90-47a5-a150-b6e10e01ebbd",
   "metadata": {},
   "source": [
    "## 建立索引和存储"
   ]
  },
  {
   "cell_type": "code",
   "execution_count": 3,
   "id": "d833fc96-5d01-4a3b-999a-adf05db12cdf",
   "metadata": {},
   "outputs": [
    {
     "name": "stdout",
     "output_type": "stream",
     "text": [
      "CPU times: user 203 ms, sys: 32.3 ms, total: 235 ms\n",
      "Wall time: 536 ms\n"
     ]
    }
   ],
   "source": [
    "%%time\n",
    "\n",
    "from llama_index.core import VectorStoreIndex\n",
    "\n",
    "index = VectorStoreIndex.from_documents(documents)"
   ]
  },
  {
   "cell_type": "code",
   "execution_count": 4,
   "id": "afea7593-bcde-47cd-af78-3c320befd03c",
   "metadata": {},
   "outputs": [
    {
     "name": "stdout",
     "output_type": "stream",
     "text": [
      "CPU times: user 12 ms, sys: 537 µs, total: 12.5 ms\n",
      "Wall time: 11.8 ms\n"
     ]
    }
   ],
   "source": [
    "%%time\n",
    "\n",
    "index.storage_context.persist()"
   ]
  },
  {
   "cell_type": "markdown",
   "id": "5b56e7b2-fd2f-45a3-bcc0-2abaae2e5bb0",
   "metadata": {},
   "source": [
    "## 修改文档内容 - ok"
   ]
  },
  {
   "cell_type": "code",
   "execution_count": 5,
   "id": "1df1d145-f748-45b1-9ccd-6ab750143dc2",
   "metadata": {},
   "outputs": [
    {
     "name": "stdout",
     "output_type": "stream",
     "text": [
      "CPU times: user 463 µs, sys: 4.05 ms, total: 4.51 ms\n",
      "Wall time: 55.6 ms\n"
     ]
    },
    {
     "data": {
      "text/plain": [
       "[False, False, True]"
      ]
     },
     "execution_count": 5,
     "metadata": {},
     "output_type": "execute_result"
    }
   ],
   "source": [
    "%%time\n",
    "\n",
    "documents = [\n",
    "    Document( text=\"test1\", doc_id=\"doc_01\"),\n",
    "    Document( text=\"test2\", doc_id=\"doc_02\"),\n",
    "    Document( text=\"test300\", doc_id=\"doc_03\"),\n",
    "]\n",
    "\n",
    "status = index.refresh_ref_docs(documents)\n",
    "\n",
    "status"
   ]
  },
  {
   "cell_type": "markdown",
   "id": "04ab6634-2777-4876-9c14-db7ddbedd9fa",
   "metadata": {},
   "source": [
    "## 删除文档 - 索引中仍存在"
   ]
  },
  {
   "cell_type": "code",
   "execution_count": 6,
   "id": "1512f4bd-a779-4d8f-86e6-54bc3aef6512",
   "metadata": {},
   "outputs": [
    {
     "name": "stdout",
     "output_type": "stream",
     "text": [
      "CPU times: user 93 µs, sys: 13 µs, total: 106 µs\n",
      "Wall time: 109 µs\n"
     ]
    },
    {
     "data": {
      "text/plain": [
       "[False, False]"
      ]
     },
     "execution_count": 6,
     "metadata": {},
     "output_type": "execute_result"
    }
   ],
   "source": [
    "%%time\n",
    "\n",
    "documents = [\n",
    "    Document( text=\"test1\", doc_id=\"doc_01\"),\n",
    "    Document( text=\"test2\", doc_id=\"doc_02\"),\n",
    "    # Document( text=\"test3\", doc_id=\"doc_0300\"),\n",
    "]\n",
    "\n",
    "status = index.refresh_ref_docs(documents)\n",
    "\n",
    "status"
   ]
  },
  {
   "cell_type": "code",
   "execution_count": 7,
   "id": "ce5a7459-0a01-4191-9707-950caa8887d7",
   "metadata": {},
   "outputs": [
    {
     "name": "stdout",
     "output_type": "stream",
     "text": [
      "CPU times: user 214 µs, sys: 30 µs, total: 244 µs\n",
      "Wall time: 226 µs\n"
     ]
    },
    {
     "data": {
      "text/plain": [
       "['5c335419-aa2c-4cea-b35c-0a91957d6b6d',\n",
       " '2bf9031e-69ef-45e0-a4f5-50548ed62655',\n",
       " '89b6d84f-44d4-4fb1-8f90-a81a1ea63545']"
      ]
     },
     "execution_count": 7,
     "metadata": {},
     "output_type": "execute_result"
    }
   ],
   "source": [
    "%%time\n",
    "\n",
    "import json\n",
    "\n",
    "file_path = './storage/docstore.json'\n",
    "\n",
    "with open(file_path, 'r', encoding='utf-8') as file:\n",
    "    data = json.load(file)\n",
    "\n",
    "list(data.get('docstore/data', {}).keys())"
   ]
  },
  {
   "cell_type": "code",
   "execution_count": 8,
   "id": "6c0ff9fc-bc2a-4627-b400-e171602f29ef",
   "metadata": {},
   "outputs": [
    {
     "name": "stdout",
     "output_type": "stream",
     "text": [
      "CPU times: user 11.8 ms, sys: 0 ns, total: 11.8 ms\n",
      "Wall time: 11.1 ms\n"
     ]
    }
   ],
   "source": [
    "%%time\n",
    "\n",
    "index.storage_context.persist()"
   ]
  },
  {
   "cell_type": "code",
   "execution_count": 9,
   "id": "5f0d0ddb-e8a3-4ade-9492-aa68714418f5",
   "metadata": {},
   "outputs": [
    {
     "name": "stdout",
     "output_type": "stream",
     "text": [
      "CPU times: user 575 µs, sys: 0 ns, total: 575 µs\n",
      "Wall time: 468 µs\n"
     ]
    },
    {
     "data": {
      "text/plain": [
       "['5c335419-aa2c-4cea-b35c-0a91957d6b6d',\n",
       " '2bf9031e-69ef-45e0-a4f5-50548ed62655',\n",
       " '9f0cfa71-0bac-4c1b-b45d-3c05f2d975a1']"
      ]
     },
     "execution_count": 9,
     "metadata": {},
     "output_type": "execute_result"
    }
   ],
   "source": [
    "%%time\n",
    "\n",
    "with open(file_path, 'r', encoding='utf-8') as file:\n",
    "    data = json.load(file)\n",
    "\n",
    "list(data.get('docstore/data', {}).keys())"
   ]
  },
  {
   "cell_type": "markdown",
   "id": "f76066c9-d734-40f7-88b6-39197003f7f7",
   "metadata": {},
   "source": [
    "## 文档变更id - 索引中仍存在"
   ]
  },
  {
   "cell_type": "code",
   "execution_count": 10,
   "id": "3f4fe61d-0aaa-4266-8995-0a3c7582550d",
   "metadata": {},
   "outputs": [
    {
     "name": "stdout",
     "output_type": "stream",
     "text": [
      "CPU times: user 4.51 ms, sys: 0 ns, total: 4.51 ms\n",
      "Wall time: 107 ms\n"
     ]
    },
    {
     "data": {
      "text/plain": [
       "[False, True]"
      ]
     },
     "execution_count": 10,
     "metadata": {},
     "output_type": "execute_result"
    }
   ],
   "source": [
    "%%time\n",
    "\n",
    "documents = [\n",
    "    Document( text=\"test1\", doc_id=\"doc_01\"),\n",
    "    Document( text=\"test2\", doc_id=\"doc_002\"),\n",
    "]\n",
    "\n",
    "status = index.refresh_ref_docs(documents)\n",
    "\n",
    "status"
   ]
  },
  {
   "cell_type": "code",
   "execution_count": 11,
   "id": "bb6e729e-d0c5-4f6c-b3c1-38b0bb0d13be",
   "metadata": {},
   "outputs": [
    {
     "name": "stdout",
     "output_type": "stream",
     "text": [
      "CPU times: user 11.6 ms, sys: 3.42 ms, total: 15 ms\n",
      "Wall time: 14.7 ms\n"
     ]
    }
   ],
   "source": [
    "%%time\n",
    "\n",
    "index.storage_context.persist()"
   ]
  },
  {
   "cell_type": "code",
   "execution_count": 12,
   "id": "e2a81fdc-7950-48f8-a174-ef36b047246b",
   "metadata": {},
   "outputs": [
    {
     "name": "stdout",
     "output_type": "stream",
     "text": [
      "CPU times: user 675 µs, sys: 94 µs, total: 769 µs\n",
      "Wall time: 677 µs\n"
     ]
    },
    {
     "data": {
      "text/plain": [
       "['5c335419-aa2c-4cea-b35c-0a91957d6b6d',\n",
       " '2bf9031e-69ef-45e0-a4f5-50548ed62655',\n",
       " '9f0cfa71-0bac-4c1b-b45d-3c05f2d975a1',\n",
       " '73b7a675-8867-497a-a0c6-c096fb1f17f4']"
      ]
     },
     "execution_count": 12,
     "metadata": {},
     "output_type": "execute_result"
    }
   ],
   "source": [
    "%%time\n",
    "\n",
    "with open(file_path, 'r', encoding='utf-8') as file:\n",
    "    data = json.load(file)\n",
    "\n",
    "list(data.get('docstore/data', {}).keys())"
   ]
  },
  {
   "cell_type": "code",
   "execution_count": null,
   "id": "ac22575d-9545-4147-8838-dd37754634b6",
   "metadata": {},
   "outputs": [],
   "source": []
  }
 ],
 "metadata": {
  "kernelspec": {
   "display_name": "Python 3 (ipykernel)",
   "language": "python",
   "name": "python3"
  },
  "language_info": {
   "codemirror_mode": {
    "name": "ipython",
    "version": 3
   },
   "file_extension": ".py",
   "mimetype": "text/x-python",
   "name": "python",
   "nbconvert_exporter": "python",
   "pygments_lexer": "ipython3",
   "version": "3.10.12"
  }
 },
 "nbformat": 4,
 "nbformat_minor": 5
}
