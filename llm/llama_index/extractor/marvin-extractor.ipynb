{
 "cells": [
  {
   "cell_type": "markdown",
   "id": "62344c82-df8c-4bbd-b67f-c1703293eb7f",
   "metadata": {},
   "source": [
    "# marvin extractor"
   ]
  },
  {
   "cell_type": "markdown",
   "id": "21a8414a-a735-4a84-b0c5-799107bdeffb",
   "metadata": {},
   "source": [
    "[[Bug]: Marvin Metadata Extractor Demo code not working #13360](https://github.com/run-llama/llama_index/issues/13360)\n",
    "\n",
    "是个bug，等待修好"
   ]
  },
  {
   "cell_type": "code",
   "execution_count": 5,
   "id": "5f76eef5-c4cc-478c-baca-c9150898a5c7",
   "metadata": {},
   "outputs": [
    {
     "name": "stdout",
     "output_type": "stream",
     "text": [
      "CPU times: user 13.2 ms, sys: 19.2 ms, total: 32.4 ms\n",
      "Wall time: 6.78 s\n"
     ]
    }
   ],
   "source": [
    "%%time\n",
    "%%capture\n",
    "\n",
    "%pip install llama-index-extractors-marvin\n",
    "%pip install marvin"
   ]
  },
  {
   "cell_type": "code",
   "execution_count": 2,
   "id": "7fff97b7-930f-406b-a995-a5c4302329b5",
   "metadata": {},
   "outputs": [
    {
     "name": "stdout",
     "output_type": "stream",
     "text": [
      "CPU times: user 2.68 s, sys: 417 ms, total: 3.1 s\n",
      "Wall time: 2.74 s\n"
     ]
    }
   ],
   "source": [
    "%%time\n",
    "\n",
    "from llama_index.llms.openai_like import OpenAILike\n",
    "from llama_index.core import Settings\n",
    "\n",
    "llm = OpenAILike(model=\"qwen2-7b-6k\", \n",
    "                 api_base=\"http://192.168.0.72:3000/v1\", \n",
    "                 api_key=\"sk-bJP6QSnUfjAYeYeE505d3eBf63A643BeB0B8E350Df9b7750\",\n",
    "                 is_chat_model=True,\n",
    "                 temperature=0.1\n",
    "                )\n",
    "Settings.llm=llm"
   ]
  },
  {
   "cell_type": "code",
   "execution_count": 3,
   "id": "c030174e-172f-42ce-b84d-81325ee37d8c",
   "metadata": {},
   "outputs": [
    {
     "name": "stdout",
     "output_type": "stream",
     "text": [
      "CPU times: user 5.29 ms, sys: 4.21 ms, total: 9.49 ms\n",
      "Wall time: 8.96 ms\n"
     ]
    },
    {
     "data": {
      "text/plain": [
       "1"
      ]
     },
     "execution_count": 3,
     "metadata": {},
     "output_type": "execute_result"
    }
   ],
   "source": [
    "%%time\n",
    "\n",
    "from llama_index.core import SimpleDirectoryReader, Document\n",
    "\n",
    "documents = SimpleDirectoryReader(input_files=[\"../iphone.txt\"]).load_data()\n",
    "len(documents)\n"
   ]
  },
  {
   "cell_type": "code",
   "execution_count": 4,
   "id": "e10ab52d-3077-4827-80bb-154ee3f2ee69",
   "metadata": {},
   "outputs": [
    {
     "name": "stdout",
     "output_type": "stream",
     "text": [
      "CPU times: user 216 ms, sys: 12.1 ms, total: 228 ms\n",
      "Wall time: 228 ms\n"
     ]
    }
   ],
   "source": [
    "%%time\n",
    "\n",
    "from llama_index.core.node_parser import SentenceSplitter\n",
    "\n",
    "sentence_splitter=SentenceSplitter()"
   ]
  },
  {
   "cell_type": "code",
   "execution_count": 13,
   "id": "99f60f76-faf1-4205-b893-3c75a781618f",
   "metadata": {},
   "outputs": [
    {
     "ename": "TypeError",
     "evalue": "metaclass conflict: the metaclass of a derived class must be a (non-strict) subclass of the metaclasses of all its bases",
     "output_type": "error",
     "traceback": [
      "\u001b[0;31m---------------------------------------------------------------------------\u001b[0m",
      "\u001b[0;31mTypeError\u001b[0m                                 Traceback (most recent call last)",
      "File \u001b[0;32m<timed exec>:7\u001b[0m\n",
      "File \u001b[0;32m/usr/local/lib/python3.10/dist-packages/marvin/ai/text.py:789\u001b[0m, in \u001b[0;36mmodel\u001b[0;34m(type_, instructions, model_kwargs, client)\u001b[0m\n\u001b[1;32m    786\u001b[0m     \u001b[38;5;28;01mreturn\u001b[39;00m WrappedModel\n\u001b[1;32m    788\u001b[0m \u001b[38;5;28;01mif\u001b[39;00m type_ \u001b[38;5;129;01mis\u001b[39;00m \u001b[38;5;129;01mnot\u001b[39;00m \u001b[38;5;28;01mNone\u001b[39;00m:\n\u001b[0;32m--> 789\u001b[0m     \u001b[38;5;28;01mreturn\u001b[39;00m \u001b[43mdecorator\u001b[49m\u001b[43m(\u001b[49m\u001b[43mtype_\u001b[49m\u001b[43m)\u001b[49m\n\u001b[1;32m    790\u001b[0m \u001b[38;5;28;01mreturn\u001b[39;00m decorator\n",
      "File \u001b[0;32m/usr/local/lib/python3.10/dist-packages/marvin/ai/text.py:773\u001b[0m, in \u001b[0;36mmodel.<locals>.decorator\u001b[0;34m(cls)\u001b[0m\n\u001b[1;32m    772\u001b[0m \u001b[38;5;28;01mdef\u001b[39;00m \u001b[38;5;21mdecorator\u001b[39m(\u001b[38;5;28mcls\u001b[39m: Type[M]) \u001b[38;5;241m-\u001b[39m\u001b[38;5;241m>\u001b[39m Type[M]:\n\u001b[0;32m--> 773\u001b[0m     \u001b[38;5;28;01mclass\u001b[39;00m \u001b[38;5;21;01mWrappedModel\u001b[39;00m(Model, \u001b[38;5;28mcls\u001b[39m):\n\u001b[1;32m    774\u001b[0m         \u001b[38;5;129m@wraps\u001b[39m(\u001b[38;5;28mcls\u001b[39m\u001b[38;5;241m.\u001b[39m\u001b[38;5;21m__init__\u001b[39m)\n\u001b[1;32m    775\u001b[0m         \u001b[38;5;28;01mdef\u001b[39;00m \u001b[38;5;21m__init__\u001b[39m(\u001b[38;5;28mself\u001b[39m, \u001b[38;5;241m*\u001b[39margs, \u001b[38;5;241m*\u001b[39m\u001b[38;5;241m*\u001b[39mkwargs):\n\u001b[1;32m    776\u001b[0m             \u001b[38;5;28msuper\u001b[39m()\u001b[38;5;241m.\u001b[39m\u001b[38;5;21m__init__\u001b[39m(\n\u001b[1;32m    777\u001b[0m                 \u001b[38;5;241m*\u001b[39margs,\n\u001b[1;32m    778\u001b[0m                 instructions\u001b[38;5;241m=\u001b[39minstructions,\n\u001b[0;32m   (...)\u001b[0m\n\u001b[1;32m    781\u001b[0m                 \u001b[38;5;241m*\u001b[39m\u001b[38;5;241m*\u001b[39mkwargs,\n\u001b[1;32m    782\u001b[0m             )\n",
      "\u001b[0;31mTypeError\u001b[0m: metaclass conflict: the metaclass of a derived class must be a (non-strict) subclass of the metaclasses of all its bases"
     ]
    }
   ],
   "source": [
    "%%time\n",
    "\n",
    "import marvin\n",
    "from marvin import ai_model\n",
    "\n",
    "from llama_index.core.bridge.pydantic import BaseModel, Field\n",
    "\n",
    "@ai_model\n",
    "class ElectronicEquipment(BaseModel):\n",
    "    name: str = Field(..., description=\"电子设备的名称\")\n",
    "    description: str = Field(\n",
    "        ..., description=\"有关这个电子设备的描述\"\n",
    "    )\n",
    "    pros_cons: str = Field(\n",
    "        ..., description=\"这个电子设备的优缺点\"\n",
    "    )"
   ]
  },
  {
   "cell_type": "code",
   "execution_count": 12,
   "id": "3f31d075-0636-4639-9c98-6bd7751cbdd7",
   "metadata": {},
   "outputs": [
    {
     "ename": "TypeError",
     "evalue": "issubclass() arg 2 must be a class, a tuple of classes, or a union",
     "output_type": "error",
     "traceback": [
      "\u001b[0;31m---------------------------------------------------------------------------\u001b[0m",
      "\u001b[0;31mTypeError\u001b[0m                                 Traceback (most recent call last)",
      "Cell \u001b[0;32mIn[12], line 4\u001b[0m\n\u001b[1;32m      1\u001b[0m \u001b[38;5;28;01mfrom\u001b[39;00m \u001b[38;5;21;01mllama_index\u001b[39;00m\u001b[38;5;21;01m.\u001b[39;00m\u001b[38;5;21;01mextractors\u001b[39;00m\u001b[38;5;21;01m.\u001b[39;00m\u001b[38;5;21;01mmarvin\u001b[39;00m \u001b[38;5;28;01mimport\u001b[39;00m MarvinMetadataExtractor\n\u001b[1;32m      3\u001b[0m \u001b[38;5;66;03m# create metadata extractor\u001b[39;00m\n\u001b[0;32m----> 4\u001b[0m metadata_extractor \u001b[38;5;241m=\u001b[39m \u001b[43mMarvinMetadataExtractor\u001b[49m\u001b[43m(\u001b[49m\n\u001b[1;32m      5\u001b[0m \u001b[43m    \u001b[49m\u001b[43mmarvin_model\u001b[49m\u001b[38;5;241;43m=\u001b[39;49m\u001b[43mElectronicEquipment\u001b[49m\n\u001b[1;32m      6\u001b[0m \u001b[43m)\u001b[49m  \u001b[38;5;66;03m# let's extract custom entities for each node.\u001b[39;00m\n\u001b[1;32m      8\u001b[0m \u001b[38;5;66;03m# use node_parser to get nodes from the documents\u001b[39;00m\n\u001b[1;32m      9\u001b[0m \u001b[38;5;28;01mfrom\u001b[39;00m \u001b[38;5;21;01mllama_index\u001b[39;00m\u001b[38;5;21;01m.\u001b[39;00m\u001b[38;5;21;01mcore\u001b[39;00m\u001b[38;5;21;01m.\u001b[39;00m\u001b[38;5;21;01mingestion\u001b[39;00m \u001b[38;5;28;01mimport\u001b[39;00m IngestionPipeline\n",
      "File \u001b[0;32m/usr/local/lib/python3.10/dist-packages/llama_index/extractors/marvin/base.py:65\u001b[0m, in \u001b[0;36mMarvinMetadataExtractor.__init__\u001b[0;34m(self, marvin_model, llm_model_string, **kwargs)\u001b[0m\n\u001b[1;32m     62\u001b[0m \u001b[38;5;28;01mimport\u001b[39;00m \u001b[38;5;21;01mmarvin\u001b[39;00m\n\u001b[1;32m     63\u001b[0m \u001b[38;5;28;01mfrom\u001b[39;00m \u001b[38;5;21;01mmarvin\u001b[39;00m \u001b[38;5;28;01mimport\u001b[39;00m ai_model\n\u001b[0;32m---> 65\u001b[0m \u001b[38;5;28;01mif\u001b[39;00m \u001b[38;5;129;01mnot\u001b[39;00m \u001b[38;5;28;43missubclass\u001b[39;49m\u001b[43m(\u001b[49m\u001b[43mmarvin_model\u001b[49m\u001b[43m,\u001b[49m\u001b[43m \u001b[49m\u001b[43mai_model\u001b[49m\u001b[43m)\u001b[49m:\n\u001b[1;32m     66\u001b[0m     \u001b[38;5;28;01mraise\u001b[39;00m \u001b[38;5;167;01mValueError\u001b[39;00m(\u001b[38;5;124m\"\u001b[39m\u001b[38;5;124mmarvin_model must be a subclass of ai_model\u001b[39m\u001b[38;5;124m\"\u001b[39m)\n\u001b[1;32m     68\u001b[0m \u001b[38;5;28;01mif\u001b[39;00m llm_model_string:\n",
      "\u001b[0;31mTypeError\u001b[0m: issubclass() arg 2 must be a class, a tuple of classes, or a union"
     ]
    }
   ],
   "source": [
    "from llama_index.extractors.marvin import MarvinMetadataExtractor\n",
    "\n",
    "# create metadata extractor\n",
    "metadata_extractor = MarvinMetadataExtractor(\n",
    "    marvin_model=ElectronicEquipment\n",
    ")  # let's extract custom entities for each node.\n",
    "\n",
    "# use node_parser to get nodes from the documents\n",
    "from llama_index.core.ingestion import IngestionPipeline\n",
    "\n",
    "pipeline = IngestionPipeline(transformations=[sentence_splitter, metadata_extractor])\n",
    "\n",
    "nodes = pipeline.run(documents=documents, show_progress=True)"
   ]
  },
  {
   "cell_type": "code",
   "execution_count": null,
   "id": "adb888db-0082-4910-88f6-e4b62bc8121c",
   "metadata": {},
   "outputs": [],
   "source": []
  }
 ],
 "metadata": {
  "kernelspec": {
   "display_name": "Python 3 (ipykernel)",
   "language": "python",
   "name": "python3"
  },
  "language_info": {
   "codemirror_mode": {
    "name": "ipython",
    "version": 3
   },
   "file_extension": ".py",
   "mimetype": "text/x-python",
   "name": "python",
   "nbconvert_exporter": "python",
   "pygments_lexer": "ipython3",
   "version": "3.10.12"
  }
 },
 "nbformat": 4,
 "nbformat_minor": 5
}
