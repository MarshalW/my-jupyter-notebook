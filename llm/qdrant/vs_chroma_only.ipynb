{
 "cells": [
  {
   "cell_type": "markdown",
   "id": "94e5f468-6f34-4b31-bea2-5c77a9dcc153",
   "metadata": {},
   "source": [
    "# 使用 Chroma 但不适用 LlamaIndex 的比较"
   ]
  },
  {
   "cell_type": "markdown",
   "id": "fad258ca-acb6-48d9-b360-e871314e8d3b",
   "metadata": {},
   "source": [
    "结论：\n",
    "\n",
    "- 不使用LlamaIndex的情况下，得分和Qdrant是一致的\n",
    "- 问题出在LlamaIndex集成Chroma的代码上"
   ]
  },
  {
   "cell_type": "markdown",
   "id": "7b827042-7d14-476d-a631-9e684167b1a4",
   "metadata": {},
   "source": [
    "## 准备"
   ]
  },
  {
   "cell_type": "code",
   "execution_count": 1,
   "id": "17dd641a-f0b2-41d0-ae7d-23d230dc12f5",
   "metadata": {},
   "outputs": [
    {
     "name": "stdout",
     "output_type": "stream",
     "text": [
      "CPU times: user 8.72 ms, sys: 16.9 ms, total: 25.6 ms\n",
      "Wall time: 4.6 s\n"
     ]
    }
   ],
   "source": [
    "%%time\n",
    "%%capture\n",
    "\n",
    "!pip install chromadb"
   ]
  },
  {
   "cell_type": "code",
   "execution_count": 2,
   "id": "817e56d4-6362-4b95-923d-893250fcf823",
   "metadata": {},
   "outputs": [
    {
     "name": "stdout",
     "output_type": "stream",
     "text": [
      "CPU times: user 3 µs, sys: 0 ns, total: 3 µs\n",
      "Wall time: 3.81 µs\n"
     ]
    }
   ],
   "source": [
    "%%time\n",
    "\n",
    "documents = [\n",
    "    {\n",
    "        \"name\": \"围城\",\n",
    "        \"description\": \"主人公方鸿渐留学回国后，面临找工作和个人感情的种种问题。他经历了几段感情波折，包括与鲍小姐的失败婚姻和与孙柔嘉的恋情，最终与孙柔嘉结婚。但婚后生活并不如意，他在事业上也遭遇挫折，未能实现自己的理想。\",\n",
    "        \"author\": \"钱钟书\",\n",
    "    },\n",
    "    {\n",
    "        \"name\": \"故乡\",\n",
    "        \"description\": \"小说讲述了主人公“我”（即鲁迅的化身）在阔别多年后回到故乡接母亲到城里生活的故事。在故乡，他遇到了童年的玩伴闰土和老仆人杨二嫂。通过与他们的交谈和观察，主人公感受到故乡的变化和人们生活的困苦。\",\n",
    "        \"author\": \"鲁迅\",\n",
    "    },\n",
    "    {\n",
    "       \"name\": \"阿Q正传\",\n",
    "        \"description\": \"讲述了阿Q这个贫苦农民在中国封建社会中的悲惨生活。他虽然穷困潦倒，但心态自负，总是以精神胜利法来安慰自己，逃避现实的困境。然而，随着社会动荡和革命的到来，阿Q的命运变得更加悲惨，最终被误认为是革命党人而被处死。\",\n",
    "        \"author\": \"鲁迅\",\n",
    "    }, \n",
    "]"
   ]
  },
  {
   "cell_type": "code",
   "execution_count": 3,
   "id": "33aca4db-6d7e-4589-9d16-d05445bb1062",
   "metadata": {},
   "outputs": [
    {
     "name": "stdout",
     "output_type": "stream",
     "text": [
      "CPU times: user 2.29 s, sys: 391 ms, total: 2.68 s\n",
      "Wall time: 2.42 s\n"
     ]
    }
   ],
   "source": [
    "%%time\n",
    "\n",
    "# 嵌入模型\n",
    "\n",
    "from sentence_transformers import SentenceTransformer\n",
    "\n",
    "encoder = SentenceTransformer('/models/bge-small-zh-v1.5')"
   ]
  },
  {
   "cell_type": "code",
   "execution_count": 4,
   "id": "284cd303-0050-484c-9680-32091fa3d844",
   "metadata": {},
   "outputs": [
    {
     "data": {
      "text/plain": [
       "512"
      ]
     },
     "execution_count": 4,
     "metadata": {},
     "output_type": "execute_result"
    }
   ],
   "source": [
    "encoder.get_sentence_embedding_dimension()"
   ]
  },
  {
   "cell_type": "markdown",
   "id": "de7124dc-d52e-4df5-b8b2-a85a94c59e2a",
   "metadata": {},
   "source": [
    "## 使用 Chroma"
   ]
  },
  {
   "cell_type": "markdown",
   "id": "fb35d74b-53e6-4e2f-a902-5609e6b19316",
   "metadata": {},
   "source": [
    "### 设置存储位置"
   ]
  },
  {
   "cell_type": "code",
   "execution_count": 5,
   "id": "8c7ca1a7-469f-49f9-9b9e-7ac371f431d7",
   "metadata": {},
   "outputs": [
    {
     "name": "stdout",
     "output_type": "stream",
     "text": [
      "CPU times: user 509 ms, sys: 3.98 ms, total: 513 ms\n",
      "Wall time: 512 ms\n"
     ]
    }
   ],
   "source": [
    "%%time\n",
    "\n",
    "import chromadb\n",
    "\n",
    "collection_name=\"my_books\"\n",
    "\n",
    "chroma_client = chromadb.EphemeralClient() # 临时客户端，内存存储\n",
    "chroma_collection = chroma_client.create_collection(\n",
    "    name=collection_name,\n",
    "    metadata={\"hnsw:space\": \"cosine\"},\n",
    ")"
   ]
  },
  {
   "cell_type": "code",
   "execution_count": 6,
   "id": "b5ecbcb3-307e-47c6-93b3-676ee7afa933",
   "metadata": {},
   "outputs": [
    {
     "data": {
      "text/plain": [
       "0"
      ]
     },
     "execution_count": 6,
     "metadata": {},
     "output_type": "execute_result"
    }
   ],
   "source": [
    "chroma_collection.count()"
   ]
  },
  {
   "cell_type": "markdown",
   "id": "acf00ab0-f247-4994-af04-c6a7bc2c7460",
   "metadata": {},
   "source": [
    "### 向集合传入数据"
   ]
  },
  {
   "cell_type": "code",
   "execution_count": 7,
   "id": "94b2cbbe-4480-4548-bc4b-bd518eb8852c",
   "metadata": {},
   "outputs": [
    {
     "name": "stdout",
     "output_type": "stream",
     "text": [
      "CPU times: user 423 ms, sys: 71.3 ms, total: 495 ms\n",
      "Wall time: 493 ms\n"
     ]
    },
    {
     "data": {
      "text/plain": [
       "3"
      ]
     },
     "execution_count": 7,
     "metadata": {},
     "output_type": "execute_result"
    }
   ],
   "source": [
    "%%time\n",
    "\n",
    "chroma_collection.add(\n",
    "    documents=[doc[\"description\"] for doc in documents],\n",
    "    embeddings=[encoder.encode(doc[\"description\"]).tolist() for doc in documents],\n",
    "    metadatas=[{'name': doc['name'], 'author': doc['author']} for doc in documents],\n",
    "    ids=[f\"{i + 1}\" for i in range(len(documents))],\n",
    ")\n",
    "\n",
    "chroma_collection.count()"
   ]
  },
  {
   "cell_type": "markdown",
   "id": "9c594d17-87b0-49de-8fe2-c0e5323adf50",
   "metadata": {},
   "source": [
    "### 查询"
   ]
  },
  {
   "cell_type": "code",
   "execution_count": 8,
   "id": "ee94c674-0c1f-4526-837f-75e86949c950",
   "metadata": {},
   "outputs": [
    {
     "name": "stdout",
     "output_type": "stream",
     "text": [
      "CPU times: user 12.7 ms, sys: 111 µs, total: 12.9 ms\n",
      "Wall time: 11.9 ms\n"
     ]
    },
    {
     "data": {
      "text/plain": [
       "{'ids': [['1', '2', '3']],\n",
       " 'distances': [[0.3904017210006714, 0.7029688358306885, 0.727487325668335]],\n",
       " 'metadatas': [[{'author': '钱钟书', 'name': '围城'},\n",
       "   {'author': '鲁迅', 'name': '故乡'},\n",
       "   {'author': '鲁迅', 'name': '阿Q正传'}]],\n",
       " 'embeddings': None,\n",
       " 'documents': [['主人公方鸿渐留学回国后，面临找工作和个人感情的种种问题。他经历了几段感情波折，包括与鲍小姐的失败婚姻和与孙柔嘉的恋情，最终与孙柔嘉结婚。但婚后生活并不如意，他在事业上也遭遇挫折，未能实现自己的理想。',\n",
       "   '小说讲述了主人公“我”（即鲁迅的化身）在阔别多年后回到故乡接母亲到城里生活的故事。在故乡，他遇到了童年的玩伴闰土和老仆人杨二嫂。通过与他们的交谈和观察，主人公感受到故乡的变化和人们生活的困苦。',\n",
       "   '讲述了阿Q这个贫苦农民在中国封建社会中的悲惨生活。他虽然穷困潦倒，但心态自负，总是以精神胜利法来安慰自己，逃避现实的困境。然而，随着社会动荡和革命的到来，阿Q的命运变得更加悲惨，最终被误认为是革命党人而被处死。']],\n",
       " 'uris': None,\n",
       " 'data': None}"
      ]
     },
     "execution_count": 8,
     "metadata": {},
     "output_type": "execute_result"
    }
   ],
   "source": [
    "%%time\n",
    "\n",
    "results=chroma_collection.query(\n",
    "    query_embeddings=encoder.encode(\"方鸿渐\").tolist(),\n",
    "    n_results=3,\n",
    ")\n",
    "\n",
    "results"
   ]
  },
  {
   "cell_type": "code",
   "execution_count": 9,
   "id": "ac013956-7641-45b5-893c-130bbdda8e85",
   "metadata": {},
   "outputs": [
    {
     "name": "stdout",
     "output_type": "stream",
     "text": [
      "['主人公方鸿渐留学回国后，面临找工作和个人感情的种种问题。他经历了几段感情波折，包括与鲍小姐的失败婚姻和与孙柔嘉的恋情，最终与孙柔嘉结婚。但婚后生活并不如意，他在事业上也遭遇挫折，未能实现自己的理想。', '小说讲述了主人公“我”（即鲁迅的化身）在阔别多年后回到故乡接母亲到城里生活的故事。在故乡，他遇到了童年的玩伴闰土和老仆人杨二嫂。通过与他们的交谈和观察，主人公感受到故乡的变化和人们生活的困苦。', '讲述了阿Q这个贫苦农民在中国封建社会中的悲惨生活。他虽然穷困潦倒，但心态自负，总是以精神胜利法来安慰自己，逃避现实的困境。然而，随着社会动荡和革命的到来，阿Q的命运变得更加悲惨，最终被误认为是革命党人而被处死。'] score:  0.6095982789993286\n"
     ]
    }
   ],
   "source": [
    "print(results['documents'][0], \"score: \", 1-results['distances'][0][0])"
   ]
  },
  {
   "cell_type": "markdown",
   "id": "31f12717-40ba-45a8-aa68-105265b7c0d5",
   "metadata": {},
   "source": [
    "### 过滤条件"
   ]
  },
  {
   "cell_type": "code",
   "execution_count": 10,
   "id": "840d4303-1406-4225-8622-1f89b669530f",
   "metadata": {},
   "outputs": [
    {
     "name": "stdout",
     "output_type": "stream",
     "text": [
      "CPU times: user 4.13 ms, sys: 4.03 ms, total: 8.16 ms\n",
      "Wall time: 7.5 ms\n"
     ]
    },
    {
     "data": {
      "text/plain": [
       "{'ids': [['1']],\n",
       " 'distances': [[0.3904017210006714]],\n",
       " 'metadatas': [[{'author': '钱钟书', 'name': '围城'}]],\n",
       " 'embeddings': None,\n",
       " 'documents': [['主人公方鸿渐留学回国后，面临找工作和个人感情的种种问题。他经历了几段感情波折，包括与鲍小姐的失败婚姻和与孙柔嘉的恋情，最终与孙柔嘉结婚。但婚后生活并不如意，他在事业上也遭遇挫折，未能实现自己的理想。']],\n",
       " 'uris': None,\n",
       " 'data': None}"
      ]
     },
     "execution_count": 10,
     "metadata": {},
     "output_type": "execute_result"
    }
   ],
   "source": [
    "%%time\n",
    "\n",
    "results=chroma_collection.query(\n",
    "    query_embeddings=encoder.encode(\"方鸿渐\").tolist(),\n",
    "    n_results=3,\n",
    "    where={\"author\": \"钱钟书\"},\n",
    ")\n",
    "\n",
    "results"
   ]
  },
  {
   "cell_type": "code",
   "execution_count": 11,
   "id": "20ca5dc4-68fc-4b07-9cf4-92a786957230",
   "metadata": {},
   "outputs": [
    {
     "name": "stdout",
     "output_type": "stream",
     "text": [
      "['主人公方鸿渐留学回国后，面临找工作和个人感情的种种问题。他经历了几段感情波折，包括与鲍小姐的失败婚姻和与孙柔嘉的恋情，最终与孙柔嘉结婚。但婚后生活并不如意，他在事业上也遭遇挫折，未能实现自己的理想。'] score:  0.6095982789993286\n"
     ]
    }
   ],
   "source": [
    "print(results['documents'][0], \"score: \", 1-results['distances'][0][0])"
   ]
  },
  {
   "cell_type": "code",
   "execution_count": null,
   "id": "095d0bd5-67f0-4ddd-90a7-7a876f8ab343",
   "metadata": {},
   "outputs": [],
   "source": []
  }
 ],
 "metadata": {
  "kernelspec": {
   "display_name": "Python 3 (ipykernel)",
   "language": "python",
   "name": "python3"
  },
  "language_info": {
   "codemirror_mode": {
    "name": "ipython",
    "version": 3
   },
   "file_extension": ".py",
   "mimetype": "text/x-python",
   "name": "python",
   "nbconvert_exporter": "python",
   "pygments_lexer": "ipython3",
   "version": "3.10.12"
  }
 },
 "nbformat": 4,
 "nbformat_minor": 5
}
