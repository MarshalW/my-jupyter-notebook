{
 "cells": [
  {
   "cell_type": "markdown",
   "id": "7913bcdb-ae07-4d83-acf1-599440cf7e92",
   "metadata": {},
   "source": [
    "# qwen2-7b-6k 上下文测试"
   ]
  },
  {
   "cell_type": "markdown",
   "id": "17edf9ee-0822-44fe-9a1d-d0dd047b5c59",
   "metadata": {},
   "source": [
    "qwen2-7b明显比qwen-7b强很多：\n",
    "\n",
    "- 提炼的更有条理\n",
    "- 显存明显减少\n",
    "- 速度快很多"
   ]
  },
  {
   "cell_type": "code",
   "execution_count": 2,
   "id": "80175d93-4a2a-4ef8-9c42-6b1083280a20",
   "metadata": {},
   "outputs": [
    {
     "name": "stdout",
     "output_type": "stream",
     "text": [
      "{\n",
      "  \"id\": \"chatcmpl-af7045e1f09f48dc96e44313a1c0b182\",\n",
      "  \"model\": \"qwen2-7b-6k\",\n",
      "  \"object\": \"chat.completion\",\n",
      "  \"created\": 1717758330,\n",
      "  \"choices\": [\n",
      "    {\n",
      "      \"index\": 0,\n",
      "      \"message\": {\n",
      "        \"role\": \"assistant\",\n",
      "        \"content\": \"我是通义千问，由阿里云开发的人工智能助手。我被设计用来回答各种问题、提供信息和与用户进行对话。有什么特定的问题或需要帮助的事项吗？我会尽力提供支持。\"\n",
      "      },\n",
      "      \"finish_reason\": \"stop\"\n",
      "    }\n",
      "  ],\n",
      "  \"usage\": {\n",
      "    \"prompt_tokens\": 11,\n",
      "    \"completion_tokens\": 47,\n",
      "    \"total_tokens\": 58\n",
      "  }\n",
      "}\n"
     ]
    }
   ],
   "source": [
    "%%bash\n",
    "\n",
    "TOKEN=sk-bJP6QSnUfjAYeYeE505d3eBf63A643BeB0B8E350Df9b7750\n",
    "HOST_URL=http://192.168.0.72:3000 \n",
    "\n",
    "curl -s \"$HOST_URL\"/v1/chat/completions \\\n",
    "  -H \"Content-Type: application/json\" \\\n",
    "  -H \"Authorization: Bearer $TOKEN\" \\\n",
    "  -d '{\n",
    "     \"model\": \"qwen2-7b-6k\",\n",
    "     \"messages\": [{\"role\": \"user\", \"content\": \"你谁啊\"}],\n",
    "     \"temperature\": 0.7\n",
    "   }' | jq ."
   ]
  },
  {
   "cell_type": "markdown",
   "id": "6f3eadf7-1627-4eed-a16d-8407ea2a0978",
   "metadata": {},
   "source": [
    "## 长文本测试"
   ]
  },
  {
   "cell_type": "code",
   "execution_count": 6,
   "id": "bb6b7941-a3be-4774-8e99-b7f79bee209c",
   "metadata": {},
   "outputs": [
    {
     "name": "stdout",
     "output_type": "stream",
     "text": [
      "CPU times: user 44.6 ms, sys: 3.8 ms, total: 48.4 ms\n",
      "Wall time: 47.2 ms\n"
     ]
    }
   ],
   "source": [
    "%%time\n",
    "\n",
    "from openai import OpenAI\n",
    "\n",
    "base_url = \"http://192.168.0.72:3000/v1\"\n",
    "api_key = \"sk-bJP6QSnUfjAYeYeE505d3eBf63A643BeB0B8E350Df9b7750\"\n",
    "\n",
    "client = OpenAI(api_key=api_key, base_url=base_url)\n",
    "\n",
    "def process_stream(stream):\n",
    "    for chunk in stream:\n",
    "        if chunk.usage:\n",
    "            print()\n",
    "            print(chunk.usage)\n",
    "        else:\n",
    "            print(chunk.choices[0].delta.content or \"\", end=\"\")\n",
    "    print()"
   ]
  },
  {
   "cell_type": "code",
   "execution_count": 7,
   "id": "f9365715-7011-45b7-a235-874e30fa5fb7",
   "metadata": {},
   "outputs": [
    {
     "name": "stdout",
     "output_type": "stream",
     "text": [
      "我是通义千问，由阿里云开发的人工智能助手。我被设计用来回答各种问题、提供信息和与用户进行对话。有什么我可以帮助你的吗？\n",
      "CPU times: user 25.2 ms, sys: 0 ns, total: 25.2 ms\n",
      "Wall time: 955 ms\n"
     ]
    }
   ],
   "source": [
    "%%time\n",
    "\n",
    "stream = client.chat.completions.create(\n",
    "    model=\"qwen2-7b-6k\",\n",
    "    messages=[{\"role\": \"user\", \"content\": \"你谁啊？\"}],\n",
    "    stream=True,\n",
    "    stream_options= {\"include_usage\": True}\n",
    ")\n",
    "\n",
    "process_stream(stream)"
   ]
  },
  {
   "cell_type": "code",
   "execution_count": 8,
   "id": "55536f1c-9430-48fa-b494-63c6a3b5f581",
   "metadata": {},
   "outputs": [
    {
     "name": "stdout",
     "output_type": "stream",
     "text": [
      "CPU times: user 313 µs, sys: 35 µs, total: 348 µs\n",
      "Wall time: 345 µs\n"
     ]
    },
    {
     "data": {
      "text/plain": [
       "17587"
      ]
     },
     "execution_count": 8,
     "metadata": {},
     "output_type": "execute_result"
    }
   ],
   "source": [
    "%%time\n",
    "\n",
    "file_path = './content-18k.txt'\n",
    "\n",
    "# Read the content of the file and store it in a string variable\n",
    "with open(file_path, 'r', encoding='utf-8') as file:\n",
    "    content = file.read()\n",
    "\n",
    "len(content)"
   ]
  },
  {
   "cell_type": "code",
   "execution_count": 12,
   "id": "6849f83f-6af0-4e10-9eeb-42cd6cf22743",
   "metadata": {},
   "outputs": [
    {
     "name": "stdout",
     "output_type": "stream",
     "text": [
      "文章主要探讨了“大争之世”背景下中国在全球格局中的角色与应对策略，总结了以下几个关键点：\n",
      "\n",
      "1. **新的国际格局**：“东升西降”，中国的崛起成为全球秩序变化的核心动力。东盟国家受益于中国经济增长带来的贸易机会，印度也因西方国家的制衡措施而获得发展。\n",
      "\n",
      "2. **现代化模式**：中国特色社会主义道路展示了不同于传统的现代化路径，强调国家主导、工业优先和市场改革相结合的战略。\n",
      "\n",
      "3. **第四次工业革命**：中国与美国并驾齐驱，成为全球工业化的关键力量。通过积极参与技术革新，特别是人工智能、新能源等领域的突破，加速了自身的科技转型。\n",
      "\n",
      "4. **新的全球治理模式**：“中西共治”，中国提出的《全球安全倡议》和“一带一路”倡议为国际治理提供了新型框架，强调合作、包容与共赢原则，旨在构建更加公正合理的全球秩序。\n",
      "\n",
      "5. **关键性变量**：作为“大争之世”的主要驱动者之一，中国的崛起对全球格局产生了深远影响。通过内部团结、经济发展、斗争精神和积极外交政策的实施，中国在全球竞争中发挥着关键作用。\n",
      "\n",
      "6. **中美之间的结构性矛盾**：美国对中国崛起持敌视态度，并采取了全面对抗策略。中国面临的外部环境更加复杂和挑战性，但同时也拥有应对的战略准备和国际合作机遇。\n",
      "\n",
      "7. **应对之道**：中国需要加强内部团结、保障经济发展、增强斗争精神并推动全球治理改革，以有效应对“大争之世”的挑战与机遇。\n",
      "\n",
      "文章通过上述分析，展现了中国在全球化新阶段中的角色转变和策略调整，并强调了其对重构国际秩序的贡献与影响。\n",
      "CPU times: user 180 ms, sys: 13.3 ms, total: 194 ms\n",
      "Wall time: 13.7 s\n"
     ]
    }
   ],
   "source": [
    "%%time\n",
    "\n",
    "stream = client.chat.completions.create(\n",
    "  model=\"qwen2-7b-6k\",\n",
    "  max_tokens=5000,\n",
    "  messages=[\n",
    "    {\"role\": \"system\", \"content\": \"你是一个概括内容和提炼主要内容的助手。\"},\n",
    "    {\"role\": \"user\", \"content\": f\"文章内容：{content}\\n\\n主要讲了啥，详细归纳一下，形成要点列表。\"}\n",
    "  ],\n",
    "  stream=True,\n",
    ")\n",
    "\n",
    "process_stream(stream)"
   ]
  },
  {
   "cell_type": "code",
   "execution_count": 13,
   "id": "902cd76b-3ef1-4ca1-b925-1434ab1c9bba",
   "metadata": {},
   "outputs": [
    {
     "name": "stdout",
     "output_type": "stream",
     "text": [
      "根据文中内容,作者是刘宗衔。他对五眼联盟的看法如下:\n",
      "\n",
      "1. 五眼联盟(Five Eyes)是指美国、英国、加拿大、澳大利亚和新西兰这五个国家的情报共享与合作机制。该联盟在面对中国时倾向于采取更加紧密且针对性的联合行动。\n",
      "\n",
      "2. 美国与包括澳大利亚在内的其他四国在对华政策上形成了更广泛的“全政府”层面的共识,并逐步向“全社会”的战略竞争联盟发展。这意味着五眼联盟国家不仅在国内政治层面上团结一致反对中国,还推动了国际上的联合行动和形象塑造。\n",
      "\n",
      "3. 通过建立类似北约在欧洲的角色,美国试图将五眼联盟打造成一个在太平洋地区对抗中国的工具。“北约化”(NATO-ization)意味着强化军事部署、增加联合演习和战略对话等措施来形成对中国施压的态势。\n",
      "\n",
      "4. 作者认为五眼联盟国家在对华政策上已经形成了跨党派政治共识,这表明即使面临国内政治分裂,这些国家仍然能够团结一致,共同采取行动。这种统一性反映了美国主导的全球战略对抗框架下的一致立场。\n",
      "\n",
      "5. 总之,五眼联盟被视为美国联合盟友对中国实施全面战略对抗的核心机制之一,通过情报共享、政策协调和国际形象塑造来形成对中国的围堵策略。\n",
      "\n",
      "以上就是文中作者刘宗衔对五眼联盟的看法。\n",
      "CPU times: user 156 ms, sys: 11.3 ms, total: 167 ms\n",
      "Wall time: 10.1 s\n"
     ]
    }
   ],
   "source": [
    "%%time\n",
    "\n",
    "stream = client.chat.completions.create(\n",
    "  model=\"qwen2-7b-6k\",\n",
    "  max_tokens=5000,\n",
    "  messages=[\n",
    "    {\"role\": \"system\", \"content\": \"你是一个概括内容和提炼主要内容的助手。\"},\n",
    "    {\"role\": \"user\", \"content\": f\"文章内容：{content}\\n\\n本文作者是谁，他怎么看待五眼联盟？\"}\n",
    "  ],\n",
    "  stream=True,\n",
    ")\n",
    "\n",
    "process_stream(stream)"
   ]
  },
  {
   "cell_type": "code",
   "execution_count": 14,
   "id": "8689c4e8-272f-44b8-a4b2-dcccb82a2c1e",
   "metadata": {},
   "outputs": [
    {
     "name": "stdout",
     "output_type": "stream",
     "text": [
      "根据文中内容，可以总结出以下关键信息：\n",
      "\n",
      "1. 文章标题可能为《大争之世：中国与世界的新格局》或类似表述，具体标题未在文本中明确给出。\n",
      "\n",
      "2. 作者姓名为陈明远。\n",
      "\n",
      "所以，文章的标题可能是《大争之世：中国与世界的新格局》，而作者姓名是陈明远。\n",
      "CPU times: user 46 ms, sys: 5.45 ms, total: 51.4 ms\n",
      "Wall time: 5.44 s\n"
     ]
    }
   ],
   "source": [
    "%%time\n",
    "\n",
    "stream = client.chat.completions.create(\n",
    "  model=\"qwen2-7b-6k\",\n",
    "  max_tokens=5000,\n",
    "  messages=[\n",
    "    {\"role\": \"system\", \"content\": \"你是一个概括内容和提炼主要内容的助手。\"},\n",
    "    {\"role\": \"user\", \"content\": f\"文章内容：{content}\\n\\n本文标题是啥，作者姓名是啥？\"}\n",
    "  ],\n",
    "  stream=True,\n",
    ")\n",
    "\n",
    "process_stream(stream)"
   ]
  },
  {
   "cell_type": "code",
   "execution_count": 11,
   "id": "5a4d7911-8912-4476-a71c-96d27192686c",
   "metadata": {},
   "outputs": [
    {
     "name": "stdout",
     "output_type": "stream",
     "text": [
      "随着技术经济、文化转型与创新策略，如新能源领域和全球治理体系方面提出了新的工业革命路径，包括数字经济发展和科技进步，以及“全球化进程中的“绿色能源和数字经济时代的背景下，中国开始的全球化视野下的全球治理的创新和科技发展潮流下，中国的科技创新和可持续发展战略理念，以及全球范围内对环境和技术创新领域的挑战，包括全球性经济体系、人工智能技术的发展趋势，尤其是互联网和数字化转型的目标，例如绿色经济政策框架下，寻求与全球经济和社会价值观方面，中国在世界范围内的智慧型国际社会参与度，为全球治理模式，使得中国在全球化背景下，美国与世界大背景下，中国正逐步推动了新的全球化进程中，中国致力于科技创新、贸易政策体系中，中国所扮演的角色和理念的国际地位，如以中国式全球治理的议题上，中国提出的国际秩序下，如何解决全球和地区范围内的技术创新和经济全球化趋势下的中国所发挥的积极策略，包括能源与环保型战略规划，包括绿色能源领域的创新与全球化的趋势方面，中国在国际社会中，其全球价值观的构建者，从而推动全球经济结构改革和中国外交政策行动，推动了中国的绿色革命式的发展模式下，通过新能源领域，而不仅仅是技术进步和全球化议题上，中国已经展现出的技术发展路径和战略，中国对于世界大背景下的创新性解决方案中，包括能源和技术发展中的创新性议题上的议题。中国在国际治理的议题上，中国价值观的推动型趋势，这在当今世界的全球化的趋势下，中国所提倡的新型的全球化进程中，在技术与理念上扮演了重要性的角色，并以技术创新和全球政策导向下的思考和实践中的新能源技术改造了该领域的创新性和制度性的发展变化中，包括科技型发展路线和合作方略、策略，将中国在全球治理结构上的新思维和技术革命式的路径上，以及全球化议题方面，中国式理念上，推动了国际性的经济和政治价值的全球化的背景下，中国大背景下的思维和策略上的政策。然而，在这样的全球范围内，中国在全球范围内的政策性、科技性和创新式思维和政策的国际关系方面的实践，包括科技革命与大战略目标的思维、技术体系内，包括创新与政策系统和政策体系，以及全球视野下，以开放性和可持续性发展的路径上，推动了大背景下的政治经济大背景下，中国提供了新的政策和理念，这包括对国家政策、科技创新和政策是全球治理模式，包括政策层面的国际社会中的战略思维的政策化、政策化领域内的政策化的政策，尤其是技术创新和政策上的政策化策略，这一历史趋势下的一些政策，以及政策化的政策和智慧型政策视野下的政策，其中包括了政治文明和科技化的政策和政策，以政策，其中的政治经济、科技创新和政策化的政策方向上的政策。\n",
      "CPU times: user 595 ms, sys: 71.6 ms, total: 667 ms\n",
      "Wall time: 3min 34s\n"
     ]
    }
   ],
   "source": [
    "%%time\n",
    "\n",
    "stream = client.chat.completions.create(\n",
    "  model=\"qwen-7b-6k\",\n",
    "  max_tokens=5000,\n",
    "  messages=[\n",
    "    {\"role\": \"system\", \"content\": \"你是一个概括内容和提炼主要内容的助手。\"},\n",
    "    {\"role\": \"user\", \"content\": f\"文章内容：{content}\\n\\n主要讲了啥，详细归纳一下，形成要点列表。\"}\n",
    "  ],\n",
    "  stream=True,\n",
    ")\n",
    "\n",
    "process_stream(stream)"
   ]
  },
  {
   "cell_type": "code",
   "execution_count": null,
   "id": "a0d17be7-d5ec-4d03-a19e-b984bb2f0ccf",
   "metadata": {},
   "outputs": [],
   "source": []
  }
 ],
 "metadata": {
  "kernelspec": {
   "display_name": "Python 3 (ipykernel)",
   "language": "python",
   "name": "python3"
  },
  "language_info": {
   "codemirror_mode": {
    "name": "ipython",
    "version": 3
   },
   "file_extension": ".py",
   "mimetype": "text/x-python",
   "name": "python",
   "nbconvert_exporter": "python",
   "pygments_lexer": "ipython3",
   "version": "3.10.12"
  }
 },
 "nbformat": 4,
 "nbformat_minor": 5
}
