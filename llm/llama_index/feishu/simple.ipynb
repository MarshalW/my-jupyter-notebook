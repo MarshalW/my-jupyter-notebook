{
 "cells": [
  {
   "cell_type": "markdown",
   "id": "12b9da79-9f40-4357-a18b-6b7d68f4e691",
   "metadata": {},
   "source": [
    "# 加载飞书文档查询"
   ]
  },
  {
   "cell_type": "markdown",
   "id": "b45503cb-f5ce-4d93-b11b-593685a4def6",
   "metadata": {},
   "source": [
    "初步结论：\n",
    "\n",
    "- 可以通过飞书文档实现查询\n",
    "- 飞书文档查询可以回溯到文档链接\n",
    "- 需要给出文档id，才可以加入文档"
   ]
  },
  {
   "cell_type": "markdown",
   "id": "68d16b30-c666-47ac-b038-5e36f221cfb6",
   "metadata": {},
   "source": [
    "## 全局设置"
   ]
  },
  {
   "cell_type": "code",
   "execution_count": 2,
   "id": "ffd0cc01-66d0-4ac4-90f1-cb3c2d903a4e",
   "metadata": {},
   "outputs": [
    {
     "name": "stdout",
     "output_type": "stream",
     "text": [
      "CPU times: user 12.5 ms, sys: 7.52 ms, total: 20 ms\n",
      "Wall time: 2.56 s\n"
     ]
    }
   ],
   "source": [
    "%%time\n",
    "%%capture\n",
    "\n",
    "!pip install llama-index-readers-feishu-docs"
   ]
  },
  {
   "cell_type": "code",
   "execution_count": 3,
   "id": "3543df3c-cf4e-46f7-92fb-eb1ddae3de92",
   "metadata": {},
   "outputs": [
    {
     "name": "stdout",
     "output_type": "stream",
     "text": [
      "CPU times: user 2.26 ms, sys: 3.8 ms, total: 6.06 ms\n",
      "Wall time: 5.45 ms\n"
     ]
    }
   ],
   "source": [
    "%%time\n",
    "\n",
    "from llama_index.core import Settings\n",
    "from llama_index.llms.ollama import Ollama\n",
    "from llama_index.embeddings.ollama import OllamaEmbedding\n",
    "\n",
    "Settings.llm=Ollama(\n",
    "    base_url=\"http://ape:11434\",\n",
    "    model=\"qwen2\",\n",
    "    is_chat_model=True,\n",
    "    temperature=0.1,\n",
    "    request_timeout=60.0\n",
    ")\n",
    "\n",
    "Settings.embed_model = OllamaEmbedding(\n",
    "    model_name=\"quentinz/bge-large-zh-v1.5\",\n",
    "    base_url=\"http://ape:11434\",\n",
    "    ollama_additional_kwargs={\"mirostat\": 0}, # -mirostat N 使用 Mirostat 采样。\n",
    ")"
   ]
  },
  {
   "cell_type": "markdown",
   "id": "f496bcc2-a5e8-4b2b-89c0-fd06d3116a58",
   "metadata": {},
   "source": [
    "## 加载文档"
   ]
  },
  {
   "cell_type": "code",
   "execution_count": 20,
   "id": "8930373b-050d-40ae-ba01-5d9c6a8ec4f9",
   "metadata": {},
   "outputs": [
    {
     "name": "stdout",
     "output_type": "stream",
     "text": [
      "CPU times: user 8.1 ms, sys: 1.07 ms, total: 9.17 ms\n",
      "Wall time: 500 ms\n"
     ]
    }
   ],
   "source": [
    "%%time\n",
    "\n",
    "app_id = \"cli_a6446f9440cad00c\"\n",
    "app_secret = \"G0vGE6ZSWhj6rq1ae6UBlhwUViBuTRzY\"\n",
    "doc_ids = [\"Kws2d8Y97oyu0wxadvvcwlbenNc\"]\n",
    "\n",
    "from llama_index.readers.feishu_docs import FeishuDocsReader\n",
    "\n",
    "documents=FeishuDocsReader(app_id, app_secret).load_data(document_ids=doc_ids)"
   ]
  },
  {
   "cell_type": "code",
   "execution_count": 21,
   "id": "862e2960-63e5-4e66-8ae0-ac5c3e92fd63",
   "metadata": {},
   "outputs": [
    {
     "data": {
      "text/plain": [
       "1"
      ]
     },
     "execution_count": 21,
     "metadata": {},
     "output_type": "execute_result"
    }
   ],
   "source": [
    "len(documents)"
   ]
  },
  {
   "cell_type": "markdown",
   "id": "97f0c6f5-0171-4987-983d-faf2aebb17b5",
   "metadata": {},
   "source": [
    "## 创建索引"
   ]
  },
  {
   "cell_type": "code",
   "execution_count": 22,
   "id": "d58898ca-230b-437c-961b-6a31a3dfc579",
   "metadata": {},
   "outputs": [
    {
     "name": "stdout",
     "output_type": "stream",
     "text": [
      "CPU times: user 20.1 ms, sys: 0 ns, total: 20.1 ms\n",
      "Wall time: 1.32 s\n"
     ]
    }
   ],
   "source": [
    "%%time\n",
    "\n",
    "from llama_index.core import VectorStoreIndex\n",
    "\n",
    "index = VectorStoreIndex.from_documents(\n",
    "    documents\n",
    ")"
   ]
  },
  {
   "cell_type": "markdown",
   "id": "4f73e49f-f43c-4566-b243-bfe1ccff3bcf",
   "metadata": {},
   "source": [
    "## 查询"
   ]
  },
  {
   "cell_type": "code",
   "execution_count": 23,
   "id": "66a52bd3-e2b0-46c9-9132-aa6eb6cd89f9",
   "metadata": {},
   "outputs": [
    {
     "name": "stdout",
     "output_type": "stream",
     "text": [
      "docker容器在后台执行的命令是`docker run -d -t --rm bash`.CPU times: user 80.2 ms, sys: 1.99 ms, total: 82.2 ms\n",
      "Wall time: 2.77 s\n"
     ]
    }
   ],
   "source": [
    "%%time\n",
    "\n",
    "query_engine = index.as_query_engine(\n",
    "    streaming=True\n",
    ")\n",
    "streaming_response = query_engine.query(\"docker容器在后台执行的命令\")\n",
    "streaming_response.print_response_stream()"
   ]
  },
  {
   "cell_type": "code",
   "execution_count": 16,
   "id": "261ad002-e905-4fb2-8274-374bf5d3aef5",
   "metadata": {},
   "outputs": [
    {
     "name": "stdout",
     "output_type": "stream",
     "text": [
      "要重启Docker守护进程，可以使用以下命令：\n",
      "\n",
      "```bash\n",
      "sudo systemctl daemon-reload && sudo systemctl restart docker\n",
      "```\n",
      "\n",
      "这个命令首先重新加载系统启动配置文件（`daemon-reload`），然后重启Docker服务。CPU times: user 94.2 ms, sys: 19 ms, total: 113 ms\n",
      "Wall time: 1.36 s\n"
     ]
    }
   ],
   "source": [
    "%%time\n",
    "\n",
    "streaming_response = query_engine.query(\"重启docker的命令\")\n",
    "streaming_response.print_response_stream()"
   ]
  },
  {
   "cell_type": "code",
   "execution_count": 17,
   "id": "e5e79a9a-7ca5-490a-ae1d-8eebb1daf3fb",
   "metadata": {},
   "outputs": [
    {
     "name": "stdout",
     "output_type": "stream",
     "text": [
      "在Docker中设置代理服务器，可以通过编辑`~/.docker/config.json`文件来实现。以下是一个示例配置：\n",
      "\n",
      "```json\n",
      "{\n",
      "  \"proxies\": {\n",
      "    \"default\": {\n",
      "      \"httpProxy\": \"http://10.1.1.100:8118\",\n",
      "      \"httpsProxy\": \"http://10.1.1.100:8118\",\n",
      "      \"noProxy\": \"localhost,*.test.example.com,.example2.com\"\n",
      "    }\n",
      "  }\n",
      "}\n",
      "```\n",
      "\n",
      "将上述配置添加到`~/.docker/config.json`文件中。这里的`httpProxy`和`httpsProxy`分别指定了HTTP和HTTPS代理服务器的地址，而`noProxy`则定义了不需要通过代理访问的域名或IP地址列表。\n",
      "\n",
      "完成编辑后，重启Docker服务以使更改生效：\n",
      "\n",
      "```bash\n",
      "sudo systemctl daemon-reload && sudo systemctl restart docker\n",
      "```\n",
      "\n",
      "这样，Docker容器内的所有HTTP和HTTPS请求都将通过指定的代理服务器进行。CPU times: user 262 ms, sys: 26.3 ms, total: 289 ms\n",
      "Wall time: 5.05 s\n"
     ]
    }
   ],
   "source": [
    "%%time\n",
    "\n",
    "streaming_response = query_engine.query(\"docker怎么设置代理服务器\")\n",
    "streaming_response.print_response_stream()"
   ]
  },
  {
   "cell_type": "code",
   "execution_count": 18,
   "id": "8a2d8d0b-6065-475f-b141-c6f8325645b6",
   "metadata": {},
   "outputs": [
    {
     "data": {
      "text/plain": [
       "2"
      ]
     },
     "execution_count": 18,
     "metadata": {},
     "output_type": "execute_result"
    }
   ],
   "source": [
    "len(streaming_response.source_nodes)"
   ]
  },
  {
   "cell_type": "code",
   "execution_count": 19,
   "id": "de0dd452-43b2-4f52-9fa8-fda862fdd5f1",
   "metadata": {},
   "outputs": [
    {
     "data": {
      "text/plain": [
       "NodeWithScore(node=TextNode(id_='15df7a37-756c-4480-8adf-5d8f9b976dac', embedding=None, metadata={'document_id': 'Kws2d8Y97oyu0wxadvvcwlbenNc'}, excluded_embed_metadata_keys=[], excluded_llm_metadata_keys=[], relationships={<NodeRelationship.SOURCE: '1'>: RelatedNodeInfo(node_id='d335c3bd-b64f-4d8c-a544-5e14996be5b1', node_type=<ObjectType.DOCUMENT: '4'>, metadata={'document_id': 'Kws2d8Y97oyu0wxadvvcwlbenNc'}, hash='c2a181b6fbe00728ed32cd23a12724acaa6e25dc14c78dfe533d144a43ee820f'), <NodeRelationship.NEXT: '3'>: RelatedNodeInfo(node_id='3823ba56-a2d5-4e19-bb34-8636e0945c0a', node_type=<ObjectType.TEXT: '1'>, metadata={}, hash='38ea7644d0fa218279b599e540d68d47665eb1a5499bf5af194218a923b6b0cd')}, text='Docker FAQ\\nDocker 加速相关配置\\n\\ndockerfile 中常用加速\\n\\n# 使用nvidia作为基础镜像\\nFROM nvidia/cuda:12.2.0-devel-ubuntu22.04\\n\\n# 设置时区环境变量\\nENV TZ=Asia/Shanghai\\n\\n# 设置时区\\n# 安装 python3/pip/jupyter相关\\nRUN ln -snf /usr/share/zoneinfo/$TZ /etc/localtime && echo $TZ > /etc/timezone \\\\\\n    && sed -i s@/archive.ubuntu.com/@/mirrors.tuna.tsinghua.edu.cn/@g /etc/apt/sources.list \\\\\\n    && apt update && apt install python3 pip git -y \\\\\\n    && apt-get -y install \\\\\\n        pandoc texlive-xetex texlive-fonts-recommended texlive-plain-generic \\\\\\n        latex-cjk-all -y \\\\\\n    && pip config --user set global.index-url https://pypi.tuna.tsinghua.edu.cn/simple \\\\\\n    && pip install \\\\\\n        jupyterlab jupyterlab-language-pack-zh-CN jupyterlab-git jupyterlab-github \\\\\\n        matplotlib \\\\\\n        numpy \\\\\\n        sympy \\\\\\n        mplfonts\\n\\n设置docker registry国内镜像\\n\\n参考：https://yeasy.gitbook.io/docker_practice/install/mirror\\n\\nubuntu server20.04\\n\\n/etc/docker/daemon.json\\n\\n{\\n  \"registry-mirrors\": [\\n    \"https://docker.nju.edu.cn\",\\n    \"https://hub-mirror.c.163.com\",\\n    \"https://mirror.baidubce.com\"\\n  ],\\n  \"insecure-registries\": [\"http://192.168.0.105:5000\"]\\n}\\n\\ndocker container proxy\\n\\n参见：https://docs.docker.com/network/proxy/\\n\\n编辑：~/.docker/config.json\\n\\n{\\n  \"proxies\": {\\n    \"default\": {\\n      \"httpProxy\": \"http://10.1.1.100:8118\",\\n      \"httpsProxy\": \"http://10.1.1.100:8118\",\\n      \"noProxy\": \"localhost,*.test.example.com,.example2.com\"\\n    }\\n  }\\n}  \\n\\ndocker pull image 代理\\n\\n参见：https://docs.docker.com/config/daemon/systemd/\\n\\nsudo mkdir /etc/systemd/system/docker.service.d\\nsudo nano /etc/systemd/system/docker.service.d/http-proxy.conf\\n\\nhttp-proxy.conf:\\n\\n[Service]\\nEnvironment=\"HTTP_PROXY=http://proxy.example.com:80\"\\nEnvironment=\"HTTPS_PROXY=https://proxy.example.com:443\"\\nEnvironment=\"NO_PROXY=localhost,127.0.0.1,docker-registry.example.com,.corp\"\\n\\n重启 docker\\n\\nsudo systemctl daemon-reload && sudo systemctl restart docker\\n\\n使用宿主当前用户启动docker容器\\n\\ndocker-compose.yaml:\\n\\nversion: \\'3\\'\\nservices:\\n myservice:\\n    image: myimage\\n    user: ${CURRENT_UID}\\n    working_dir: $HOME\\n    stdin_open: true\\n    volumes:\\n      - /etc/group:/etc/group:ro\\n      - /etc/passwd:/etc/passwd:ro\\n      - /etc/shadow:/etc/shadow:ro\\n      - ./doc:/doc\\n    tty: true\\n    command: tail -f /dev/null\\n\\n执行：', mimetype='text/plain', start_char_idx=0, end_char_idx=2238, text_template='{metadata_str}\\n\\n{content}', metadata_template='{key}: {value}', metadata_seperator='\\n'), score=0.6826908965359793)"
      ]
     },
     "execution_count": 19,
     "metadata": {},
     "output_type": "execute_result"
    }
   ],
   "source": [
    "streaming_response.source_nodes[0]"
   ]
  },
  {
   "cell_type": "code",
   "execution_count": null,
   "id": "beac7a7d-e8cf-4b22-a593-63a0ca5a95bf",
   "metadata": {},
   "outputs": [],
   "source": []
  }
 ],
 "metadata": {
  "kernelspec": {
   "display_name": "Python 3 (ipykernel)",
   "language": "python",
   "name": "python3"
  },
  "language_info": {
   "codemirror_mode": {
    "name": "ipython",
    "version": 3
   },
   "file_extension": ".py",
   "mimetype": "text/x-python",
   "name": "python",
   "nbconvert_exporter": "python",
   "pygments_lexer": "ipython3",
   "version": "3.10.12"
  }
 },
 "nbformat": 4,
 "nbformat_minor": 5
}
