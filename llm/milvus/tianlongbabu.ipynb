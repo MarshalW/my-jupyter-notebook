{
 "cells": [
  {
   "cell_type": "markdown",
   "id": "03dd3c26-6762-410f-bc68-977d2736ce38",
   "metadata": {},
   "source": [
    "# 测试《天龙八部》rerank效果"
   ]
  },
  {
   "cell_type": "markdown",
   "id": "41b9b616-1c9f-4fc7-8bce-9d9848d65f12",
   "metadata": {},
   "source": [
    "## 准备"
   ]
  },
  {
   "cell_type": "code",
   "execution_count": 1,
   "id": "5b333d0a-4c1d-4204-a62a-767aef2f0679",
   "metadata": {},
   "outputs": [
    {
     "name": "stdout",
     "output_type": "stream",
     "text": [
      "CPU times: user 3.58 s, sys: 460 ms, total: 4.04 s\n",
      "Wall time: 3.67 s\n"
     ]
    }
   ],
   "source": [
    "%%time\n",
    "\n",
    "from llama_index.core import SummaryIndex, Document\n",
    "from llama_index.core import Settings\n",
    "\n",
    "from llama_index.llms.openai_like import OpenAILike\n",
    "from llama_index.embeddings.ollama import OllamaEmbedding\n",
    "\n",
    "from milvus import default_server\n",
    "from pymilvus import connections, utility\n",
    "\n",
    "from llama_index.core import VectorStoreIndex, StorageContext\n",
    "from llama_index.core import (\n",
    "    SimpleDirectoryReader,\n",
    "    load_index_from_storage,\n",
    "    VectorStoreIndex,\n",
    "    StorageContext,\n",
    ")\n",
    "from llama_index.vector_stores.milvus import MilvusVectorStore\n",
    "\n",
    "from llama_index.core.llms import ChatMessage"
   ]
  },
  {
   "cell_type": "code",
   "execution_count": 2,
   "id": "0421e51a-ae11-4719-8d5a-09ba3c35c5c1",
   "metadata": {},
   "outputs": [
    {
     "data": {
      "text/plain": [
       "_Settings(_llm=None, _embed_model=None, _callback_manager=None, _tokenizer=None, _node_parser=SentenceSplitter(include_metadata=True, include_prev_next_rel=True, callback_manager=<llama_index.core.callbacks.base.CallbackManager object at 0x7f04d7979150>, id_func=<function default_id_func at 0x7f059d57af80>, chunk_size=128, chunk_overlap=10, separator=' ', paragraph_separator='\\n\\n\\n', secondary_chunking_regex='[^,.;。？！]+[,.;。？！]?'), _prompt_helper=None, _transformations=None)"
      ]
     },
     "execution_count": 2,
     "metadata": {},
     "output_type": "execute_result"
    }
   ],
   "source": [
    "Settings.chunk_size=128\n",
    "Settings.chunk_overlap=10\n",
    "\n",
    "Settings"
   ]
  },
  {
   "cell_type": "code",
   "execution_count": 3,
   "id": "7fa49b70-f8a7-43c5-9def-bbe03a103242",
   "metadata": {},
   "outputs": [
    {
     "name": "stdout",
     "output_type": "stream",
     "text": [
      "v2.3.5-lite\n",
      "CPU times: user 3.17 s, sys: 300 ms, total: 3.47 s\n",
      "Wall time: 6.58 s\n"
     ]
    },
    {
     "data": {
      "text/plain": [
       "19530"
      ]
     },
     "execution_count": 3,
     "metadata": {},
     "output_type": "execute_result"
    }
   ],
   "source": [
    "%%time\n",
    "\n",
    "# 启动milvus服务器\n",
    "\n",
    "default_server.set_base_dir('milvus_data')\n",
    "\n",
    "# (OPTIONAL) if you want cleanup previous data\n",
    "default_server.cleanup()\n",
    "\n",
    "# Start your milvus server\n",
    "default_server.start()\n",
    "\n",
    "# Now you could connect with localhost and the given port\n",
    "# Port is defined by default_server.listen_port\n",
    "connections.connect(host='127.0.0.1', port=default_server.listen_port)\n",
    "\n",
    "# Check if the server is ready.\n",
    "print(utility.get_server_version())\n",
    "\n",
    "# Stop your milvus server\n",
    "# default_server.stop()\n",
    "\n",
    "default_server.listen_port"
   ]
  },
  {
   "cell_type": "code",
   "execution_count": 4,
   "id": "569d416a-950a-4bfb-9296-c05af8226071",
   "metadata": {},
   "outputs": [
    {
     "name": "stdout",
     "output_type": "stream",
     "text": [
      "CPU times: user 117 ms, sys: 3.68 ms, total: 121 ms\n",
      "Wall time: 122 ms\n"
     ]
    }
   ],
   "source": [
    "%%time\n",
    "\n",
    "# 初始化全局 llm\n",
    "\n",
    "llm = OpenAILike(model=\"xiaoyu\", \n",
    "                 api_base=\"http://192.168.0.72:3000/v1\", \n",
    "                 api_key=\"sk-bJP6QSnUfjAYeYeE505d3eBf63A643BeB0B8E350Df9b7750\",\n",
    "                 is_chat_model=True,\n",
    "                 temperature=0.1\n",
    "                )\n",
    "\n",
    "Settings.llm =llm"
   ]
  },
  {
   "cell_type": "code",
   "execution_count": 5,
   "id": "77e1d33b-b59c-4e6f-950a-d18f943b6261",
   "metadata": {},
   "outputs": [
    {
     "name": "stdout",
     "output_type": "stream",
     "text": [
      "CPU times: user 388 ms, sys: 23.8 ms, total: 412 ms\n",
      "Wall time: 411 ms\n"
     ]
    }
   ],
   "source": [
    "%%time\n",
    "\n",
    "# 初始化全局 embedding 模型\n",
    "\n",
    "ollama_embedding = OllamaEmbedding(\n",
    "    model_name=\"dztech/bge-large-zh:v1.5\",\n",
    "    # model_name=\"bge-m3:latest\",\n",
    "    base_url=\"http://192.168.0.72:11435\",\n",
    "    ollama_additional_kwargs={\"mirostat\": 0}, # -mirostat N 使用 Mirostat 采样。\n",
    ")\n",
    "\n",
    "Settings.embed_model = ollama_embedding"
   ]
  },
  {
   "cell_type": "code",
   "execution_count": 6,
   "id": "1b6bf4e7-6159-469a-9c50-703182d2d8cb",
   "metadata": {},
   "outputs": [
    {
     "name": "stdout",
     "output_type": "stream",
     "text": [
      "CPU times: user 353 µs, sys: 0 ns, total: 353 µs\n",
      "Wall time: 356 µs\n"
     ]
    }
   ],
   "source": [
    "%%time\n",
    "\n",
    "import logging\n",
    "import sys\n",
    "\n",
    "# 设置系统日志，便于设置level排查\n",
    "\n",
    "logging.basicConfig(stream=sys.stdout, level=logging.INFO)\n",
    "logging.getLogger().addHandler(logging.StreamHandler(stream=sys.stdout))"
   ]
  },
  {
   "cell_type": "code",
   "execution_count": 7,
   "id": "96e74136-8340-4a4a-a374-799a26539cc6",
   "metadata": {},
   "outputs": [
    {
     "name": "stdout",
     "output_type": "stream",
     "text": [
      "dc73b62a-ebeb-4786-9a64-a167b6c27f79 天龙八部.txt\n",
      "CPU times: user 4.31 ms, sys: 8.05 ms, total: 12.4 ms\n",
      "Wall time: 11.8 ms\n"
     ]
    }
   ],
   "source": [
    "%%time\n",
    "\n",
    "# load documents\n",
    "documents = SimpleDirectoryReader(input_files=[\"books2/天龙八部.txt\"]).load_data()\n",
    "for doc in documents:\n",
    "    print(doc.doc_id, doc.metadata['file_name'])"
   ]
  },
  {
   "cell_type": "code",
   "execution_count": 8,
   "id": "3bfe3466-c310-4c2f-9274-542ae7068997",
   "metadata": {},
   "outputs": [
    {
     "name": "stdout",
     "output_type": "stream",
     "text": [
      "DEBUG:pymilvus.milvus_client.milvus_client:Created new connection using: f229448f62214eb0ae1a463aeace41d8\n",
      "Created new connection using: f229448f62214eb0ae1a463aeace41d8\n",
      "DEBUG:pymilvus.milvus_client.milvus_client:Successfully created collection: llamacollection\n",
      "Successfully created collection: llamacollection\n",
      "DEBUG:pymilvus.milvus_client.milvus_client:Successfully created an index on collection: llamacollection\n",
      "Successfully created an index on collection: llamacollection\n",
      "CPU times: user 1min 24s, sys: 2.9 s, total: 1min 27s\n",
      "Wall time: 7min 32s\n"
     ]
    }
   ],
   "source": [
    "%%time\n",
    "\n",
    "vector_store = MilvusVectorStore(dim=1024, overwrite=True)\n",
    "storage_context = StorageContext.from_defaults(vector_store=vector_store)\n",
    "index = VectorStoreIndex.from_documents(\n",
    "    documents, storage_context=storage_context\n",
    ")"
   ]
  },
  {
   "cell_type": "markdown",
   "id": "01853586-320e-4494-b362-566b759f0a7f",
   "metadata": {},
   "source": [
    "## 基于基本嵌入问答"
   ]
  },
  {
   "cell_type": "code",
   "execution_count": 26,
   "id": "2216d274-d9f0-4a2b-9019-539e4a611ad6",
   "metadata": {},
   "outputs": [
    {
     "name": "stdout",
     "output_type": "stream",
     "text": [
      "INFO:httpx:HTTP Request: POST http://192.168.0.72:3000/v1/chat/completions \"HTTP/1.1 200 OK\"\n",
      "HTTP Request: POST http://192.168.0.72:3000/v1/chat/completions \"HTTP/1.1 200 OK\"\n",
      "INFO:httpx:HTTP Request: POST http://192.168.0.72:3000/v1/chat/completions \"HTTP/1.1 200 OK\"\n",
      "HTTP Request: POST http://192.168.0.72:3000/v1/chat/completions \"HTTP/1.1 200 OK\"\n",
      "INFO:httpx:HTTP Request: POST http://192.168.0.72:3000/v1/chat/completions \"HTTP/1.1 200 OK\"\n",
      "HTTP Request: POST http://192.168.0.72:3000/v1/chat/completions \"HTTP/1.1 200 OK\"\n",
      "INFO:httpx:HTTP Request: POST http://192.168.0.72:3000/v1/chat/completions \"HTTP/1.1 200 OK\"\n",
      "HTTP Request: POST http://192.168.0.72:3000/v1/chat/completions \"HTTP/1.1 200 OK\"\n",
      "在《天龙八部》的故事里，虚竹的母亲名叫叶二娘。\n",
      "CPU times: user 132 ms, sys: 16.8 ms, total: 149 ms\n",
      "Wall time: 11.1 s\n"
     ]
    }
   ],
   "source": [
    "%%time\n",
    "\n",
    "query_engine = index.as_query_engine(\n",
    "    streaming=True,\n",
    "    similarity_top_k=100,\n",
    "    similarity_cutoff=0.5\n",
    ")\n",
    "\n",
    "streaming_response = query_engine.query(\"虚竹的妈妈是谁，说出她的名字\")\n",
    "streaming_response.print_response_stream()\n",
    "print()"
   ]
  },
  {
   "cell_type": "markdown",
   "id": "e62a8be1-84ea-419d-b554-d0d5796da261",
   "metadata": {},
   "source": [
    "## 基于rerank的问答"
   ]
  },
  {
   "cell_type": "code",
   "execution_count": 10,
   "id": "02286ffa-2521-4f88-9050-5432e563462c",
   "metadata": {},
   "outputs": [
    {
     "name": "stdout",
     "output_type": "stream",
     "text": [
      "CPU times: user 934 ms, sys: 669 ms, total: 1.6 s\n",
      "Wall time: 806 ms\n"
     ]
    }
   ],
   "source": [
    "%%time\n",
    "\n",
    "from llama_index.core.postprocessor import SentenceTransformerRerank\n",
    "\n",
    "reranker = SentenceTransformerRerank(model='/models/bge-reranker-v2-m3', top_n=5)"
   ]
  },
  {
   "cell_type": "code",
   "execution_count": 25,
   "id": "fccd4083-fe4d-4155-ad60-af1ecbcf826e",
   "metadata": {},
   "outputs": [
    {
     "data": {
      "application/vnd.jupyter.widget-view+json": {
       "model_id": "3011858a7b9042a58268339df5bbcdc1",
       "version_major": 2,
       "version_minor": 0
      },
      "text/plain": [
       "Batches:   0%|          | 0/4 [00:00<?, ?it/s]"
      ]
     },
     "metadata": {},
     "output_type": "display_data"
    },
    {
     "name": "stdout",
     "output_type": "stream",
     "text": [
      "INFO:httpx:HTTP Request: POST http://192.168.0.72:3000/v1/chat/completions \"HTTP/1.1 200 OK\"\n",
      "HTTP Request: POST http://192.168.0.72:3000/v1/chat/completions \"HTTP/1.1 200 OK\"\n",
      "叶二娘是虚竹的妈妈。\n",
      "CPU times: user 696 ms, sys: 462 µs, total: 696 ms\n",
      "Wall time: 1.37 s\n"
     ]
    }
   ],
   "source": [
    "%%time\n",
    "\n",
    "query_engine = index.as_query_engine(\n",
    "    streaming=True,\n",
    "    similarity_top_k=100,\n",
    "    node_postprocessors=[reranker],\n",
    "    similarity_cutoff=0.5\n",
    ")\n",
    "\n",
    "streaming_response = query_engine.query(\"虚竹的妈妈是谁，说出她的名字\")\n",
    "streaming_response.print_response_stream()\n",
    "print()"
   ]
  },
  {
   "cell_type": "code",
   "execution_count": null,
   "id": "77c1640d-308f-444a-be33-82e0fcfe036d",
   "metadata": {},
   "outputs": [],
   "source": []
  }
 ],
 "metadata": {
  "kernelspec": {
   "display_name": "Python 3 (ipykernel)",
   "language": "python",
   "name": "python3"
  },
  "language_info": {
   "codemirror_mode": {
    "name": "ipython",
    "version": 3
   },
   "file_extension": ".py",
   "mimetype": "text/x-python",
   "name": "python",
   "nbconvert_exporter": "python",
   "pygments_lexer": "ipython3",
   "version": "3.10.12"
  }
 },
 "nbformat": 4,
 "nbformat_minor": 5
}
