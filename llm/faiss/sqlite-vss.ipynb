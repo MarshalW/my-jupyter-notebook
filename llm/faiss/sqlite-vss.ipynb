{
 "cells": [
  {
   "cell_type": "markdown",
   "id": "ec9f25b8-cf82-410b-aba2-520271c49f0f",
   "metadata": {},
   "source": [
    "# 使用 sqlite-vss"
   ]
  },
  {
   "cell_type": "markdown",
   "id": "fd4b53eb-efa8-41a4-94cb-7349a959bbfa",
   "metadata": {},
   "source": [
    "未完成。"
   ]
  },
  {
   "cell_type": "markdown",
   "id": "401bb123-12c3-4519-a04b-65c746e4a8b5",
   "metadata": {},
   "source": [
    "## sqlite-vss 简介"
   ]
  },
  {
   "cell_type": "markdown",
   "id": "2ab6691c-d303-4015-8191-d3ef665bdd3b",
   "metadata": {},
   "source": [
    "https://github.com/asg017/sqlite-vss\n",
    "\n",
    "sqlite-vss（SQLite Vector Similarity Search ）是一个 SQLite扩展，它基于Faiss为 SQLite 带来了向量搜索功能。它可用于构建语义搜索引擎、推荐或问答工具。"
   ]
  },
  {
   "cell_type": "markdown",
   "id": "e08507e4-5c69-4b4b-b76d-9436c7c576f5",
   "metadata": {
    "jp-MarkdownHeadingCollapsed": true
   },
   "source": [
    "## 安装"
   ]
  },
  {
   "cell_type": "code",
   "execution_count": 1,
   "id": "c2da02eb-bf7a-4cc8-b3fa-d0dae890acf2",
   "metadata": {},
   "outputs": [
    {
     "name": "stdout",
     "output_type": "stream",
     "text": [
      "Get:1 https://developer.download.nvidia.cn/compute/cuda/repos/ubuntu2204/x86_64  InRelease [1581 B]\n",
      "Hit:2 http://archive.ubuntu.com/ubuntu jammy InRelease                         \n",
      "Get:3 https://developer.download.nvidia.cn/compute/cuda/repos/ubuntu2204/x86_64  Packages [814 kB]\n",
      "Get:4 http://archive.ubuntu.com/ubuntu jammy-updates InRelease [119 kB]      \n",
      "Get:5 http://security.ubuntu.com/ubuntu jammy-security InRelease [110 kB]      \n",
      "Get:6 http://archive.ubuntu.com/ubuntu jammy-backports InRelease [109 kB]      \n",
      "Get:7 http://security.ubuntu.com/ubuntu jammy-security/restricted amd64 Packages [2259 kB]\n",
      "Get:8 http://archive.ubuntu.com/ubuntu jammy-updates/multiverse amd64 Packages [51.1 kB]\n",
      "Get:9 http://archive.ubuntu.com/ubuntu jammy-updates/universe amd64 Packages [1369 kB]\n",
      "Get:10 http://archive.ubuntu.com/ubuntu jammy-updates/restricted amd64 Packages [2339 kB]\n",
      "Get:11 http://archive.ubuntu.com/ubuntu jammy-updates/main amd64 Packages [2035 kB]\n",
      "Get:12 http://archive.ubuntu.com/ubuntu jammy-backports/universe amd64 Packages [31.9 kB]\n",
      "Get:13 http://archive.ubuntu.com/ubuntu jammy-backports/main amd64 Packages [80.9 kB]\n",
      "Get:14 http://security.ubuntu.com/ubuntu jammy-security/main amd64 Packages [1753 kB]\n",
      "Get:15 http://security.ubuntu.com/ubuntu jammy-security/multiverse amd64 Packages [44.7 kB]\n",
      "Get:16 http://security.ubuntu.com/ubuntu jammy-security/universe amd64 Packages [1077 kB]\n",
      "Fetched 12.2 MB in 5s (2597 kB/s)                           \n",
      "Reading package lists... Done\n",
      "Reading package lists... Done\n",
      "Building dependency tree... Done\n",
      "Reading state information... Done\n",
      "libgomp1 is already the newest version (12.3.0-1ubuntu1~22.04).\n",
      "libgomp1 set to manually installed.\n",
      "The following additional packages will be installed:\n",
      "  libatlas3-base libblas3 libgfortran5 liblapack3\n",
      "Suggested packages:\n",
      "  libatlas-doc liblapack-doc\n",
      "The following NEW packages will be installed:\n",
      "  libatlas-base-dev libatlas3-base libblas3 libgfortran5 liblapack-dev\n",
      "  liblapack3\n",
      "0 upgraded, 6 newly installed, 0 to remove and 86 not upgraded.\n",
      "Need to get 15.3 MB of archives.\n",
      "After this operation, 72.2 MB of additional disk space will be used.\n",
      "Get:1 http://archive.ubuntu.com/ubuntu jammy-updates/main amd64 libgfortran5 amd64 12.3.0-1ubuntu1~22.04 [879 kB]\n",
      "Get:2 http://archive.ubuntu.com/ubuntu jammy/universe amd64 libatlas3-base amd64 3.10.3-12ubuntu1 [3340 kB]\n",
      "Get:3 http://archive.ubuntu.com/ubuntu jammy/universe amd64 libatlas-base-dev amd64 3.10.3-12ubuntu1 [3590 kB]\n",
      "Get:4 http://archive.ubuntu.com/ubuntu jammy/main amd64 libblas3 amd64 3.10.0-2ubuntu1 [228 kB]\n",
      "Get:5 http://archive.ubuntu.com/ubuntu jammy/main amd64 liblapack3 amd64 3.10.0-2ubuntu1 [2504 kB]\n",
      "Get:6 http://archive.ubuntu.com/ubuntu jammy/main amd64 liblapack-dev amd64 3.10.0-2ubuntu1 [4774 kB]\n",
      "Fetched 15.3 MB in 4s (3821 kB/s)      \n",
      "debconf: delaying package configuration, since apt-utils is not installed\n",
      "Selecting previously unselected package libgfortran5:amd64.\n",
      "(Reading database ... 100772 files and directories currently installed.)\n",
      "Preparing to unpack .../0-libgfortran5_12.3.0-1ubuntu1~22.04_amd64.deb ...\n",
      "Unpacking libgfortran5:amd64 (12.3.0-1ubuntu1~22.04) ...\n",
      "Selecting previously unselected package libatlas3-base:amd64.\n",
      "Preparing to unpack .../1-libatlas3-base_3.10.3-12ubuntu1_amd64.deb ...\n",
      "Unpacking libatlas3-base:amd64 (3.10.3-12ubuntu1) ...\n",
      "Selecting previously unselected package libatlas-base-dev:amd64.\n",
      "Preparing to unpack .../2-libatlas-base-dev_3.10.3-12ubuntu1_amd64.deb ...\n",
      "Unpacking libatlas-base-dev:amd64 (3.10.3-12ubuntu1) ...\n",
      "Selecting previously unselected package libblas3:amd64.\n",
      "Preparing to unpack .../3-libblas3_3.10.0-2ubuntu1_amd64.deb ...\n",
      "Unpacking libblas3:amd64 (3.10.0-2ubuntu1) ...\n",
      "Selecting previously unselected package liblapack3:amd64.\n",
      "Preparing to unpack .../4-liblapack3_3.10.0-2ubuntu1_amd64.deb ...\n",
      "Unpacking liblapack3:amd64 (3.10.0-2ubuntu1) ...\n",
      "Selecting previously unselected package liblapack-dev:amd64.\n",
      "Preparing to unpack .../5-liblapack-dev_3.10.0-2ubuntu1_amd64.deb ...\n",
      "Unpacking liblapack-dev:amd64 (3.10.0-2ubuntu1) ...\n",
      "Setting up libblas3:amd64 (3.10.0-2ubuntu1) ...\n",
      "update-alternatives: using /usr/lib/x86_64-linux-gnu/blas/libblas.so.3 to provide /usr/lib/x86_64-linux-gnu/libblas.so.3 (libblas.so.3-x86_64-linux-gnu) in auto mode\n",
      "Setting up libgfortran5:amd64 (12.3.0-1ubuntu1~22.04) ...\n",
      "Setting up liblapack3:amd64 (3.10.0-2ubuntu1) ...\n",
      "update-alternatives: using /usr/lib/x86_64-linux-gnu/lapack/liblapack.so.3 to provide /usr/lib/x86_64-linux-gnu/liblapack.so.3 (liblapack.so.3-x86_64-linux-gnu) in auto mode\n",
      "Setting up libatlas3-base:amd64 (3.10.3-12ubuntu1) ...\n",
      "update-alternatives: using /usr/lib/x86_64-linux-gnu/atlas/libblas.so.3 to provide /usr/lib/x86_64-linux-gnu/libblas.so.3 (libblas.so.3-x86_64-linux-gnu) in auto mode\n",
      "update-alternatives: using /usr/lib/x86_64-linux-gnu/atlas/liblapack.so.3 to provide /usr/lib/x86_64-linux-gnu/liblapack.so.3 (liblapack.so.3-x86_64-linux-gnu) in auto mode\n",
      "Setting up libatlas-base-dev:amd64 (3.10.3-12ubuntu1) ...\n",
      "update-alternatives: using /usr/lib/x86_64-linux-gnu/atlas/libblas.so to provide /usr/lib/x86_64-linux-gnu/libblas.so (libblas.so-x86_64-linux-gnu) in auto mode\n",
      "update-alternatives: using /usr/lib/x86_64-linux-gnu/atlas/liblapack.so to provide /usr/lib/x86_64-linux-gnu/liblapack.so (liblapack.so-x86_64-linux-gnu) in auto mode\n",
      "Setting up liblapack-dev:amd64 (3.10.0-2ubuntu1) ...\n",
      "Processing triggers for libc-bin (2.35-0ubuntu3.4) ...\n"
     ]
    }
   ],
   "source": [
    "!apt-get update\n",
    "!apt-get install -y libgomp1 libatlas-base-dev liblapack-dev"
   ]
  },
  {
   "cell_type": "code",
   "execution_count": 2,
   "id": "ec0d44ed-a953-49c9-b1c8-fe0ee5446194",
   "metadata": {},
   "outputs": [
    {
     "name": "stdout",
     "output_type": "stream",
     "text": [
      "Looking in indexes: https://pypi.tuna.tsinghua.edu.cn/simple\n",
      "Collecting sqlite-vss\n",
      "  Downloading https://pypi.tuna.tsinghua.edu.cn/packages/39/77/74439767271950f6e463ee4d1594d82dce4e2fa5bf2c73b343046a083f4d/sqlite_vss-0.1.2-py3-none-manylinux_2_17_x86_64.manylinux2014_x86_64.manylinux1_x86_64.whl (1.6 MB)\n",
      "\u001b[2K     \u001b[90m━━━━━━━━━━━━━━━━━━━━━━━━━━━━━━━━━━━━━━━━\u001b[0m \u001b[32m1.6/1.6 MB\u001b[0m \u001b[31m9.2 MB/s\u001b[0m eta \u001b[36m0:00:00\u001b[0ma \u001b[36m0:00:01\u001b[0m\n",
      "\u001b[?25hInstalling collected packages: sqlite-vss\n",
      "Successfully installed sqlite-vss-0.1.2\n",
      "\u001b[33mWARNING: Running pip as the 'root' user can result in broken permissions and conflicting behaviour with the system package manager. It is recommended to use a virtual environment instead: https://pip.pypa.io/warnings/venv\u001b[0m\u001b[33m\n",
      "\u001b[0m"
     ]
    }
   ],
   "source": [
    "!pip install sqlite-vss"
   ]
  },
  {
   "cell_type": "markdown",
   "id": "56c62fbf-19bd-4677-847d-de30696e2dc5",
   "metadata": {},
   "source": [
    "## 测试可用性"
   ]
  },
  {
   "cell_type": "code",
   "execution_count": 1,
   "id": "f840cf9b-8780-4b32-88a9-48890eaa69f2",
   "metadata": {},
   "outputs": [
    {
     "name": "stdout",
     "output_type": "stream",
     "text": [
      "v0.1.2\n"
     ]
    }
   ],
   "source": [
    "# 加载内存数据库和插件\n",
    "\n",
    "import sqlite3\n",
    "import sqlite_vss\n",
    "\n",
    "db = sqlite3.connect(':memory:')\n",
    "db.enable_load_extension(True)\n",
    "sqlite_vss.load(db)\n",
    "db.enable_load_extension(False)\n",
    "\n",
    "version, = db.execute('select vss_version()').fetchone()\n",
    "print(version)"
   ]
  },
  {
   "cell_type": "code",
   "execution_count": 2,
   "id": "d809ab71-33b5-42af-8151-50f83ae4686d",
   "metadata": {},
   "outputs": [],
   "source": [
    "# 创建存储表\n",
    "\n",
    "# 创建一个游标对象\n",
    "cursor = db.cursor()\n",
    "\n",
    "# 创建一个名为 example_table 的表，包含一个字段 name（文本类型）\n",
    "cursor.execute('''\n",
    "create virtual table vss_demo using vss0(\n",
    "  a(2)\n",
    ")\n",
    "''')\n",
    "\n",
    "# 提交更改\n",
    "db.commit()"
   ]
  },
  {
   "cell_type": "code",
   "execution_count": 3,
   "id": "f7e6acc5-f57d-4117-b20c-fafba2e39fe6",
   "metadata": {},
   "outputs": [
    {
     "data": {
      "text/plain": [
       "<sqlite3.Cursor at 0x7fe9391422c0>"
      ]
     },
     "execution_count": 3,
     "metadata": {},
     "output_type": "execute_result"
    }
   ],
   "source": [
    "# 插入一个向量字段\n",
    "\n",
    "import json\n",
    "\n",
    "embedding = [0.1, 0.2, 0.3]\n",
    "db.execute(\"insert into vss_demo(a) values (?)\", [json.dumps(embedding)])"
   ]
  },
  {
   "cell_type": "code",
   "execution_count": 4,
   "id": "21d4fd00-8175-4811-bf1c-c2fb40b99afe",
   "metadata": {},
   "outputs": [
    {
     "data": {
      "text/plain": [
       "<sqlite3.Cursor at 0x7fe9391421c0>"
      ]
     },
     "execution_count": 4,
     "metadata": {},
     "output_type": "execute_result"
    }
   ],
   "source": [
    "# 建虚拟表\n",
    "cursor.execute('''\n",
    "create virtual table vss_xyz using vss0(\n",
    "  headline_embedding(1024),\n",
    "  description_embedding(1024) \n",
    ")\n",
    "''')"
   ]
  },
  {
   "cell_type": "code",
   "execution_count": 5,
   "id": "99f22044-9f40-47a3-ac91-b62afc3ae757",
   "metadata": {},
   "outputs": [
    {
     "data": {
      "text/plain": [
       "<sqlite3.Cursor at 0x7fe9391421c0>"
      ]
     },
     "execution_count": 5,
     "metadata": {},
     "output_type": "execute_result"
    }
   ],
   "source": [
    "# 训练\n",
    "cursor.execute('''\n",
    "insert into vss_xyz(operation, description_embedding)\n",
    "  select 'training', description_embedding from vss_xyz\n",
    "''')"
   ]
  },
  {
   "cell_type": "code",
   "execution_count": 6,
   "id": "8da84a9c-3425-43a7-b7d8-091f898dd3f5",
   "metadata": {},
   "outputs": [
    {
     "data": {
      "text/plain": [
       "<sqlite3.Cursor at 0x7fe9391421c0>"
      ]
     },
     "execution_count": 6,
     "metadata": {},
     "output_type": "execute_result"
    }
   ],
   "source": [
    "# 插入数据\n",
    "cursor.execute('''\n",
    "insert into vss_xyz(rowid, headline_embedding, description_embedding)\n",
    "  select rowid, headline_embedding, description_embedding from vss_xyz\n",
    "''')"
   ]
  },
  {
   "cell_type": "code",
   "execution_count": 7,
   "id": "091b993d-24e9-4da1-960f-826c451eee8e",
   "metadata": {},
   "outputs": [
    {
     "data": {
      "text/plain": [
       "<sqlite3.Cursor at 0x7fe9391421c0>"
      ]
     },
     "execution_count": 7,
     "metadata": {},
     "output_type": "execute_result"
    }
   ],
   "source": [
    "cursor.execute('''\n",
    "insert into vss_xyz(headline_embedding)\n",
    "  values ('[0.1, 0.2, 0.3]')\n",
    "''')"
   ]
  },
  {
   "cell_type": "code",
   "execution_count": 8,
   "id": "731949e9-af51-46de-b03c-fef353fa380e",
   "metadata": {},
   "outputs": [],
   "source": [
    "# 提交更改\n",
    "db.commit()"
   ]
  },
  {
   "cell_type": "code",
   "execution_count": 9,
   "id": "de284820-6a9e-42b2-ba6c-c885cc6969e6",
   "metadata": {},
   "outputs": [
    {
     "ename": "OperationalError",
     "evalue": "Error reconstructing vector - Does the column factory string end with IDMap2? Full error: Error in void faiss::IndexIDMap2Template<IndexT>::reconstruct(faiss::idx_t, typename IndexT::component_t*) const [with IndexT = faiss::Index; faiss::idx_t = long int; typename IndexT::component_t = float] at /home/runner/work/sqlite-vss/sqlite-vss/vendor/faiss/faiss/IndexIDMap.cpp:236: key 0 not found",
     "output_type": "error",
     "traceback": [
      "\u001b[0;31m---------------------------------------------------------------------------\u001b[0m",
      "\u001b[0;31mOperationalError\u001b[0m                          Traceback (most recent call last)",
      "Cell \u001b[0;32mIn[9], line 1\u001b[0m\n\u001b[0;32m----> 1\u001b[0m \u001b[43mcursor\u001b[49m\u001b[38;5;241;43m.\u001b[39;49m\u001b[43mexecute\u001b[49m\u001b[43m(\u001b[49m\u001b[38;5;124;43m'''\u001b[39;49m\n\u001b[1;32m      2\u001b[0m \u001b[38;5;124;43mselect * from vss_xyz\u001b[39;49m\n\u001b[1;32m      3\u001b[0m \u001b[38;5;124;43m'''\u001b[39;49m\u001b[43m)\u001b[49m\n",
      "\u001b[0;31mOperationalError\u001b[0m: Error reconstructing vector - Does the column factory string end with IDMap2? Full error: Error in void faiss::IndexIDMap2Template<IndexT>::reconstruct(faiss::idx_t, typename IndexT::component_t*) const [with IndexT = faiss::Index; faiss::idx_t = long int; typename IndexT::component_t = float] at /home/runner/work/sqlite-vss/sqlite-vss/vendor/faiss/faiss/IndexIDMap.cpp:236: key 0 not found"
     ]
    }
   ],
   "source": [
    "cursor.execute('''\n",
    "select * from vss_xyz\n",
    "''')"
   ]
  },
  {
   "cell_type": "code",
   "execution_count": null,
   "id": "6e740b6e-cedd-4669-a69b-fd672adfb6be",
   "metadata": {},
   "outputs": [],
   "source": []
  }
 ],
 "metadata": {
  "kernelspec": {
   "display_name": "Python 3 (ipykernel)",
   "language": "python",
   "name": "python3"
  },
  "language_info": {
   "codemirror_mode": {
    "name": "ipython",
    "version": 3
   },
   "file_extension": ".py",
   "mimetype": "text/x-python",
   "name": "python",
   "nbconvert_exporter": "python",
   "pygments_lexer": "ipython3",
   "version": "3.10.12"
  }
 },
 "nbformat": 4,
 "nbformat_minor": 5
}
