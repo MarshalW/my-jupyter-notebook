{
 "cells": [
  {
   "cell_type": "markdown",
   "id": "a351dc5f-81ba-4b98-a27d-c4a38c796abc",
   "metadata": {},
   "source": [
    "# 确认milvus使用了余弦相似度"
   ]
  },
  {
   "cell_type": "markdown",
   "id": "fbda9964-1df4-412c-a836-9b79a9f3d2c1",
   "metadata": {},
   "source": [
    "目前默认情况下，milvus的分数值为200左右，明显不在正负1之间。\n",
    "\n",
    "因此无法通过 similarity_cutoff 过滤。"
   ]
  },
  {
   "cell_type": "code",
   "execution_count": 7,
   "id": "077e6009-3369-4770-a07d-3a0186adb5f7",
   "metadata": {},
   "outputs": [
    {
     "name": "stdout",
     "output_type": "stream",
     "text": [
      "CPU times: user 624 ms, sys: 64.8 ms, total: 689 ms\n",
      "Wall time: 693 ms\n"
     ]
    }
   ],
   "source": [
    "%%time\n",
    "\n",
    "import logging\n",
    "import sys\n",
    "\n",
    "from llama_index.core import VectorStoreIndex, SimpleDirectoryReader\n",
    "from llama_index.core import StorageContext\n",
    "from llama_index.embeddings.huggingface import HuggingFaceEmbedding\n",
    "from IPython.display import Markdown, display\n",
    "from llama_index.core import Settings\n",
    "from llama_index.embeddings.ollama import OllamaEmbedding\n",
    "\n",
    "from llama_index.llms.openai_like import OpenAILike\n",
    "\n",
    "from llama_index.core import VectorStoreIndex, StorageContext\n",
    "from llama_index.vector_stores.milvus import MilvusVectorStore"
   ]
  },
  {
   "cell_type": "code",
   "execution_count": 2,
   "id": "c26806dd-4b62-4cd3-9b83-c0c4465661c7",
   "metadata": {},
   "outputs": [
    {
     "data": {
      "text/plain": [
       "_Settings(_llm=None, _embed_model=None, _callback_manager=None, _tokenizer=None, _node_parser=SentenceSplitter(include_metadata=True, include_prev_next_rel=True, callback_manager=<llama_index.core.callbacks.base.CallbackManager object at 0x7f4d964e4a90>, id_func=<function default_id_func at 0x7f4e546f71c0>, chunk_size=128, chunk_overlap=10, separator=' ', paragraph_separator='\\n\\n\\n', secondary_chunking_regex='[^,.;。？！]+[,.;。？！]?'), _prompt_helper=None, _transformations=None)"
      ]
     },
     "execution_count": 2,
     "metadata": {},
     "output_type": "execute_result"
    }
   ],
   "source": [
    "Settings.chunk_size=128\n",
    "Settings.chunk_overlap=10\n",
    "\n",
    "Settings"
   ]
  },
  {
   "cell_type": "code",
   "execution_count": 3,
   "id": "9028dd7a-b2d7-470c-a90f-04877fd5cc41",
   "metadata": {},
   "outputs": [
    {
     "name": "stdout",
     "output_type": "stream",
     "text": [
      "CPU times: user 120 ms, sys: 3.51 ms, total: 124 ms\n",
      "Wall time: 123 ms\n"
     ]
    }
   ],
   "source": [
    "%%time\n",
    "\n",
    "llm = OpenAILike(model=\"qwen14b\", \n",
    "                 api_base=\"http://192.168.0.72:3000/v1\", \n",
    "                 api_key=\"sk-bJP6QSnUfjAYeYeE505d3eBf63A643BeB0B8E350Df9b7750\",\n",
    "                 is_chat_model=True,\n",
    "                 temperature=0.1\n",
    "                )\n",
    "\n",
    "Settings.llm =llm"
   ]
  },
  {
   "cell_type": "code",
   "execution_count": 4,
   "id": "e189cdea-854b-4d72-86da-ad78a19ee090",
   "metadata": {},
   "outputs": [
    {
     "name": "stdout",
     "output_type": "stream",
     "text": [
      "CPU times: user 424 ms, sys: 27.5 ms, total: 452 ms\n",
      "Wall time: 451 ms\n"
     ]
    }
   ],
   "source": [
    "%%time\n",
    "\n",
    "# 初始化全局 embedding 模型\n",
    "from llama_index.embeddings.ollama import OllamaEmbedding\n",
    "\n",
    "ollama_embedding = OllamaEmbedding(\n",
    "    model_name=\"dztech/bge-large-zh:v1.5\",\n",
    "    # model_name=\"bge-m3:latest\",\n",
    "    base_url=\"http://192.168.0.72:11435\",\n",
    "    ollama_additional_kwargs={\"mirostat\": 0}, # -mirostat N 使用 Mirostat 采样。\n",
    ")\n",
    "\n",
    "Settings.embed_model = ollama_embedding"
   ]
  },
  {
   "cell_type": "code",
   "execution_count": 5,
   "id": "5ea3dd1a-b7c9-4a1f-930e-3a52e0578b66",
   "metadata": {},
   "outputs": [
    {
     "name": "stdout",
     "output_type": "stream",
     "text": [
      "v2.3.5-lite\n",
      "CPU times: user 3.53 s, sys: 256 ms, total: 3.79 s\n",
      "Wall time: 7.21 s\n"
     ]
    }
   ],
   "source": [
    "%%time\n",
    "\n",
    "from milvus import default_server\n",
    "from pymilvus import connections, utility\n",
    "\n",
    "default_server.set_base_dir('milvus_data')\n",
    "\n",
    "# (OPTIONAL) if you want cleanup previous data\n",
    "default_server.cleanup()\n",
    "\n",
    "# Start your milvus server\n",
    "default_server.start()\n",
    "\n",
    "# Now you could connect with localhost and the given port\n",
    "# Port is defined by default_server.listen_port\n",
    "connections.connect(host='127.0.0.1', port=default_server.listen_port)\n",
    "\n",
    "# Check if the server is ready.\n",
    "print(utility.get_server_version())"
   ]
  },
  {
   "cell_type": "code",
   "execution_count": 6,
   "id": "52c94e3a-a98f-483c-afb2-42fb614dd455",
   "metadata": {},
   "outputs": [
    {
     "name": "stdout",
     "output_type": "stream",
     "text": [
      "Document ID: 68b48806-b570-411f-868c-1c657f97d22e\n",
      "CPU times: user 9.55 ms, sys: 146 µs, total: 9.69 ms\n",
      "Wall time: 10.2 ms\n"
     ]
    }
   ],
   "source": [
    "%%time\n",
    "\n",
    "# load documents\n",
    "documents = SimpleDirectoryReader(input_files=[\"./books1/故乡.txt\"]).load_data()\n",
    "print(\"Document ID:\", documents[0].doc_id)"
   ]
  },
  {
   "cell_type": "code",
   "execution_count": 23,
   "id": "903599db-9361-4b77-b910-f12eef821588",
   "metadata": {},
   "outputs": [
    {
     "name": "stdout",
     "output_type": "stream",
     "text": [
      "CPU times: user 412 ms, sys: 15 ms, total: 427 ms\n",
      "Wall time: 12.2 s\n"
     ]
    }
   ],
   "source": [
    "%%time\n",
    "\n",
    "vector_store = MilvusVectorStore(dim=1024, overwrite=True)\n",
    "storage_context = StorageContext.from_defaults(vector_store=vector_store)\n",
    "index = VectorStoreIndex.from_documents(\n",
    "    documents, storage_context=storage_context\n",
    ")"
   ]
  },
  {
   "cell_type": "code",
   "execution_count": 30,
   "id": "697af97d-b16b-4774-9248-e608047a1b7b",
   "metadata": {},
   "outputs": [
    {
     "name": "stdout",
     "output_type": "stream",
     "text": [
      "CPU times: user 165 µs, sys: 0 ns, total: 165 µs\n",
      "Wall time: 168 µs\n"
     ]
    }
   ],
   "source": [
    "%%time\n",
    "\n",
    "# Query Data\n",
    "query_engine = index.as_query_engine(\n",
    "    streaming=True,\n",
    "    similarity_top_k=3,\n",
    "    similarity_cutoff=300.0\n",
    ")"
   ]
  },
  {
   "cell_type": "code",
   "execution_count": 31,
   "id": "bfb00c5c-cd91-4690-a697-491cb62124a4",
   "metadata": {},
   "outputs": [
    {
     "name": "stdout",
     "output_type": "stream",
     "text": [
      "闰土是鲁迅小说《故乡》中的人物，他是一个和主角（可能是作者自己）年龄相仿的孩子，因为生于闰月，五行缺土，所以他的父亲给他取名为闰土。他以能装弓捉小鸟雀而闻名。在故事中，闰土来到祭器管理处，并且与主角有过互动。\n",
      "\n",
      "CPU times: user 103 ms, sys: 16.3 ms, total: 120 ms\n",
      "Wall time: 3.91 s\n"
     ]
    }
   ],
   "source": [
    "%%time\n",
    "\n",
    "streaming_response = query_engine.query(\"闰土是谁\")\n",
    "streaming_response.print_response_stream()\n",
    "print()"
   ]
  },
  {
   "cell_type": "code",
   "execution_count": 32,
   "id": "305731ae-1847-47a6-9c82-b90c853c568f",
   "metadata": {},
   "outputs": [
    {
     "name": "stdout",
     "output_type": "stream",
     "text": [
      "227.4545440673828 故乡.txt 我这时很兴奋，但不知..\n",
      "218.80593872070312 故乡.txt 闰土来管祭器的。　　..\n",
      "216.45843505859375 故乡.txt “阿呀，老太太真是…..\n"
     ]
    }
   ],
   "source": [
    "for node in streaming_response.source_nodes:\n",
    "    print(node.score,node.metadata[\"file_name\"],(lambda s: s.replace('\\n', '')[:10] + '..' if len(s.replace('\\n', '')) > 10 else s.replace('\\n', ''))(node.text))"
   ]
  },
  {
   "cell_type": "markdown",
   "id": "0865491c-702b-4d21-af6a-6846c32e1f0e",
   "metadata": {},
   "source": [
    "## 使用底层api"
   ]
  },
  {
   "cell_type": "code",
   "execution_count": 42,
   "id": "4d962891-ab7e-48a1-b80b-ac5c3679d02c",
   "metadata": {},
   "outputs": [
    {
     "name": "stdout",
     "output_type": "stream",
     "text": [
      "CPU times: user 5 µs, sys: 1 µs, total: 6 µs\n",
      "Wall time: 7.87 µs\n"
     ]
    }
   ],
   "source": [
    "%%time\n",
    "\n",
    "from llama_index.core import PromptTemplate\n",
    "\n",
    "qa_template = (\n",
    "    \"上下文信息如下\\n\"\n",
    "    \"---------------------\\n\"\n",
    "    \"{context_str}\\n\"\n",
    "    \"---------------------\\n\"\n",
    "    \"根据给定的上下文信息回答问题，不要使用任何先验知识。\\n\"\n",
    "    \"问题: {query_str}\\n\"\n",
    "    \"回答: \"\n",
    ")"
   ]
  },
  {
   "cell_type": "code",
   "execution_count": 46,
   "id": "30513079-052c-49cc-87c6-f40a4adbae9d",
   "metadata": {},
   "outputs": [
    {
     "name": "stdout",
     "output_type": "stream",
     "text": [
      "CPU times: user 114 µs, sys: 54 µs, total: 168 µs\n",
      "Wall time: 172 µs\n"
     ]
    }
   ],
   "source": [
    "%%time\n",
    "\n",
    "# Query Data\n",
    "query_engine = index.as_query_engine(\n",
    "    streaming=True,\n",
    "    similarity_top_k=3,\n",
    "    # text_qa_template=qa_template\n",
    ")"
   ]
  },
  {
   "cell_type": "code",
   "execution_count": 47,
   "id": "842d0f29-816d-4a38-94e1-2a4317616d7d",
   "metadata": {},
   "outputs": [
    {
     "name": "stdout",
     "output_type": "stream",
     "text": [
      "从给定的文本中无法找到关于孔乙己的信息。这些文本摘自鲁迅的小说《故乡》，主要描述了主角“我”和少年闰土的故事，以及祭祀等情节，并没有提及孔乙己这个人。因此，根据提供的上下文，无法回答关于孔乙己的问题。\n",
      "\n",
      "\n",
      "\n",
      "\n",
      "CPU times: user 98.4 ms, sys: 16 ms, total: 114 ms\n",
      "Wall time: 7.15 s\n"
     ]
    }
   ],
   "source": [
    "%%time\n",
    "\n",
    "streaming_response = query_engine.query(\"孔乙己是谁\")\n",
    "streaming_response.print_response_stream()\n",
    "print()"
   ]
  },
  {
   "cell_type": "code",
   "execution_count": 48,
   "id": "959d0f99-8d1c-4a06-8038-1602d95ac369",
   "metadata": {},
   "outputs": [
    {
     "name": "stdout",
     "output_type": "stream",
     "text": [
      "158.2081756591797 故乡.txt 闰土来管祭器的。　　..\n",
      "156.04373168945312 故乡.txt ，反从他的胯下逃走了..\n",
      "154.89532470703125 故乡.txt “阿呀，老太太真是…..\n"
     ]
    }
   ],
   "source": [
    "for node in streaming_response.source_nodes:\n",
    "    print(node.score,node.metadata[\"file_name\"],(lambda s: s.replace('\\n', '')[:10] + '..' if len(s.replace('\\n', '')) > 10 else s.replace('\\n', ''))(node.text))"
   ]
  },
  {
   "cell_type": "code",
   "execution_count": null,
   "id": "67dee635-69d1-4460-8d75-04e5ff440123",
   "metadata": {},
   "outputs": [],
   "source": []
  }
 ],
 "metadata": {
  "kernelspec": {
   "display_name": "Python 3 (ipykernel)",
   "language": "python",
   "name": "python3"
  },
  "language_info": {
   "codemirror_mode": {
    "name": "ipython",
    "version": 3
   },
   "file_extension": ".py",
   "mimetype": "text/x-python",
   "name": "python",
   "nbconvert_exporter": "python",
   "pygments_lexer": "ipython3",
   "version": "3.10.12"
  }
 },
 "nbformat": 4,
 "nbformat_minor": 5
}
