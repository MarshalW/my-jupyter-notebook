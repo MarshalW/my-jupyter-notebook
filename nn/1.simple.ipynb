{
 "cells": [
  {
   "cell_type": "markdown",
   "id": "cb922d3c-a5b4-439c-865c-af6aa79a25f7",
   "metadata": {},
   "source": [
    "# 简单示例\n",
    "\n",
    "## 示意性的神经网络训练和预测\n",
    "\n",
    "未使用 cuda，使用 cpu。\n",
    "\n",
    "简单的模拟了：\n",
    "\n",
    "- 创建神经网络\n",
    "- 训练生成模型\n",
    "- 模型的保存\n",
    "- "
   ]
  },
  {
   "cell_type": "code",
   "execution_count": 6,
   "id": "4d8ecf24-5fa8-472f-b8e5-afb8b85a38b2",
   "metadata": {},
   "outputs": [
    {
     "name": "stdout",
     "output_type": "stream",
     "text": [
      "Epoch [100/1000], Loss: 0.1675\n",
      "Epoch [200/1000], Loss: 0.0734\n",
      "Epoch [300/1000], Loss: 0.0569\n",
      "Epoch [400/1000], Loss: 0.0448\n",
      "Epoch [500/1000], Loss: 0.0358\n",
      "Epoch [600/1000], Loss: 0.0289\n",
      "Epoch [700/1000], Loss: 0.0238\n",
      "Epoch [800/1000], Loss: 0.0199\n",
      "Epoch [900/1000], Loss: 0.0170\n",
      "Epoch [1000/1000], Loss: 0.0148\n",
      "预测结果：3.7681140899658203\n"
     ]
    }
   ],
   "source": [
    "import torch\n",
    "import torch.nn as nn\n",
    "import torch.optim as optim\n",
    "import numpy as np\n",
    "\n",
    "# 生成一些示例数据\n",
    "np.random.seed(42)\n",
    "X = np.random.rand(100, 1)\n",
    "y = (3 * X + 2 + 0.1 * np.random.randn(100, 1)).astype(np.float32)\n",
    "\n",
    "# 转换数据为PyTorch张量\n",
    "X_tensor = torch.from_numpy(X)\n",
    "y_tensor = torch.from_numpy(y)\n",
    "\n",
    "# 定义一个简单的神经网络模型\n",
    "class SimpleModel(nn.Module):\n",
    "    def __init__(self):\n",
    "        super(SimpleModel, self).__init__()\n",
    "        self.fc = nn.Linear(1, 1)  # 输入1维，输出1维\n",
    "\n",
    "    def forward(self, x):\n",
    "        return self.fc(x)\n",
    "\n",
    "# 创建模型实例\n",
    "model = SimpleModel()\n",
    "\n",
    "# 定义损失函数和优化器\n",
    "criterion = nn.MSELoss()\n",
    "optimizer = optim.SGD(model.parameters(), lr=0.01)\n",
    "\n",
    "# 训练模型\n",
    "num_epochs = 1000\n",
    "for epoch in range(num_epochs):\n",
    "    # 前向传播\n",
    "    outputs = model(X_tensor.to(torch.float32))\n",
    "    loss = criterion(outputs, y_tensor.to(torch.float32))\n",
    "\n",
    "    # 反向传播和优化\n",
    "    optimizer.zero_grad()\n",
    "    loss.backward()\n",
    "    optimizer.step()\n",
    "\n",
    "    if (epoch + 1) % 100 == 0:\n",
    "        print(f'Epoch [{epoch + 1}/{num_epochs}], Loss: {loss.item():.4f}')\n",
    "\n",
    "# 保存模型\n",
    "model_path='1.simple.model'\n",
    "torch.save(model.state_dict(), model_path)\n",
    "\n",
    "# 加载模型进行预测\n",
    "loaded_model = SimpleModel()\n",
    "loaded_model.load_state_dict(torch.load(model_path))\n",
    "loaded_model.eval()\n",
    "\n",
    "# 准备要进行预测的数据\n",
    "new_data = np.array([[0.6]], dtype=np.float32)\n",
    "new_data_tensor = torch.from_numpy(new_data)\n",
    "\n",
    "# 使用加载的模型进行预测\n",
    "predicted = loaded_model(new_data_tensor)\n",
    "print(f'预测结果：{predicted.item()}')"
   ]
  },
  {
   "cell_type": "code",
   "execution_count": null,
   "id": "85c0beb1-5139-46c8-ba75-13d38e362976",
   "metadata": {},
   "outputs": [],
   "source": []
  }
 ],
 "metadata": {
  "kernelspec": {
   "display_name": "Python 3 (ipykernel)",
   "language": "python",
   "name": "python3"
  },
  "language_info": {
   "codemirror_mode": {
    "name": "ipython",
    "version": 3
   },
   "file_extension": ".py",
   "mimetype": "text/x-python",
   "name": "python",
   "nbconvert_exporter": "python",
   "pygments_lexer": "ipython3",
   "version": "3.10.12"
  }
 },
 "nbformat": 4,
 "nbformat_minor": 5
}
