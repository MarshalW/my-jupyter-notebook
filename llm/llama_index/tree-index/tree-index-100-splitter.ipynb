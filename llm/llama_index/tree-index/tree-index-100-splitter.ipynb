{
 "cells": [
  {
   "cell_type": "markdown",
   "id": "8c15832e-0034-41b5-bf16-07aede55b676",
   "metadata": {},
   "source": [
    "# TreeIndex 100 文档测试自定义分块 - 128"
   ]
  },
  {
   "cell_type": "markdown",
   "id": "a3d26c36-e44b-4e3c-a35c-0f7c108c7a39",
   "metadata": {},
   "source": [
    "设置很小的分块，比如 `128`，是否能提高性能。\n",
    "\n",
    "耗时： `root<<leaf_embedding<leaf`\n",
    "\n",
    "没有比较 `all_leaf`，因为太慢了。\n",
    "\n",
    "创建索引耗时增加，从默认 `1024` 的 `17m46s` 增加到 `2h41m56s`，相差大致10倍，存在线性关系，即分块越多，越耗时。\n",
    "\n",
    "建议：\n",
    "\n",
    "- 使用 `root` 方式，但要注意可能出现错误的可能\n",
    "- 尽量不要使用 `all_leaf` 方式，太慢了"
   ]
  },
  {
   "cell_type": "markdown",
   "id": "7f89a1eb-9b1c-4ede-9029-50ec215c75eb",
   "metadata": {},
   "source": [
    "## 全局设置"
   ]
  },
  {
   "cell_type": "code",
   "execution_count": 1,
   "id": "ad2a3b4e-b65d-4651-bd8b-72f858b02af4",
   "metadata": {},
   "outputs": [
    {
     "name": "stdout",
     "output_type": "stream",
     "text": [
      "CPU times: user 3.41 s, sys: 470 ms, total: 3.88 s\n",
      "Wall time: 3.99 s\n"
     ]
    }
   ],
   "source": [
    "%%time\n",
    "\n",
    "from llama_index.core import Settings\n",
    "from llama_index.llms.openai_like import OpenAILike\n",
    "from llama_index.embeddings.ollama import OllamaEmbedding\n",
    "\n",
    "Settings.llm=OpenAILike(\n",
    "    # model=\"qwen2\", \n",
    "    model=\"glm4\", \n",
    "    api_base=\"http://ape:3000/v1\", \n",
    "    api_key=\"sk-bJP6QSnUfjAYeYeE505d3eBf63A643BeB0B8E350Df9b7750\",\n",
    "    is_chat_model=True,\n",
    "    temperature=0.1,\n",
    "    request_timeout=60.0\n",
    ")\n",
    "\n",
    "Settings.embed_model = OllamaEmbedding(\n",
    "    model_name=\"quentinz/bge-large-zh-v1.5\",\n",
    "    base_url=\"http://ape:11434\",\n",
    "    ollama_additional_kwargs={\"mirostat\": 0}, # -mirostat N 使用 Mirostat 采样。\n",
    ")"
   ]
  },
  {
   "cell_type": "markdown",
   "id": "540ce7a7-437b-4d15-babe-e52aef1f1560",
   "metadata": {},
   "source": [
    "## 加载数据"
   ]
  },
  {
   "cell_type": "code",
   "execution_count": 2,
   "id": "8d418234-5227-4105-8fb4-fa468dda4091",
   "metadata": {},
   "outputs": [
    {
     "name": "stdout",
     "output_type": "stream",
     "text": [
      "CPU times: user 24.2 ms, sys: 7.91 ms, total: 32.1 ms\n",
      "Wall time: 52.9 ms\n"
     ]
    },
    {
     "data": {
      "text/plain": [
       "99"
      ]
     },
     "execution_count": 2,
     "metadata": {},
     "output_type": "execute_result"
    }
   ],
   "source": [
    "%%time\n",
    "\n",
    "from llama_index.core import SimpleDirectoryReader\n",
    "\n",
    "documents = SimpleDirectoryReader('./data').load_data()\n",
    "len(documents)"
   ]
  },
  {
   "cell_type": "markdown",
   "id": "6f1e8b44-374a-4cdb-b51c-829d60851c53",
   "metadata": {},
   "source": [
    "## 创建索引"
   ]
  },
  {
   "cell_type": "code",
   "execution_count": 3,
   "id": "b6659357-e63d-4746-bc87-da1496e692db",
   "metadata": {},
   "outputs": [
    {
     "name": "stdout",
     "output_type": "stream",
     "text": [
      "CPU times: user 17.1 s, sys: 321 ms, total: 17.4 s\n",
      "Wall time: 2h 41min 56s\n"
     ]
    }
   ],
   "source": [
    "%%time\n",
    "\n",
    "from llama_index.core import TreeIndex\n",
    "from llama_index.core.node_parser import SentenceSplitter\n",
    "\n",
    "index = TreeIndex.from_documents(\n",
    "    documents,\n",
    "    # num_children=5,\n",
    "    transformations=[SentenceSplitter(chunk_size=128,chunk_overlap=10)]\n",
    ")"
   ]
  },
  {
   "cell_type": "code",
   "execution_count": 4,
   "id": "f8498898-2d69-4a71-bb50-bf9d157c1ecd",
   "metadata": {},
   "outputs": [
    {
     "data": {
      "text/plain": [
       "11963"
      ]
     },
     "execution_count": 4,
     "metadata": {},
     "output_type": "execute_result"
    }
   ],
   "source": [
    "len(index.docstore.docs.items())"
   ]
  },
  {
   "cell_type": "markdown",
   "id": "491ac799-14ca-4123-a288-00227c6d15db",
   "metadata": {},
   "source": [
    "## 查询"
   ]
  },
  {
   "cell_type": "markdown",
   "id": "186cc2ce-e2e3-4a86-8abd-74277dcc2be1",
   "metadata": {},
   "source": [
    "### ROOT"
   ]
  },
  {
   "cell_type": "markdown",
   "id": "637a72d7-a7b9-4ae2-9de0-6e3c3c7307db",
   "metadata": {},
   "source": [
    "耗时很稳定，很快。\n",
    "\n",
    "仍然有错误，`颐和园，又称圆明园`\n"
   ]
  },
  {
   "cell_type": "code",
   "execution_count": 5,
   "id": "65f835e6-7f30-4651-8e60-e08e87d4562a",
   "metadata": {},
   "outputs": [
    {
     "name": "stdout",
     "output_type": "stream",
     "text": [
      "颐和园，又称圆明园，是位于北京的一个著名的文化遗产地。它是一座融合了自然美景与人工建筑的园林，被誉为“皇家园林之最”。颐和园的历史可以追溯到清朝乾隆年间，当时它是作为皇帝的夏宫而建造的。\n",
      "\n",
      "这座园林在历史上经历了多次重建和扩建。最初，它是由乾隆帝下令建造的，名为“清漪园”，主要用于避暑和休闲。后来，在咸丰、同治年间，由于战乱等原因，园林遭到了严重破坏。\n",
      "\n",
      "直到光绪年间，慈禧太后重新修复了园林，并对其进行了大规模的改造，将其改名为“颐和园”。在此期间，园林的建筑风格更加注重中西合璧，增添了许多新的景观和建筑，如长廊、十七孔桥等。\n",
      "\n",
      "颐和园不仅是中国古代皇家园林艺术的杰出代表，也是世界文化遗产之一。它以其独特的园林设计、丰富的文化内涵和精美的艺术品而闻名于世。园林内有许多重要的历史遗迹和文化遗物，包括佛香阁、昆明湖、万寿山等，都是游客参观的热点。\n",
      "\n",
      "此外，颐和园还举办了许多文化活动，如传统音乐表演、书画展览等，成为展示中国传统文化的重要场所。\n",
      "CPU times: user 8.21 ms, sys: 4.61 ms, total: 12.8 ms\n",
      "Wall time: 8.5 s\n"
     ]
    }
   ],
   "source": [
    "%%time\n",
    "\n",
    "from llama_index.core.indices.tree.base import TreeRetrieverMode\n",
    "\n",
    "query_engine = index.as_query_engine(\n",
    "    retriever_mode=TreeRetrieverMode.ROOT\n",
    ")\n",
    "\n",
    "response = query_engine.query(\"介绍下颐和园的历史\")\n",
    "print(response.response)"
   ]
  },
  {
   "cell_type": "markdown",
   "id": "0cde6a44-6bd9-4fa8-837e-0020bc503425",
   "metadata": {},
   "source": [
    "### SELECT_LEAF"
   ]
  },
  {
   "cell_type": "markdown",
   "id": "8485a165-9650-4a57-bffc-753cb1b990fd",
   "metadata": {},
   "source": [
    "和默认分块大小比较，慢的不多。\n",
    "\n",
    "从 16s 到 21s"
   ]
  },
  {
   "cell_type": "code",
   "execution_count": 6,
   "id": "fd6bd7da-4505-4229-9598-3ab63d865eab",
   "metadata": {},
   "outputs": [
    {
     "name": "stdout",
     "output_type": "stream",
     "text": [
      "颐和园位于北京，是中国著名的皇家园林之一。它原是清朝帝王的行宫和花园，始建于1750年，经过多次扩建和修缮，形成了今天我们所见的规模。\n",
      "\n",
      "在乾隆年间，颐和园被命名为“清漪园”，后来在光绪年间改为“颐和园”。这个园林不仅是一个供皇帝及皇室成员休憩游玩的地方，也是展示皇权威严的重要场所。\n",
      "\n",
      "园林内建筑精美，景色宜人，融合了中西方的园林艺术。其中最著名的景点包括长廊、佛香阁、十七孔桥等。在历史的长河中，颐和园见证了清朝的兴衰变迁，是中国古代园林艺术的杰出代表。\n",
      "CPU times: user 116 ms, sys: 6.41 ms, total: 122 ms\n",
      "Wall time: 21.7 s\n"
     ]
    }
   ],
   "source": [
    "%%time\n",
    "\n",
    "query_engine = index.as_query_engine(\n",
    "    retriever_mode=TreeRetrieverMode.SELECT_LEAF,\n",
    "    child_branch_factor=3,\n",
    ")\n",
    "\n",
    "response = query_engine.query(\"介绍下颐和园的历史\")\n",
    "print(response.response)"
   ]
  },
  {
   "cell_type": "markdown",
   "id": "d2f2f8e4-c940-4774-a9c6-eb392f2ec409",
   "metadata": {},
   "source": [
    "### SELECT_LEAF_EMBEDDING"
   ]
  },
  {
   "cell_type": "markdown",
   "id": "86d5449e-df00-4bb6-998e-880c962e7567",
   "metadata": {},
   "source": [
    "明显有遗漏的内容，1900年八国联军的破坏。\n",
    "\n",
    "因为提到了1860年英法联军的破坏。\n",
    "\n",
    "分块减少对耗时影响不大，14.9s 和 15.7s"
   ]
  },
  {
   "cell_type": "code",
   "execution_count": 8,
   "id": "18148c36-3e52-4696-b867-41d88accd5e9",
   "metadata": {},
   "outputs": [
    {
     "name": "stdout",
     "output_type": "stream",
     "text": [
      "颐和园的历史可以追溯到清朝时期。该园林最初名为清漪园，是乾隆皇帝为庆祝其母亲六十寿辰而建造的。1860年，英法联军入侵北京时，清漪园遭到严重破坏。1888年，慈禧太后重建了这座园林，并将其命名为颐和园，寓意“颐养天年”之意。\n",
      "\n",
      "在重建过程中，颐和园融合了中国传统园林艺术与西方建筑风格，成为了一座集自然景观、人工建筑于一体的皇家园林。其中，长廊是颐和园的标志性建筑之一，全长728米，共有273间房屋，是中国古代建筑的杰作。\n",
      "\n",
      "1900年，八国联军侵华战争期间，颐和园再次遭受破坏。1902年，清政府与各国达成协议，将颐和园归还给中国。此后，颐和园逐渐成为了一个对外开放的旅游景点。\n",
      "\n",
      "2009年，颐和园被联合国教科文组织列入世界文化遗产名录，成为中国园林艺术的杰出代表之一。\n",
      "CPU times: user 687 ms, sys: 3.58 ms, total: 691 ms\n",
      "Wall time: 15.7 s\n"
     ]
    }
   ],
   "source": [
    "%%time\n",
    "\n",
    "query_engine = index.as_query_engine(\n",
    "    retriever_mode=TreeRetrieverMode.SELECT_LEAF_EMBEDDING,\n",
    "    child_branch_factor=3,\n",
    ")\n",
    "\n",
    "response = query_engine.query(\"介绍下颐和园的历史\")\n",
    "print(response.response)"
   ]
  },
  {
   "cell_type": "code",
   "execution_count": null,
   "id": "90b89f95-e362-46c4-8774-27fce3c5e54c",
   "metadata": {},
   "outputs": [],
   "source": []
  }
 ],
 "metadata": {
  "kernelspec": {
   "display_name": "Python 3 (ipykernel)",
   "language": "python",
   "name": "python3"
  },
  "language_info": {
   "codemirror_mode": {
    "name": "ipython",
    "version": 3
   },
   "file_extension": ".py",
   "mimetype": "text/x-python",
   "name": "python",
   "nbconvert_exporter": "python",
   "pygments_lexer": "ipython3",
   "version": "3.10.12"
  }
 },
 "nbformat": 4,
 "nbformat_minor": 5
}
