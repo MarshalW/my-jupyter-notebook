{
 "cells": [
  {
   "cell_type": "markdown",
   "id": "9bba56da-7f41-4b4a-8be7-a9d0608d5adf",
   "metadata": {},
   "source": [
    "# 使用环境变量\n",
    "\n",
    "主要用于保存敏感信息，让代码的公开不会涉及安全问题。\n",
    "\n",
    "需要：\n",
    "\n",
    "```bash\n",
    "pip install python-dotenv\n",
    "```\n",
    "\n",
    "然后创建 `./.env` 文件，并将该文件设置到 `.gitignore` 忽略版本控制。\n",
    "\n",
    "```ini\n",
    "MY_KEY=\"My key@home\"\n",
    "```\n",
    "\n",
    "使用的代码如下："
   ]
  },
  {
   "cell_type": "code",
   "execution_count": 8,
   "id": "7a065ecb-3735-4cd1-b6ed-170ff8077bb5",
   "metadata": {},
   "outputs": [
    {
     "data": {
      "text/plain": [
       "'My key@home'"
      ]
     },
     "execution_count": 8,
     "metadata": {},
     "output_type": "execute_result"
    }
   ],
   "source": [
    "%reload_ext dotenv\n",
    "# %load_ext dotenv\n",
    "# %dotenv\n",
    "\n",
    "import os\n",
    "os.environ['MY_KEY']\n",
    "\n"
   ]
  }
 ],
 "metadata": {
  "kernelspec": {
   "display_name": "Python 3 (ipykernel)",
   "language": "python",
   "name": "python3"
  },
  "language_info": {
   "codemirror_mode": {
    "name": "ipython",
    "version": 3
   },
   "file_extension": ".py",
   "mimetype": "text/x-python",
   "name": "python",
   "nbconvert_exporter": "python",
   "pygments_lexer": "ipython3",
   "version": "3.10.12"
  }
 },
 "nbformat": 4,
 "nbformat_minor": 5
}
