{
 "cells": [
  {
   "cell_type": "markdown",
   "id": "b264375c-f975-4ace-b6fa-12bf1bed1be2",
   "metadata": {},
   "source": [
    "# 最基本的使用llm示例"
   ]
  },
  {
   "cell_type": "markdown",
   "id": "3d336c8f-0e14-4699-813d-8b1e805ff8c1",
   "metadata": {},
   "source": [
    "## 准备工作"
   ]
  },
  {
   "cell_type": "code",
   "execution_count": 1,
   "id": "fb670145-4790-4afc-8e9f-772d14d797cc",
   "metadata": {},
   "outputs": [
    {
     "name": "stdout",
     "output_type": "stream",
     "text": [
      "CPU times: user 33.7 ms, sys: 9.28 ms, total: 42.9 ms\n",
      "Wall time: 9.82 s\n"
     ]
    }
   ],
   "source": [
    "%%time\n",
    "%%capture\n",
    "\n",
    "!pip install openai\n",
    "!pip install langchain\n",
    "!pip install langchain-openai\n",
    "!pip install python-dotenv"
   ]
  },
  {
   "cell_type": "code",
   "execution_count": 22,
   "id": "bd65026c-d908-4a47-aa5e-c3f273939ca6",
   "metadata": {},
   "outputs": [
    {
     "name": "stdout",
     "output_type": "stream",
     "text": [
      "The dotenv extension is already loaded. To reload it, use:\n",
      "  %reload_ext dotenv\n"
     ]
    }
   ],
   "source": [
    "from langchain_openai import ChatOpenAI\n",
    "import os\n",
    "from langchain_core.messages import HumanMessage, SystemMessage\n",
    "\n",
    "%load_ext dotenv\n",
    "%dotenv"
   ]
  },
  {
   "cell_type": "markdown",
   "id": "e879286a-abf9-474a-baff-ddc844bc5473",
   "metadata": {},
   "source": [
    "## 加载 chat 对象"
   ]
  },
  {
   "cell_type": "code",
   "execution_count": 29,
   "id": "d1c92657-4d33-42fe-b224-09adcfc39676",
   "metadata": {},
   "outputs": [
    {
     "name": "stdout",
     "output_type": "stream",
     "text": [
      "CPU times: user 139 ms, sys: 3.74 ms, total: 142 ms\n",
      "Wall time: 141 ms\n"
     ]
    }
   ],
   "source": [
    "%%time\n",
    "\n",
    "token = os.environ.get('ONE_API_TOKEN')\n",
    "base_url=os.environ.get('ONE_API_URL')\n",
    "\n",
    "chat = ChatOpenAI(api_key=token, \n",
    "                  base_url=base_url,\n",
    "                  model='xiaoyu', \n",
    "                  temperature=0,\n",
    "                  max_tokens=512)\n",
    "\n",
    "system_message=SystemMessage(content=\"你是小羽，是一个人工智能助手。\")"
   ]
  },
  {
   "cell_type": "markdown",
   "id": "7b49424e-5d10-402f-a940-97fc32b6a5f1",
   "metadata": {},
   "source": [
    "## 最简单的对话"
   ]
  },
  {
   "cell_type": "code",
   "execution_count": 25,
   "id": "e6a4e125-674a-4f88-aa7d-386e9d07342b",
   "metadata": {},
   "outputs": [
    {
     "name": "stdout",
     "output_type": "stream",
     "text": [
      "CPU times: user 6.3 ms, sys: 4.28 ms, total: 10.6 ms\n",
      "Wall time: 1.24 s\n"
     ]
    },
    {
     "data": {
      "text/plain": [
       "'我是来自阿里云的大规模语言模型，我叫通义千问。我可以回答各种问题、提供信息和与你进行对话。有什么可以帮助你的吗？'"
      ]
     },
     "execution_count": 25,
     "metadata": {},
     "output_type": "execute_result"
    }
   ],
   "source": [
    "%%time\n",
    "\n",
    "messages = [\n",
    "    system_message,\n",
    "    HumanMessage(content=\"你谁啊？\"),\n",
    "]\n",
    "\n",
    "chat.invoke(messages).content"
   ]
  },
  {
   "cell_type": "markdown",
   "id": "d4d0077f-9452-4093-81dc-c07c86920f7f",
   "metadata": {},
   "source": [
    "## 流式对话"
   ]
  },
  {
   "cell_type": "code",
   "execution_count": 30,
   "id": "e33ca096-1392-4c45-97a5-019c81a9bd40",
   "metadata": {},
   "outputs": [
    {
     "name": "stdout",
     "output_type": "stream",
     "text": [
      "所罗门诺夫妖（Solomonoff's demon）是英国数学家和计算机科学家雷·库兹韦尔提出的一个思想实验，它是一种理论上拥有无限计算能力的超级智能。这个概念源于人工智能和概率论领域，用来探讨在信息不完整的情况下，如何做出最合理的预测或决策。\n",
      "\n",
      "所罗门诺夫妖假设这个超级智能能接收并解析所有可能的信息输入，无论它们来自何处，包括宇宙射线、随机噪声、甚至是自然界的微小事件。它通过统计学和算法来分析这些信息，利用贝叶斯定理来推断出最有可能的现实模型。这个模型会帮助妖预测未来、解释历史，甚至解答尚未被发现的科学问题。\n",
      "\n",
      "然而，所罗门诺夫妖的存在是理论上的，实际上我们不可能创造出这样一个无限智能，因为它需要处理无穷的信息流和计算资源。它更多是一个哲学和数学上的概念，用来探索智能的极限以及知识的本质。CPU times: user 360 ms, sys: 47.8 ms, total: 408 ms\n",
      "Wall time: 7.3 s\n"
     ]
    }
   ],
   "source": [
    "%%time\n",
    "\n",
    "messages = [\n",
    "    system_message,\n",
    "    HumanMessage(content=\"简要通俗的介绍下什么是所罗门诺夫妖\"),\n",
    "]\n",
    "\n",
    "for chunk in chat.stream(messages):\n",
    "    print(chunk.content, end=\"\", flush=True)"
   ]
  },
  {
   "cell_type": "code",
   "execution_count": null,
   "id": "f5567988-4311-4953-97d7-28018a3e9004",
   "metadata": {},
   "outputs": [],
   "source": []
  }
 ],
 "metadata": {
  "kernelspec": {
   "display_name": "Python 3 (ipykernel)",
   "language": "python",
   "name": "python3"
  },
  "language_info": {
   "codemirror_mode": {
    "name": "ipython",
    "version": 3
   },
   "file_extension": ".py",
   "mimetype": "text/x-python",
   "name": "python",
   "nbconvert_exporter": "python",
   "pygments_lexer": "ipython3",
   "version": "3.10.12"
  }
 },
 "nbformat": 4,
 "nbformat_minor": 5
}
