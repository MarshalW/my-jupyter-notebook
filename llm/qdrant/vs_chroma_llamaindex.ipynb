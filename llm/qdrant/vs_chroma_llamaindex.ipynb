{
 "cells": [
  {
   "cell_type": "markdown",
   "id": "113efc2c-45a3-4c72-bfa1-bf3b88a89ecd",
   "metadata": {},
   "source": [
    "# 和 Chroma 对比相似度是否有差别"
   ]
  },
  {
   "cell_type": "markdown",
   "id": "ce92bed7-bbce-4801-97ba-aa94a1ee9c43",
   "metadata": {},
   "source": [
    "问题：\n",
    "\n",
    "- 使用 Chroma 取的余弦相似度和直接使用嵌入模型不同\n",
    "  - `./simple.ipynb` 两个相似度分别是 0.6 和 0.3\n",
    "  - Chroma 是 0.65 和 0.5"
   ]
  },
  {
   "cell_type": "markdown",
   "id": "a7b2045a-9bec-462f-9145-5f29aa3ab1b1",
   "metadata": {},
   "source": [
    "## 准备"
   ]
  },
  {
   "cell_type": "code",
   "execution_count": 1,
   "id": "1813c7b2-1458-43df-9dba-84aa3a43f083",
   "metadata": {},
   "outputs": [
    {
     "name": "stdout",
     "output_type": "stream",
     "text": [
      "CPU times: user 10.5 ms, sys: 0 ns, total: 10.5 ms\n",
      "Wall time: 109 ms\n"
     ]
    }
   ],
   "source": [
    "%%time\n",
    "%%capture\n",
    "\n",
    "persist_dir = \"/tmp/chroma_my_books\"\n",
    "!rm -rf $persist_dir"
   ]
  },
  {
   "cell_type": "code",
   "execution_count": 2,
   "id": "6d43bac3-53ad-47ff-82d9-ce2b58a1d71c",
   "metadata": {},
   "outputs": [
    {
     "name": "stdout",
     "output_type": "stream",
     "text": [
      "CPU times: user 46.2 ms, sys: 13.6 ms, total: 59.7 ms\n",
      "Wall time: 14.8 s\n"
     ]
    }
   ],
   "source": [
    "%%time\n",
    "%%capture\n",
    "\n",
    "!pip install chromadb\n",
    "!pip install llama-index-vector-stores-chroma\n",
    "!pip install llama-index-embeddings-huggingface\n",
    "!pip install llama-index"
   ]
  },
  {
   "cell_type": "code",
   "execution_count": 3,
   "id": "5cf79dc9-497f-40b0-b6b2-1f889f6199f6",
   "metadata": {},
   "outputs": [
    {
     "name": "stdout",
     "output_type": "stream",
     "text": [
      "CPU times: user 2 µs, sys: 0 ns, total: 2 µs\n",
      "Wall time: 3.58 µs\n"
     ]
    }
   ],
   "source": [
    "%%time\n",
    "\n",
    "books = [\n",
    "    {\n",
    "        \"name\": \"围城\",\n",
    "        \"description\": \"主人公方鸿渐留学回国后，面临找工作和个人感情的种种问题。他经历了几段感情波折，包括与鲍小姐的失败婚姻和与孙柔嘉的恋情，最终与孙柔嘉结婚。但婚后生活并不如意，他在事业上也遭遇挫折，未能实现自己的理想。\",\n",
    "        \"author\": \"钱钟书\",\n",
    "    },\n",
    "    {\n",
    "        \"name\": \"故乡\",\n",
    "        \"description\": \"小说讲述了主人公“我”（即鲁迅的化身）在阔别多年后回到故乡接母亲到城里生活的故事。在故乡，他遇到了童年的玩伴闰土和老仆人杨二嫂。通过与他们的交谈和观察，主人公感受到故乡的变化和人们生活的困苦。\",\n",
    "        \"author\": \"鲁迅\",\n",
    "    },\n",
    "    {\n",
    "       \"name\": \"阿Q正传\",\n",
    "        \"description\": \"讲述了阿Q这个贫苦农民在中国封建社会中的悲惨生活。他虽然穷困潦倒，但心态自负，总是以精神胜利法来安慰自己，逃避现实的困境。然而，随着社会动荡和革命的到来，阿Q的命运变得更加悲惨，最终被误认为是革命党人而被处死。\",\n",
    "        \"author\": \"鲁迅\",\n",
    "    }, \n",
    "]"
   ]
  },
  {
   "cell_type": "code",
   "execution_count": 4,
   "id": "6e9a3b27-3571-4cfd-9534-922ed4b5a494",
   "metadata": {},
   "outputs": [
    {
     "name": "stdout",
     "output_type": "stream",
     "text": [
      "CPU times: user 2.75 s, sys: 314 ms, total: 3.07 s\n",
      "Wall time: 2.72 s\n"
     ]
    }
   ],
   "source": [
    "%%time\n",
    "\n",
    "from llama_index.core import Document\n",
    "\n",
    "documents=[]\n",
    "\n",
    "for book in books:\n",
    "    document=Document(\n",
    "        text=book['description'],\n",
    "        metadata={\"name\": book['name'], \"author\": book['author']},\n",
    "    )\n",
    "    documents.append(document)"
   ]
  },
  {
   "cell_type": "code",
   "execution_count": 5,
   "id": "85c35e7b-ad96-4f6f-8e8e-6459c9f777bf",
   "metadata": {},
   "outputs": [
    {
     "name": "stdout",
     "output_type": "stream",
     "text": [
      "CPU times: user 1.63 s, sys: 168 ms, total: 1.8 s\n",
      "Wall time: 1.73 s\n"
     ]
    }
   ],
   "source": [
    "%%time\n",
    "\n",
    "from llama_index.embeddings.fastembed import FastEmbedEmbedding\n",
    "from llama_index.embeddings.huggingface import HuggingFaceEmbedding\n",
    "from llama_index.core import Settings\n",
    "\n",
    "Settings.embed_model = HuggingFaceEmbedding(model_name=\"/models/bge-small-zh-v1.5\")"
   ]
  },
  {
   "cell_type": "code",
   "execution_count": 6,
   "id": "b2f544bd-9ca7-46a1-b3e9-0ac8413a6888",
   "metadata": {},
   "outputs": [
    {
     "data": {
      "text/plain": [
       "512"
      ]
     },
     "execution_count": 6,
     "metadata": {},
     "output_type": "execute_result"
    }
   ],
   "source": [
    "Settings.embed_model.max_length"
   ]
  },
  {
   "cell_type": "markdown",
   "id": "912bf093-169f-4e3d-a278-7692951ff9b5",
   "metadata": {},
   "source": [
    "## 使用 Chroma"
   ]
  },
  {
   "cell_type": "markdown",
   "id": "17f47472-a022-49ea-a721-ac502e0a3b7a",
   "metadata": {},
   "source": [
    "### 设置存储位置"
   ]
  },
  {
   "cell_type": "code",
   "execution_count": 7,
   "id": "723a286c-969f-478a-8791-2df49de075bf",
   "metadata": {},
   "outputs": [
    {
     "name": "stdout",
     "output_type": "stream",
     "text": [
      "CPU times: user 456 ms, sys: 15.7 ms, total: 471 ms\n",
      "Wall time: 471 ms\n"
     ]
    }
   ],
   "source": [
    "%%time\n",
    "\n",
    "import chromadb\n",
    "\n",
    "collection_name=\"my_books\"\n",
    "\n",
    "chroma_client = chromadb.EphemeralClient() # 临时客户端，内存存储\n",
    "chroma_collection = chroma_client.create_collection(\n",
    "    name=collection_name,\n",
    "    metadata={\"hnsw:space\": \"cosine\"},\n",
    "    # metadata={\"hnsw:space\": \"ip\"},\n",
    ")"
   ]
  },
  {
   "cell_type": "markdown",
   "id": "1d038e5e-9402-4e6f-a7f7-1e982c6f8b5a",
   "metadata": {},
   "source": [
    "### 构建 VectorStoreIndex"
   ]
  },
  {
   "cell_type": "code",
   "execution_count": 8,
   "id": "81148224-0399-44f2-b3d2-47991607b583",
   "metadata": {},
   "outputs": [
    {
     "name": "stdout",
     "output_type": "stream",
     "text": [
      "CPU times: user 567 ms, sys: 64.3 ms, total: 631 ms\n",
      "Wall time: 629 ms\n"
     ]
    }
   ],
   "source": [
    "%%time\n",
    "\n",
    "from llama_index.core import StorageContext\n",
    "from llama_index.vector_stores.chroma import ChromaVectorStore\n",
    "from llama_index.core import VectorStoreIndex\n",
    "\n",
    "vector_store = ChromaVectorStore(chroma_collection=chroma_collection)\n",
    "storage_context = StorageContext.from_defaults(vector_store=vector_store)\n",
    "\n",
    "index = VectorStoreIndex(documents, storage_context=storage_context)"
   ]
  },
  {
   "cell_type": "markdown",
   "id": "07ac4344-b6b7-44b7-9461-e30361fcbe26",
   "metadata": {},
   "source": [
    "## 查询"
   ]
  },
  {
   "cell_type": "code",
   "execution_count": 9,
   "id": "b9c57f8b-0c5a-422a-af4c-cc796cd7ff40",
   "metadata": {},
   "outputs": [
    {
     "name": "stdout",
     "output_type": "stream",
     "text": [
      "CPU times: user 9.06 ms, sys: 15.3 ms, total: 24.3 ms\n",
      "Wall time: 24.9 ms\n"
     ]
    },
    {
     "data": {
      "text/plain": [
       "[NodeWithScore(node=TextNode(id_='ae7d0e87-1e75-4679-baca-1b75f17ca57e', embedding=None, metadata={'name': '围城', 'author': '钱钟书'}, excluded_embed_metadata_keys=[], excluded_llm_metadata_keys=[], relationships={}, text='主人公方鸿渐留学回国后，面临找工作和个人感情的种种问题。他经历了几段感情波折，包括与鲍小姐的失败婚姻和与孙柔嘉的恋情，最终与孙柔嘉结婚。但婚后生活并不如意，他在事业上也遭遇挫折，未能实现自己的理想。', start_char_idx=None, end_char_idx=None, text_template='{metadata_str}\\n\\n{content}', metadata_template='{key}: {value}', metadata_seperator='\\n'), score=0.6553767513462198),\n",
       " NodeWithScore(node=TextNode(id_='5c85c31c-d068-401e-ad51-d5eeb6518d63', embedding=None, metadata={'name': '阿Q正传', 'author': '鲁迅'}, excluded_embed_metadata_keys=[], excluded_llm_metadata_keys=[], relationships={}, text='讲述了阿Q这个贫苦农民在中国封建社会中的悲惨生活。他虽然穷困潦倒，但心态自负，总是以精神胜利法来安慰自己，逃避现实的困境。然而，随着社会动荡和革命的到来，阿Q的命运变得更加悲惨，最终被误认为是革命党人而被处死。', start_char_idx=None, end_char_idx=None, text_template='{metadata_str}\\n\\n{content}', metadata_template='{key}: {value}', metadata_seperator='\\n'), score=0.5053860977050783)]"
      ]
     },
     "execution_count": 9,
     "metadata": {},
     "output_type": "execute_result"
    }
   ],
   "source": [
    "%%time\n",
    "\n",
    "retriever = index.as_retriever()\n",
    "nodes = retriever.retrieve(\"方鸿渐\")\n",
    "\n",
    "nodes"
   ]
  },
  {
   "cell_type": "markdown",
   "id": "969ca260-6c15-4388-bee5-70f58c63588f",
   "metadata": {},
   "source": [
    "### 过滤"
   ]
  },
  {
   "cell_type": "code",
   "execution_count": 10,
   "id": "41e9f9e6-d6dd-44c7-97b9-e729f6e6e662",
   "metadata": {},
   "outputs": [
    {
     "name": "stdout",
     "output_type": "stream",
     "text": [
      "CPU times: user 90 µs, sys: 10 µs, total: 100 µs\n",
      "Wall time: 103 µs\n"
     ]
    }
   ],
   "source": [
    "%%time\n",
    "\n",
    "from llama_index.core.vector_stores import (\n",
    "    MetadataFilter,\n",
    "    MetadataFilters,\n",
    "    FilterOperator,\n",
    ")\n",
    "\n",
    "filters = MetadataFilters(\n",
    "    filters=[\n",
    "        MetadataFilter(\n",
    "            key=\"author\", operator=FilterOperator.EQ, value=\"钱钟书\"\n",
    "        ),\n",
    "    ]\n",
    ")"
   ]
  },
  {
   "cell_type": "code",
   "execution_count": 11,
   "id": "439f56db-c881-486c-9ce7-8cf4fac8b6e7",
   "metadata": {},
   "outputs": [
    {
     "name": "stdout",
     "output_type": "stream",
     "text": [
      "CPU times: user 10.2 ms, sys: 0 ns, total: 10.2 ms\n",
      "Wall time: 9.41 ms\n"
     ]
    },
    {
     "data": {
      "text/plain": [
       "[NodeWithScore(node=TextNode(id_='ae7d0e87-1e75-4679-baca-1b75f17ca57e', embedding=None, metadata={'name': '围城', 'author': '钱钟书'}, excluded_embed_metadata_keys=[], excluded_llm_metadata_keys=[], relationships={}, text='主人公方鸿渐留学回国后，面临找工作和个人感情的种种问题。他经历了几段感情波折，包括与鲍小姐的失败婚姻和与孙柔嘉的恋情，最终与孙柔嘉结婚。但婚后生活并不如意，他在事业上也遭遇挫折，未能实现自己的理想。', start_char_idx=None, end_char_idx=None, text_template='{metadata_str}\\n\\n{content}', metadata_template='{key}: {value}', metadata_seperator='\\n'), score=0.6553767513462198)]"
      ]
     },
     "execution_count": 11,
     "metadata": {},
     "output_type": "execute_result"
    }
   ],
   "source": [
    "%%time\n",
    "\n",
    "retriever = index.as_retriever(filters=filters)\n",
    "nodes = retriever.retrieve(\"方鸿渐\")\n",
    "\n",
    "nodes"
   ]
  },
  {
   "cell_type": "code",
   "execution_count": null,
   "id": "1208ac10-16d6-4334-bd8a-b06cf28ef03e",
   "metadata": {},
   "outputs": [],
   "source": []
  }
 ],
 "metadata": {
  "kernelspec": {
   "display_name": "Python 3 (ipykernel)",
   "language": "python",
   "name": "python3"
  },
  "language_info": {
   "codemirror_mode": {
    "name": "ipython",
    "version": 3
   },
   "file_extension": ".py",
   "mimetype": "text/x-python",
   "name": "python",
   "nbconvert_exporter": "python",
   "pygments_lexer": "ipython3",
   "version": "3.10.12"
  }
 },
 "nbformat": 4,
 "nbformat_minor": 5
}
