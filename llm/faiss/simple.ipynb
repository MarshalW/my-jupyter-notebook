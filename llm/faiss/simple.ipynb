{
 "cells": [
  {
   "cell_type": "markdown",
   "id": "27382966-fb50-4517-aef5-de3deeb6fff3",
   "metadata": {},
   "source": [
    "# Faiss 示例"
   ]
  },
  {
   "cell_type": "markdown",
   "id": "4f7de03d-11b6-4439-b9c5-21a979422672",
   "metadata": {},
   "source": [
    "参考：\n",
    "\n",
    "- [Getting started](https://github.com/facebookresearch/faiss/wiki/Getting-started)\n",
    "- [Faster search](https://github.com/facebookresearch/faiss/wiki/Faster-search)\n",
    "- [Lower memory footprint](https://github.com/facebookresearch/faiss/wiki/Lower-memory-footprint)"
   ]
  },
  {
   "cell_type": "markdown",
   "id": "75f5e0c4-5dd8-4908-87a0-3287c29b9453",
   "metadata": {},
   "source": [
    "## 准备数据"
   ]
  },
  {
   "cell_type": "code",
   "execution_count": 3,
   "id": "44b0dd0a-ff89-4f50-b451-22cda8fbfeae",
   "metadata": {},
   "outputs": [
    {
     "name": "stdout",
     "output_type": "stream",
     "text": [
      "xb\n",
      "[[1.91519454e-01 6.22108757e-01 4.37727749e-01 ... 6.24916732e-01\n",
      "  4.78093803e-01 1.95675179e-01]\n",
      " [3.83317441e-01 5.38736843e-02 4.51648414e-01 ... 1.51395261e-01\n",
      "  3.35174650e-01 6.57551765e-01]\n",
      " [7.53425434e-02 5.50063960e-02 3.23194802e-01 ... 3.44416976e-01\n",
      "  6.40880406e-01 1.26205325e-01]\n",
      " ...\n",
      " [1.00811470e+02 5.90245306e-01 7.98893511e-01 ... 3.39859009e-01\n",
      "  3.01949501e-01 8.53854537e-01]\n",
      " [1.00669464e+02 9.16068792e-01 9.55078781e-01 ... 5.95364332e-01\n",
      "  3.84918079e-02 1.05637990e-01]\n",
      " [1.00855637e+02 5.91134131e-01 6.78907931e-01 ... 2.18976989e-01\n",
      "  6.53015897e-02 2.17538327e-01]]\n",
      "6400000\n",
      "xq\n",
      "[[ 0.81432974  0.7409969   0.8915324  ...  0.72459674  0.893881\n",
      "   0.6574571 ]\n",
      " [ 0.5844774   0.797842    0.74140453 ...  0.6768835   0.05907924\n",
      "   0.6396156 ]\n",
      " [ 0.75040764  0.02659794  0.5495097  ...  0.69562465  0.16268532\n",
      "   0.76653737]\n",
      " ...\n",
      " [10.96773     0.05037309  0.7342035  ...  0.89510185  0.6490696\n",
      "   0.86151606]\n",
      " [10.831193    0.70606154  0.1922274  ...  0.8026039   0.6854174\n",
      "   0.60209423]\n",
      " [10.078484    0.39106598  0.01359335 ...  0.63193923  0.12561724\n",
      "   0.78384215]]\n",
      "640000\n"
     ]
    }
   ],
   "source": [
    "import numpy as np\n",
    "d = 64                           # dimension\n",
    "nb = 100000                      # database size\n",
    "nq = 10000                       # nb of queries\n",
    "np.random.seed(1234)             # make reproducible\n",
    "xb = np.random.random((nb, d)).astype('float32')\n",
    "xb[:, 0] += np.arange(nb) / 1000.\n",
    "xq = np.random.random((nq, d)).astype('float32')\n",
    "xq[:, 0] += np.arange(nq) / 1000.\n",
    "\n",
    "print('xb')\n",
    "print(xb)\n",
    "print(xb.size)\n",
    "\n",
    "print('xq')\n",
    "print(xq)\n",
    "print(xq.size)"
   ]
  },
  {
   "cell_type": "markdown",
   "id": "8f82c4f9-5104-46b5-8392-e2918d294c24",
   "metadata": {},
   "source": [
    "## 构建索引和在索引中加入向量"
   ]
  },
  {
   "cell_type": "code",
   "execution_count": 4,
   "id": "42e3323b-ec1a-43d7-b572-88de1826236c",
   "metadata": {},
   "outputs": [
    {
     "name": "stdout",
     "output_type": "stream",
     "text": [
      "True\n",
      "100000\n",
      "CPU times: user 10.9 ms, sys: 4.64 ms, total: 15.6 ms\n",
      "Wall time: 14.4 ms\n"
     ]
    }
   ],
   "source": [
    "%%time\n",
    "\n",
    "import faiss                   # make faiss available\n",
    "index = faiss.IndexFlatL2(d)   # build the index\n",
    "print(index.is_trained)\n",
    "index.add(xb)                  # add vectors to the index\n",
    "print(index.ntotal)"
   ]
  },
  {
   "cell_type": "markdown",
   "id": "b084ad35-61cc-4bb4-8e0d-e2d834c73cdd",
   "metadata": {},
   "source": [
    "## 搜索"
   ]
  },
  {
   "cell_type": "code",
   "execution_count": 5,
   "id": "c9a569fb-06fa-4a75-995c-4769cfe07d33",
   "metadata": {},
   "outputs": [
    {
     "name": "stdout",
     "output_type": "stream",
     "text": [
      "[[  0 393 363  78]\n",
      " [  1 555 277 364]\n",
      " [  2 304 101  13]\n",
      " [  3 173  18 182]\n",
      " [  4 288 370 531]]\n",
      "--\n",
      "[[0.        7.1751738 7.20763   7.2511625]\n",
      " [0.        6.3235645 6.684581  6.799946 ]\n",
      " [0.        5.7964087 6.391736  7.2815123]\n",
      " [0.        7.2779055 7.5279875 7.662846 ]\n",
      " [0.        6.7638035 7.2951202 7.3688145]]\n",
      "--\n",
      "[[ 381  207  210  477]\n",
      " [ 526  911  142   72]\n",
      " [ 838  527 1290  425]\n",
      " [ 196  184  164  359]\n",
      " [ 526  377  120  425]]\n",
      "--\n",
      "[[ 9900 10500  9309  9831]\n",
      " [11055 10895 10812 11321]\n",
      " [11353 11103 10164  9787]\n",
      " [10571 10664 10632  9638]\n",
      " [ 9628  9554 10036  9582]]\n",
      "CPU times: user 3.22 s, sys: 157 ms, total: 3.37 s\n",
      "Wall time: 2.47 s\n"
     ]
    }
   ],
   "source": [
    "%%time\n",
    "\n",
    "k = 4                          # we want to see 4 nearest neighbors\n",
    "D, I = index.search(xb[:5], k) # sanity check\n",
    "print(I)\n",
    "print('--')\n",
    "print(D)\n",
    "print('--')\n",
    "D, I = index.search(xq, k)     # actual search\n",
    "print(I[:5])                   # neighbors of the 5 first queries\n",
    "print('--')\n",
    "print(I[-5:])                  # neighbors of the 5 last queries"
   ]
  },
  {
   "cell_type": "markdown",
   "id": "13922be5-b66b-4fd1-b42b-08b6a72cf6e7",
   "metadata": {},
   "source": [
    "## 加快搜索"
   ]
  },
  {
   "cell_type": "code",
   "execution_count": 6,
   "id": "4f04d897-047b-4042-8e6e-7a4d664eff5d",
   "metadata": {},
   "outputs": [
    {
     "name": "stdout",
     "output_type": "stream",
     "text": [
      "[[ 9900  9309  9810 10048]\n",
      " [11055 10895 10812 11321]\n",
      " [11353 10164  9787 10719]\n",
      " [10571 10664 10632 10203]\n",
      " [ 9628  9554  9582 10304]]\n",
      "[[ 9900 10500  9309  9831]\n",
      " [11055 10895 10812 11321]\n",
      " [11353 11103 10164  9787]\n",
      " [10571 10664 10632  9638]\n",
      " [ 9628  9554 10036  9582]]\n",
      "CPU times: user 1.23 s, sys: 42.5 ms, total: 1.27 s\n",
      "Wall time: 729 ms\n"
     ]
    }
   ],
   "source": [
    "%%time\n",
    "\n",
    "nlist = 100\n",
    "k = 4\n",
    "quantizer = faiss.IndexFlatL2(d)  # the other index\n",
    "index = faiss.IndexIVFFlat(quantizer, d, nlist)\n",
    "assert not index.is_trained\n",
    "index.train(xb)\n",
    "assert index.is_trained\n",
    "\n",
    "index.add(xb)                  # add may be a bit slower as well\n",
    "D, I = index.search(xq, k)     # actual search\n",
    "print(I[-5:])                  # neighbors of the 5 last queries\n",
    "index.nprobe = 10              # default nprobe is 1, try a few more\n",
    "D, I = index.search(xq, k)\n",
    "print(I[-5:])                  # neighbors of the 5 last queries"
   ]
  },
  {
   "cell_type": "markdown",
   "id": "0925d128-7e10-4952-88ad-f4fe7856882c",
   "metadata": {},
   "source": [
    "## 更低的内存占用"
   ]
  },
  {
   "cell_type": "code",
   "execution_count": 7,
   "id": "17053d89-ed78-495e-8545-f93c83434408",
   "metadata": {},
   "outputs": [
    {
     "name": "stdout",
     "output_type": "stream",
     "text": [
      "[[   0   78  424  608]\n",
      " [   1  555 1063  380]\n",
      " [   2  179  304   33]\n",
      " [   3  265  527  139]\n",
      " [   4  288  531  827]]\n",
      "[[1.5948839 6.2905183 6.3059173 6.5697308]\n",
      " [1.282814  5.9320083 5.9512424 6.5773916]\n",
      " [1.698801  6.1244454 6.2004113 6.401427 ]\n",
      " [1.82021   6.721145  6.8056335 6.995647 ]\n",
      " [1.4857421 5.8346977 6.303232  6.400938 ]]\n",
      "[[ 8746  9380 10914  9842]\n",
      " [10913 11373  9014 10507]\n",
      " [10719 11291 10600 11353]\n",
      " [11578  9671 10709 10664]\n",
      " [ 9229  9878  9905  9459]]\n",
      "CPU times: user 3.59 s, sys: 74.6 ms, total: 3.67 s\n",
      "Wall time: 2.02 s\n"
     ]
    }
   ],
   "source": [
    "%%time\n",
    "\n",
    "nlist = 100\n",
    "m = 8                             # number of subquantizers\n",
    "k = 4\n",
    "quantizer = faiss.IndexFlatL2(d)  # this remains the same\n",
    "index = faiss.IndexIVFPQ(quantizer, d, nlist, m, 8)\n",
    "                                    # 8 specifies that each sub-vector is encoded as 8 bits\n",
    "index.train(xb)\n",
    "index.add(xb)\n",
    "D, I = index.search(xb[:5], k) # sanity check\n",
    "print(I)\n",
    "print(D)\n",
    "index.nprobe = 10              # make comparable with experiment above\n",
    "D, I = index.search(xq, k)     # search\n",
    "print(I[-5:])"
   ]
  },
  {
   "cell_type": "markdown",
   "id": "b6c0ae6d-9b5a-4863-abc5-90e42b12c03b",
   "metadata": {},
   "source": [
    "## 示意性的最简单代码"
   ]
  },
  {
   "cell_type": "code",
   "execution_count": 11,
   "id": "d272ca21-d8e2-4021-83fc-06586a751ca4",
   "metadata": {},
   "outputs": [
    {
     "name": "stdout",
     "output_type": "stream",
     "text": [
      "查询结果：\n",
      "最匹配的向量索引： 0\n",
      "最匹配的向量： [1. 2. 3. 4. 5.]\n",
      "CPU times: user 485 µs, sys: 0 ns, total: 485 µs\n",
      "Wall time: 469 µs\n"
     ]
    }
   ],
   "source": [
    "%%time\n",
    "\n",
    "import numpy as np\n",
    "import faiss\n",
    "\n",
    "# 数据准备\n",
    "d = 5  # 向量维度\n",
    "nb = 2  # 数据库中向量的数量\n",
    "xb = np.array([[1, 2, 3, 4, 5], [6, 7, 8, 9, 10]], dtype='float32')  # 数据库中的向量\n",
    "queries = np.array([[1, 2, 2, 4, 7]], dtype='float32')  # 查询向量\n",
    "\n",
    "# 构建索引\n",
    "index = faiss.IndexFlatL2(d)\n",
    "index.add(xb)\n",
    "\n",
    "# 进行查询\n",
    "k = 1  # 找出最匹配的结果\n",
    "D, I = index.search(queries, k)\n",
    "\n",
    "# 打印结果\n",
    "print(\"查询结果：\")\n",
    "print(\"最匹配的向量索引：\", I[0][0])\n",
    "print(\"最匹配的向量：\", xb[I[0][0]])"
   ]
  },
  {
   "cell_type": "code",
   "execution_count": null,
   "id": "684349cb-b4db-4949-844c-8c4ab0cfd0d6",
   "metadata": {},
   "outputs": [],
   "source": []
  }
 ],
 "metadata": {
  "kernelspec": {
   "display_name": "Python 3 (ipykernel)",
   "language": "python",
   "name": "python3"
  },
  "language_info": {
   "codemirror_mode": {
    "name": "ipython",
    "version": 3
   },
   "file_extension": ".py",
   "mimetype": "text/x-python",
   "name": "python",
   "nbconvert_exporter": "python",
   "pygments_lexer": "ipython3",
   "version": "3.10.12"
  }
 },
 "nbformat": 4,
 "nbformat_minor": 5
}
