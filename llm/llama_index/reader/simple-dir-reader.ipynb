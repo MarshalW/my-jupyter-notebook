{
 "cells": [
  {
   "cell_type": "markdown",
   "id": "29af9c68-aad1-4fb9-b8d1-89f2f5a5e92d",
   "metadata": {},
   "source": [
    "# 使用 SimpleDirectoryReader 加载 markdown 文件"
   ]
  },
  {
   "cell_type": "code",
   "execution_count": 2,
   "id": "148c0a7a-562f-43ed-9dfb-b8fb7e7709ce",
   "metadata": {},
   "outputs": [
    {
     "name": "stdout",
     "output_type": "stream",
     "text": [
      "CPU times: user 1.53 s, sys: 216 ms, total: 1.75 s\n",
      "Wall time: 1.42 s\n"
     ]
    },
    {
     "data": {
      "text/plain": [
       "5"
      ]
     },
     "execution_count": 2,
     "metadata": {},
     "output_type": "execute_result"
    }
   ],
   "source": [
    "%%time\n",
    "\n",
    "from llama_index.core import SimpleDirectoryReader\n",
    "\n",
    "documents = SimpleDirectoryReader(\"./data\").load_data()\n",
    "len(documents)"
   ]
  },
  {
   "cell_type": "code",
   "execution_count": 3,
   "id": "13514806-0ab1-486d-9916-f8962cc8ec8f",
   "metadata": {},
   "outputs": [
    {
     "data": {
      "text/plain": [
       "Document(id_='cacf9ac5-e036-4138-bc12-1f6f86be0b7a', embedding=None, metadata={'file_path': '/root/notebook/my-jupyter-notebook/llm/llama_index/reader/data/test.md', 'file_name': 'test.md', 'file_type': 'text/markdown', 'file_size': 1202, 'creation_date': '2024-09-04', 'last_modified_date': '2024-09-04'}, excluded_embed_metadata_keys=['file_name', 'file_type', 'file_size', 'creation_date', 'last_modified_date', 'last_accessed_date'], excluded_llm_metadata_keys=['file_name', 'file_type', 'file_size', 'creation_date', 'last_modified_date', 'last_accessed_date'], relationships={}, text='\\n\\n主要步骤\\n\\n- 注册微信小程序\\n- 安装 “微信开发者工具”\\n- 在 “微信开发者工具” 中创建原型项目\\n- 进行原生小程序开发\\n', mimetype='text/plain', start_char_idx=None, end_char_idx=None, text_template='{metadata_str}\\n\\n{content}', metadata_template='{key}: {value}', metadata_seperator='\\n')"
      ]
     },
     "execution_count": 3,
     "metadata": {},
     "output_type": "execute_result"
    }
   ],
   "source": [
    "documents[0]"
   ]
  },
  {
   "cell_type": "code",
   "execution_count": 4,
   "id": "ae330b72-d5e0-473f-b370-5b6b300575c1",
   "metadata": {},
   "outputs": [
    {
     "data": {
      "text/plain": [
       "Document(id_='af35a37a-ea15-4a73-9683-bd47cf943257', embedding=None, metadata={'file_path': '/root/notebook/my-jupyter-notebook/llm/llama_index/reader/data/test.md', 'file_name': 'test.md', 'file_type': 'text/markdown', 'file_size': 1202, 'creation_date': '2024-09-04', 'last_modified_date': '2024-09-04'}, excluded_embed_metadata_keys=['file_name', 'file_type', 'file_size', 'creation_date', 'last_modified_date', 'last_accessed_date'], excluded_llm_metadata_keys=['file_name', 'file_type', 'file_size', 'creation_date', 'last_modified_date', 'last_accessed_date'], relationships={}, text='\\n\\n进行原生小程序开发\\n\\n小程序有2种开发方式：\\n\\n- 基于小程序原生api和组件api实现项目，这是最简单的实现方式\\n        - 直接用原生api，性能最好\\n        - 不利于开发复杂应用\\n        - 不利于复用\\n- 使用第三方开发框架，比如 taro 等，\\n        - 最终也会将代码编译为小程序原生形式\\n        - 性能不如直接用原生api\\n        - 利于复用，比如编译为支付宝小程序等\\n        - 利于开发部署过程的自动化', mimetype='text/plain', start_char_idx=None, end_char_idx=None, text_template='{metadata_str}\\n\\n{content}', metadata_template='{key}: {value}', metadata_seperator='\\n')"
      ]
     },
     "execution_count": 4,
     "metadata": {},
     "output_type": "execute_result"
    }
   ],
   "source": [
    "documents[4]"
   ]
  },
  {
   "cell_type": "code",
   "execution_count": 5,
   "id": "2c33e5de-83a3-4dcd-a8d1-d8439abfc6bf",
   "metadata": {},
   "outputs": [
    {
     "name": "stdout",
     "output_type": "stream",
     "text": [
      "CPU times: user 1.51 ms, sys: 231 µs, total: 1.75 ms\n",
      "Wall time: 1.58 ms\n"
     ]
    }
   ],
   "source": [
    "%%time\n",
    "\n",
    "from llama_index.core import SimpleDirectoryReader\n",
    "\n",
    "documents = SimpleDirectoryReader(\"./data\", filename_as_id=True).load_data()"
   ]
  },
  {
   "cell_type": "code",
   "execution_count": 6,
   "id": "28713a59-0d72-48d8-a166-14dbef3c7723",
   "metadata": {},
   "outputs": [
    {
     "data": {
      "text/plain": [
       "Document(id_='/root/notebook/my-jupyter-notebook/llm/llama_index/reader/data/test.md_part_0', embedding=None, metadata={'file_path': '/root/notebook/my-jupyter-notebook/llm/llama_index/reader/data/test.md', 'file_name': 'test.md', 'file_type': 'text/markdown', 'file_size': 1202, 'creation_date': '2024-09-04', 'last_modified_date': '2024-09-04'}, excluded_embed_metadata_keys=['file_name', 'file_type', 'file_size', 'creation_date', 'last_modified_date', 'last_accessed_date'], excluded_llm_metadata_keys=['file_name', 'file_type', 'file_size', 'creation_date', 'last_modified_date', 'last_accessed_date'], relationships={}, text='\\n\\n主要步骤\\n\\n- 注册微信小程序\\n- 安装 “微信开发者工具”\\n- 在 “微信开发者工具” 中创建原型项目\\n- 进行原生小程序开发\\n', mimetype='text/plain', start_char_idx=None, end_char_idx=None, text_template='{metadata_str}\\n\\n{content}', metadata_template='{key}: {value}', metadata_seperator='\\n')"
      ]
     },
     "execution_count": 6,
     "metadata": {},
     "output_type": "execute_result"
    }
   ],
   "source": [
    "documents[0]"
   ]
  },
  {
   "cell_type": "code",
   "execution_count": 7,
   "id": "0540e6bf-49b5-495f-ab31-8abfd0f370c9",
   "metadata": {},
   "outputs": [
    {
     "data": {
      "text/plain": [
       "Document(id_='/root/notebook/my-jupyter-notebook/llm/llama_index/reader/data/test.md_part_4', embedding=None, metadata={'file_path': '/root/notebook/my-jupyter-notebook/llm/llama_index/reader/data/test.md', 'file_name': 'test.md', 'file_type': 'text/markdown', 'file_size': 1202, 'creation_date': '2024-09-04', 'last_modified_date': '2024-09-04'}, excluded_embed_metadata_keys=['file_name', 'file_type', 'file_size', 'creation_date', 'last_modified_date', 'last_accessed_date'], excluded_llm_metadata_keys=['file_name', 'file_type', 'file_size', 'creation_date', 'last_modified_date', 'last_accessed_date'], relationships={}, text='\\n\\n进行原生小程序开发\\n\\n小程序有2种开发方式：\\n\\n- 基于小程序原生api和组件api实现项目，这是最简单的实现方式\\n        - 直接用原生api，性能最好\\n        - 不利于开发复杂应用\\n        - 不利于复用\\n- 使用第三方开发框架，比如 taro 等，\\n        - 最终也会将代码编译为小程序原生形式\\n        - 性能不如直接用原生api\\n        - 利于复用，比如编译为支付宝小程序等\\n        - 利于开发部署过程的自动化', mimetype='text/plain', start_char_idx=None, end_char_idx=None, text_template='{metadata_str}\\n\\n{content}', metadata_template='{key}: {value}', metadata_seperator='\\n')"
      ]
     },
     "execution_count": 7,
     "metadata": {},
     "output_type": "execute_result"
    }
   ],
   "source": [
    "documents[4]"
   ]
  },
  {
   "cell_type": "code",
   "execution_count": null,
   "id": "c689cc9b-ef91-42f6-8aa6-3aa600674f63",
   "metadata": {},
   "outputs": [],
   "source": []
  }
 ],
 "metadata": {
  "kernelspec": {
   "display_name": "Python 3 (ipykernel)",
   "language": "python",
   "name": "python3"
  },
  "language_info": {
   "codemirror_mode": {
    "name": "ipython",
    "version": 3
   },
   "file_extension": ".py",
   "mimetype": "text/x-python",
   "name": "python",
   "nbconvert_exporter": "python",
   "pygments_lexer": "ipython3",
   "version": "3.10.12"
  }
 },
 "nbformat": 4,
 "nbformat_minor": 5
}
