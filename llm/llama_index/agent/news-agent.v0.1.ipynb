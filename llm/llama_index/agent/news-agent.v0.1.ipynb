{
 "cells": [
  {
   "cell_type": "markdown",
   "id": "77fa6a4c-085a-495d-97da-1cb4b584d303",
   "metadata": {},
   "source": [
    "# 用于新闻问答的 agent - v0.1"
   ]
  },
  {
   "cell_type": "markdown",
   "id": "f9b63f1c-e671-417f-b573-3e3c491c45e9",
   "metadata": {},
   "source": [
    "存在的问题：\n",
    "\n",
    "- 不存在文档的情况下，llm自由发挥回答 -- 应该告知未找到相关信息\n",
    "- 嵌入使用在哪里了？为啥没有score\n",
    "- 使用llm解析json格式的问题，存在解析问题\n",
    "\n",
    "初步结论：\n",
    "\n",
    "- 缺陷很多，比如不根据文档数据回答"
   ]
  },
  {
   "cell_type": "markdown",
   "id": "b2e5e867-94f5-492a-a2ef-09e6af070854",
   "metadata": {},
   "source": [
    "## 加载模型和嵌入"
   ]
  },
  {
   "cell_type": "code",
   "execution_count": 1,
   "id": "bff9f712-5db2-4644-9d21-c18908a6d91a",
   "metadata": {},
   "outputs": [
    {
     "name": "stdout",
     "output_type": "stream",
     "text": [
      "CPU times: user 3.28 s, sys: 452 ms, total: 3.73 s\n",
      "Wall time: 3.36 s\n"
     ]
    }
   ],
   "source": [
    "%%time\n",
    "\n",
    "# 加载llm和embeddings\n",
    "%run ../utils2.py\n",
    "\n",
    "from llama_index.core import Settings\n",
    "\n",
    "Settings.llm=get_llm()\n",
    "Settings.embed_model=get_embedding()"
   ]
  },
  {
   "cell_type": "markdown",
   "id": "cda18186-46ca-4a71-b5f0-6e03f926087d",
   "metadata": {},
   "source": [
    "## 根据url生成新闻数据的函数"
   ]
  },
  {
   "cell_type": "code",
   "execution_count": 2,
   "id": "772196ae-016c-4396-ab24-96add557d3ee",
   "metadata": {},
   "outputs": [
    {
     "name": "stdout",
     "output_type": "stream",
     "text": [
      "CPU times: user 8.37 ms, sys: 4.06 ms, total: 12.4 ms\n",
      "Wall time: 11.8 ms\n"
     ]
    }
   ],
   "source": [
    "%%time\n",
    "\n",
    "import requests\n",
    "from gne import GeneralNewsExtractor\n",
    "\n",
    "def get_news_data(url):\n",
    "    response = requests.get(url)\n",
    "    html = response.text\n",
    "\n",
    "    extractor = GeneralNewsExtractor()\n",
    "    result = extractor.extract(html, noise_node_list=[\n",
    "                               '//div[@class=\"comment-list\"]'])\n",
    "    result['url']=url\n",
    "    return result\n",
    "    "
   ]
  },
  {
   "cell_type": "code",
   "execution_count": 3,
   "id": "00622d3d-f171-4a33-bb5b-700ebd9aa380",
   "metadata": {},
   "outputs": [
    {
     "data": {
      "text/plain": [
       "{'title': '沙特麦加酷热难耐，“已有来自埃及、约旦等国超900名朝觐者死亡”',\n",
       " 'author': '齐倩',\n",
       " 'publish_time': '2024-06-20 15:24:32',\n",
       " 'content': '【文/观察者网 齐倩】6月，沙特进入一年中最热月份，高温导致正在“圣城”麦加参加朝觐活动的大批朝觐者死亡。由于官方没有公布具体数据，死亡人数尚不确定。法新社最新统计称，截至当地时间6月19日，死亡人数已飙升至900多人。\\n朝觐是伊斯兰教的五大基本功课之一，所有身体健全且有经济能力的穆斯林在一生之中都须完成至少一次朝觐。据伊斯兰历法，朝觐季节每年都会变化，今年是在六月，也是沙特最热的月份之一。\\n沙特官方数据显示，来自世界各地的约180万穆斯林参加了为期数天的朝觐活动，其中约160万人来自国外，不乏年老体弱的人。据介绍，每年的朝觐活动都会吸引数十万来自低收入国家的朝觐者，“其中许多人几乎没有接受过朝觐前的医疗保健”，导致传染病传播。\\n另外，每年都有数以万计的朝觐者为了省钱，试图在没有获得官方签证的情况下参加朝觐。沙特近期的酷热高温，给朝觐活动又增添危险：非法朝觐者无法使用朝觐路线上提供的空调设施等降暑服务。\\n当地时间17日，麦加气温达到51.8摄氏度。与此同时，沙特以及其他国家的民众纷纷前往医院，或者在社交媒体焦急地发帖求助，试图寻找朝觐期间失踪的亲友。\\n麦加气温超过50摄氏度，大批朝觐者死于高温（图自视觉中国，下同）\\n沙特没有提供死亡人数的具体信息，但仅在上周日（16日）就报告了2700多例“中暑”病例。由于缺乏官方数据，死亡人数尚未确定，且可能会继续上升。\\n美联社19日报道称，网上流传的一份名单显示，数日内已有至少550人死亡。法新社则对各国公布数据统计得出，截至当地时间19日，死亡人数已飙升至900多人。一名阿拉伯地区的外交官告诉法新社，仅埃及人的死亡人数就从18日的300多人跃升至19日的“至少600人”，其中大部分死于高温。\\n还有一名外交官透露，除了一人在小规模人群挤压中受重伤致死外，“所有埃及人均因高温死亡”。他还表示，死亡总数来自麦加当地医院太平间的数据。\\n当地时间18日，埃及外交部曾发布声明表示，埃及正在与沙特官方合作，搜寻在朝觐期间失踪的埃及人。除埃及外，约旦、印度尼西亚、印度、伊朗、塞内加尔、突尼斯和伊拉克也证实了朝觐期间出现死亡人数，不过没有说明具体的死亡原因。\\n约旦官员正寻找20名失踪的朝觐者，此前报告失踪的80人已被送往医院；来自印度的“大约68名朝觐者死亡”，还有一些人失踪；突尼斯外交部18日表示，至少有35名突尼斯人死亡，并指出朝觐期间“气温急剧上升”且“烈日炎炎”；伊朗红新月会19日宣布，有22名约旦人失踪，26名伊朗人住院……\\n当地时间18日，沙特官员称，今年的朝觐季取得了“成功”，“尽管朝觐者人数众多，且面临高温挑战，但并没有出现疫情或其他公共卫生威胁”。沙特官方还称，“先进的冷却系统”和为朝觐者“持续供应”的水源，确保了“所有人的朝觐顺利、安全”。\\n现场，有志愿者向朝觐者分发冷饮和冰淇淋。不过，许多朝觐仪式都在白天举行，朝觐者需要在户外活动待上数小时。不少朝觐者表示，他们见到过有人在路边晕倒，路两旁还停放了盖着白布的尸体，救护车已经显得不堪重负。来自巴基斯坦的朝觐者穆斯塔法表示：“天气太恶劣了，人们无法忍受这样的高温。”\\n朝觐现场酷热难耐\\n马布鲁卡·宾特·塞勒姆·舒莎娜来自突尼斯，现年70多岁，数日前在没有官方签证的情况下来到麦加参加朝觐。她的丈夫19日告诉法新社，上周六，她参加朝觐活动后就失踪了。\\n达乌德来自埃及，在上周六后就下落不明，她的亲友正焦急万分。“好消息是，到目前为止，我们还没有在死者名单上找到她，这给了我们她还活着的希望。”\\n霍里亚·艾哈迈德·阿卜杜拉·谢里夫现年70岁，来自埃及。虽然有官方签证，但她同样在上周六后就处于失踪状态。她的一名朋友称，当天在麦加阿拉法特山上完成祈祷后，她去公共浴室清洗长袍，之后再没有回来。\\n路透社则援引气候科学家的话表示，近年来，随着气候变暖，此类高温致死事件频繁，同时预示了未来几十年数千万朝觐者将会面临什么样的命运。\\n德国气候分析研究所科学顾问卡尔-弗里德里希·施洛伊斯纳表示：“朝觐已经以固定方式举行了一千多年，尽管这里气候一直很炎热，但……气候危机加剧了严峻程度。”他举例说，攀登阿拉法特山是朝觐的重要仪式，高温天气下，这已经变得“对人体健康极其危险”。\\n朝觐途中因中暑而死亡的事件并不新鲜，早在15世纪就有记录。但科学家们表示，随着全球变暖，情况将变得更加糟糕。近期一项研究发现，到2030年代，全球气温将升高1.5摄氏度；而若全球气温升高1.5摄氏度，朝圣者中暑风险将增加五倍。\\n据美联社描述，当地时间19日，麦加医疗中心戒备森严，一名官员正在宣读死亡名单上的死者姓名和国籍。这些死者包括阿尔及利亚、埃及和印度人，只有死者亲属才被允许进入大楼辨认死者身份。\\n本文系观察者网独家稿件，未经授权，不得转载。',\n",
       " 'images': ['https://i.guancha.cn/news/vcg/2024/06/20/20240620143519414.jpg',\n",
       "  'https://i.guancha.cn/news/vcg/2024/06/20/20240620143539769.jpg'],\n",
       " 'meta': {'applicable-device': 'pc',\n",
       "  'mobile-agent': 'format=html5;url=https://m.guancha.cn/internation/2024_06_20_738635.shtml',\n",
       "  'Keywords': '',\n",
       "  'Description': '【文/观察者网齐倩】6月，沙特进入一年中最热月份，高温导致正在“圣城”麦加参加朝觐活动的大批朝觐者死亡。由'},\n",
       " 'url': 'https://www.guancha.cn/internation/2024_06_20_738635.shtml'}"
      ]
     },
     "execution_count": 3,
     "metadata": {},
     "output_type": "execute_result"
    }
   ],
   "source": [
    "get_news_data(\"https://www.guancha.cn/internation/2024_06_20_738635.shtml\")"
   ]
  },
  {
   "cell_type": "markdown",
   "id": "7420df8f-87e5-438f-8440-95c534d63842",
   "metadata": {},
   "source": [
    "## 初始化文档摘要索引"
   ]
  },
  {
   "cell_type": "code",
   "execution_count": 4,
   "id": "c3fd00ea-f565-4fac-a7e1-06f6ba09ae76",
   "metadata": {},
   "outputs": [
    {
     "name": "stdout",
     "output_type": "stream",
     "text": [
      "CPU times: user 0 ns, sys: 11.6 ms, total: 11.6 ms\n",
      "Wall time: 120 ms\n"
     ]
    }
   ],
   "source": [
    "%%time\n",
    "\n",
    "!rm -rf ./index"
   ]
  },
  {
   "cell_type": "code",
   "execution_count": 5,
   "id": "e3fdb46a-0a55-4de6-961a-295878685730",
   "metadata": {},
   "outputs": [
    {
     "name": "stdout",
     "output_type": "stream",
     "text": [
      "CPU times: user 19 µs, sys: 3 µs, total: 22 µs\n",
      "Wall time: 23.1 µs\n"
     ]
    }
   ],
   "source": [
    "%%time\n",
    "\n",
    "import os\n",
    "from llama_index.core import(\n",
    "    StorageContext, \n",
    "    load_index_from_storage,\n",
    "    get_response_synthesizer,\n",
    "    DocumentSummaryIndex,\n",
    "    Document\n",
    ")\n",
    "from llama_index.core.node_parser import SentenceSplitter\n",
    "\n",
    "def _load_index(folder_path):\n",
    "    # 考虑不存在的情况，创建空的索引\n",
    "    if not os.path.exists(folder_path):\n",
    "        splitter = SentenceSplitter(chunk_size=1024)\n",
    "        response_synthesizer = get_response_synthesizer(\n",
    "            response_mode=\"tree_summarize\", use_async=True,\n",
    "        )\n",
    "        \n",
    "        doc_summary_index = DocumentSummaryIndex.from_documents(\n",
    "            [],\n",
    "            transformations=[splitter],\n",
    "            response_synthesizer=response_synthesizer,\n",
    "            show_progress=True,\n",
    "        )\n",
    "        \n",
    "        doc_summary_index.storage_context.persist(folder_path)\n",
    "        \n",
    "    storage_context = StorageContext.from_defaults(persist_dir=folder_path)\n",
    "    return load_index_from_storage(storage_context)\n",
    "    "
   ]
  },
  {
   "cell_type": "code",
   "execution_count": 6,
   "id": "a44ba09a-8cc8-4d3a-b941-e6e677b1cc18",
   "metadata": {},
   "outputs": [
    {
     "data": {
      "application/vnd.jupyter.widget-view+json": {
       "model_id": "418b68027e7d457e8777031eed54bb56",
       "version_major": 2,
       "version_minor": 0
      },
      "text/plain": [
       "Parsing nodes: 0it [00:00, ?it/s]"
      ]
     },
     "metadata": {},
     "output_type": "display_data"
    },
    {
     "data": {
      "application/vnd.jupyter.widget-view+json": {
       "model_id": "dff63dcb3a594b9ea866898bf46cc0f0",
       "version_major": 2,
       "version_minor": 0
      },
      "text/plain": [
       "Summarizing documents: 0it [00:00, ?it/s]"
      ]
     },
     "metadata": {},
     "output_type": "display_data"
    },
    {
     "data": {
      "application/vnd.jupyter.widget-view+json": {
       "model_id": "35dd30fa396749088f389881518d9918",
       "version_major": 2,
       "version_minor": 0
      },
      "text/plain": [
       "Generating embeddings: 0it [00:00, ?it/s]"
      ]
     },
     "metadata": {},
     "output_type": "display_data"
    },
    {
     "name": "stdout",
     "output_type": "stream",
     "text": [
      "CPU times: user 284 ms, sys: 28.3 ms, total: 312 ms\n",
      "Wall time: 309 ms\n"
     ]
    }
   ],
   "source": [
    "%%time\n",
    "\n",
    "doc_summary_index=_load_index('index')"
   ]
  },
  {
   "cell_type": "markdown",
   "id": "71036e2a-482a-4579-b0ef-00983853eb2b",
   "metadata": {},
   "source": [
    "## 新增一条新闻文档到索引"
   ]
  },
  {
   "cell_type": "markdown",
   "id": "93985ae3-ef59-4150-b887-2b44324fbe3e",
   "metadata": {},
   "source": [
    "### 插入数据并保存"
   ]
  },
  {
   "cell_type": "code",
   "execution_count": 7,
   "id": "c5fd6718-ee71-4fc7-b7b7-24d800096f77",
   "metadata": {},
   "outputs": [
    {
     "name": "stdout",
     "output_type": "stream",
     "text": [
      "CPU times: user 103 ms, sys: 3.81 ms, total: 106 ms\n",
      "Wall time: 212 ms\n"
     ]
    },
    {
     "data": {
      "text/plain": [
       "'【文/观察者网 齐倩】6月，沙特进入一年中最热月份，高温导致正在“圣城”麦加参加朝觐活动的大批朝觐者死亡。由于官方没有公布具体数据，死亡人数尚不确定。法新社最新统计称，截至当地时间6月19日，死亡人数'"
      ]
     },
     "execution_count": 7,
     "metadata": {},
     "output_type": "execute_result"
    }
   ],
   "source": [
    "%%time\n",
    "\n",
    "news_data=get_news_data(\"https://www.guancha.cn/internation/2024_06_20_738635.shtml\")\n",
    "news_data['content'][:100]"
   ]
  },
  {
   "cell_type": "code",
   "execution_count": 8,
   "id": "5b1756aa-a92a-43c2-b850-5f586f128147",
   "metadata": {},
   "outputs": [
    {
     "name": "stdout",
     "output_type": "stream",
     "text": [
      "CPU times: user 2 µs, sys: 0 ns, total: 2 µs\n",
      "Wall time: 3.58 µs\n"
     ]
    }
   ],
   "source": [
    "%%time\n",
    "\n",
    "def _data2doc(news_data):\n",
    "    document=Document(text=news_data['content'], \n",
    "                  metadata={\"title\": news_data['title'],\n",
    "                            'publish_time': news_data['publish_time'],\n",
    "                            'author': news_data['author'],\n",
    "                            'url': news_data['url'],\n",
    "                            'images': news_data['images'],\n",
    "                           })\n",
    "    document.doc_id = document.metadata[\"title\"]\n",
    "    return document"
   ]
  },
  {
   "cell_type": "code",
   "execution_count": 9,
   "id": "424231b1-c2b7-4bd4-93e1-87a0b2bbbf09",
   "metadata": {},
   "outputs": [
    {
     "name": "stdout",
     "output_type": "stream",
     "text": [
      "current doc id: 沙特麦加酷热难耐，“已有来自埃及、约旦等国超900名朝觐者死亡”\n",
      "CPU times: user 77.5 ms, sys: 129 µs, total: 77.7 ms\n",
      "Wall time: 13.7 s\n"
     ]
    }
   ],
   "source": [
    "%%time\n",
    "\n",
    "document=_data2doc(news_data)\n",
    "doc_summary_index.insert(document)\n",
    "doc_summary_index.refresh([document])\n",
    "doc_summary_index.storage_context.persist('index')"
   ]
  },
  {
   "cell_type": "markdown",
   "id": "e7772f24-7976-437f-8af1-06c436f6a8ca",
   "metadata": {},
   "source": [
    "### 根据新闻回答问题"
   ]
  },
  {
   "cell_type": "code",
   "execution_count": 10,
   "id": "c4392e84-7d3b-4a6d-82b1-3f1782b65619",
   "metadata": {},
   "outputs": [
    {
     "name": "stdout",
     "output_type": "stream",
     "text": [
      "麦加近期的高温导致参加朝觐活动的大批朝觐者死亡。由于官方没有公布具体数据，确切的死亡人数尚不确定。法新社统计显示，在6月19日之前，已有超过900人因高温而死亡。每年都有大量来自低收入国家的朝觐者参与，许多人可能缺乏接受过朝觐前的医疗保健，这使得传染病传播成为问题。此外，为了省钱，数以万计的朝觐者试图在没有获得官方签证的情况下参加活动。\n",
      "\n",
      "沙特近期的酷热高温给朝觐活动增添了危险，非法朝觐者无法使用朝觐路线上提供的空调设施等降暑服务。麦加气温超过50摄氏度，导致大批朝觐者死于高温。据报道，在6月17日当天，麦加气温达到51.8摄氏度。\n",
      "\n",
      "沙特官方报告了2700多例“中暑”病例，并表示死亡人数可能会继续上升。网上流传的一份名单显示，数日内已有至少550人死亡，法新社统计的死亡人数已飙升至900多人。其中，埃及人的死亡人数从18日的300多人跃升至19日的“至少600人”，大部分死于高温。\n",
      "\n",
      "沙特官方称今年朝觐季取得了“成功”，尽管面临高温挑战和朝觐者众多的情况，并表示先进的冷却系统和持续供应的水源确保了朝觐顺利、安全。然而，许多朝觐仪式在白天举行，朝觐者需要在户外活动数小时，导致有人在路边晕倒，救护车不堪重负。\n",
      "\n",
      "此外，随着气候变暖，高温致死事件频繁发生，预示着未来几十年数千万朝觐者将面临更大的风险。德国气候分析研究所的科学顾问卡尔-弗里德里希·施洛伊斯纳表示，攀登阿拉法特山是朝觐的重要仪式，在高温天气下已经变得“对人体健康极其危险”。CPU times: user 584 ms, sys: 49 ms, total: 633 ms\n",
      "Wall time: 11 s\n"
     ]
    }
   ],
   "source": [
    "%%time\n",
    "\n",
    "doc_summary_index=_load_index('index')\n",
    "\n",
    "query_engine = doc_summary_index.as_query_engine(\n",
    "    response_mode=\"tree_summarize\", \n",
    "    streaming=True,\n",
    "    similarity_top_k=5\n",
    ")\n",
    "\n",
    "response = query_engine.query(\"麦加参加朝觐活动发生了啥？\")\n",
    "response.print_response_stream()"
   ]
  },
  {
   "cell_type": "markdown",
   "id": "8034908c-3423-43e4-8755-3a0674224f47",
   "metadata": {},
   "source": [
    "### 生成新闻的摘要"
   ]
  },
  {
   "cell_type": "markdown",
   "id": "8d0e1318-c72b-400b-8a87-0caa26a7cb83",
   "metadata": {},
   "source": [
    "#### 从索引中拿到已经生成的英文摘要"
   ]
  },
  {
   "cell_type": "code",
   "execution_count": 12,
   "id": "9ce00286-b4d5-41dc-ae9e-40da4978104d",
   "metadata": {},
   "outputs": [
    {
     "name": "stdout",
     "output_type": "stream",
     "text": [
      "CPU times: user 138 µs, sys: 0 ns, total: 138 µs\n",
      "Wall time: 141 µs\n"
     ]
    },
    {
     "data": {
      "text/plain": [
       "'The provided text discusses a situation where high temperatures in Saudi Arabia during June have led to deaths among pilgrims participating in Hajj activities in Mecca, particularly those from countries like Egypt and Jordan. The lack of official data on the number of fatalities makes it difficult to determine an exact figure, but reports suggest that over 900 people may have died due to heat-related issues.\\n\\nThe text highlights several aspects:\\n1. **Islamic Pilgrimage**: Hajj is one of the five pillars of Islam and requires all physically capable Muslims who can afford it to perform at least once in their lifetime.\\n2. **Temperature Conditions**: The month of June, when Hajj occurs, is known for its extreme heat in Saudi Arabia, which poses significant risks to pilgrims, especially those from low-income countries with limited access to healthcare before the pilgrimage and those without official visas who attempt to enter illegally.\\n3. **Health Risks**: Pilgrims face challenges due to lack of medical care, high temperatures, and the need for outdoor activities during the day when temperatures are at their peak.\\n4. **Official Responses**: Saudi authorities have reported thousands of heatstroke cases but have not provided a specific number of deaths. They claim that advanced cooling systems and continuous water supply have ensured smooth and safe pilgrimages.\\n\\nSome questions this text can answer include:\\n- How many pilgrims from different countries have died due to the high temperatures during Hajj?\\n- What are the main health risks faced by pilgrims during the pilgrimage in Saudi Arabia?\\n- How does the Saudi government respond to the heat-related deaths among pilgrims?\\n- Are there any specific measures taken by Saudi authorities to ensure safety and prevent such incidents?'"
      ]
     },
     "execution_count": 12,
     "metadata": {},
     "output_type": "execute_result"
    }
   ],
   "source": [
    "%%time\n",
    "\n",
    "doc_summary=doc_summary_index.get_document_summary(document.doc_id)\n",
    "doc_summary"
   ]
  },
  {
   "cell_type": "markdown",
   "id": "7cfcea7e-52f1-40f9-a98f-1a5c6bf9d0e0",
   "metadata": {},
   "source": [
    "#### 基于英文摘要组织中文对话输出"
   ]
  },
  {
   "cell_type": "code",
   "execution_count": 13,
   "id": "103fa93d-da7c-4945-8685-3cda8022734e",
   "metadata": {},
   "outputs": [
    {
     "name": "stdout",
     "output_type": "stream",
     "text": [
      "文本讨论了沙特阿拉伯6月高温导致朝觐者在麦加进行朝圣活动时死亡的情况，尤其是来自埃及和约旦等国的朝觐者。由于官方数据未提供确切的伤亡人数，报道估计可能有超过900人因热相关问题而丧生。\n",
      "\n",
      "文本中提到了几个关键点：\n",
      "\n",
      "1. **伊斯兰朝圣**：朝圣是伊斯兰教的五大支柱之一，要求所有身体和经济条件允许的穆斯林至少在一生中完成一次。这表明了朝圣对信仰的重要性以及其对个人和社区的影响。\n",
      "\n",
      "2. **温度状况**：6月是沙特阿拉伯极端炎热的时候，这对参与朝圣活动的人员构成重大风险，尤其是对于来自低收入国家、在前往朝圣前医疗资源有限的朝觐者，以及那些试图非法入境的没有官方签证的人。\n",
      "\n",
      "3. **健康风险**：朝觐者面临的主要挑战包括缺乏医疗服务、高温和白天进行户外活动时的极端温度。这些因素增加了他们遭受热相关疾病的风险。\n",
      "\n",
      "4. **政府反应**：沙特当局报告了数千起中暑病例，但未提供具体死亡人数。他们声称先进的冷却系统和持续的供水确保了朝圣的安全性和顺利进行。\n",
      "\n",
      "对于上述问题的回答如下：\n",
      "\n",
      "- 由于缺乏官方数据，确切的伤亡人数无法确定，估计有超过900人可能因高温而丧生。\n",
      "- 主要健康风险包括中暑、脱水和其他热相关疾病，这些都与极端温度和缺乏适当的医疗支持有关。\n",
      "- 沙特政府通过报告中暑病例并声称使用先进的冷却系统和持续供水来应对朝圣期间的高温问题。然而，他们并未提供具体的死亡人数数据。\n",
      "- 为确保安全并预防此类事件，沙特当局采取了措施包括提供冷却设施、确保充足的水资源供应以及可能对朝觐者进行健康检查等。这些措施旨在减少高温带来的风险，并提高朝圣的安全性。\n",
      "\n",
      "总体而言，文本强调了在极端天气条件下进行朝圣的挑战和风险，以及政府为应对这些问题所做出的努力。CPU times: user 538 ms, sys: 52.4 ms, total: 591 ms\n",
      "Wall time: 11.4 s\n"
     ]
    }
   ],
   "source": [
    "%%time\n",
    "\n",
    "prompt=f\"\"\"\n",
    "请根据{doc_summary}, 用中文做有条理的表述。\n",
    "\"\"\"\n",
    "stream_response=Settings.llm.stream_complete(prompt)\n",
    "for response in stream_response:\n",
    "    print(response.delta, end=\"\", flush=True)"
   ]
  },
  {
   "cell_type": "markdown",
   "id": "4957a5a0-cff7-4f9f-a085-3105cc9b3492",
   "metadata": {},
   "source": [
    "#### 提取摘要中的问题条目"
   ]
  },
  {
   "cell_type": "code",
   "execution_count": 19,
   "id": "6ed55cd8-a9ff-44f3-b391-8e45142832e7",
   "metadata": {},
   "outputs": [
    {
     "name": "stdout",
     "output_type": "stream",
     "text": [
      "[\n",
      "    {\n",
      "        'question': '有多少来自不同国家的朝圣者因沙特阿拉伯6月高温在麦加进行朝觐活动时死亡？',\n",
      "    },\n",
      "    {\n",
      "        'question': '朝圣者在沙特阿拉伯朝觐期间面临的主要健康风险是什么？',\n",
      "    },\n",
      "    {\n",
      "        'question': '沙特政府如何应对朝觐期间因高温导致的死亡事件？',\n",
      "    },\n",
      "    {\n",
      "        'question': '沙特当局采取了哪些具体措施来确保安全并防止此类事故再次发生？',\n",
      "    }\n",
      "]CPU times: user 137 ms, sys: 20.8 ms, total: 158 ms\n",
      "Wall time: 5.02 s\n"
     ]
    }
   ],
   "source": [
    "%%time\n",
    "\n",
    "prompt=f\"\"\"\n",
    "请根据{doc_summary}, 提取文章中的问题，并通过下面示例的json格式输出。\n",
    "\n",
    "[\n",
    "    {{'question': 'xxxxxx'}},\n",
    "]\n",
    "\"\"\"\n",
    "stream_response=Settings.llm.stream_complete(prompt)\n",
    "for response in stream_response:\n",
    "    print(response.delta, end=\"\", flush=True)"
   ]
  },
  {
   "cell_type": "markdown",
   "id": "5ac8e5f3-f83b-4fd2-9802-9062f2996569",
   "metadata": {},
   "source": [
    "### 从索引获取指定文档的信息"
   ]
  },
  {
   "cell_type": "code",
   "execution_count": 20,
   "id": "c61218e0-b89c-4b56-90d1-ea9c88962c03",
   "metadata": {},
   "outputs": [
    {
     "data": {
      "text/plain": [
       "{'沙特麦加酷热难耐，“已有来自埃及、约旦等国超900名朝觐者死亡”': RefDocInfo(node_ids=['0777402f-2fbc-4357-87ae-17f8c0a6ddb7', 'aa764d29-82f8-45cd-8b53-96c5093c09bf', '49c9cfb9-79b8-4a14-b65c-9f9f0fde3e92', '7b7f553f-7067-4bcf-9cb1-0d4a9f184c30', 'e0a4e135-b842-4631-a1eb-f447df41d0b0'], metadata={'title': '沙特麦加酷热难耐，“已有来自埃及、约旦等国超900名朝觐者死亡”', 'publish_time': '2024-06-20 15:24:32', 'author': '齐倩', 'url': 'https://www.guancha.cn/internation/2024_06_20_738635.shtml', 'images': ['https://i.guancha.cn/news/vcg/2024/06/20/20240620143519414.jpg', 'https://i.guancha.cn/news/vcg/2024/06/20/20240620143539769.jpg']})}"
      ]
     },
     "execution_count": 20,
     "metadata": {},
     "output_type": "execute_result"
    }
   ],
   "source": [
    "doc_summary_index.ref_doc_info"
   ]
  },
  {
   "cell_type": "code",
   "execution_count": 21,
   "id": "f36be4f8-cf6c-43dd-ac68-1c9010719f16",
   "metadata": {},
   "outputs": [
    {
     "data": {
      "text/plain": [
       "RefDocInfo(node_ids=['0777402f-2fbc-4357-87ae-17f8c0a6ddb7', 'aa764d29-82f8-45cd-8b53-96c5093c09bf', '49c9cfb9-79b8-4a14-b65c-9f9f0fde3e92', '7b7f553f-7067-4bcf-9cb1-0d4a9f184c30', 'e0a4e135-b842-4631-a1eb-f447df41d0b0'], metadata={'title': '沙特麦加酷热难耐，“已有来自埃及、约旦等国超900名朝觐者死亡”', 'publish_time': '2024-06-20 15:24:32', 'author': '齐倩', 'url': 'https://www.guancha.cn/internation/2024_06_20_738635.shtml', 'images': ['https://i.guancha.cn/news/vcg/2024/06/20/20240620143519414.jpg', 'https://i.guancha.cn/news/vcg/2024/06/20/20240620143539769.jpg']})"
      ]
     },
     "execution_count": 21,
     "metadata": {},
     "output_type": "execute_result"
    }
   ],
   "source": [
    "doc_summary_index.ref_doc_info[document.doc_id]"
   ]
  },
  {
   "cell_type": "markdown",
   "id": "6056cd39-f9f3-4a0d-9360-ee03b94a62e2",
   "metadata": {},
   "source": [
    "## 增加第二条新闻文档到索引"
   ]
  },
  {
   "cell_type": "markdown",
   "id": "9acc6e34-4c5a-4307-9ee2-511b7dce81cc",
   "metadata": {},
   "source": [
    "### 加入到索引"
   ]
  },
  {
   "cell_type": "code",
   "execution_count": 22,
   "id": "3c43ba1a-4303-488a-916c-57d208d5b2c4",
   "metadata": {},
   "outputs": [
    {
     "name": "stdout",
     "output_type": "stream",
     "text": [
      "current doc id: 毛克疾：美国究竟能在多大程度上容忍印度？\n",
      "CPU times: user 166 ms, sys: 3.29 ms, total: 169 ms\n",
      "Wall time: 44.1 s\n"
     ]
    }
   ],
   "source": [
    "%%time\n",
    "\n",
    "news_data=get_news_data(\"https://www.guancha.cn/MaoKeJi/2024_06_20_738581.shtml\")\n",
    "\n",
    "document=_data2doc(news_data)\n",
    "doc_summary_index.insert(document)\n",
    "doc_summary_index.refresh([document])\n",
    "doc_summary_index.storage_context.persist('index')\n",
    "\n",
    "doc_summary_index=_load_index('index')"
   ]
  },
  {
   "cell_type": "markdown",
   "id": "08cfe403-13c6-4738-88a2-ab108f9da2fc",
   "metadata": {},
   "source": [
    "### 提取文章蕴含的问题"
   ]
  },
  {
   "cell_type": "code",
   "execution_count": 25,
   "id": "47174172-6deb-43d8-aad4-8d8ee92e4242",
   "metadata": {},
   "outputs": [
    {
     "name": "stdout",
     "output_type": "stream",
     "text": [
      "[\n",
      "    {'question': '1. 为什么美国和印度之间的战略伙伴关系正在增长？',\n",
      "     'question': '2. 美国对印度的全球策略态度在过去是如何变化的？',\n",
      "     '3. 中华人民共和国在美印关系中扮演什么角色？',\n",
      "     '4. 地缘政治冲突如何影响美印双边关系，特别是与中国有关的领土争端？',\n",
      "     '5. “加勒万山谷冲突”如何深刻地改变了印度精英对中国的态度，并影响了与美国的关系？',\n",
      "     '6. 在“加勒万山谷冲突”之后，美国和印度在哪些领域扩大了合作？',\n",
      "     '7. 美国对印度的政策是否因总统的不同而有所不同？',\n",
      "     '8. 美国如何支持印度的工业发展和技术进步，特别是与中国的比较？',\n",
      "     '9. 印度对外政策决策中，在与中国和美国的关系之间有何战略考量？',\n",
      "     '10. 美国如何看待印度的民主价值观，并在外交互动中扮演什么角色？'}\n",
      "]CPU times: user 269 ms, sys: 39 ms, total: 309 ms\n",
      "Wall time: 6 s\n"
     ]
    }
   ],
   "source": [
    "%%time\n",
    "\n",
    "doc_summary=doc_summary_index.get_document_summary(document.doc_id)\n",
    "\n",
    "prompt=f\"\"\"\n",
    "请根据{doc_summary}, 提取文章中的问题，并通过下面示例的json格式输出, 问题文字使用中文。\n",
    "\n",
    "[\n",
    "    {{'question': 'xxxxxx'}},\n",
    "]\n",
    "\"\"\"\n",
    "stream_response=Settings.llm.stream_complete(prompt)\n",
    "for response in stream_response:\n",
    "    print(response.delta, end=\"\", flush=True)"
   ]
  },
  {
   "cell_type": "markdown",
   "id": "e35fd049-8cfb-4a8c-af41-dbb14af6527c",
   "metadata": {},
   "source": [
    "### 根据新闻回答问题"
   ]
  },
  {
   "cell_type": "markdown",
   "id": "2bfdc5af-61b4-4334-8ee5-6fa902e32d7a",
   "metadata": {},
   "source": [
    "#### 针对当前新闻的问题"
   ]
  },
  {
   "cell_type": "code",
   "execution_count": 44,
   "id": "f355ad9b-5649-449b-a78a-6bb3149c1106",
   "metadata": {},
   "outputs": [
    {
     "name": "stdout",
     "output_type": "stream",
     "text": [
      "美国对印度的全球策略态度在过去经历了从相对谨慎和选择性支持到更深入、全面的战略伙伴关系的变化。在小布什和奥巴马政府时期，尽管中国因素是决定美印关系的基础，但两国的关系更多地处于平行发展的状态，美国并未将中印关系视为主要动力。这一阶段，美国在涉及印度的问题上考虑更多的是如何拉拢印度而非直接针对中国的动机。\n",
      "\n",
      "转折点出现在2017年的“洞朗对峙”事件后，莫迪政府对美国的态度发生了重大变化，并促使美日印澳四方机制得以复活。随后的“加勒万冲突”成为另一个关键节点，它极大地缓解了印度高层对于美国在中印冲突中的可靠性的疑虑。这一事件导致印度精英层对中国的态度发生深刻变化，并促进了他们在敏感领域与美国的合作。\n",
      "\n",
      "2020年之后，拜登政府进一步深化了美印合作至产业科技领域，这表明美国对印度的全球策略态度已经从不直接针对中国的拉拢政策转变为共同对抗中国崛起的基础上的战略伙伴关系。在此期间，美印关系在战略层面上紧密相连，并以共同敌意作为接近的基础。\n",
      "\n",
      "总体来看，在面对“中国因素”时，美印合作的理论上限可能会受到一定影响，但不太可能瞬间改变双方战略合作的实际进度或总体方向。未来，两国将继续围绕这一关键点进行多领域的深度合作与战略互动。CPU times: user 407 ms, sys: 33 ms, total: 440 ms\n",
      "Wall time: 30 s\n"
     ]
    }
   ],
   "source": [
    "%%time\n",
    "\n",
    "response = query_engine.query(\"美国对印度的全球策略态度在过去是如何变化的？\")\n",
    "response.print_response_stream()"
   ]
  },
  {
   "cell_type": "code",
   "execution_count": 45,
   "id": "c73f8397-ceed-4bb8-9412-dc0ac394d4e8",
   "metadata": {},
   "outputs": [
    {
     "data": {
      "text/plain": [
       "7"
      ]
     },
     "execution_count": 45,
     "metadata": {},
     "output_type": "execute_result"
    }
   ],
   "source": [
    "len(response.source_nodes)"
   ]
  },
  {
   "cell_type": "markdown",
   "id": "b2ce6ccf-04b9-4eac-b2a2-ee5ea953cd3e",
   "metadata": {},
   "source": [
    "#### 针对之前新闻的问题"
   ]
  },
  {
   "cell_type": "code",
   "execution_count": 27,
   "id": "59a44557-5053-423a-8649-e5fee1ddbb8f",
   "metadata": {},
   "outputs": [
    {
     "name": "stdout",
     "output_type": "stream",
     "text": [
      "沙特当局为了确保朝觐活动的安全，并预防类似事件的再次发生，采取了一系列具体的措施：\n",
      "\n",
      "1. **先进的冷却系统**：官方提供了高效的降温设施，如在朝圣路线和聚集点安装空调或风扇等设备，以帮助应对高温环境。\n",
      "\n",
      "2. **持续供应水源**：为朝圣者提供充足的饮用水和其他液体补充，确保他们能够随时获取清洁的水，这是预防中暑的关键措施之一。\n",
      "\n",
      "3. **志愿者援助**：现场分发冷饮和冰淇淋给朝圣者，这不仅缓解了高温带来的不适，还提供了即时的冷却效果。\n",
      "\n",
      "4. **加强医疗支持与急救服务**：麦加医疗中心等医疗机构已经做好准备，确保在紧急情况下能够迅速响应并提供必要的医疗救助。\n",
      "\n",
      "5. **提高公众意识**：通过教育和宣传增强朝圣者对高温环境下的自我保护意识，包括提醒他们避免在最热的时段外出、及时补充水分等。\n",
      "\n",
      "6. **改善基础设施与规划**：调整了朝圣路线或活动安排，减少人群拥挤和长时间暴露于极端温度下，例如优化仪式时间以避开最热时段。\n",
      "\n",
      "7. **国际合作与信息共享**：与其他国家合作分享信息和经验教训，特别是在应对高温挑战方面，与医疗、气象或公共卫生领域的专家交流最佳实践。\n",
      "\n",
      "8. **建立监测和预警系统**：建立了有效的天气监测和预警机制，以便在极端天气条件下提前采取预防措施，并及时通知朝圣者和相关机构做好准备。CPU times: user 397 ms, sys: 78.7 ms, total: 476 ms\n",
      "Wall time: 26 s\n"
     ]
    }
   ],
   "source": [
    "%%time\n",
    "\n",
    "response = query_engine.query(\"沙特当局采取了哪些具体措施来确保安全并防止此类事故再次发生？\")\n",
    "response.print_response_stream()"
   ]
  },
  {
   "cell_type": "markdown",
   "id": "a6f09eee-7eb1-4ce2-bee0-d57777fc1443",
   "metadata": {},
   "source": [
    "#### 针对索引中不存在的内容提问"
   ]
  },
  {
   "cell_type": "code",
   "execution_count": 40,
   "id": "dca4c719-9639-472d-b339-e3c6eb4b3142",
   "metadata": {},
   "outputs": [
    {
     "name": "stdout",
     "output_type": "stream",
     "text": [
      "清洁能源为生活在缺乏传统电力基础设施或受到污染影响地区的\"看不见的50亿人\"提供了多方面的改善和益处：\n",
      "\n",
      "1. **健康状况提升**：通过减少对传统燃料（如木柴、煤炭）的依赖，降低了室内空气污染水平，从而减少了呼吸系统疾病、心脏病等健康问题的发生率。\n",
      "\n",
      "2. **生活质量提高**：稳定的电力供应为基本服务提供支持，包括照明、充电电子设备和运行家电，显著提升了居民的生活质量。\n",
      "\n",
      "3. **教育机会增加**：清洁能源确保了学校和社区中心能够持续供电，促进了远程学习的可能性，并提高了整体教育水平。\n",
      "\n",
      "4. **经济机遇增长**：清洁能源项目创造了就业机会，尤其是在发展中国家，有助于减少贫困，促进当地经济发展。\n",
      "\n",
      "5. **增强能源安全与独立性**：通过利用本地可再生能源资源，社区减少了对化石燃料进口的依赖，提升了能源安全并降低了因国际油价波动带来的经济风险。\n",
      "\n",
      "6. **支持可持续发展目标**：清洁能源是实现联合国可持续发展目标的关键工具之一，特别是在清洁饮水、卫生设施、优质教育和经济增长等领域。\n",
      "\n",
      "7. **促进性别平等**：减轻了女性在获取家庭能源方面的负担，为她们提供了更多参与教育、工作或社区活动的时间。\n",
      "\n",
      "8. **减少碳排放**：作为零排放或低排放的能源来源，清洁能源有助于减缓全球气候变化的影响，并对环境产生积极影响。CPU times: user 386 ms, sys: 43.7 ms, total: 430 ms\n",
      "Wall time: 29.1 s\n"
     ]
    }
   ],
   "source": [
    "%%time\n",
    "\n",
    "query_engine = doc_summary_index.as_query_engine(\n",
    "    response_mode=\"tree_summarize\", \n",
    "    streaming=True,\n",
    "    # similarity_top_k=1\n",
    ")\n",
    "\n",
    "response = query_engine.query(\"清洁能源给“看不见的50亿人”带来了什么？\")\n",
    "response.print_response_stream()"
   ]
  },
  {
   "cell_type": "code",
   "execution_count": 41,
   "id": "bf881811-f1a2-405c-a6cb-466edee15a1e",
   "metadata": {},
   "outputs": [
    {
     "data": {
      "text/plain": [
       "7"
      ]
     },
     "execution_count": 41,
     "metadata": {},
     "output_type": "execute_result"
    }
   ],
   "source": [
    "len(response.source_nodes)"
   ]
  },
  {
   "cell_type": "code",
   "execution_count": 42,
   "id": "7f3daf64-b288-4b76-9b99-039acc49a56c",
   "metadata": {},
   "outputs": [
    {
     "name": "stdout",
     "output_type": "stream",
     "text": [
      "清洁能源为全球未被传统电网覆盖或缺乏可靠电力供应地区的居民，即通常所说的“看不见的50亿人”，提供了清洁、可负担和可持续的能源解决方案。这些群体主要包括生活在偏远地区、农村或经济欠发达地区的居民。清洁能源技术如太阳能、风能、小水电等对这一人群带来了以下几方面的积极影响：\n",
      "\n",
      "1. **改善生活质量**：稳定的电力供应使得人们能够使用照明、充电设备（如手机和其他小型电器），进行烹饪和日常活动，从而提高生活便利性和安全性。\n",
      "\n",
      "2. **健康与福祉提升**：减少对传统燃料的依赖，尤其是木柴等固体燃料，显著降低了因室内空气污染导致的呼吸系统疾病和其他健康问题。\n",
      "\n",
      "3. **教育机会增加**：确保儿童能够在家或学校使用电子设备进行学习，特别是在偏远地区，这有助于提高教育水平和未来就业机会。\n",
      "\n",
      "4. **经济机遇促进**：为当地社区提供了新的商业机会，如太阳能安装、维护和运营服务，以及小型企业（如移动充电站）的建立，从而促进了经济发展。\n",
      "\n",
      "5. **减少碳排放**：清洁能源替代化石燃料使用，有助于减缓全球气候变化，对环境产生积极影响。\n",
      "\n",
      "通过投资清洁能源项目，国际组织、政府和私营部门正在共同努力，确保这些人群能够获得清洁、可靠且负担得起的能源服务。这不仅改善了他们的生活质量，还促进了可持续发展和全球社会的公平性。CPU times: user 416 ms, sys: 43.3 ms, total: 459 ms\n",
      "Wall time: 27.5 s\n"
     ]
    }
   ],
   "source": [
    "%%time\n",
    "\n",
    "query_engine = doc_summary_index.as_query_engine(\n",
    "    response_mode=\"tree_summarize\", \n",
    "    streaming=True,\n",
    "    similarity_top_k=1\n",
    ")\n",
    "\n",
    "response = query_engine.query(\"清洁能源给“看不见的50亿人”带来了什么？\")\n",
    "response.print_response_stream()"
   ]
  },
  {
   "cell_type": "code",
   "execution_count": 43,
   "id": "08cbb7d7-8641-4e26-8454-48285abc47a3",
   "metadata": {},
   "outputs": [
    {
     "data": {
      "text/plain": [
       "7"
      ]
     },
     "execution_count": 43,
     "metadata": {},
     "output_type": "execute_result"
    }
   ],
   "source": [
    "len(response.source_nodes)"
   ]
  },
  {
   "cell_type": "code",
   "execution_count": 37,
   "id": "a53f25e5-a6c7-416f-a55c-91d925f52aac",
   "metadata": {},
   "outputs": [
    {
     "data": {
      "text/plain": [
       "NodeWithScore(node=TextNode(id_='a45e8f6e-db4b-4b86-a103-528c79436834', embedding=None, metadata={'title': '毛克疾：美国究竟能在多大程度上容忍印度？', 'publish_time': '2024-06-20 08:26:59', 'author': '郭涵', 'url': 'https://www.guancha.cn/MaoKeJi/2024_06_20_738581.shtml', 'images': ['https://i.guancha.cn/news/vcg/2024/06/19/20240619133335691.jpg', 'https://i.guancha.cn/news/external/2024/06/19/20240619133601871.jpg', 'https://i.guancha.cn/shiping-banner.jpg']}, excluded_embed_metadata_keys=[], excluded_llm_metadata_keys=[], relationships={<NodeRelationship.SOURCE: '1'>: RelatedNodeInfo(node_id='毛克疾：美国究竟能在多大程度上容忍印度？', node_type=<ObjectType.DOCUMENT: '4'>, metadata={'title': '毛克疾：美国究竟能在多大程度上容忍印度？', 'publish_time': '2024-06-20 08:26:59', 'author': '郭涵', 'url': 'https://www.guancha.cn/MaoKeJi/2024_06_20_738581.shtml', 'images': ['https://i.guancha.cn/news/vcg/2024/06/19/20240619133335691.jpg', 'https://i.guancha.cn/news/external/2024/06/19/20240619133601871.jpg', 'https://i.guancha.cn/shiping-banner.jpg']}, hash='94be89c3a7023290b19311fc97dc8aac493f68e8be4057f9760590e36f0d1681'), <NodeRelationship.NEXT: '3'>: RelatedNodeInfo(node_id='adb5161c-4e91-4cc1-b6bd-3855eb8df573', node_type=<ObjectType.TEXT: '1'>, metadata={}, hash='1f4a3696af77c0fac3ecc988f0500a0783e1cfea423003803a49473b8f27a58a')}, text='【文/观察者网专栏作者 毛克疾】\\n莫迪开启第三任期以后，美印随即互动进入新一轮密集期。此前访美日程多次拖延的美国家安全顾问杰克·沙利文和有着“印太沙皇”之称的副国务卿库尔特·坎贝尔已到访印度，重点讨论加强美印合作，共同开展对华竞争。\\n然而，值得注意的是，在美印联系热络的背后，美国和西方媒体围绕“印在美策划刺杀”的舆论龃龉却不断发酵，甚至出现外交言辞交火。考虑相关历史先例，他国情报机关在美国土上遂行刺杀无疑已触碰美国底线，但目前这一事件似乎进入“高高举起，轻轻放下”的状态。有趣的是，印媒也开始炒作“美国情报机构在印孟缅边境策划基督教独立国家”作为反击。\\n这种现象不禁使人揣测，美究竟能在多大程度上容忍印度？要回答这个问题，归根到底要搞清楚美印战略合作的基础和限度。可以说，对华共同敌意是美印战略趋近的基础，而美国的意愿——而非印度的意愿——很大程度上决定美印合作的理论上限，但印度的意愿却能决定美印合作的实际水平。\\n当地时间6月14日，印度总理莫迪与美国总统拜登在意大利的七国集团（G7）峰会期间会晤。图自：视觉中国\\n毫无疑问，中国因素是决定美印关系的基础因素，而中印矛盾是美印关系走近的主要动力。总体看，在中美战略竞争走向长期化、激烈化的大背景下，印作为人口体量与中国相当、经济潜力举世无双，且与中国存在既有领土争端的国家，已成为美国应对中国崛起的当然关键伙伴。', start_char_idx=0, end_char_idx=584, text_template='{metadata_str}\\n\\n{content}', metadata_template='{key}: {value}', metadata_seperator='\\n'), score=None)"
      ]
     },
     "execution_count": 37,
     "metadata": {},
     "output_type": "execute_result"
    }
   ],
   "source": [
    "response.source_nodes[0]"
   ]
  },
  {
   "cell_type": "code",
   "execution_count": 38,
   "id": "c491c85c-a9ed-4f86-bd0a-7e1b7cb4269a",
   "metadata": {},
   "outputs": [
    {
     "data": {
      "text/plain": [
       "{'沙特麦加酷热难耐，“已有来自埃及、约旦等国超900名朝觐者死亡”': RefDocInfo(node_ids=['0777402f-2fbc-4357-87ae-17f8c0a6ddb7', 'aa764d29-82f8-45cd-8b53-96c5093c09bf', '49c9cfb9-79b8-4a14-b65c-9f9f0fde3e92', '7b7f553f-7067-4bcf-9cb1-0d4a9f184c30', 'e0a4e135-b842-4631-a1eb-f447df41d0b0'], metadata={'title': '沙特麦加酷热难耐，“已有来自埃及、约旦等国超900名朝觐者死亡”', 'publish_time': '2024-06-20 15:24:32', 'author': '齐倩', 'url': 'https://www.guancha.cn/internation/2024_06_20_738635.shtml', 'images': ['https://i.guancha.cn/news/vcg/2024/06/20/20240620143519414.jpg', 'https://i.guancha.cn/news/vcg/2024/06/20/20240620143539769.jpg']}),\n",
       " '毛克疾：美国究竟能在多大程度上容忍印度？': RefDocInfo(node_ids=['a45e8f6e-db4b-4b86-a103-528c79436834', 'adb5161c-4e91-4cc1-b6bd-3855eb8df573', 'dfa140c0-992f-472b-a06d-331daff77997', '1715363f-2dd0-4982-8da0-3a71dd958780', '50c9fbf1-c8ae-4fb9-bd35-fe0d46137a00', 'b9a1cd87-e1cc-4535-b010-f2eef9bfaf90', 'f5b20010-4332-4464-9f59-8b1e1adf092d', '03a15796-18df-4ecd-ba9d-269f38da77ca'], metadata={'title': '毛克疾：美国究竟能在多大程度上容忍印度？', 'publish_time': '2024-06-20 08:26:59', 'author': '郭涵', 'url': 'https://www.guancha.cn/MaoKeJi/2024_06_20_738581.shtml', 'images': ['https://i.guancha.cn/news/vcg/2024/06/19/20240619133335691.jpg', 'https://i.guancha.cn/news/external/2024/06/19/20240619133601871.jpg', 'https://i.guancha.cn/shiping-banner.jpg']})}"
      ]
     },
     "execution_count": 38,
     "metadata": {},
     "output_type": "execute_result"
    }
   ],
   "source": [
    "doc_summary_index.ref_doc_info"
   ]
  },
  {
   "cell_type": "code",
   "execution_count": 39,
   "id": "bd70f934-9c15-40bd-8533-4b7ddeb4082f",
   "metadata": {},
   "outputs": [
    {
     "data": {
      "text/plain": [
       "2"
      ]
     },
     "execution_count": 39,
     "metadata": {},
     "output_type": "execute_result"
    }
   ],
   "source": [
    "len(doc_summary_index.ref_doc_info)"
   ]
  },
  {
   "cell_type": "markdown",
   "id": "a4090167-d7de-406a-a42b-0e38131cb420",
   "metadata": {},
   "source": [
    "## 增加重复的新闻文档"
   ]
  },
  {
   "cell_type": "markdown",
   "id": "3de7bcd4-d75b-4db8-b933-629b0dba0c77",
   "metadata": {},
   "source": [
    "如果插入重复的文档，将覆盖之前的文档，而不会报错。"
   ]
  },
  {
   "cell_type": "code",
   "execution_count": 11,
   "id": "e03495b8-4145-4511-a0ce-45b89d42791b",
   "metadata": {},
   "outputs": [
    {
     "name": "stdout",
     "output_type": "stream",
     "text": [
      "current doc id: 沙特麦加酷热难耐，“已有来自埃及、约旦等国超900名朝觐者死亡”\n",
      "CPU times: user 128 ms, sys: 4.03 ms, total: 132 ms\n",
      "Wall time: 16 s\n"
     ]
    }
   ],
   "source": [
    "%%time\n",
    "\n",
    "news_data=get_news_data(\"https://www.guancha.cn/internation/2024_06_20_738635.shtml\")\n",
    "\n",
    "document=_data2doc(news_data)\n",
    "doc_summary_index.insert(document)\n",
    "doc_summary_index.refresh([document])\n",
    "doc_summary_index.storage_context.persist('index')"
   ]
  },
  {
   "cell_type": "code",
   "execution_count": 12,
   "id": "1959690f-3e8b-4cf0-bd64-950bfd5b63d5",
   "metadata": {},
   "outputs": [
    {
     "data": {
      "text/plain": [
       "{'沙特麦加酷热难耐，“已有来自埃及、约旦等国超900名朝觐者死亡”': RefDocInfo(node_ids=['57734977-662b-4e9d-b621-a01cbade445e', '6bb86945-eb09-480e-a798-8e505504ef51', '619ddb0c-2634-414c-82fa-7fa1d0ad89d7', '50e6ce07-42a6-46ae-a52a-db4d0c188ff1', '1f288a95-3ea8-4aae-baad-5db3858da391', 'a4dcab0f-c8e0-4061-8583-c8456a486081', '57734977-662b-4e9d-b621-a01cbade445e', '6bb86945-eb09-480e-a798-8e505504ef51', '619ddb0c-2634-414c-82fa-7fa1d0ad89d7', '50e6ce07-42a6-46ae-a52a-db4d0c188ff1', '1f288a95-3ea8-4aae-baad-5db3858da391', 'a4dcab0f-c8e0-4061-8583-c8456a486081', 'c5daa467-fd37-49d1-9d2b-70d9fcc03736', '57734977-662b-4e9d-b621-a01cbade445e', '6bb86945-eb09-480e-a798-8e505504ef51', '619ddb0c-2634-414c-82fa-7fa1d0ad89d7', '50e6ce07-42a6-46ae-a52a-db4d0c188ff1', '1f288a95-3ea8-4aae-baad-5db3858da391', 'a4dcab0f-c8e0-4061-8583-c8456a486081', 'c5daa467-fd37-49d1-9d2b-70d9fcc03736', '3205edda-5002-4c49-8546-997c6772f0ac', '57734977-662b-4e9d-b621-a01cbade445e', '6bb86945-eb09-480e-a798-8e505504ef51', '619ddb0c-2634-414c-82fa-7fa1d0ad89d7', '50e6ce07-42a6-46ae-a52a-db4d0c188ff1', '1f288a95-3ea8-4aae-baad-5db3858da391', 'a4dcab0f-c8e0-4061-8583-c8456a486081', 'c5daa467-fd37-49d1-9d2b-70d9fcc03736', '3205edda-5002-4c49-8546-997c6772f0ac', '4434d4b4-f12f-4ab8-9bb1-2b50307d97cf', 'a019a7c8-3dd8-4684-9b2b-2bdb913063cb'], metadata={'title': '沙特麦加酷热难耐，“已有来自埃及、约旦等国超900名朝觐者死亡”', 'publish_time': '2024-06-20 15:24:32', 'author': '齐倩', 'url': 'https://www.guancha.cn/internation/2024_06_20_738635.shtml', 'images': ['https://i.guancha.cn/news/vcg/2024/06/20/20240620143519414.jpg', 'https://i.guancha.cn/news/vcg/2024/06/20/20240620143539769.jpg']})}"
      ]
     },
     "execution_count": 12,
     "metadata": {},
     "output_type": "execute_result"
    }
   ],
   "source": [
    "doc_summary_index.ref_doc_info"
   ]
  },
  {
   "cell_type": "code",
   "execution_count": 13,
   "id": "30ff99c9-ec73-437d-aa1a-cf9d31fb5874",
   "metadata": {},
   "outputs": [
    {
     "data": {
      "text/plain": [
       "1"
      ]
     },
     "execution_count": 13,
     "metadata": {},
     "output_type": "execute_result"
    }
   ],
   "source": [
    "len(doc_summary_index.ref_doc_info)"
   ]
  },
  {
   "cell_type": "code",
   "execution_count": null,
   "id": "f9b7f74b-ee4a-4c18-b4aa-3436a6ae54ca",
   "metadata": {},
   "outputs": [],
   "source": []
  }
 ],
 "metadata": {
  "kernelspec": {
   "display_name": "Python 3 (ipykernel)",
   "language": "python",
   "name": "python3"
  },
  "language_info": {
   "codemirror_mode": {
    "name": "ipython",
    "version": 3
   },
   "file_extension": ".py",
   "mimetype": "text/x-python",
   "name": "python",
   "nbconvert_exporter": "python",
   "pygments_lexer": "ipython3",
   "version": "3.10.12"
  }
 },
 "nbformat": 4,
 "nbformat_minor": 5
}
