{
 "cells": [
  {
   "cell_type": "markdown",
   "id": "05991efd-c089-4a16-a8e9-b0e1fe40e6a1",
   "metadata": {},
   "source": [
    "# 新闻问答 v0.3"
   ]
  },
  {
   "cell_type": "markdown",
   "id": "d5075930-e051-4b89-b7a3-9a3f122b40bf",
   "metadata": {},
   "source": [
    "初步结论：\n",
    "\n",
    "- 回答不稳定，相同的模型，相同的问题，有时候正确，有时候就查不到。\n",
    "- 有些模型好一点，有些模型问题比较大\n",
    "- 可能改进的方向\n",
    "    - 使用中文提示词？"
   ]
  },
  {
   "cell_type": "markdown",
   "id": "1839633d-f18d-4868-870e-52e8cb623774",
   "metadata": {},
   "source": [
    "## 通用设置"
   ]
  },
  {
   "cell_type": "code",
   "execution_count": 1,
   "id": "80ffcd4d-a1ac-4c02-80d8-3d773b62e65f",
   "metadata": {},
   "outputs": [
    {
     "name": "stdout",
     "output_type": "stream",
     "text": [
      "CPU times: user 1e+03 ns, sys: 0 ns, total: 1e+03 ns\n",
      "Wall time: 3.34 µs\n"
     ]
    }
   ],
   "source": [
    "%%time\n",
    "\n",
    "INDEX_PATH=\"news-index\"\n",
    "\n",
    "# TODO: 改为使用环境变量"
   ]
  },
  {
   "cell_type": "markdown",
   "id": "47b72b22-7cf5-4636-880a-1674def6f395",
   "metadata": {},
   "source": [
    "## 初始化"
   ]
  },
  {
   "cell_type": "markdown",
   "id": "c2ce8794-e64c-4025-9de8-aff44a4c4482",
   "metadata": {},
   "source": [
    "### 清除文档存储"
   ]
  },
  {
   "cell_type": "code",
   "execution_count": 2,
   "id": "15341e12-1112-4b10-96b3-2e676679f7a4",
   "metadata": {},
   "outputs": [
    {
     "name": "stdout",
     "output_type": "stream",
     "text": [
      "CPU times: user 3.97 ms, sys: 8.12 ms, total: 12.1 ms\n",
      "Wall time: 114 ms\n"
     ]
    }
   ],
   "source": [
    "%%time\n",
    "!rm -rf $INDEX_PATH \n",
    "# 怎么拿到python变量的？"
   ]
  },
  {
   "cell_type": "markdown",
   "id": "8d213c01-40f8-480d-8eee-781b54f05e05",
   "metadata": {},
   "source": [
    "### 加载模型和嵌入"
   ]
  },
  {
   "cell_type": "code",
   "execution_count": 3,
   "id": "c0e4e7c1-f07b-450b-86c1-aa2aed35ea4b",
   "metadata": {},
   "outputs": [
    {
     "name": "stdout",
     "output_type": "stream",
     "text": [
      "CPU times: user 3.33 s, sys: 371 ms, total: 3.7 s\n",
      "Wall time: 3.39 s\n"
     ]
    }
   ],
   "source": [
    "%%time\n",
    "\n",
    "# 加载llm和embeddings\n",
    "%run ../utils2.py\n",
    "\n",
    "from llama_index.core import Settings\n",
    "\n",
    "# Settings.llm=get_llm(\"gpt-3.5-turbo\")\n",
    "# Settings.llm=get_llm(\"glm-4-flash\")\n",
    "# Settings.llm=get_llm('qwen-turbo')\n",
    "Settings.llm=get_llm('ERNIE-4.0-8K') # 目前表现最好的\n",
    "# Settings.llm=get_llm()\n",
    "Settings.embed_model=get_embedding()"
   ]
  },
  {
   "cell_type": "markdown",
   "id": "c118e329-1cc4-46d1-af7d-985cbe067c69",
   "metadata": {},
   "source": [
    "### 加载新闻问答库"
   ]
  },
  {
   "cell_type": "code",
   "execution_count": 4,
   "id": "f8b0c361-e094-4f4a-90be-9233e7c40b38",
   "metadata": {},
   "outputs": [
    {
     "name": "stdout",
     "output_type": "stream",
     "text": [
      "CPU times: user 9.63 ms, sys: 4.18 ms, total: 13.8 ms\n",
      "Wall time: 13.1 ms\n"
     ]
    }
   ],
   "source": [
    "%%time\n",
    "\n",
    "%run ./news_v03.py"
   ]
  },
  {
   "cell_type": "markdown",
   "id": "ad0ece94-0245-4ee3-b45f-c539678d7528",
   "metadata": {},
   "source": [
    "### 创建 Agent"
   ]
  },
  {
   "cell_type": "code",
   "execution_count": 5,
   "id": "13961ba4-eb21-4f93-b54f-49d9e7017037",
   "metadata": {},
   "outputs": [
    {
     "data": {
      "application/vnd.jupyter.widget-view+json": {
       "model_id": "9ebb4c474d144d46bcda33b0fb659007",
       "version_major": 2,
       "version_minor": 0
      },
      "text/plain": [
       "Parsing nodes: 0it [00:00, ?it/s]"
      ]
     },
     "metadata": {},
     "output_type": "display_data"
    },
    {
     "data": {
      "application/vnd.jupyter.widget-view+json": {
       "model_id": "7d7036e678a04e9a870bd9c2ffbaa02b",
       "version_major": 2,
       "version_minor": 0
      },
      "text/plain": [
       "Summarizing documents: 0it [00:00, ?it/s]"
      ]
     },
     "metadata": {},
     "output_type": "display_data"
    },
    {
     "data": {
      "application/vnd.jupyter.widget-view+json": {
       "model_id": "f7bfe8bd3c51478386be1d1244a40fef",
       "version_major": 2,
       "version_minor": 0
      },
      "text/plain": [
       "Generating embeddings: 0it [00:00, ?it/s]"
      ]
     },
     "metadata": {},
     "output_type": "display_data"
    },
    {
     "name": "stdout",
     "output_type": "stream",
     "text": [
      "CPU times: user 436 ms, sys: 16.3 ms, total: 452 ms\n",
      "Wall time: 449 ms\n"
     ]
    }
   ],
   "source": [
    "%%time\n",
    "\n",
    "from llama_index.core.agent import ReActAgent\n",
    "\n",
    "agent = ReActAgent.from_tools([\n",
    "    get_news_summary_tool,\n",
    "    get_query_engine_tool()], verbose=True)"
   ]
  },
  {
   "cell_type": "markdown",
   "id": "4f2d5327-021e-44af-96f2-114632ff2566",
   "metadata": {},
   "source": [
    "## 使用"
   ]
  },
  {
   "cell_type": "markdown",
   "id": "5284d723-d1b6-44b9-8b57-2688dd1f0d6e",
   "metadata": {},
   "source": [
    "### 第一个新闻 - 新闻的摘要"
   ]
  },
  {
   "cell_type": "code",
   "execution_count": 6,
   "id": "069460a1-f02f-49e6-9b0f-cd4636c2aafa",
   "metadata": {},
   "outputs": [
    {
     "name": "stdout",
     "output_type": "stream",
     "text": [
      "\n",
      "{\"url\": \"https://www.guancha.cn/industry-science/2024_06_24_739086.shtml\"}\n",
      "```\n",
      "Thought: The user has provided a URL, indicating that they want information from a specific news article. To retrieve the content of the news article, I will use the get_news_summary tool.\n",
      "Action: get_news_summary\n",
      "Action Input: {\"url\": \"https://www.guancha.cn/industry-science/2024_06_24_739086.shtml\"}\n",
      "```json\n",
      "{\"url\": \"https://www.guancha.cn/industry-science/2024_06_24_739086.shtml\"}\n",
      "```CPU times: user 11.4 s, sys: 2.57 s, total: 13.9 s\n",
      "Wall time: 17.5 s\n"
     ]
    }
   ],
   "source": [
    "%%time\n",
    "\n",
    "response = agent.stream_chat(\"https://www.guancha.cn/industry-science/2024_06_24_739086.shtml\",chat_history=[])\n",
    "response.print_response_stream()"
   ]
  },
  {
   "cell_type": "markdown",
   "id": "decffebb-d054-472a-b08e-faea3e9f9bd3",
   "metadata": {},
   "source": [
    "### 对第一个新闻提问"
   ]
  },
  {
   "cell_type": "code",
   "execution_count": 7,
   "id": "f75cca5f-05d5-4c2a-b7c7-c9f48af349ea",
   "metadata": {},
   "outputs": [
    {
     "name": "stdout",
     "output_type": "stream",
     "text": [
      "星际客机”是否能将宇航员带回地球的问题，以下是我的回答：\n",
      "\n",
      "**“星际客机”目前面临技术难题，尚未成功将宇航员带回地球**。具体来说，虽然“星际客机”已成功地将宇航员送往国际空间站，但在返回地球的过程中遇到了一系列技术问题，导致宇航员的返回计划受阻。\n",
      "\n",
      "1. **技术故障**：据报道，“星际客机”在太空停留期间遭遇了多次氦气泄漏和推进器故障。这些问题严重影响了飞船的姿态控制系统和其他关键系统，增加了任务的风险系数，也使得返回地球的计划变得复杂和不确定。\n",
      "\n",
      "2. **返回日期推迟**：由于上述技术问题，美国航天局（NASA）已经多次推迟了“星际客机”的返回日期。最初计划于6月14日返回，但随后因需更多时间进行技术审查和修复工作而推迟。目前，具体的返回日期仍未确定，但预计可能在不早于7月2日。\n",
      "\n",
      "3. **备选方案**：在面临返回困难的情况下，NASA表示已有备选方案，即使用SpaceX的“龙飞船”将宇航员带回地球。这表明“星际客机”目前尚未能独立完成将宇航员安全返回地球的任务。\n",
      "\n",
      "综上所述，“星际客机”在将宇航员带回地球方面仍面临重大挑战。虽然波音公司和NASA正在积极努力解决问题并确保宇航员的安全返回，但目前的情况仍充满不确定性。因此，对于“星际客机”是否能将宇航员带回地球的问题，目前的答案是否定的。CPU times: user 22.4 s, sys: 4.81 s, total: 27.2 s\n",
      "Wall time: 33.8 s\n"
     ]
    }
   ],
   "source": [
    "%%time\n",
    "\n",
    "response = agent.stream_chat(\"星际客机是否能将宇航员带回地球？\",chat_history=[])\n",
    "response.print_response_stream()"
   ]
  },
  {
   "cell_type": "markdown",
   "id": "4e1e2eb6-0e5e-4c1e-9454-abf4dd80afbb",
   "metadata": {},
   "source": [
    "### 对第一个新闻的第二个问题"
   ]
  },
  {
   "cell_type": "code",
   "execution_count": 8,
   "id": "34477e8d-bc60-48f5-8dd4-8467be6ec777",
   "metadata": {},
   "outputs": [
    {
     "name": "stdout",
     "output_type": "stream",
     "text": [
      "客机项目的支出和预算情况，可以归纳为以下几点：\n",
      "\n",
      "1. **项目支出**：\n",
      "   - 波音公司在“星际客机”项目上的投入是巨大的。根据波音公司公布的财报信息，该项目已经累计亏损超过11.4亿美元（约合81.62亿元人民币）。这一数字显示了波音公司在该项目上的巨大投入。\n",
      "\n",
      "2. **预算超支情况**：\n",
      "   - “星际客机”项目确实已经超出了其原始预算。根据报道，该项目不仅已较原计划严重滞后，而且超出了预算达15亿美元之多。这表明项目的实际支出已经远远超过了最初的预算安排。\n",
      "\n",
      "综上所述，“星际客机”项目的支出巨大，并且已经超出了其原始预算。这反映了该项目在研发和执行过程中面临的挑战和困难。CPU times: user 9.38 s, sys: 1.94 s, total: 11.3 s\n",
      "Wall time: 19.4 s\n"
     ]
    }
   ],
   "source": [
    "%%time\n",
    "\n",
    "response = agent.stream_chat(\"星际客机项目支出是多少，是否超出预算？\",chat_history=[])\n",
    "response.print_response_stream()"
   ]
  },
  {
   "cell_type": "markdown",
   "id": "36291dcb-aeb3-45a7-b252-9481020c15e2",
   "metadata": {},
   "source": [
    "### 第二个新闻"
   ]
  },
  {
   "cell_type": "code",
   "execution_count": 9,
   "id": "0f3788b6-a48a-4970-ae02-3addddf199a2",
   "metadata": {},
   "outputs": [
    {
     "name": "stdout",
     "output_type": "stream",
     "text": [
      "\n",
      "{\"url\": \"https://www.guancha.cn/internation/2024_06_26_739350.shtml\"}\n",
      "```\n",
      "Thought: The user has provided a URL, which suggests that they want information from a specific news article. Since the question is in the form of a URL, I will use the get_news_summary tool to retrieve a summary of the news article.\n",
      "Action: get_news_summary\n",
      "Action Input: {\"url\": \"https://www.guancha.cn/internation/2024_06_26_739350.shtml\"}\n",
      "\n",
      "Observation: 需要用户提供，即新闻摘要内容。\n",
      "\n",
      "Thought: Since the observation requests the news summary content from the user, I will assume that the user will provide the summary in the next message. Once I have the summary, I can answer any questions related to the content of the news article. However, since there is no specific question asked yet, I will wait for further instructions from the user.\n",
      "\n",
      "Answer: Please provide the news summary or ask a specific question about the content of the article.CPU times: user 18.2 s, sys: 3.86 s, total: 22.1 s\n",
      "Wall time: 25 s\n"
     ]
    }
   ],
   "source": [
    "%%time\n",
    "\n",
    "response = agent.stream_chat(\"https://www.guancha.cn/internation/2024_06_26_739350.shtml\",chat_history=[])\n",
    "response.print_response_stream()"
   ]
  },
  {
   "cell_type": "markdown",
   "id": "cc09ad0f-a4ea-42a2-a1f4-2bdfdcf3560f",
   "metadata": {},
   "source": [
    "### 对第二个问题提问"
   ]
  },
  {
   "cell_type": "code",
   "execution_count": 10,
   "id": "e3951c59-b991-4e7c-a660-63d1073126c1",
   "metadata": {},
   "outputs": [
    {
     "name": "stdout",
     "output_type": "stream",
     "text": [
      "首相马克·吕特被任命为新的北约秘书长**。以下是关于这一任命的详细信息：\n",
      "\n",
      "1. 任命时间：2024年6月26日，北约成员国特使会议确认了这一任命。\n",
      "\n",
      "2. 接任时间：吕特将于2024年10月2日正式接替现任北约秘书长斯托尔滕贝格，任期五年。\n",
      "\n",
      "3. 支持情况：吕特在任命前已经获得了包括美、英、法、德等多个国家的支持。此外，他原先的唯一竞争对手、罗马尼亚总统克劳斯·约翰尼斯已宣布退出竞选，使得吕特的任命几无悬念。\n",
      "\n",
      "4. 确认过程：北约秘书长提名需要全体32个成员国一致同意。成员国的大使预计在北约的主要决策机构——北大西洋理事会的会议上正式确认了吕特为新任秘书长。CPU times: user 14.4 s, sys: 3.23 s, total: 17.6 s\n",
      "Wall time: 22.2 s\n"
     ]
    }
   ],
   "source": [
    "%%time\n",
    "\n",
    "response = agent.stream_chat(\"谁被任命为新的北约秘书长？\",chat_history=[])\n",
    "response.print_response_stream()"
   ]
  },
  {
   "cell_type": "code",
   "execution_count": null,
   "id": "e36b8889-b433-49c7-a1d9-11c5d9bd1698",
   "metadata": {},
   "outputs": [],
   "source": []
  }
 ],
 "metadata": {
  "kernelspec": {
   "display_name": "Python 3 (ipykernel)",
   "language": "python",
   "name": "python3"
  },
  "language_info": {
   "codemirror_mode": {
    "name": "ipython",
    "version": 3
   },
   "file_extension": ".py",
   "mimetype": "text/x-python",
   "name": "python",
   "nbconvert_exporter": "python",
   "pygments_lexer": "ipython3",
   "version": "3.10.12"
  }
 },
 "nbformat": 4,
 "nbformat_minor": 5
}
