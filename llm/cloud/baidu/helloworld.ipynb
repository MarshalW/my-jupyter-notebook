{
 "cells": [
  {
   "cell_type": "markdown",
   "id": "877c48e4-b8b2-44c1-81b3-f2e566cf7a19",
   "metadata": {},
   "source": [
    "# 百度千帆最简单的聊天示例\n",
    "\n",
    "这里可以查看 \n",
    "\n",
    "- sdk [对话Chat](https://cloud.baidu.com/doc/WENXINWORKSHOP/s/xlmokikxe)\n",
    "- [百度千帆大模型平台 SDK@github](https://github.com/baidubce/bce-qianfan-sdk)\n"
   ]
  },
  {
   "cell_type": "markdown",
   "id": "a06a9f7b-036a-4db8-971f-67b881ba537f",
   "metadata": {
    "jp-MarkdownHeadingCollapsed": true
   },
   "source": [
    "## 依赖包"
   ]
  },
  {
   "cell_type": "code",
   "execution_count": 8,
   "id": "f419c007-c17e-41c1-aeb6-c84d19718038",
   "metadata": {},
   "outputs": [
    {
     "name": "stdout",
     "output_type": "stream",
     "text": [
      "Looking in indexes: https://pypi.tuna.tsinghua.edu.cn/simple\n",
      "Requirement already satisfied: qianfan in /usr/local/lib/python3.10/dist-packages (0.3.8)\n",
      "Requirement already satisfied: python-dotenv in /usr/local/lib/python3.10/dist-packages (1.0.1)\n",
      "Requirement already satisfied: aiolimiter>=1.1.0 in /usr/local/lib/python3.10/dist-packages (from qianfan) (1.1.0)\n",
      "Requirement already satisfied: prompt-toolkit>=3.0.38 in /usr/local/lib/python3.10/dist-packages (from qianfan) (3.0.43)\n",
      "Requirement already satisfied: rich>=13.0.0 in /usr/local/lib/python3.10/dist-packages (from qianfan) (13.7.1)\n",
      "Requirement already satisfied: diskcache<6.0.0,>=5.6.3 in /usr/local/lib/python3.10/dist-packages (from qianfan) (5.6.3)\n",
      "Requirement already satisfied: tenacity<9.0.0,>=8.2.3 in /usr/local/lib/python3.10/dist-packages (from qianfan) (8.2.3)\n",
      "Requirement already satisfied: typer>=0.9.0 in /usr/local/lib/python3.10/dist-packages (from qianfan) (0.12.3)\n",
      "Requirement already satisfied: bce-python-sdk>=0.8.79 in /usr/local/lib/python3.10/dist-packages (from qianfan) (0.9.6)\n",
      "Requirement already satisfied: requests>=2.24 in /usr/local/lib/python3.10/dist-packages (from qianfan) (2.31.0)\n",
      "Requirement already satisfied: aiohttp>=3.7.0 in /usr/local/lib/python3.10/dist-packages (from qianfan) (3.9.3)\n",
      "Requirement already satisfied: pyyaml<7.0.0,>=6.0.1 in /usr/local/lib/python3.10/dist-packages (from qianfan) (6.0.1)\n",
      "Requirement already satisfied: multiprocess in /usr/local/lib/python3.10/dist-packages (from qianfan) (0.70.16)\n",
      "Requirement already satisfied: pydantic in /usr/local/lib/python3.10/dist-packages (from qianfan) (2.6.4)\n",
      "Requirement already satisfied: aiosignal>=1.1.2 in /usr/local/lib/python3.10/dist-packages (from aiohttp>=3.7.0->qianfan) (1.3.1)\n",
      "Requirement already satisfied: async-timeout<5.0,>=4.0 in /usr/local/lib/python3.10/dist-packages (from aiohttp>=3.7.0->qianfan) (4.0.3)\n",
      "Requirement already satisfied: yarl<2.0,>=1.0 in /usr/local/lib/python3.10/dist-packages (from aiohttp>=3.7.0->qianfan) (1.9.4)\n",
      "Requirement already satisfied: attrs>=17.3.0 in /usr/local/lib/python3.10/dist-packages (from aiohttp>=3.7.0->qianfan) (23.2.0)\n",
      "Requirement already satisfied: multidict<7.0,>=4.5 in /usr/local/lib/python3.10/dist-packages (from aiohttp>=3.7.0->qianfan) (6.0.5)\n",
      "Requirement already satisfied: frozenlist>=1.1.1 in /usr/local/lib/python3.10/dist-packages (from aiohttp>=3.7.0->qianfan) (1.4.1)\n",
      "Requirement already satisfied: pycryptodome>=3.8.0 in /usr/local/lib/python3.10/dist-packages (from bce-python-sdk>=0.8.79->qianfan) (3.20.0)\n",
      "Requirement already satisfied: six>=1.4.0 in /usr/local/lib/python3.10/dist-packages (from bce-python-sdk>=0.8.79->qianfan) (1.16.0)\n",
      "Requirement already satisfied: future>=0.6.0 in /usr/local/lib/python3.10/dist-packages (from bce-python-sdk>=0.8.79->qianfan) (1.0.0)\n",
      "Requirement already satisfied: wcwidth in /usr/local/lib/python3.10/dist-packages (from prompt-toolkit>=3.0.38->qianfan) (0.2.13)\n",
      "Requirement already satisfied: urllib3<3,>=1.21.1 in /usr/local/lib/python3.10/dist-packages (from requests>=2.24->qianfan) (2.2.0)\n",
      "Requirement already satisfied: idna<4,>=2.5 in /usr/local/lib/python3.10/dist-packages (from requests>=2.24->qianfan) (3.6)\n",
      "Requirement already satisfied: certifi>=2017.4.17 in /usr/local/lib/python3.10/dist-packages (from requests>=2.24->qianfan) (2024.2.2)\n",
      "Requirement already satisfied: charset-normalizer<4,>=2 in /usr/local/lib/python3.10/dist-packages (from requests>=2.24->qianfan) (3.3.2)\n",
      "Requirement already satisfied: markdown-it-py>=2.2.0 in /usr/local/lib/python3.10/dist-packages (from rich>=13.0.0->qianfan) (3.0.0)\n",
      "Requirement already satisfied: pygments<3.0.0,>=2.13.0 in /usr/local/lib/python3.10/dist-packages (from rich>=13.0.0->qianfan) (2.17.2)\n",
      "Requirement already satisfied: click>=8.0.0 in /usr/local/lib/python3.10/dist-packages (from typer>=0.9.0->qianfan) (8.1.7)\n",
      "Requirement already satisfied: typing-extensions>=3.7.4.3 in /usr/local/lib/python3.10/dist-packages (from typer>=0.9.0->qianfan) (4.9.0)\n",
      "Requirement already satisfied: shellingham>=1.3.0 in /usr/local/lib/python3.10/dist-packages (from typer>=0.9.0->qianfan) (1.5.4)\n",
      "Requirement already satisfied: dill>=0.3.8 in /usr/local/lib/python3.10/dist-packages (from multiprocess->qianfan) (0.3.8)\n",
      "Requirement already satisfied: annotated-types>=0.4.0 in /usr/local/lib/python3.10/dist-packages (from pydantic->qianfan) (0.6.0)\n",
      "Requirement already satisfied: pydantic-core==2.16.3 in /usr/local/lib/python3.10/dist-packages (from pydantic->qianfan) (2.16.3)\n",
      "Requirement already satisfied: mdurl~=0.1 in /usr/local/lib/python3.10/dist-packages (from markdown-it-py>=2.2.0->rich>=13.0.0->qianfan) (0.1.2)\n",
      "\u001b[33mWARNING: Running pip as the 'root' user can result in broken permissions and conflicting behaviour with the system package manager. It is recommended to use a virtual environment instead: https://pip.pypa.io/warnings/venv\u001b[0m\u001b[33m\n",
      "\u001b[0m"
     ]
    }
   ],
   "source": [
    "!pip install qianfan python-dotenv"
   ]
  },
  {
   "cell_type": "markdown",
   "id": "5bd86447-1aae-48fd-8996-1b448aa93263",
   "metadata": {
    "jp-MarkdownHeadingCollapsed": true
   },
   "source": [
    "## 加载.env"
   ]
  },
  {
   "cell_type": "code",
   "execution_count": 12,
   "id": "db481453-11f1-4c98-b22c-4317fbc88c51",
   "metadata": {},
   "outputs": [
    {
     "name": "stdout",
     "output_type": "stream",
     "text": [
      "The dotenv extension is already loaded. To reload it, use:\n",
      "  %reload_ext dotenv\n"
     ]
    }
   ],
   "source": [
    "%load_ext dotenv\n",
    "%dotenv"
   ]
  },
  {
   "cell_type": "markdown",
   "id": "1ada4760-cf2f-4119-821e-519cc8d8b807",
   "metadata": {},
   "source": [
    "## 实现代码"
   ]
  },
  {
   "cell_type": "code",
   "execution_count": 16,
   "id": "5ef007bc-880d-4bf1-9a16-d97747d35969",
   "metadata": {},
   "outputs": [
    {
     "name": "stderr",
     "output_type": "stream",
     "text": [
      "[WARNING] [04-14 16:15:50] base.py:406 [t:140402063720448]: retry is not available when stream is enabled\n",
      "[INFO] [04-14 16:15:50] openapi_requestor.py:400 [t:140402063720448]: async requesting llm api endpoint: /chat/eb-instant\n"
     ]
    },
    {
     "name": "stdout",
     "output_type": "stream",
     "text": [
      "好的，\n",
      "没问题。\n",
      "我可以为您简明地介绍珠穆朗玛峰的位置：珠穆朗玛峰位于中尼边界，是世界上海拔最高的山峰\n",
      "之一，是登山和探险者向往的地方。\n",
      "\n"
     ]
    }
   ],
   "source": [
    "%reload_ext dotenv\n",
    "\n",
    "import os\n",
    "import qianfan as qf\n",
    "\n",
    "ak = os.environ['AK']\n",
    "sk = os.environ['SK']\n",
    "\n",
    "chat_comp = qf.ChatCompletion(ak=ak, sk=sk)\n",
    "\n",
    "resp = await chat_comp.ado(model=\"ERNIE-Lite-8K-0922\", messages=[{\n",
    "    \"role\": \"user\",\n",
    "    \"content\": \"现在的情况是你在向一个外星人介绍珠穆朗玛峰在哪里，用三四句话，要简明通俗\"\n",
    "}], stream=True)\n",
    "async for r in resp:\n",
    "    print(r['result'])\n"
   ]
  },
  {
   "cell_type": "code",
   "execution_count": null,
   "id": "275185e9-a372-4910-830e-a84573c8d0d2",
   "metadata": {},
   "outputs": [],
   "source": []
  }
 ],
 "metadata": {
  "kernelspec": {
   "display_name": "Python 3 (ipykernel)",
   "language": "python",
   "name": "python3"
  },
  "language_info": {
   "codemirror_mode": {
    "name": "ipython",
    "version": 3
   },
   "file_extension": ".py",
   "mimetype": "text/x-python",
   "name": "python",
   "nbconvert_exporter": "python",
   "pygments_lexer": "ipython3",
   "version": "3.10.12"
  }
 },
 "nbformat": 4,
 "nbformat_minor": 5
}
