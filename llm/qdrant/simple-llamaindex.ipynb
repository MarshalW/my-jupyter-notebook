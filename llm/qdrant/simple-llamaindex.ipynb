{
 "cells": [
  {
   "cell_type": "markdown",
   "id": "9572d910-9cc4-406c-853b-63854c0da2d3",
   "metadata": {},
   "source": [
    "# 使用 LlamaIndex 框架调用 Qdrant"
   ]
  },
  {
   "cell_type": "markdown",
   "id": "c38b2b93-32ea-438e-b9ed-1e12892b2fb1",
   "metadata": {},
   "source": [
    "问题：\n",
    "\n",
    "- 和 `simple.ipynb` 使用相同的 embedding，但是得到的余弦相似度有 `0.5774549345488187-0.6095981240348884` 的差\n",
    "    - 初步结论，提示词的作用，见 [多种加载 embedding 方式比较](./simple-llamaindex.ipynb)"
   ]
  },
  {
   "cell_type": "markdown",
   "id": "3ada22e5-1729-42c0-87e3-99e98125dc94",
   "metadata": {},
   "source": [
    "## 准备"
   ]
  },
  {
   "cell_type": "code",
   "execution_count": 1,
   "id": "b4422d70-cab2-46ec-814a-cc6a0780b6f4",
   "metadata": {},
   "outputs": [
    {
     "name": "stdout",
     "output_type": "stream",
     "text": [
      "CPU times: user 7.29 ms, sys: 4.08 ms, total: 11.4 ms\n",
      "Wall time: 111 ms\n"
     ]
    }
   ],
   "source": [
    "%%time\n",
    "%%capture\n",
    "\n",
    "persist_dir = \"/tmp/qdrant_my_books\"\n",
    "!rm -rf $persist_dir"
   ]
  },
  {
   "cell_type": "code",
   "execution_count": 2,
   "id": "502e0b1a-911d-4559-9d30-d62383a0dc2a",
   "metadata": {},
   "outputs": [
    {
     "name": "stdout",
     "output_type": "stream",
     "text": [
      "CPU times: user 50.6 ms, sys: 18.5 ms, total: 69.1 ms\n",
      "Wall time: 19.6 s\n"
     ]
    }
   ],
   "source": [
    "%%time\n",
    "%%capture\n",
    "\n",
    "!pip install llama-index-vector-stores-qdrant\n",
    "!pip install qdrant_client\n",
    "!pip install llama-index-embeddings-fastembed\n",
    "!pip install llama-index-embeddings-huggingface\n",
    "# !pip install fastembed-gpu\n",
    "!pip install transformers"
   ]
  },
  {
   "cell_type": "code",
   "execution_count": 3,
   "id": "2d9c23fe-3ef6-48da-9149-c7fa0d550756",
   "metadata": {},
   "outputs": [
    {
     "name": "stdout",
     "output_type": "stream",
     "text": [
      "CPU times: user 2 µs, sys: 0 ns, total: 2 µs\n",
      "Wall time: 3.81 µs\n"
     ]
    }
   ],
   "source": [
    "%%time\n",
    "\n",
    "books = [\n",
    "    {\n",
    "        \"name\": \"围城\",\n",
    "        \"description\": \"主人公方鸿渐留学回国后，面临找工作和个人感情的种种问题。他经历了几段感情波折，包括与鲍小姐的失败婚姻和与孙柔嘉的恋情，最终与孙柔嘉结婚。但婚后生活并不如意，他在事业上也遭遇挫折，未能实现自己的理想。\",\n",
    "        \"author\": \"钱钟书\",\n",
    "    },\n",
    "    {\n",
    "        \"name\": \"故乡\",\n",
    "        \"description\": \"小说讲述了主人公“我”（即鲁迅的化身）在阔别多年后回到故乡接母亲到城里生活的故事。在故乡，他遇到了童年的玩伴闰土和老仆人杨二嫂。通过与他们的交谈和观察，主人公感受到故乡的变化和人们生活的困苦。\",\n",
    "        \"author\": \"鲁迅\",\n",
    "    },\n",
    "    {\n",
    "       \"name\": \"阿Q正传\",\n",
    "        \"description\": \"讲述了阿Q这个贫苦农民在中国封建社会中的悲惨生活。他虽然穷困潦倒，但心态自负，总是以精神胜利法来安慰自己，逃避现实的困境。然而，随着社会动荡和革命的到来，阿Q的命运变得更加悲惨，最终被误认为是革命党人而被处死。\",\n",
    "        \"author\": \"鲁迅\",\n",
    "    }, \n",
    "]"
   ]
  },
  {
   "cell_type": "code",
   "execution_count": 4,
   "id": "89f991b8-c17e-4132-8113-06e78521ba56",
   "metadata": {},
   "outputs": [
    {
     "name": "stdout",
     "output_type": "stream",
     "text": [
      "CPU times: user 2.62 s, sys: 363 ms, total: 2.99 s\n",
      "Wall time: 2.68 s\n"
     ]
    }
   ],
   "source": [
    "%%time\n",
    "\n",
    "from llama_index.core import Document\n",
    "\n",
    "documents=[]\n",
    "\n",
    "for book in books:\n",
    "    document=Document(\n",
    "        text=book['description'],\n",
    "        metadata={\"name\": book['name'], \"author\": book['author']},\n",
    "    )\n",
    "    documents.append(document)"
   ]
  },
  {
   "cell_type": "code",
   "execution_count": 5,
   "id": "dee774b3-3e56-4637-9eef-66140eb1e9c6",
   "metadata": {},
   "outputs": [
    {
     "name": "stdout",
     "output_type": "stream",
     "text": [
      "CPU times: user 1.51 s, sys: 216 ms, total: 1.72 s\n",
      "Wall time: 1.69 s\n"
     ]
    }
   ],
   "source": [
    "%%time\n",
    "\n",
    "from llama_index.embeddings.fastembed import FastEmbedEmbedding\n",
    "from llama_index.embeddings.huggingface import HuggingFaceEmbedding\n",
    "from llama_index.core import Settings\n",
    "\n",
    "# Settings.embed_model = FastEmbedEmbedding(model_name=\"BAAI/bge-small-zh-v1.5\") # 可以用\n",
    "Settings.embed_model = HuggingFaceEmbedding(model_name=\"/models/bge-small-zh-v1.5\")"
   ]
  },
  {
   "cell_type": "code",
   "execution_count": 6,
   "id": "40e988cc-3ace-4c44-a3b6-47958a6ca926",
   "metadata": {},
   "outputs": [
    {
     "data": {
      "text/plain": [
       "512"
      ]
     },
     "execution_count": 6,
     "metadata": {},
     "output_type": "execute_result"
    }
   ],
   "source": [
    "Settings.embed_model.max_length"
   ]
  },
  {
   "cell_type": "markdown",
   "id": "dab38bc7-7067-41dd-8708-5cd44acf6ee0",
   "metadata": {},
   "source": [
    "## 使用 Qdrant"
   ]
  },
  {
   "cell_type": "markdown",
   "id": "f83e30c7-1014-4937-ad4d-5ef26c0dde74",
   "metadata": {},
   "source": [
    "### 设置存储位置"
   ]
  },
  {
   "cell_type": "code",
   "execution_count": 7,
   "id": "8f999537-6579-454f-ba80-19bd78db9bbf",
   "metadata": {},
   "outputs": [
    {
     "name": "stdout",
     "output_type": "stream",
     "text": [
      "CPU times: user 2 µs, sys: 0 ns, total: 2 µs\n",
      "Wall time: 3.58 µs\n"
     ]
    }
   ],
   "source": [
    "%%time\n",
    "\n",
    "collection_name=\"my_books\""
   ]
  },
  {
   "cell_type": "code",
   "execution_count": 8,
   "id": "b6ea1b3b-2e1c-4b37-9066-626fdd2b23d4",
   "metadata": {},
   "outputs": [
    {
     "name": "stdout",
     "output_type": "stream",
     "text": [
      "CPU times: user 794 ms, sys: 12.4 ms, total: 806 ms\n",
      "Wall time: 805 ms\n"
     ]
    }
   ],
   "source": [
    "%%time\n",
    "\n",
    "from qdrant_client import QdrantClient\n",
    "from qdrant_client import models\n",
    "\n",
    "client = QdrantClient(\":memory:\")\n",
    "\n",
    "\n",
    "if not client.collection_exists(collection_name):\n",
    "    client.create_collection(\n",
    "        collection_name=collection_name,\n",
    "        vectors_config=models.VectorParams(\n",
    "            size=Settings.embed_model.max_length,\n",
    "            distance=models.Distance.COSINE,\n",
    "        ),\n",
    "    )"
   ]
  },
  {
   "cell_type": "markdown",
   "id": "5588c287-68e8-46f4-a43c-60881d23d753",
   "metadata": {},
   "source": [
    "### 构建 VectorStoreIndex"
   ]
  },
  {
   "cell_type": "code",
   "execution_count": 9,
   "id": "142d740d-8c2f-4629-9077-d788c7812e04",
   "metadata": {},
   "outputs": [
    {
     "name": "stdout",
     "output_type": "stream",
     "text": [
      "CPU times: user 422 ms, sys: 54.8 ms, total: 476 ms\n",
      "Wall time: 474 ms\n"
     ]
    }
   ],
   "source": [
    "%%time\n",
    "\n",
    "from llama_index.vector_stores.qdrant import QdrantVectorStore\n",
    "from llama_index.core import StorageContext\n",
    "from llama_index.core import VectorStoreIndex\n",
    "from qdrant_client import models\n",
    "\n",
    "vector_store = QdrantVectorStore(\n",
    "    client=client, \n",
    "    collection_name=collection_name,\n",
    "    vectors_config=models.VectorParams(\n",
    "        size=Settings.embed_model.max_length,\n",
    "        distance=models.Distance.COSINE,\n",
    "    ),\n",
    ")\n",
    "storage_context = StorageContext.from_defaults(\n",
    "    vector_store=vector_store,\n",
    "    # persist_dir=persist_dir,\n",
    ")\n",
    "index = VectorStoreIndex.from_documents(\n",
    "    documents,\n",
    "    storage_context=storage_context,\n",
    ")"
   ]
  },
  {
   "cell_type": "markdown",
   "id": "a8c23677-364d-4ee5-9c08-6308b4ecdb6b",
   "metadata": {},
   "source": [
    "### 保存和加载"
   ]
  },
  {
   "cell_type": "code",
   "execution_count": 10,
   "id": "6b426481-1e02-423e-aac8-b043811d2095",
   "metadata": {},
   "outputs": [
    {
     "name": "stdout",
     "output_type": "stream",
     "text": [
      "CPU times: user 2.2 ms, sys: 0 ns, total: 2.2 ms\n",
      "Wall time: 2.45 ms\n"
     ]
    }
   ],
   "source": [
    "%%time\n",
    "\n",
    "index.storage_context.persist(persist_dir)"
   ]
  },
  {
   "cell_type": "code",
   "execution_count": 11,
   "id": "685d4694-b227-4235-ba5a-495467416646",
   "metadata": {},
   "outputs": [
    {
     "name": "stdout",
     "output_type": "stream",
     "text": [
      "CPU times: user 2.11 ms, sys: 0 ns, total: 2.11 ms\n",
      "Wall time: 1.79 ms\n"
     ]
    }
   ],
   "source": [
    "%%time\n",
    "\n",
    "from llama_index.core import load_index_from_storage\n",
    "\n",
    "storage_context = StorageContext.from_defaults(\n",
    "    vector_store=vector_store,\n",
    "    persist_dir=persist_dir\n",
    ")\n",
    "index = load_index_from_storage(storage_context)"
   ]
  },
  {
   "cell_type": "markdown",
   "id": "384402d3-98e9-47a1-813a-45fcb69aacf8",
   "metadata": {},
   "source": [
    "### 查询"
   ]
  },
  {
   "cell_type": "code",
   "execution_count": 12,
   "id": "53c737ad-8a58-4718-acf8-b855b60cc305",
   "metadata": {},
   "outputs": [
    {
     "name": "stdout",
     "output_type": "stream",
     "text": [
      "CPU times: user 18.5 ms, sys: 0 ns, total: 18.5 ms\n",
      "Wall time: 17.8 ms\n"
     ]
    },
    {
     "data": {
      "text/plain": [
       "[NodeWithScore(node=TextNode(id_='7a0737ef-ed8d-4a29-ab67-c44df797e19b', embedding=None, metadata={'name': '围城', 'author': '钱钟书'}, excluded_embed_metadata_keys=[], excluded_llm_metadata_keys=[], relationships={<NodeRelationship.SOURCE: '1'>: RelatedNodeInfo(node_id='d4dfd37a-2039-4b85-a51e-0c8aee1b99db', node_type=<ObjectType.DOCUMENT: '4'>, metadata={'name': '围城', 'author': '钱钟书'}, hash='56789afd35feb54babd9e0b0e5d2829f958d312139246f30ce119b1451af4a01')}, text='主人公方鸿渐留学回国后，面临找工作和个人感情的种种问题。他经历了几段感情波折，包括与鲍小姐的失败婚姻和与孙柔嘉的恋情，最终与孙柔嘉结婚。但婚后生活并不如意，他在事业上也遭遇挫折，未能实现自己的理想。', start_char_idx=0, end_char_idx=99, text_template='{metadata_str}\\n\\n{content}', metadata_template='{key}: {value}', metadata_seperator='\\n'), score=0.5774549345488187),\n",
       " NodeWithScore(node=TextNode(id_='a2d82a2c-9333-43b4-b727-dd00a4c26797', embedding=None, metadata={'name': '阿Q正传', 'author': '鲁迅'}, excluded_embed_metadata_keys=[], excluded_llm_metadata_keys=[], relationships={<NodeRelationship.SOURCE: '1'>: RelatedNodeInfo(node_id='f1e75587-bdd2-4409-bd52-19867cc46a0b', node_type=<ObjectType.DOCUMENT: '4'>, metadata={'name': '阿Q正传', 'author': '鲁迅'}, hash='da348d34b3c01489fd22a5dff92c456dcf0d845014c805146a66da58b6cf4395')}, text='讲述了阿Q这个贫苦农民在中国封建社会中的悲惨生活。他虽然穷困潦倒，但心态自负，总是以精神胜利法来安慰自己，逃避现实的困境。然而，随着社会动荡和革命的到来，阿Q的命运变得更加悲惨，最终被误认为是革命党人而被处死。', start_char_idx=0, end_char_idx=105, text_template='{metadata_str}\\n\\n{content}', metadata_template='{key}: {value}', metadata_seperator='\\n'), score=0.3175672600117114)]"
      ]
     },
     "execution_count": 12,
     "metadata": {},
     "output_type": "execute_result"
    }
   ],
   "source": [
    "%%time\n",
    "\n",
    "retriever = index.as_retriever()\n",
    "nodes = retriever.retrieve(\"方鸿渐\")\n",
    "\n",
    "nodes"
   ]
  },
  {
   "cell_type": "markdown",
   "id": "142dda96-7c54-429a-9310-c0c09972b0bb",
   "metadata": {},
   "source": [
    "### 过滤"
   ]
  },
  {
   "cell_type": "code",
   "execution_count": 13,
   "id": "20b2abc6-bfa4-4f25-ab6d-809cc796f9e7",
   "metadata": {},
   "outputs": [
    {
     "name": "stdout",
     "output_type": "stream",
     "text": [
      "CPU times: user 131 µs, sys: 0 ns, total: 131 µs\n",
      "Wall time: 134 µs\n"
     ]
    }
   ],
   "source": [
    "%%time\n",
    "\n",
    "from llama_index.core.vector_stores import (\n",
    "    MetadataFilter,\n",
    "    MetadataFilters,\n",
    "    FilterOperator,\n",
    ")\n",
    "\n",
    "filters = MetadataFilters(\n",
    "    filters=[\n",
    "        MetadataFilter(\n",
    "            key=\"author\", operator=FilterOperator.EQ, value=\"钱钟书\"\n",
    "        ),\n",
    "    ]\n",
    ")"
   ]
  },
  {
   "cell_type": "code",
   "execution_count": 14,
   "id": "e8f0b517-0b70-4447-9123-043c74a9ae7f",
   "metadata": {},
   "outputs": [
    {
     "name": "stdout",
     "output_type": "stream",
     "text": [
      "CPU times: user 8.89 ms, sys: 0 ns, total: 8.89 ms\n",
      "Wall time: 9.17 ms\n"
     ]
    },
    {
     "data": {
      "text/plain": [
       "[NodeWithScore(node=TextNode(id_='7a0737ef-ed8d-4a29-ab67-c44df797e19b', embedding=None, metadata={'name': '围城', 'author': '钱钟书'}, excluded_embed_metadata_keys=[], excluded_llm_metadata_keys=[], relationships={<NodeRelationship.SOURCE: '1'>: RelatedNodeInfo(node_id='d4dfd37a-2039-4b85-a51e-0c8aee1b99db', node_type=<ObjectType.DOCUMENT: '4'>, metadata={'name': '围城', 'author': '钱钟书'}, hash='56789afd35feb54babd9e0b0e5d2829f958d312139246f30ce119b1451af4a01')}, text='主人公方鸿渐留学回国后，面临找工作和个人感情的种种问题。他经历了几段感情波折，包括与鲍小姐的失败婚姻和与孙柔嘉的恋情，最终与孙柔嘉结婚。但婚后生活并不如意，他在事业上也遭遇挫折，未能实现自己的理想。', start_char_idx=0, end_char_idx=99, text_template='{metadata_str}\\n\\n{content}', metadata_template='{key}: {value}', metadata_seperator='\\n'), score=0.5774549345488187)]"
      ]
     },
     "execution_count": 14,
     "metadata": {},
     "output_type": "execute_result"
    }
   ],
   "source": [
    "%%time\n",
    "\n",
    "retriever = index.as_retriever(filters=filters)\n",
    "nodes = retriever.retrieve(\"方鸿渐\")\n",
    "\n",
    "nodes"
   ]
  }
 ],
 "metadata": {
  "kernelspec": {
   "display_name": "Python 3 (ipykernel)",
   "language": "python",
   "name": "python3"
  },
  "language_info": {
   "codemirror_mode": {
    "name": "ipython",
    "version": 3
   },
   "file_extension": ".py",
   "mimetype": "text/x-python",
   "name": "python",
   "nbconvert_exporter": "python",
   "pygments_lexer": "ipython3",
   "version": "3.10.12"
  }
 },
 "nbformat": 4,
 "nbformat_minor": 5
}
