{
 "cells": [
  {
   "cell_type": "markdown",
   "id": "e6a912d7-fdb0-4fc1-bfa8-3e91fd1094f9",
   "metadata": {},
   "source": [
    "# mnist\n",
    "\n",
    "通过识别手写阿拉伯数字，演示更真实的神经网络。\n",
    "\n",
    "示例需要能够联网，下载 mnist 数据集，包含 6 万手写图片数据和标注，用于训练手写识别的模型。\n",
    "\n",
    "示例代码会自动识别 cuda，如果没有，则使用 cpu。\n",
    "\n",
    "## 代码和执行结果\n"
   ]
  },
  {
   "cell_type": "code",
   "execution_count": 4,
   "id": "b5a81e89-0d89-4c7e-ba9d-302a5353735e",
   "metadata": {},
   "outputs": [
    {
     "name": "stdout",
     "output_type": "stream",
     "text": [
      "Downloading http://yann.lecun.com/exdb/mnist/train-images-idx3-ubyte.gz\n",
      "Downloading http://yann.lecun.com/exdb/mnist/train-images-idx3-ubyte.gz to ./data/MNIST/raw/train-images-idx3-ubyte.gz\n"
     ]
    },
    {
     "name": "stderr",
     "output_type": "stream",
     "text": [
      "100%|██████████| 9912422/9912422 [00:02<00:00, 3490317.09it/s]\n"
     ]
    },
    {
     "name": "stdout",
     "output_type": "stream",
     "text": [
      "Extracting ./data/MNIST/raw/train-images-idx3-ubyte.gz to ./data/MNIST/raw\n",
      "\n",
      "Downloading http://yann.lecun.com/exdb/mnist/train-labels-idx1-ubyte.gz\n",
      "Downloading http://yann.lecun.com/exdb/mnist/train-labels-idx1-ubyte.gz to ./data/MNIST/raw/train-labels-idx1-ubyte.gz\n"
     ]
    },
    {
     "name": "stderr",
     "output_type": "stream",
     "text": [
      "100%|██████████| 28881/28881 [00:00<00:00, 1199327.68it/s]\n"
     ]
    },
    {
     "name": "stdout",
     "output_type": "stream",
     "text": [
      "Extracting ./data/MNIST/raw/train-labels-idx1-ubyte.gz to ./data/MNIST/raw\n",
      "\n",
      "Downloading http://yann.lecun.com/exdb/mnist/t10k-images-idx3-ubyte.gz\n",
      "Downloading http://yann.lecun.com/exdb/mnist/t10k-images-idx3-ubyte.gz to ./data/MNIST/raw/t10k-images-idx3-ubyte.gz\n"
     ]
    },
    {
     "name": "stderr",
     "output_type": "stream",
     "text": [
      "100%|██████████| 1648877/1648877 [00:01<00:00, 890701.32it/s] \n"
     ]
    },
    {
     "name": "stdout",
     "output_type": "stream",
     "text": [
      "Extracting ./data/MNIST/raw/t10k-images-idx3-ubyte.gz to ./data/MNIST/raw\n",
      "\n",
      "Downloading http://yann.lecun.com/exdb/mnist/t10k-labels-idx1-ubyte.gz\n",
      "Downloading http://yann.lecun.com/exdb/mnist/t10k-labels-idx1-ubyte.gz to ./data/MNIST/raw/t10k-labels-idx1-ubyte.gz\n"
     ]
    },
    {
     "name": "stderr",
     "output_type": "stream",
     "text": [
      "100%|██████████| 4542/4542 [00:00<00:00, 2936271.39it/s]\n"
     ]
    },
    {
     "name": "stdout",
     "output_type": "stream",
     "text": [
      "Extracting ./data/MNIST/raw/t10k-labels-idx1-ubyte.gz to ./data/MNIST/raw\n",
      "\n",
      "Epoch: 1, Batch: 200, Loss: 1.518\n",
      "Epoch: 1, Batch: 400, Loss: 0.720\n",
      "Epoch: 1, Batch: 600, Loss: 0.528\n",
      "Epoch: 1, Batch: 800, Loss: 0.450\n",
      "Epoch: 2, Batch: 200, Loss: 0.397\n",
      "Epoch: 2, Batch: 400, Loss: 0.375\n",
      "Epoch: 2, Batch: 600, Loss: 0.371\n",
      "Epoch: 2, Batch: 800, Loss: 0.360\n",
      "Epoch: 3, Batch: 200, Loss: 0.333\n",
      "Epoch: 3, Batch: 400, Loss: 0.324\n",
      "Epoch: 3, Batch: 600, Loss: 0.325\n",
      "Epoch: 3, Batch: 800, Loss: 0.331\n",
      "Epoch: 4, Batch: 200, Loss: 0.305\n",
      "Epoch: 4, Batch: 400, Loss: 0.312\n",
      "Epoch: 4, Batch: 600, Loss: 0.289\n",
      "Epoch: 4, Batch: 800, Loss: 0.304\n",
      "Epoch: 5, Batch: 200, Loss: 0.293\n",
      "Epoch: 5, Batch: 400, Loss: 0.285\n",
      "Epoch: 5, Batch: 600, Loss: 0.287\n",
      "Epoch: 5, Batch: 800, Loss: 0.282\n",
      "Training finished.\n",
      "Accuracy on test set: 92.41%\n",
      "Using device: cuda\n"
     ]
    }
   ],
   "source": [
    "import torch\n",
    "import torch.nn as nn\n",
    "import torch.optim as optim\n",
    "import torchvision\n",
    "import torchvision.transforms as transforms\n",
    "\n",
    "'''\n",
    "示例使用了PyTorch的torchvision模块加载了MNIST数据集，并对数据进行了预处理。\n",
    "然后定义了一个简单的全连接神经网络模型，使用交叉熵损失函数和随机梯度下降（SGD）优化器进行训练。\n",
    "在训练过程中，每个epoch会打印出平均损失值。训练完成后，使用测试集进行推理并计算准确率。\n",
    "\n",
    "请注意，这只是一个最简易的示例，实际的训练和推理过程可能需要更多的细节和调整，具体取决于任务和数据集的复杂性。\n",
    "'''\n",
    "\n",
    "# # 用于强制使用 cpu 时\n",
    "# import os\n",
    "# os.environ[\"CUDA_VISIBLE_DEVICES\"]=\"\"\n",
    "\n",
    "# 数据预处理\n",
    "transform = transforms.Compose([\n",
    "    transforms.ToTensor(),\n",
    "    transforms.Normalize((0.5,), (0.5,))\n",
    "])\n",
    "\n",
    "# 加载训练集和测试集\n",
    "trainset = torchvision.datasets.MNIST(root='./data', train=True, download=True, transform=transform)\n",
    "trainloader = torch.utils.data.DataLoader(trainset, batch_size=64, shuffle=True)\n",
    "\n",
    "testset = torchvision.datasets.MNIST(root='./data', train=False, download=True, transform=transform)\n",
    "testloader = torch.utils.data.DataLoader(testset, batch_size=64, shuffle=False)\n",
    "\n",
    "# 定义模型\n",
    "model = nn.Sequential(\n",
    "    nn.Linear(784, 128),\n",
    "    nn.ReLU(),\n",
    "    nn.Linear(128, 10)\n",
    ")\n",
    "\n",
    "# 定义损失函数和优化器\n",
    "criterion = nn.CrossEntropyLoss()\n",
    "optimizer = optim.SGD(model.parameters(), lr=0.01)\n",
    "\n",
    "# 训练模型\n",
    "for epoch in range(5):  # 进行5个epoch的训练\n",
    "    running_loss = 0.0\n",
    "    for i, data in enumerate(trainloader, 0):\n",
    "        inputs, labels = data\n",
    "\n",
    "        optimizer.zero_grad()\n",
    "\n",
    "        outputs = model(inputs.view(inputs.size(0), -1))\n",
    "        loss = criterion(outputs, labels)\n",
    "        loss.backward()\n",
    "        optimizer.step()\n",
    "\n",
    "        running_loss += loss.item()\n",
    "        if i % 200 == 199:  # 每200个batch打印一次损失值\n",
    "            print(f'Epoch: {epoch + 1}, Batch: {i + 1}, Loss: {running_loss / 200:.3f}')\n",
    "            running_loss = 0.0\n",
    "\n",
    "print('Training finished.')\n",
    "\n",
    "# 在测试集上进行推理\n",
    "correct = 0\n",
    "total = 0\n",
    "with torch.no_grad():\n",
    "    for data in testloader:\n",
    "        images, labels = data\n",
    "        outputs = model(images.view(images.size(0), -1))\n",
    "        _, predicted = torch.max(outputs.data, 1)\n",
    "        total += labels.size(0)\n",
    "        correct += (predicted == labels).sum().item()\n",
    "\n",
    "print(f'Accuracy on test set: {(100 * correct / total):.2f}%')\n",
    "\n",
    "device = torch.device(\"cuda\" if torch.cuda.is_available() else \"cpu\")\n",
    "print(f\"Using device: {device}\")"
   ]
  },
  {
   "cell_type": "markdown",
   "id": "dacb3527-cd81-4997-971c-5dbe1a040f74",
   "metadata": {},
   "source": [
    "## 可视化的神经网络"
   ]
  },
  {
   "cell_type": "code",
   "execution_count": 7,
   "id": "7b643f28-7729-49e4-87ad-2e5b3b23d563",
   "metadata": {},
   "outputs": [
    {
     "data": {
      "text/html": [
       "<video width=\"800\" \n",
       "       src=\"./neural_network_anim.webm\"  \n",
       "       controls>\n",
       "</video>\n"
      ],
      "text/plain": [
       "<IPython.core.display.HTML object>"
      ]
     },
     "metadata": {},
     "output_type": "display_data"
    }
   ],
   "source": [
    "%%HTML\n",
    "<video width=\"800\" \n",
    "       src=\"./neural_network_anim.webm\"  \n",
    "       controls>\n",
    "</video>"
   ]
  },
  {
   "cell_type": "code",
   "execution_count": null,
   "id": "0ecc2e02-4a0f-4f22-8eaf-067de0e72f6c",
   "metadata": {},
   "outputs": [],
   "source": []
  }
 ],
 "metadata": {
  "kernelspec": {
   "display_name": "Python 3 (ipykernel)",
   "language": "python",
   "name": "python3"
  },
  "language_info": {
   "codemirror_mode": {
    "name": "ipython",
    "version": 3
   },
   "file_extension": ".py",
   "mimetype": "text/x-python",
   "name": "python",
   "nbconvert_exporter": "python",
   "pygments_lexer": "ipython3",
   "version": "3.10.12"
  }
 },
 "nbformat": 4,
 "nbformat_minor": 5
}
