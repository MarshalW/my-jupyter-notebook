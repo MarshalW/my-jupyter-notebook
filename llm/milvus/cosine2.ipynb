{
 "cells": [
  {
   "cell_type": "markdown",
   "id": "680fcea1-7341-4e2a-8cf4-b1a6eb4adcd9",
   "metadata": {},
   "source": [
    "# 尝试使用cosine similarity"
   ]
  },
  {
   "cell_type": "markdown",
   "id": "01d8ec5e-63b3-4858-927b-93d91f7ba3e7",
   "metadata": {},
   "source": [
    "milvus 默认使用的是ip，就是向量内积？\n",
    "\n",
    "因此如果需要使用余弦相似度，需要进行设置？"
   ]
  },
  {
   "cell_type": "code",
   "execution_count": 1,
   "id": "1a9b555f-f82b-460a-a33e-259566b97df4",
   "metadata": {},
   "outputs": [
    {
     "name": "stdout",
     "output_type": "stream",
     "text": [
      "CPU times: user 3.55 s, sys: 432 ms, total: 3.98 s\n",
      "Wall time: 3.65 s\n"
     ]
    }
   ],
   "source": [
    "%%time\n",
    "\n",
    "import logging\n",
    "import sys\n",
    "\n",
    "from llama_index.core import VectorStoreIndex, SimpleDirectoryReader\n",
    "from llama_index.core import StorageContext\n",
    "from llama_index.embeddings.huggingface import HuggingFaceEmbedding\n",
    "from IPython.display import Markdown, display\n",
    "from llama_index.core import Settings\n",
    "from llama_index.embeddings.ollama import OllamaEmbedding\n",
    "\n",
    "from llama_index.llms.openai_like import OpenAILike\n",
    "\n",
    "from llama_index.core import VectorStoreIndex, StorageContext\n",
    "from llama_index.vector_stores.milvus import MilvusVectorStore"
   ]
  },
  {
   "cell_type": "code",
   "execution_count": 2,
   "id": "c96d0178-9a17-41df-b430-87f8e2ffcf5e",
   "metadata": {},
   "outputs": [
    {
     "name": "stdout",
     "output_type": "stream",
     "text": [
      "CPU times: user 108 µs, sys: 14 µs, total: 122 µs\n",
      "Wall time: 124 µs\n"
     ]
    }
   ],
   "source": [
    "%%time\n",
    "\n",
    "# llm\n",
    "llm = OpenAILike(model=\"qwen14b\", \n",
    "                 api_base=\"http://192.168.0.72:3000/v1\", \n",
    "                 api_key=\"sk-bJP6QSnUfjAYeYeE505d3eBf63A643BeB0B8E350Df9b7750\",\n",
    "                 is_chat_model=True,\n",
    "                 temperature=0.1\n",
    "                )"
   ]
  },
  {
   "cell_type": "code",
   "execution_count": 3,
   "id": "9806ac8c-17bc-4c4c-801d-3f0b220ddd3a",
   "metadata": {},
   "outputs": [
    {
     "name": "stdout",
     "output_type": "stream",
     "text": [
      "CPU times: user 67 µs, sys: 9 µs, total: 76 µs\n",
      "Wall time: 78.4 µs\n"
     ]
    }
   ],
   "source": [
    "%%time\n",
    "\n",
    "# embedding\n",
    "from llama_index.embeddings.ollama import OllamaEmbedding\n",
    "\n",
    "ollama_embedding = OllamaEmbedding(\n",
    "    model_name=\"dztech/bge-large-zh:v1.5\",\n",
    "    # model_name=\"bge-m3:latest\",\n",
    "    base_url=\"http://192.168.0.72:11435\",\n",
    "    ollama_additional_kwargs={\"mirostat\": 0}, # -mirostat N 使用 Mirostat 采样。\n",
    ")"
   ]
  },
  {
   "cell_type": "code",
   "execution_count": 4,
   "id": "a5b9f0be-654f-4bb4-9f90-9018402b1770",
   "metadata": {},
   "outputs": [
    {
     "data": {
      "text/plain": [
       "_Settings(_llm=OpenAILike(callback_manager=<llama_index.core.callbacks.base.CallbackManager object at 0x7f64a3df4dc0>, system_prompt=None, messages_to_prompt=<function messages_to_prompt at 0x7f64aeba00d0>, completion_to_prompt=<function default_completion_to_prompt at 0x7f64aebd28c0>, output_parser=None, pydantic_program_mode=<PydanticProgramMode.DEFAULT: 'default'>, query_wrapper_prompt=None, model='qwen14b', temperature=0.1, max_tokens=None, logprobs=None, top_logprobs=0, additional_kwargs={}, max_retries=3, timeout=60.0, default_headers=None, reuse_client=True, api_key='sk-bJP6QSnUfjAYeYeE505d3eBf63A643BeB0B8E350Df9b7750', api_base='http://192.168.0.72:3000/v1', api_version='', context_window=3900, is_chat_model=True, is_function_calling_model=False, tokenizer=None), _embed_model=OllamaEmbedding(model_name='dztech/bge-large-zh:v1.5', embed_batch_size=10, callback_manager=<llama_index.core.callbacks.base.CallbackManager object at 0x7f64a3df4dc0>, num_workers=None, base_url='http://192.168.0.72:11435', ollama_additional_kwargs={'mirostat': 0}), _callback_manager=<llama_index.core.callbacks.base.CallbackManager object at 0x7f64a3df4dc0>, _tokenizer=None, _node_parser=SentenceSplitter(include_metadata=True, include_prev_next_rel=True, callback_manager=<llama_index.core.callbacks.base.CallbackManager object at 0x7f63e8c00130>, id_func=<function default_id_func at 0x7f64aec23010>, chunk_size=128, chunk_overlap=10, separator=' ', paragraph_separator='\\n\\n\\n', secondary_chunking_regex='[^,.;。？！]+[,.;。？！]?'), _prompt_helper=None, _transformations=None)"
      ]
     },
     "execution_count": 4,
     "metadata": {},
     "output_type": "execute_result"
    }
   ],
   "source": [
    "Settings.chunk_size=128\n",
    "Settings.chunk_overlap=10\n",
    "\n",
    "Settings.llm =llm\n",
    "Settings.embed_model = ollama_embedding\n",
    "\n",
    "Settings"
   ]
  },
  {
   "cell_type": "code",
   "execution_count": 5,
   "id": "9fde5b08-455d-4dd7-8145-27b2865aaf1c",
   "metadata": {},
   "outputs": [
    {
     "name": "stdout",
     "output_type": "stream",
     "text": [
      "v2.3.5-lite\n",
      "CPU times: user 3.17 s, sys: 263 ms, total: 3.43 s\n",
      "Wall time: 6.44 s\n"
     ]
    }
   ],
   "source": [
    "%%time\n",
    "\n",
    "from milvus import default_server\n",
    "from pymilvus import connections, utility\n",
    "\n",
    "default_server.set_base_dir('milvus_data')\n",
    "\n",
    "# (OPTIONAL) if you want cleanup previous data\n",
    "default_server.cleanup()\n",
    "\n",
    "# Start your milvus server\n",
    "default_server.start()\n",
    "\n",
    "# Now you could connect with localhost and the given port\n",
    "# Port is defined by default_server.listen_port\n",
    "connections.connect(host='127.0.0.1', port=default_server.listen_port)\n",
    "\n",
    "# Check if the server is ready.\n",
    "print(utility.get_server_version())"
   ]
  },
  {
   "cell_type": "code",
   "execution_count": 6,
   "id": "295c28f1-4ae0-40c5-9ed1-f714364b25e0",
   "metadata": {},
   "outputs": [
    {
     "name": "stdout",
     "output_type": "stream",
     "text": [
      "Document ID: 29ff2226-2529-4520-b11e-bae1ffb00ad5\n",
      "CPU times: user 9.6 ms, sys: 0 ns, total: 9.6 ms\n",
      "Wall time: 8.91 ms\n"
     ]
    }
   ],
   "source": [
    "%%time\n",
    "\n",
    "# load documents\n",
    "documents = SimpleDirectoryReader(input_files=[\"./books1/故乡.txt\"]).load_data()\n",
    "print(\"Document ID:\", documents[0].doc_id)"
   ]
  },
  {
   "cell_type": "code",
   "execution_count": 7,
   "id": "c21bf378-df9c-40e3-bf34-05a33d327957",
   "metadata": {},
   "outputs": [
    {
     "name": "stdout",
     "output_type": "stream",
     "text": [
      "CPU times: user 404 ms, sys: 14 ms, total: 418 ms\n",
      "Wall time: 13.1 s\n"
     ]
    }
   ],
   "source": [
    "%%time\n",
    "\n",
    "vector_store = MilvusVectorStore(\n",
    "    dim=1024, \n",
    "    overwrite=True,\n",
    "    similarity_metric=\"COSINE\",\n",
    ")\n",
    "storage_context = StorageContext.from_defaults(vector_store=vector_store)\n",
    "index = VectorStoreIndex.from_documents(\n",
    "    documents, storage_context=storage_context\n",
    ")"
   ]
  },
  {
   "cell_type": "code",
   "execution_count": 18,
   "id": "8dc8e4bf-6cbb-43fe-acae-d4b6b91c140d",
   "metadata": {},
   "outputs": [
    {
     "name": "stdout",
     "output_type": "stream",
     "text": [
      "CPU times: user 161 µs, sys: 0 ns, total: 161 µs\n",
      "Wall time: 163 µs\n"
     ]
    }
   ],
   "source": [
    "%%time\n",
    "\n",
    "# Query Data\n",
    "query_engine = index.as_query_engine(\n",
    "    streaming=True,\n",
    "    similarity_top_k=3\n",
    ")"
   ]
  },
  {
   "cell_type": "code",
   "execution_count": 19,
   "id": "087f0904-5afd-4d80-ae5b-0899efff4d1a",
   "metadata": {},
   "outputs": [
    {
     "name": "stdout",
     "output_type": "stream",
     "text": [
      "闰土是小说《故乡》中的人物，他是主人公鲁迅（即文中的“我”）儿时的朋友，和“我”同年出生，因为生于闰月，五行缺土，所以他的父亲给他取名为闰土。他是一个擅长捕鸟的孩子。\n",
      "\n",
      "\n",
      "\n",
      "CPU times: user 88.2 ms, sys: 12.9 ms, total: 101 ms\n",
      "Wall time: 6.77 s\n"
     ]
    }
   ],
   "source": [
    "%%time\n",
    "\n",
    "streaming_response = query_engine.query(\"闰土是谁\")\n",
    "streaming_response.print_response_stream()\n",
    "print()"
   ]
  },
  {
   "cell_type": "code",
   "execution_count": 20,
   "id": "1ec52acf-abdb-448d-9887-05206d41d9a3",
   "metadata": {},
   "outputs": [
    {
     "name": "stdout",
     "output_type": "stream",
     "text": [
      "0.6530978679656982 故乡.txt 我这时很兴奋，但不知..\n",
      "0.6412548422813416 故乡.txt 闰土来管祭器的。　　..\n",
      "0.6376977562904358 故乡.txt 一日是天气很冷的午后..\n"
     ]
    }
   ],
   "source": [
    "for node in streaming_response.source_nodes:\n",
    "    print(node.score,node.metadata[\"file_name\"],(lambda s: s.replace('\\n', '')[:10] + '..' if len(s.replace('\\n', '')) > 10 else s.replace('\\n', ''))(node.text))"
   ]
  },
  {
   "cell_type": "code",
   "execution_count": 25,
   "id": "e70a5963-7ffa-4f67-a17c-7d2359cf5f94",
   "metadata": {},
   "outputs": [
    {
     "name": "stdout",
     "output_type": "stream",
     "text": [
      "闰土是一个小说中的人物，他是鲁迅先生的作品《故乡》中的一个重要角色。他是一个农村少年，与主角鲁迅（即文中的“我”）有着童年时的友谊。闰土的名字来源于他出生的月份是闰月，并且五行缺土。他在故事中代表了农村生活和那个时代的一种典型形象。\n",
      "\n",
      "\n",
      "CPU times: user 131 ms, sys: 3.26 ms, total: 135 ms\n",
      "Wall time: 5.54 s\n"
     ]
    }
   ],
   "source": [
    "%%time\n",
    "\n",
    "from llama_index.core.postprocessor import SimilarityPostprocessor\n",
    "\n",
    "postprocessor = SimilarityPostprocessor(similarity_cutoff=0.6)\n",
    "\n",
    "query_engine = index.as_query_engine(\n",
    "    streaming=True,\n",
    "    similarity_top_k=100,\n",
    "    node_postprocessors=[postprocessor]\n",
    ")\n",
    "\n",
    "streaming_response = query_engine.query(\"闰土是谁\")\n",
    "streaming_response.print_response_stream()\n",
    "print()"
   ]
  },
  {
   "cell_type": "code",
   "execution_count": 26,
   "id": "f78b0100-d81a-4d3e-bb23-e269969f5387",
   "metadata": {},
   "outputs": [
    {
     "name": "stdout",
     "output_type": "stream",
     "text": [
      "0.6530978679656982 故乡.txt 我这时很兴奋，但不知道怎么说才好，只是说..\n",
      "0.6412548422813416 故乡.txt 闰土来管祭器的。　　我的父亲允许了；我也..\n",
      "0.6376977562904358 故乡.txt 一日是天气很冷的午后，我吃过午饭，坐着喝..\n",
      "0.6281930804252625 故乡.txt “阿呀，老太太真是……这成什么规矩。那时..\n",
      "0.6249887347221375 故乡.txt 工的叫长工；按日给人做工的叫短工；自己也..\n",
      "0.6214910745620728 故乡.txt “我们沙地里，潮汛要来的时候，就有许多跳..\n",
      "0.619132399559021 故乡.txt 他见人很怕羞，只是不怕我，没有旁人的时候..\n",
      "0.6188885569572449 故乡.txt 我于是日日盼望新年，新年到，闰土也就到了..\n",
      "0.6178779006004333 故乡.txt “老太太。信是早收到了。我实在喜欢的不得..\n",
      "0.6165617108345032 故乡.txt ，反从他的胯下逃走了。　　这少年便是闰土..\n",
      "0.6116492748260498 故乡.txt ”　　“回来？你怎么还没有走就想回来了。..\n",
      "0.6069682836532593 故乡.txt ”　　⑶大祭祀的值年：封建社会中的大家族..\n",
      "0.6067788600921631 故乡.txt 母亲叫闰土坐，他迟疑了一回，终于就了坐，..\n",
      "0.6026837229728699 故乡.txt 我希望他们不再像我，又大家隔膜起来……然..\n",
      "0.6015970706939697 故乡.txt 虽然我一见便知道是闰土，但又不是我这记忆..\n"
     ]
    }
   ],
   "source": [
    "for node in streaming_response.source_nodes:\n",
    "    print(node.score,node.metadata[\"file_name\"],(lambda s: s.replace('\\n', '')[:20] + '..' if len(s.replace('\\n', '')) > 10 else s.replace('\\n', ''))(node.text))"
   ]
  },
  {
   "cell_type": "code",
   "execution_count": 27,
   "id": "bdacd09b-888f-4879-a5f1-205a5218e8d2",
   "metadata": {},
   "outputs": [
    {
     "name": "stdout",
     "output_type": "stream",
     "text": [
      "Empty Response\n"
     ]
    }
   ],
   "source": [
    "streaming_response = query_engine.query(\"孔乙己是谁\")\n",
    "streaming_response.print_response_stream()\n",
    "print()"
   ]
  },
  {
   "cell_type": "code",
   "execution_count": 28,
   "id": "3d9dac0c-9f6d-4fc0-8807-19a39983c1d7",
   "metadata": {},
   "outputs": [],
   "source": [
    "for node in streaming_response.source_nodes:\n",
    "    print(node.score,node.metadata[\"file_name\"],(lambda s: s.replace('\\n', '')[:20] + '..' if len(s.replace('\\n', '')) > 10 else s.replace('\\n', ''))(node.text))"
   ]
  },
  {
   "cell_type": "code",
   "execution_count": 30,
   "id": "6a2266ab-724d-48a9-951c-4bcf2202120a",
   "metadata": {},
   "outputs": [
    {
     "data": {
      "text/plain": [
       "dict_keys(['response_synthesizer:text_qa_template', 'response_synthesizer:refine_template'])"
      ]
     },
     "execution_count": 30,
     "metadata": {},
     "output_type": "execute_result"
    }
   ],
   "source": [
    "query_engine.get_prompts().keys()"
   ]
  },
  {
   "cell_type": "code",
   "execution_count": 56,
   "id": "5ae657bc-441c-4c6d-918e-30ca84acba76",
   "metadata": {},
   "outputs": [
    {
     "name": "stdout",
     "output_type": "stream",
     "text": [
      "CPU times: user 103 µs, sys: 0 ns, total: 103 µs\n",
      "Wall time: 106 µs\n"
     ]
    }
   ],
   "source": [
    "%%time\n",
    "\n",
    "from llama_index.core import PromptTemplate\n",
    "\n",
    "# shakespeare!\n",
    "qa_prompt_tmpl_str = (\n",
    "    \"上下文信息见下面\\n\"\n",
    "    \"---------------------\\n\"\n",
    "    \"{context_str}\\n\"\n",
    "    \"---------------------\\n\"\n",
    "    \"根据给定上下文信息而不是先验知识， \"\n",
    "    \"回答下面问题。\\n\"\n",
    "    \"如果没有上下文信息，则回答未找到相关信息。\\n\"\n",
    "    \"问题: 上下文中是否有，{query_str}，如果未找到就回答不知道\\n\"\n",
    "    \"回答: \"\n",
    ")\n",
    "qa_prompt_tmpl = PromptTemplate(qa_prompt_tmpl_str)\n",
    "\n",
    "query_engine.update_prompts(\n",
    "    {\"response_synthesizer:text_qa_template\": qa_prompt_tmpl}\n",
    ")"
   ]
  },
  {
   "cell_type": "code",
   "execution_count": 38,
   "id": "9ebe2dcd-f3b2-4610-a73c-2237eee53762",
   "metadata": {},
   "outputs": [
    {
     "name": "stdout",
     "output_type": "stream",
     "text": [
      "Empty Response\n",
      "CPU times: user 21.8 ms, sys: 146 µs, total: 21.9 ms\n",
      "Wall time: 377 ms\n"
     ]
    }
   ],
   "source": [
    "%%time\n",
    "\n",
    "streaming_response = query_engine.query(\"孔乙己是谁\")\n",
    "streaming_response.print_response_stream()\n",
    "print()"
   ]
  },
  {
   "cell_type": "code",
   "execution_count": 41,
   "id": "057a061f-eb00-4280-9f69-fcd531705738",
   "metadata": {},
   "outputs": [
    {
     "name": "stdout",
     "output_type": "stream",
     "text": [
      "Empty Response\n",
      "CPU times: user 14.2 ms, sys: 7.94 ms, total: 22.2 ms\n",
      "Wall time: 413 ms\n"
     ]
    }
   ],
   "source": [
    "%%time\n",
    "\n",
    "streaming_response = query_engine.query(\"宏儿是谁\")\n",
    "streaming_response.print_response_stream()\n",
    "print()"
   ]
  },
  {
   "cell_type": "code",
   "execution_count": 40,
   "id": "33b2b969-c582-4df8-b800-2bcc2537285a",
   "metadata": {},
   "outputs": [
    {
     "name": "stdout",
     "output_type": "stream",
     "text": [
      "闰土是小说《故乡》中的人物，他是鲁迅笔下的一个少年朋友，与主角鲁迅有着深厚的童年记忆。\n",
      "\n",
      "\n",
      "\n",
      "\n",
      "\n",
      "\n",
      "\n",
      "\n",
      "\n",
      "\n",
      "\n",
      "\n",
      "\n",
      "CPU times: user 88 ms, sys: 2.47 ms, total: 90.4 ms\n",
      "Wall time: 6.75 s\n"
     ]
    }
   ],
   "source": [
    "%%time\n",
    "\n",
    "streaming_response = query_engine.query(\"闰土是谁\")\n",
    "streaming_response.print_response_stream()\n",
    "print()"
   ]
  },
  {
   "cell_type": "code",
   "execution_count": 42,
   "id": "d327034a-b0cf-4cfa-815f-c148ab2c81a6",
   "metadata": {},
   "outputs": [
    {
     "name": "stdout",
     "output_type": "stream",
     "text": [
      "Empty Response\n",
      "CPU times: user 21.5 ms, sys: 1.25 ms, total: 22.8 ms\n",
      "Wall time: 294 ms\n"
     ]
    }
   ],
   "source": [
    "%%time\n",
    "\n",
    "streaming_response = query_engine.query(\"水生是谁\")\n",
    "streaming_response.print_response_stream()\n",
    "print()"
   ]
  },
  {
   "cell_type": "code",
   "execution_count": 43,
   "id": "3c4a2246-d869-41a6-813e-984684a924d0",
   "metadata": {},
   "outputs": [
    {
     "name": "stdout",
     "output_type": "stream",
     "text": [
      "闰土是《故乡》中描述的少年形象，他的存在象征着作者对于过去美好时光的回忆。\n",
      "CPU times: user 173 ms, sys: 6.94 ms, total: 180 ms\n",
      "Wall time: 12.3 s\n"
     ]
    }
   ],
   "source": [
    "%%time\n",
    "\n",
    "from llama_index.core.postprocessor import SimilarityPostprocessor\n",
    "\n",
    "postprocessor = SimilarityPostprocessor(similarity_cutoff=0.5)\n",
    "\n",
    "query_engine = index.as_query_engine(\n",
    "    streaming=True,\n",
    "    similarity_top_k=100,\n",
    "    node_postprocessors=[postprocessor]\n",
    ")\n",
    "\n",
    "streaming_response = query_engine.query(\"闰土是谁\")\n",
    "streaming_response.print_response_stream()\n",
    "print()"
   ]
  },
  {
   "cell_type": "code",
   "execution_count": 59,
   "id": "422a0b8f-4b6e-4cdd-8f1f-da26de042604",
   "metadata": {},
   "outputs": [
    {
     "name": "stdout",
     "output_type": "stream",
     "text": [
      "Empty Response\n",
      "CPU times: user 22.5 ms, sys: 202 µs, total: 22.7 ms\n",
      "Wall time: 275 ms\n"
     ]
    }
   ],
   "source": [
    "%%time\n",
    "\n",
    "# from llama_index.core.postprocessor import SimilarityPostprocessor\n",
    "\n",
    "postprocessor = SimilarityPostprocessor(similarity_cutoff=0.5)\n",
    "\n",
    "query_engine = index.as_query_engine(\n",
    "    streaming=True,\n",
    "    similarity_top_k=100,\n",
    "    node_postprocessors=[postprocessor]\n",
    ")\n",
    "\n",
    "streaming_response = query_engine.query(\"水生是谁\")\n",
    "streaming_response.print_response_stream()\n",
    "print()"
   ]
  },
  {
   "cell_type": "code",
   "execution_count": 46,
   "id": "d37ed96c-f50d-4d7f-b479-6c0319581880",
   "metadata": {},
   "outputs": [
    {
     "name": "stdout",
     "output_type": "stream",
     "text": [
      "闰土的孩子。\n"
     ]
    }
   ],
   "source": [
    "streaming_response = query_engine.query(\"宏儿是谁\")\n",
    "streaming_response.print_response_stream()\n",
    "print()"
   ]
  },
  {
   "cell_type": "code",
   "execution_count": 61,
   "id": "eeec9d25-4283-4cff-84ba-b82bf3fc94a8",
   "metadata": {},
   "outputs": [
    {
     "name": "stdout",
     "output_type": "stream",
     "text": [
      "Empty Response\n",
      "CPU times: user 19.5 ms, sys: 4.39 ms, total: 23.9 ms\n",
      "Wall time: 303 ms\n"
     ]
    }
   ],
   "source": [
    "%%time\n",
    "\n",
    "from llama_index.core.postprocessor import SimilarityPostprocessor\n",
    "\n",
    "postprocessor = SimilarityPostprocessor(similarity_cutoff=0.5)\n",
    "\n",
    "query_engine = index.as_query_engine(\n",
    "    streaming=True,\n",
    "    similarity_top_k=100,\n",
    "    node_postprocessors=[postprocessor]\n",
    ")\n",
    "\n",
    "streaming_response = query_engine.query(\"孔乙己是谁\")\n",
    "streaming_response.print_response_stream()\n",
    "print()"
   ]
  },
  {
   "cell_type": "code",
   "execution_count": null,
   "id": "b4dca810-ecf7-43b5-8bfa-1197ef2e4118",
   "metadata": {},
   "outputs": [],
   "source": []
  }
 ],
 "metadata": {
  "kernelspec": {
   "display_name": "Python 3 (ipykernel)",
   "language": "python",
   "name": "python3"
  },
  "language_info": {
   "codemirror_mode": {
    "name": "ipython",
    "version": 3
   },
   "file_extension": ".py",
   "mimetype": "text/x-python",
   "name": "python",
   "nbconvert_exporter": "python",
   "pygments_lexer": "ipython3",
   "version": "3.10.12"
  }
 },
 "nbformat": 4,
 "nbformat_minor": 5
}
