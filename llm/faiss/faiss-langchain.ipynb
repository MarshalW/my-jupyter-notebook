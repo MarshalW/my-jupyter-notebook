{
 "cells": [
  {
   "cell_type": "markdown",
   "id": "c1b02cbd-1eb4-434f-8af5-ddb0bd17e67a",
   "metadata": {},
   "source": [
    "# 通过 langchain使用 faiss"
   ]
  },
  {
   "cell_type": "markdown",
   "id": "303d4f5f-ad8d-45bd-9fe1-5e86564e0fbd",
   "metadata": {},
   "source": [
    "https://medium.com/operations-research-bit/build-your-own-semantic-search-web-app-with-sentence-transformers-and-faiss-c304e04ca3c9"
   ]
  },
  {
   "cell_type": "markdown",
   "id": "394a3099-4e38-4f00-9f9f-1295fb9a6d66",
   "metadata": {},
   "source": [
    "## 导入需要的库"
   ]
  },
  {
   "cell_type": "code",
   "execution_count": 1,
   "id": "1ddf29a2-78cb-4d83-8252-227b3da7bfe5",
   "metadata": {},
   "outputs": [],
   "source": [
    "import pandas as pd\n",
    "from sentence_transformers import SentenceTransformer\n",
    "import numpy as np\n",
    "import faiss\n",
    "from sentence_transformers import InputExample\n",
    "import os\n",
    "import pickle"
   ]
  },
  {
   "cell_type": "markdown",
   "id": "9de2423e-1da8-4e1d-8a05-8df6a33aedd0",
   "metadata": {},
   "source": [
    "## 准备数据"
   ]
  },
  {
   "cell_type": "code",
   "execution_count": 2,
   "id": "6ac20f9d-4206-4b08-b8d9-497b7cd52e90",
   "metadata": {},
   "outputs": [
    {
     "data": {
      "text/html": [
       "<div>\n",
       "<style scoped>\n",
       "    .dataframe tbody tr th:only-of-type {\n",
       "        vertical-align: middle;\n",
       "    }\n",
       "\n",
       "    .dataframe tbody tr th {\n",
       "        vertical-align: top;\n",
       "    }\n",
       "\n",
       "    .dataframe thead th {\n",
       "        text-align: right;\n",
       "    }\n",
       "</style>\n",
       "<table border=\"1\" class=\"dataframe\">\n",
       "  <thead>\n",
       "    <tr style=\"text-align: right;\">\n",
       "      <th></th>\n",
       "      <th>文本</th>\n",
       "      <th>分类</th>\n",
       "    </tr>\n",
       "  </thead>\n",
       "  <tbody>\n",
       "    <tr>\n",
       "      <th>0</th>\n",
       "      <td>六分仪（Sextant）是一种用于测量天体角度的仪器，常用于航海和天文导航。</td>\n",
       "      <td>工具</td>\n",
       "    </tr>\n",
       "    <tr>\n",
       "      <th>1</th>\n",
       "      <td>烤白薯是一道美味健康的小吃，下面是简单的制作步骤</td>\n",
       "      <td>菜谱</td>\n",
       "    </tr>\n",
       "    <tr>\n",
       "      <th>2</th>\n",
       "      <td>老鼠是一种常见的小型哺乳动物，属于鼠科。</td>\n",
       "      <td>动物</td>\n",
       "    </tr>\n",
       "    <tr>\n",
       "      <th>3</th>\n",
       "      <td>比瑞吉 优选系列 添加深海鱼油 成猫猫粮2kg</td>\n",
       "      <td>电商</td>\n",
       "    </tr>\n",
       "    <tr>\n",
       "      <th>4</th>\n",
       "      <td>奶酪是一种以牛、羊、山羊或其他动物的乳汁为原料，经过发酵和加工制作而成的食品。</td>\n",
       "      <td>食品</td>\n",
       "    </tr>\n",
       "    <tr>\n",
       "      <th>5</th>\n",
       "      <td>凯锐思 幼猫猫粮奶糕全价幼猫粮天然粮 【尝鲜装】幼猫粮500g</td>\n",
       "      <td>电商</td>\n",
       "    </tr>\n",
       "    <tr>\n",
       "      <th>6</th>\n",
       "      <td>黑洞是宇宙中一种极为神秘的天体，它是一种极度密集的天体，其引力非常强大，甚至连光都无法逃离其吸引。</td>\n",
       "      <td>天体物理</td>\n",
       "    </tr>\n",
       "    <tr>\n",
       "      <th>7</th>\n",
       "      <td>\"阿拉斯加的鳄鱼\" 这个短语通常是一种幽默或谐音，用来形容一个不存在的事物或情况。</td>\n",
       "      <td>修辞</td>\n",
       "    </tr>\n",
       "    <tr>\n",
       "      <th>8</th>\n",
       "      <td>潭中鱼可百许头，皆若空游无所依。</td>\n",
       "      <td>古代文学</td>\n",
       "    </tr>\n",
       "  </tbody>\n",
       "</table>\n",
       "</div>"
      ],
      "text/plain": [
       "                                                  文本    分类\n",
       "0             六分仪（Sextant）是一种用于测量天体角度的仪器，常用于航海和天文导航。    工具\n",
       "1                           烤白薯是一道美味健康的小吃，下面是简单的制作步骤    菜谱\n",
       "2                               老鼠是一种常见的小型哺乳动物，属于鼠科。    动物\n",
       "3                            比瑞吉 优选系列 添加深海鱼油 成猫猫粮2kg    电商\n",
       "4            奶酪是一种以牛、羊、山羊或其他动物的乳汁为原料，经过发酵和加工制作而成的食品。    食品\n",
       "5                    凯锐思 幼猫猫粮奶糕全价幼猫粮天然粮 【尝鲜装】幼猫粮500g    电商\n",
       "6  黑洞是宇宙中一种极为神秘的天体，它是一种极度密集的天体，其引力非常强大，甚至连光都无法逃离其吸引。  天体物理\n",
       "7          \"阿拉斯加的鳄鱼\" 这个短语通常是一种幽默或谐音，用来形容一个不存在的事物或情况。    修辞\n",
       "8                                   潭中鱼可百许头，皆若空游无所依。  古代文学"
      ]
     },
     "metadata": {},
     "output_type": "display_data"
    }
   ],
   "source": [
    "data = [['六分仪（Sextant）是一种用于测量天体角度的仪器，常用于航海和天文导航。', '工具'],\n",
    "['烤白薯是一道美味健康的小吃，下面是简单的制作步骤', '菜谱'],\n",
    "['老鼠是一种常见的小型哺乳动物，属于鼠科。', '动物'],\n",
    "['比瑞吉 优选系列 添加深海鱼油 成猫猫粮2kg', '电商'],\n",
    "['奶酪是一种以牛、羊、山羊或其他动物的乳汁为原料，经过发酵和加工制作而成的食品。', '食品'],\n",
    "['凯锐思 幼猫猫粮奶糕全价幼猫粮天然粮 【尝鲜装】幼猫粮500g','电商'],\n",
    "['黑洞是宇宙中一种极为神秘的天体，它是一种极度密集的天体，其引力非常强大，甚至连光都无法逃离其吸引。','天体物理'],\n",
    "['\"阿拉斯加的鳄鱼\" 这个短语通常是一种幽默或谐音，用来形容一个不存在的事物或情况。','修辞'],\n",
    "['潭中鱼可百许头，皆若空游无所依。','古代文学']]\n",
    "df = pd.DataFrame(data, columns = ['文本', '分类'])\n",
    "df.to_csv('output.csv', index=False)\n",
    "display(df)"
   ]
  },
  {
   "cell_type": "code",
   "execution_count": 3,
   "id": "b2ebec02-0c6d-415d-8d64-ea47172ee9d2",
   "metadata": {},
   "outputs": [
    {
     "data": {
      "text/html": [
       "<div>\n",
       "<style scoped>\n",
       "    .dataframe tbody tr th:only-of-type {\n",
       "        vertical-align: middle;\n",
       "    }\n",
       "\n",
       "    .dataframe tbody tr th {\n",
       "        vertical-align: top;\n",
       "    }\n",
       "\n",
       "    .dataframe thead th {\n",
       "        text-align: right;\n",
       "    }\n",
       "</style>\n",
       "<table border=\"1\" class=\"dataframe\">\n",
       "  <thead>\n",
       "    <tr style=\"text-align: right;\">\n",
       "      <th></th>\n",
       "      <th>文本</th>\n",
       "      <th>分类</th>\n",
       "      <th>id</th>\n",
       "    </tr>\n",
       "  </thead>\n",
       "  <tbody>\n",
       "    <tr>\n",
       "      <th>0</th>\n",
       "      <td>六分仪（Sextant）是一种用于测量天体角度的仪器，常用于航海和天文导航。</td>\n",
       "      <td>工具</td>\n",
       "      <td>0</td>\n",
       "    </tr>\n",
       "    <tr>\n",
       "      <th>1</th>\n",
       "      <td>烤白薯是一道美味健康的小吃，下面是简单的制作步骤</td>\n",
       "      <td>菜谱</td>\n",
       "      <td>1</td>\n",
       "    </tr>\n",
       "    <tr>\n",
       "      <th>2</th>\n",
       "      <td>老鼠是一种常见的小型哺乳动物，属于鼠科。</td>\n",
       "      <td>动物</td>\n",
       "      <td>2</td>\n",
       "    </tr>\n",
       "    <tr>\n",
       "      <th>3</th>\n",
       "      <td>比瑞吉 优选系列 添加深海鱼油 成猫猫粮2kg</td>\n",
       "      <td>电商</td>\n",
       "      <td>3</td>\n",
       "    </tr>\n",
       "    <tr>\n",
       "      <th>4</th>\n",
       "      <td>奶酪是一种以牛、羊、山羊或其他动物的乳汁为原料，经过发酵和加工制作而成的食品。</td>\n",
       "      <td>食品</td>\n",
       "      <td>4</td>\n",
       "    </tr>\n",
       "  </tbody>\n",
       "</table>\n",
       "</div>"
      ],
      "text/plain": [
       "                                        文本  分类  id\n",
       "0   六分仪（Sextant）是一种用于测量天体角度的仪器，常用于航海和天文导航。  工具   0\n",
       "1                 烤白薯是一道美味健康的小吃，下面是简单的制作步骤  菜谱   1\n",
       "2                     老鼠是一种常见的小型哺乳动物，属于鼠科。  动物   2\n",
       "3                  比瑞吉 优选系列 添加深海鱼油 成猫猫粮2kg  电商   3\n",
       "4  奶酪是一种以牛、羊、山羊或其他动物的乳汁为原料，经过发酵和加工制作而成的食品。  食品   4"
      ]
     },
     "execution_count": 3,
     "metadata": {},
     "output_type": "execute_result"
    }
   ],
   "source": [
    "pdf = pd.read_csv('output.csv')\n",
    "pdf[\"id\"] = pdf.index\n",
    "pdf_subset = pdf.head(5)\n",
    "\n",
    "pdf_subset"
   ]
  },
  {
   "cell_type": "markdown",
   "id": "860f4b20-0216-452e-b187-efe1f713df0c",
   "metadata": {},
   "source": [
    "## 文本编码为向量"
   ]
  },
  {
   "cell_type": "code",
   "execution_count": 4,
   "id": "2c7b97bf-9481-4c5a-9544-da3f42aa5b07",
   "metadata": {},
   "outputs": [
    {
     "data": {
      "text/plain": [
       "0               六分仪（Sextant）是一种用于测量天体角度的仪器，常用于航海和天文导航。\n",
       "1                             烤白薯是一道美味健康的小吃，下面是简单的制作步骤\n",
       "2                                 老鼠是一种常见的小型哺乳动物，属于鼠科。\n",
       "3                              比瑞吉 优选系列 添加深海鱼油 成猫猫粮2kg\n",
       "4              奶酪是一种以牛、羊、山羊或其他动物的乳汁为原料，经过发酵和加工制作而成的食品。\n",
       "5                      凯锐思 幼猫猫粮奶糕全价幼猫粮天然粮 【尝鲜装】幼猫粮500g\n",
       "6    黑洞是宇宙中一种极为神秘的天体，它是一种极度密集的天体，其引力非常强大，甚至连光都无法逃离其吸引。\n",
       "7            \"阿拉斯加的鳄鱼\" 这个短语通常是一种幽默或谐音，用来形容一个不存在的事物或情况。\n",
       "8                                     潭中鱼可百许头，皆若空游无所依。\n",
       "Name: 文本, dtype: object"
      ]
     },
     "execution_count": 4,
     "metadata": {},
     "output_type": "execute_result"
    }
   ],
   "source": [
    "model=SentenceTransformer(\"/models/bge-large-zh-v1.5\")\n",
    "text = df['文本']\n",
    "\n",
    "text"
   ]
  },
  {
   "cell_type": "code",
   "execution_count": 5,
   "id": "28f6f807-a76f-4b96-b6dc-d48c08162aae",
   "metadata": {},
   "outputs": [
    {
     "data": {
      "text/plain": [
       "array([[ 0.02792062, -0.03714844, -0.01159204, ..., -0.01725687,\n",
       "        -0.00189181, -0.01966484],\n",
       "       [-0.0010843 , -0.04289858,  0.03477966, ...,  0.0101853 ,\n",
       "         0.02182652, -0.00230858],\n",
       "       [-0.00641313, -0.02665939,  0.01096631, ...,  0.01449827,\n",
       "         0.02765457,  0.00925983],\n",
       "       ...,\n",
       "       [-0.0168227 , -0.00879555, -0.01485688, ...,  0.00648775,\n",
       "         0.04386019,  0.00162739],\n",
       "       [-0.04652883, -0.01336174, -0.00904606, ..., -0.00231134,\n",
       "        -0.00262135,  0.03224757],\n",
       "       [ 0.02496058,  0.03283865, -0.01557186, ..., -0.03958138,\n",
       "        -0.03401512,  0.04865715]], dtype=float32)"
      ]
     },
     "execution_count": 5,
     "metadata": {},
     "output_type": "execute_result"
    }
   ],
   "source": [
    "vectors = model.encode(text)\n",
    "\n",
    "vectors"
   ]
  },
  {
   "cell_type": "markdown",
   "id": "99bd8392-5520-4365-9f43-d0a4c7375eb3",
   "metadata": {},
   "source": [
    "## 生成向量和索引文件"
   ]
  },
  {
   "cell_type": "code",
   "execution_count": 6,
   "id": "4bc5ab6d-c5c5-4473-a51b-5024acacf093",
   "metadata": {},
   "outputs": [
    {
     "data": {
      "text/plain": [
       "array([[ 0.02792063, -0.03714845, -0.01159204, ..., -0.01725687,\n",
       "        -0.00189181, -0.01966485],\n",
       "       [-0.0010843 , -0.04289858,  0.03477966, ...,  0.0101853 ,\n",
       "         0.02182652, -0.00230858],\n",
       "       [-0.00641313, -0.02665939,  0.01096631, ...,  0.01449827,\n",
       "         0.02765457,  0.00925983],\n",
       "       ...,\n",
       "       [-0.0168227 , -0.00879555, -0.01485688, ...,  0.00648775,\n",
       "         0.04386019,  0.00162739],\n",
       "       [-0.04652883, -0.01336174, -0.00904606, ..., -0.00231134,\n",
       "        -0.00262135,  0.03224757],\n",
       "       [ 0.02496058,  0.03283865, -0.01557186, ..., -0.03958138,\n",
       "        -0.03401512,  0.04865715]], dtype=float32)"
      ]
     },
     "execution_count": 6,
     "metadata": {},
     "output_type": "execute_result"
    }
   ],
   "source": [
    "dense_vectors_file = 'dense_vectors.pkl'\n",
    "faiss_index_file = 'faiss_index.index'\n",
    "\n",
    "faiss.normalize_L2(vectors)\n",
    "vectors"
   ]
  },
  {
   "cell_type": "code",
   "execution_count": 7,
   "id": "78b864da-0c59-4810-b788-29e0eba738e6",
   "metadata": {},
   "outputs": [],
   "source": [
    "with open(dense_vectors_file, 'wb') as file:\n",
    "    pickle.dump(vectors, file)"
   ]
  },
  {
   "cell_type": "code",
   "execution_count": null,
   "id": "1b233310-1cf7-4bc9-8089-ea6f76d5f069",
   "metadata": {},
   "outputs": [],
   "source": []
  }
 ],
 "metadata": {
  "kernelspec": {
   "display_name": "Python 3 (ipykernel)",
   "language": "python",
   "name": "python3"
  },
  "language_info": {
   "codemirror_mode": {
    "name": "ipython",
    "version": 3
   },
   "file_extension": ".py",
   "mimetype": "text/x-python",
   "name": "python",
   "nbconvert_exporter": "python",
   "pygments_lexer": "ipython3",
   "version": "3.10.12"
  }
 },
 "nbformat": 4,
 "nbformat_minor": 5
}
