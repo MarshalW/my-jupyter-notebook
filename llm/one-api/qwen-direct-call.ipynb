{
 "cells": [
  {
   "cell_type": "markdown",
   "id": "4eb70c12-c960-4011-ba58-f85af31bde78",
   "metadata": {},
   "source": [
    "# qwen 直接访问"
   ]
  },
  {
   "cell_type": "markdown",
   "id": "aa26be9b-cf22-4f5b-8c71-6ac3d5211c87",
   "metadata": {},
   "source": [
    "## 准备"
   ]
  },
  {
   "cell_type": "code",
   "execution_count": 2,
   "id": "87aeba21-e0c9-4594-b0cc-edfe3629cf1b",
   "metadata": {},
   "outputs": [],
   "source": [
    "from openai import OpenAI\n",
    "import os"
   ]
  },
  {
   "cell_type": "code",
   "execution_count": 3,
   "id": "6b792e24-e7b9-4561-9291-7b7710dc8079",
   "metadata": {},
   "outputs": [
    {
     "name": "stdout",
     "output_type": "stream",
     "text": [
      "我是通义千问，由阿里云开发的AI助手。我被设计用来回答各种问题、提供信息和与用户进行对话。有什么我可以帮助你的吗？CPU times: user 64.7 ms, sys: 0 ns, total: 64.7 ms\n",
      "Wall time: 1.05 s\n"
     ]
    }
   ],
   "source": [
    "%%time\n",
    "\n",
    "client = OpenAI(\n",
    "    api_key=\"sk-b6be22c652fa49b1b76bb371a4459686\", # 如果您没有配置环境变量，请在此处用您的API Key进行替换\n",
    "    base_url=\"https://dashscope.aliyuncs.com/compatible-mode/v1\",  # 填写DashScope SDK的base_url\n",
    ")\n",
    "\n",
    "stream = client.chat.completions.create(\n",
    "    model=\"qwen-turbo\",\n",
    "    messages=[{'role': 'system', 'content': 'You are a helpful assistant.'},\n",
    "              {'role': 'user', 'content': '你是谁？'}],\n",
    "    stream=True\n",
    ")\n",
    "\n",
    "for chunk in stream:\n",
    "    print(chunk.choices[0].delta.content or \"\", end=\"\")"
   ]
  },
  {
   "cell_type": "markdown",
   "id": "b42022b7-2f95-417f-8c71-29064f7d5dc7",
   "metadata": {},
   "source": [
    "## 长文本测试"
   ]
  },
  {
   "cell_type": "code",
   "execution_count": 4,
   "id": "9da316f1-9456-48ea-8ce5-d473a876efdf",
   "metadata": {},
   "outputs": [
    {
     "name": "stdout",
     "output_type": "stream",
     "text": [
      "CPU times: user 847 µs, sys: 122 µs, total: 969 µs\n",
      "Wall time: 744 µs\n"
     ]
    },
    {
     "data": {
      "text/plain": [
       "17587"
      ]
     },
     "execution_count": 4,
     "metadata": {},
     "output_type": "execute_result"
    }
   ],
   "source": [
    "%%time\n",
    "\n",
    "file_path = './content-18k.txt'\n",
    "\n",
    "# Read the content of the file and store it in a string variable\n",
    "with open(file_path, 'r', encoding='utf-8') as file:\n",
    "    content = file.read()\n",
    "\n",
    "len(content)"
   ]
  },
  {
   "cell_type": "markdown",
   "id": "31f3a9e3-e58d-4a51-85f7-c431a5bd0389",
   "metadata": {},
   "source": [
    "### qwen-turbo"
   ]
  },
  {
   "cell_type": "code",
   "execution_count": null,
   "id": "2409e07b-a0b4-45b9-8fe8-40198157a84a",
   "metadata": {},
   "outputs": [],
   "source": [
    "报错，上下文长度大概只有 `6000`"
   ]
  },
  {
   "cell_type": "markdown",
   "id": "e7ab7b75-0bc3-4795-bc30-249fd3849392",
   "metadata": {},
   "source": [
    "### qwen-max-longcontext"
   ]
  },
  {
   "cell_type": "code",
   "execution_count": 6,
   "id": "df38f2ca-853f-4c39-b2f1-58b938f1e36d",
   "metadata": {},
   "outputs": [
    {
     "name": "stdout",
     "output_type": "stream",
     "text": [
      "这篇文章深入分析了当前国际秩序的根本性转变，即“百年未有之大变局”，并提出了“大争之世”的概念来形容这一充满竞争与变革的时代。作者金灿荣教授指出，这一时期的特点是从西方主导的国际格局转向“东升西降”，即东方势力尤其是中国崛起，与西方势力相对衰落的动态变化。\n",
      "\n",
      "文章详细阐述了四个关键变化：新的国际格局、新的现代化模式、新的工业革命、新的全球治理。在新的国际格局中，中国、印度和东盟的崛起成为“东升”的重要驱动力，而西方国家特别是欧盟和日本的力量相对下降。现代化模式方面，中国式现代化展示了不同于西方的发展路径，强调人口规模巨大、共同富裕、物质与精神文明协调、人与自然和谐共生以及和平发展。新的工业革命，即第四次工业革命，中国被认为将发挥决定性作用，尤其是在人工智能、生命科学、新材料和新能源技术等领域。全球治理方面，中国提出《全球安全倡议》、“一带一路”等方案，推动全球治理向更加公正合理的方向发展，体现了“中西共治”的新趋势。\n",
      "\n",
      "文章还强调了中国作为“大争之世”中关键性变量的角色，其内部团结、经济发展、斗争精神以及积极外交政策对于应对美国的结构性矛盾至关重要。总体而言，文章揭示了世界正经历的深刻变革，以及中国在全球秩序重塑中扮演的核心作用与面临的挑战。CPU times: user 54.8 ms, sys: 1.55 ms, total: 56.3 ms\n",
      "Wall time: 21.8 s\n"
     ]
    }
   ],
   "source": [
    "%%time\n",
    "\n",
    "stream = client.chat.completions.create(\n",
    "    model=\"qwen-max-longcontext\",\n",
    "    messages=[{'role': 'system', 'content': '你是一个概括内容和提炼主要内容的助手。只允许基于文章内容回答。'},\n",
    "              {'role': 'user', 'content': f\"文章内容：{content}\\n\\n主要讲了啥，提炼出主要内容。\"}],\n",
    "    stream=True\n",
    ")\n",
    "\n",
    "for chunk in stream:\n",
    "    print(chunk.choices[0].delta.content or \"\", end=\"\")"
   ]
  },
  {
   "cell_type": "markdown",
   "id": "99cf784e-7dc3-45d1-82c1-71b523d2ff88",
   "metadata": {},
   "source": [
    "### qwen-plus"
   ]
  },
  {
   "cell_type": "markdown",
   "id": "38efd2a7-276e-4f86-9849-6ff754ae41ed",
   "metadata": {},
   "source": [
    "整体不如 `qwen-max-longcontext`"
   ]
  },
  {
   "cell_type": "code",
   "execution_count": 7,
   "id": "05742cf2-ec15-4d42-b3e4-1f4bcc0f8c27",
   "metadata": {},
   "outputs": [
    {
     "name": "stdout",
     "output_type": "stream",
     "text": [
      "这篇文章讨论了全球秩序正在经历的根本性转变，即从西方主导转变为“东升西降”的“大争之世”。作者引用了“百年未有之大变局”的概念，指出世界正面临四个新变化：新的国际格局、新的现代化模式、新的工业革命和新的全球治理。在新的国际格局中，中国、印度和东南亚国家联盟（CIA）的崛起与西方国家，特别是欧盟和日本的相对衰落形成了鲜明对比。新的现代化模式指的是中国式现代化，它与西方模式不同，强调中国特色的社会主义道路。新的工业革命，即第四次工业革命，中国在人工智能、生命科学、新材料和新能源技术等领域展现出重要影响力。新的全球治理模式则体现了中国在全球治理中越来越重要的作用，例如《全球安全倡议》和“一带一路”倡议。\n",
      "\n",
      "中国是这些变化的关键变量，因为其工业化进程、庞大的人口和国土资源，以及和平发展的道路。中国与美国之间的结构性矛盾日益凸显，美国视中国为挑战其全球领导地位的对手，并采取了一系列对抗措施。面对这种情况，中国需要保持内部团结，继续发展经济，坚持斗争精神，并在全球治理中发挥更大作用。CPU times: user 69.9 ms, sys: 2.25 ms, total: 72.1 ms\n",
      "Wall time: 17.9 s\n"
     ]
    }
   ],
   "source": [
    "%%time\n",
    "\n",
    "stream = client.chat.completions.create(\n",
    "    model=\"qwen-plus\",\n",
    "    messages=[{'role': 'system', 'content': '你是一个概括内容和提炼主要内容的助手。只允许基于文章内容回答。'},\n",
    "              {'role': 'user', 'content': f\"文章内容：{content}\\n\\n主要讲了啥，提炼出主要内容。\"}],\n",
    "    stream=True\n",
    ")\n",
    "\n",
    "for chunk in stream:\n",
    "    print(chunk.choices[0].delta.content or \"\", end=\"\")"
   ]
  },
  {
   "cell_type": "code",
   "execution_count": null,
   "id": "04f87646-7d6d-4257-bcff-d138634116d9",
   "metadata": {},
   "outputs": [],
   "source": []
  }
 ],
 "metadata": {
  "kernelspec": {
   "display_name": "Python 3 (ipykernel)",
   "language": "python",
   "name": "python3"
  },
  "language_info": {
   "codemirror_mode": {
    "name": "ipython",
    "version": 3
   },
   "file_extension": ".py",
   "mimetype": "text/x-python",
   "name": "python",
   "nbconvert_exporter": "python",
   "pygments_lexer": "ipython3",
   "version": "3.10.12"
  }
 },
 "nbformat": 4,
 "nbformat_minor": 5
}
