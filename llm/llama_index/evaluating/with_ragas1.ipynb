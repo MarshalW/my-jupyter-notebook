{
 "cells": [
  {
   "cell_type": "markdown",
   "id": "0d722b0a-33c0-472a-bcd0-7ac2f89d53ed",
   "metadata": {},
   "source": [
    "# 在 LimaIndex 中使用 Ragas"
   ]
  },
  {
   "cell_type": "markdown",
   "id": "8da74758-a893-4f02-af7a-69b2ba351d9e",
   "metadata": {},
   "source": [
    "## 准备"
   ]
  },
  {
   "cell_type": "code",
   "execution_count": 15,
   "id": "805327eb-9a49-4a6a-8210-0681333ccd97",
   "metadata": {},
   "outputs": [
    {
     "name": "stdout",
     "output_type": "stream",
     "text": [
      "CPU times: user 11.9 ms, sys: 4.92 ms, total: 16.8 ms\n",
      "Wall time: 3.85 s\n"
     ]
    }
   ],
   "source": [
    "%%time\n",
    "%%capture\n",
    "\n",
    "!pip install ragas"
   ]
  },
  {
   "cell_type": "code",
   "execution_count": 16,
   "id": "820183bd-5ecc-4f36-ae0a-6d901611f3c3",
   "metadata": {},
   "outputs": [
    {
     "name": "stdout",
     "output_type": "stream",
     "text": [
      "CPU times: user 3.06 s, sys: 379 ms, total: 3.44 s\n",
      "Wall time: 3.2 s\n"
     ]
    },
    {
     "data": {
      "text/plain": [
       "1"
      ]
     },
     "execution_count": 16,
     "metadata": {},
     "output_type": "execute_result"
    }
   ],
   "source": [
    "%%time\n",
    "\n",
    "from llama_index.readers.web import TrafilaturaWebReader\n",
    "\n",
    "items=[\n",
    "    \"颐和园\",\n",
    "]\n",
    "\n",
    "documents = TrafilaturaWebReader().load_data(\n",
    "    [ f\"https://baike.baidu.com/item/{item}\" for item in items]\n",
    ")\n",
    "\n",
    "len(documents)"
   ]
  },
  {
   "cell_type": "code",
   "execution_count": 23,
   "id": "3b29ebc2-fdcc-471e-bcd5-76ad9e353ad5",
   "metadata": {},
   "outputs": [
    {
     "name": "stdout",
     "output_type": "stream",
     "text": [
      "CPU times: user 396 µs, sys: 0 ns, total: 396 µs\n",
      "Wall time: 399 µs\n"
     ]
    }
   ],
   "source": [
    "%%time\n",
    "\n",
    "from llama_index.llms.openai_like import OpenAILike\n",
    "from llama_index.embeddings.ollama import OllamaEmbedding\n",
    "from llama_index.core import Settings\n",
    "\n",
    "Settings.llm =OpenAILike(\n",
    "    model=\"qwen2\", \n",
    "    api_base=\"http://monkey:11434/v1\", \n",
    "    api_key=\"ollama\",\n",
    "    is_chat_model=True,\n",
    "    temperature=0.1,\n",
    "    request_timeout=60.0\n",
    ")\n",
    "\n",
    "Settings.embed_model =OllamaEmbedding(\n",
    "    model_name=\"quentinz/bge-large-zh-v1.5\",\n",
    "    base_url=\"http://monkey:11434\",\n",
    "    ollama_additional_kwargs={\"mirostat\": 0}, # -mirostat N 使用 Mirostat 采样。\n",
    ")\n",
    "\n",
    "Settings.chunk_size=128\n",
    "Settings.chunk_overlap=10\n",
    "\n",
    "evaluating_llm=OpenAILike(\n",
    "    model='gpt-4-turbo', \n",
    "    api_base=\"http://ape:3000/v1\", \n",
    "    api_key=\"sk-bJP6QSnUfjAYeYeE505d3eBf63A643BeB0B8E350Df9b7750\",\n",
    "    is_chat_model=True,\n",
    "    temperature=0.0,\n",
    "    request_timeout=60.0\n",
    ")"
   ]
  },
  {
   "cell_type": "code",
   "execution_count": 18,
   "id": "cd850e67-ed8f-404b-ab89-68ddb4fd7a3d",
   "metadata": {},
   "outputs": [
    {
     "name": "stdout",
     "output_type": "stream",
     "text": [
      "CPU times: user 1.23 ms, sys: 142 µs, total: 1.38 ms\n",
      "Wall time: 1.32 ms\n"
     ]
    }
   ],
   "source": [
    "%%time\n",
    "\n",
    "import nest_asyncio\n",
    "nest_asyncio.apply()"
   ]
  },
  {
   "cell_type": "code",
   "execution_count": 19,
   "id": "d877d12b-22af-4e34-a27c-f7117c7a9073",
   "metadata": {},
   "outputs": [
    {
     "name": "stdout",
     "output_type": "stream",
     "text": [
      "CPU times: user 933 ms, sys: 56.8 ms, total: 989 ms\n",
      "Wall time: 20.1 s\n"
     ]
    }
   ],
   "source": [
    "%%time\n",
    "\n",
    "from llama_index.core import VectorStoreIndex\n",
    "\n",
    "index = VectorStoreIndex.from_documents(documents=documents)\n",
    "query_engine = index.as_query_engine()"
   ]
  },
  {
   "cell_type": "markdown",
   "id": "81b0fa6a-22ea-46a9-97c1-6be906013b30",
   "metadata": {},
   "source": [
    "## 评估响应的忠实度"
   ]
  },
  {
   "cell_type": "code",
   "execution_count": 24,
   "id": "ad7a602b-a86e-4000-afa1-fd34dfa8017c",
   "metadata": {},
   "outputs": [
    {
     "name": "stdout",
     "output_type": "stream",
     "text": [
      "CPU times: user 77.4 ms, sys: 0 ns, total: 77.4 ms\n",
      "Wall time: 2.44 s\n"
     ]
    },
    {
     "data": {
      "text/plain": [
       "EvaluationResult(query=None, contexts=['收藏\\n查看我的收藏\\n0有用+1\\n颐和园，中国清朝时期皇家园林，前身为清漪园，坐落在北京西郊，距城区15千米，全园占地3.009平方千米（其中颐和园世界文化遗产区面积为2.97平方千米），水面约占四分之三。', '光绪十四年（1888年）重建，改称颐和园，作消夏游乐地。光绪二十六年（1900年），颐和园又遭“八国联军”的破坏，珍宝被劫掠一空。清朝灭亡后，颐和园在军阀混战和国民党统治时期，又遭破坏。'], response='颐和园坐落在北京西郊。', passing=True, feedback='YES', score=1.0, pairwise_source=None, invalid_result=False, invalid_reason=None)"
      ]
     },
     "execution_count": 24,
     "metadata": {},
     "output_type": "execute_result"
    }
   ],
   "source": [
    "%%time\n",
    "\n",
    "from llama_index.core.evaluation import FaithfulnessEvaluator\n",
    "\n",
    "response = query_engine.query(\n",
    "    \"颐和园在哪里?\"\n",
    ")\n",
    "\n",
    "evaluator = FaithfulnessEvaluator(llm=evaluating_llm)\n",
    "eval_result = evaluator.evaluate_response(response=response)\n",
    "eval_result"
   ]
  },
  {
   "cell_type": "code",
   "execution_count": 30,
   "id": "dde4aab6-9da2-44e8-a2e3-f65c4007e70c",
   "metadata": {},
   "outputs": [
    {
     "data": {
      "text/plain": [
       "'颐和园坐落在北京西郊。'"
      ]
     },
     "execution_count": 30,
     "metadata": {},
     "output_type": "execute_result"
    }
   ],
   "source": [
    "response.response"
   ]
  },
  {
   "cell_type": "code",
   "execution_count": 25,
   "id": "610ee7f1-7d54-4c46-bc33-d39971db5adc",
   "metadata": {},
   "outputs": [
    {
     "data": {
      "text/plain": [
       "True"
      ]
     },
     "execution_count": 25,
     "metadata": {},
     "output_type": "execute_result"
    }
   ],
   "source": [
    "# 是否符合检索到的上下文，即是否不存在幻觉\n",
    "\n",
    "eval_result.passing"
   ]
  },
  {
   "cell_type": "code",
   "execution_count": 26,
   "id": "5959ecb3-d7b7-4e63-845f-b41056a96fde",
   "metadata": {},
   "outputs": [
    {
     "data": {
      "text/plain": [
       "1.0"
      ]
     },
     "execution_count": 26,
     "metadata": {},
     "output_type": "execute_result"
    }
   ],
   "source": [
    "eval_result.score"
   ]
  },
  {
   "cell_type": "code",
   "execution_count": 27,
   "id": "a20586a3-4604-4cde-a445-9e32612fc13c",
   "metadata": {},
   "outputs": [
    {
     "data": {
      "text/plain": [
       "'YES'"
      ]
     },
     "execution_count": 27,
     "metadata": {},
     "output_type": "execute_result"
    }
   ],
   "source": [
    "eval_result.feedback"
   ]
  },
  {
   "cell_type": "code",
   "execution_count": 29,
   "id": "bf220fb8-f532-4d14-9e40-f241463996df",
   "metadata": {},
   "outputs": [
    {
     "name": "stdout",
     "output_type": "stream",
     "text": [
      "True\n",
      "False\n",
      "CPU times: user 17.5 ms, sys: 3.78 ms, total: 21.3 ms\n",
      "Wall time: 3.31 s\n"
     ]
    }
   ],
   "source": [
    "%%time\n",
    "\n",
    "response_str = response.response\n",
    "for source_node in response.source_nodes:\n",
    "    eval_result = evaluator.evaluate(\n",
    "        response=response_str, contexts=[source_node.get_content()]\n",
    "    )\n",
    "    print(str(eval_result.passing))"
   ]
  },
  {
   "cell_type": "markdown",
   "id": "6a775041-9faa-4511-a91c-841c377f89fd",
   "metadata": {},
   "source": [
    "## 评估查询和响应的相关度"
   ]
  },
  {
   "cell_type": "code",
   "execution_count": 31,
   "id": "38826ce9-64f1-465d-b3a9-e7534d4351b5",
   "metadata": {},
   "outputs": [
    {
     "name": "stdout",
     "output_type": "stream",
     "text": [
      "CPU times: user 28.2 ms, sys: 370 µs, total: 28.5 ms\n",
      "Wall time: 4.37 s\n"
     ]
    },
    {
     "data": {
      "text/plain": [
       "EvaluationResult(query='颐和园在哪里?', contexts=['收藏\\n查看我的收藏\\n0有用+1\\n颐和园，中国清朝时期皇家园林，前身为清漪园，坐落在北京西郊，距城区15千米，全园占地3.009平方千米（其中颐和园世界文化遗产区面积为2.97平方千米），水面约占四分之三。', '光绪十四年（1888年）重建，改称颐和园，作消夏游乐地。光绪二十六年（1900年），颐和园又遭“八国联军”的破坏，珍宝被劫掠一空。清朝灭亡后，颐和园在军阀混战和国民党统治时期，又遭破坏。'], response='颐和园坐落在北京西郊。', passing=True, feedback='YES', score=1.0, pairwise_source=None, invalid_result=False, invalid_reason=None)"
      ]
     },
     "execution_count": 31,
     "metadata": {},
     "output_type": "execute_result"
    }
   ],
   "source": [
    "%%time\n",
    "\n",
    "from llama_index.core.evaluation import RelevancyEvaluator\n",
    "\n",
    "evaluator = RelevancyEvaluator(llm=evaluating_llm)\n",
    "\n",
    "query = \"颐和园在哪里?\"\n",
    "response = query_engine.query(query)\n",
    "\n",
    "eval_result = evaluator.evaluate_response(query=query, response=response)\n",
    "eval_result"
   ]
  },
  {
   "cell_type": "code",
   "execution_count": 32,
   "id": "079aabb3-aae8-4cf8-9aa2-78a93235afdb",
   "metadata": {},
   "outputs": [
    {
     "data": {
      "text/plain": [
       "1.0"
      ]
     },
     "execution_count": 32,
     "metadata": {},
     "output_type": "execute_result"
    }
   ],
   "source": [
    "eval_result.score"
   ]
  },
  {
   "cell_type": "markdown",
   "id": "98094dc1-476b-4e26-abd8-8f305690a3e9",
   "metadata": {},
   "source": [
    "## 自动生成问题"
   ]
  },
  {
   "cell_type": "code",
   "execution_count": 35,
   "id": "91bca947-3185-49b5-95cd-ab0e593f7ee1",
   "metadata": {},
   "outputs": [
    {
     "name": "stdout",
     "output_type": "stream",
     "text": [
      "CPU times: user 2.53 s, sys: 37.3 ms, total: 2.57 s\n",
      "Wall time: 8min 22s\n"
     ]
    }
   ],
   "source": [
    "%%time\n",
    "\n",
    "from llama_index.core.llama_dataset.generator import RagDatasetGenerator\n",
    "\n",
    "dataset_generator = RagDatasetGenerator.from_documents(\n",
    "    documents=documents,\n",
    "    llm=evaluating_llm,\n",
    "    num_questions_per_chunk=10,  # set the number of questions per nodes\n",
    ")\n",
    "\n",
    "rag_dataset = dataset_generator.generate_questions_from_nodes()\n",
    "questions = [e.query for e in rag_dataset.examples]"
   ]
  },
  {
   "cell_type": "code",
   "execution_count": 37,
   "id": "f8c6608a-cbed-4904-81d5-4993a57d6a68",
   "metadata": {},
   "outputs": [
    {
     "data": {
      "text/plain": [
       "['What was the original name of the Summer Palace before it was called \"颐和园\"?',\n",
       " 'Where is the Summer Palace located in relation to the city center of Beijing?',\n",
       " 'Approximately how far is the Summer Palace from the urban area of Beijing?',\n",
       " 'What is the total area of the Summer Palace in square kilometers?',\n",
       " \"How much of the Summer Palace's total area is classified as a World Heritage site?\",\n",
       " \"What percentage of the Summer Palace's area is covered by water?\",\n",
       " 'During which Chinese dynasty was the Summer Palace built?',\n",
       " 'What is the significance of the Summer Palace in the context of Chinese royal gardens?',\n",
       " 'Calculate the area of the Summer Palace that is not included in the World Heritage site.',\n",
       " \"Based on the description, identify whether the Summer Palace's location is known for its urban connectivity or secluded nature.\"]"
      ]
     },
     "execution_count": 37,
     "metadata": {},
     "output_type": "execute_result"
    }
   ],
   "source": [
    "questions[:10]"
   ]
  },
  {
   "cell_type": "code",
   "execution_count": 38,
   "id": "5bd01949-4e34-4182-bfa9-3c0251006381",
   "metadata": {},
   "outputs": [
    {
     "data": {
      "text/plain": [
       "2002"
      ]
     },
     "execution_count": 38,
     "metadata": {},
     "output_type": "execute_result"
    }
   ],
   "source": [
    "len(questions)"
   ]
  },
  {
   "cell_type": "code",
   "execution_count": null,
   "id": "7f0de3f2-9063-4c1c-a1ee-e82911439639",
   "metadata": {},
   "outputs": [],
   "source": []
  }
 ],
 "metadata": {
  "kernelspec": {
   "display_name": "Python 3 (ipykernel)",
   "language": "python",
   "name": "python3"
  },
  "language_info": {
   "codemirror_mode": {
    "name": "ipython",
    "version": 3
   },
   "file_extension": ".py",
   "mimetype": "text/x-python",
   "name": "python",
   "nbconvert_exporter": "python",
   "pygments_lexer": "ipython3",
   "version": "3.10.12"
  }
 },
 "nbformat": 4,
 "nbformat_minor": 5
}
