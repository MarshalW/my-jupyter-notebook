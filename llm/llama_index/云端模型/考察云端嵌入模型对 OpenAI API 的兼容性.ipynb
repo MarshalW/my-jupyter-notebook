{
 "cells": [
  {
   "cell_type": "markdown",
   "id": "6bce377e-751d-4f1e-bfe8-200105a92636",
   "metadata": {},
   "source": [
    "# 考察云端嵌入模型对 OpenAI API 的兼容性"
   ]
  },
  {
   "cell_type": "markdown",
   "id": "b2d393b7-9b9e-4725-9bd8-f0121424cc79",
   "metadata": {},
   "source": [
    "考察以下情况：\n",
    "\n",
    "- 智谱ai\n",
    "    - 直接使用 OpenAI API ✅\n",
    "    - 通过 One API ✅\n",
    "- 阿里云百炼\n",
    "    - 直接使用 OpenAI API ✅\n",
    "    - 通过 One API \n",
    "- 豆包\n",
    "    - 直接使用 OpenAI API ✅"
   ]
  },
  {
   "cell_type": "code",
   "execution_count": 1,
   "id": "bdbcf7a0-7e88-41af-a97b-941cc0994f6a",
   "metadata": {},
   "outputs": [
    {
     "name": "stdout",
     "output_type": "stream",
     "text": [
      "CPU times: user 4.35 ms, sys: 31 µs, total: 4.38 ms\n",
      "Wall time: 4.92 ms\n"
     ]
    },
    {
     "data": {
      "text/plain": [
       "True"
      ]
     },
     "execution_count": 1,
     "metadata": {},
     "output_type": "execute_result"
    }
   ],
   "source": [
    "%%time\n",
    "\n",
    "from dotenv import load_dotenv\n",
    "\n",
    "load_dotenv()"
   ]
  },
  {
   "cell_type": "markdown",
   "id": "16ca3075-dffc-4b66-a22c-72fc8e57de8a",
   "metadata": {},
   "source": [
    "## 智谱ai"
   ]
  },
  {
   "cell_type": "markdown",
   "id": "7f664819-2f43-4925-9f36-f0ac2a95c5be",
   "metadata": {},
   "source": [
    "### 直接使用 OpenAI API"
   ]
  },
  {
   "cell_type": "code",
   "execution_count": 13,
   "id": "7a386f00-698d-4e53-8c69-2d43ff0f404e",
   "metadata": {},
   "outputs": [
    {
     "name": "stdout",
     "output_type": "stream",
     "text": [
      "CPU times: user 50.6 ms, sys: 6.9 ms, total: 57.5 ms\n",
      "Wall time: 198 ms\n"
     ]
    },
    {
     "data": {
      "text/plain": [
       "[-0.030153707, 0.019338187, -0.059128232, -0.004209153, -0.013122211]"
      ]
     },
     "execution_count": 13,
     "metadata": {},
     "output_type": "execute_result"
    }
   ],
   "source": [
    "%%time\n",
    "\n",
    "import os\n",
    "from openai import OpenAI\n",
    "\n",
    "api_key = os.getenv(\"ZHIPU_API_KEY\")\n",
    "\n",
    "client = OpenAI(\n",
    "    api_key=api_key,\n",
    "    base_url=\"https://open.bigmodel.cn/api/paas/v4\",\n",
    ")\n",
    "\n",
    "resp = client.embeddings.create(\n",
    "    model=\"embedding-2\",\n",
    "    input=[\"花椰菜又称菜花、花菜，是一种常见的蔬菜。\"],\n",
    "    encoding_format=\"float\"\n",
    ")\n",
    "resp.data[0].embedding[:5]"
   ]
  },
  {
   "cell_type": "code",
   "execution_count": 14,
   "id": "13fc6f18-1bb7-4fe0-8e04-832af5a8d2e9",
   "metadata": {},
   "outputs": [
    {
     "data": {
      "text/plain": [
       "[0.025482178, -0.012557983, 0.007522583, -0.0067977905, -0.05230713]"
      ]
     },
     "execution_count": 14,
     "metadata": {},
     "output_type": "execute_result"
    }
   ],
   "source": [
    "resp = client.embeddings.create(\n",
    "    model=\"embedding-3\",\n",
    "    input=[\"花椰菜又称菜花、花菜，是一种常见的蔬菜。\"],\n",
    "    encoding_format=\"float\"\n",
    ")\n",
    "resp.data[0].embedding[:5]"
   ]
  },
  {
   "cell_type": "markdown",
   "id": "8e9536fd-8679-47a0-905d-629ca7a83498",
   "metadata": {},
   "source": [
    "### 使用 OpenAI API 访问 One API"
   ]
  },
  {
   "cell_type": "code",
   "execution_count": 7,
   "id": "ca5b1e5d-879d-4e7d-9c3b-55d62f4fb12c",
   "metadata": {},
   "outputs": [
    {
     "name": "stdout",
     "output_type": "stream",
     "text": [
      "CPU times: user 52.7 ms, sys: 2.88 ms, total: 55.6 ms\n",
      "Wall time: 257 ms\n"
     ]
    },
    {
     "data": {
      "text/plain": [
       "[-0.030153707, 0.019338187, -0.059128232, -0.004209153, -0.013122211]"
      ]
     },
     "execution_count": 7,
     "metadata": {},
     "output_type": "execute_result"
    }
   ],
   "source": [
    "%%time\n",
    "\n",
    "import os\n",
    "from openai import OpenAI\n",
    "\n",
    "client = OpenAI(\n",
    "    api_key=\"sk-bJP6QSnUfjAYeYeE505d3eBf63A643BeB0B8E350Df9b7750\",\n",
    "    base_url=\"http://ape:3000/v1\",\n",
    ")\n",
    "\n",
    "resp = client.embeddings.create(\n",
    "    model=\"embedding-2\",\n",
    "    input=[\"花椰菜又称菜花、花菜，是一种常见的蔬菜。\"],\n",
    "    encoding_format=\"float\"\n",
    ")\n",
    "resp.data[0].embedding[:5]"
   ]
  },
  {
   "cell_type": "markdown",
   "id": "359fcaf5-b36a-46ba-a6da-fd3ed7e7edc2",
   "metadata": {},
   "source": [
    "## 阿里云百炼"
   ]
  },
  {
   "cell_type": "markdown",
   "id": "f19840fe-776e-4804-b2b2-395fd0d5e374",
   "metadata": {},
   "source": [
    "### 直接使用 OpenAI API"
   ]
  },
  {
   "cell_type": "code",
   "execution_count": 10,
   "id": "a7b250e0-f4e7-42a9-a722-f17c5a7d90eb",
   "metadata": {},
   "outputs": [
    {
     "name": "stdout",
     "output_type": "stream",
     "text": [
      "CPU times: user 58.5 ms, sys: 172 µs, total: 58.7 ms\n",
      "Wall time: 207 ms\n"
     ]
    },
    {
     "data": {
      "text/plain": [
       "[-1.0765721797943115,\n",
       " -8.908791542053223,\n",
       " 0.5645343661308289,\n",
       " 1.4505490064620972,\n",
       " -0.9708723425865173]"
      ]
     },
     "execution_count": 10,
     "metadata": {},
     "output_type": "execute_result"
    }
   ],
   "source": [
    "%%time\n",
    "\n",
    "import os\n",
    "from openai import OpenAI\n",
    "\n",
    "api_key = os.getenv(\"ALIYUN_API_KEY\")\n",
    "\n",
    "client = OpenAI(\n",
    "    api_key=api_key,\n",
    "    base_url=\"https://dashscope.aliyuncs.com/compatible-mode/v1\",\n",
    ")\n",
    "\n",
    "resp = client.embeddings.create(\n",
    "    model=\"text-embedding-v1\",\n",
    "    input=[\"花椰菜又称菜花、花菜，是一种常见的蔬菜。\"],\n",
    "    encoding_format=\"float\"\n",
    ")\n",
    "resp.data[0].embedding[:5]"
   ]
  },
  {
   "cell_type": "code",
   "execution_count": 11,
   "id": "3f836b8a-287f-4e71-90e4-2494460731e0",
   "metadata": {},
   "outputs": [
    {
     "data": {
      "text/plain": [
       "[-0.009588132861795644,\n",
       " -0.000323688212536061,\n",
       " -0.014567846512113201,\n",
       " 0.0022755434909757033,\n",
       " -0.03793755530965612]"
      ]
     },
     "execution_count": 11,
     "metadata": {},
     "output_type": "execute_result"
    }
   ],
   "source": [
    "resp = client.embeddings.create(\n",
    "    model=\"text-embedding-v2\",\n",
    "    input=[\"花椰菜又称菜花、花菜，是一种常见的蔬菜。\"],\n",
    "    encoding_format=\"float\"\n",
    ")\n",
    "resp.data[0].embedding[:5]"
   ]
  },
  {
   "cell_type": "code",
   "execution_count": 12,
   "id": "9914cddb-5708-4e02-93bd-c81b8bb42b3d",
   "metadata": {},
   "outputs": [
    {
     "data": {
      "text/plain": [
       "[-0.03552500531077385,\n",
       " 0.015017389319837093,\n",
       " -0.05243263021111488,\n",
       " -0.018835851922631264,\n",
       " -0.023955632001161575]"
      ]
     },
     "execution_count": 12,
     "metadata": {},
     "output_type": "execute_result"
    }
   ],
   "source": [
    "resp = client.embeddings.create(\n",
    "    model=\"text-embedding-v3\",\n",
    "    input=[\"花椰菜又称菜花、花菜，是一种常见的蔬菜。\"],\n",
    "    encoding_format=\"float\"\n",
    ")\n",
    "resp.data[0].embedding[:5]"
   ]
  },
  {
   "cell_type": "markdown",
   "id": "d7417834-42eb-4c76-bd53-23ab5efd44af",
   "metadata": {},
   "source": [
    "## 豆包"
   ]
  },
  {
   "cell_type": "markdown",
   "id": "36020e28-c96d-459a-af19-0f3cddcd8d49",
   "metadata": {},
   "source": [
    "### 直接使用 OpenAI API"
   ]
  },
  {
   "cell_type": "code",
   "execution_count": 15,
   "id": "1b43ba30-2323-49fc-89c4-c1ba963291bf",
   "metadata": {},
   "outputs": [
    {
     "name": "stdout",
     "output_type": "stream",
     "text": [
      "CPU times: user 67.4 ms, sys: 0 ns, total: 67.4 ms\n",
      "Wall time: 156 ms\n"
     ]
    },
    {
     "data": {
      "text/plain": [
       "[-0.337890625, -1.890625, -1.9140625, -1.6875, -1.921875]"
      ]
     },
     "execution_count": 15,
     "metadata": {},
     "output_type": "execute_result"
    }
   ],
   "source": [
    "%%time\n",
    "\n",
    "import os\n",
    "from openai import OpenAI\n",
    "\n",
    "doubao_key = os.getenv(\"DOUBAO_API_KEY\")\n",
    "\n",
    "client = OpenAI(\n",
    "    api_key=doubao_key,\n",
    "    base_url=\"https://ark.cn-beijing.volces.com/api/v3\",\n",
    ")\n",
    "\n",
    "resp = client.embeddings.create(\n",
    "    model=\"ep-20240918183239-l2jqq\",\n",
    "    input=[\"花椰菜又称菜花、花菜，是一种常见的蔬菜。\"],\n",
    "    encoding_format=\"float\"\n",
    ")\n",
    "resp.data[0].embedding[:5]"
   ]
  },
  {
   "cell_type": "code",
   "execution_count": null,
   "id": "aebcdbd6-28c7-46e5-86b8-1e1c6598c1e9",
   "metadata": {},
   "outputs": [],
   "source": []
  }
 ],
 "metadata": {
  "kernelspec": {
   "display_name": "Python 3 (ipykernel)",
   "language": "python",
   "name": "python3"
  },
  "language_info": {
   "codemirror_mode": {
    "name": "ipython",
    "version": 3
   },
   "file_extension": ".py",
   "mimetype": "text/x-python",
   "name": "python",
   "nbconvert_exporter": "python",
   "pygments_lexer": "ipython3",
   "version": "3.10.12"
  }
 },
 "nbformat": 4,
 "nbformat_minor": 5
}
