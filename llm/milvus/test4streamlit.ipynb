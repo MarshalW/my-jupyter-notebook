{
 "cells": [
  {
   "cell_type": "markdown",
   "id": "da39a7bf-6f2d-4b1d-9ab2-77bcbe6f1844",
   "metadata": {},
   "source": [
    "# 测试streamlit环境下流式输出文本缺第一个字符的问题"
   ]
  },
  {
   "cell_type": "markdown",
   "id": "ca29f30a-4786-4bd6-a050-73b47bab0e57",
   "metadata": {},
   "source": [
    "问题结论是llama_index库版本问题。"
   ]
  },
  {
   "cell_type": "code",
   "execution_count": 1,
   "id": "0425ddc1-4e96-4e54-977a-c47e8e10eddf",
   "metadata": {},
   "outputs": [
    {
     "name": "stdout",
     "output_type": "stream",
     "text": [
      "CPU times: user 2.66 s, sys: 564 ms, total: 3.23 s\n",
      "Wall time: 3.88 s\n"
     ]
    }
   ],
   "source": [
    "%%time\n",
    "\n",
    "import logging\n",
    "import sys\n",
    "\n",
    "from llama_index.core import VectorStoreIndex, SimpleDirectoryReader\n",
    "from llama_index.core import StorageContext\n",
    "from llama_index.embeddings.huggingface import HuggingFaceEmbedding\n",
    "from IPython.display import Markdown, display\n",
    "from llama_index.core import Settings\n",
    "from llama_index.embeddings.ollama import OllamaEmbedding\n",
    "\n",
    "from llama_index.llms.openai_like import OpenAILike"
   ]
  },
  {
   "cell_type": "code",
   "execution_count": 2,
   "id": "0ea5f287-1808-45ca-b733-1f3aaf184225",
   "metadata": {},
   "outputs": [
    {
     "data": {
      "text/plain": [
       "_Settings(_llm=None, _embed_model=None, _callback_manager=None, _tokenizer=None, _node_parser=SentenceSplitter(include_metadata=True, include_prev_next_rel=True, callback_manager=<llama_index.core.callbacks.base.CallbackManager object at 0x7f557edfc910>, id_func=<function default_id_func at 0x7f563d11b010>, chunk_size=128, chunk_overlap=10, separator=' ', paragraph_separator='\\n\\n\\n', secondary_chunking_regex='[^,.;。？！]+[,.;。？！]?'), _prompt_helper=None, _transformations=None)"
      ]
     },
     "execution_count": 2,
     "metadata": {},
     "output_type": "execute_result"
    }
   ],
   "source": [
    "Settings.chunk_size=128\n",
    "Settings.chunk_overlap=10\n",
    "\n",
    "Settings"
   ]
  },
  {
   "cell_type": "code",
   "execution_count": 3,
   "id": "572ef4eb-d0f1-4d13-9e15-a0073402faa7",
   "metadata": {},
   "outputs": [
    {
     "name": "stdout",
     "output_type": "stream",
     "text": [
      "CPU times: user 117 ms, sys: 7.49 ms, total: 124 ms\n",
      "Wall time: 142 ms\n"
     ]
    }
   ],
   "source": [
    "%%time\n",
    "\n",
    "llm = OpenAILike(model=\"xiaoyu\", \n",
    "                 api_base=\"http://192.168.0.72:3000/v1\", \n",
    "                 api_key=\"sk-bJP6QSnUfjAYeYeE505d3eBf63A643BeB0B8E350Df9b7750\",\n",
    "                 is_chat_model=True,\n",
    "                 temperature=0.1\n",
    "                )\n",
    "\n",
    "Settings.llm =llm"
   ]
  },
  {
   "cell_type": "code",
   "execution_count": 4,
   "id": "1c2c1808-a2bd-4cb1-a751-98ef24a7ab9a",
   "metadata": {},
   "outputs": [
    {
     "name": "stdout",
     "output_type": "stream",
     "text": [
      "CPU times: user 459 ms, sys: 31.2 ms, total: 490 ms\n",
      "Wall time: 586 ms\n"
     ]
    }
   ],
   "source": [
    "%%time\n",
    "\n",
    "# 初始化全局 embedding 模型\n",
    "from llama_index.embeddings.ollama import OllamaEmbedding\n",
    "\n",
    "ollama_embedding = OllamaEmbedding(\n",
    "    model_name=\"dztech/bge-large-zh:v1.5\",\n",
    "    # model_name=\"bge-m3:latest\",\n",
    "    base_url=\"http://192.168.0.72:11435\",\n",
    "    ollama_additional_kwargs={\"mirostat\": 0}, # -mirostat N 使用 Mirostat 采样。\n",
    ")\n",
    "\n",
    "Settings.embed_model = ollama_embedding"
   ]
  },
  {
   "cell_type": "code",
   "execution_count": 5,
   "id": "46fac388-6d5e-4ddc-b773-dafd36132e3d",
   "metadata": {},
   "outputs": [
    {
     "name": "stdout",
     "output_type": "stream",
     "text": [
      "v2.3.5-lite\n",
      "CPU times: user 3.56 s, sys: 296 ms, total: 3.85 s\n",
      "Wall time: 7.51 s\n"
     ]
    }
   ],
   "source": [
    "%%time\n",
    "\n",
    "from milvus import default_server\n",
    "from pymilvus import connections, utility\n",
    "\n",
    "default_server.set_base_dir('milvus_data')\n",
    "\n",
    "# (OPTIONAL) if you want cleanup previous data\n",
    "default_server.cleanup()\n",
    "\n",
    "# Start your milvus server\n",
    "default_server.start()\n",
    "\n",
    "# Now you could connect with localhost and the given port\n",
    "# Port is defined by default_server.listen_port\n",
    "connections.connect(host='127.0.0.1', port=default_server.listen_port)\n",
    "\n",
    "# Check if the server is ready.\n",
    "print(utility.get_server_version())"
   ]
  },
  {
   "cell_type": "code",
   "execution_count": 6,
   "id": "974e857d-5328-45cb-ba27-8ccdadae2fec",
   "metadata": {},
   "outputs": [
    {
     "name": "stdout",
     "output_type": "stream",
     "text": [
      "Document ID: dacc8ca0-c7c1-46f8-b97c-f0e4accb3361\n",
      "CPU times: user 4.95 ms, sys: 7.08 ms, total: 12 ms\n",
      "Wall time: 18.4 ms\n"
     ]
    }
   ],
   "source": [
    "%%time\n",
    "\n",
    "# load documents\n",
    "documents = SimpleDirectoryReader(input_files=[\"./books1/故乡.txt\"]).load_data()\n",
    "print(\"Document ID:\", documents[0].doc_id)"
   ]
  },
  {
   "cell_type": "code",
   "execution_count": 7,
   "id": "b0989736-c31d-47b8-9aab-63326787b094",
   "metadata": {},
   "outputs": [
    {
     "name": "stdout",
     "output_type": "stream",
     "text": [
      "CPU times: user 1.08 s, sys: 98.3 ms, total: 1.17 s\n",
      "Wall time: 13 s\n"
     ]
    }
   ],
   "source": [
    "%%time\n",
    "\n",
    "from llama_index.core import VectorStoreIndex, StorageContext\n",
    "from llama_index.vector_stores.milvus import MilvusVectorStore\n",
    "\n",
    "vector_store = MilvusVectorStore(dim=1024, overwrite=True)\n",
    "storage_context = StorageContext.from_defaults(vector_store=vector_store)\n",
    "index = VectorStoreIndex.from_documents(\n",
    "    documents, storage_context=storage_context\n",
    ")"
   ]
  },
  {
   "cell_type": "code",
   "execution_count": 8,
   "id": "4c6c847e-724c-4a64-8089-2002de16780f",
   "metadata": {},
   "outputs": [
    {
     "name": "stdout",
     "output_type": "stream",
     "text": [
      "CPU times: user 191 ms, sys: 0 ns, total: 191 ms\n",
      "Wall time: 203 ms\n"
     ]
    }
   ],
   "source": [
    "%%time\n",
    "\n",
    "# Query Data\n",
    "query_engine = index.as_query_engine(\n",
    "    streaming=True,\n",
    "    similarity_top_k=100,\n",
    "    similarity_cutoff=0.5\n",
    ")"
   ]
  },
  {
   "cell_type": "code",
   "execution_count": 9,
   "id": "f06c7748-6cc2-48a8-933f-2d1c4488785b",
   "metadata": {},
   "outputs": [
    {
     "name": "stdout",
     "output_type": "stream",
     "text": [
      "闰土是《故乡》中鲁迅笔下的一位重要角色，一个十一二岁的少年，以项带银圈的形象出现，象征着他的童年记忆和父亲的关爱。他在小说中代表了农村生活的纯真与活力，但随着故事的发展，他经历了生活的艰辛和社会变迁，性格上发生了变化，与“我”产生了隔阂。闰土是那个时代农村少年的缩影，反映了社会的变迁和农民的生活状态。\n",
      "CPU times: user 431 ms, sys: 15.4 ms, total: 446 ms\n",
      "Wall time: 22.8 s\n"
     ]
    }
   ],
   "source": [
    "%%time\n",
    "\n",
    "streaming_response = query_engine.query(\"闰土是谁\")\n",
    "streaming_response.print_response_stream()\n",
    "print()"
   ]
  },
  {
   "cell_type": "code",
   "execution_count": 10,
   "id": "242d5d8d-9bc8-4596-8166-915b839f3f7a",
   "metadata": {},
   "outputs": [
    {
     "name": "stdout",
     "output_type": "stream",
     "text": [
      "闰土是鲁迅在《呐喊》这部作品中描绘的一个重要角色，他是小说中主人公鲁迅在少年时期的朋友，来自浙江沿海的农村，以他的海边劳作和对猹的勇敢形象为人们所熟知。他曾经戴着银圈，这在文中被提及是他的标志之一。闰土的故事反映了那个时代的社会变迁和人物命运的痕迹。\n",
      "CPU times: user 258 ms, sys: 21 ms, total: 279 ms\n",
      "Wall time: 20.6 s\n"
     ]
    }
   ],
   "source": [
    "%%time\n",
    "\n",
    "streaming_response = query_engine.query(\"闰土是谁\")\n",
    "for token in streaming_response.response_gen:\n",
    "    print(token, end=\"\")\n",
    "print()"
   ]
  },
  {
   "cell_type": "code",
   "execution_count": 11,
   "id": "704e1560-9b83-4308-8cf4-2ef6b816e0a6",
   "metadata": {},
   "outputs": [
    {
     "name": "stdout",
     "output_type": "stream",
     "text": [
      "CPU times: user 186 µs, sys: 0 ns, total: 186 µs\n",
      "Wall time: 190 µs\n"
     ]
    }
   ],
   "source": [
    "%%time\n",
    "\n",
    "# Query Data\n",
    "query_engine = index.as_query_engine(\n",
    "    streaming=True,\n",
    "    similarity_top_k=3,\n",
    "    similarity_cutoff=0.5\n",
    ")"
   ]
  },
  {
   "cell_type": "code",
   "execution_count": 13,
   "id": "c1e44e51-e240-48c8-a36f-a411bc28dbb5",
   "metadata": {},
   "outputs": [
    {
     "name": "stdout",
     "output_type": "stream",
     "text": [
      "孔乙己是鲁迅先生笔下《呐喊》中的人物，他是一个穷困潦倒的读书人，以摆弄茴香豆和喝酒为生，常被人取笑和嘲笑。与提供的文本内容无关。\n",
      "3\n",
      "CPU times: user 48.1 ms, sys: 4.61 ms, total: 52.8 ms\n",
      "Wall time: 2.38 s\n"
     ]
    },
    {
     "data": {
      "text/plain": [
       "[NodeWithScore(node=TextNode(id_='84d6a401-4a01-452f-b9ac-842bb138f9a3', embedding=None, metadata={'file_path': 'books1/故乡.txt', 'file_name': '故乡.txt', 'file_type': 'text/plain', 'file_size': 17811, 'creation_date': '2024-05-10', 'last_modified_date': '2024-05-10'}, excluded_embed_metadata_keys=['file_name', 'file_type', 'file_size', 'creation_date', 'last_modified_date', 'last_accessed_date'], excluded_llm_metadata_keys=['file_name', 'file_type', 'file_size', 'creation_date', 'last_modified_date', 'last_accessed_date'], relationships={<NodeRelationship.SOURCE: '1'>: RelatedNodeInfo(node_id='dacc8ca0-c7c1-46f8-b97c-f0e4accb3361', node_type=<ObjectType.DOCUMENT: '4'>, metadata={'file_path': 'books1/故乡.txt', 'file_name': '故乡.txt', 'file_type': 'text/plain', 'file_size': 17811, 'creation_date': '2024-05-10', 'last_modified_date': '2024-05-10'}, hash='4857463c4623b1869a7c4c5866f1b8f803834c1bd4b6cd1cc82808263dab39af'), <NodeRelationship.PREVIOUS: '2'>: RelatedNodeInfo(node_id='41ae9985-1052-459a-8961-5d4af8abe3d4', node_type=<ObjectType.TEXT: '1'>, metadata={'file_path': 'books1/故乡.txt', 'file_name': '故乡.txt', 'file_type': 'text/plain', 'file_size': 17811, 'creation_date': '2024-05-10', 'last_modified_date': '2024-05-10'}, hash='a915fc9f687cf374b8887e6ef8ebac6b07d3a5cc152f057e5a7ce88bf399c170'), <NodeRelationship.NEXT: '3'>: RelatedNodeInfo(node_id='c8e07e05-5661-4de6-a04b-2dc6b042ab8e', node_type=<ObjectType.TEXT: '1'>, metadata={}, hash='213a3c1243554c27454b9b22a24299f62efa3ab31a653ed070e11f48e2bb3910')}, text='闰土来管祭器的。\\n\\n\\u3000\\u3000我的父亲允许了；我也很高兴，因为我早听到闰土这名字，而且知道他和我仿佛年纪，闰月生的，五行缺土⑷，所以他的父亲叫他闰土。他是能装〔弓京〕捉小鸟雀的。', start_char_idx=1074, end_char_idx=1160, text_template='{metadata_str}\\n\\n{content}', metadata_template='{key}: {value}', metadata_seperator='\\n'), score=158.2081756591797),\n",
       " NodeWithScore(node=TextNode(id_='b65c87c1-64f3-40a5-8fd8-0393c25638f1', embedding=None, metadata={'file_path': 'books1/故乡.txt', 'file_name': '故乡.txt', 'file_type': 'text/plain', 'file_size': 17811, 'creation_date': '2024-05-10', 'last_modified_date': '2024-05-10'}, excluded_embed_metadata_keys=['file_name', 'file_type', 'file_size', 'creation_date', 'last_modified_date', 'last_accessed_date'], excluded_llm_metadata_keys=['file_name', 'file_type', 'file_size', 'creation_date', 'last_modified_date', 'last_accessed_date'], relationships={<NodeRelationship.SOURCE: '1'>: RelatedNodeInfo(node_id='dacc8ca0-c7c1-46f8-b97c-f0e4accb3361', node_type=<ObjectType.DOCUMENT: '4'>, metadata={'file_path': 'books1/故乡.txt', 'file_name': '故乡.txt', 'file_type': 'text/plain', 'file_size': 17811, 'creation_date': '2024-05-10', 'last_modified_date': '2024-05-10'}, hash='4857463c4623b1869a7c4c5866f1b8f803834c1bd4b6cd1cc82808263dab39af'), <NodeRelationship.PREVIOUS: '2'>: RelatedNodeInfo(node_id='ed71ca5a-8d81-49d2-b629-b4e48fe1a3ba', node_type=<ObjectType.TEXT: '1'>, metadata={'file_path': 'books1/故乡.txt', 'file_name': '故乡.txt', 'file_type': 'text/plain', 'file_size': 17811, 'creation_date': '2024-05-10', 'last_modified_date': '2024-05-10'}, hash='b254a6d3ab7110402c7afd4b350a12585b85266416e23fd0b0789278654c0771'), <NodeRelationship.NEXT: '3'>: RelatedNodeInfo(node_id='136cad8b-4ff0-45bd-9a5c-f184a69f253e', node_type=<ObjectType.TEXT: '1'>, metadata={}, hash='138d00cfec5bd9bbc956080ea2451a93092719b0123bd1d9a75b6cba3b05a423')}, text='，反从他的胯下逃走了。\\n\\n\\u3000\\u3000这少年便是闰土。我认识他时，也不过十多岁，离现在将有三十年了；那时我的父亲还在世，家景也好，我正是一个少爷。那一年，我家是一件大祭祀的值年⑶。', start_char_idx=833, end_char_idx=919, text_template='{metadata_str}\\n\\n{content}', metadata_template='{key}: {value}', metadata_seperator='\\n'), score=156.04373168945312),\n",
       " NodeWithScore(node=TextNode(id_='cc1fe49c-9d89-42db-adc3-ee0e1de87aaf', embedding=None, metadata={'file_path': 'books1/故乡.txt', 'file_name': '故乡.txt', 'file_type': 'text/plain', 'file_size': 17811, 'creation_date': '2024-05-10', 'last_modified_date': '2024-05-10'}, excluded_embed_metadata_keys=['file_name', 'file_type', 'file_size', 'creation_date', 'last_modified_date', 'last_accessed_date'], excluded_llm_metadata_keys=['file_name', 'file_type', 'file_size', 'creation_date', 'last_modified_date', 'last_accessed_date'], relationships={<NodeRelationship.SOURCE: '1'>: RelatedNodeInfo(node_id='dacc8ca0-c7c1-46f8-b97c-f0e4accb3361', node_type=<ObjectType.DOCUMENT: '4'>, metadata={'file_path': 'books1/故乡.txt', 'file_name': '故乡.txt', 'file_type': 'text/plain', 'file_size': 17811, 'creation_date': '2024-05-10', 'last_modified_date': '2024-05-10'}, hash='4857463c4623b1869a7c4c5866f1b8f803834c1bd4b6cd1cc82808263dab39af'), <NodeRelationship.PREVIOUS: '2'>: RelatedNodeInfo(node_id='64f6d2fe-2828-47c5-a561-cb66704019d8', node_type=<ObjectType.TEXT: '1'>, metadata={'file_path': 'books1/故乡.txt', 'file_name': '故乡.txt', 'file_type': 'text/plain', 'file_size': 17811, 'creation_date': '2024-05-10', 'last_modified_date': '2024-05-10'}, hash='cb6f07caaf60ed876ab797050bf15030ac91a7b62f7fac80757f6bf54730bb6b'), <NodeRelationship.NEXT: '3'>: RelatedNodeInfo(node_id='dd7e9378-0caa-44d7-897e-3482b5b07b61', node_type=<ObjectType.TEXT: '1'>, metadata={}, hash='2d5b5e60fa60ead5ae456f76c8eef660473d6d3c358779876ad815d6209263cf')}, text='“阿呀，老太太真是……这成什么规矩。那时是孩子，不懂事……”闰土说着，又叫水生上来打拱，那孩子却害羞，紧紧的只贴在他背后。\\n\\n\\u3000\\u3000“他就是水生？第五个？', start_char_idx=3728, end_char_idx=3804, text_template='{metadata_str}\\n\\n{content}', metadata_template='{key}: {value}', metadata_seperator='\\n'), score=154.89532470703125)]"
      ]
     },
     "execution_count": 13,
     "metadata": {},
     "output_type": "execute_result"
    }
   ],
   "source": [
    "%%time\n",
    "\n",
    "streaming_response = query_engine.query(\"孔乙己是谁\")\n",
    "for token in streaming_response.response_gen:\n",
    "    print(token, end=\"\")\n",
    "print()\n",
    "print(len(streaming_response.source_nodes))\n",
    "streaming_response.source_nodes"
   ]
  },
  {
   "cell_type": "code",
   "execution_count": null,
   "id": "b475c754-366c-4039-8566-a42d273a42b5",
   "metadata": {},
   "outputs": [],
   "source": []
  }
 ],
 "metadata": {
  "kernelspec": {
   "display_name": "Python 3 (ipykernel)",
   "language": "python",
   "name": "python3"
  },
  "language_info": {
   "codemirror_mode": {
    "name": "ipython",
    "version": 3
   },
   "file_extension": ".py",
   "mimetype": "text/x-python",
   "name": "python",
   "nbconvert_exporter": "python",
   "pygments_lexer": "ipython3",
   "version": "3.10.12"
  }
 },
 "nbformat": 4,
 "nbformat_minor": 5
}
