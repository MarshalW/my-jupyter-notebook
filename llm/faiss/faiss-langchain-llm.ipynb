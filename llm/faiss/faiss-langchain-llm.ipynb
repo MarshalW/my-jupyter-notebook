{
 "cells": [
  {
   "cell_type": "markdown",
   "id": "50a970ca-7461-4167-8be1-491ae36fc5ee",
   "metadata": {},
   "source": [
    "# faiss+langchain+llm的完整智能问答原型"
   ]
  },
  {
   "cell_type": "markdown",
   "id": "a33c1d76-be6f-4ef9-8f21-7ab6459e1257",
   "metadata": {},
   "source": [
    "## 准备工作"
   ]
  },
  {
   "cell_type": "code",
   "execution_count": 1,
   "id": "45472200-c476-47ba-a0e4-3afda7f52270",
   "metadata": {},
   "outputs": [
    {
     "name": "stdout",
     "output_type": "stream",
     "text": [
      "CPU times: user 43.6 ms, sys: 24.9 ms, total: 68.5 ms\n",
      "Wall time: 14.7 s\n"
     ]
    }
   ],
   "source": [
    "%%time\n",
    "%%capture\n",
    "\n",
    "!pip install langchain\n",
    "!pip install langchain-openai\n",
    "!pip install faiss-gpu\n",
    "!pip install sentence_transformers\n",
    "!pip install openai\n",
    "!pip install python-dotenv"
   ]
  },
  {
   "cell_type": "code",
   "execution_count": 1,
   "id": "7bc2caaf-90ad-4c7d-ba68-ce99e77c5d83",
   "metadata": {},
   "outputs": [],
   "source": [
    "from langchain_community.document_loaders import TextLoader\n",
    "from langchain_community.vectorstores import FAISS\n",
    "from langchain_community.embeddings import HuggingFaceBgeEmbeddings\n",
    "from langchain_text_splitters import CharacterTextSplitter\n",
    "from openai import OpenAI\n",
    "import pandas as pd\n",
    "import numpy as np\n",
    "import os\n",
    "from langchain_core.messages import HumanMessage, SystemMessage\n",
    "from langchain_openai import ChatOpenAI\n",
    "\n",
    "%load_ext dotenv\n",
    "%dotenv\n",
    "\n",
    "token = os.environ.get('ONE_API_TOKEN')\n",
    "base_url=os.environ.get('ONE_API_URL')\n",
    "\n",
    "system_message=SystemMessage(content=\"你是小羽，是一个人工智能助手。\")"
   ]
  },
  {
   "cell_type": "markdown",
   "id": "770baf8c-6352-4989-a00f-88bf1c58b9c3",
   "metadata": {},
   "source": [
    "## 功能实现步骤"
   ]
  },
  {
   "cell_type": "markdown",
   "id": "567dda9f-be92-4730-b819-b71468e24c38",
   "metadata": {},
   "source": [
    "### 加载嵌入模型"
   ]
  },
  {
   "cell_type": "code",
   "execution_count": 2,
   "id": "92552de9-cac6-47ce-a22c-bbc00c3cf6b4",
   "metadata": {},
   "outputs": [
    {
     "name": "stdout",
     "output_type": "stream",
     "text": [
      "CPU times: user 3.57 s, sys: 1.32 s, total: 4.89 s\n",
      "Wall time: 4.36 s\n"
     ]
    }
   ],
   "source": [
    "%%time\n",
    "\n",
    "model_name='/models/bge-m3'\n",
    "model_kwargs = {\"device\": \"cuda\"}\n",
    "encode_kwargs = {\"normalize_embeddings\": True}\n",
    "embeddings = HuggingFaceBgeEmbeddings(\n",
    "    model_name=model_name, model_kwargs=model_kwargs, encode_kwargs=encode_kwargs\n",
    ")"
   ]
  },
  {
   "cell_type": "markdown",
   "id": "c3efa6ca-9737-4141-92c6-271fc1f5d0f6",
   "metadata": {},
   "source": [
    "### 加载知识库"
   ]
  },
  {
   "cell_type": "markdown",
   "id": "8152b03c-f3ef-4df6-a474-c28d14a03297",
   "metadata": {},
   "source": [
    "一个虚构游戏的人物和故事设定。"
   ]
  },
  {
   "cell_type": "code",
   "execution_count": 3,
   "id": "5b8439d6-70e9-46e0-a6ca-7b30cdaba4e4",
   "metadata": {},
   "outputs": [
    {
     "data": {
      "text/html": [
       "<div>\n",
       "<style scoped>\n",
       "    .dataframe tbody tr th:only-of-type {\n",
       "        vertical-align: middle;\n",
       "    }\n",
       "\n",
       "    .dataframe tbody tr th {\n",
       "        vertical-align: top;\n",
       "    }\n",
       "\n",
       "    .dataframe thead th {\n",
       "        text-align: right;\n",
       "    }\n",
       "</style>\n",
       "<table border=\"1\" class=\"dataframe\">\n",
       "  <thead>\n",
       "    <tr style=\"text-align: right;\">\n",
       "      <th></th>\n",
       "      <th>ID</th>\n",
       "      <th>文本</th>\n",
       "      <th>分类</th>\n",
       "    </tr>\n",
       "  </thead>\n",
       "  <tbody>\n",
       "    <tr>\n",
       "      <th>0</th>\n",
       "      <td>1</td>\n",
       "      <td>《沧海寄》是一个故事游戏，讲述了公元14世纪至22世纪跨度800余年间，全球范围内，发生的各...</td>\n",
       "      <td>故事设定</td>\n",
       "    </tr>\n",
       "    <tr>\n",
       "      <th>1</th>\n",
       "      <td>2</td>\n",
       "      <td>潘菲洛，14世纪人物，生活在威尼斯。曾经是大商人，破产后又遭遇大瘟疫，出海避险，辗转于黎凡特...</td>\n",
       "      <td>人物设定</td>\n",
       "    </tr>\n",
       "    <tr>\n",
       "      <th>2</th>\n",
       "      <td>3</td>\n",
       "      <td>马努，15世纪人物，是摩鹿加群岛哈朗加帝国的军事贵族，曾经多次联合其他伊斯兰力量，击败葡萄牙...</td>\n",
       "      <td>人物设定</td>\n",
       "    </tr>\n",
       "    <tr>\n",
       "      <th>3</th>\n",
       "      <td>4</td>\n",
       "      <td>博尔都，14世纪人物，元末明初人。曾官至南昌府知府。因红巾军战乱，颠沛流离，中年在漠北北元做...</td>\n",
       "      <td>人物设定</td>\n",
       "    </tr>\n",
       "    <tr>\n",
       "      <th>4</th>\n",
       "      <td>5</td>\n",
       "      <td>南宫涛，字澜回，14世纪人物，元末明初人。江南私盐商人家族，早年在泉州及东南亚经商。后因家族...</td>\n",
       "      <td>人物设定</td>\n",
       "    </tr>\n",
       "    <tr>\n",
       "      <th>5</th>\n",
       "      <td>6</td>\n",
       "      <td>徐光启，字元简，明朝末期著名的政治家、学者和文学家。早年，在广州结识了耶稣会士郭居静，并被卷...</td>\n",
       "      <td>人物设定</td>\n",
       "    </tr>\n",
       "    <tr>\n",
       "      <th>6</th>\n",
       "      <td>7</td>\n",
       "      <td>郭居静，字仰凤，原名拉扎罗。天主教耶稣会意大利籍传教士。明朝时来华传教士之一，是利玛窦传教的...</td>\n",
       "      <td>人物设定</td>\n",
       "    </tr>\n",
       "    <tr>\n",
       "      <th>7</th>\n",
       "      <td>8</td>\n",
       "      <td>帕尼帕特之战，发生在16世纪20年代，蒙古塔塔尔部经开伯尔山口入侵莫卧儿帝国，在帕尼帕特决战...</td>\n",
       "      <td>故事设定</td>\n",
       "    </tr>\n",
       "  </tbody>\n",
       "</table>\n",
       "</div>"
      ],
      "text/plain": [
       "   ID                                                 文本    分类\n",
       "0   1  《沧海寄》是一个故事游戏，讲述了公元14世纪至22世纪跨度800余年间，全球范围内，发生的各...  故事设定\n",
       "1   2  潘菲洛，14世纪人物，生活在威尼斯。曾经是大商人，破产后又遭遇大瘟疫，出海避险，辗转于黎凡特...  人物设定\n",
       "2   3  马努，15世纪人物，是摩鹿加群岛哈朗加帝国的军事贵族，曾经多次联合其他伊斯兰力量，击败葡萄牙...  人物设定\n",
       "3   4  博尔都，14世纪人物，元末明初人。曾官至南昌府知府。因红巾军战乱，颠沛流离，中年在漠北北元做...  人物设定\n",
       "4   5  南宫涛，字澜回，14世纪人物，元末明初人。江南私盐商人家族，早年在泉州及东南亚经商。后因家族...  人物设定\n",
       "5   6  徐光启，字元简，明朝末期著名的政治家、学者和文学家。早年，在广州结识了耶稣会士郭居静，并被卷...  人物设定\n",
       "6   7  郭居静，字仰凤，原名拉扎罗。天主教耶稣会意大利籍传教士。明朝时来华传教士之一，是利玛窦传教的...  人物设定\n",
       "7   8  帕尼帕特之战，发生在16世纪20年代，蒙古塔塔尔部经开伯尔山口入侵莫卧儿帝国，在帕尼帕特决战...  故事设定"
      ]
     },
     "execution_count": 3,
     "metadata": {},
     "output_type": "execute_result"
    }
   ],
   "source": [
    "data = [[1,'《沧海寄》是一个故事游戏，讲述了公元14世纪至22世纪跨度800余年间，全球范围内，发生的各种故事。涌现出众多人物，在历史的大背景下，合情合理而令人印象深刻的呈现他们的故事。', '故事设定'],\n",
    "[2,'潘菲洛，14世纪人物，生活在威尼斯。曾经是大商人，破产后又遭遇大瘟疫，出海避险，辗转于黎凡特和加尔各答，重新赢得了财富。晚年定居热那亚。', '人物设定'],\n",
    "[3,'马努，15世纪人物，是摩鹿加群岛哈朗加帝国的军事贵族，曾经多次联合其他伊斯兰力量，击败葡萄牙和西班牙的入侵。晚年遭遇权力斗争中失败，这也波及到他参与组织的海军阶层。马努死后第5年，西班牙人屠灭了哈朗加帝国。', '人物设定'],\n",
    "[4,'博尔都，14世纪人物，元末明初人。曾官至南昌府知府。因红巾军战乱，颠沛流离，中年在漠北北元做过枢密院的小官。又因蓝玉扫北被俘，多次辗转后，终老于撒马尔罕。', '人物设定'],\n",
    "[5,'南宫涛，字澜回，14世纪人物，元末明初人。江南私盐商人家族，早年在泉州及东南亚经商。后因家族关系，协助张士诚起兵，在江浙一带活动。兵败后携家族出海避祸于爪哇。', '人物设定'],\n",
    "[6,'徐光启，字元简，明朝末期著名的政治家、学者和文学家。早年，在广州结识了耶稣会士郭居静，并被卷入澳门郭居静事件。后出任兵部尚书，在辽东平叛。','人物设定'],\n",
    "[7,'郭居静，字仰凤，原名拉扎罗。天主教耶稣会意大利籍传教士。明朝时来华传教士之一，是利玛窦传教的主要助手。后卷入郭居静事件，事件平息后，赴上海和杭州开教。卒于杭州。','人物设定'],\n",
    "[8,'帕尼帕特之战，发生在16世纪20年代，蒙古塔塔尔部经开伯尔山口入侵莫卧儿帝国，在帕尼帕特决战。本书中数十位人物涉及这场战争。','故事设定']]\n",
    "df = pd.DataFrame(data, columns = ['ID','文本', '分类'])\n",
    "\n",
    "df"
   ]
  },
  {
   "cell_type": "markdown",
   "id": "c58ac434-2756-4d49-b892-ce9245ac21a1",
   "metadata": {},
   "source": [
    "### 加入索引"
   ]
  },
  {
   "cell_type": "code",
   "execution_count": 4,
   "id": "a5b67257-3118-44b9-a720-30eb198f7663",
   "metadata": {},
   "outputs": [
    {
     "data": {
      "text/plain": [
       "0    《沧海寄》是一个故事游戏，讲述了公元14世纪至22世纪跨度800余年间，全球范围内，发生的各...\n",
       "1    潘菲洛，14世纪人物，生活在威尼斯。曾经是大商人，破产后又遭遇大瘟疫，出海避险，辗转于黎凡特...\n",
       "2    马努，15世纪人物，是摩鹿加群岛哈朗加帝国的军事贵族，曾经多次联合其他伊斯兰力量，击败葡萄牙...\n",
       "3    博尔都，14世纪人物，元末明初人。曾官至南昌府知府。因红巾军战乱，颠沛流离，中年在漠北北元做...\n",
       "4    南宫涛，字澜回，14世纪人物，元末明初人。江南私盐商人家族，早年在泉州及东南亚经商。后因家族...\n",
       "5    徐光启，字元简，明朝末期著名的政治家、学者和文学家。早年，在广州结识了耶稣会士郭居静，并被卷...\n",
       "6    郭居静，字仰凤，原名拉扎罗。天主教耶稣会意大利籍传教士。明朝时来华传教士之一，是利玛窦传教的...\n",
       "7    帕尼帕特之战，发生在16世纪20年代，蒙古塔塔尔部经开伯尔山口入侵莫卧儿帝国，在帕尼帕特决战...\n",
       "Name: 文本, dtype: object"
      ]
     },
     "execution_count": 4,
     "metadata": {},
     "output_type": "execute_result"
    }
   ],
   "source": [
    "contents = df['文本']\n",
    "contents"
   ]
  },
  {
   "cell_type": "code",
   "execution_count": 5,
   "id": "b6b53003-f924-4e83-bf86-e388cf30367e",
   "metadata": {},
   "outputs": [
    {
     "name": "stdout",
     "output_type": "stream",
     "text": [
      "CPU times: user 754 ms, sys: 30.9 ms, total: 785 ms\n",
      "Wall time: 792 ms\n"
     ]
    },
    {
     "data": {
      "text/plain": [
       "8"
      ]
     },
     "execution_count": 5,
     "metadata": {},
     "output_type": "execute_result"
    }
   ],
   "source": [
    "%%time\n",
    "\n",
    "# vectors = embeddings.encode(text)\n",
    "db = FAISS.from_texts(contents, embeddings)\n",
    "db.index.ntotal"
   ]
  },
  {
   "cell_type": "markdown",
   "id": "36b0eb78-0047-4e6e-ba5f-7caf5e00c570",
   "metadata": {},
   "source": [
    "### 搜索"
   ]
  },
  {
   "cell_type": "code",
   "execution_count": 6,
   "id": "137f563b-9544-4321-a236-f23f7f06b539",
   "metadata": {},
   "outputs": [
    {
     "name": "stdout",
     "output_type": "stream",
     "text": [
      "CPU times: user 33.1 ms, sys: 3.19 ms, total: 36.3 ms\n",
      "Wall time: 35.7 ms\n"
     ]
    },
    {
     "data": {
      "text/plain": [
       "'徐光启，字元简，明朝末期著名的政治家、学者和文学家。早年，在广州结识了耶稣会士郭居静，并被卷入澳门郭居静事件。后出任兵部尚书，在辽东平叛。'"
      ]
     },
     "execution_count": 6,
     "metadata": {},
     "output_type": "execute_result"
    }
   ],
   "source": [
    "%%time\n",
    "\n",
    "query = \"徐光启\"\n",
    "docs = db.similarity_search(query)\n",
    "\n",
    "docs[0].page_content"
   ]
  },
  {
   "cell_type": "code",
   "execution_count": 7,
   "id": "1fb84b94-a3be-40dc-89b3-82c81e8f5578",
   "metadata": {},
   "outputs": [
    {
     "data": {
      "text/plain": [
       "'潘菲洛，14世纪人物，生活在威尼斯。曾经是大商人，破产后又遭遇大瘟疫，出海避险，辗转于黎凡特和加尔各答，重新赢得了财富。晚年定居热那亚。'"
      ]
     },
     "metadata": {},
     "output_type": "display_data"
    },
    {
     "data": {
      "text/plain": [
       "'郭居静，字仰凤，原名拉扎罗。天主教耶稣会意大利籍传教士。明朝时来华传教士之一，是利玛窦传教的主要助手。后卷入郭居静事件，事件平息后，赴上海和杭州开教。卒于杭州。'"
      ]
     },
     "metadata": {},
     "output_type": "display_data"
    },
    {
     "data": {
      "text/plain": [
       "'《沧海寄》是一个故事游戏，讲述了公元14世纪至22世纪跨度800余年间，全球范围内，发生的各种故事。涌现出众多人物，在历史的大背景下，合情合理而令人印象深刻的呈现他们的故事。'"
      ]
     },
     "metadata": {},
     "output_type": "display_data"
    },
    {
     "name": "stdout",
     "output_type": "stream",
     "text": [
      "CPU times: user 30.9 ms, sys: 779 µs, total: 31.7 ms\n",
      "Wall time: 35.8 ms\n"
     ]
    }
   ],
   "source": [
    "%%time\n",
    "\n",
    "query = \"意大利\"\n",
    "docs = db.similarity_search(query,k=3)\n",
    "\n",
    "for doc in docs:\n",
    "    display(doc.page_content)"
   ]
  },
  {
   "cell_type": "markdown",
   "id": "0f330248-c327-46b4-9022-a9f014e249fd",
   "metadata": {},
   "source": [
    "### 保存和加载索引"
   ]
  },
  {
   "cell_type": "code",
   "execution_count": 8,
   "id": "b83ee1b4-75fc-46f8-996b-18d0ff6bced6",
   "metadata": {},
   "outputs": [
    {
     "name": "stdout",
     "output_type": "stream",
     "text": [
      "CPU times: user 1.36 ms, sys: 367 µs, total: 1.72 ms\n",
      "Wall time: 3.71 ms\n"
     ]
    }
   ],
   "source": [
    "%%time\n",
    "\n",
    "index_path='faiss-langchain-llm_index'\n",
    "db.save_local(index_path)"
   ]
  },
  {
   "cell_type": "code",
   "execution_count": 9,
   "id": "5df142de-18d9-40f8-aadc-847628a8205e",
   "metadata": {},
   "outputs": [
    {
     "name": "stdout",
     "output_type": "stream",
     "text": [
      "CPU times: user 1.7 ms, sys: 0 ns, total: 1.7 ms\n",
      "Wall time: 3.03 ms\n"
     ]
    },
    {
     "data": {
      "text/plain": [
       "8"
      ]
     },
     "execution_count": 9,
     "metadata": {},
     "output_type": "execute_result"
    }
   ],
   "source": [
    "%%time\n",
    "\n",
    "db = FAISS.load_local(index_path, \n",
    "                 embeddings,\n",
    "                 allow_dangerous_deserialization=True)\n",
    "db.index.ntotal"
   ]
  },
  {
   "cell_type": "code",
   "execution_count": 10,
   "id": "94f489df-db2f-4bc6-86f0-48b545b5b34b",
   "metadata": {},
   "outputs": [
    {
     "name": "stdout",
     "output_type": "stream",
     "text": [
      "CPU times: user 26.9 ms, sys: 18.9 ms, total: 45.8 ms\n",
      "Wall time: 48.2 ms\n"
     ]
    },
    {
     "data": {
      "text/plain": [
       "'潘菲洛，14世纪人物，生活在威尼斯。曾经是大商人，破产后又遭遇大瘟疫，出海避险，辗转于黎凡特和加尔各答，重新赢得了财富。晚年定居热那亚。'"
      ]
     },
     "execution_count": 10,
     "metadata": {},
     "output_type": "execute_result"
    }
   ],
   "source": [
    "%%time\n",
    "\n",
    "docs = db.similarity_search('瘟疫')\n",
    "docs[0].page_content"
   ]
  },
  {
   "cell_type": "markdown",
   "id": "20e9bf18-8861-4c4b-bf15-37cc5d445965",
   "metadata": {},
   "source": [
    "### retriver"
   ]
  },
  {
   "cell_type": "code",
   "execution_count": 11,
   "id": "3243d3d8-5806-4ccc-9b43-114b83ff9aeb",
   "metadata": {},
   "outputs": [
    {
     "name": "stdout",
     "output_type": "stream",
     "text": [
      "CPU times: user 34.2 ms, sys: 551 µs, total: 34.8 ms\n",
      "Wall time: 42 ms\n"
     ]
    },
    {
     "data": {
      "text/plain": [
       "'马努，15世纪人物，是摩鹿加群岛哈朗加帝国的军事贵族，曾经多次联合其他伊斯兰力量，击败葡萄牙和西班牙的入侵。晚年遭遇权力斗争中失败，这也波及到他参与组织的海军阶层。马努死后第5年，西班牙人屠灭了哈朗加帝国。'"
      ]
     },
     "execution_count": 11,
     "metadata": {},
     "output_type": "execute_result"
    }
   ],
   "source": [
    "%%time\n",
    "\n",
    "query='摩鹿加'\n",
    "retriever = db.as_retriever()\n",
    "docs = retriever.invoke(query)\n",
    "\n",
    "docs[0].page_content"
   ]
  },
  {
   "cell_type": "markdown",
   "id": "0d38fa21-a6aa-4be2-9acc-1cb6035e5c25",
   "metadata": {},
   "source": [
    "### llm对话"
   ]
  },
  {
   "cell_type": "code",
   "execution_count": 13,
   "id": "e43741bd-d6e7-4660-9875-a49d64672aea",
   "metadata": {},
   "outputs": [
    {
     "name": "stdout",
     "output_type": "stream",
     "text": [
      "徐光启（1562年11月18日-1633年9月11日），字子先，号玄扈，南直隶松江府上海县人。他是明代著名的科学家、政治家和军事家，尤其在数学、天文、历法、农学等领域有重要贡献。徐光启是明末清初时期科学革命的重要人物，他的《农政全书》是中国古代农学的集大成之作，对后世影响深远。同时，他还参与了《崇祯历书》的编纂工作，试图改革中国的历法体系，以适应日益发展的科技需求。CPU times: user 369 ms, sys: 37.9 ms, total: 407 ms\n",
      "Wall time: 5.07 s\n"
     ]
    }
   ],
   "source": [
    "%%time\n",
    "\n",
    "chat = ChatOpenAI(api_key=token, \n",
    "                  base_url=base_url,\n",
    "                  model='xiaoyu', \n",
    "                  temperature=0,\n",
    "                  streaming=True)\n",
    "\n",
    "messages = [\n",
    "    system_message,\n",
    "    HumanMessage(content=\"徐光启是谁？\"),\n",
    "]\n",
    "\n",
    "for chunk in chat.stream(messages):\n",
    "    print(chunk.content, end=\"\", flush=True)"
   ]
  },
  {
   "cell_type": "markdown",
   "id": "f8e0bbb7-3aac-4c2a-aa3d-7a920d8f23ec",
   "metadata": {},
   "source": [
    "### 嵌入+llm对话"
   ]
  },
  {
   "cell_type": "code",
   "execution_count": 92,
   "id": "1ae669d2-dbd2-4497-8c7a-c1f6710b8988",
   "metadata": {},
   "outputs": [
    {
     "name": "stdout",
     "output_type": "stream",
     "text": [
      "CPU times: user 428 ms, sys: 4.9 ms, total: 433 ms\n",
      "Wall time: 2.83 s\n"
     ]
    },
    {
     "data": {
      "text/plain": [
       "{'query': '简要介绍下徐光启',\n",
       " 'result': '徐光启，字元简，明朝末期著名的人物，他是一位政治家、学者和文学家。在年轻时，他与耶稣会士郭居静有交往，并因广州事件而被卷入澳门的郭居静事件。后来，徐光启担任了兵部尚书，在辽东参与平叛活动。'}"
      ]
     },
     "execution_count": 92,
     "metadata": {},
     "output_type": "execute_result"
    }
   ],
   "source": [
    "%%time\n",
    "\n",
    "from langchain_core.vectorstores import VectorStoreRetriever\n",
    "from langchain.chains import RetrievalQA\n",
    "\n",
    "from langchain_core.runnables import RunnableParallel, RunnablePassthrough\n",
    "from langchain_core.output_parsers import StrOutputParser\n",
    "\n",
    "retriever = VectorStoreRetriever(vectorstore=db)\n",
    "\n",
    "qa_chain = RetrievalQA.from_chain_type(\n",
    "    llm=chat, retriever=retriever\n",
    ")\n",
    "\n",
    "question='简要介绍下徐光启'\n",
    "qa_chain.invoke({\"query\": question})"
   ]
  },
  {
   "cell_type": "code",
   "execution_count": 14,
   "id": "9d466ce6-9e21-46f4-8933-6388921a221b",
   "metadata": {},
   "outputs": [
    {
     "name": "stdout",
     "output_type": "stream",
     "text": [
      "回答: \n",
      "\n",
      "南宫涛是一位生活在14世纪的元末明初人物，他出身于江南的一个私盐商人家族。年轻时，他在泉州和东南亚地区从事商业活动。后来，由于与家族的关系，他参与了张士诚的起义，并在江浙一带活跃。然而，在军事失利后，南宫涛为了躲避战乱，带着家族成员出海逃往爪哇。\n",
      "\n",
      "相似度上下文: \n",
      "\n",
      "南宫涛，字澜回，14世纪人物，元末明初人。江南私盐商人家族，早年在泉州及东南亚经商。后因家族关系，协助张士诚起兵，在江浙一带活动。兵败后携家族出海避祸于爪哇。\n",
      "\n",
      "CPU times: user 235 ms, sys: 92.2 ms, total: 328 ms\n",
      "Wall time: 3.5 s\n"
     ]
    }
   ],
   "source": [
    "%%time\n",
    "\n",
    "from langchain.chains.combine_documents import create_stuff_documents_chain\n",
    "from langchain_core.prompts import ChatPromptTemplate\n",
    "from langchain.chains import create_retrieval_chain\n",
    "\n",
    "prompt = ChatPromptTemplate.from_template(\"\"\"Answer the following question based only on the provided context:\n",
    "\n",
    "<context>\n",
    "{context}\n",
    "</context>\n",
    "\n",
    "Question: {input}\"\"\")\n",
    "\n",
    "document_chain = create_stuff_documents_chain(chat, prompt)\n",
    "\n",
    "retriever = db.as_retriever(search_kwargs={\"k\": 1,\"score_threshold\": 0.4},search_type=\"similarity_score_threshold\")\n",
    "retrieval_chain = create_retrieval_chain(retriever, document_chain)\n",
    "\n",
    "context_docs=None\n",
    "\n",
    "print('回答: \\n')\n",
    "\n",
    "for chunk in retrieval_chain.stream({\"input\": \"南宫涛是谁？\"}):\n",
    "    if 'answer' in chunk:\n",
    "        print(chunk['answer'], end=\"\", flush=True)\n",
    "    elif 'context' in chunk:\n",
    "        context_docs=chunk['context']\n",
    "print()\n",
    "\n",
    "print('\\n相似度上下文: \\n')\n",
    "for doc in context_docs:\n",
    "    print(doc.page_content)\n",
    "    print()"
   ]
  },
  {
   "cell_type": "markdown",
   "id": "c5ce5cd5-f282-4b0b-a310-3404cc7a0a8e",
   "metadata": {},
   "source": [
    "### 删除索引中指定向量记录"
   ]
  },
  {
   "cell_type": "code",
   "execution_count": null,
   "id": "4daac65d-c661-4a32-a768-78b0efd42785",
   "metadata": {},
   "outputs": [],
   "source": []
  },
  {
   "cell_type": "markdown",
   "id": "be940ae1-7a64-4d51-a2fc-e91b81a5a82d",
   "metadata": {},
   "source": [
    "### 追加向量记录到索引"
   ]
  },
  {
   "cell_type": "code",
   "execution_count": null,
   "id": "03a41fd4-1b89-4321-874e-c25770481c6f",
   "metadata": {},
   "outputs": [],
   "source": []
  }
 ],
 "metadata": {
  "kernelspec": {
   "display_name": "Python 3 (ipykernel)",
   "language": "python",
   "name": "python3"
  },
  "language_info": {
   "codemirror_mode": {
    "name": "ipython",
    "version": 3
   },
   "file_extension": ".py",
   "mimetype": "text/x-python",
   "name": "python",
   "nbconvert_exporter": "python",
   "pygments_lexer": "ipython3",
   "version": "3.10.12"
  }
 },
 "nbformat": 4,
 "nbformat_minor": 5
}
