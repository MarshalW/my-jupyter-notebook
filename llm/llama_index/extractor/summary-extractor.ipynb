{
 "cells": [
  {
   "cell_type": "markdown",
   "id": "4d9e515a-db4b-4c77-9a85-82f3ee856738",
   "metadata": {},
   "source": [
    "# SummaryExtractor"
   ]
  },
  {
   "cell_type": "code",
   "execution_count": 1,
   "id": "20fbd7f8-8a1e-48af-a7e1-9067f26a3dfe",
   "metadata": {},
   "outputs": [
    {
     "name": "stdout",
     "output_type": "stream",
     "text": [
      "CPU times: user 2.53 s, sys: 352 ms, total: 2.88 s\n",
      "Wall time: 2.53 s\n"
     ]
    }
   ],
   "source": [
    "%%time\n",
    "\n",
    "from llama_index.core.extractors import (\n",
    "    SummaryExtractor,\n",
    ")"
   ]
  },
  {
   "cell_type": "code",
   "execution_count": 2,
   "id": "8182c31c-0971-46bf-9fc4-bcda064aec63",
   "metadata": {},
   "outputs": [
    {
     "name": "stdout",
     "output_type": "stream",
     "text": [
      "CPU times: user 121 ms, sys: 8.08 ms, total: 129 ms\n",
      "Wall time: 128 ms\n"
     ]
    }
   ],
   "source": [
    "%%time\n",
    "\n",
    "from llama_index.llms.openai_like import OpenAILike\n",
    "from llama_index.core import Settings\n",
    "\n",
    "llm = OpenAILike(model=\"qwen2-7b-6k\", \n",
    "                 api_base=\"http://192.168.0.72:3000/v1\", \n",
    "                 api_key=\"sk-bJP6QSnUfjAYeYeE505d3eBf63A643BeB0B8E350Df9b7750\",\n",
    "                 is_chat_model=True,\n",
    "                 temperature=0.1\n",
    "                )\n",
    "Settings.llm=llm"
   ]
  },
  {
   "cell_type": "code",
   "execution_count": 4,
   "id": "e69a6c2e-3320-4fa4-bc90-c6d5e411ea13",
   "metadata": {},
   "outputs": [
    {
     "name": "stdout",
     "output_type": "stream",
     "text": [
      "CPU times: user 1.37 ms, sys: 0 ns, total: 1.37 ms\n",
      "Wall time: 1.14 ms\n"
     ]
    }
   ],
   "source": [
    "%%time\n",
    "\n",
    "from llama_index.core import SimpleDirectoryReader\n",
    "\n",
    "documents = SimpleDirectoryReader(input_files=[\"../content-short.txt\"]).load_data()"
   ]
  },
  {
   "cell_type": "code",
   "execution_count": 15,
   "id": "2ae7b8f0-f059-4dd2-9996-cd632f50515d",
   "metadata": {},
   "outputs": [
    {
     "name": "stdout",
     "output_type": "stream",
     "text": [
      "CPU times: user 77 µs, sys: 12 µs, total: 89 µs\n",
      "Wall time: 91.1 µs\n"
     ]
    }
   ],
   "source": [
    "%%time\n",
    "\n",
    "from llama_index.core.node_parser import SentenceSplitter\n",
    "\n",
    "node_parser = SentenceSplitter(chunk_size=1024, chunk_overlap=20)"
   ]
  },
  {
   "cell_type": "markdown",
   "id": "82193795-3807-4375-865c-6db75be40453",
   "metadata": {},
   "source": [
    "## 默认总结当前节的摘要"
   ]
  },
  {
   "cell_type": "code",
   "execution_count": 16,
   "id": "edc4432b-fef6-4207-bf72-ca0d2e62a51d",
   "metadata": {},
   "outputs": [
    {
     "name": "stdout",
     "output_type": "stream",
     "text": [
      "CPU times: user 180 µs, sys: 0 ns, total: 180 µs\n",
      "Wall time: 182 µs\n"
     ]
    }
   ],
   "source": [
    "%%time\n",
    "\n",
    "from llama_index.core.schema import MetadataMode\n",
    "from llama_index.core.ingestion import IngestionPipeline\n",
    "\n",
    "extrator=SummaryExtractor()\n",
    "\n",
    "pipeline = IngestionPipeline(\n",
    "    transformations=[\n",
    "        node_parser, \n",
    "        extrator\n",
    "    ])"
   ]
  },
  {
   "cell_type": "code",
   "execution_count": 17,
   "id": "c2504ff4-c317-4c6b-9319-dc86e2775523",
   "metadata": {},
   "outputs": [
    {
     "data": {
      "application/vnd.jupyter.widget-view+json": {
       "model_id": "69837c23225a445ca7af5db41a8ae335",
       "version_major": 2,
       "version_minor": 0
      },
      "text/plain": [
       "Parsing nodes:   0%|          | 0/1 [00:00<?, ?it/s]"
      ]
     },
     "metadata": {},
     "output_type": "display_data"
    },
    {
     "name": "stderr",
     "output_type": "stream",
     "text": [
      "100% 5/5 [00:15<00:00,  3.10s/it]"
     ]
    },
    {
     "name": "stdout",
     "output_type": "stream",
     "text": [
      "CPU times: user 90.4 ms, sys: 4.69 ms, total: 95.1 ms\n",
      "Wall time: 15.5 s\n"
     ]
    },
    {
     "name": "stderr",
     "output_type": "stream",
     "text": [
      "\n"
     ]
    }
   ],
   "source": [
    "%%time\n",
    "\n",
    "import nest_asyncio\n",
    "nest_asyncio.apply()\n",
    "\n",
    "nodes = pipeline.run(\n",
    "    documents=documents,\n",
    "    in_place=False,\n",
    "    show_progress=True,\n",
    ")"
   ]
  },
  {
   "cell_type": "code",
   "execution_count": 19,
   "id": "dc0b6fb1-883b-4a42-98b6-3a57c1bcc683",
   "metadata": {},
   "outputs": [
    {
     "data": {
      "text/plain": [
       "5"
      ]
     },
     "execution_count": 19,
     "metadata": {},
     "output_type": "execute_result"
    }
   ],
   "source": [
    "len(nodes)"
   ]
  },
  {
   "cell_type": "code",
   "execution_count": 14,
   "id": "75be8294-6062-4bdc-932c-0df21e430823",
   "metadata": {},
   "outputs": [
    {
     "data": {
      "text/plain": [
       "{'file_path': '../content-short.txt',\n",
       " 'file_name': 'content-short.txt',\n",
       " 'file_type': 'text/plain',\n",
       " 'file_size': 11342,\n",
       " 'creation_date': '2024-06-08',\n",
       " 'last_modified_date': '2024-06-08',\n",
       " 'section_summary': '本节主要讨论了以下关键内容：\\n\\n1. **文件信息**：提及了一个名为`content-short.txt`的文本文件，该文件位于`../content-short.txt`路径下。文件类型为纯文本（text/plain），大小为11342字节，创建日期和最后修改日期均为2024年6月8日。\\n\\n2. **会议目的**：召开此次会议的主要目的是吸引中国企业的投资。这表明会议旨在促进经济合作，并特别关注与中国企业之间的互动与投资机会。\\n\\n3. **会议内容**：会议的主旨和议题被明确指定为几个细分领域，这些领域都与高科技产业相关联。这暗示了会议将聚焦于讨论和展示在高科技领域的合作潜力、项目和技术交流等。\\n\\n4. **经济合作前提**：强调了双边牢固的外交关系是实现经济合作的前提条件。这表明会议不仅关注经济层面的合作，还重视政治和外交基础的重要性，以确保双方都能从合作中获得互惠互利的结果。\\n\\n综上所述，本节主要围绕一个旨在吸引中国投资的会议进行讨论，重点关注高科技产业领域的合作，并强调了在经济合作之前建立牢固双边关系的重要性。'}"
      ]
     },
     "execution_count": 14,
     "metadata": {},
     "output_type": "execute_result"
    }
   ],
   "source": [
    "nodes[3].metadata"
   ]
  },
  {
   "cell_type": "markdown",
   "id": "9535f4f0-26d8-4907-9957-4ec266fdf0a6",
   "metadata": {},
   "source": [
    "## 可以设置增加上一节和下一节的摘要"
   ]
  },
  {
   "cell_type": "code",
   "execution_count": 21,
   "id": "73881a44-36d3-4f38-9d38-154329cf4376",
   "metadata": {},
   "outputs": [
    {
     "name": "stdout",
     "output_type": "stream",
     "text": [
      "CPU times: user 199 µs, sys: 0 ns, total: 199 µs\n",
      "Wall time: 202 µs\n"
     ]
    }
   ],
   "source": [
    "%%time\n",
    "\n",
    "extrator=SummaryExtractor(summaries=['self', 'prev', 'next'])\n",
    "\n",
    "pipeline = IngestionPipeline(\n",
    "    transformations=[\n",
    "        node_parser, \n",
    "        extrator\n",
    "    ])"
   ]
  },
  {
   "cell_type": "code",
   "execution_count": 22,
   "id": "438f2478-f6e0-4381-8ffc-18979c5f08e1",
   "metadata": {},
   "outputs": [
    {
     "data": {
      "application/vnd.jupyter.widget-view+json": {
       "model_id": "66aaa5eb9c7842c283ccb96b8431ca8c",
       "version_major": 2,
       "version_minor": 0
      },
      "text/plain": [
       "Parsing nodes:   0%|          | 0/1 [00:00<?, ?it/s]"
      ]
     },
     "metadata": {},
     "output_type": "display_data"
    },
    {
     "name": "stderr",
     "output_type": "stream",
     "text": [
      "100% 5/5 [00:15<00:00,  3.18s/it]"
     ]
    },
    {
     "name": "stdout",
     "output_type": "stream",
     "text": [
      "CPU times: user 89.2 ms, sys: 7.77 ms, total: 96.9 ms\n",
      "Wall time: 15.9 s\n"
     ]
    },
    {
     "name": "stderr",
     "output_type": "stream",
     "text": [
      "\n"
     ]
    }
   ],
   "source": [
    "%%time\n",
    "\n",
    "nodes = pipeline.run(\n",
    "    documents=documents,\n",
    "    in_place=False,\n",
    "    show_progress=True,\n",
    ")"
   ]
  },
  {
   "cell_type": "code",
   "execution_count": 23,
   "id": "c716f070-d59d-4634-8cfb-c8c8b0091849",
   "metadata": {},
   "outputs": [
    {
     "data": {
      "text/plain": [
       "5"
      ]
     },
     "execution_count": 23,
     "metadata": {},
     "output_type": "execute_result"
    }
   ],
   "source": [
    "len(nodes)"
   ]
  },
  {
   "cell_type": "code",
   "execution_count": 24,
   "id": "1c866458-76da-4182-acd4-a5ddb7753406",
   "metadata": {},
   "outputs": [
    {
     "data": {
      "text/plain": [
       "{'file_path': '../content-short.txt',\n",
       " 'file_name': 'content-short.txt',\n",
       " 'file_type': 'text/plain',\n",
       " 'file_size': 11342,\n",
       " 'creation_date': '2024-06-08',\n",
       " 'last_modified_date': '2024-06-08',\n",
       " 'prev_section_summary': '本段内容主要围绕中巴关系、中国模式对巴基斯坦的借鉴、印度与周边国家的关系以及阿富汗局势对中巴关系的影响等几个关键主题展开。核心实体包括：\\n\\n1. **中巴关系**：讨论了中巴经济走廊的安全问题和反恐合作，强调恐怖主义作为国际现象对中巴关系的影响。\\n2. **中国模式**：提及中国模式对巴基斯坦的借鉴作用，特别是通过多次访华经历对中国深入了解后，希望在富强之路上得到中国的帮助。\\n3. **印度与周边国家的关系**：分析了印度与其邻国如尼泊尔、孟加拉国、缅甸、马尔代夫等之间的紧张关系和领土争端，以及印度的民族主义情绪对穆斯林群体的影响。\\n4. **阿富汗局势**：强调了阿富汗政治生态的修复对于稳定中巴关系的重要性，以及其作为四战之地的历史背景对中巴商贸对接可能产生的影响。\\n\\n这些主题和实体共同构成了关于地区外交、国家间合作与冲突、以及国际安全问题的一系列讨论。',\n",
       " 'next_section_summary': '本节主要讨论了以下关键主题和实体：\\n\\n1. **巴基斯坦代表团访问中国**：去年12月15日，巴基斯坦电看守商务部长戈哈尔·埃贾兹率领代表团访问了中国。这一活动可能涉及经济合作、贸易交流等议题。\\n\\n2. **印度的工业化项目与自主可控制造业**：文章提到印度在推动各种工业项目，并强调制造业的自主性。同时指出印度面临极端天气影响，尤其是热浪导致的水电能源短缺问题，这不仅影响民用也波及工业领域。\\n\\n3. **印度与巴基斯坦面临的共同挑战**：讨论了两国在能源供应方面可能遇到的问题，特别是由于极端天气和工业污染带来的挑战。文章还提到了长期来看这些因素对印度经济的不利影响。\\n\\n4. **印度的历史外交策略**：分析了印度过去与苏联、现在与美国之间的关系变化，以及这种外交策略如何影响其国内政策和国际地位。\\n\\n5. **巴基斯坦的政治体制**：提到巴基斯坦在大选后的五年任期制度下，政府可能更侧重于解决短期问题，而对长期规划能力有限。文章特别提到了中国的民主集中制原则作为对比。\\n\\n6. **观察者网的立场与内容**：强调了文章为观察者网独家稿件，作者观点不代表平台立场，并提醒读者关注其微信公众号以获取更多内容。\\n\\n这些主题和实体构成了本节的核心讨论点，涵盖了国际关系、经济政策、政治体制等多个方面。',\n",
       " 'section_summary': '本段内容主要围绕中巴关系、恐怖主义问题以及经济发展与反恐策略展开讨论。关键话题包括：\\n\\n1. **中巴合作**：强调了中国和巴基斯坦在政治、经济、贸易、国防、教育、科技等领域的良好合作关系，特别是在处理恐怖主义问题上的合作空间。\\n\\n2. **恐怖主义根源**：探讨了恐怖主义产生的复杂原因，如巴基斯坦的政治不稳定、经济状况不佳以及境外势力的渗透。\\n\\n3. **经济发展与反恐**：提出通过提升国民经济水平来减少贫困和恐怖主义的相关性，并强调铲除因贫困导致的铤而走险思想的重要性。\\n\\n4. **中巴关系的历史与稳定性**：分析了中巴关系的长期稳定性和巴基斯坦内部政治格局的变化对两国关系的影响，指出尽管高层领导更迭会影响政策连续性，但中巴友谊和民众利益不会改变。\\n\\n5. **恐怖主义应对策略**：提出需要一个综合性解决方案来应对恐怖主义问题，并强调提升国民生活水平的重要性。\\n\\n6. **多党制与政绩压力**：讨论了巴基斯坦多党制下执政党和在野党的政治竞争对政策实施的影响，以及这种现象短期内可能难以改变的情况。'}"
      ]
     },
     "execution_count": 24,
     "metadata": {},
     "output_type": "execute_result"
    }
   ],
   "source": [
    "nodes[3].metadata"
   ]
  },
  {
   "cell_type": "code",
   "execution_count": 25,
   "id": "cc3dd10a-e56c-4f60-bf5f-375ce779d73e",
   "metadata": {},
   "outputs": [
    {
     "data": {
      "text/plain": [
       "'[Excerpt from document]\\nfile_path: ../content-short.txt\\nfile_name: content-short.txt\\nfile_type: text/plain\\nfile_size: 11342\\ncreation_date: 2024-06-08\\nlast_modified_date: 2024-06-08\\nprev_section_summary: 本段内容主要围绕中巴关系、中国模式对巴基斯坦的借鉴、印度与周边国家的关系以及阿富汗局势对中巴关系的影响等几个关键主题展开。核心实体包括：\\n\\n1. **中巴关系**：讨论了中巴经济走廊的安全问题和反恐合作，强调恐怖主义作为国际现象对中巴关系的影响。\\n2. **中国模式**：提及中国模式对巴基斯坦的借鉴作用，特别是通过多次访华经历对中国深入了解后，希望在富强之路上得到中国的帮助。\\n3. **印度与周边国家的关系**：分析了印度与其邻国如尼泊尔、孟加拉国、缅甸、马尔代夫等之间的紧张关系和领土争端，以及印度的民族主义情绪对穆斯林群体的影响。\\n4. **阿富汗局势**：强调了阿富汗政治生态的修复对于稳定中巴关系的重要性，以及其作为四战之地的历史背景对中巴商贸对接可能产生的影响。\\n\\n这些主题和实体共同构成了关于地区外交、国家间合作与冲突、以及国际安全问题的一系列讨论。\\nnext_section_summary: 本节主要讨论了以下关键主题和实体：\\n\\n1. **巴基斯坦代表团访问中国**：去年12月15日，巴基斯坦电看守商务部长戈哈尔·埃贾兹率领代表团访问了中国。这一活动可能涉及经济合作、贸易交流等议题。\\n\\n2. **印度的工业化项目与自主可控制造业**：文章提到印度在推动各种工业项目，并强调制造业的自主性。同时指出印度面临极端天气影响，尤其是热浪导致的水电能源短缺问题，这不仅影响民用也波及工业领域。\\n\\n3. **印度与巴基斯坦面临的共同挑战**：讨论了两国在能源供应方面可能遇到的问题，特别是由于极端天气和工业污染带来的挑战。文章还提到了长期来看这些因素对印度经济的不利影响。\\n\\n4. **印度的历史外交策略**：分析了印度过去与苏联、现在与美国之间的关系变化，以及这种外交策略如何影响其国内政策和国际地位。\\n\\n5. **巴基斯坦的政治体制**：提到巴基斯坦在大选后的五年任期制度下，政府可能更侧重于解决短期问题，而对长期规划能力有限。文章特别提到了中国的民主集中制原则作为对比。\\n\\n6. **观察者网的立场与内容**：强调了文章为观察者网独家稿件，作者观点不代表平台立场，并提醒读者关注其微信公众号以获取更多内容。\\n\\n这些主题和实体构成了本节的核心讨论点，涵盖了国际关系、经济政策、政治体制等多个方面。\\nsection_summary: 本段内容主要围绕中巴关系、恐怖主义问题以及经济发展与反恐策略展开讨论。关键话题包括：\\n\\n1. **中巴合作**：强调了中国和巴基斯坦在政治、经济、贸易、国防、教育、科技等领域的良好合作关系，特别是在处理恐怖主义问题上的合作空间。\\n\\n2. **恐怖主义根源**：探讨了恐怖主义产生的复杂原因，如巴基斯坦的政治不稳定、经济状况不佳以及境外势力的渗透。\\n\\n3. **经济发展与反恐**：提出通过提升国民经济水平来减少贫困和恐怖主义的相关性，并强调铲除因贫困导致的铤而走险思想的重要性。\\n\\n4. **中巴关系的历史与稳定性**：分析了中巴关系的长期稳定性和巴基斯坦内部政治格局的变化对两国关系的影响，指出尽管高层领导更迭会影响政策连续性，但中巴友谊和民众利益不会改变。\\n\\n5. **恐怖主义应对策略**：提出需要一个综合性解决方案来应对恐怖主义问题，并强调提升国民生活水平的重要性。\\n\\n6. **多党制与政绩压力**：讨论了巴基斯坦多党制下执政党和在野党的政治竞争对政策实施的影响，以及这种现象短期内可能难以改变的情况。\\nExcerpt:\\n-----\\n恐怖分子是我们共同的敌人，所以我们应该要统一起来，齐心合力面对解决。\\n\\n中巴关系目前在各个领域的发展势头都很好，比如在政治、经济、贸易、国防、教育、科技各个领域等等，在处理恐怖分子的问题上，双方也有巨大的合作空间。两个国家都设有专门的反恐机构，就互换情报，技术升级等各个层面都有定期的沟通渠道。就恐怖主义本身来讲，其产生的根源值得探讨。巴基斯坦现在政治局势也不稳定，经济也比较差，在这样的情况下，容易诱发恐怖主义活动苗头。不少境外势力和情报组织都已经渗透到了巴基斯坦国内，例如CIA等，他们可能通过收买穷人良心的方式实施破坏性活动，我们需要一个针对性的综合性的解决方案。\\n\\n首先就是要不断提升国民经济水平，保证每个人都能吃饱饭，铲除因贫困而铤而走险的思想土壤。很多事实都一再证明了贫穷和恐怖主义有紧密的相关性。\\n\\n观察者网：中巴关系历久弥新。但前任巴基斯坦总理伊姆兰·汗施政方针曾被国内反对派批评较多。巴基斯坦确实存在不同的政治群体和利益集团，如何看这一点对两国关系的影响？\\n\\n扎米尔·艾哈迈德·阿旺：新中国成立以来，历任领导人都有自己的历史使命，要面临不同时代赋予的历史责任，但不管最高领导人是谁，都和巴基斯坦保持着高度互信的外交关系。但巴基斯坦最高层领导的更替影响了内政方针实施的连续性，而且领导人的更换也比中国要频繁的多，但我们必须要认识到，无论政坛高层人事布局如何变，执政党派如何变，但中巴老百姓之间的利益不会变，中巴友谊也不会变，这是个原则性问题。\\n\\n巴基斯坦顶层设计经常有变动，多党制制度下，每个执政党上台后也都面临政绩压力，和在野党会出现各种党争，这种现象恐怕短期内暂时无法改变。\\n\\n我相信最高领导职位的变动对两个国家间的感情不会造成什么影响。\\n-----'"
      ]
     },
     "execution_count": 25,
     "metadata": {},
     "output_type": "execute_result"
    }
   ],
   "source": [
    "nodes[3].get_content(metadata_mode=\"all\")"
   ]
  },
  {
   "cell_type": "code",
   "execution_count": 26,
   "id": "f0437dd0-293f-4c91-b256-2049dcaa7ad4",
   "metadata": {},
   "outputs": [
    {
     "data": {
      "text/plain": [
       "'恐怖分子是我们共同的敌人，所以我们应该要统一起来，齐心合力面对解决。\\n\\n中巴关系目前在各个领域的发展势头都很好，比如在政治、经济、贸易、国防、教育、科技各个领域等等，在处理恐怖分子的问题上，双方也有巨大的合作空间。两个国家都设有专门的反恐机构，就互换情报，技术升级等各个层面都有定期的沟通渠道。就恐怖主义本身来讲，其产生的根源值得探讨。巴基斯坦现在政治局势也不稳定，经济也比较差，在这样的情况下，容易诱发恐怖主义活动苗头。不少境外势力和情报组织都已经渗透到了巴基斯坦国内，例如CIA等，他们可能通过收买穷人良心的方式实施破坏性活动，我们需要一个针对性的综合性的解决方案。\\n\\n首先就是要不断提升国民经济水平，保证每个人都能吃饱饭，铲除因贫困而铤而走险的思想土壤。很多事实都一再证明了贫穷和恐怖主义有紧密的相关性。\\n\\n观察者网：中巴关系历久弥新。但前任巴基斯坦总理伊姆兰·汗施政方针曾被国内反对派批评较多。巴基斯坦确实存在不同的政治群体和利益集团，如何看这一点对两国关系的影响？\\n\\n扎米尔·艾哈迈德·阿旺：新中国成立以来，历任领导人都有自己的历史使命，要面临不同时代赋予的历史责任，但不管最高领导人是谁，都和巴基斯坦保持着高度互信的外交关系。但巴基斯坦最高层领导的更替影响了内政方针实施的连续性，而且领导人的更换也比中国要频繁的多，但我们必须要认识到，无论政坛高层人事布局如何变，执政党派如何变，但中巴老百姓之间的利益不会变，中巴友谊也不会变，这是个原则性问题。\\n\\n巴基斯坦顶层设计经常有变动，多党制制度下，每个执政党上台后也都面临政绩压力，和在野党会出现各种党争，这种现象恐怕短期内暂时无法改变。\\n\\n我相信最高领导职位的变动对两个国家间的感情不会造成什么影响。'"
      ]
     },
     "execution_count": 26,
     "metadata": {},
     "output_type": "execute_result"
    }
   ],
   "source": [
    "nodes[3].get_content()"
   ]
  },
  {
   "cell_type": "code",
   "execution_count": 27,
   "id": "6dcd3660-9ae7-4a27-a0c4-bf269ec9893f",
   "metadata": {},
   "outputs": [
    {
     "data": {
      "text/plain": [
       "'2fbb07f2-9d8f-4409-bb88-1246d3de0c9a'"
      ]
     },
     "execution_count": 27,
     "metadata": {},
     "output_type": "execute_result"
    }
   ],
   "source": [
    "nodes[3].id_"
   ]
  },
  {
   "cell_type": "code",
   "execution_count": null,
   "id": "9f7f47b1-7cf9-4743-8b2f-bb979b3ccc54",
   "metadata": {},
   "outputs": [],
   "source": []
  }
 ],
 "metadata": {
  "kernelspec": {
   "display_name": "Python 3 (ipykernel)",
   "language": "python",
   "name": "python3"
  },
  "language_info": {
   "codemirror_mode": {
    "name": "ipython",
    "version": 3
   },
   "file_extension": ".py",
   "mimetype": "text/x-python",
   "name": "python",
   "nbconvert_exporter": "python",
   "pygments_lexer": "ipython3",
   "version": "3.10.12"
  }
 },
 "nbformat": 4,
 "nbformat_minor": 5
}
