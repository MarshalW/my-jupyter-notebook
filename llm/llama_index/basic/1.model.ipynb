{
 "cells": [
  {
   "cell_type": "markdown",
   "id": "236cf506-7a43-43f9-976a-e64da2899b3d",
   "metadata": {},
   "source": [
    "# Model 的最基本使用"
   ]
  },
  {
   "cell_type": "markdown",
   "id": "a88e833e-b6d9-4cf3-8275-b7a0cfd436e5",
   "metadata": {},
   "source": [
    "## 设置 LLM"
   ]
  },
  {
   "cell_type": "code",
   "execution_count": 1,
   "id": "f6d4dcdc-e4ec-4997-bb82-e2be4df64a5f",
   "metadata": {},
   "outputs": [
    {
     "name": "stdout",
     "output_type": "stream",
     "text": [
      "CPU times: user 2.94 s, sys: 580 ms, total: 3.52 s\n",
      "Wall time: 4.63 s\n"
     ]
    }
   ],
   "source": [
    "%%time\n",
    "\n",
    "# 加载llm和embeddings\n",
    "%run ../utils2.py\n",
    "\n",
    "from llama_index.core import Settings\n",
    "\n",
    "# Settings.llm=get_llm(\"gpt-3.5-turbo\")\n",
    "Settings.llm=get_llm()"
   ]
  },
  {
   "cell_type": "markdown",
   "id": "b0f7cfec-b391-4ec6-952e-cb1cbbdaf251",
   "metadata": {},
   "source": [
    "## 对话 - complete"
   ]
  },
  {
   "cell_type": "code",
   "execution_count": 13,
   "id": "3276151b-9553-452a-8757-aeb1ed72ca31",
   "metadata": {},
   "outputs": [
    {
     "name": "stdout",
     "output_type": "stream",
     "text": [
      "我是通义千问，由阿里云开发的人工智能助手。我被设计用来回答各种问题、提供信息和与用户进行对话。有什么我可以帮助你的吗？\n",
      "CPU times: user 5.96 ms, sys: 240 µs, total: 6.2 ms\n",
      "Wall time: 988 ms\n"
     ]
    }
   ],
   "source": [
    "%%time\n",
    "\n",
    "completion = Settings.llm.complete(\"你谁啊\")\n",
    "print(completion)"
   ]
  },
  {
   "cell_type": "markdown",
   "id": "35bdac96-47eb-4c52-af9f-e80daa25197a",
   "metadata": {},
   "source": [
    "## tokenizer - 默认使用的OpenAI cl100k_base 可能不匹配开源模型"
   ]
  },
  {
   "cell_type": "code",
   "execution_count": 3,
   "id": "aa4cb893-f0aa-44a2-9f27-9b380e54d3e5",
   "metadata": {},
   "outputs": [
    {
     "name": "stdout",
     "output_type": "stream",
     "text": [
      "CPU times: user 229 ms, sys: 16.1 ms, total: 245 ms\n",
      "Wall time: 245 ms\n"
     ]
    },
    {
     "data": {
      "text/plain": [
       "functools.partial(<bound method Encoding.encode of <Encoding 'cl100k_base'>>, allowed_special='all')"
      ]
     },
     "execution_count": 3,
     "metadata": {},
     "output_type": "execute_result"
    }
   ],
   "source": [
    "%%time\n",
    "\n",
    "Settings.tokenizer"
   ]
  },
  {
   "cell_type": "markdown",
   "id": "b17c5dfb-263f-4964-bdb4-b8d745d27868",
   "metadata": {},
   "source": [
    "## 流式对话 - stream_complete"
   ]
  },
  {
   "cell_type": "markdown",
   "id": "21f42ed0-18f1-4adf-a4b3-25c9f6d60cc4",
   "metadata": {},
   "source": [
    "### 简单使用"
   ]
  },
  {
   "cell_type": "code",
   "execution_count": 8,
   "id": "dc6c92fc-d1de-43d6-ad72-eb0a83f13365",
   "metadata": {},
   "outputs": [
    {
     "name": "stdout",
     "output_type": "stream",
     "text": [
      "文氏图（Venn Diagram），也称为韦恩图，是由约翰·维纳于1880年发明的一种逻辑图表。它通过圆形或椭圆形的重叠区域来表示集合、类或概念之间的关系和相互间的交集。\n",
      "\n",
      "在文氏图中：\n",
      "- **圆圈**代表不同的集合或类别。\n",
      "- **重叠的部分**表示两个或多个集合之间的共同元素或属性。\n",
      "- **非重叠的部分**则表示每个单独集合独有的元素或属性。\n",
      "\n",
      "文氏图通常用于数学、逻辑学、统计学等领域，帮助人们直观地理解集合间的包含关系、并集、交集和补集等概念。它在教育中也广泛使用，作为教授逻辑、分类和比较不同概念的有效工具。CPU times: user 106 ms, sys: 4 ms, total: 110 ms\n",
      "Wall time: 5.56 s\n"
     ]
    }
   ],
   "source": [
    "%%time\n",
    "\n",
    "completions = Settings.llm.stream_complete(\"什么是文氏图？\")\n",
    "for completion in completions:\n",
    "    print(completion.delta, end=\"\")"
   ]
  },
  {
   "cell_type": "code",
   "execution_count": 10,
   "id": "a4b14beb-60a1-4751-b6b1-ed9a8c915a52",
   "metadata": {},
   "outputs": [
    {
     "name": "stdout",
     "output_type": "stream",
     "text": [
      "True\n"
     ]
    }
   ],
   "source": [
    "import inspect\n",
    "\n",
    "print(inspect.isgenerator(completions))"
   ]
  },
  {
   "cell_type": "markdown",
   "id": "8788a81a-9f01-4090-9f41-13c974d49a79",
   "metadata": {},
   "source": [
    "### 集成到ui库的使用"
   ]
  },
  {
   "cell_type": "code",
   "execution_count": 7,
   "id": "16396530-9ad3-4496-95a7-45fc02843f8b",
   "metadata": {},
   "outputs": [
    {
     "name": "stdout",
     "output_type": "stream",
     "text": [
      "CPU times: user 283 µs, sys: 48 µs, total: 331 µs\n",
      "Wall time: 317 µs\n"
     ]
    },
    {
     "data": {
      "text/plain": [
       "<generator object llm_completion_callback.<locals>.wrap.<locals>.wrapped_llm_predict.<locals>.wrapped_gen at 0x7f929b1d5310>"
      ]
     },
     "execution_count": 7,
     "metadata": {},
     "output_type": "execute_result"
    }
   ],
   "source": [
    "%%time\n",
    "\n",
    "streaming_response = Settings.llm.stream_complete(\"介绍下集合论？\")\n",
    "\n",
    "# 没有 response_gen ，无法和queryEgine方式统一行为\n",
    "# streaming_response.response_gen\n",
    "\n"
   ]
  },
  {
   "cell_type": "markdown",
   "id": "8024c1e8-80ee-4e6a-bf3c-16d8bdfc1d13",
   "metadata": {},
   "source": [
    "## 使用 chat"
   ]
  },
  {
   "cell_type": "code",
   "execution_count": 11,
   "id": "5759cad2-2ef8-4a52-816d-b9c2bf2f0b0a",
   "metadata": {},
   "outputs": [
    {
     "name": "stdout",
     "output_type": "stream",
     "text": [
      "assistant: 大数定理是概率论中的一个基本原理，它描述了在大量重复实验中，平均结果如何趋向于理论上的期望值。这个概念对于理解随机事件的长期行为和预测具有重要意义。\n",
      "\n",
      "### 伯努利大数定律（弱大数定律）\n",
      "\n",
      "伯努利大数定律是大数定理的一种形式，适用于独立、同分布的随机变量序列。具体来说：\n",
      "\n",
      "假设有一系列独立且同分布的随机变量 \\(X_1, X_2, \\ldots, X_n\\)，每个随机变量都有相同的期望值（均值）\\(\\mu\\) 和相同的标准差（方差）。如果我们将这些随机变量相加并除以样本数量 \\(n\\)，即计算平均数 \\(\\bar{X} = \\frac{1}{n}\\sum_{i=1}^{n} X_i\\)，那么随着 \\(n\\) 的增加，这个平均值会趋向于 \\(\\mu\\)。\n",
      "\n",
      "数学表达式为：\n",
      "\\[\n",
      "\\lim_{n \\to \\infty} P\\left(|\\bar{X} - \\mu| < \\epsilon\\right) = 1\n",
      "\\]\n",
      "其中 \\(\\epsilon > 0\\) 是任意小的正数。这意味着随着样本量 \\(n\\) 的增加，平均值 \\(\\bar{X}\\) 越来越接近期望值 \\(\\mu\\)。\n",
      "\n",
      "### 切比雪夫大数定律（强大数定律）\n",
      "\n",
      "切比雪夫大数定律是伯努利大数定律的加强版。它不仅描述了概率上的收敛性，还给出了一个更严格的条件下的收敛结果：\n",
      "\n",
      "如果 \\(X_1, X_2, \\ldots, X_n\\) 是独立同分布的随机变量，并且它们的期望值和方差都存在（即 \\(E[X_i] = \\mu\\) 和 \\(Var(X_i) = \\sigma^2 < \\infty\\)），那么对于任意正数 \\(\\epsilon > 0\\)，有：\n",
      "\\[\n",
      "\\lim_{n \\to \\infty} P(|\\bar{X} - \\mu| < \\epsilon) = 1\n",
      "\\]\n",
      "这意味着随着样本量 \\(n\\) 的增加，平均值 \\(\\bar{X}\\) 不仅概率上趋向于期望值 \\(\\mu\\)，而且几乎必然地（即概率为1）会接近 \\(\\mu\\)。\n",
      "\n",
      "### 应用\n",
      "\n",
      "大数定理在许多领域都有广泛的应用，包括但不限于：\n",
      "\n",
      "- **金融**：预测股票价格的长期平均行为。\n",
      "- **保险业**：估计理赔金额的总体趋势和风险评估。\n",
      "- **统计学**：样本均值如何代表总体均值。\n",
      "- **经济学**：分析经济指标的长期趋势。\n",
      "\n",
      "通过大数定理，我们可以对随机事件进行更准确的预测和决策制定。\n",
      "CPU times: user 7.84 ms, sys: 0 ns, total: 7.84 ms\n",
      "Wall time: 12.5 s\n"
     ]
    }
   ],
   "source": [
    "%%time\n",
    "\n",
    "from llama_index.core.llms import ChatMessage, MessageRole\n",
    "\n",
    "resp = Settings.llm.chat([\n",
    "        ChatMessage(\n",
    "            role=MessageRole.SYSTEM,\n",
    "            content=(\n",
    "                \"你是专业的数学家，在数学问题方面能给出即专业又通俗易懂而且还有条理的回答。\"\n",
    "            ),\n",
    "        ),\n",
    "        ChatMessage(role=MessageRole.USER, content=\"解释下大数定理\"),\n",
    "    ])\n",
    "\n",
    "print(resp)"
   ]
  },
  {
   "cell_type": "markdown",
   "id": "a9815c74-fa55-4129-a7b2-224fe937515f",
   "metadata": {},
   "source": [
    "## 参考"
   ]
  },
  {
   "cell_type": "markdown",
   "id": "0b34bdfd-7816-4c6e-a352-cc1c64c2ee8e",
   "metadata": {},
   "source": [
    "- [Component Guides - Using LLMs](https://docs.llamaindex.ai/en/stable/module_guides/models/llms/)\n",
    "- [API Reference - Openai like](https://docs.llamaindex.ai/en/stable/api_reference/llms/openai_like/)\n",
    "- [Component Guides - Using LLMs as standalone modules](https://docs.llamaindex.ai/en/stable/module_guides/models/llms/usage_standalone/)"
   ]
  },
  {
   "cell_type": "code",
   "execution_count": null,
   "id": "ef9070bd-3900-452f-ba2d-50b1aeb982c6",
   "metadata": {},
   "outputs": [],
   "source": []
  }
 ],
 "metadata": {
  "kernelspec": {
   "display_name": "Python 3 (ipykernel)",
   "language": "python",
   "name": "python3"
  },
  "language_info": {
   "codemirror_mode": {
    "name": "ipython",
    "version": 3
   },
   "file_extension": ".py",
   "mimetype": "text/x-python",
   "name": "python",
   "nbconvert_exporter": "python",
   "pygments_lexer": "ipython3",
   "version": "3.10.12"
  }
 },
 "nbformat": 4,
 "nbformat_minor": 5
}
