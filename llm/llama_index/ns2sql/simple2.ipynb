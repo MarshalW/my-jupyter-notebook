{
 "cells": [
  {
   "cell_type": "markdown",
   "id": "3518b15b-db1b-40f4-a34e-78e46275b45b",
   "metadata": {},
   "source": [
    "# 查询学校信息"
   ]
  },
  {
   "cell_type": "markdown",
   "id": "de47817f-e00d-4b07-ac60-bb80a377bd2d",
   "metadata": {},
   "source": [
    "## 准备"
   ]
  },
  {
   "cell_type": "code",
   "execution_count": 13,
   "id": "1b6af06d-c6c1-422f-8f71-6ac761bfab89",
   "metadata": {},
   "outputs": [
    {
     "name": "stdout",
     "output_type": "stream",
     "text": [
      "CPU times: user 1.36 ms, sys: 0 ns, total: 1.36 ms\n",
      "Wall time: 1.38 ms\n"
     ]
    }
   ],
   "source": [
    "%%time\n",
    "\n",
    "# 加载llm和embeddings\n",
    "%run ../utils2.py\n",
    "\n",
    "from llama_index.core import Settings\n",
    "\n",
    "# Settings.llm=get_llm('ERNIE-4.0-8K') # SQL报错，无法连接数据库，总之不可用\n",
    "# Settings.llm=get_llm('glm-4-flash') # 多处错误，不如qwen\n",
    "Settings.llm=get_llm('qwen-max') \n",
    "# Settings.llm=get_llm('qwen-turbo') # 不能很好的遵循提示，sql显示指定的数据列\n",
    "# Settings.llm=get_llm('qwen:14b') # 不如qwen2-7b，而且慢\n",
    "# Settings.llm=get_llm('yi:6b') # 大部分情况不如qwen2-7b，但是最后的sql显示指定的数据列是可以的\n",
    "# Settings.llm=get_llm(\"gpt-3.5-turbo\") # 通过测试，但有一些是英文\n",
    "# Settings.llm=get_llm() # qwen2-7b 不能很好的遵循提示，sql显示指定的数据列\n",
    "Settings.embed_model = get_embedding()"
   ]
  },
  {
   "cell_type": "code",
   "execution_count": 40,
   "id": "9d9b7778-948b-438c-b963-2078ddd3bbbf",
   "metadata": {},
   "outputs": [
    {
     "name": "stdout",
     "output_type": "stream",
     "text": [
      "CPU times: user 40 µs, sys: 5 µs, total: 45 µs\n",
      "Wall time: 47 µs\n"
     ]
    }
   ],
   "source": [
    "%%time\n",
    "\n",
    "import logging\n",
    "import sys\n",
    "\n",
    "logging.basicConfig(stream=sys.stdout, level=logging.DEBUG)\n",
    "logging.getLogger().addHandler(logging.StreamHandler(stream=sys.stdout))"
   ]
  },
  {
   "cell_type": "code",
   "execution_count": 14,
   "id": "b7668c6e-9792-440a-9c96-5ba8f833e010",
   "metadata": {},
   "outputs": [
    {
     "name": "stdout",
     "output_type": "stream",
     "text": [
      "CPU times: user 2.62 ms, sys: 0 ns, total: 2.62 ms\n",
      "Wall time: 2.23 ms\n"
     ]
    }
   ],
   "source": [
    "%%time\n",
    "\n",
    "# 建立连接和表\n",
    "from sqlalchemy import (\n",
    "    create_engine,\n",
    "    MetaData,\n",
    "    Table,\n",
    "    Column,\n",
    "    String,\n",
    "    Integer,\n",
    "    select,\n",
    ")\n",
    "\n",
    "engine = create_engine(\"sqlite:///:memory:\")\n",
    "metadata_obj = MetaData()\n",
    "\n",
    "# create city SQL table\n",
    "table_name = \"school_info\"\n",
    "school_info_table = Table(\n",
    "    table_name,\n",
    "    metadata_obj,\n",
    "    Column(\"school_name\", String(200), primary_key=True),\n",
    "    Column(\"students_enrolled\", Integer,nullable=False),\n",
    ")\n",
    "metadata_obj.create_all(engine)"
   ]
  },
  {
   "cell_type": "code",
   "execution_count": 15,
   "id": "b070f485-a4ba-4fe6-a807-c15b90276e16",
   "metadata": {},
   "outputs": [
    {
     "name": "stdout",
     "output_type": "stream",
     "text": [
      "CPU times: user 0 ns, sys: 3.37 ms, total: 3.37 ms\n",
      "Wall time: 2.98 ms\n"
     ]
    }
   ],
   "source": [
    "%%time\n",
    "\n",
    "from llama_index.core import SQLDatabase\n",
    "\n",
    "sql_database = SQLDatabase(engine, include_tables=[\"school_info\"])"
   ]
  },
  {
   "cell_type": "code",
   "execution_count": 16,
   "id": "e8d48991-6512-4eb4-97f5-42d1bfd8563f",
   "metadata": {},
   "outputs": [
    {
     "name": "stdout",
     "output_type": "stream",
     "text": [
      "CPU times: user 2.03 ms, sys: 970 µs, total: 3 ms\n",
      "Wall time: 2.59 ms\n"
     ]
    }
   ],
   "source": [
    "%%time\n",
    "\n",
    "from sqlalchemy import insert\n",
    "\n",
    "rows = [\n",
    "    {\"school_name\": \"北京市第八十中学\", \"students_enrolled\": 260},\n",
    "    {\"school_name\": \"北京市陈经纶中学\", \"students_enrolled\": 279},\n",
    "    {\"school_name\": \"北京市日坛中学\", \"students_enrolled\": 403},\n",
    "    {\"school_name\": \"中国人民大学附属中学朝阳学校\", \"students_enrolled\": 247},\n",
    "    {\"school_name\": \"北京工业大学附属中学\", \"students_enrolled\": 418},\n",
    "    {\"school_name\": \"北京中学\", \"students_enrolled\": 121},\n",
    "]\n",
    "for row in rows:\n",
    "    stmt = insert(school_info_table).values(**row)\n",
    "    with engine.begin() as connection:\n",
    "        cursor = connection.execute(stmt)"
   ]
  },
  {
   "cell_type": "code",
   "execution_count": 17,
   "id": "8f9511e1-2957-49ed-8c6f-61d56fca2d22",
   "metadata": {},
   "outputs": [
    {
     "name": "stdout",
     "output_type": "stream",
     "text": [
      "CPU times: user 0 ns, sys: 2.09 ms, total: 2.09 ms\n",
      "Wall time: 1.95 ms\n"
     ]
    },
    {
     "data": {
      "text/html": [
       "<div>\n",
       "<style scoped>\n",
       "    .dataframe tbody tr th:only-of-type {\n",
       "        vertical-align: middle;\n",
       "    }\n",
       "\n",
       "    .dataframe tbody tr th {\n",
       "        vertical-align: top;\n",
       "    }\n",
       "\n",
       "    .dataframe thead th {\n",
       "        text-align: right;\n",
       "    }\n",
       "</style>\n",
       "<table border=\"1\" class=\"dataframe\">\n",
       "  <thead>\n",
       "    <tr style=\"text-align: right;\">\n",
       "      <th></th>\n",
       "      <th>school_name</th>\n",
       "      <th>students_enrolled</th>\n",
       "    </tr>\n",
       "  </thead>\n",
       "  <tbody>\n",
       "    <tr>\n",
       "      <th>0</th>\n",
       "      <td>北京市第八十中学</td>\n",
       "      <td>260</td>\n",
       "    </tr>\n",
       "    <tr>\n",
       "      <th>1</th>\n",
       "      <td>北京市陈经纶中学</td>\n",
       "      <td>279</td>\n",
       "    </tr>\n",
       "    <tr>\n",
       "      <th>2</th>\n",
       "      <td>北京市日坛中学</td>\n",
       "      <td>403</td>\n",
       "    </tr>\n",
       "    <tr>\n",
       "      <th>3</th>\n",
       "      <td>中国人民大学附属中学朝阳学校</td>\n",
       "      <td>247</td>\n",
       "    </tr>\n",
       "    <tr>\n",
       "      <th>4</th>\n",
       "      <td>北京工业大学附属中学</td>\n",
       "      <td>418</td>\n",
       "    </tr>\n",
       "  </tbody>\n",
       "</table>\n",
       "</div>"
      ],
      "text/plain": [
       "      school_name  students_enrolled\n",
       "0        北京市第八十中学                260\n",
       "1        北京市陈经纶中学                279\n",
       "2         北京市日坛中学                403\n",
       "3  中国人民大学附属中学朝阳学校                247\n",
       "4      北京工业大学附属中学                418"
      ]
     },
     "execution_count": 17,
     "metadata": {},
     "output_type": "execute_result"
    }
   ],
   "source": [
    "%%time\n",
    "\n",
    "import pandas as pd\n",
    "\n",
    "df = pd.read_sql_query(\"SELECT * from school_info\", engine)\n",
    "df.head()"
   ]
  },
  {
   "cell_type": "markdown",
   "id": "78a68272-4337-48e5-bf83-b0761ad6bd51",
   "metadata": {},
   "source": [
    "## 基本查询"
   ]
  },
  {
   "cell_type": "code",
   "execution_count": 18,
   "id": "3d8c964f-6998-4e24-bc3d-9a3bee4af335",
   "metadata": {},
   "outputs": [
    {
     "name": "stdout",
     "output_type": "stream",
     "text": [
      "CPU times: user 56.9 ms, sys: 4.41 ms, total: 61.4 ms\n",
      "Wall time: 5.91 s\n"
     ]
    },
    {
     "data": {
      "text/plain": [
       "'招生最多的学校是北京工业大学附属中学。'"
      ]
     },
     "execution_count": 18,
     "metadata": {},
     "output_type": "execute_result"
    }
   ],
   "source": [
    "%%time\n",
    "\n",
    "from llama_index.core.query_engine import NLSQLTableQueryEngine\n",
    "\n",
    "query_engine = NLSQLTableQueryEngine(\n",
    "    sql_database=sql_database, tables=[\"school_info\"],\n",
    ")\n",
    "query_str = \"招生最多的是哪个学校?\"\n",
    "response = query_engine.query(query_str)\n",
    "\n",
    "response.response"
   ]
  },
  {
   "cell_type": "code",
   "execution_count": 19,
   "id": "12eb65c3-e61b-4969-90ac-4ef0e567bba1",
   "metadata": {},
   "outputs": [
    {
     "name": "stdout",
     "output_type": "stream",
     "text": [
      "CPU times: user 13.7 ms, sys: 307 µs, total: 14 ms\n",
      "Wall time: 6.39 s\n"
     ]
    },
    {
     "data": {
      "text/plain": [
       "'对不起，我没有找到关于\"陈经纶\"学校招收学生人数的相关信息。可能是学校名称有误或者信息暂未录入数据库，请您核实后再次询问。'"
      ]
     },
     "execution_count": 19,
     "metadata": {},
     "output_type": "execute_result"
    }
   ],
   "source": [
    "%%time\n",
    "\n",
    "response = query_engine.query(\"陈经纶招多少人?\")\n",
    "response.response"
   ]
  },
  {
   "cell_type": "markdown",
   "id": "30a836db-9ae2-4b13-be04-8ec9e13278ab",
   "metadata": {},
   "source": [
    "## 调整 text_to_sql_prompt"
   ]
  },
  {
   "cell_type": "code",
   "execution_count": 20,
   "id": "c1ec1ae8-25bb-439f-aee2-328b2f2d0847",
   "metadata": {},
   "outputs": [
    {
     "name": "stdout",
     "output_type": "stream",
     "text": [
      "CPU times: user 210 µs, sys: 0 ns, total: 210 µs\n",
      "Wall time: 213 µs\n"
     ]
    }
   ],
   "source": [
    "%%time\n",
    "\n",
    "from llama_index.core import PromptTemplate\n",
    "\n",
    "prompts = query_engine.get_prompts()\n",
    "\n",
    "new_prompt = PromptTemplate(\n",
    "\"关键字的查询使用like做全模糊查询，比如 school_name like '%keyword%'\\n\"\n",
    "\"\"\"\\\n",
    "Given an input question, first create a syntactically correct {dialect} query to run, then look at the results of the query and return the answer. You can order the results by a relevant column to return the most interesting examples in the database.\\n\\nNever query for all the columns from a specific table, only ask for a few relevant columns given the question.\\n\\nPay attention to use only the column names that you can see in the schema description. Be careful to not query for columns that do not exist. Pay attention to which column is in which table. Also, qualify column names with the table name when needed. You are required to use the following format, each taking one line:\\n\\nQuestion: Question here\\nSQLQuery: SQL Query to run\\nSQLResult: Result of the SQLQuery\\nAnswer: Final answer here\\n\\nOnly use tables listed below.\\n{schema}\\n\\nQuestion: {query_str}\\nSQLQuery: \"\"\"\n",
    ")\n",
    "\n",
    "query_engine.update_prompts({\"sql_retriever:text_to_sql_prompt\": new_prompt})"
   ]
  },
  {
   "cell_type": "code",
   "execution_count": 21,
   "id": "58288e41-3b8b-434c-a588-1d16e3157129",
   "metadata": {},
   "outputs": [
    {
     "name": "stdout",
     "output_type": "stream",
     "text": [
      "CPU times: user 13.1 ms, sys: 421 µs, total: 13.5 ms\n",
      "Wall time: 9.26 s\n"
     ]
    },
    {
     "data": {
      "text/plain": [
       "'很抱歉，我没有找到关于\"陈经纶\"学校招收学生人数的相关信息。可能是学校名称有误或者该数据暂未提供。请确认学校名称或稍后再次尝试。'"
      ]
     },
     "execution_count": 21,
     "metadata": {},
     "output_type": "execute_result"
    }
   ],
   "source": [
    "%%time\n",
    "\n",
    "response = query_engine.query(\"陈经纶招多少人?\")\n",
    "response.response"
   ]
  },
  {
   "cell_type": "markdown",
   "id": "20b75072-46e8-493e-93cb-f8d9b35d43b1",
   "metadata": {},
   "source": [
    "## 查询时表检索"
   ]
  },
  {
   "cell_type": "code",
   "execution_count": 22,
   "id": "e2c4071b-1046-4c37-bfe0-7c39554ce2d6",
   "metadata": {},
   "outputs": [
    {
     "name": "stdout",
     "output_type": "stream",
     "text": [
      "CPU times: user 22.1 ms, sys: 0 ns, total: 22.1 ms\n",
      "Wall time: 7.24 s\n"
     ]
    },
    {
     "data": {
      "text/plain": [
       "'招生最多的学校是北京工业大学附属中学，共招收了418名学生。'"
      ]
     },
     "execution_count": 22,
     "metadata": {},
     "output_type": "execute_result"
    }
   ],
   "source": [
    "%%time\n",
    "\n",
    "from llama_index.core.indices.struct_store.sql_query import (\n",
    "    SQLTableRetrieverQueryEngine,\n",
    ")\n",
    "from llama_index.core.objects import (\n",
    "    SQLTableNodeMapping,\n",
    "    ObjectIndex,\n",
    "    SQLTableSchema,\n",
    ")\n",
    "from llama_index.core import VectorStoreIndex\n",
    "\n",
    "table_node_mapping = SQLTableNodeMapping(sql_database)\n",
    "table_schema_objs = [\n",
    "    (SQLTableSchema(table_name=\"school_info\"))\n",
    "]  # add a SQLTableSchema for each table\n",
    "\n",
    "obj_index = ObjectIndex.from_objects(\n",
    "    table_schema_objs,\n",
    "    table_node_mapping,\n",
    "    VectorStoreIndex,\n",
    ")\n",
    "query_engine = SQLTableRetrieverQueryEngine(\n",
    "    sql_database, obj_index.as_retriever(similarity_top_k=1)\n",
    ")\n",
    "\n",
    "response = query_engine.query(\"招生最多的是哪个学校, 招多少?\")\n",
    "response.response"
   ]
  },
  {
   "cell_type": "code",
   "execution_count": 23,
   "id": "44850f9e-27e5-47d9-8aa7-645ee8eca3c5",
   "metadata": {},
   "outputs": [
    {
     "data": {
      "text/plain": [
       "'招生最多的前三个学校分别是：北京工业大学附属中学（418人），北京市日坛中学（403人），以及北京市陈经纶中学（279人）。'"
      ]
     },
     "execution_count": 23,
     "metadata": {},
     "output_type": "execute_result"
    }
   ],
   "source": [
    "response = query_engine.query(\"招生最多的是前三个学校?\")\n",
    "\n",
    "response.response"
   ]
  },
  {
   "cell_type": "markdown",
   "id": "baccf7e2-1b57-474d-8a58-3665ca28f715",
   "metadata": {},
   "source": [
    "## 文本到sql检索"
   ]
  },
  {
   "cell_type": "code",
   "execution_count": 24,
   "id": "21f3d660-beda-4a25-84c1-432b8ccfc986",
   "metadata": {},
   "outputs": [
    {
     "name": "stdout",
     "output_type": "stream",
     "text": [
      "CPU times: user 9.94 ms, sys: 282 µs, total: 10.2 ms\n",
      "Wall time: 13.5 s\n"
     ]
    },
    {
     "data": {
      "text/plain": [
       "[NodeWithScore(node=TextNode(id_='b6adbfc4-b5bb-4066-9f4f-ebe477a698f2', embedding=None, metadata={}, excluded_embed_metadata_keys=[], excluded_llm_metadata_keys=[], relationships={}, text=\"[('北京工业大学附属中学', 418), ('北京市日坛中学', 403), ('北京市陈经纶中学', 279)]\", start_char_idx=None, end_char_idx=None, text_template='{metadata_str}\\n\\n{content}', metadata_template='{key}: {value}', metadata_seperator='\\n'), score=None)]"
      ]
     },
     "execution_count": 24,
     "metadata": {},
     "output_type": "execute_result"
    }
   ],
   "source": [
    "%%time\n",
    "\n",
    "from llama_index.core.retrievers import NLSQLRetriever\n",
    "\n",
    "# default retrieval (return_raw=True)\n",
    "nl_sql_retriever = NLSQLRetriever(\n",
    "    sql_database, tables=[\"school_info\"], return_raw=True\n",
    ")\n",
    "\n",
    "results = nl_sql_retriever.retrieve(\n",
    "    \"招生最多的前三个学校?\"\n",
    ")\n",
    "\n",
    "results"
   ]
  },
  {
   "cell_type": "code",
   "execution_count": 25,
   "id": "074fc997-bc39-4db7-9f82-e49bb8dde7e1",
   "metadata": {},
   "outputs": [
    {
     "data": {
      "text/plain": [
       "[NodeWithScore(node=TextNode(id_='9c14136e-c88e-49fa-a4ba-7613ee6e2cbb', embedding=None, metadata={}, excluded_embed_metadata_keys=[], excluded_llm_metadata_keys=[], relationships={}, text=\"[('北京市陈经纶中学', 279)]\", start_char_idx=None, end_char_idx=None, text_template='{metadata_str}\\n\\n{content}', metadata_template='{key}: {value}', metadata_seperator='\\n'), score=None)]"
      ]
     },
     "execution_count": 25,
     "metadata": {},
     "output_type": "execute_result"
    }
   ],
   "source": [
    "results = nl_sql_retriever.retrieve(\n",
    "    \"北京市陈经纶中学招生人数是多少? 结果要包含学校名称\"\n",
    ")\n",
    "\n",
    "results"
   ]
  },
  {
   "cell_type": "code",
   "execution_count": 26,
   "id": "4e8e6a2d-77a5-4138-ae52-93fbbe0115d9",
   "metadata": {},
   "outputs": [
    {
     "name": "stdout",
     "output_type": "stream",
     "text": [
      "招生最多的三个学校分别是：北京工业大学附属中学，招生人数为418人；北京市日坛中学，招生人数为403人；以及北京市陈经纶中学，招生人数为279人。CPU times: user 23.4 ms, sys: 3.79 ms, total: 27.1 ms\n",
      "Wall time: 17.4 s\n"
     ]
    }
   ],
   "source": [
    "%%time\n",
    "\n",
    "from llama_index.core.query_engine import RetrieverQueryEngine\n",
    "\n",
    "query_engine = RetrieverQueryEngine.from_args(nl_sql_retriever, streaming=True)\n",
    "\n",
    "response = query_engine.query(\n",
    "    \"招生最多的三个学校? 要包括招生人数\"\n",
    ")\n",
    "\n",
    "response.print_response_stream()"
   ]
  },
  {
   "cell_type": "code",
   "execution_count": 27,
   "id": "a1de3957-62aa-458c-b6fd-d0ff8bc0abb5",
   "metadata": {},
   "outputs": [
    {
     "name": "stdout",
     "output_type": "stream",
     "text": [
      "对不起，根据我所了解的信息，无法提供北京市日坛中学具体的招生人数。请您直接联系学校获取最新和准确的招生信息。"
     ]
    }
   ],
   "source": [
    "response = query_engine.query(\n",
    "    \"北京市日坛中学招生人数是多少\"\n",
    ")\n",
    "\n",
    "response.print_response_stream()"
   ]
  },
  {
   "cell_type": "code",
   "execution_count": 32,
   "id": "9ee102cf-56ca-49d6-81fc-d2986185a180",
   "metadata": {},
   "outputs": [
    {
     "name": "stdout",
     "output_type": "stream",
     "text": [
      "CPU times: user 7.51 ms, sys: 0 ns, total: 7.51 ms\n",
      "Wall time: 4.14 s\n"
     ]
    },
    {
     "data": {
      "text/plain": [
       "[NodeWithScore(node=TextNode(id_='30210c4f-f35b-401a-803d-0c871f67b757', embedding=None, metadata={}, excluded_embed_metadata_keys=[], excluded_llm_metadata_keys=[], relationships={}, text='[]', start_char_idx=None, end_char_idx=None, text_template='{metadata_str}\\n\\n{content}', metadata_template='{key}: {value}', metadata_seperator='\\n'), score=None)]"
      ]
     },
     "execution_count": 32,
     "metadata": {},
     "output_type": "execute_result"
    }
   ],
   "source": [
    "%%time\n",
    "\n",
    "nl_sql_retriever.get_prompts()\n",
    "new_prompt = PromptTemplate(\n",
    "    \"关键字的查询使用like做全模糊查询，比如 school_name like '%keyword%'\\n\"\n",
    "    \"查询结果中始终包括学校名称（school_name）\"\n",
    "    \"查询结果要包括表的所有列\"\n",
    "\"\"\"\\\n",
    "Given an input question, first create a syntactically correct {dialect} query to run, then look at the results of the query and return the answer. You can order the results by a relevant column to return the most interesting examples in the database.\\n\\nQuery for all the columns from a specific table.\\n\\nPay attention to use only the column names that you can see in the schema description. Be careful to not query for columns that do not exist. Pay attention to which column is in which table. Also, qualify column names with the table name when needed. You are required to use the following format, each taking one line:\\n\\nQuestion: Question here\\nSQLQuery: SQL Query to run\\nSQLResult: Result of the SQLQuery\\nAnswer: Final answer here\\n\\nOnly use tables listed below.\\n{schema}\\n\\nQuestion: {query_str}\\nSQLQuery: \"\"\"    \n",
    ")\n",
    "nl_sql_retriever.update_prompts({\"text_to_sql_prompt\": new_prompt})\n",
    "\n",
    "results = nl_sql_retriever.retrieve(\n",
    "    \"陈经纶招生人数是多少? \"\n",
    ")\n",
    "\n",
    "results"
   ]
  },
  {
   "cell_type": "code",
   "execution_count": 29,
   "id": "6c7eb340-4c1e-47b3-8a84-314a4271d4b1",
   "metadata": {},
   "outputs": [
    {
     "name": "stdout",
     "output_type": "stream",
     "text": [
      "对不起，我没有找到关于陈经纶招生人数的具体信息。建议您直接咨询陈经纶学校或访问其官方网站获取最新和准确的招生信息。CPU times: user 19.1 ms, sys: 7.05 ms, total: 26.1 ms\n",
      "Wall time: 7.16 s\n"
     ]
    }
   ],
   "source": [
    "%%time\n",
    "\n",
    "query_engine = RetrieverQueryEngine.from_args(nl_sql_retriever, streaming=True)\n",
    "\n",
    "response = query_engine.query(\n",
    "    \"陈经纶招生人数是多少\"\n",
    ")\n",
    "\n",
    "response.print_response_stream()"
   ]
  },
  {
   "cell_type": "code",
   "execution_count": 30,
   "id": "7f8b1a2c-5bd2-4f59-82ac-0b5a6d4e9fc4",
   "metadata": {},
   "outputs": [
    {
     "name": "stdout",
     "output_type": "stream",
     "text": [
      "CPU times: user 7.34 ms, sys: 0 ns, total: 7.34 ms\n",
      "Wall time: 4.58 s\n"
     ]
    },
    {
     "data": {
      "text/plain": [
       "[NodeWithScore(node=TextNode(id_='e129aaec-827f-4fe9-89f5-3bd72660e205', embedding=None, metadata={}, excluded_embed_metadata_keys=[], excluded_llm_metadata_keys=[], relationships={}, text='[]', start_char_idx=None, end_char_idx=None, text_template='{metadata_str}\\n\\n{content}', metadata_template='{key}: {value}', metadata_seperator='\\n'), score=None)]"
      ]
     },
     "execution_count": 30,
     "metadata": {},
     "output_type": "execute_result"
    }
   ],
   "source": [
    "%%time\n",
    "\n",
    "\n",
    "results = nl_sql_retriever.retrieve(\n",
    "    \"陈经纶招生人数是多少\"\n",
    ")\n",
    "\n",
    "results"
   ]
  },
  {
   "cell_type": "code",
   "execution_count": 31,
   "id": "d0f62434-b9b9-4a58-adc8-b88e60875cee",
   "metadata": {},
   "outputs": [
    {
     "name": "stdout",
     "output_type": "stream",
     "text": [
      "对不起，我没有找到关于陈经纶招生人数的具体信息。建议您直接咨询陈经纶学校或访问其官方网站获取最新和准确的招生信息。CPU times: user 25 ms, sys: 278 µs, total: 25.3 ms\n",
      "Wall time: 7.59 s\n"
     ]
    }
   ],
   "source": [
    "%%time\n",
    "\n",
    "query_engine = RetrieverQueryEngine.from_args(nl_sql_retriever, streaming=True)\n",
    "\n",
    "response = query_engine.query(\n",
    "    \"陈经纶招生人数是多少\"\n",
    ")\n",
    "\n",
    "response.print_response_stream()"
   ]
  },
  {
   "cell_type": "code",
   "execution_count": null,
   "id": "fc290e46-8c24-4e95-b336-a01d8a269d8f",
   "metadata": {},
   "outputs": [],
   "source": []
  }
 ],
 "metadata": {
  "kernelspec": {
   "display_name": "Python 3 (ipykernel)",
   "language": "python",
   "name": "python3"
  },
  "language_info": {
   "codemirror_mode": {
    "name": "ipython",
    "version": 3
   },
   "file_extension": ".py",
   "mimetype": "text/x-python",
   "name": "python",
   "nbconvert_exporter": "python",
   "pygments_lexer": "ipython3",
   "version": "3.10.12"
  }
 },
 "nbformat": 4,
 "nbformat_minor": 5
}
