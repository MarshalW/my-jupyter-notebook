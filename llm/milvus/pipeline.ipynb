{
 "cells": [
  {
   "cell_type": "markdown",
   "id": "5bc04bfe-adce-40c4-b38b-36b3b566d5f6",
   "metadata": {},
   "source": [
    "# 使用 pipeline"
   ]
  },
  {
   "cell_type": "markdown",
   "id": "cdcc1e5e-326f-4f8b-a447-baf01e6c6e8c",
   "metadata": {},
   "source": [
    "参考： [\n",
    "An Introduction to LlamaIndex Query Pipelines](https://docs.llamaindex.ai/en/stable/examples/pipeline/query_pipeline)"
   ]
  },
  {
   "cell_type": "markdown",
   "id": "d94e66dd-02f6-409d-9f65-df799b449762",
   "metadata": {},
   "source": [
    "## 准备"
   ]
  },
  {
   "cell_type": "code",
   "execution_count": 1,
   "id": "12bf0da4-3ab3-412d-a1a2-48aab923c963",
   "metadata": {},
   "outputs": [
    {
     "name": "stdout",
     "output_type": "stream",
     "text": [
      "CPU times: user 3.53 s, sys: 540 ms, total: 4.07 s\n",
      "Wall time: 3.69 s\n"
     ]
    }
   ],
   "source": [
    "%%time\n",
    "\n",
    "from llama_index.core import SummaryIndex, Document\n",
    "from llama_index.core import Settings\n",
    "\n",
    "from llama_index.llms.openai_like import OpenAILike\n",
    "from llama_index.embeddings.ollama import OllamaEmbedding\n",
    "\n",
    "from milvus import default_server\n",
    "from pymilvus import connections, utility\n",
    "\n",
    "from llama_index.core import VectorStoreIndex, StorageContext\n",
    "from llama_index.core import (\n",
    "    SimpleDirectoryReader,\n",
    "    load_index_from_storage,\n",
    "    VectorStoreIndex,\n",
    "    StorageContext,\n",
    ")\n",
    "from llama_index.vector_stores.milvus import MilvusVectorStore\n",
    "\n",
    "from llama_index.core.llms import ChatMessage\n",
    "\n",
    "\n",
    "from llama_index.core.vector_stores import (\n",
    "    MetadataFilter,\n",
    "    MetadataFilters,\n",
    "    FilterOperator,\n",
    ")"
   ]
  },
  {
   "cell_type": "code",
   "execution_count": 2,
   "id": "4b14c040-cabd-4093-becb-14e0c72d39e0",
   "metadata": {},
   "outputs": [
    {
     "name": "stdout",
     "output_type": "stream",
     "text": [
      "CPU times: user 325 µs, sys: 0 ns, total: 325 µs\n",
      "Wall time: 329 µs\n"
     ]
    }
   ],
   "source": [
    "%%time\n",
    "\n",
    "import logging\n",
    "import sys\n",
    "\n",
    "# 设置系统日志，便于设置level排查\n",
    "\n",
    "logging.basicConfig(stream=sys.stdout, level=logging.INFO)\n",
    "logging.getLogger().addHandler(logging.StreamHandler(stream=sys.stdout))"
   ]
  },
  {
   "cell_type": "code",
   "execution_count": 3,
   "id": "777502d9-9918-4488-b674-85233eb136f6",
   "metadata": {},
   "outputs": [
    {
     "name": "stdout",
     "output_type": "stream",
     "text": [
      "CPU times: user 118 ms, sys: 7.82 ms, total: 125 ms\n",
      "Wall time: 125 ms\n"
     ]
    }
   ],
   "source": [
    "%%time\n",
    "\n",
    "# 初始化全局 llm\n",
    "\n",
    "llm = OpenAILike(model=\"xiaoyu\", \n",
    "                 api_base=\"http://192.168.0.72:3000/v1\", \n",
    "                 api_key=\"sk-bJP6QSnUfjAYeYeE505d3eBf63A643BeB0B8E350Df9b7750\",\n",
    "                 is_chat_model=True,\n",
    "                 temperature=0.5\n",
    "                )\n",
    "\n",
    "Settings.llm =llm"
   ]
  },
  {
   "cell_type": "code",
   "execution_count": 4,
   "id": "063fca77-c1fd-4c17-8b40-0fbc43c96512",
   "metadata": {},
   "outputs": [
    {
     "name": "stdout",
     "output_type": "stream",
     "text": [
      "CPU times: user 545 ms, sys: 24.1 ms, total: 569 ms\n",
      "Wall time: 568 ms\n"
     ]
    }
   ],
   "source": [
    "%%time\n",
    "\n",
    "# 初始化全局 embedding 模型\n",
    "\n",
    "ollama_embedding = OllamaEmbedding(\n",
    "    model_name=\"dztech/bge-large-zh:v1.5\",\n",
    "    # model_name=\"bge-m3:latest\",\n",
    "    base_url=\"http://192.168.0.72:11435\",\n",
    "    ollama_additional_kwargs={\"mirostat\": 0}, # -mirostat N 使用 Mirostat 采样。\n",
    ")\n",
    "\n",
    "Settings.embed_model = ollama_embedding"
   ]
  },
  {
   "cell_type": "code",
   "execution_count": 5,
   "id": "aa04a379-1829-4030-a310-d6a2a8a7e943",
   "metadata": {},
   "outputs": [
    {
     "data": {
      "text/plain": [
       "_Settings(_llm=OpenAILike(callback_manager=<llama_index.core.callbacks.base.CallbackManager object at 0x7f85553b64d0>, system_prompt=None, messages_to_prompt=<function messages_to_prompt at 0x7f861b2b8310>, completion_to_prompt=<function default_completion_to_prompt at 0x7f861b0e6b00>, output_parser=None, pydantic_program_mode=<PydanticProgramMode.DEFAULT: 'default'>, query_wrapper_prompt=None, model='xiaoyu', temperature=0.5, max_tokens=None, logprobs=None, top_logprobs=0, additional_kwargs={}, max_retries=3, timeout=60.0, default_headers=None, reuse_client=True, api_key='sk-bJP6QSnUfjAYeYeE505d3eBf63A643BeB0B8E350Df9b7750', api_base='http://192.168.0.72:3000/v1', api_version='', context_window=3900, is_chat_model=True, is_function_calling_model=False, tokenizer=None), _embed_model=OllamaEmbedding(model_name='dztech/bge-large-zh:v1.5', embed_batch_size=10, callback_manager=<llama_index.core.callbacks.base.CallbackManager object at 0x7f85553b64d0>, num_workers=None, base_url='http://192.168.0.72:11435', ollama_additional_kwargs={'mirostat': 0}), _callback_manager=<llama_index.core.callbacks.base.CallbackManager object at 0x7f85553b64d0>, _tokenizer=None, _node_parser=SentenceSplitter(include_metadata=True, include_prev_next_rel=True, callback_manager=<llama_index.core.callbacks.base.CallbackManager object at 0x7f85553b64d0>, id_func=<function default_id_func at 0x7f861b137250>, chunk_size=128, chunk_overlap=10, separator=' ', paragraph_separator='\\n\\n\\n', secondary_chunking_regex='[^,.;。？！]+[,.;。？！]?'), _prompt_helper=None, _transformations=None)"
      ]
     },
     "execution_count": 5,
     "metadata": {},
     "output_type": "execute_result"
    }
   ],
   "source": [
    "Settings.chunk_size=128\n",
    "Settings.chunk_overlap=10\n",
    "\n",
    "Settings"
   ]
  },
  {
   "cell_type": "code",
   "execution_count": 6,
   "id": "698dba6d-5586-48f2-b7c3-62a73f262f7d",
   "metadata": {},
   "outputs": [
    {
     "data": {
      "text/plain": [
       "1"
      ]
     },
     "execution_count": 6,
     "metadata": {},
     "output_type": "execute_result"
    }
   ],
   "source": [
    "\n",
    "from llama_index.core import SimpleDirectoryReader\n",
    "\n",
    "reader = SimpleDirectoryReader(input_files=[\"books1/孔乙己.txt\"])\n",
    "docs = reader.load_data()\n",
    "len(docs)"
   ]
  },
  {
   "cell_type": "code",
   "execution_count": 7,
   "id": "953fe2e7-2e43-4580-bc25-a6af040dbcba",
   "metadata": {
    "scrolled": true
   },
   "outputs": [
    {
     "data": {
      "text/plain": [
       "[Document(id_='87c8322d-b7a3-42e9-b5bd-96d313fc57ce', embedding=None, metadata={'file_path': 'books1/孔乙己.txt', 'file_name': '孔乙己.txt', 'file_type': 'text/plain', 'file_size': 10245, 'creation_date': '2024-05-10', 'last_modified_date': '2024-05-10'}, excluded_embed_metadata_keys=['file_name', 'file_type', 'file_size', 'creation_date', 'last_modified_date', 'last_accessed_date'], excluded_llm_metadata_keys=['file_name', 'file_type', 'file_size', 'creation_date', 'last_modified_date', 'last_accessed_date'], relationships={}, text='孔乙己⑴\\n\\n\\n\\n\\u3000\\u3000鲁镇的酒店的格局，是和别处不同的：都是当街一个曲尺形的大柜台，柜里面预备着热水，可以随时温酒。做工的人，傍午傍晚散了工，每每花四文铜钱，买一碗酒，——这是二十多年前的事，现在每碗要涨到十文，——靠柜外站着，热热的喝了休息；倘肯多花一文，便可以买一碟盐煮笋，或者茴香豆，做下酒物了，如果出到十几文，那就能买一样荤菜，但这些顾客，多是短衣帮，大抵没有这样阔绰。只有穿长衫的，才踱进店面隔壁的房子里，要酒要菜，慢慢地坐喝。\\n\\n\\u3000\\u3000我从十二岁起，便在镇口的咸亨酒店里当伙计，掌柜说，样子太傻，怕侍候不了长衫主顾，就在外面做点事罢。外面的短衣主顾，虽然容易说话，但唠唠叨叨缠夹不清的也很不少。他们往往要亲眼看着黄酒从坛子里舀出，看过壶子底里有水没有，又亲看将壶子放在热水里，然后放心：在这严重兼督下，羼水也很为难。所以过了几天，掌柜又说我干不了这事。幸亏荐头的情面大，辞退不得，便改为专管温酒的一种无聊职务了。\\n\\n\\u3000\\u3000我从此便整天的站在柜台里，专管我的职务。虽然没有什么失职，但总觉得有些单调，有些无聊。掌柜是一副凶脸孔，主顾也没有好声气，教人活泼不得；只有孔乙己到店，才可以笑几声，所以至今还记得。\\n\\n\\u3000\\u3000孔乙己是站着喝酒而穿长衫的唯一的人。他身材很高大；青白脸色，皱纹间时常夹些伤痕；一部乱蓬蓬的花白的胡子。穿的虽然是长衫，可是又脏又破，似乎十多年没有补，也没有洗。他对人说话，总是满口之乎者也，教人半懂不懂的。因为他姓孔，别人便从描红纸⑵上的“上大人孔乙己”这半懂不懂的话里，替他取下一个绰号，叫作孔乙己。孔乙己一到店，所有喝酒的人便都看着他笑，有的叫道，“孔乙己，你脸上又添上新伤疤了！”他不回答，对柜里说，“温两碗酒，要一碟茴香豆。”便排出九文大钱。他们又故意的高声嚷道，“你一定又偷了人家的东西了！”孔乙己睁大眼睛说，“你怎么这样凭空污人清白……”“什么清白？我前天亲眼见你偷了何家的书，吊着打。”孔乙己便涨红了脸，额上的青筋条条绽出，争辩道，“窃书不能算偷……窃书！……读书人的事，能算偷么？”接连便是难懂的话，什么“君子固穷”⑶，什么“者乎”之类，引得众人都哄笑起来：店内外充满了快活的空气。\\n\\n\\u3000\\u3000听人家背地里谈论，孔乙己原来也读过书，但终于没有进学⑷，又不会营生；于是愈过愈穷，弄到将要讨饭了。幸而写得一笔好字，便替人家钞钞书，换一碗饭吃。可惜他又有一样坏脾气，便是好吃懒做。坐不到几天，便连人和书籍纸张笔砚，一齐失踪。如是几次，叫他钞书的人也没有了。孔乙己没有法，便免不了偶然做些偷窃的事。但他在我们店里，品行却比别人都好，就是从不拖欠；虽然间或没有现钱，暂时记在粉板上，但不出一月，定然还清，从粉板上拭去了孔乙己的名字。\\n\\n\\u3000\\u3000孔乙己喝过半碗酒，涨红的脸色渐渐复了原，旁人便又问道，“孔乙己，你当真认识字么？”孔乙己看着问他的人，显出不屑置辩的神气。他们便接着说道，“你怎的连半个秀才也捞不到呢？”孔乙己立刻显出颓唐不安模样，脸上笼上了一层灰色，嘴里说些话；这回可是全是之乎者也之类，一些不懂了。在这时候，众人也都哄笑起来：店内外充满了快活的空气。\\n\\n\\u3000\\u3000在这些时候，我可以附和着笑，掌柜是决不责备的。而且掌柜见了孔乙己，也每每这样问他，引人发笑。孔乙己自己知道不能和他们谈天，便只好向孩子说话。有一回对我说道，“你读过书么？”我略略点一点头。他说，“读过书，……我便考你一考。茴香豆的茴字，怎样写的？”我想，讨饭一样的人，也配考我么？便回过脸去，不再理会。孔乙己等了许久，很恳切的说道，“不能写罢？……我教给你，记着！这些字应该记着。将来做掌柜的时候，写账要用。”我暗想我和掌柜的等级还很远呢，而且我们掌柜也从不将茴香豆上账；又好笑，又不耐烦，懒懒的答他道，“谁要你教，不是草头底下一个来回的回字么？”孔乙己显出极高兴的样子，将两个指头的长指甲敲着柜台，点头说，“对呀对呀！……回字有四样写法⑸，你知道么？”我愈不耐烦了，努着嘴走远。孔乙己刚用指甲蘸了酒，想在柜上写字，见我毫不热心，便又叹一口气，显出极惋惜的样子。\\n\\n\\u3000\\u3000有几回，邻居孩子听得笑声，也赶热闹，围住了孔乙己。他便给他*擒钕愣钩*，一人一颗。孩子吃完豆，仍然不散，眼睛都望着碟子。孔乙己着了慌，伸开五指将碟子罩住，弯腰下去说道，“不多了，我已经不多了。”直起身又看一看豆，自己摇头说，“不多不多！多乎哉？不多也。”⑹于是这一群孩子都在笑声里走散了。\\n\\n\\u3000\\u3000孔乙己是这样的使人快活，可是没有他，别人也便这么过。\\n\\n\\u3000\\u3000有一天，大约是中秋前的两三天，掌柜正在慢慢的结账，取下粉板，忽然说，“孔乙己长久没有来了。还欠十九个钱呢！”我才也觉得他的确长久没有来了。一个喝酒的人说道，“他怎么会来？……他打折了腿了。”掌柜说，“哦！”“他总仍旧是偷。这一回，是自己发昏，竟偷到丁举人家里去了。他家的东西，偷得的么？”“后来怎么样？”“怎么样？先写服辩⑺，后来是打，打了大半夜，再打折了腿。”“后来呢？”“后来打折了腿了。”“打折了怎样呢？”“怎样？……谁晓得？许是死了。”掌柜也不再问，仍然慢慢的算他的账。\\n\\n\\u3000\\u3000中秋之后，秋风是一天凉比一天，看看将近初冬；我整天的靠着火，也须穿上棉袄了。一天的下半天，没有一个顾客，我正合了眼坐着。忽然间听得一个声音，“温一碗酒。”这声音虽然极低，却很耳熟。看时又全没有人。站起来向外一望，那孔乙己便在柜台下对了门槛坐着。他脸上黑而且瘦，已经不成样子；穿一件破夹袄，盘着两腿，下面垫一个蒲包，用草绳在肩上挂住；见了我，又说道，“温一碗酒。”掌柜也伸出头去，一面说，“孔乙己么？你还欠十九个钱呢！”孔乙己很颓唐的仰面答道，“这……下回还清罢。这一回是现钱，酒要好。”掌柜仍然同平常一样，笑着对他说，“孔乙己，你又偷了东西了！”但他这回却不十分分辩，单说了一句“不要取笑！”“取笑？要是不偷，怎么会打断腿？”孔乙己低声说道，“跌断，跌，跌……”他的眼色，很像恳求掌柜，不要再提。此时已经聚集了几个人，便和掌柜都笑了。我温了酒，端出去，放在门槛上。他从破衣袋里摸出四文大钱，放在我手里，见他满手是泥，原来他便用这手走来的。不一会，他喝完酒，便又在旁人的说笑声中，坐着用这手慢慢走去了。\\n\\n\\u3000\\u3000自此以后，又长久没有看见孔乙己。到了年关，掌柜取下粉板说，“孔乙己还欠十九个钱呢！”到第二年的端午，又说“孔乙己还欠十九个钱呢！”到中秋可是没有说，再到年关也没有看见他。\\n\\n\\u3000\\u3000我到现在终于没有见——大约孔乙己的确死了。\\n\\n\\u3000\\u3000一九一九年三月。⑻\\n\\n\\u3000\\u3000□注释\\n\\n\\u3000\\u3000⑴本篇最初发表于一九一九年四月《新青年》第六卷第四号。发表时篇末有作者的附记如下：“这一篇很拙的小说，还是去年冬天做成的。那时的意思，单在描写社会上的或一种生活，请读者看看，并没有别的深意。但用活字排印了发表，却已在这时候，——便是忽然有人用了小说盛行人身攻击的时候。大抵著者走入暗路，每每能引读者的思想跟他堕落：以为小说是一种泼秽水的器具，里面糟蹋的是谁。这实在是一件极可叹可怜的事。所以我在此声明，免得发生猜度，害了读者的人格。一九一九年三月二十六日记。”\\n\\n\\u3000\\u3000⑵描红纸：一种印有红色楷字，供儿童摹写毛笔字用的字帖。旧时最通行的一种，印有“上大人孔（明代以前作丘）乙己化三千七十士尔小生八九子佳作仁可知礼也”这样一些笔划简单、三字一句和似通非通的文字。\\n\\n\\u3000\\u3000⑶“君子固穷”：语见《论语·卫灵公》。“固穷”即“固守其穷”，不以穷困而改便操守的意思。\\n\\n\\u3000\\u3000⑷进学：明清科举制度，童生经过县考初试，府考复试，再参加由学政主持的院考（道考），考取的列名府、县学籍，叫进学，也就成了秀才。又规定每三年举行一次乡试（省一级考试），由秀才或监生应考，取中的就是举人。\\n\\n\\u3000\\u3000⑸回字有四样写法：回字通常只有三种写法：回、〔外“冂”内“巳”〕、〔“面”之下部〕。第四种写作〔外“囗”内“目”〕（见《康熙字典·备考》），极少见。\\n\\n\\u3000\\u3000⑹“多乎哉？不多也”：语见《论语·子罕》：“大宰问于子贡曰：‘夫子圣者与？何其多能也！’子贡曰：‘固天纵之将圣，又多能也。’子闻之，曰：‘大宰知我乎？吾少也贱，故多能鄙事。’君子多乎哉？不多也。”这里与原意无关。\\n\\n\\u3000\\u3000⑺服辩：又作伏辩，即认罪书。\\n\\n\\u3000\\u3000⑻据本篇发表时的作者《附记》（见注1），本文当作于一九一八年冬天。按：本书各篇最初发表时都未署写作日期，现在篇末的日期为作者在编集时所补记。', start_char_idx=None, end_char_idx=None, text_template='{metadata_str}\\n\\n{content}', metadata_template='{key}: {value}', metadata_seperator='\\n')]"
      ]
     },
     "execution_count": 7,
     "metadata": {},
     "output_type": "execute_result"
    }
   ],
   "source": [
    "docs"
   ]
  },
  {
   "cell_type": "code",
   "execution_count": 8,
   "id": "a2b1b531-e82d-4bbc-873d-b8ed18f6bbbf",
   "metadata": {},
   "outputs": [
    {
     "name": "stdout",
     "output_type": "stream",
     "text": [
      "v2.3.5-lite\n",
      "CPU times: user 3.22 s, sys: 260 ms, total: 3.48 s\n",
      "Wall time: 7 s\n"
     ]
    },
    {
     "data": {
      "text/plain": [
       "19530"
      ]
     },
     "execution_count": 8,
     "metadata": {},
     "output_type": "execute_result"
    }
   ],
   "source": [
    "%%time\n",
    "\n",
    "# 启动milvus服务器\n",
    "\n",
    "default_server.set_base_dir('milvus_data')\n",
    "\n",
    "# (OPTIONAL) if you want cleanup previous data\n",
    "default_server.cleanup()\n",
    "\n",
    "# Start your milvus server\n",
    "default_server.start()\n",
    "\n",
    "# Now you could connect with localhost and the given port\n",
    "# Port is defined by default_server.listen_port\n",
    "connections.connect(host='127.0.0.1', port=default_server.listen_port)\n",
    "\n",
    "# Check if the server is ready.\n",
    "print(utility.get_server_version())\n",
    "\n",
    "# Stop your milvus server\n",
    "# default_server.stop()\n",
    "\n",
    "default_server.listen_port"
   ]
  },
  {
   "cell_type": "code",
   "execution_count": 9,
   "id": "daa59579-4da8-41c7-9d69-b65b54cf8cbc",
   "metadata": {},
   "outputs": [
    {
     "name": "stdout",
     "output_type": "stream",
     "text": [
      "DEBUG:pymilvus.milvus_client.milvus_client:Created new connection using: c3116a3d4951492d9030e2312d4b58cf\n",
      "Created new connection using: c3116a3d4951492d9030e2312d4b58cf\n",
      "DEBUG:pymilvus.milvus_client.milvus_client:Successfully created collection: llamacollection\n",
      "Successfully created collection: llamacollection\n",
      "DEBUG:pymilvus.milvus_client.milvus_client:Successfully created an index on collection: llamacollection\n",
      "Successfully created an index on collection: llamacollection\n",
      "CPU times: user 252 ms, sys: 15.6 ms, total: 268 ms\n",
      "Wall time: 12.2 s\n"
     ]
    }
   ],
   "source": [
    "%%time\n",
    "\n",
    "# 从文档建立索引\n",
    "\n",
    "vector_store = MilvusVectorStore(dim=1024, overwrite=True)\n",
    "storage_context = StorageContext.from_defaults(vector_store=vector_store)\n",
    "index = VectorStoreIndex.from_documents(\n",
    "    docs, storage_context=storage_context\n",
    ")"
   ]
  },
  {
   "cell_type": "markdown",
   "id": "5027c925-f4dc-43ab-a15c-55a765a37e4c",
   "metadata": {},
   "source": [
    "## pipeline: prompt>llm"
   ]
  },
  {
   "cell_type": "code",
   "execution_count": 10,
   "id": "ded4958a-de41-4e40-b123-fbcd52e3bee5",
   "metadata": {},
   "outputs": [
    {
     "name": "stdout",
     "output_type": "stream",
     "text": [
      "CPU times: user 77.9 ms, sys: 8.19 ms, total: 86.1 ms\n",
      "Wall time: 85.8 ms\n"
     ]
    }
   ],
   "source": [
    "%%time\n",
    "\n",
    "from llama_index.core.query_pipeline import QueryPipeline\n",
    "from llama_index.core import PromptTemplate\n",
    "\n",
    "prompt_str = \"生成与{movie_name}相关的电影\"\n",
    "prompt_tmpl = PromptTemplate(prompt_str)\n",
    "\n",
    "llm_c = llm.as_query_component(streaming=True)\n",
    "\n",
    "p = QueryPipeline(chain=[prompt_tmpl, llm_c], verbose=True)"
   ]
  },
  {
   "cell_type": "code",
   "execution_count": 11,
   "id": "5a5a8c5f-c679-4d6d-a29a-3fab8f5df9d5",
   "metadata": {},
   "outputs": [
    {
     "name": "stdout",
     "output_type": "stream",
     "text": [
      "\u001b[1;3;38;2;155;135;227m> Running module ec7f11a3-5941-4ae7-addc-f5af7dfafffc with input: \n",
      "movie_name: 无间道\n",
      "\n",
      "\u001b[0m\u001b[1;3;38;2;155;135;227m> Running module d73144da-1c1c-4785-82db-b7f83a7d3dad with input: \n",
      "messages: 生成与无间道相关的电影\n",
      "\n",
      "\u001b[0mINFO:httpx:HTTP Request: POST http://192.168.0.72:3000/v1/chat/completions \"HTTP/1.1 200 OK\"\n",
      "HTTP Request: POST http://192.168.0.72:3000/v1/chat/completions \"HTTP/1.1 200 OK\"\n",
      "一部与《无间道》风格相似的电影推荐是《盗亦有道》（又名《偷天陷阱》），它同样是由香港导演吴宇森执导，讲述了一段充满智斗和背叛的警匪故事。影片中两位主角之间错综复杂的身份反转和心理较量，充满了紧张刺激的剧情和出人意料的情节，与《无间道》系列有异曲同工之妙。这部电影由尼古拉斯·凯奇（Nicholas Cage）和安吉丽娜·朱莉（Angelina Jolie）主演，视觉效果和演员表现同样精彩。\n",
      "CPU times: user 189 ms, sys: 6.4 ms, total: 196 ms\n",
      "Wall time: 4.75 s\n"
     ]
    }
   ],
   "source": [
    "%%time\n",
    "\n",
    "output=p.run(movie_name=\"无间道\")\n",
    "for o in output:\n",
    "    print(o.delta, end=\"\")\n",
    "print()"
   ]
  },
  {
   "cell_type": "markdown",
   "id": "7a26d911-4e50-4f93-9668-0db5cf45be62",
   "metadata": {},
   "source": [
    "## pipeline: prompt>llm>prompt>embeddings"
   ]
  },
  {
   "cell_type": "code",
   "execution_count": 21,
   "id": "eb4a75b7-b7cc-4ed5-910a-cd223a5d0212",
   "metadata": {},
   "outputs": [
    {
     "name": "stdout",
     "output_type": "stream",
     "text": [
      "\u001b[1;3;38;2;155;135;227m> Running module 2c4285d2-ece7-4371-949f-29c5f0c383ce with input: \n",
      "topic: 喝酒\n",
      "\n",
      "\u001b[0m\u001b[1;3;38;2;155;135;227m> Running module 56f701da-9709-472f-8af4-ca6759ea5ff1 with input: \n",
      "messages: 请生成一个关于主题为喝酒的有关孔乙己生平的简明问题\n",
      "\n",
      "\u001b[0mINFO:httpx:HTTP Request: POST http://192.168.0.72:3000/v1/chat/completions \"HTTP/1.1 200 OK\"\n",
      "HTTP Request: POST http://192.168.0.72:3000/v1/chat/completions \"HTTP/1.1 200 OK\"\n",
      "\u001b[1;3;38;2;155;135;227m> Running module 4a05d6c3-d040-4e2a-9195-7c2bd7c4c28b with input: \n",
      "query_str: assistant: 孔乙己在日常生活中是否经常饮酒？\n",
      "\n",
      "\u001b[0m\u001b[1;3;38;2;155;135;227m> Running module d0a296f8-6053-4f6a-869c-eccd905593c1 with input: \n",
      "messages: 请写一段话来回答问题\n",
      "尝试包含尽可能多的关键细节。\n",
      "\n",
      "\n",
      "孔乙己在日常生活中是否经常饮酒？\n",
      "\n",
      "\n",
      "段落:\"\"\"\n",
      "\n",
      "\n",
      "\u001b[0mINFO:httpx:HTTP Request: POST http://192.168.0.72:3000/v1/chat/completions \"HTTP/1.1 200 OK\"\n",
      "HTTP Request: POST http://192.168.0.72:3000/v1/chat/completions \"HTTP/1.1 200 OK\"\n",
      "\u001b[1;3;38;2;155;135;227m> Running module 52ad970f-61c1-4075-824b-44b5a80c37bc with input: \n",
      "input: assistant: 孔乙己，这个形象出自鲁迅先生的短篇小说《孔乙己》，是一个生活在清朝末年的旧式文人。在小说中，孔乙己的生活状态被描绘为贫困而落魄，他的个性特征之一就是好喝酒。他经常出入当地的咸亨酒店，那里的酒是他生活中的慰藉和逃避现实的手段。然而，酒对于他来说并不只是简单的消遣，更深层次地反映了他内心的苦闷与无奈，以及那个时代的社会底层人物面对困境时的无力挣扎。他的饮酒行为常常伴随着他的悲剧命...\n",
      "\n",
      "\u001b[0mCPU times: user 115 ms, sys: 4.07 ms, total: 119 ms\n",
      "Wall time: 5.93 s\n"
     ]
    },
    {
     "data": {
      "text/plain": [
       "5"
      ]
     },
     "execution_count": 21,
     "metadata": {},
     "output_type": "execute_result"
    }
   ],
   "source": [
    "%%time\n",
    "\n",
    "# 生成有关主题的问题\n",
    "Prompt_str1=\"请生成一个关于主题为{topic}的有关孔乙己生平的简明问题\" \n",
    "prompt_tmpl1=PromptTemplate ( Prompt_str1 )\n",
    "\n",
    "# Prompt_tmpl1\n",
    "\n",
    "# use HyDE to hallucinate answer.\n",
    "prompt_str2 = (\n",
    "    \"请写一段话来回答问题\\n\"\n",
    "    \"尝试包含尽可能多的关键细节。\\n\"\n",
    "    \"\\n\"\n",
    "    \"\\n\"\n",
    "    \"{query_str}\\n\"\n",
    "    \"\\n\"\n",
    "    \"\\n\"\n",
    "    '段落:\"\"\"\\n'\n",
    ")\n",
    "prompt_tmpl2 = PromptTemplate(prompt_str2)\n",
    "\n",
    "retriever = index.as_retriever(similarity_top_k=5)\n",
    "\n",
    "p = QueryPipeline(\n",
    "    chain=[prompt_tmpl1, llm, prompt_tmpl2, llm, retriever], verbose=True\n",
    ")\n",
    "\n",
    "nodes = p.run(topic=\"喝酒\")\n",
    "len(nodes)"
   ]
  },
  {
   "cell_type": "code",
   "execution_count": 22,
   "id": "9aa1c968-0774-49a1-9c6e-6a7b03bd9a88",
   "metadata": {},
   "outputs": [
    {
     "name": "stdout",
     "output_type": "stream",
     "text": [
      "\u001b[1;3;38;2;155;135;227m> Running module 2c4285d2-ece7-4371-949f-29c5f0c383ce with input: \n",
      "topic: 喝酒\n",
      "\n",
      "\u001b[0m\u001b[1;3;38;2;155;135;227m> Running module 56f701da-9709-472f-8af4-ca6759ea5ff1 with input: \n",
      "messages: 请生成一个关于主题为喝酒的有关孔乙己生平的简明问题\n",
      "\n",
      "\u001b[0mINFO:httpx:HTTP Request: POST http://192.168.0.72:3000/v1/chat/completions \"HTTP/1.1 200 OK\"\n",
      "HTTP Request: POST http://192.168.0.72:3000/v1/chat/completions \"HTTP/1.1 200 OK\"\n",
      "\u001b[1;3;38;2;155;135;227m> Running module 4a05d6c3-d040-4e2a-9195-7c2bd7c4c28b with input: \n",
      "query_str: assistant: 问题： 孔乙己在小说中与酒有何关联？他的人生是否常围绕着饮酒？\n",
      "\n",
      "\u001b[0m\u001b[1;3;38;2;155;135;227m> Running module d0a296f8-6053-4f6a-869c-eccd905593c1 with input: \n",
      "messages: 请写一段话来回答问题\n",
      "尝试包含尽可能多的关键细节。\n",
      "\n",
      "\n",
      "问题： 孔乙己在小说中与酒有何关联？他的人生是否常围绕着饮酒？\n",
      "\n",
      "\n",
      "段落:\"\"\"\n",
      "\n",
      "\n",
      "\u001b[0mINFO:httpx:HTTP Request: POST http://192.168.0.72:3000/v1/chat/completions \"HTTP/1.1 200 OK\"\n",
      "HTTP Request: POST http://192.168.0.72:3000/v1/chat/completions \"HTTP/1.1 200 OK\"\n",
      "\u001b[1;3;38;2;155;135;227m> Running module 52ad970f-61c1-4075-824b-44b5a80c37bc with input: \n",
      "input: assistant: 孔乙己，这个鲁迅先生笔下《呐喊》中的经典人物，他的生活状态和形象深深地与酒联系在一起。小说中，孔乙己常常出现在酒店的柜台前，他那独特的穿着——又脏又破的长衫，以及他那“站着喝酒而穿长衫”的形象，成为了酒店里一道独特的风景线。酒，对于孔乙己而言，既是生活的慰藉，也是社会地位和贫困境遇的象征。\n",
      "\n",
      "他的生活似乎确实常围绕着酒，无论是作为逃避现实的手段，还是作为一种社交方式。他在酒馆...\n",
      "\n",
      "\u001b[0mCPU times: user 23.3 ms, sys: 1.68 ms, total: 25 ms\n",
      "Wall time: 10.7 s\n"
     ]
    },
    {
     "data": {
      "text/plain": [
       "5"
      ]
     },
     "execution_count": 22,
     "metadata": {},
     "output_type": "execute_result"
    }
   ],
   "source": [
    "%%time\n",
    "\n",
    "nodes = p.run(topic=\"喝酒\")\n",
    "len(nodes)"
   ]
  },
  {
   "cell_type": "markdown",
   "id": "6499bb13-dfb7-43fe-a55f-7689172d7a83",
   "metadata": {},
   "source": [
    "## 完整的 RAG pipeline"
   ]
  },
  {
   "cell_type": "code",
   "execution_count": 25,
   "id": "456f38f8-685e-4fcc-b08e-47b67d9aa47f",
   "metadata": {},
   "outputs": [
    {
     "name": "stdout",
     "output_type": "stream",
     "text": [
      "CPU times: user 1.38 s, sys: 1.13 s, total: 2.51 s\n",
      "Wall time: 7.76 s\n"
     ]
    }
   ],
   "source": [
    "%%time\n",
    "\n",
    "from llama_index.core.postprocessor import SentenceTransformerRerank\n",
    "\n",
    "reranker = SentenceTransformerRerank(model='/models/bge-reranker-v2-m3', top_n=5)"
   ]
  },
  {
   "cell_type": "code",
   "execution_count": 26,
   "id": "0231479f-842b-4680-a1fe-96edd94e6ff8",
   "metadata": {},
   "outputs": [
    {
     "name": "stdout",
     "output_type": "stream",
     "text": [
      "CPU times: user 193 µs, sys: 0 ns, total: 193 µs\n",
      "Wall time: 198 µs\n"
     ]
    }
   ],
   "source": [
    "%%time\n",
    "\n",
    "from llama_index.core.response_synthesizers import TreeSummarize\n",
    "\n",
    "# define modules\n",
    "prompt_str = \"请生成一个关于主题为{topic}的有关孔乙己生平的简明问题\"\n",
    "prompt_tmpl = PromptTemplate(prompt_str)\n",
    "retriever = index.as_retriever(similarity_top_k=3)\n",
    "summarizer = TreeSummarize(llm=llm)"
   ]
  },
  {
   "cell_type": "code",
   "execution_count": 27,
   "id": "c26f7f84-b5cd-4974-a5c6-a9efece79ea3",
   "metadata": {},
   "outputs": [
    {
     "name": "stdout",
     "output_type": "stream",
     "text": [
      "CPU times: user 268 µs, sys: 0 ns, total: 268 µs\n",
      "Wall time: 273 µs\n"
     ]
    }
   ],
   "source": [
    "%%time\n",
    "\n",
    "# define query pipeline\n",
    "p = QueryPipeline(verbose=True)\n",
    "p.add_modules(\n",
    "    {\n",
    "        \"llm\": llm,\n",
    "        \"prompt_tmpl\": prompt_tmpl,\n",
    "        \"retriever\": retriever,\n",
    "        \"summarizer\": summarizer,\n",
    "        \"reranker\": reranker,\n",
    "    }\n",
    ")"
   ]
  },
  {
   "cell_type": "code",
   "execution_count": 28,
   "id": "eece8265-64e6-4099-975b-570284d6ea6d",
   "metadata": {},
   "outputs": [
    {
     "name": "stdout",
     "output_type": "stream",
     "text": [
      "required_keys={'query_str', 'nodes'} optional_keys=set()\n",
      "CPU times: user 0 ns, sys: 163 µs, total: 163 µs\n",
      "Wall time: 167 µs\n"
     ]
    }
   ],
   "source": [
    "%%time\n",
    "\n",
    "p.add_link(\"prompt_tmpl\", \"llm\")\n",
    "p.add_link(\"llm\", \"retriever\")\n",
    "p.add_link(\"retriever\", \"reranker\", dest_key=\"nodes\")\n",
    "p.add_link(\"llm\", \"reranker\", dest_key=\"query_str\")\n",
    "p.add_link(\"reranker\", \"summarizer\", dest_key=\"nodes\")\n",
    "p.add_link(\"llm\", \"summarizer\", dest_key=\"query_str\")\n",
    "\n",
    "# look at summarizer input keys\n",
    "print(summarizer.as_query_component().input_keys)"
   ]
  },
  {
   "cell_type": "code",
   "execution_count": null,
   "id": "525aad0e-c6c3-41c8-a2ac-cf0c7099478c",
   "metadata": {},
   "outputs": [],
   "source": [
    "%%time\n",
    "%%capture\n",
    "\n",
    "!pip install pyvis"
   ]
  },
  {
   "cell_type": "code",
   "execution_count": 31,
   "id": "3c6be882-c97a-458c-84c9-ba09b87ccf66",
   "metadata": {},
   "outputs": [
    {
     "name": "stdout",
     "output_type": "stream",
     "text": [
      "rag_dag.html\n",
      "CPU times: user 55.2 ms, sys: 7.37 ms, total: 62.6 ms\n",
      "Wall time: 61.9 ms\n"
     ]
    },
    {
     "data": {
      "text/html": [
       "\n",
       "        <iframe\n",
       "            width=\"100%\"\n",
       "            height=\"600px\"\n",
       "            src=\"rag_dag.html\"\n",
       "            frameborder=\"0\"\n",
       "            allowfullscreen\n",
       "            \n",
       "        ></iframe>\n",
       "        "
      ],
      "text/plain": [
       "<IPython.lib.display.IFrame at 0x7f855282ef80>"
      ]
     },
     "execution_count": 31,
     "metadata": {},
     "output_type": "execute_result"
    }
   ],
   "source": [
    "%%time\n",
    "\n",
    "## create graph\n",
    "from pyvis.network import Network\n",
    "\n",
    "net = Network(notebook=True, cdn_resources=\"in_line\", directed=True)\n",
    "net.from_nx(p.dag)\n",
    "net.show(\"rag_dag.html\")"
   ]
  },
  {
   "cell_type": "markdown",
   "id": "cfbcdfe4-60d8-4db0-a819-e619a42cdee4",
   "metadata": {},
   "source": [
    "![pipeline](https://docs.llamaindex.ai/en/stable/_static/query/pipeline_rag_example.png)\n"
   ]
  },
  {
   "cell_type": "code",
   "execution_count": 32,
   "id": "c9b8875c-11c9-43bd-9633-b53a79c2f7cd",
   "metadata": {},
   "outputs": [
    {
     "name": "stdout",
     "output_type": "stream",
     "text": [
      "\u001b[1;3;38;2;155;135;227m> Running module prompt_tmpl with input: \n",
      "topic: 喝酒\n",
      "\n",
      "\u001b[0m\u001b[1;3;38;2;155;135;227m> Running module llm with input: \n",
      "messages: 请生成一个关于主题为喝酒的有关孔乙己生平的简明问题\n",
      "\n",
      "\u001b[0mINFO:httpx:HTTP Request: POST http://192.168.0.72:3000/v1/chat/completions \"HTTP/1.1 200 OK\"\n",
      "HTTP Request: POST http://192.168.0.72:3000/v1/chat/completions \"HTTP/1.1 200 OK\"\n",
      "\u001b[1;3;38;2;155;135;227m> Running module retriever with input: \n",
      "input: assistant: 问题： 孔乙己在小说中与酒有何关联？他如何通过饮酒来展现其性格特点或生活状态？\n",
      "\n",
      "\u001b[0m\u001b[1;3;38;2;155;135;227m> Running module reranker with input: \n",
      "query_str: assistant: 问题： 孔乙己在小说中与酒有何关联？他如何通过饮酒来展现其性格特点或生活状态？\n",
      "nodes: [NodeWithScore(node=TextNode(id_='215a3a90-ba1d-4ad4-a1ba-8aa14a1eb3b3', embedding=None, metadata={'file_path': 'books1/孔乙己.txt', 'file_name': '孔乙己.txt', 'file_type': 'text/plain', 'file_size': 10245,...\n",
      "\n",
      "\u001b[0m"
     ]
    },
    {
     "data": {
      "application/vnd.jupyter.widget-view+json": {
       "model_id": "4f719bee7026405b9ec418a17d694e7e",
       "version_major": 2,
       "version_minor": 0
      },
      "text/plain": [
       "Batches:   0%|          | 0/1 [00:00<?, ?it/s]"
      ]
     },
     "metadata": {},
     "output_type": "display_data"
    },
    {
     "name": "stdout",
     "output_type": "stream",
     "text": [
      "\u001b[1;3;38;2;155;135;227m> Running module summarizer with input: \n",
      "query_str: assistant: 问题： 孔乙己在小说中与酒有何关联？他如何通过饮酒来展现其性格特点或生活状态？\n",
      "nodes: [NodeWithScore(node=TextNode(id_='215a3a90-ba1d-4ad4-a1ba-8aa14a1eb3b3', embedding=None, metadata={'file_path': 'books1/孔乙己.txt', 'file_name': '孔乙己.txt', 'file_type': 'text/plain', 'file_size': 10245,...\n",
      "\n",
      "\u001b[0mINFO:httpx:HTTP Request: POST http://192.168.0.72:3000/v1/chat/completions \"HTTP/1.1 200 OK\"\n",
      "HTTP Request: POST http://192.168.0.72:3000/v1/chat/completions \"HTTP/1.1 200 OK\"\n",
      "CPU times: user 925 ms, sys: 119 ms, total: 1.04 s\n",
      "Wall time: 11.9 s\n"
     ]
    }
   ],
   "source": [
    "%%time\n",
    "\n",
    "response = p.run(topic=\"喝酒\")"
   ]
  },
  {
   "cell_type": "code",
   "execution_count": 33,
   "id": "e9bb318f-a4be-4e55-9ac6-bb4beecd0e49",
   "metadata": {},
   "outputs": [
    {
     "name": "stdout",
     "output_type": "stream",
     "text": [
      "孔乙己在鲁迅的小说《孔乙己》中，酒是他的生活常态和社交媒介。他经常喝半碗酒，这表明他经济状况并不宽裕，只能买得起最低廉的酒。当他涨红的脸色渐渐恢复时，旁人问及他的识字能力，他表现出不屑置辩的态度，这可能反映了他自尊心强但又不愿被人质疑的形象。酒馆里的喝酒场景，如花四文铜钱温酒、加价购买下酒物等，都揭示了他作为社会底层人物的生活状态和消费习惯，通过饮酒这一细节，孔乙己的穷困潦倒和孤苦伶仃的性格特征得以展现。\n"
     ]
    }
   ],
   "source": [
    "print(str(response))"
   ]
  },
  {
   "cell_type": "markdown",
   "id": "6648ff45-5c15-4a8b-b34c-d6f7a31e4fdd",
   "metadata": {},
   "source": [
    "## todo"
   ]
  },
  {
   "cell_type": "code",
   "execution_count": null,
   "id": "e62d1bec-e22e-426f-99e3-1fbac5f4495a",
   "metadata": {},
   "outputs": [],
   "source": [
    "- 使用 InputComponent 实现一个输入走不同的分支\n",
    "- 在 Query Pipeline 定义自己的组件"
   ]
  }
 ],
 "metadata": {
  "kernelspec": {
   "display_name": "Python 3 (ipykernel)",
   "language": "python",
   "name": "python3"
  },
  "language_info": {
   "codemirror_mode": {
    "name": "ipython",
    "version": 3
   },
   "file_extension": ".py",
   "mimetype": "text/x-python",
   "name": "python",
   "nbconvert_exporter": "python",
   "pygments_lexer": "ipython3",
   "version": "3.10.12"
  }
 },
 "nbformat": 4,
 "nbformat_minor": 5
}
