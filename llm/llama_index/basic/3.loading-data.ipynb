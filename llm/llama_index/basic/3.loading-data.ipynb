{
 "cells": [
  {
   "cell_type": "markdown",
   "id": "b7fd0f9d-03c9-4793-aebf-59adfc6f2208",
   "metadata": {},
   "source": [
    "# 加载数据"
   ]
  },
  {
   "cell_type": "markdown",
   "id": "600a0dc5-93d5-4a90-91fe-ed32384992fd",
   "metadata": {},
   "source": [
    "## 文档和节点"
   ]
  },
  {
   "cell_type": "markdown",
   "id": "b623231d-4525-4d28-9cdb-27bf4e020aba",
   "metadata": {},
   "source": [
    "### 文档 - Document"
   ]
  },
  {
   "cell_type": "markdown",
   "id": "85c7a8cc-b5c6-4fbe-983b-f1c075ef2f9d",
   "metadata": {},
   "source": [
    "#### 创建示例文档 - Document.example()"
   ]
  },
  {
   "cell_type": "code",
   "execution_count": 3,
   "id": "e387ddda-3161-447a-8702-05d15110335b",
   "metadata": {},
   "outputs": [
    {
     "name": "stdout",
     "output_type": "stream",
     "text": [
      "CPU times: user 103 µs, sys: 0 ns, total: 103 µs\n",
      "Wall time: 95.6 µs\n"
     ]
    },
    {
     "data": {
      "text/plain": [
       "Document(id_='a2e90ccb-ef46-4697-ab0a-a5c552739253', embedding=None, metadata={'filename': 'README.md', 'category': 'codebase'}, excluded_embed_metadata_keys=[], excluded_llm_metadata_keys=[], relationships={}, text='\\nContext\\nLLMs are a phenomenal piece of technology for knowledge generation and reasoning.\\nThey are pre-trained on large amounts of publicly available data.\\nHow do we best augment LLMs with our own private data?\\nWe need a comprehensive toolkit to help perform this data augmentation for LLMs.\\n\\nProposed Solution\\nThat\\'s where LlamaIndex comes in. LlamaIndex is a \"data framework\" to help\\nyou build LLM  apps. It provides the following tools:\\n\\nOffers data connectors to ingest your existing data sources and data formats\\n(APIs, PDFs, docs, SQL, etc.)\\nProvides ways to structure your data (indices, graphs) so that this data can be\\neasily used with LLMs.\\nProvides an advanced retrieval/query interface over your data:\\nFeed in any LLM input prompt, get back retrieved context and knowledge-augmented output.\\nAllows easy integrations with your outer application framework\\n(e.g. with LangChain, Flask, Docker, ChatGPT, anything else).\\nLlamaIndex provides tools for both beginner users and advanced users.\\nOur high-level API allows beginner users to use LlamaIndex to ingest and\\nquery their data in 5 lines of code. Our lower-level APIs allow advanced users to\\ncustomize and extend any module (data connectors, indices, retrievers, query engines,\\nreranking modules), to fit their needs.\\n', start_char_idx=None, end_char_idx=None, text_template='{metadata_str}\\n\\n{content}', metadata_template='{key}: {value}', metadata_seperator='\\n')"
      ]
     },
     "execution_count": 3,
     "metadata": {},
     "output_type": "execute_result"
    }
   ],
   "source": [
    "%%time\n",
    "\n",
    "from llama_index.core import Document\n",
    "\n",
    "document = Document.example()\n",
    "document"
   ]
  },
  {
   "cell_type": "code",
   "execution_count": 4,
   "id": "06d3b028-7d1c-4953-8ea8-e31c20022d8d",
   "metadata": {},
   "outputs": [
    {
     "data": {
      "text/plain": [
       "'\\nContext\\nLLMs are a phenomenal piece of technology for knowledge generation and reasoning.\\nThey are pre-trained on large amounts of publicly available data.\\nHow do we best augment LLMs with our own private data?\\nWe need a comprehensive toolkit to help perform this data augmentation for LLMs.\\n\\nProposed Solution\\nThat\\'s where LlamaIndex comes in. LlamaIndex is a \"data framework\" to help\\nyou build LLM  apps. It provides the following tools:\\n\\nOffers data connectors to ingest your existing data sources and data formats\\n(APIs, PDFs, docs, SQL, etc.)\\nProvides ways to structure your data (indices, graphs) so that this data can be\\neasily used with LLMs.\\nProvides an advanced retrieval/query interface over your data:\\nFeed in any LLM input prompt, get back retrieved context and knowledge-augmented output.\\nAllows easy integrations with your outer application framework\\n(e.g. with LangChain, Flask, Docker, ChatGPT, anything else).\\nLlamaIndex provides tools for both beginner users and advanced users.\\nOur high-level API allows beginner users to use LlamaIndex to ingest and\\nquery their data in 5 lines of code. Our lower-level APIs allow advanced users to\\ncustomize and extend any module (data connectors, indices, retrievers, query engines,\\nreranking modules), to fit their needs.\\n'"
      ]
     },
     "execution_count": 4,
     "metadata": {},
     "output_type": "execute_result"
    }
   ],
   "source": [
    "document.text"
   ]
  },
  {
   "cell_type": "code",
   "execution_count": 5,
   "id": "c14f8fa7-bf10-4edc-99be-79e042a9501e",
   "metadata": {},
   "outputs": [
    {
     "data": {
      "text/plain": [
       "{'filename': 'README.md', 'category': 'codebase'}"
      ]
     },
     "execution_count": 5,
     "metadata": {},
     "output_type": "execute_result"
    }
   ],
   "source": [
    "document.metadata"
   ]
  },
  {
   "cell_type": "markdown",
   "id": "0d7d9c12-adf5-43a5-81d7-7cd5ea2fe162",
   "metadata": {},
   "source": [
    "#### 通过目录加载文件 - SimpleDirectoryReader "
   ]
  },
  {
   "cell_type": "code",
   "execution_count": 8,
   "id": "96448980-1b41-4b0e-bffb-ca91302c2b15",
   "metadata": {},
   "outputs": [
    {
     "name": "stdout",
     "output_type": "stream",
     "text": [
      "total 1.3M\n",
      "-rw-r--r-- 1 root root  11K Jun 24 09:45 孔乙己.txt\n",
      "-rw-r--r-- 1 root root 1.3M Jun 24 09:45 量化CTA风格因子跟踪-本周市场高位震荡为主，风格倾向低贝.pdf\n",
      "CPU times: user 150 ms, sys: 7.85 ms, total: 158 ms\n",
      "Wall time: 264 ms\n"
     ]
    },
    {
     "data": {
      "text/plain": [
       "15"
      ]
     },
     "execution_count": 8,
     "metadata": {},
     "output_type": "execute_result"
    }
   ],
   "source": [
    "%%time\n",
    "\n",
    "!ls ./data -hl\n",
    "\n",
    "from llama_index.core import SimpleDirectoryReader\n",
    "\n",
    "documents = SimpleDirectoryReader(\"./data\").load_data()\n",
    "len(documents)"
   ]
  },
  {
   "cell_type": "code",
   "execution_count": 9,
   "id": "d787e92b-5f6b-4ac2-821a-0f22a7a99885",
   "metadata": {},
   "outputs": [
    {
     "data": {
      "text/plain": [
       "{'file_path': '/root/notebook/my-jupyter-notebook/llm/llama_index/basic/data/孔乙己.txt',\n",
       " 'file_name': '孔乙己.txt',\n",
       " 'file_type': 'text/plain',\n",
       " 'file_size': 10245,\n",
       " 'creation_date': '2024-06-24',\n",
       " 'last_modified_date': '2024-06-24'}"
      ]
     },
     "execution_count": 9,
     "metadata": {},
     "output_type": "execute_result"
    }
   ],
   "source": [
    "documents[0].metadata"
   ]
  },
  {
   "cell_type": "code",
   "execution_count": 10,
   "id": "25ca5ce8-5007-44d0-815e-ecc687541aac",
   "metadata": {},
   "outputs": [
    {
     "data": {
      "text/plain": [
       "{'page_label': '1',\n",
       " 'file_name': '量化CTA风格因子跟踪-本周市场高位震荡为主，风格倾向低贝.pdf',\n",
       " 'file_path': '/root/notebook/my-jupyter-notebook/llm/llama_index/basic/data/量化CTA风格因子跟踪-本周市场高位震荡为主，风格倾向低贝.pdf',\n",
       " 'file_type': 'application/pdf',\n",
       " 'file_size': 1302105,\n",
       " 'creation_date': '2024-06-24',\n",
       " 'last_modified_date': '2024-06-24'}"
      ]
     },
     "execution_count": 10,
     "metadata": {},
     "output_type": "execute_result"
    }
   ],
   "source": [
    "documents[1].metadata"
   ]
  },
  {
   "cell_type": "code",
   "execution_count": 11,
   "id": "7df252f6-6b6a-4af3-b292-22eda8e9143f",
   "metadata": {},
   "outputs": [
    {
     "data": {
      "text/plain": [
       "{'page_label': '2',\n",
       " 'file_name': '量化CTA风格因子跟踪-本周市场高位震荡为主，风格倾向低贝.pdf',\n",
       " 'file_path': '/root/notebook/my-jupyter-notebook/llm/llama_index/basic/data/量化CTA风格因子跟踪-本周市场高位震荡为主，风格倾向低贝.pdf',\n",
       " 'file_type': 'application/pdf',\n",
       " 'file_size': 1302105,\n",
       " 'creation_date': '2024-06-24',\n",
       " 'last_modified_date': '2024-06-24'}"
      ]
     },
     "execution_count": 11,
     "metadata": {},
     "output_type": "execute_result"
    }
   ],
   "source": [
    "documents[2].metadata"
   ]
  },
  {
   "cell_type": "markdown",
   "id": "714e6972-210c-4040-87d0-195e884700af",
   "metadata": {},
   "source": [
    "#### 加载指定文件 - SimpleDirectoryReader"
   ]
  },
  {
   "cell_type": "code",
   "execution_count": 32,
   "id": "beb34d8e-eb46-4a9a-b61c-c4c07373f1b2",
   "metadata": {},
   "outputs": [
    {
     "name": "stdout",
     "output_type": "stream",
     "text": [
      "CPU times: user 1.26 ms, sys: 149 µs, total: 1.4 ms\n",
      "Wall time: 1.3 ms\n"
     ]
    },
    {
     "data": {
      "text/plain": [
       "1"
      ]
     },
     "execution_count": 32,
     "metadata": {},
     "output_type": "execute_result"
    }
   ],
   "source": [
    "%%time\n",
    "\n",
    "documents = SimpleDirectoryReader(input_files=['./data/孔乙己.txt']).load_data()\n",
    "len(documents)"
   ]
  },
  {
   "cell_type": "code",
   "execution_count": 35,
   "id": "feb28669-be3f-49c3-abbb-566fd1aeeba3",
   "metadata": {},
   "outputs": [
    {
     "data": {
      "text/plain": [
       "'孔乙己⑴\\n\\n\\n\\n\\u3000\\u3000鲁镇的酒店的格局，是和别处不同的：都是当街一个曲尺形的大柜台，柜里面预备着热水，可以随时温酒。做工的人，傍午傍晚散了工，每每花四文铜钱，买一碗酒，——这是二十多年前的事，现在每碗要涨到十文，——靠柜外站着，热热的喝了休息；倘肯多花一文，'"
      ]
     },
     "execution_count": 35,
     "metadata": {},
     "output_type": "execute_result"
    }
   ],
   "source": [
    "documents[0].text[:128]"
   ]
  },
  {
   "cell_type": "markdown",
   "id": "7e7694f0-57c0-4bf4-9add-303ab893e73a",
   "metadata": {},
   "source": [
    "#### 手动创建文档对象"
   ]
  },
  {
   "cell_type": "code",
   "execution_count": 28,
   "id": "9125eab1-af76-4c50-ac9c-8829a10318fd",
   "metadata": {},
   "outputs": [
    {
     "name": "stdout",
     "output_type": "stream",
     "text": [
      "CPU times: user 101 µs, sys: 0 ns, total: 101 µs\n",
      "Wall time: 93.9 µs\n"
     ]
    },
    {
     "data": {
      "text/plain": [
       "{'filename': './content.txt', 'category': '材料学'}"
      ]
     },
     "execution_count": 28,
     "metadata": {},
     "output_type": "execute_result"
    }
   ],
   "source": [
    "%%time\n",
    "\n",
    "content=\"\"\"\n",
    "天然石墨烯指的是从天然石墨中提取或加工出来的石墨烯。石墨烯是一种由单层碳原子组成的二维材料，具有独特的物理和化学性质，如极高的导电性、热导率、机械强度和透光性。\n",
    "\"\"\"\n",
    "\n",
    "document = Document(\n",
    "    text=content,\n",
    "    metadata={\"filename\": \"./content.txt\", \"category\": \"材料学\"},\n",
    ")\n",
    "\n",
    "document.metadata"
   ]
  },
  {
   "cell_type": "markdown",
   "id": "1de6102d-963f-4cba-a796-7e5ababa53df",
   "metadata": {},
   "source": [
    "#### 设置 doc_id"
   ]
  },
  {
   "cell_type": "code",
   "execution_count": 13,
   "id": "c56b09d2-bb5e-4012-a5a7-a0b11871a8ab",
   "metadata": {},
   "outputs": [
    {
     "name": "stdout",
     "output_type": "stream",
     "text": [
      "CPU times: user 51 µs, sys: 0 ns, total: 51 µs\n",
      "Wall time: 52.7 µs\n"
     ]
    }
   ],
   "source": [
    "%%time\n",
    "\n",
    "document.doc_id = \"天然石墨烯\""
   ]
  },
  {
   "cell_type": "markdown",
   "id": "0f4cc9b1-e847-4bf1-8817-405ec51a3780",
   "metadata": {},
   "source": [
    "#### 自定义 LLM 元数据 - excluded_llm_metadata_keys"
   ]
  },
  {
   "cell_type": "code",
   "execution_count": 30,
   "id": "3865abbc-9186-4970-900e-b308e747891e",
   "metadata": {},
   "outputs": [
    {
     "name": "stdout",
     "output_type": "stream",
     "text": [
      "filename: ./content.txt\n",
      "category: 材料学\n",
      "\n",
      "\n",
      "天然石墨烯指的是从天然石墨中提取或加工出来的石墨烯。石墨烯是一种由单层碳原子组成的二维材料，具有独特的物理和化学性质，如极高的导电性、热导率、机械强度和透光性。\n"
     ]
    }
   ],
   "source": [
    "from llama_index.core.schema import MetadataMode\n",
    "\n",
    "print(document.get_content(metadata_mode=MetadataMode.LLM))"
   ]
  },
  {
   "cell_type": "code",
   "execution_count": 31,
   "id": "1d248136-71e5-4244-9522-af83e9f75b74",
   "metadata": {},
   "outputs": [
    {
     "name": "stdout",
     "output_type": "stream",
     "text": [
      "category: 材料学\n",
      "\n",
      "\n",
      "天然石墨烯指的是从天然石墨中提取或加工出来的石墨烯。石墨烯是一种由单层碳原子组成的二维材料，具有独特的物理和化学性质，如极高的导电性、热导率、机械强度和透光性。\n"
     ]
    }
   ],
   "source": [
    "document.excluded_llm_metadata_keys = [\"filename\"]\n",
    "print(document.get_content(metadata_mode=MetadataMode.LLM))"
   ]
  },
  {
   "cell_type": "markdown",
   "id": "02fa8a54-58c9-46ee-8b4e-99b9e8307f20",
   "metadata": {},
   "source": [
    "#### 自定义 Embedding 元数据"
   ]
  },
  {
   "cell_type": "code",
   "execution_count": 29,
   "id": "7a02990f-4b22-4908-b266-8569e76ad15f",
   "metadata": {},
   "outputs": [
    {
     "name": "stdout",
     "output_type": "stream",
     "text": [
      "filename: ./content.txt\n",
      "category: 材料学\n",
      "\n",
      "\n",
      "天然石墨烯指的是从天然石墨中提取或加工出来的石墨烯。石墨烯是一种由单层碳原子组成的二维材料，具有独特的物理和化学性质，如极高的导电性、热导率、机械强度和透光性。\n"
     ]
    }
   ],
   "source": [
    "print(document.get_content(metadata_mode=MetadataMode.EMBED))"
   ]
  },
  {
   "cell_type": "code",
   "execution_count": 27,
   "id": "7e839176-cb8f-4c19-8148-b7a795083d7d",
   "metadata": {},
   "outputs": [
    {
     "name": "stdout",
     "output_type": "stream",
     "text": [
      "category: 材料学\n",
      "\n",
      "\n",
      "天然石墨烯指的是从天然石墨中提取或加工出来的石墨烯。石墨烯是一种由单层碳原子组成的二维材料，具有独特的物理和化学性质，如极高的导电性、热导率、机械强度和透光性。\n"
     ]
    }
   ],
   "source": [
    "document.excluded_embed_metadata_keys = [\"filename\"]\n",
    "print(document.get_content(metadata_mode=MetadataMode.EMBED))"
   ]
  },
  {
   "cell_type": "markdown",
   "id": "642dd4a1-0266-4931-89c7-d1ddc9e18674",
   "metadata": {},
   "source": [
    "### 节点 - Node"
   ]
  },
  {
   "cell_type": "markdown",
   "id": "6939df74-09de-48fe-8c3a-87228e464860",
   "metadata": {},
   "source": [
    "#### 从文档解析出节点"
   ]
  },
  {
   "cell_type": "code",
   "execution_count": 69,
   "id": "b3d021fa-b859-48fb-aaaf-4ae59299ba81",
   "metadata": {},
   "outputs": [
    {
     "name": "stdout",
     "output_type": "stream",
     "text": [
      "CPU times: user 8.87 ms, sys: 92 µs, total: 8.97 ms\n",
      "Wall time: 8.57 ms\n"
     ]
    },
    {
     "data": {
      "text/plain": [
       "21"
      ]
     },
     "execution_count": 69,
     "metadata": {},
     "output_type": "execute_result"
    }
   ],
   "source": [
    "%%time\n",
    "from llama_index.core.node_parser import SentenceSplitter\n",
    "\n",
    "documents = SimpleDirectoryReader(input_files=['./data/孔乙己.txt']).load_data()\n",
    "parser = SentenceSplitter(\n",
    "    chunk_size=256,\n",
    "    chunk_overlap=20\n",
    ")\n",
    "nodes = parser.get_nodes_from_documents(documents)\n",
    "len(nodes)"
   ]
  },
  {
   "cell_type": "code",
   "execution_count": 70,
   "id": "61065d9b-17a3-4203-9056-a6ac45a017cb",
   "metadata": {},
   "outputs": [
    {
     "data": {
      "text/plain": [
       "'孔乙己⑴\\n\\n\\n\\n\\u3000\\u3000鲁镇的酒店的格局，是和别处不同的：都是当街一个曲尺形的大柜台，柜里面预备着热水，可以随时温酒。'"
      ]
     },
     "execution_count": 70,
     "metadata": {},
     "output_type": "execute_result"
    }
   ],
   "source": [
    "nodes[0].text"
   ]
  },
  {
   "cell_type": "code",
   "execution_count": 71,
   "id": "aa7d8fb0-b17a-425c-a96f-bbf5b81c4617",
   "metadata": {},
   "outputs": [
    {
     "data": {
      "text/plain": [
       "'做工的人，傍午傍晚散了工，每每花四文铜钱，买一碗酒，——这是二十多年前的事，现在每碗要涨到十文，——靠柜外站着，热热的喝了休息；倘肯多花一文，便可以买一碟盐煮笋，或者茴香豆，做下酒物了，如果出到十几文，那就能买一样荤菜，但这些顾客，多是短衣帮，大抵没有这样阔绰。只有穿长衫的，才踱进店面隔壁的房子里，要酒要菜，慢慢地坐喝。'"
      ]
     },
     "execution_count": 71,
     "metadata": {},
     "output_type": "execute_result"
    }
   ],
   "source": [
    "nodes[1].text"
   ]
  },
  {
   "cell_type": "markdown",
   "id": "59b0439b-8272-416c-b9e2-d31250154652",
   "metadata": {},
   "source": [
    "#### 手动创建节点"
   ]
  },
  {
   "cell_type": "code",
   "execution_count": 72,
   "id": "9e9d5d4e-f2aa-4cdb-9994-01682205f2f0",
   "metadata": {},
   "outputs": [
    {
     "name": "stdout",
     "output_type": "stream",
     "text": [
      "CPU times: user 112 µs, sys: 0 ns, total: 112 µs\n",
      "Wall time: 114 µs\n"
     ]
    },
    {
     "data": {
      "text/plain": [
       "TextNode(id_='node_1', embedding=None, metadata={}, excluded_embed_metadata_keys=[], excluded_llm_metadata_keys=[], relationships={<NodeRelationship.NEXT: '3'>: RelatedNodeInfo(node_id='node_2', node_type=None, metadata={}, hash=None)}, text='鲁镇的酒店的格局，是和别处不同的：都是当街一个曲尺形的大柜台，柜里面预备着热水，可以随时温酒。', start_char_idx=None, end_char_idx=None, text_template='{metadata_str}\\n\\n{content}', metadata_template='{key}: {value}', metadata_seperator='\\n')"
      ]
     },
     "execution_count": 72,
     "metadata": {},
     "output_type": "execute_result"
    }
   ],
   "source": [
    "%%time\n",
    "\n",
    "from llama_index.core.schema import TextNode, NodeRelationship, RelatedNodeInfo\n",
    "\n",
    "node1 = TextNode(text=\"鲁镇的酒店的格局，是和别处不同的：都是当街一个曲尺形的大柜台，柜里面预备着热水，可以随时温酒。\", id_=\"node_1\")\n",
    "node2 = TextNode(text=\"做工的人，傍午傍晚散了工，每每花四文铜钱，买一碗酒，——这是二十多年前的事，现在每碗要涨到十文，\", id_=\"node_2\")\n",
    "# set relationships\n",
    "node1.relationships[NodeRelationship.NEXT] = RelatedNodeInfo(\n",
    "    node_id=node2.node_id\n",
    ")\n",
    "node2.relationships[NodeRelationship.PREVIOUS] = RelatedNodeInfo(\n",
    "    node_id=node1.node_id\n",
    ")\n",
    "nodes = [node1, node2]\n",
    "\n",
    "node1"
   ]
  },
  {
   "cell_type": "markdown",
   "id": "c9cb87ba-8d9e-440a-9434-5435255a9bcd",
   "metadata": {},
   "source": [
    "#### 元数据提取"
   ]
  },
  {
   "cell_type": "markdown",
   "id": "e7a74c87-5ccc-422d-86ca-6444aa8f029e",
   "metadata": {},
   "source": [
    "##### 每节点摘要提取 - SummaryExtractor"
   ]
  },
  {
   "cell_type": "code",
   "execution_count": 75,
   "id": "e631cc11-079f-49cd-a7f0-05d04f6cfd54",
   "metadata": {},
   "outputs": [
    {
     "data": {
      "application/vnd.jupyter.widget-view+json": {
       "model_id": "dd8d06b396c34a77b6dee2c1861b33a3",
       "version_major": 2,
       "version_minor": 0
      },
      "text/plain": [
       "Parsing nodes:   0%|          | 0/1 [00:00<?, ?it/s]"
      ]
     },
     "metadata": {},
     "output_type": "display_data"
    },
    {
     "name": "stderr",
     "output_type": "stream",
     "text": [
      "100% 21/21 [00:46<00:00,  2.23s/it]"
     ]
    },
    {
     "name": "stdout",
     "output_type": "stream",
     "text": [
      "CPU times: user 221 ms, sys: 12.4 ms, total: 233 ms\n",
      "Wall time: 46.8 s\n"
     ]
    },
    {
     "name": "stderr",
     "output_type": "stream",
     "text": [
      "\n"
     ]
    }
   ],
   "source": [
    "%%time\n",
    "\n",
    "import nest_asyncio\n",
    "nest_asyncio.apply()\n",
    "\n",
    "# 加载llm和embeddings\n",
    "%run ../utils2.py\n",
    "\n",
    "from llama_index.core import Settings\n",
    "\n",
    "# Settings.llm=get_llm(\"gpt-3.5-turbo\")\n",
    "Settings.llm=get_llm()\n",
    "\n",
    "from llama_index.core.ingestion import IngestionPipeline\n",
    "from llama_index.core.extractors import (\n",
    "    SummaryExtractor,\n",
    ")\n",
    "\n",
    "documents = SimpleDirectoryReader(input_files=['./data/孔乙己.txt']).load_data()\n",
    "\n",
    "sentence_splitter = SentenceSplitter(\n",
    "    chunk_size=256,\n",
    "    chunk_overlap=20\n",
    ")\n",
    "summary_extractor=SummaryExtractor()\n",
    "\n",
    "\n",
    "pipeline = IngestionPipeline(\n",
    "    transformations=[sentence_splitter,summary_extractor]\n",
    ")\n",
    "\n",
    "nodes = pipeline.run(\n",
    "    documents=documents,\n",
    "    in_place=True,\n",
    "    show_progress=True,\n",
    ")\n",
    "\n"
   ]
  },
  {
   "cell_type": "code",
   "execution_count": 83,
   "id": "b2da6ea3-d3b2-4561-aa0a-859050786590",
   "metadata": {},
   "outputs": [
    {
     "data": {
      "text/plain": [
       "'这段内容主要描述了以下几个关键点和实体：\\n\\n1. **文件路径**：数据目录下的\"孔乙己.txt\"文件。\\n2. **文件名**：\"孔乙己.txt\"。\\n3. **文件类型**：纯文本（text/plain）。\\n4. **文件大小**：10,245字节。\\n5. **创建日期**：2024年6月24日。\\n6. **最后修改日期**：与创建日期相同，为2024年6月24日。\\n\\n内容主要围绕着对\"孔乙己\"这一角色的描述展开。其中提到了：\\n\\n- 孔乙己表现出高兴的样子，并提及回字有四种不同的写法（可能是指汉字“回”字的多种书写形式）。\\n- 描述了孔乙己与旁观者或参与者的互动，包括用酒和豆子作为奖励来吸引孩子的注意。\\n- 孩子们在看到孔乙己时会围过来，并从他那里获得小礼物（可能是糖或其他糖果），这表明孔乙己可能以某种方式向孩子们分发甜食。\\n\\n整体上，这段内容通过描述孔乙己的行为和与周围环境的互动，展现了一个特定场景下的角色特征和社会关系。'"
      ]
     },
     "execution_count": 83,
     "metadata": {},
     "output_type": "execute_result"
    }
   ],
   "source": [
    "nodes[10].metadata['section_summary']"
   ]
  },
  {
   "cell_type": "markdown",
   "id": "90fad075-0a5f-4a88-8a89-9ba261a01713",
   "metadata": {},
   "source": [
    "##### 多个节点的 TitleExtractor"
   ]
  },
  {
   "cell_type": "markdown",
   "id": "a0cd99f0-eb10-4e9e-b95e-26b117196f3c",
   "metadata": {},
   "source": [
    "如果是单一文档，标题会一直不变，即使设置为 `node=5`"
   ]
  },
  {
   "cell_type": "code",
   "execution_count": 105,
   "id": "b5dab561-6ac6-4055-8c41-3ad7a48d4f4f",
   "metadata": {},
   "outputs": [
    {
     "data": {
      "application/vnd.jupyter.widget-view+json": {
       "model_id": "65dc99319eac430a86f2cda0e29f656d",
       "version_major": 2,
       "version_minor": 0
      },
      "text/plain": [
       "Parsing nodes:   0%|          | 0/2 [00:00<?, ?it/s]"
      ]
     },
     "metadata": {},
     "output_type": "display_data"
    },
    {
     "name": "stderr",
     "output_type": "stream",
     "text": [
      "100% 5/5 [00:01<00:00,  3.47it/s]\n",
      "100% 5/5 [01:01<00:00, 12.34s/it]\n"
     ]
    },
    {
     "name": "stdout",
     "output_type": "stream",
     "text": [
      "CPU times: user 172 ms, sys: 7.45 ms, total: 180 ms\n",
      "Wall time: 1min 12s\n"
     ]
    }
   ],
   "source": [
    "%%time\n",
    "\n",
    "from llama_index.core.extractors import (\n",
    "    TitleExtractor\n",
    ")\n",
    "\n",
    "documents = SimpleDirectoryReader(input_files=['./data/news.txt', './data/故乡.txt']).load_data()\n",
    "\n",
    "title_extractor = TitleExtractor(nodes=5)\n",
    "\n",
    "pipeline = IngestionPipeline(\n",
    "    transformations=[sentence_splitter, title_extractor]\n",
    ")\n",
    "\n",
    "nodes = pipeline.run(\n",
    "    documents=documents,\n",
    "    in_place=True,\n",
    "    show_progress=True,\n",
    ")"
   ]
  },
  {
   "cell_type": "code",
   "execution_count": 108,
   "id": "3e85dc65-9e40-49fc-ba5f-19325f01d0db",
   "metadata": {},
   "outputs": [
    {
     "data": {
      "text/plain": [
       "'\"全球战略格局下的地缘政治博弈：南海问题、俄罗斯策略、乌克兰军事合作与美国外交应对\"\\n\\nThis comprehensive title encapsulates the various themes discussed in your list:\\n\\n1. **南海问题与俄罗斯策略的共鸣** - This part focuses on how Russia might align its interests with those of Southeast Asian nations concerning territorial disputes in the South China Sea, possibly through diplomatic or strategic cooperation.\\n\\n2. **俄罗斯舰队访问古巴：军事合作与战略考量解析** - Here, we delve into the implications of Russian naval presence in Cuba, examining both military alliances and geopolitical strategies involved.\\n\\n3. **西方国家解除对乌克兰使用其提供的武器系统的地域限制以应对俄罗斯的领土扩张** - This segment discusses Western countries\\' decisions to allow Ukraine to use provided weaponry beyond their borders as a response to Russia\\'s aggressive actions.\\n\\n4. **美乌军事合作升级：武器自由使用与跨境打击行动** - It explores the enhanced military cooperation between the US and Ukraine, particularly in terms of unrestricted weapon usage across international boundaries for defensive purposes.\\n\\n5. **拜登关于乌克兰武器使用指导的外交论述解析** - This part analyzes President Biden\\'s diplomatic strategies regarding Ukraine\\'s use of weapons, focusing on his guidance and its implications for international relations.\\n\\nOverall, this title highlights the complex interplay between regional conflicts, global powers\\' strategic responses, and international diplomacy in addressing contemporary security challenges.'"
      ]
     },
     "execution_count": 108,
     "metadata": {},
     "output_type": "execute_result"
    }
   ],
   "source": [
    "nodes[0].metadata['document_title']"
   ]
  },
  {
   "cell_type": "code",
   "execution_count": 109,
   "id": "12dff5b9-4b11-4460-a874-02ed04e8551c",
   "metadata": {},
   "outputs": [
    {
     "data": {
      "text/plain": [
       "'\"时光的印记：离别、变迁与重逢——从老屋到月下少年的记忆之旅\"\\n\\n这个综合标题涵盖了所有提供的内容点：\\n\\n1. \"时光的印记\"：强调了故事中时间流逝的概念，以及随着时间推移而发生的变化。\\n2. \"离别、变迁与重逢\"：概括了文本中的三个主要主题，即离开故乡、环境变化和再次相遇或团聚的情感体验。\\n3. \"从老屋到月下少年的记忆之旅\"：具体描述了故事的起点（老屋）和终点（月下少年），以及贯穿其中的是对记忆的探索和情感的连结。\\n\\n这个标题既包含了对个人经历的深入探讨，也体现了对家庭、故乡和时间流逝等普遍主题的关注。'"
      ]
     },
     "execution_count": 109,
     "metadata": {},
     "output_type": "execute_result"
    }
   ],
   "source": [
    "nodes[44].metadata['document_title']"
   ]
  },
  {
   "cell_type": "markdown",
   "id": "d86ab061-812b-4d4a-8ad1-6bb5965d2551",
   "metadata": {},
   "source": [
    "##### 文档问答提取 - QuestionsAnsweredExtractor"
   ]
  },
  {
   "cell_type": "code",
   "execution_count": 129,
   "id": "4b6e3ea3-bc2c-4ed0-bbba-a6faa5114c83",
   "metadata": {},
   "outputs": [
    {
     "data": {
      "application/vnd.jupyter.widget-view+json": {
       "model_id": "584545b5c0584a73b3796c399e5302e5",
       "version_major": 2,
       "version_minor": 0
      },
      "text/plain": [
       "Parsing nodes:   0%|          | 0/1 [00:00<?, ?it/s]"
      ]
     },
     "metadata": {},
     "output_type": "display_data"
    },
    {
     "name": "stderr",
     "output_type": "stream",
     "text": [
      "100% 19/19 [00:25<00:00,  1.32s/it]"
     ]
    },
    {
     "name": "stdout",
     "output_type": "stream",
     "text": [
      "CPU times: user 198 ms, sys: 8 ms, total: 206 ms\n",
      "Wall time: 25 s\n"
     ]
    },
    {
     "name": "stderr",
     "output_type": "stream",
     "text": [
      "\n"
     ]
    },
    {
     "data": {
      "text/plain": [
       "19"
      ]
     },
     "execution_count": 129,
     "metadata": {},
     "output_type": "execute_result"
    }
   ],
   "source": [
    "%%time\n",
    "\n",
    "from llama_index.core.extractors import (\n",
    "    QuestionsAnsweredExtractor,\n",
    ")\n",
    "\n",
    "sentence_splitter = SentenceSplitter(\n",
    "    chunk_size=256,\n",
    "    chunk_overlap=20\n",
    ")\n",
    "\n",
    "qa_extractor=QuestionsAnsweredExtractor(questions=3)\n",
    "\n",
    "pipeline = IngestionPipeline(\n",
    "    transformations=[sentence_splitter, qa_extractor]\n",
    ")\n",
    "\n",
    "documents = SimpleDirectoryReader(input_files=['./data/孔乙己.txt']).load_data()\n",
    "excluded=[\"file_name\",\n",
    "          \"file_path\",\n",
    "           \"file_type\",\"file_size\",\n",
    "           \"creation_date\",\n",
    "           \"last_modified_date\"]\n",
    "\n",
    "for document in documents:\n",
    "    document.excluded_llm_metadata_keys =excluded\n",
    "    document.excluded_embed_metadata_keys = excluded\n",
    "\n",
    "nodes = pipeline.run(\n",
    "    documents=documents,\n",
    "    in_place=True,\n",
    "    show_progress=True,\n",
    ")\n",
    "\n",
    "len(nodes)"
   ]
  },
  {
   "cell_type": "code",
   "execution_count": 128,
   "id": "ab2b3e72-5dd7-46d8-88d7-9a346bdfa94b",
   "metadata": {},
   "outputs": [
    {
     "data": {
      "text/plain": [
       "'1. **酒店的格局有何独特之处？** - 这段文本描述了鲁镇酒店的布局，特别指出都是当街设置一个曲尺形的大柜台，并且柜内备有热水供顾客温酒。这表明了当地酒店在空间设计上的特点和功能。\\n\\n2. **谁是酒店的主要顾客群体？** - 文本中提到的“短衣帮”指的是那些穿着非正式或廉价衣物的人，暗示他们可能是酒店的主要顾客群。这提供了关于鲁镇社会阶层划分的信息，以及人们根据着装选择消费场所的习惯。\\n\\n3. **酒的价格和购买力如何变化？** - 通过比较20多年前每碗酒只需四文铜钱与现在的十文，文本揭示了随着时间的推移，货币价值的变化和通货膨胀的情况。这不仅反映了经济变迁，还可能暗示了社会整体生活水平或消费习惯的演变。\\n\\n这些问题是基于对文本内容的深入理解而提出的，它们提供了关于鲁镇酒店布局、社会阶层以及经济状况的具体信息，这些信息在其他地方可能难以找到。'"
      ]
     },
     "execution_count": 128,
     "metadata": {},
     "output_type": "execute_result"
    }
   ],
   "source": [
    "nodes[0].metadata['questions_this_excerpt_can_answer']"
   ]
  },
  {
   "cell_type": "markdown",
   "id": "f5795027-d051-4f13-ad4c-c1931a768a1c",
   "metadata": {},
   "source": [
    "##### 提取节点的关键字 - KeywordExtractor"
   ]
  },
  {
   "cell_type": "code",
   "execution_count": 150,
   "id": "16d815e9-26ac-4ada-96df-020b409c714e",
   "metadata": {},
   "outputs": [
    {
     "data": {
      "application/vnd.jupyter.widget-view+json": {
       "model_id": "d6b53dbac38244f7bb7aa682a17129e3",
       "version_major": 2,
       "version_minor": 0
      },
      "text/plain": [
       "Parsing nodes:   0%|          | 0/1 [00:00<?, ?it/s]"
      ]
     },
     "metadata": {},
     "output_type": "display_data"
    },
    {
     "name": "stderr",
     "output_type": "stream",
     "text": [
      "100% 21/21 [00:05<00:00,  3.84it/s]"
     ]
    },
    {
     "name": "stdout",
     "output_type": "stream",
     "text": [
      "CPU times: user 213 ms, sys: 4.76 ms, total: 218 ms\n",
      "Wall time: 5.49 s\n"
     ]
    },
    {
     "name": "stderr",
     "output_type": "stream",
     "text": [
      "\n"
     ]
    },
    {
     "data": {
      "text/plain": [
       "21"
      ]
     },
     "execution_count": 150,
     "metadata": {},
     "output_type": "execute_result"
    }
   ],
   "source": [
    "%%time\n",
    "\n",
    "\n",
    "from llama_index.core.extractors import (\n",
    "    KeywordExtractor,\n",
    ")\n",
    "\n",
    "documents = SimpleDirectoryReader(input_files=['./data/孔乙己.txt']).load_data()\n",
    "\n",
    "sentence_splitter = SentenceSplitter(\n",
    "    chunk_size=256,\n",
    "    chunk_overlap=20\n",
    ")\n",
    "\n",
    "keyword_extractor=KeywordExtractor(keywords=3)\n",
    "\n",
    "pipeline = IngestionPipeline(\n",
    "    transformations=[sentence_splitter, keyword_extractor]\n",
    ")\n",
    "\n",
    "nodes = pipeline.run(\n",
    "    documents=documents,\n",
    "    in_place=True,\n",
    "    show_progress=True,\n",
    ")\n",
    "\n",
    "len(nodes)"
   ]
  },
  {
   "cell_type": "code",
   "execution_count": 151,
   "id": "e452c674-84fe-41af-8473-86c6d33600a7",
   "metadata": {},
   "outputs": [
    {
     "data": {
      "text/plain": [
       "'喝酒的人, 打折了腿, 丁举人'"
      ]
     },
     "execution_count": 151,
     "metadata": {},
     "output_type": "execute_result"
    }
   ],
   "source": [
    "nodes[12].metadata['excerpt_keywords']"
   ]
  },
  {
   "cell_type": "markdown",
   "id": "f81089eb-340e-4e59-b3c8-ece807093003",
   "metadata": {},
   "source": [
    "##### 提取实体信息 - EntityExtractor"
   ]
  },
  {
   "cell_type": "markdown",
   "id": "f70ebd93-8c33-4556-984b-4379a9cdcf9d",
   "metadata": {},
   "source": [
    "没有提取到任何信息。"
   ]
  },
  {
   "cell_type": "code",
   "execution_count": 158,
   "id": "2ed2bbeb-d00c-4503-b78c-92fecd057470",
   "metadata": {},
   "outputs": [
    {
     "data": {
      "application/vnd.jupyter.widget-view+json": {
       "model_id": "806dc1d74bfd40ec8fe13e87adf60166",
       "version_major": 2,
       "version_minor": 0
      },
      "text/plain": [
       "Parsing nodes:   0%|          | 0/1 [00:00<?, ?it/s]"
      ]
     },
     "metadata": {},
     "output_type": "display_data"
    },
    {
     "data": {
      "application/vnd.jupyter.widget-view+json": {
       "model_id": "a24d1ef3c8c946fc92213f5784b70ab1",
       "version_major": 2,
       "version_minor": 0
      },
      "text/plain": [
       "Extracting entities:   0%|          | 0/22 [00:00<?, ?it/s]"
      ]
     },
     "metadata": {},
     "output_type": "display_data"
    },
    {
     "name": "stdout",
     "output_type": "stream",
     "text": [
      "CPU times: user 2.24 s, sys: 269 ms, total: 2.51 s\n",
      "Wall time: 32.1 s\n"
     ]
    },
    {
     "data": {
      "text/plain": [
       "22"
      ]
     },
     "execution_count": 158,
     "metadata": {},
     "output_type": "execute_result"
    }
   ],
   "source": [
    "%%time\n",
    "\n",
    "from llama_index.extractors.entity import EntityExtractor\n",
    "from llama_index.core.node_parser import SentenceSplitter\n",
    "\n",
    "documents = SimpleDirectoryReader(input_files=['./data/news.txt']).load_data()\n",
    "\n",
    "sentence_splitter = SentenceSplitter(\n",
    "    chunk_size=256,\n",
    "    chunk_overlap=20\n",
    ")\n",
    "\n",
    "entity_extractor = EntityExtractor(\n",
    "    prediction_threshold=0.5,\n",
    "    label_entities=True,  # include the entity label in the metadata (can be erroneous)\n",
    "    device=\"cuda\",  # set to \"cuda\" if you have a GPU\n",
    ")\n",
    "\n",
    "pipeline = IngestionPipeline(\n",
    "    transformations=[sentence_splitter, entity_extractor]\n",
    ")\n",
    "\n",
    "nodes = pipeline.run(\n",
    "    documents=documents,\n",
    "    in_place=True,\n",
    "    show_progress=True,\n",
    ")\n",
    "\n",
    "len(nodes)"
   ]
  },
  {
   "cell_type": "code",
   "execution_count": 159,
   "id": "ac285a87-577a-487f-b392-d69ef02557ab",
   "metadata": {},
   "outputs": [
    {
     "data": {
      "text/plain": [
       "TextNode(id_='2f477e8c-423c-4d14-a85e-58d724b33f1d', embedding=None, metadata={'file_path': 'data/news.txt', 'file_name': 'news.txt', 'file_type': 'text/plain', 'file_size': 11203, 'creation_date': '2024-06-24', 'last_modified_date': '2024-06-24'}, excluded_embed_metadata_keys=['file_name', 'file_type', 'file_size', 'creation_date', 'last_modified_date', 'last_accessed_date'], excluded_llm_metadata_keys=['file_name', 'file_type', 'file_size', 'creation_date', 'last_modified_date', 'last_accessed_date'], relationships={<NodeRelationship.SOURCE: '1'>: RelatedNodeInfo(node_id='a55e6190-f1ba-460a-b15b-e0d029e52e1e', node_type=<ObjectType.DOCUMENT: '4'>, metadata={'file_path': 'data/news.txt', 'file_name': 'news.txt', 'file_type': 'text/plain', 'file_size': 11203, 'creation_date': '2024-06-24', 'last_modified_date': '2024-06-24'}, hash='eb8d1c10826e39c832b5b063f74b9bd78eb2cfa313cbddcd0b2be6e1eb62391e'), <NodeRelationship.NEXT: '3'>: RelatedNodeInfo(node_id='3185b0b9-89bb-480d-a461-3d7703132fd3', node_type=<ObjectType.TEXT: '1'>, metadata={}, hash='177f8beec66bd2707a64d05a6a279dff252b544622f0f17a2833c896c2a5fe3b')}, text='跳出问题之外来解决问题，俄罗斯也会这一招\\n\\n遇到问题，我们应该跳出问题之外来解决。这是一种策略，也是智慧。在应对自己的困境时，俄罗斯很娴熟地用到了这一招。这与我一直以来提出的“南海问题的解决应该在南海之外”是高度契合的。\\n\\n\\u200b我原来提过一个建议，关于南海问题的解决，可以考虑跳出南海。这是我当时内部提的一个建议，后来也做了一个短片，大家可以参考一下。最近几天我看到一个新闻，验证了我这个建议，实际上是有道理的，是值得参考的。', start_char_idx=0, end_char_idx=212, text_template='[Excerpt from document]\\n{metadata_str}\\nExcerpt:\\n-----\\n{content}\\n-----\\n', metadata_template='{key}: {value}', metadata_seperator='\\n')"
      ]
     },
     "execution_count": 159,
     "metadata": {},
     "output_type": "execute_result"
    }
   ],
   "source": [
    "nodes[0]"
   ]
  },
  {
   "cell_type": "markdown",
   "id": "a31c3b1f-7cf6-4de4-ba7f-fc0f003eaa4d",
   "metadata": {},
   "source": [
    "##### 提取扩充元数据 - MarvinMetadataExtractor"
   ]
  },
  {
   "cell_type": "markdown",
   "id": "0fa11eb2-43d3-4274-8f86-0aab2e064011",
   "metadata": {},
   "source": [
    "见： [Metadata Extraction and Augmentation w/ Marvin](https://docs.llamaindex.ai/en/stable/examples/metadata_extraction/MarvinMetadataExtractorDemo/)\n",
    "\n",
    "因为依赖 openAI，没有测试成功，暂时不用：\n",
    "\n",
    "```marvin.settings.openai.api_key = os.environ[\"OPENAI_API_KEY\"]```"
   ]
  },
  {
   "cell_type": "markdown",
   "id": "faaf7848-dcf0-4c5b-a45f-3cfdbbe6b27a",
   "metadata": {},
   "source": [
    "##### 提取 Pydantic 对象 - PydanticProgramExtractor"
   ]
  },
  {
   "cell_type": "markdown",
   "id": "f15b2804-0d4a-4c00-ac41-5345c8142caa",
   "metadata": {},
   "source": [
    "可以将文档借助llm提取为pydantic对象。\n",
    "\n",
    "参考：\n",
    "\n",
    "- [PydanticProgramExtractor](https://docs.llamaindex.ai/en/stable/api_reference/extractors/pydantic/)\n",
    "- [Examples - Pydantic Extractor](https://docs.llamaindex.ai/en/stable/examples/metadata_extraction/PydanticExtractor/)"
   ]
  },
  {
   "cell_type": "markdown",
   "id": "7401d9fc-a79f-4f6c-bada-de5e49dfe764",
   "metadata": {},
   "source": [
    "## 从本地加载文件 - SimpleDirectoryReader"
   ]
  },
  {
   "cell_type": "markdown",
   "id": "c375a251-ef39-4924-b572-1167c067c946",
   "metadata": {},
   "source": [
    "### 支持文件类型"
   ]
  },
  {
   "cell_type": "markdown",
   "id": "a7739ead-fe32-414b-993c-fec76a29ad9d",
   "metadata": {},
   "source": [
    "见 [Supported file types](https://docs.llamaindex.ai/en/stable/module_guides/loading/simpledirectoryreader/#supported-file-types)"
   ]
  },
  {
   "cell_type": "markdown",
   "id": "0c936b28-323b-46c9-9b2b-3bda3e2f7dc5",
   "metadata": {},
   "source": [
    "### 使用"
   ]
  },
  {
   "cell_type": "markdown",
   "id": "0d5e70b0-c946-4557-983d-a6251cb765b0",
   "metadata": {},
   "source": [
    "### 通过指定目录加载"
   ]
  },
  {
   "cell_type": "markdown",
   "id": "348b7630-7b03-46a1-8c09-1d07bc4a20e1",
   "metadata": {},
   "source": [
    "只加载当前目录下文件，不包括子目录。"
   ]
  },
  {
   "cell_type": "code",
   "execution_count": null,
   "id": "f8abd3ce-5105-496b-b2b1-2195a499f438",
   "metadata": {},
   "outputs": [],
   "source": [
    "from llama_index.core import SimpleDirectoryReader\n",
    "\n",
    "reader = SimpleDirectoryReader(input_dir=\"path/to/directory\")\n",
    "documents = reader.load_data()\n",
    "# documents = reader.load_data(num_workers=4)"
   ]
  },
  {
   "cell_type": "markdown",
   "id": "e0c23c40-f386-41cf-92e6-bab3b5047ad7",
   "metadata": {},
   "source": [
    "### 递归子目录加载"
   ]
  },
  {
   "cell_type": "code",
   "execution_count": null,
   "id": "8a27421d-f739-446e-9888-99839aa49a22",
   "metadata": {},
   "outputs": [],
   "source": [
    "SimpleDirectoryReader(input_dir=\"path/to/directory\", recursive=True)"
   ]
  },
  {
   "cell_type": "markdown",
   "id": "ca59eb87-abbb-49ca-8bb4-d7eb409df634",
   "metadata": {},
   "source": [
    "### 在文件加载时进行迭代"
   ]
  },
  {
   "cell_type": "code",
   "execution_count": null,
   "id": "230cfcfc-83f1-407b-8f21-10390539b2df",
   "metadata": {},
   "outputs": [],
   "source": [
    "reader = SimpleDirectoryReader(input_dir=\"path/to/directory\", recursive=True)\n",
    "all_docs = []\n",
    "for docs in reader.iter_data():\n",
    "    # <do something with the documents per file>\n",
    "    all_docs.extend(docs)"
   ]
  },
  {
   "cell_type": "markdown",
   "id": "0fffdf7d-0f19-484d-9b16-9d1fbc0d2d55",
   "metadata": {},
   "source": [
    "### 指定/限定加载的文件"
   ]
  },
  {
   "cell_type": "code",
   "execution_count": null,
   "id": "09818785-3ce4-4b1e-90a3-b2bce63f5bc0",
   "metadata": {},
   "outputs": [],
   "source": [
    "# 指定文件\n",
    "SimpleDirectoryReader(input_files=[\"path/to/file1\", \"path/to/file2\"])\n",
    "\n",
    "# 指定目录，排除指定的文件\n",
    "SimpleDirectoryReader(\n",
    "    input_dir=\"path/to/directory\", exclude=[\"path/to/file1\", \"path/to/file2\"]\n",
    ")\n",
    "\n",
    "# 指定要求文件扩展名\n",
    "SimpleDirectoryReader(\n",
    "    input_dir=\"path/to/directory\", required_exts=[\".pdf\", \".docx\"]\n",
    ")\n",
    "\n",
    "# 指定加载最大文件数\n",
    "SimpleDirectoryReader(input_dir=\"path/to/directory\", num_files_limit=100)"
   ]
  },
  {
   "cell_type": "markdown",
   "id": "f3d421c9-9d06-4a46-9085-7d6b8a688804",
   "metadata": {},
   "source": [
    "### 指定文件编码"
   ]
  },
  {
   "cell_type": "code",
   "execution_count": null,
   "id": "10db1fce-f5e2-4a68-a91a-28ea8e7409df",
   "metadata": {},
   "outputs": [],
   "source": [
    "SimpleDirectoryReader(input_dir=\"path/to/directory\", encoding=\"latin-1\")"
   ]
  },
  {
   "cell_type": "markdown",
   "id": "baf6c1c3-456c-467f-a615-96fc93ae2906",
   "metadata": {},
   "source": [
    "### 提取元数据函数"
   ]
  },
  {
   "cell_type": "code",
   "execution_count": null,
   "id": "dbad3584-ecdf-4374-858a-bcbb8334cf20",
   "metadata": {},
   "outputs": [],
   "source": [
    "def get_meta(file_path):\n",
    "    return {\"foo\": \"bar\", \"file_path\": file_path}\n",
    "\n",
    "\n",
    "SimpleDirectoryReader(input_dir=\"path/to/directory\", file_metadata=get_meta)"
   ]
  },
  {
   "cell_type": "markdown",
   "id": "85b30085-da50-4ca1-ae77-4c2bdf57b833",
   "metadata": {},
   "source": [
    "### 扩展到其他文件类型"
   ]
  },
  {
   "cell_type": "code",
   "execution_count": null,
   "id": "e2948122-0483-41b9-bf0d-26c6c80b6e38",
   "metadata": {},
   "outputs": [],
   "source": [
    "from llama_index.core import SimpleDirectoryReader\n",
    "from llama_index.core.readers.base import BaseReader\n",
    "from llama_index.core import Document\n",
    "\n",
    "\n",
    "class MyFileReader(BaseReader):\n",
    "    def load_data(self, file, extra_info=None):\n",
    "        with open(file, \"r\") as f:\n",
    "            text = f.read()\n",
    "        # load_data returns a list of Document objects\n",
    "        return [Document(text=text + \"Foobar\", extra_info=extra_info or {})]\n",
    "\n",
    "\n",
    "reader = SimpleDirectoryReader(\n",
    "    input_dir=\"./data\", file_extractor={\".myfile\": MyFileReader()}\n",
    ")\n",
    "\n",
    "documents = reader.load_data()\n",
    "print(documents)"
   ]
  },
  {
   "cell_type": "markdown",
   "id": "53103602-c6b8-4fcb-9103-55babdc86555",
   "metadata": {},
   "source": [
    "### 支持外部文件系统"
   ]
  },
  {
   "cell_type": "markdown",
   "id": "6f81be15-0e87-4ef0-8144-a46dab61ffe8",
   "metadata": {},
   "source": [
    "采用一个可选fs参数，可用于遍历远程文件系统。"
   ]
  },
  {
   "cell_type": "code",
   "execution_count": null,
   "id": "13e7fdbc-741c-4e06-829a-1f55dd4f2b08",
   "metadata": {},
   "outputs": [],
   "source": [
    "from s3fs import S3FileSystem\n",
    "\n",
    "s3_fs = S3FileSystem(key=\"...\", secret=\"...\")\n",
    "bucket_name = \"my-document-bucket\"\n",
    "\n",
    "reader = SimpleDirectoryReader(\n",
    "    input_dir=bucket_name,\n",
    "    fs=s3_fs,\n",
    "    recursive=True,  # recursively searches all subdirectories\n",
    ")\n",
    "\n",
    "documents = reader.load_data()\n",
    "print(documents)"
   ]
  },
  {
   "cell_type": "markdown",
   "id": "556ea0c0-834c-411e-8648-2926ed1ed0bb",
   "metadata": {},
   "source": [
    "## 数据连接器"
   ]
  },
  {
   "cell_type": "markdown",
   "id": "ef0e86a2-6788-4217-8dc4-4499293dcecb",
   "metadata": {},
   "source": [
    "- [LlamaHub](https://llamahub.ai/?tab=readers)\n",
    "- 大部分 reader 集成在 SimpleDirectoryReader\n",
    "- 很多第三方 Reader"
   ]
  },
  {
   "cell_type": "markdown",
   "id": "e1019779-5906-4ec7-9fd8-9ea36e1cfd85",
   "metadata": {},
   "source": [
    "### LlamaParse"
   ]
  },
  {
   "cell_type": "code",
   "execution_count": null,
   "id": "8f9f7257-c019-458f-b9ae-23b196a0e7ae",
   "metadata": {},
   "outputs": [],
   "source": [
    "%%time\n",
    "\n",
    "# llama-parse is async-first, running the sync code in a notebook requires the use of nest_asyncio\n",
    "import nest_asyncio\n",
    "\n",
    "nest_asyncio.apply()\n",
    "\n",
    "from llama_parse import LlamaParse\n",
    "\n",
    "import os\n",
    "\n",
    "os.environ[\"LLAMA_CLOUD_API_KEY\"] = \"llx-zKRvJ3wqj8bkXBHVjJ8DMNPlqfxQb8yRDrFGFPHpCwNxZbX6\"\n",
    "\n",
    "documents = LlamaParse(result_type=\"markdown\").load_data(\"./伟大的中国工业革命.pdf\")"
   ]
  },
  {
   "cell_type": "markdown",
   "id": "b9880663-9644-43e9-9235-04dd33c2e1df",
   "metadata": {},
   "source": [
    "## 节点解析器"
   ]
  },
  {
   "cell_type": "markdown",
   "id": "47f58c23-8276-4b11-bea9-70899062bb81",
   "metadata": {},
   "source": [
    "### 直接使用"
   ]
  },
  {
   "cell_type": "code",
   "execution_count": 165,
   "id": "7ec7ddb8-d81f-433d-aa36-4f22d9d0d663",
   "metadata": {},
   "outputs": [
    {
     "name": "stdout",
     "output_type": "stream",
     "text": [
      "CPU times: user 0 ns, sys: 1.78 ms, total: 1.78 ms\n",
      "Wall time: 1.41 ms\n"
     ]
    },
    {
     "data": {
      "text/plain": [
       "2"
      ]
     },
     "execution_count": 165,
     "metadata": {},
     "output_type": "execute_result"
    }
   ],
   "source": [
    "%%time\n",
    "\n",
    "from llama_index.core import Document\n",
    "from llama_index.core.node_parser import SentenceSplitter\n",
    "\n",
    "node_parser = SentenceSplitter(chunk_size=100, chunk_overlap=20)\n",
    "content=\"\"\"\n",
    "天然石墨烯指的是从天然石墨中提取或加工出来的石墨烯。石墨烯是一种由单层碳原子组成的二维材料，具有独特的物理和化学性质，如极高的导电性、热导率、机械强度和透光性。\n",
    "\"\"\"\n",
    "\n",
    "nodes = node_parser.get_nodes_from_documents(\n",
    "    [Document(text=content)], show_progress=False\n",
    ")\n",
    "\n",
    "len(nodes)"
   ]
  },
  {
   "cell_type": "code",
   "execution_count": 167,
   "id": "44eba5b8-7ef8-4a72-9595-8e79bed8fc3f",
   "metadata": {},
   "outputs": [
    {
     "data": {
      "text/plain": [
       "TextNode(id_='50d26deb-5264-45b4-8550-9f7d0faa4956', embedding=None, metadata={}, excluded_embed_metadata_keys=[], excluded_llm_metadata_keys=[], relationships={<NodeRelationship.SOURCE: '1'>: RelatedNodeInfo(node_id='0d0e49d5-7f88-4f61-86a6-332e743307ea', node_type=<ObjectType.DOCUMENT: '4'>, metadata={}, hash='02f2425037e1c58fdd9d9bf86bffa7b22a55f394a5868fd240df597f8ac5edd9'), <NodeRelationship.PREVIOUS: '2'>: RelatedNodeInfo(node_id='2c50f607-b7fe-43ca-bb7a-217913b6da2d', node_type=<ObjectType.TEXT: '1'>, metadata={}, hash='9edfce7b6c39880cb7b603111e683c027a33d953c3a06f5e8aed56ec821bb92b')}, text='石墨烯是一种由单层碳原子组成的二维材料，具有独特的物理和化学性质，如极高的导电性、热导率、机械强度和透光性。', start_char_idx=27, end_char_idx=81, text_template='{metadata_str}\\n\\n{content}', metadata_template='{key}: {value}', metadata_seperator='\\n')"
      ]
     },
     "execution_count": 167,
     "metadata": {},
     "output_type": "execute_result"
    }
   ],
   "source": [
    "nodes[1]"
   ]
  },
  {
   "cell_type": "markdown",
   "id": "619f4bf3-86bc-4e9c-a817-21e412fd3306",
   "metadata": {},
   "source": [
    "### 通过管道使用"
   ]
  },
  {
   "cell_type": "code",
   "execution_count": null,
   "id": "27ae4141-78d1-4113-9de5-50d66d4c1cad",
   "metadata": {},
   "outputs": [],
   "source": [
    "from llama_index.core import SimpleDirectoryReader\n",
    "from llama_index.core.ingestion import IngestionPipeline\n",
    "from llama_index.core.node_parser import TokenTextSplitter\n",
    "\n",
    "documents = SimpleDirectoryReader(\"./data\").load_data()\n",
    "\n",
    "pipeline = IngestionPipeline(transformations=[TokenTextSplitter(), ...])\n",
    "\n",
    "nodes = pipeline.run(documents=documents)"
   ]
  },
  {
   "cell_type": "markdown",
   "id": "c757fc56-73bd-44b7-9830-3f4201df30ba",
   "metadata": {},
   "source": [
    "### 通过索引使用"
   ]
  },
  {
   "cell_type": "code",
   "execution_count": null,
   "id": "22f56549-3971-45a2-ba5b-770a8deef74b",
   "metadata": {},
   "outputs": [],
   "source": [
    "from llama_index.core import SimpleDirectoryReader, VectorStoreIndex\n",
    "from llama_index.core.node_parser import SentenceSplitter\n",
    "\n",
    "documents = SimpleDirectoryReader(\"./data\").load_data()\n",
    "\n",
    "# global\n",
    "from llama_index.core import Settings\n",
    "\n",
    "Settings.text_splitter = SentenceSplitter(chunk_size=1024, chunk_overlap=20)\n",
    "\n",
    "# per-index\n",
    "index = VectorStoreIndex.from_documents(\n",
    "    documents,\n",
    "    transformations=[SentenceSplitter(chunk_size=1024, chunk_overlap=20)],\n",
    ")"
   ]
  },
  {
   "cell_type": "markdown",
   "id": "3054115d-f450-4222-8f2b-bf9cd2064908",
   "metadata": {},
   "source": [
    "### 节点解析器模块"
   ]
  },
  {
   "cell_type": "markdown",
   "id": "45cf4a5d-3ff0-40b8-a295-dcdb4ba2dd47",
   "metadata": {},
   "source": [
    "#### 基于文件的解析器"
   ]
  },
  {
   "cell_type": "markdown",
   "id": "4d060df5-0247-49cb-a9a0-657fabb92988",
   "metadata": {},
   "source": [
    "##### 简单文件节点解析器"
   ]
  },
  {
   "cell_type": "code",
   "execution_count": 174,
   "id": "65a45350-e25e-467b-a5bc-97b2dd2fd89b",
   "metadata": {},
   "outputs": [
    {
     "name": "stdout",
     "output_type": "stream",
     "text": [
      "CPU times: user 527 µs, sys: 58 µs, total: 585 µs\n",
      "Wall time: 577 µs\n"
     ]
    },
    {
     "data": {
      "text/plain": [
       "{'Header_1': 'test', 'filename': 'test.md', 'extension': '.md'}"
      ]
     },
     "execution_count": 174,
     "metadata": {},
     "output_type": "execute_result"
    }
   ],
   "source": [
    "%%time\n",
    "\n",
    "\n",
    "from llama_index.core.node_parser import SimpleFileNodeParser\n",
    "from llama_index.readers.file import FlatReader\n",
    "from pathlib import Path\n",
    "\n",
    "md_docs = FlatReader().load_data(Path(\"./data/test.md\"))\n",
    "\n",
    "parser = SimpleFileNodeParser()\n",
    "md_nodes = parser.get_nodes_from_documents(md_docs)\n",
    "\n",
    "md_nodes[0].metadata"
   ]
  },
  {
   "cell_type": "markdown",
   "id": "cd29f8d8-d115-46e5-8a7d-4a13ec6e883a",
   "metadata": {},
   "source": [
    "##### Markdown节点解析器"
   ]
  },
  {
   "cell_type": "code",
   "execution_count": 177,
   "id": "53c73f95-474f-4412-814d-36bc1dd54720",
   "metadata": {},
   "outputs": [
    {
     "data": {
      "text/plain": [
       "TextNode(id_='7afb2b21-e9c1-4886-adef-6aae88c493ab', embedding=None, metadata={'Header_1': 'test', 'filename': 'test.md', 'extension': '.md'}, excluded_embed_metadata_keys=[], excluded_llm_metadata_keys=[], relationships={<NodeRelationship.SOURCE: '1'>: RelatedNodeInfo(node_id='2c5015c7-5a8e-465c-9e64-50912382a953', node_type=<ObjectType.DOCUMENT: '4'>, metadata={'filename': 'test.md', 'extension': '.md'}, hash='9b13d8a4db6eb677f49e273c211d2b0392c6fa64161ec2e5e495b43bd6bce358')}, text='test\\n\\n这是一个测试：\\n\\n- 测试1\\n- 测试2', start_char_idx=2, end_char_idx=28, text_template='{metadata_str}\\n\\n{content}', metadata_template='{key}: {value}', metadata_seperator='\\n')"
      ]
     },
     "execution_count": 177,
     "metadata": {},
     "output_type": "execute_result"
    }
   ],
   "source": [
    "from llama_index.core.node_parser import MarkdownNodeParser\n",
    "\n",
    "parser = MarkdownNodeParser()\n",
    "\n",
    "nodes = parser.get_nodes_from_documents(md_docs)\n",
    "nodes[0]"
   ]
  },
  {
   "cell_type": "markdown",
   "id": "2e98d3bb-636c-4483-adc0-b59d72e465c9",
   "metadata": {},
   "source": [
    "##### JSONNode解析器"
   ]
  },
  {
   "cell_type": "markdown",
   "id": "4e0b575b-9f4d-4156-8886-fb84232df945",
   "metadata": {},
   "source": [
    "TODO: 没有正确解析"
   ]
  },
  {
   "cell_type": "code",
   "execution_count": 181,
   "id": "b3ced545-b900-4fe0-99b7-82a1ccd30ecc",
   "metadata": {},
   "outputs": [
    {
     "data": {
      "text/plain": [
       "[Document(id_='c73b9565-a9ae-48a1-bf53-f72b8e6195b7', embedding=None, metadata={'filename': 'data.json', 'extension': '.json'}, excluded_embed_metadata_keys=[], excluded_llm_metadata_keys=[], relationships={}, text='{\\n  \"name\": \"张三\"\\n  \"data\": [\"data1\", \"data2\"]\\n}\\n', start_char_idx=None, end_char_idx=None, text_template='{metadata_str}\\n\\n{content}', metadata_template='{key}: {value}', metadata_seperator='\\n')]"
      ]
     },
     "execution_count": 181,
     "metadata": {},
     "output_type": "execute_result"
    }
   ],
   "source": [
    "from llama_index.core.node_parser import JSONNodeParser\n",
    "\n",
    "md_docs = FlatReader().load_data(Path(\"./data/data.json\"))\n",
    "\n",
    "parser = JSONNodeParser()\n",
    "nodes = parser.get_nodes_from_documents(md_docs)\n",
    "\n",
    "nodes\n",
    "# md_docs"
   ]
  },
  {
   "cell_type": "markdown",
   "id": "dc863440-f25c-4291-a8fd-3967061d8683",
   "metadata": {},
   "source": [
    "##### HTML节点解析器"
   ]
  },
  {
   "cell_type": "code",
   "execution_count": null,
   "id": "fc00b44d-f543-40e1-b447-ce2cf9266198",
   "metadata": {},
   "outputs": [],
   "source": [
    "from llama_index.core.node_parser import HTMLNodeParser\n",
    "\n",
    "parser = HTMLNodeParser(tags=[\"p\", \"h1\"])  # optional list of tags\n",
    "nodes = parser.get_nodes_from_documents(html_docs)"
   ]
  },
  {
   "cell_type": "markdown",
   "id": "100f6062-8698-4a83-a963-b5c73fa911e6",
   "metadata": {},
   "source": [
    "#### 文本分割器"
   ]
  },
  {
   "cell_type": "markdown",
   "id": "4c61527f-c44c-4990-bc8d-2765afefd5e6",
   "metadata": {},
   "source": [
    "##### 代码分割器"
   ]
  },
  {
   "cell_type": "code",
   "execution_count": null,
   "id": "046e1b97-3872-4b42-9413-998c92f0c4ba",
   "metadata": {},
   "outputs": [],
   "source": [
    "from llama_index.core.node_parser import CodeSplitter\n",
    "\n",
    "splitter = CodeSplitter(\n",
    "    language=\"python\",\n",
    "    chunk_lines=40,  # lines per chunk\n",
    "    chunk_lines_overlap=15,  # lines overlap between chunks\n",
    "    max_chars=1500,  # max chars per chunk\n",
    ")\n",
    "nodes = splitter.get_nodes_from_documents(documents)\n"
   ]
  },
  {
   "cell_type": "markdown",
   "id": "d073b590-a388-486f-857f-dc91a5a0da80",
   "metadata": {},
   "source": [
    "##### LangchainNode解析器"
   ]
  },
  {
   "cell_type": "code",
   "execution_count": null,
   "id": "3b369505-b5bb-457a-a99a-a3c304c29bc3",
   "metadata": {},
   "outputs": [],
   "source": [
    "from langchain.text_splitter import RecursiveCharacterTextSplitter\n",
    "from llama_index.core.node_parser import LangchainNodeParser\n",
    "\n",
    "parser = LangchainNodeParser(RecursiveCharacterTextSplitter())\n",
    "nodes = parser.get_nodes_from_documents(documents)"
   ]
  },
  {
   "cell_type": "markdown",
   "id": "1e7f54ac-96e6-424e-b2b4-b4c57a6bb49f",
   "metadata": {},
   "source": [
    "##### SentenceSplitter"
   ]
  },
  {
   "cell_type": "code",
   "execution_count": null,
   "id": "9a98dc95-d4df-45f7-88f1-b0bd983b4620",
   "metadata": {},
   "outputs": [],
   "source": [
    "from llama_index.core.node_parser import SentenceSplitter\n",
    "\n",
    "splitter = SentenceSplitter(\n",
    "    chunk_size=1024,\n",
    "    chunk_overlap=20,\n",
    ")\n",
    "nodes = splitter.get_nodes_from_documents(documents)"
   ]
  },
  {
   "cell_type": "markdown",
   "id": "290ce709-f4e8-433a-a58a-433c7dc338c8",
   "metadata": {},
   "source": [
    "##### 句子窗口节点解析器"
   ]
  },
  {
   "cell_type": "code",
   "execution_count": null,
   "id": "506109e5-38c7-4d78-aed4-e86125cb6783",
   "metadata": {},
   "outputs": [],
   "source": [
    "import nltk\n",
    "from llama_index.core.node_parser import SentenceWindowNodeParser\n",
    "\n",
    "node_parser = SentenceWindowNodeParser.from_defaults(\n",
    "    # how many sentences on either side to capture\n",
    "    window_size=3,\n",
    "    # the metadata key that holds the window of surrounding sentences\n",
    "    window_metadata_key=\"window\",\n",
    "    # the metadata key that holds the original sentence\n",
    "    original_text_metadata_key=\"original_sentence\",\n",
    ")"
   ]
  },
  {
   "cell_type": "markdown",
   "id": "9d641a2e-147d-48bd-890b-c9899e4ec9f8",
   "metadata": {},
   "source": [
    "##### 语义分割节点解析器"
   ]
  },
  {
   "cell_type": "code",
   "execution_count": null,
   "id": "e00efb87-e2dd-47bc-b56a-0294f8dcc124",
   "metadata": {},
   "outputs": [],
   "source": [
    "from llama_index.core.node_parser import SemanticSplitterNodeParser\n",
    "from llama_index.embeddings.openai import OpenAIEmbedding\n",
    "\n",
    "embed_model = OpenAIEmbedding()\n",
    "splitter = SemanticSplitterNodeParser(\n",
    "    buffer_size=1, breakpoint_percentile_threshold=95, embed_model=embed_model\n",
    ")"
   ]
  },
  {
   "cell_type": "markdown",
   "id": "e57405e6-9523-406d-a8f3-ca5792ec9d3c",
   "metadata": {},
   "source": [
    "##### TokenTextSplitter"
   ]
  },
  {
   "cell_type": "code",
   "execution_count": null,
   "id": "a560b285-7605-4890-89ff-5d00b9f47f9c",
   "metadata": {},
   "outputs": [],
   "source": [
    "from llama_index.core.node_parser import TokenTextSplitter\n",
    "\n",
    "splitter = TokenTextSplitter(\n",
    "    chunk_size=1024,\n",
    "    chunk_overlap=20,\n",
    "    separator=\" \",\n",
    ")\n",
    "nodes = splitter.get_nodes_from_documents(documents)"
   ]
  },
  {
   "cell_type": "markdown",
   "id": "d4206e6d-4a78-4229-9d13-92f2d7057332",
   "metadata": {},
   "source": [
    "#### 基于关系的解析器"
   ]
  },
  {
   "cell_type": "code",
   "execution_count": null,
   "id": "286cc73e-1658-4e48-bad3-d1c34884733a",
   "metadata": {},
   "outputs": [],
   "source": [
    "from llama_index.core.node_parser import HierarchicalNodeParser\n",
    "\n",
    "node_parser = HierarchicalNodeParser.from_defaults(\n",
    "    chunk_sizes=[2048, 512, 128]\n",
    ")"
   ]
  },
  {
   "cell_type": "markdown",
   "id": "69bf2ea6-2d4e-4637-8bc4-9a4003ff8fa0",
   "metadata": {},
   "source": [
    "### 摄取管道"
   ]
  },
  {
   "cell_type": "markdown",
   "id": "3c438c81-fc11-468f-b7bd-8b266a6de093",
   "metadata": {},
   "source": [
    "#### 使用模式"
   ]
  },
  {
   "cell_type": "markdown",
   "id": "59ecb3a1-85ec-4a45-88eb-10219190e7eb",
   "metadata": {},
   "source": [
    "pipeline直接生成nodes"
   ]
  },
  {
   "cell_type": "code",
   "execution_count": null,
   "id": "60e78a33-0c50-45fe-ae79-4c8a6e7a5d15",
   "metadata": {},
   "outputs": [],
   "source": [
    "from llama_index.core import Document\n",
    "from llama_index.embeddings.openai import OpenAIEmbedding\n",
    "from llama_index.core.node_parser import SentenceSplitter\n",
    "from llama_index.core.extractors import TitleExtractor\n",
    "from llama_index.core.ingestion import IngestionPipeline, IngestionCache\n",
    "\n",
    "# create the pipeline with transformations\n",
    "pipeline = IngestionPipeline(\n",
    "    transformations=[\n",
    "        SentenceSplitter(chunk_size=25, chunk_overlap=0),\n",
    "        TitleExtractor(),\n",
    "        OpenAIEmbedding(),\n",
    "    ]\n",
    ")\n",
    "\n",
    "# run the pipeline\n",
    "nodes = pipeline.run(documents=[Document.example()])"
   ]
  },
  {
   "cell_type": "markdown",
   "id": "882803f5-e2b5-4333-8110-d03d5a88b23c",
   "metadata": {},
   "source": [
    "#### 连接到向量数据库"
   ]
  },
  {
   "cell_type": "markdown",
   "id": "fc379b7d-5047-4476-bf82-028ac181ff65",
   "metadata": {},
   "source": [
    "pipeline设置了向量库，执行pipeline将自动存储到向量库。后续可以基于向量库生成索引。"
   ]
  },
  {
   "cell_type": "code",
   "execution_count": null,
   "id": "113fb3fc-576c-4a67-a446-97e7fa263855",
   "metadata": {},
   "outputs": [],
   "source": [
    "from llama_index.core import Document\n",
    "from llama_index.embeddings.openai import OpenAIEmbedding\n",
    "from llama_index.core.node_parser import SentenceSplitter\n",
    "from llama_index.core.extractors import TitleExtractor\n",
    "from llama_index.core.ingestion import IngestionPipeline\n",
    "from llama_index.vector_stores.qdrant import QdrantVectorStore\n",
    "\n",
    "import qdrant_client\n",
    "\n",
    "client = qdrant_client.QdrantClient(location=\":memory:\")\n",
    "vector_store = QdrantVectorStore(client=client, collection_name=\"test_store\")\n",
    "\n",
    "pipeline = IngestionPipeline(\n",
    "    transformations=[\n",
    "        SentenceSplitter(chunk_size=25, chunk_overlap=0),\n",
    "        TitleExtractor(),\n",
    "        OpenAIEmbedding(),\n",
    "    ],\n",
    "    vector_store=vector_store,\n",
    ")\n",
    "\n",
    "# Ingest directly into a vector db\n",
    "pipeline.run(documents=[Document.example()])\n",
    "\n",
    "# Create your index\n",
    "from llama_index.core import VectorStoreIndex\n",
    "\n",
    "index = VectorStoreIndex.from_vector_store(vector_store)"
   ]
  },
  {
   "cell_type": "markdown",
   "id": "aebe0f32-bde5-4033-8986-5e0d579b02a9",
   "metadata": {},
   "source": [
    "#### 计算管道中的嵌入"
   ]
  },
  {
   "cell_type": "code",
   "execution_count": null,
   "id": "b4e627cb-842d-4a11-a0fe-48480044f77f",
   "metadata": {},
   "outputs": [],
   "source": [
    "pipeline = IngestionPipeline(\n",
    "    transformations=[\n",
    "        SentenceSplitter(chunk_size=25, chunk_overlap=0),\n",
    "        TitleExtractor(),\n",
    "        OpenAIEmbedding(),     # 嵌入是管道的一个阶段\n",
    "    ],\n",
    "    vector_store=vector_store, # 设置向量存储必须在管道设置嵌入阶段\n",
    ")\n",
    "\n",
    "# Ingest directly into a vector db\n",
    "pipeline.run(documents=[Document.example()])"
   ]
  },
  {
   "cell_type": "markdown",
   "id": "1124784f-aaab-4212-8b83-61142316aedb",
   "metadata": {},
   "source": [
    "#### 缓存"
   ]
  },
  {
   "cell_type": "code",
   "execution_count": null,
   "id": "9bb7a1bc-aae3-42f2-ad49-6233e15195b7",
   "metadata": {},
   "outputs": [],
   "source": [
    "### 本地缓存\n",
    "\n",
    "# save\n",
    "pipeline.persist(\"./pipeline_storage\")\n",
    "\n",
    "# load and restore state\n",
    "new_pipeline = IngestionPipeline(\n",
    "    transformations=[\n",
    "        SentenceSplitter(chunk_size=25, chunk_overlap=0),\n",
    "        TitleExtractor(),\n",
    "    ],\n",
    ")\n",
    "new_pipeline.load(\"./pipeline_storage\")\n",
    "\n",
    "# will run instantly due to the cache\n",
    "nodes = pipeline.run(documents=[Document.example()])\n",
    "\n",
    "# delete all context of the cache\n",
    "cache.clear()"
   ]
  },
  {
   "cell_type": "markdown",
   "id": "a82f8f00-af0f-4b5d-874b-461b1973e31a",
   "metadata": {},
   "source": [
    "我们支持多个缓存远程存储后端\n",
    "\n",
    "- RedisCache\n",
    "- MongoDBCache\n",
    "- FirestoreCache"
   ]
  },
  {
   "cell_type": "markdown",
   "id": "d30844eb-1c81-4e32-813e-3dd39ed159e3",
   "metadata": {},
   "source": [
    "#### 文件管理"
   ]
  },
  {
   "cell_type": "markdown",
   "id": "2317bc8e-c0db-4caf-9ef6-70969df82e4e",
   "metadata": {},
   "source": [
    "附加docstore到摄取管道将启用文档管理。\n",
    "\n",
    "使用document.doc_id或node.ref_doc_id作为接地点，摄取管道将主动寻找重复的文档。"
   ]
  },
  {
   "cell_type": "code",
   "execution_count": null,
   "id": "0a6bb13c-0bd5-44c4-a9d0-588d074c27c4",
   "metadata": {},
   "outputs": [],
   "source": [
    "from llama_index.core.ingestion import IngestionPipeline\n",
    "from llama_index.core.storage.docstore import SimpleDocumentStore\n",
    "\n",
    "pipeline = IngestionPipeline(\n",
    "    transformations=[...], docstore=SimpleDocumentStore()\n",
    ")"
   ]
  },
  {
   "cell_type": "markdown",
   "id": "a7f61e6d-7454-4203-90f3-f822901540e9",
   "metadata": {},
   "source": [
    "#### 并行处理"
   ]
  },
  {
   "cell_type": "markdown",
   "id": "ff803065-2ebf-4011-9288-0172450c3281",
   "metadata": {},
   "source": [
    "该run方法IngestionPipeline可以用并行进程执行。它通过将multiprocessing.Pool节点批次分布到各个处理器来实现。"
   ]
  },
  {
   "cell_type": "markdown",
   "id": "ad46c6f9-a524-4732-82f9-b896c21d2516",
   "metadata": {},
   "source": [
    "#### Transformations"
   ]
  },
  {
   "cell_type": "markdown",
   "id": "1600bd53-2c5a-4112-93e5-2fe4aeb54bde",
   "metadata": {},
   "source": [
    "是指将节点列表作为输入并返回节点列表的操作。\n",
    "\n",
    "以下组件是Transformation对象：\n",
    "\n",
    "- TextSplitter\n",
    "- NodeParser\n",
    "- MetadataExtractor\n",
    "- Embeddings模型\n",
    "\n",
    "Transformation一般和 pipeline 一起使用，也可以直接使用："
   ]
  },
  {
   "cell_type": "code",
   "execution_count": null,
   "id": "0f1e97ad-8f80-4bcf-a9b5-1d3f90f19e24",
   "metadata": {},
   "outputs": [],
   "source": [
    "from llama_index.core.node_parser import SentenceSplitter\n",
    "from llama_index.core.extractors import TitleExtractor\n",
    "\n",
    "node_parser = SentenceSplitter(chunk_size=512)\n",
    "extractor = TitleExtractor()\n",
    "\n",
    "# use transforms directly\n",
    "nodes = node_parser(documents)\n",
    "\n",
    "# or use a transformation in async\n",
    "nodes = await extractor.acall(nodes)"
   ]
  },
  {
   "cell_type": "markdown",
   "id": "ff2be66e-93c9-485d-a1ec-3a60fab96f7a",
   "metadata": {},
   "source": [
    "与索引结合，from_documents()转换可以传递到索引或整体全局设置中。"
   ]
  },
  {
   "cell_type": "code",
   "execution_count": null,
   "id": "495dc77c-e075-439f-a089-e45ee401716a",
   "metadata": {},
   "outputs": [],
   "source": [
    "from llama_index.core import VectorStoreIndex\n",
    "from llama_index.core.extractors import (\n",
    "    TitleExtractor,\n",
    "    QuestionsAnsweredExtractor,\n",
    ")\n",
    "from llama_index.core.ingestion import IngestionPipeline\n",
    "from llama_index.core.node_parser import TokenTextSplitter\n",
    "\n",
    "transformations = [\n",
    "    TokenTextSplitter(chunk_size=512, chunk_overlap=128),\n",
    "    TitleExtractor(nodes=5),\n",
    "    QuestionsAnsweredExtractor(questions=3),\n",
    "]\n",
    "\n",
    "# global\n",
    "from llama_index.core import Settings\n",
    "\n",
    "Settings.transformations = [text_splitter, title_extractor, qa_extractor]\n",
    "\n",
    "# per-index\n",
    "index = VectorStoreIndex.from_documents(\n",
    "    documents, transformations=transformations\n",
    ")"
   ]
  }
 ],
 "metadata": {
  "kernelspec": {
   "display_name": "Python 3 (ipykernel)",
   "language": "python",
   "name": "python3"
  },
  "language_info": {
   "codemirror_mode": {
    "name": "ipython",
    "version": 3
   },
   "file_extension": ".py",
   "mimetype": "text/x-python",
   "name": "python",
   "nbconvert_exporter": "python",
   "pygments_lexer": "ipython3",
   "version": "3.10.12"
  }
 },
 "nbformat": 4,
 "nbformat_minor": 5
}
