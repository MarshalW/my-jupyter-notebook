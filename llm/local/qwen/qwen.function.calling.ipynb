{
 "cells": [
  {
   "cell_type": "markdown",
   "id": "c9a8f6cf-67c9-49c3-b1bb-187667a61edd",
   "metadata": {},
   "source": [
    "# Qwen function call\n",
    "\n",
    "## 直接使用模型"
   ]
  },
  {
   "cell_type": "code",
   "execution_count": 9,
   "id": "6438acd9-761b-4a7b-b5bf-d9b465d82c56",
   "metadata": {},
   "outputs": [
    {
     "name": "stdout",
     "output_type": "stream",
     "text": [
      "input: [{'role': 'user', 'content': '你好'}]\n",
      "output: {'role': 'assistant', 'content': '你好！很高兴能为你提供帮助。有什么我可以做的吗？', 'function_call': None}\n"
     ]
    }
   ],
   "source": [
    "import openai\n",
    "import json\n",
    "\n",
    "\n",
    "openai.api_base = 'http://192.168.0.50:8000/v1'\n",
    "openai.api_key = 'none'\n",
    "\n",
    "\n",
    "def call_qwen(messages):\n",
    "    response = openai.ChatCompletion.create(model='Qwen', messages=messages)\n",
    "    response = response.choices[0]['message']\n",
    "    response = json.loads(json.dumps(response, ensure_ascii=False))\n",
    "    \n",
    "    print('input:', messages)\n",
    "    print('output:', response)\n",
    "    \n",
    "    return response\n",
    "\n",
    "\n",
    "if __name__ == '__main__':\n",
    "    messages = [{'role': 'user', 'content': '你好'}]\n",
    "    response = call_qwen(messages)\n"
   ]
  },
  {
   "cell_type": "markdown",
   "id": "80dec4b4-a080-4305-abf2-aa44dbdaeb2c",
   "metadata": {},
   "source": [
    "## function call\n",
    "\n",
    "参考 [LLM代码实现-Qwen（Function Calling）](https://juejin.cn/post/7330512499173507113)"
   ]
  },
  {
   "cell_type": "code",
   "execution_count": 12,
   "id": "40a6079d-3132-4260-8807-65f4e1e773b0",
   "metadata": {},
   "outputs": [
    {
     "name": "stdout",
     "output_type": "stream",
     "text": [
      "[{'role': 'user', 'content': '帮我开一下灯'}]\n",
      "{\n",
      "  \"model\": \"Qwen\",\n",
      "  \"object\": \"chat.completion\",\n",
      "  \"choices\": [\n",
      "    {\n",
      "      \"index\": 0,\n",
      "      \"message\": {\n",
      "        \"role\": \"assistant\",\n",
      "        \"content\": \"\\u6211\\u9700\\u8981\\u4f7f\\u7528\\u706f\\u5149\\u63a7\\u5236API\\u6765\\u6253\\u5f00\\u706f\\u3002\",\n",
      "        \"function_call\": {\n",
      "          \"name\": \"contral\",\n",
      "          \"arguments\": \"{\\\"switch\\\": True}\"\n",
      "        }\n",
      "      },\n",
      "      \"finish_reason\": \"function_call\"\n",
      "    }\n",
      "  ],\n",
      "  \"created\": 1710506276\n",
      "}\n",
      "开灯\n",
      "我需要使用灯光控制API来打开灯。\n"
     ]
    }
   ],
   "source": [
    "import openai\n",
    "import json\n",
    "\n",
    "openai.api_base = \"http://192.168.0.50:8000/v1\"\n",
    "openai.api_key = \"none\"\n",
    "\n",
    "\n",
    "def contral(response):\n",
    "    if response.choices[0].message.function_call:\n",
    "        result = eval(response.choices[0].message.function_call.arguments)\n",
    "        switch = \"开灯\" if result[\"switch\"] else \"关灯\"\n",
    "\n",
    "        print(switch)\n",
    "\n",
    "\n",
    "def call_qwen(messages, functions=None):\n",
    "    print(messages)\n",
    "    if functions:\n",
    "        response = openai.ChatCompletion.create(\n",
    "            model=\"Qwen\", messages=messages, functions=functions\n",
    "        )\n",
    "    else:\n",
    "        response = openai.ChatCompletion.create(model=\"Qwen\", messages=messages)\n",
    "\n",
    "    print(response)\n",
    "    result = response.choices[0].message.function_call\n",
    "    if result:\n",
    "        if result.name == \"contral\":\n",
    "            contral(response)\n",
    "\n",
    "    print(response.choices[0].message.content)\n",
    "    return response\n",
    "\n",
    "\n",
    "if __name__ == \"__main__\":\n",
    "    functions = [\n",
    "        {\n",
    "            \"name_for_human\": \"灯光控制\",\n",
    "            \"name_for_model\": \"contral\",\n",
    "            \"description_for_model\": \"灯光控制可以帮助用户开关灯\"\n",
    "                                     + \" Format the arguments as a JSON object.\",\n",
    "            \"parameters\": [\n",
    "                {\n",
    "                    \"name\": \"switch\",\n",
    "                    \"description\": \"用于控制灯的开关，若为True则为开灯，若为false则为关灯\",\n",
    "                    \"required\": True,\n",
    "                    \"schema\": {\"type\": \"bool\"},\n",
    "                }\n",
    "            ],\n",
    "        }\n",
    "    ]\n",
    "\n",
    "    messages = [{\"role\": \"user\", \"content\": \"帮我开一下灯\"}]\n",
    "    call_qwen(messages, functions)\n",
    "\n"
   ]
  },
  {
   "cell_type": "code",
   "execution_count": null,
   "id": "6fbd0dcb-203e-42d3-9afc-6782e1525788",
   "metadata": {},
   "outputs": [],
   "source": []
  }
 ],
 "metadata": {
  "kernelspec": {
   "display_name": "Python 3 (ipykernel)",
   "language": "python",
   "name": "python3"
  },
  "language_info": {
   "codemirror_mode": {
    "name": "ipython",
    "version": 3
   },
   "file_extension": ".py",
   "mimetype": "text/x-python",
   "name": "python",
   "nbconvert_exporter": "python",
   "pygments_lexer": "ipython3",
   "version": "3.10.12"
  }
 },
 "nbformat": 4,
 "nbformat_minor": 5
}
