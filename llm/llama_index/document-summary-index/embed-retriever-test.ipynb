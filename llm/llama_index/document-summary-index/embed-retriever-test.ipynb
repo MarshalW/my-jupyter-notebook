{
 "cells": [
  {
   "cell_type": "markdown",
   "id": "a12b28e1-365c-46e0-8c4a-6cc4739da59b",
   "metadata": {},
   "source": [
    "# 测试通过嵌入检索的成功率"
   ]
  },
  {
   "cell_type": "markdown",
   "id": "0c3d906f-4e4b-4426-8b72-8924d5820550",
   "metadata": {},
   "source": [
    "初步结论：\n",
    "\n",
    "- k=1时，只有56%，明显低于中文提示词的情况，后者是72%\n",
    "- k=2时，达到83%，又高于中文的情况\n",
    "- k=5时，依然是83%\n",
    "\n",
    "初始情况不如中文提示词，但是文档摘要中包括问答。\n",
    "\n",
    "整体看documentSummaryIndex，简单易用，但是效果一般，只能达到70%左右的检索召回率"
   ]
  },
  {
   "cell_type": "markdown",
   "id": "52e50f10-3f39-471b-87f9-d983167435cc",
   "metadata": {},
   "source": [
    "## 准备"
   ]
  },
  {
   "cell_type": "code",
   "execution_count": 1,
   "id": "59d05ce4-91f8-427a-a62a-a5739c799059",
   "metadata": {},
   "outputs": [
    {
     "name": "stdout",
     "output_type": "stream",
     "text": [
      "CPU times: user 1 µs, sys: 1e+03 ns, total: 2 µs\n",
      "Wall time: 3.34 µs\n"
     ]
    }
   ],
   "source": [
    "%%time\n",
    "\n",
    "INDEX_PATH=\"retrieve-index\"\n",
    "DATA_PATH=\"retrieve-data\""
   ]
  },
  {
   "cell_type": "code",
   "execution_count": 2,
   "id": "54b8276e-b57d-4829-8028-d00cf84405a4",
   "metadata": {},
   "outputs": [
    {
     "name": "stdout",
     "output_type": "stream",
     "text": [
      "CPU times: user 2.54 ms, sys: 4.35 ms, total: 6.89 ms\n",
      "Wall time: 109 ms\n"
     ]
    }
   ],
   "source": [
    "%%time\n",
    "!rm -rf $INDEX_PATH"
   ]
  },
  {
   "cell_type": "code",
   "execution_count": 3,
   "id": "1c404852-c0c6-47f5-9d30-02e3f580a36a",
   "metadata": {},
   "outputs": [
    {
     "name": "stdout",
     "output_type": "stream",
     "text": [
      "CPU times: user 5 µs, sys: 0 ns, total: 5 µs\n",
      "Wall time: 5.96 µs\n"
     ]
    }
   ],
   "source": [
    "%%time\n",
    "\n",
    "# test_data=[\n",
    "#     {\n",
    "#         \"url\": \"https://www.guancha.cn/ZiZheng/2024_06_27_739401_s.shtml\",\n",
    "#         \"question\": \"和平共处五项原则为啥到现在还有重要意义？\"\n",
    "#     },\n",
    "#     {\n",
    "#         \"url\": \"https://www.guancha.cn/kegongliliang/2024_06_27_739408_s.shtml\",\n",
    "#         \"question\": \"丰鸟科技在内蒙古主场地的资产清点和撤出的具体原因是什么？\"\n",
    "#     },\n",
    "#     {\n",
    "#         \"url\": \"https://user.guancha.cn/main/content?id=1257033\",\n",
    "#         \"question\": \"电池工厂火灾的具体起因是什么？\"\n",
    "#     },\n",
    "#     {\n",
    "#         \"url\": \"https://user.guancha.cn/main/content?id=1257049\",\n",
    "#         \"question\": \"莫迪计划推出的亲商改革具体包括哪些措施？\"\n",
    "#     },\n",
    "#     {\n",
    "#         \"url\": \"https://www.guancha.cn/politics/2024_06_26_739354.shtml\",\n",
    "#         \"question\": \"金融监管总局支持信托公司和理财公司加大创业投资力度的具体措施有哪些？\"\n",
    "#     },\n",
    "#     {\n",
    "#         \"url\": \"https://www.guancha.cn/gaotianwei/2024_06_24_739062_s.shtml\",\n",
    "#         \"question\": \"我们为什么要发展可重复使用运载火箭的验证箭？\"\n",
    "#     },\n",
    "#     {\n",
    "#         \"url\": \"https://www.guancha.cn/economy/2024_06_26_739352.shtml\",\n",
    "#         \"question\": \"中小银行合并重组的原因是什么？\"\n",
    "#     }\n",
    "# ]\n",
    "\n",
    "test_data=[\n",
    "    {\n",
    "        \"url\": \"https://www.guancha.cn/ZiZheng/2024_06_27_739401_s.shtml\",\n",
    "        \"question\": \"和平共处五项原则为啥到现在还有重要意义？\"\n",
    "    },\n",
    "    {\n",
    "        \"url\": \"https://www.guancha.cn/kegongliliang/2024_06_27_739408_s.shtml\",\n",
    "        \"question\": \"丰鸟科技在内蒙古主场地的资产清点和撤出的具体原因是什么？\"\n",
    "    },\n",
    "    {\n",
    "        \"url\": \"https://user.guancha.cn/main/content?id=1257033\",\n",
    "        \"question\": \"电池工厂火灾的具体起因是什么？\"\n",
    "    },\n",
    "    {\n",
    "        \"url\": \"https://user.guancha.cn/main/content?id=1257049\",\n",
    "        \"question\": \"莫迪计划推出的亲商改革具体包括哪些措施？\"\n",
    "    },\n",
    "    {\n",
    "        \"url\": \"https://www.guancha.cn/politics/2024_06_26_739354.shtml\",\n",
    "        \"question\": \"金融监管总局支持信托公司和理财公司加大创业投资力度的具体措施有哪些？\"\n",
    "    },\n",
    "    {\n",
    "        \"url\": \"https://www.guancha.cn/gaotianwei/2024_06_24_739062_s.shtml\",\n",
    "        \"question\": \"我们为什么要发展可重复使用运载火箭的验证箭？\"\n",
    "    },\n",
    "    {\n",
    "        \"url\": \"https://www.guancha.cn/economy/2024_06_26_739352.shtml\",\n",
    "        \"question\": \"中小银行合并重组的原因是什么？\"\n",
    "    },\n",
    "    {\n",
    "        \"url\": \"https://www.guancha.cn/internation/2024_06_27_739492.shtml\",\n",
    "        \"question\": \"除了菲律宾，日本政府还计划在哪些东南亚国家推广5G建设计划？\"\n",
    "    },\n",
    "    {\n",
    "        \"url\": \"https://www.guancha.cn/politics/2024_06_27_739480.shtml\",\n",
    "        \"question\": \"尤勇智对年轻演员有何建议？\"\n",
    "    },\n",
    "    {\n",
    "        \"url\": \"https://user.guancha.cn/main/content?id=1257405\",\n",
    "        \"question\": \"俄罗斯如何对待塞尔维亚总统武契奇的表态？\"\n",
    "    },\n",
    "    {\n",
    "        \"url\": \"https://www.guancha.cn/internation/2024_06_27_739443_s.shtml\",\n",
    "        \"question\": \"梅洛尼在欧盟高层人选提名问题上的态度是什么？\"\n",
    "    },\n",
    "    {\n",
    "        \"url\": \"https://www.guancha.cn/internation/2024_06_27_739432.shtml\",\n",
    "        \"question\": \"金砖国家为什么决定暂时停止接纳新成员国？\"\n",
    "    },\n",
    "    {\n",
    "        \"url\": \"https://www.guancha.cn/internation/2024_06_27_739441.shtml\",\n",
    "        \"question\": \"印尼旅游业面临的竞争压力有哪些？\"\n",
    "    },\n",
    "    {\n",
    "        \"url\": \"https://www.guancha.cn/XueKaiHuan/2024_06_24_739023_s.shtml\",\n",
    "        \"question\": \"波兰近年来在对华政策上采取的“双轨政策”具体体现在哪些方面？\"\n",
    "    },\n",
    "    {\n",
    "        \"url\": \"https://www.guancha.cn/economy/2024_06_27_739420.shtml\",\n",
    "        \"question\": \"为了加强技能人才培养并解决结构性就业矛盾，国务院常务会议部署了哪些具体措施？\"\n",
    "    },\n",
    "    {\n",
    "        \"url\": \"https://user.guancha.cn/main/content?id=1257296\",\n",
    "        \"question\": \"以色列内塔尼亚胡所述的“激战阶段”如何定义？\"\n",
    "    },\n",
    "    {\n",
    "        \"url\": \"https://www.guancha.cn/ShiYang/2024_06_23_738937_s.shtml\",\n",
    "        \"question\": \"菲律宾为何选择派遣运补船和充气艇非法进入中国南沙群岛仁爱礁邻近海域？\"\n",
    "    },\n",
    "    {\n",
    "        \"url\": \"https://www.guancha.cn/fengchao/2024_06_23_738933_s.shtml\",\n",
    "        \"question\": \"普京访越期间，俄罗斯和越南就哪些领域的合作达成了新的协议或共识？\"\n",
    "    }\n",
    "]"
   ]
  },
  {
   "cell_type": "code",
   "execution_count": 4,
   "id": "166208d4-b60d-43db-be9e-d74f8e6bc99a",
   "metadata": {},
   "outputs": [],
   "source": [
    "import logging\n",
    "import sys\n",
    "\n",
    "logging.basicConfig(stream=sys.stdout, level=logging.DEBUG, force=True)"
   ]
  },
  {
   "cell_type": "code",
   "execution_count": 4,
   "id": "84c5a23e-cf3d-4b2c-b1ba-4899a446b27e",
   "metadata": {},
   "outputs": [
    {
     "name": "stdout",
     "output_type": "stream",
     "text": [
      "CPU times: user 136 ms, sys: 111 ms, total: 247 ms\n",
      "Wall time: 102 ms\n"
     ]
    }
   ],
   "source": [
    "%%time\n",
    "\n",
    "import requests\n",
    "from gne import GeneralNewsExtractor\n",
    "\n",
    "def get_news_data(url):\n",
    "    response = requests.get(url)\n",
    "    html = response.text\n",
    "\n",
    "    extractor = GeneralNewsExtractor()\n",
    "    data = extractor.extract(html, noise_node_list=[\n",
    "                               '//div[@class=\"comment-list\"]'])\n",
    "    data['url']=url\n",
    "    return data"
   ]
  },
  {
   "cell_type": "code",
   "execution_count": 5,
   "id": "5801562c-3e2f-4237-9171-2463e5b7c33a",
   "metadata": {},
   "outputs": [
    {
     "name": "stdout",
     "output_type": "stream",
     "text": [
      "CPU times: user 2 s, sys: 16.1 ms, total: 2.01 s\n",
      "Wall time: 4.62 s\n"
     ]
    }
   ],
   "source": [
    "%%time\n",
    "\n",
    "import json\n",
    "\n",
    "for news in test_data:\n",
    "    data=get_news_data(news['url'])\n",
    "    data['url']=news['url']\n",
    "    file_path = f'./{DATA_PATH}/{data[\"title\"]}.json'\n",
    "    with open(file_path, 'w') as json_file:\n",
    "        json.dump(data, json_file, indent=4)"
   ]
  },
  {
   "cell_type": "code",
   "execution_count": 6,
   "id": "92294140-e970-4a2b-a866-98a5a3fa9d83",
   "metadata": {},
   "outputs": [
    {
     "name": "stdout",
     "output_type": "stream",
     "text": [
      "CPU times: user 2.55 s, sys: 200 ms, total: 2.75 s\n",
      "Wall time: 2.56 s\n"
     ]
    }
   ],
   "source": [
    "%%time\n",
    "\n",
    "from llama_index.core import(\n",
    "    Document\n",
    ")\n",
    "\n",
    "def data2doc(news_data):\n",
    "    document=Document(text=news_data['content'], \n",
    "                  metadata={\"title\": news_data['title'],\n",
    "                            'publish_time': news_data['publish_time'],\n",
    "                            'author': news_data['author'],\n",
    "                            'url': news_data['url'],\n",
    "                            'images': news_data['images'],\n",
    "                           })\n",
    "    document.doc_id = document.metadata[\"title\"]\n",
    "    return document"
   ]
  },
  {
   "cell_type": "code",
   "execution_count": 7,
   "id": "6d9554c0-23bc-477b-beb0-f4e5dc818fb1",
   "metadata": {},
   "outputs": [
    {
     "name": "stdout",
     "output_type": "stream",
     "text": [
      "CPU times: user 18.3 ms, sys: 0 ns, total: 18.3 ms\n",
      "Wall time: 3.07 s\n"
     ]
    }
   ],
   "source": [
    "%%time\n",
    "\n",
    "from llama_index.core import SimpleDirectoryReader\n",
    "\n",
    "documents=SimpleDirectoryReader(input_dir=f\"./{DATA_PATH}\").load_data(num_workers=4)\n",
    "for document in documents:\n",
    "    document.doc_id=document.metadata['file_name']"
   ]
  },
  {
   "cell_type": "code",
   "execution_count": 8,
   "id": "6a2323ab-0523-4938-b8e0-0b2af389445c",
   "metadata": {},
   "outputs": [
    {
     "name": "stdout",
     "output_type": "stream",
     "text": [
      "CPU times: user 1.79 ms, sys: 0 ns, total: 1.79 ms\n",
      "Wall time: 1.64 ms\n"
     ]
    },
    {
     "data": {
      "text/plain": [
       "18"
      ]
     },
     "execution_count": 8,
     "metadata": {},
     "output_type": "execute_result"
    }
   ],
   "source": [
    "%%time\n",
    "\n",
    "import json\n",
    "\n",
    "docs=[]\n",
    "for document in documents:\n",
    "    news_data=json.loads(document.text) # documents[0].text\n",
    "    docs.append(data2doc(news_data))\n",
    "\n",
    "documents=docs\n",
    "\n",
    "len(docs)"
   ]
  },
  {
   "cell_type": "code",
   "execution_count": 9,
   "id": "d9b84a89-9a56-40fb-b392-6d029182b6b9",
   "metadata": {},
   "outputs": [
    {
     "name": "stdout",
     "output_type": "stream",
     "text": [
      "CPU times: user 1.42 ms, sys: 119 µs, total: 1.54 ms\n",
      "Wall time: 1.37 ms\n"
     ]
    }
   ],
   "source": [
    "%%time\n",
    "\n",
    "import nest_asyncio\n",
    "nest_asyncio.apply()"
   ]
  },
  {
   "cell_type": "code",
   "execution_count": 10,
   "id": "5d3eec82-2a1f-4d7f-afe5-7950c2679253",
   "metadata": {},
   "outputs": [
    {
     "name": "stdout",
     "output_type": "stream",
     "text": [
      "CPU times: user 655 ms, sys: 35.9 ms, total: 691 ms\n",
      "Wall time: 691 ms\n"
     ]
    }
   ],
   "source": [
    "%%time\n",
    "\n",
    "# 加载llm和embeddings\n",
    "%run ../utils2.py\n",
    "\n",
    "from llama_index.core import Settings\n",
    "\n",
    "Settings.llm=get_llm()\n",
    "Settings.embed_model=get_embedding()"
   ]
  },
  {
   "cell_type": "code",
   "execution_count": 11,
   "id": "872783ce-cddd-46f1-abb3-b9fed052c6b5",
   "metadata": {},
   "outputs": [
    {
     "data": {
      "application/vnd.jupyter.widget-view+json": {
       "model_id": "d012538f6ef8441d870593b5084a8ba7",
       "version_major": 2,
       "version_minor": 0
      },
      "text/plain": [
       "Parsing nodes:   0%|          | 0/18 [00:00<?, ?it/s]"
      ]
     },
     "metadata": {},
     "output_type": "display_data"
    },
    {
     "data": {
      "application/vnd.jupyter.widget-view+json": {
       "model_id": "17711c5dc9df4b448f777d889ab333b5",
       "version_major": 2,
       "version_minor": 0
      },
      "text/plain": [
       "Summarizing documents:   0%|          | 0/18 [00:00<?, ?it/s]"
      ]
     },
     "metadata": {},
     "output_type": "display_data"
    },
    {
     "name": "stdout",
     "output_type": "stream",
     "text": [
      "current doc id: “塞铁”跳反了？塞尔维亚“背刺”俄罗斯：承认已暗中向乌克兰提供8亿美元弹药！\n",
      "current doc id: “对抗中国技术”，日本计划帮菲律宾建设5G通信网络\n",
      "current doc id: 一周军评：菲律宾“后继乏力”，我们的考验又在哪里？\n",
      "current doc id: 丁刚：中印能实现龙象共舞吗？\n",
      "current doc id: 中东又一场战争可能要爆发了！\n",
      "current doc id: 中小银行改革加速度，今年来超80家开启合并重组模式\n",
      "current doc id: 冯超：普京访越，透视出的国家相处之道应该是什么？\n",
      "current doc id: 印尼考虑对华免签，预计10月份前敲定\n",
      "current doc id: 国常会：一视同仁支持内外资企业参与大规模设备更新、政府采购和投资\n",
      "current doc id: 子政：和平共处五项原则历久弥新的原因是什么？\n",
      "current doc id: 尤勇智：不可想象！现在素人、网红、有背景的人都能来演戏\n",
      "current doc id: 拉夫罗夫：金砖十国已投票决定，暂时停止扩员以专注整合新成员国\n",
      "current doc id: 欧盟“内定”冯德莱恩连任，意大利总理警告：注定在欧洲议会遇到困难\n",
      "current doc id: 科工力量：前有高铁，后有快递小哥，支线物流在中国飞不起来？\n",
      "current doc id: 薛凯恒：日渐亲美的波兰，是否会改变一贯的对华中立政策？\n",
      "current doc id: 金融监管总局：将研究提高保险资金投资创业投资基金集中度的比例上限\n",
      "current doc id: 韩国电池厂火灾17名中国人遇难：有多少同胞，在韩国打工？\n",
      "current doc id: 高天伟：国产可重复火箭完成10公里测试，有一点与马斯克很不一样\n"
     ]
    },
    {
     "data": {
      "application/vnd.jupyter.widget-view+json": {
       "model_id": "be529376fd8e4cfa839266c919743583",
       "version_major": 2,
       "version_minor": 0
      },
      "text/plain": [
       "Generating embeddings:   0%|          | 0/18 [00:00<?, ?it/s]"
      ]
     },
     "metadata": {},
     "output_type": "display_data"
    },
    {
     "name": "stdout",
     "output_type": "stream",
     "text": [
      "CPU times: user 1.08 s, sys: 58.6 ms, total: 1.14 s\n",
      "Wall time: 6min 52s\n"
     ]
    }
   ],
   "source": [
    "%%time\n",
    "\n",
    "from llama_index.core import get_response_synthesizer\n",
    "from llama_index.core import DocumentSummaryIndex\n",
    "from llama_index.core.node_parser import SentenceSplitter\n",
    "\n",
    "splitter = SentenceSplitter(chunk_size=1024)\n",
    "\n",
    "response_synthesizer = get_response_synthesizer(\n",
    "    response_mode=\"tree_summarize\", use_async=True\n",
    ")\n",
    "\n",
    "doc_summary_index = DocumentSummaryIndex.from_documents(\n",
    "    documents,\n",
    "    transformations=[splitter],\n",
    "    response_synthesizer=response_synthesizer,\n",
    "    show_progress=True,\n",
    ")"
   ]
  },
  {
   "cell_type": "code",
   "execution_count": 12,
   "id": "445504a0-c0e6-4fbc-9082-ede6c3918484",
   "metadata": {},
   "outputs": [
    {
     "name": "stdout",
     "output_type": "stream",
     "text": [
      "CPU times: user 52.9 ms, sys: 8.1 ms, total: 61 ms\n",
      "Wall time: 60.2 ms\n"
     ]
    }
   ],
   "source": [
    "%%time\n",
    "\n",
    "doc_summary_index.storage_context.persist(INDEX_PATH)"
   ]
  },
  {
   "cell_type": "code",
   "execution_count": 26,
   "id": "106bff5e-ad38-4f0b-8c43-eec504e1db3a",
   "metadata": {},
   "outputs": [
    {
     "name": "stdout",
     "output_type": "stream",
     "text": [
      "CPU times: user 103 ms, sys: 0 ns, total: 103 ms\n",
      "Wall time: 102 ms\n"
     ]
    }
   ],
   "source": [
    "%%time\n",
    "\n",
    "from llama_index.core import load_index_from_storage\n",
    "from llama_index.core import StorageContext\n",
    "\n",
    "# rebuild storage context\n",
    "storage_context = StorageContext.from_defaults(persist_dir=INDEX_PATH)\n",
    "doc_summary_index = load_index_from_storage(storage_context)"
   ]
  },
  {
   "cell_type": "markdown",
   "id": "abc46796-4f56-4826-8e72-ea2eee2d64ac",
   "metadata": {},
   "source": [
    "## 检索"
   ]
  },
  {
   "cell_type": "markdown",
   "id": "6b328881-16a6-4cf6-98d5-352322b882bd",
   "metadata": {},
   "source": [
    "### 简单测试"
   ]
  },
  {
   "cell_type": "code",
   "execution_count": 27,
   "id": "455b4213-d6ac-49e9-8639-5c1d98e9e0de",
   "metadata": {},
   "outputs": [
    {
     "name": "stdout",
     "output_type": "stream",
     "text": [
      "CPU times: user 6.63 ms, sys: 45 µs, total: 6.67 ms\n",
      "Wall time: 107 ms\n"
     ]
    }
   ],
   "source": [
    "%%time\n",
    "\n",
    "from llama_index.core.indices.document_summary import (\n",
    "    DocumentSummaryIndexEmbeddingRetriever,\n",
    ")\n",
    "\n",
    "retriever = DocumentSummaryIndexEmbeddingRetriever(\n",
    "    doc_summary_index,\n",
    "    # similarity_top_k=1,\n",
    ")\n",
    "\n",
    "retrieved_nodes = retriever.retrieve(test_data[0][\"question\"])"
   ]
  },
  {
   "cell_type": "code",
   "execution_count": 28,
   "id": "3b68507c-e0fe-4860-a271-2d98b6d2d2a9",
   "metadata": {},
   "outputs": [
    {
     "data": {
      "text/plain": [
       "{'title': '冯超：普京访越，透视出的国家相处之道应该是什么？',\n",
       " 'publish_time': '2024-06-23 08:48:43',\n",
       " 'author': '小婷',\n",
       " 'url': 'https://www.guancha.cn/fengchao/2024_06_23_738933_s.shtml',\n",
       " 'images': ['https://i.guancha.cn/news/dfic/2024/06/21/20240621150313664.jpg',\n",
       "  'https://i.guancha.cn/news/dfic/2024/06/21/20240621150436659.jpg',\n",
       "  'https://i.guancha.cn/shiping-banner.jpg']}"
      ]
     },
     "execution_count": 28,
     "metadata": {},
     "output_type": "execute_result"
    }
   ],
   "source": [
    "retrieved_nodes[0].metadata"
   ]
  },
  {
   "cell_type": "code",
   "execution_count": 29,
   "id": "d092dd11-4f0f-488d-9099-5690562bf506",
   "metadata": {},
   "outputs": [
    {
     "data": {
      "text/plain": [
       "False"
      ]
     },
     "execution_count": 29,
     "metadata": {},
     "output_type": "execute_result"
    }
   ],
   "source": [
    "retrieved_nodes[0].metadata['url']==test_data[0][\"url\"]"
   ]
  },
  {
   "cell_type": "markdown",
   "id": "d9d77e96-08ec-4927-bf7a-7fcdff2f6dc5",
   "metadata": {},
   "source": [
    "### k=1"
   ]
  },
  {
   "cell_type": "code",
   "execution_count": 30,
   "id": "668100dc-5fa2-4179-9a67-36f2454edcb5",
   "metadata": {},
   "outputs": [
    {
     "name": "stdout",
     "output_type": "stream",
     "text": [
      "CPU times: user 87.6 ms, sys: 450 µs, total: 88 ms\n",
      "Wall time: 1.7 s\n"
     ]
    },
    {
     "data": {
      "text/plain": [
       "[False,\n",
       " False,\n",
       " True,\n",
       " True,\n",
       " False,\n",
       " True,\n",
       " True,\n",
       " True,\n",
       " True,\n",
       " True,\n",
       " False,\n",
       " False,\n",
       " False,\n",
       " False,\n",
       " True,\n",
       " True,\n",
       " False,\n",
       " True]"
      ]
     },
     "execution_count": 30,
     "metadata": {},
     "output_type": "execute_result"
    }
   ],
   "source": [
    "%%time\n",
    "\n",
    "retriever = DocumentSummaryIndexEmbeddingRetriever(\n",
    "    doc_summary_index,\n",
    "    similarity_top_k=1,\n",
    ")\n",
    "\n",
    "results=[]\n",
    "\n",
    "for news in test_data:\n",
    "    retrieved_nodes = retriever.retrieve(news[\"question\"])\n",
    "    result=False\n",
    "    for node in retrieved_nodes:\n",
    "        # print(news[\"question\"])\n",
    "        if node.metadata['url']==news[\"url\"]:\n",
    "            result=True\n",
    "            break\n",
    "    results.append(result)\n",
    "\n",
    "results"
   ]
  },
  {
   "cell_type": "code",
   "execution_count": 31,
   "id": "75f96bf9-e689-49df-b90e-557a4d3a6b7d",
   "metadata": {},
   "outputs": [
    {
     "data": {
      "text/plain": [
       "0.5555555555555556"
      ]
     },
     "execution_count": 31,
     "metadata": {},
     "output_type": "execute_result"
    }
   ],
   "source": [
    "results.count(True) / len(results)"
   ]
  },
  {
   "cell_type": "markdown",
   "id": "7d6376fa-4477-4f5c-872e-b23a4811c66f",
   "metadata": {},
   "source": [
    "### k=2"
   ]
  },
  {
   "cell_type": "code",
   "execution_count": 32,
   "id": "0373309d-7a80-4870-ba0d-0c1ec4fd0185",
   "metadata": {},
   "outputs": [
    {
     "name": "stdout",
     "output_type": "stream",
     "text": [
      "CPU times: user 101 ms, sys: 476 µs, total: 101 ms\n",
      "Wall time: 1.7 s\n"
     ]
    },
    {
     "data": {
      "text/plain": [
       "0.8333333333333334"
      ]
     },
     "execution_count": 32,
     "metadata": {},
     "output_type": "execute_result"
    }
   ],
   "source": [
    "%%time\n",
    "\n",
    "retriever = DocumentSummaryIndexEmbeddingRetriever(\n",
    "    doc_summary_index,\n",
    "    similarity_top_k=2,\n",
    ")\n",
    "\n",
    "results=[]\n",
    "\n",
    "for news in test_data:\n",
    "    retrieved_nodes = retriever.retrieve(news[\"question\"])\n",
    "    result=False\n",
    "    for node in retrieved_nodes:\n",
    "        if node.metadata['url']==news[\"url\"]:\n",
    "            result=True\n",
    "            break\n",
    "    results.append(result)\n",
    "\n",
    "results.count(True) / len(results)"
   ]
  },
  {
   "cell_type": "markdown",
   "id": "61dd0dfd-988b-43d2-9eef-d8668b2e99ee",
   "metadata": {},
   "source": [
    "### k=3"
   ]
  },
  {
   "cell_type": "code",
   "execution_count": 19,
   "id": "05d837af-047f-44d8-bde5-d437b463968f",
   "metadata": {},
   "outputs": [
    {
     "name": "stdout",
     "output_type": "stream",
     "text": [
      "CPU times: user 113 ms, sys: 608 µs, total: 114 ms\n",
      "Wall time: 1.73 s\n"
     ]
    },
    {
     "data": {
      "text/plain": [
       "0.8333333333333334"
      ]
     },
     "execution_count": 19,
     "metadata": {},
     "output_type": "execute_result"
    }
   ],
   "source": [
    "%%time\n",
    "\n",
    "retriever = DocumentSummaryIndexEmbeddingRetriever(\n",
    "    doc_summary_index,\n",
    "    similarity_top_k=3,\n",
    ")\n",
    "\n",
    "results=[]\n",
    "\n",
    "for news in test_data:\n",
    "    retrieved_nodes = retriever.retrieve(news[\"question\"])\n",
    "    result=False\n",
    "    for node in retrieved_nodes:\n",
    "        if node.metadata['url']==news[\"url\"]:\n",
    "            result=True\n",
    "            break\n",
    "    results.append(result)\n",
    "\n",
    "results.count(True) / len(results)"
   ]
  },
  {
   "cell_type": "markdown",
   "id": "ff4ed1d2-170c-4709-9a3d-5322bacc1436",
   "metadata": {},
   "source": [
    "### k=5"
   ]
  },
  {
   "cell_type": "code",
   "execution_count": 20,
   "id": "d7f2ef66-158f-47b3-8aa0-873c940f1fd3",
   "metadata": {},
   "outputs": [
    {
     "name": "stdout",
     "output_type": "stream",
     "text": [
      "CPU times: user 132 ms, sys: 4.88 ms, total: 137 ms\n",
      "Wall time: 1.75 s\n"
     ]
    },
    {
     "data": {
      "text/plain": [
       "0.8333333333333334"
      ]
     },
     "execution_count": 20,
     "metadata": {},
     "output_type": "execute_result"
    }
   ],
   "source": [
    "%%time\n",
    "\n",
    "retriever = DocumentSummaryIndexEmbeddingRetriever(\n",
    "    doc_summary_index,\n",
    "    similarity_top_k=5,\n",
    ")\n",
    "\n",
    "results=[]\n",
    "\n",
    "for news in test_data:\n",
    "    retrieved_nodes = retriever.retrieve(news[\"question\"])\n",
    "    result=False\n",
    "    for node in retrieved_nodes:\n",
    "        if node.metadata['url']==news[\"url\"]:\n",
    "            result=True\n",
    "            break\n",
    "    results.append(result)\n",
    "\n",
    "results.count(True) / len(results)"
   ]
  },
  {
   "cell_type": "markdown",
   "id": "8cb54f5f-f739-460e-a323-bb934e5d7161",
   "metadata": {},
   "source": [
    "### k=6"
   ]
  },
  {
   "cell_type": "code",
   "execution_count": 21,
   "id": "4dc39b5c-8f68-46eb-9be7-248266989448",
   "metadata": {},
   "outputs": [
    {
     "name": "stdout",
     "output_type": "stream",
     "text": [
      "CPU times: user 133 ms, sys: 12.4 ms, total: 146 ms\n",
      "Wall time: 1.71 s\n"
     ]
    },
    {
     "data": {
      "text/plain": [
       "0.8888888888888888"
      ]
     },
     "execution_count": 21,
     "metadata": {},
     "output_type": "execute_result"
    }
   ],
   "source": [
    "%%time\n",
    "\n",
    "retriever = DocumentSummaryIndexEmbeddingRetriever(\n",
    "    doc_summary_index,\n",
    "    similarity_top_k=6,\n",
    ")\n",
    "\n",
    "results=[]\n",
    "\n",
    "for news in test_data:\n",
    "    retrieved_nodes = retriever.retrieve(news[\"question\"])\n",
    "    result=False\n",
    "    for node in retrieved_nodes:\n",
    "        if node.metadata['url']==news[\"url\"]:\n",
    "            result=True\n",
    "            break\n",
    "    results.append(result)\n",
    "\n",
    "results.count(True) / len(results)"
   ]
  },
  {
   "cell_type": "markdown",
   "id": "fbd7ffe9-5512-4bda-a889-12b985c6bc76",
   "metadata": {},
   "source": [
    "### k=len(test_data)"
   ]
  },
  {
   "cell_type": "code",
   "execution_count": 22,
   "id": "a62097b9-47bf-4172-a069-71d52b30c226",
   "metadata": {},
   "outputs": [
    {
     "data": {
      "text/plain": [
       "18"
      ]
     },
     "execution_count": 22,
     "metadata": {},
     "output_type": "execute_result"
    }
   ],
   "source": [
    "len(test_data)"
   ]
  },
  {
   "cell_type": "code",
   "execution_count": 23,
   "id": "09ee5362-8c42-4efa-8539-55d4a82b6e49",
   "metadata": {},
   "outputs": [
    {
     "name": "stdout",
     "output_type": "stream",
     "text": [
      "CPU times: user 291 ms, sys: 0 ns, total: 291 ms\n",
      "Wall time: 1.91 s\n"
     ]
    },
    {
     "data": {
      "text/plain": [
       "1.0"
      ]
     },
     "execution_count": 23,
     "metadata": {},
     "output_type": "execute_result"
    }
   ],
   "source": [
    "%%time\n",
    "\n",
    "retriever = DocumentSummaryIndexEmbeddingRetriever(\n",
    "    doc_summary_index,\n",
    "    similarity_top_k=len(test_data),\n",
    ")\n",
    "\n",
    "results=[]\n",
    "\n",
    "for news in test_data:\n",
    "    retrieved_nodes = retriever.retrieve(news[\"question\"])\n",
    "    result=False\n",
    "    for node in retrieved_nodes:\n",
    "        if node.metadata['url']==news[\"url\"]:\n",
    "            result=True\n",
    "            break\n",
    "    results.append(result)\n",
    "\n",
    "results.count(True) / len(results)"
   ]
  },
  {
   "cell_type": "code",
   "execution_count": 24,
   "id": "3926f3d9-096b-4420-9a13-4ae82a13b84b",
   "metadata": {},
   "outputs": [
    {
     "data": {
      "text/plain": [
       "'The provided texts discuss the potential for cooperation between India (referred to as \"the elephant\") and China (referred to as \"the dragon\") in various aspects, particularly focusing on their economic relations and manufacturing sectors. The discussions highlight the ambitions of Indian Prime Minister Narendra Modi\\'s government to boost India\\'s manufacturing capabilities and compete with China, which is seen as a major competitor.\\n\\nThe texts delve into several challenges that India faces in achieving its goals:\\n\\n1. **Education and Skill Levels**: There are concerns about the quality of education and skills among the workforce, particularly regarding issues like caste systems that limit opportunities for certain groups.\\n2. **Gender Participation**: The low participation rate of women in the labor market is mentioned as a significant challenge.\\n3. **Infrastructure Issues**: Problems such as land acquisition and minority rights are discussed as barriers to economic development.\\n4. **Dependency on Chinese Imports**: India\\'s reliance on Chinese equipment, intermediate products, and raw materials for its manufacturing sector is highlighted, which complicates efforts to reduce dependence on China.\\n\\nThe texts also address the potential benefits of global supply chain realignment driven by Western countries like the US, which could offer opportunities for Indian manufacturers. However, the key challenge lies in how India can navigate these changes while maintaining a balanced relationship with China and pursuing its own manufacturing ambitions without alienating its traditional trade partner.\\n\\nIn terms of questions that this text can answer:\\n\\n1. **What are the main challenges India faces in developing its manufacturing sector?**\\n2. **How does India\\'s education system impact its workforce capabilities?**\\n3. **Why is gender participation in the Indian labor market lower compared to China?**\\n4. **To what extent is India dependent on Chinese imports for its manufacturing needs, and how might this affect future trade relations with China?**\\n5. **What role can global supply chain realignment play in India\\'s economic development, particularly in relation to China?**\\n6. **How does the political landscape influence India\\'s ability to balance its economic interests with those of other countries like China?**\\n\\nThe texts suggest that for India and China to achieve a harmonious relationship (often metaphorically referred to as \"Dragon-Elephant Dance\"), both nations need to focus on internal reforms, particularly in areas related to education, workforce development, and cultural attitudes towards work. The texts also emphasize the importance of confidence in one\\'s own development path and the ability to navigate complex global dynamics without compromising strategic partnerships.\\n\\nThe reference to Deng Xiaoping\\'s statement underscores the significance of China and India\\'s economic growth for regional stability and prosperity, suggesting that their mutual development is crucial for defining a new era of Asian dominance.'"
      ]
     },
     "execution_count": 24,
     "metadata": {},
     "output_type": "execute_result"
    }
   ],
   "source": [
    "doc_summary_index.get_document_summary(\"丁刚：中印能实现龙象共舞吗？\")"
   ]
  },
  {
   "cell_type": "code",
   "execution_count": 25,
   "id": "cef9b4db-0636-43f9-8c87-3f55fdab0ded",
   "metadata": {},
   "outputs": [
    {
     "name": "stdout",
     "output_type": "stream",
     "text": [
      "CPU times: user 180 ms, sys: 619 µs, total: 181 ms\n",
      "Wall time: 1.8 s\n"
     ]
    },
    {
     "data": {
      "text/plain": [
       "0.8888888888888888"
      ]
     },
     "execution_count": 25,
     "metadata": {},
     "output_type": "execute_result"
    }
   ],
   "source": [
    "%%time\n",
    "\n",
    "retriever = DocumentSummaryIndexEmbeddingRetriever(\n",
    "    doc_summary_index,\n",
    "    similarity_top_k=len(test_data)/2,\n",
    ")\n",
    "\n",
    "results=[]\n",
    "\n",
    "for news in test_data:\n",
    "    retrieved_nodes = retriever.retrieve(news[\"question\"])\n",
    "    result=False\n",
    "    for node in retrieved_nodes:\n",
    "        if node.metadata['url']==news[\"url\"]:\n",
    "            result=True\n",
    "            break\n",
    "    results.append(result)\n",
    "\n",
    "results.count(True) / len(results)"
   ]
  },
  {
   "cell_type": "code",
   "execution_count": null,
   "id": "5dd827f6-7867-4c71-9cb7-40194e38ea72",
   "metadata": {},
   "outputs": [],
   "source": []
  }
 ],
 "metadata": {
  "kernelspec": {
   "display_name": "Python 3 (ipykernel)",
   "language": "python",
   "name": "python3"
  },
  "language_info": {
   "codemirror_mode": {
    "name": "ipython",
    "version": 3
   },
   "file_extension": ".py",
   "mimetype": "text/x-python",
   "name": "python",
   "nbconvert_exporter": "python",
   "pygments_lexer": "ipython3",
   "version": "3.10.12"
  }
 },
 "nbformat": 4,
 "nbformat_minor": 5
}
