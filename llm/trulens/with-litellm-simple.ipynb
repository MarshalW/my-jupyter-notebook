{
 "cells": [
  {
   "cell_type": "markdown",
   "id": "56f24851-ea05-4b20-ace5-2a1c83c92e4c",
   "metadata": {},
   "source": [
    "# 通过 LiteLLM 定制 llm 和嵌入模型"
   ]
  },
  {
   "cell_type": "markdown",
   "id": "786573a0-46c8-4731-9365-fa95ac13988f",
   "metadata": {},
   "source": [
    "https://github.com/truera/trulens/blob/main/trulens_eval/examples/expositional/models/litellm_quickstart.ipynb\n",
    "\n",
    "初步结论：\n",
    "\n",
    "- 对openai的依赖很高，包括嵌入模型\n",
    "- 国内模型都缺少token计费，无法作为评估模型\n",
    "- trulen有很多隐藏的bug，调试起来问题较多"
   ]
  },
  {
   "cell_type": "code",
   "execution_count": 1,
   "id": "7a016b39-4b3e-4934-ac47-315cf9c2e982",
   "metadata": {},
   "outputs": [
    {
     "name": "stdout",
     "output_type": "stream",
     "text": [
      "CPU times: user 8 µs, sys: 2 µs, total: 10 µs\n",
      "Wall time: 11.4 µs\n"
     ]
    }
   ],
   "source": [
    "%%time\n",
    "\n",
    "import os\n",
    "\n",
    "base_url = \"http://ape:3000/v1\"\n",
    "api_key = \"sk-bJP6QSnUfjAYeYeE505d3eBf63A643BeB0B8E350Df9b7750\"\n",
    "\n",
    "os.environ[\"OPENAI_API_KEY\"] = api_key\n",
    "os.environ[\"OPENAI_API_BASE\"] = base_url"
   ]
  },
  {
   "cell_type": "code",
   "execution_count": 2,
   "id": "7ed0a469-5542-4531-90c7-66326f6c7057",
   "metadata": {},
   "outputs": [
    {
     "name": "stdout",
     "output_type": "stream",
     "text": [
      "CPU times: user 512 µs, sys: 96 µs, total: 608 µs\n",
      "Wall time: 453 µs\n"
     ]
    }
   ],
   "source": [
    "%%time\n",
    "\n",
    "import nest_asyncio\n",
    "nest_asyncio.apply()"
   ]
  },
  {
   "cell_type": "code",
   "execution_count": 3,
   "id": "511142a9-9cfc-4080-a961-07656dc4335a",
   "metadata": {},
   "outputs": [],
   "source": [
    "university_info = \"\"\"\n",
    "The University of Washington, founded in 1861 in Seattle, is a public research university\n",
    "with over 45,000 students across three campuses in Seattle, Tacoma, and Bothell.\n",
    "As the flagship institution of the six public universities in Washington state,\n",
    "UW encompasses over 500 buildings and 20 million square feet of space,\n",
    "including one of the largest library systems in the world.\n",
    "\"\"\""
   ]
  },
  {
   "cell_type": "code",
   "execution_count": 4,
   "id": "8d2e60a9-5ca2-4e08-91dc-ea30038a4792",
   "metadata": {},
   "outputs": [
    {
     "name": "stdout",
     "output_type": "stream",
     "text": [
      "CPU times: user 894 ms, sys: 180 ms, total: 1.07 s\n",
      "Wall time: 882 ms\n"
     ]
    }
   ],
   "source": [
    "%%time\n",
    "\n",
    "from chromadb.utils.embedding_functions import OpenAIEmbeddingFunction\n",
    "\n",
    "embedding_function = OpenAIEmbeddingFunction(\n",
    "    # openai embedding\n",
    "    api_key=api_key,\n",
    "    model_name=\"text-embedding-ada-002\",\n",
    "    api_base=base_url,\n",
    "\n",
    "    # # bge，可以，但是trulens中会报错\n",
    "    # api_key=\"ollama\",\n",
    "    # model_name=\"quentinz/bge-large-zh-v1.5\",\n",
    "    # api_base=\"http://monkey:11434/v1\",\n",
    "\n",
    "    # # gte\n",
    "    # api_key=\"ollama\",\n",
    "    # model_name=\"rjmalagon/gte-qwen2-1.5b-instruct-embed-f16\",\n",
    "    # api_base=\"http://monkey:11434/v1\",\n",
    ")"
   ]
  },
  {
   "cell_type": "code",
   "execution_count": 5,
   "id": "85f63a17-09a0-42bc-80a2-37ec5fcff300",
   "metadata": {},
   "outputs": [],
   "source": [
    "import chromadb\n",
    "\n",
    "chroma_client = chromadb.Client()\n",
    "vector_store = chroma_client.get_or_create_collection(\n",
    "    name=\"Universities\",\n",
    "    embedding_function=embedding_function\n",
    ")"
   ]
  },
  {
   "cell_type": "code",
   "execution_count": 6,
   "id": "77591951-8734-455a-8185-49fd2201bd3a",
   "metadata": {},
   "outputs": [
    {
     "name": "stdout",
     "output_type": "stream",
     "text": [
      "CPU times: user 67.1 ms, sys: 568 µs, total: 67.6 ms\n",
      "Wall time: 1.08 s\n"
     ]
    }
   ],
   "source": [
    "%%time\n",
    "\n",
    "vector_store.add(\n",
    "    \"uni_info\",\n",
    "    documents=university_info,\n",
    ")"
   ]
  },
  {
   "cell_type": "code",
   "execution_count": 7,
   "id": "d7e60a19-1943-444c-bbd8-e5508576bff0",
   "metadata": {},
   "outputs": [
    {
     "name": "stdout",
     "output_type": "stream",
     "text": [
      "🦑 Tru initialized with db url sqlite:///default.sqlite .\n",
      "🛑 Secret keys may be written to the database. See the `database_redact_keys` option of `Tru` to prevent this.\n",
      "CPU times: user 5.92 s, sys: 412 ms, total: 6.34 s\n",
      "Wall time: 6.18 s\n"
     ]
    }
   ],
   "source": [
    "%%time\n",
    "\n",
    "from trulens_eval import Tru\n",
    "from trulens_eval.tru_custom_app import instrument\n",
    "\n",
    "tru = Tru()\n",
    "tru.reset_database()"
   ]
  },
  {
   "cell_type": "code",
   "execution_count": 8,
   "id": "4dc7912a-2897-4246-920f-928e092eb454",
   "metadata": {},
   "outputs": [
    {
     "name": "stdout",
     "output_type": "stream",
     "text": [
      "CPU times: user 41 µs, sys: 4 µs, total: 45 µs\n",
      "Wall time: 47.4 µs\n"
     ]
    }
   ],
   "source": [
    "%%time\n",
    "\n",
    "import litellm\n",
    "from litellm import embedding\n",
    "\n",
    "\n",
    "class RAG_from_scratch:\n",
    "    @instrument\n",
    "    def retrieve(self, query: str) -> list:\n",
    "        \"\"\"\n",
    "        Retrieve relevant text from vector store.\n",
    "        \"\"\"\n",
    "        results = vector_store.query(\n",
    "            query_embeddings=embedding(\n",
    "                # openai\n",
    "                model=\"text-embedding-ada-002\", \n",
    "                input=query\n",
    "\n",
    "                # # bge，litellm.APIError: APIError: OpenAIException - 'NoneType' object has no attribute 'get'\n",
    "                # model = \"openai/quentinz/bge-large-zh-v1.5\",\n",
    "                # api_key=\"ollama\",\n",
    "                # api_base=\"http://monkey:11434/v1\",\n",
    "                # input=query,\n",
    "\n",
    "                # # gte, litellm.APIError: APIError: OpenAIException - 'NoneType' object has no attribute 'get'\n",
    "                # model = \"openai/rjmalagon/gte-qwen2-1.5b-instruct-embed-f16\",\n",
    "                # api_key=\"ollama\",\n",
    "                # api_base=\"http://monkey:11434/v1\",\n",
    "                # input=query,\n",
    "                \n",
    "            ).data[0][\"embedding\"],\n",
    "            n_results=2,\n",
    "        )\n",
    "        return results[\"documents\"]\n",
    "\n",
    "    @instrument\n",
    "    def generate_completion(self, query: str, context_str: list) -> str:\n",
    "        \"\"\"\n",
    "        Generate answer from context.\n",
    "        \"\"\"\n",
    "        completion = (\n",
    "            litellm.completion(\n",
    "                # model=\"gpt-3.5-turbo\",\n",
    "                model=\"ollama/qwen2\",\n",
    "                api_base=\"http://monkey:11434\",\n",
    "                temperature=0,\n",
    "                messages=[\n",
    "                    {\n",
    "                        \"role\": \"user\",\n",
    "                        \"content\": f\"We have provided context information below. \\n\"\n",
    "                        f\"---------------------\\n\"\n",
    "                        f\"{context_str}\"\n",
    "                        f\"\\n---------------------\\n\"\n",
    "                        f\"Given this information, please answer the question: {query}\",\n",
    "                    }\n",
    "                ],\n",
    "            )\n",
    "            .choices[0]\n",
    "            .message.content\n",
    "        )\n",
    "        return completion\n",
    "\n",
    "    @instrument\n",
    "    def query(self, query: str) -> str:\n",
    "        context_str = self.retrieve(query)\n",
    "        completion = self.generate_completion(query, context_str)\n",
    "        return completion\n",
    "\n",
    "\n",
    "rag = RAG_from_scratch()"
   ]
  },
  {
   "cell_type": "code",
   "execution_count": 9,
   "id": "76b674ff-df8f-41fc-81e2-ac4d48b622cc",
   "metadata": {},
   "outputs": [
    {
     "name": "stdout",
     "output_type": "stream",
     "text": [
      "✅ In Groundedness, input source will be set to __record__.app.retrieve.rets.collect() .\n",
      "✅ In Groundedness, input statement will be set to __record__.main_output or `Select.RecordOutput` .\n",
      "✅ In Answer Relevance, input prompt will be set to __record__.app.retrieve.args.query .\n",
      "✅ In Answer Relevance, input response will be set to __record__.main_output or `Select.RecordOutput` .\n",
      "✅ In Context Relevance, input question will be set to __record__.app.retrieve.args.query .\n",
      "✅ In Context Relevance, input context will be set to __record__.app.retrieve.rets.collect() .\n",
      "✅ In coherence, input text will be set to __record__.main_output or `Select.RecordOutput` .\n",
      "CPU times: user 82.5 ms, sys: 50 µs, total: 82.5 ms\n",
      "Wall time: 82.1 ms\n"
     ]
    }
   ],
   "source": [
    "%%time\n",
    "\n",
    "import numpy as np\n",
    "\n",
    "from trulens_eval import Feedback\n",
    "from trulens_eval import LiteLLM\n",
    "from trulens_eval import Select\n",
    "\n",
    "# Initialize LiteLLM-based feedback function collection class:\n",
    "provider = LiteLLM(\n",
    "    model_engine=\"gpt-3.5-turbo\",\n",
    "\n",
    "    # # 不行: NotFoundError: litellm.NotFoundError: Model not in model_prices_and_context_window.json.\n",
    "    # model_engine=\"ollama/qwen2\",\n",
    "    # api_base=\"http://monkey:11434\",\n",
    "\n",
    "    # model_engine=\"qwen-turbo\",\n",
    ")\n",
    "\n",
    "# Define a groundedness feedback function\n",
    "f_groundedness = (\n",
    "    Feedback(\n",
    "        provider.groundedness_measure_with_cot_reasons, name=\"Groundedness\"\n",
    "    )\n",
    "    .on(Select.RecordCalls.retrieve.rets.collect())\n",
    "    .on_output()\n",
    ")\n",
    "\n",
    "# Question/answer relevance between overall question and answer.\n",
    "f_answer_relevance = (\n",
    "    Feedback(provider.relevance_with_cot_reasons, name=\"Answer Relevance\")\n",
    "    .on(Select.RecordCalls.retrieve.args.query)\n",
    "    .on_output()\n",
    ")\n",
    "\n",
    "# Question/statement relevance between question and each context chunk.\n",
    "f_context_relevance = (\n",
    "    Feedback(\n",
    "        provider.context_relevance_with_cot_reasons, name=\"Context Relevance\"\n",
    "    )\n",
    "    .on(Select.RecordCalls.retrieve.args.query)\n",
    "    .on(Select.RecordCalls.retrieve.rets.collect())\n",
    "    .aggregate(np.mean)\n",
    ")\n",
    "\n",
    "f_coherence = Feedback(\n",
    "    provider.coherence_with_cot_reasons, name=\"coherence\"\n",
    ").on_output()"
   ]
  },
  {
   "cell_type": "code",
   "execution_count": 10,
   "id": "85d59fca-515f-4b99-ad11-04839167bde0",
   "metadata": {},
   "outputs": [],
   "source": [
    "from trulens_eval import TruCustomApp\n",
    "\n",
    "tru_rag = TruCustomApp(\n",
    "    rag,\n",
    "    app_id=\"RAG v1\",\n",
    "    feedbacks=[\n",
    "        f_groundedness,\n",
    "        f_answer_relevance,\n",
    "        f_context_relevance,\n",
    "        f_coherence,\n",
    "    ],\n",
    ")"
   ]
  },
  {
   "cell_type": "code",
   "execution_count": 11,
   "id": "36f7ba6e-8118-4500-987c-9fb3b6acb8fa",
   "metadata": {},
   "outputs": [],
   "source": [
    "import nltk\n",
    "# [nltk_data] Error loading punkt: <urlopen error [Errno 111] Connection\n",
    "nltk.set_proxy('http://myproxy:7890')"
   ]
  },
  {
   "cell_type": "code",
   "execution_count": 12,
   "id": "b402e00a-fedd-4662-bfab-ccbff9ae74ed",
   "metadata": {},
   "outputs": [],
   "source": [
    "with tru_rag as recording:\n",
    "    rag.query(\"Give me a long history of U Dub\")"
   ]
  },
  {
   "cell_type": "code",
   "execution_count": 14,
   "id": "0d20ea65-c1f1-4e96-80ae-e65b4a39aba7",
   "metadata": {},
   "outputs": [
    {
     "data": {
      "text/html": [
       "<div>\n",
       "<style scoped>\n",
       "    .dataframe tbody tr th:only-of-type {\n",
       "        vertical-align: middle;\n",
       "    }\n",
       "\n",
       "    .dataframe tbody tr th {\n",
       "        vertical-align: top;\n",
       "    }\n",
       "\n",
       "    .dataframe thead th {\n",
       "        text-align: right;\n",
       "    }\n",
       "</style>\n",
       "<table border=\"1\" class=\"dataframe\">\n",
       "  <thead>\n",
       "    <tr style=\"text-align: right;\">\n",
       "      <th></th>\n",
       "      <th>coherence</th>\n",
       "      <th>Groundedness</th>\n",
       "      <th>Context Relevance</th>\n",
       "      <th>Answer Relevance</th>\n",
       "      <th>latency</th>\n",
       "      <th>total_cost</th>\n",
       "    </tr>\n",
       "    <tr>\n",
       "      <th>app_id</th>\n",
       "      <th></th>\n",
       "      <th></th>\n",
       "      <th></th>\n",
       "      <th></th>\n",
       "      <th></th>\n",
       "      <th></th>\n",
       "    </tr>\n",
       "  </thead>\n",
       "  <tbody>\n",
       "    <tr>\n",
       "      <th>RAG v1</th>\n",
       "      <td>0.9</td>\n",
       "      <td>0.268421</td>\n",
       "      <td>0.8</td>\n",
       "      <td>1.0</td>\n",
       "      <td>15.0</td>\n",
       "      <td>0.0</td>\n",
       "    </tr>\n",
       "  </tbody>\n",
       "</table>\n",
       "</div>"
      ],
      "text/plain": [
       "        coherence  Groundedness  Context Relevance  Answer Relevance  latency  \\\n",
       "app_id                                                                          \n",
       "RAG v1        0.9      0.268421                0.8               1.0     15.0   \n",
       "\n",
       "        total_cost  \n",
       "app_id              \n",
       "RAG v1         0.0  "
      ]
     },
     "execution_count": 14,
     "metadata": {},
     "output_type": "execute_result"
    }
   ],
   "source": [
    "tru.get_leaderboard(app_ids=[\"RAG v1\"])"
   ]
  },
  {
   "cell_type": "code",
   "execution_count": null,
   "id": "c19479d3-c08c-478a-a93a-e75dbb65b54c",
   "metadata": {},
   "outputs": [],
   "source": []
  }
 ],
 "metadata": {
  "kernelspec": {
   "display_name": "Python 3 (ipykernel)",
   "language": "python",
   "name": "python3"
  },
  "language_info": {
   "codemirror_mode": {
    "name": "ipython",
    "version": 3
   },
   "file_extension": ".py",
   "mimetype": "text/x-python",
   "name": "python",
   "nbconvert_exporter": "python",
   "pygments_lexer": "ipython3",
   "version": "3.10.12"
  }
 },
 "nbformat": 4,
 "nbformat_minor": 5
}
