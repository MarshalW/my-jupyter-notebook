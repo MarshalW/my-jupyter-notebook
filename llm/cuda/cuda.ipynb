{
 "cells": [
  {
   "cell_type": "markdown",
   "id": "27649f03-a9d6-4f2b-bf8a-4cbaa46fc01d",
   "metadata": {},
   "source": [
    "# 使用 cuda\n",
    "\n",
    "## 测试 pytorch 和 cuda 是否工作\n",
    "\n",
    "将打印 cuda 设备名称。"
   ]
  },
  {
   "cell_type": "code",
   "execution_count": 1,
   "id": "a3fc872c-cd14-44bc-ad39-26cd7e85af64",
   "metadata": {},
   "outputs": [
    {
     "data": {
      "text/plain": [
       "'Tesla T4'"
      ]
     },
     "execution_count": 1,
     "metadata": {},
     "output_type": "execute_result"
    }
   ],
   "source": [
    "import torch\n",
    "\n",
    "# 获取 cuda 设备名称\n",
    "torch.cuda.get_device_name()"
   ]
  },
  {
   "cell_type": "markdown",
   "id": "13870cc3-69a2-435b-86c7-1f8ce1663977",
   "metadata": {},
   "source": [
    "## 矩阵乘法对比 gpu 和 cpu 性能\n",
    "\n",
    "矩阵乘法特别适合 gpu，在这种情况下性能比 cpu显著提高。\n",
    "\n",
    "并不是所有情况下都是 gpu 性能好，模型较小的情况下因为内存复制到 gpu 也需要耗时等因素，反而 gpu 会稍慢。"
   ]
  },
  {
   "cell_type": "code",
   "execution_count": 2,
   "id": "cdce8a2a-9ffc-41b4-98ba-71d1d64b9d20",
   "metadata": {},
   "outputs": [
    {
     "name": "stdout",
     "output_type": "stream",
     "text": [
      "在 GPU 上执行矩阵乘法所需时间: 0.15914297103881836 秒\n",
      "在 CPU 上执行矩阵乘法所需时间: 5.190506458282471 秒\n",
      "GPU 性能优于 CPU\n"
     ]
    }
   ],
   "source": [
    "import torch\n",
    "import time\n",
    "\n",
    "'''\n",
    "展示 pytorch 在 gpu 下的性能好于 cpu 的情况\n",
    "\n",
    "# time python3 tmp.py \n",
    "在 GPU 上执行矩阵乘法所需时间: 0.15961813926696777 秒\n",
    "在 CPU 上执行矩阵乘法所需时间: 5.21256160736084 秒\n",
    "GPU 性能优于 CPU\n",
    "\n",
    "real    0m7.622s\n",
    "user    0m22.987s\n",
    "sys     0m0.933s\n",
    "'''\n",
    "\n",
    "# 创建一个大型矩阵（例如 10000x10000 的矩阵）\n",
    "matrix_size = 10000\n",
    "matrix = torch.rand(matrix_size, matrix_size)\n",
    "\n",
    "# 使用 GPU 进行矩阵乘法\n",
    "start_time = time.time()\n",
    "matrix_on_gpu = matrix.to(\"cuda\")\n",
    "result_gpu = torch.mm(matrix_on_gpu, matrix_on_gpu)\n",
    "end_time = time.time()\n",
    "gpu_time = end_time - start_time\n",
    "\n",
    "# 使用 CPU 进行矩阵乘法\n",
    "start_time = time.time()\n",
    "result_cpu = torch.mm(matrix, matrix)\n",
    "end_time = time.time()\n",
    "cpu_time = end_time - start_time\n",
    "\n",
    "# 打印执行时间\n",
    "print(\"在 GPU 上执行矩阵乘法所需时间:\", gpu_time, \"秒\")\n",
    "print(\"在 CPU 上执行矩阵乘法所需时间:\", cpu_time, \"秒\")\n",
    "\n",
    "# 比较 GPU 和 CPU 的性能差异\n",
    "if gpu_time < cpu_time:\n",
    "    print(\"GPU 性能优于 CPU\")\n",
    "else:\n",
    "    print(\"CPU 性能优于 GPU\")"
   ]
  }
 ],
 "metadata": {
  "kernelspec": {
   "display_name": "Python 3 (ipykernel)",
   "language": "python",
   "name": "python3"
  },
  "language_info": {
   "codemirror_mode": {
    "name": "ipython",
    "version": 3
   },
   "file_extension": ".py",
   "mimetype": "text/x-python",
   "name": "python",
   "nbconvert_exporter": "python",
   "pygments_lexer": "ipython3",
   "version": "3.10.12"
  }
 },
 "nbformat": 4,
 "nbformat_minor": 5
}
