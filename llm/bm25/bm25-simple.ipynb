{
 "cells": [
  {
   "cell_type": "markdown",
   "id": "eed3b674-7a88-4fad-a58d-37a9183f1c55",
   "metadata": {},
   "source": [
    "# bm25 简单示例"
   ]
  },
  {
   "cell_type": "code",
   "execution_count": null,
   "id": "cf8788ca-acb2-4a5e-8b6f-3654f7d14a55",
   "metadata": {},
   "outputs": [],
   "source": [
    "https://github.com/ev2900/BM25_Search_Example"
   ]
  },
  {
   "cell_type": "markdown",
   "id": "2f114340-d719-4c08-8432-943bf79e4dbf",
   "metadata": {},
   "source": [
    "## 准备"
   ]
  },
  {
   "cell_type": "code",
   "execution_count": 18,
   "id": "c606be22-54d9-4ead-b66c-ead4708ed384",
   "metadata": {},
   "outputs": [
    {
     "name": "stdout",
     "output_type": "stream",
     "text": [
      "CPU times: user 33.4 ms, sys: 8.48 ms, total: 41.8 ms\n",
      "Wall time: 11.1 s\n"
     ]
    }
   ],
   "source": [
    "%%time\n",
    "%%capture\n",
    "!pip install rank_bm25\n",
    "!pip install jieba"
   ]
  },
  {
   "cell_type": "code",
   "execution_count": 21,
   "id": "f0d17887-4b59-4342-bbb5-d9128d308d90",
   "metadata": {},
   "outputs": [],
   "source": [
    "from rank_bm25 import BM25Okapi\n",
    "import jieba"
   ]
  },
  {
   "cell_type": "markdown",
   "id": "42106ec3-9058-4143-a15a-c6964c7dd0e0",
   "metadata": {},
   "source": [
    "## 创建文档"
   ]
  },
  {
   "cell_type": "code",
   "execution_count": 3,
   "id": "cf23aede-70a9-495c-a422-cc5c0bc9a0c4",
   "metadata": {},
   "outputs": [],
   "source": [
    "corpus = [\n",
    "  \"Hello there good man!\",\n",
    "  \"It is quite windy in London\",\n",
    "  \"How is the weather today?\"\n",
    "]"
   ]
  },
  {
   "cell_type": "markdown",
   "id": "bda3166f-916e-44b2-ae3f-546f8611a33d",
   "metadata": {},
   "source": [
    "## 标记文档"
   ]
  },
  {
   "cell_type": "code",
   "execution_count": 4,
   "id": "18fea52d-0bb7-4d51-a26c-0b6ea08ca92c",
   "metadata": {},
   "outputs": [
    {
     "name": "stdout",
     "output_type": "stream",
     "text": [
      "CPU times: user 3 µs, sys: 1 µs, total: 4 µs\n",
      "Wall time: 6.91 µs\n"
     ]
    }
   ],
   "source": [
    "%%time\n",
    "\n",
    "tokenized_corpus = []\n",
    "for doc in corpus:\n",
    "  doc_tokens = doc.split()\n",
    "  tokenized_corpus.append(doc_tokens)"
   ]
  },
  {
   "cell_type": "code",
   "execution_count": 5,
   "id": "421659df-33f3-4a0f-aa98-192692e623bd",
   "metadata": {},
   "outputs": [
    {
     "data": {
      "text/plain": [
       "[['Hello', 'there', 'good', 'man!'],\n",
       " ['It', 'is', 'quite', 'windy', 'in', 'London'],\n",
       " ['How', 'is', 'the', 'weather', 'today?']]"
      ]
     },
     "execution_count": 5,
     "metadata": {},
     "output_type": "execute_result"
    }
   ],
   "source": [
    "tokenized_corpus"
   ]
  },
  {
   "cell_type": "markdown",
   "id": "06d055dc-6e21-409a-aeb3-2726133d3520",
   "metadata": {},
   "source": [
    "## 创建bm25索引"
   ]
  },
  {
   "cell_type": "code",
   "execution_count": 6,
   "id": "6ec24053-cee7-4751-9b03-9b3775bb8545",
   "metadata": {},
   "outputs": [
    {
     "name": "stdout",
     "output_type": "stream",
     "text": [
      "CPU times: user 28 µs, sys: 9 µs, total: 37 µs\n",
      "Wall time: 38.9 µs\n"
     ]
    }
   ],
   "source": [
    "%%time\n",
    "\n",
    "bm25 = BM25Okapi(tokenized_corpus)"
   ]
  },
  {
   "cell_type": "markdown",
   "id": "53fbf364-9efb-4001-96b5-8d9604458402",
   "metadata": {},
   "source": [
    "## 查询索引"
   ]
  },
  {
   "cell_type": "code",
   "execution_count": 7,
   "id": "e4420ff5-76b4-43d7-8e00-f7d43c2f4843",
   "metadata": {},
   "outputs": [
    {
     "name": "stdout",
     "output_type": "stream",
     "text": [
      "CPU times: user 174 µs, sys: 54 µs, total: 228 µs\n",
      "Wall time: 193 µs\n"
     ]
    },
    {
     "data": {
      "text/plain": [
       "array([0.        , 0.93729472, 0.        ])"
      ]
     },
     "execution_count": 7,
     "metadata": {},
     "output_type": "execute_result"
    }
   ],
   "source": [
    "%%time\n",
    "\n",
    "query = \"windy London\"\n",
    "tokenized_query = query.split(\" \")\n",
    "\n",
    "doc_scores = bm25.get_scores(tokenized_query)\n",
    "doc_scores"
   ]
  },
  {
   "cell_type": "code",
   "execution_count": 8,
   "id": "33c93b4d-e0fc-4375-8107-7c12cfd271c8",
   "metadata": {},
   "outputs": [
    {
     "name": "stdout",
     "output_type": "stream",
     "text": [
      "CPU times: user 92 µs, sys: 29 µs, total: 121 µs\n",
      "Wall time: 125 µs\n"
     ]
    },
    {
     "data": {
      "text/plain": [
       "['It is quite windy in London']"
      ]
     },
     "execution_count": 8,
     "metadata": {},
     "output_type": "execute_result"
    }
   ],
   "source": [
    "%%time\n",
    "\n",
    "doc = bm25.get_top_n(tokenized_query, corpus, n=1)\n",
    "doc"
   ]
  },
  {
   "cell_type": "markdown",
   "id": "0df2078a-7660-4fca-8712-d1f3cfda5cd7",
   "metadata": {},
   "source": [
    "## 中文示例 - 需要特定的分词方法"
   ]
  },
  {
   "cell_type": "code",
   "execution_count": 9,
   "id": "bffa8373-d931-4c9d-a75f-6f2a864c4b41",
   "metadata": {},
   "outputs": [
    {
     "name": "stdout",
     "output_type": "stream",
     "text": [
      "CPU times: user 221 ms, sys: 18.5 ms, total: 239 ms\n",
      "Wall time: 239 ms\n"
     ]
    },
    {
     "data": {
      "text/html": [
       "<div>\n",
       "<style scoped>\n",
       "    .dataframe tbody tr th:only-of-type {\n",
       "        vertical-align: middle;\n",
       "    }\n",
       "\n",
       "    .dataframe tbody tr th {\n",
       "        vertical-align: top;\n",
       "    }\n",
       "\n",
       "    .dataframe thead th {\n",
       "        text-align: right;\n",
       "    }\n",
       "</style>\n",
       "<table border=\"1\" class=\"dataframe\">\n",
       "  <thead>\n",
       "    <tr style=\"text-align: right;\">\n",
       "      <th></th>\n",
       "      <th>文本</th>\n",
       "      <th>分类</th>\n",
       "    </tr>\n",
       "  </thead>\n",
       "  <tbody>\n",
       "    <tr>\n",
       "      <th>0</th>\n",
       "      <td>六分仪（Sextant）是一种用于测量天体角度的仪器，常用于航海和天文导航。</td>\n",
       "      <td>工具</td>\n",
       "    </tr>\n",
       "    <tr>\n",
       "      <th>1</th>\n",
       "      <td>烤白薯是一道美味健康的小吃，下面是简单的制作步骤</td>\n",
       "      <td>菜谱</td>\n",
       "    </tr>\n",
       "    <tr>\n",
       "      <th>2</th>\n",
       "      <td>老鼠是一种常见的小型哺乳动物，属于鼠科。</td>\n",
       "      <td>动物</td>\n",
       "    </tr>\n",
       "    <tr>\n",
       "      <th>3</th>\n",
       "      <td>比瑞吉 优选系列 添加深海鱼油 成猫猫粮2kg</td>\n",
       "      <td>电商</td>\n",
       "    </tr>\n",
       "    <tr>\n",
       "      <th>4</th>\n",
       "      <td>奶酪是一种以牛、羊、山羊或其他动物的乳汁为原料，经过发酵和加工制作而成的食品。</td>\n",
       "      <td>食品</td>\n",
       "    </tr>\n",
       "    <tr>\n",
       "      <th>5</th>\n",
       "      <td>凯锐思 幼猫猫粮奶糕全价幼猫粮天然粮 【尝鲜装】幼猫粮500g</td>\n",
       "      <td>电商</td>\n",
       "    </tr>\n",
       "    <tr>\n",
       "      <th>6</th>\n",
       "      <td>黑洞是宇宙中一种极为神秘的天体，它是一种极度密集的天体，其引力非常强大，甚至连光都无法逃离其吸引。</td>\n",
       "      <td>天体物理</td>\n",
       "    </tr>\n",
       "    <tr>\n",
       "      <th>7</th>\n",
       "      <td>\"阿拉斯加的鳄鱼\" 这个短语通常是一种幽默或谐音，用来形容一个不存在的事物或情况。</td>\n",
       "      <td>修辞</td>\n",
       "    </tr>\n",
       "    <tr>\n",
       "      <th>8</th>\n",
       "      <td>潭中鱼可百许头，皆若空游无所依。</td>\n",
       "      <td>古代文学</td>\n",
       "    </tr>\n",
       "  </tbody>\n",
       "</table>\n",
       "</div>"
      ],
      "text/plain": [
       "                                                  文本    分类\n",
       "0             六分仪（Sextant）是一种用于测量天体角度的仪器，常用于航海和天文导航。    工具\n",
       "1                           烤白薯是一道美味健康的小吃，下面是简单的制作步骤    菜谱\n",
       "2                               老鼠是一种常见的小型哺乳动物，属于鼠科。    动物\n",
       "3                            比瑞吉 优选系列 添加深海鱼油 成猫猫粮2kg    电商\n",
       "4            奶酪是一种以牛、羊、山羊或其他动物的乳汁为原料，经过发酵和加工制作而成的食品。    食品\n",
       "5                    凯锐思 幼猫猫粮奶糕全价幼猫粮天然粮 【尝鲜装】幼猫粮500g    电商\n",
       "6  黑洞是宇宙中一种极为神秘的天体，它是一种极度密集的天体，其引力非常强大，甚至连光都无法逃离其吸引。  天体物理\n",
       "7          \"阿拉斯加的鳄鱼\" 这个短语通常是一种幽默或谐音，用来形容一个不存在的事物或情况。    修辞\n",
       "8                                   潭中鱼可百许头，皆若空游无所依。  古代文学"
      ]
     },
     "execution_count": 9,
     "metadata": {},
     "output_type": "execute_result"
    }
   ],
   "source": [
    "%%time\n",
    "\n",
    "import pandas as pd\n",
    "\n",
    "data = [['六分仪（Sextant）是一种用于测量天体角度的仪器，常用于航海和天文导航。', '工具'],\n",
    "['烤白薯是一道美味健康的小吃，下面是简单的制作步骤', '菜谱'],\n",
    "['老鼠是一种常见的小型哺乳动物，属于鼠科。', '动物'],\n",
    "['比瑞吉 优选系列 添加深海鱼油 成猫猫粮2kg', '电商'],\n",
    "['奶酪是一种以牛、羊、山羊或其他动物的乳汁为原料，经过发酵和加工制作而成的食品。', '食品'],\n",
    "['凯锐思 幼猫猫粮奶糕全价幼猫粮天然粮 【尝鲜装】幼猫粮500g','电商'],\n",
    "['黑洞是宇宙中一种极为神秘的天体，它是一种极度密集的天体，其引力非常强大，甚至连光都无法逃离其吸引。','天体物理'],\n",
    "['\"阿拉斯加的鳄鱼\" 这个短语通常是一种幽默或谐音，用来形容一个不存在的事物或情况。','修辞'],\n",
    "['潭中鱼可百许头，皆若空游无所依。','古代文学']]\n",
    "df = pd.DataFrame(data, columns = ['文本', '分类'])\n",
    "\n",
    "df"
   ]
  },
  {
   "cell_type": "code",
   "execution_count": 26,
   "id": "cc5c9182-e259-4c6a-a44c-970807fc355f",
   "metadata": {},
   "outputs": [
    {
     "name": "stdout",
     "output_type": "stream",
     "text": [
      "CPU times: user 885 µs, sys: 172 µs, total: 1.06 ms\n",
      "Wall time: 1.06 ms\n"
     ]
    },
    {
     "data": {
      "text/plain": [
       "[['六分仪',\n",
       "  '（',\n",
       "  'Sextant',\n",
       "  '）',\n",
       "  '是',\n",
       "  '一种',\n",
       "  '用于',\n",
       "  '测量',\n",
       "  '天体',\n",
       "  '角度',\n",
       "  '的',\n",
       "  '仪器',\n",
       "  '，',\n",
       "  '常用',\n",
       "  '于',\n",
       "  '航海',\n",
       "  '和',\n",
       "  '天文',\n",
       "  '导航',\n",
       "  '。'],\n",
       " ['烤',\n",
       "  '白薯',\n",
       "  '是',\n",
       "  '一道',\n",
       "  '美味',\n",
       "  '健康',\n",
       "  '的',\n",
       "  '小吃',\n",
       "  '，',\n",
       "  '下面',\n",
       "  '是',\n",
       "  '简单',\n",
       "  '的',\n",
       "  '制作',\n",
       "  '步骤'],\n",
       " ['老鼠', '是', '一种', '常见', '的', '小型', '哺乳动物', '，', '属于', '鼠科', '。'],\n",
       " ['比瑞吉', ' ', '优选', '系列', ' ', '添加', '深海鱼', '油', ' ', '成', '猫猫', '粮', '2kg'],\n",
       " ['奶酪',\n",
       "  '是',\n",
       "  '一种',\n",
       "  '以牛',\n",
       "  '、',\n",
       "  '羊',\n",
       "  '、',\n",
       "  '山羊',\n",
       "  '或',\n",
       "  '其他',\n",
       "  '动物',\n",
       "  '的',\n",
       "  '乳汁',\n",
       "  '为',\n",
       "  '原料',\n",
       "  '，',\n",
       "  '经过',\n",
       "  '发酵',\n",
       "  '和',\n",
       "  '加工',\n",
       "  '制作',\n",
       "  '而成',\n",
       "  '的',\n",
       "  '食品',\n",
       "  '。'],\n",
       " ['凯锐思',\n",
       "  ' ',\n",
       "  '幼',\n",
       "  '猫猫',\n",
       "  '粮',\n",
       "  '奶糕',\n",
       "  '全价',\n",
       "  '幼猫',\n",
       "  '粮',\n",
       "  '天然',\n",
       "  '粮',\n",
       "  ' ',\n",
       "  '【',\n",
       "  '尝鲜',\n",
       "  '装',\n",
       "  '】',\n",
       "  '幼猫',\n",
       "  '粮',\n",
       "  '500g'],\n",
       " ['黑洞',\n",
       "  '是',\n",
       "  '宇宙',\n",
       "  '中',\n",
       "  '一种',\n",
       "  '极为',\n",
       "  '神秘',\n",
       "  '的',\n",
       "  '天体',\n",
       "  '，',\n",
       "  '它',\n",
       "  '是',\n",
       "  '一种',\n",
       "  '极度',\n",
       "  '密集',\n",
       "  '的',\n",
       "  '天体',\n",
       "  '，',\n",
       "  '其',\n",
       "  '引力',\n",
       "  '非常',\n",
       "  '强大',\n",
       "  '，',\n",
       "  '甚至',\n",
       "  '连光',\n",
       "  '都',\n",
       "  '无法',\n",
       "  '逃离',\n",
       "  '其',\n",
       "  '吸引',\n",
       "  '。'],\n",
       " ['\"',\n",
       "  '阿拉斯加',\n",
       "  '的',\n",
       "  '鳄鱼',\n",
       "  '\"',\n",
       "  ' ',\n",
       "  '这个',\n",
       "  '短语',\n",
       "  '通常',\n",
       "  '是',\n",
       "  '一种',\n",
       "  '幽默',\n",
       "  '或',\n",
       "  '谐音',\n",
       "  '，',\n",
       "  '用来',\n",
       "  '形容',\n",
       "  '一个',\n",
       "  '不',\n",
       "  '存在',\n",
       "  '的',\n",
       "  '事物',\n",
       "  '或',\n",
       "  '情况',\n",
       "  '。'],\n",
       " ['潭', '中鱼', '可百许', '头', '，', '皆', '若', '空游', '无', '所', '依', '。']]"
      ]
     },
     "execution_count": 26,
     "metadata": {},
     "output_type": "execute_result"
    }
   ],
   "source": [
    "%%time\n",
    "\n",
    "corpus_origin = [item[0] for item in data]\n",
    "corpus = [jieba.lcut(data) for data in corpus_origin]\n",
    "# corpus\n",
    "tokenized_corpus = []\n",
    "for doc in corpus:\n",
    "    tokenized_corpus.append(doc)\n",
    "  # doc_tokens = doc.split()\n",
    "  # tokenized_corpus.append(doc_tokens)\n",
    "\n",
    "tokenized_corpus"
   ]
  },
  {
   "cell_type": "code",
   "execution_count": 27,
   "id": "69ddef68-827e-42f8-a364-eba3e4dab796",
   "metadata": {},
   "outputs": [
    {
     "name": "stdout",
     "output_type": "stream",
     "text": [
      "CPU times: user 308 µs, sys: 0 ns, total: 308 µs\n",
      "Wall time: 324 µs\n"
     ]
    },
    {
     "data": {
      "text/plain": [
       "array([1.6944689, 0.       , 0.       , 0.       , 0.       , 0.       ,\n",
       "       0.       , 0.       , 0.       ])"
      ]
     },
     "execution_count": 27,
     "metadata": {},
     "output_type": "execute_result"
    }
   ],
   "source": [
    "%%time\n",
    "\n",
    "bm25 = BM25Okapi(tokenized_corpus)\n",
    "\n",
    "query = \"六分仪\"\n",
    "tokenized_query = query.split(\" \")\n",
    "\n",
    "doc_scores = bm25.get_scores(tokenized_query)\n",
    "doc_scores"
   ]
  },
  {
   "cell_type": "code",
   "execution_count": 28,
   "id": "83d30501-01a9-496e-97d2-58f5014a4013",
   "metadata": {},
   "outputs": [
    {
     "data": {
      "text/plain": [
       "['六分仪（Sextant）是一种用于测量天体角度的仪器，常用于航海和天文导航。']"
      ]
     },
     "execution_count": 28,
     "metadata": {},
     "output_type": "execute_result"
    }
   ],
   "source": [
    "doc = bm25.get_top_n(tokenized_query, corpus_origin, n=1)\n",
    "doc"
   ]
  },
  {
   "cell_type": "code",
   "execution_count": null,
   "id": "c52265d6-6ff0-42ae-9a02-3cdcf0e662fa",
   "metadata": {},
   "outputs": [],
   "source": []
  }
 ],
 "metadata": {
  "kernelspec": {
   "display_name": "Python 3 (ipykernel)",
   "language": "python",
   "name": "python3"
  },
  "language_info": {
   "codemirror_mode": {
    "name": "ipython",
    "version": 3
   },
   "file_extension": ".py",
   "mimetype": "text/x-python",
   "name": "python",
   "nbconvert_exporter": "python",
   "pygments_lexer": "ipython3",
   "version": "3.10.12"
  }
 },
 "nbformat": 4,
 "nbformat_minor": 5
}
