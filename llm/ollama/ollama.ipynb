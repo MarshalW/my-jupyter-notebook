{
 "cells": [
  {
   "cell_type": "markdown",
   "id": "8cf4ac87-8628-42d5-9375-52f369de290a",
   "metadata": {},
   "source": [
    "# Ollama 的使用"
   ]
  },
  {
   "cell_type": "code",
   "execution_count": 2,
   "id": "579358b1-f66c-4265-96c8-007c225a0450",
   "metadata": {},
   "outputs": [
    {
     "name": "stdout",
     "output_type": "stream",
     "text": [
      "{\n",
      "  \"id\": \"chatcmpl-930\",\n",
      "  \"object\": \"chat.completion\",\n",
      "  \"created\": 1713087035,\n",
      "  \"model\": \"xiaoyu\",\n",
      "  \"system_fingerprint\": \"fp_ollama\",\n",
      "  \"choices\": [\n",
      "    {\n",
      "      \"index\": 0,\n",
      "      \"message\": {\n",
      "        \"role\": \"assistant\",\n",
      "        \"content\": \"我是小羽，由羽胜科技开发的AI助手。我可以回答问题、提供信息和进行对话，帮助你解决各种领域的疑惑。\"\n",
      "      },\n",
      "      \"finish_reason\": \"stop\"\n",
      "    }\n",
      "  ],\n",
      "  \"usage\": {\n",
      "    \"prompt_tokens\": 140,\n",
      "    \"completion_tokens\": 31,\n",
      "    \"total_tokens\": 171\n",
      "  }\n",
      "}\n"
     ]
    }
   ],
   "source": [
    "%%bash\n",
    "\n",
    "curl -s http://192.168.0.72:11434/v1/chat/completions \\\n",
    "    -H \"Content-Type: application/json\" \\\n",
    "    -d '{\n",
    "        \"model\": \"xiaoyu\",\n",
    "        \"messages\": [\n",
    "            {\n",
    "                \"role\": \"user\",\n",
    "                \"content\": \"你是谁\"\n",
    "            }\n",
    "        ]\n",
    "    }' | jq ."
   ]
  },
  {
   "cell_type": "code",
   "execution_count": null,
   "id": "473aab3c-7056-4f97-aa6d-10cdd4c3c091",
   "metadata": {},
   "outputs": [],
   "source": []
  }
 ],
 "metadata": {
  "kernelspec": {
   "display_name": "Python 3 (ipykernel)",
   "language": "python",
   "name": "python3"
  },
  "language_info": {
   "codemirror_mode": {
    "name": "ipython",
    "version": 3
   },
   "file_extension": ".py",
   "mimetype": "text/x-python",
   "name": "python",
   "nbconvert_exporter": "python",
   "pygments_lexer": "ipython3",
   "version": "3.10.12"
  }
 },
 "nbformat": 4,
 "nbformat_minor": 5
}
