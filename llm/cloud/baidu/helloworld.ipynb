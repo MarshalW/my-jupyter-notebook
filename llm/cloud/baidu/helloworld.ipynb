{
 "cells": [
  {
   "cell_type": "markdown",
   "id": "877c48e4-b8b2-44c1-81b3-f2e566cf7a19",
   "metadata": {},
   "source": [
    "# 百度千帆最简单的聊天示例\n",
    "\n",
    "这里可以查看 \n",
    "\n",
    "- sdk [对话Chat](https://cloud.baidu.com/doc/WENXINWORKSHOP/s/xlmokikxe)\n",
    "- [百度千帆大模型平台 SDK@github](https://github.com/baidubce/bce-qianfan-sdk)\n"
   ]
  },
  {
   "cell_type": "code",
   "execution_count": 14,
   "id": "5ef007bc-880d-4bf1-9a16-d97747d35969",
   "metadata": {},
   "outputs": [
    {
     "name": "stdout",
     "output_type": "stream",
     "text": [
      "好的，让我为您简单\n",
      "描述一下。\n",
      "\n",
      "\n",
      "您可以在三言两语中向外星人介绍珠穆朗玛峰：\n",
      "\n",
      "珠穆朗玛峰是位于中尼边界的高峰，是世界上海拔最高的山峰之一。\n",
      "它雄踞在喜马拉雅山脉的核心，周围环绕着雪域高原和冰川。\n",
      "珠峰及其周围地区都受到严格保护，以保持其独特的自然风光。\n",
      "如果您想参观珠峰，通常需要参加专业的登山或旅行团。\n",
      "\n",
      "\n",
      "希望这样的回答能够满足您的需求！\n",
      "\n"
     ]
    }
   ],
   "source": [
    "# %load_ext dotenv\n",
    "# %dotenv\n",
    "%reload_ext dotenv\n",
    "\n",
    "import os\n",
    "\n",
    "import qianfan as qf\n",
    "import os\n",
    "\n",
    "ak = os.environ['AK']\n",
    "sk = os.environ['SK']\n",
    "\n",
    "chat_comp = qf.ChatCompletion(ak=ak, sk=sk)\n",
    "\n",
    "resp = await chat_comp.ado(model=\"ERNIE-Bot-turbo\", messages=[{\n",
    "    \"role\": \"user\",\n",
    "    \"content\": \"现在的情况是你在向一个外星人介绍珠穆朗玛峰在哪里，用三四句话，要简明通俗\"\n",
    "}], stream=True)\n",
    "async for r in resp:\n",
    "    print(r['result'])\n"
   ]
  },
  {
   "cell_type": "code",
   "execution_count": null,
   "id": "275185e9-a372-4910-830e-a84573c8d0d2",
   "metadata": {},
   "outputs": [],
   "source": []
  }
 ],
 "metadata": {
  "kernelspec": {
   "display_name": "Python 3 (ipykernel)",
   "language": "python",
   "name": "python3"
  },
  "language_info": {
   "codemirror_mode": {
    "name": "ipython",
    "version": 3
   },
   "file_extension": ".py",
   "mimetype": "text/x-python",
   "name": "python",
   "nbconvert_exporter": "python",
   "pygments_lexer": "ipython3",
   "version": "3.10.12"
  }
 },
 "nbformat": 4,
 "nbformat_minor": 5
}
