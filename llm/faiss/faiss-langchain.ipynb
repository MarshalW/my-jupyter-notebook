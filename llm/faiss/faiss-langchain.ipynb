{
 "cells": [
  {
   "cell_type": "markdown",
   "id": "c1b02cbd-1eb4-434f-8af5-ddb0bd17e67a",
   "metadata": {},
   "source": [
    "# 通过 langchain使用 faiss"
   ]
  },
  {
   "cell_type": "code",
   "execution_count": null,
   "id": "64d1d162-b2bd-449c-a5f5-ee66235de723",
   "metadata": {},
   "outputs": [],
   "source": [
    "[langchain-faiss](https://python.langchain.com/docs/integrations/vectorstores/faiss/)"
   ]
  },
  {
   "cell_type": "markdown",
   "id": "5b483948-e7b2-4704-8274-ee4756400e94",
   "metadata": {},
   "source": [
    "## 准备工作"
   ]
  },
  {
   "cell_type": "code",
   "execution_count": 1,
   "id": "a3b83425-11da-4922-b428-18525b71fb46",
   "metadata": {},
   "outputs": [
    {
     "name": "stdout",
     "output_type": "stream",
     "text": [
      "CPU times: user 31.1 ms, sys: 14 ms, total: 45.2 ms\n",
      "Wall time: 7.46 s\n"
     ]
    }
   ],
   "source": [
    "%%time\n",
    "%%capture\n",
    "\n",
    "!pip install langchain\n",
    "!pip install faiss-cpu\n",
    "!pip install sentence_transformers"
   ]
  },
  {
   "cell_type": "code",
   "execution_count": 2,
   "id": "a29b5957-7c3d-4c7a-b3ef-2975bfaf93ad",
   "metadata": {},
   "outputs": [],
   "source": [
    "from langchain_community.document_loaders import TextLoader\n",
    "from langchain_community.vectorstores import FAISS\n",
    "from langchain_community.embeddings import HuggingFaceBgeEmbeddings\n",
    "from langchain_text_splitters import CharacterTextSplitter"
   ]
  },
  {
   "cell_type": "markdown",
   "id": "f2cf1d93-8056-4140-aea9-e3120a2e31c2",
   "metadata": {},
   "source": [
    "## 初始化BGE模型做嵌入编码"
   ]
  },
  {
   "cell_type": "code",
   "execution_count": 3,
   "id": "2be4ef21-fc8e-4901-b3c7-41ba8ce44465",
   "metadata": {},
   "outputs": [
    {
     "name": "stdout",
     "output_type": "stream",
     "text": [
      "CPU times: user 2.73 s, sys: 810 ms, total: 3.54 s\n",
      "Wall time: 3.17 s\n"
     ]
    }
   ],
   "source": [
    "%%time\n",
    "\n",
    "model_name = \"/models/bge-large-zh-v1.5\"\n",
    "model_kwargs = {\"device\": \"cpu\"}\n",
    "encode_kwargs = {\"normalize_embeddings\": True}\n",
    "embeddings = HuggingFaceBgeEmbeddings(\n",
    "    model_name=model_name, model_kwargs=model_kwargs, encode_kwargs=encode_kwargs\n",
    ")"
   ]
  },
  {
   "cell_type": "code",
   "execution_count": 4,
   "id": "6345bf3d-208b-4072-a43d-45c023435e7f",
   "metadata": {},
   "outputs": [
    {
     "name": "stdout",
     "output_type": "stream",
     "text": [
      "CPU times: user 491 ms, sys: 20.3 ms, total: 512 ms\n",
      "Wall time: 324 ms\n"
     ]
    },
    {
     "data": {
      "text/plain": [
       "1024"
      ]
     },
     "execution_count": 4,
     "metadata": {},
     "output_type": "execute_result"
    }
   ],
   "source": [
    "%%time\n",
    "\n",
    "embedding = embeddings.embed_query(\"hi this is harrison\")\n",
    "len(embedding)"
   ]
  },
  {
   "cell_type": "markdown",
   "id": "b4ecb3f0-cfcb-4345-b292-56067551be2d",
   "metadata": {},
   "source": [
    "## 通过text加载器加载文本"
   ]
  },
  {
   "cell_type": "code",
   "execution_count": 5,
   "id": "25f73824-5530-4c99-912e-f1846cd19979",
   "metadata": {},
   "outputs": [
    {
     "name": "stdout",
     "output_type": "stream",
     "text": [
      "CPU times: user 1.15 ms, sys: 0 ns, total: 1.15 ms\n",
      "Wall time: 2.5 ms\n"
     ]
    }
   ],
   "source": [
    "%%time\n",
    "\n",
    "loader = TextLoader(\"./faiss-langchain-content.txt\")\n",
    "documents = loader.load()"
   ]
  },
  {
   "cell_type": "markdown",
   "id": "7fdf6299-ae81-4634-9c06-17dd0e36b5b0",
   "metadata": {},
   "source": [
    "## 加入索引"
   ]
  },
  {
   "cell_type": "code",
   "execution_count": 6,
   "id": "0581caf8-5c45-42a1-b82b-0a9997964aaa",
   "metadata": {},
   "outputs": [
    {
     "name": "stdout",
     "output_type": "stream",
     "text": [
      "CPU times: user 821 ms, sys: 25.7 ms, total: 846 ms\n",
      "Wall time: 530 ms\n"
     ]
    },
    {
     "data": {
      "text/plain": [
       "1"
      ]
     },
     "execution_count": 6,
     "metadata": {},
     "output_type": "execute_result"
    }
   ],
   "source": [
    "%%time\n",
    "\n",
    "text_splitter = CharacterTextSplitter(chunk_size=1000, chunk_overlap=0)\n",
    "docs = text_splitter.split_documents(documents)\n",
    "db = FAISS.from_documents(docs, embeddings)\n",
    "db.index.ntotal"
   ]
  },
  {
   "cell_type": "markdown",
   "id": "83073c2f-2975-4974-8703-4af09c3f0fe0",
   "metadata": {},
   "source": [
    "## 搜索"
   ]
  },
  {
   "cell_type": "code",
   "execution_count": 7,
   "id": "b365c848-e7a4-482f-a0ca-fefd845caa5a",
   "metadata": {},
   "outputs": [
    {
     "data": {
      "text/plain": [
       "'贝叶斯概率是一种概率解释的方式，它基于贝叶斯定理，用来描述在给定某些先验知识的情况下，随机事件的概率。它得名于 18 世纪的英国数学家 Thomas Bayes。'"
      ]
     },
     "execution_count": 7,
     "metadata": {},
     "output_type": "execute_result"
    }
   ],
   "source": [
    "query = \"贝叶斯\"\n",
    "docs = db.similarity_search(query)\n",
    "\n",
    "docs[0].page_content"
   ]
  },
  {
   "cell_type": "markdown",
   "id": "9281f78f-35b4-4f41-8acf-181b87493996",
   "metadata": {},
   "source": [
    "## 转换为 Retriever"
   ]
  },
  {
   "cell_type": "code",
   "execution_count": 8,
   "id": "b47f17c0-869a-4040-a9d2-7a60154311a5",
   "metadata": {},
   "outputs": [
    {
     "data": {
      "text/plain": [
       "'贝叶斯概率是一种概率解释的方式，它基于贝叶斯定理，用来描述在给定某些先验知识的情况下，随机事件的概率。它得名于 18 世纪的英国数学家 Thomas Bayes。'"
      ]
     },
     "execution_count": 8,
     "metadata": {},
     "output_type": "execute_result"
    }
   ],
   "source": [
    "retriever = db.as_retriever()\n",
    "docs = retriever.invoke(query)\n",
    "\n",
    "docs[0].page_content"
   ]
  },
  {
   "cell_type": "markdown",
   "id": "f2bb8ac1-1996-40cf-93dc-6f905c83d932",
   "metadata": {},
   "source": [
    "## 搜索并返回相似度分数"
   ]
  },
  {
   "cell_type": "code",
   "execution_count": 9,
   "id": "2ad0bcca-3bf8-4323-aa50-a64ad398ee27",
   "metadata": {},
   "outputs": [
    {
     "data": {
      "text/plain": [
       "(Document(page_content='贝叶斯概率是一种概率解释的方式，它基于贝叶斯定理，用来描述在给定某些先验知识的情况下，随机事件的概率。它得名于 18 世纪的英国数学家 Thomas Bayes。', metadata={'source': './faiss-langchain-content.txt'}),\n",
       " 0.99823606)"
      ]
     },
     "execution_count": 9,
     "metadata": {},
     "output_type": "execute_result"
    }
   ],
   "source": [
    "docs_and_scores = db.similarity_search_with_score(query)\n",
    "docs_and_scores[0]"
   ]
  },
  {
   "cell_type": "markdown",
   "id": "7a47f80b-8891-42bd-bad3-e7ef2edd5868",
   "metadata": {},
   "source": [
    "## 保存和加载 Faiss 索引"
   ]
  },
  {
   "cell_type": "code",
   "execution_count": 11,
   "id": "8ec63962-fe4d-4c2d-8952-e4a75e1365aa",
   "metadata": {},
   "outputs": [
    {
     "data": {
      "text/plain": [
       "Document(page_content='贝叶斯概率是一种概率解释的方式，它基于贝叶斯定理，用来描述在给定某些先验知识的情况下，随机事件的概率。它得名于 18 世纪的英国数学家 Thomas Bayes。', metadata={'source': './faiss-langchain-content.txt'})"
      ]
     },
     "execution_count": 11,
     "metadata": {},
     "output_type": "execute_result"
    }
   ],
   "source": [
    "db.save_local(\"faiss-langchain_index\")\n",
    "new_db = FAISS.load_local(\"faiss-langchain_index\", embeddings,allow_dangerous_deserialization=True)\n",
    "docs = new_db.similarity_search(query)\n",
    "\n",
    "docs[0]"
   ]
  },
  {
   "cell_type": "markdown",
   "id": "6f089da4-dfc2-402a-a124-aebd9690e708",
   "metadata": {},
   "source": [
    "## TODO\n",
    "\n",
    "- 序列化和反序列化 -- 使用数据库的时候需要\n",
    "- 合并向量 -- 追加文档\n",
    "- 带过滤的相似度搜索 -- 过滤基于文档属性，代码实现逻辑\n",
    "- 删除存储记录\n"
   ]
  }
 ],
 "metadata": {
  "kernelspec": {
   "display_name": "Python 3 (ipykernel)",
   "language": "python",
   "name": "python3"
  },
  "language_info": {
   "codemirror_mode": {
    "name": "ipython",
    "version": 3
   },
   "file_extension": ".py",
   "mimetype": "text/x-python",
   "name": "python",
   "nbconvert_exporter": "python",
   "pygments_lexer": "ipython3",
   "version": "3.10.12"
  }
 },
 "nbformat": 4,
 "nbformat_minor": 5
}
