{
 "cells": [
  {
   "cell_type": "markdown",
   "id": "d1f3c55a-ce2e-4a68-b528-08c5d79d68db",
   "metadata": {},
   "source": [
    "# faiss 是使用示例"
   ]
  },
  {
   "cell_type": "markdown",
   "id": "913ae35e-104b-4e3e-8e10-ec280fcda196",
   "metadata": {},
   "source": [
    "参考 [faiss-useage.ipynb](https://colab.research.google.com/drive/1MSrwFndb62j87-00Rk4s9TQEXjgAWHLw?usp=sharing#scrollTo=C4FiOXnEtl1f)"
   ]
  },
  {
   "cell_type": "markdown",
   "id": "38c8b73d-3bc0-4c57-ae1f-124791aebd49",
   "metadata": {},
   "source": [
    "## 准备"
   ]
  },
  {
   "cell_type": "code",
   "execution_count": 5,
   "id": "6dd34d95-d803-4d62-9c55-37c19023a53e",
   "metadata": {},
   "outputs": [
    {
     "name": "stdout",
     "output_type": "stream",
     "text": [
      "CPU times: user 25.5 ms, sys: 54.8 ms, total: 80.3 ms\n",
      "Wall time: 5.98 s\n"
     ]
    }
   ],
   "source": [
    "%%time\n",
    "%%capture\n",
    "!pip install sentence-transformers\n",
    "!apt-get install libomp-dev -y\n",
    "!pip install faiss-cpu"
   ]
  },
  {
   "cell_type": "markdown",
   "id": "b8483c98-4e38-49a2-8033-2adcecc5a43e",
   "metadata": {},
   "source": [
    "## 文档编码"
   ]
  },
  {
   "cell_type": "code",
   "execution_count": 1,
   "id": "335efc61-5dff-44b2-9c35-e1992c3496b0",
   "metadata": {},
   "outputs": [
    {
     "name": "stdout",
     "output_type": "stream",
     "text": [
      "CPU times: user 3.03 s, sys: 880 ms, total: 3.91 s\n",
      "Wall time: 3.55 s\n"
     ]
    }
   ],
   "source": [
    "%%time\n",
    "\n",
    "from sentence_transformers import SentenceTransformer\n",
    "encoder = SentenceTransformer(\"/models/bge-large-zh-v1.5\")"
   ]
  },
  {
   "cell_type": "code",
   "execution_count": 2,
   "id": "926670ea-dd21-4418-b59f-2e0662f309a9",
   "metadata": {},
   "outputs": [
    {
     "name": "stdout",
     "output_type": "stream",
     "text": [
      "CPU times: user 372 ms, sys: 16.5 ms, total: 388 ms\n",
      "Wall time: 389 ms\n"
     ]
    }
   ],
   "source": [
    "%%time\n",
    "\n",
    "data = [\n",
    "    'What is your name?',\n",
    "    'What is your age?',\n",
    "]\n",
    "encoded_data = encoder.encode(data)"
   ]
  },
  {
   "cell_type": "markdown",
   "id": "f1a31859-82ce-48a8-a76d-2670272c1359",
   "metadata": {},
   "source": [
    "## 增加索引"
   ]
  },
  {
   "cell_type": "code",
   "execution_count": 3,
   "id": "66d6c5d4-a3bb-4360-9304-58b18eacdcd8",
   "metadata": {},
   "outputs": [
    {
     "name": "stdout",
     "output_type": "stream",
     "text": [
      "CPU times: user 18.4 ms, sys: 632 µs, total: 19.1 ms\n",
      "Wall time: 19.4 ms\n"
     ]
    }
   ],
   "source": [
    "%%time\n",
    "\n",
    "import faiss\n",
    "import numpy as np\n",
    "\n",
    "# IndexFlatIP: Flat inner product (for small datasets)\n",
    "# IndexIDMap: store document ids in the index as well\n",
    "index = faiss.IndexIDMap(faiss.IndexFlatIP(1024))\n",
    "index.add_with_ids(encoded_data, np.arange(len(data)))"
   ]
  },
  {
   "cell_type": "markdown",
   "id": "fd1a25bb-ff9d-4519-a6a4-f82d90de8f9e",
   "metadata": {},
   "source": [
    "## 搜索"
   ]
  },
  {
   "cell_type": "code",
   "execution_count": 4,
   "id": "55fd25f4-c7d9-476d-a50b-7fa4738d3f34",
   "metadata": {},
   "outputs": [
    {
     "name": "stdout",
     "output_type": "stream",
     "text": [
      "(array([[0.5025584]], dtype=float32), array([[0]]))\n",
      "CPU times: user 24 ms, sys: 22.7 ms, total: 46.7 ms\n",
      "Wall time: 47.6 ms\n"
     ]
    },
    {
     "data": {
      "text/plain": [
       "['What is your name?']"
      ]
     },
     "execution_count": 4,
     "metadata": {},
     "output_type": "execute_result"
    }
   ],
   "source": [
    "%%time\n",
    "\n",
    "def search(query, k=1):\n",
    "    query_vector = encoder.encode([query])\n",
    "    top_k = index.search(query_vector, k)\n",
    "    print(top_k)\n",
    "    return [\n",
    "        data[_id] for _id in top_k[1][0]\n",
    "    ]\n",
    "    \n",
    "search(\"你是张三么？\")"
   ]
  },
  {
   "cell_type": "markdown",
   "id": "b181414e-8ff1-4d6d-af5f-e27f878cedfb",
   "metadata": {},
   "source": [
    "## 保存索引"
   ]
  },
  {
   "cell_type": "code",
   "execution_count": 5,
   "id": "a42702f4-d724-487d-867d-05c126d43d65",
   "metadata": {},
   "outputs": [
    {
     "name": "stdout",
     "output_type": "stream",
     "text": [
      "CPU times: user 196 µs, sys: 0 ns, total: 196 µs\n",
      "Wall time: 201 µs\n"
     ]
    }
   ],
   "source": [
    "%%time\n",
    "\n",
    "path = './faiss-only.index'\n",
    "\n",
    "# Save index\n",
    "faiss.write_index(index, path)"
   ]
  },
  {
   "cell_type": "markdown",
   "id": "1c17b32f-6e96-41eb-8be2-2a2d0e81f416",
   "metadata": {},
   "source": [
    "## 加载和使用索引"
   ]
  },
  {
   "cell_type": "code",
   "execution_count": 6,
   "id": "95c4a165-d3aa-4307-b4b2-2105d704c348",
   "metadata": {},
   "outputs": [
    {
     "name": "stdout",
     "output_type": "stream",
     "text": [
      "CPU times: user 888 µs, sys: 225 µs, total: 1.11 ms\n",
      "Wall time: 830 µs\n"
     ]
    }
   ],
   "source": [
    "%%time\n",
    "\n",
    "index = faiss.read_index(path)\n",
    "# search(\"How old are you?\")"
   ]
  },
  {
   "cell_type": "markdown",
   "id": "55d70624-2210-443e-b7b8-132a23dac63b",
   "metadata": {},
   "source": [
    "## 加入新的数据"
   ]
  },
  {
   "cell_type": "code",
   "execution_count": 7,
   "id": "4c8c3022-f720-4ac2-9c4e-a1885dfb4b8e",
   "metadata": {},
   "outputs": [],
   "source": [
    "new_data='西游记是吴承恩的著作'\n",
    "new_encoded_data = encoder.encode([new_data])\n",
    "\n",
    "index.add_with_ids(new_encoded_data, 2)\n",
    "data.append(new_data)"
   ]
  },
  {
   "cell_type": "code",
   "execution_count": 9,
   "id": "410609bd-7f2c-4fac-bf2f-1dd22d1c7eb8",
   "metadata": {},
   "outputs": [
    {
     "name": "stdout",
     "output_type": "stream",
     "text": [
      "(array([[0.6554023]], dtype=float32), array([[2]]))\n",
      "CPU times: user 25.5 ms, sys: 23.3 ms, total: 48.8 ms\n",
      "Wall time: 51.5 ms\n"
     ]
    },
    {
     "data": {
      "text/plain": [
       "['西游记是吴承恩的著作']"
      ]
     },
     "execution_count": 9,
     "metadata": {},
     "output_type": "execute_result"
    }
   ],
   "source": [
    "%%time\n",
    "\n",
    "search(\"西游记的作者是谁？\")"
   ]
  },
  {
   "cell_type": "code",
   "execution_count": null,
   "id": "6786356e-a088-46a4-8372-ebe0681eb7db",
   "metadata": {},
   "outputs": [],
   "source": []
  }
 ],
 "metadata": {
  "kernelspec": {
   "display_name": "Python 3 (ipykernel)",
   "language": "python",
   "name": "python3"
  },
  "language_info": {
   "codemirror_mode": {
    "name": "ipython",
    "version": 3
   },
   "file_extension": ".py",
   "mimetype": "text/x-python",
   "name": "python",
   "nbconvert_exporter": "python",
   "pygments_lexer": "ipython3",
   "version": "3.10.12"
  }
 },
 "nbformat": 4,
 "nbformat_minor": 5
}
