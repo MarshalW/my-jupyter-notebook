{
 "cells": [
  {
   "cell_type": "markdown",
   "id": "658c5e88-1b19-4ac2-8c45-361d21645787",
   "metadata": {},
   "source": [
    "# 使用 filter"
   ]
  },
  {
   "cell_type": "markdown",
   "id": "61abfcb1-a15d-4904-98dc-b337309eec52",
   "metadata": {},
   "source": [
    "## 准备"
   ]
  },
  {
   "cell_type": "code",
   "execution_count": 13,
   "id": "07c65c67-6a7a-49ad-8774-1edeb7b2b2cf",
   "metadata": {},
   "outputs": [
    {
     "name": "stdout",
     "output_type": "stream",
     "text": [
      "CPU times: user 44 µs, sys: 0 ns, total: 44 µs\n",
      "Wall time: 47.2 µs\n"
     ]
    }
   ],
   "source": [
    "%%time\n",
    "\n",
    "from llama_index.core import SummaryIndex, Document\n",
    "from llama_index.core import Settings\n",
    "\n",
    "from llama_index.llms.openai_like import OpenAILike\n",
    "from llama_index.embeddings.ollama import OllamaEmbedding\n",
    "\n",
    "from milvus import default_server\n",
    "from pymilvus import connections, utility\n",
    "\n",
    "from llama_index.core import VectorStoreIndex, StorageContext\n",
    "from llama_index.core import (\n",
    "    SimpleDirectoryReader,\n",
    "    load_index_from_storage,\n",
    "    VectorStoreIndex,\n",
    "    StorageContext,\n",
    ")\n",
    "from llama_index.vector_stores.milvus import MilvusVectorStore\n",
    "\n",
    "from llama_index.core.llms import ChatMessage\n",
    "\n",
    "\n",
    "from llama_index.core.vector_stores import (\n",
    "    MetadataFilter,\n",
    "    MetadataFilters,\n",
    "    FilterOperator,\n",
    ")"
   ]
  },
  {
   "cell_type": "code",
   "execution_count": 2,
   "id": "8181c379-5785-432d-a4e2-a2cda10214c1",
   "metadata": {},
   "outputs": [
    {
     "data": {
      "text/plain": [
       "_Settings(_llm=None, _embed_model=None, _callback_manager=None, _tokenizer=None, _node_parser=SentenceSplitter(include_metadata=True, include_prev_next_rel=True, callback_manager=<llama_index.core.callbacks.base.CallbackManager object at 0x7f3f8fcd5960>, id_func=<function default_id_func at 0x7f4055abedd0>, chunk_size=128, chunk_overlap=10, separator=' ', paragraph_separator='\\n\\n\\n', secondary_chunking_regex='[^,.;。？！]+[,.;。？！]?'), _prompt_helper=None, _transformations=None)"
      ]
     },
     "execution_count": 2,
     "metadata": {},
     "output_type": "execute_result"
    }
   ],
   "source": [
    "Settings.chunk_size=128\n",
    "Settings.chunk_overlap=10\n",
    "\n",
    "Settings"
   ]
  },
  {
   "cell_type": "code",
   "execution_count": 3,
   "id": "a995efe2-d4f2-4fed-adf7-ab6b61324bb0",
   "metadata": {},
   "outputs": [
    {
     "name": "stdout",
     "output_type": "stream",
     "text": [
      "v2.3.5-lite\n",
      "CPU times: user 3.13 s, sys: 332 ms, total: 3.46 s\n",
      "Wall time: 6.77 s\n"
     ]
    },
    {
     "data": {
      "text/plain": [
       "19530"
      ]
     },
     "execution_count": 3,
     "metadata": {},
     "output_type": "execute_result"
    }
   ],
   "source": [
    "%%time\n",
    "\n",
    "# 启动milvus服务器\n",
    "\n",
    "default_server.set_base_dir('milvus_data')\n",
    "\n",
    "# (OPTIONAL) if you want cleanup previous data\n",
    "default_server.cleanup()\n",
    "\n",
    "# Start your milvus server\n",
    "default_server.start()\n",
    "\n",
    "# Now you could connect with localhost and the given port\n",
    "# Port is defined by default_server.listen_port\n",
    "connections.connect(host='127.0.0.1', port=default_server.listen_port)\n",
    "\n",
    "# Check if the server is ready.\n",
    "print(utility.get_server_version())\n",
    "\n",
    "# Stop your milvus server\n",
    "# default_server.stop()\n",
    "\n",
    "default_server.listen_port"
   ]
  },
  {
   "cell_type": "code",
   "execution_count": 4,
   "id": "f32bbbba-2150-4012-961f-f227d2524b84",
   "metadata": {},
   "outputs": [
    {
     "name": "stdout",
     "output_type": "stream",
     "text": [
      "CPU times: user 123 ms, sys: 0 ns, total: 123 ms\n",
      "Wall time: 122 ms\n"
     ]
    }
   ],
   "source": [
    "%%time\n",
    "\n",
    "# 初始化全局 llm\n",
    "\n",
    "llm = OpenAILike(model=\"xiaoyu\", \n",
    "                 api_base=\"http://192.168.0.72:3000/v1\", \n",
    "                 api_key=\"sk-bJP6QSnUfjAYeYeE505d3eBf63A643BeB0B8E350Df9b7750\",\n",
    "                 is_chat_model=True,\n",
    "                 temperature=0.1\n",
    "                )\n",
    "\n",
    "Settings.llm =llm"
   ]
  },
  {
   "cell_type": "code",
   "execution_count": 5,
   "id": "7a909604-3663-4b44-a616-3185eaa21330",
   "metadata": {},
   "outputs": [
    {
     "name": "stdout",
     "output_type": "stream",
     "text": [
      "CPU times: user 405 ms, sys: 12 ms, total: 417 ms\n",
      "Wall time: 416 ms\n"
     ]
    }
   ],
   "source": [
    "%%time\n",
    "\n",
    "# 初始化全局 embedding 模型\n",
    "\n",
    "ollama_embedding = OllamaEmbedding(\n",
    "    model_name=\"dztech/bge-large-zh:v1.5\",\n",
    "    # model_name=\"bge-m3:latest\",\n",
    "    base_url=\"http://192.168.0.72:11435\",\n",
    "    ollama_additional_kwargs={\"mirostat\": 0}, # -mirostat N 使用 Mirostat 采样。\n",
    ")\n",
    "\n",
    "Settings.embed_model = ollama_embedding"
   ]
  },
  {
   "cell_type": "code",
   "execution_count": 6,
   "id": "c1671a64-663d-4484-9304-fb37b38956c1",
   "metadata": {},
   "outputs": [
    {
     "name": "stdout",
     "output_type": "stream",
     "text": [
      "CPU times: user 309 µs, sys: 36 µs, total: 345 µs\n",
      "Wall time: 350 µs\n"
     ]
    }
   ],
   "source": [
    "%%time\n",
    "\n",
    "import logging\n",
    "import sys\n",
    "\n",
    "# 设置系统日志，便于设置level排查\n",
    "\n",
    "logging.basicConfig(stream=sys.stdout, level=logging.INFO)\n",
    "logging.getLogger().addHandler(logging.StreamHandler(stream=sys.stdout))"
   ]
  },
  {
   "cell_type": "code",
   "execution_count": 7,
   "id": "cb2a4ed1-c14b-45f4-a49a-b146498aca90",
   "metadata": {},
   "outputs": [
    {
     "name": "stdout",
     "output_type": "stream",
     "text": [
      "e99d887b-212d-43ba-b414-7b6937ef8e0a 孔乙己.txt\n",
      "023c18d7-8dfe-43be-9c21-698808d640e7 社戏.txt\n",
      "CPU times: user 6.55 ms, sys: 4.07 ms, total: 10.6 ms\n",
      "Wall time: 10.2 ms\n"
     ]
    }
   ],
   "source": [
    "%%time\n",
    "\n",
    "# load documents\n",
    "documents = SimpleDirectoryReader(\"./books1/\").load_data()\n",
    "for doc in documents:\n",
    "    print(doc.doc_id, doc.metadata['file_name'])"
   ]
  },
  {
   "cell_type": "code",
   "execution_count": 8,
   "id": "a801fe79-33c3-4537-be27-232e492b776c",
   "metadata": {},
   "outputs": [
    {
     "name": "stdout",
     "output_type": "stream",
     "text": [
      "DEBUG:pymilvus.milvus_client.milvus_client:Created new connection using: bef41d6660754031bbc39dd8b5318a3c\n",
      "Created new connection using: bef41d6660754031bbc39dd8b5318a3c\n",
      "DEBUG:pymilvus.milvus_client.milvus_client:Successfully created collection: llamacollection\n",
      "Successfully created collection: llamacollection\n",
      "DEBUG:pymilvus.milvus_client.milvus_client:Successfully created an index on collection: llamacollection\n",
      "Successfully created an index on collection: llamacollection\n",
      "CPU times: user 756 ms, sys: 29.2 ms, total: 785 ms\n",
      "Wall time: 14.9 s\n"
     ]
    }
   ],
   "source": [
    "%%time\n",
    "\n",
    "vector_store = MilvusVectorStore(dim=1024, overwrite=True)\n",
    "storage_context = StorageContext.from_defaults(vector_store=vector_store)\n",
    "index = VectorStoreIndex.from_documents(\n",
    "    documents, storage_context=storage_context\n",
    ")"
   ]
  },
  {
   "cell_type": "markdown",
   "id": "b4933d14-e0f7-4e0a-81eb-a283477bd2e4",
   "metadata": {},
   "source": [
    "## 直接使用llm的对话"
   ]
  },
  {
   "cell_type": "code",
   "execution_count": 9,
   "id": "98328646-6b99-4c6d-9a7c-a60d50af0a28",
   "metadata": {},
   "outputs": [
    {
     "name": "stdout",
     "output_type": "stream",
     "text": [
      "INFO:httpx:HTTP Request: POST http://192.168.0.72:3000/v1/chat/completions \"HTTP/1.1 200 OK\"\n",
      "HTTP Request: POST http://192.168.0.72:3000/v1/chat/completions \"HTTP/1.1 200 OK\"\n",
      "孔乙己是鲁迅先生在小说《呐喊》中塑造的一个经典人物形象。他是19世纪末中国封建社会的一个小知识分子，以“孔乙己”这一绰号为人所知。孔乙己生活在一个破败的酒馆里，他穷困潦倒，衣衫褴褛，常被人嘲笑和捉弄，但他依然保持着读书人的自尊和清高。\n",
      "\n",
      "孔乙己的特点包括：他好喝懒做，喜欢在酒馆里与人闲聊，虽然识字却不愿劳动；他精通《四书五经》，但生活技能匮乏，连基本的谋生手段都没有；他常被人取笑他的“茴”字有四种写法，这反映了当时社会对底层知识分子的鄙视和无知。\n",
      "\n",
      "孔乙己的故事揭示了封建社会的残酷现实，以及知识阶层的悲惨命运。他的形象成为了中国文学中一个深刻的社会寓言，象征着旧时代知识分子的悲剧性和无力感。\n",
      "\n",
      "\n",
      "\n",
      "\n",
      "CPU times: user 367 ms, sys: 30.5 ms, total: 397 ms\n",
      "Wall time: 11.1 s\n"
     ]
    }
   ],
   "source": [
    "%%time\n",
    "\n",
    "gen = llm.stream_chat([ChatMessage(role=\"user\", content=\"介绍下孔乙己\")])\n",
    "for response in gen:\n",
    "    print(response.delta, end=\"\", flush=True)"
   ]
  },
  {
   "cell_type": "markdown",
   "id": "90361e42-b58c-493a-9473-be7734774328",
   "metadata": {},
   "source": [
    "## 使用嵌入的问答"
   ]
  },
  {
   "cell_type": "code",
   "execution_count": 10,
   "id": "e7bf6ed2-25f4-47c8-9a69-676d40819373",
   "metadata": {},
   "outputs": [
    {
     "name": "stdout",
     "output_type": "stream",
     "text": [
      "INFO:httpx:HTTP Request: POST http://192.168.0.72:3000/v1/chat/completions \"HTTP/1.1 200 OK\"\n",
      "HTTP Request: POST http://192.168.0.72:3000/v1/chat/completions \"HTTP/1.1 200 OK\"\n",
      "INFO:httpx:HTTP Request: POST http://192.168.0.72:3000/v1/chat/completions \"HTTP/1.1 200 OK\"\n",
      "HTTP Request: POST http://192.168.0.72:3000/v1/chat/completions \"HTTP/1.1 200 OK\"\n",
      "INFO:httpx:HTTP Request: POST http://192.168.0.72:3000/v1/chat/completions \"HTTP/1.1 200 OK\"\n",
      "HTTP Request: POST http://192.168.0.72:3000/v1/chat/completions \"HTTP/1.1 200 OK\"\n",
      "INFO:httpx:HTTP Request: POST http://192.168.0.72:3000/v1/chat/completions \"HTTP/1.1 200 OK\"\n",
      "HTTP Request: POST http://192.168.0.72:3000/v1/chat/completions \"HTTP/1.1 200 OK\"\n",
      "INFO:httpx:HTTP Request: POST http://192.168.0.72:3000/v1/chat/completions \"HTTP/1.1 200 OK\"\n",
      "HTTP Request: POST http://192.168.0.72:3000/v1/chat/completions \"HTTP/1.1 200 OK\"\n",
      "INFO:httpx:HTTP Request: POST http://192.168.0.72:3000/v1/chat/completions \"HTTP/1.1 200 OK\"\n",
      "HTTP Request: POST http://192.168.0.72:3000/v1/chat/completions \"HTTP/1.1 200 OK\"\n",
      "我是小羽，无法直接介绍《社戏》中的人物孔乙己，因为这是一部文学作品，而我作为AI助手，专注于提供信息和帮助解答问题。如果你对《社戏》这部小说或者其中的孔乙己角色感兴趣，我可以告诉你孔乙己是鲁迅先生在《呐喊》中塑造的一个经典形象，他是个穷困潦倒、好喝酒、常被人嘲笑的读书人，以茴香豆和茴香酒为标志，反映了旧社会底层知识分子的悲剧命运。如果你需要更详细的解读或文学分析，请告诉我。\n",
      "CPU times: user 696 ms, sys: 44.4 ms, total: 740 ms\n",
      "Wall time: 44.2 s\n"
     ]
    }
   ],
   "source": [
    "%%time\n",
    "\n",
    "query_engine = index.as_query_engine(\n",
    "    streaming=True,\n",
    "    similarity_top_k=100,\n",
    "    similarity_cutoff=0.5\n",
    ")\n",
    "\n",
    "streaming_response = query_engine.query(\"介绍下孔乙己\")\n",
    "streaming_response.print_response_stream()\n",
    "print()"
   ]
  },
  {
   "cell_type": "markdown",
   "id": "3f518ee1-4c16-4ae0-a24e-19f05afa74a9",
   "metadata": {},
   "source": [
    "## 使用filter"
   ]
  },
  {
   "cell_type": "code",
   "execution_count": 15,
   "id": "ea82f858-7795-45e2-83c1-cf40ff15b437",
   "metadata": {},
   "outputs": [
    {
     "name": "stdout",
     "output_type": "stream",
     "text": [
      "INFO:httpx:HTTP Request: POST http://192.168.0.72:3000/v1/chat/completions \"HTTP/1.1 200 OK\"\n",
      "HTTP Request: POST http://192.168.0.72:3000/v1/chat/completions \"HTTP/1.1 200 OK\"\n",
      "INFO:httpx:HTTP Request: POST http://192.168.0.72:3000/v1/chat/completions \"HTTP/1.1 200 OK\"\n",
      "HTTP Request: POST http://192.168.0.72:3000/v1/chat/completions \"HTTP/1.1 200 OK\"\n",
      "孔乙己是鲁迅先生笔下的一位经典人物，出现在短篇小说《孔乙己》中。他生活在清朝末年的鲁镇，以咸亨酒店为生活场所，主要负责温酒的职务。孔乙己的形象特征鲜明，穿着破旧的长衫，常被人嘲笑他的穷酸和读书人的身份。他虽然有过写账的经历，但因为贫穷和屡次的失职，最终沦落到偷窃的地步，腿也因此被打断。他的故事反映了那个时代的社会冷漠，底层人民的艰难生活以及读书人（秀才）在社会中的尴尬境地。尽管他试图保持自己的尊严，但终究无法逃脱命运的捉弄，在人们的嘲笑声中走向悲剧的结局，成为了旧中国社会的一个缩影。\n",
      "CPU times: user 344 ms, sys: 25.3 ms, total: 370 ms\n",
      "Wall time: 20 s\n"
     ]
    }
   ],
   "source": [
    "%%time\n",
    "\n",
    "filters = MetadataFilters(\n",
    "    filters=[\n",
    "        MetadataFilter(\n",
    "            key=\"file_name\", \n",
    "            value=\"孔乙己.txt\",\n",
    "            operator='=='\n",
    "        ),\n",
    "    ],\n",
    ")\n",
    "\n",
    "query_engine = index.as_query_engine(\n",
    "    streaming=True,\n",
    "    similarity_top_k=100,\n",
    "    similarity_cutoff=0.5,\n",
    "    filters = filters\n",
    ")\n",
    "\n",
    "streaming_response = query_engine.query(\"介绍下孔乙己\")\n",
    "streaming_response.print_response_stream()\n",
    "print()"
   ]
  },
  {
   "cell_type": "code",
   "execution_count": null,
   "id": "f5df4df2-f659-4cbb-b4b8-bb16d527ef7e",
   "metadata": {},
   "outputs": [],
   "source": []
  }
 ],
 "metadata": {
  "kernelspec": {
   "display_name": "Python 3 (ipykernel)",
   "language": "python",
   "name": "python3"
  },
  "language_info": {
   "codemirror_mode": {
    "name": "ipython",
    "version": 3
   },
   "file_extension": ".py",
   "mimetype": "text/x-python",
   "name": "python",
   "nbconvert_exporter": "python",
   "pygments_lexer": "ipython3",
   "version": "3.10.12"
  }
 },
 "nbformat": 4,
 "nbformat_minor": 5
}
