{
 "cells": [
  {
   "cell_type": "markdown",
   "id": "0ee03a5d-1dbf-4d00-90c7-9b6f70283eb3",
   "metadata": {},
   "source": [
    "# RAG加载《围城》的检索"
   ]
  },
  {
   "cell_type": "markdown",
   "id": "0731ad9d-54b6-4b84-bdf0-300d7fb33d69",
   "metadata": {},
   "source": [
    "## 基本思路"
   ]
  },
  {
   "cell_type": "code",
   "execution_count": null,
   "id": "6c33f231-3def-4762-bb64-25aae6327b91",
   "metadata": {},
   "outputs": [],
   "source": [
    "技术栈：\n",
    "\n",
    "- 基于 one-api 选择 llm\n",
    "- 基于faiss 保存索引，做相似度搜索\n",
    "- 基于 bge-m3 嵌入模型实现文档切片和向量化"
   ]
  },
  {
   "cell_type": "markdown",
   "id": "8247459f-03a0-415f-91ca-c4774db0d3c3",
   "metadata": {},
   "source": [
    "## 准备工作"
   ]
  },
  {
   "cell_type": "code",
   "execution_count": 1,
   "id": "6f85e00e-8025-49cf-8d96-de74bce0e743",
   "metadata": {},
   "outputs": [
    {
     "name": "stdout",
     "output_type": "stream",
     "text": [
      "CPU times: user 47.5 ms, sys: 25.6 ms, total: 73.1 ms\n",
      "Wall time: 14.8 s\n"
     ]
    }
   ],
   "source": [
    "%%time\n",
    "%%capture\n",
    "\n",
    "!pip install langchain\n",
    "!pip install langchain-openai\n",
    "!pip install faiss-gpu\n",
    "!pip install sentence_transformers\n",
    "!pip install openai\n",
    "!pip install python-dotenv"
   ]
  },
  {
   "cell_type": "code",
   "execution_count": 1,
   "id": "ffb16e9e-30b5-423c-baf8-7e7758e9cb9c",
   "metadata": {},
   "outputs": [],
   "source": [
    "from langchain_community.document_loaders import TextLoader\n",
    "from langchain_community.vectorstores import FAISS\n",
    "from langchain_community.embeddings import HuggingFaceBgeEmbeddings\n",
    "from langchain_text_splitters import CharacterTextSplitter\n",
    "from openai import OpenAI\n",
    "import os\n",
    "from langchain_core.messages import HumanMessage, SystemMessage\n",
    "from langchain_openai import ChatOpenAI\n",
    "from langchain_community.document_loaders import TextLoader\n",
    "\n",
    "%load_ext dotenv\n",
    "%dotenv\n",
    "\n",
    "token = os.environ.get('ONE_API_TOKEN')\n",
    "base_url=os.environ.get('ONE_API_URL')"
   ]
  },
  {
   "cell_type": "code",
   "execution_count": 2,
   "id": "0bd50857-5335-4285-adaf-aae3e64f0c0b",
   "metadata": {},
   "outputs": [],
   "source": [
    "system_message=SystemMessage(content=\"你是小羽，是一个人工智能助手。\")"
   ]
  },
  {
   "cell_type": "code",
   "execution_count": 3,
   "id": "fa56ff43-fd7d-4412-bf46-76e27e3f172e",
   "metadata": {},
   "outputs": [
    {
     "name": "stdout",
     "output_type": "stream",
     "text": [
      "CPU times: user 3.48 s, sys: 1.2 s, total: 4.68 s\n",
      "Wall time: 4.2 s\n"
     ]
    }
   ],
   "source": [
    "%%time\n",
    "\n",
    "model_name='/models/bge-m3'\n",
    "model_kwargs = {\"device\": \"cuda\"}\n",
    "encode_kwargs = {\"normalize_embeddings\": True}\n",
    "embeddings = HuggingFaceBgeEmbeddings(\n",
    "    model_name=model_name, model_kwargs=model_kwargs, encode_kwargs=encode_kwargs\n",
    ")"
   ]
  },
  {
   "cell_type": "markdown",
   "id": "0b14274d-f05c-44e8-af3f-7318fa8e2d97",
   "metadata": {},
   "source": [
    "## 加载文档"
   ]
  },
  {
   "cell_type": "code",
   "execution_count": 4,
   "id": "e5edc749-8af0-44bc-ad1e-08be66f8a0a0",
   "metadata": {},
   "outputs": [
    {
     "name": "stdout",
     "output_type": "stream",
     "text": [
      "CPU times: user 2.08 ms, sys: 668 µs, total: 2.75 ms\n",
      "Wall time: 2.71 ms\n"
     ]
    }
   ],
   "source": [
    "%%time\n",
    "%%capture\n",
    "\n",
    "documents=[]\n",
    "loader = TextLoader(\"./围城.txt\")\n",
    "documents.extend(loader.load())"
   ]
  },
  {
   "cell_type": "markdown",
   "id": "d9dc34cb-5fc3-45f9-95cd-1828487d2e40",
   "metadata": {},
   "source": [
    "## 文档分片"
   ]
  },
  {
   "cell_type": "code",
   "execution_count": 9,
   "id": "8f21a59e-c249-488c-9df9-73828b4d25e8",
   "metadata": {},
   "outputs": [
    {
     "name": "stdout",
     "output_type": "stream",
     "text": [
      "CPU times: user 299 ms, sys: 7.92 ms, total: 307 ms\n",
      "Wall time: 311 ms\n"
     ]
    },
    {
     "data": {
      "text/plain": [
       "2236"
      ]
     },
     "execution_count": 9,
     "metadata": {},
     "output_type": "execute_result"
    }
   ],
   "source": [
    "%%time\n",
    "\n",
    "from langchain.text_splitter import RecursiveCharacterTextSplitter\n",
    "from langchain.text_splitter import RecursiveCharacterTextSplitter\n",
    "\n",
    "text_splitter=RecursiveCharacterTextSplitter(chunk_size=128,chunk_overlap=20)\n",
    "text_splits=text_splitter.split_documents(documents)\n",
    "\n",
    "len(text_splits)"
   ]
  },
  {
   "cell_type": "code",
   "execution_count": 10,
   "id": "eba61689-b4b7-450d-95c2-621349ee85ec",
   "metadata": {},
   "outputs": [
    {
     "name": "stdout",
     "output_type": "stream",
     "text": [
      "CPU times: user 1min 26s, sys: 1.23 s, total: 1min 27s\n",
      "Wall time: 1min 27s\n"
     ]
    }
   ],
   "source": [
    "%%time\n",
    "\n",
    "# cpu - Wall time: 19min 9s - 1024\n",
    "# cuda - Wall time: 1min 31s - 256\n",
    "# cuda - Wall time: 1min 27s - 128\n",
    "vectorstore = FAISS.from_documents(text_splits, embeddings)"
   ]
  },
  {
   "cell_type": "markdown",
   "id": "d46d7463-63d6-4f2e-a7c2-af822d45f546",
   "metadata": {},
   "source": [
    "## 搜索"
   ]
  },
  {
   "cell_type": "code",
   "execution_count": 12,
   "id": "f5f0521f-47b2-47a4-a27e-43778d4b014b",
   "metadata": {},
   "outputs": [
    {
     "data": {
      "text/plain": [
       "'家小孩子“你的Ｂａｂｙ”，人家太太“你的Ｍｒｓ”那种女留学生。这种姑母，柔嘉当然叫她Ａｕｎｔｉｅ。她年轻时出过风头，到现在不能忘记，对后起的女学生批判甚为严厉。柔嘉最喜欢听她的回忆，所以独蒙怜爱。孙先生夫妇很怕这位姑太太，家里的事大半要请她过问。她丈夫陆先'"
      ]
     },
     "metadata": {},
     "output_type": "display_data"
    },
    {
     "data": {
      "text/plain": [
       "'柔嘉自言自语：“她是比你对我好，我家里的人也比你家里的人好。”\\n    鸿渐的回答是：“Ｓｈ——ｓｈ——ｓｈ——ｓｈａｗ。”'"
      ]
     },
     "metadata": {},
     "output_type": "display_data"
    },
    {
     "data": {
      "text/plain": [
       "'情，仿佛怪他不女起解似的押了柔嘉来。他交From：qili02：40：18－0700'"
      ]
     },
     "metadata": {},
     "output_type": "display_data"
    },
    {
     "data": {
      "text/plain": [
       "'他到了孙家两次以后，就看出来柔嘉从前口口声声“爸爸妈妈”，而孙先生孙太太对女儿的事淡漠得等于放任。孙先生是个恶意义的所谓好人——无用之人，在报馆当会计主任，毫无势力。孙太太老来得子，孙家是三代单传，把儿子的抚养作为宗教，打扮得他头光衣挺，像个高等美容院里'"
      ]
     },
     "metadata": {},
     "output_type": "display_data"
    },
    {
     "data": {
      "text/plain": [
       "'大到孙家去请她，表示欢迎。这样一来，她可以比较不陌生。”三奶奶沉着脸，二奶奶说：“姐姐，你真是好脾气！孙柔嘉是什么东西，摆臭架子，要我们去迎接她！我才不肯呢。”二奶奶说：“她今天不肯来是不会来了。猜准她快要养了，没有脸到婆家来，今天推明天，明天推后天，咱们'"
      ]
     },
     "metadata": {},
     "output_type": "display_data"
    },
    {
     "data": {
      "text/plain": [
       "'孙柔嘉在订婚以前，常来看鸿渐；订了婚，只有鸿渐去看她，她轻易不肯来。鸿渐最初以为她只是个女孩子，事事要请教自己；订婚以后，他渐渐发现她不但很有主见，而且主见很牢固。她听他说准备退还聘约，不以为然，说找事不容易，除非他另有打算，别逞一时的意气。鸿渐问道：“'"
      ]
     },
     "metadata": {},
     "output_type": "display_data"
    },
    {
     "data": {
      "text/plain": [
       "'嘴，不敢太针锋相对。她们把两间房里的器具细看，问了价钱，同声推尊柔嘉能干津明，会买东西，不过时时穿插说：“我在什么地方也看见这样一张桌子（或椅子），价钱好像便宜些，可惜我没有买。”三奶奶问嘉道：“你有没有搁箱子的房间？”柔嘉道：“没有。我的箱子不多，全搁在'"
      ]
     },
     "metadata": {},
     "output_type": "display_data"
    },
    {
     "data": {
      "text/plain": [
       "'心。你瞧，这就是大学毕业生！”二奶奶对丈夫发表感想如下：“你留心没有？孙柔嘉脸上一股妖气，一看就是人上邪道女人，所以会干那种无耻的事。你父亲母亲一对老糊涂，倒赞她美！不是我吹牛，我家的姊妹多少正经干净，别说从来没有男朋友，就是订了婚，跟未婚夫通信爹都不许的'"
      ]
     },
     "metadata": {},
     "output_type": "display_data"
    },
    {
     "data": {
      "text/plain": [
       "'的心全偏到夹肢窝里的！老大一个人大学毕业留洋，钱花得不少了，现在还要用老头的钱。我就不懂，他留了洋有什么用，别说比不上二哥了，比我们老三都不如。”二奶奶道：“咱们瞧女大学生‘自立’罢。”二人旧嫌尽释，亲爇得有如结义姐妹（因为亲生姐妹倒彼此忌嫉的），孙柔嘉做'"
      ]
     },
     "metadata": {},
     "output_type": "display_data"
    },
    {
     "data": {
      "text/plain": [
       "'呢，你吃的亏就是没留过学。我在德国，就知道德国妇女的三Ｋ运动：Ｋｉｒｃｈｅ，Ｋｎｅｃｈｅ，Ｋｉｎｄｅｒ——”柔嘉道：“我不要听，随你去说。不过我今天才知道，你是位孝子，对你父亲的话这样听从——”这吵架没变严重，因为不能到孙家去吵，不能回方家去吵，不宜在路上'"
      ]
     },
     "metadata": {},
     "output_type": "display_data"
    },
    {
     "name": "stdout",
     "output_type": "stream",
     "text": [
      "CPU times: user 34.6 ms, sys: 24 ms, total: 58.6 ms\n",
      "Wall time: 66.3 ms\n"
     ]
    }
   ],
   "source": [
    "%%time\n",
    "\n",
    "query = \"孙柔嘉\"\n",
    "docs = vectorstore.similarity_search(query,k=10)\n",
    "\n",
    "for doc in docs:\n",
    "    display(doc.page_content)"
   ]
  },
  {
   "cell_type": "markdown",
   "id": "df4bb83c-39b7-4cc0-b82b-e3c6bec1fe0b",
   "metadata": {},
   "source": [
    "## 保存索引"
   ]
  },
  {
   "cell_type": "code",
   "execution_count": 13,
   "id": "c790bde8-26e2-417c-bc36-99010f5801da",
   "metadata": {},
   "outputs": [
    {
     "name": "stdout",
     "output_type": "stream",
     "text": [
      "CPU times: user 10.6 ms, sys: 7.86 ms, total: 18.4 ms\n",
      "Wall time: 19.4 ms\n"
     ]
    }
   ],
   "source": [
    "%%time\n",
    "\n",
    "index_path='weicheng_index'\n",
    "vectorstore.save_local(index_path)"
   ]
  },
  {
   "cell_type": "markdown",
   "id": "a656d713-1a17-45f9-a259-e63801c44e5e",
   "metadata": {},
   "source": [
    "## 加载索引"
   ]
  },
  {
   "cell_type": "code",
   "execution_count": 5,
   "id": "b84bac2a-b486-45e6-bf1a-0ccc4abfd7a9",
   "metadata": {},
   "outputs": [
    {
     "name": "stdout",
     "output_type": "stream",
     "text": [
      "CPU times: user 133 ms, sys: 5.56 ms, total: 139 ms\n",
      "Wall time: 141 ms\n"
     ]
    },
    {
     "data": {
      "text/plain": [
       "2236"
      ]
     },
     "execution_count": 5,
     "metadata": {},
     "output_type": "execute_result"
    }
   ],
   "source": [
    "%%time\n",
    "\n",
    "index_path='weicheng_index'\n",
    "vectorstore=FAISS.load_local(index_path,\n",
    "                             embeddings,\n",
    "                            allow_dangerous_deserialization=True)\n",
    "vectorstore.index.ntotal"
   ]
  },
  {
   "cell_type": "markdown",
   "id": "701449b8-7872-458f-aaff-6a2db26fbc60",
   "metadata": {},
   "source": [
    "## 直接llm对话"
   ]
  },
  {
   "cell_type": "code",
   "execution_count": 21,
   "id": "6899cd8f-2527-4527-a4aa-aea4563ef3bb",
   "metadata": {},
   "outputs": [
    {
     "name": "stdout",
     "output_type": "stream",
     "text": [
      "孙柔嘉的丈夫是陆焉识，这是小说《围城》中的人物。陆焉识是一位留洋归来的学者，与孙柔嘉有过婚姻关系。CPU times: user 188 ms, sys: 9.34 ms, total: 197 ms\n",
      "Wall time: 1.57 s\n"
     ]
    }
   ],
   "source": [
    "%%time\n",
    "\n",
    "chat = ChatOpenAI(api_key=token, \n",
    "                  base_url=base_url,\n",
    "                  model='xiaoyu', \n",
    "                  temperature=0,\n",
    "                  streaming=True)\n",
    "\n",
    "messages = [\n",
    "    system_message,\n",
    "    HumanMessage(content=\"孙柔嘉的丈夫是谁？\"),\n",
    "]\n",
    "\n",
    "for chunk in chat.stream(messages):\n",
    "    print(chunk.content, end=\"\", flush=True)"
   ]
  },
  {
   "cell_type": "markdown",
   "id": "855eb9d5-4920-468c-a6e5-11b0a046456a",
   "metadata": {},
   "source": [
    "## 基于嵌入上下文的llm对话"
   ]
  },
  {
   "cell_type": "code",
   "execution_count": 23,
   "id": "95c9b6f9-a587-4590-bb7d-e2d07271c6b3",
   "metadata": {},
   "outputs": [
    {
     "name": "stdout",
     "output_type": "stream",
     "text": [
      "CPU times: user 47.8 ms, sys: 2.58 ms, total: 50.4 ms\n",
      "Wall time: 507 ms\n"
     ]
    },
    {
     "data": {
      "text/plain": [
       "{'query': '孙柔嘉的丈夫是谁？', 'result': '孙柔嘉的丈夫是陆先生。'}"
      ]
     },
     "execution_count": 23,
     "metadata": {},
     "output_type": "execute_result"
    }
   ],
   "source": [
    "%%time\n",
    "\n",
    "from langchain.chains.combine_documents import create_stuff_documents_chain\n",
    "from langchain_core.prompts import ChatPromptTemplate\n",
    "from langchain.chains import create_retrieval_chain\n",
    "from langchain_core.vectorstores import VectorStoreRetriever\n",
    "from langchain.chains import RetrievalQA\n",
    "\n",
    "from langchain_core.vectorstores import VectorStoreRetriever\n",
    "from langchain.chains import RetrievalQA\n",
    "\n",
    "from langchain_core.runnables import RunnableParallel, RunnablePassthrough\n",
    "from langchain_core.output_parsers import StrOutputParser\n",
    "\n",
    "retriever = VectorStoreRetriever(vectorstore=vectorstore,search_kwargs={\"k\": 3})\n",
    "\n",
    "qa_chain = RetrievalQA.from_chain_type(\n",
    "    llm=chat, retriever=retriever\n",
    ")\n",
    "\n",
    "question='孙柔嘉的丈夫是谁？'\n",
    "qa_chain.invoke({\"query\": question})"
   ]
  },
  {
   "cell_type": "markdown",
   "id": "a015f259-bf3f-4cbc-87f2-c341f8e2d523",
   "metadata": {},
   "source": [
    "## 增加嵌入数量可能改善对话结果生成"
   ]
  },
  {
   "cell_type": "code",
   "execution_count": 34,
   "id": "49fd6345-28a7-4ed6-9f09-d9db55d28e48",
   "metadata": {},
   "outputs": [
    {
     "name": "stdout",
     "output_type": "stream",
     "text": [
      "CPU times: user 49.6 ms, sys: 20.6 ms, total: 70.2 ms\n",
      "Wall time: 1.26 s\n"
     ]
    },
    {
     "data": {
      "text/plain": [
       "{'query': '孙柔嘉的丈夫是谁？', 'result': '孙柔嘉的丈夫是方鸿渐。'}"
      ]
     },
     "execution_count": 34,
     "metadata": {},
     "output_type": "execute_result"
    }
   ],
   "source": [
    "%%time\n",
    "\n",
    "retriever = VectorStoreRetriever(vectorstore=vectorstore,search_kwargs={\"k\": 5})\n",
    "\n",
    "qa_chain = RetrievalQA.from_chain_type(\n",
    "    llm=chat, retriever=retriever\n",
    ")\n",
    "\n",
    "question='孙柔嘉的丈夫是谁？'\n",
    "qa_chain.invoke({\"query\": question})"
   ]
  },
  {
   "cell_type": "markdown",
   "id": "541dd81b-7072-4fba-bf4d-34d3f4851468",
   "metadata": {},
   "source": [
    "## 改为流式输出 - 但结果有问题"
   ]
  },
  {
   "cell_type": "code",
   "execution_count": 42,
   "id": "e412060c-5a17-414c-9793-53923420422a",
   "metadata": {},
   "outputs": [
    {
     "name": "stdout",
     "output_type": "stream",
     "text": [
      "回答: \n",
      "\n",
      "孙柔嘉的丈夫是陆先生。\n",
      "\n",
      "相似度上下文: \n",
      "\n",
      "他到了孙家两次以后，就看出来柔嘉从前口口声声“爸爸妈妈”，而孙先生孙太太对女儿的事淡漠得等于放任。孙先生是个恶意义的所谓好人——无用之人，在报馆当会计主任，毫无势力。孙太太老来得子，孙家是三代单传，把儿子的抚养作为宗教，打扮得他头光衣挺，像个高等美容院里\n",
      "\n",
      "家小孩子“你的Ｂａｂｙ”，人家太太“你的Ｍｒｓ”那种女留学生。这种姑母，柔嘉当然叫她Ａｕｎｔｉｅ。她年轻时出过风头，到现在不能忘记，对后起的女学生批判甚为严厉。柔嘉最喜欢听她的回忆，所以独蒙怜爱。孙先生夫妇很怕这位姑太太，家里的事大半要请她过问。她丈夫陆先\n",
      "\n",
      "太太，家里的事大半要请她过问。她丈夫陆先生，一脸不可饶恕的得意之色，好谈论时事。因为他两耳微聋，人家没气力跟他辩，他心里只听到自己说话的声音，愈加不可理喻。夫妇俩同在一家大纱厂里任要职，先生是总工程师，太太是人事科科长。所以柔嘉也在人事科里找到位置。姑太太\n",
      "\n",
      "心。你瞧，这就是大学毕业生！”二奶奶对丈夫发表感想如下：“你留心没有？孙柔嘉脸上一股妖气，一看就是人上邪道女人，所以会干那种无耻的事。你父亲母亲一对老糊涂，倒赞她美！不是我吹牛，我家的姊妹多少正经干净，别说从来没有男朋友，就是订了婚，跟未婚夫通信爹都不许的\n",
      "\n",
      "孙柔嘉在订婚以前，常来看鸿渐；订了婚，只有鸿渐去看她，她轻易不肯来。鸿渐最初以为她只是个女孩子，事事要请教自己；订婚以后，他渐渐发现她不但很有主见，而且主见很牢固。她听他说准备退还聘约，不以为然，说找事不容易，除非他另有打算，别逞一时的意气。鸿渐问道：“\n",
      "\n",
      "CPU times: user 104 ms, sys: 24 ms, total: 128 ms\n",
      "Wall time: 603 ms\n"
     ]
    }
   ],
   "source": [
    "%%time\n",
    "\n",
    "prompt = ChatPromptTemplate.from_template(\"\"\"Answer the following question based only on the provided context:\n",
    "\n",
    "<context>\n",
    "{context}\n",
    "</context>\n",
    "\n",
    "Question: {input}\"\"\")\n",
    "\n",
    "document_chain = create_stuff_documents_chain(chat, prompt)\n",
    "\n",
    "retriever = vectorstore.as_retriever(search_kwargs={\"k\": 5})\n",
    "retrieval_chain = create_retrieval_chain(retriever, document_chain)\n",
    "\n",
    "context_docs=None\n",
    "\n",
    "print('回答: \\n')\n",
    "\n",
    "for chunk in retrieval_chain.stream({\"input\": \"孙柔嘉的丈夫是谁？\"}):\n",
    "    if 'answer' in chunk:\n",
    "        print(chunk['answer'], end=\"\", flush=True)\n",
    "    elif 'context' in chunk:\n",
    "        context_docs=chunk['context']\n",
    "print()\n",
    "\n",
    "print('\\n相似度上下文: \\n')\n",
    "for doc in context_docs:\n",
    "    print(doc.page_content)\n",
    "    print()"
   ]
  },
  {
   "cell_type": "markdown",
   "id": "03839797-53b5-430c-80e0-b34cd6c7650b",
   "metadata": {},
   "source": [
    "## 增大k值有时会有效果"
   ]
  },
  {
   "cell_type": "code",
   "execution_count": 44,
   "id": "a20ffadb-f8d7-4afc-989c-0abdf7a49d55",
   "metadata": {},
   "outputs": [
    {
     "name": "stdout",
     "output_type": "stream",
     "text": [
      "回答: \n",
      "\n",
      "孙柔嘉的丈夫是方鸿渐。\n",
      "CPU times: user 98.3 ms, sys: 20.5 ms, total: 119 ms\n",
      "Wall time: 549 ms\n"
     ]
    }
   ],
   "source": [
    "%%time\n",
    "\n",
    "retriever = vectorstore.as_retriever(search_kwargs={\"k\": 15})\n",
    "retrieval_chain = create_retrieval_chain(retriever, document_chain)\n",
    "\n",
    "context_docs=None\n",
    "\n",
    "print('回答: \\n')\n",
    "\n",
    "for chunk in retrieval_chain.stream({\"input\": \"孙柔嘉的丈夫是谁？\"}):\n",
    "    if 'answer' in chunk:\n",
    "        print(chunk['answer'], end=\"\", flush=True)\n",
    "    elif 'context' in chunk:\n",
    "        context_docs=chunk['context']\n",
    "print()"
   ]
  },
  {
   "cell_type": "markdown",
   "id": "1a4397cd-7b98-4c21-920f-3446e9a65fd5",
   "metadata": {},
   "source": [
    "## 但并不稳定，完全碰运气"
   ]
  },
  {
   "cell_type": "code",
   "execution_count": 48,
   "id": "66c31686-5108-47a0-a56c-29559b645224",
   "metadata": {},
   "outputs": [
    {
     "name": "stdout",
     "output_type": "stream",
     "text": [
      "回答: \n",
      "\n",
      "徐志摩\n",
      "CPU times: user 83.5 ms, sys: 19.1 ms, total: 103 ms\n",
      "Wall time: 410 ms\n"
     ]
    }
   ],
   "source": [
    "%%time\n",
    "\n",
    "retriever = vectorstore.as_retriever(search_kwargs={\"k\": 200})\n",
    "retrieval_chain = create_retrieval_chain(retriever, document_chain)\n",
    "\n",
    "context_docs=None\n",
    "\n",
    "print('回答: \\n')\n",
    "\n",
    "for chunk in retrieval_chain.stream({\"input\": \"孙柔嘉的丈夫是谁？\"}):\n",
    "    if 'answer' in chunk:\n",
    "        print(chunk['answer'], end=\"\", flush=True)\n",
    "    elif 'context' in chunk:\n",
    "        context_docs=chunk['context']\n",
    "print()"
   ]
  },
  {
   "cell_type": "markdown",
   "id": "e4d65059-e723-40b3-80f8-42579736c12c",
   "metadata": {},
   "source": [
    "## 使用rerank"
   ]
  },
  {
   "cell_type": "code",
   "execution_count": null,
   "id": "44ba1ef0-ea1c-45aa-901f-fa90a0b042b1",
   "metadata": {},
   "outputs": [],
   "source": []
  }
 ],
 "metadata": {
  "kernelspec": {
   "display_name": "Python 3 (ipykernel)",
   "language": "python",
   "name": "python3"
  },
  "language_info": {
   "codemirror_mode": {
    "name": "ipython",
    "version": 3
   },
   "file_extension": ".py",
   "mimetype": "text/x-python",
   "name": "python",
   "nbconvert_exporter": "python",
   "pygments_lexer": "ipython3",
   "version": "3.10.12"
  }
 },
 "nbformat": 4,
 "nbformat_minor": 5
}
