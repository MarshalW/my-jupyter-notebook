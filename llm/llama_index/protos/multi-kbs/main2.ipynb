{
 "cells": [
  {
   "cell_type": "markdown",
   "id": "44ee0be8-a496-4052-998e-2f02621fb0d2",
   "metadata": {},
   "source": [
    "# 基于路由的检索查询"
   ]
  },
  {
   "cell_type": "markdown",
   "id": "31e83f50-6047-475b-b76a-bc0242c153a3",
   "metadata": {},
   "source": [
    "适合于一个数据源，多种检索索引，比如摘要索引和向量索引，或者再加上关键字索引。\n",
    "\n",
    "让llm根据查询提示词，选择具体某个检索器获取上下文，并生成回答。\n",
    "\n",
    "本文使用景点数据，效果并不理想，只是能走通流程，并验证确实有效的做了选择。\n"
   ]
  },
  {
   "cell_type": "markdown",
   "id": "f0a3c01e-219f-4b64-b288-8b07cedb4b26",
   "metadata": {},
   "source": [
    "## 全局设置"
   ]
  },
  {
   "cell_type": "code",
   "execution_count": 1,
   "id": "dcc1083c-b694-49ca-9d4f-a561f7889b0e",
   "metadata": {},
   "outputs": [
    {
     "name": "stdout",
     "output_type": "stream",
     "text": [
      "CPU times: user 3.52 s, sys: 340 ms, total: 3.86 s\n",
      "Wall time: 3.51 s\n"
     ]
    }
   ],
   "source": [
    "%%time\n",
    "\n",
    "from llama_index.core import Settings\n",
    "from llama_index.llms.openai_like import OpenAILike\n",
    "from llama_index.embeddings.ollama import OllamaEmbedding\n",
    "\n",
    "Settings.llm=OpenAILike(\n",
    "    model=\"qwen2\", \n",
    "    api_base=\"http://ape:3000/v1\", \n",
    "    api_key=\"sk-bJP6QSnUfjAYeYeE505d3eBf63A643BeB0B8E350Df9b7750\",\n",
    "    is_chat_model=True,\n",
    "    temperature=0.1,\n",
    "    request_timeout=60.0\n",
    ")\n",
    "\n",
    "Settings.embed_model = OllamaEmbedding(\n",
    "    model_name=\"quentinz/bge-large-zh-v1.5\",\n",
    "    base_url=\"http://ape:11434\",\n",
    "    ollama_additional_kwargs={\"mirostat\": 0}, # -mirostat N 使用 Mirostat 采样。\n",
    ")\n",
    "\n",
    "Settings.chunk_size = 128\n",
    "Settings.chunk_overlap = 10"
   ]
  },
  {
   "cell_type": "markdown",
   "id": "4b8dcac3-a2c9-44cd-a5b1-5ea7530dd5c1",
   "metadata": {},
   "source": [
    "## 加载数据"
   ]
  },
  {
   "cell_type": "code",
   "execution_count": 2,
   "id": "af26144e-0cd9-4c83-b1c5-a24532421abb",
   "metadata": {},
   "outputs": [
    {
     "name": "stdout",
     "output_type": "stream",
     "text": [
      "CPU times: user 737 ms, sys: 22.8 ms, total: 760 ms\n",
      "Wall time: 1.05 s\n"
     ]
    },
    {
     "data": {
      "text/plain": [
       "3"
      ]
     },
     "execution_count": 2,
     "metadata": {},
     "output_type": "execute_result"
    }
   ],
   "source": [
    "%%time\n",
    "\n",
    "items=[\n",
    "    \"颐和园\",\n",
    "    \"北海公园\",\n",
    "    \"故宫\",\n",
    "]\n",
    "\n",
    "from llama_index.readers.web import TrafilaturaWebReader\n",
    "\n",
    "documents = TrafilaturaWebReader().load_data(\n",
    "    [ f\"https://baike.baidu.com/item/{item}\" for item in items]\n",
    ")\n",
    "\n",
    "len(documents)"
   ]
  },
  {
   "cell_type": "code",
   "execution_count": 3,
   "id": "373b3e9f-d975-4a36-8d72-393cfaab37c1",
   "metadata": {},
   "outputs": [
    {
     "name": "stdout",
     "output_type": "stream",
     "text": [
      "CPU times: user 83.8 ms, sys: 0 ns, total: 83.8 ms\n",
      "Wall time: 83.1 ms\n"
     ]
    }
   ],
   "source": [
    "%%time\n",
    "\n",
    "nodes = Settings.node_parser.get_nodes_from_documents(documents)"
   ]
  },
  {
   "cell_type": "markdown",
   "id": "35f2e529-e64d-4f3b-94d9-0146a14ba863",
   "metadata": {},
   "source": [
    "## 定义摘要索引"
   ]
  },
  {
   "cell_type": "code",
   "execution_count": 5,
   "id": "f45decb9-7cb4-4eca-8a0b-bd061c85e510",
   "metadata": {},
   "outputs": [
    {
     "name": "stdout",
     "output_type": "stream",
     "text": [
      "CPU times: user 44.9 ms, sys: 74 µs, total: 45 ms\n",
      "Wall time: 44.5 ms\n"
     ]
    }
   ],
   "source": [
    "%%time\n",
    "\n",
    "from llama_index.core import SummaryIndex\n",
    "\n",
    "summary_index = SummaryIndex(nodes)"
   ]
  },
  {
   "cell_type": "markdown",
   "id": "49e19f83-bf1f-48f2-bd59-04ec0e400d5b",
   "metadata": {},
   "source": [
    "## 定义向量索引"
   ]
  },
  {
   "cell_type": "code",
   "execution_count": 7,
   "id": "3942ca67-0fd9-47ed-b44b-fa1ea9731477",
   "metadata": {},
   "outputs": [
    {
     "name": "stdout",
     "output_type": "stream",
     "text": [
      "CPU times: user 2.44 s, sys: 120 ms, total: 2.56 s\n",
      "Wall time: 54.6 s\n"
     ]
    }
   ],
   "source": [
    "%%time\n",
    "\n",
    "from llama_index.core import VectorStoreIndex\n",
    "\n",
    "vector_index = VectorStoreIndex(nodes)"
   ]
  },
  {
   "cell_type": "markdown",
   "id": "3c5f60c2-4795-49dd-8338-d7cebd2f34e0",
   "metadata": {},
   "source": [
    "## 定义查询引擎"
   ]
  },
  {
   "cell_type": "code",
   "execution_count": 8,
   "id": "ef2dded6-e191-4774-b46c-856f1d36ff6c",
   "metadata": {},
   "outputs": [
    {
     "name": "stdout",
     "output_type": "stream",
     "text": [
      "CPU times: user 22.8 ms, sys: 12 ms, total: 34.8 ms\n",
      "Wall time: 34.2 ms\n"
     ]
    }
   ],
   "source": [
    "%%time\n",
    "\n",
    "from llama_index.core.tools import QueryEngineTool\n",
    "\n",
    "list_query_engine = summary_index.as_query_engine(\n",
    "    response_mode=\"tree_summarize\", use_async=True\n",
    ")\n",
    "vector_query_engine = vector_index.as_query_engine(\n",
    "    response_mode=\"tree_summarize\", use_async=True\n",
    ")\n",
    "\n",
    "list_tool = QueryEngineTool.from_defaults(\n",
    "    query_engine=list_query_engine,\n",
    "    description=\"适用于检索景点概要信息。\",\n",
    ")\n",
    "vector_tool = QueryEngineTool.from_defaults(\n",
    "    query_engine=vector_query_engine,\n",
    "    description=(\n",
    "        \"适用于检索景点具体信息片段，例如\"\n",
    "        \" 颐和园门票价格等等。\"\n",
    "    ),\n",
    ")"
   ]
  },
  {
   "cell_type": "markdown",
   "id": "34cc9127-b6a1-4137-9644-16bd6510bb67",
   "metadata": {},
   "source": [
    "## 定义路由查询引擎"
   ]
  },
  {
   "cell_type": "code",
   "execution_count": 9,
   "id": "dfd3513e-dc5f-44e2-b7aa-94483c1c8baf",
   "metadata": {},
   "outputs": [
    {
     "name": "stdout",
     "output_type": "stream",
     "text": [
      "CPU times: user 12.6 ms, sys: 330 µs, total: 12.9 ms\n",
      "Wall time: 1.25 s\n"
     ]
    }
   ],
   "source": [
    "%%time\n",
    "\n",
    "from llama_index.core.objects import ObjectIndex\n",
    "\n",
    "obj_index = ObjectIndex.from_objects(\n",
    "    [list_tool, vector_tool],\n",
    "    index_cls=VectorStoreIndex,\n",
    ")"
   ]
  },
  {
   "cell_type": "code",
   "execution_count": 10,
   "id": "49debbdd-993f-49c3-be30-50cb3255e310",
   "metadata": {},
   "outputs": [
    {
     "name": "stdout",
     "output_type": "stream",
     "text": [
      "CPU times: user 117 µs, sys: 10 µs, total: 127 µs\n",
      "Wall time: 130 µs\n"
     ]
    }
   ],
   "source": [
    "%%time\n",
    "\n",
    "\n",
    "from llama_index.core.query_engine import ToolRetrieverRouterQueryEngine\n",
    "\n",
    "query_engine = ToolRetrieverRouterQueryEngine(obj_index.as_retriever())"
   ]
  },
  {
   "cell_type": "code",
   "execution_count": 13,
   "id": "c6ce8914-b233-48a7-a53a-c99ef21b52cb",
   "metadata": {},
   "outputs": [
    {
     "name": "stdout",
     "output_type": "stream",
     "text": [
      "CPU times: user 53.8 ms, sys: 3.18 ms, total: 57 ms\n",
      "Wall time: 7.75 s\n"
     ]
    },
    {
     "data": {
      "text/plain": [
       "'颐和园是中国清朝时期的皇家园林，位于北京市西郊海淀区新建宫门路19号。它最初名为清漪园，始建于乾隆十五年（1750年），但在咸丰十年（1860年）被英法联军焚毁后得以重建。颐和园以其独特的布局和设计而闻名，利用了昆明湖和万寿山作为基础，并借鉴了杭州西湖的风景以及江南园林的设计手法和意境。这座大型天然山水园被誉为“皇家园林博物馆”，是保存最为完好的一座皇家行宫御苑。'"
      ]
     },
     "execution_count": 13,
     "metadata": {},
     "output_type": "execute_result"
    }
   ],
   "source": [
    "%%time\n",
    "\n",
    "response = query_engine.query(\"介绍下颐和园\")\n",
    "response.response"
   ]
  },
  {
   "cell_type": "code",
   "execution_count": 14,
   "id": "b1dcc5e8-4844-4d53-a5c6-366c00b42135",
   "metadata": {},
   "outputs": [
    {
     "name": "stdout",
     "output_type": "stream",
     "text": [
      "CPU times: user 58.8 ms, sys: 370 µs, total: 59.1 ms\n",
      "Wall time: 2.16 s\n"
     ]
    },
    {
     "data": {
      "text/plain": [
       "'颐和园的门票价格在旺季是30元/张，而在淡季则是20元/张。'"
      ]
     },
     "execution_count": 14,
     "metadata": {},
     "output_type": "execute_result"
    }
   ],
   "source": [
    "%%time\n",
    "\n",
    "response = query_engine.query(\"颐和园的门票价格？\")\n",
    "response.response"
   ]
  },
  {
   "cell_type": "code",
   "execution_count": null,
   "id": "b40871eb-9c7a-4260-93bb-0a363b2f1d3b",
   "metadata": {},
   "outputs": [],
   "source": []
  }
 ],
 "metadata": {
  "kernelspec": {
   "display_name": "Python 3 (ipykernel)",
   "language": "python",
   "name": "python3"
  },
  "language_info": {
   "codemirror_mode": {
    "name": "ipython",
    "version": 3
   },
   "file_extension": ".py",
   "mimetype": "text/x-python",
   "name": "python",
   "nbconvert_exporter": "python",
   "pygments_lexer": "ipython3",
   "version": "3.10.12"
  }
 },
 "nbformat": 4,
 "nbformat_minor": 5
}
