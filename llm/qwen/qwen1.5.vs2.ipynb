{
 "cells": [
  {
   "cell_type": "markdown",
   "id": "8edf124f-2e46-455a-8870-508e65e6bbc9",
   "metadata": {},
   "source": [
    "# 对比qwen1.5和2的区别 -- 基于7B"
   ]
  },
  {
   "cell_type": "markdown",
   "id": "519866b8-435b-4fc6-8c60-10e3a48c5cd4",
   "metadata": {},
   "source": [
    "## 准备"
   ]
  },
  {
   "cell_type": "code",
   "execution_count": 8,
   "id": "74d99007-23ca-4c84-991f-714401eb3ae7",
   "metadata": {},
   "outputs": [
    {
     "name": "stdout",
     "output_type": "stream",
     "text": [
      "CPU times: user 9 µs, sys: 0 ns, total: 9 µs\n",
      "Wall time: 10.5 µs\n"
     ]
    }
   ],
   "source": [
    "%%time\n",
    "\n",
    "from llama_index.llms.openai_like import OpenAILike\n",
    "from llama_index.core import Settings\n",
    "\n",
    "def process_stream(stream):\n",
    "    for chunk in stream:\n",
    "        print(chunk.choices[0].delta.content or \"\", end=\"\")\n",
    "    print()"
   ]
  },
  {
   "cell_type": "code",
   "execution_count": 2,
   "id": "01050fcf-6851-462f-ab56-f0098f7bf5c5",
   "metadata": {},
   "outputs": [
    {
     "name": "stdout",
     "output_type": "stream",
     "text": [
      "CPU times: user 145 µs, sys: 0 ns, total: 145 µs\n",
      "Wall time: 135 µs\n"
     ]
    },
    {
     "data": {
      "text/plain": [
       "5165"
      ]
     },
     "execution_count": 2,
     "metadata": {},
     "output_type": "execute_result"
    }
   ],
   "source": [
    "%%time\n",
    "\n",
    "file_path = './content-6k.txt'\n",
    "\n",
    "# Read the content of the file and store it in a string variable\n",
    "with open(file_path, 'r', encoding='utf-8') as file:\n",
    "    content = file.read()\n",
    "\n",
    "len(content)"
   ]
  },
  {
   "cell_type": "markdown",
   "id": "5c658744-12fe-44f3-8d5e-7280ab0dd87b",
   "metadata": {},
   "source": [
    "## qwen2 7b"
   ]
  },
  {
   "cell_type": "code",
   "execution_count": 12,
   "id": "5141cbb2-1a26-46e7-a2a5-b89a1038f572",
   "metadata": {},
   "outputs": [
    {
     "name": "stdout",
     "output_type": "stream",
     "text": [
      "文章主要内容如下：\n",
      "\n",
      "1. **激光雷达市场加速上车**：自2020年起，中国新能源汽车市场的智能驾驶技术发展迅速，尤其是激光雷达的采用率显著提升。2022年被视为激光雷达量产元年，装车量达到11.8万台；到2023年，随着高阶智驾加速普及，激光雷达装车量接近55万台，同比增长超过300%。\n",
      "\n",
      "2. **头部企业成长**：禾赛科技、图达通和速腾聚创等激光雷达独角兽企业在市场中占据主导地位。截至2023年，这三家公司合计占据了87.1%的市场份额。其中，禾赛科技和速腾聚创已分别在纳斯达克和港交所上市，图达通也正加速推进上市计划。\n",
      "\n",
      "3. **亏损收窄与盈利预期**：激光雷达企业通过规模化生产降低了成本，并随着订单量增加实现了营收增长。2023年一季度，禾赛科技和速腾聚创的净亏损幅度均有所收窄，其中禾赛预计能在今年四季度实现盈利，速腾则将盈亏平衡的目标时间设置在了明年。\n",
      "\n",
      "4. **价格下降与市场潜力**：激光雷达的价格持续下探，尤其是用于高级辅助驾驶（ADAS）系统的激光雷达均价已降至3800元。这降低了成本门槛，扩大了激光雷达的市场空间，并推动其在不同车型中的应用，包括15万元及以上的新能源汽车市场。\n",
      "\n",
      "5. **技术与市场竞争**：尽管价格下降和市场规模增长为激光雷达企业带来了积极信号，但它们仍面临多重挑战。包括持续的技术研发投入、高昂的研发成本以及来自纯视觉方案的竞争压力。同时，车企对智能驾驶路线的判断不确定性也影响着激光雷达的市场需求。\n",
      "\n",
      "6. **未来展望**：激光雷达供应商需要在保持技术优势的同时，优化成本结构和提升投入产出比，以实现盈利目标。市场上的竞争将更加激烈，而技术创新将成为关键驱动力。CPU times: user 374 ms, sys: 21.6 ms, total: 396 ms\n",
      "Wall time: 13.9 s\n"
     ]
    }
   ],
   "source": [
    "%%time\n",
    "\n",
    "llm = OpenAILike(model=\"qwen2-7b-6k\", \n",
    "                 api_base=\"http://192.168.0.72:3000/v1\", \n",
    "                 api_key=\"sk-bJP6QSnUfjAYeYeE505d3eBf63A643BeB0B8E350Df9b7750\",\n",
    "                 is_chat_model=True,\n",
    "                 temperature=0.1\n",
    "                )\n",
    "\n",
    "resp=llm.stream_complete(f\"文章内容：\\n\\n{content}\\n\\n根据上面文章内容，提炼文章的主要内容。\")\n",
    "for r in resp:\n",
    "    print(r.delta, end=\"\")"
   ]
  },
  {
   "cell_type": "markdown",
   "id": "7529c945-79da-44c4-af98-6dda38f16eb2",
   "metadata": {},
   "source": [
    "## qwen 7b"
   ]
  },
  {
   "cell_type": "code",
   "execution_count": null,
   "id": "8941b66b-e89c-4cb2-9645-a144bd30112d",
   "metadata": {},
   "outputs": [],
   "source": [
    "%%time\n",
    "\n",
    "llm = OpenAILike(model=\"qwen-7b-6k\", \n",
    "                 api_base=\"http://192.168.0.72:3000/v1\", \n",
    "                 api_key=\"sk-bJP6QSnUfjAYeYeE505d3eBf63A643BeB0B8E350Df9b7750\",\n",
    "                 is_chat_model=True,\n",
    "                 temperature=0.1\n",
    "                )\n",
    "\n",
    "resp=llm.stream_complete(f\"文章内容：\\n\\n{content}\\n\\n根据上面文章内容，提炼文章的主要内容。\")\n",
    "for r in resp:\n",
    "    print(r.delta, end=\"\")"
   ]
  },
  {
   "cell_type": "code",
   "execution_count": null,
   "id": "764688c4-f0cc-43b1-aab2-dd4e7e78f2d0",
   "metadata": {},
   "outputs": [],
   "source": []
  }
 ],
 "metadata": {
  "kernelspec": {
   "display_name": "Python 3 (ipykernel)",
   "language": "python",
   "name": "python3"
  },
  "language_info": {
   "codemirror_mode": {
    "name": "ipython",
    "version": 3
   },
   "file_extension": ".py",
   "mimetype": "text/x-python",
   "name": "python",
   "nbconvert_exporter": "python",
   "pygments_lexer": "ipython3",
   "version": "3.10.12"
  }
 },
 "nbformat": 4,
 "nbformat_minor": 5
}
