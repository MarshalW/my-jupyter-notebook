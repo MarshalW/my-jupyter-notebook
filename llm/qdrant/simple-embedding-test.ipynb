{
 "cells": [
  {
   "cell_type": "markdown",
   "id": "35106f41-2fe1-496f-9e7c-b0a82e9b06ff",
   "metadata": {},
   "source": [
    "# 多种加载 embedding 方式比较"
   ]
  },
  {
   "cell_type": "markdown",
   "id": "49135388-9399-4f03-9458-36fd8bcfc77f",
   "metadata": {},
   "source": [
    "## 准备"
   ]
  },
  {
   "cell_type": "code",
   "execution_count": 1,
   "id": "1c0fbb74-d7b2-41aa-ad98-c1c90a3515e8",
   "metadata": {},
   "outputs": [
    {
     "name": "stdout",
     "output_type": "stream",
     "text": [
      "CPU times: user 21.8 ms, sys: 12.7 ms, total: 34.6 ms\n",
      "Wall time: 7.07 s\n"
     ]
    }
   ],
   "source": [
    "%%time\n",
    "%%capture\n",
    "\n",
    "!pip install sentence-transformers\n",
    "!pip install FlagEmbedding"
   ]
  },
  {
   "cell_type": "code",
   "execution_count": 2,
   "id": "b3e07007-e71b-48e3-a805-9105b06d4d35",
   "metadata": {},
   "outputs": [
    {
     "name": "stdout",
     "output_type": "stream",
     "text": [
      "CPU times: user 1e+03 ns, sys: 0 ns, total: 1e+03 ns\n",
      "Wall time: 2.86 µs\n"
     ]
    }
   ],
   "source": [
    "%%time\n",
    "\n",
    "query=\"方鸿渐\"\n",
    "data=\"主人公方鸿渐留学回国后，面临找工作和个人感情的种种问题。他经历了几段感情波折，包括与鲍小姐的失败婚姻和与孙柔嘉的恋情，最终与孙柔嘉结婚。但婚后生活并不如意，他在事业上也遭遇挫折，未能实现自己的理想。\""
   ]
  },
  {
   "cell_type": "markdown",
   "id": "f5419c7c-d8f3-4af7-ab77-8a949bf9030c",
   "metadata": {},
   "source": [
    "## FlagEmbedding"
   ]
  },
  {
   "cell_type": "code",
   "execution_count": 6,
   "id": "8d686405-b9d1-4cfb-aab1-8bdf3cee72c9",
   "metadata": {},
   "outputs": [
    {
     "name": "stdout",
     "output_type": "stream",
     "text": [
      "CPU times: user 109 ms, sys: 44.8 ms, total: 154 ms\n",
      "Wall time: 79.3 ms\n"
     ]
    }
   ],
   "source": [
    "%%time\n",
    "\n",
    "from FlagEmbedding import FlagModel\n",
    "\n",
    "model = FlagModel('/models/bge-small-zh-v1.5', \n",
    "                  query_instruction_for_retrieval=\"为这个句子生成表示以用于检索相关文章：\",\n",
    "                  # use_fp16=True\n",
    ")"
   ]
  },
  {
   "cell_type": "code",
   "execution_count": 7,
   "id": "c7b4a1e5-001b-4c30-a861-44229d42674d",
   "metadata": {},
   "outputs": [
    {
     "name": "stdout",
     "output_type": "stream",
     "text": [
      "CPU times: user 10.9 ms, sys: 0 ns, total: 10.9 ms\n",
      "Wall time: 10.6 ms\n"
     ]
    },
    {
     "data": {
      "text/plain": [
       "0.6094"
      ]
     },
     "execution_count": 7,
     "metadata": {},
     "output_type": "execute_result"
    }
   ],
   "source": [
    "%%time\n",
    "\n",
    "c = model.encode(query)\n",
    "data_embeddings = model.encode(data)\n",
    "similarity = query_embeddings @ data_embeddings.T\n",
    "\n",
    "similarity"
   ]
  },
  {
   "cell_type": "code",
   "execution_count": 8,
   "id": "7e2917e5-666a-4c0a-8928-79572d3462d6",
   "metadata": {},
   "outputs": [
    {
     "data": {
      "text/plain": [
       "0.586"
      ]
     },
     "execution_count": 8,
     "metadata": {},
     "output_type": "execute_result"
    }
   ],
   "source": [
    "query_embeddings = model.encode_queries(query)\n",
    "data_embeddings = model.encode(data)\n",
    "similarity = query_embeddings @ data_embeddings.T\n",
    "\n",
    "similarity"
   ]
  },
  {
   "cell_type": "markdown",
   "id": "e0377679-6ebe-4758-a0c3-8dae3812f446",
   "metadata": {},
   "source": [
    "## sentence_transformers"
   ]
  },
  {
   "cell_type": "code",
   "execution_count": 9,
   "id": "3758ffa6-06e0-4728-aa35-48f4a8706bb3",
   "metadata": {},
   "outputs": [
    {
     "name": "stdout",
     "output_type": "stream",
     "text": [
      "CPU times: user 77.3 ms, sys: 43.1 ms, total: 120 ms\n",
      "Wall time: 88.4 ms\n"
     ]
    }
   ],
   "source": [
    "%%time\n",
    "\n",
    "from sentence_transformers import SentenceTransformer\n",
    "\n",
    "model = SentenceTransformer('/models/bge-small-zh-v1.5')"
   ]
  },
  {
   "cell_type": "code",
   "execution_count": 10,
   "id": "894eeb68-63fd-477d-83ca-13482814ad1e",
   "metadata": {},
   "outputs": [
    {
     "name": "stdout",
     "output_type": "stream",
     "text": [
      "CPU times: user 20.3 ms, sys: 12.8 ms, total: 33.1 ms\n",
      "Wall time: 31.9 ms\n"
     ]
    },
    {
     "data": {
      "text/plain": [
       "0.60959816"
      ]
     },
     "execution_count": 10,
     "metadata": {},
     "output_type": "execute_result"
    }
   ],
   "source": [
    "%%time\n",
    "\n",
    "query_embeddings = model.encode(query, normalize_embeddings=True)\n",
    "data_embeddings = model.encode(data, normalize_embeddings=True)\n",
    "similarity = query_embeddings @ data_embeddings.T\n",
    "\n",
    "similarity"
   ]
  },
  {
   "cell_type": "code",
   "execution_count": 14,
   "id": "2233f0b1-9011-4fdf-8f38-da0b4a04093a",
   "metadata": {},
   "outputs": [
    {
     "name": "stdout",
     "output_type": "stream",
     "text": [
      "CPU times: user 10.2 ms, sys: 675 µs, total: 10.9 ms\n",
      "Wall time: 10.1 ms\n"
     ]
    },
    {
     "data": {
      "text/plain": [
       "0.5854778"
      ]
     },
     "execution_count": 14,
     "metadata": {},
     "output_type": "execute_result"
    }
   ],
   "source": [
    "%%time\n",
    "\n",
    "instruction = \"为这个句子生成表示以用于检索相关文章：\"\n",
    "\n",
    "query_embeddings = model.encode([instruction+query], normalize_embeddings=True)\n",
    "data_embeddings = model.encode(data, normalize_embeddings=True)\n",
    "similarity = query_embeddings @ data_embeddings.T\n",
    "\n",
    "similarity[0]"
   ]
  },
  {
   "cell_type": "code",
   "execution_count": null,
   "id": "c4ed972d-c60b-43b2-b554-bc7e0a063031",
   "metadata": {},
   "outputs": [],
   "source": []
  }
 ],
 "metadata": {
  "kernelspec": {
   "display_name": "Python 3 (ipykernel)",
   "language": "python",
   "name": "python3"
  },
  "language_info": {
   "codemirror_mode": {
    "name": "ipython",
    "version": 3
   },
   "file_extension": ".py",
   "mimetype": "text/x-python",
   "name": "python",
   "nbconvert_exporter": "python",
   "pygments_lexer": "ipython3",
   "version": "3.10.12"
  }
 },
 "nbformat": 4,
 "nbformat_minor": 5
}
