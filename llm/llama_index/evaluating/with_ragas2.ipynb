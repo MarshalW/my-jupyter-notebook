{
 "cells": [
  {
   "cell_type": "markdown",
   "id": "fed65af4-a039-4f79-9047-642f62173271",
   "metadata": {},
   "source": [
    "# 使用 Ragas 评估 RAG 的检索查询效果"
   ]
  },
  {
   "cell_type": "markdown",
   "id": "80860c72-f081-47cd-98d0-ca6a5680d3cd",
   "metadata": {},
   "source": [
    "## 准备"
   ]
  },
  {
   "cell_type": "code",
   "execution_count": 1,
   "id": "e0d1c3d5-b3ca-40e4-af03-578db43bfb5c",
   "metadata": {},
   "outputs": [
    {
     "name": "stdout",
     "output_type": "stream",
     "text": [
      "CPU times: user 17.5 ms, sys: 3.64 ms, total: 21.2 ms\n",
      "Wall time: 3.82 s\n"
     ]
    }
   ],
   "source": [
    "%%time\n",
    "%%capture\n",
    "\n",
    "!pip install ragas"
   ]
  },
  {
   "cell_type": "code",
   "execution_count": 1,
   "id": "8be78fc8-8499-43ee-854f-8680238eba20",
   "metadata": {},
   "outputs": [
    {
     "name": "stdout",
     "output_type": "stream",
     "text": [
      "CPU times: user 2.99 s, sys: 347 ms, total: 3.34 s\n",
      "Wall time: 3.08 s\n"
     ]
    },
    {
     "data": {
      "text/plain": [
       "1"
      ]
     },
     "execution_count": 1,
     "metadata": {},
     "output_type": "execute_result"
    }
   ],
   "source": [
    "%%time\n",
    "\n",
    "from llama_index.readers.web import TrafilaturaWebReader\n",
    "\n",
    "items=[\n",
    "    \"天坛公园\",\n",
    "]\n",
    "\n",
    "documents = TrafilaturaWebReader().load_data(\n",
    "    [ f\"https://baike.baidu.com/item/{item}\" for item in items]\n",
    ")\n",
    "\n",
    "len(documents)"
   ]
  },
  {
   "cell_type": "code",
   "execution_count": 2,
   "id": "fc11369f-c252-48ed-a284-c8eeca33135f",
   "metadata": {},
   "outputs": [
    {
     "name": "stdout",
     "output_type": "stream",
     "text": [
      "CPU times: user 905 ms, sys: 11.9 ms, total: 917 ms\n",
      "Wall time: 916 ms\n"
     ]
    }
   ],
   "source": [
    "%%time\n",
    "\n",
    "from llama_index.llms.openai_like import OpenAILike\n",
    "from llama_index.embeddings.ollama import OllamaEmbedding\n",
    "from llama_index.core import Settings\n",
    "\n",
    "Settings.llm =OpenAILike(\n",
    "    model=\"qwen2\", \n",
    "    api_base=\"http://monkey:11434/v1\", \n",
    "    api_key=\"ollama\",\n",
    "    is_chat_model=True,\n",
    "    temperature=0.1,\n",
    "    request_timeout=60.0\n",
    ")\n",
    "\n",
    "Settings.embed_model =OllamaEmbedding(\n",
    "    model_name=\"quentinz/bge-large-zh-v1.5\",\n",
    "    base_url=\"http://monkey:11434\",\n",
    "    ollama_additional_kwargs={\"mirostat\": 0}, # -mirostat N 使用 Mirostat 采样。\n",
    ")\n",
    "\n",
    "Settings.chunk_size=128\n",
    "Settings.chunk_overlap=10\n",
    "\n",
    "evaluating_llm=OpenAILike(\n",
    "    model='gpt-4-turbo', \n",
    "    api_base=\"http://ape:3000/v1\", \n",
    "    api_key=\"sk-bJP6QSnUfjAYeYeE505d3eBf63A643BeB0B8E350Df9b7750\",\n",
    "    is_chat_model=True,\n",
    "    temperature=0.0,\n",
    "    request_timeout=60.0\n",
    ")"
   ]
  },
  {
   "cell_type": "code",
   "execution_count": 3,
   "id": "6f57ff20-45a8-43c0-b66f-b1ea52f5bfe3",
   "metadata": {},
   "outputs": [
    {
     "name": "stdout",
     "output_type": "stream",
     "text": [
      "CPU times: user 1.43 ms, sys: 0 ns, total: 1.43 ms\n",
      "Wall time: 2.48 ms\n"
     ]
    }
   ],
   "source": [
    "%%time\n",
    "\n",
    "import nest_asyncio\n",
    "nest_asyncio.apply()"
   ]
  },
  {
   "cell_type": "code",
   "execution_count": 4,
   "id": "fc11b751-b7b4-4d39-be41-269b5f4ce981",
   "metadata": {},
   "outputs": [
    {
     "name": "stdout",
     "output_type": "stream",
     "text": [
      "CPU times: user 579 ms, sys: 44.5 ms, total: 624 ms\n",
      "Wall time: 13.9 s\n"
     ]
    }
   ],
   "source": [
    "%%time\n",
    "\n",
    "from llama_index.core import VectorStoreIndex\n",
    "\n",
    "index = VectorStoreIndex.from_documents(documents=documents)"
   ]
  },
  {
   "cell_type": "markdown",
   "id": "8eb23d97-d5bd-4dba-9298-d86fcb884204",
   "metadata": {},
   "source": [
    "## 评估响应的忠实度"
   ]
  },
  {
   "cell_type": "markdown",
   "id": "b1c2d5fa-8af7-4be9-ab1f-f826832a21cc",
   "metadata": {},
   "source": [
    "评估是否符合检索到的上下文，即是否不存在幻觉"
   ]
  },
  {
   "cell_type": "markdown",
   "id": "05388ebb-77d4-4c64-96ac-1f96db1b9e74",
   "metadata": {},
   "source": [
    "### 未检索到正确结果时"
   ]
  },
  {
   "cell_type": "code",
   "execution_count": 9,
   "id": "2428d11e-2a5c-40d6-8f87-2b603a21215d",
   "metadata": {},
   "outputs": [
    {
     "name": "stdout",
     "output_type": "stream",
     "text": [
      "CPU times: user 25.8 ms, sys: 138 µs, total: 25.9 ms\n",
      "Wall time: 2.58 s\n"
     ]
    },
    {
     "data": {
      "text/plain": [
       "EvaluationResult(query=None, contexts=['收藏\\n查看我的收藏\\n0有用+1\\n天坛公园（Temple of', '天坛公园主要建筑圜丘坛、祈年殿、皇穹宇都采用圆形平面，而祈年殿、圜丘坛的砖砌外墙则为方形，同样象征“天圆地方”。'], response='查询信息中并未提到圆明园的位置。根据提供的信息，我们只能回答与天坛公园相关的问题。因此，无法直接提供圆明园位置的答案。通常情况下，圆明园位于中国北京市海淀区，距离市中心不远。但基于当前的查询信息，我们无法给出具体的地理位置描述。', passing=False, feedback='NO', score=0.0, pairwise_source=None, invalid_result=False, invalid_reason=None)"
      ]
     },
     "execution_count": 9,
     "metadata": {},
     "output_type": "execute_result"
    }
   ],
   "source": [
    "%%time\n",
    "\n",
    "from llama_index.core.evaluation import FaithfulnessEvaluator\n",
    "\n",
    "query_engine = index.as_query_engine()\n",
    "\n",
    "response = query_engine.query(\n",
    "    \"圆明园在哪里?\"\n",
    ")\n",
    "\n",
    "evaluator = FaithfulnessEvaluator(llm=evaluating_llm)\n",
    "eval_result = evaluator.evaluate_response(response=response)\n",
    "eval_result"
   ]
  },
  {
   "cell_type": "code",
   "execution_count": 10,
   "id": "5c17d280-d707-4437-a327-83c04ec5c9a2",
   "metadata": {},
   "outputs": [
    {
     "data": {
      "text/plain": [
       "'查询信息中并未提到圆明园的位置。根据提供的信息，我们只能回答与天坛公园相关的问题。因此，无法直接提供圆明园位置的答案。通常情况下，圆明园位于中国北京市海淀区，距离市中心不远。但基于当前的查询信息，我们无法给出具体的地理位置描述。'"
      ]
     },
     "execution_count": 10,
     "metadata": {},
     "output_type": "execute_result"
    }
   ],
   "source": [
    "response.response"
   ]
  },
  {
   "cell_type": "code",
   "execution_count": 11,
   "id": "1ee1748d-cdc7-4efa-9446-8053c785f5d9",
   "metadata": {},
   "outputs": [
    {
     "data": {
      "text/plain": [
       "False"
      ]
     },
     "execution_count": 11,
     "metadata": {},
     "output_type": "execute_result"
    }
   ],
   "source": [
    "eval_result.passing"
   ]
  },
  {
   "cell_type": "markdown",
   "id": "bcdd46f9-5c5e-4875-9ae8-def3c9bbea58",
   "metadata": {},
   "source": [
    "### 检索到正确结果时"
   ]
  },
  {
   "cell_type": "code",
   "execution_count": 12,
   "id": "4b2b6a3f-e76b-4f4e-a07d-380aca7e6c6e",
   "metadata": {},
   "outputs": [
    {
     "name": "stdout",
     "output_type": "stream",
     "text": [
      "CPU times: user 26.1 ms, sys: 0 ns, total: 26.1 ms\n",
      "Wall time: 1.66 s\n"
     ]
    },
    {
     "data": {
      "text/plain": [
       "EvaluationResult(query=None, contexts=['收藏\\n查看我的收藏\\n0有用+1\\n天坛公园（Temple of', 'of Heaven），原名“天地坛”，位于北京市东城区天坛内东里7号，始建于明永乐十八年（1420年），明嘉靖九年（1530年）改名为“天坛”，是明清两代皇帝“祭天”“祈谷”的场所，总面积273公顷，是中国现存最大的古代祭祀性建筑群。'], response='天坛位于北京市东城区天坛内东里7号。', passing=True, feedback='YES', score=1.0, pairwise_source=None, invalid_result=False, invalid_reason=None)"
      ]
     },
     "execution_count": 12,
     "metadata": {},
     "output_type": "execute_result"
    }
   ],
   "source": [
    "%%time\n",
    "\n",
    "from llama_index.core.evaluation import FaithfulnessEvaluator\n",
    "\n",
    "query_engine = index.as_query_engine(\n",
    ")\n",
    "\n",
    "response = query_engine.query(\n",
    "    \"天坛在哪里?\"\n",
    ")\n",
    "\n",
    "evaluator = FaithfulnessEvaluator(llm=evaluating_llm)\n",
    "eval_result = evaluator.evaluate_response(response=response)\n",
    "eval_result"
   ]
  },
  {
   "cell_type": "code",
   "execution_count": 13,
   "id": "6dd2258b-d3f0-4f26-9915-f9509565ab87",
   "metadata": {},
   "outputs": [
    {
     "data": {
      "text/plain": [
       "'天坛位于北京市东城区天坛内东里7号。'"
      ]
     },
     "execution_count": 13,
     "metadata": {},
     "output_type": "execute_result"
    }
   ],
   "source": [
    "response.response"
   ]
  },
  {
   "cell_type": "code",
   "execution_count": 14,
   "id": "aabf1c29-5071-4358-8b40-1d2be1b6b03a",
   "metadata": {},
   "outputs": [
    {
     "data": {
      "text/plain": [
       "True"
      ]
     },
     "execution_count": 14,
     "metadata": {},
     "output_type": "execute_result"
    }
   ],
   "source": [
    "eval_result.passing"
   ]
  },
  {
   "cell_type": "markdown",
   "id": "b998f905-0aee-47f6-b3cb-41eb457252d6",
   "metadata": {},
   "source": [
    "## 评估查询和响应的相关度"
   ]
  },
  {
   "cell_type": "markdown",
   "id": "0dad3e6c-507a-443b-81d8-752de1bc20ea",
   "metadata": {},
   "source": [
    "是否确实回答了问题。"
   ]
  },
  {
   "cell_type": "markdown",
   "id": "ded557d4-cf45-4d52-9589-ca7679757940",
   "metadata": {},
   "source": [
    "### 未检索到正确结果时"
   ]
  },
  {
   "cell_type": "code",
   "execution_count": 15,
   "id": "8925cb41-f965-4d38-a3ce-df0e73f5a721",
   "metadata": {},
   "outputs": [
    {
     "name": "stdout",
     "output_type": "stream",
     "text": [
      "CPU times: user 25.7 ms, sys: 512 µs, total: 26.2 ms\n",
      "Wall time: 2.1 s\n"
     ]
    },
    {
     "data": {
      "text/plain": [
       "EvaluationResult(query='圆明园在哪里？', contexts=['收藏\\n查看我的收藏\\n0有用+1\\n天坛公园（Temple of', '天坛公园主要古建筑集中于内坛，内坛中间有东西向隔墙将内坛分隔为南、北两部分，隔墙中有门相通。内坛由圜丘、祈谷坛、斋宫三组古建筑群组成。', '天坛公园主要建筑圜丘坛、祈年殿、皇穹宇都采用圆形平面，而祈年殿、圜丘坛的砖砌外墙则为方形，同样象征“天圆地方”。'], response='查询信息中并未提及圆明园的位置。根据提供的内容，我们只能回答与天坛公园相关的问题。因此，无法直接提供关于圆明园位置的答案。', passing=False, feedback='NO', score=0.0, pairwise_source=None, invalid_result=False, invalid_reason=None)"
      ]
     },
     "execution_count": 15,
     "metadata": {},
     "output_type": "execute_result"
    }
   ],
   "source": [
    "%%time\n",
    "\n",
    "from llama_index.core.evaluation import RelevancyEvaluator\n",
    "\n",
    "evaluator = RelevancyEvaluator(llm=evaluating_llm)\n",
    "\n",
    "query_engine = index.as_query_engine()\n",
    "\n",
    "query = \"圆明园在哪里？\"\n",
    "response = query_engine.query(query)\n",
    "\n",
    "eval_result = evaluator.evaluate_response(query=query, response=response)\n",
    "eval_result"
   ]
  },
  {
   "cell_type": "code",
   "execution_count": 16,
   "id": "6875555d-9b91-43f7-b255-3c6020e65658",
   "metadata": {},
   "outputs": [
    {
     "data": {
      "text/plain": [
       "EvaluationResult(query=None, contexts=['收藏\\n查看我的收藏\\n0有用+1\\n天坛公园（Temple of', '天坛公园主要古建筑集中于内坛，内坛中间有东西向隔墙将内坛分隔为南、北两部分，隔墙中有门相通。内坛由圜丘、祈谷坛、斋宫三组古建筑群组成。', '天坛公园主要建筑圜丘坛、祈年殿、皇穹宇都采用圆形平面，而祈年殿、圜丘坛的砖砌外墙则为方形，同样象征“天圆地方”。'], response='查询信息中并未提及圆明园的位置。根据提供的内容，我们只能回答与天坛公园相关的问题。因此，无法直接提供关于圆明园位置的答案。', passing=True, feedback='YES', score=1.0, pairwise_source=None, invalid_result=False, invalid_reason=None)"
      ]
     },
     "execution_count": 16,
     "metadata": {},
     "output_type": "execute_result"
    }
   ],
   "source": [
    "evaluator = FaithfulnessEvaluator(llm=evaluating_llm)\n",
    "eval_result = evaluator.evaluate_response(response=response)\n",
    "eval_result"
   ]
  },
  {
   "cell_type": "markdown",
   "id": "999ce34b-f16d-4e69-8e84-3399213d64f9",
   "metadata": {},
   "source": [
    "### 检索到正确结果时"
   ]
  },
  {
   "cell_type": "code",
   "execution_count": 17,
   "id": "3395adc0-0c25-43cd-a1b5-6183e7c25e8b",
   "metadata": {},
   "outputs": [
    {
     "name": "stdout",
     "output_type": "stream",
     "text": [
      "CPU times: user 20.9 ms, sys: 4.11 ms, total: 25 ms\n",
      "Wall time: 1.65 s\n"
     ]
    },
    {
     "data": {
      "text/plain": [
       "EvaluationResult(query='天坛在哪里？', contexts=['收藏\\n查看我的收藏\\n0有用+1\\n天坛公园（Temple of', 'of Heaven），原名“天地坛”，位于北京市东城区天坛内东里7号，始建于明永乐十八年（1420年），明嘉靖九年（1530年）改名为“天坛”，是明清两代皇帝“祭天”“祈谷”的场所，总面积273公顷，是中国现存最大的古代祭祀性建筑群。'], response='天坛位于北京市东城区天坛内东里7号。', passing=True, feedback='YES', score=1.0, pairwise_source=None, invalid_result=False, invalid_reason=None)"
      ]
     },
     "execution_count": 17,
     "metadata": {},
     "output_type": "execute_result"
    }
   ],
   "source": [
    "%%time\n",
    "\n",
    "from llama_index.core.evaluation import RelevancyEvaluator\n",
    "\n",
    "evaluator = RelevancyEvaluator(llm=evaluating_llm)\n",
    "\n",
    "query_engine = index.as_query_engine()\n",
    "\n",
    "query = \"天坛在哪里？\"\n",
    "response = query_engine.query(query)\n",
    "\n",
    "eval_result = evaluator.evaluate_response(query=query, response=response)\n",
    "eval_result"
   ]
  },
  {
   "cell_type": "markdown",
   "id": "26b1a4b3-4384-4d0c-9f26-1fca1ccb0fb0",
   "metadata": {},
   "source": [
    "## 评估回答和参考答案的的相关性"
   ]
  },
  {
   "cell_type": "markdown",
   "id": "2d4d6001-c64c-45e1-9339-cab371fa4e14",
   "metadata": {},
   "source": [
    "### 准确的情况"
   ]
  },
  {
   "cell_type": "code",
   "execution_count": 19,
   "id": "93ec2eec-4250-4e1a-b4ad-7713c81a43d6",
   "metadata": {},
   "outputs": [
    {
     "name": "stdout",
     "output_type": "stream",
     "text": [
      "CPU times: user 24.3 ms, sys: 0 ns, total: 24.3 ms\n",
      "Wall time: 5.97 s\n"
     ]
    },
    {
     "data": {
      "text/plain": [
       "EvaluationResult(query='天坛在哪里？', contexts=None, response='天坛位于北京市东城区天坛内东里7号。', passing=True, feedback='The generated answer correctly addresses the user query by providing the precise location of the Temple of Heaven, which matches the reference answer. It is relevant and accurate.', score=5.0, pairwise_source=None, invalid_result=False, invalid_reason=None)"
      ]
     },
     "execution_count": 19,
     "metadata": {},
     "output_type": "execute_result"
    }
   ],
   "source": [
    "%%time\n",
    "\n",
    "from llama_index.core.evaluation import CorrectnessEvaluator\n",
    "\n",
    "evaluator = CorrectnessEvaluator(llm=evaluating_llm)\n",
    "\n",
    "query = \"天坛在哪里？\"\n",
    "reference=\"天坛公园位于北京市东城区天坛内东里7号。\"\n",
    "response = query_engine.query(query)\n",
    "\n",
    "\n",
    "result = evaluator.evaluate(\n",
    "    query=query,\n",
    "    response=response.response,\n",
    "    reference=reference,\n",
    ")\n",
    "\n",
    "result"
   ]
  },
  {
   "cell_type": "code",
   "execution_count": 20,
   "id": "116caa05-138a-4598-b1b7-d7b46e2c9b3c",
   "metadata": {},
   "outputs": [
    {
     "data": {
      "text/plain": [
       "'天坛位于北京市东城区天坛内东里7号。'"
      ]
     },
     "execution_count": 20,
     "metadata": {},
     "output_type": "execute_result"
    }
   ],
   "source": [
    "response.response"
   ]
  },
  {
   "cell_type": "code",
   "execution_count": 21,
   "id": "8aaebfbc-5e09-4e2f-b06f-ddf833e1bea5",
   "metadata": {},
   "outputs": [
    {
     "data": {
      "text/plain": [
       "5.0"
      ]
     },
     "execution_count": 21,
     "metadata": {},
     "output_type": "execute_result"
    }
   ],
   "source": [
    "result.score"
   ]
  },
  {
   "cell_type": "markdown",
   "id": "366dd3e6-6db1-47fb-87d4-3815e4d6da7d",
   "metadata": {},
   "source": [
    "### 不准确的情况"
   ]
  },
  {
   "cell_type": "code",
   "execution_count": 22,
   "id": "b4d7167a-530e-4e9a-be32-b6b178f704ac",
   "metadata": {},
   "outputs": [
    {
     "name": "stdout",
     "output_type": "stream",
     "text": [
      "CPU times: user 21.1 ms, sys: 2.59 ms, total: 23.7 ms\n",
      "Wall time: 8.01 s\n"
     ]
    },
    {
     "data": {
      "text/plain": [
       "EvaluationResult(query='颐和园在哪里？', contexts=None, response='查询信息中没有提到颐和园的位置，因此无法提供关于颐和园位置的答案。', passing=False, feedback='The generated answer does not provide the location of the Summer Palace, which was the exact information requested in the user query. The answer is completely irrelevant as it claims that there is no information on the location, which is incorrect. The correct location should be that the Summer Palace (颐和园) is located in the western suburbs of Beijing, as provided in the reference answer.', score=1.0, pairwise_source=None, invalid_result=False, invalid_reason=None)"
      ]
     },
     "execution_count": 22,
     "metadata": {},
     "output_type": "execute_result"
    }
   ],
   "source": [
    "%%time\n",
    "\n",
    "from llama_index.core.evaluation import CorrectnessEvaluator\n",
    "\n",
    "evaluator = CorrectnessEvaluator(llm=evaluating_llm)\n",
    "\n",
    "query = \"颐和园在哪里？\"\n",
    "reference=\"颐和园坐落在北京西郊。\"\n",
    "response = query_engine.query(query)\n",
    "\n",
    "\n",
    "result = evaluator.evaluate(\n",
    "    query=query,\n",
    "    response=response.response,\n",
    "    reference=reference,\n",
    ")\n",
    "\n",
    "result"
   ]
  },
  {
   "cell_type": "code",
   "execution_count": null,
   "id": "904f5c6b-187c-498e-9373-a7192e3196f8",
   "metadata": {},
   "outputs": [],
   "source": []
  }
 ],
 "metadata": {
  "kernelspec": {
   "display_name": "Python 3 (ipykernel)",
   "language": "python",
   "name": "python3"
  },
  "language_info": {
   "codemirror_mode": {
    "name": "ipython",
    "version": 3
   },
   "file_extension": ".py",
   "mimetype": "text/x-python",
   "name": "python",
   "nbconvert_exporter": "python",
   "pygments_lexer": "ipython3",
   "version": "3.10.12"
  }
 },
 "nbformat": 4,
 "nbformat_minor": 5
}
