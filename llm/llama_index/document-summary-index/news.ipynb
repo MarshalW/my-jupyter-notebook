{
 "cells": [
  {
   "cell_type": "markdown",
   "id": "781553ed-4435-4c9e-a649-c8c9913e811d",
   "metadata": {},
   "source": [
    "# 基于新闻文档的方案"
   ]
  },
  {
   "cell_type": "markdown",
   "id": "890d7238-21f3-4299-96d0-5ef884339d06",
   "metadata": {},
   "source": [
    "初步结论：\n",
    "\n",
    "- 使用默认高级api，检索不到正确结果比例较大\n",
    "- 使用底层api\n",
    "  - 通过嵌入检索，需要增加覆盖范围top-k，能大幅度减少检索不到正确结果问题\n",
    "  - 通过llm检索，对llm依赖较大，目前比较好的是，gpt-4-turbo,其次是qwen-turbo\n",
    " \n",
    "总之，使用DocumentSummaryIndex方式是有错误率的，需要权衡。\n",
    "\n",
    "使用llm的方式太消耗token了，尤其是gpt4-turbo方式，不适用于日常使用。只适用于对比评估测试。\n",
    "\n",
    "后续重点放在对数据的嵌入方式检索上，测试和评估大规模情况下的召回率。\n"
   ]
  },
  {
   "cell_type": "markdown",
   "id": "3683269f-6905-4ccf-8415-f357128f264e",
   "metadata": {},
   "source": [
    "## 准备"
   ]
  },
  {
   "cell_type": "code",
   "execution_count": 1,
   "id": "5af317ce-0c56-4127-92f9-b52df8a5833e",
   "metadata": {},
   "outputs": [
    {
     "name": "stdout",
     "output_type": "stream",
     "text": [
      "CPU times: user 1e+03 ns, sys: 0 ns, total: 1e+03 ns\n",
      "Wall time: 3.1 µs\n"
     ]
    }
   ],
   "source": [
    "%%time\n",
    "\n",
    "INDEX_PATH=\"news-index\"\n",
    "DATA_PATH=\"news-data\""
   ]
  },
  {
   "cell_type": "code",
   "execution_count": 2,
   "id": "5372ef56-1708-407d-a41e-551e16cc8d0a",
   "metadata": {},
   "outputs": [
    {
     "name": "stdout",
     "output_type": "stream",
     "text": [
      "CPU times: user 6.51 ms, sys: 578 µs, total: 7.09 ms\n",
      "Wall time: 109 ms\n"
     ]
    }
   ],
   "source": [
    "%%time\n",
    "!rm -rf $INDEX_PATH"
   ]
  },
  {
   "cell_type": "code",
   "execution_count": 3,
   "id": "b491e012-ddf7-4bcb-9cf5-eca8dbd0fd00",
   "metadata": {},
   "outputs": [
    {
     "name": "stdout",
     "output_type": "stream",
     "text": [
      "CPU times: user 1 µs, sys: 0 ns, total: 1 µs\n",
      "Wall time: 3.34 µs\n"
     ]
    }
   ],
   "source": [
    "%%time\n",
    "\n",
    "news_urls=[\n",
    "    \"https://www.guancha.cn/internation/2024_06_26_739376_s.shtml\",\n",
    "    \"https://user.guancha.cn/main/content?id=1257049\",\n",
    "    \"https://user.guancha.cn/main/content?id=1257033\",\n",
    "    \"https://www.guancha.cn/politics/2024_06_26_739354.shtml\",\n",
    "    \"https://www.guancha.cn/gaotianwei/2024_06_24_739062_s.shtml\",\n",
    "    \"https://www.guancha.cn/economy/2024_06_26_739352.shtml\"\n",
    "]"
   ]
  },
  {
   "cell_type": "code",
   "execution_count": 4,
   "id": "5e90c6a8-802c-4254-894c-65719bc8c8b3",
   "metadata": {},
   "outputs": [
    {
     "name": "stdout",
     "output_type": "stream",
     "text": [
      "CPU times: user 104 ms, sys: 82.4 ms, total: 187 ms\n",
      "Wall time: 87.5 ms\n"
     ]
    }
   ],
   "source": [
    "%%time\n",
    "\n",
    "import requests\n",
    "from gne import GeneralNewsExtractor\n",
    "\n",
    "def get_news_data(url):\n",
    "    response = requests.get(url)\n",
    "    html = response.text\n",
    "\n",
    "    extractor = GeneralNewsExtractor()\n",
    "    data = extractor.extract(html, noise_node_list=[\n",
    "                               '//div[@class=\"comment-list\"]'])\n",
    "    data['url']=url\n",
    "    return data"
   ]
  },
  {
   "cell_type": "code",
   "execution_count": 5,
   "id": "4b795fce-71ca-45d6-9bda-9f8575b0232d",
   "metadata": {},
   "outputs": [
    {
     "name": "stdout",
     "output_type": "stream",
     "text": [
      "CPU times: user 693 ms, sys: 4.73 ms, total: 698 ms\n",
      "Wall time: 2.6 s\n"
     ]
    }
   ],
   "source": [
    "%%time\n",
    "\n",
    "import json\n",
    "\n",
    "for news_url in news_urls:\n",
    "    data=get_news_data(news_url)\n",
    "    data['url']=news_url\n",
    "    # a.append(data)\n",
    "    # data_dict = json.loads(data)\n",
    "    file_path = f'./news-data/{data[\"title\"]}.json'\n",
    "    with open(file_path, 'w') as json_file:\n",
    "        json.dump(data, json_file, indent=4)"
   ]
  },
  {
   "cell_type": "code",
   "execution_count": 6,
   "id": "b92fc560-0c9c-47f7-8d97-c8636851bade",
   "metadata": {},
   "outputs": [
    {
     "name": "stdout",
     "output_type": "stream",
     "text": [
      "CPU times: user 2.54 s, sys: 258 ms, total: 2.8 s\n",
      "Wall time: 2.62 s\n"
     ]
    }
   ],
   "source": [
    "%%time\n",
    "\n",
    "from llama_index.core import(\n",
    "    Document\n",
    ")\n",
    "\n",
    "def data2doc(news_data):\n",
    "    document=Document(text=news_data['content'], \n",
    "                  metadata={\"title\": news_data['title'],\n",
    "                            'publish_time': news_data['publish_time'],\n",
    "                            'author': news_data['author'],\n",
    "                            'url': news_data['url'],\n",
    "                            'images': news_data['images'],\n",
    "                           })\n",
    "    document.doc_id = document.metadata[\"title\"]\n",
    "    return document"
   ]
  },
  {
   "cell_type": "code",
   "execution_count": 7,
   "id": "9caffe88-2329-4d28-9289-1f84b365a46a",
   "metadata": {},
   "outputs": [
    {
     "name": "stdout",
     "output_type": "stream",
     "text": [
      "CPU times: user 17.8 ms, sys: 228 µs, total: 18 ms\n",
      "Wall time: 3.03 s\n"
     ]
    }
   ],
   "source": [
    "%%time\n",
    "\n",
    "from llama_index.core import SimpleDirectoryReader\n",
    "\n",
    "documents=SimpleDirectoryReader(input_dir=\"./news-data\").load_data(num_workers=4)\n",
    "for document in documents:\n",
    "    document.doc_id=document.metadata['file_name']"
   ]
  },
  {
   "cell_type": "code",
   "execution_count": 8,
   "id": "388fe1f8-39de-4203-861b-a4e80e4b8c96",
   "metadata": {},
   "outputs": [
    {
     "name": "stdout",
     "output_type": "stream",
     "text": [
      "CPU times: user 505 µs, sys: 67 µs, total: 572 µs\n",
      "Wall time: 543 µs\n"
     ]
    },
    {
     "data": {
      "text/plain": [
       "6"
      ]
     },
     "execution_count": 8,
     "metadata": {},
     "output_type": "execute_result"
    }
   ],
   "source": [
    "%%time\n",
    "\n",
    "import json\n",
    "\n",
    "docs=[]\n",
    "for document in documents:\n",
    "    news_data=json.loads(document.text) # documents[0].text\n",
    "    docs.append(data2doc(news_data))\n",
    "\n",
    "documents=docs\n",
    "\n",
    "len(docs)"
   ]
  },
  {
   "cell_type": "code",
   "execution_count": 6,
   "id": "47b27486-3e42-4dfb-90b1-e04396d87057",
   "metadata": {},
   "outputs": [
    {
     "name": "stdout",
     "output_type": "stream",
     "text": [
      "CPU times: user 1.76 ms, sys: 0 ns, total: 1.76 ms\n",
      "Wall time: 2.74 ms\n"
     ]
    }
   ],
   "source": [
    "%%time\n",
    "\n",
    "import nest_asyncio\n",
    "nest_asyncio.apply()"
   ]
  },
  {
   "cell_type": "code",
   "execution_count": 1,
   "id": "307579f6-0dcd-4ec8-bac0-6636ff931818",
   "metadata": {},
   "outputs": [
    {
     "name": "stdout",
     "output_type": "stream",
     "text": [
      "CPU times: user 3.38 s, sys: 460 ms, total: 3.84 s\n",
      "Wall time: 4.13 s\n"
     ]
    }
   ],
   "source": [
    "%%time\n",
    "\n",
    "# 加载llm和embeddings\n",
    "%run ../utils2.py\n",
    "\n",
    "from llama_index.core import Settings\n",
    "\n",
    "# Settings.llm=get_llm(\"gpt-3.5-turbo\")\n",
    "# Settings.llm=get_llm(\"glm-4-flash\")\n",
    "# Settings.llm=get_llm(\"yi:6b\")\n",
    "# Settings.llm=get_llm(\"qwen:14b\")\n",
    "# Settings.llm=get_llm(\"ERNIE-4.0-8K\") # 有1个报错，而且很慢\n",
    "# Settings.llm=get_llm(\"qwen-turbo\") # 好用还快，只有一个测试报错\n",
    "# Settings.llm=get_llm(\"gpt-4-turbo\") # 全部通过，速度也没问题\n",
    "# Settings.llm=get_llm(\"glm-4\") # 没报错，但是有2个回答是空的\n",
    "# Settings.llm=get_llm(\"moonshot-v1-8k\") # 没有测试成功的，有1个是“内容审查拒绝”，其他的都是“当前分组上游负载已饱和，请稍后再试”\n",
    "Settings.llm=get_llm()\n",
    "Settings.embed_model=get_embedding()"
   ]
  },
  {
   "cell_type": "code",
   "execution_count": 11,
   "id": "118458a1-3969-4417-98e0-162e230bf5c3",
   "metadata": {},
   "outputs": [
    {
     "data": {
      "application/vnd.jupyter.widget-view+json": {
       "model_id": "79a6a0184e7d48d88429fa28affe938f",
       "version_major": 2,
       "version_minor": 0
      },
      "text/plain": [
       "Parsing nodes:   0%|          | 0/6 [00:00<?, ?it/s]"
      ]
     },
     "metadata": {},
     "output_type": "display_data"
    },
    {
     "data": {
      "application/vnd.jupyter.widget-view+json": {
       "model_id": "665a05362bc54a5ba559868a1102e8e7",
       "version_major": 2,
       "version_minor": 0
      },
      "text/plain": [
       "Summarizing documents:   0%|          | 0/6 [00:00<?, ?it/s]"
      ]
     },
     "metadata": {},
     "output_type": "display_data"
    },
    {
     "name": "stdout",
     "output_type": "stream",
     "text": [
      "current doc id: 丁刚：中印能实现龙象共舞吗？\n",
      "current doc id: 中小银行改革加速度，今年来超80家开启合并重组模式\n",
      "current doc id: 印度总理莫迪计划访问俄罗斯\n",
      "current doc id: 金融监管总局：将研究提高保险资金投资创业投资基金集中度的比例上限\n",
      "current doc id: 韩国电池厂火灾17名中国人遇难：有多少同胞，在韩国打工？\n",
      "current doc id: 高天伟：国产可重复火箭完成10公里测试，有一点与马斯克很不一样\n"
     ]
    },
    {
     "data": {
      "application/vnd.jupyter.widget-view+json": {
       "model_id": "2b5db1c1ccc64e4898f7142e489facac",
       "version_major": 2,
       "version_minor": 0
      },
      "text/plain": [
       "Generating embeddings:   0%|          | 0/6 [00:00<?, ?it/s]"
      ]
     },
     "metadata": {},
     "output_type": "display_data"
    },
    {
     "name": "stdout",
     "output_type": "stream",
     "text": [
      "CPU times: user 515 ms, sys: 26 ms, total: 541 ms\n",
      "Wall time: 1min 31s\n"
     ]
    }
   ],
   "source": [
    "%%time\n",
    "\n",
    "from llama_index.core import get_response_synthesizer\n",
    "from llama_index.core import DocumentSummaryIndex\n",
    "from llama_index.core.node_parser import SentenceSplitter\n",
    "\n",
    "splitter = SentenceSplitter(chunk_size=1024)\n",
    "\n",
    "response_synthesizer = get_response_synthesizer(\n",
    "    response_mode=\"tree_summarize\", use_async=True\n",
    ")\n",
    "\n",
    "doc_summary_index = DocumentSummaryIndex.from_documents(\n",
    "    documents,\n",
    "    transformations=[splitter],\n",
    "    response_synthesizer=response_synthesizer,\n",
    "    show_progress=True,\n",
    ")"
   ]
  },
  {
   "cell_type": "code",
   "execution_count": 12,
   "id": "a37e13b5-e40a-471a-8b94-f9eb8a510d9c",
   "metadata": {},
   "outputs": [
    {
     "name": "stdout",
     "output_type": "stream",
     "text": [
      "CPU times: user 21.3 ms, sys: 0 ns, total: 21.3 ms\n",
      "Wall time: 20.9 ms\n"
     ]
    }
   ],
   "source": [
    "%%time\n",
    "\n",
    "doc_summary_index.storage_context.persist(\"news-index\")"
   ]
  },
  {
   "cell_type": "markdown",
   "id": "9a10acac-f7d3-48ba-9e00-50a236f432eb",
   "metadata": {},
   "source": [
    "## 加载索引"
   ]
  },
  {
   "cell_type": "code",
   "execution_count": 2,
   "id": "62e5844e-940c-46a3-b155-7bc36f35b154",
   "metadata": {},
   "outputs": [
    {
     "name": "stdout",
     "output_type": "stream",
     "text": [
      "CPU times: user 269 ms, sys: 20.9 ms, total: 290 ms\n",
      "Wall time: 295 ms\n"
     ]
    }
   ],
   "source": [
    "%%time\n",
    "\n",
    "from llama_index.core import load_index_from_storage\n",
    "from llama_index.core import StorageContext\n",
    "\n",
    "# rebuild storage context\n",
    "storage_context = StorageContext.from_defaults(persist_dir=\"news-index\")\n",
    "doc_summary_index = load_index_from_storage(storage_context)"
   ]
  },
  {
   "cell_type": "markdown",
   "id": "601c6fc0-d7e5-4975-9307-3f62454d2e27",
   "metadata": {},
   "source": [
    "## 创建查询"
   ]
  },
  {
   "cell_type": "code",
   "execution_count": 4,
   "id": "d848f3b2-35a5-4857-9be5-c6b2bc2bd54a",
   "metadata": {},
   "outputs": [
    {
     "name": "stdout",
     "output_type": "stream",
     "text": [
      "CPU times: user 169 µs, sys: 0 ns, total: 169 µs\n",
      "Wall time: 172 µs\n"
     ]
    }
   ],
   "source": [
    "%%time\n",
    "\n",
    "from llama_index.core import get_response_synthesizer\n",
    "\n",
    "from llama_index.core.indices.document_summary import (\n",
    "    DocumentSummaryIndexEmbeddingRetriever,\n",
    ")\n",
    "from llama_index.core.query_engine import RetrieverQueryEngine\n",
    "\n",
    "retriever = DocumentSummaryIndexEmbeddingRetriever(\n",
    "    doc_summary_index,\n",
    "    similarity_top_k=3,\n",
    ")\n",
    "\n",
    "response_synthesizer = get_response_synthesizer(\n",
    "    response_mode=\"tree_summarize\", \n",
    "    use_async=True,\n",
    "    streaming=True\n",
    ")\n",
    "\n",
    "query_engine = RetrieverQueryEngine(\n",
    "    retriever=retriever,\n",
    "    response_synthesizer=response_synthesizer,\n",
    ")"
   ]
  },
  {
   "cell_type": "code",
   "execution_count": 115,
   "id": "fa675120-974a-4c32-b73d-2d05e012a179",
   "metadata": {},
   "outputs": [
    {
     "name": "stdout",
     "output_type": "stream",
     "text": [
      "CPU times: user 131 µs, sys: 0 ns, total: 131 µs\n",
      "Wall time: 134 µs\n"
     ]
    }
   ],
   "source": [
    "%%time\n",
    "\n",
    "from llama_index.core.indices.document_summary import (\n",
    "    DocumentSummaryIndexLLMRetriever,\n",
    ")\n",
    "\n",
    "retriever = DocumentSummaryIndexLLMRetriever(\n",
    "    doc_summary_index,\n",
    "    # choice_select_prompt=None,\n",
    "    choice_batch_size=20,\n",
    "    # choice_top_k=10,\n",
    "    # format_node_batch_fn=None,\n",
    "    # parse_choice_select_answer_fn=None,\n",
    ")\n",
    "\n",
    "response_synthesizer = get_response_synthesizer(\n",
    "    response_mode=\"tree_summarize\", \n",
    "    use_async=True,\n",
    "    streaming=True\n",
    ")\n",
    "\n",
    "query_engine = RetrieverQueryEngine(\n",
    "    retriever=retriever,\n",
    "    response_synthesizer=response_synthesizer,\n",
    ")"
   ]
  },
  {
   "cell_type": "markdown",
   "id": "34fd5459-091d-43f6-be5f-28559e1c6d28",
   "metadata": {},
   "source": [
    "## 查询"
   ]
  },
  {
   "cell_type": "code",
   "execution_count": 7,
   "id": "f8056649-be9e-4f70-8076-b4107d838ff1",
   "metadata": {},
   "outputs": [
    {
     "name": "stdout",
     "output_type": "stream",
     "text": [
      "莫迪计划访问俄罗斯的几个重大意义包括：\n",
      "\n",
      "1. **外交关系加强**：此次访问有助于加深印度与俄罗斯之间的双边关系，特别是在政治、经济和安全领域的合作。这为两国提供了一个平台来讨论共同关心的问题，并可能在国际事务中形成更紧密的合作。\n",
      "\n",
      "2. **能源合作**：俄罗斯是全球主要的石油和天然气供应国之一，而印度是一个能源需求大国。通过访问，莫迪可能会寻求加强与俄罗斯在能源领域的合作，包括购买更多俄罗斯能源、参与俄罗斯能源项目以及可能的投资机会。\n",
      "\n",
      "3. **经济合作**：印度和俄罗斯之间的经济关系在过去几年中有所增长，尤其是在技术、国防、航空航天和核能等领域。此次访问可以推动更多的贸易协议和投资，促进两国的经济互补性。\n",
      "\n",
      "4. **安全与防务**：印度和俄罗斯在军事和技术领域有长期的合作历史。莫迪可能利用这次访问来讨论加强双边军事合作的可能性，包括武器装备采购、联合军演以及国防工业合作等。\n",
      "\n",
      "5. **地缘政治影响**：此次访问也可能涉及对全球地缘政治格局的影响。印度作为多边体系中的重要力量之一，其与俄罗斯的紧密关系可以为两国在国际组织和论坛中提供更大的影响力，并可能在某些地区冲突或战略问题上采取一致立场。\n",
      "\n",
      "6. **应对挑战**：面对当前国际环境的不确定性（如美国对俄罗斯的制裁、全球能源市场波动等），印度寻求多元化的合作伙伴关系，以确保其经济安全和地缘政治利益。与俄罗斯的合作可以提供一个稳定的战略伙伴，帮助印度在多变的世界中保持平衡。\n",
      "\n",
      "7. **文化交流与教育**：访问也可能包括文化合作和教育交流，促进两国人民之间的相互理解和友谊。这有助于加强民间外交，并为未来的技术、学术和艺术领域的合作铺平道路。CPU times: user 669 ms, sys: 26.3 ms, total: 695 ms\n",
      "Wall time: 29.7 s\n"
     ]
    }
   ],
   "source": [
    "%%time\n",
    "\n",
    "response = query_engine.query(\"莫迪计划访问俄罗斯有哪些重大意义？\")\n",
    "response.print_response_stream()"
   ]
  },
  {
   "cell_type": "code",
   "execution_count": 14,
   "id": "f2740d34-8e6a-47ab-8954-de41ce108d72",
   "metadata": {},
   "outputs": [
    {
     "data": {
      "text/plain": [
       "'https://user.guancha.cn/main/content?id=1257033'"
      ]
     },
     "execution_count": 14,
     "metadata": {},
     "output_type": "execute_result"
    }
   ],
   "source": [
    "response.source_nodes[0].metadata['url']"
   ]
  },
  {
   "cell_type": "code",
   "execution_count": 117,
   "id": "9d04d2a0-72b3-4a4e-9447-d7570f45f73a",
   "metadata": {},
   "outputs": [
    {
     "name": "stdout",
     "output_type": "stream",
     "text": [
      "在韩国就业的中国人有37.2万人。CPU times: user 91.5 ms, sys: 11 ms, total: 103 ms\n",
      "Wall time: 12.1 s\n"
     ]
    }
   ],
   "source": [
    "%%time\n",
    "\n",
    "response = query_engine.query(\"有多少同胞在韩国打工？\")\n",
    "response.print_response_stream()"
   ]
  },
  {
   "cell_type": "code",
   "execution_count": 121,
   "id": "56a814b2-b41c-47f0-b348-97f8c83128e0",
   "metadata": {},
   "outputs": [
    {
     "name": "stdout",
     "output_type": "stream",
     "text": [
      "韩国京畿道华城市的Aricell电池工厂发生了一起严重火灾，时间是2024年6月24日上午10点31分。这场火灾造成至少23人死亡，其中包括17名中国籍人员，5名韩国籍人员和1名老挝籍人员。火灾持续了大约8个小时，由160名消防员和60台消防车辆及装备共同扑灭。起火原因是工厂二楼存放的约3.5万块锂电池突然冒出大量浓烟并迅速引发大火。此外，这家工厂的管理相当混乱，没有明显的安全标识和消防设施，且工厂中的中国员工大多是非正式员工，工资按照韩国最低工资标准支付，很多人是日结工资。在没有工作时，这些员工会被解雇，且没有任何赔偿。CPU times: user 242 ms, sys: 41.2 ms, total: 283 ms\n",
      "Wall time: 39.8 s\n"
     ]
    }
   ],
   "source": [
    "%%time\n",
    "\n",
    "response = query_engine.query(\"韩国电池厂火灾有哪些信息？\")\n",
    "response.print_response_stream()"
   ]
  },
  {
   "cell_type": "code",
   "execution_count": 122,
   "id": "59fe05a5-7f9b-4739-a7ac-7e1f0c3f86ab",
   "metadata": {},
   "outputs": [
    {
     "name": "stdout",
     "output_type": "stream",
     "text": [
      "国产可重复使用火箭的研制进展迅速，涉及多个企业和技术验证。航天科技集团八院最近成功进行了一次10公里级的飞行试验，使用了3台变推液氧甲烷发动机，实现了受控下降和精准的垂直软着陆，为2025年计划的4米级重复使用运载火箭首飞奠定了技术基础。同时，蓝箭航天的朱雀三号VTVL-1火箭也已成功完成300米级别的垂直起降回收验证飞行，并计划进行10公里级别的试验。这些成就表明中国在可重复使用火箭领域已经取得了显著的技术突破和实际应用的基础。CPU times: user 190 ms, sys: 39.8 ms, total: 230 ms\n",
      "Wall time: 25.4 s\n"
     ]
    }
   ],
   "source": [
    "%%time\n",
    "\n",
    "response = query_engine.query(\"国产可重复使用火箭有啥进展？\")\n",
    "response.print_response_stream()"
   ]
  },
  {
   "cell_type": "code",
   "execution_count": 123,
   "id": "469642d5-a7cd-4418-86b9-9b19234e6025",
   "metadata": {},
   "outputs": [
    {
     "name": "stdout",
     "output_type": "stream",
     "text": [
      "金融监管总局计划研究提高保险资金投资创业投资基金集中度的比例上限，以更好地引导保险资金和相关资管机构在依法合规、风险可控的前提下，加大对创业投资基金的配置力度，从而积极促进创业投资的高质量发展。CPU times: user 105 ms, sys: 7.24 ms, total: 112 ms\n",
      "Wall time: 10.1 s\n"
     ]
    }
   ],
   "source": [
    "%%time\n",
    "\n",
    "response = query_engine.query(\"将研究提高保险资金投资创业投资基金集中度的比例上限主要讲了啥？\")\n",
    "response.print_response_stream()"
   ]
  },
  {
   "cell_type": "code",
   "execution_count": 124,
   "id": "5405ada1-95b8-4acb-8b60-dbb27979eb0c",
   "metadata": {},
   "outputs": [
    {
     "name": "stdout",
     "output_type": "stream",
     "text": [
      "印度总理莫迪计划在赢得第三个任期后推出一系列亲商改革，旨在提升印度制造业的竞争力，与中国制造业展开竞争。此外，莫迪政府未来的重点将是到2047年将印度在全球制造业中的份额提高到10%。CPU times: user 94 ms, sys: 8.94 ms, total: 103 ms\n",
      "Wall time: 7.72 s\n"
     ]
    }
   ],
   "source": [
    "%%time\n",
    "\n",
    "response = query_engine.query(\"印度总理莫迪计划在赢得第三个任期后做些啥？\")\n",
    "response.print_response_stream()"
   ]
  },
  {
   "cell_type": "code",
   "execution_count": 94,
   "id": "f262de62-8cd6-47a0-a3bd-7499d9c0b376",
   "metadata": {},
   "outputs": [
    {
     "data": {
      "text/plain": [
       "3"
      ]
     },
     "execution_count": 94,
     "metadata": {},
     "output_type": "execute_result"
    }
   ],
   "source": [
    "len(response.source_nodes)"
   ]
  },
  {
   "cell_type": "code",
   "execution_count": 95,
   "id": "15f2fbac-d66b-40e4-a85b-43099f2a743f",
   "metadata": {},
   "outputs": [
    {
     "data": {
      "text/plain": [
       "{'title': '印度总理莫迪计划访问俄罗斯',\n",
       " 'publish_time': '2024-06-26 18:54:14',\n",
       " 'author': '林兆楠',\n",
       " 'url': 'https://www.guancha.cn/internation/2024_06_26_739376_s.shtml',\n",
       " 'images': ['https://i.guancha.cn/news/dfic/2024/06/26/20240626173214826.jpg',\n",
       "  'https://i.guancha.cn/news/external/2024/06/26/20240626172837420.png']}"
      ]
     },
     "execution_count": 95,
     "metadata": {},
     "output_type": "execute_result"
    }
   ],
   "source": [
    "response.source_nodes[0].metadata"
   ]
  },
  {
   "cell_type": "code",
   "execution_count": null,
   "id": "37769fd3-a0b7-4fa1-acff-7b2b9836e066",
   "metadata": {},
   "outputs": [],
   "source": []
  }
 ],
 "metadata": {
  "kernelspec": {
   "display_name": "Python 3 (ipykernel)",
   "language": "python",
   "name": "python3"
  },
  "language_info": {
   "codemirror_mode": {
    "name": "ipython",
    "version": 3
   },
   "file_extension": ".py",
   "mimetype": "text/x-python",
   "name": "python",
   "nbconvert_exporter": "python",
   "pygments_lexer": "ipython3",
   "version": "3.10.12"
  }
 },
 "nbformat": 4,
 "nbformat_minor": 5
}
