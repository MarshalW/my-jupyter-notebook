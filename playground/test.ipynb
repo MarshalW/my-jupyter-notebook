{
 "cells": [
  {
   "cell_type": "markdown",
   "id": "551d1092-db4b-4370-bf48-02eaeeb08f7b",
   "metadata": {},
   "source": [
    "# huggingface 加载模型\n"
   ]
  },
  {
   "cell_type": "code",
   "execution_count": null,
   "id": "348c3b39-04fe-41d9-9277-729f19a78ebe",
   "metadata": {},
   "outputs": [],
   "source": [
    "from transformers import GPT2LMHeadModel, GPT2Tokenizer\n",
    "\n",
    "import socket\n",
    "import socks\n",
    "\n",
    "socks.set_default_proxy(socks.SOCKS5H, \"127.0.0.1\", 1080)\n",
    "socket.socket = socks.socksocket\n",
    "\n",
    "# 使用 \"distilgpt2\" 模型\n",
    "model_name = \"distilgpt2\"\n",
    "\n",
    "print('Start ..')\n",
    "tokenizer = GPT2Tokenizer.from_pretrained(model_name)\n",
    "print('OK!')\n",
    "# model = GPT2LMHeadModel.from_pretrained(model_name)\n",
    "\n",
    "# # 输入文本\n",
    "# input_text = \"Once upon a time, in a land far, far away, \"\n",
    "\n",
    "# # 将文本编码成 tokens\n",
    "# input_ids = tokenizer.encode(input_text, return_tensors=\"pt\")\n",
    "\n",
    "# # 进行模型推理\n",
    "# with torch.no_grad():\n",
    "#     output = model.generate(input_ids, max_length=100, num_return_sequences=1)\n",
    "\n",
    "# # 解码生成的文本\n",
    "# generated_text = tokenizer.decode(output[0], skip_special_tokens=True)\n",
    "\n",
    "# # 打印生成的文本\n",
    "# print(\"Generated text:\")\n",
    "# print(generated_text)\n"
   ]
  },
  {
   "cell_type": "code",
   "execution_count": null,
   "id": "f93defae-2c4a-48b0-85b2-e47b572c2f63",
   "metadata": {},
   "outputs": [],
   "source": []
  },
  {
   "cell_type": "code",
   "execution_count": null,
   "id": "572e202d-03bd-46ca-a33d-f2912c817f21",
   "metadata": {},
   "outputs": [],
   "source": []
  }
 ],
 "metadata": {
  "kernelspec": {
   "display_name": "Python 3 (ipykernel)",
   "language": "python",
   "name": "python3"
  },
  "language_info": {
   "codemirror_mode": {
    "name": "ipython",
    "version": 3
   },
   "file_extension": ".py",
   "mimetype": "text/x-python",
   "name": "python",
   "nbconvert_exporter": "python",
   "pygments_lexer": "ipython3",
   "version": "3.10.12"
  }
 },
 "nbformat": 4,
 "nbformat_minor": 5
}
