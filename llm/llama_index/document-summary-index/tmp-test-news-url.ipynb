{
 "cells": [
  {
   "cell_type": "code",
   "execution_count": null,
   "id": "b2c5ff96-51a3-41a8-865e-791993befb7c",
   "metadata": {},
   "outputs": [],
   "source": [
    "# 临时测试"
   ]
  },
  {
   "cell_type": "code",
   "execution_count": 24,
   "id": "1767361c-4ec3-44ba-8036-02e0a81a3e84",
   "metadata": {},
   "outputs": [
    {
     "name": "stdout",
     "output_type": "stream",
     "text": [
      "CPU times: user 3 µs, sys: 0 ns, total: 3 µs\n",
      "Wall time: 5.01 µs\n"
     ]
    }
   ],
   "source": [
    "%%time\n",
    "\n",
    "news_urls=[\n",
    "    \"https://www.guancha.cn/internation/2024_06_26_739376_s.shtml\",\n",
    "    \"http://www.news.cn/20240627/c838c9eb63184464a97d234ddf4e052b/c.html\",\n",
    "    \"https://cn.chinadaily.com.cn/a/202406/27/WS667cd143a3107cd55d268c1e.html\",\n",
    "    \"http://www.news.cn/20240627/f1159f0e07904a8595899033b071fc0c/c.html\",\n",
    "    \"http://www.china.com.cn/opinion2020/2024-06/27/content_117275926.shtml\",\n",
    "    \"https://caijing.chinadaily.com.cn/a/202406/27/WS667cb8e2a3107cd55d268bc1.html\",\n",
    "]"
   ]
  },
  {
   "cell_type": "code",
   "execution_count": 25,
   "id": "60eabf3c-8073-49e0-8952-a9a420fa89c3",
   "metadata": {},
   "outputs": [
    {
     "name": "stdout",
     "output_type": "stream",
     "text": [
      "CPU times: user 343 ms, sys: 20.1 ms, total: 363 ms\n",
      "Wall time: 2.49 s\n"
     ]
    }
   ],
   "source": [
    "%%time\n",
    "\n",
    "import requests\n",
    "from gne import GeneralNewsExtractor\n",
    "\n",
    "def get_news_data(url):\n",
    "    headers = {\n",
    "        'User-Agent': 'Mozilla/5.0 (Linux; Android 10; Pixel 4) AppleWebKit/537.36 (KHTML, like Gecko) Chrome/88.0.4324.181 Mobile Safari/537.36'\n",
    "    }\n",
    "    response = requests.get(url, headers=headers)\n",
    "    html = response.text\n",
    "\n",
    "    extractor = GeneralNewsExtractor()\n",
    "    data = extractor.extract(html, noise_node_list=[\n",
    "                               '//div[@class=\"comment-list\"]'])\n",
    "    data['url']=url\n",
    "    return data\n",
    "\n",
    "\n",
    "import json\n",
    "\n",
    "!rm -rf tmp-news-data\n",
    "!mkdir -p tmp-news-data\n",
    "\n",
    "for news_url in news_urls:\n",
    "    data=get_news_data(news_url)\n",
    "    data['url']=news_url\n",
    "    # a.append(data)\n",
    "    # data_dict = json.loads(data)\n",
    "    file_path = f'./tmp-news-data/{data[\"title\"]}.json'\n",
    "    with open(file_path, 'w') as json_file:\n",
    "        json.dump(data, json_file, indent=4)"
   ]
  },
  {
   "cell_type": "code",
   "execution_count": null,
   "id": "ac292b3c-d703-4169-8b05-a3517f432e06",
   "metadata": {},
   "outputs": [],
   "source": []
  }
 ],
 "metadata": {
  "kernelspec": {
   "display_name": "Python 3 (ipykernel)",
   "language": "python",
   "name": "python3"
  },
  "language_info": {
   "codemirror_mode": {
    "name": "ipython",
    "version": 3
   },
   "file_extension": ".py",
   "mimetype": "text/x-python",
   "name": "python",
   "nbconvert_exporter": "python",
   "pygments_lexer": "ipython3",
   "version": "3.10.12"
  }
 },
 "nbformat": 4,
 "nbformat_minor": 5
}
