{
 "cells": [
  {
   "cell_type": "markdown",
   "id": "7e12a911-3259-4d26-8b53-297ba85b486b",
   "metadata": {},
   "source": [
    "# 存储"
   ]
  },
  {
   "cell_type": "markdown",
   "id": "60c39f57-3870-46e4-b55e-00f5e9e28a5a",
   "metadata": {},
   "source": [
    "## 概念"
   ]
  },
  {
   "cell_type": "markdown",
   "id": "e478101a-d63a-4b7c-bcc0-405a6b469c84",
   "metadata": {},
   "source": [
    "LlamaIndex 提供了一个用于提取、索引和查询外部数据的高级接口。\n",
    "\n",
    "在底层，LlamaIndex 还支持可交换的存储组件，允许您自定义：\n",
    "\n",
    "- 文档存储Node：存储摄取的文档（即对象）的位置，\n",
    "- 索引存储：存储索引元数据的地方，\n",
    "- 向量存储：存储嵌入向量的地方\n",
    "- 图形存储：存储知识图谱的地方（即KnowledgeGraphIndex）。\n",
    "- 聊天存储：存储和组织聊天信息的地方。\n",
    "\n",
    "文档/索引存储依赖于通用的键值存储抽象.\n",
    "\n",
    "LlamaIndex 支持将数据持久保存到fsspec支持的任何存储后端。我们已确认支持以下存储后端：\n",
    "\n",
    "- 本地文件系统\n",
    "- AWS S3\n",
    "- Cloudflare R2\n",
    "\n",
    "![](https://docs.llamaindex.ai/en/stable/_static/storage/storage.png)"
   ]
  },
  {
   "cell_type": "markdown",
   "id": "c0718374-bec1-42e7-ad36-5a46824c9a36",
   "metadata": {},
   "source": [
    "## 使用模式"
   ]
  },
  {
   "cell_type": "markdown",
   "id": "8346c61a-0a9c-49f8-8044-a1fc56aefe8a",
   "metadata": {},
   "source": [
    "许多向量存储（FAISS 除外）将同时存储数据和索引（嵌入）。\n",
    "\n",
    "这意味着您不需要使用单独的文档存储或索引存储。\n",
    "\n",
    "这也意味着您不需要明确保留这些数据 - 这是自动发生的。\n",
    "\n",
    "使用方法类似于以下内容来构建新索引/重新加载现有索引。"
   ]
  },
  {
   "cell_type": "code",
   "execution_count": null,
   "id": "900f2bdb-6ebb-4c53-8088-a01162173d38",
   "metadata": {},
   "outputs": [],
   "source": [
    "## build a new index\n",
    "from llama_index.core import VectorStoreIndex, StorageContext\n",
    "from llama_index.vector_stores.deeplake import DeepLakeVectorStore\n",
    "\n",
    "# construct vector store and customize storage context\n",
    "vector_store = DeepLakeVectorStore(dataset_path=\"<dataset_path>\")\n",
    "storage_context = StorageContext.from_defaults(vector_store=vector_store)\n",
    "# Load documents and build index\n",
    "index = VectorStoreIndex.from_documents(\n",
    "    documents, storage_context=storage_context\n",
    ")\n",
    "\n",
    "\n",
    "## reload an existing one\n",
    "index = VectorStoreIndex.from_vector_store(vector_store=vector_store)"
   ]
  },
  {
   "cell_type": "markdown",
   "id": "bee4d3fc-5cd7-4601-a9d9-4650589e645e",
   "metadata": {},
   "source": [
    "通常要使用存储抽象，您需要定义一个StorageContext对象："
   ]
  },
  {
   "cell_type": "code",
   "execution_count": null,
   "id": "ae4c32f5-5abe-4196-b54e-028e6a4c7f30",
   "metadata": {},
   "outputs": [],
   "source": [
    "from llama_index.core.storage.docstore import SimpleDocumentStore\n",
    "from llama_index.core.storage.index_store import SimpleIndexStore\n",
    "from llama_index.core.vector_stores import SimpleVectorStore\n",
    "from llama_index.core import StorageContext\n",
    "\n",
    "# create storage context using default stores\n",
    "storage_context = StorageContext.from_defaults(\n",
    "    docstore=SimpleDocumentStore(),\n",
    "    vector_store=SimpleVectorStore(),\n",
    "    index_store=SimpleIndexStore(),\n",
    ")"
   ]
  },
  {
   "cell_type": "markdown",
   "id": "46d81924-0a1b-44f9-808e-476d0100141f",
   "metadata": {},
   "source": [
    "## 向量存储"
   ]
  },
  {
   "cell_type": "markdown",
   "id": "6b4cd3d9-1dad-4161-a4c5-493316e7b1b8",
   "metadata": {},
   "source": [
    "向量存储包含摄取的文档块的嵌入向量（有时也包含文档块）。"
   ]
  },
  {
   "cell_type": "markdown",
   "id": "3f668ee7-a4aa-44cc-b8fa-e24829831cd1",
   "metadata": {},
   "source": [
    "### 简单向量存储 - Simple Vector Store"
   ]
  },
  {
   "cell_type": "markdown",
   "id": "528481ba-289e-4329-916e-38f6aff9c8b2",
   "metadata": {},
   "source": [
    "默认情况下，LlamaIndex 使用简单的内存向量存储，非常适合快速实验。\n",
    "\n",
    "可以通过调用 vector_store.persist() （和分别调用 SimpleVectorStore.from_persist_path(...) ）将它们持久保存到磁盘（并从磁盘加载）。"
   ]
  },
  {
   "cell_type": "markdown",
   "id": "82fa95af-faf3-49fa-b3d1-883af0b1fde8",
   "metadata": {},
   "source": [
    "### 向量存储选项和功能支持"
   ]
  },
  {
   "cell_type": "markdown",
   "id": "b60e9fc3-ab41-4fd9-8a65-ccd2592d28a8",
   "metadata": {},
   "source": [
    "LlamaIndex 支持 20 多种不同的矢量存储选项。我们正在积极添加更多集成并改进每种选项的功能覆盖范围。\n",
    "\n",
    "（表略）"
   ]
  },
  {
   "cell_type": "markdown",
   "id": "9d3dba05-22ff-4274-b347-c00e6d01c5f8",
   "metadata": {},
   "source": [
    "## 文档存储"
   ]
  },
  {
   "cell_type": "markdown",
   "id": "93a96f2f-394f-49a6-ad25-681832237716",
   "metadata": {},
   "source": [
    "文档存储包含摄取的文档块，我们称之为Node对象。"
   ]
  },
  {
   "cell_type": "markdown",
   "id": "9ef047f9-63d1-46ca-8ad8-843382beb947",
   "metadata": {},
   "source": [
    "### 简单文档存储 - SimpleDocumentStore"
   ]
  },
  {
   "cell_type": "markdown",
   "id": "ec9fa565-c22e-410f-b7b8-9c99d03f5205",
   "metadata": {},
   "source": [
    "默认情况下，将对象SimpleDocumentStore存储Node在内存中。\n",
    "\n",
    "通过分别调用docstore.persist()（和SimpleDocumentStore.from_persist_path(...)）将它们保存到磁盘（并从磁盘加载）。"
   ]
  },
  {
   "cell_type": "markdown",
   "id": "d93c451e-b059-4f8f-b3ab-a22ed31204fd",
   "metadata": {},
   "source": [
    "### MongoDB 文档存储 - MongoDocumentStore"
   ]
  },
  {
   "cell_type": "markdown",
   "id": "a1bc0ef7-2759-4d2c-a7fc-e44b059d91c8",
   "metadata": {},
   "source": [
    "我们支持 MongoDB 作为替代文档存储后端，其在Node对象被摄取时保存数据。"
   ]
  },
  {
   "cell_type": "code",
   "execution_count": null,
   "id": "75162dd4-9005-41a6-a4c9-ec3a64205147",
   "metadata": {},
   "outputs": [],
   "source": [
    "from llama_index.storage.docstore.mongodb import MongoDocumentStore\n",
    "from llama_index.core.node_parser import SentenceSplitter\n",
    "\n",
    "# create parser and parse document into nodes\n",
    "parser = SentenceSplitter()\n",
    "nodes = parser.get_nodes_from_documents(documents)\n",
    "\n",
    "# create (or load) docstore and add nodes\n",
    "docstore = MongoDocumentStore.from_uri(uri=\"<mongodb+srv://...>\")\n",
    "docstore.add_documents(nodes)\n",
    "\n",
    "# create storage context\n",
    "storage_context = StorageContext.from_defaults(docstore=docstore)\n",
    "\n",
    "# build index\n",
    "index = VectorStoreIndex(nodes, storage_context=storage_context)"
   ]
  },
  {
   "cell_type": "markdown",
   "id": "92dcc65d-c6f2-406e-a892-ffb2f89fcb9e",
   "metadata": {},
   "source": [
    "在底层，MongoDocumentStore连接到固定的 MongoDB 数据库并为您的节点初始化新集合（或加载现有集合）。\n",
    "\n",
    "使用 MongoDocumentStore 时不需要调用storage_context.persist()，因为数据默认是持久的。\n",
    "\n",
    "可以轻松地重新连接到您的 MongoDB 集合，并通过使用现有的db_name和重新初始化来重新加载索引collection_name。"
   ]
  },
  {
   "cell_type": "markdown",
   "id": "c1c6c257-f12d-463a-8315-136dc360c5f8",
   "metadata": {},
   "source": [
    "### Redis 文档存储"
   ]
  },
  {
   "cell_type": "markdown",
   "id": "52ae45c1-0c37-46e9-bb85-c89ca2c88f48",
   "metadata": {},
   "source": [
    "支持 Redis 作为替代文档存储后端，其在Node提取对象时持久保存数据。"
   ]
  },
  {
   "cell_type": "code",
   "execution_count": null,
   "id": "cec9e2f6-fd5a-4bf6-a268-ecd3267d7431",
   "metadata": {},
   "outputs": [],
   "source": [
    "from llama_index.storage.docstore.redis import RedisDocumentStore\n",
    "from llama_index.core.node_parser import SentenceSplitter\n",
    "\n",
    "# create parser and parse document into nodes\n",
    "parser = SentenceSplitter()\n",
    "nodes = parser.get_nodes_from_documents(documents)\n",
    "\n",
    "# create (or load) docstore and add nodes\n",
    "docstore = RedisDocumentStore.from_host_and_port(\n",
    "    host=\"127.0.0.1\", port=\"6379\", namespace=\"llama_index\"\n",
    ")\n",
    "docstore.add_documents(nodes)\n",
    "\n",
    "# create storage context\n",
    "storage_context = StorageContext.from_defaults(docstore=docstore)\n",
    "\n",
    "# build index\n",
    "index = VectorStoreIndex(nodes, storage_context=storage_context)"
   ]
  },
  {
   "cell_type": "markdown",
   "id": "d3627727-59a9-4d25-9a06-150deb14ce8f",
   "metadata": {},
   "source": [
    "在底层，RedisDocumentStore连接到 redis 数据库并将您的节点添加到存储在下的命名空间{namespace}/docs。\n",
    "\n",
    "RedisDocumentStore您可以轻松地重新连接到 Redis 客户端，并通过使用现有的host、port和重新初始化 来重新加载索引namespace。"
   ]
  },
  {
   "cell_type": "markdown",
   "id": "7ce1687c-de80-4d15-bb5f-df71d0ff7bfe",
   "metadata": {},
   "source": [
    "### Firestore 文档存储"
   ]
  },
  {
   "cell_type": "markdown",
   "id": "4387e297-89de-4670-8d64-ca4dc8c2ccd1",
   "metadata": {},
   "source": [
    "支持 Firestore 作为替代文档存储后端，它在Node提取对象时保留数据。\n",
    "\n",
    "FirestoreDocumentStore连接到 Google Cloud 中的 firestore 数据库，并将您的节点添加到存储在下的命名空间中{namespace}/docs。"
   ]
  },
  {
   "cell_type": "markdown",
   "id": "69954aee-6ed0-46d3-9538-90f3c3b3b27d",
   "metadata": {},
   "source": [
    "## 索引存储"
   ]
  },
  {
   "cell_type": "markdown",
   "id": "6773c240-7605-4eab-b394-bd664dffbc5d",
   "metadata": {},
   "source": [
    "索引存储包含轻量级索引元数据（即构建索引时创建的附加状态信息）。"
   ]
  },
  {
   "cell_type": "markdown",
   "id": "9fef5e33-c671-437a-9c14-bf91eb1e3757",
   "metadata": {},
   "source": [
    "### 简单索引存储 - SimpleIndexStore"
   ]
  },
  {
   "cell_type": "markdown",
   "id": "cad1fa56-a394-4876-b61b-8bcd1a126eff",
   "metadata": {},
   "source": [
    "默认情况下，LlamaIndex 使用由内存中的键值存储支持的简单索引存储。\n",
    "\n",
    "可以通过分别调用（和）保存到磁盘（并从磁盘加载index_store.persist()）SimpleIndexStore.from_persist_path(...)。"
   ]
  },
  {
   "cell_type": "markdown",
   "id": "de3fb524-2ac5-4a0e-b276-08b8e8e9de83",
   "metadata": {},
   "source": [
    "### MongoDB 索引存储"
   ]
  },
  {
   "cell_type": "markdown",
   "id": "491be591-5d3c-42e2-8256-8fecbfb88a75",
   "metadata": {},
   "source": [
    "与文档存储类似，我们也可以将其用作MongoDB索引存储的存储后端。"
   ]
  },
  {
   "cell_type": "markdown",
   "id": "be31cba4-ae5f-4f84-8968-9acbcb7347db",
   "metadata": {},
   "source": [
    "### Redis 索引存储 - RedisIndexStore"
   ]
  },
  {
   "cell_type": "markdown",
   "id": "c208e1ff-34c1-47c2-97fc-830228cee98c",
   "metadata": {},
   "source": [
    "支持 Redis 作为替代文档存储后端，其在Node提取对象时持久保存数据。"
   ]
  },
  {
   "cell_type": "markdown",
   "id": "1ae4cbd3-3eb6-4c80-8dc7-6bc7e5f421e0",
   "metadata": {},
   "source": [
    "## 对话存储"
   ]
  },
  {
   "cell_type": "markdown",
   "id": "9df4336f-7635-41b4-8389-4d2b12e8431b",
   "metadata": {},
   "source": [
    "聊天存储是存储聊天记录的集中界面。\n",
    "\n",
    "与其他存储格式相比，聊天记录是独一无二的，因为消息的顺序对于维护整体对话非常重要。\n",
    "\n",
    "user_ids聊天存储器可以通过键（如或其他唯一可识别的字符串）组织聊天消息序列，并处理delete、insert和get操作"
   ]
  },
  {
   "cell_type": "markdown",
   "id": "7cc72142-bb4a-4603-90ea-22a2c70abc04",
   "metadata": {},
   "source": [
    "### 简单对话存储"
   ]
  },
  {
   "cell_type": "markdown",
   "id": "429b7d5c-c32d-4081-a33c-4f43a5c84179",
   "metadata": {},
   "source": [
    "最基本的聊天存储是SimpleChatStore，它将消息存储在内存中并可以保存到磁盘/从磁盘保存，或者可以序列化并存储在其他地方。\n",
    "\n",
    "SimpleChatStore 通常，您将实例化对话存储并将其提供给内存模块。如果未提供聊天存储，则使用聊天存储的内存模块将默认使用。"
   ]
  },
  {
   "cell_type": "code",
   "execution_count": null,
   "id": "aad0bdf0-2255-4058-8785-2e535356e49f",
   "metadata": {},
   "outputs": [],
   "source": [
    "from llama_index.core.storage.chat_store import SimpleChatStore\n",
    "from llama_index.core.memory import ChatMemoryBuffer\n",
    "\n",
    "chat_store = SimpleChatStore()\n",
    "\n",
    "chat_memory = ChatMemoryBuffer.from_defaults(\n",
    "    token_limit=3000,\n",
    "    chat_store=chat_store,\n",
    "    chat_store_key=\"user1\",\n",
    ")"
   ]
  },
  {
   "cell_type": "markdown",
   "id": "a115bcc1-3501-49ba-a661-2e295ddbd140",
   "metadata": {},
   "source": [
    "创建了记忆，您就可以将其包含在代理或聊天引擎中："
   ]
  },
  {
   "cell_type": "code",
   "execution_count": null,
   "id": "877087aa-6520-4f65-a985-20bf2558bb89",
   "metadata": {},
   "outputs": [],
   "source": [
    "agent = OpenAIAgent.from_tools(tools, memory=memory)\n",
    "# OR\n",
    "chat_engine = index.as_chat_engine(memory=memory)"
   ]
  },
  {
   "cell_type": "markdown",
   "id": "0012300f-0f57-458f-9d41-e62e3b8eb010",
   "metadata": {},
   "source": [
    "要保存聊天记录以供日后使用，您可以从磁盘保存或加载"
   ]
  },
  {
   "cell_type": "code",
   "execution_count": null,
   "id": "41b652be-ae04-4158-b09f-b4daec8e0cb4",
   "metadata": {},
   "outputs": [],
   "source": [
    "chat_store.persist(persist_path=\"chat_store.json\")\n",
    "loaded_chat_store = SimpleChatStore.from_persist_path(\n",
    "    persist_path=\"chat_store.json\"\n",
    ")"
   ]
  },
  {
   "cell_type": "markdown",
   "id": "a95b9e9f-b346-4d90-ab74-aa96ca9e4645",
   "metadata": {},
   "source": [
    "或者你可以转换为字符串，并将字符串保存在其他地方"
   ]
  },
  {
   "cell_type": "code",
   "execution_count": null,
   "id": "293fc4da-778e-45f1-9246-d6ab422c2d6a",
   "metadata": {},
   "outputs": [],
   "source": [
    "chat_store_string = chat_store.json()\n",
    "loaded_chat_store = SimpleChatStore.parse_raw(chat_store_string)"
   ]
  },
  {
   "cell_type": "markdown",
   "id": "1013f893-aec0-4d40-854a-53b98ffec89b",
   "metadata": {},
   "source": [
    "### RedisChatStore"
   ]
  },
  {
   "cell_type": "markdown",
   "id": "75152c28-e9fa-46f2-8416-f2954b08b110",
   "metadata": {},
   "source": [
    "使用RedisChatStore，您可以远程存储您的聊天记录，而不必担心手动保存和加载聊天记录。"
   ]
  },
  {
   "cell_type": "markdown",
   "id": "d628752d-2752-4746-ac88-caaccf5445b4",
   "metadata": {},
   "source": [
    "### AzureChatStore"
   ]
  },
  {
   "cell_type": "markdown",
   "id": "c832da4e-a62e-475f-b09d-2f4b5fc67296",
   "metadata": {},
   "source": [
    "使用AzureChatStore，您可以将聊天记录远程存储在 Azure 表存储或 CosmosDB 中，而不必担心手动保存和加载聊天记录。"
   ]
  },
  {
   "cell_type": "markdown",
   "id": "04382f08-a363-4dd6-882e-e7cddfe1e100",
   "metadata": {},
   "source": [
    "### 键值存储"
   ]
  },
  {
   "cell_type": "markdown",
   "id": "3aaf4bc7-7fe5-4699-8ffb-6f47d43398e4",
   "metadata": {},
   "source": [
    "键值存储是支持我们的文档存储和索引存储的底层存储抽象。\n",
    "\n",
    "提供以下键值存储：\n",
    "\n",
    "- Simple Key-Value Store: 内存中的 KV 存储。用户可以选择调用persist此 KV 存储将数据持久保存到磁盘。\n",
    "- MongoDB Key-Value Store: MongoDB KV 存储。\n",
    "\n",
    "注意：目前，这些存储抽象并不面向外部。"
   ]
  },
  {
   "cell_type": "markdown",
   "id": "adf3ab97-fb7f-4333-93ce-c7d4dd1e7153",
   "metadata": {},
   "source": [
    "## 保存并加载数据"
   ]
  },
  {
   "cell_type": "markdown",
   "id": "84809733-5d35-4661-ad9d-97cefcbe7114",
   "metadata": {},
   "source": [
    "### 持久数据"
   ]
  },
  {
   "cell_type": "markdown",
   "id": "1cf4a8de-14d1-4a20-a8dc-e733e4334a3b",
   "metadata": {},
   "source": [
    "默认情况下，LlamaIndex 将数据存储在内存中，如果需要，可以明确地保留这些数据："
   ]
  },
  {
   "cell_type": "code",
   "execution_count": null,
   "id": "fd19bfd9-d969-4763-aafc-9f8d6d1cb07d",
   "metadata": {},
   "outputs": [],
   "source": [
    "storage_context.persist(persist_dir=\"<persist_dir>\")"
   ]
  },
  {
   "cell_type": "markdown",
   "id": "f4e00528-bb40-4ad4-8be2-8bb7fb6c0c60",
   "metadata": {},
   "source": [
    "按照指定的方式persist_dir（或./storage默认方式）将数据保存到磁盘。"
   ]
  },
  {
   "cell_type": "markdown",
   "id": "76731ce2-d988-4d92-94a5-19d15efa5146",
   "metadata": {},
   "source": [
    "### 加载数据"
   ]
  },
  {
   "cell_type": "markdown",
   "id": "015b2af5-6800-402a-b741-08f69dcd5269",
   "metadata": {},
   "source": [
    "要加载数据，用户只需使用相同的配置（例如传入相同persist_dir或向量存储客户端）重新创建存储上下文。"
   ]
  },
  {
   "cell_type": "code",
   "execution_count": null,
   "id": "73be3520-7b77-4e28-a2e6-1924d73aa993",
   "metadata": {},
   "outputs": [],
   "source": [
    "storage_context = StorageContext.from_defaults(\n",
    "    docstore=SimpleDocumentStore.from_persist_dir(persist_dir=\"<persist_dir>\"),\n",
    "    vector_store=SimpleVectorStore.from_persist_dir(\n",
    "        persist_dir=\"<persist_dir>\"\n",
    "    ),\n",
    "    index_store=SimpleIndexStore.from_persist_dir(persist_dir=\"<persist_dir>\"),\n",
    ")"
   ]
  },
  {
   "cell_type": "markdown",
   "id": "c97072d0-c259-437d-96a5-372f381459a1",
   "metadata": {},
   "source": [
    "可以通过下面的一些便利函数加载特定索引"
   ]
  },
  {
   "cell_type": "code",
   "execution_count": null,
   "id": "d0487209-4a87-400c-8f67-f17c9ca28e49",
   "metadata": {},
   "outputs": [],
   "source": [
    "from llama_index.core import (\n",
    "    load_index_from_storage,\n",
    "    load_indices_from_storage,\n",
    "    load_graph_from_storage,\n",
    ")\n",
    "\n",
    "# load a single index\n",
    "# need to specify index_id if multiple indexes are persisted to the same directory\n",
    "index = load_index_from_storage(storage_context, index_id=\"<index_id>\")\n",
    "\n",
    "# don't need to specify index_id if there's only one index in storage context\n",
    "index = load_index_from_storage(storage_context)\n",
    "\n",
    "# load multiple indices\n",
    "indices = load_indices_from_storage(storage_context)  # loads all indices\n",
    "indices = load_indices_from_storage(\n",
    "    storage_context, index_ids=[index_id1, ...]\n",
    ")  # loads specific indices\n",
    "\n",
    "# load composable graph\n",
    "graph = load_graph_from_storage(\n",
    "    storage_context, root_id=\"<root_id>\"\n",
    ")  # loads graph with the specified root_id"
   ]
  },
  {
   "cell_type": "markdown",
   "id": "8940060b-7b5d-47df-b76c-c97d6263af17",
   "metadata": {},
   "source": [
    "### 使用远程后端"
   ]
  },
  {
   "cell_type": "markdown",
   "id": "5b51a545-e47b-4e30-b777-b935eb427c21",
   "metadata": {},
   "source": [
    "默认情况下，LlamaIndex 使用本地文件系统来加载和保存文件。\n",
    "\n",
    "可以通过传递fsspec.AbstractFileSystem对象来覆盖此设置。\n",
    "\n",
    "实例化一个 S3 文件系统并从那里保存/加载："
   ]
  },
  {
   "cell_type": "code",
   "execution_count": null,
   "id": "b723eec5-44e0-4d1a-a29c-003c972e468e",
   "metadata": {},
   "outputs": [],
   "source": [
    "# set up s3fs\n",
    "AWS_KEY = os.environ[\"AWS_ACCESS_KEY_ID\"]\n",
    "AWS_SECRET = os.environ[\"AWS_SECRET_ACCESS_KEY\"]\n",
    "R2_ACCOUNT_ID = os.environ[\"R2_ACCOUNT_ID\"]\n",
    "\n",
    "assert AWS_KEY is not None and AWS_KEY != \"\"\n",
    "\n",
    "s3 = s3fs.S3FileSystem(\n",
    "    key=AWS_KEY,\n",
    "    secret=AWS_SECRET,\n",
    "    endpoint_url=f\"https://{R2_ACCOUNT_ID}.r2.cloudflarestorage.com\",\n",
    "    s3_additional_kwargs={\"ACL\": \"public-read\"},\n",
    ")\n",
    "\n",
    "# If you're using 2+ indexes with the same StorageContext,\n",
    "# run this to save the index to remote blob storage\n",
    "index.set_index_id(\"vector_index\")\n",
    "\n",
    "# persist index to s3\n",
    "s3_bucket_name = \"llama-index/storage_demo\"  # {bucket_name}/{index_name}\n",
    "index.storage_context.persist(persist_dir=s3_bucket_name, fs=s3)\n",
    "\n",
    "# load index from s3\n",
    "index_from_s3 = load_index_from_storage(\n",
    "    StorageContext.from_defaults(persist_dir=s3_bucket_name, fs=s3),\n",
    "    index_id=\"vector_index\",\n",
    ")"
   ]
  },
  {
   "cell_type": "markdown",
   "id": "dee3afbf-e0d9-491a-9370-d1215f3eec27",
   "metadata": {},
   "source": [
    "## 自定义存储"
   ]
  },
  {
   "cell_type": "markdown",
   "id": "62764f99-7132-414f-b14d-32b6d124519c",
   "metadata": {},
   "source": [
    "默认情况下，LlamaIndex 隐藏了复杂性，让您用不到 5 行代码查询数据："
   ]
  },
  {
   "cell_type": "code",
   "execution_count": null,
   "id": "6804d2e3-88b0-4c5d-8b11-41963ba33eb7",
   "metadata": {},
   "outputs": [],
   "source": [
    "from llama_index.core import VectorStoreIndex, SimpleDirectoryReader\n",
    "\n",
    "documents = SimpleDirectoryReader(\"data\").load_data()\n",
    "index = VectorStoreIndex.from_documents(documents)\n",
    "query_engine = index.as_query_engine()\n",
    "response = query_engine.query(\"Summarize the documents.\")"
   ]
  },
  {
   "cell_type": "markdown",
   "id": "0e429a86-f488-468a-b13b-902a6a841df5",
   "metadata": {},
   "source": [
    "在底层，LlamaIndex 还支持可交换的存储层，允许您自定义摄取的文档（即Node对象）、嵌入向量和索引元数据的存储位置。\n",
    "\n",
    "![](https://docs.llamaindex.ai/en/stable/_static/storage/storage.png)"
   ]
  },
  {
   "cell_type": "markdown",
   "id": "973bcb76-440f-46cb-aee5-184a2259555a",
   "metadata": {},
   "source": [
    "### 底层 API"
   ]
  },
  {
   "cell_type": "code",
   "execution_count": null,
   "id": "87477727-2ce2-453d-804f-9ee31d9ed59c",
   "metadata": {},
   "outputs": [],
   "source": [
    "# 高级 API\n",
    "index = VectorStoreIndex.from_documents(documents)"
   ]
  },
  {
   "cell_type": "markdown",
   "id": "7c21f42c-d25d-41d7-9038-45d6f2797e82",
   "metadata": {},
   "source": [
    "使用可以提供更精细控制的低级 API："
   ]
  },
  {
   "cell_type": "code",
   "execution_count": null,
   "id": "bce4d3d1-d82a-49f5-86a4-a19f0929a44c",
   "metadata": {},
   "outputs": [],
   "source": []
  },
  {
   "cell_type": "markdown",
   "id": "d1d41d32-449a-4d3a-a9eb-19ca8c07af03",
   "metadata": {},
   "source": [
    "### 向量存储的集成和存储"
   ]
  },
  {
   "cell_type": "code",
   "execution_count": null,
   "id": "20c9f8ac-cfb3-4736-afe2-23fc05d9fc3d",
   "metadata": {},
   "outputs": [],
   "source": [
    "大多数向量存储集成将整个索引（矢量 + 文本）存储在矢量存储本身中。\n",
    "\n",
    "向量存储已经托管并持久化了索引中的数据。"
   ]
  }
 ],
 "metadata": {
  "kernelspec": {
   "display_name": "Python 3 (ipykernel)",
   "language": "python",
   "name": "python3"
  },
  "language_info": {
   "codemirror_mode": {
    "name": "ipython",
    "version": 3
   },
   "file_extension": ".py",
   "mimetype": "text/x-python",
   "name": "python",
   "nbconvert_exporter": "python",
   "pygments_lexer": "ipython3",
   "version": "3.10.12"
  }
 },
 "nbformat": 4,
 "nbformat_minor": 5
}
