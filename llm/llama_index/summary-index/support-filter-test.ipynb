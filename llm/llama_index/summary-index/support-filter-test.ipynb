{
 "cells": [
  {
   "cell_type": "markdown",
   "id": "5de2b898-c0fd-40e3-b6ea-92ab6970153c",
   "metadata": {},
   "source": [
    "# SummaryIndex 是否能实现原数据过滤"
   ]
  },
  {
   "cell_type": "markdown",
   "id": "4acd5302-8830-42bb-b770-bc2498d4b9c3",
   "metadata": {},
   "source": [
    "## 全局设置"
   ]
  },
  {
   "cell_type": "code",
   "execution_count": 1,
   "id": "f872b9aa-0a57-4132-b61b-91c68e207127",
   "metadata": {},
   "outputs": [
    {
     "name": "stdout",
     "output_type": "stream",
     "text": [
      "CPU times: user 3.26 s, sys: 790 ms, total: 4.05 s\n",
      "Wall time: 5.21 s\n"
     ]
    }
   ],
   "source": [
    "%%time\n",
    "\n",
    "from llama_index.core import Settings\n",
    "from llama_index.llms.openai_like import OpenAILike\n",
    "from llama_index.embeddings.ollama import OllamaEmbedding\n",
    "\n",
    "Settings.llm=OpenAILike(\n",
    "    # model=\"qwen2\", \n",
    "    model=\"glm4\", \n",
    "    api_base=\"http://ape:3000/v1\", \n",
    "    api_key=\"sk-bJP6QSnUfjAYeYeE505d3eBf63A643BeB0B8E350Df9b7750\",\n",
    "    is_chat_model=True,\n",
    "    temperature=0.1,\n",
    "    request_timeout=60.0\n",
    ")\n",
    "\n",
    "Settings.embed_model = OllamaEmbedding(\n",
    "    model_name=\"quentinz/bge-large-zh-v1.5\",\n",
    "    base_url=\"http://ape:11434\",\n",
    "    ollama_additional_kwargs={\"mirostat\": 0}, # -mirostat N 使用 Mirostat 采样。\n",
    ")"
   ]
  },
  {
   "cell_type": "markdown",
   "id": "3a823188-20a3-4e8c-9b72-ec8df32b12d7",
   "metadata": {},
   "source": [
    "## 加载数据"
   ]
  },
  {
   "cell_type": "code",
   "execution_count": 4,
   "id": "abc74253-932e-45af-9983-21c3e859fd5f",
   "metadata": {},
   "outputs": [
    {
     "name": "stdout",
     "output_type": "stream",
     "text": [
      "CPU times: user 517 ms, sys: 7.07 ms, total: 524 ms\n",
      "Wall time: 790 ms\n"
     ]
    },
    {
     "data": {
      "text/plain": [
       "3"
      ]
     },
     "execution_count": 4,
     "metadata": {},
     "output_type": "execute_result"
    }
   ],
   "source": [
    "%%time\n",
    "\n",
    "from llama_index.readers.web import TrafilaturaWebReader\n",
    "\n",
    "items=[\n",
    "    \"北海公园\",\n",
    "    \"故宫\",\n",
    "    \"颐和园\",\n",
    "]\n",
    "\n",
    "documents = TrafilaturaWebReader().load_data(\n",
    "    [ f\"https://baike.baidu.com/item/{item}\" for item in items]\n",
    ")\n",
    "\n",
    "len(documents)"
   ]
  },
  {
   "cell_type": "code",
   "execution_count": 11,
   "id": "0a93ed72-6690-4bb4-a63c-c05ab68d7631",
   "metadata": {},
   "outputs": [
    {
     "data": {
      "text/plain": [
       "'https://baike.baidu.com/item/北海公园'"
      ]
     },
     "execution_count": 11,
     "metadata": {},
     "output_type": "execute_result"
    }
   ],
   "source": [
    "documents[0].id_"
   ]
  },
  {
   "cell_type": "markdown",
   "id": "27b0ac33-b79f-4288-a92d-6e76a4d347a7",
   "metadata": {},
   "source": [
    "## 索引"
   ]
  },
  {
   "cell_type": "code",
   "execution_count": 5,
   "id": "53ef58ad-1c84-4459-9270-8b8be9f7a392",
   "metadata": {},
   "outputs": [
    {
     "name": "stdout",
     "output_type": "stream",
     "text": [
      "CPU times: user 39.4 ms, sys: 107 µs, total: 39.5 ms\n",
      "Wall time: 38.4 ms\n"
     ]
    },
    {
     "data": {
      "text/plain": [
       "59"
      ]
     },
     "execution_count": 5,
     "metadata": {},
     "output_type": "execute_result"
    }
   ],
   "source": [
    "%%time\n",
    "\n",
    "from llama_index.core.node_parser import SentenceSplitter\n",
    "from llama_index.core import SummaryIndex\n",
    "\n",
    "parser = SentenceSplitter(chunk_size=1024,chunk_overlap=20)\n",
    "nodes = parser.get_nodes_from_documents(documents)\n",
    "\n",
    "len(nodes)"
   ]
  },
  {
   "cell_type": "code",
   "execution_count": 8,
   "id": "e27149fa-b524-4af4-87d4-f2816e7f353d",
   "metadata": {},
   "outputs": [
    {
     "data": {
      "text/plain": [
       "TextNode(id_='f11a902a-dfb7-4f1b-afba-c79392041121', embedding=None, metadata={}, excluded_embed_metadata_keys=[], excluded_llm_metadata_keys=[], relationships={<NodeRelationship.SOURCE: '1'>: RelatedNodeInfo(node_id='https://baike.baidu.com/item/北海公园', node_type=<ObjectType.DOCUMENT: '4'>, metadata={}, hash='438fac785c42c03178c36e55034707ca88d4b78055d6d8f03def3092fff0e665'), <NodeRelationship.PREVIOUS: '2'>: RelatedNodeInfo(node_id='ff7ccd91-5c3b-4907-a8b2-625df201ffeb', node_type=<ObjectType.TEXT: '1'>, metadata={}, hash='8ea1a298611e0cf9f2be7a78c781d17c741c891d3e9c6863a227d6a72e367f17'), <NodeRelationship.NEXT: '3'>: RelatedNodeInfo(node_id='23352e71-3e2d-4455-bd40-9cf886078640', node_type=<ObjectType.TEXT: '1'>, metadata={}, hash='5454b50965484b92ea5fa47c3159da19a0d6183e771d7f3ff4b4145a808f8dcd')}, text='1949年中华人民共和国成立后，政府拨巨资对北海公园予以修葺，疏浚了湖泊，维修了古建筑，铺设甬道，增设了公共服务设施。 [5]\\n1961年北海公园被国务院公布为第一批全国重点文物保护单位。 [4]\\n1986年，北海被评为北京十六景之一。 [6]\\n2016年，北海公园与仿膳饭庄达成协议，完成漪澜堂古建筑群的腾退工作。为了更好地保护漪澜堂古建筑群的建筑、山水以及整体环境，北海公园于2019年底开始对建筑群整体修缮，恢复历史原状。 [35]\\n2022年年底，漪澜堂古建筑群恢复了清乾隆时期被建造出来的风貌， [36]重新开放面积达8700余平方米，完成古建内家具、陈设品、宫灯、匾额、楹联等近千件展品的制作、摆陈，基本复原清代皇家室内陈设。 [35]\\n[31]\\n北海公园位于北京市中心区，东邻景山，南濒中南海，北连什刹海，属于中国古代皇家园林。 [1]全园以北海为中心，全园占地69公顷（其中水面39公顷），主要由琼华岛、东岸和北岸景区组成。琼华岛上树木苍郁，亭台楼阁幽静，白塔耸立山巅，成为公园的标志。 [2]\\n北海公园\\n小西天 | 小西天始建于清乾隆三十三年（1768年），建成于清乾隆三十五年（1770年），是清乾隆皇帝为母亲孝圣皇太后祝寿祈福而建的。主体建筑为极乐世界，总面积达1200平方米，其横梁跨度13.5米，是中国最大的方亭式宫殿建筑，殿四面窗扉、楠扇细镂花纹，殿内高处悬挂金匾，上书“极乐世界”为乾隆御笔，上方为金光灿灿的八角穹窿团龙藻井。殿四面环水，有桥可通，东西南北各有琉璃牌坊一座，四角各有一座小方亭，正南面有一道月牙河，上架一座雕栏石桥。殿内原有南海普陀泥塑一座，山上布有二百二十六尊罗汉佛像，山下绘满海水，以象征佛界普陀胜境，故有“罗汉山”和“海岛”之称。', mimetype='text/plain', start_char_idx=1723, end_char_idx=2464, text_template='{metadata_str}\\n\\n{content}', metadata_template='{key}: {value}', metadata_seperator='\\n')"
      ]
     },
     "execution_count": 8,
     "metadata": {},
     "output_type": "execute_result"
    }
   ],
   "source": [
    "nodes[2]"
   ]
  },
  {
   "cell_type": "code",
   "execution_count": 9,
   "id": "c478a421-0505-440f-86ea-70f27c907c69",
   "metadata": {},
   "outputs": [
    {
     "data": {
      "text/plain": [
       "TextNode(id_='436bbbc3-9ab9-42c2-8df3-f11b2a69dcf9', embedding=None, metadata={}, excluded_embed_metadata_keys=[], excluded_llm_metadata_keys=[], relationships={<NodeRelationship.SOURCE: '1'>: RelatedNodeInfo(node_id='https://baike.baidu.com/item/北海公园', node_type=<ObjectType.DOCUMENT: '4'>, metadata={}, hash='438fac785c42c03178c36e55034707ca88d4b78055d6d8f03def3092fff0e665'), <NodeRelationship.NEXT: '3'>: RelatedNodeInfo(node_id='ff7ccd91-5c3b-4907-a8b2-625df201ffeb', node_type=<ObjectType.TEXT: '1'>, metadata={}, hash='8ea1a298611e0cf9f2be7a78c781d17c741c891d3e9c6863a227d6a72e367f17')}, text='收藏\\n查看我的收藏\\n0有用+1\\n北海公园（Beihai Park），位于北京市西城区文津街1号，东邻景山公园，南濒中南海，北连什刹海，全园占地68.2万平方米（其中水域面积38.9万平方米，陆地面积29.3万平方米），1925年开放为公园。 [3] [28]\\n北海及团城于1961年被中华人民共和国中央人民政府公布为第一批全国重点文物保护单位。 [32]北海公园也是国家AAAA级旅游景区。 [33]\\n2023年4月，北海公园入选第二批国家级文明旅游示范单位公示名单。 [37]\\n- 中文名\\n- 北海公园\\n- 外文名\\n- Beihai Park\\n- 地理位置\\n- 北京市西城区文津街1号\\n- 气候条件\\n- 温带季风气候\\n- 开放时间\\n- 4月1日-10月31日 06:00-21:00；11月1日-次年3月31日 06:30-20:00 [1]\\n- 景点级别\\n- AAAA级\\n- 门票价格\\n- 旺季10元，淡季5元\\n- 占地面积\\n- 682000 m²（其中水面积38.9万平方米，陆地面积29.3万平方米）\\n- 著名景点\\n- 琼华岛、永安寺、北海白塔\\n北海公园原为辽燕京城东北一片湖泊，名金海。中有小岛名瑶屿，辽在此建“瑶屿行宫”。金大定三年至十九年（1163年—1179年），金世宗仿照北宋汴梁（今河南开封）艮岳园，建琼华岛，并从“艮岳”御苑运来大量太湖石砌成假山岩洞，在中都的东北郊以瑶屿（即北海）为中心，修建大宁离宫（亦称太宁宫）。 [4]从那时起，北海就基本形成了今天皇家宫苑格局。当时把挖“金海”的土扩充成岛屿和环海的小山，岛称“琼华岛”，水称“西华潭”，并重修“广寒殿”等建筑。 [5]\\n元至元元年到至元八年（1264—1271年），三次扩建琼华岛，重建广寒殿。广寒殿东西宽120尺，深62尺，高50尺，殿广7间，作为帝王朝会之处。殿中放置“渎山大玉海”（今北海团城内的大玉瓮），建“玉殿”放“五山珍玉榻”（今在台北），并建有一座玉制假山，殿顶悬挂玉制响铁，殿内另有两个小石笋各有龙头，喷吐着从山后用水车提上来的湖水。至元八年（1271年），琼华岛改称“万寿山”（又称“万岁山”）。以琼华岛为中心，又在湖的东西两岸营建宫殿，将北海建成一个颇有气派的皇家御园。', mimetype='text/plain', start_char_idx=0, end_char_idx=936, text_template='{metadata_str}\\n\\n{content}', metadata_template='{key}: {value}', metadata_seperator='\\n')"
      ]
     },
     "execution_count": 9,
     "metadata": {},
     "output_type": "execute_result"
    }
   ],
   "source": [
    "nodes[0]"
   ]
  },
  {
   "cell_type": "code",
   "execution_count": 12,
   "id": "5a423a52-fe9f-4f56-a9b1-7e08f305d99c",
   "metadata": {},
   "outputs": [
    {
     "name": "stdout",
     "output_type": "stream",
     "text": [
      "CPU times: user 7.24 ms, sys: 0 ns, total: 7.24 ms\n",
      "Wall time: 6.84 ms\n"
     ]
    }
   ],
   "source": [
    "%%time\n",
    "\n",
    "summary_index = SummaryIndex(nodes)"
   ]
  },
  {
   "cell_type": "code",
   "execution_count": 13,
   "id": "c05bb241-a5fb-4e05-8896-91a13b27d50f",
   "metadata": {},
   "outputs": [
    {
     "name": "stdout",
     "output_type": "stream",
     "text": [
      "CPU times: user 38 µs, sys: 7 µs, total: 45 µs\n",
      "Wall time: 46.3 µs\n"
     ]
    }
   ],
   "source": [
    "%%time\n",
    "\n",
    "# 创建索引器\n",
    "\n",
    "summary_retriever = summary_index.as_retriever()"
   ]
  },
  {
   "cell_type": "code",
   "execution_count": null,
   "id": "0580cd86-23ba-4bb5-9149-d0671dc6faf6",
   "metadata": {},
   "outputs": [],
   "source": []
  }
 ],
 "metadata": {
  "kernelspec": {
   "display_name": "Python 3 (ipykernel)",
   "language": "python",
   "name": "python3"
  },
  "language_info": {
   "codemirror_mode": {
    "name": "ipython",
    "version": 3
   },
   "file_extension": ".py",
   "mimetype": "text/x-python",
   "name": "python",
   "nbconvert_exporter": "python",
   "pygments_lexer": "ipython3",
   "version": "3.10.12"
  }
 },
 "nbformat": 4,
 "nbformat_minor": 5
}
