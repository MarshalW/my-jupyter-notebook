{
 "cells": [
  {
   "cell_type": "markdown",
   "id": "5b6d515c-5d26-43b2-87b7-084acfa37839",
   "metadata": {},
   "source": [
    "# TruLens 和 Ollama"
   ]
  },
  {
   "cell_type": "markdown",
   "id": "4a22af04-c1fe-4205-a6a8-2283fd02b3a9",
   "metadata": {},
   "source": [
    "https://github.com/truera/trulens/blob/main/trulens_eval/examples/expositional/models/ollama_quickstart.ipynb"
   ]
  },
  {
   "cell_type": "code",
   "execution_count": 1,
   "id": "dbe761c7-10be-4a4c-a26e-534b66cf0eca",
   "metadata": {},
   "outputs": [
    {
     "name": "stdout",
     "output_type": "stream",
     "text": [
      "CPU times: user 15.7 ms, sys: 607 µs, total: 16.3 ms\n",
      "Wall time: 2.24 s\n"
     ]
    }
   ],
   "source": [
    "%%time\n",
    "%%capture\n",
    "\n",
    "! pip install trulens_eval==0.33.0 litellm==1.11.1 langchain==0.0.351"
   ]
  },
  {
   "cell_type": "code",
   "execution_count": 2,
   "id": "1eea739c-9aaa-468a-8eb4-6a04d5274576",
   "metadata": {},
   "outputs": [
    {
     "name": "stdout",
     "output_type": "stream",
     "text": [
      "🦑 Tru initialized with db url sqlite:///default.sqlite .\n",
      "🛑 Secret keys may be written to the database. See the `database_redact_keys` option of `Tru` to prevent this.\n",
      "CPU times: user 6.39 s, sys: 571 ms, total: 6.96 s\n",
      "Wall time: 6.62 s\n"
     ]
    }
   ],
   "source": [
    "%%time\n",
    "\n",
    "# Imports main tools:\n",
    "from trulens_eval import Feedback\n",
    "from trulens_eval import Tru\n",
    "from trulens_eval import TruChain\n",
    "\n",
    "tru = Tru()\n",
    "tru.reset_database()\n",
    "\n",
    "\n",
    "# Imports from langchain to build app. You may need to install langchain first\n",
    "# with the following:\n",
    "# ! pip install langchain>=0.0.170\n",
    "from langchain.chains import LLMChain\n",
    "from langchain.prompts import PromptTemplate\n",
    "from langchain.prompts.chat import ChatPromptTemplate\n",
    "from langchain.prompts.chat import HumanMessagePromptTemplate"
   ]
  },
  {
   "cell_type": "code",
   "execution_count": 3,
   "id": "b20e6900-ba1d-4686-8c18-f93a3391efb9",
   "metadata": {},
   "outputs": [
    {
     "name": "stderr",
     "output_type": "stream",
     "text": [
      "/usr/local/lib/python3.10/dist-packages/langchain_core/_api/deprecation.py:119: LangChainDeprecationWarning: The method `BaseLLM.__call__` was deprecated in langchain-core 0.1.7 and will be removed in 0.3.0. Use invoke instead.\n",
      "  warn_deprecated(\n"
     ]
    },
    {
     "name": "stdout",
     "output_type": "stream",
     "text": [
      "The sky appears blue due to a process called Rayleigh scattering. Sunlight consists of many colors, each one having its own wavelength (length) and frequency.\n",
      "\n",
      "When sunlight reaches Earth's atmosphere from the sun, it encounters tiny gas molecules like nitrogen and oxygen, as well as dust particles and other small bits in the air. Light is composed of photons that can be thought of as miniature energy packets. When these light packets encounter a gas molecule or another particle in the air, they bump into it.\n",
      "\n",
      "Rayleigh scattering occurs when shorter wavelength (higher frequency) colors like blue and violet are scattered more than longer wavelengths (lower frequencies) like red, orange, and yellow. This is because shorter wavelengths interact with particles in the air over smaller distances compared to longer wavelengths. In other words, a photon of light can be deflected by bumping into these particles if they are roughly the same size as the wavelength of the light.\n",
      "\n",
      "In our atmosphere, where sunlight has traveled through about one Earth radius's worth of gas molecules before reaching us, blue and violet photons get scattered much more than red and yellow ones. Since most of the visible sky is filled with this scattered light, we perceive it to be blue.\n",
      "\n",
      "It's important to note that the sun itself appears yellow when observed directly from Earth because our atmosphere also absorbs some of the blue wavelength light on its way down towards us. This effect is why the sun looks red during sunrise or sunset when its light travels through more of Earth's atmosphere than at midday, and the shorter wavelengths are scattered out.\n",
      "\n",
      "So in summary, the sky appears blue because shorter wavelength colors like blue scatter off our atmosphere more efficiently than longer wavelengths, making them seem more prevalent to our eyes.\n"
     ]
    }
   ],
   "source": [
    "from langchain.llms import Ollama\n",
    "\n",
    "ollama = Ollama(base_url=\"http://monkey:11434\", model=\"qwen2\")\n",
    "print(ollama(\"why is the sky blue\"))"
   ]
  },
  {
   "cell_type": "code",
   "execution_count": 4,
   "id": "1bdc85d8-6b30-4bc0-8717-4a0adacc9022",
   "metadata": {},
   "outputs": [
    {
     "name": "stdout",
     "output_type": "stream",
     "text": [
      "CPU times: user 145 µs, sys: 13 µs, total: 158 µs\n",
      "Wall time: 160 µs\n"
     ]
    }
   ],
   "source": [
    "%%time\n",
    "\n",
    "full_prompt = HumanMessagePromptTemplate(\n",
    "    prompt=PromptTemplate(\n",
    "        template=\"Provide a helpful response with relevant background information for the following: {prompt}\",\n",
    "        input_variables=[\"prompt\"],\n",
    "    )\n",
    ")\n",
    "\n",
    "chat_prompt_template = ChatPromptTemplate.from_messages([full_prompt])\n",
    "\n",
    "chain = LLMChain(llm=ollama, prompt=chat_prompt_template, verbose=True)"
   ]
  },
  {
   "cell_type": "code",
   "execution_count": 5,
   "id": "75ba075e-e716-469c-96ec-d1a46500e070",
   "metadata": {},
   "outputs": [
    {
     "name": "stdout",
     "output_type": "stream",
     "text": [
      "\n",
      "\n",
      "\u001b[1m> Entering new LLMChain chain...\u001b[0m\n",
      "Prompt after formatting:\n",
      "\u001b[32;1m\u001b[1;3mHuman: Provide a helpful response with relevant background information for the following: What is a good name for a store that sells colorful socks?\u001b[0m\n"
     ]
    },
    {
     "name": "stderr",
     "output_type": "stream",
     "text": [
      "/usr/local/lib/python3.10/dist-packages/langchain_core/_api/deprecation.py:119: LangChainDeprecationWarning: The method `Chain.__call__` was deprecated in langchain 0.1.0 and will be removed in 0.2.0. Use invoke instead.\n",
      "  warn_deprecated(\n"
     ]
    },
    {
     "name": "stdout",
     "output_type": "stream",
     "text": [
      "\n",
      "\u001b[1m> Finished chain.\u001b[0m\n"
     ]
    },
    {
     "data": {
      "text/plain": [
       "{'prompt': 'What is a good name for a store that sells colorful socks?',\n",
       " 'text': 'When naming a store that specializes in selling colorful socks, it\\'s essential to choose a name that not only captures the essence of vibrant and playful aesthetics but also resonates with your target audience. Here are some creative name suggestions along with explanations on their meaning:\\n\\n1. **Socktacular** - This name combines \"sock\" with \"tacular,\" suggesting something exciting or exceptional, implying that each pair sold is top-quality, colorful, and fun.\\n\\n2. **ColorPop Socks** - This name highlights the primary feature of your store: colorful socks. The word \\'pop\\' implies a burst of color, which is perfect for attracting attention to items in this category.\\n\\n3. **VividStep** - Combining \"vivid\" (indicating brightness and vibrancy) with \"step,\" this name suggests that each step you take wearing their socks can be an expression of personal style.\\n\\n4. **SockScape** - This name plays on the idea of a diverse landscape filled with colors, offering a metaphorical representation of your store\\'s variety of colorful socks as a vibrant world in itself.\\n\\n5. **BrightThreads** - \"Bright\" suggests colorfulness and energy, while \"threads\" alludes to clothing or garments. It could appeal to those who see their socks not just as functional but also as an accessory that adds personality and flair to their outfits.\\n\\n6. **SockPunch** - A playful name suggesting a \\'punch\\' of color that can instantly brighten someone\\'s mood, it targets consumers looking for fun and cheerful items in their wardrobe.\\n\\n7. **ColorCraze Socks** - This name emphasizes the excitement around colorful socks, appealing to customers who appreciate bold fashion statements.\\n\\n8. **SockTastic** - A straightforward name that conveys an enjoyable shopping experience with a wide selection of vibrant socks.\\n\\n9. **SparkleStep Socks** - Combining \"sparkle\" (indicating brightness and joy) with \"step\" suggests that wearing these socks can make every step sparkle, adding fun to daily activities.\\n\\n10. **SockCandy** - This name uses candy as a metaphor for something sweet, sugary, and delightful, appealing to the idea of colorful socks being a sweet addition to one\\'s wardrobe.\\n\\nWhen choosing a name, consider your brand\\'s unique selling proposition (USP), target audience, and the overall vibe you want to convey. Additionally, ensure that the name is not already trademarked in your market or region, as this can prevent legal issues down the line.'}"
      ]
     },
     "metadata": {},
     "output_type": "display_data"
    },
    {
     "name": "stdout",
     "output_type": "stream",
     "text": [
      "CPU times: user 47 ms, sys: 16.6 ms, total: 63.6 ms\n",
      "Wall time: 9.82 s\n"
     ]
    }
   ],
   "source": [
    "%%time\n",
    "\n",
    "prompt_input = \"What is a good name for a store that sells colorful socks?\"\n",
    "\n",
    "llm_response = chain(prompt_input)\n",
    "\n",
    "display(llm_response)"
   ]
  },
  {
   "cell_type": "code",
   "execution_count": 6,
   "id": "17ff6bba-3ead-4909-adde-faa63b4c7cb2",
   "metadata": {},
   "outputs": [
    {
     "name": "stdout",
     "output_type": "stream",
     "text": [
      "✅ In relevance_with_cot_reasons, input prompt will be set to __record__.main_input or `Select.RecordInput` .\n",
      "✅ In relevance_with_cot_reasons, input response will be set to __record__.main_output or `Select.RecordOutput` .\n"
     ]
    }
   ],
   "source": [
    "# Initialize LiteLLM-based feedback function collection class:\n",
    "import litellm\n",
    "\n",
    "from trulens_eval.feedback.provider import LiteLLM\n",
    "\n",
    "litellm.set_verbose = False\n",
    "\n",
    "ollama_provider = LiteLLM(\n",
    "    model_engine=\"ollama/qwen2\", \n",
    "    api_base=\"http://monkey:11434\"\n",
    ")\n",
    "\n",
    "# Define a relevance function using LiteLLM\n",
    "relevance = Feedback(\n",
    "    ollama_provider.relevance_with_cot_reasons\n",
    ").on_input_output()\n",
    "# By default this will check relevance on the main app input and main app\n",
    "# output."
   ]
  },
  {
   "cell_type": "code",
   "execution_count": 7,
   "id": "55d19be5-9c09-4981-8865-2f8f7add41a7",
   "metadata": {},
   "outputs": [
    {
     "name": "stdout",
     "output_type": "stream",
     "text": [
      "\n",
      "\u001b[1;31mGive Feedback / Get Help: https://github.com/BerriAI/litellm/issues/new\u001b[0m\n",
      "LiteLLM.Info: If you need to debug this error, use `litellm.set_verbose=True'.\n",
      "\n",
      "\n",
      "\u001b[1;31mProvider List: https://docs.litellm.ai/docs/providers\u001b[0m\n",
      "\n",
      "\n",
      "\u001b[1;31mGive Feedback / Get Help: https://github.com/BerriAI/litellm/issues/new\u001b[0m\n",
      "LiteLLM.Info: If you need to debug this error, use `litellm.set_verbose=True'.\n",
      "\n",
      "\n",
      "\u001b[1;31mProvider List: https://docs.litellm.ai/docs/providers\u001b[0m\n",
      "\n",
      "\n",
      "\u001b[1;31mGive Feedback / Get Help: https://github.com/BerriAI/litellm/issues/new\u001b[0m\n",
      "LiteLLM.Info: If you need to debug this error, use `litellm.set_verbose=True'.\n",
      "\n",
      "\n",
      "\u001b[1;31mProvider List: https://docs.litellm.ai/docs/providers\u001b[0m\n",
      "\n",
      "\n",
      "\u001b[1;31mGive Feedback / Get Help: https://github.com/BerriAI/litellm/issues/new\u001b[0m\n",
      "LiteLLM.Info: If you need to debug this error, use `litellm.set_verbose=True'.\n",
      "\n",
      "\n",
      "\u001b[1;31mProvider List: https://docs.litellm.ai/docs/providers\u001b[0m\n",
      "\n"
     ]
    },
    {
     "ename": "RuntimeError",
     "evalue": "Endpoint litellm request failed 4 time(s): \n\tlitellm.ServiceUnavailableError: OllamaException: HTTPConnectionPool(host='localhost', port=11434): Max retries exceeded with url: /api/generate (Caused by NewConnectionError('<urllib3.connection.HTTPConnection object at 0x7fc0d6498940>: Failed to establish a new connection: [Errno 111] Connection refused'))\n\tlitellm.ServiceUnavailableError: OllamaException: HTTPConnectionPool(host='localhost', port=11434): Max retries exceeded with url: /api/generate (Caused by NewConnectionError('<urllib3.connection.HTTPConnection object at 0x7fc0d64a1060>: Failed to establish a new connection: [Errno 111] Connection refused'))\n\tlitellm.ServiceUnavailableError: OllamaException: HTTPConnectionPool(host='localhost', port=11434): Max retries exceeded with url: /api/generate (Caused by NewConnectionError('<urllib3.connection.HTTPConnection object at 0x7fc017d6d540>: Failed to establish a new connection: [Errno 111] Connection refused'))\n\tlitellm.ServiceUnavailableError: OllamaException: HTTPConnectionPool(host='localhost', port=11434): Max retries exceeded with url: /api/generate (Caused by NewConnectionError('<urllib3.connection.HTTPConnection object at 0x7fc017d6e1a0>: Failed to establish a new connection: [Errno 111] Connection refused'))",
     "output_type": "error",
     "traceback": [
      "\u001b[0;31m---------------------------------------------------------------------------\u001b[0m",
      "\u001b[0;31mRuntimeError\u001b[0m                              Traceback (most recent call last)",
      "Cell \u001b[0;32mIn[7], line 1\u001b[0m\n\u001b[0;32m----> 1\u001b[0m \u001b[43mollama_provider\u001b[49m\u001b[38;5;241;43m.\u001b[39;49m\u001b[43mrelevance_with_cot_reasons\u001b[49m\u001b[43m(\u001b[49m\n\u001b[1;32m      2\u001b[0m \u001b[43m    \u001b[49m\u001b[38;5;124;43m\"\u001b[39;49m\u001b[38;5;124;43mWhat is a good name for a store that sells colorful socks?\u001b[39;49m\u001b[38;5;124;43m\"\u001b[39;49m\u001b[43m,\u001b[49m\n\u001b[1;32m      3\u001b[0m \u001b[43m    \u001b[49m\u001b[38;5;124;43m\"\u001b[39;49m\u001b[38;5;124;43mGreat question! Naming a store that sells colorful socks can be a fun and creative process. Here are some suggestions to consider: SoleMates: This name plays on the idea of socks being your soul mate or partner in crime for the day. It is catchy and easy to remember, and it conveys the idea that the store offers a wide variety of sock styles and colors.\u001b[39;49m\u001b[38;5;124;43m\"\u001b[39;49m\u001b[43m,\u001b[49m\n\u001b[1;32m      4\u001b[0m \u001b[43m)\u001b[49m\n",
      "File \u001b[0;32m/usr/local/lib/python3.10/dist-packages/trulens_eval/feedback/provider/base.py:436\u001b[0m, in \u001b[0;36mLLMProvider.relevance_with_cot_reasons\u001b[0;34m(self, prompt, response)\u001b[0m\n\u001b[1;32m    430\u001b[0m user_prompt \u001b[38;5;241m=\u001b[39m \u001b[38;5;28mstr\u001b[39m\u001b[38;5;241m.\u001b[39mformat(\n\u001b[1;32m    431\u001b[0m     prompts\u001b[38;5;241m.\u001b[39mANSWER_RELEVANCE_USER, prompt\u001b[38;5;241m=\u001b[39mprompt, response\u001b[38;5;241m=\u001b[39mresponse\n\u001b[1;32m    432\u001b[0m )\n\u001b[1;32m    433\u001b[0m user_prompt \u001b[38;5;241m=\u001b[39m user_prompt\u001b[38;5;241m.\u001b[39mreplace(\n\u001b[1;32m    434\u001b[0m     \u001b[38;5;124m\"\u001b[39m\u001b[38;5;124mRELEVANCE:\u001b[39m\u001b[38;5;124m\"\u001b[39m, prompts\u001b[38;5;241m.\u001b[39mCOT_REASONS_TEMPLATE\n\u001b[1;32m    435\u001b[0m )\n\u001b[0;32m--> 436\u001b[0m \u001b[38;5;28;01mreturn\u001b[39;00m \u001b[38;5;28;43mself\u001b[39;49m\u001b[38;5;241;43m.\u001b[39;49m\u001b[43mgenerate_score_and_reasons\u001b[49m\u001b[43m(\u001b[49m\u001b[43msystem_prompt\u001b[49m\u001b[43m,\u001b[49m\u001b[43m \u001b[49m\u001b[43muser_prompt\u001b[49m\u001b[43m)\u001b[49m\n",
      "File \u001b[0;32m/usr/local/lib/python3.10/dist-packages/trulens_eval/feedback/provider/base.py:198\u001b[0m, in \u001b[0;36mLLMProvider.generate_score_and_reasons\u001b[0;34m(self, system_prompt, user_prompt, normalize, temperature)\u001b[0m\n\u001b[1;32m    196\u001b[0m \u001b[38;5;28;01mif\u001b[39;00m user_prompt \u001b[38;5;129;01mis\u001b[39;00m \u001b[38;5;129;01mnot\u001b[39;00m \u001b[38;5;28;01mNone\u001b[39;00m:\n\u001b[1;32m    197\u001b[0m     llm_messages\u001b[38;5;241m.\u001b[39mappend({\u001b[38;5;124m\"\u001b[39m\u001b[38;5;124mrole\u001b[39m\u001b[38;5;124m\"\u001b[39m: \u001b[38;5;124m\"\u001b[39m\u001b[38;5;124muser\u001b[39m\u001b[38;5;124m\"\u001b[39m, \u001b[38;5;124m\"\u001b[39m\u001b[38;5;124mcontent\u001b[39m\u001b[38;5;124m\"\u001b[39m: user_prompt})\n\u001b[0;32m--> 198\u001b[0m response \u001b[38;5;241m=\u001b[39m \u001b[38;5;28;43mself\u001b[39;49m\u001b[38;5;241;43m.\u001b[39;49m\u001b[43mendpoint\u001b[49m\u001b[38;5;241;43m.\u001b[39;49m\u001b[43mrun_in_pace\u001b[49m\u001b[43m(\u001b[49m\n\u001b[1;32m    199\u001b[0m \u001b[43m    \u001b[49m\u001b[43mfunc\u001b[49m\u001b[38;5;241;43m=\u001b[39;49m\u001b[38;5;28;43mself\u001b[39;49m\u001b[38;5;241;43m.\u001b[39;49m\u001b[43m_create_chat_completion\u001b[49m\u001b[43m,\u001b[49m\n\u001b[1;32m    200\u001b[0m \u001b[43m    \u001b[49m\u001b[43mmessages\u001b[49m\u001b[38;5;241;43m=\u001b[39;49m\u001b[43mllm_messages\u001b[49m\u001b[43m,\u001b[49m\n\u001b[1;32m    201\u001b[0m \u001b[43m    \u001b[49m\u001b[43mtemperature\u001b[49m\u001b[38;5;241;43m=\u001b[39;49m\u001b[43mtemperature\u001b[49m\n\u001b[1;32m    202\u001b[0m \u001b[43m\u001b[49m\u001b[43m)\u001b[49m\n\u001b[1;32m    203\u001b[0m \u001b[38;5;28;01mif\u001b[39;00m \u001b[38;5;124m\"\u001b[39m\u001b[38;5;124mSupporting Evidence\u001b[39m\u001b[38;5;124m\"\u001b[39m \u001b[38;5;129;01min\u001b[39;00m response:\n\u001b[1;32m    204\u001b[0m     score \u001b[38;5;241m=\u001b[39m \u001b[38;5;241m-\u001b[39m\u001b[38;5;241m1\u001b[39m\n",
      "File \u001b[0;32m/usr/local/lib/python3.10/dist-packages/trulens_eval/feedback/provider/endpoint/base.py:313\u001b[0m, in \u001b[0;36mEndpoint.run_in_pace\u001b[0;34m(self, func, *args, **kwargs)\u001b[0m\n\u001b[1;32m    310\u001b[0m             sleep(retry_delay)\n\u001b[1;32m    311\u001b[0m             retry_delay \u001b[38;5;241m*\u001b[39m\u001b[38;5;241m=\u001b[39m \u001b[38;5;241m2\u001b[39m\n\u001b[0;32m--> 313\u001b[0m \u001b[38;5;28;01mraise\u001b[39;00m \u001b[38;5;167;01mRuntimeError\u001b[39;00m(\n\u001b[1;32m    314\u001b[0m     \u001b[38;5;124mf\u001b[39m\u001b[38;5;124m\"\u001b[39m\u001b[38;5;124mEndpoint \u001b[39m\u001b[38;5;132;01m{\u001b[39;00m\u001b[38;5;28mself\u001b[39m\u001b[38;5;241m.\u001b[39mname\u001b[38;5;132;01m}\u001b[39;00m\u001b[38;5;124m request failed \u001b[39m\u001b[38;5;132;01m{\u001b[39;00m\u001b[38;5;28mself\u001b[39m\u001b[38;5;241m.\u001b[39mretries\u001b[38;5;241m+\u001b[39m\u001b[38;5;241m1\u001b[39m\u001b[38;5;132;01m}\u001b[39;00m\u001b[38;5;124m time(s): \u001b[39m\u001b[38;5;130;01m\\n\u001b[39;00m\u001b[38;5;130;01m\\t\u001b[39;00m\u001b[38;5;124m\"\u001b[39m\n\u001b[1;32m    315\u001b[0m     \u001b[38;5;241m+\u001b[39m (\u001b[38;5;124m\"\u001b[39m\u001b[38;5;130;01m\\n\u001b[39;00m\u001b[38;5;130;01m\\t\u001b[39;00m\u001b[38;5;124m\"\u001b[39m\u001b[38;5;241m.\u001b[39mjoin(\u001b[38;5;28mmap\u001b[39m(\u001b[38;5;28mstr\u001b[39m, errors)))\n\u001b[1;32m    316\u001b[0m )\n",
      "\u001b[0;31mRuntimeError\u001b[0m: Endpoint litellm request failed 4 time(s): \n\tlitellm.ServiceUnavailableError: OllamaException: HTTPConnectionPool(host='localhost', port=11434): Max retries exceeded with url: /api/generate (Caused by NewConnectionError('<urllib3.connection.HTTPConnection object at 0x7fc0d6498940>: Failed to establish a new connection: [Errno 111] Connection refused'))\n\tlitellm.ServiceUnavailableError: OllamaException: HTTPConnectionPool(host='localhost', port=11434): Max retries exceeded with url: /api/generate (Caused by NewConnectionError('<urllib3.connection.HTTPConnection object at 0x7fc0d64a1060>: Failed to establish a new connection: [Errno 111] Connection refused'))\n\tlitellm.ServiceUnavailableError: OllamaException: HTTPConnectionPool(host='localhost', port=11434): Max retries exceeded with url: /api/generate (Caused by NewConnectionError('<urllib3.connection.HTTPConnection object at 0x7fc017d6d540>: Failed to establish a new connection: [Errno 111] Connection refused'))\n\tlitellm.ServiceUnavailableError: OllamaException: HTTPConnectionPool(host='localhost', port=11434): Max retries exceeded with url: /api/generate (Caused by NewConnectionError('<urllib3.connection.HTTPConnection object at 0x7fc017d6e1a0>: Failed to establish a new connection: [Errno 111] Connection refused'))"
     ]
    }
   ],
   "source": [
    "ollama_provider.relevance_with_cot_reasons(\n",
    "    \"What is a good name for a store that sells colorful socks?\",\n",
    "    \"Great question! Naming a store that sells colorful socks can be a fun and creative process. Here are some suggestions to consider: SoleMates: This name plays on the idea of socks being your soul mate or partner in crime for the day. It is catchy and easy to remember, and it conveys the idea that the store offers a wide variety of sock styles and colors.\",\n",
    ")"
   ]
  },
  {
   "cell_type": "code",
   "execution_count": null,
   "id": "ba584a36-c0e0-44ff-96e5-4ba6ac866262",
   "metadata": {},
   "outputs": [],
   "source": []
  }
 ],
 "metadata": {
  "kernelspec": {
   "display_name": "Python 3 (ipykernel)",
   "language": "python",
   "name": "python3"
  },
  "language_info": {
   "codemirror_mode": {
    "name": "ipython",
    "version": 3
   },
   "file_extension": ".py",
   "mimetype": "text/x-python",
   "name": "python",
   "nbconvert_exporter": "python",
   "pygments_lexer": "ipython3",
   "version": "3.10.12"
  }
 },
 "nbformat": 4,
 "nbformat_minor": 5
}
