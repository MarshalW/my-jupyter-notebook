{
 "cells": [
  {
   "cell_type": "markdown",
   "id": "304b771f-91bf-45b1-b5da-f4ac8321df10",
   "metadata": {},
   "source": [
    "# ollama 长上下文测试"
   ]
  },
  {
   "cell_type": "code",
   "execution_count": 1,
   "id": "ab5b7283-fbae-4e57-a21b-f4340b5a27e5",
   "metadata": {},
   "outputs": [
    {
     "name": "stdout",
     "output_type": "stream",
     "text": [
      "CPU times: user 376 ms, sys: 32.4 ms, total: 409 ms\n",
      "Wall time: 546 ms\n"
     ]
    }
   ],
   "source": [
    "%%time\n",
    "\n",
    "from openai import OpenAI\n",
    "\n",
    "client = OpenAI(\n",
    "    base_url = 'http://192.168.0.72:11434/v1',\n",
    "    api_key='ollama', # required, but unused\n",
    ")"
   ]
  },
  {
   "cell_type": "code",
   "execution_count": 2,
   "id": "3f9cf576-4777-4c4f-9dd0-8d40f6ef6472",
   "metadata": {},
   "outputs": [
    {
     "name": "stdout",
     "output_type": "stream",
     "text": [
      "我是通义千问，由阿里云开发的人工智能助手。我可以回答各种问题、提供信息和进行对话。有什么我可以帮助你的吗？CPU times: user 49.4 ms, sys: 271 µs, total: 49.7 ms\n",
      "Wall time: 15.8 s\n"
     ]
    }
   ],
   "source": [
    "%%time\n",
    "\n",
    "stream = client.chat.completions.create(\n",
    "  model=\"qwen-14b-4k\",\n",
    "  messages=[\n",
    "    # {\"role\": \"system\", \"content\": \"你是一个概括内容和提炼主要内容的助手。\"},\n",
    "    {\"role\": \"user\", \"content\": \"你是谁？\"}\n",
    "  ],\n",
    "  stream=True,\n",
    ")\n",
    "\n",
    "for chunk in stream:\n",
    "    print(chunk.choices[0].delta.content or \"\", end=\"\")\n",
    "\n",
    "# 回答卡顿明显"
   ]
  },
  {
   "cell_type": "code",
   "execution_count": 3,
   "id": "63e1b173-c123-4217-9afa-6c99b1ebfc0f",
   "metadata": {},
   "outputs": [
    {
     "name": "stdout",
     "output_type": "stream",
     "text": [
      "CPU times: user 391 µs, sys: 0 ns, total: 391 µs\n",
      "Wall time: 415 µs\n"
     ]
    },
    {
     "data": {
      "text/plain": [
       "1384"
      ]
     },
     "execution_count": 3,
     "metadata": {},
     "output_type": "execute_result"
    }
   ],
   "source": [
    "%%time\n",
    "\n",
    "file_path = './content.txt'\n",
    "\n",
    "# Read the content of the file and store it in a string variable\n",
    "with open(file_path, 'r', encoding='utf-8') as file:\n",
    "    content = file.read()\n",
    "\n",
    "len(content)"
   ]
  },
  {
   "cell_type": "code",
   "execution_count": null,
   "id": "6eb54b73-b5eb-4968-aa81-133d12b7510b",
   "metadata": {},
   "outputs": [],
   "source": [
    "%%time\n",
    "\n",
    "stream = client.chat.completions.create(\n",
    "  model=\"qwen-14b-4k\",\n",
    "  max_tokens=5000,\n",
    "  messages=[\n",
    "    {\"role\": \"system\", \"content\": \"你是一个概括内容和提炼主要内容的助手。\"},\n",
    "    {\"role\": \"user\", \"content\": f\"文章内容：{content}\\n\\n主要讲了啥，详细归纳一下，形成要点列表。\"}\n",
    "  ],\n",
    "  stream=True,\n",
    ")\n",
    "\n",
    "for chunk in stream:\n",
    "    print(chunk.choices[0].delta.content or \"\", end=\"\")\n",
    "\n",
    "# 将出现乱码，可能是受到显存影响"
   ]
  },
  {
   "cell_type": "code",
   "execution_count": null,
   "id": "8dd12842-d31a-4197-a1d2-b2e7a729ed09",
   "metadata": {},
   "outputs": [],
   "source": []
  }
 ],
 "metadata": {
  "kernelspec": {
   "display_name": "Python 3 (ipykernel)",
   "language": "python",
   "name": "python3"
  },
  "language_info": {
   "codemirror_mode": {
    "name": "ipython",
    "version": 3
   },
   "file_extension": ".py",
   "mimetype": "text/x-python",
   "name": "python",
   "nbconvert_exporter": "python",
   "pygments_lexer": "ipython3",
   "version": "3.10.12"
  }
 },
 "nbformat": 4,
 "nbformat_minor": 5
}
