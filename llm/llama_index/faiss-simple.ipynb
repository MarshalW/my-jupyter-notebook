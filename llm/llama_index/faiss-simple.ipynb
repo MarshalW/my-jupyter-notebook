{
 "cells": [
  {
   "cell_type": "markdown",
   "id": "2a4f840e-622b-4394-94c7-2ba3fea60741",
   "metadata": {
    "editable": true,
    "slideshow": {
     "slide_type": ""
    },
    "tags": []
   },
   "source": [
    "# faiss基于llamaindex的嵌入"
   ]
  },
  {
   "cell_type": "markdown",
   "id": "dfc49582-daaa-46bd-b703-5b2e6e0225c9",
   "metadata": {},
   "source": [
    "为了total-llm项目的文件问答做技术验证"
   ]
  },
  {
   "cell_type": "markdown",
   "id": "97e24be6-2260-4f85-a9fa-12c5c911db28",
   "metadata": {},
   "source": [
    "## 准备"
   ]
  },
  {
   "cell_type": "code",
   "execution_count": 1,
   "id": "634ee621-c6c4-4d1d-b491-b3e6cff04081",
   "metadata": {},
   "outputs": [
    {
     "name": "stdout",
     "output_type": "stream",
     "text": [
      "CPU times: user 38.8 ms, sys: 21.3 ms, total: 60 ms\n",
      "Wall time: 14.9 s\n"
     ]
    }
   ],
   "source": [
    "%%time\n",
    "%%capture\n",
    "\n",
    "!pip install llama_index.core\n",
    "!pip install llama-index-llms-openai-like\n",
    "!pip install llama-index-embeddings-ollama\n",
    "!pip install llama-index-vector-stores-faiss\n",
    "!pip install faiss-gpu"
   ]
  },
  {
   "cell_type": "code",
   "execution_count": 2,
   "id": "eeca1e50-9de8-4673-9c8c-e286960da956",
   "metadata": {},
   "outputs": [
    {
     "name": "stdout",
     "output_type": "stream",
     "text": [
      "CPU times: user 2.69 s, sys: 470 ms, total: 3.16 s\n",
      "Wall time: 3.62 s\n"
     ]
    }
   ],
   "source": [
    "%%time\n",
    "\n",
    "import logging\n",
    "import sys\n",
    "\n",
    "from llama_index.core import VectorStoreIndex, Document, Settings\n",
    "from llama_index.core import StorageContext\n",
    "from IPython.display import Markdown, display\n",
    "from llama_index.embeddings.ollama import OllamaEmbedding\n",
    "\n",
    "from llama_index.llms.openai_like import OpenAILike"
   ]
  },
  {
   "cell_type": "code",
   "execution_count": 3,
   "id": "db66d44b-b98d-4508-91ba-01e12c4f0600",
   "metadata": {},
   "outputs": [
    {
     "data": {
      "text/plain": [
       "_Settings(_llm=None, _embed_model=None, _callback_manager=None, _tokenizer=None, _node_parser=SentenceSplitter(include_metadata=True, include_prev_next_rel=True, callback_manager=<llama_index.core.callbacks.base.CallbackManager object at 0x7f133ae43550>, id_func=<function default_id_func at 0x7f13f93709d0>, chunk_size=128, chunk_overlap=10, separator=' ', paragraph_separator='\\n\\n\\n', secondary_chunking_regex='[^,.;。？！]+[,.;。？！]?'), _prompt_helper=None, _transformations=None)"
      ]
     },
     "execution_count": 3,
     "metadata": {},
     "output_type": "execute_result"
    }
   ],
   "source": [
    "Settings.chunk_size=128\n",
    "Settings.chunk_overlap=10\n",
    "\n",
    "Settings"
   ]
  },
  {
   "cell_type": "code",
   "execution_count": 4,
   "id": "4b5bde22-64a7-48c0-88bb-84f16d168c13",
   "metadata": {},
   "outputs": [
    {
     "name": "stdout",
     "output_type": "stream",
     "text": [
      "CPU times: user 124 ms, sys: 1.05 ms, total: 125 ms\n",
      "Wall time: 147 ms\n"
     ]
    }
   ],
   "source": [
    "%%time\n",
    "\n",
    "llm = OpenAILike(model=\"qwen:14b\", \n",
    "                 api_base=\"http://192.168.0.72:3000/v1\", \n",
    "                 api_key=\"sk-bJP6QSnUfjAYeYeE505d3eBf63A643BeB0B8E350Df9b7750\",\n",
    "                 is_chat_model=True,\n",
    "                 temperature=0.1\n",
    "                )\n",
    "\n",
    "Settings.llm =llm"
   ]
  },
  {
   "cell_type": "code",
   "execution_count": 5,
   "id": "b9340b2f-8c55-41f1-9d2b-bc2b64e08548",
   "metadata": {},
   "outputs": [
    {
     "name": "stdout",
     "output_type": "stream",
     "text": [
      "CPU times: user 436 ms, sys: 33.9 ms, total: 470 ms\n",
      "Wall time: 562 ms\n"
     ]
    }
   ],
   "source": [
    "%%time\n",
    "\n",
    "# 初始化全局 embedding 模型\n",
    "from llama_index.embeddings.ollama import OllamaEmbedding\n",
    "\n",
    "ollama_embedding = OllamaEmbedding(\n",
    "    model_name=\"dztech/bge-large-zh:v1.5\",\n",
    "    # model_name=\"bge-m3:latest\",\n",
    "    base_url=\"http://192.168.0.72:11435\",\n",
    "    ollama_additional_kwargs={\"mirostat\": 0}, # -mirostat N 使用 Mirostat 采样。\n",
    ")\n",
    "\n",
    "Settings.embed_model = ollama_embedding"
   ]
  },
  {
   "cell_type": "code",
   "execution_count": 6,
   "id": "f6b9f8f7-da22-4233-b487-5ddcc662d0c9",
   "metadata": {},
   "outputs": [
    {
     "name": "stdout",
     "output_type": "stream",
     "text": [
      "CPU times: user 783 µs, sys: 0 ns, total: 783 µs\n",
      "Wall time: 602 µs\n"
     ]
    }
   ],
   "source": [
    "%%time\n",
    "\n",
    "# 加载文件数据\n",
    "with open('./books/故乡.txt', 'rb') as file:\n",
    "    byte_data = file.read()\n",
    "\n",
    "docs = [Document(text=byte_data)]"
   ]
  },
  {
   "cell_type": "markdown",
   "id": "05829d60-b116-4ca5-97dd-ef26e8406612",
   "metadata": {},
   "source": [
    "## faiss 索引"
   ]
  },
  {
   "cell_type": "code",
   "execution_count": 8,
   "id": "b89430b5-f510-47ed-a81e-f4b028c7bd6c",
   "metadata": {},
   "outputs": [
    {
     "name": "stdout",
     "output_type": "stream",
     "text": [
      "CPU times: user 258 ms, sys: 19.1 ms, total: 277 ms\n",
      "Wall time: 1.74 s\n"
     ]
    }
   ],
   "source": [
    "%%time\n",
    "\n",
    "import faiss\n",
    "from llama_index.vector_stores.faiss import FaissVectorStore\n",
    "\n",
    "# bge large embedding\n",
    "d = 1024\n",
    "faiss_index = faiss.IndexFlatIP(d)\n",
    "vector_store = FaissVectorStore(faiss_index=faiss_index)\n",
    "storage_context = StorageContext.from_defaults(vector_store=vector_store)\n",
    "\n",
    "index = VectorStoreIndex.from_documents(\n",
    "    docs, storage_context=storage_context\n",
    ")"
   ]
  },
  {
   "cell_type": "markdown",
   "id": "55dceee6-ae99-4473-a2b5-97a84f5d1b0d",
   "metadata": {},
   "source": [
    "## 基本嵌入查询"
   ]
  },
  {
   "cell_type": "code",
   "execution_count": 9,
   "id": "09002cb1-50d3-4c85-9cfd-7f477c1d3573",
   "metadata": {},
   "outputs": [
    {
     "name": "stdout",
     "output_type": "stream",
     "text": [
      "闰土是小说《故乡》中的主角之一，他是鲁迅先生笔下一个朴实、勤劳的农村少年形象。在故事中，闰土与主人公“我”（迅哥儿）有着深厚的童年友谊。\n",
      "CPU times: user 145 ms, sys: 15.1 ms, total: 160 ms\n",
      "Wall time: 5.66 s\n"
     ]
    }
   ],
   "source": [
    "%%time\n",
    "\n",
    "query_engine = index.as_query_engine(\n",
    "    streaming=True,\n",
    "    similarity_top_k=10\n",
    ")\n",
    "response = query_engine.query(\"闰土是谁？\")\n",
    "response.print_response_stream()"
   ]
  },
  {
   "cell_type": "code",
   "execution_count": 12,
   "id": "0c94ff2b-b666-4c2d-b45a-46abc8c194ea",
   "metadata": {},
   "outputs": [
    {
     "data": {
      "text/plain": [
       "218.7655792236328"
      ]
     },
     "execution_count": 12,
     "metadata": {},
     "output_type": "execute_result"
    }
   ],
   "source": [
    "response.source_nodes[0].score"
   ]
  },
  {
   "cell_type": "code",
   "execution_count": 13,
   "id": "be6d5c38-14d0-4ac1-9061-35e811115f2b",
   "metadata": {},
   "outputs": [
    {
     "name": "stdout",
     "output_type": "stream",
     "text": [
      "我这时很兴奋，但不知道怎么说才好，只是说：\n",
      "\n",
      "　　“阿！闰土哥，——你来了？\n",
      "------\n",
      "我家只有一个忙月（我们这里给人做工的分三种：整年给一定人家做工的叫长工；按日给人做工的叫短工；自己也种地，只在过年过节以及收租时候来给一定人家做工的称忙月），忙不过来，他便对父亲说，可以叫他的儿子闰土来管祭器的。\n",
      "------\n",
      "我也说不出话。\n",
      "\n",
      "　　他回过头去说，“水生，给老爷磕头。”便拖出躲在背后的孩子来，这正是一个廿年前的闰土，只是黄瘦些，颈子上没有银圈罢了。\n",
      "------\n",
      "你们先前不是哥弟称呼么？还是照旧：迅哥儿。”母亲高兴的说。\n",
      "\n",
      "　　“阿呀，老太太真是……这成什么规矩。那时是孩子，不懂事……”闰土说着，又叫水生上来打拱，那孩子却害羞，紧紧的只贴在他背后。\n",
      "------\n",
      "我看时，不由的非常出惊，慌忙站起身，迎着走去。\n",
      "\n",
      "　　这来的便是闰土。虽然我一见便知道是闰土，但又不是我这记忆上的闰土了。\n",
      "------\n",
      "什么都有：稻鸡，角鸡，鹁鸪，蓝背……”\n",
      "\n",
      "　　我于是又很盼望下雪。\n",
      "\n",
      "　　闰土又对我说：\n",
      "\n",
      "　　“现在太冷，你夏天到我们这里来。我们日里到海边捡贝壳去，红的绿的都有，鬼见怕也有，观音手⑸也有。\n",
      "------\n",
      "我的父亲允许了；我也很高兴，因为我早听到闰土这名字，而且知道他和我仿佛年纪，闰月生的，五行缺土⑷，所以他的父亲叫他闰土。他是能装〔弓京〕捉小鸟雀的。\n",
      "------\n",
      "“我们沙地里，潮汛要来的时候，就有许多跳鱼儿只是跳，都有青蛙似的两个脚……”\n",
      "\n",
      "　　阿！闰土的心里有无穷无尽的希奇的事，都是我往常的朋友所不知道的。\n",
      "------\n",
      "“这是第五个孩子，没有见过世面，躲躲闪闪……”\n",
      "\n",
      "　　母亲和宏儿下楼来了，他们大约也听到了声音。\n",
      "\n",
      "　　“老太太。信是早收到了。我实在喜欢的不得了，知道老爷回来……”闰土说。\n",
      "\n",
      "　　“阿，你怎的这样客气起来。\n",
      "------\n",
      "的刺去，那猹却将身一扭，反从他的胯下逃走了。\n",
      "\n",
      "　　这少年便是闰土。我认识他时，也不过十多岁，离现在将有三十年了；那时我的父亲还在世，家景也好，我正是一个少爷。那一年，我家是一件大祭祀的值年⑶。\n"
     ]
    }
   ],
   "source": [
    "texts = [node.text for node in response.source_nodes]\n",
    "print('\\n------\\n'.join(texts))"
   ]
  },
  {
   "cell_type": "markdown",
   "id": "70a284c6-f377-43c7-a2e4-edce35c12c6e",
   "metadata": {},
   "source": [
    "## reranker"
   ]
  },
  {
   "cell_type": "code",
   "execution_count": 14,
   "id": "4d00deb1-5a8c-4a05-973e-f106929044db",
   "metadata": {},
   "outputs": [
    {
     "name": "stdout",
     "output_type": "stream",
     "text": [
      "CPU times: user 1.88 s, sys: 1.06 s, total: 2.94 s\n",
      "Wall time: 8.88 s\n"
     ]
    }
   ],
   "source": [
    "%%time\n",
    "\n",
    "from llama_index.core.postprocessor import SentenceTransformerRerank\n",
    "\n",
    "reranker = SentenceTransformerRerank(model='/models/bge-reranker-v2-m3', top_n=5)"
   ]
  },
  {
   "cell_type": "code",
   "execution_count": 15,
   "id": "5fdd51cf-1289-4976-acae-cbc9221bd563",
   "metadata": {},
   "outputs": [
    {
     "name": "stdout",
     "output_type": "stream",
     "text": [
      "CPU times: user 175 µs, sys: 0 ns, total: 175 µs\n",
      "Wall time: 179 µs\n"
     ]
    }
   ],
   "source": [
    "%%time\n",
    "\n",
    "query_engine = index.as_query_engine(\n",
    "    streaming=True,\n",
    "    similarity_top_k=100,\n",
    "    node_postprocessors=[reranker]\n",
    ")"
   ]
  },
  {
   "cell_type": "code",
   "execution_count": 16,
   "id": "a1e344a5-9af0-4571-b491-32fe0b799bec",
   "metadata": {},
   "outputs": [
    {
     "name": "stdout",
     "output_type": "stream",
     "text": [
      "宏儿是鲁迅先生作品《故乡》中的人物，他是鲁迅八岁的侄子。\n",
      "\n",
      "CPU times: user 1.17 s, sys: 90.3 ms, total: 1.26 s\n",
      "Wall time: 6.02 s\n"
     ]
    }
   ],
   "source": [
    "%%time\n",
    "\n",
    "streaming_response = query_engine.query(\"宏儿是谁\")\n",
    "streaming_response.print_response_stream()\n",
    "print()"
   ]
  },
  {
   "cell_type": "code",
   "execution_count": 17,
   "id": "5310f387-4c71-4e86-8525-716c088ae437",
   "metadata": {},
   "outputs": [
    {
     "data": {
      "text/plain": [
       "0.73501855"
      ]
     },
     "execution_count": 17,
     "metadata": {},
     "output_type": "execute_result"
    }
   ],
   "source": [
    "streaming_response.source_nodes[0].score"
   ]
  },
  {
   "cell_type": "code",
   "execution_count": 18,
   "id": "a1ce80a9-1b92-4f86-8e92-47f1e351b13c",
   "metadata": {},
   "outputs": [
    {
     "name": "stdout",
     "output_type": "stream",
     "text": [
      "我和宏儿是亲戚关系，具体可能是长辈与晚辈或者兄弟姐妹之间的关系。\n",
      "\n",
      "CPU times: user 496 ms, sys: 6.09 ms, total: 502 ms\n",
      "Wall time: 4.78 s\n"
     ]
    }
   ],
   "source": [
    "%%time\n",
    "\n",
    "streaming_response = query_engine.query(\"我和宏儿是啥关系\")\n",
    "streaming_response.print_response_stream()\n",
    "print()"
   ]
  },
  {
   "cell_type": "code",
   "execution_count": 19,
   "id": "971c06fb-6bb0-4d4e-b6d0-54b8fe2c99cd",
   "metadata": {},
   "outputs": [
    {
     "name": "stdout",
     "output_type": "stream",
     "text": [
      "闰土是小说《故乡》中的主角之一，由鲁迅先生创作。他是一个朴实的农村少年，与“我”（小说中的叙述者）有过深厚的童年友谊。\n",
      "\n",
      "CPU times: user 506 ms, sys: 3.55 ms, total: 509 ms\n",
      "Wall time: 2.38 s\n"
     ]
    }
   ],
   "source": [
    "%%time\n",
    "\n",
    "streaming_response = query_engine.query(\"闰土是谁\")\n",
    "streaming_response.print_response_stream()\n",
    "print()"
   ]
  },
  {
   "cell_type": "code",
   "execution_count": 20,
   "id": "103a5622-8179-4371-9939-1c2ac5517cac",
   "metadata": {},
   "outputs": [
    {
     "name": "stdout",
     "output_type": "stream",
     "text": [
      "闰土和水生可能是亲戚关系或者有其他紧密联系，但具体的关系在给定的文本中并未明确说明。\n",
      "\n",
      "CPU times: user 503 ms, sys: 3.1 ms, total: 506 ms\n",
      "Wall time: 2.03 s\n"
     ]
    }
   ],
   "source": [
    "%%time\n",
    "\n",
    "streaming_response = query_engine.query(\"闰土和水生是啥关系\")\n",
    "streaming_response.print_response_stream()\n",
    "print()"
   ]
  },
  {
   "cell_type": "code",
   "execution_count": 21,
   "id": "a5110672-7e41-4291-84b9-6dc32a4431d4",
   "metadata": {},
   "outputs": [
    {
     "name": "stdout",
     "output_type": "stream",
     "text": [
      "水生和宏儿是朋友关系。宏儿被母亲鼓励去与水生交往，说明他们之间有互动和友谊。\n",
      "\n",
      "CPU times: user 514 ms, sys: 1.02 ms, total: 515 ms\n",
      "Wall time: 2.08 s\n"
     ]
    }
   ],
   "source": [
    "%%time\n",
    "\n",
    "streaming_response = query_engine.query(\"水生和宏儿是啥关系\")\n",
    "streaming_response.print_response_stream()\n",
    "print()"
   ]
  },
  {
   "cell_type": "code",
   "execution_count": 22,
   "id": "f15e2204-6f86-4143-b568-8af6c5bb1cb5",
   "metadata": {},
   "outputs": [
    {
     "name": "stdout",
     "output_type": "stream",
     "text": [
      "闰土小时候与成年后的变化主要体现在以下几个方面：\n",
      "\n",
      "1. 社会角色转变：小时候，闰土是农村孩子，过着简单的生活。而成年后，他可能需要承担家庭责任和社会职责。\n",
      "\n",
      "2. 知识视野拓宽：在鲁迅的记忆中，闰土小时候的世界相对狭窄。而成年后，闰土可能会接触到更广阔的知识领域和信息。\n",
      "\n",
      "3. 心理成熟度提高：随着年龄的增长，闰土的心理承受能力和决策能力会有所提升。他可能需要处理更为复杂的生活问题和社会冲突。\n",
      "\n",
      "4. 人际关系变化：小时候的闰土与迅哥儿关系亲密。而成年后，闰土可能会面临更多的人际交往，包括家庭、工作和社区等不同层面的关系。\n",
      "\n",
      "总之，闰土从小时候到成年后的变化是多方面的，涉及社会角色、知识视野、心理成熟度以及人际关系等多个维度。\n",
      "\n",
      "CPU times: user 732 ms, sys: 14.5 ms, total: 746 ms\n",
      "Wall time: 7.86 s\n"
     ]
    }
   ],
   "source": [
    "%%time\n",
    "\n",
    "streaming_response = query_engine.query(\"闰土小时候和成年后有哪些主要变化\")\n",
    "streaming_response.print_response_stream()\n",
    "print()"
   ]
  },
  {
   "cell_type": "code",
   "execution_count": null,
   "id": "e66ca936-316d-4f57-aa9c-31a5a715bb99",
   "metadata": {},
   "outputs": [],
   "source": []
  }
 ],
 "metadata": {
  "kernelspec": {
   "display_name": "Python 3 (ipykernel)",
   "language": "python",
   "name": "python3"
  },
  "language_info": {
   "codemirror_mode": {
    "name": "ipython",
    "version": 3
   },
   "file_extension": ".py",
   "mimetype": "text/x-python",
   "name": "python",
   "nbconvert_exporter": "python",
   "pygments_lexer": "ipython3",
   "version": "3.10.12"
  }
 },
 "nbformat": 4,
 "nbformat_minor": 5
}
