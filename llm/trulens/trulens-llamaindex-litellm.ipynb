{
 "cells": [
  {
   "cell_type": "markdown",
   "id": "8a3266f8-c9ea-40aa-a21b-60fcd668953e",
   "metadata": {},
   "source": [
    "# 在 LlamaIndex 示例基础上使用 LiteLLM"
   ]
  },
  {
   "cell_type": "markdown",
   "id": "572b4212-c4f9-424c-aff9-4c52286db842",
   "metadata": {},
   "source": [
    "参考： https://github.com/truera/trulens/blob/main/trulens_eval/examples/quickstart/llama_index_quickstart.ipynb\n",
    "\n",
    "因为直接使用会报错，改为使用 LiteLLM 替代之前的 LLM"
   ]
  },
  {
   "cell_type": "code",
   "execution_count": 1,
   "id": "13606d88-2ac8-44eb-9849-0122e271445b",
   "metadata": {},
   "outputs": [
    {
     "name": "stdout",
     "output_type": "stream",
     "text": [
      "CPU times: user 9 µs, sys: 1 µs, total: 10 µs\n",
      "Wall time: 11.7 µs\n"
     ]
    }
   ],
   "source": [
    "%%time\n",
    "\n",
    "import os\n",
    "\n",
    "base_url = \"http://ape:3000/v1\"\n",
    "api_key = \"sk-bJP6QSnUfjAYeYeE505d3eBf63A643BeB0B8E350Df9b7750\"\n",
    "\n",
    "os.environ[\"OPENAI_API_KEY\"] = api_key\n",
    "os.environ[\"OPENAI_API_BASE\"] = base_url"
   ]
  },
  {
   "cell_type": "code",
   "execution_count": 2,
   "id": "76c67603-e5f7-4175-b6bb-6869e4d5e2a0",
   "metadata": {},
   "outputs": [
    {
     "name": "stdout",
     "output_type": "stream",
     "text": [
      "🦑 Tru initialized with db url sqlite:///default.sqlite .\n",
      "🛑 Secret keys may be written to the database. See the `database_redact_keys` option of `Tru` to prevent this.\n"
     ]
    }
   ],
   "source": [
    "from trulens_eval import Tru\n",
    "\n",
    "tru = Tru()\n",
    "tru.reset_database()"
   ]
  },
  {
   "cell_type": "code",
   "execution_count": 6,
   "id": "82f4c020-8b89-4353-9ea3-76615d51ecdb",
   "metadata": {},
   "outputs": [
    {
     "name": "stdout",
     "output_type": "stream",
     "text": [
      "CPU times: user 2.05 s, sys: 11.2 ms, total: 2.06 s\n",
      "Wall time: 11 s\n"
     ]
    }
   ],
   "source": [
    "%%time\n",
    "\n",
    "from llama_index.core import Settings\n",
    "from llama_index.core import SimpleDirectoryReader\n",
    "from llama_index.core import VectorStoreIndex\n",
    "# from llama_index.llms.openai import OpenAI\n",
    "from llama_index.llms.openai_like import OpenAILike\n",
    "\n",
    "Settings.chunk_size = 128\n",
    "Settings.chunk_overlap = 16\n",
    "Settings.llm = OpenAILike(\n",
    "    model=\"qwen2\", \n",
    "    api_base=base_url, \n",
    "    api_key=api_key,\n",
    "    is_chat_model=True,\n",
    "    temperature=0.1,\n",
    "    request_timeout=60.0\n",
    ")\n",
    "\n",
    "documents = SimpleDirectoryReader(\"data2\").load_data()\n",
    "index = VectorStoreIndex.from_documents(documents)\n",
    "\n",
    "query_engine = index.as_query_engine(similarity_top_k=3)"
   ]
  },
  {
   "cell_type": "code",
   "execution_count": 7,
   "id": "14153372-7d74-40c5-8621-c4b4731dafbd",
   "metadata": {},
   "outputs": [
    {
     "name": "stdout",
     "output_type": "stream",
     "text": [
      "Growing up, the author focused on writing short stories and programming. They didn't engage in traditional essay writing but instead wrote stories that were characterized by strong emotions among characters with little plot development. The author also mentions experiencing moments of intellectual engagement, such as solving a problem involving continuations while watching children play at the coast in 2015.\n",
      "CPU times: user 78 ms, sys: 130 µs, total: 78.1 ms\n",
      "Wall time: 3.71 s\n"
     ]
    }
   ],
   "source": [
    "%%time\n",
    "\n",
    "response = query_engine.query(\"What did the author do growing up?\")\n",
    "print(response)"
   ]
  },
  {
   "cell_type": "code",
   "execution_count": 8,
   "id": "57e719af-3859-49cb-ac96-fcc4d5d8f024",
   "metadata": {},
   "outputs": [
    {
     "name": "stdout",
     "output_type": "stream",
     "text": [
      "✅ In Groundedness, input source will be set to __record__.app.query.rets.source_nodes[:].node.text.collect() .\n",
      "✅ In Groundedness, input statement will be set to __record__.main_output or `Select.RecordOutput` .\n",
      "✅ In Answer Relevance, input prompt will be set to __record__.main_input or `Select.RecordInput` .\n",
      "✅ In Answer Relevance, input response will be set to __record__.main_output or `Select.RecordOutput` .\n",
      "✅ In Context Relevance, input question will be set to __record__.main_input or `Select.RecordInput` .\n",
      "✅ In Context Relevance, input context will be set to __record__.app.query.rets.source_nodes[:].node.text .\n",
      "CPU times: user 74.7 ms, sys: 185 µs, total: 74.9 ms\n",
      "Wall time: 74.3 ms\n"
     ]
    }
   ],
   "source": [
    "%%time\n",
    "\n",
    "import numpy as np\n",
    "\n",
    "from trulens_eval import Feedback\n",
    "# from trulens_eval.feedback.provider import OpenAI\n",
    "from trulens_eval import LiteLLM\n",
    "\n",
    "# Initialize provider class\n",
    "provider = LiteLLM(\n",
    "    model_engine=\"gpt-3.5-turbo\",\n",
    ")\n",
    "\n",
    "# select context to be used in feedback. the location of context is app specific.\n",
    "from trulens_eval.app import App\n",
    "\n",
    "context = App.select_context(query_engine)\n",
    "\n",
    "# Define a groundedness feedback function\n",
    "f_groundedness = (\n",
    "    Feedback(\n",
    "        provider.groundedness_measure_with_cot_reasons, name=\"Groundedness\"\n",
    "    )\n",
    "    .on(context.collect())  # collect context chunks into a list\n",
    "    .on_output()\n",
    ")\n",
    "\n",
    "# Question/answer relevance between overall question and answer.\n",
    "f_answer_relevance = Feedback(\n",
    "    provider.relevance_with_cot_reasons, name=\"Answer Relevance\"\n",
    ").on_input_output()\n",
    "# Question/statement relevance between question and each context chunk.\n",
    "f_context_relevance = (\n",
    "    Feedback(\n",
    "        provider.context_relevance_with_cot_reasons, name=\"Context Relevance\"\n",
    "    )\n",
    "    .on_input()\n",
    "    .on(context)\n",
    "    .aggregate(np.mean)\n",
    ")"
   ]
  },
  {
   "cell_type": "code",
   "execution_count": 9,
   "id": "56f89ef7-7932-4ccb-9cee-637c402a39ad",
   "metadata": {},
   "outputs": [
    {
     "name": "stdout",
     "output_type": "stream",
     "text": [
      "CPU times: user 281 ms, sys: 74 µs, total: 281 ms\n",
      "Wall time: 292 ms\n"
     ]
    }
   ],
   "source": [
    "%%time\n",
    "\n",
    "from trulens_eval import TruLlama\n",
    "\n",
    "tru_query_engine_recorder = TruLlama(\n",
    "    query_engine,\n",
    "    app_id=\"LlamaIndex_App1\",\n",
    "    feedbacks=[f_groundedness, f_answer_relevance, f_context_relevance],\n",
    ")"
   ]
  },
  {
   "cell_type": "code",
   "execution_count": 11,
   "id": "a707e0fe-4dc3-4cbf-919c-22da3d43c809",
   "metadata": {},
   "outputs": [],
   "source": [
    "import nltk\n",
    "# [nltk_data] Error loading punkt: <urlopen error [Errno 111] Connection\n",
    "nltk.set_proxy('http://myproxy:7890')"
   ]
  },
  {
   "cell_type": "code",
   "execution_count": 12,
   "id": "b9a7fd0c-c1a7-4561-9985-e30e125a1e7d",
   "metadata": {},
   "outputs": [
    {
     "name": "stdout",
     "output_type": "stream",
     "text": [
      "CPU times: user 1.97 s, sys: 13.4 ms, total: 1.98 s\n",
      "Wall time: 4.3 s\n"
     ]
    }
   ],
   "source": [
    "%%time\n",
    "\n",
    "# or as context manager\n",
    "with tru_query_engine_recorder as recording:\n",
    "    query_engine.query(\"What did the author do growing up?\")"
   ]
  },
  {
   "cell_type": "code",
   "execution_count": 13,
   "id": "d45aca1a-7ca3-4e4e-93d7-ac024da17d09",
   "metadata": {},
   "outputs": [
    {
     "name": "stdout",
     "output_type": "stream",
     "text": [
      "CPU times: user 5.39 ms, sys: 106 µs, total: 5.5 ms\n",
      "Wall time: 5.13 ms\n"
     ]
    },
    {
     "data": {
      "text/html": [
       "<div>\n",
       "<style scoped>\n",
       "    .dataframe tbody tr th:only-of-type {\n",
       "        vertical-align: middle;\n",
       "    }\n",
       "\n",
       "    .dataframe tbody tr th {\n",
       "        vertical-align: top;\n",
       "    }\n",
       "\n",
       "    .dataframe thead th {\n",
       "        text-align: right;\n",
       "    }\n",
       "</style>\n",
       "<table border=\"1\" class=\"dataframe\">\n",
       "  <thead>\n",
       "    <tr style=\"text-align: right;\">\n",
       "      <th></th>\n",
       "      <th>question</th>\n",
       "      <th>context</th>\n",
       "      <th>ret</th>\n",
       "    </tr>\n",
       "  </thead>\n",
       "  <tbody>\n",
       "    <tr>\n",
       "      <th>0</th>\n",
       "      <td>What did the author do growing up?</td>\n",
       "      <td>What I Worked On\\n\\nFebruary 2021\\n\\nBefore co...</td>\n",
       "      <td>0.8</td>\n",
       "    </tr>\n",
       "    <tr>\n",
       "      <th>1</th>\n",
       "      <td>What did the author do growing up?</td>\n",
       "      <td>I remember that I answered the essay question ...</td>\n",
       "      <td>0.3</td>\n",
       "    </tr>\n",
       "    <tr>\n",
       "      <th>2</th>\n",
       "      <td>What did the author do growing up?</td>\n",
       "      <td>I remember taking the boys to the coast on a s...</td>\n",
       "      <td>0.2</td>\n",
       "    </tr>\n",
       "  </tbody>\n",
       "</table>\n",
       "</div>"
      ],
      "text/plain": [
       "                             question  \\\n",
       "0  What did the author do growing up?   \n",
       "1  What did the author do growing up?   \n",
       "2  What did the author do growing up?   \n",
       "\n",
       "                                             context  ret  \n",
       "0  What I Worked On\\n\\nFebruary 2021\\n\\nBefore co...  0.8  \n",
       "1  I remember that I answered the essay question ...  0.3  \n",
       "2  I remember taking the boys to the coast on a s...  0.2  "
      ]
     },
     "execution_count": 13,
     "metadata": {},
     "output_type": "execute_result"
    }
   ],
   "source": [
    "%%time\n",
    "\n",
    "last_record = recording.records[-1]\n",
    "\n",
    "from trulens_eval.utils.display import get_feedback_result\n",
    "\n",
    "get_feedback_result(last_record, \"Context Relevance\")"
   ]
  },
  {
   "cell_type": "code",
   "execution_count": 14,
   "id": "f83f2a30-a06e-4862-b151-06dde62b950e",
   "metadata": {},
   "outputs": [
    {
     "name": "stdout",
     "output_type": "stream",
     "text": [
      "CPU times: user 9.47 ms, sys: 118 µs, total: 9.59 ms\n",
      "Wall time: 9.37 ms\n"
     ]
    }
   ],
   "source": [
    "%%time\n",
    "\n",
    "from trulens_eval.guardrails.llama import WithFeedbackFilterNodes\n",
    "\n",
    "# note: feedback function used for guardrail must only return a score, not also reasons\n",
    "f_context_relevance_score = Feedback(provider.context_relevance)\n",
    "\n",
    "filtered_query_engine = WithFeedbackFilterNodes(\n",
    "    query_engine, feedback=f_context_relevance_score, threshold=0.5\n",
    ")"
   ]
  },
  {
   "cell_type": "code",
   "execution_count": 15,
   "id": "3c47dfbf-67e5-4c15-9ddf-66effc35957c",
   "metadata": {},
   "outputs": [
    {
     "data": {
      "text/plain": [
       "Response(response='Growing up, the author focused on writing short stories and programming outside of school.', source_nodes=[NodeWithScore(node=TextNode(id_='84343470-d803-4c3b-96e6-d2f116021386', embedding=None, metadata={'file_path': '/root/notebook/my-jupyter-notebook/llm/trulens/data2/paul.txt', 'file_name': 'paul.txt', 'file_type': 'text/plain', 'file_size': 75042, 'creation_date': '2024-08-06', 'last_modified_date': '2024-08-06'}, excluded_embed_metadata_keys=['file_name', 'file_type', 'file_size', 'creation_date', 'last_modified_date', 'last_accessed_date'], excluded_llm_metadata_keys=['file_name', 'file_type', 'file_size', 'creation_date', 'last_modified_date', 'last_accessed_date'], relationships={<NodeRelationship.SOURCE: '1'>: RelatedNodeInfo(node_id='f4f8e222-b752-4f63-b272-1372556d1f09', node_type=<ObjectType.DOCUMENT: '4'>, metadata={'file_path': '/root/notebook/my-jupyter-notebook/llm/trulens/data2/paul.txt', 'file_name': 'paul.txt', 'file_type': 'text/plain', 'file_size': 75042, 'creation_date': '2024-08-06', 'last_modified_date': '2024-08-06'}, hash='2f90b9b99217e8e77c97e77c3f36de7b91a6ef9ec21ab3194b5bca4a2f01f0b0'), <NodeRelationship.NEXT: '3'>: RelatedNodeInfo(node_id='8949dfc2-856d-48b6-b323-d7046fd1f4f4', node_type=<ObjectType.TEXT: '1'>, metadata={}, hash='e99647d69b84b0a13c59268b58406bb00652b41196a27d7b46b56e5d713018ed')}, text=\"What I Worked On\\n\\nFebruary 2021\\n\\nBefore college the two main things I worked on, outside of school, were writing and programming. I didn't write essays. I wrote what beginning writers were supposed to write then, and probably still are: short stories. My stories were awful. They had hardly any plot, just characters with strong feelings, which I imagined made them deep.\", start_char_idx=2, end_char_idx=373, text_template='{metadata_str}\\n\\n{content}', metadata_template='{key}: {value}', metadata_seperator='\\n'), score=0.8105395128531931)], metadata={'84343470-d803-4c3b-96e6-d2f116021386': {'file_path': '/root/notebook/my-jupyter-notebook/llm/trulens/data2/paul.txt', 'file_name': 'paul.txt', 'file_type': 'text/plain', 'file_size': 75042, 'creation_date': '2024-08-06', 'last_modified_date': '2024-08-06'}})"
      ]
     },
     "metadata": {},
     "output_type": "display_data"
    },
    {
     "name": "stdout",
     "output_type": "stream",
     "text": [
      "CPU times: user 2.91 s, sys: 39 ms, total: 2.95 s\n",
      "Wall time: 4.78 s\n"
     ]
    }
   ],
   "source": [
    "%%time\n",
    "\n",
    "tru_recorder = TruLlama(\n",
    "    filtered_query_engine,\n",
    "    app_id=\"LlamaIndex_App1_Filtered\",\n",
    "    feedbacks=[f_answer_relevance, f_context_relevance, f_groundedness],\n",
    ")\n",
    "\n",
    "with tru_recorder as recording:\n",
    "    llm_response = filtered_query_engine.query(\n",
    "        \"What did the author do growing up?\"\n",
    "    )\n",
    "\n",
    "display(llm_response)"
   ]
  },
  {
   "cell_type": "code",
   "execution_count": 16,
   "id": "6c80f5df-e8f1-4132-8eee-5cf30bc3599d",
   "metadata": {},
   "outputs": [
    {
     "name": "stdout",
     "output_type": "stream",
     "text": [
      "CPU times: user 553 µs, sys: 38 µs, total: 591 µs\n",
      "Wall time: 595 µs\n"
     ]
    },
    {
     "data": {
      "text/html": [
       "<div>\n",
       "<style scoped>\n",
       "    .dataframe tbody tr th:only-of-type {\n",
       "        vertical-align: middle;\n",
       "    }\n",
       "\n",
       "    .dataframe tbody tr th {\n",
       "        vertical-align: top;\n",
       "    }\n",
       "\n",
       "    .dataframe thead th {\n",
       "        text-align: right;\n",
       "    }\n",
       "</style>\n",
       "<table border=\"1\" class=\"dataframe\">\n",
       "  <thead>\n",
       "    <tr style=\"text-align: right;\">\n",
       "      <th></th>\n",
       "      <th>question</th>\n",
       "      <th>context</th>\n",
       "      <th>ret</th>\n",
       "    </tr>\n",
       "  </thead>\n",
       "  <tbody>\n",
       "    <tr>\n",
       "      <th>0</th>\n",
       "      <td>What did the author do growing up?</td>\n",
       "      <td>What I Worked On\\n\\nFebruary 2021\\n\\nBefore co...</td>\n",
       "      <td>0.8</td>\n",
       "    </tr>\n",
       "  </tbody>\n",
       "</table>\n",
       "</div>"
      ],
      "text/plain": [
       "                             question  \\\n",
       "0  What did the author do growing up?   \n",
       "\n",
       "                                             context  ret  \n",
       "0  What I Worked On\\n\\nFebruary 2021\\n\\nBefore co...  0.8  "
      ]
     },
     "execution_count": 16,
     "metadata": {},
     "output_type": "execute_result"
    }
   ],
   "source": [
    "%%time\n",
    "\n",
    "last_record = recording.records[-1]\n",
    "\n",
    "from trulens_eval.utils.display import get_feedback_result\n",
    "\n",
    "get_feedback_result(last_record, \"Context Relevance\")"
   ]
  },
  {
   "cell_type": "code",
   "execution_count": 17,
   "id": "bd30c4e0-b861-44f6-a106-4dfa910d8403",
   "metadata": {},
   "outputs": [
    {
     "data": {
      "text/html": [
       "<div>\n",
       "<style scoped>\n",
       "    .dataframe tbody tr th:only-of-type {\n",
       "        vertical-align: middle;\n",
       "    }\n",
       "\n",
       "    .dataframe tbody tr th {\n",
       "        vertical-align: top;\n",
       "    }\n",
       "\n",
       "    .dataframe thead th {\n",
       "        text-align: right;\n",
       "    }\n",
       "</style>\n",
       "<table border=\"1\" class=\"dataframe\">\n",
       "  <thead>\n",
       "    <tr style=\"text-align: right;\">\n",
       "      <th></th>\n",
       "      <th>Answer Relevance</th>\n",
       "      <th>Groundedness</th>\n",
       "      <th>Context Relevance</th>\n",
       "      <th>latency</th>\n",
       "      <th>total_cost</th>\n",
       "    </tr>\n",
       "    <tr>\n",
       "      <th>app_id</th>\n",
       "      <th></th>\n",
       "      <th></th>\n",
       "      <th></th>\n",
       "      <th></th>\n",
       "      <th></th>\n",
       "    </tr>\n",
       "  </thead>\n",
       "  <tbody>\n",
       "    <tr>\n",
       "      <th>LlamaIndex_App1_Filtered</th>\n",
       "      <td>0.9</td>\n",
       "      <td>1.0</td>\n",
       "      <td>0.8</td>\n",
       "      <td>6.0</td>\n",
       "      <td>0.004869</td>\n",
       "    </tr>\n",
       "    <tr>\n",
       "      <th>LlamaIndex_App1</th>\n",
       "      <td>0.9</td>\n",
       "      <td>1.0</td>\n",
       "      <td>0.4</td>\n",
       "      <td>4.5</td>\n",
       "      <td>0.000000</td>\n",
       "    </tr>\n",
       "  </tbody>\n",
       "</table>\n",
       "</div>"
      ],
      "text/plain": [
       "                          Answer Relevance  Groundedness  Context Relevance  \\\n",
       "app_id                                                                        \n",
       "LlamaIndex_App1_Filtered               0.9           1.0                0.8   \n",
       "LlamaIndex_App1                        0.9           1.0                0.4   \n",
       "\n",
       "                          latency  total_cost  \n",
       "app_id                                         \n",
       "LlamaIndex_App1_Filtered      6.0    0.004869  \n",
       "LlamaIndex_App1               4.5    0.000000  "
      ]
     },
     "execution_count": 17,
     "metadata": {},
     "output_type": "execute_result"
    }
   ],
   "source": [
    "tru.get_leaderboard()"
   ]
  },
  {
   "cell_type": "code",
   "execution_count": 18,
   "id": "b7529b63-df4c-4761-8374-7edd43af8cea",
   "metadata": {
    "scrolled": true
   },
   "outputs": [
    {
     "data": {
      "text/plain": [
       "Record(record_id='record_hash_1ef9735cf2ffb6066a30bf0abd8c8db5', app_id='LlamaIndex_App1_Filtered', cost=Cost(n_requests=5, n_successful_requests=15, n_classes=0, n_tokens=3526, n_stream_chunks=0, n_prompt_tokens=3500, n_completion_tokens=26, cost=0.004869), perf=Perf(start_time=datetime.datetime(2024, 8, 7, 15, 2, 50, 56257), end_time=datetime.datetime(2024, 8, 7, 15, 2, 54, 224286)), ts=datetime.datetime(2024, 8, 7, 15, 2, 54, 224937), tags='-', meta=None, main_input='What did the author do growing up?', main_output='Growing up, the author focused on writing short stories and programming outside of school.', main_error=None, calls=[RecordAppCall(call_id='e09967c9-8ae4-456c-88bf-ac27d018737e', stack=[RecordAppCallMethod(path=Lens().app, method=Method(obj=Obj(cls=trulens_eval.guardrails.llama.WithFeedbackFilterNodes, id=140368941480640, init_bindings=None), name='query')), RecordAppCallMethod(path=Lens().app.query_engine, method=Method(obj=Obj(cls=llama_index.core.query_engine.retriever_query_engine.RetrieverQueryEngine, id=140368941480640, init_bindings=None), name='retrieve')), RecordAppCallMethod(path=Lens().app.query_engine._retriever, method=Method(obj=Obj(cls=llama_index.core.indices.vector_store.retrievers.retriever.VectorIndexRetriever, id=140369254145840, init_bindings=None), name='retrieve')), RecordAppCallMethod(path=Lens().app.query_engine._retriever, method=Method(obj=Obj(cls=llama_index.core.indices.vector_store.retrievers.retriever.VectorIndexRetriever, id=140369254145840, init_bindings=None), name='_retrieve'))], args={'query_bundle': {'query_str': 'What did the author do growing up?', 'image_path': None, 'custom_embedding_strs': None, 'embedding': [0.012141781, -0.015664682, 0.0076671015, -0.010099423, -0.021256378, 0.021441447, -0.006678971, -0.017779743, -0.027892387, -0.030483339, 0.024336439, 0.0010170477, 0.0025364226, 0.0108991815, 0.0036980547, 0.018572893, 0.03894359, -0.009597096, -0.0010534002, -0.019035563, -0.0024422363, 0.010714114, 0.003582387, -0.008566003, -0.0032172084, 0.0067582857, 0.025103148, -0.028553344, 0.02338466, -0.003341138, 0.011427947, -0.013946193, -0.008354497, -0.005565258, -0.024891641, -0.0093855895, -0.016061256, -0.014488178, 0.0017631028, 0.007475424, 0.016087694, -0.0031048458, -0.0138933165, -0.0017862364, 0.022036307, 0.0073432326, -0.010310929, -0.0013293498, -0.016100913, -0.0014499745, 0.03429045, 0.013443866, -0.0043788403, -0.024085274, -0.01955111, 0.0012756471, 0.0026487852, 0.014065166, 0.0016590022, -0.021256378, -0.0070458017, 0.02214206, -0.0030271832, 0.0073961094, -0.02477267, 0.0006518689, -0.013179483, -0.005211646, -0.008420592, -0.015320984, 0.035929624, 8.9797206e-05, -0.009901136, -0.0028305484, 0.018995905, -0.010938839, -0.009643363, -0.007369671, -0.009940794, 0.010654627, -0.00784556, -0.021943774, -0.006398064, 0.009597096, 0.010952058, -0.0056478777, 0.016827965, 0.029558, -0.020238504, -0.018480359, -0.0026586996, 0.017634334, 0.016563583, 0.015122697, 0.014752561, 0.003341138, -0.015651463, 0.011295755, -0.008836996, -0.0034270622, -0.0058032027, 0.0040946286, -0.0071912124, -0.012373116, -0.018824056, 0.013067121, -0.0063418825, -0.021970212, 0.02828896, -0.032439772, -0.014091603, 0.020264942, 0.027575128, -0.052797247, -0.0085131265, -0.02522212, 0.0007336623, 0.000372408, 0.008929529, 0.00094929955, 0.007977751, 0.0016813094, 0.021983432, -0.010377025, 0.009464905, -0.0012624279, -0.015942283, -0.008836996, -0.011223051, -0.0070788497, 0.017475704, -0.0017151835, 0.01245243, -0.013483523, -0.017726868, 0.01661646, -0.018982686, 0.015360641, -0.021401789, -0.025274998, 0.020502888, 0.022974866, -0.008195867, 0.0028685536, 0.0069598774, 0.01845392, 0.030509777, 0.039049342, 0.0100597665, -0.018731521, 0.017515361, -0.0025430322, 0.0070854593, -0.008413983, 0.014422082, 0.035110038, -0.01538708, 0.012578012, -0.015942283, -0.02000056, 0.020978777, 0.02571123, 0.02214206, -0.008149601, -0.0116394535, 0.03817688, 0.023477193, 0.015016944, 0.0029065586, -0.012710203, -0.02415137, 0.012591232, -0.03355018, 0.009478124, 0.0072506987, 0.024204247, -0.0027033142, 0.015558928, -0.017026253, -0.0039128656, -0.012696984, 0.0019927854, 0.025023833, 0.04428412, -0.0086122705, -0.008784119, 0.00862549, 0.008109943, -0.0043292684, 0.0032139036, -0.012128562, 0.024534725, -0.012511916, -0.02445541, -0.6696288, -0.012815957, -0.003164332, -0.0196833, 0.011494042, 0.022789799, -0.0025314654, 0.03656414, -0.030562652, 0.0043391827, -0.007290356, 0.03857345, 0.026795197, 0.0004878689, 0.011877398, -0.011460995, 0.010132471, -0.022181718, 0.008605661, -0.015294545, 0.0050695403, 0.02076727, -0.0076274443, -0.006246044, 0.008592442, 0.0107669905, 0.009008844, -0.03304785, 0.0138933165, 0.02569801, -0.01783262, 0.028870603, 0.036511265, 0.0258302, 0.055150256, -0.012379725, -0.008367716, 0.03540086, 0.0055454294, 0.04383467, -0.020648297, -0.016656118, 0.015598586, 0.014237015, 0.0077331974, -0.011203222, 0.039604545, 0.003316352, 0.035030723, 0.019286726, -0.0058230315, -0.0009897832, -0.0017746696, -0.007865389, -0.0008683323, -0.006474074, 0.0011789821, 0.015413518, 0.0072837463, 0.017806182, -0.006414588, 0.03709291, -0.023027742, 0.0047291475, -0.0033527045, 0.022393225, -0.016510706, 0.02627965, -0.005624744, -0.02261795, 0.009768945, 0.0075745676, -0.015320984, -0.0094516855, 0.013390989, 0.010555483, 0.03275703, 0.0053768856, -0.0024686744, -0.006682276, -0.027019924, -0.0036517875, -0.040662076, -0.010892572, 0.022049526, 0.0064641596, -0.030351147, 0.007924875, -0.0038930369, 0.007706759, -0.010330758, 0.032809906, -0.0077331974, -0.026028488, -0.012525136, 0.009722678, -0.013450475, -0.001241773, 0.00072746584, 0.002643828, 0.010601751, -0.002219163, 0.010178738, 0.011295755, 0.0055123814, 0.0006043626, 0.012353287, 0.02553938, 0.03926085, -0.018969467, 0.0056974497, 0.0009666497, 0.0013417428, -0.0023331784, -0.007865389, -0.023199592, 0.014025508, 0.008341278, 0.0110313725, -0.013483523, -0.001397098, 0.010383635, -0.009101379, -0.018202757, -0.0050265784, 0.02351685, -0.009213741, 0.010707504, -0.011368461, 0.0007601006, -0.00072457414, -0.0100267185, 0.013331504, -0.019141316, 0.013840441, 0.0031692889, -0.0037938934, -0.006136986, 0.00484151, -0.00723087, -0.020582203, 0.004937349, -0.0051918174, -0.0031626795, -0.017158445, -0.02046323, 0.011163564, -0.0027727147, -0.012815957, 0.021533981, 0.00330809, -0.013529791, -0.022538634, -0.015876187, -0.018374605, -0.016219886, 0.012743251, -0.0053438377, -0.014369206, 0.00907494, -0.0023116972, 0.0363262, -0.01091901, 0.01014569, -0.014223795, 0.010343977, 0.013192702, 0.012273972, 0.0108000375, -0.008691585, 0.011328803, -0.01614057, 0.0034799387, -0.0051323315, -0.007429157, 0.012644108, 0.00086007034, -0.002714881, -0.008532955, 0.0043788403, -0.0044680694, -0.007931484, -0.007898437, -0.011626234, 0.023768015, -0.009339323, 0.0012095514, 0.03249265, 0.016259544, 0.032228265, -1.9686709e-06, 0.014580712, 0.006751676, 0.009061721, -0.0006568261, -0.009497953, 0.030086763, 0.007019364, 0.009940794, 0.0078389505, -0.026173899, 0.026253214, 0.013985851, 0.0019977426, 0.017184883, -0.037330855, -0.004028533, -0.020251723, -0.008248744, 0.0024934604, 0.0035394249, -0.008129772, 0.005981661, -0.019009124, -0.01431633, 0.0061402908, -0.018097004, 0.017145226, -0.010522436, 0.0014962414, 0.017925154, -0.011950104, -0.0046696616, -0.0017647552, -0.015254889, 0.019934464, 0.0019845234, -0.019405698, 0.0069466582, -0.022075964, -0.004858034, -0.0047919387, 0.010932229, 0.018070566, -0.0052810465, 0.021150624, 0.02214206, -0.015400299, 0.018361386, -0.0117385965, -0.008836996, 0.016867623, 0.024719793, -0.0056842305, 0.030536214, -0.011917056, 0.017740088, -0.021163844, -0.011864179, -0.0058032027, 0.0039723516, -0.012036027, 0.0027115762, -0.0236887, 0.0062989206, 0.007878608, 0.005370276, -0.0042169057, 0.008691585, 0.029584438, -0.0041904678, 0.009643363, -0.003995485, 0.017052691, 0.001406186, 0.01369503, -0.009623534, -0.0050695403, -0.032254703, -0.010529046, -0.022710484, -0.010621579, 0.0067087137, -0.021269597, 0.0107008945, 0.007290356, -0.009273227, -0.0049770065, 0.009061721, -0.001060836, -0.02259151, -0.0025909515, 0.022816237, 0.017158445, 0.0043391827, -0.0069929254, -0.0070854593, 0.0016870928, -0.01399907, -0.00048332484, 0.005274437, -0.002247254, 0.0026735712, -0.010852914, 0.004117762, 0.016471049, 0.030192517, -0.023609385, 0.02353007, -0.02093912, -0.033497304, -0.009200522, -0.022380006, 0.0017812792, 0.028394714, 0.005178598, -0.014646808, -0.013119997, -0.0070458017, -0.006966487, -0.0123136295, 0.0009212089, 0.0061568148, 0.013318284, 0.010383635, -0.011275927, -0.014712904, -0.006064281, 0.015915845, 0.00315607, -0.026358966, -0.021256378, -0.02908211, 0.012095514, 0.10691641, 0.014448521, -0.01570434, 0.015043382, 0.009755726, -0.011421338, -0.016206667, -0.021864459, 0.010020109, -0.0018655512, -0.0012888662, -0.011897227, 0.014118042, -0.013721468, -0.0070061446, -0.0016556974, -2.5418445e-05, -0.025790544, -0.015268107, -0.021362131, 0.0035394249, 0.026226776, 0.010139081, 0.022631168, 0.00784556, -0.0062989206, 0.00408141, 0.0010211786, 0.028711973, -0.010727333, 0.0060014897, 0.0006043626, 0.0094516855, -0.015572147, 0.006368321, 0.041137967, 0.014118042, 0.028844165, 0.02523534, -0.0040219235, 0.031620186, -0.009425247, 0.014210576, -0.03524223, 0.014051947, -0.026425062, 0.0026190423, 0.028209645, 0.004048362, 0.0007142467, 0.002467022, -0.0023017828, -0.00576685, -0.0076472727, 0.014977287, -0.005505772, 0.0138272215, -0.0032139036, -0.0018721608, 0.026253214, -0.010852914, -0.031620186, 0.009273227, -0.026253214, 0.007290356, -0.027125677, -0.013192702, 0.004259868, -0.009484733, -0.0026752236, -0.009299666, -0.0054694195, -0.038203318, -0.015876187, 0.024032397, 0.018321728, 0.039578106, -0.00484151, -0.008433811, 0.0079380935, -0.00315607, -0.03000745, 0.018520016, -0.018837275, 0.00021976822, 0.02478589, -0.0059122606, -0.0145013975, -0.020687955, 0.008777509, 0.0012847353, 0.007508472, -0.0045936513, -0.042407002, -0.012743251, -0.023265688, -0.010667847, 0.012571403, 0.016497487, -0.014474959, 0.0061931675, -0.02323925, -0.02863266, -0.006599656, -0.004200382, -0.00077125424, -0.00576685, 0.019326383, -0.022908771, -0.028526906, 0.03767455, -0.006474074, 0.00024310825, 0.017607896, 0.015796874, 0.034528397, -0.005522296, 0.008103333, 0.0039194752, -0.011315584, -0.0025281606, -0.026477939, 0.020701174, 0.018440701, -0.03783318, -0.00907494, -0.008123162, -0.022287471, -0.01892981, -0.005168684, 0.00043251377, 0.027469374, -0.031276487, -0.0137611255, -0.012082295, 0.00021481104, -0.007977751, 3.9760696e-05, 0.002785934, 0.00024909817, -0.023437535, -0.016867623, -0.005535515, -0.018599331, 0.0022026394, -0.027099239, -0.0032866087, -0.0069400487, -0.012749861, 0.03873208, -0.0085131265, 0.0021877678, 0.010033328, 0.017925154, -0.026530815, -0.025737667, -0.008704804, 0.02013275, 0.040662076, -0.0031792033, 0.019313164, -0.009114597, 0.034660585, 0.008288401, -0.00029557172, 0.015823312, 0.007706759, 0.0031378935, -0.005271132, 0.038970027, 0.014937629, 0.021097748, -0.0019366042, 0.0016697427, 0.0070854593, 0.024865203, 0.0021728962, -0.004246649, -6.526951e-05, -0.035585925, 0.0056809257, 0.014210576, -0.007092069, 0.01122966, 0.008585832, 0.002529813, 0.034264013, 0.0054495907, 0.010581922, -0.022631168, 0.022340348, -0.015268107, 0.03381456, -0.018123442, -0.0053140945, -0.014580712, -0.017264199, -0.021256378, 0.012419383, 0.021586856, 0.0078059025, 0.008328059, -0.00019890675, -0.013549619, -9.702643e-05, -0.016048037, 0.008447031, 7.539041e-05, 0.015215231, 0.005585087, 0.01814988, -0.04153454, -0.0075150817, -0.017171664, 0.0013243926, -0.018520016, -0.018215977, 0.023834111, 0.003582387, -0.009524391, -0.022974866, -0.010720723, 0.03106498, -0.0058825174, 0.0023761406, -0.018797617, -0.021930555, -0.0056478777, 0.010694285, 0.0029726543, -0.013245579, 0.012696984, 0.01183774, 0.014342767, -0.0068805628, 0.0050959787, 0.018361386, -0.026491158, -0.01616701, -0.0046597472, 0.0064972076, -0.025935953, 0.012425993, -0.008242134, -0.021613294, 0.026689446, -0.0058197267, -0.008519736, -0.008803948, -0.017925154, -0.016114132, 0.01014569, 0.015836531, 0.006325359, -0.018083785, 0.0108991815, -0.005459505, -0.029267177, 0.015334203, 0.014263453, -0.013562839, 0.006847515, 0.0018820751, 0.020198846, 0.0037707598, -0.0012475564, 0.0025165938, -0.017779743, -0.024283562, 0.026425062, 0.005476029, -0.0050695403, -0.020370696, 0.012492088, 0.007766245, 0.026557254, -0.01891659, -0.009874698, 0.016695775, -0.009326104, 0.010932229, 0.004296221, -0.0356388, 0.009094769, -0.009365761, -0.018361386, -0.014858314, -0.011460995, 0.012901881, -0.031593747, -0.042486317, -0.0032849563, 0.011011544, 0.012544964, -0.036484826, -0.0035559488, 0.015796874, 0.027310744, -0.029795943, 0.01262428, -0.0072837463, -0.013417427, -0.007614225, 0.005829641, -0.012743251, -0.008433811, 0.039022904, -0.0013351332, -0.025156025, -0.009260008, -0.0009897832, -0.013238969, -0.022565072, -0.009590486, -0.023503631, 0.00892292, -0.008817167, -0.028500468, -0.008176038, 0.0101589095, 0.004243344, -0.0040681907, 0.004798548, -0.0047489763, -0.0044845934, 0.006272482, -0.0035658632, -0.0028718582, -0.024931299, 0.0047423667, 0.00016017881, 0.0145674925, -0.022829456, 0.00723087, -0.020661516, 0.0029660447, -0.0015268107, 0.033629492, 0.021930555, 0.002467022, -0.0039855707, 0.028685534, 0.0055123814, 0.012412773, 0.015453176, -0.009848259, -0.0027000094, 0.00045482107, -0.043279465, -0.010363806, 0.01632564, 0.03635264, 0.009914355, -0.012822567, -0.01955111, -0.012267362, -0.038256194, -0.007548129, 0.0073762806, 0.0006130377, 0.017224541, -0.008566003, -0.0070061446, 0.007878608, -0.017211322, -0.002184463, -0.0004436674, -0.0108991815, -0.020397134, 0.010099423, 0.01875796, -0.0011004935, -0.0005308311, -0.004137591, 0.0007993449, -0.011672501, -0.0024653696, -0.022974866, -0.010324148, -0.0025826895, -0.009663192, 0.035797432, 0.012994415, 0.0003666246, 0.0042499537, -0.028685534, -0.009623534, -0.0018457226, -0.020687955, -0.0026669616, -0.010039938, 0.016669337, -0.004210296, 0.0086453175, 0.008261963, -0.014871533, 0.0153077645, 0.014276672, 0.027099239, -0.02076727, -0.018784398, 0.025129586, -0.0063385777, -0.012425993, -0.022670826, 0.021758705, -0.0023579642, -0.0020572287, -0.01446174, -0.036088254, 0.014686465, 0.00014220904, -0.0049902257, -0.006788029, 0.004666357, -0.00384677, -0.0015218536, 0.011090859, 0.012604451, -0.00027656922, -0.019339602, 0.006735152, 0.013932974, -0.006133681, -0.0071912124, -0.025486503, 0.025393968, -0.024058836, -0.021044873, 0.005799898, -0.013040682, -0.0022373395, -0.017515361, 0.0124788685, -0.00064402, 0.004031838, 0.24154013, 0.0069003915, -0.0040417523, 0.011335413, -0.02397952, 0.007177993, 0.037410166, 0.009458295, -0.028738411, 0.015664682, -0.016656118, -0.021586856, 0.017171664, 0.003582387, 0.0072969655, -0.011546919, -0.02966375, -0.0013880098, -0.0024769364, -0.025790544, 0.018348167, -0.011864179, -0.029108549, -0.015453176, 0.018810837, 0.03616757, 0.001414448, 0.00085593935, 0.010581922, 0.005710669, -0.001523506, -0.009868088, 0.0009369066, -0.011976541, -0.027680881, 0.002589299, 0.01874474, -0.0033031327, -0.0033659237, -0.0070259734, 0.018215977, 0.0038203315, 0.011487433, -0.007918266, -0.021243159, 0.054119162, -0.016219886, 0.0018705084, -0.004752281, 0.02059542, -0.004953873, -0.0022621255, 0.019656861, 0.018969467, -0.024997395, 0.0018060651, 0.011646063, 0.007865389, -0.0074489857, 0.014051947, 0.007508472, 0.020040218, -0.024336439, 0.010416683, 0.005092674, 0.012525136, -0.011348632, -0.0046531376, -0.0026025183, -0.04505083, -0.001569773, -0.0085461745, -0.021758705, 0.007951313, -0.026795197, -0.014897971, 0.004934044, 0.031012103, 0.018559674, 0.026848074, -0.003661702, -0.0060510617, 0.006873953, -0.0007543172, -0.031911004, -0.045473844, 0.014104823, 0.0045341654, -0.0067120185, -0.027628005, 0.00085759175, -0.0030618834, -0.0067748097, 0.0034568054, 0.0024356267, -0.012042637, -0.01522845, 0.033841, -0.008566003, -0.0053834952, -0.014580712, -0.009147645, 0.02212884, 0.009312885, -0.010079594, 0.013476914, 0.001852332, 0.017938374, 0.0042532585, -0.028394714, -0.00399879, -0.03291566, -0.0020175714, 0.002984221, 0.00815621, -0.0034105382, -0.0031164123, -0.021348912, 0.0064112833, -0.0055751726, -0.03339155, -0.001738317, 0.002989178, 0.018982686, -0.003906256, -0.00319077, -0.02000056, -0.0027793243, 0.005479334, -0.046557814, 0.01632564, -0.01599516, 0.0031131075, 0.0093194945, -0.01261106, 0.018440701, -0.010066375, 0.0019366042, 0.0023017828, 0.01723776, 0.012366506, -0.022089183, 0.017356731, 0.00047919384, 0.0077926833, -0.0354273, 0.0130208535, 0.021877678, 0.004015314, -0.02966375, -0.008255353, -0.0045903465, -0.012954758, 0.012135171, 0.010363806, -0.044231243, -0.04460138, -0.027707318, -0.011223051, -0.009121207, -0.0074159377, 0.012465649, 0.018599331, 0.010383635, -0.0025364226, -0.008057066, -0.16931075, 0.02661013, 0.02339788, -0.02045001, 0.005942004, -0.0025397274, 0.03323292, -0.010343977, -0.016708994, 0.024719793, 0.019260287, 0.0061402908, -0.020159189, 0.022803018, -0.0075283004, 0.013119997, -0.014593931, 0.032942098, 0.019418918, 0.00631214, 0.031858128, 0.008539565, 0.012789519, 0.0024257123, 0.013457085, 0.015030163, 0.0034369766, 0.001822589, 0.001877118, -0.0051918174, 0.008737852, -7.182744e-05, -0.0069003915, -0.022565072, 0.030086763, 0.008856825, -0.00753491, -0.002146458, 0.0016201709, 0.015942283, 0.02969019, 0.020899462, 0.0077926833, 0.008116553, -0.0114742145, 0.026239995, 0.014118042, -0.003022226, 0.013800783, -0.020079875, 0.014329548, -0.023120277, -0.0015375513, 0.00018723673, 0.014897971, -0.0051356363, 0.015796874, 0.025274998, -0.007554739, -0.014488178, 0.0094516855, -0.02230069, 0.029108549, 0.010324148, 0.008486688, -0.0130539015, -0.014831875, -0.015836531, -0.03217539, 0.021256378, -0.020212065, -0.008116553, 0.012961367, -0.0009393852, 0.0031098027, 0.0043623163, -0.0046994044, -0.027786633, 0.00054405024, 0.035956062, -0.017118787, 0.013305065, -0.0079380935, 0.00484151, -0.010714114, 0.025314655, -0.013529791, 0.015479614, -0.008850215, -0.013331504, 0.023503631, -0.019009124, -0.029584438, -0.012472259, 0.026134241, 0.009907746, 0.0048547294, 0.0032733898, 0.0022125538, -0.022525415, 0.0077464166, -0.026781978, 0.011811302, -0.020251723, 0.03233402, 0.003005702, 0.011256098, 0.009630144, 0.03339155, -0.010271273, -0.0015119392, -0.0041640294, 0.00477211, 0.0073167942, -0.016550364, 0.037886057, -0.006080805, -0.0070524113, 0.0018705084, -0.0053867996, 0.058851615, 0.01446174, -0.027231429, 0.0014888057, 0.00054776814, 0.00089642295, -0.12320239, -0.0049439585, 0.002761148, -0.0024471935, 0.019471794, 0.004335878, -0.027337182, -0.014514617, -0.009266618, 0.009702849, -0.009392199, -0.013576058, 0.0024851984, -0.019789053, -0.0015705992, -0.010562093, 0.018850494, -0.024177808, -0.016986595, 0.040344816, -0.006873953, -0.005548734, -0.01091901, -0.012657328, 0.0049406537, -0.018969467, -0.03458127, 0.0010236572, 0.006807857, 0.005271132, -0.0012764733, -0.025552599, 0.0018126747, -0.01307373, 0.01599516, -0.0086783655, -0.011467605, 0.011857569, 0.012386335, -0.018718302, -0.0021646342, 0.011725377, 0.019498233, -0.05092013, -0.0030552738, -0.0001622443, -0.02059542, 0.017792962, 0.008949358, -0.014818656, -0.017726868, 0.016365295, -0.025142806, -0.013880097, -0.0077001494, 0.00045027697, 0.010258053, 0.009531001, 0.0083809355, 0.021956993, -0.015836531, -0.010786818, -0.005763545, -0.018995905, 0.015360641, -0.008010799, -0.0048877774, -0.0020968863, -0.014131261, -0.0525593, -0.030351147, -0.0047588907, -0.028659096, 0.0042896112, 0.0007419243, -0.0008439595, -0.013985851, 0.0022951732, 0.011712159, -0.02598883, -0.0101919575, -0.00484812, 0.009735897, -0.02815677, 0.015810093, 0.0016019946, 0.00041144574, 0.009649972, -0.00085511315, 0.00013467, -0.032016758, 0.028368276, -0.0003358488, -0.013747906, -0.0070986785, 0.007409328, -0.0013235664, -0.0031098027, 0.009101379, -0.0017366646, -0.008493298, 0.0016937024, -0.038970027, 0.021943774, -0.009716068, -0.01261767, 0.015294545, -0.004877863, 0.0043722307, -0.025486503, -0.03524223, 0.0060708905, -0.009940794, 0.027469374, 0.021269597, -0.016854404, -0.014289891, -0.021467885, 0.005832946, 0.025764106, 0.006953268, 0.022393225, 0.001334307, -0.00968963, 0.026398623, 0.009894527, -0.010330758, 0.0042400393, -0.022393225, 0.015770435, -0.014051947, -0.0041309814, 0.0028322008, -0.023926644, 0.00908816, 0.020833366, 0.01936604, 0.008090114, 0.0040946286, 0.026107803, 0.016656118, 0.061019555, -0.009107988, -0.016867623, -0.0054562003, -0.037172224, 0.023080619, -0.01092562, -0.029558, 0.019048782, 0.025565818, 0.004858034, 0.021454666, 0.011368461, -0.0069003915, -0.0071317265, -0.003863294, -0.037172224, 0.0024504983, 0.008129772, -0.011434557, -0.014990506, 0.03183169, -0.01092562, 0.0016614808, -0.023754796, 0.015426737, -0.01632564, 0.010423292, 0.012822567, -0.0068541244, -0.033735245, -0.010555483, -0.0021894202, 0.0115403095, 0.032016758, 0.011123907, 0.0021976822, -0.0011558486, 0.038044687, -0.005261218, 0.029425807, -0.009101379, 0.01124288, -0.0027082714, 0.021758705, 0.023450755, 0.023569727, 0.010377025, -0.0017118787, -0.002235687, 0.0040087043, -0.003329571, -0.01045634, 0.0048877774, -0.01169233, -0.0027049666, 0.027231429, -0.007521691, 0.008235524, 0.019233849, 0.01492441, 0.015942283, -0.014646808, 0.009107988, -0.015083039, -0.022168498, 0.041904677, -0.0032254702, -0.02828896, 0.0040020947, 0.021124186, 0.005290961, -0.0009179041, -0.010621579, 0.010819866, -0.015083039, 0.018903371, -0.0033196567, -0.013205921, -0.010753771, 0.03434333, -0.00445485, 0.0042036865, 0.009570658, -0.022049526, -0.012696984, 0.024402533, 0.0121814385, 0.003800503, 0.006226215, -0.019048782, -0.009061721, -0.016048037, -0.010020109, -0.008136381, 0.0117385965, -0.011447776, -0.00149872, 0.019789053, -0.03629976, 0.02091268, -0.0027413194, -0.006873953, -0.010958668, 0.01308034, 0.019617205, 0.014170919, -0.00799758, -0.012207876, -0.0037344072, 0.014964067, -0.0013772692, 0.029795943, -0.02892348, -0.033603057, -0.012062466, 0.009015454, -0.0061733387, 0.015149135, 0.023477193, 0.018321728, 0.008572613, 0.023212811, 0.01106442, -0.021031654, 0.007369671, 0.03801825, -0.017264199, -0.0067252377, -0.038494136, -0.0046927948, 0.005942004, -0.056049157, -0.024838766, 0.014276672, -0.03381456, -0.009821822, -0.027059581, -0.00047547597, 0.013146435, -0.012525136, 0.0036517875, -0.021758705, 0.0085461745, 0.0045011174, -0.0038566843, -0.004967092, -0.0018159795, -0.028394714]}}, rets=[{'node': {'id_': '84343470-d803-4c3b-96e6-d2f116021386', 'embedding': None, 'metadata': {'file_path': '/root/notebook/my-jupyter-notebook/llm/trulens/data2/paul.txt', 'file_name': 'paul.txt', 'file_type': 'text/plain', 'file_size': 75042, 'creation_date': '2024-08-06', 'last_modified_date': '2024-08-06'}, 'excluded_embed_metadata_keys': ['file_name', 'file_type', 'file_size', 'creation_date', 'last_modified_date', 'last_accessed_date'], 'excluded_llm_metadata_keys': ['file_name', 'file_type', 'file_size', 'creation_date', 'last_modified_date', 'last_accessed_date'], 'relationships': {<NodeRelationship.SOURCE: '1'>: {'node_id': 'f4f8e222-b752-4f63-b272-1372556d1f09', 'node_type': <ObjectType.DOCUMENT: '4'>, 'metadata': {'file_path': '/root/notebook/my-jupyter-notebook/llm/trulens/data2/paul.txt', 'file_name': 'paul.txt', 'file_type': 'text/plain', 'file_size': 75042, 'creation_date': '2024-08-06', 'last_modified_date': '2024-08-06'}, 'hash': '2f90b9b99217e8e77c97e77c3f36de7b91a6ef9ec21ab3194b5bca4a2f01f0b0'}, <NodeRelationship.NEXT: '3'>: {'node_id': '8949dfc2-856d-48b6-b323-d7046fd1f4f4', 'node_type': <ObjectType.TEXT: '1'>, 'metadata': {}, 'hash': 'e99647d69b84b0a13c59268b58406bb00652b41196a27d7b46b56e5d713018ed'}}, 'text': \"What I Worked On\\n\\nFebruary 2021\\n\\nBefore college the two main things I worked on, outside of school, were writing and programming. I didn't write essays. I wrote what beginning writers were supposed to write then, and probably still are: short stories. My stories were awful. They had hardly any plot, just characters with strong feelings, which I imagined made them deep.\", 'start_char_idx': 2, 'end_char_idx': 373, 'text_template': '{metadata_str}\\n\\n{content}', 'metadata_template': '{key}: {value}', 'metadata_seperator': '\\n'}, 'score': 0.8105395128531931}, {'node': {'id_': '9cd1f6e2-0ba0-4a49-a356-1d919e79d5bd', 'embedding': None, 'metadata': {'file_path': '/root/notebook/my-jupyter-notebook/llm/trulens/data2/paul.txt', 'file_name': 'paul.txt', 'file_type': 'text/plain', 'file_size': 75042, 'creation_date': '2024-08-06', 'last_modified_date': '2024-08-06'}, 'excluded_embed_metadata_keys': ['file_name', 'file_type', 'file_size', 'creation_date', 'last_modified_date', 'last_accessed_date'], 'excluded_llm_metadata_keys': ['file_name', 'file_type', 'file_size', 'creation_date', 'last_modified_date', 'last_accessed_date'], 'relationships': {<NodeRelationship.SOURCE: '1'>: {'node_id': 'f4f8e222-b752-4f63-b272-1372556d1f09', 'node_type': <ObjectType.DOCUMENT: '4'>, 'metadata': {'file_path': '/root/notebook/my-jupyter-notebook/llm/trulens/data2/paul.txt', 'file_name': 'paul.txt', 'file_type': 'text/plain', 'file_size': 75042, 'creation_date': '2024-08-06', 'last_modified_date': '2024-08-06'}, 'hash': '2f90b9b99217e8e77c97e77c3f36de7b91a6ef9ec21ab3194b5bca4a2f01f0b0'}, <NodeRelationship.PREVIOUS: '2'>: {'node_id': '23d0b80d-0f9b-4a60-b803-df9fd6584023', 'node_type': <ObjectType.TEXT: '1'>, 'metadata': {'file_path': '/root/notebook/my-jupyter-notebook/llm/trulens/data2/paul.txt', 'file_name': 'paul.txt', 'file_type': 'text/plain', 'file_size': 75042, 'creation_date': '2024-08-06', 'last_modified_date': '2024-08-06'}, 'hash': '2c1cd44763d50436baa36ad68024d7450073f93cde382e736679a2377e51ee80'}, <NodeRelationship.NEXT: '3'>: {'node_id': '3f305f0d-2701-413f-9de4-b850c91c59dc', 'node_type': <ObjectType.TEXT: '1'>, 'metadata': {}, 'hash': '8e3dd526205a7ade913f9d9b0e717c3203886de4231d7c92295debca77b9c03b'}}, 'text': \"I remember that I answered the essay question by writing about Cezanne, and that I cranked up the intellectual level as high as I could to make the most of my limited vocabulary. [2]\\n\\nI'm only up to age 25 and already there are such conspicuous patterns. Here I was, yet again about to attend some august institution in the hopes of learning about some prestigious subject, and yet again about to be disappointed.\", 'start_char_idx': 13460, 'end_char_idx': 13873, 'text_template': '{metadata_str}\\n\\n{content}', 'metadata_template': '{key}: {value}', 'metadata_seperator': '\\n'}, 'score': 0.8041409156472084}, {'node': {'id_': 'd6dbbb15-84dc-44f6-9e14-f52911746222', 'embedding': None, 'metadata': {'file_path': '/root/notebook/my-jupyter-notebook/llm/trulens/data2/paul.txt', 'file_name': 'paul.txt', 'file_type': 'text/plain', 'file_size': 75042, 'creation_date': '2024-08-06', 'last_modified_date': '2024-08-06'}, 'excluded_embed_metadata_keys': ['file_name', 'file_type', 'file_size', 'creation_date', 'last_modified_date', 'last_accessed_date'], 'excluded_llm_metadata_keys': ['file_name', 'file_type', 'file_size', 'creation_date', 'last_modified_date', 'last_accessed_date'], 'relationships': {<NodeRelationship.SOURCE: '1'>: {'node_id': 'f4f8e222-b752-4f63-b272-1372556d1f09', 'node_type': <ObjectType.DOCUMENT: '4'>, 'metadata': {'file_path': '/root/notebook/my-jupyter-notebook/llm/trulens/data2/paul.txt', 'file_name': 'paul.txt', 'file_type': 'text/plain', 'file_size': 75042, 'creation_date': '2024-08-06', 'last_modified_date': '2024-08-06'}, 'hash': '2f90b9b99217e8e77c97e77c3f36de7b91a6ef9ec21ab3194b5bca4a2f01f0b0'}, <NodeRelationship.PREVIOUS: '2'>: {'node_id': '6188d694-5c9b-4cf7-9243-43f850729cc7', 'node_type': <ObjectType.TEXT: '1'>, 'metadata': {'file_path': '/root/notebook/my-jupyter-notebook/llm/trulens/data2/paul.txt', 'file_name': 'paul.txt', 'file_type': 'text/plain', 'file_size': 75042, 'creation_date': '2024-08-06', 'last_modified_date': '2024-08-06'}, 'hash': 'c14e8533e02c3f21f248dd85b2b6dd29f8b69679ed263248133de3eaca12363c'}, <NodeRelationship.NEXT: '3'>: {'node_id': '3ffe74d6-65ce-4bc7-a4eb-f06009af1f2a', 'node_type': <ObjectType.TEXT: '1'>, 'metadata': {}, 'hash': '0b4f822ad12b07d089691e8fe465cfd1a8eb40b43de3358e4fe2ed3606b289e6'}}, 'text': 'I remember taking the boys to the coast on a sunny day in 2015 and figuring out how to deal with some problem involving continuations while I watched them play in the tide pools. It felt like I was doing life right. I remember that because I was slightly dismayed at how novel it felt. The good news is that I had more moments like this over the next few years.\\n\\nIn the summer of 2016 we moved to England.', 'start_char_idx': 65997, 'end_char_idx': 66402, 'text_template': '{metadata_str}\\n\\n{content}', 'metadata_template': '{key}: {value}', 'metadata_seperator': '\\n'}, 'score': 0.803919757050338}], error=None, perf=Perf(start_time=datetime.datetime(2024, 8, 7, 15, 2, 50, 663219), end_time=datetime.datetime(2024, 8, 7, 15, 2, 51, 643707)), pid=15801, tid=15801), RecordAppCall(call_id='dd4f7242-e1fc-491a-969f-11e61b8da8b9', stack=[RecordAppCallMethod(path=Lens().app, method=Method(obj=Obj(cls=trulens_eval.guardrails.llama.WithFeedbackFilterNodes, id=140368941480640, init_bindings=None), name='query')), RecordAppCallMethod(path=Lens().app.query_engine, method=Method(obj=Obj(cls=llama_index.core.query_engine.retriever_query_engine.RetrieverQueryEngine, id=140368941480640, init_bindings=None), name='retrieve')), RecordAppCallMethod(path=Lens().app.query_engine._retriever, method=Method(obj=Obj(cls=llama_index.core.indices.vector_store.retrievers.retriever.VectorIndexRetriever, id=140369254145840, init_bindings=None), name='retrieve'))], args={'str_or_query_bundle': 'What did the author do growing up?'}, rets=[{'node': {'id_': '84343470-d803-4c3b-96e6-d2f116021386', 'embedding': None, 'metadata': {'file_path': '/root/notebook/my-jupyter-notebook/llm/trulens/data2/paul.txt', 'file_name': 'paul.txt', 'file_type': 'text/plain', 'file_size': 75042, 'creation_date': '2024-08-06', 'last_modified_date': '2024-08-06'}, 'excluded_embed_metadata_keys': ['file_name', 'file_type', 'file_size', 'creation_date', 'last_modified_date', 'last_accessed_date'], 'excluded_llm_metadata_keys': ['file_name', 'file_type', 'file_size', 'creation_date', 'last_modified_date', 'last_accessed_date'], 'relationships': {<NodeRelationship.SOURCE: '1'>: {'node_id': 'f4f8e222-b752-4f63-b272-1372556d1f09', 'node_type': <ObjectType.DOCUMENT: '4'>, 'metadata': {'file_path': '/root/notebook/my-jupyter-notebook/llm/trulens/data2/paul.txt', 'file_name': 'paul.txt', 'file_type': 'text/plain', 'file_size': 75042, 'creation_date': '2024-08-06', 'last_modified_date': '2024-08-06'}, 'hash': '2f90b9b99217e8e77c97e77c3f36de7b91a6ef9ec21ab3194b5bca4a2f01f0b0'}, <NodeRelationship.NEXT: '3'>: {'node_id': '8949dfc2-856d-48b6-b323-d7046fd1f4f4', 'node_type': <ObjectType.TEXT: '1'>, 'metadata': {}, 'hash': 'e99647d69b84b0a13c59268b58406bb00652b41196a27d7b46b56e5d713018ed'}}, 'text': \"What I Worked On\\n\\nFebruary 2021\\n\\nBefore college the two main things I worked on, outside of school, were writing and programming. I didn't write essays. I wrote what beginning writers were supposed to write then, and probably still are: short stories. My stories were awful. They had hardly any plot, just characters with strong feelings, which I imagined made them deep.\", 'start_char_idx': 2, 'end_char_idx': 373, 'text_template': '{metadata_str}\\n\\n{content}', 'metadata_template': '{key}: {value}', 'metadata_seperator': '\\n'}, 'score': 0.8105395128531931}, {'node': {'id_': '9cd1f6e2-0ba0-4a49-a356-1d919e79d5bd', 'embedding': None, 'metadata': {'file_path': '/root/notebook/my-jupyter-notebook/llm/trulens/data2/paul.txt', 'file_name': 'paul.txt', 'file_type': 'text/plain', 'file_size': 75042, 'creation_date': '2024-08-06', 'last_modified_date': '2024-08-06'}, 'excluded_embed_metadata_keys': ['file_name', 'file_type', 'file_size', 'creation_date', 'last_modified_date', 'last_accessed_date'], 'excluded_llm_metadata_keys': ['file_name', 'file_type', 'file_size', 'creation_date', 'last_modified_date', 'last_accessed_date'], 'relationships': {<NodeRelationship.SOURCE: '1'>: {'node_id': 'f4f8e222-b752-4f63-b272-1372556d1f09', 'node_type': <ObjectType.DOCUMENT: '4'>, 'metadata': {'file_path': '/root/notebook/my-jupyter-notebook/llm/trulens/data2/paul.txt', 'file_name': 'paul.txt', 'file_type': 'text/plain', 'file_size': 75042, 'creation_date': '2024-08-06', 'last_modified_date': '2024-08-06'}, 'hash': '2f90b9b99217e8e77c97e77c3f36de7b91a6ef9ec21ab3194b5bca4a2f01f0b0'}, <NodeRelationship.PREVIOUS: '2'>: {'node_id': '23d0b80d-0f9b-4a60-b803-df9fd6584023', 'node_type': <ObjectType.TEXT: '1'>, 'metadata': {'file_path': '/root/notebook/my-jupyter-notebook/llm/trulens/data2/paul.txt', 'file_name': 'paul.txt', 'file_type': 'text/plain', 'file_size': 75042, 'creation_date': '2024-08-06', 'last_modified_date': '2024-08-06'}, 'hash': '2c1cd44763d50436baa36ad68024d7450073f93cde382e736679a2377e51ee80'}, <NodeRelationship.NEXT: '3'>: {'node_id': '3f305f0d-2701-413f-9de4-b850c91c59dc', 'node_type': <ObjectType.TEXT: '1'>, 'metadata': {}, 'hash': '8e3dd526205a7ade913f9d9b0e717c3203886de4231d7c92295debca77b9c03b'}}, 'text': \"I remember that I answered the essay question by writing about Cezanne, and that I cranked up the intellectual level as high as I could to make the most of my limited vocabulary. [2]\\n\\nI'm only up to age 25 and already there are such conspicuous patterns. Here I was, yet again about to attend some august institution in the hopes of learning about some prestigious subject, and yet again about to be disappointed.\", 'start_char_idx': 13460, 'end_char_idx': 13873, 'text_template': '{metadata_str}\\n\\n{content}', 'metadata_template': '{key}: {value}', 'metadata_seperator': '\\n'}, 'score': 0.8041409156472084}, {'node': {'id_': 'd6dbbb15-84dc-44f6-9e14-f52911746222', 'embedding': None, 'metadata': {'file_path': '/root/notebook/my-jupyter-notebook/llm/trulens/data2/paul.txt', 'file_name': 'paul.txt', 'file_type': 'text/plain', 'file_size': 75042, 'creation_date': '2024-08-06', 'last_modified_date': '2024-08-06'}, 'excluded_embed_metadata_keys': ['file_name', 'file_type', 'file_size', 'creation_date', 'last_modified_date', 'last_accessed_date'], 'excluded_llm_metadata_keys': ['file_name', 'file_type', 'file_size', 'creation_date', 'last_modified_date', 'last_accessed_date'], 'relationships': {<NodeRelationship.SOURCE: '1'>: {'node_id': 'f4f8e222-b752-4f63-b272-1372556d1f09', 'node_type': <ObjectType.DOCUMENT: '4'>, 'metadata': {'file_path': '/root/notebook/my-jupyter-notebook/llm/trulens/data2/paul.txt', 'file_name': 'paul.txt', 'file_type': 'text/plain', 'file_size': 75042, 'creation_date': '2024-08-06', 'last_modified_date': '2024-08-06'}, 'hash': '2f90b9b99217e8e77c97e77c3f36de7b91a6ef9ec21ab3194b5bca4a2f01f0b0'}, <NodeRelationship.PREVIOUS: '2'>: {'node_id': '6188d694-5c9b-4cf7-9243-43f850729cc7', 'node_type': <ObjectType.TEXT: '1'>, 'metadata': {'file_path': '/root/notebook/my-jupyter-notebook/llm/trulens/data2/paul.txt', 'file_name': 'paul.txt', 'file_type': 'text/plain', 'file_size': 75042, 'creation_date': '2024-08-06', 'last_modified_date': '2024-08-06'}, 'hash': 'c14e8533e02c3f21f248dd85b2b6dd29f8b69679ed263248133de3eaca12363c'}, <NodeRelationship.NEXT: '3'>: {'node_id': '3ffe74d6-65ce-4bc7-a4eb-f06009af1f2a', 'node_type': <ObjectType.TEXT: '1'>, 'metadata': {}, 'hash': '0b4f822ad12b07d089691e8fe465cfd1a8eb40b43de3358e4fe2ed3606b289e6'}}, 'text': 'I remember taking the boys to the coast on a sunny day in 2015 and figuring out how to deal with some problem involving continuations while I watched them play in the tide pools. It felt like I was doing life right. I remember that because I was slightly dismayed at how novel it felt. The good news is that I had more moments like this over the next few years.\\n\\nIn the summer of 2016 we moved to England.', 'start_char_idx': 65997, 'end_char_idx': 66402, 'text_template': '{metadata_str}\\n\\n{content}', 'metadata_template': '{key}: {value}', 'metadata_seperator': '\\n'}, 'score': 0.803919757050338}], error=None, perf=Perf(start_time=datetime.datetime(2024, 8, 7, 15, 2, 50, 466449), end_time=datetime.datetime(2024, 8, 7, 15, 2, 51, 645506)), pid=15801, tid=15801), RecordAppCall(call_id='aaed7e29-1d30-4a89-bbbe-2e7847548894', stack=[RecordAppCallMethod(path=Lens().app, method=Method(obj=Obj(cls=trulens_eval.guardrails.llama.WithFeedbackFilterNodes, id=140368941480640, init_bindings=None), name='query')), RecordAppCallMethod(path=Lens().app.query_engine, method=Method(obj=Obj(cls=llama_index.core.query_engine.retriever_query_engine.RetrieverQueryEngine, id=140368941480640, init_bindings=None), name='retrieve'))], args={'query_bundle': 'What did the author do growing up?'}, rets=[{'node': {'id_': '84343470-d803-4c3b-96e6-d2f116021386', 'embedding': None, 'metadata': {'file_path': '/root/notebook/my-jupyter-notebook/llm/trulens/data2/paul.txt', 'file_name': 'paul.txt', 'file_type': 'text/plain', 'file_size': 75042, 'creation_date': '2024-08-06', 'last_modified_date': '2024-08-06'}, 'excluded_embed_metadata_keys': ['file_name', 'file_type', 'file_size', 'creation_date', 'last_modified_date', 'last_accessed_date'], 'excluded_llm_metadata_keys': ['file_name', 'file_type', 'file_size', 'creation_date', 'last_modified_date', 'last_accessed_date'], 'relationships': {<NodeRelationship.SOURCE: '1'>: {'node_id': 'f4f8e222-b752-4f63-b272-1372556d1f09', 'node_type': <ObjectType.DOCUMENT: '4'>, 'metadata': {'file_path': '/root/notebook/my-jupyter-notebook/llm/trulens/data2/paul.txt', 'file_name': 'paul.txt', 'file_type': 'text/plain', 'file_size': 75042, 'creation_date': '2024-08-06', 'last_modified_date': '2024-08-06'}, 'hash': '2f90b9b99217e8e77c97e77c3f36de7b91a6ef9ec21ab3194b5bca4a2f01f0b0'}, <NodeRelationship.NEXT: '3'>: {'node_id': '8949dfc2-856d-48b6-b323-d7046fd1f4f4', 'node_type': <ObjectType.TEXT: '1'>, 'metadata': {}, 'hash': 'e99647d69b84b0a13c59268b58406bb00652b41196a27d7b46b56e5d713018ed'}}, 'text': \"What I Worked On\\n\\nFebruary 2021\\n\\nBefore college the two main things I worked on, outside of school, were writing and programming. I didn't write essays. I wrote what beginning writers were supposed to write then, and probably still are: short stories. My stories were awful. They had hardly any plot, just characters with strong feelings, which I imagined made them deep.\", 'start_char_idx': 2, 'end_char_idx': 373, 'text_template': '{metadata_str}\\n\\n{content}', 'metadata_template': '{key}: {value}', 'metadata_seperator': '\\n'}, 'score': 0.8105395128531931}, {'node': {'id_': '9cd1f6e2-0ba0-4a49-a356-1d919e79d5bd', 'embedding': None, 'metadata': {'file_path': '/root/notebook/my-jupyter-notebook/llm/trulens/data2/paul.txt', 'file_name': 'paul.txt', 'file_type': 'text/plain', 'file_size': 75042, 'creation_date': '2024-08-06', 'last_modified_date': '2024-08-06'}, 'excluded_embed_metadata_keys': ['file_name', 'file_type', 'file_size', 'creation_date', 'last_modified_date', 'last_accessed_date'], 'excluded_llm_metadata_keys': ['file_name', 'file_type', 'file_size', 'creation_date', 'last_modified_date', 'last_accessed_date'], 'relationships': {<NodeRelationship.SOURCE: '1'>: {'node_id': 'f4f8e222-b752-4f63-b272-1372556d1f09', 'node_type': <ObjectType.DOCUMENT: '4'>, 'metadata': {'file_path': '/root/notebook/my-jupyter-notebook/llm/trulens/data2/paul.txt', 'file_name': 'paul.txt', 'file_type': 'text/plain', 'file_size': 75042, 'creation_date': '2024-08-06', 'last_modified_date': '2024-08-06'}, 'hash': '2f90b9b99217e8e77c97e77c3f36de7b91a6ef9ec21ab3194b5bca4a2f01f0b0'}, <NodeRelationship.PREVIOUS: '2'>: {'node_id': '23d0b80d-0f9b-4a60-b803-df9fd6584023', 'node_type': <ObjectType.TEXT: '1'>, 'metadata': {'file_path': '/root/notebook/my-jupyter-notebook/llm/trulens/data2/paul.txt', 'file_name': 'paul.txt', 'file_type': 'text/plain', 'file_size': 75042, 'creation_date': '2024-08-06', 'last_modified_date': '2024-08-06'}, 'hash': '2c1cd44763d50436baa36ad68024d7450073f93cde382e736679a2377e51ee80'}, <NodeRelationship.NEXT: '3'>: {'node_id': '3f305f0d-2701-413f-9de4-b850c91c59dc', 'node_type': <ObjectType.TEXT: '1'>, 'metadata': {}, 'hash': '8e3dd526205a7ade913f9d9b0e717c3203886de4231d7c92295debca77b9c03b'}}, 'text': \"I remember that I answered the essay question by writing about Cezanne, and that I cranked up the intellectual level as high as I could to make the most of my limited vocabulary. [2]\\n\\nI'm only up to age 25 and already there are such conspicuous patterns. Here I was, yet again about to attend some august institution in the hopes of learning about some prestigious subject, and yet again about to be disappointed.\", 'start_char_idx': 13460, 'end_char_idx': 13873, 'text_template': '{metadata_str}\\n\\n{content}', 'metadata_template': '{key}: {value}', 'metadata_seperator': '\\n'}, 'score': 0.8041409156472084}, {'node': {'id_': 'd6dbbb15-84dc-44f6-9e14-f52911746222', 'embedding': None, 'metadata': {'file_path': '/root/notebook/my-jupyter-notebook/llm/trulens/data2/paul.txt', 'file_name': 'paul.txt', 'file_type': 'text/plain', 'file_size': 75042, 'creation_date': '2024-08-06', 'last_modified_date': '2024-08-06'}, 'excluded_embed_metadata_keys': ['file_name', 'file_type', 'file_size', 'creation_date', 'last_modified_date', 'last_accessed_date'], 'excluded_llm_metadata_keys': ['file_name', 'file_type', 'file_size', 'creation_date', 'last_modified_date', 'last_accessed_date'], 'relationships': {<NodeRelationship.SOURCE: '1'>: {'node_id': 'f4f8e222-b752-4f63-b272-1372556d1f09', 'node_type': <ObjectType.DOCUMENT: '4'>, 'metadata': {'file_path': '/root/notebook/my-jupyter-notebook/llm/trulens/data2/paul.txt', 'file_name': 'paul.txt', 'file_type': 'text/plain', 'file_size': 75042, 'creation_date': '2024-08-06', 'last_modified_date': '2024-08-06'}, 'hash': '2f90b9b99217e8e77c97e77c3f36de7b91a6ef9ec21ab3194b5bca4a2f01f0b0'}, <NodeRelationship.PREVIOUS: '2'>: {'node_id': '6188d694-5c9b-4cf7-9243-43f850729cc7', 'node_type': <ObjectType.TEXT: '1'>, 'metadata': {'file_path': '/root/notebook/my-jupyter-notebook/llm/trulens/data2/paul.txt', 'file_name': 'paul.txt', 'file_type': 'text/plain', 'file_size': 75042, 'creation_date': '2024-08-06', 'last_modified_date': '2024-08-06'}, 'hash': 'c14e8533e02c3f21f248dd85b2b6dd29f8b69679ed263248133de3eaca12363c'}, <NodeRelationship.NEXT: '3'>: {'node_id': '3ffe74d6-65ce-4bc7-a4eb-f06009af1f2a', 'node_type': <ObjectType.TEXT: '1'>, 'metadata': {}, 'hash': '0b4f822ad12b07d089691e8fe465cfd1a8eb40b43de3358e4fe2ed3606b289e6'}}, 'text': 'I remember taking the boys to the coast on a sunny day in 2015 and figuring out how to deal with some problem involving continuations while I watched them play in the tide pools. It felt like I was doing life right. I remember that because I was slightly dismayed at how novel it felt. The good news is that I had more moments like this over the next few years.\\n\\nIn the summer of 2016 we moved to England.', 'start_char_idx': 65997, 'end_char_idx': 66402, 'text_template': '{metadata_str}\\n\\n{content}', 'metadata_template': '{key}: {value}', 'metadata_seperator': '\\n'}, 'score': 0.803919757050338}], error=None, perf=Perf(start_time=datetime.datetime(2024, 8, 7, 15, 2, 50, 251401), end_time=datetime.datetime(2024, 8, 7, 15, 2, 51, 647191)), pid=15801, tid=15801), RecordAppCall(call_id='97815a67-3782-4db4-9ee7-9e2f4b97d80a', stack=[RecordAppCallMethod(path=Lens().app, method=Method(obj=Obj(cls=trulens_eval.guardrails.llama.WithFeedbackFilterNodes, id=140368941480640, init_bindings=None), name='query')), RecordAppCallMethod(path=Lens().app.feedback, method=Method(obj=Obj(cls=trulens_eval.feedback.feedback.Feedback, id=140368939952272, init_bindings=None), name='__call__'))], args={'args': ['What did the author do growing up?', \"What I Worked On\\n\\nFebruary 2021\\n\\nBefore college the two main things I worked on, outside of school, were writing and programming. I didn't write essays. I wrote what beginning writers were supposed to write then, and probably still are: short stories. My stories were awful. They had hardly any plot, just characters with strong feelings, which I imagined made them deep.\"]}, rets=0.8, error=None, perf=Perf(start_time=datetime.datetime(2024, 8, 7, 15, 2, 51, 773636), end_time=datetime.datetime(2024, 8, 7, 15, 2, 52, 493621)), pid=15801, tid=16024), RecordAppCall(call_id='ec60c509-923c-4c51-a9a5-975f5f244faf', stack=[RecordAppCallMethod(path=Lens().app, method=Method(obj=Obj(cls=trulens_eval.guardrails.llama.WithFeedbackFilterNodes, id=140368941480640, init_bindings=None), name='query')), RecordAppCallMethod(path=Lens().app.feedback, method=Method(obj=Obj(cls=trulens_eval.feedback.feedback.Feedback, id=140368939952272, init_bindings=None), name='__call__'))], args={'args': ['What did the author do growing up?', \"I remember that I answered the essay question by writing about Cezanne, and that I cranked up the intellectual level as high as I could to make the most of my limited vocabulary. [2]\\n\\nI'm only up to age 25 and already there are such conspicuous patterns. Here I was, yet again about to attend some august institution in the hopes of learning about some prestigious subject, and yet again about to be disappointed.\"]}, rets=0.4, error=None, perf=Perf(start_time=datetime.datetime(2024, 8, 7, 15, 2, 51, 801807), end_time=datetime.datetime(2024, 8, 7, 15, 2, 52, 615833)), pid=15801, tid=16025), RecordAppCall(call_id='6935456f-092d-4ba0-bba7-96dcfc1a5f1c', stack=[RecordAppCallMethod(path=Lens().app, method=Method(obj=Obj(cls=trulens_eval.guardrails.llama.WithFeedbackFilterNodes, id=140368941480640, init_bindings=None), name='query')), RecordAppCallMethod(path=Lens().app.feedback, method=Method(obj=Obj(cls=trulens_eval.feedback.feedback.Feedback, id=140368939952272, init_bindings=None), name='__call__'))], args={'args': ['What did the author do growing up?', 'I remember taking the boys to the coast on a sunny day in 2015 and figuring out how to deal with some problem involving continuations while I watched them play in the tide pools. It felt like I was doing life right. I remember that because I was slightly dismayed at how novel it felt. The good news is that I had more moments like this over the next few years.\\n\\nIn the summer of 2016 we moved to England.']}, rets=0.2, error=None, perf=Perf(start_time=datetime.datetime(2024, 8, 7, 15, 2, 51, 841230), end_time=datetime.datetime(2024, 8, 7, 15, 2, 52, 676376)), pid=15801, tid=16026), RecordAppCall(call_id='2731a28a-d699-4199-922a-1dc39f3274a0', stack=[RecordAppCallMethod(path=Lens().app, method=Method(obj=Obj(cls=trulens_eval.guardrails.llama.WithFeedbackFilterNodes, id=140368941480640, init_bindings=None), name='query')), RecordAppCallMethod(path=Lens().app.query_engine, method=Method(obj=Obj(cls=llama_index.core.query_engine.retriever_query_engine.RetrieverQueryEngine, id=140368941480640, init_bindings=None), name='synthesize')), RecordAppCallMethod(path=Lens().app.query_engine._response_synthesizer, method=Method(obj=Obj(cls=llama_index.core.response_synthesizers.compact_and_refine.CompactAndRefine, id=140369254139216, init_bindings=None), name='get_response')), RecordAppCallMethod(path=Lens().app.query_engine._response_synthesizer, method=Method(obj=Obj(cls=llama_index.core.response_synthesizers.refine.Refine, id=140369254139216, init_bindings=None), name='get_response')), RecordAppCallMethod(path=Lens().app.query_engine._response_synthesizer._llm, method=Method(obj=Obj(cls=llama_index.llms.openai_like.base.OpenAILike, id=140369253380672, init_bindings=None), name='chat')), RecordAppCallMethod(path=Lens().app.query_engine._response_synthesizer._llm, method=Method(obj=Obj(cls=llama_index.llms.openai.base.OpenAI, id=140369253380672, init_bindings=None), name='wrapped_llm_chat'))], args={'_self': {'callback_manager': {'__tru_non_serialized_object': {'cls': {'name': 'CallbackManager', 'module': {'package_name': 'llama_index.core.callbacks', 'module_name': 'llama_index.core.callbacks.base'}, 'bases': None}, 'id': 140369254135696, 'init_bindings': None}}, 'system_prompt': None, 'messages_to_prompt': {'__tru_non_serialized_object': {'cls': {'name': 'function', 'module': {'package_name': '', 'module_name': 'builtins'}, 'bases': None}, 'id': 140369270557424, 'init_bindings': None}}, 'completion_to_prompt': {'__tru_non_serialized_object': {'cls': {'name': 'function', 'module': {'package_name': '', 'module_name': 'builtins'}, 'bases': None}, 'id': 140369269174000, 'init_bindings': None}}, 'output_parser': None, 'pydantic_program_mode': <PydanticProgramMode.DEFAULT: 'default'>, 'query_wrapper_prompt': None, 'model': 'qwen2', 'temperature': 0.1, 'max_tokens': None, 'logprobs': None, 'top_logprobs': 0, 'additional_kwargs': {}, 'max_retries': 3, 'timeout': 60.0, 'default_headers': None, 'reuse_client': True, 'api_key': 'sk-bJP6QSnUfjAYeYeE505d3eBf63A643BeB0B8E350Df9b7750', 'api_base': 'http://ape:3000/v1', 'api_version': '', 'context_window': 3900, 'is_chat_model': True, 'is_function_calling_model': False, 'tokenizer': None}, 'messages': [{'role': <MessageRole.SYSTEM: 'system'>, 'content': \"You are an expert Q&A system that is trusted around the world.\\nAlways answer the query using the provided context information, and not prior knowledge.\\nSome rules to follow:\\n1. Never directly reference the given context in your answer.\\n2. Avoid statements like 'Based on the context, ...' or 'The context information ...' or anything along those lines.\", 'additional_kwargs': {}}, {'role': <MessageRole.USER: 'user'>, 'content': \"Context information is below.\\n---------------------\\nfile_path: /root/notebook/my-jupyter-notebook/llm/trulens/data2/paul.txt\\n\\nWhat I Worked On\\n\\nFebruary 2021\\n\\nBefore college the two main things I worked on, outside of school, were writing and programming. I didn't write essays. I wrote what beginning writers were supposed to write then, and probably still are: short stories. My stories were awful. They had hardly any plot, just characters with strong feelings, which I imagined made them deep.\\n---------------------\\nGiven the context information and not prior knowledge, answer the query.\\nQuery: What did the author do growing up?\\nAnswer: \", 'additional_kwargs': {}}]}, rets={'message': {'role': <MessageRole.ASSISTANT: 'assistant'>, 'content': 'Growing up, the author focused on writing short stories and programming outside of school.', 'additional_kwargs': {}}, 'raw': {'id': 'chatcmpl-ea110963dd4a4c279fd3931e73aadfc2', 'choices': [{'finish_reason': 'stop', 'index': 0, 'logprobs': None, 'message': {'content': 'Growing up, the author focused on writing short stories and programming outside of school.', 'role': 'assistant', 'function_call': None, 'tool_calls': None}}], 'created': 1723014174, 'model': 'qwen2', 'object': 'chat.completion', 'system_fingerprint': None, 'usage': {'completion_tokens': 17, 'prompt_tokens': 226, 'total_tokens': 243}}, 'delta': None, 'logprobs': None, 'additional_kwargs': {}}, error=None, perf=Perf(start_time=datetime.datetime(2024, 8, 7, 15, 2, 53, 598089), end_time=datetime.datetime(2024, 8, 7, 15, 2, 54, 221839)), pid=15801, tid=15801), RecordAppCall(call_id='f03c15b5-17ce-47e3-b2e9-ce8f3a0dfcf8', stack=[RecordAppCallMethod(path=Lens().app, method=Method(obj=Obj(cls=trulens_eval.guardrails.llama.WithFeedbackFilterNodes, id=140368941480640, init_bindings=None), name='query')), RecordAppCallMethod(path=Lens().app.query_engine, method=Method(obj=Obj(cls=llama_index.core.query_engine.retriever_query_engine.RetrieverQueryEngine, id=140368941480640, init_bindings=None), name='synthesize')), RecordAppCallMethod(path=Lens().app.query_engine._response_synthesizer, method=Method(obj=Obj(cls=llama_index.core.response_synthesizers.compact_and_refine.CompactAndRefine, id=140369254139216, init_bindings=None), name='get_response')), RecordAppCallMethod(path=Lens().app.query_engine._response_synthesizer, method=Method(obj=Obj(cls=llama_index.core.response_synthesizers.refine.Refine, id=140369254139216, init_bindings=None), name='get_response')), RecordAppCallMethod(path=Lens().app.query_engine._response_synthesizer._llm, method=Method(obj=Obj(cls=llama_index.llms.openai_like.base.OpenAILike, id=140369253380672, init_bindings=None), name='chat'))], args={'messages': [{'role': <MessageRole.SYSTEM: 'system'>, 'content': \"You are an expert Q&A system that is trusted around the world.\\nAlways answer the query using the provided context information, and not prior knowledge.\\nSome rules to follow:\\n1. Never directly reference the given context in your answer.\\n2. Avoid statements like 'Based on the context, ...' or 'The context information ...' or anything along those lines.\", 'additional_kwargs': {}}, {'role': <MessageRole.USER: 'user'>, 'content': \"Context information is below.\\n---------------------\\nfile_path: /root/notebook/my-jupyter-notebook/llm/trulens/data2/paul.txt\\n\\nWhat I Worked On\\n\\nFebruary 2021\\n\\nBefore college the two main things I worked on, outside of school, were writing and programming. I didn't write essays. I wrote what beginning writers were supposed to write then, and probably still are: short stories. My stories were awful. They had hardly any plot, just characters with strong feelings, which I imagined made them deep.\\n---------------------\\nGiven the context information and not prior knowledge, answer the query.\\nQuery: What did the author do growing up?\\nAnswer: \", 'additional_kwargs': {}}]}, rets={'message': {'role': <MessageRole.ASSISTANT: 'assistant'>, 'content': 'Growing up, the author focused on writing short stories and programming outside of school.', 'additional_kwargs': {}}, 'raw': {'id': 'chatcmpl-ea110963dd4a4c279fd3931e73aadfc2', 'choices': [{'finish_reason': 'stop', 'index': 0, 'logprobs': None, 'message': {'content': 'Growing up, the author focused on writing short stories and programming outside of school.', 'role': 'assistant', 'function_call': None, 'tool_calls': None}}], 'created': 1723014174, 'model': 'qwen2', 'object': 'chat.completion', 'system_fingerprint': None, 'usage': {'completion_tokens': 17, 'prompt_tokens': 226, 'total_tokens': 243}}, 'delta': None, 'logprobs': None, 'additional_kwargs': {}}, error=None, perf=Perf(start_time=datetime.datetime(2024, 8, 7, 15, 2, 53, 400649), end_time=datetime.datetime(2024, 8, 7, 15, 2, 54, 222419)), pid=15801, tid=15801), RecordAppCall(call_id='64b2eff2-0e2a-4f6a-9a80-222738e3fa5d', stack=[RecordAppCallMethod(path=Lens().app, method=Method(obj=Obj(cls=trulens_eval.guardrails.llama.WithFeedbackFilterNodes, id=140368941480640, init_bindings=None), name='query')), RecordAppCallMethod(path=Lens().app.query_engine, method=Method(obj=Obj(cls=llama_index.core.query_engine.retriever_query_engine.RetrieverQueryEngine, id=140368941480640, init_bindings=None), name='synthesize')), RecordAppCallMethod(path=Lens().app.query_engine._response_synthesizer, method=Method(obj=Obj(cls=llama_index.core.response_synthesizers.compact_and_refine.CompactAndRefine, id=140369254139216, init_bindings=None), name='get_response')), RecordAppCallMethod(path=Lens().app.query_engine._response_synthesizer, method=Method(obj=Obj(cls=llama_index.core.response_synthesizers.refine.Refine, id=140369254139216, init_bindings=None), name='get_response'))], args={'query_str': 'What did the author do growing up?', 'text_chunks': [\"file_path: /root/notebook/my-jupyter-notebook/llm/trulens/data2/paul.txt\\n\\nWhat I Worked On\\n\\nFebruary 2021\\n\\nBefore college the two main things I worked on, outside of school, were writing and programming. I didn't write essays. I wrote what beginning writers were supposed to write then, and probably still are: short stories. My stories were awful. They had hardly any plot, just characters with strong feelings, which I imagined made them deep.\"], 'prev_response': None}, rets='Growing up, the author focused on writing short stories and programming outside of school.', error=None, perf=Perf(start_time=datetime.datetime(2024, 8, 7, 15, 2, 53, 198336), end_time=datetime.datetime(2024, 8, 7, 15, 2, 54, 222973)), pid=15801, tid=15801), RecordAppCall(call_id='a4df9895-a6d7-494b-a3fa-11de328fbeec', stack=[RecordAppCallMethod(path=Lens().app, method=Method(obj=Obj(cls=trulens_eval.guardrails.llama.WithFeedbackFilterNodes, id=140368941480640, init_bindings=None), name='query')), RecordAppCallMethod(path=Lens().app.query_engine, method=Method(obj=Obj(cls=llama_index.core.query_engine.retriever_query_engine.RetrieverQueryEngine, id=140368941480640, init_bindings=None), name='synthesize')), RecordAppCallMethod(path=Lens().app.query_engine._response_synthesizer, method=Method(obj=Obj(cls=llama_index.core.response_synthesizers.compact_and_refine.CompactAndRefine, id=140369254139216, init_bindings=None), name='get_response'))], args={'query_str': 'What did the author do growing up?', 'text_chunks': [\"file_path: /root/notebook/my-jupyter-notebook/llm/trulens/data2/paul.txt\\n\\nWhat I Worked On\\n\\nFebruary 2021\\n\\nBefore college the two main things I worked on, outside of school, were writing and programming. I didn't write essays. I wrote what beginning writers were supposed to write then, and probably still are: short stories. My stories were awful. They had hardly any plot, just characters with strong feelings, which I imagined made them deep.\"]}, rets='Growing up, the author focused on writing short stories and programming outside of school.', error=None, perf=Perf(start_time=datetime.datetime(2024, 8, 7, 15, 2, 52, 998651), end_time=datetime.datetime(2024, 8, 7, 15, 2, 54, 223040)), pid=15801, tid=15801), RecordAppCall(call_id='336e5693-3ba7-43e6-8d1c-4f5423903e52', stack=[RecordAppCallMethod(path=Lens().app, method=Method(obj=Obj(cls=trulens_eval.guardrails.llama.WithFeedbackFilterNodes, id=140368941480640, init_bindings=None), name='query')), RecordAppCallMethod(path=Lens().app.query_engine, method=Method(obj=Obj(cls=llama_index.core.query_engine.retriever_query_engine.RetrieverQueryEngine, id=140368941480640, init_bindings=None), name='synthesize'))], args={'query_bundle': 'What did the author do growing up?', 'nodes': [{'node': {'id_': '84343470-d803-4c3b-96e6-d2f116021386', 'embedding': None, 'metadata': {'file_path': '/root/notebook/my-jupyter-notebook/llm/trulens/data2/paul.txt', 'file_name': 'paul.txt', 'file_type': 'text/plain', 'file_size': 75042, 'creation_date': '2024-08-06', 'last_modified_date': '2024-08-06'}, 'excluded_embed_metadata_keys': ['file_name', 'file_type', 'file_size', 'creation_date', 'last_modified_date', 'last_accessed_date'], 'excluded_llm_metadata_keys': ['file_name', 'file_type', 'file_size', 'creation_date', 'last_modified_date', 'last_accessed_date'], 'relationships': {<NodeRelationship.SOURCE: '1'>: {'node_id': 'f4f8e222-b752-4f63-b272-1372556d1f09', 'node_type': <ObjectType.DOCUMENT: '4'>, 'metadata': {'file_path': '/root/notebook/my-jupyter-notebook/llm/trulens/data2/paul.txt', 'file_name': 'paul.txt', 'file_type': 'text/plain', 'file_size': 75042, 'creation_date': '2024-08-06', 'last_modified_date': '2024-08-06'}, 'hash': '2f90b9b99217e8e77c97e77c3f36de7b91a6ef9ec21ab3194b5bca4a2f01f0b0'}, <NodeRelationship.NEXT: '3'>: {'node_id': '8949dfc2-856d-48b6-b323-d7046fd1f4f4', 'node_type': <ObjectType.TEXT: '1'>, 'metadata': {}, 'hash': 'e99647d69b84b0a13c59268b58406bb00652b41196a27d7b46b56e5d713018ed'}}, 'text': \"What I Worked On\\n\\nFebruary 2021\\n\\nBefore college the two main things I worked on, outside of school, were writing and programming. I didn't write essays. I wrote what beginning writers were supposed to write then, and probably still are: short stories. My stories were awful. They had hardly any plot, just characters with strong feelings, which I imagined made them deep.\", 'start_char_idx': 2, 'end_char_idx': 373, 'text_template': '{metadata_str}\\n\\n{content}', 'metadata_template': '{key}: {value}', 'metadata_seperator': '\\n'}, 'score': 0.8105395128531931}]}, rets={'response': 'Growing up, the author focused on writing short stories and programming outside of school.', 'source_nodes': [{'node': {'id_': '84343470-d803-4c3b-96e6-d2f116021386', 'embedding': None, 'metadata': {'file_path': '/root/notebook/my-jupyter-notebook/llm/trulens/data2/paul.txt', 'file_name': 'paul.txt', 'file_type': 'text/plain', 'file_size': 75042, 'creation_date': '2024-08-06', 'last_modified_date': '2024-08-06'}, 'excluded_embed_metadata_keys': ['file_name', 'file_type', 'file_size', 'creation_date', 'last_modified_date', 'last_accessed_date'], 'excluded_llm_metadata_keys': ['file_name', 'file_type', 'file_size', 'creation_date', 'last_modified_date', 'last_accessed_date'], 'relationships': {<NodeRelationship.SOURCE: '1'>: {'node_id': 'f4f8e222-b752-4f63-b272-1372556d1f09', 'node_type': <ObjectType.DOCUMENT: '4'>, 'metadata': {'file_path': '/root/notebook/my-jupyter-notebook/llm/trulens/data2/paul.txt', 'file_name': 'paul.txt', 'file_type': 'text/plain', 'file_size': 75042, 'creation_date': '2024-08-06', 'last_modified_date': '2024-08-06'}, 'hash': '2f90b9b99217e8e77c97e77c3f36de7b91a6ef9ec21ab3194b5bca4a2f01f0b0'}, <NodeRelationship.NEXT: '3'>: {'node_id': '8949dfc2-856d-48b6-b323-d7046fd1f4f4', 'node_type': <ObjectType.TEXT: '1'>, 'metadata': {}, 'hash': 'e99647d69b84b0a13c59268b58406bb00652b41196a27d7b46b56e5d713018ed'}}, 'text': \"What I Worked On\\n\\nFebruary 2021\\n\\nBefore college the two main things I worked on, outside of school, were writing and programming. I didn't write essays. I wrote what beginning writers were supposed to write then, and probably still are: short stories. My stories were awful. They had hardly any plot, just characters with strong feelings, which I imagined made them deep.\", 'start_char_idx': 2, 'end_char_idx': 373, 'text_template': '{metadata_str}\\n\\n{content}', 'metadata_template': '{key}: {value}', 'metadata_seperator': '\\n'}, 'score': 0.8105395128531931}], 'metadata': {'84343470-d803-4c3b-96e6-d2f116021386': {'file_path': '/root/notebook/my-jupyter-notebook/llm/trulens/data2/paul.txt', 'file_name': 'paul.txt', 'file_type': 'text/plain', 'file_size': 75042, 'creation_date': '2024-08-06', 'last_modified_date': '2024-08-06'}}}, error=None, perf=Perf(start_time=datetime.datetime(2024, 8, 7, 15, 2, 52, 804865), end_time=datetime.datetime(2024, 8, 7, 15, 2, 54, 223709)), pid=15801, tid=15801), RecordAppCall(call_id='2dd26cd9-cddd-4851-83fb-54614fb15b6e', stack=[RecordAppCallMethod(path=Lens().app, method=Method(obj=Obj(cls=trulens_eval.guardrails.llama.WithFeedbackFilterNodes, id=140368941480640, init_bindings=None), name='query'))], args={'query': 'What did the author do growing up?'}, rets={'response': 'Growing up, the author focused on writing short stories and programming outside of school.', 'source_nodes': [{'node': {'id_': '84343470-d803-4c3b-96e6-d2f116021386', 'embedding': None, 'metadata': {'file_path': '/root/notebook/my-jupyter-notebook/llm/trulens/data2/paul.txt', 'file_name': 'paul.txt', 'file_type': 'text/plain', 'file_size': 75042, 'creation_date': '2024-08-06', 'last_modified_date': '2024-08-06'}, 'excluded_embed_metadata_keys': ['file_name', 'file_type', 'file_size', 'creation_date', 'last_modified_date', 'last_accessed_date'], 'excluded_llm_metadata_keys': ['file_name', 'file_type', 'file_size', 'creation_date', 'last_modified_date', 'last_accessed_date'], 'relationships': {<NodeRelationship.SOURCE: '1'>: {'node_id': 'f4f8e222-b752-4f63-b272-1372556d1f09', 'node_type': <ObjectType.DOCUMENT: '4'>, 'metadata': {'file_path': '/root/notebook/my-jupyter-notebook/llm/trulens/data2/paul.txt', 'file_name': 'paul.txt', 'file_type': 'text/plain', 'file_size': 75042, 'creation_date': '2024-08-06', 'last_modified_date': '2024-08-06'}, 'hash': '2f90b9b99217e8e77c97e77c3f36de7b91a6ef9ec21ab3194b5bca4a2f01f0b0'}, <NodeRelationship.NEXT: '3'>: {'node_id': '8949dfc2-856d-48b6-b323-d7046fd1f4f4', 'node_type': <ObjectType.TEXT: '1'>, 'metadata': {}, 'hash': 'e99647d69b84b0a13c59268b58406bb00652b41196a27d7b46b56e5d713018ed'}}, 'text': \"What I Worked On\\n\\nFebruary 2021\\n\\nBefore college the two main things I worked on, outside of school, were writing and programming. I didn't write essays. I wrote what beginning writers were supposed to write then, and probably still are: short stories. My stories were awful. They had hardly any plot, just characters with strong feelings, which I imagined made them deep.\", 'start_char_idx': 2, 'end_char_idx': 373, 'text_template': '{metadata_str}\\n\\n{content}', 'metadata_template': '{key}: {value}', 'metadata_seperator': '\\n'}, 'score': 0.8105395128531931}], 'metadata': {'84343470-d803-4c3b-96e6-d2f116021386': {'file_path': '/root/notebook/my-jupyter-notebook/llm/trulens/data2/paul.txt', 'file_name': 'paul.txt', 'file_type': 'text/plain', 'file_size': 75042, 'creation_date': '2024-08-06', 'last_modified_date': '2024-08-06'}}}, error=None, perf=Perf(start_time=datetime.datetime(2024, 8, 7, 15, 2, 50, 56257), end_time=datetime.datetime(2024, 8, 7, 15, 2, 54, 224286)), pid=15801, tid=15801)], feedback_and_future_results=[(FeedbackDefinition(Answer Relevance,\n",
       "\tselectors={'prompt': Lens().__record__.main_input, 'response': Lens().__record__.main_output},\n",
       "\tif_exists=None\n",
       "), <Future at 0x7faa302bff40 state=finished returned FeedbackResult>), (FeedbackDefinition(Context Relevance,\n",
       "\tselectors={'question': Lens().__record__.main_input, 'context': Lens().__record__.app.query.rets.source_nodes[:].node.text},\n",
       "\tif_exists=None\n",
       "), <Future at 0x7faa30c783a0 state=finished returned FeedbackResult>), (FeedbackDefinition(Groundedness,\n",
       "\tselectors={'source': Lens().__record__.app.query.rets.source_nodes[:].node.text.collect(), 'statement': Lens().__record__.main_output},\n",
       "\tif_exists=None\n",
       "), <Future at 0x7faa302be0b0 state=finished returned FeedbackResult>)], feedback_results=[<Future at 0x7faa302bff40 state=finished returned FeedbackResult>, <Future at 0x7faa30c783a0 state=finished returned FeedbackResult>, <Future at 0x7faa302be0b0 state=finished returned FeedbackResult>])"
      ]
     },
     "metadata": {},
     "output_type": "display_data"
    }
   ],
   "source": [
    "# The record of the app invocation can be retrieved from the `recording`:\n",
    "\n",
    "rec = recording.get()  # use .get if only one record\n",
    "# recs = recording.records # use .records if multiple\n",
    "\n",
    "display(rec)"
   ]
  },
  {
   "cell_type": "code",
   "execution_count": 19,
   "id": "4d2f0c90-2f49-4507-b307-0577e72d020c",
   "metadata": {},
   "outputs": [
    {
     "name": "stdout",
     "output_type": "stream",
     "text": [
      "Answer Relevance 0.9\n",
      "Context Relevance 0.8\n",
      "Groundedness 1.0\n"
     ]
    }
   ],
   "source": [
    "for feedback, feedback_result in rec.wait_for_feedback_results().items():\n",
    "    print(feedback.name, feedback_result.result)"
   ]
  },
  {
   "cell_type": "code",
   "execution_count": 20,
   "id": "db8c4927-6caf-4dae-98f9-fb19589c2742",
   "metadata": {},
   "outputs": [
    {
     "data": {
      "text/html": [
       "<div>\n",
       "<style scoped>\n",
       "    .dataframe tbody tr th:only-of-type {\n",
       "        vertical-align: middle;\n",
       "    }\n",
       "\n",
       "    .dataframe tbody tr th {\n",
       "        vertical-align: top;\n",
       "    }\n",
       "\n",
       "    .dataframe thead th {\n",
       "        text-align: right;\n",
       "    }\n",
       "</style>\n",
       "<table border=\"1\" class=\"dataframe\">\n",
       "  <thead>\n",
       "    <tr style=\"text-align: right;\">\n",
       "      <th></th>\n",
       "      <th>app_id</th>\n",
       "      <th>app_json</th>\n",
       "      <th>type</th>\n",
       "      <th>record_id</th>\n",
       "      <th>input</th>\n",
       "      <th>output</th>\n",
       "      <th>tags</th>\n",
       "      <th>record_json</th>\n",
       "      <th>cost_json</th>\n",
       "      <th>perf_json</th>\n",
       "      <th>ts</th>\n",
       "      <th>Context Relevance</th>\n",
       "      <th>Answer Relevance</th>\n",
       "      <th>Groundedness</th>\n",
       "      <th>Context Relevance_calls</th>\n",
       "      <th>Answer Relevance_calls</th>\n",
       "      <th>Groundedness_calls</th>\n",
       "      <th>latency</th>\n",
       "      <th>total_tokens</th>\n",
       "      <th>total_cost</th>\n",
       "    </tr>\n",
       "  </thead>\n",
       "  <tbody>\n",
       "    <tr>\n",
       "      <th>0</th>\n",
       "      <td>LlamaIndex_App1</td>\n",
       "      <td>{\"tru_class_info\": {\"name\": \"TruLlama\", \"modul...</td>\n",
       "      <td>RetrieverQueryEngine(llama_index.core.query_en...</td>\n",
       "      <td>record_hash_9988bb572119a5a3d59c306457772887</td>\n",
       "      <td>\"What did the author do growing up?\"</td>\n",
       "      <td>\"Growing up, the author focused on writing sho...</td>\n",
       "      <td>-</td>\n",
       "      <td>{\"record_id\": \"record_hash_9988bb572119a5a3d59...</td>\n",
       "      <td>{\"n_requests\": 2, \"n_successful_requests\": 3, ...</td>\n",
       "      <td>{\"start_time\": \"2024-08-07T15:00:37.025989\", \"...</td>\n",
       "      <td>2024-08-07T15:00:43.413037</td>\n",
       "      <td>0.366667</td>\n",
       "      <td>0.9</td>\n",
       "      <td>1.0</td>\n",
       "      <td>[{'args': {'question': 'What did the author do...</td>\n",
       "      <td>[{'args': {'prompt': 'What did the author do g...</td>\n",
       "      <td>[{'args': {'source': [\"What I Worked On\\n\\nFeb...</td>\n",
       "      <td>6</td>\n",
       "      <td>546</td>\n",
       "      <td>0.000000</td>\n",
       "    </tr>\n",
       "    <tr>\n",
       "      <th>1</th>\n",
       "      <td>LlamaIndex_App1</td>\n",
       "      <td>{\"tru_class_info\": {\"name\": \"TruLlama\", \"modul...</td>\n",
       "      <td>RetrieverQueryEngine(llama_index.core.query_en...</td>\n",
       "      <td>record_hash_b0ad28bf3b3327bd6cb17dd7b5260906</td>\n",
       "      <td>\"What did the author do growing up?\"</td>\n",
       "      <td>\"Growing up, the author focused on writing sho...</td>\n",
       "      <td>-</td>\n",
       "      <td>{\"record_id\": \"record_hash_b0ad28bf3b3327bd6cb...</td>\n",
       "      <td>{\"n_requests\": 2, \"n_successful_requests\": 3, ...</td>\n",
       "      <td>{\"start_time\": \"2024-08-07T15:01:01.665013\", \"...</td>\n",
       "      <td>2024-08-07T15:01:05.625065</td>\n",
       "      <td>0.433333</td>\n",
       "      <td>0.9</td>\n",
       "      <td>1.0</td>\n",
       "      <td>[{'args': {'question': 'What did the author do...</td>\n",
       "      <td>[{'args': {'prompt': 'What did the author do g...</td>\n",
       "      <td>[{'args': {'source': [\"What I Worked On\\n\\nFeb...</td>\n",
       "      <td>3</td>\n",
       "      <td>568</td>\n",
       "      <td>0.000000</td>\n",
       "    </tr>\n",
       "    <tr>\n",
       "      <th>2</th>\n",
       "      <td>LlamaIndex_App1_Filtered</td>\n",
       "      <td>{\"tru_class_info\": {\"name\": \"TruLlama\", \"modul...</td>\n",
       "      <td>WithFeedbackFilterNodes(trulens_eval.guardrail...</td>\n",
       "      <td>record_hash_1ef9735cf2ffb6066a30bf0abd8c8db5</td>\n",
       "      <td>\"What did the author do growing up?\"</td>\n",
       "      <td>\"Growing up, the author focused on writing sho...</td>\n",
       "      <td>-</td>\n",
       "      <td>{\"record_id\": \"record_hash_1ef9735cf2ffb6066a3...</td>\n",
       "      <td>{\"n_requests\": 5, \"n_successful_requests\": 15,...</td>\n",
       "      <td>{\"start_time\": \"2024-08-07T15:02:50.056257\", \"...</td>\n",
       "      <td>2024-08-07T15:02:54.224937</td>\n",
       "      <td>0.800000</td>\n",
       "      <td>0.9</td>\n",
       "      <td>1.0</td>\n",
       "      <td>[{'args': {'question': 'What did the author do...</td>\n",
       "      <td>[{'args': {'prompt': 'What did the author do g...</td>\n",
       "      <td>[{'args': {'source': [\"What I Worked On\\n\\nFeb...</td>\n",
       "      <td>6</td>\n",
       "      <td>3526</td>\n",
       "      <td>0.004869</td>\n",
       "    </tr>\n",
       "  </tbody>\n",
       "</table>\n",
       "</div>"
      ],
      "text/plain": [
       "                     app_id  \\\n",
       "0           LlamaIndex_App1   \n",
       "1           LlamaIndex_App1   \n",
       "2  LlamaIndex_App1_Filtered   \n",
       "\n",
       "                                            app_json  \\\n",
       "0  {\"tru_class_info\": {\"name\": \"TruLlama\", \"modul...   \n",
       "1  {\"tru_class_info\": {\"name\": \"TruLlama\", \"modul...   \n",
       "2  {\"tru_class_info\": {\"name\": \"TruLlama\", \"modul...   \n",
       "\n",
       "                                                type  \\\n",
       "0  RetrieverQueryEngine(llama_index.core.query_en...   \n",
       "1  RetrieverQueryEngine(llama_index.core.query_en...   \n",
       "2  WithFeedbackFilterNodes(trulens_eval.guardrail...   \n",
       "\n",
       "                                      record_id  \\\n",
       "0  record_hash_9988bb572119a5a3d59c306457772887   \n",
       "1  record_hash_b0ad28bf3b3327bd6cb17dd7b5260906   \n",
       "2  record_hash_1ef9735cf2ffb6066a30bf0abd8c8db5   \n",
       "\n",
       "                                  input  \\\n",
       "0  \"What did the author do growing up?\"   \n",
       "1  \"What did the author do growing up?\"   \n",
       "2  \"What did the author do growing up?\"   \n",
       "\n",
       "                                              output tags  \\\n",
       "0  \"Growing up, the author focused on writing sho...    -   \n",
       "1  \"Growing up, the author focused on writing sho...    -   \n",
       "2  \"Growing up, the author focused on writing sho...    -   \n",
       "\n",
       "                                         record_json  \\\n",
       "0  {\"record_id\": \"record_hash_9988bb572119a5a3d59...   \n",
       "1  {\"record_id\": \"record_hash_b0ad28bf3b3327bd6cb...   \n",
       "2  {\"record_id\": \"record_hash_1ef9735cf2ffb6066a3...   \n",
       "\n",
       "                                           cost_json  \\\n",
       "0  {\"n_requests\": 2, \"n_successful_requests\": 3, ...   \n",
       "1  {\"n_requests\": 2, \"n_successful_requests\": 3, ...   \n",
       "2  {\"n_requests\": 5, \"n_successful_requests\": 15,...   \n",
       "\n",
       "                                           perf_json  \\\n",
       "0  {\"start_time\": \"2024-08-07T15:00:37.025989\", \"...   \n",
       "1  {\"start_time\": \"2024-08-07T15:01:01.665013\", \"...   \n",
       "2  {\"start_time\": \"2024-08-07T15:02:50.056257\", \"...   \n",
       "\n",
       "                           ts  Context Relevance  Answer Relevance  \\\n",
       "0  2024-08-07T15:00:43.413037           0.366667               0.9   \n",
       "1  2024-08-07T15:01:05.625065           0.433333               0.9   \n",
       "2  2024-08-07T15:02:54.224937           0.800000               0.9   \n",
       "\n",
       "   Groundedness                            Context Relevance_calls  \\\n",
       "0           1.0  [{'args': {'question': 'What did the author do...   \n",
       "1           1.0  [{'args': {'question': 'What did the author do...   \n",
       "2           1.0  [{'args': {'question': 'What did the author do...   \n",
       "\n",
       "                              Answer Relevance_calls  \\\n",
       "0  [{'args': {'prompt': 'What did the author do g...   \n",
       "1  [{'args': {'prompt': 'What did the author do g...   \n",
       "2  [{'args': {'prompt': 'What did the author do g...   \n",
       "\n",
       "                                  Groundedness_calls  latency  total_tokens  \\\n",
       "0  [{'args': {'source': [\"What I Worked On\\n\\nFeb...        6           546   \n",
       "1  [{'args': {'source': [\"What I Worked On\\n\\nFeb...        3           568   \n",
       "2  [{'args': {'source': [\"What I Worked On\\n\\nFeb...        6          3526   \n",
       "\n",
       "   total_cost  \n",
       "0    0.000000  \n",
       "1    0.000000  \n",
       "2    0.004869  "
      ]
     },
     "execution_count": 20,
     "metadata": {},
     "output_type": "execute_result"
    }
   ],
   "source": [
    "records, feedback = tru.get_records_and_feedback(app_ids=[])\n",
    "\n",
    "records.head()"
   ]
  },
  {
   "cell_type": "code",
   "execution_count": 21,
   "id": "68c63406-124c-411e-8206-01416d5aeeff",
   "metadata": {},
   "outputs": [
    {
     "data": {
      "text/html": [
       "<div>\n",
       "<style scoped>\n",
       "    .dataframe tbody tr th:only-of-type {\n",
       "        vertical-align: middle;\n",
       "    }\n",
       "\n",
       "    .dataframe tbody tr th {\n",
       "        vertical-align: top;\n",
       "    }\n",
       "\n",
       "    .dataframe thead th {\n",
       "        text-align: right;\n",
       "    }\n",
       "</style>\n",
       "<table border=\"1\" class=\"dataframe\">\n",
       "  <thead>\n",
       "    <tr style=\"text-align: right;\">\n",
       "      <th></th>\n",
       "      <th>Answer Relevance</th>\n",
       "      <th>Groundedness</th>\n",
       "      <th>Context Relevance</th>\n",
       "      <th>latency</th>\n",
       "      <th>total_cost</th>\n",
       "    </tr>\n",
       "    <tr>\n",
       "      <th>app_id</th>\n",
       "      <th></th>\n",
       "      <th></th>\n",
       "      <th></th>\n",
       "      <th></th>\n",
       "      <th></th>\n",
       "    </tr>\n",
       "  </thead>\n",
       "  <tbody>\n",
       "    <tr>\n",
       "      <th>LlamaIndex_App1_Filtered</th>\n",
       "      <td>0.9</td>\n",
       "      <td>1.0</td>\n",
       "      <td>0.8</td>\n",
       "      <td>6.0</td>\n",
       "      <td>0.004869</td>\n",
       "    </tr>\n",
       "    <tr>\n",
       "      <th>LlamaIndex_App1</th>\n",
       "      <td>0.9</td>\n",
       "      <td>1.0</td>\n",
       "      <td>0.4</td>\n",
       "      <td>4.5</td>\n",
       "      <td>0.000000</td>\n",
       "    </tr>\n",
       "  </tbody>\n",
       "</table>\n",
       "</div>"
      ],
      "text/plain": [
       "                          Answer Relevance  Groundedness  Context Relevance  \\\n",
       "app_id                                                                        \n",
       "LlamaIndex_App1_Filtered               0.9           1.0                0.8   \n",
       "LlamaIndex_App1                        0.9           1.0                0.4   \n",
       "\n",
       "                          latency  total_cost  \n",
       "app_id                                         \n",
       "LlamaIndex_App1_Filtered      6.0    0.004869  \n",
       "LlamaIndex_App1               4.5    0.000000  "
      ]
     },
     "execution_count": 21,
     "metadata": {},
     "output_type": "execute_result"
    }
   ],
   "source": [
    "tru.get_leaderboard(app_ids=[])"
   ]
  },
  {
   "cell_type": "code",
   "execution_count": null,
   "id": "d5ce954e-ce2d-42da-853a-a18f1322b276",
   "metadata": {},
   "outputs": [],
   "source": []
  }
 ],
 "metadata": {
  "kernelspec": {
   "display_name": "Python 3 (ipykernel)",
   "language": "python",
   "name": "python3"
  },
  "language_info": {
   "codemirror_mode": {
    "name": "ipython",
    "version": 3
   },
   "file_extension": ".py",
   "mimetype": "text/x-python",
   "name": "python",
   "nbconvert_exporter": "python",
   "pygments_lexer": "ipython3",
   "version": "3.10.12"
  }
 },
 "nbformat": 4,
 "nbformat_minor": 5
}
