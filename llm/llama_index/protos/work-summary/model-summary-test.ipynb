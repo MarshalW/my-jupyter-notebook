{
 "cells": [
  {
   "cell_type": "markdown",
   "id": "8bea3fa0-bc2d-4b5c-b296-eceafa399f70",
   "metadata": {},
   "source": [
    "# 模型摘要能力测试"
   ]
  },
  {
   "cell_type": "markdown",
   "id": "acc3c41d-4af9-44bd-886b-7bc1f9ec850a",
   "metadata": {},
   "source": [
    "初步结论：\n",
    "\n",
    "- 即使是gpt4turbo，生成的文字效果也不令人满意\n",
    "- 出现的问题主要有\n",
    "    - 任务对应的人写错\n",
    "    - 漏掉个别人\n",
    "    - 无法按照指定的格式显示\n",
    " \n",
    "改为json输出后\n",
    "\n",
    "- 可以拿到正确的结果\n",
    "- 不能保证复杂情况下也能稳定得到正确结果\n",
    "\n",
    "完善提示词后\n",
    "\n",
    "- 输出符合要求，没有错误\n",
    "- 同样的，不能保证复杂情况下也能稳定得到正确结果"
   ]
  },
  {
   "cell_type": "markdown",
   "id": "4f42cba6-ca31-4582-8e60-76a570b6159e",
   "metadata": {},
   "source": [
    "## 生成数据节点和摘要索引"
   ]
  },
  {
   "cell_type": "code",
   "execution_count": 1,
   "id": "4db842af-d68b-4882-8b56-649243e949cc",
   "metadata": {},
   "outputs": [
    {
     "name": "stdout",
     "output_type": "stream",
     "text": [
      "CPU times: user 2 µs, sys: 0 ns, total: 2 µs\n",
      "Wall time: 3.58 µs\n"
     ]
    }
   ],
   "source": [
    "%%time\n",
    "\n",
    "# 模拟一个当天的全体人员工作日志\n",
    "items=[\n",
    "\"开发部韩宇轩，simple-rag 产品，实现新特性：针对文档的摘要索引\",\n",
    "\"开发部陈逸飞，simple-rag 产品，修正bug：中文断句不完整\",\n",
    "\"产品部林晓琪，simple-rag 产品，提交新特性需求：多数据源的融合检索查询\",\n",
    "\"产品部林晓琪，江南皮革厂客服助手项目，和客户开会，沟通需求\",\n",
    "\"运维部李泽言，江南皮革厂客服平台，系统扩容，解决了负载过高造成服务卡的问题\",\n",
    "\"销售部韩雪薇，天津化工集团后勤服务平台，准备标书商务部分，完成公司资质方面的文案\",\n",
    "\"法务部张峻宁，完成审核了与深圳做大事公司的商务合同\",\n",
    "\"开发部郑千，simple-rag 产品，修正bug：聊天界面 markdown 格式显示错误\",\n",
    "]"
   ]
  },
  {
   "cell_type": "code",
   "execution_count": 2,
   "id": "1f08a19b-67ce-40ed-b435-d0770475e3dc",
   "metadata": {},
   "outputs": [
    {
     "data": {
      "text/plain": [
       "[TextNode(id_='node_0', embedding=None, metadata={}, excluded_embed_metadata_keys=[], excluded_llm_metadata_keys=[], relationships={}, text='开发部韩宇轩，simple-rag 产品，实现新特性：针对文档的摘要索引', start_char_idx=None, end_char_idx=None, text_template='{metadata_str}\\n\\n{content}', metadata_template='{key}: {value}', metadata_seperator='\\n'),\n",
       " TextNode(id_='node_1', embedding=None, metadata={}, excluded_embed_metadata_keys=[], excluded_llm_metadata_keys=[], relationships={}, text='开发部陈逸飞，simple-rag 产品，修正bug：中文断句不完整', start_char_idx=None, end_char_idx=None, text_template='{metadata_str}\\n\\n{content}', metadata_template='{key}: {value}', metadata_seperator='\\n'),\n",
       " TextNode(id_='node_2', embedding=None, metadata={}, excluded_embed_metadata_keys=[], excluded_llm_metadata_keys=[], relationships={}, text='产品部林晓琪，simple-rag 产品，提交新特性需求：多数据源的融合检索查询', start_char_idx=None, end_char_idx=None, text_template='{metadata_str}\\n\\n{content}', metadata_template='{key}: {value}', metadata_seperator='\\n'),\n",
       " TextNode(id_='node_3', embedding=None, metadata={}, excluded_embed_metadata_keys=[], excluded_llm_metadata_keys=[], relationships={}, text='产品部林晓琪，江南皮革厂客服助手项目，和客户开会，沟通需求', start_char_idx=None, end_char_idx=None, text_template='{metadata_str}\\n\\n{content}', metadata_template='{key}: {value}', metadata_seperator='\\n'),\n",
       " TextNode(id_='node_4', embedding=None, metadata={}, excluded_embed_metadata_keys=[], excluded_llm_metadata_keys=[], relationships={}, text='运维部李泽言，江南皮革厂客服平台，系统扩容，解决了负载过高造成服务卡的问题', start_char_idx=None, end_char_idx=None, text_template='{metadata_str}\\n\\n{content}', metadata_template='{key}: {value}', metadata_seperator='\\n'),\n",
       " TextNode(id_='node_5', embedding=None, metadata={}, excluded_embed_metadata_keys=[], excluded_llm_metadata_keys=[], relationships={}, text='销售部韩雪薇，天津化工集团后勤服务平台，准备标书商务部分，完成公司资质方面的文案', start_char_idx=None, end_char_idx=None, text_template='{metadata_str}\\n\\n{content}', metadata_template='{key}: {value}', metadata_seperator='\\n'),\n",
       " TextNode(id_='node_6', embedding=None, metadata={}, excluded_embed_metadata_keys=[], excluded_llm_metadata_keys=[], relationships={}, text='法务部张峻宁，完成审核了与深圳做大事公司的商务合同', start_char_idx=None, end_char_idx=None, text_template='{metadata_str}\\n\\n{content}', metadata_template='{key}: {value}', metadata_seperator='\\n'),\n",
       " TextNode(id_='node_7', embedding=None, metadata={}, excluded_embed_metadata_keys=[], excluded_llm_metadata_keys=[], relationships={}, text='开发部郑千，simple-rag 产品，修正bug：聊天界面 markdown 格式显示错误', start_char_idx=None, end_char_idx=None, text_template='{metadata_str}\\n\\n{content}', metadata_template='{key}: {value}', metadata_seperator='\\n')]"
      ]
     },
     "execution_count": 2,
     "metadata": {},
     "output_type": "execute_result"
    }
   ],
   "source": [
    "from llama_index.core.schema import TextNode\n",
    "\n",
    "nodes=[ TextNode(text=item, id_=f\"node_{index}\") for index, item in enumerate(items)]\n",
    "nodes"
   ]
  },
  {
   "cell_type": "code",
   "execution_count": 3,
   "id": "6d9c3b59-3f36-4c9b-8613-c3ee0008d29e",
   "metadata": {},
   "outputs": [
    {
     "name": "stdout",
     "output_type": "stream",
     "text": [
      "CPU times: user 203 ms, sys: 24.5 ms, total: 228 ms\n",
      "Wall time: 227 ms\n"
     ]
    }
   ],
   "source": [
    "%%time\n",
    "\n",
    "\n",
    "from llama_index.core import SummaryIndex\n",
    "\n",
    "summary_index = SummaryIndex(nodes)"
   ]
  },
  {
   "cell_type": "markdown",
   "id": "6ea64e41-8646-4b1a-bfb2-2b0ca49657fc",
   "metadata": {},
   "source": [
    "## 通过提示词形成总结"
   ]
  },
  {
   "cell_type": "code",
   "execution_count": 14,
   "id": "c0a3bb66-151a-4cd1-928d-4139d848eb44",
   "metadata": {},
   "outputs": [
    {
     "name": "stdout",
     "output_type": "stream",
     "text": [
      "CPU times: user 164 µs, sys: 22 µs, total: 186 µs\n",
      "Wall time: 188 µs\n"
     ]
    }
   ],
   "source": [
    "%%time\n",
    "\n",
    "from llama_index.core import Settings\n",
    "from llama_index.llms.openai_like import OpenAILike\n",
    "\n",
    "Settings.llm=OpenAILike(\n",
    "    model=\"qwen2\", \n",
    "    api_base=\"http://ape:3000/v1\", \n",
    "    api_key=\"sk-bJP6QSnUfjAYeYeE505d3eBf63A643BeB0B8E350Df9b7750\",\n",
    "    is_chat_model=True,\n",
    "    temperature=0.1,\n",
    "    request_timeout=60.0\n",
    ")"
   ]
  },
  {
   "cell_type": "code",
   "execution_count": 15,
   "id": "f6e40aa1-a998-4068-b6d7-ef6e22cb4882",
   "metadata": {},
   "outputs": [
    {
     "name": "stdout",
     "output_type": "stream",
     "text": [
      "产品部林晓琪：\n",
      "1. 提交了simple-rag产品的多数据源融合检索查询新特性需求；\n",
      "2. 参与了江南皮革厂客服助手项目的客户会议，沟通需求。\n",
      "\n",
      "开发部韩宇轩：\n",
      "1. 实现了simple-rag产品的文档摘要索引新特性；\n",
      "2. 修正了simple-rag产品中的markdown格式显示错误。\n",
      "\n",
      "开发部陈逸飞：\n",
      "1. 修正了simple-rag产品中的中文断句不完整bug；\n",
      "2. 完成了江南皮革厂客服平台系统扩容，解决了负载过高导致的服务卡顿问题。\n",
      "\n",
      "开发部郑千：\n",
      "1. 修正了simple-rag产品的聊天界面markdown格式显示错误。\n",
      "\n",
      "销售部韩雪薇：\n",
      "1. 准备并完成了天津化工集团后勤服务平台的标书商务部分；\n",
      "2. 完成了公司资质方面的文案工作。\n",
      "\n",
      "法务部张峻宁：\n",
      "1. 审核并通过了与深圳做大事公司的商务合同。\n",
      "CPU times: user 55.3 ms, sys: 0 ns, total: 55.3 ms\n",
      "Wall time: 4.17 s\n"
     ]
    }
   ],
   "source": [
    "%%time\n",
    "\n",
    "from llama_index.core import get_response_synthesizer\n",
    "from llama_index.core.query_engine import RetrieverQueryEngine\n",
    "\n",
    "retriever=summary_index.as_retriever()\n",
    "\n",
    "# configure response synthesizer\n",
    "response_synthesizer = get_response_synthesizer(\n",
    "    response_mode=\"tree_summarize\",\n",
    ")\n",
    "\n",
    "query_engine = RetrieverQueryEngine(\n",
    "    retriever=retriever,\n",
    "    response_synthesizer=response_synthesizer,\n",
    ")\n",
    "\n",
    "response = query_engine.query(\n",
    "    \"按照部门、人员，总结完成的任务。\"\n",
    "    \"比如：\"\n",
    "    \"产品部，张三，完成了如下工作：1，xxxx; 2, xxxx ...\"\n",
    "    \"开发部，李四，完成了如下工作：1，xxxx; 2, xxxx ...\"\n",
    "    \"       王五，完成了如下工作：1，xxxx; 2, xxxx ...\"\n",
    "    \"注意：不要遗漏人员。\"\n",
    "    \"注意：一个人可能有多个任务，不要遗漏任务。\"\n",
    ")\n",
    "\n",
    "print(str(response))"
   ]
  },
  {
   "cell_type": "code",
   "execution_count": 13,
   "id": "46ebbd6b-8b9e-438f-a71d-2f4ba12ee920",
   "metadata": {},
   "outputs": [
    {
     "name": "stdout",
     "output_type": "stream",
     "text": [
      "产品部林晓琪：\n",
      "1. 提交了simple-rag产品的多数据源融合检索查询新特性需求；\n",
      "2. 参与了江南皮革厂客服助手项目的客户会议，沟通需求。\n",
      "\n",
      "开发部韩宇轩：\n",
      "1. 实现了simple-rag产品的文档摘要索引新特性；\n",
      "2. 修正了simple-rag产品中的markdown格式显示错误bug。\n",
      "\n",
      "开发部陈逸飞：\n",
      "1. 修正了simple-rag产品中的中文断句不完整bug；\n",
      "2. 参与了simple-rag产品的其他相关工作，但具体任务未详细说明。\n",
      "\n",
      "运维部李泽言：\n",
      "1. 解决了江南皮革厂客服平台的系统扩容问题，解决了负载过高导致的服务卡顿问题。\n",
      "\n",
      "销售部韩雪薇：\n",
      "1. 准备了天津化工集团后勤服务平台的标书商务部分；\n",
      "2. 完成了公司资质方面的文案工作。\n",
      "\n",
      "法务部张峻宁：\n",
      "1. 审核并完成了与深圳做大事公司的商务合同。\n"
     ]
    }
   ],
   "source": [
    "Settings.llm=OpenAILike(\n",
    "    model=\"qwen-turbo\", \n",
    "    api_base=\"http://ape:3000/v1\", \n",
    "    api_key=\"sk-bJP6QSnUfjAYeYeE505d3eBf63A643BeB0B8E350Df9b7750\",\n",
    "    is_chat_model=True,\n",
    "    temperature=0.1,\n",
    "    request_timeout=60.0\n",
    ")\n",
    "\n",
    "query_engine = RetrieverQueryEngine(\n",
    "    retriever=retriever,\n",
    "    response_synthesizer=response_synthesizer,\n",
    ")\n",
    "\n",
    "response = query_engine.query(\n",
    "    \"按照部门、人员，总结完成的任务。\"\n",
    "    \"比如：\"\n",
    "    \"产品部，张三，完成了如下工作：1，xxxx; 2, xxxx ...\"\n",
    "    \"开发部，李四，完成了如下工作：1，xxxx; 2, xxxx ...\"\n",
    "    \"       王五，完成了如下工作：1，xxxx; 2, xxxx ...\"\n",
    "    \"注意：不要遗漏人员。\"\n",
    "    \"注意：一个人可能有多个任务，不要遗漏任务。\"\n",
    ")\n",
    "\n",
    "print(str(response))"
   ]
  },
  {
   "cell_type": "code",
   "execution_count": 16,
   "id": "cf2b0d6e-38d1-44e8-80b7-b83ed4179251",
   "metadata": {},
   "outputs": [
    {
     "name": "stdout",
     "output_type": "stream",
     "text": [
      "产品部林晓琪：\n",
      "1. 提交了simple-rag产品的多数据源融合检索查询新特性需求；\n",
      "2. 参与了江南皮革厂客服助手项目的客户会议，沟通需求。\n",
      "\n",
      "开发部韩宇轩：\n",
      "1. 实现了simple-rag产品的文档摘要索引新特性；\n",
      "2. 修正了simple-rag产品中的markdown格式显示错误。\n",
      "\n",
      "开发部陈逸飞：\n",
      "1. 修正了simple-rag产品中的中文断句不完整bug；\n",
      "2. 完成了江南皮革厂客服平台系统扩容，解决了负载过高导致的服务卡顿问题。\n",
      "\n",
      "开发部郑千：\n",
      "1. 修正了simple-rag产品的聊天界面markdown格式显示错误。\n",
      "\n",
      "销售部韩雪薇：\n",
      "1. 准备并完成了天津化工集团后勤服务平台的标书商务部分；\n",
      "2. 完成了公司资质方面的文案工作。\n",
      "\n",
      "法务部张峻宁：\n",
      "1. 审核并通过了与深圳做大事公司的商务合同。\n"
     ]
    }
   ],
   "source": [
    "Settings.llm=OpenAILike(\n",
    "    model=\"glm-4\", \n",
    "    api_base=\"http://ape:3000/v1\", \n",
    "    api_key=\"sk-bJP6QSnUfjAYeYeE505d3eBf63A643BeB0B8E350Df9b7750\",\n",
    "    is_chat_model=True,\n",
    "    temperature=0.1,\n",
    "    request_timeout=60.0\n",
    ")\n",
    "\n",
    "query_engine = RetrieverQueryEngine(\n",
    "    retriever=retriever,\n",
    "    response_synthesizer=response_synthesizer,\n",
    ")\n",
    "\n",
    "response = query_engine.query(\n",
    "    \"按照部门、人员，总结完成的任务。\"\n",
    "    \"比如：\"\n",
    "    \"产品部，张三，完成了如下工作：1，xxxx; 2, xxxx ...\"\n",
    "    \"开发部，李四，完成了如下工作：1，xxxx; 2, xxxx ...\"\n",
    "    \"       王五，完成了如下工作：1，xxxx; 2, xxxx ...\"\n",
    "    \"注意：不要遗漏人员。\"\n",
    "    \"注意：一个人可能有多个任务，不要遗漏任务。\"\n",
    ")\n",
    "\n",
    "print(str(response))"
   ]
  },
  {
   "cell_type": "code",
   "execution_count": 17,
   "id": "5fff7c1e-7d03-4042-9d42-b5c27dc91537",
   "metadata": {},
   "outputs": [
    {
     "name": "stdout",
     "output_type": "stream",
     "text": [
      "产品部，林晓琪：\n",
      "1. 提交了simple-rag产品的多数据源融合检索查询新特性需求；\n",
      "2. 参与江南皮革厂客服助手项目的客户会议，沟通需求。\n",
      "\n",
      "开发部，韩宇轩：\n",
      "1. 实现了simple-rag产品的文档摘要索引新特性；\n",
      "2. 修正了simple-rag产品中的markdown格式显示错误问题。\n",
      "\n",
      "开发部，陈逸飞：\n",
      "1. 修正了simple-rag产品中的中文断句不完整bug；\n",
      "2. 完成了simple-rag产品中聊天界面的markdown格式显示修复工作。\n",
      "\n",
      "运维部，李泽言：\n",
      "1. 解决了江南皮革厂客服平台的负载过高问题，进行了系统扩容。\n",
      "\n",
      "销售部，韩雪薇：\n",
      "1. 准备了天津化工集团后勤服务平台的标书商务部分；\n",
      "2. 完成了公司资质方面的文案撰写。\n",
      "\n",
      "法务部，张峻宁：\n",
      "1. 审核完成了与深圳做大事公司的商务合同。\n"
     ]
    }
   ],
   "source": [
    "Settings.llm=OpenAILike(\n",
    "    model=\"gpt-3.5-turbo\", \n",
    "    api_base=\"http://ape:3000/v1\", \n",
    "    api_key=\"sk-bJP6QSnUfjAYeYeE505d3eBf63A643BeB0B8E350Df9b7750\",\n",
    "    is_chat_model=True,\n",
    "    temperature=0.1,\n",
    "    request_timeout=60.0\n",
    ")\n",
    "\n",
    "query_engine = RetrieverQueryEngine(\n",
    "    retriever=retriever,\n",
    "    response_synthesizer=response_synthesizer,\n",
    ")\n",
    "\n",
    "response = query_engine.query(\n",
    "    \"按照部门、人员，总结完成的任务。\"\n",
    "    \"比如：\"\n",
    "    \"产品部，张三，完成了如下工作：1，xxxx; 2, xxxx ...\"\n",
    "    \"开发部，李四，完成了如下工作：1，xxxx; 2, xxxx ...\"\n",
    "    \"       王五，完成了如下工作：1，xxxx; 2, xxxx ...\"\n",
    "    \"注意：不要遗漏人员。\"\n",
    "    \"注意：一个人可能有多个任务，不要遗漏任务。\"\n",
    ")\n",
    "\n",
    "print(str(response))"
   ]
  },
  {
   "cell_type": "code",
   "execution_count": 18,
   "id": "010b6492-7bce-4492-9200-09efb78ca279",
   "metadata": {},
   "outputs": [
    {
     "name": "stdout",
     "output_type": "stream",
     "text": [
      "产品部林晓琪：\n",
      "1. 提交了simple-rag产品的多数据源融合检索查询新特性需求；\n",
      "2. 参与了江南皮革厂客服助手项目的客户会议，沟通需求。\n",
      "\n",
      "开发部韩宇轩：\n",
      "1. 实现了simple-rag产品的文档摘要索引新特性；\n",
      "2. 修正了simple-rag产品中的markdown格式显示错误。\n",
      "\n",
      "开发部陈逸飞：\n",
      "1. 修正了simple-rag产品中的中文断句不完整bug；\n",
      "2. 完成了江南皮革厂客服平台系统扩容，解决了服务卡问题。\n",
      "\n",
      "运维部李泽言：\n",
      "1. 解决了江南皮革厂客服平台的负载过高问题，进行了系统扩容。\n",
      "\n",
      "销售部韩雪薇：\n",
      "1. 准备了天津化工集团后勤服务平台的标书商务部分；\n",
      "2. 完成了公司资质方面的文案工作。\n",
      "\n",
      "法务部张峻宁：\n",
      "1. 审核完成了与深圳做大事公司的商务合同。\n"
     ]
    }
   ],
   "source": [
    "Settings.llm=OpenAILike(\n",
    "    model=\"gpt-4-turbo\", \n",
    "    api_base=\"http://ape:3000/v1\", \n",
    "    api_key=\"sk-bJP6QSnUfjAYeYeE505d3eBf63A643BeB0B8E350Df9b7750\",\n",
    "    is_chat_model=True,\n",
    "    temperature=0.1,\n",
    "    request_timeout=60.0\n",
    ")\n",
    "\n",
    "query_engine = RetrieverQueryEngine(\n",
    "    retriever=retriever,\n",
    "    response_synthesizer=response_synthesizer,\n",
    ")\n",
    "\n",
    "response = query_engine.query(\n",
    "    \"按照部门、人员，总结完成的任务。\"\n",
    "    \"比如：\"\n",
    "    \"产品部，张三，完成了如下工作：1，xxxx; 2, xxxx ...\"\n",
    "    \"开发部，李四，完成了如下工作：1，xxxx; 2, xxxx ...\"\n",
    "    \"       王五，完成了如下工作：1，xxxx; 2, xxxx ...\"\n",
    "    \"注意：不要遗漏人员。\"\n",
    "    \"注意：一个人可能有多个任务，不要遗漏任务。\"\n",
    ")\n",
    "\n",
    "print(str(response))"
   ]
  },
  {
   "cell_type": "code",
   "execution_count": 19,
   "id": "cb10d8e6-eca2-426b-a5c8-6993cfa71cc3",
   "metadata": {},
   "outputs": [
    {
     "name": "stdout",
     "output_type": "stream",
     "text": [
      "产品部林晓琪：\n",
      "1. 提交了simple-rag产品的多数据源融合检索查询新特性需求；\n",
      "2. 参与了江南皮革厂客服助手项目的客户会议，沟通需求。\n",
      "\n",
      "开发部韩宇轩：\n",
      "1. 实现了simple-rag产品的文档摘要索引新特性；\n",
      "2. 修正了simple-rag产品中的markdown格式显示错误。\n",
      "\n",
      "开发部陈逸飞：\n",
      "1. 修正了simple-rag产品中的中文断句不完整bug；\n",
      "2. 完成了江南皮革厂客服平台系统扩容，解决了负载过高导致的服务卡顿问题。\n",
      "\n",
      "开发部郑千：\n",
      "1. 修正了simple-rag产品的聊天界面markdown格式显示错误。\n",
      "\n",
      "销售部韩雪薇：\n",
      "1. 准备并完成了天津化工集团后勤服务平台的标书商务部分；\n",
      "2. 完成了公司资质方面的文案工作。\n",
      "\n",
      "法务部张峻宁：\n",
      "1. 审核并通过了与深圳做大事公司的商务合同。\n"
     ]
    }
   ],
   "source": [
    "Settings.llm=OpenAILike(\n",
    "    model=\"moonshot-v1-8k\", \n",
    "    api_base=\"http://ape:3000/v1\", \n",
    "    api_key=\"sk-bJP6QSnUfjAYeYeE505d3eBf63A643BeB0B8E350Df9b7750\",\n",
    "    is_chat_model=True,\n",
    "    temperature=0.1,\n",
    "    request_timeout=60.0\n",
    ")\n",
    "\n",
    "query_engine = RetrieverQueryEngine(\n",
    "    retriever=retriever,\n",
    "    response_synthesizer=response_synthesizer,\n",
    ")\n",
    "\n",
    "response = query_engine.query(\n",
    "    \"按照部门、人员，总结完成的任务。\"\n",
    "    \"比如：\"\n",
    "    \"产品部，张三，完成了如下工作：1，xxxx; 2, xxxx ...\"\n",
    "    \"开发部，李四，完成了如下工作：1，xxxx; 2, xxxx ...\"\n",
    "    \"       王五，完成了如下工作：1，xxxx; 2, xxxx ...\"\n",
    "    \"注意：不要遗漏人员。\"\n",
    "    \"注意：一个人可能有多个任务，不要遗漏任务。\"\n",
    ")\n",
    "\n",
    "print(str(response))"
   ]
  },
  {
   "cell_type": "code",
   "execution_count": 20,
   "id": "29542f1e-8ec5-4b31-bc05-81ba14848f7e",
   "metadata": {},
   "outputs": [
    {
     "name": "stdout",
     "output_type": "stream",
     "text": [
      "1. 开发部韩宇轩：在simple-rag产品中实现了新特性——针对文档的摘要索引。\n",
      "\n",
      "2. 开发部陈逸飞：在simple-rag产品中修正了bug，解决了中文断句不完整的问题。\n",
      "\n",
      "3. 产品部林晓琪：向江南皮革厂客服助手项目提交了多数据源融合检索查询的新特性需求，并与客户开会沟通需求。\n",
      "\n",
      "4. 运维部李泽言：对江南皮革厂客服平台进行了系统扩容，成功解决因负载过高导致的服务卡顿问题。\n",
      "\n",
      "5. 销售部韩雪薇：为天津化工集团后勤服务平台准备标书的商务部分，完成了公司资质方面的文案工作。\n",
      "\n",
      "6. 法务部张峻宁：审核并完成了与深圳做大事公司的商务合同。\n",
      "\n",
      "7. 开发部郑千：在simple-rag产品中修正了聊天界面markdown格式显示错误的问题。\n"
     ]
    }
   ],
   "source": [
    "Settings.llm=OpenAILike(\n",
    "    model=\"qwen2\", \n",
    "    api_base=\"http://ape:3000/v1\", \n",
    "    api_key=\"sk-bJP6QSnUfjAYeYeE505d3eBf63A643BeB0B8E350Df9b7750\",\n",
    "    is_chat_model=True,\n",
    "    temperature=0.1,\n",
    "    request_timeout=60.0\n",
    ")\n",
    "\n",
    "query_engine = RetrieverQueryEngine(\n",
    "    retriever=retriever,\n",
    "    response_synthesizer=response_synthesizer,\n",
    ")\n",
    "\n",
    "response = query_engine.query(\n",
    "    \"根据上下文，给出按照部门、人员、具体任务的叙述顺序的全体人员工作总结。\"\n",
    ")\n",
    "\n",
    "print(str(response))"
   ]
  },
  {
   "cell_type": "code",
   "execution_count": 22,
   "id": "ea0bef84-6521-4ac5-a0ca-e0b82c67de8c",
   "metadata": {},
   "outputs": [
    {
     "name": "stdout",
     "output_type": "stream",
     "text": [
      "开发部韩宇轩：\n",
      "- 实现了simple-rag产品的新特性：针对文档的摘要索引。\n",
      "\n",
      "开发部陈逸飞：\n",
      "- 在simple-rag产品中修正了一个bug：中文断句不完整的问题。\n",
      "\n",
      "开发部郑千：\n",
      "- 在simple-rag产品中修正了聊天界面markdown格式显示错误的问题。\n"
     ]
    }
   ],
   "source": [
    "response = query_engine.query(\n",
    "    \"开发部全体人员的工作总结\"\n",
    "    \"列表格式，按照人员分别列出他做的事情\"\n",
    ")\n",
    "\n",
    "print(str(response))"
   ]
  },
  {
   "cell_type": "code",
   "execution_count": 23,
   "id": "b1afdc52-f7a5-4dd4-bb2b-5fab8e940e71",
   "metadata": {},
   "outputs": [
    {
     "name": "stdout",
     "output_type": "stream",
     "text": [
      "**开发部**- 韩宇轩:\n",
      "- simple-rag 产品：实现新特性——针对文档的摘要索引\n",
      "\n",
      "**开发部**- 陈逸飞:\n",
      "- simple-rag 产品：修正bug——中文断句不完整\n",
      "\n",
      "**开发部**- 郑千:\n",
      "- simple-rag 产品：修正bug——聊天界面 markdown 格式显示错误\n"
     ]
    }
   ],
   "source": [
    "response = query_engine.query(\n",
    "    \"开发部全体人员的工作总结\"\n",
    "    \"列表格式，按照人员分别列出他做的事情\"\n",
    "    \"格式: \"\n",
    "    \"**开发部**\"\n",
    "    \"- 张三:\"\n",
    "    \"  - xxx产品修正bug，xxxx\"\n",
    "    \"  - xxx项目新特性，xxxx\"\n",
    "    \"- 李四:\"\n",
    "    \"  - xxx项目修正bug，xxxx\"\n",
    ")\n",
    "\n",
    "print(str(response))"
   ]
  },
  {
   "cell_type": "code",
   "execution_count": 24,
   "id": "4a7f39b6-dd8b-495d-b15e-f17e46ad7cc4",
   "metadata": {},
   "outputs": [
    {
     "name": "stdout",
     "output_type": "stream",
     "text": [
      "**开发部**- 韩宇轩:\n",
      "- simple-rag 产品：实现新特性——针对文档的摘要索引\n",
      "\n",
      "**开发部**- 陈逸飞:\n",
      "- simple-rag 产品：修正 bug —— 中文断句不完整\n",
      "\n",
      "**开发部**- 郑千:\n",
      "- simple-rag 产品：修正 bug —— 聊天界面 markdown 格式显示错误\n"
     ]
    }
   ],
   "source": [
    "Settings.llm=OpenAILike(\n",
    "    model=\"gpt-4-turbo\", \n",
    "    api_base=\"http://ape:3000/v1\", \n",
    "    api_key=\"sk-bJP6QSnUfjAYeYeE505d3eBf63A643BeB0B8E350Df9b7750\",\n",
    "    is_chat_model=True,\n",
    "    temperature=0.1,\n",
    "    request_timeout=60.0\n",
    ")\n",
    "\n",
    "response = query_engine.query(\n",
    "    \"开发部全体人员的工作总结\"\n",
    "    \"列表格式，按照人员分别列出他做的事情\"\n",
    "    \"格式: \"\n",
    "    \"**开发部**\"\n",
    "    \"- 张三:\"\n",
    "    \"  - xxx产品修正bug，xxxx\"\n",
    "    \"  - xxx项目新特性，xxxx\"\n",
    "    \"- 李四:\"\n",
    "    \"  - xxx项目修正bug，xxxx\"\n",
    ")\n",
    "\n",
    "print(str(response))"
   ]
  },
  {
   "cell_type": "code",
   "execution_count": 25,
   "id": "35ee10ab-b4cb-4ac4-9e02-985b9c06bef1",
   "metadata": {},
   "outputs": [
    {
     "name": "stdout",
     "output_type": "stream",
     "text": [
      "涉及的人员及其所属部门包括：\n",
      "\n",
      "1. 韩宇轩 - 开发部\n",
      "2. 陈逸飞 - 开发部\n",
      "3. 林晓琪 - 产品部\n",
      "4. 李泽言 - 运维部\n",
      "5. 韩雪薇 - 销售部\n",
      "6. 张峻宁 - 法务部\n",
      "7. 郑千 - 开发部\n"
     ]
    }
   ],
   "source": [
    "Settings.llm=OpenAILike(\n",
    "    model=\"qwen2\", \n",
    "    api_base=\"http://ape:3000/v1\", \n",
    "    api_key=\"sk-bJP6QSnUfjAYeYeE505d3eBf63A643BeB0B8E350Df9b7750\",\n",
    "    is_chat_model=True,\n",
    "    temperature=0.1,\n",
    "    request_timeout=60.0\n",
    ")\n",
    "\n",
    "response = query_engine.query(\n",
    "    \"给出涉及的所有人，以及他们的部门\"\n",
    ")\n",
    "\n",
    "print(str(response))"
   ]
  },
  {
   "cell_type": "code",
   "execution_count": 26,
   "id": "380d7c28-5d41-4e54-a71e-f55039bc07c2",
   "metadata": {},
   "outputs": [
    {
     "name": "stdout",
     "output_type": "stream",
     "text": [
      "涉及的部门包括：开发部、产品部、运维部、销售部和法务部。\n"
     ]
    }
   ],
   "source": [
    "response = query_engine.query(\n",
    "    \"给出涉及的部门\"\n",
    ")\n",
    "\n",
    "print(str(response))"
   ]
  },
  {
   "cell_type": "code",
   "execution_count": 27,
   "id": "91e13c4e-3011-4148-a80a-2646dee774fc",
   "metadata": {},
   "outputs": [
    {
     "name": "stdout",
     "output_type": "stream",
     "text": [
      "涉及的产品或项目包括：\n",
      "1. simple-rag 产品 - 包含新特性的实现、bug修正和需求提交。\n",
      "2. 江南皮革厂客服助手项目 - 需求沟通与问题解决。\n",
      "3. 天津化工集团后勤服务平台 - 标书准备及商务部分完成。\n",
      "4. 深圳做大事公司的商务合同 - 法务部的审核工作。\n"
     ]
    }
   ],
   "source": [
    "response = query_engine.query(\n",
    "    \"给出涉及的产品或者项目\"\n",
    ")\n",
    "\n",
    "print(str(response))"
   ]
  },
  {
   "cell_type": "code",
   "execution_count": 33,
   "id": "a5235b36-bb2f-44f8-8195-866121e55c1c",
   "metadata": {},
   "outputs": [
    {
     "name": "stdout",
     "output_type": "stream",
     "text": [
      "市场部、销售部、产品部、开发部、运维部、法务部\n"
     ]
    }
   ],
   "source": [
    "response = query_engine.query(\n",
    "    \"只显示上下文涉及的部门\"\n",
    "    \"列出上下文涉及的部门，按照下面的顺序\"\n",
    "    \"部门输出的顺序按照： 市场部、财务部、销售部、产品部、开发部、运维部、法务部、后系统\"\n",
    ")\n",
    "\n",
    "print(str(response))"
   ]
  },
  {
   "cell_type": "code",
   "execution_count": 36,
   "id": "13d2ad80-9410-4a9d-a60b-35dba0d84ea2",
   "metadata": {},
   "outputs": [
    {
     "name": "stdout",
     "output_type": "stream",
     "text": [
      "开发部韩宇轩：\n",
      "- 实现新特性：针对文档的摘要索引。\n",
      "\n",
      "开发部陈逸飞：\n",
      "- 修正bug：中文断句不完整。\n",
      "\n",
      "开发部郑千：\n",
      "- 修正bug：聊天界面markdown格式显示错误。\n"
     ]
    }
   ],
   "source": [
    "response = query_engine.query(\n",
    "    \"列出只涉及simple-rag产品的部门和人，以及他们做的事情\"\n",
    "    \"列表显示\"\n",
    ")\n",
    "\n",
    "print(str(response))"
   ]
  },
  {
   "cell_type": "markdown",
   "id": "405f296d-443b-45ab-b066-1ee55547b1fa",
   "metadata": {},
   "source": [
    "## 通过提示词生成结构化数据 - json"
   ]
  },
  {
   "cell_type": "code",
   "execution_count": 37,
   "id": "e8250d6f-02ff-44ae-a82e-789bd675b1d6",
   "metadata": {},
   "outputs": [
    {
     "name": "stdout",
     "output_type": "stream",
     "text": [
      "[\"销售部\", \"开发部\", \"产品部\", \"运维部\", \"法务部\"]\n"
     ]
    }
   ],
   "source": [
    "Settings.llm=OpenAILike(\n",
    "    model=\"qwen2\", \n",
    "    api_base=\"http://ape:3000/v1\", \n",
    "    api_key=\"sk-bJP6QSnUfjAYeYeE505d3eBf63A643BeB0B8E350Df9b7750\",\n",
    "    is_chat_model=True,\n",
    "    temperature=0.1,\n",
    "    request_timeout=60.0\n",
    ")\n",
    "\n",
    "response = query_engine.query(\n",
    "    \"给出涉及的所有部门的json格式，部门列表，比如：\"\n",
    "    \"`['销售部','开发部', ..]`\"\n",
    ")\n",
    "\n",
    "print(str(response))"
   ]
  },
  {
   "cell_type": "code",
   "execution_count": 49,
   "id": "c6c0e970-fd3c-4278-8648-6349a30b9fb0",
   "metadata": {},
   "outputs": [
    {
     "name": "stdout",
     "output_type": "stream",
     "text": [
      "[\n",
      "    {\n",
      "        \"dept\": \"产品部\",\n",
      "        \"persons\": [\n",
      "            {\n",
      "                \"name\": \"林晓琪\",\n",
      "                \"items\": [\n",
      "                    \"simple-rag 产品，提交新特性需求：多数据源的融合检索查询\",\n",
      "                    \"江南皮革厂客服助手项目，和客户开会，沟通需求\"\n",
      "                ]\n",
      "            }\n",
      "        ]\n",
      "    },\n",
      "    {\n",
      "        \"dept\": \"开发部\",\n",
      "        \"persons\": [\n",
      "            {\n",
      "                \"name\": \"韩宇轩\",\n",
      "                \"items\": [\n",
      "                    \"simple-rag 产品，实现新特性：针对文档的摘要索引\"\n",
      "                ]\n",
      "            },\n",
      "            {\n",
      "                \"name\": \"陈逸飞\",\n",
      "                \"items\": [\n",
      "                    \"simple-rag 产品，修正bug：中文断句不完整\"\n",
      "                ]\n",
      "            },\n",
      "            {\n",
      "                \"name\": \"郑千\",\n",
      "                \"items\": [\n",
      "                    \"simple-rag 产品，修正bug：聊天界面 markdown 格式显示错误\"\n",
      "                ]\n",
      "            }\n",
      "        ]\n",
      "    },\n",
      "    {\n",
      "        \"dept\": \"运维部\",\n",
      "        \"persons\": [\n",
      "            {\n",
      "                \"name\": \"李泽言\",\n",
      "                \"items\": [\n",
      "                    \"江南皮革厂客服平台，系统扩容，解决了负载过高造成服务卡的问题\"\n",
      "                ]\n",
      "            }\n",
      "        ]\n",
      "    },\n",
      "    {\n",
      "        \"dept\": \"销售部\",\n",
      "        \"persons\": [\n",
      "            {\n",
      "                \"name\": \"韩雪薇\",\n",
      "                \"items\": [\n",
      "                    \"天津化工集团后勤服务平台，准备标书商务部分，完成公司资质方面的文案\"\n",
      "                ]\n",
      "            }\n",
      "        ]\n",
      "    },\n",
      "    {\n",
      "        \"dept\": \"法务部\",\n",
      "        \"persons\": [\n",
      "            {\n",
      "                \"name\": \"张峻宁\",\n",
      "                \"items\": [\n",
      "                    \"完成审核了与深圳做大事公司的商务合同\"\n",
      "                ]\n",
      "            }\n",
      "        ]\n",
      "    }\n",
      "]\n"
     ]
    }
   ],
   "source": [
    "response = query_engine.query(\n",
    "    \"给出涉及的所有部门和人员的json格式，结果列表，比如：\"\n",
    "    \"\"\"\n",
    "    [\n",
    "        {\n",
    "            \"dept\": \"产品部\",\n",
    "            \"persons\": [\n",
    "                {\n",
    "                    \"name\": \"张三\",\n",
    "                    \"items\": [\n",
    "                        \"xx项目，和客户开会: xxxx\",\n",
    "                        \"xx产品，提交新特性: xxx\",\n",
    "                        ...\n",
    "                    ]\n",
    "                },\n",
    "                {\n",
    "                    \"name\": \"李四\",\n",
    "                    \"items\": [\n",
    "                        \"xx项目，实现新特性: xxxx\",\n",
    "                        ...\n",
    "                    ]\n",
    "                },\n",
    "                {\n",
    "                    \"name\": \"xxx\",\n",
    "                    \"items\": [\n",
    "                        \"xx项目，实现新特性: xxxx\",\n",
    "                        ...\n",
    "                    ]\n",
    "                },\n",
    "                {\n",
    "                    \"name\": \"xxx\",\n",
    "                    \"items\": [\n",
    "                        \"xx项目，实现新特性: xxxx\",\n",
    "                        ...\n",
    "                    ]\n",
    "                },\n",
    "                ...\n",
    "            ]\n",
    "        },\n",
    "        {\n",
    "            \"dept\": \"开发部\",\n",
    "            \"persons\": [\n",
    "                {\n",
    "                    \"name\": \"王五\",\n",
    "                    \"items\": [\n",
    "                        \"xx项目，修正bug: xxxx\",\n",
    "                        \"xx产品，实现新特性: xxx\",\n",
    "                        ...\n",
    "                    ]\n",
    "                },\n",
    "                ...\n",
    "            ]\n",
    "        },\n",
    "        ...\n",
    "    ]\n",
    "    \"\"\"\n",
    ")\n",
    "\n",
    "print(str(response))"
   ]
  },
  {
   "cell_type": "markdown",
   "id": "d9bf3566-2c07-400a-ae8f-87913c81733e",
   "metadata": {},
   "source": [
    "## 完善提示词的对话输出"
   ]
  },
  {
   "cell_type": "code",
   "execution_count": 58,
   "id": "d7834e65-7cfa-4f5e-9cd3-75b22bc00a5d",
   "metadata": {},
   "outputs": [
    {
     "name": "stdout",
     "output_type": "stream",
     "text": [
      "产品部：\n",
      "\n",
      "- 林晓琪\n",
      "    - simple-rag 产品，提交新特性需求：多数据源的融合检索查询\n",
      "    - 江南皮革厂客服助手项目，和客户开会，沟通需求\n",
      "\n",
      "开发部：\n",
      "\n",
      "- 韩宇轩\n",
      "    - simple-rag 产品，实现新特性：针对文档的摘要索引\n",
      "- 陈逸飞\n",
      "    - simple-rag 产品，修正bug：中文断句不完整\n",
      "- 郑千\n",
      "    - simple-rag 产品，修正bug：聊天界面 markdown 格式显示错误\n",
      "\n",
      "运维部：\n",
      "\n",
      "- 李泽言\n",
      "    - 江南皮革厂客服平台，系统扩容，解决了负载过高造成服务卡的问题\n",
      "\n",
      "销售部：\n",
      "\n",
      "- 韩雪薇\n",
      "    - 天津化工集团后勤服务平台，准备标书商务部分，完成公司资质方面的文案\n",
      "\n",
      "法务部：\n",
      "\n",
      "- 张峻宁\n",
      "    - 完成审核了与深圳做大事公司的商务合同\n",
      "CPU times: user 9.1 ms, sys: 116 µs, total: 9.21 ms\n",
      "Wall time: 4.33 s\n"
     ]
    }
   ],
   "source": [
    "%%time\n",
    "\n",
    "Settings.llm=OpenAILike(\n",
    "    model=\"qwen2\", \n",
    "    api_base=\"http://ape:3000/v1\", \n",
    "    api_key=\"sk-bJP6QSnUfjAYeYeE505d3eBf63A643BeB0B8E350Df9b7750\",\n",
    "    is_chat_model=True,\n",
    "    temperature=0.1,\n",
    "    request_timeout=60.0\n",
    ")\n",
    "\n",
    "response = query_engine.query(\n",
    "    \"给出涉及的所有部门的输出，输出格式见：\"\n",
    "    \"\"\"\n",
    "    产品部：\n",
    "\n",
    "    - 张三\n",
    "        - xxx产品，提交新特性需求: xxx\n",
    "        - xxx项目，和客户开会，xxxxx\n",
    "        - ...\n",
    "    - 李四\n",
    "        - xxxx\n",
    "        - ...\n",
    "    - 王五\n",
    "      - ...\n",
    "\n",
    "    xx部：\n",
    "    \n",
    "    - 赵六\n",
    "      - ...\n",
    "\n",
    "    xxx部:\n",
    "    ...\n",
    "    \"\"\"\n",
    ")\n",
    "\n",
    "print(str(response))"
   ]
  },
  {
   "cell_type": "code",
   "execution_count": null,
   "id": "49462c89-08b3-4c1f-9221-3e0b64c19536",
   "metadata": {},
   "outputs": [],
   "source": []
  }
 ],
 "metadata": {
  "kernelspec": {
   "display_name": "Python 3 (ipykernel)",
   "language": "python",
   "name": "python3"
  },
  "language_info": {
   "codemirror_mode": {
    "name": "ipython",
    "version": 3
   },
   "file_extension": ".py",
   "mimetype": "text/x-python",
   "name": "python",
   "nbconvert_exporter": "python",
   "pygments_lexer": "ipython3",
   "version": "3.10.12"
  }
 },
 "nbformat": 4,
 "nbformat_minor": 5
}
