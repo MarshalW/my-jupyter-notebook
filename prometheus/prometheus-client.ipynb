{
 "cells": [
  {
   "cell_type": "markdown",
   "id": "78a66402-ed78-4b0f-b760-bd4f6f839708",
   "metadata": {},
   "source": [
    "# 读取prometheus时间序列数据"
   ]
  },
  {
   "cell_type": "markdown",
   "id": "6a48cb22-1075-468e-95a4-756ca81afa0d",
   "metadata": {},
   "source": [
    "## 准备"
   ]
  },
  {
   "cell_type": "code",
   "execution_count": 1,
   "id": "89350a86-2110-45bc-89a0-1160df38cf80",
   "metadata": {},
   "outputs": [
    {
     "name": "stdout",
     "output_type": "stream",
     "text": [
      "CPU times: user 8.42 ms, sys: 10.5 ms, total: 18.9 ms\n",
      "Wall time: 3.32 s\n"
     ]
    }
   ],
   "source": [
    "%%time\n",
    "%%capture\n",
    "\n",
    "!pip install prometheus-api-client"
   ]
  },
  {
   "cell_type": "markdown",
   "id": "304a9225-1126-420e-a250-ed0376d83c84",
   "metadata": {},
   "source": [
    "## 得到所有指标"
   ]
  },
  {
   "cell_type": "code",
   "execution_count": 18,
   "id": "91c3c45b-053d-4206-ad0b-37ef0085935a",
   "metadata": {},
   "outputs": [
    {
     "name": "stdout",
     "output_type": "stream",
     "text": [
      "CPU times: user 3.08 ms, sys: 0 ns, total: 3.08 ms\n",
      "Wall time: 3.55 ms\n"
     ]
    },
    {
     "data": {
      "text/plain": [
       "['dhtexp_humidity',\n",
       " 'dhtexp_temperature',\n",
       " 'go_gc_cycles_automatic_gc_cycles_total',\n",
       " 'go_gc_cycles_forced_gc_cycles_total',\n",
       " 'go_gc_cycles_total_gc_cycles_total',\n",
       " 'go_gc_duration_seconds',\n",
       " 'go_gc_duration_seconds_count',\n",
       " 'go_gc_duration_seconds_sum',\n",
       " 'go_gc_gogc_percent',\n",
       " 'go_gc_gomemlimit_bytes',\n",
       " 'go_gc_heap_allocs_by_size_bytes_bucket',\n",
       " 'go_gc_heap_allocs_by_size_bytes_count',\n",
       " 'go_gc_heap_allocs_by_size_bytes_sum',\n",
       " 'go_gc_heap_allocs_bytes_total',\n",
       " 'go_gc_heap_allocs_objects_total',\n",
       " 'go_gc_heap_frees_by_size_bytes_bucket',\n",
       " 'go_gc_heap_frees_by_size_bytes_count',\n",
       " 'go_gc_heap_frees_by_size_bytes_sum',\n",
       " 'go_gc_heap_frees_bytes_total',\n",
       " 'go_gc_heap_frees_objects_total',\n",
       " 'go_gc_heap_goal_bytes',\n",
       " 'go_gc_heap_live_bytes',\n",
       " 'go_gc_heap_objects_objects',\n",
       " 'go_gc_heap_tiny_allocs_objects_total',\n",
       " 'go_gc_limiter_last_enabled_gc_cycle',\n",
       " 'go_gc_pauses_seconds_bucket',\n",
       " 'go_gc_pauses_seconds_count',\n",
       " 'go_gc_pauses_seconds_sum',\n",
       " 'go_gc_scan_globals_bytes',\n",
       " 'go_gc_scan_heap_bytes',\n",
       " 'go_gc_scan_stack_bytes',\n",
       " 'go_gc_scan_total_bytes',\n",
       " 'go_gc_stack_starting_size_bytes',\n",
       " 'go_goroutines',\n",
       " 'go_info',\n",
       " 'go_memstats_alloc_bytes',\n",
       " 'go_memstats_alloc_bytes_total',\n",
       " 'go_memstats_buck_hash_sys_bytes',\n",
       " 'go_memstats_frees_total',\n",
       " 'go_memstats_gc_sys_bytes',\n",
       " 'go_memstats_heap_alloc_bytes',\n",
       " 'go_memstats_heap_idle_bytes',\n",
       " 'go_memstats_heap_inuse_bytes',\n",
       " 'go_memstats_heap_objects',\n",
       " 'go_memstats_heap_released_bytes',\n",
       " 'go_memstats_heap_sys_bytes',\n",
       " 'go_memstats_last_gc_time_seconds',\n",
       " 'go_memstats_lookups_total',\n",
       " 'go_memstats_mallocs_total',\n",
       " 'go_memstats_mcache_inuse_bytes',\n",
       " 'go_memstats_mcache_sys_bytes',\n",
       " 'go_memstats_mspan_inuse_bytes',\n",
       " 'go_memstats_mspan_sys_bytes',\n",
       " 'go_memstats_next_gc_bytes',\n",
       " 'go_memstats_other_sys_bytes',\n",
       " 'go_memstats_stack_inuse_bytes',\n",
       " 'go_memstats_stack_sys_bytes',\n",
       " 'go_memstats_sys_bytes',\n",
       " 'go_sched_gomaxprocs_threads',\n",
       " 'go_sched_goroutines_goroutines',\n",
       " 'go_sched_latencies_seconds_bucket',\n",
       " 'go_sched_latencies_seconds_count',\n",
       " 'go_sched_latencies_seconds_sum',\n",
       " 'go_sched_pauses_stopping_gc_seconds_bucket',\n",
       " 'go_sched_pauses_stopping_gc_seconds_count',\n",
       " 'go_sched_pauses_stopping_gc_seconds_sum',\n",
       " 'go_sched_pauses_stopping_other_seconds_bucket',\n",
       " 'go_sched_pauses_stopping_other_seconds_count',\n",
       " 'go_sched_pauses_stopping_other_seconds_sum',\n",
       " 'go_sched_pauses_total_gc_seconds_bucket',\n",
       " 'go_sched_pauses_total_gc_seconds_count',\n",
       " 'go_sched_pauses_total_gc_seconds_sum',\n",
       " 'go_sched_pauses_total_other_seconds_bucket',\n",
       " 'go_sched_pauses_total_other_seconds_count',\n",
       " 'go_sched_pauses_total_other_seconds_sum',\n",
       " 'go_threads',\n",
       " 'net_conntrack_dialer_conn_attempted_total',\n",
       " 'net_conntrack_dialer_conn_closed_total',\n",
       " 'net_conntrack_dialer_conn_established_total',\n",
       " 'net_conntrack_dialer_conn_failed_total',\n",
       " 'net_conntrack_listener_conn_accepted_total',\n",
       " 'net_conntrack_listener_conn_closed_total',\n",
       " 'process_cpu_seconds_total',\n",
       " 'process_max_fds',\n",
       " 'process_open_fds',\n",
       " 'process_resident_memory_bytes',\n",
       " 'process_start_time_seconds',\n",
       " 'process_virtual_memory_bytes',\n",
       " 'process_virtual_memory_max_bytes',\n",
       " 'prometheus_api_remote_read_queries',\n",
       " 'prometheus_build_info',\n",
       " 'prometheus_config_last_reload_success_timestamp_seconds',\n",
       " 'prometheus_config_last_reload_successful',\n",
       " 'prometheus_engine_queries',\n",
       " 'prometheus_engine_queries_concurrent_max',\n",
       " 'prometheus_engine_query_duration_seconds',\n",
       " 'prometheus_engine_query_duration_seconds_count',\n",
       " 'prometheus_engine_query_duration_seconds_sum',\n",
       " 'prometheus_engine_query_log_enabled',\n",
       " 'prometheus_engine_query_log_failures_total',\n",
       " 'prometheus_engine_query_samples_total',\n",
       " 'prometheus_http_request_duration_seconds_bucket',\n",
       " 'prometheus_http_request_duration_seconds_count',\n",
       " 'prometheus_http_request_duration_seconds_sum',\n",
       " 'prometheus_http_requests_total',\n",
       " 'prometheus_http_response_size_bytes_bucket',\n",
       " 'prometheus_http_response_size_bytes_count',\n",
       " 'prometheus_http_response_size_bytes_sum',\n",
       " 'prometheus_notifications_alertmanagers_discovered',\n",
       " 'prometheus_notifications_dropped_total',\n",
       " 'prometheus_notifications_queue_capacity',\n",
       " 'prometheus_notifications_queue_length',\n",
       " 'prometheus_ready',\n",
       " 'prometheus_remote_storage_exemplars_in_total',\n",
       " 'prometheus_remote_storage_highest_timestamp_in_seconds',\n",
       " 'prometheus_remote_storage_histograms_in_total',\n",
       " 'prometheus_remote_storage_samples_in_total',\n",
       " 'prometheus_remote_storage_string_interner_zero_reference_releases_total',\n",
       " 'prometheus_rule_evaluation_duration_seconds',\n",
       " 'prometheus_rule_evaluation_duration_seconds_count',\n",
       " 'prometheus_rule_evaluation_duration_seconds_sum',\n",
       " 'prometheus_rule_group_duration_seconds',\n",
       " 'prometheus_rule_group_duration_seconds_count',\n",
       " 'prometheus_rule_group_duration_seconds_sum',\n",
       " 'prometheus_sd_azure_cache_hit_total',\n",
       " 'prometheus_sd_azure_failures_total',\n",
       " 'prometheus_sd_consul_rpc_duration_seconds',\n",
       " 'prometheus_sd_consul_rpc_duration_seconds_count',\n",
       " 'prometheus_sd_consul_rpc_duration_seconds_sum',\n",
       " 'prometheus_sd_consul_rpc_failures_total',\n",
       " 'prometheus_sd_discovered_targets',\n",
       " 'prometheus_sd_dns_lookup_failures_total',\n",
       " 'prometheus_sd_dns_lookups_total',\n",
       " 'prometheus_sd_failed_configs',\n",
       " 'prometheus_sd_file_read_errors_total',\n",
       " 'prometheus_sd_file_scan_duration_seconds',\n",
       " 'prometheus_sd_file_scan_duration_seconds_count',\n",
       " 'prometheus_sd_file_scan_duration_seconds_sum',\n",
       " 'prometheus_sd_file_watcher_errors_total',\n",
       " 'prometheus_sd_http_failures_total',\n",
       " 'prometheus_sd_kubernetes_events_total',\n",
       " 'prometheus_sd_kubernetes_failures_total',\n",
       " 'prometheus_sd_kuma_fetch_duration_seconds',\n",
       " 'prometheus_sd_kuma_fetch_duration_seconds_count',\n",
       " 'prometheus_sd_kuma_fetch_duration_seconds_sum',\n",
       " 'prometheus_sd_kuma_fetch_failures_total',\n",
       " 'prometheus_sd_kuma_fetch_skipped_updates_total',\n",
       " 'prometheus_sd_linode_failures_total',\n",
       " 'prometheus_sd_nomad_failures_total',\n",
       " 'prometheus_sd_received_updates_total',\n",
       " 'prometheus_sd_updates_delayed_total',\n",
       " 'prometheus_sd_updates_total',\n",
       " 'prometheus_target_interval_length_seconds',\n",
       " 'prometheus_target_interval_length_seconds_count',\n",
       " 'prometheus_target_interval_length_seconds_sum',\n",
       " 'prometheus_target_metadata_cache_bytes',\n",
       " 'prometheus_target_metadata_cache_entries',\n",
       " 'prometheus_target_scrape_pool_exceeded_label_limits_total',\n",
       " 'prometheus_target_scrape_pool_exceeded_target_limit_total',\n",
       " 'prometheus_target_scrape_pool_reloads_failed_total',\n",
       " 'prometheus_target_scrape_pool_reloads_total',\n",
       " 'prometheus_target_scrape_pool_sync_total',\n",
       " 'prometheus_target_scrape_pool_target_limit',\n",
       " 'prometheus_target_scrape_pool_targets',\n",
       " 'prometheus_target_scrape_pools_failed_total',\n",
       " 'prometheus_target_scrape_pools_total',\n",
       " 'prometheus_target_scrapes_cache_flush_forced_total',\n",
       " 'prometheus_target_scrapes_exceeded_body_size_limit_total',\n",
       " 'prometheus_target_scrapes_exceeded_native_histogram_bucket_limit_total',\n",
       " 'prometheus_target_scrapes_exceeded_sample_limit_total',\n",
       " 'prometheus_target_scrapes_exemplar_out_of_order_total',\n",
       " 'prometheus_target_scrapes_sample_duplicate_timestamp_total',\n",
       " 'prometheus_target_scrapes_sample_out_of_bounds_total',\n",
       " 'prometheus_target_scrapes_sample_out_of_order_total',\n",
       " 'prometheus_target_sync_failed_total',\n",
       " 'prometheus_target_sync_length_seconds',\n",
       " 'prometheus_target_sync_length_seconds_count',\n",
       " 'prometheus_target_sync_length_seconds_sum',\n",
       " 'prometheus_template_text_expansion_failures_total',\n",
       " 'prometheus_template_text_expansions_total',\n",
       " 'prometheus_treecache_watcher_goroutines',\n",
       " 'prometheus_treecache_zookeeper_failures_total',\n",
       " 'prometheus_tsdb_blocks_loaded',\n",
       " 'prometheus_tsdb_checkpoint_creations_failed_total',\n",
       " 'prometheus_tsdb_checkpoint_creations_total',\n",
       " 'prometheus_tsdb_checkpoint_deletions_failed_total',\n",
       " 'prometheus_tsdb_checkpoint_deletions_total',\n",
       " 'prometheus_tsdb_clean_start',\n",
       " 'prometheus_tsdb_compaction_chunk_range_seconds_bucket',\n",
       " 'prometheus_tsdb_compaction_chunk_range_seconds_count',\n",
       " 'prometheus_tsdb_compaction_chunk_range_seconds_sum',\n",
       " 'prometheus_tsdb_compaction_chunk_samples_bucket',\n",
       " 'prometheus_tsdb_compaction_chunk_samples_count',\n",
       " 'prometheus_tsdb_compaction_chunk_samples_sum',\n",
       " 'prometheus_tsdb_compaction_chunk_size_bytes_bucket',\n",
       " 'prometheus_tsdb_compaction_chunk_size_bytes_count',\n",
       " 'prometheus_tsdb_compaction_chunk_size_bytes_sum',\n",
       " 'prometheus_tsdb_compaction_duration_seconds_bucket',\n",
       " 'prometheus_tsdb_compaction_duration_seconds_count',\n",
       " 'prometheus_tsdb_compaction_duration_seconds_sum',\n",
       " 'prometheus_tsdb_compaction_populating_block',\n",
       " 'prometheus_tsdb_compactions_failed_total',\n",
       " 'prometheus_tsdb_compactions_skipped_total',\n",
       " 'prometheus_tsdb_compactions_total',\n",
       " 'prometheus_tsdb_compactions_triggered_total',\n",
       " 'prometheus_tsdb_data_replay_duration_seconds',\n",
       " 'prometheus_tsdb_exemplar_exemplars_appended_total',\n",
       " 'prometheus_tsdb_exemplar_exemplars_in_storage',\n",
       " 'prometheus_tsdb_exemplar_last_exemplars_timestamp_seconds',\n",
       " 'prometheus_tsdb_exemplar_max_exemplars',\n",
       " 'prometheus_tsdb_exemplar_out_of_order_exemplars_total',\n",
       " 'prometheus_tsdb_exemplar_series_with_exemplars_in_storage',\n",
       " 'prometheus_tsdb_head_active_appenders',\n",
       " 'prometheus_tsdb_head_chunks',\n",
       " 'prometheus_tsdb_head_chunks_created_total',\n",
       " 'prometheus_tsdb_head_chunks_removed_total',\n",
       " 'prometheus_tsdb_head_chunks_storage_size_bytes',\n",
       " 'prometheus_tsdb_head_gc_duration_seconds_count',\n",
       " 'prometheus_tsdb_head_gc_duration_seconds_sum',\n",
       " 'prometheus_tsdb_head_max_time',\n",
       " 'prometheus_tsdb_head_max_time_seconds',\n",
       " 'prometheus_tsdb_head_min_time',\n",
       " 'prometheus_tsdb_head_min_time_seconds',\n",
       " 'prometheus_tsdb_head_out_of_order_samples_appended_total',\n",
       " 'prometheus_tsdb_head_samples_appended_total',\n",
       " 'prometheus_tsdb_head_series',\n",
       " 'prometheus_tsdb_head_series_created_total',\n",
       " 'prometheus_tsdb_head_series_not_found_total',\n",
       " 'prometheus_tsdb_head_series_removed_total',\n",
       " 'prometheus_tsdb_head_truncations_failed_total',\n",
       " 'prometheus_tsdb_head_truncations_total',\n",
       " 'prometheus_tsdb_isolation_high_watermark',\n",
       " 'prometheus_tsdb_isolation_low_watermark',\n",
       " 'prometheus_tsdb_lowest_timestamp',\n",
       " 'prometheus_tsdb_lowest_timestamp_seconds',\n",
       " 'prometheus_tsdb_mmap_chunk_corruptions_total',\n",
       " 'prometheus_tsdb_mmap_chunks_total',\n",
       " 'prometheus_tsdb_out_of_bound_samples_total',\n",
       " 'prometheus_tsdb_out_of_order_samples_total',\n",
       " 'prometheus_tsdb_reloads_failures_total',\n",
       " 'prometheus_tsdb_reloads_total',\n",
       " 'prometheus_tsdb_retention_limit_bytes',\n",
       " 'prometheus_tsdb_retention_limit_seconds',\n",
       " 'prometheus_tsdb_size_retentions_total',\n",
       " 'prometheus_tsdb_snapshot_replay_error_total',\n",
       " 'prometheus_tsdb_storage_blocks_bytes',\n",
       " 'prometheus_tsdb_symbol_table_size_bytes',\n",
       " 'prometheus_tsdb_time_retentions_total',\n",
       " 'prometheus_tsdb_tombstone_cleanup_seconds_bucket',\n",
       " 'prometheus_tsdb_tombstone_cleanup_seconds_count',\n",
       " 'prometheus_tsdb_tombstone_cleanup_seconds_sum',\n",
       " 'prometheus_tsdb_too_old_samples_total',\n",
       " 'prometheus_tsdb_vertical_compactions_total',\n",
       " 'prometheus_tsdb_wal_completed_pages_total',\n",
       " 'prometheus_tsdb_wal_corruptions_total',\n",
       " 'prometheus_tsdb_wal_fsync_duration_seconds',\n",
       " 'prometheus_tsdb_wal_fsync_duration_seconds_count',\n",
       " 'prometheus_tsdb_wal_fsync_duration_seconds_sum',\n",
       " 'prometheus_tsdb_wal_page_flushes_total',\n",
       " 'prometheus_tsdb_wal_segment_current',\n",
       " 'prometheus_tsdb_wal_storage_size_bytes',\n",
       " 'prometheus_tsdb_wal_truncate_duration_seconds_count',\n",
       " 'prometheus_tsdb_wal_truncate_duration_seconds_sum',\n",
       " 'prometheus_tsdb_wal_truncations_failed_total',\n",
       " 'prometheus_tsdb_wal_truncations_total',\n",
       " 'prometheus_tsdb_wal_writes_failed_total',\n",
       " 'prometheus_web_federation_errors_total',\n",
       " 'prometheus_web_federation_warnings_total',\n",
       " 'promhttp_metric_handler_requests_in_flight',\n",
       " 'promhttp_metric_handler_requests_total',\n",
       " 'scrape_duration_seconds',\n",
       " 'scrape_samples_post_metric_relabeling',\n",
       " 'scrape_samples_scraped',\n",
       " 'scrape_series_added',\n",
       " 'up']"
      ]
     },
     "execution_count": 18,
     "metadata": {},
     "output_type": "execute_result"
    }
   ],
   "source": [
    "%%time\n",
    "\n",
    "from prometheus_api_client import PrometheusConnect\n",
    "prom = PrometheusConnect(url =\"http://192.168.0.81:9090\", disable_ssl=True)\n",
    "\n",
    "# Get the list of all the metrics that the Prometheus host scrapes\n",
    "prom.all_metrics()"
   ]
  },
  {
   "cell_type": "markdown",
   "id": "3c9889f4-a942-4152-bc81-955a29d629ff",
   "metadata": {},
   "source": [
    "## 获取当前指定指标的值"
   ]
  },
  {
   "cell_type": "markdown",
   "id": "3a9fa410-b6d0-4195-aa24-0df458a95e69",
   "metadata": {},
   "source": [
    "### 指定指标名称"
   ]
  },
  {
   "cell_type": "code",
   "execution_count": 26,
   "id": "a8ecba6f-929d-4e61-95b6-bc160c2dc1e2",
   "metadata": {},
   "outputs": [
    {
     "name": "stdout",
     "output_type": "stream",
     "text": [
      "CPU times: user 2.29 ms, sys: 0 ns, total: 2.29 ms\n",
      "Wall time: 2.42 ms\n"
     ]
    },
    {
     "data": {
      "text/plain": [
       "[{'metric': {'__name__': 'dhtexp_temperature',\n",
       "   'instance': 'sensor-office:8663',\n",
       "   'job': 'sensors'},\n",
       "  'value': [1720693392.929, '26.1']},\n",
       " {'metric': {'__name__': 'dhtexp_temperature',\n",
       "   'instance': 'sensor-home-proxy:8888',\n",
       "   'job': 'sensors'},\n",
       "  'value': [1720693392.929, '28.3']}]"
      ]
     },
     "execution_count": 26,
     "metadata": {},
     "output_type": "execute_result"
    }
   ],
   "source": [
    "%%time\n",
    "\n",
    "data=prom.custom_query(query=\"dhtexp_temperature\")\n",
    "data"
   ]
  },
  {
   "cell_type": "code",
   "execution_count": 9,
   "id": "746d9e7a-be81-410e-9f97-e25706f07307",
   "metadata": {},
   "outputs": [
    {
     "data": {
      "text/plain": [
       "25.6"
      ]
     },
     "execution_count": 9,
     "metadata": {},
     "output_type": "execute_result"
    }
   ],
   "source": [
    "float(data[0]['value'][1])"
   ]
  },
  {
   "cell_type": "code",
   "execution_count": 10,
   "id": "84891f7e-33f6-4ef2-b182-da0b73f63711",
   "metadata": {},
   "outputs": [
    {
     "name": "stdout",
     "output_type": "stream",
     "text": [
      "CPU times: user 2.32 ms, sys: 123 µs, total: 2.45 ms\n",
      "Wall time: 2.65 ms\n"
     ]
    },
    {
     "data": {
      "text/plain": [
       "[{'metric': {'__name__': 'dhtexp_humidity',\n",
       "   'instance': 'sensor-office:8663',\n",
       "   'job': 'sensors'},\n",
       "  'value': [1720428171.983, '51.4']}]"
      ]
     },
     "execution_count": 10,
     "metadata": {},
     "output_type": "execute_result"
    }
   ],
   "source": [
    "%%time\n",
    "\n",
    "prom.custom_query(query=\"dhtexp_humidity\")"
   ]
  },
  {
   "cell_type": "markdown",
   "id": "df529bca-b2c7-4c37-9278-646ea39aea61",
   "metadata": {},
   "source": [
    "### 指定指标和条件"
   ]
  },
  {
   "cell_type": "code",
   "execution_count": 43,
   "id": "185bd47a-9ea4-4b8c-8495-383b6e53dfc3",
   "metadata": {},
   "outputs": [
    {
     "name": "stdout",
     "output_type": "stream",
     "text": [
      "CPU times: user 1.92 ms, sys: 488 µs, total: 2.4 ms\n",
      "Wall time: 2.44 ms\n"
     ]
    },
    {
     "data": {
      "text/plain": [
       "'26.4'"
      ]
     },
     "execution_count": 43,
     "metadata": {},
     "output_type": "execute_result"
    }
   ],
   "source": [
    "%%time\n",
    "\n",
    "my_label_config = {'instance': 'sensor-office:8663'}\n",
    "data=prom.get_current_metric_value(metric_name='dhtexp_temperature', label_config=my_label_config)\n",
    "\n",
    "data[0]['value'][1]"
   ]
  },
  {
   "cell_type": "markdown",
   "id": "dfadbafb-1e8f-496f-8e06-892c55dfa086",
   "metadata": {},
   "source": [
    "## 获取时间范围内的指标值序列"
   ]
  },
  {
   "cell_type": "code",
   "execution_count": 25,
   "id": "532c71b4-fac8-4811-b059-e38ad05a8c28",
   "metadata": {},
   "outputs": [
    {
     "name": "stdout",
     "output_type": "stream",
     "text": [
      "CPU times: user 6.46 ms, sys: 0 ns, total: 6.46 ms\n",
      "Wall time: 9.02 ms\n"
     ]
    },
    {
     "data": {
      "text/plain": [
       "[{'metric': {'__name__': 'dhtexp_temperature',\n",
       "   'instance': 'sensor-home-proxy:8888',\n",
       "   'job': 'sensors'},\n",
       "  'values': [[1720693176.91, '28.3']]},\n",
       " {'metric': {'__name__': 'dhtexp_temperature',\n",
       "   'instance': 'sensor-office:8663',\n",
       "   'job': 'sensors'},\n",
       "  'values': [[1720693174.713, '26']]},\n",
       " {'metric': {'__name__': 'dhtexp_temperature',\n",
       "   'instance': 'sensor-home-proxy:8888',\n",
       "   'job': 'sensors'},\n",
       "  'values': [[1720693191.91, '28.3']]},\n",
       " {'metric': {'__name__': 'dhtexp_temperature',\n",
       "   'instance': 'sensor-office:8663',\n",
       "   'job': 'sensors'},\n",
       "  'values': [[1720693189.715, '26']]},\n",
       " {'metric': {'__name__': 'dhtexp_temperature',\n",
       "   'instance': 'sensor-home-proxy:8888',\n",
       "   'job': 'sensors'},\n",
       "  'values': [[1720693206.91, '28.3']]},\n",
       " {'metric': {'__name__': 'dhtexp_temperature',\n",
       "   'instance': 'sensor-office:8663',\n",
       "   'job': 'sensors'},\n",
       "  'values': [[1720693204.715, '26'], [1720693219.713, '26']]}]"
      ]
     },
     "execution_count": 25,
     "metadata": {},
     "output_type": "execute_result"
    }
   ],
   "source": [
    "%%time\n",
    "\n",
    "from prometheus_api_client.utils import parse_datetime\n",
    "from datetime import timedelta\n",
    "\n",
    "start_time = parse_datetime(\"60s\")\n",
    "end_time = parse_datetime(\"now\")\n",
    "chunk_size = timedelta(seconds=20)\n",
    "\n",
    "metric_data = prom.get_metric_range_data(\n",
    "    \"dhtexp_temperature\",  \n",
    "    start_time=start_time,\n",
    "    end_time=end_time,\n",
    "    chunk_size=chunk_size,\n",
    ")\n",
    "\n",
    "metric_data"
   ]
  },
  {
   "cell_type": "markdown",
   "id": "d5988f4f-682e-4ef8-83f6-3d562479da5a",
   "metadata": {},
   "source": [
    "## 自定义条件查询"
   ]
  },
  {
   "cell_type": "markdown",
   "id": "03e24975-38a7-4bc2-b725-2d612ecac120",
   "metadata": {},
   "source": [
    "### 基于api"
   ]
  },
  {
   "cell_type": "code",
   "execution_count": 12,
   "id": "2a493e5f-7c67-44d6-8d2c-c441d919fe4d",
   "metadata": {},
   "outputs": [
    {
     "name": "stdout",
     "output_type": "stream",
     "text": [
      "CPU times: user 3.53 ms, sys: 900 µs, total: 4.43 ms\n",
      "Wall time: 4.62 ms\n"
     ]
    },
    {
     "data": {
      "text/plain": [
       "[{'metric': {'__name__': 'dhtexp_temperature',\n",
       "   'instance': 'sensor-office:8663',\n",
       "   'job': 'sensors'},\n",
       "  'values': [[1720427584.714, '25.6'],\n",
       "   [1720427599.714, '25.6'],\n",
       "   [1720427614.714, '25.6'],\n",
       "   [1720427629.714, '25.6'],\n",
       "   [1720427644.716, '25.6'],\n",
       "   [1720427659.717, '25.6'],\n",
       "   [1720427674.714, '25.6'],\n",
       "   [1720427689.717, '25.6'],\n",
       "   [1720427704.718, '25.7'],\n",
       "   [1720427719.718, '25.6'],\n",
       "   [1720427734.714, '25.6'],\n",
       "   [1720427749.717, '25.6'],\n",
       "   [1720427764.714, '25.6'],\n",
       "   [1720427779.718, '25.6'],\n",
       "   [1720427794.718, '25.6'],\n",
       "   [1720427809.717, '25.6'],\n",
       "   [1720427824.714, '25.6'],\n",
       "   [1720427839.717, '25.6'],\n",
       "   [1720427854.717, '25.6'],\n",
       "   [1720427869.717, '25.6']]},\n",
       " {'metric': {'__name__': 'dhtexp_temperature',\n",
       "   'instance': 'sensor-office:8663',\n",
       "   'job': 'sensors'},\n",
       "  'values': [[1720427884.714, '25.6'],\n",
       "   [1720427899.718, '25.6'],\n",
       "   [1720427914.718, '25.6'],\n",
       "   [1720427929.717, '25.6'],\n",
       "   [1720427944.714, '25.7'],\n",
       "   [1720427959.718, '25.7'],\n",
       "   [1720427974.718, '25.6'],\n",
       "   [1720427989.714, '25.6'],\n",
       "   [1720428004.717, '25.6'],\n",
       "   [1720428019.714, '25.6'],\n",
       "   [1720428034.718, '25.6'],\n",
       "   [1720428049.714, '25.6'],\n",
       "   [1720428064.714, '25.6'],\n",
       "   [1720428079.717, '25.6'],\n",
       "   [1720428094.714, '25.7'],\n",
       "   [1720428109.714, '25.6'],\n",
       "   [1720428124.717, '25.7'],\n",
       "   [1720428139.714, '25.6'],\n",
       "   [1720428154.718, '25.6'],\n",
       "   [1720428169.717, '25.6']]}]"
      ]
     },
     "execution_count": 12,
     "metadata": {},
     "output_type": "execute_result"
    }
   ],
   "source": [
    "%%time\n",
    "\n",
    "my_label_config = {'instance': 'sensor-office:8663'}\n",
    "metric_data = prom.get_metric_range_data(\n",
    "    metric_name='dhtexp_temperature', \n",
    "    label_config=my_label_config,\n",
    "    start_time=start_time,\n",
    "    end_time=end_time,\n",
    "    chunk_size=chunk_size,\n",
    ")\n",
    "\n",
    "metric_data"
   ]
  },
  {
   "cell_type": "code",
   "execution_count": 13,
   "id": "effe5007-9349-438c-b657-0b91ad3171cb",
   "metadata": {},
   "outputs": [
    {
     "name": "stdout",
     "output_type": "stream",
     "text": [
      "dhtexp_temperature {'instance': 'sensor-office:8663', 'job': 'sensors'} \n",
      "\n",
      "CPU times: user 5.43 ms, sys: 0 ns, total: 5.43 ms\n",
      "Wall time: 5.33 ms\n"
     ]
    }
   ],
   "source": [
    "%%time\n",
    "\n",
    "from prometheus_api_client import PrometheusConnect, MetricsList, Metric\n",
    "\n",
    "metric_object_list = MetricsList(metric_data)\n",
    "\n",
    "# We can see what each of the metric objects look like\n",
    "for item in metric_object_list:\n",
    "    print(item.metric_name, item.label_config, \"\\n\")"
   ]
  },
  {
   "cell_type": "code",
   "execution_count": 14,
   "id": "5f4dd85d-caaf-4535-b080-518dd662352c",
   "metadata": {},
   "outputs": [
    {
     "name": "stdout",
     "output_type": "stream",
     "text": [
      "{\n",
      "metric_name: 'dhtexp_temperature'\n",
      "label_config: {'instance': 'sensor-office:8663', 'job': 'sensors'}\n",
      "metric_values:                               ds     y\n",
      "0  2024-07-08 08:33:04.713999987  25.6\n",
      "1  2024-07-08 08:33:19.713999987  25.6\n",
      "2  2024-07-08 08:33:34.713999987  25.6\n",
      "3  2024-07-08 08:33:49.713999987  25.6\n",
      "4  2024-07-08 08:34:04.716000080  25.6\n",
      "5  2024-07-08 08:34:19.717000008  25.6\n",
      "6  2024-07-08 08:34:34.713999987  25.6\n",
      "7  2024-07-08 08:34:49.717000008  25.6\n",
      "8  2024-07-08 08:35:04.717999935  25.7\n",
      "9  2024-07-08 08:35:19.717999935  25.6\n",
      "10 2024-07-08 08:35:34.713999987  25.6\n",
      "11 2024-07-08 08:35:49.717000008  25.6\n",
      "12 2024-07-08 08:36:04.713999987  25.6\n",
      "13 2024-07-08 08:36:19.717999935  25.6\n",
      "14 2024-07-08 08:36:34.717999935  25.6\n",
      "15 2024-07-08 08:36:49.717000008  25.6\n",
      "16 2024-07-08 08:37:04.713999987  25.6\n",
      "17 2024-07-08 08:37:19.717000008  25.6\n",
      "18 2024-07-08 08:37:34.717000008  25.6\n",
      "19 2024-07-08 08:37:49.717000008  25.6\n",
      "20 2024-07-08 08:38:04.713999987  25.6\n",
      "21 2024-07-08 08:38:19.717999935  25.6\n",
      "22 2024-07-08 08:38:34.717999935  25.6\n",
      "23 2024-07-08 08:38:49.717000008  25.6\n",
      "24 2024-07-08 08:39:04.713999987  25.7\n",
      "25 2024-07-08 08:39:19.717999935  25.7\n",
      "26 2024-07-08 08:39:34.717999935  25.6\n",
      "27 2024-07-08 08:39:49.713999987  25.6\n",
      "28 2024-07-08 08:40:04.717000008  25.6\n",
      "29 2024-07-08 08:40:19.713999987  25.6\n",
      "30 2024-07-08 08:40:34.717999935  25.6\n",
      "31 2024-07-08 08:40:49.713999987  25.6\n",
      "32 2024-07-08 08:41:04.713999987  25.6\n",
      "33 2024-07-08 08:41:19.717000008  25.6\n",
      "34 2024-07-08 08:41:34.713999987  25.7\n",
      "35 2024-07-08 08:41:49.713999987  25.6\n",
      "36 2024-07-08 08:42:04.717000008  25.7\n",
      "37 2024-07-08 08:42:19.713999987  25.6\n",
      "38 2024-07-08 08:42:34.717999935  25.6\n",
      "39 2024-07-08 08:42:49.717000008  25.6\n",
      "}\n"
     ]
    }
   ],
   "source": [
    "my_metric_object = metric_object_list[0] # one of the metrics from the list\n",
    "print(my_metric_object)"
   ]
  },
  {
   "cell_type": "markdown",
   "id": "11d0b378-fc76-4251-a585-848a02ec12e4",
   "metadata": {},
   "source": [
    "### 基于promQL"
   ]
  },
  {
   "cell_type": "markdown",
   "id": "185592e5-b67c-4ca7-8975-3e021c227d77",
   "metadata": {},
   "source": [
    "#### 得到数据指标"
   ]
  },
  {
   "cell_type": "code",
   "execution_count": 63,
   "id": "6389f36d-fedd-491e-9d58-dfbd61c05a66",
   "metadata": {},
   "outputs": [
    {
     "name": "stdout",
     "output_type": "stream",
     "text": [
      "CPU times: user 2.85 ms, sys: 0 ns, total: 2.85 ms\n",
      "Wall time: 3.7 ms\n"
     ]
    },
    {
     "data": {
      "text/plain": [
       "[{'metric': {'instance': 'sensor-home-proxy:8888', 'job': 'sensors'},\n",
       "  'values': [[1720681200, '28.229166666666654'],\n",
       "   [1720684800, '28.181249999999988'],\n",
       "   [1720688400, '28.177916666666654'],\n",
       "   [1720692000, '28.34625'],\n",
       "   [1720695600, '28.275833333333342'],\n",
       "   [1720699200, '28.1575'],\n",
       "   [1720702800, '28.211250000000007'],\n",
       "   [1720706400, '28.17333333333333'],\n",
       "   [1720710000, '28.06083333333333'],\n",
       "   [1720713600, '28.108750000000004'],\n",
       "   [1720717200, '28.032500000000006'],\n",
       "   [1720720800, '27.991666666666685'],\n",
       "   [1720724400, '27.949999999999992'],\n",
       "   [1720728000, '27.87083333333333'],\n",
       "   [1720731600, '28.13833333333334'],\n",
       "   [1720735200, '28.15958333333333'],\n",
       "   [1720738800, '28.113333333333326'],\n",
       "   [1720742400, '28.292050209205023'],\n",
       "   [1720746000, '28.506249999999998'],\n",
       "   [1720749600, '28.52583333333333'],\n",
       "   [1720753200, '27.908333333333346'],\n",
       "   [1720756800, '27.55291666666667'],\n",
       "   [1720760400, '27.46541666666667'],\n",
       "   [1720764000, '27.40041666666666']]}]"
      ]
     },
     "execution_count": 63,
     "metadata": {},
     "output_type": "execute_result"
    }
   ],
   "source": [
    "%%time\n",
    "\n",
    "data=prom.custom_query(query=\"avg_over_time(dhtexp_temperature{instance=\\\"sensor-home-proxy:8888\\\"}[1h])[24h:1h]\")\n",
    "data"
   ]
  },
  {
   "cell_type": "markdown",
   "id": "1a560481-141d-4792-a7f8-940b0f2537a0",
   "metadata": {},
   "source": [
    "#### 转换为表格和折线图"
   ]
  },
  {
   "cell_type": "code",
   "execution_count": 64,
   "id": "0e4244f2-a9d6-4a29-b91d-714ddc839c09",
   "metadata": {},
   "outputs": [
    {
     "data": {
      "text/plain": [
       "[[1720681200, 28.229],\n",
       " [1720684800, 28.181],\n",
       " [1720688400, 28.178],\n",
       " [1720692000, 28.346],\n",
       " [1720695600, 28.276],\n",
       " [1720699200, 28.157],\n",
       " [1720702800, 28.211],\n",
       " [1720706400, 28.173],\n",
       " [1720710000, 28.061],\n",
       " [1720713600, 28.109],\n",
       " [1720717200, 28.033],\n",
       " [1720720800, 27.992],\n",
       " [1720724400, 27.95],\n",
       " [1720728000, 27.871],\n",
       " [1720731600, 28.138],\n",
       " [1720735200, 28.16],\n",
       " [1720738800, 28.113],\n",
       " [1720742400, 28.292],\n",
       " [1720746000, 28.506],\n",
       " [1720749600, 28.526],\n",
       " [1720753200, 27.908],\n",
       " [1720756800, 27.553],\n",
       " [1720760400, 27.465],\n",
       " [1720764000, 27.4]]"
      ]
     },
     "execution_count": 64,
     "metadata": {},
     "output_type": "execute_result"
    }
   ],
   "source": [
    "# data[0]['values']\n",
    "\n",
    "# 将第二个元素的字符串转为浮点数，并保留小数点后3位\n",
    "data = [[timestamp, round(float(temp), 3)] for timestamp, temp in data[0]['values']]\n",
    "data"
   ]
  },
  {
   "cell_type": "code",
   "execution_count": 65,
   "id": "8fba663f-6c33-41dc-aa90-f4c489534702",
   "metadata": {},
   "outputs": [
    {
     "data": {
      "text/html": [
       "<div>\n",
       "<style scoped>\n",
       "    .dataframe tbody tr th:only-of-type {\n",
       "        vertical-align: middle;\n",
       "    }\n",
       "\n",
       "    .dataframe tbody tr th {\n",
       "        vertical-align: top;\n",
       "    }\n",
       "\n",
       "    .dataframe thead th {\n",
       "        text-align: right;\n",
       "    }\n",
       "</style>\n",
       "<table border=\"1\" class=\"dataframe\">\n",
       "  <thead>\n",
       "    <tr style=\"text-align: right;\">\n",
       "      <th></th>\n",
       "      <th>Timestamp</th>\n",
       "      <th>Temperature</th>\n",
       "    </tr>\n",
       "  </thead>\n",
       "  <tbody>\n",
       "    <tr>\n",
       "      <th>0</th>\n",
       "      <td>2024-07-11 15:00:00+08:00</td>\n",
       "      <td>28.229</td>\n",
       "    </tr>\n",
       "    <tr>\n",
       "      <th>1</th>\n",
       "      <td>2024-07-11 16:00:00+08:00</td>\n",
       "      <td>28.181</td>\n",
       "    </tr>\n",
       "    <tr>\n",
       "      <th>2</th>\n",
       "      <td>2024-07-11 17:00:00+08:00</td>\n",
       "      <td>28.178</td>\n",
       "    </tr>\n",
       "    <tr>\n",
       "      <th>3</th>\n",
       "      <td>2024-07-11 18:00:00+08:00</td>\n",
       "      <td>28.346</td>\n",
       "    </tr>\n",
       "    <tr>\n",
       "      <th>4</th>\n",
       "      <td>2024-07-11 19:00:00+08:00</td>\n",
       "      <td>28.276</td>\n",
       "    </tr>\n",
       "    <tr>\n",
       "      <th>5</th>\n",
       "      <td>2024-07-11 20:00:00+08:00</td>\n",
       "      <td>28.157</td>\n",
       "    </tr>\n",
       "    <tr>\n",
       "      <th>6</th>\n",
       "      <td>2024-07-11 21:00:00+08:00</td>\n",
       "      <td>28.211</td>\n",
       "    </tr>\n",
       "    <tr>\n",
       "      <th>7</th>\n",
       "      <td>2024-07-11 22:00:00+08:00</td>\n",
       "      <td>28.173</td>\n",
       "    </tr>\n",
       "    <tr>\n",
       "      <th>8</th>\n",
       "      <td>2024-07-11 23:00:00+08:00</td>\n",
       "      <td>28.061</td>\n",
       "    </tr>\n",
       "    <tr>\n",
       "      <th>9</th>\n",
       "      <td>2024-07-12 00:00:00+08:00</td>\n",
       "      <td>28.109</td>\n",
       "    </tr>\n",
       "    <tr>\n",
       "      <th>10</th>\n",
       "      <td>2024-07-12 01:00:00+08:00</td>\n",
       "      <td>28.033</td>\n",
       "    </tr>\n",
       "    <tr>\n",
       "      <th>11</th>\n",
       "      <td>2024-07-12 02:00:00+08:00</td>\n",
       "      <td>27.992</td>\n",
       "    </tr>\n",
       "    <tr>\n",
       "      <th>12</th>\n",
       "      <td>2024-07-12 03:00:00+08:00</td>\n",
       "      <td>27.950</td>\n",
       "    </tr>\n",
       "    <tr>\n",
       "      <th>13</th>\n",
       "      <td>2024-07-12 04:00:00+08:00</td>\n",
       "      <td>27.871</td>\n",
       "    </tr>\n",
       "    <tr>\n",
       "      <th>14</th>\n",
       "      <td>2024-07-12 05:00:00+08:00</td>\n",
       "      <td>28.138</td>\n",
       "    </tr>\n",
       "    <tr>\n",
       "      <th>15</th>\n",
       "      <td>2024-07-12 06:00:00+08:00</td>\n",
       "      <td>28.160</td>\n",
       "    </tr>\n",
       "    <tr>\n",
       "      <th>16</th>\n",
       "      <td>2024-07-12 07:00:00+08:00</td>\n",
       "      <td>28.113</td>\n",
       "    </tr>\n",
       "    <tr>\n",
       "      <th>17</th>\n",
       "      <td>2024-07-12 08:00:00+08:00</td>\n",
       "      <td>28.292</td>\n",
       "    </tr>\n",
       "    <tr>\n",
       "      <th>18</th>\n",
       "      <td>2024-07-12 09:00:00+08:00</td>\n",
       "      <td>28.506</td>\n",
       "    </tr>\n",
       "    <tr>\n",
       "      <th>19</th>\n",
       "      <td>2024-07-12 10:00:00+08:00</td>\n",
       "      <td>28.526</td>\n",
       "    </tr>\n",
       "    <tr>\n",
       "      <th>20</th>\n",
       "      <td>2024-07-12 11:00:00+08:00</td>\n",
       "      <td>27.908</td>\n",
       "    </tr>\n",
       "    <tr>\n",
       "      <th>21</th>\n",
       "      <td>2024-07-12 12:00:00+08:00</td>\n",
       "      <td>27.553</td>\n",
       "    </tr>\n",
       "    <tr>\n",
       "      <th>22</th>\n",
       "      <td>2024-07-12 13:00:00+08:00</td>\n",
       "      <td>27.465</td>\n",
       "    </tr>\n",
       "    <tr>\n",
       "      <th>23</th>\n",
       "      <td>2024-07-12 14:00:00+08:00</td>\n",
       "      <td>27.400</td>\n",
       "    </tr>\n",
       "  </tbody>\n",
       "</table>\n",
       "</div>"
      ],
      "text/plain": [
       "                   Timestamp  Temperature\n",
       "0  2024-07-11 15:00:00+08:00       28.229\n",
       "1  2024-07-11 16:00:00+08:00       28.181\n",
       "2  2024-07-11 17:00:00+08:00       28.178\n",
       "3  2024-07-11 18:00:00+08:00       28.346\n",
       "4  2024-07-11 19:00:00+08:00       28.276\n",
       "5  2024-07-11 20:00:00+08:00       28.157\n",
       "6  2024-07-11 21:00:00+08:00       28.211\n",
       "7  2024-07-11 22:00:00+08:00       28.173\n",
       "8  2024-07-11 23:00:00+08:00       28.061\n",
       "9  2024-07-12 00:00:00+08:00       28.109\n",
       "10 2024-07-12 01:00:00+08:00       28.033\n",
       "11 2024-07-12 02:00:00+08:00       27.992\n",
       "12 2024-07-12 03:00:00+08:00       27.950\n",
       "13 2024-07-12 04:00:00+08:00       27.871\n",
       "14 2024-07-12 05:00:00+08:00       28.138\n",
       "15 2024-07-12 06:00:00+08:00       28.160\n",
       "16 2024-07-12 07:00:00+08:00       28.113\n",
       "17 2024-07-12 08:00:00+08:00       28.292\n",
       "18 2024-07-12 09:00:00+08:00       28.506\n",
       "19 2024-07-12 10:00:00+08:00       28.526\n",
       "20 2024-07-12 11:00:00+08:00       27.908\n",
       "21 2024-07-12 12:00:00+08:00       27.553\n",
       "22 2024-07-12 13:00:00+08:00       27.465\n",
       "23 2024-07-12 14:00:00+08:00       27.400"
      ]
     },
     "execution_count": 65,
     "metadata": {},
     "output_type": "execute_result"
    }
   ],
   "source": [
    "import matplotlib.pyplot as plt\n",
    "import pandas as pd\n",
    "import pytz\n",
    "from datetime import datetime\n",
    "\n",
    "records=data\n",
    "\n",
    "df = pd.DataFrame(records, columns=['Timestamp', 'Temperature'])\n",
    "# 将 Timestamp 列转换为日期时间格式（可选）\n",
    "df['Timestamp'] = pd.to_datetime(df['Timestamp'], unit='s')\n",
    "\n",
    "# 将 Timestamp 列本地化为 UTC\n",
    "df['Timestamp'] = df['Timestamp'].dt.tz_localize('UTC')\n",
    "\n",
    "# 将时间转换为当前系统时区\n",
    "local_tz = datetime.now().astimezone().tzinfo\n",
    "df['Timestamp'] = df['Timestamp'].dt.tz_convert(local_tz)\n",
    "\n",
    "df"
   ]
  },
  {
   "cell_type": "code",
   "execution_count": 68,
   "id": "4076ff3f-292f-4183-ab7b-2fd0e56f6b42",
   "metadata": {},
   "outputs": [
    {
     "data": {
      "image/png": "[encoded data removed]",
      "text/plain": [
       "<Figure size 1000x500 with 1 Axes>"
      ]
     },
     "metadata": {},
     "output_type": "display_data"
    }
   ],
   "source": [
    "import matplotlib.pyplot as plt\n",
    "\n",
    "# 绘制折线图\n",
    "plt.figure(figsize=(10, 5))\n",
    "plt.plot(df['Timestamp'], df['Temperature'], marker='o')\n",
    "\n",
    "# 设置图表标题和标签\n",
    "plt.title('Temperature Over Time')\n",
    "plt.xlabel('Time')\n",
    "plt.ylabel('Temperature (°C)')\n",
    "\n",
    "# 显示网格\n",
    "plt.grid(True)\n",
    "\n",
    "# 显示图表\n",
    "plt.show()"
   ]
  },
  {
   "cell_type": "markdown",
   "id": "8531e9bf-cf88-4284-aa16-512f3d64b668",
   "metadata": {},
   "source": [
    "## 绘制折线图"
   ]
  },
  {
   "cell_type": "code",
   "execution_count": 15,
   "id": "da5baf11-387d-4e5b-9a72-f8e20e1a5880",
   "metadata": {},
   "outputs": [
    {
     "name": "stdout",
     "output_type": "stream",
     "text": [
      "CPU times: user 251 ms, sys: 15.7 ms, total: 266 ms\n",
      "Wall time: 266 ms\n"
     ]
    },
    {
     "data": {
      "image/png": "[encoded data removed]",
      "text/plain": [
       "<Figure size 640x480 with 1 Axes>"
      ]
     },
     "metadata": {},
     "output_type": "display_data"
    }
   ],
   "source": [
    "%%time\n",
    "\n",
    "my_metric_object.plot()"
   ]
  },
  {
   "cell_type": "markdown",
   "id": "6a89cc5a-eebb-4f1e-9c71-1bef1bf145da",
   "metadata": {},
   "source": [
    "## 结合 pandas 的使用"
   ]
  },
  {
   "cell_type": "code",
   "execution_count": 17,
   "id": "01965b57-ec24-41e5-b9af-7f2b4cc71926",
   "metadata": {},
   "outputs": [
    {
     "name": "stdout",
     "output_type": "stream",
     "text": [
      "CPU times: user 1.21 ms, sys: 0 ns, total: 1.21 ms\n",
      "Wall time: 1.19 ms\n"
     ]
    },
    {
     "data": {
      "text/html": [
       "<div>\n",
       "<style scoped>\n",
       "    .dataframe tbody tr th:only-of-type {\n",
       "        vertical-align: middle;\n",
       "    }\n",
       "\n",
       "    .dataframe tbody tr th {\n",
       "        vertical-align: top;\n",
       "    }\n",
       "\n",
       "    .dataframe thead th {\n",
       "        text-align: right;\n",
       "    }\n",
       "</style>\n",
       "<table border=\"1\" class=\"dataframe\">\n",
       "  <thead>\n",
       "    <tr style=\"text-align: right;\">\n",
       "      <th></th>\n",
       "      <th>__name__</th>\n",
       "      <th>instance</th>\n",
       "      <th>job</th>\n",
       "      <th>timestamp</th>\n",
       "      <th>value</th>\n",
       "    </tr>\n",
       "  </thead>\n",
       "  <tbody>\n",
       "    <tr>\n",
       "      <th>0</th>\n",
       "      <td>dhtexp_temperature</td>\n",
       "      <td>sensor-office:8663</td>\n",
       "      <td>sensors</td>\n",
       "      <td>2024-07-08 08:37:49.717000008</td>\n",
       "      <td>25.6</td>\n",
       "    </tr>\n",
       "    <tr>\n",
       "      <th>1</th>\n",
       "      <td>dhtexp_temperature</td>\n",
       "      <td>sensor-office:8663</td>\n",
       "      <td>sensors</td>\n",
       "      <td>2024-07-08 08:42:49.717000008</td>\n",
       "      <td>25.6</td>\n",
       "    </tr>\n",
       "  </tbody>\n",
       "</table>\n",
       "</div>"
      ],
      "text/plain": [
       "             __name__            instance      job  \\\n",
       "0  dhtexp_temperature  sensor-office:8663  sensors   \n",
       "1  dhtexp_temperature  sensor-office:8663  sensors   \n",
       "\n",
       "                      timestamp  value  \n",
       "0 2024-07-08 08:37:49.717000008   25.6  \n",
       "1 2024-07-08 08:42:49.717000008   25.6  "
      ]
     },
     "execution_count": 17,
     "metadata": {},
     "output_type": "execute_result"
    }
   ],
   "source": [
    "%%time\n",
    "\n",
    "from prometheus_api_client import MetricSnapshotDataFrame, MetricRangeDataFrame\n",
    "\n",
    "metric_df = MetricSnapshotDataFrame(metric_data)\n",
    "metric_df.head()"
   ]
  }
 ],
 "metadata": {
  "kernelspec": {
   "display_name": "Python 3 (ipykernel)",
   "language": "python",
   "name": "python3"
  },
  "language_info": {
   "codemirror_mode": {
    "name": "ipython",
    "version": 3
   },
   "file_extension": ".py",
   "mimetype": "text/x-python",
   "name": "python",
   "nbconvert_exporter": "python",
   "pygments_lexer": "ipython3",
   "version": "3.10.12"
  }
 },
 "nbformat": 4,
 "nbformat_minor": 5
}
