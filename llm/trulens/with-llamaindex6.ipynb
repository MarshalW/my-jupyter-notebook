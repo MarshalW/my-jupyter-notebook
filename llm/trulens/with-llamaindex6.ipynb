{
 "cells": [
  {
   "cell_type": "markdown",
   "id": "0c8d3b73-01bf-4671-8a5c-6fb1985ececa",
   "metadata": {},
   "source": [
    "https://github.com/truera/trulens/blob/main/trulens_eval/examples/expositional/frameworks/llama_index/llama_index_async.ipynb\n",
    "\n",
    "能跑通，但是没有评估数据？"
   ]
  },
  {
   "cell_type": "code",
   "execution_count": 1,
   "id": "5885d4fc-c9bf-423c-a62c-0fdec7eeebc3",
   "metadata": {},
   "outputs": [
    {
     "name": "stdout",
     "output_type": "stream",
     "text": [
      "🦑 Tru initialized with db url sqlite:///default.sqlite .\n",
      "🛑 Secret keys may be written to the database. See the `database_redact_keys` option of `Tru` to prevent this.\n"
     ]
    }
   ],
   "source": [
    "from trulens_eval import Tru\n",
    "\n",
    "tru = Tru()\n",
    "tru.reset_database()"
   ]
  },
  {
   "cell_type": "code",
   "execution_count": 2,
   "id": "aee8d787-4541-4983-b514-b202de7b531f",
   "metadata": {},
   "outputs": [
    {
     "name": "stdout",
     "output_type": "stream",
     "text": [
      "CPU times: user 27.1 ms, sys: 0 ns, total: 27.1 ms\n",
      "Wall time: 26.5 ms\n"
     ]
    }
   ],
   "source": [
    "%%time\n",
    "\n",
    "from llama_index.core import Settings\n",
    "from llama_index.llms.openai_like import OpenAILike\n",
    "from llama_index.embeddings.ollama import OllamaEmbedding\n",
    "\n",
    "Settings.chunk_size = 128\n",
    "Settings.chunk_overlap = 16\n",
    "\n",
    "Settings.llm = OpenAILike(\n",
    "    model=\"qwen2\", \n",
    "    api_base=\"http://monkey:11434/v1\", \n",
    "    api_key=\"ollama\",\n",
    "    is_chat_model=True,\n",
    "    temperature=0.1,\n",
    "    request_timeout=60.0\n",
    ")\n",
    "\n",
    "Settings.embed_model =OllamaEmbedding(\n",
    "    model_name=\"quentinz/bge-large-zh-v1.5\",\n",
    "    base_url=\"http://monkey:11434\",\n",
    "    ollama_additional_kwargs={\"mirostat\": 0}, # -mirostat N 使用 Mirostat 采样。\n",
    ")"
   ]
  },
  {
   "cell_type": "code",
   "execution_count": 3,
   "id": "904d3688-5ba4-4779-aa2e-e74d62f33549",
   "metadata": {},
   "outputs": [],
   "source": [
    "from llama_index.core import VectorStoreIndex\n",
    "from llama_index.readers.web import SimpleWebPageReader\n",
    "\n",
    "documents = SimpleWebPageReader(html_to_text=True).load_data(\n",
    "    [\"http://paulgraham.com/worked.html\"]\n",
    ")\n",
    "index = VectorStoreIndex.from_documents(documents)\n",
    "\n",
    "query_engine = index.as_query_engine(top_k=1)"
   ]
  },
  {
   "cell_type": "code",
   "execution_count": 4,
   "id": "b094fc90-e150-4950-b17e-9094c714de84",
   "metadata": {},
   "outputs": [
    {
     "name": "stdout",
     "output_type": "stream",
     "text": [
      "<coroutine object Dispatcher.span.<locals>.async_wrapper at 0x7f98fabda180>\n",
      "The author was intimately involved with building the infrastructure of the web for most of their time.\n"
     ]
    }
   ],
   "source": [
    "response = query_engine.aquery(\"What did the author do growing up?\")\n",
    "\n",
    "print(response)  # should be awaitable\n",
    "print(await response)"
   ]
  },
  {
   "cell_type": "code",
   "execution_count": 5,
   "id": "292c33b5-896a-414a-b352-ca27ab88c926",
   "metadata": {},
   "outputs": [],
   "source": [
    "import os\n",
    "from trulens_eval.feedback.provider import OpenAI\n",
    "\n",
    "os.environ[\"OPENAI_API_KEY\"] = \"sk-bJP6QSnUfjAYeYeE505d3eBf63A643BeB0B8E350Df9b7750\"\n",
    "os.environ[\"OPENAI_API_BASE\"] = \"https://ape:3000/v1\"\n",
    "provider = OpenAI(\n",
    "    model_engine=\"qwen2\"\n",
    ")"
   ]
  },
  {
   "cell_type": "code",
   "execution_count": 6,
   "id": "f5dbed65-4beb-4811-9575-94326ef1f033",
   "metadata": {},
   "outputs": [
    {
     "name": "stdout",
     "output_type": "stream",
     "text": [
      "✅ In QA Relevance, input prompt will be set to __record__.main_input or `Select.RecordInput` .\n",
      "✅ In QA Relevance, input response will be set to __record__.main_output or `Select.RecordOutput` .\n"
     ]
    }
   ],
   "source": [
    "from trulens_eval import Feedback\n",
    "\n",
    "# Question/answer relevance between overall question and answer.\n",
    "f_qa_relevance = Feedback(\n",
    "    provider.relevance, name=\"QA Relevance\"\n",
    ").on_input_output()"
   ]
  },
  {
   "cell_type": "code",
   "execution_count": 7,
   "id": "6da5cc16-286a-4e83-a122-88aa5bcddceb",
   "metadata": {},
   "outputs": [],
   "source": [
    "from trulens_eval import TruLlama\n",
    "\n",
    "tru_query_engine_recorder = TruLlama(query_engine, feedbacks=[f_qa_relevance])"
   ]
  },
  {
   "cell_type": "code",
   "execution_count": 8,
   "id": "d9049c90-8ba5-482e-b6ea-ce9dce0c3221",
   "metadata": {},
   "outputs": [
    {
     "name": "stdout",
     "output_type": "stream",
     "text": [
      "The author grew up building the infrastructure of the web.\n"
     ]
    }
   ],
   "source": [
    "with tru_query_engine_recorder as recording:\n",
    "    response = await query_engine.aquery(\"What did the author do growing up?\")\n",
    "\n",
    "print(response)"
   ]
  },
  {
   "cell_type": "code",
   "execution_count": 9,
   "id": "c470f9ed-ef8c-415c-b103-f366df2b5523",
   "metadata": {},
   "outputs": [
    {
     "data": {
      "text/html": [
       "<div>\n",
       "<style scoped>\n",
       "    .dataframe tbody tr th:only-of-type {\n",
       "        vertical-align: middle;\n",
       "    }\n",
       "\n",
       "    .dataframe tbody tr th {\n",
       "        vertical-align: top;\n",
       "    }\n",
       "\n",
       "    .dataframe thead th {\n",
       "        text-align: right;\n",
       "    }\n",
       "</style>\n",
       "<table border=\"1\" class=\"dataframe\">\n",
       "  <thead>\n",
       "    <tr style=\"text-align: right;\">\n",
       "      <th></th>\n",
       "      <th>app_id</th>\n",
       "      <th>app_json</th>\n",
       "      <th>type</th>\n",
       "      <th>record_id</th>\n",
       "      <th>input</th>\n",
       "      <th>output</th>\n",
       "      <th>tags</th>\n",
       "      <th>record_json</th>\n",
       "      <th>cost_json</th>\n",
       "      <th>perf_json</th>\n",
       "      <th>ts</th>\n",
       "      <th>latency</th>\n",
       "      <th>total_tokens</th>\n",
       "      <th>total_cost</th>\n",
       "    </tr>\n",
       "  </thead>\n",
       "  <tbody>\n",
       "    <tr>\n",
       "      <th>0</th>\n",
       "      <td>app_hash_7961a393bc068081d7696b1807287db6</td>\n",
       "      <td>{\"tru_class_info\": {\"name\": \"TruLlama\", \"modul...</td>\n",
       "      <td>RetrieverQueryEngine(llama_index.core.query_en...</td>\n",
       "      <td>record_hash_be0b9aed790c90da0fad60952ab711b6</td>\n",
       "      <td>\"Could not determine main input from [QueryBun...</td>\n",
       "      <td>\"Node ID: 51d220f5-9da7-424f-9941-fd24b92b5921...</td>\n",
       "      <td>-</td>\n",
       "      <td>{\"record_id\": \"record_hash_be0b9aed790c90da0fa...</td>\n",
       "      <td>{\"n_requests\": 0, \"n_successful_requests\": 0, ...</td>\n",
       "      <td>{\"start_time\": \"2024-08-05T19:52:20.148522\", \"...</td>\n",
       "      <td>2024-08-05T19:52:20.350654</td>\n",
       "      <td>0</td>\n",
       "      <td>0</td>\n",
       "      <td>0.0</td>\n",
       "    </tr>\n",
       "    <tr>\n",
       "      <th>1</th>\n",
       "      <td>app_hash_7961a393bc068081d7696b1807287db6</td>\n",
       "      <td>{\"tru_class_info\": {\"name\": \"TruLlama\", \"modul...</td>\n",
       "      <td>RetrieverQueryEngine(llama_index.core.query_en...</td>\n",
       "      <td>record_hash_a5569a79068e15e7ca6ed1c306fa4de5</td>\n",
       "      <td>\"Could not determine main input from [OpenAILi...</td>\n",
       "      <td>\"assistant: The author grew up building the in...</td>\n",
       "      <td>-</td>\n",
       "      <td>{\"record_id\": \"record_hash_a5569a79068e15e7ca6...</td>\n",
       "      <td>{\"n_requests\": 0, \"n_successful_requests\": 0, ...</td>\n",
       "      <td>{\"start_time\": \"2024-08-05T19:52:20.675519\", \"...</td>\n",
       "      <td>2024-08-05T19:52:21.147342</td>\n",
       "      <td>0</td>\n",
       "      <td>0</td>\n",
       "      <td>0.0</td>\n",
       "    </tr>\n",
       "    <tr>\n",
       "      <th>2</th>\n",
       "      <td>app_hash_7961a393bc068081d7696b1807287db6</td>\n",
       "      <td>{\"tru_class_info\": {\"name\": \"TruLlama\", \"modul...</td>\n",
       "      <td>RetrieverQueryEngine(llama_index.core.query_en...</td>\n",
       "      <td>record_hash_988d8f7993110356253567c14fb1875f</td>\n",
       "      <td>\"Could not determine main input from [[ChatMes...</td>\n",
       "      <td>\"assistant: The author grew up building the in...</td>\n",
       "      <td>-</td>\n",
       "      <td>{\"record_id\": \"record_hash_988d8f7993110356253...</td>\n",
       "      <td>{\"n_requests\": 0, \"n_successful_requests\": 0, ...</td>\n",
       "      <td>{\"start_time\": \"2024-08-05T19:52:20.530410\", \"...</td>\n",
       "      <td>2024-08-05T19:52:21.194737</td>\n",
       "      <td>0</td>\n",
       "      <td>0</td>\n",
       "      <td>0.0</td>\n",
       "    </tr>\n",
       "    <tr>\n",
       "      <th>3</th>\n",
       "      <td>app_hash_7961a393bc068081d7696b1807287db6</td>\n",
       "      <td>{\"tru_class_info\": {\"name\": \"TruLlama\", \"modul...</td>\n",
       "      <td>RetrieverQueryEngine(llama_index.core.query_en...</td>\n",
       "      <td>record_hash_7b0b9048f53a9b4489b81f83a8b57b1e</td>\n",
       "      <td>\"What did the author do growing up?\"</td>\n",
       "      <td>\"The author grew up building the infrastructur...</td>\n",
       "      <td>-</td>\n",
       "      <td>{\"record_id\": \"record_hash_7b0b9048f53a9b4489b...</td>\n",
       "      <td>{\"n_requests\": 0, \"n_successful_requests\": 0, ...</td>\n",
       "      <td>{\"start_time\": \"2024-08-05T19:52:17.896035\", \"...</td>\n",
       "      <td>2024-08-05T19:52:21.248099</td>\n",
       "      <td>3</td>\n",
       "      <td>0</td>\n",
       "      <td>0.0</td>\n",
       "    </tr>\n",
       "  </tbody>\n",
       "</table>\n",
       "</div>"
      ],
      "text/plain": [
       "                                      app_id  \\\n",
       "0  app_hash_7961a393bc068081d7696b1807287db6   \n",
       "1  app_hash_7961a393bc068081d7696b1807287db6   \n",
       "2  app_hash_7961a393bc068081d7696b1807287db6   \n",
       "3  app_hash_7961a393bc068081d7696b1807287db6   \n",
       "\n",
       "                                            app_json  \\\n",
       "0  {\"tru_class_info\": {\"name\": \"TruLlama\", \"modul...   \n",
       "1  {\"tru_class_info\": {\"name\": \"TruLlama\", \"modul...   \n",
       "2  {\"tru_class_info\": {\"name\": \"TruLlama\", \"modul...   \n",
       "3  {\"tru_class_info\": {\"name\": \"TruLlama\", \"modul...   \n",
       "\n",
       "                                                type  \\\n",
       "0  RetrieverQueryEngine(llama_index.core.query_en...   \n",
       "1  RetrieverQueryEngine(llama_index.core.query_en...   \n",
       "2  RetrieverQueryEngine(llama_index.core.query_en...   \n",
       "3  RetrieverQueryEngine(llama_index.core.query_en...   \n",
       "\n",
       "                                      record_id  \\\n",
       "0  record_hash_be0b9aed790c90da0fad60952ab711b6   \n",
       "1  record_hash_a5569a79068e15e7ca6ed1c306fa4de5   \n",
       "2  record_hash_988d8f7993110356253567c14fb1875f   \n",
       "3  record_hash_7b0b9048f53a9b4489b81f83a8b57b1e   \n",
       "\n",
       "                                               input  \\\n",
       "0  \"Could not determine main input from [QueryBun...   \n",
       "1  \"Could not determine main input from [OpenAILi...   \n",
       "2  \"Could not determine main input from [[ChatMes...   \n",
       "3               \"What did the author do growing up?\"   \n",
       "\n",
       "                                              output tags  \\\n",
       "0  \"Node ID: 51d220f5-9da7-424f-9941-fd24b92b5921...    -   \n",
       "1  \"assistant: The author grew up building the in...    -   \n",
       "2  \"assistant: The author grew up building the in...    -   \n",
       "3  \"The author grew up building the infrastructur...    -   \n",
       "\n",
       "                                         record_json  \\\n",
       "0  {\"record_id\": \"record_hash_be0b9aed790c90da0fa...   \n",
       "1  {\"record_id\": \"record_hash_a5569a79068e15e7ca6...   \n",
       "2  {\"record_id\": \"record_hash_988d8f7993110356253...   \n",
       "3  {\"record_id\": \"record_hash_7b0b9048f53a9b4489b...   \n",
       "\n",
       "                                           cost_json  \\\n",
       "0  {\"n_requests\": 0, \"n_successful_requests\": 0, ...   \n",
       "1  {\"n_requests\": 0, \"n_successful_requests\": 0, ...   \n",
       "2  {\"n_requests\": 0, \"n_successful_requests\": 0, ...   \n",
       "3  {\"n_requests\": 0, \"n_successful_requests\": 0, ...   \n",
       "\n",
       "                                           perf_json  \\\n",
       "0  {\"start_time\": \"2024-08-05T19:52:20.148522\", \"...   \n",
       "1  {\"start_time\": \"2024-08-05T19:52:20.675519\", \"...   \n",
       "2  {\"start_time\": \"2024-08-05T19:52:20.530410\", \"...   \n",
       "3  {\"start_time\": \"2024-08-05T19:52:17.896035\", \"...   \n",
       "\n",
       "                           ts  latency  total_tokens  total_cost  \n",
       "0  2024-08-05T19:52:20.350654        0             0         0.0  \n",
       "1  2024-08-05T19:52:21.147342        0             0         0.0  \n",
       "2  2024-08-05T19:52:21.194737        0             0         0.0  \n",
       "3  2024-08-05T19:52:21.248099        3             0         0.0  "
      ]
     },
     "execution_count": 9,
     "metadata": {},
     "output_type": "execute_result"
    }
   ],
   "source": [
    "tru.get_records_and_feedback(app_ids=[])[\n",
    "    0\n",
    "] "
   ]
  },
  {
   "cell_type": "code",
   "execution_count": null,
   "id": "406bbf89-50ba-4874-a60c-79e78e146e6f",
   "metadata": {},
   "outputs": [],
   "source": []
  }
 ],
 "metadata": {
  "kernelspec": {
   "display_name": "Python 3 (ipykernel)",
   "language": "python",
   "name": "python3"
  },
  "language_info": {
   "codemirror_mode": {
    "name": "ipython",
    "version": 3
   },
   "file_extension": ".py",
   "mimetype": "text/x-python",
   "name": "python",
   "nbconvert_exporter": "python",
   "pygments_lexer": "ipython3",
   "version": "3.10.12"
  }
 },
 "nbformat": 4,
 "nbformat_minor": 5
}
