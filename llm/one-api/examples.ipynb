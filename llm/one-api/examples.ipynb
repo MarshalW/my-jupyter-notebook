{
 "cells": [
  {
   "cell_type": "markdown",
   "id": "8661d7f2-ea80-4837-9e1b-aa3b7afe1498",
   "metadata": {},
   "source": [
    "# one-api 使用示例"
   ]
  },
  {
   "cell_type": "markdown",
   "id": "17f5f479-ee9f-46cc-a51c-6d6989c1ab77",
   "metadata": {
    "jp-MarkdownHeadingCollapsed": true
   },
   "source": [
    "## 依赖包"
   ]
  },
  {
   "cell_type": "code",
   "execution_count": 1,
   "id": "f38c247b-8a0d-424c-b268-e7f25afb90e1",
   "metadata": {},
   "outputs": [
    {
     "name": "stdout",
     "output_type": "stream",
     "text": [
      "Looking in indexes: https://pypi.tuna.tsinghua.edu.cn/simple\n",
      "Requirement already satisfied: openai in /usr/local/lib/python3.10/dist-packages (1.17.0)\n",
      "Requirement already satisfied: pydantic<3,>=1.9.0 in /usr/local/lib/python3.10/dist-packages (from openai) (2.6.4)\n",
      "Requirement already satisfied: sniffio in /usr/local/lib/python3.10/dist-packages (from openai) (1.3.0)\n",
      "Requirement already satisfied: anyio<5,>=3.5.0 in /usr/local/lib/python3.10/dist-packages (from openai) (4.2.0)\n",
      "Requirement already satisfied: distro<2,>=1.7.0 in /usr/local/lib/python3.10/dist-packages (from openai) (1.9.0)\n",
      "Requirement already satisfied: typing-extensions<5,>=4.7 in /usr/local/lib/python3.10/dist-packages (from openai) (4.9.0)\n",
      "Requirement already satisfied: httpx<1,>=0.23.0 in /usr/local/lib/python3.10/dist-packages (from openai) (0.26.0)\n",
      "Requirement already satisfied: tqdm>4 in /usr/local/lib/python3.10/dist-packages (from openai) (4.66.2)\n",
      "Requirement already satisfied: exceptiongroup>=1.0.2 in /usr/local/lib/python3.10/dist-packages (from anyio<5,>=3.5.0->openai) (1.2.0)\n",
      "Requirement already satisfied: idna>=2.8 in /usr/local/lib/python3.10/dist-packages (from anyio<5,>=3.5.0->openai) (3.6)\n",
      "Requirement already satisfied: httpcore==1.* in /usr/local/lib/python3.10/dist-packages (from httpx<1,>=0.23.0->openai) (1.0.3)\n",
      "Requirement already satisfied: certifi in /usr/local/lib/python3.10/dist-packages (from httpx<1,>=0.23.0->openai) (2024.2.2)\n",
      "Requirement already satisfied: h11<0.15,>=0.13 in /usr/local/lib/python3.10/dist-packages (from httpcore==1.*->httpx<1,>=0.23.0->openai) (0.14.0)\n",
      "Requirement already satisfied: annotated-types>=0.4.0 in /usr/local/lib/python3.10/dist-packages (from pydantic<3,>=1.9.0->openai) (0.6.0)\n",
      "Requirement already satisfied: pydantic-core==2.16.3 in /usr/local/lib/python3.10/dist-packages (from pydantic<3,>=1.9.0->openai) (2.16.3)\n",
      "\u001b[33mWARNING: Running pip as the 'root' user can result in broken permissions and conflicting behaviour with the system package manager. It is recommended to use a virtual environment instead: https://pip.pypa.io/warnings/venv\u001b[0m\u001b[33m\n",
      "\u001b[0m"
     ]
    }
   ],
   "source": [
    "!pip install openai"
   ]
  },
  {
   "cell_type": "markdown",
   "id": "b7cb5455-44c3-44ff-be29-cbc621a0009c",
   "metadata": {},
   "source": [
    "## curl的使用示例"
   ]
  },
  {
   "cell_type": "markdown",
   "id": "0bdf6b49-e859-49f7-bedc-2c2719548cff",
   "metadata": {},
   "source": [
    "### ollama QWen 本地模型"
   ]
  },
  {
   "cell_type": "code",
   "execution_count": 1,
   "id": "cdd4a03f-f841-4eb6-96f3-01bbbf738940",
   "metadata": {},
   "outputs": [
    {
     "name": "stdout",
     "output_type": "stream",
     "text": [
      "{\n",
      "  \"id\": \"chatcmpl-9LpOZ4eu4JHequ29ruuRfTYnC8pZx\",\n",
      "  \"object\": \"chat.completion\",\n",
      "  \"created\": 1714989479,\n",
      "  \"model\": \"gpt-3.5-turbo-0125\",\n",
      "  \"choices\": [\n",
      "    {\n",
      "      \"index\": 0,\n",
      "      \"message\": {\n",
      "        \"role\": \"assistant\",\n",
      "        \"content\": \"我是一个聊天机器人，可以和你聊天、回答问题、提供帮助。有什么需要我帮忙的吗？\"\n",
      "      },\n",
      "      \"logprobs\": null,\n",
      "      \"finish_reason\": \"stop\"\n",
      "    }\n",
      "  ],\n",
      "  \"usage\": {\n",
      "    \"prompt_tokens\": 12,\n",
      "    \"completion_tokens\": 43,\n",
      "    \"total_tokens\": 55\n",
      "  },\n",
      "  \"system_fingerprint\": \"fp_3b956da36b\"\n",
      "}\n"
     ]
    }
   ],
   "source": [
    "%%bash\n",
    "\n",
    "TOKEN=sk-bJP6QSnUfjAYeYeE505d3eBf63A643BeB0B8E350Df9b7750\n",
    "HOST_URL=http://192.168.0.72:3000 \n",
    "\n",
    "curl -s \"$HOST_URL\"/v1/chat/completions \\\n",
    "  -H \"Content-Type: application/json\" \\\n",
    "  -H \"Authorization: Bearer $TOKEN\" \\\n",
    "  -d '{\n",
    "     \"model\": \"gpt-3.5-turbo\",\n",
    "     \"messages\": [{\"role\": \"user\", \"content\": \"你谁啊\"}],\n",
    "     \"temperature\": 0.7\n",
    "   }' | jq ."
   ]
  },
  {
   "cell_type": "markdown",
   "id": "f1d0bedc-d684-43a6-b8d2-f3530b30e582",
   "metadata": {},
   "source": [
    "### 百度文心一言"
   ]
  },
  {
   "cell_type": "code",
   "execution_count": 34,
   "id": "5dc22048-d5a6-4340-a0cb-e8f69f738576",
   "metadata": {},
   "outputs": [
    {
     "name": "stdout",
     "output_type": "stream",
     "text": [
      "{\n",
      "  \"id\": \"as-ma0gvm62gb\",\n",
      "  \"model\": \"ernie-bot\",\n",
      "  \"object\": \"chat.completion\",\n",
      "  \"created\": 1713084121,\n",
      "  \"choices\": [\n",
      "    {\n",
      "      \"index\": 0,\n",
      "      \"message\": {\n",
      "        \"role\": \"assistant\",\n",
      "        \"content\": \"您好，我是百度研发的知识增强大语言模型，中文名是文心一言，英文名是ERNIE Bot。我能够与人对话互动，回答问题，协助创作，高效便捷地帮助人们获取信息、知识和灵感。\\n\\n如果您有任何问题，请随时告诉我。\"\n",
      "      },\n",
      "      \"finish_reason\": \"stop\"\n",
      "    }\n",
      "  ],\n",
      "  \"usage\": {\n",
      "    \"prompt_tokens\": 3,\n",
      "    \"completion_tokens\": 59,\n",
      "    \"total_tokens\": 62\n",
      "  }\n",
      "}\n"
     ]
    }
   ],
   "source": [
    "%%bash\n",
    "\n",
    "TOKEN=sk-IoaUl0MGSUpqqMbiB9Ce6f59C3114b8cA314A39cEcCb2179\n",
    "HOST_URL=http://192.168.0.72:3000\n",
    "\n",
    "curl -s \"$HOST_URL\"/v1/chat/completions \\\n",
    "  -H \"Content-Type: application/json\" \\\n",
    "  -H \"Authorization: Bearer $TOKEN\" \\\n",
    "  -d '{\n",
    "     \"model\": \"ERNIE-Lite-8K-0922\",\n",
    "     \"messages\": [{\"role\": \"user\", \"content\": \"你谁啊\"}],\n",
    "     \"temperature\": 0.7\n",
    "   }' | jq ."
   ]
  },
  {
   "cell_type": "markdown",
   "id": "00be3cdf-c6d4-4b15-8233-5793fe7e3289",
   "metadata": {},
   "source": [
    "## python代码"
   ]
  },
  {
   "cell_type": "markdown",
   "id": "1ad7e45c-7f6a-46c7-801f-20d4f9c020aa",
   "metadata": {},
   "source": [
    "使用openai api"
   ]
  },
  {
   "cell_type": "code",
   "execution_count": 2,
   "id": "92ae74b5-53e1-428e-aaa8-3f9ba532df1c",
   "metadata": {
    "editable": true,
    "slideshow": {
     "slide_type": ""
    },
    "tags": []
   },
   "outputs": [],
   "source": [
    "from openai import OpenAI\n",
    "\n",
    "base_url = \"http://192.168.0.72:3000/v1\"\n",
    "api_key = \"sk-bJP6QSnUfjAYeYeE505d3eBf63A643BeB0B8E350Df9b7750\"\n",
    "\n",
    "client = OpenAI(api_key=api_key, base_url=base_url)\n",
    "\n",
    "def process_stream(stream):\n",
    "    for chunk in stream:\n",
    "        if chunk.choices[0].delta.content is not None:\n",
    "            print(chunk.choices[0].delta.content, end=\"\")"
   ]
  },
  {
   "cell_type": "markdown",
   "id": "ee6a51d1-f72a-48b8-8b4b-3bbc65708af9",
   "metadata": {},
   "source": [
    "### ollama QWen 本地模型"
   ]
  },
  {
   "cell_type": "markdown",
   "id": "c2c3fae5-0fce-44ab-8d9d-5cb511eeb98b",
   "metadata": {},
   "source": [
    "使用 ollama QWen1.5-14b 自定义系统提示词模型"
   ]
  },
  {
   "cell_type": "code",
   "execution_count": 3,
   "id": "272f1b52-368e-499b-8e27-50112e8445de",
   "metadata": {},
   "outputs": [
    {
     "name": "stdout",
     "output_type": "stream",
     "text": [
      "我是小羽，由羽胜科技开发的AI助手。我在这里是为了提供帮助和解答你的问题，请随时告诉我你需要什么。\n",
      "\n",
      "--------------\n",
      "\n",
      "贝叶斯主义是一种统计学方法，以托马斯·贝叶斯（Thomas Bayes）的工作为基础，尤其是他著名的贝叶斯定理。它强调通过概率来更新对未知事件的信念，基于我们观察到的数据和先验知识。在贝叶斯分析中，概率被用来量化不确定性，并用来进行推断。\n",
      "\n",
      "纯粹贝叶斯主义（或理想贝叶斯主义）是一种严格遵循贝叶斯理论的哲学立场，它认为所有知识都是以概率形式存在的，所有的假设、信念和结论都基于对先验概率的更新。在这个框架下，统计分析被视为理性决策的一部分，强调模型选择和参数估计的整个过程。\n",
      "\n",
      "实用贝叶斯主义则是一个更为灵活的概念，它可能不那么严格地遵循贝叶斯定理的每一个细节，特别是当处理复杂问题或者计算资源有限时。实用主义者可能会根据实际需要做出一些简化或假设，以简化模型或进行近似。这在现实应用中非常常见，因为完全的贝叶斯分析有时过于繁重或不切实际。\n",
      "\n",
      "总的来说，纯粹贝叶斯主义倾向于理论和理想化的视角，而实用贝叶斯主义更注重实际问题解决中的效率和实用性。"
     ]
    }
   ],
   "source": [
    "stream = client.chat.completions.create(\n",
    "    model=\"xiaoyu\",\n",
    "    messages=[{\"role\": \"user\", \"content\": \"你谁啊？\"}],\n",
    "    stream=True,\n",
    ")\n",
    "\n",
    "process_stream(stream)\n",
    "\n",
    "print('\\n\\n--------------\\n')\n",
    "\n",
    "stream = client.chat.completions.create(\n",
    "    model=\"xiaoyu\",\n",
    "    messages=[{\"role\": \"user\", \"content\": \"什么是贝叶斯主义？纯粹贝叶斯主义和实用贝叶斯主义有啥差别？\"}],\n",
    "    stream=True,\n",
    ")\n",
    "\n",
    "process_stream(stream)\n",
    "\n",
    "# for chunk in stream:\n",
    "#     if chunk.choices[0].delta.content is not None:\n",
    "#         print(chunk.choices[0].delta.content, end=\"\")"
   ]
  },
  {
   "cell_type": "markdown",
   "id": "5efa247c-ac43-42d5-9549-b477561f4e0c",
   "metadata": {},
   "source": [
    "### 百度文心一言"
   ]
  },
  {
   "cell_type": "code",
   "execution_count": 36,
   "id": "ce994ee9-f62f-475c-980e-bcc33dd614af",
   "metadata": {},
   "outputs": [
    {
     "name": "stdout",
     "output_type": "stream",
     "text": [
      "您好，我是百度研发的知识增强大语言模型，中文名是文心一言，英文名是ERNIE Bot。我能够与人对话互动，回答问题，协助创作，高效便捷地帮助人们获取信息、知识和灵感。\n",
      "\n",
      "--------------\n",
      "\n",
      "频率主义（Frequencyism）是一种统计语言学的观点，它强调在语言中，一个词的意义或语法特征与其在文本中出现的频率相关。根据这种理论，我们可以通过计算一个词在大量语料库中的出现次数来推断其使用情况和可能的含义。例如，更常见的单词往往被认为是基本词汇，而较少出现的词可能有更特定或专业化的用法。\n",
      "\n",
      "在语言学研究中，频率主义方法常用于构建词典、分析语言变化趋势，以及评估语言模型的性能。然而，它也受到批评，因为它忽视了语境和认知因素对语言理解的重要性，即一个词的意义并不完全取决于其出现的次数。现代语言学认为，意义是通过上下文和交际来赋予的，而不仅仅是统计频率的结果。"
     ]
    }
   ],
   "source": [
    "stream = client.chat.completions.create(\n",
    "    model=\"ERNIE-Lite-8K-0922\",\n",
    "    messages=[{\"role\": \"user\", \"content\": \"你谁啊？\"}],\n",
    "    stream=True,\n",
    ")\n",
    "\n",
    "process_stream(stream)\n",
    "\n",
    "print('\\n\\n--------------\\n')\n",
    "\n",
    "stream = client.chat.completions.create(\n",
    "    model=\"xiaoyu\",\n",
    "    messages=[{\"role\": \"user\", \"content\": \"简要介绍下频率主义\"}],\n",
    "    stream=True,\n",
    ")\n",
    "\n",
    "process_stream(stream)"
   ]
  },
  {
   "cell_type": "code",
   "execution_count": null,
   "id": "ae8ccb50-bd0b-46fc-9c8a-d591a81817fd",
   "metadata": {},
   "outputs": [],
   "source": []
  }
 ],
 "metadata": {
  "kernelspec": {
   "display_name": "Python 3 (ipykernel)",
   "language": "python",
   "name": "python3"
  },
  "language_info": {
   "codemirror_mode": {
    "name": "ipython",
    "version": 3
   },
   "file_extension": ".py",
   "mimetype": "text/x-python",
   "name": "python",
   "nbconvert_exporter": "python",
   "pygments_lexer": "ipython3",
   "version": "3.10.12"
  }
 },
 "nbformat": 4,
 "nbformat_minor": 5
}
