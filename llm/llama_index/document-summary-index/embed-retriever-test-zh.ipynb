{
 "cells": [
  {
   "cell_type": "markdown",
   "id": "c9b7a738-3e95-4289-ae63-2ebab2c9b072",
   "metadata": {},
   "source": [
    "# 测试通过嵌入检索的成功率 - 生成中文摘要的情况"
   ]
  },
  {
   "cell_type": "markdown",
   "id": "e49970fa-3be9-409f-b2b6-71de1fb6fced",
   "metadata": {},
   "source": [
    "初步结论：\n",
    "\n",
    "- k=1的时候，召回率达到72%\n",
    "- 到5个的时候，召回率72%，没有变化\n",
    "- 即使k=n-1, 召回率都不是100%，说明相似度方式在中文下相似度设置高了也不一定有用\n",
    "- 中文的文档摘要，和英文版本比较，缺少了问题部分\n",
    "\n",
    "后续改进，必须换其他检索方式，比如融合检索，k=1&&关键字&&bm25"
   ]
  },
  {
   "cell_type": "markdown",
   "id": "e49c34ee-78ed-486f-8ca4-698925e271ed",
   "metadata": {},
   "source": [
    "## 准备"
   ]
  },
  {
   "cell_type": "code",
   "execution_count": 1,
   "id": "9318312b-0eec-4c4b-ab71-ef8b33a85280",
   "metadata": {},
   "outputs": [
    {
     "name": "stdout",
     "output_type": "stream",
     "text": [
      "CPU times: user 1 µs, sys: 0 ns, total: 1 µs\n",
      "Wall time: 3.1 µs\n"
     ]
    }
   ],
   "source": [
    "%%time\n",
    "\n",
    "INDEX_PATH=\"retrieve-zh-index\"\n",
    "DATA_PATH=\"retrieve-zh-data\""
   ]
  },
  {
   "cell_type": "code",
   "execution_count": 2,
   "id": "a7271398-7536-4a8f-ae08-91e664164dad",
   "metadata": {},
   "outputs": [
    {
     "name": "stdout",
     "output_type": "stream",
     "text": [
      "CPU times: user 4 µs, sys: 0 ns, total: 4 µs\n",
      "Wall time: 5.72 µs\n"
     ]
    }
   ],
   "source": [
    "%%time\n",
    "\n",
    "test_data=[\n",
    "    {\n",
    "        \"url\": \"https://www.guancha.cn/ZiZheng/2024_06_27_739401_s.shtml\",\n",
    "        \"question\": \"和平共处五项原则为啥到现在还有重要意义？\"\n",
    "    },\n",
    "    {\n",
    "        \"url\": \"https://www.guancha.cn/kegongliliang/2024_06_27_739408_s.shtml\",\n",
    "        \"question\": \"丰鸟科技在内蒙古主场地的资产清点和撤出的具体原因是什么？\"\n",
    "    },\n",
    "    {\n",
    "        \"url\": \"https://user.guancha.cn/main/content?id=1257033\",\n",
    "        \"question\": \"电池工厂火灾的具体起因是什么？\"\n",
    "    },\n",
    "    {\n",
    "        \"url\": \"https://user.guancha.cn/main/content?id=1257049\",\n",
    "        \"question\": \"莫迪计划推出的亲商改革具体包括哪些措施？\"\n",
    "    },\n",
    "    {\n",
    "        \"url\": \"https://www.guancha.cn/politics/2024_06_26_739354.shtml\",\n",
    "        \"question\": \"金融监管总局支持信托公司和理财公司加大创业投资力度的具体措施有哪些？\"\n",
    "    },\n",
    "    {\n",
    "        \"url\": \"https://www.guancha.cn/gaotianwei/2024_06_24_739062_s.shtml\",\n",
    "        \"question\": \"我们为什么要发展可重复使用运载火箭的验证箭？\"\n",
    "    },\n",
    "    {\n",
    "        \"url\": \"https://www.guancha.cn/economy/2024_06_26_739352.shtml\",\n",
    "        \"question\": \"中小银行合并重组的原因是什么？\"\n",
    "    },\n",
    "    {\n",
    "        \"url\": \"https://www.guancha.cn/internation/2024_06_27_739492.shtml\",\n",
    "        \"question\": \"除了菲律宾，日本政府还计划在哪些东南亚国家推广5G建设计划？\"\n",
    "    },\n",
    "    {\n",
    "        \"url\": \"https://www.guancha.cn/politics/2024_06_27_739480.shtml\",\n",
    "        \"question\": \"尤勇智对年轻演员有何建议？\"\n",
    "    },\n",
    "    {\n",
    "        \"url\": \"https://user.guancha.cn/main/content?id=1257405\",\n",
    "        \"question\": \"俄罗斯如何对待塞尔维亚总统武契奇的表态？\"\n",
    "    },\n",
    "    {\n",
    "        \"url\": \"https://www.guancha.cn/internation/2024_06_27_739443_s.shtml\",\n",
    "        \"question\": \"梅洛尼在欧盟高层人选提名问题上的态度是什么？\"\n",
    "    },\n",
    "    {\n",
    "        \"url\": \"https://www.guancha.cn/internation/2024_06_27_739432.shtml\",\n",
    "        \"question\": \"金砖国家为什么决定暂时停止接纳新成员国？\"\n",
    "    },\n",
    "    {\n",
    "        \"url\": \"https://www.guancha.cn/internation/2024_06_27_739441.shtml\",\n",
    "        \"question\": \"印尼旅游业面临的竞争压力有哪些？\"\n",
    "    },\n",
    "    {\n",
    "        \"url\": \"https://www.guancha.cn/XueKaiHuan/2024_06_24_739023_s.shtml\",\n",
    "        \"question\": \"波兰近年来在对华政策上采取的“双轨政策”具体体现在哪些方面？\"\n",
    "    },\n",
    "    {\n",
    "        \"url\": \"https://www.guancha.cn/economy/2024_06_27_739420.shtml\",\n",
    "        \"question\": \"为了加强技能人才培养并解决结构性就业矛盾，国务院常务会议部署了哪些具体措施？\"\n",
    "    },\n",
    "    {\n",
    "        \"url\": \"https://user.guancha.cn/main/content?id=1257296\",\n",
    "        \"question\": \"以色列内塔尼亚胡所述的“激战阶段”如何定义？\"\n",
    "    },\n",
    "    {\n",
    "        \"url\": \"https://www.guancha.cn/ShiYang/2024_06_23_738937_s.shtml\",\n",
    "        \"question\": \"菲律宾为何选择派遣运补船和充气艇非法进入中国南沙群岛仁爱礁邻近海域？\"\n",
    "    },\n",
    "    {\n",
    "        \"url\": \"https://www.guancha.cn/fengchao/2024_06_23_738933_s.shtml\",\n",
    "        \"question\": \"普京访越期间，俄罗斯和越南就哪些领域的合作达成了新的协议或共识？\"\n",
    "    }\n",
    "]"
   ]
  },
  {
   "cell_type": "code",
   "execution_count": 3,
   "id": "67c3d0b9-1676-421c-afa9-9867482212e0",
   "metadata": {},
   "outputs": [
    {
     "name": "stdout",
     "output_type": "stream",
     "text": [
      "CPU times: user 96.3 ms, sys: 87.1 ms, total: 183 ms\n",
      "Wall time: 83.6 ms\n"
     ]
    }
   ],
   "source": [
    "%%time\n",
    "\n",
    "import requests\n",
    "from gne import GeneralNewsExtractor\n",
    "\n",
    "def get_news_data(url):\n",
    "    response = requests.get(url)\n",
    "    html = response.text\n",
    "\n",
    "    extractor = GeneralNewsExtractor()\n",
    "    data = extractor.extract(html, noise_node_list=[\n",
    "                               '//div[@class=\"comment-list\"]'])\n",
    "    data['url']=url\n",
    "    return data"
   ]
  },
  {
   "cell_type": "code",
   "execution_count": 4,
   "id": "5537407e-0e6e-41b0-bd6c-e771804081dc",
   "metadata": {},
   "outputs": [
    {
     "name": "stdout",
     "output_type": "stream",
     "text": [
      "CPU times: user 2 s, sys: 7.34 ms, total: 2 s\n",
      "Wall time: 4.52 s\n"
     ]
    }
   ],
   "source": [
    "%%time\n",
    "\n",
    "!mkdir -p $DATA_PATH\n",
    "\n",
    "import json\n",
    "\n",
    "for news in test_data:\n",
    "    data=get_news_data(news['url'])\n",
    "    data['url']=news['url']\n",
    "    file_path = f'./{DATA_PATH}/{data[\"title\"]}.json'\n",
    "    with open(file_path, 'w') as json_file:\n",
    "        json.dump(data, json_file, indent=4)"
   ]
  },
  {
   "cell_type": "code",
   "execution_count": 5,
   "id": "b7f22575-442c-4adc-b852-8d95ac1cfb63",
   "metadata": {},
   "outputs": [
    {
     "name": "stdout",
     "output_type": "stream",
     "text": [
      "CPU times: user 2.45 s, sys: 313 ms, total: 2.76 s\n",
      "Wall time: 2.57 s\n"
     ]
    }
   ],
   "source": [
    "%%time\n",
    "\n",
    "from llama_index.core import(\n",
    "    Document\n",
    ")\n",
    "\n",
    "def data2doc(news_data):\n",
    "    document=Document(text=news_data['content'], \n",
    "                  metadata={\"title\": news_data['title'],\n",
    "                            'publish_time': news_data['publish_time'],\n",
    "                            'author': news_data['author'],\n",
    "                            'url': news_data['url'],\n",
    "                            'images': news_data['images'],\n",
    "                           })\n",
    "    document.doc_id = document.metadata[\"title\"]\n",
    "    return document"
   ]
  },
  {
   "cell_type": "code",
   "execution_count": 6,
   "id": "6be90a38-e28a-431f-ad19-af258a05c631",
   "metadata": {},
   "outputs": [
    {
     "name": "stdout",
     "output_type": "stream",
     "text": [
      "CPU times: user 25.5 ms, sys: 554 µs, total: 26.1 ms\n",
      "Wall time: 3.1 s\n"
     ]
    },
    {
     "data": {
      "text/plain": [
       "18"
      ]
     },
     "execution_count": 6,
     "metadata": {},
     "output_type": "execute_result"
    }
   ],
   "source": [
    "%%time\n",
    "\n",
    "from llama_index.core import SimpleDirectoryReader\n",
    "\n",
    "documents=SimpleDirectoryReader(input_dir=f\"./{DATA_PATH}\").load_data(num_workers=4)\n",
    "for document in documents:\n",
    "    document.doc_id=document.metadata['file_name']\n",
    "\n",
    "import json\n",
    "\n",
    "docs=[]\n",
    "for document in documents:\n",
    "    news_data=json.loads(document.text) # documents[0].text\n",
    "    docs.append(data2doc(news_data))\n",
    "\n",
    "documents=docs\n",
    "\n",
    "len(docs)"
   ]
  },
  {
   "cell_type": "code",
   "execution_count": 7,
   "id": "fb2ab663-41eb-4402-b8cb-ee26e7ee40ee",
   "metadata": {},
   "outputs": [
    {
     "name": "stdout",
     "output_type": "stream",
     "text": [
      "CPU times: user 325 µs, sys: 845 µs, total: 1.17 ms\n",
      "Wall time: 854 µs\n"
     ]
    }
   ],
   "source": [
    "%%time\n",
    "\n",
    "import nest_asyncio\n",
    "nest_asyncio.apply()"
   ]
  },
  {
   "cell_type": "code",
   "execution_count": 8,
   "id": "1259d767-1b19-4941-a2e7-7e5d7160f231",
   "metadata": {},
   "outputs": [
    {
     "name": "stdout",
     "output_type": "stream",
     "text": [
      "CPU times: user 682 ms, sys: 27.5 ms, total: 710 ms\n",
      "Wall time: 710 ms\n"
     ]
    }
   ],
   "source": [
    "%%time\n",
    "\n",
    "# 加载llm和embeddings\n",
    "%run ../utils2.py\n",
    "\n",
    "from llama_index.core import Settings\n",
    "\n",
    "Settings.llm=get_llm()\n",
    "Settings.embed_model=get_embedding()"
   ]
  },
  {
   "cell_type": "code",
   "execution_count": 9,
   "id": "21a4613a-c9cd-4472-a0f3-d7dc469d0c7b",
   "metadata": {},
   "outputs": [
    {
     "name": "stdout",
     "output_type": "stream",
     "text": [
      "CPU times: user 0 ns, sys: 138 µs, total: 138 µs\n",
      "Wall time: 140 µs\n"
     ]
    }
   ],
   "source": [
    "%%time\n",
    "\n",
    "from llama_index.core.llms import ChatMessage, MessageRole\n",
    "from llama_index.core import ChatPromptTemplate\n",
    "\n",
    "# QA系统提示\n",
    "TEXT_QA_SYSTEM_PROMPT = ChatMessage(\n",
    "    content=(\n",
    "        \"您是全世界值得信赖的 QA 系统。\\n\"\n",
    "        \"始终使用提供的上下文信息而不是先验知识来回答查询。\\n\"\n",
    "        \"需要遵循的一些规则：\\n\"\n",
    "        \"1. 不要在答案中直接引用指定的上下文。\\n\"\n",
    "        \"2. 避免诸'基于上下文...'或'上下文信息...'或类似的语句。 \"\n",
    "    ),\n",
    "    role=MessageRole.SYSTEM,\n",
    ")\n",
    "\n",
    "# QA 提示模板消息\n",
    "TEXT_QA_PROMPT_TMPL_MSGS = [\n",
    "    TEXT_QA_SYSTEM_PROMPT,\n",
    "    ChatMessage(\n",
    "        content=(\n",
    "            \"上下文信息如下。\\n\"\n",
    "            \"----------\\n\"\n",
    "            \"{context_str}\\n\"\n",
    "            \"----------\\n\"\n",
    "            \"给定上下文信息而非先验知识，\"\n",
    "            \"查询：{query_str}\\n\"\n",
    "            \"回答： \"\n",
    "        ),\n",
    "        role=MessageRole.USER,\n",
    "    ),\n",
    "]\n",
    "\n",
    "# 聊天QA提示\n",
    "CHAT_TEXT_QA_PROMPT = ChatPromptTemplate(message_templates=TEXT_QA_PROMPT_TMPL_MSGS)\n",
    "\n",
    "\n",
    "# 树状摘要提示信息\n",
    "TREE_SUMMARIZE_PROMPT_TMPL_MSGS = [\n",
    "    TEXT_QA_SYSTEM_PROMPT,\n",
    "    ChatMessage(\n",
    "        content=(\n",
    "            \"下面提供了来自多个来源的上下文信息。\\n\"\n",
    "            \"----------\\n\"\n",
    "            \"{context_str}\\n\"\n",
    "            \"----------\\n\"\n",
    "            \"鉴于来自多个来源的信息而非先验知识，\"\n",
    "            \"回答查询。\\n\"\n",
    "            \"查询：{query_str}\\n\"\n",
    "            \"回答： \"\n",
    "        ),\n",
    "        role=MessageRole.USER,\n",
    "    ),\n",
    "]\n",
    "\n",
    "# 树状摘要提示\n",
    "CHAT_TREE_SUMMARIZE_PROMPT = ChatPromptTemplate(\n",
    "    message_templates=TREE_SUMMARIZE_PROMPT_TMPL_MSGS\n",
    ")\n",
    "\n",
    "# 摘要查询\n",
    "SUMMARY_QUERY = \"请总结所提供文本的内容。\""
   ]
  },
  {
   "cell_type": "code",
   "execution_count": 10,
   "id": "60200bc4-cb39-4ff2-8e61-8c9195637a68",
   "metadata": {},
   "outputs": [
    {
     "data": {
      "application/vnd.jupyter.widget-view+json": {
       "model_id": "6191d4f7cee44fab84356a2991fe60c0",
       "version_major": 2,
       "version_minor": 0
      },
      "text/plain": [
       "Parsing nodes:   0%|          | 0/18 [00:00<?, ?it/s]"
      ]
     },
     "metadata": {},
     "output_type": "display_data"
    },
    {
     "data": {
      "application/vnd.jupyter.widget-view+json": {
       "model_id": "e6f97ccce5974b98a7e67a235dfaf57b",
       "version_major": 2,
       "version_minor": 0
      },
      "text/plain": [
       "Summarizing documents:   0%|          | 0/18 [00:00<?, ?it/s]"
      ]
     },
     "metadata": {},
     "output_type": "display_data"
    },
    {
     "name": "stdout",
     "output_type": "stream",
     "text": [
      "current doc id: “塞铁”跳反了？塞尔维亚“背刺”俄罗斯：承认已暗中向乌克兰提供8亿美元弹药！\n",
      "current doc id: “对抗中国技术”，日本计划帮菲律宾建设5G通信网络\n",
      "current doc id: 一周军评：菲律宾“后继乏力”，我们的考验又在哪里？\n",
      "current doc id: 丁刚：中印能实现龙象共舞吗？\n",
      "current doc id: 中东又一场战争可能要爆发了！\n",
      "current doc id: 中小银行改革加速度，今年来超80家开启合并重组模式\n",
      "current doc id: 冯超：普京访越，透视出的国家相处之道应该是什么？\n",
      "current doc id: 印尼考虑对华免签，预计10月份前敲定\n",
      "current doc id: 国常会：一视同仁支持内外资企业参与大规模设备更新、政府采购和投资\n",
      "current doc id: 子政：和平共处五项原则历久弥新的原因是什么？\n",
      "current doc id: 尤勇智：不可想象！现在素人、网红、有背景的人都能来演戏\n",
      "current doc id: 拉夫罗夫：金砖十国已投票决定，暂时停止扩员以专注整合新成员国\n",
      "current doc id: 欧盟“内定”冯德莱恩连任，意大利总理警告：注定在欧洲议会遇到困难\n",
      "current doc id: 科工力量：前有高铁，后有快递小哥，支线物流在中国飞不起来？\n",
      "current doc id: 薛凯恒：日渐亲美的波兰，是否会改变一贯的对华中立政策？\n",
      "current doc id: 金融监管总局：将研究提高保险资金投资创业投资基金集中度的比例上限\n",
      "current doc id: 韩国电池厂火灾17名中国人遇难：有多少同胞，在韩国打工？\n",
      "current doc id: 高天伟：国产可重复火箭完成10公里测试，有一点与马斯克很不一样\n"
     ]
    },
    {
     "data": {
      "application/vnd.jupyter.widget-view+json": {
       "model_id": "1f41d89cf5064b04ba45c0d653690687",
       "version_major": 2,
       "version_minor": 0
      },
      "text/plain": [
       "Generating embeddings:   0%|          | 0/18 [00:00<?, ?it/s]"
      ]
     },
     "metadata": {},
     "output_type": "display_data"
    },
    {
     "name": "stdout",
     "output_type": "stream",
     "text": [
      "CPU times: user 1.16 s, sys: 55.8 ms, total: 1.21 s\n",
      "Wall time: 8min 16s\n"
     ]
    }
   ],
   "source": [
    "%%time\n",
    "\n",
    "from llama_index.core import get_response_synthesizer\n",
    "from llama_index.core import DocumentSummaryIndex\n",
    "from llama_index.core.node_parser import SentenceSplitter\n",
    "\n",
    "splitter = SentenceSplitter(chunk_size=1024)\n",
    "\n",
    "response_synthesizer = get_response_synthesizer(\n",
    "    response_mode=\"tree_summarize\", \n",
    "    use_async=True,\n",
    "    text_qa_template=CHAT_TEXT_QA_PROMPT,\n",
    "    summary_template=CHAT_TREE_SUMMARIZE_PROMPT,\n",
    ")\n",
    "\n",
    "doc_summary_index = DocumentSummaryIndex.from_documents(\n",
    "    documents,\n",
    "    transformations=[splitter],\n",
    "    response_synthesizer=response_synthesizer,\n",
    "    show_progress=True,\n",
    "    summary_query=SUMMARY_QUERY,\n",
    ")"
   ]
  },
  {
   "cell_type": "code",
   "execution_count": 11,
   "id": "e97afd57-418a-4297-963d-d001bd4dbfab",
   "metadata": {},
   "outputs": [
    {
     "data": {
      "text/plain": [
       "'所提供的文本主要讨论了印度总理纳伦德拉·莫迪的第三个任期及其对印度制造业和中印关系的影响。文章首先提到莫迪计划在新任期内推出一系列亲商改革以提升印度制造业竞争力，将中国视为主要竞争对手。然而，文章指出印度发展制造业面临的主要挑战包括劳动力素质、教育水平、社会与传统价值观制约、种姓制度限制低种姓群体的教育和职业机会等。\\n\\n文章进一步分析了莫迪政府在经济领域的目标，即到2047年将印度在全球制造业中的份额提高至10%，但同时指出印度制造业占GDP比重从2016年的15.16%下降到了2021年的13.98%，而同期中国制造业的份额一直稳定在26%以上。文章强调了劳动力素质问题，如低参与度、性别差异（女性参与率远低于中国）以及土地和少数民族问题等。\\n\\n文章还讨论了印度制造业对中国的依赖性，特别是在设备、中间产品和原材料方面，即使在其主要出口产业纺织业也是如此。美国和西方试图重组全球供应链为印度制造业带来了机遇，但真正的挑战在于如何在重构供应链的背景下采取更为自主的对华经贸政策，并吸引投资。\\n\\n文章指出莫迪政府可能会实施更加自信的外交政策，特别是在针对中国安全风险和边境问题上可能表现得更为强硬。然而，从近两年的对华政策来看，求稳仍是主调，下一步应管控引发冲突的问题并继续推进与中国的经贸合作。文章强调了通过合作实现印度制造业发展的动力，并指出中印之间的合作规模和速度与双方的改革开放密切相关。\\n\\n最后，文章引用邓小平的话，提到中国、印度和其他邻国的发展对于亚洲乃至全球的重要性。文章认为只有自信且有能力迈出轻盈步伐的印度才能让中印“龙象共舞”成为可能，这需要双方对自身发展道路有更多的自信，并在双边交往中展开更宽广的合作。\\n\\n总结而言，文本探讨了莫迪政府在新任期内推动制造业发展的挑战、印度与中国的经济关系以及中印合作的重要性。'"
      ]
     },
     "execution_count": 11,
     "metadata": {},
     "output_type": "execute_result"
    }
   ],
   "source": [
    "doc_summary_index.get_document_summary(\"丁刚：中印能实现龙象共舞吗？\")"
   ]
  },
  {
   "cell_type": "code",
   "execution_count": 12,
   "id": "5331805d-26d4-4970-b8cb-37534091ab5f",
   "metadata": {},
   "outputs": [
    {
     "name": "stdout",
     "output_type": "stream",
     "text": [
      "CPU times: user 56.2 ms, sys: 3.99 ms, total: 60.2 ms\n",
      "Wall time: 59.4 ms\n"
     ]
    }
   ],
   "source": [
    "%%time\n",
    "\n",
    "doc_summary_index.storage_context.persist(INDEX_PATH)"
   ]
  },
  {
   "cell_type": "code",
   "execution_count": 13,
   "id": "0a4a5f35-c210-408a-9f31-1300dee869dc",
   "metadata": {},
   "outputs": [
    {
     "name": "stdout",
     "output_type": "stream",
     "text": [
      "CPU times: user 106 ms, sys: 0 ns, total: 106 ms\n",
      "Wall time: 105 ms\n"
     ]
    }
   ],
   "source": [
    "%%time\n",
    "\n",
    "from llama_index.core import load_index_from_storage\n",
    "from llama_index.core import StorageContext\n",
    "\n",
    "# rebuild storage context\n",
    "storage_context = StorageContext.from_defaults(persist_dir=INDEX_PATH)\n",
    "doc_summary_index = load_index_from_storage(storage_context)"
   ]
  },
  {
   "cell_type": "markdown",
   "id": "7d0b4ef3-3910-49ea-852a-4cc4e6072d66",
   "metadata": {},
   "source": [
    "## 检索"
   ]
  },
  {
   "cell_type": "markdown",
   "id": "2cc8e01b-b2d3-4681-bfdf-a96e6f23e49d",
   "metadata": {},
   "source": [
    "### 简单测试"
   ]
  },
  {
   "cell_type": "code",
   "execution_count": 14,
   "id": "0ca39ffe-3c5e-4f72-915d-531160dfc375",
   "metadata": {},
   "outputs": [
    {
     "name": "stdout",
     "output_type": "stream",
     "text": [
      "CPU times: user 6.34 ms, sys: 0 ns, total: 6.34 ms\n",
      "Wall time: 105 ms\n"
     ]
    },
    {
     "data": {
      "text/plain": [
       "{'title': '子政：和平共处五项原则历久弥新的原因是什么？',\n",
       " 'publish_time': '2024-06-27 07:32:02',\n",
       " 'author': '郭涵',\n",
       " 'url': 'https://www.guancha.cn/ZiZheng/2024_06_27_739401_s.shtml',\n",
       " 'images': ['https://i.guancha.cn/news/official/2024/06/26/20240626151444637.jpg',\n",
       "  'https://i.guancha.cn/news/official/2024/06/26/20240626152937401.jpeg',\n",
       "  'https://i.guancha.cn/news/official/2024/06/26/20240626153929709.png',\n",
       "  'https://i.guancha.cn/shiping-banner.jpg']}"
      ]
     },
     "execution_count": 14,
     "metadata": {},
     "output_type": "execute_result"
    }
   ],
   "source": [
    "%%time\n",
    "\n",
    "from llama_index.core.indices.document_summary import (\n",
    "    DocumentSummaryIndexEmbeddingRetriever,\n",
    ")\n",
    "\n",
    "retriever = DocumentSummaryIndexEmbeddingRetriever(\n",
    "    doc_summary_index,\n",
    "    # similarity_top_k=1,\n",
    ")\n",
    "\n",
    "retrieved_nodes = retriever.retrieve(test_data[0][\"question\"])\n",
    "retrieved_nodes[0].metadata"
   ]
  },
  {
   "cell_type": "markdown",
   "id": "b6af9d52-b1cb-426e-b674-d2907f2161a6",
   "metadata": {},
   "source": [
    "### k=1"
   ]
  },
  {
   "cell_type": "code",
   "execution_count": 15,
   "id": "5d3b72b3-aa7e-47ad-93dd-6a714effefdb",
   "metadata": {},
   "outputs": [
    {
     "name": "stdout",
     "output_type": "stream",
     "text": [
      "CPU times: user 78.5 ms, sys: 305 µs, total: 78.8 ms\n",
      "Wall time: 1.68 s\n"
     ]
    },
    {
     "data": {
      "text/plain": [
       "[True,\n",
       " False,\n",
       " True,\n",
       " True,\n",
       " True,\n",
       " True,\n",
       " True,\n",
       " True,\n",
       " True,\n",
       " True,\n",
       " False,\n",
       " True,\n",
       " False,\n",
       " False,\n",
       " True,\n",
       " True,\n",
       " False,\n",
       " True]"
      ]
     },
     "execution_count": 15,
     "metadata": {},
     "output_type": "execute_result"
    }
   ],
   "source": [
    "%%time\n",
    "\n",
    "retriever = DocumentSummaryIndexEmbeddingRetriever(\n",
    "    doc_summary_index,\n",
    "    similarity_top_k=1,\n",
    ")\n",
    "\n",
    "results=[]\n",
    "\n",
    "for news in test_data:\n",
    "    retrieved_nodes = retriever.retrieve(news[\"question\"])\n",
    "    result=False\n",
    "    for node in retrieved_nodes:\n",
    "        if node.metadata['url']==news[\"url\"]:\n",
    "            result=True\n",
    "            break\n",
    "    results.append(result)\n",
    "\n",
    "results"
   ]
  },
  {
   "cell_type": "code",
   "execution_count": 16,
   "id": "da801e63-d98a-474e-986f-7474e787eb9c",
   "metadata": {},
   "outputs": [
    {
     "data": {
      "text/plain": [
       "0.7222222222222222"
      ]
     },
     "execution_count": 16,
     "metadata": {},
     "output_type": "execute_result"
    }
   ],
   "source": [
    "results.count(True) / len(results)"
   ]
  },
  {
   "cell_type": "code",
   "execution_count": 18,
   "id": "28c600ce-ae23-4eb0-949e-a4b749df6b2a",
   "metadata": {},
   "outputs": [
    {
     "data": {
      "text/plain": [
       "'所提供的文本主要围绕中国支线物流的发展现状、面临的挑战及与美国等国家的对比展开。文章首先通过新疆库车和轮台等地的小白杏运输问题，强调了支线物流在时间敏感型高价值商品运输中的重要性，并指出西部地区交通网络相对稀疏导致农产品需要经过多级中转的问题。\\n\\n接着，文本分析了中国交通基础设施的历史发展与现状，特别是政府投资主要集中在铁路、公路等“铁公基”项目上。文章提到，在东部地区交通设施发展迅速的同时，西部地区的交通瓶颈限制了其经济发展潜力，并以贵州六枝特大桥为例，强调了西部地区基础设施建设的挑战。\\n\\n文本进一步讨论了中国支线物流的发展困境，指出与高铁和公路等干线运输相比，支线航空在成本和效率方面面临竞争压力。尽管支线物流有独特优势，但在全国范围内实现全面发展的挑战较大。\\n\\n文章还对比了中国和美国在通航（通用航空）行业的发展现状、挑战以及未来可能的解决方案。关键点包括人才短缺问题、高成本结构、电动化与智能化技术带来的可能性，以及顺丰等企业通过自主研发和投资无人机领域进行探索的努力。\\n\\n最后，文本总结了中国物流行业中的支线运输问题、顺丰在这一领域的尝试及成功案例分析，并提到了美国联邦快递与赛斯纳208“大篷车”飞机的成功合作。文章强调了中国在发展通航物流时面临的挑战以及通过技术创新寻求解决方案的可能性。\\n\\n综合来看，文本探讨了以下几点：\\n1. **赛斯纳208系列飞机**：自1982年开始生产，至今仍在持续生产，并且累计交付数量超过3500架。年产量稳定在80至100架之间。\\n   \\n2. **顺丰面临的挑战与策略**：顺丰作为快递运营公司，在自主研发和制造飞机方面面临资金投入的挑战，尤其是在“脱钩断链”的背景下。顺丰尝试通过“垂直整合”模式直接研发制造飞机，但这一策略在需求端遇到了问题。\\n\\n3. **发展支线物流航空**：文章指出中国在发展支线物流航空领域具有优势，包括强大的实体经济、激活的下沉市场、成熟的基础设施以及时代变量（如电动化和智能化）的影响。同时，也指出了国内航空供应链和业态与国外相比存在差距，并提到了脱钩断链的风险。\\n\\n4. **联邦快递与赛斯纳的成功模式**：文章提到联邦快递与赛斯纳的合作是成功的案例，通过深度沟通和技术合作，双方共同研发了满足特定业务需求的飞机型号。这种模式被建议为中国顺丰等公司提供参考。\\n\\n总结而言，文本探讨了中国在航空物流领域的机遇、挑战以及未来发展方向，并强调了技术创新与成本控制的重要性。'"
      ]
     },
     "execution_count": 18,
     "metadata": {},
     "output_type": "execute_result"
    }
   ],
   "source": [
    "# 科工力量：前有高铁，后有快递小哥，支线物流在中国飞不起来？\n",
    "# 丰鸟科技在内蒙古主场地的资产清点和撤出的具体原因是什么？\n",
    "doc_summary_index.get_document_summary(\"科工力量：前有高铁，后有快递小哥，支线物流在中国飞不起来？\")"
   ]
  },
  {
   "cell_type": "code",
   "execution_count": 19,
   "id": "a32ed666-63ca-444b-85bc-c146d7f7642f",
   "metadata": {},
   "outputs": [
    {
     "data": {
      "text/plain": [
       "'所提供的文本主要关注了欧盟内部关于未来五年的领导层人选讨论和决策过程。关键点包括：\\n\\n1. **冯德莱恩连任**：意大利总理梅洛尼对这一决定表示批评，并警告称被提名者在欧洲立法机构中将遇到困难，因为她的党团“欧洲保守派和改革主义者”在最近的选举中获得83个席位，跃升为第三大党团。\\n\\n2. **提名过程**：6名欧盟领导人已经同意推举冯德莱恩担任欧盟委员会主席、安东尼奥·科斯塔担任欧洲理事会主席以及卡娅·卡拉斯出任欧盟外交与安全政策高级代表。这六位领导人的党团分别来自欧洲人民党（EPP）、“社会主义者和民主人士进步联盟”（S&D）和“复兴欧洲”（RE）。\\n\\n3. **政治动态**：梅洛尼认为，“欧洲保守派和改革主义者”理应拥有关键发言权，并批评欧盟领导人试图掩盖选民对欧盟的不满。匈牙利总理欧尔班也对提名过程表示不满，认为与左翼和自由派达成的协议违背了欧盟的基础原则。\\n\\n4. **朔尔茨的支持**：德国总理朔尔茨证实了欧洲议会三个主要中间派党团支持冯德莱恩、科斯塔和卡拉斯担任相关职位的消息，并希望在峰会上达成协议以避免僵局。\\n\\n5. **后续步骤**：预计欧盟领导人将在峰会上批准提名协议，但冯德莱恩面临的更大挑战是获得欧洲议会的支持。她需要至少361席的票数来确保连任，而历史上大约有10%的欧洲议员会在秘密投票中改变立场，这使得她的优势变得微弱。\\n\\n6. **潜在交易策略**：为了争取梅洛尼的支持，冯德莱恩可能考虑在新一届欧委会中为意大利安排一个更具影响力的职位。外交官们预计欧盟领导人在布鲁塞尔峰会上会批准提名协议，但更关键的问题在于她能否赢得欧洲议会的支持。\\n\\n整体而言，这篇报道强调了冯德莱恩连任过程中的政治挑战和潜在的交易策略，特别是在获得欧洲议会支持方面。'"
      ]
     },
     "execution_count": 19,
     "metadata": {},
     "output_type": "execute_result"
    }
   ],
   "source": [
    "# \"欧盟“内定”冯德莱恩连任，意大利总理警告：注定在欧洲议会遇到困难\"\n",
    "# 梅洛尼在欧盟高层人选提名问题上的态度是什么？\n",
    "doc_summary_index.get_document_summary(\"欧盟“内定”冯德莱恩连任，意大利总理警告：注定在欧洲议会遇到困难\")"
   ]
  },
  {
   "cell_type": "markdown",
   "id": "7856f146-cac1-4195-ad07-849657a62f28",
   "metadata": {},
   "source": [
    "### k=2"
   ]
  },
  {
   "cell_type": "code",
   "execution_count": 17,
   "id": "a75da4cc-099b-4d2c-a851-816e08be7280",
   "metadata": {},
   "outputs": [
    {
     "name": "stdout",
     "output_type": "stream",
     "text": [
      "CPU times: user 91.5 ms, sys: 698 µs, total: 92.2 ms\n",
      "Wall time: 1.7 s\n"
     ]
    },
    {
     "data": {
      "text/plain": [
       "0.7222222222222222"
      ]
     },
     "execution_count": 17,
     "metadata": {},
     "output_type": "execute_result"
    }
   ],
   "source": [
    "%%time\n",
    "\n",
    "retriever = DocumentSummaryIndexEmbeddingRetriever(\n",
    "    doc_summary_index,\n",
    "    similarity_top_k=2,\n",
    ")\n",
    "\n",
    "results=[]\n",
    "\n",
    "for news in test_data:\n",
    "    retrieved_nodes = retriever.retrieve(news[\"question\"])\n",
    "    result=False\n",
    "    for node in retrieved_nodes:\n",
    "        if node.metadata['url']==news[\"url\"]:\n",
    "            result=True\n",
    "            break\n",
    "    results.append(result)\n",
    "\n",
    "results.count(True) / len(results)"
   ]
  },
  {
   "cell_type": "markdown",
   "id": "9778e005-1db1-4193-8b48-b7f6a7efb696",
   "metadata": {},
   "source": [
    "### k=3"
   ]
  },
  {
   "cell_type": "code",
   "execution_count": 20,
   "id": "47d6fa98-84ea-43f1-8dd4-0cdf0c16e406",
   "metadata": {},
   "outputs": [
    {
     "name": "stdout",
     "output_type": "stream",
     "text": [
      "CPU times: user 103 ms, sys: 1.24 ms, total: 104 ms\n",
      "Wall time: 2.73 s\n"
     ]
    },
    {
     "data": {
      "text/plain": [
       "0.7222222222222222"
      ]
     },
     "execution_count": 20,
     "metadata": {},
     "output_type": "execute_result"
    }
   ],
   "source": [
    "%%time\n",
    "\n",
    "retriever = DocumentSummaryIndexEmbeddingRetriever(\n",
    "    doc_summary_index,\n",
    "    similarity_top_k=3,\n",
    ")\n",
    "\n",
    "results=[]\n",
    "\n",
    "for news in test_data:\n",
    "    retrieved_nodes = retriever.retrieve(news[\"question\"])\n",
    "    result=False\n",
    "    for node in retrieved_nodes:\n",
    "        if node.metadata['url']==news[\"url\"]:\n",
    "            result=True\n",
    "            break\n",
    "    results.append(result)\n",
    "\n",
    "results.count(True) / len(results)"
   ]
  },
  {
   "cell_type": "markdown",
   "id": "88c41e52-d6a1-42ad-8eb5-b569b2402c56",
   "metadata": {},
   "source": [
    "### k=5"
   ]
  },
  {
   "cell_type": "code",
   "execution_count": 21,
   "id": "ce6068df-d500-40dc-8cd2-e31fac1ac4cf",
   "metadata": {},
   "outputs": [
    {
     "name": "stdout",
     "output_type": "stream",
     "text": [
      "CPU times: user 116 ms, sys: 4.92 ms, total: 121 ms\n",
      "Wall time: 1.74 s\n"
     ]
    },
    {
     "data": {
      "text/plain": [
       "0.7222222222222222"
      ]
     },
     "execution_count": 21,
     "metadata": {},
     "output_type": "execute_result"
    }
   ],
   "source": [
    "%%time\n",
    "\n",
    "retriever = DocumentSummaryIndexEmbeddingRetriever(\n",
    "    doc_summary_index,\n",
    "    similarity_top_k=5,\n",
    ")\n",
    "\n",
    "results=[]\n",
    "\n",
    "for news in test_data:\n",
    "    retrieved_nodes = retriever.retrieve(news[\"question\"])\n",
    "    result=False\n",
    "    for node in retrieved_nodes:\n",
    "        if node.metadata['url']==news[\"url\"]:\n",
    "            result=True\n",
    "            break\n",
    "    results.append(result)\n",
    "\n",
    "results.count(True) / len(results)"
   ]
  },
  {
   "cell_type": "markdown",
   "id": "ee10923b-7fd5-4d5e-99cd-bfb25e875b8b",
   "metadata": {},
   "source": [
    "### k=len(test_data)"
   ]
  },
  {
   "cell_type": "code",
   "execution_count": 24,
   "id": "621abf01-9159-4278-a450-a07e9e1e3353",
   "metadata": {},
   "outputs": [
    {
     "name": "stdout",
     "output_type": "stream",
     "text": [
      "CPU times: user 291 ms, sys: 3.59 ms, total: 295 ms\n",
      "Wall time: 1.9 s\n"
     ]
    },
    {
     "data": {
      "text/plain": [
       "1.0"
      ]
     },
     "execution_count": 24,
     "metadata": {},
     "output_type": "execute_result"
    }
   ],
   "source": [
    "%%time\n",
    "\n",
    "retriever = DocumentSummaryIndexEmbeddingRetriever(\n",
    "    doc_summary_index,\n",
    "    similarity_top_k=len(test_data),\n",
    ")\n",
    "\n",
    "results=[]\n",
    "\n",
    "for news in test_data:\n",
    "    retrieved_nodes = retriever.retrieve(news[\"question\"])\n",
    "    result=False\n",
    "    for node in retrieved_nodes:\n",
    "        if node.metadata['url']==news[\"url\"]:\n",
    "            result=True\n",
    "            break\n",
    "    results.append(result)\n",
    "\n",
    "results.count(True) / len(results)"
   ]
  },
  {
   "cell_type": "code",
   "execution_count": 23,
   "id": "771fc151-8602-4234-a9e0-a2b72bfdaa56",
   "metadata": {},
   "outputs": [
    {
     "data": {
      "text/plain": [
       "18"
      ]
     },
     "execution_count": 23,
     "metadata": {},
     "output_type": "execute_result"
    }
   ],
   "source": [
    "len(test_data)"
   ]
  },
  {
   "cell_type": "code",
   "execution_count": 24,
   "id": "0f81cbb5-9d18-41fe-b488-148b87d8e7f3",
   "metadata": {},
   "outputs": [
    {
     "data": {
      "text/plain": [
       "'所提供的文本主要讨论了印度总理纳伦德拉·莫迪的第三个任期及其对印度制造业发展的雄心。文章指出，莫迪政府计划推出一系列亲商改革以提升印度制造业的竞争力，并将其视为与中国的竞争对象。然而，实现这一目标面临诸多挑战，包括劳动力素质、教育水平、社会传统和价值观制约等问题。\\n\\n文本强调了印度在经济领域依赖中国设备、中间产品和原材料的情况，特别是在纺织业等主要出口产业中。美国和西方试图重组全球供应链为印度制造业带来了机遇，但真正的挑战在于如何在美国的推动下采取更为自主的对华经贸政策，并吸引投资。\\n\\n文章还讨论了莫迪政府可能实施更加自信的外交政策，尤其是在针对中国安全风险和边境问题上可能会表现得更为强硬。然而，从近两年的对华政策来看，求稳仍是主调。文本认为，印度与中国的供应链和产业链连接对于双方都至关重要。\\n\\n最后，文章提到成功的工业化不仅需要正确的经济政策，还需要与当地劳动力的文化态度、职业精神和价值观相吻合。自印度独立以来，任何有助于提升国家工业化的改革都因触及传统而面临挑战。因此，莫迪政府是否能进行具有前瞻性的改革以及拥有高政治智慧和强大的舆论引导力将决定其能否实现制造业目标。\\n\\n文章总结指出，中印合作的规模和速度与双方的改革开放密切相关。如果两个大国都能自信地展开双边交往，并扩大合作领域，减少战略猜忌，那么“龙象共舞”将成为世界舞台上引人注目的场景。邓小平在1988年的讲话中也强调了中印合作的重要性，认为中国、印度和其他邻国的发展将标志着真正的亚洲世纪的到来。'"
      ]
     },
     "execution_count": 24,
     "metadata": {},
     "output_type": "execute_result"
    }
   ],
   "source": [
    "doc_summary_index.get_document_summary(\"丁刚：中印能实现龙象共舞吗？\")"
   ]
  },
  {
   "cell_type": "code",
   "execution_count": null,
   "id": "57317f42-c0c8-4f4d-86f2-8de010a9c06b",
   "metadata": {},
   "outputs": [],
   "source": []
  }
 ],
 "metadata": {
  "kernelspec": {
   "display_name": "Python 3 (ipykernel)",
   "language": "python",
   "name": "python3"
  },
  "language_info": {
   "codemirror_mode": {
    "name": "ipython",
    "version": 3
   },
   "file_extension": ".py",
   "mimetype": "text/x-python",
   "name": "python",
   "nbconvert_exporter": "python",
   "pygments_lexer": "ipython3",
   "version": "3.10.12"
  }
 },
 "nbformat": 4,
 "nbformat_minor": 5
}
