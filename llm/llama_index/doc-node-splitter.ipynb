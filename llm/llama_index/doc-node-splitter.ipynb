{
 "cells": [
  {
   "cell_type": "markdown",
   "id": "9395a174-ccf7-453b-8cb7-4e922e194f9b",
   "metadata": {},
   "source": [
    "# 文档解析和分割器"
   ]
  },
  {
   "cell_type": "markdown",
   "id": "c9060169-119d-4d48-bb40-2450339cbdaa",
   "metadata": {},
   "source": [
    "## document"
   ]
  },
  {
   "cell_type": "markdown",
   "id": "a6959278-3b69-4a05-86c7-aa25bdd75dcb",
   "metadata": {},
   "source": [
    "### 自动识别目录下文件生成document"
   ]
  },
  {
   "cell_type": "code",
   "execution_count": 3,
   "id": "aad88bea-0dfd-4719-9349-3ce0ccd8b0e5",
   "metadata": {},
   "outputs": [
    {
     "name": "stdout",
     "output_type": "stream",
     "text": [
      "CPU times: user 5.16 ms, sys: 7.29 ms, total: 12.5 ms\n",
      "Wall time: 20.8 ms\n"
     ]
    },
    {
     "data": {
      "text/plain": [
       "1"
      ]
     },
     "execution_count": 3,
     "metadata": {},
     "output_type": "execute_result"
    }
   ],
   "source": [
    "%%time\n",
    "\n",
    "from llama_index.core import SimpleDirectoryReader, Document\n",
    "\n",
    "documents = SimpleDirectoryReader(input_files=[\"./iphone.txt\"]).load_data()\n",
    "len(documents)"
   ]
  },
  {
   "cell_type": "markdown",
   "id": "0c135fa1-44cf-4fb7-99e6-e7c55c9034cb",
   "metadata": {},
   "source": [
    "### 生成示例document"
   ]
  },
  {
   "cell_type": "code",
   "execution_count": 11,
   "id": "d3dc7de2-ac64-4c0c-a98e-32c5f9b6aba1",
   "metadata": {},
   "outputs": [
    {
     "data": {
      "text/plain": [
       "Document(id_='95c7a7f3-9b1b-44ba-997d-652bb1816235', embedding=None, metadata={'filename': 'README.md', 'category': 'codebase'}, excluded_embed_metadata_keys=[], excluded_llm_metadata_keys=[], relationships={}, text='\\nContext\\nLLMs are a phenomenal piece of technology for knowledge generation and reasoning.\\nThey are pre-trained on large amounts of publicly available data.\\nHow do we best augment LLMs with our own private data?\\nWe need a comprehensive toolkit to help perform this data augmentation for LLMs.\\n\\nProposed Solution\\nThat\\'s where LlamaIndex comes in. LlamaIndex is a \"data framework\" to help\\nyou build LLM  apps. It provides the following tools:\\n\\nOffers data connectors to ingest your existing data sources and data formats\\n(APIs, PDFs, docs, SQL, etc.)\\nProvides ways to structure your data (indices, graphs) so that this data can be\\neasily used with LLMs.\\nProvides an advanced retrieval/query interface over your data:\\nFeed in any LLM input prompt, get back retrieved context and knowledge-augmented output.\\nAllows easy integrations with your outer application framework\\n(e.g. with LangChain, Flask, Docker, ChatGPT, anything else).\\nLlamaIndex provides tools for both beginner users and advanced users.\\nOur high-level API allows beginner users to use LlamaIndex to ingest and\\nquery their data in 5 lines of code. Our lower-level APIs allow advanced users to\\ncustomize and extend any module (data connectors, indices, retrievers, query engines,\\nreranking modules), to fit their needs.\\n', start_char_idx=None, end_char_idx=None, text_template='{metadata_str}\\n\\n{content}', metadata_template='{key}: {value}', metadata_seperator='\\n')"
      ]
     },
     "execution_count": 11,
     "metadata": {},
     "output_type": "execute_result"
    }
   ],
   "source": [
    "document = Document.example()\n",
    "document"
   ]
  },
  {
   "cell_type": "markdown",
   "id": "6936d253-1973-4ddb-b11d-ba9fba85e0c2",
   "metadata": {},
   "source": [
    "### 手动生成document"
   ]
  },
  {
   "cell_type": "code",
   "execution_count": 12,
   "id": "7bc3c1b9-8025-4719-b47f-b1ea9b51063b",
   "metadata": {},
   "outputs": [
    {
     "data": {
      "text/plain": [
       "Document(id_='ac14169c-dc34-4a48-95b5-d875e5c42e7f', embedding=None, metadata={'filename': './iphone.txt'}, excluded_embed_metadata_keys=[], excluded_llm_metadata_keys=[], relationships={}, text='iPhone 15和iPhone 15 Plus是由Apple Inc.设计、开发和销售的智能手机。它们是第十七代、也是当前一代iPhone，接替iPhone 14 和 iPhone 14 Plus。这些设备于 2023 年 9 月 12 日在加利福尼亚州库比蒂诺Apple Park举行的Apple 活动期间与价格较高的iPhone 15 Pro 和 15 Pro Max一起发布。', start_char_idx=None, end_char_idx=None, text_template='{metadata_str}\\n\\n{content}', metadata_template='{key}: {value}', metadata_seperator='\\n')"
      ]
     },
     "execution_count": 12,
     "metadata": {},
     "output_type": "execute_result"
    }
   ],
   "source": [
    "document = Document(text=\"iPhone 15和iPhone 15 Plus是由Apple Inc.设计、开发和销售的智能手机。它们是第十七代、也是当前一代iPhone，接替iPhone 14 和 iPhone 14 Plus。这些设备于 2023 年 9 月 12 日在加利福尼亚州库比蒂诺Apple Park举行的Apple 活动期间与价格较高的iPhone 15 Pro 和 15 Pro Max一起发布。\")\n",
    "document.metadata = {\"filename\": \"./iphone.txt\"}\n",
    "\n",
    "document"
   ]
  },
  {
   "cell_type": "markdown",
   "id": "ffe71a2d-b506-4e01-9876-3b11380ce03b",
   "metadata": {},
   "source": [
    "### document 所有数据"
   ]
  },
  {
   "cell_type": "code",
   "execution_count": 2,
   "id": "daef8e36-81c7-497e-a557-825f4a51fd28",
   "metadata": {},
   "outputs": [
    {
     "data": {
      "text/plain": [
       "Document(id_='5eceafa4-e049-4a9d-b41d-7be9eb23a4fd', embedding=None, metadata={'file_path': 'iphone.txt', 'file_name': 'iphone.txt', 'file_type': 'text/plain', 'file_size': 563, 'creation_date': '2024-06-08', 'last_modified_date': '2024-06-08'}, excluded_embed_metadata_keys=['file_name', 'file_type', 'file_size', 'creation_date', 'last_modified_date', 'last_accessed_date'], excluded_llm_metadata_keys=['file_name', 'file_type', 'file_size', 'creation_date', 'last_modified_date', 'last_accessed_date'], relationships={}, text='iPhone 15和iPhone 15 Plus是由Apple Inc.设计、开发和销售的智能手机。它们是第十七代、也是当前一代iPhone，接替iPhone 14 和 iPhone 14 Plus。这些设备于 2023 年 9 月 12 日在加利福尼亚州库比蒂诺Apple Park举行的Apple 活动期间与价格较高的iPhone 15 Pro 和 15 Pro Max一起发布。预订于 2023 年 9 月 15 日开始，这些设备于 2023 年 9 月 22 日上市。与 iPhone 15 Pro 和 Pro Max 一样，15 和 15 Plus 是第一批用USB-C取代专有Lightning连接器的iPhone遵守欧盟的指令。', start_char_idx=None, end_char_idx=None, text_template='{metadata_str}\\n\\n{content}', metadata_template='{key}: {value}', metadata_seperator='\\n')"
      ]
     },
     "execution_count": 2,
     "metadata": {},
     "output_type": "execute_result"
    }
   ],
   "source": [
    "documents[0]"
   ]
  },
  {
   "cell_type": "markdown",
   "id": "06e8f5d2-9bf6-4657-aa78-a75da8cfda6d",
   "metadata": {},
   "source": [
    "### LLM 看到的数据"
   ]
  },
  {
   "cell_type": "code",
   "execution_count": 3,
   "id": "6736f7f0-359c-4061-8653-98a23fd53235",
   "metadata": {},
   "outputs": [
    {
     "data": {
      "text/plain": [
       "'file_path: iphone.txt\\n\\niPhone 15和iPhone 15 Plus是由Apple Inc.设计、开发和销售的智能手机。它们是第十七代、也是当前一代iPhone，接替iPhone 14 和 iPhone 14 Plus。这些设备于 2023 年 9 月 12 日在加利福尼亚州库比蒂诺Apple Park举行的Apple 活动期间与价格较高的iPhone 15 Pro 和 15 Pro Max一起发布。预订于 2023 年 9 月 15 日开始，这些设备于 2023 年 9 月 22 日上市。与 iPhone 15 Pro 和 Pro Max 一样，15 和 15 Plus 是第一批用USB-C取代专有Lightning连接器的iPhone遵守欧盟的指令。'"
      ]
     },
     "execution_count": 3,
     "metadata": {},
     "output_type": "execute_result"
    }
   ],
   "source": [
    "from llama_index.core.schema import MetadataMode\n",
    "\n",
    "documents[0].get_content(metadata_mode=MetadataMode.LLM)"
   ]
  },
  {
   "cell_type": "markdown",
   "id": "216df6d4-7b32-4713-b48f-6bed4c64b5aa",
   "metadata": {},
   "source": [
    "### EMBED 看到的数据"
   ]
  },
  {
   "cell_type": "code",
   "execution_count": 4,
   "id": "42b69ee9-3fa3-4203-a124-f944d453c238",
   "metadata": {},
   "outputs": [
    {
     "data": {
      "text/plain": [
       "'file_path: iphone.txt\\n\\niPhone 15和iPhone 15 Plus是由Apple Inc.设计、开发和销售的智能手机。它们是第十七代、也是当前一代iPhone，接替iPhone 14 和 iPhone 14 Plus。这些设备于 2023 年 9 月 12 日在加利福尼亚州库比蒂诺Apple Park举行的Apple 活动期间与价格较高的iPhone 15 Pro 和 15 Pro Max一起发布。预订于 2023 年 9 月 15 日开始，这些设备于 2023 年 9 月 22 日上市。与 iPhone 15 Pro 和 Pro Max 一样，15 和 15 Plus 是第一批用USB-C取代专有Lightning连接器的iPhone遵守欧盟的指令。'"
      ]
     },
     "execution_count": 4,
     "metadata": {},
     "output_type": "execute_result"
    }
   ],
   "source": [
    "documents[0].get_content(metadata_mode=MetadataMode.EMBED)"
   ]
  },
  {
   "cell_type": "markdown",
   "id": "f6d67360-d33f-4893-ad9d-157062ad3e9d",
   "metadata": {},
   "source": [
    "### 自定义元数据"
   ]
  },
  {
   "cell_type": "code",
   "execution_count": 5,
   "id": "7c5a3c48-dfc3-4af5-8d38-45e8ba678b47",
   "metadata": {},
   "outputs": [
    {
     "data": {
      "text/plain": [
       "'file_path: iphone.txt\\nmy_tag: hello\\n\\niPhone 15和iPhone 15 Plus是由Apple Inc.设计、开发和销售的智能手机。它们是第十七代、也是当前一代iPhone，接替iPhone 14 和 iPhone 14 Plus。这些设备于 2023 年 9 月 12 日在加利福尼亚州库比蒂诺Apple Park举行的Apple 活动期间与价格较高的iPhone 15 Pro 和 15 Pro Max一起发布。预订于 2023 年 9 月 15 日开始，这些设备于 2023 年 9 月 22 日上市。与 iPhone 15 Pro 和 Pro Max 一样，15 和 15 Plus 是第一批用USB-C取代专有Lightning连接器的iPhone遵守欧盟的指令。'"
      ]
     },
     "execution_count": 5,
     "metadata": {},
     "output_type": "execute_result"
    }
   ],
   "source": [
    "documents[0].metadata['my_tag']=\"hello\"\n",
    "documents[0].get_content(metadata_mode=MetadataMode.LLM)"
   ]
  },
  {
   "cell_type": "markdown",
   "id": "a4d639e9-2995-40ea-9364-893d18b34729",
   "metadata": {},
   "source": [
    "# node"
   ]
  },
  {
   "cell_type": "markdown",
   "id": "93b7ae0f-218d-4889-b491-da4fba67bcfa",
   "metadata": {},
   "source": [
    "## 从document生成node"
   ]
  },
  {
   "cell_type": "code",
   "execution_count": 6,
   "id": "00b4e7f1-cf5e-4ade-a59f-2e3fdec943bb",
   "metadata": {},
   "outputs": [
    {
     "name": "stdout",
     "output_type": "stream",
     "text": [
      "CPU times: user 245 ms, sys: 11.8 ms, total: 257 ms\n",
      "Wall time: 258 ms\n"
     ]
    },
    {
     "data": {
      "text/plain": [
       "1"
      ]
     },
     "execution_count": 6,
     "metadata": {},
     "output_type": "execute_result"
    }
   ],
   "source": [
    "%%time\n",
    "\n",
    "from llama_index.core.node_parser import SentenceSplitter\n",
    "\n",
    "documents = SimpleDirectoryReader(input_files=[\"./iphone.txt\"]).load_data()\n",
    "parser = SentenceSplitter()\n",
    "nodes = parser.get_nodes_from_documents(documents)\n",
    "\n",
    "len(nodes)"
   ]
  },
  {
   "cell_type": "code",
   "execution_count": 24,
   "id": "c4312098-2acd-438c-ba72-bb64ee71a38f",
   "metadata": {},
   "outputs": [
    {
     "data": {
      "text/plain": [
       "TextNode(id_='1af0463b-e8d3-4264-ac31-7a27ea7d74f0', embedding=None, metadata={'file_path': 'iphone.txt', 'file_name': 'iphone.txt', 'file_type': 'text/plain', 'file_size': 563, 'creation_date': '2024-06-08', 'last_modified_date': '2024-06-08'}, excluded_embed_metadata_keys=['file_name', 'file_type', 'file_size', 'creation_date', 'last_modified_date', 'last_accessed_date'], excluded_llm_metadata_keys=['file_name', 'file_type', 'file_size', 'creation_date', 'last_modified_date', 'last_accessed_date'], relationships={<NodeRelationship.SOURCE: '1'>: RelatedNodeInfo(node_id='ff99a9b6-86ae-4cbf-adf1-045771c7c5b7', node_type=<ObjectType.DOCUMENT: '4'>, metadata={'file_path': 'iphone.txt', 'file_name': 'iphone.txt', 'file_type': 'text/plain', 'file_size': 563, 'creation_date': '2024-06-08', 'last_modified_date': '2024-06-08'}, hash='f66b58c209e431dfaccf40d308bc218c807a6bf6d560346329cec1e46721241b')}, text='iPhone 15和iPhone 15 Plus是由Apple Inc.设计、开发和销售的智能手机。它们是第十七代、也是当前一代iPhone，接替iPhone 14 和 iPhone 14 Plus。这些设备于 2023 年 9 月 12 日在加利福尼亚州库比蒂诺Apple Park举行的Apple 活动期间与价格较高的iPhone 15 Pro 和 15 Pro Max一起发布。预订于 2023 年 9 月 15 日开始，这些设备于 2023 年 9 月 22 日上市。与 iPhone 15 Pro 和 Pro Max 一样，15 和 15 Plus 是第一批用USB-C取代专有Lightning连接器的iPhone遵守欧盟的指令。', start_char_idx=0, end_char_idx=321, text_template='{metadata_str}\\n\\n{content}', metadata_template='{key}: {value}', metadata_seperator='\\n')"
      ]
     },
     "execution_count": 24,
     "metadata": {},
     "output_type": "execute_result"
    }
   ],
   "source": [
    "nodes[0]"
   ]
  },
  {
   "cell_type": "markdown",
   "id": "e9bec121-f5f9-4804-b459-2330eca38f21",
   "metadata": {},
   "source": [
    "## 手动生成node"
   ]
  },
  {
   "cell_type": "code",
   "execution_count": 25,
   "id": "d2842b21-c43b-4b0a-8026-d9949d9e12ae",
   "metadata": {},
   "outputs": [
    {
     "data": {
      "text/plain": [
       "TextNode(id_='iphone15-1', embedding=None, metadata={}, excluded_embed_metadata_keys=[], excluded_llm_metadata_keys=[], relationships={<NodeRelationship.NEXT: '3'>: RelatedNodeInfo(node_id='iphone15-2', node_type=None, metadata={}, hash=None)}, text='iPhone 15和iPhone 15 Plus是由Apple Inc.设计、开发和销售的智能手机。', start_char_idx=None, end_char_idx=None, text_template='{metadata_str}\\n\\n{content}', metadata_template='{key}: {value}', metadata_seperator='\\n')"
      ]
     },
     "execution_count": 25,
     "metadata": {},
     "output_type": "execute_result"
    }
   ],
   "source": [
    "from llama_index.core.schema import TextNode, NodeRelationship, RelatedNodeInfo\n",
    "\n",
    "node1 = TextNode(text=\"iPhone 15和iPhone 15 Plus是由Apple Inc.设计、开发和销售的智能手机。\", id_=\"iphone15-1\")\n",
    "node2 = TextNode(text=\"它们是第十七代、也是当前一代iPhone，接替iPhone 14 和 iPhone 14 Plus。\", id_=\"iphone15-2\")\n",
    "# set relationships\n",
    "node1.relationships[NodeRelationship.NEXT] = RelatedNodeInfo(\n",
    "    node_id=node2.node_id\n",
    ")\n",
    "node2.relationships[NodeRelationship.PREVIOUS] = RelatedNodeInfo(\n",
    "    node_id=node1.node_id\n",
    ")\n",
    "nodes = [node1, node2]\n",
    "\n",
    "node1"
   ]
  },
  {
   "cell_type": "markdown",
   "id": "cec52f5e-2016-40bc-9eba-0824b8a45726",
   "metadata": {},
   "source": [
    "## 元数据提取"
   ]
  },
  {
   "cell_type": "code",
   "execution_count": 66,
   "id": "4f81dad6-b61b-4be8-abfc-5ab5d0b9a9d6",
   "metadata": {},
   "outputs": [
    {
     "name": "stdout",
     "output_type": "stream",
     "text": [
      "CPU times: user 185 µs, sys: 18 µs, total: 203 µs\n",
      "Wall time: 206 µs\n"
     ]
    }
   ],
   "source": [
    "%%time\n",
    "\n",
    "from llama_index.llms.openai_like import OpenAILike\n",
    "from llama_index.core import Settings\n",
    "\n",
    "llm = OpenAILike(model=\"qwen2-7b-6k\", \n",
    "                 api_base=\"http://192.168.0.72:3000/v1\", \n",
    "                 api_key=\"sk-bJP6QSnUfjAYeYeE505d3eBf63A643BeB0B8E350Df9b7750\",\n",
    "                 is_chat_model=True,\n",
    "                 temperature=0.1\n",
    "                )\n",
    "Settings.llm=llm"
   ]
  },
  {
   "cell_type": "code",
   "execution_count": 109,
   "id": "20257f04-7c6a-44a2-bf0f-b15529424356",
   "metadata": {},
   "outputs": [
    {
     "name": "stdout",
     "output_type": "stream",
     "text": [
      "CPU times: user 193 µs, sys: 0 ns, total: 193 µs\n",
      "Wall time: 196 µs\n"
     ]
    }
   ],
   "source": [
    "%%time\n",
    "\n",
    "from llama_index.core.extractors import (\n",
    "    TitleExtractor,\n",
    "    QuestionsAnsweredExtractor,\n",
    "    SummaryExtractor,\n",
    ")\n",
    "from llama_index.core.node_parser import TokenTextSplitter\n",
    "\n",
    "title_extractor = TitleExtractor(nodes=5)\n",
    "qa_extractor = QuestionsAnsweredExtractor(questions=3)"
   ]
  },
  {
   "cell_type": "markdown",
   "id": "f27353cd-6e45-44d5-a168-647880b72aab",
   "metadata": {},
   "source": [
    "### 生成英文元数据"
   ]
  },
  {
   "cell_type": "code",
   "execution_count": 91,
   "id": "4642e964-aaf2-4e87-9474-5fad2e8786fb",
   "metadata": {},
   "outputs": [
    {
     "data": {
      "application/vnd.jupyter.widget-view+json": {
       "model_id": "eb2b5bbcc727472aaf51208306b59ad7",
       "version_major": 2,
       "version_minor": 0
      },
      "text/plain": [
       "Parsing nodes:   0%|          | 0/1 [00:00<?, ?it/s]"
      ]
     },
     "metadata": {},
     "output_type": "display_data"
    },
    {
     "name": "stderr",
     "output_type": "stream",
     "text": [
      "100% 1/1 [00:00<00:00,  1.56it/s]\n",
      "100% 1/1 [00:05<00:00,  5.61s/it]\n",
      "100% 1/1 [00:06<00:00,  7.00s/it]"
     ]
    },
    {
     "name": "stdout",
     "output_type": "stream",
     "text": [
      "CPU times: user 185 ms, sys: 4.02 ms, total: 189 ms\n",
      "Wall time: 14 s\n"
     ]
    },
    {
     "name": "stderr",
     "output_type": "stream",
     "text": [
      "\n"
     ]
    },
    {
     "data": {
      "text/plain": [
       "1"
      ]
     },
     "execution_count": 91,
     "metadata": {},
     "output_type": "execute_result"
    }
   ],
   "source": [
    "%%time\n",
    "\n",
    "import nest_asyncio \n",
    "nest_asyncio.apply()\n",
    "\n",
    "documents = SimpleDirectoryReader(input_files=[\"./iphone.txt\"]).load_data()\n",
    "\n",
    "from llama_index.core.ingestion import IngestionPipeline\n",
    "\n",
    "pipeline = IngestionPipeline(\n",
    "    transformations=[\n",
    "        SentenceSplitter(), \n",
    "        title_extractor, \n",
    "        qa_extractor,\n",
    "        SummaryExtractor(),\n",
    "\n",
    "    ]\n",
    ")\n",
    "\n",
    "nodes = pipeline.run(\n",
    "    documents=documents,\n",
    "    in_place=True,\n",
    "    show_progress=True,\n",
    ")\n",
    "\n",
    "len(nodes)"
   ]
  },
  {
   "cell_type": "code",
   "execution_count": 92,
   "id": "f6bbbdf9-c716-40e0-8263-9bd6f8c14c0d",
   "metadata": {},
   "outputs": [
    {
     "data": {
      "text/plain": [
       "TextNode(id_='031f851b-3858-4c77-8f1a-62609b8b5a91', embedding=None, metadata={'file_path': 'iphone.txt', 'file_name': 'iphone.txt', 'file_type': 'text/plain', 'file_size': 563, 'creation_date': '2024-06-08', 'last_modified_date': '2024-06-08', 'document_title': '\"The Evolution of Apple\\'s iPhone 15 Series: Embracing USB-C and Unveiling the Latest Flagship Innovations\"', 'questions_this_excerpt_can_answer': \"1. **What is the significance of the iPhone 15 series in Apple's product line?**\\n   The context provides information about the iPhone 15 and iPhone 15 Plus being part of the current generation, succeeding the iPhone 14 series. It highlights their role as the latest flagship devices from Apple Inc., which were introduced alongside more expensive models like the iPhone 15 Pro and Pro Max.\\n\\n2. **When was the release date for the iPhone 15 series?**\\n   The document specifies that the iPhone 15 series was released on September 22, 2023, following a pre-order period starting from September 15, 2023. This information is crucial for understanding the timing of Apple's product launches and can be used to gauge consumer anticipation or market trends.\\n\\n3. **What technological change did the iPhone 15 series introduce that was influenced by EU directives?**\\n   The context mentions that the iPhone 15 series marked a significant shift in adopting USB-C as the primary charging and data transfer connector, replacing Apple's proprietary Lightning connector. This change aligns with EU directives aimed at promoting interoperability and reducing electronic waste, indicating how global regulations impact technological standards in consumer electronics.\", 'section_summary': \"The section discusses the introduction of Apple's iPhone 15 series, which includes models such as the iPhone 15 and iPhone 15 Plus. These devices are part of the current generation succeeding the iPhone 14 series and were unveiled alongside more expensive models like the iPhone 15 Pro and Pro Max during an event held on September 22, 2023. The release date for pre-orders was set for September 15, 2023. A significant technological change with this series is the adoption of USB-C as the primary charging and data transfer connector, which aligns with EU directives aimed at promoting interoperability and reducing electronic waste.\\n\\nKey topics include:\\n1. **Significance of iPhone 15 Series**: The devices are considered flagship models from Apple Inc., representing the latest in their product line.\\n2. **Release Date**: The iPhone 15 series was released on September 22, 2023, following a pre-order period starting from September 15, 2023.\\n3. **Technological Change**: The introduction of USB-C as the charging and data transfer connector in response to EU directives influencing technological standards.\\n\\nKey entities mentioned are:\\n- iPhone 15 series (including iPhone 15 and iPhone 15 Plus)\\n- Apple Inc.\\n- iPhone 14 series\\n- iPhone 15 Pro and Pro Max\\n- September 2023 event at Apple Park, California\\n- EU directives on electronic waste reduction and interoperability\"}, excluded_embed_metadata_keys=['file_name', 'file_type', 'file_size', 'creation_date', 'last_modified_date', 'last_accessed_date'], excluded_llm_metadata_keys=['file_name', 'file_type', 'file_size', 'creation_date', 'last_modified_date', 'last_accessed_date'], relationships={<NodeRelationship.SOURCE: '1'>: RelatedNodeInfo(node_id='2ca65a9d-7658-4eb4-909e-9f49a6168985', node_type=<ObjectType.DOCUMENT: '4'>, metadata={'file_path': 'iphone.txt', 'file_name': 'iphone.txt', 'file_type': 'text/plain', 'file_size': 563, 'creation_date': '2024-06-08', 'last_modified_date': '2024-06-08'}, hash='f66b58c209e431dfaccf40d308bc218c807a6bf6d560346329cec1e46721241b')}, text='iPhone 15和iPhone 15 Plus是由Apple Inc.设计、开发和销售的智能手机。它们是第十七代、也是当前一代iPhone，接替iPhone 14 和 iPhone 14 Plus。这些设备于 2023 年 9 月 12 日在加利福尼亚州库比蒂诺Apple Park举行的Apple 活动期间与价格较高的iPhone 15 Pro 和 15 Pro Max一起发布。预订于 2023 年 9 月 15 日开始，这些设备于 2023 年 9 月 22 日上市。与 iPhone 15 Pro 和 Pro Max 一样，15 和 15 Plus 是第一批用USB-C取代专有Lightning连接器的iPhone遵守欧盟的指令。', start_char_idx=0, end_char_idx=321, text_template='[Excerpt from document]\\n{metadata_str}\\nExcerpt:\\n-----\\n{content}\\n-----\\n', metadata_template='{key}: {value}', metadata_seperator='\\n')"
      ]
     },
     "execution_count": 92,
     "metadata": {},
     "output_type": "execute_result"
    }
   ],
   "source": [
    "nodes[0]"
   ]
  },
  {
   "cell_type": "code",
   "execution_count": 93,
   "id": "219670ba-78f3-4f50-b8b3-94a8f61b539f",
   "metadata": {},
   "outputs": [
    {
     "data": {
      "text/plain": [
       "{'file_path': 'iphone.txt',\n",
       " 'file_name': 'iphone.txt',\n",
       " 'file_type': 'text/plain',\n",
       " 'file_size': 563,\n",
       " 'creation_date': '2024-06-08',\n",
       " 'last_modified_date': '2024-06-08',\n",
       " 'document_title': '\"The Evolution of Apple\\'s iPhone 15 Series: Embracing USB-C and Unveiling the Latest Flagship Innovations\"',\n",
       " 'questions_this_excerpt_can_answer': \"1. **What is the significance of the iPhone 15 series in Apple's product line?**\\n   The context provides information about the iPhone 15 and iPhone 15 Plus being part of the current generation, succeeding the iPhone 14 series. It highlights their role as the latest flagship devices from Apple Inc., which were introduced alongside more expensive models like the iPhone 15 Pro and Pro Max.\\n\\n2. **When was the release date for the iPhone 15 series?**\\n   The document specifies that the iPhone 15 series was released on September 22, 2023, following a pre-order period starting from September 15, 2023. This information is crucial for understanding the timing of Apple's product launches and can be used to gauge consumer anticipation or market trends.\\n\\n3. **What technological change did the iPhone 15 series introduce that was influenced by EU directives?**\\n   The context mentions that the iPhone 15 series marked a significant shift in adopting USB-C as the primary charging and data transfer connector, replacing Apple's proprietary Lightning connector. This change aligns with EU directives aimed at promoting interoperability and reducing electronic waste, indicating how global regulations impact technological standards in consumer electronics.\",\n",
       " 'section_summary': \"The section discusses the introduction of Apple's iPhone 15 series, which includes models such as the iPhone 15 and iPhone 15 Plus. These devices are part of the current generation succeeding the iPhone 14 series and were unveiled alongside more expensive models like the iPhone 15 Pro and Pro Max during an event held on September 22, 2023. The release date for pre-orders was set for September 15, 2023. A significant technological change with this series is the adoption of USB-C as the primary charging and data transfer connector, which aligns with EU directives aimed at promoting interoperability and reducing electronic waste.\\n\\nKey topics include:\\n1. **Significance of iPhone 15 Series**: The devices are considered flagship models from Apple Inc., representing the latest in their product line.\\n2. **Release Date**: The iPhone 15 series was released on September 22, 2023, following a pre-order period starting from September 15, 2023.\\n3. **Technological Change**: The introduction of USB-C as the charging and data transfer connector in response to EU directives influencing technological standards.\\n\\nKey entities mentioned are:\\n- iPhone 15 series (including iPhone 15 and iPhone 15 Plus)\\n- Apple Inc.\\n- iPhone 14 series\\n- iPhone 15 Pro and Pro Max\\n- September 2023 event at Apple Park, California\\n- EU directives on electronic waste reduction and interoperability\"}"
      ]
     },
     "execution_count": 93,
     "metadata": {},
     "output_type": "execute_result"
    }
   ],
   "source": [
    "nodes[0].metadata"
   ]
  },
  {
   "cell_type": "code",
   "execution_count": 94,
   "id": "255dd2eb-17e6-4cc0-8a42-91de3856b869",
   "metadata": {},
   "outputs": [
    {
     "data": {
      "text/plain": [
       "'\"The Evolution of Apple\\'s iPhone 15 Series: Embracing USB-C and Unveiling the Latest Flagship Innovations\"'"
      ]
     },
     "execution_count": 94,
     "metadata": {},
     "output_type": "execute_result"
    }
   ],
   "source": [
    "nodes[0].metadata['document_title']"
   ]
  },
  {
   "cell_type": "code",
   "execution_count": 97,
   "id": "5e1a39d2-16e6-4c6e-879c-6443424d5914",
   "metadata": {},
   "outputs": [
    {
     "data": {
      "text/plain": [
       "\"1. **What is the significance of the iPhone 15 series in Apple's product line?**\\n   The context provides information about the iPhone 15 and iPhone 15 Plus being part of the current generation, succeeding the iPhone 14 series. It highlights their role as the latest flagship devices from Apple Inc., which were introduced alongside more expensive models like the iPhone 15 Pro and Pro Max.\\n\\n2. **When was the release date for the iPhone 15 series?**\\n   The document specifies that the iPhone 15 series was released on September 22, 2023, following a pre-order period starting from September 15, 2023. This information is crucial for understanding the timing of Apple's product launches and can be used to gauge consumer anticipation or market trends.\\n\\n3. **What technological change did the iPhone 15 series introduce that was influenced by EU directives?**\\n   The context mentions that the iPhone 15 series marked a significant shift in adopting USB-C as the primary charging and data transfer connector, replacing Apple's proprietary Lightning connector. This change aligns with EU directives aimed at promoting interoperability and reducing electronic waste, indicating how global regulations impact technological standards in consumer electronics.\""
      ]
     },
     "execution_count": 97,
     "metadata": {},
     "output_type": "execute_result"
    }
   ],
   "source": [
    "nodes[0].metadata['questions_this_excerpt_can_answer']"
   ]
  },
  {
   "cell_type": "code",
   "execution_count": 96,
   "id": "0362cdc1-00c3-437c-ab03-5b51c2644d5c",
   "metadata": {},
   "outputs": [
    {
     "data": {
      "text/plain": [
       "\"The section discusses the introduction of Apple's iPhone 15 series, which includes models such as the iPhone 15 and iPhone 15 Plus. These devices are part of the current generation succeeding the iPhone 14 series and were unveiled alongside more expensive models like the iPhone 15 Pro and Pro Max during an event held on September 22, 2023. The release date for pre-orders was set for September 15, 2023. A significant technological change with this series is the adoption of USB-C as the primary charging and data transfer connector, which aligns with EU directives aimed at promoting interoperability and reducing electronic waste.\\n\\nKey topics include:\\n1. **Significance of iPhone 15 Series**: The devices are considered flagship models from Apple Inc., representing the latest in their product line.\\n2. **Release Date**: The iPhone 15 series was released on September 22, 2023, following a pre-order period starting from September 15, 2023.\\n3. **Technological Change**: The introduction of USB-C as the charging and data transfer connector in response to EU directives influencing technological standards.\\n\\nKey entities mentioned are:\\n- iPhone 15 series (including iPhone 15 and iPhone 15 Plus)\\n- Apple Inc.\\n- iPhone 14 series\\n- iPhone 15 Pro and Pro Max\\n- September 2023 event at Apple Park, California\\n- EU directives on electronic waste reduction and interoperability\""
      ]
     },
     "execution_count": 96,
     "metadata": {},
     "output_type": "execute_result"
    }
   ],
   "source": [
    "nodes[0].metadata['section_summary']"
   ]
  },
  {
   "cell_type": "markdown",
   "id": "8ecc2c6d-d573-44fd-8928-98a466daabdd",
   "metadata": {},
   "source": [
    "### 生成中文元数据"
   ]
  },
  {
   "cell_type": "code",
   "execution_count": 103,
   "id": "e9236c0d-fcbd-4ed2-ba00-0e2e433eac4f",
   "metadata": {},
   "outputs": [
    {
     "data": {
      "application/vnd.jupyter.widget-view+json": {
       "model_id": "9dfc4e16dffd42868d85c84f79f9fae4",
       "version_major": 2,
       "version_minor": 0
      },
      "text/plain": [
       "Parsing nodes:   0%|          | 0/1 [00:00<?, ?it/s]"
      ]
     },
     "metadata": {},
     "output_type": "display_data"
    },
    {
     "name": "stderr",
     "output_type": "stream",
     "text": [
      "100% 1/1 [00:00<00:00,  1.78it/s]\n",
      "100% 1/1 [00:01<00:00,  1.42s/it]\n",
      "100% 1/1 [00:05<00:00,  5.05s/it]"
     ]
    },
    {
     "name": "stdout",
     "output_type": "stream",
     "text": [
      "CPU times: user 95.1 ms, sys: 8.29 ms, total: 103 ms\n",
      "Wall time: 7.68 s\n"
     ]
    },
    {
     "name": "stderr",
     "output_type": "stream",
     "text": [
      "\n"
     ]
    },
    {
     "data": {
      "text/plain": [
       "1"
      ]
     },
     "execution_count": 103,
     "metadata": {},
     "output_type": "execute_result"
    }
   ],
   "source": [
    "%%time\n",
    "\n",
    "import nest_asyncio \n",
    "nest_asyncio.apply()\n",
    "\n",
    "documents = SimpleDirectoryReader(input_files=[\"./iphone.txt\"]).load_data()\n",
    "\n",
    "from llama_index.core.ingestion import IngestionPipeline\n",
    "\n",
    "pipeline = IngestionPipeline(\n",
    "    transformations=[\n",
    "        SentenceSplitter(), \n",
    "        title_extractor, \n",
    "        qa_extractor,\n",
    "        SummaryExtractor(),\n",
    "\n",
    "    ]\n",
    ")\n",
    "\n",
    "nodes = pipeline.run(\n",
    "    documents=documents,\n",
    "    in_place=True,\n",
    "    show_progress=True,\n",
    ")\n",
    "\n",
    "len(nodes)"
   ]
  },
  {
   "cell_type": "code",
   "execution_count": 104,
   "id": "a4aa5cbd-0c23-4b5a-adb2-433e85da5728",
   "metadata": {},
   "outputs": [
    {
     "data": {
      "text/plain": [
       "TextNode(id_='4b8926d6-40f7-4be3-bdd4-fcbbf0652372', embedding=None, metadata={'file_path': 'iphone.txt', 'file_name': 'iphone.txt', 'file_type': 'text/plain', 'file_size': 563, 'creation_date': '2024-06-08', 'last_modified_date': '2024-06-08', 'document_title': '\"Apple iPhone 15系列：2023年旗舰智能手机的发布与特色综述\"', 'questions_this_excerpt_can_answer': '1. iPhone 15系列的发布日期是什么时候？\\n2. iPhone 15和iPhone 15 Plus与更高配置的iPhone 15 Pro和Pro Max一起发布，它们在哪个地点发布的？\\n3. iPhone 15系列设备开始预订的时间是哪一天？', 'section_summary': '本节主要讨论了关于Apple iPhone 15系列的一些关键信息。主要内容包括：\\n\\n1. **发布日期**：2023年9月12日，在加利福尼亚州库比蒂诺的Apple Park举行的活动中，与更高配置的iPhone 15 Pro和Pro Max一同发布。\\n\\n2. **发布地点**：在位于美国加州库比蒂诺的Apple Park进行发布。\\n\\n3. **预订日期**：2023年9月15日开始接受预订。\\n\\n4. **上市日期**：这些设备于2023年9月22日正式上市。\\n\\n5. **产品系列**：包括iPhone 15和iPhone 15 Plus，它们是第十七代、也是当前一代的iPhone，取代了之前的iPhone 14 和 iPhone 14 Plus。\\n\\n6. **设计与技术更新**：遵循欧盟指令，首次使用USB-C连接器替代专有的Lightning连接器。\\n\\n这些信息共同构成了关于2023年旗舰智能手机Apple iPhone 15系列发布、配置和特点的概述。'}, excluded_embed_metadata_keys=['file_name', 'file_type', 'file_size', 'creation_date', 'last_modified_date', 'last_accessed_date'], excluded_llm_metadata_keys=['file_name', 'file_type', 'file_size', 'creation_date', 'last_modified_date', 'last_accessed_date'], relationships={<NodeRelationship.SOURCE: '1'>: RelatedNodeInfo(node_id='05c0f69f-763c-405c-8833-2e2ddd7d7a0b', node_type=<ObjectType.DOCUMENT: '4'>, metadata={'file_path': 'iphone.txt', 'file_name': 'iphone.txt', 'file_type': 'text/plain', 'file_size': 563, 'creation_date': '2024-06-08', 'last_modified_date': '2024-06-08'}, hash='f66b58c209e431dfaccf40d308bc218c807a6bf6d560346329cec1e46721241b')}, text='iPhone 15和iPhone 15 Plus是由Apple Inc.设计、开发和销售的智能手机。它们是第十七代、也是当前一代iPhone，接替iPhone 14 和 iPhone 14 Plus。这些设备于 2023 年 9 月 12 日在加利福尼亚州库比蒂诺Apple Park举行的Apple 活动期间与价格较高的iPhone 15 Pro 和 15 Pro Max一起发布。预订于 2023 年 9 月 15 日开始，这些设备于 2023 年 9 月 22 日上市。与 iPhone 15 Pro 和 Pro Max 一样，15 和 15 Plus 是第一批用USB-C取代专有Lightning连接器的iPhone遵守欧盟的指令。', start_char_idx=0, end_char_idx=321, text_template='[Excerpt from document]\\n{metadata_str}\\nExcerpt:\\n-----\\n{content}\\n-----\\n', metadata_template='{key}: {value}', metadata_seperator='\\n')"
      ]
     },
     "execution_count": 104,
     "metadata": {},
     "output_type": "execute_result"
    }
   ],
   "source": [
    "nodes[0]"
   ]
  },
  {
   "cell_type": "code",
   "execution_count": 105,
   "id": "469fb752-94e4-4cc2-97f1-1f07a6e317eb",
   "metadata": {},
   "outputs": [
    {
     "data": {
      "text/plain": [
       "'\"Apple iPhone 15系列：2023年旗舰智能手机的发布与特色综述\"'"
      ]
     },
     "execution_count": 105,
     "metadata": {},
     "output_type": "execute_result"
    }
   ],
   "source": [
    "nodes[0].metadata['document_title']"
   ]
  },
  {
   "cell_type": "code",
   "execution_count": 106,
   "id": "70f38327-bb6e-44a9-969c-6b67a39d1a51",
   "metadata": {},
   "outputs": [
    {
     "data": {
      "text/plain": [
       "'1. iPhone 15系列的发布日期是什么时候？\\n2. iPhone 15和iPhone 15 Plus与更高配置的iPhone 15 Pro和Pro Max一起发布，它们在哪个地点发布的？\\n3. iPhone 15系列设备开始预订的时间是哪一天？'"
      ]
     },
     "execution_count": 106,
     "metadata": {},
     "output_type": "execute_result"
    }
   ],
   "source": [
    "nodes[0].metadata['questions_this_excerpt_can_answer']"
   ]
  },
  {
   "cell_type": "code",
   "execution_count": 107,
   "id": "41d18a27-dcc8-4a87-9b77-5b25a1e5e6d2",
   "metadata": {},
   "outputs": [
    {
     "data": {
      "text/plain": [
       "'本节主要讨论了关于Apple iPhone 15系列的一些关键信息。主要内容包括：\\n\\n1. **发布日期**：2023年9月12日，在加利福尼亚州库比蒂诺的Apple Park举行的活动中，与更高配置的iPhone 15 Pro和Pro Max一同发布。\\n\\n2. **发布地点**：在位于美国加州库比蒂诺的Apple Park进行发布。\\n\\n3. **预订日期**：2023年9月15日开始接受预订。\\n\\n4. **上市日期**：这些设备于2023年9月22日正式上市。\\n\\n5. **产品系列**：包括iPhone 15和iPhone 15 Plus，它们是第十七代、也是当前一代的iPhone，取代了之前的iPhone 14 和 iPhone 14 Plus。\\n\\n6. **设计与技术更新**：遵循欧盟指令，首次使用USB-C连接器替代专有的Lightning连接器。\\n\\n这些信息共同构成了关于2023年旗舰智能手机Apple iPhone 15系列发布、配置和特点的概述。'"
      ]
     },
     "execution_count": 107,
     "metadata": {},
     "output_type": "execute_result"
    }
   ],
   "source": [
    "nodes[0].metadata['section_summary']"
   ]
  },
  {
   "cell_type": "markdown",
   "id": "4c87c010-c412-4be1-bd9b-d309f10f982a",
   "metadata": {},
   "source": [
    "### 可用的 Extractor"
   ]
  },
  {
   "cell_type": "markdown",
   "id": "cfe3167b-3512-4604-8ad8-d60bdbc2b6e0",
   "metadata": {},
   "source": [
    "- TitleExtractor: 标题，指定针对几个node\n",
    "- QuestionsAnsweredExtractor：问答，指定生成几个问答\n",
    "- SummaryExtractor：总结"
   ]
  },
  {
   "cell_type": "markdown",
   "id": "9edcc7e5-ce7e-4d3e-b5dd-e01ca561c703",
   "metadata": {},
   "source": [
    "### 有问题的 Extractor"
   ]
  },
  {
   "cell_type": "markdown",
   "id": "e5992a21-61a8-40f7-8bac-36a0915a3f87",
   "metadata": {},
   "source": [
    "#### EntityExtractor"
   ]
  },
  {
   "cell_type": "markdown",
   "id": "a88deb0e-125e-409b-abe1-ea2c6be44b0e",
   "metadata": {},
   "source": [
    "##### 英文文章是可以的"
   ]
  },
  {
   "cell_type": "code",
   "execution_count": null,
   "id": "2328dcd1-4314-45be-a955-ea457584b53f",
   "metadata": {},
   "outputs": [],
   "source": [
    "单独测试，可能适合英文环境。"
   ]
  },
  {
   "cell_type": "code",
   "execution_count": 110,
   "id": "bebd97d7-0d8a-439d-9210-90211121e519",
   "metadata": {},
   "outputs": [
    {
     "name": "stdout",
     "output_type": "stream",
     "text": [
      "CPU times: user 12.7 ms, sys: 23.8 ms, total: 36.4 ms\n",
      "Wall time: 6.51 s\n"
     ]
    }
   ],
   "source": [
    "%%time\n",
    "%%capture\n",
    "\n",
    "%pip install llama-index-extractors-entity"
   ]
  },
  {
   "cell_type": "code",
   "execution_count": 11,
   "id": "8a933071-df56-4032-9892-ecd869c52fbe",
   "metadata": {},
   "outputs": [
    {
     "name": "stdout",
     "output_type": "stream",
     "text": [
      "CPU times: user 1.27 s, sys: 261 ms, total: 1.53 s\n",
      "Wall time: 1.98 s\n"
     ]
    }
   ],
   "source": [
    "%%time\n",
    "\n",
    "from llama_index.extractors.entity import EntityExtractor\n",
    "import os\n",
    "\n",
    "# 设置HTTP代理\n",
    "os.environ['http_proxy'] = 'http://192.168.0.134:7890'\n",
    "os.environ['https_proxy'] = 'http://192.168.0.134:7890'\n",
    "\n",
    "entity_extractor = EntityExtractor(prediction_threshold=0.5,\n",
    "    label_entities=True,  # include the entity label in the metadata (can be erroneous)\n",
    "    device=\"cuda\",)"
   ]
  },
  {
   "cell_type": "code",
   "execution_count": 17,
   "id": "82967c6c-aab5-4a45-94bf-bd2f0985830a",
   "metadata": {},
   "outputs": [
    {
     "data": {
      "application/vnd.jupyter.widget-view+json": {
       "model_id": "8170d511c6de4a35b8ebf0b69dc88c36",
       "version_major": 2,
       "version_minor": 0
      },
      "text/plain": [
       "Parsing nodes:   0%|          | 0/1 [00:00<?, ?it/s]"
      ]
     },
     "metadata": {},
     "output_type": "display_data"
    },
    {
     "data": {
      "application/vnd.jupyter.widget-view+json": {
       "model_id": "bd0a8b8cdb9a48269390f788d17ac65e",
       "version_major": 2,
       "version_minor": 0
      },
      "text/plain": [
       "Extracting entities:   0%|          | 0/1 [00:00<?, ?it/s]"
      ]
     },
     "metadata": {},
     "output_type": "display_data"
    },
    {
     "name": "stdout",
     "output_type": "stream",
     "text": [
      "CPU times: user 182 ms, sys: 3.87 ms, total: 186 ms\n",
      "Wall time: 165 ms\n"
     ]
    },
    {
     "data": {
      "text/plain": [
       "1"
      ]
     },
     "execution_count": 17,
     "metadata": {},
     "output_type": "execute_result"
    }
   ],
   "source": [
    "%%time\n",
    "\n",
    "from llama_index.core.node_parser import SentenceSplitter\n",
    "\n",
    "import nest_asyncio \n",
    "nest_asyncio.apply()\n",
    "\n",
    "documents = SimpleDirectoryReader(input_files=[\"./iphone_en.txt\"]).load_data()\n",
    "\n",
    "from llama_index.core.ingestion import IngestionPipeline\n",
    "\n",
    "pipeline = IngestionPipeline(\n",
    "    transformations=[\n",
    "        SentenceSplitter(), \n",
    "        entity_extractor,\n",
    "        # title_extractor, \n",
    "        # qa_extractor,\n",
    "        # SummaryExtractor(),\n",
    "    ]\n",
    ")\n",
    "\n",
    "nodes = pipeline.run(\n",
    "    documents=documents,\n",
    "    in_place=True,\n",
    "    show_progress=True,\n",
    ")\n",
    "\n",
    "len(nodes)"
   ]
  },
  {
   "cell_type": "code",
   "execution_count": 18,
   "id": "a79c1074-91b3-4b6d-a813-948e31089483",
   "metadata": {},
   "outputs": [
    {
     "data": {
      "text/plain": [
       "TextNode(id_='44cd3b22-c12a-459c-9b06-ab94e416e01d', embedding=None, metadata={'file_path': 'iphone_en.txt', 'file_name': 'iphone_en.txt', 'file_type': 'text/plain', 'file_size': 645, 'creation_date': '2024-06-11', 'last_modified_date': '2024-06-11', 'instruments': ['iPhone 14', 'iPhone 14 Plus', 'Pro Max', 'iPhone 15 Plus', '15 Pro Max', 'iPhone 15', 'iPhone 15 Pro'], 'organizations': ['Apple Inc', 'European Union'], 'events': ['Apple Event'], 'locations': ['Apple Park', 'Cupertino', 'California']}, excluded_embed_metadata_keys=['file_name', 'file_type', 'file_size', 'creation_date', 'last_modified_date', 'last_accessed_date'], excluded_llm_metadata_keys=['file_name', 'file_type', 'file_size', 'creation_date', 'last_modified_date', 'last_accessed_date'], relationships={<NodeRelationship.SOURCE: '1'>: RelatedNodeInfo(node_id='9445d119-9095-4e00-ba37-2c6cf6881fdb', node_type=<ObjectType.DOCUMENT: '4'>, metadata={'file_path': 'iphone_en.txt', 'file_name': 'iphone_en.txt', 'file_type': 'text/plain', 'file_size': 645, 'creation_date': '2024-06-11', 'last_modified_date': '2024-06-11'}, hash='8f236099cdd408869666aff138724c6e68907fe27bce06f111d77ece382f9e19')}, text='The iPhone 15 and iPhone 15 Plus are smartphones designed, developed, and marketed by Apple Inc. They are the seventeenth and current generation of iPhones, succeeding the iPhone 14 and iPhone 14 Plus. The devices were announced on September 12, 2023, during the Apple Event at Apple Park in Cupertino, California alongside the higher-priced iPhone 15 Pro and 15 Pro Max. Pre-orders began on September 15, 2023, and the devices were made available on September 22, 2023. Like the iPhone 15 Pro and Pro Max, the 15 and 15 Plus are the first iPhones to replace the proprietary Lightning connector with USB-C to comply with European Union mandates.', start_char_idx=0, end_char_idx=645, text_template='[Excerpt from document]\\n{metadata_str}\\nExcerpt:\\n-----\\n{content}\\n-----\\n', metadata_template='{key}: {value}', metadata_seperator='\\n')"
      ]
     },
     "execution_count": 18,
     "metadata": {},
     "output_type": "execute_result"
    }
   ],
   "source": [
    "nodes[0]"
   ]
  },
  {
   "cell_type": "code",
   "execution_count": 19,
   "id": "ca98eb4c-2856-4fe3-a8b0-fe59aa41ffd7",
   "metadata": {},
   "outputs": [
    {
     "data": {
      "text/plain": [
       "{'file_path': 'iphone_en.txt',\n",
       " 'file_name': 'iphone_en.txt',\n",
       " 'file_type': 'text/plain',\n",
       " 'file_size': 645,\n",
       " 'creation_date': '2024-06-11',\n",
       " 'last_modified_date': '2024-06-11',\n",
       " 'instruments': ['iPhone 14',\n",
       "  'iPhone 14 Plus',\n",
       "  'Pro Max',\n",
       "  'iPhone 15 Plus',\n",
       "  '15 Pro Max',\n",
       "  'iPhone 15',\n",
       "  'iPhone 15 Pro'],\n",
       " 'organizations': ['Apple Inc', 'European Union'],\n",
       " 'events': ['Apple Event'],\n",
       " 'locations': ['Apple Park', 'Cupertino', 'California']}"
      ]
     },
     "execution_count": 19,
     "metadata": {},
     "output_type": "execute_result"
    }
   ],
   "source": [
    "nodes[0].metadata"
   ]
  },
  {
   "cell_type": "markdown",
   "id": "3a28491b-60be-4a7b-9698-0d8e4163ed7d",
   "metadata": {},
   "source": [
    "##### 中文就差了很多，基本不可用"
   ]
  },
  {
   "cell_type": "code",
   "execution_count": 20,
   "id": "15046181-2a49-4d08-9b6d-24f6418feb91",
   "metadata": {},
   "outputs": [
    {
     "data": {
      "application/vnd.jupyter.widget-view+json": {
       "model_id": "70a21a187b2347f2adf58e4f3f3f99bc",
       "version_major": 2,
       "version_minor": 0
      },
      "text/plain": [
       "Parsing nodes:   0%|          | 0/1 [00:00<?, ?it/s]"
      ]
     },
     "metadata": {},
     "output_type": "display_data"
    },
    {
     "data": {
      "application/vnd.jupyter.widget-view+json": {
       "model_id": "2d216fb787e04a55a0818a013af8f776",
       "version_major": 2,
       "version_minor": 0
      },
      "text/plain": [
       "Extracting entities:   0%|          | 0/1 [00:00<?, ?it/s]"
      ]
     },
     "metadata": {},
     "output_type": "display_data"
    },
    {
     "name": "stdout",
     "output_type": "stream",
     "text": [
      "CPU times: user 113 ms, sys: 4.43 ms, total: 118 ms\n",
      "Wall time: 104 ms\n"
     ]
    },
    {
     "data": {
      "text/plain": [
       "1"
      ]
     },
     "execution_count": 20,
     "metadata": {},
     "output_type": "execute_result"
    }
   ],
   "source": [
    "%%time\n",
    "\n",
    "from llama_index.core.node_parser import SentenceSplitter\n",
    "\n",
    "import nest_asyncio \n",
    "nest_asyncio.apply()\n",
    "\n",
    "documents = SimpleDirectoryReader(input_files=[\"./iphone.txt\"]).load_data()\n",
    "\n",
    "from llama_index.core.ingestion import IngestionPipeline\n",
    "\n",
    "pipeline = IngestionPipeline(\n",
    "    transformations=[\n",
    "        SentenceSplitter(), \n",
    "        entity_extractor,\n",
    "        # title_extractor, \n",
    "        # qa_extractor,\n",
    "        # SummaryExtractor(),\n",
    "    ]\n",
    ")\n",
    "\n",
    "nodes = pipeline.run(\n",
    "    documents=documents,\n",
    "    in_place=True,\n",
    "    show_progress=True,\n",
    ")\n",
    "\n",
    "len(nodes)"
   ]
  },
  {
   "cell_type": "code",
   "execution_count": 21,
   "id": "979ed466-36ce-499d-bde5-8e638fffd3e8",
   "metadata": {},
   "outputs": [
    {
     "data": {
      "text/plain": [
       "TextNode(id_='460c630c-4e60-4fce-9d8a-b1d85b124acb', embedding=None, metadata={'file_path': 'iphone.txt', 'file_name': 'iphone.txt', 'file_type': 'text/plain', 'file_size': 563, 'creation_date': '2024-06-08', 'last_modified_date': '2024-06-08', 'instruments': ['Pro Max']}, excluded_embed_metadata_keys=['file_name', 'file_type', 'file_size', 'creation_date', 'last_modified_date', 'last_accessed_date'], excluded_llm_metadata_keys=['file_name', 'file_type', 'file_size', 'creation_date', 'last_modified_date', 'last_accessed_date'], relationships={<NodeRelationship.SOURCE: '1'>: RelatedNodeInfo(node_id='503c41ab-eb87-4ad7-8aad-a010e095de12', node_type=<ObjectType.DOCUMENT: '4'>, metadata={'file_path': 'iphone.txt', 'file_name': 'iphone.txt', 'file_type': 'text/plain', 'file_size': 563, 'creation_date': '2024-06-08', 'last_modified_date': '2024-06-08'}, hash='f66b58c209e431dfaccf40d308bc218c807a6bf6d560346329cec1e46721241b')}, text='iPhone 15和iPhone 15 Plus是由Apple Inc.设计、开发和销售的智能手机。它们是第十七代、也是当前一代iPhone，接替iPhone 14 和 iPhone 14 Plus。这些设备于 2023 年 9 月 12 日在加利福尼亚州库比蒂诺Apple Park举行的Apple 活动期间与价格较高的iPhone 15 Pro 和 15 Pro Max一起发布。预订于 2023 年 9 月 15 日开始，这些设备于 2023 年 9 月 22 日上市。与 iPhone 15 Pro 和 Pro Max 一样，15 和 15 Plus 是第一批用USB-C取代专有Lightning连接器的iPhone遵守欧盟的指令。', start_char_idx=0, end_char_idx=321, text_template='[Excerpt from document]\\n{metadata_str}\\nExcerpt:\\n-----\\n{content}\\n-----\\n', metadata_template='{key}: {value}', metadata_seperator='\\n')"
      ]
     },
     "execution_count": 21,
     "metadata": {},
     "output_type": "execute_result"
    }
   ],
   "source": [
    "nodes[0]"
   ]
  },
  {
   "cell_type": "code",
   "execution_count": 22,
   "id": "320704e6-6ab7-409e-9d00-9b82aa5406b1",
   "metadata": {},
   "outputs": [
    {
     "data": {
      "text/plain": [
       "{'file_path': 'iphone.txt',\n",
       " 'file_name': 'iphone.txt',\n",
       " 'file_type': 'text/plain',\n",
       " 'file_size': 563,\n",
       " 'creation_date': '2024-06-08',\n",
       " 'last_modified_date': '2024-06-08',\n",
       " 'instruments': ['Pro Max']}"
      ]
     },
     "execution_count": 22,
     "metadata": {},
     "output_type": "execute_result"
    }
   ],
   "source": [
    "nodes[0].metadata"
   ]
  },
  {
   "cell_type": "code",
   "execution_count": null,
   "id": "0402bf5f-c92d-47cd-bc32-6b648a1e1634",
   "metadata": {},
   "outputs": [],
   "source": []
  }
 ],
 "metadata": {
  "kernelspec": {
   "display_name": "Python 3 (ipykernel)",
   "language": "python",
   "name": "python3"
  },
  "language_info": {
   "codemirror_mode": {
    "name": "ipython",
    "version": 3
   },
   "file_extension": ".py",
   "mimetype": "text/x-python",
   "name": "python",
   "nbconvert_exporter": "python",
   "pygments_lexer": "ipython3",
   "version": "3.10.12"
  }
 },
 "nbformat": 4,
 "nbformat_minor": 5
}
