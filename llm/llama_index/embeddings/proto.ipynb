{
 "cells": [
  {
   "cell_type": "markdown",
   "id": "ec8baa81-d5e2-4cfc-9337-a9c171161d9b",
   "metadata": {},
   "source": [
    "# 测试 embedding 中英文差异"
   ]
  },
  {
   "cell_type": "markdown",
   "id": "1a756009-9ab6-4e81-9237-cffb77ba058e",
   "metadata": {},
   "source": [
    "初步结论：\n",
    "\n",
    "- bge-m3直接使用数据是正常的，而且数据更好\n",
    "- 使用ollama-embedding方式的bge-m3，数据问题很大"
   ]
  },
  {
   "cell_type": "markdown",
   "id": "ed639477-4911-4b27-9d42-f98e9ca7c864",
   "metadata": {},
   "source": [
    "## 数据"
   ]
  },
  {
   "cell_type": "markdown",
   "id": "2ba9a8dd-5a70-4521-82a5-29beabf5a14e",
   "metadata": {},
   "source": [
    "### 英文数据"
   ]
  },
  {
   "cell_type": "code",
   "execution_count": 2,
   "id": "bbe17645-a538-43ac-b313-a3561cc669d4",
   "metadata": {},
   "outputs": [
    {
     "name": "stdout",
     "output_type": "stream",
     "text": [
      "CPU times: user 2 µs, sys: 0 ns, total: 2 µs\n",
      "Wall time: 3.58 µs\n"
     ]
    }
   ],
   "source": [
    "%%time\n",
    "\n",
    "simple_data_en={\n",
    "    \"titles\": [\"What is BGE M3?\", \"Defination of BM25\"],\n",
    "    \"desc\": \"BGE M3 is an embedding model supporting dense retrieval, lexical matching and multi-vector interaction.\"\n",
    "}"
   ]
  },
  {
   "cell_type": "code",
   "execution_count": 3,
   "id": "0ff244a9-8db4-408b-b6eb-4d30467f90f5",
   "metadata": {},
   "outputs": [
    {
     "name": "stdout",
     "output_type": "stream",
     "text": [
      "CPU times: user 3 µs, sys: 0 ns, total: 3 µs\n",
      "Wall time: 4.77 µs\n"
     ]
    }
   ],
   "source": [
    "%%time\n",
    "\n",
    "simple_data_en2={\n",
    "    \"titles\": [\"What concerns had many Americans expressed about Joe Biden before Thursday evening?\", \"How did the heatwave affect Mr. Ram's children and their comfort at home?\"],\n",
    "    \"desc\": \"Before Thursday evening, many Americans had expressed concerns about Joe Biden’s age and fitness for office. To say that this debate did not put those concerns to rest may be one of the greatest understatements of the year.\"\n",
    "}"
   ]
  },
  {
   "cell_type": "markdown",
   "id": "fcfcf620-5326-49a1-8a2e-617c4d7bbcd0",
   "metadata": {},
   "source": [
    "### 中文数据"
   ]
  },
  {
   "cell_type": "code",
   "execution_count": 4,
   "id": "88795a23-6910-4efb-97c7-78fd3d47316d",
   "metadata": {},
   "outputs": [
    {
     "name": "stdout",
     "output_type": "stream",
     "text": [
      "CPU times: user 2 µs, sys: 1e+03 ns, total: 3 µs\n",
      "Wall time: 3.58 µs\n"
     ]
    }
   ],
   "source": [
    "%%time\n",
    "\n",
    "simple_data_zh={\n",
    "    \"titles\": [\"和平共处五项原则为啥到现在还有重要意义？\", \"丰鸟科技在内蒙古主场地的资产清点和撤出的具体原因是什么？\",\"电池工厂火灾的具体起因是什么？\",\"莫迪计划推出的亲商改革具体包括哪些措施？\",\"金融监管总局支持信托公司和理财公司加大创业投资力度的具体措施有哪些？\"],\n",
    "    \"desc\": \"和平共处五项原则包括互相尊重主权和领土完整、互不侵犯、互不干涉内政、平等互利、和平共处，正式提出于1954年周恩来总理访问印度和缅甸期间。此后70年里，这些原则在新中国的外交实践中不仅未过时，反而历久弥新，作用愈加显著。其背景与新中国成立初期的特殊历史时期紧密相关，当时新政权制定了“另起炉灶”“打扫干净屋子再请客”和“一边倒”的三大外交方针，强调不承认旧政权的外交关系，清除帝国主义特权，并加入社会主义阵营。这些方针中贯穿了不可动摇的平等原则，这是中国民主革命的宗旨，体现了从旧时代走向新时代的转变。和平共处五项原则作为这一方针的产物，始终坚持平等原则，反映了中国反对霸权主义的坚定立场。\"\n",
    "}"
   ]
  },
  {
   "cell_type": "markdown",
   "id": "83b3c8dc-9d00-4996-ad59-313e2fb021b7",
   "metadata": {},
   "source": [
    "## bge-m3"
   ]
  },
  {
   "cell_type": "markdown",
   "id": "1ebe561d-51ef-4e85-a800-fea81d0631a8",
   "metadata": {},
   "source": [
    "### 使用官方 api"
   ]
  },
  {
   "cell_type": "code",
   "execution_count": 2,
   "id": "59beed0a-74f5-427f-85a0-183c143262fd",
   "metadata": {},
   "outputs": [
    {
     "name": "stdout",
     "output_type": "stream",
     "text": [
      "CPU times: user 2 s, sys: 1.7 s, total: 3.69 s\n",
      "Wall time: 21.2 s\n"
     ]
    }
   ],
   "source": [
    "%%time\n",
    "\n",
    "from FlagEmbedding import BGEM3FlagModel\n",
    "\n",
    "model = BGEM3FlagModel('/models/bge-m3',  \n",
    "                       use_fp16=True) # Setting use_fp16 to True speeds up computation with a slight performance degradation"
   ]
  },
  {
   "cell_type": "markdown",
   "id": "c4a47e78-d7fc-448f-98d1-314e787a8ef3",
   "metadata": {},
   "source": [
    "#### simple_data_en"
   ]
  },
  {
   "cell_type": "code",
   "execution_count": 4,
   "id": "361d4bf9-4d16-46d5-a317-8c88461cfabd",
   "metadata": {},
   "outputs": [
    {
     "name": "stdout",
     "output_type": "stream",
     "text": [
      "CPU times: user 398 ms, sys: 27.8 ms, total: 426 ms\n",
      "Wall time: 478 ms\n"
     ]
    }
   ],
   "source": [
    "%%time\n",
    "\n",
    "embeddings_1 = model.encode(simple_data_en['titles'], \n",
    "                            batch_size=12, \n",
    "                            max_length=8192, # If you don't need such a long length, you can set a smaller value to speed up the encoding process.\n",
    "                            )['dense_vecs']"
   ]
  },
  {
   "cell_type": "code",
   "execution_count": 5,
   "id": "6e8753af-22c2-48b7-b1ad-6207c54b1517",
   "metadata": {},
   "outputs": [
    {
     "name": "stdout",
     "output_type": "stream",
     "text": [
      "CPU times: user 21.9 ms, sys: 11.1 ms, total: 33 ms\n",
      "Wall time: 35.1 ms\n"
     ]
    }
   ],
   "source": [
    "%%time\n",
    "\n",
    "embeddings_2 = model.encode(simple_data_en['desc'])['dense_vecs']"
   ]
  },
  {
   "cell_type": "code",
   "execution_count": 6,
   "id": "d52de82f-92ee-46b0-b5f3-63d82e57850a",
   "metadata": {},
   "outputs": [
    {
     "name": "stdout",
     "output_type": "stream",
     "text": [
      "CPU times: user 39 µs, sys: 14 µs, total: 53 µs\n",
      "Wall time: 55.6 µs\n"
     ]
    },
    {
     "data": {
      "text/plain": [
       "array([0.626 , 0.3499], dtype=float16)"
      ]
     },
     "execution_count": 6,
     "metadata": {},
     "output_type": "execute_result"
    }
   ],
   "source": [
    "%%time\n",
    "\n",
    "similarity = embeddings_1 @ embeddings_2.T\n",
    "similarity"
   ]
  },
  {
   "cell_type": "markdown",
   "id": "95abaa32-133f-4be4-ba90-0e96f841e79e",
   "metadata": {},
   "source": [
    "#### simple_data_en2"
   ]
  },
  {
   "cell_type": "code",
   "execution_count": 11,
   "id": "168101b7-ef75-47ae-bb4b-818df883210c",
   "metadata": {},
   "outputs": [
    {
     "name": "stdout",
     "output_type": "stream",
     "text": [
      "CPU times: user 32.3 ms, sys: 71 µs, total: 32.4 ms\n",
      "Wall time: 31.3 ms\n"
     ]
    },
    {
     "data": {
      "text/plain": [
       "array([0.708 , 0.2905], dtype=float16)"
      ]
     },
     "execution_count": 11,
     "metadata": {},
     "output_type": "execute_result"
    }
   ],
   "source": [
    "%%time\n",
    "\n",
    "embeddings_1 = model.encode(simple_data_en2['titles'], \n",
    "                            batch_size=12, \n",
    "                            max_length=8192, # If you don't need such a long length, you can set a smaller value to speed up the encoding process.\n",
    "                            )['dense_vecs']\n",
    "\n",
    "embeddings_2 = model.encode(simple_data_en2['desc'])['dense_vecs']\n",
    "\n",
    "similarity = embeddings_1 @ embeddings_2.T\n",
    "similarity"
   ]
  },
  {
   "cell_type": "markdown",
   "id": "8fe78abf-417e-4cc2-b67f-2facf1761fd4",
   "metadata": {},
   "source": [
    "#### simple_data_zh"
   ]
  },
  {
   "cell_type": "code",
   "execution_count": 13,
   "id": "f2a7597e-5e88-462a-af7e-3e3d2745a0c5",
   "metadata": {},
   "outputs": [
    {
     "name": "stdout",
     "output_type": "stream",
     "text": [
      "CPU times: user 39.2 ms, sys: 594 µs, total: 39.8 ms\n",
      "Wall time: 38.5 ms\n"
     ]
    },
    {
     "data": {
      "text/plain": [
       "array([0.7095, 0.2084, 0.1761, 0.3816, 0.2766], dtype=float16)"
      ]
     },
     "execution_count": 13,
     "metadata": {},
     "output_type": "execute_result"
    }
   ],
   "source": [
    "%%time\n",
    "\n",
    "embeddings_1 = model.encode(simple_data_zh['titles'], \n",
    "                            batch_size=12, \n",
    "                            max_length=8192, # If you don't need such a long length, you can set a smaller value to speed up the encoding process.\n",
    "                            )['dense_vecs']\n",
    "\n",
    "embeddings_2 = model.encode(simple_data_zh['desc'])['dense_vecs']\n",
    "\n",
    "similarity = embeddings_1 @ embeddings_2.T\n",
    "similarity"
   ]
  },
  {
   "cell_type": "markdown",
   "id": "4cc31eab-3db5-4e84-b3d6-e804849493ba",
   "metadata": {},
   "source": [
    "### 使用llamaindex api"
   ]
  },
  {
   "cell_type": "code",
   "execution_count": null,
   "id": "5a85dbd2-4863-48fc-bb92-82374b03c441",
   "metadata": {},
   "outputs": [],
   "source": [
    "%%time\n",
    "\n",
    "from llama_index.embeddings.ollama import OllamaEmbedding\n",
    "\n",
    "ollama_embedding = OllamaEmbedding(\n",
    "    model_name=\"chatfire/bge-m3:q8_0\",\n",
    "    base_url=\"http://192.168.0.72:11435\",\n",
    "    ollama_additional_kwargs={\"mirostat\": 0},\n",
    ")"
   ]
  },
  {
   "cell_type": "markdown",
   "id": "7ba84d6c-fa8a-4dd9-9d63-326b8a70de29",
   "metadata": {},
   "source": [
    "#### 官方最简单示例"
   ]
  },
  {
   "cell_type": "code",
   "execution_count": null,
   "id": "921bed96-c42d-47f7-8372-d7f27e507e85",
   "metadata": {},
   "outputs": [
    {
     "data": {
      "application/vnd.jupyter.widget-view+json": {
       "model_id": "903d5bb6532e4fb6a63874815b82c569",
       "version_major": 2,
       "version_minor": 0
      },
      "text/plain": [
       "Generating embeddings:   0%|          | 0/2 [00:00<?, ?it/s]"
      ]
     },
     "metadata": {},
     "output_type": "display_data"
    },
    {
     "name": "stdout",
     "output_type": "stream",
     "text": [
      "CPU times: user 17 ms, sys: 0 ns, total: 17 ms\n",
      "Wall time: 299 ms\n"
     ]
    }
   ],
   "source": [
    "pass_embedding = ollama_embedding.get_text_embedding_batch(\n",
    "    [\"This is a passage!\", \"This is another passage\"], show_progress=True\n",
    ")\n",
    "\n",
    "query_embedding = ollama_embedding.get_query_embedding(\"Where is blue?\")"
   ]
  },
  {
   "cell_type": "code",
   "execution_count": 24,
   "id": "31700577-47ab-4dd9-ad8c-bc904d2a0cbd",
   "metadata": {},
   "outputs": [
    {
     "name": "stdout",
     "output_type": "stream",
     "text": [
      "Query embedding shape: 1024\n",
      "Documents embedding shape: 2\n",
      "Documents embedding shape: 1024\n",
      "CPU times: user 1.33 ms, sys: 241 µs, total: 1.57 ms\n",
      "Wall time: 1.29 ms\n"
     ]
    },
    {
     "data": {
      "text/plain": [
       "array([0.37509823, 0.32102673])"
      ]
     },
     "execution_count": 24,
     "metadata": {},
     "output_type": "execute_result"
    }
   ],
   "source": [
    "%%time\n",
    "\n",
    "from sklearn.metrics.pairwise import cosine_similarity\n",
    "import numpy as np\n",
    "\n",
    "# 打印嵌入的形状（用于调试）\n",
    "print(f\"Query embedding shape: {len(query_embedding)}\")\n",
    "print(f\"Documents embedding shape: {len(pass_embedding)}\")\n",
    "print(f\"Documents embedding shape: {len(pass_embedding[0])}\")\n",
    "\n",
    "# 计算余弦相似度\n",
    "similarities = cosine_similarity([query_embedding], pass_embedding)[0]\n",
    "\n",
    "similarities"
   ]
  },
  {
   "cell_type": "code",
   "execution_count": 25,
   "id": "01276965-7318-4803-97d4-60ed5bd1f2f8",
   "metadata": {},
   "outputs": [
    {
     "name": "stdout",
     "output_type": "stream",
     "text": [
      "CPU times: user 184 µs, sys: 0 ns, total: 184 µs\n",
      "Wall time: 178 µs\n"
     ]
    },
    {
     "data": {
      "text/plain": [
       "0.3750982311495818"
      ]
     },
     "execution_count": 25,
     "metadata": {},
     "output_type": "execute_result"
    }
   ],
   "source": [
    "%%time\n",
    "\n",
    "ollama_embedding.similarity(query_embedding,pass_embedding[0])"
   ]
  },
  {
   "cell_type": "code",
   "execution_count": 26,
   "id": "2c57ae30-824b-4fd1-84a8-7342ba2def7e",
   "metadata": {},
   "outputs": [
    {
     "data": {
      "text/plain": [
       "0.3210267275431935"
      ]
     },
     "execution_count": 26,
     "metadata": {},
     "output_type": "execute_result"
    }
   ],
   "source": [
    "ollama_embedding.similarity(query_embedding,pass_embedding[1])"
   ]
  },
  {
   "cell_type": "markdown",
   "id": "d5c9acdb-4699-45f9-8da6-1215e7ea29cb",
   "metadata": {},
   "source": [
    "#### simple_data_en"
   ]
  },
  {
   "cell_type": "code",
   "execution_count": 33,
   "id": "414e5e51-cab1-4717-b195-64eea03b51b6",
   "metadata": {},
   "outputs": [
    {
     "name": "stdout",
     "output_type": "stream",
     "text": [
      "CPU times: user 0 ns, sys: 10.2 ms, total: 10.2 ms\n",
      "Wall time: 313 ms\n"
     ]
    },
    {
     "data": {
      "text/plain": [
       "[0.7353921255077288, 0.44610423796588616]"
      ]
     },
     "execution_count": 33,
     "metadata": {},
     "output_type": "execute_result"
    }
   ],
   "source": [
    "%%time\n",
    "\n",
    "query_embeddings = [ollama_embedding.get_query_embedding(title) \n",
    "                    for title in simple_data_en['titles']]\n",
    "doc_embedding=ollama_embedding.get_text_embedding(simple_data_en['desc'])\n",
    "\n",
    "similarity=[ollama_embedding.similarity(query_embedding,doc_embedding)\n",
    "           for query_embedding in query_embeddings]\n",
    "similarity"
   ]
  },
  {
   "cell_type": "markdown",
   "id": "f2b9ce0e-34d8-45da-8fe2-70d167db7610",
   "metadata": {},
   "source": [
    "#### simple_data_en2"
   ]
  },
  {
   "cell_type": "code",
   "execution_count": 34,
   "id": "b3f3af49-49d8-40f6-b2fd-57a5c9e91deb",
   "metadata": {},
   "outputs": [
    {
     "name": "stdout",
     "output_type": "stream",
     "text": [
      "CPU times: user 9.61 ms, sys: 565 µs, total: 10.2 ms\n",
      "Wall time: 314 ms\n"
     ]
    },
    {
     "data": {
      "text/plain": [
       "[0.7294886528560206, 0.6175215888569838]"
      ]
     },
     "execution_count": 34,
     "metadata": {},
     "output_type": "execute_result"
    }
   ],
   "source": [
    "%%time\n",
    "\n",
    "query_embeddings = [ollama_embedding.get_query_embedding(title) \n",
    "                    for title in simple_data_en2['titles']]\n",
    "doc_embedding=ollama_embedding.get_text_embedding(simple_data_en2['desc'])\n",
    "\n",
    "similarity=[ollama_embedding.similarity(query_embedding,doc_embedding)\n",
    "           for query_embedding in query_embeddings]\n",
    "similarity"
   ]
  },
  {
   "cell_type": "markdown",
   "id": "694afbdc-d1a0-4124-a5fc-cdee57627e52",
   "metadata": {},
   "source": [
    "#### simple_data_zh"
   ]
  },
  {
   "cell_type": "code",
   "execution_count": 35,
   "id": "568468cd-2d25-4051-8a25-8ee440ed8740",
   "metadata": {},
   "outputs": [
    {
     "name": "stdout",
     "output_type": "stream",
     "text": [
      "CPU times: user 17.4 ms, sys: 1.37 ms, total: 18.7 ms\n",
      "Wall time: 630 ms\n"
     ]
    },
    {
     "data": {
      "text/plain": [
       "[0.34512684808687755,\n",
       " 0.3593357783425573,\n",
       " 0.3444081868084491,\n",
       " 0.36743581566434685,\n",
       " 0.3681121091437458]"
      ]
     },
     "execution_count": 35,
     "metadata": {},
     "output_type": "execute_result"
    }
   ],
   "source": [
    "%%time\n",
    "\n",
    "query_embeddings = [ollama_embedding.get_query_embedding(title) \n",
    "                    for title in simple_data_zh['titles']]\n",
    "doc_embedding=ollama_embedding.get_text_embedding(simple_data_zh['desc'])\n",
    "\n",
    "similarity=[ollama_embedding.similarity(query_embedding,doc_embedding)\n",
    "           for query_embedding in query_embeddings]\n",
    "similarity"
   ]
  },
  {
   "cell_type": "markdown",
   "id": "d13437d0-bf4b-4a07-8d82-ac58d5126fa7",
   "metadata": {},
   "source": [
    "## bge-large-zh:v1.5"
   ]
  },
  {
   "cell_type": "code",
   "execution_count": 41,
   "id": "3ea8f4a0-a8c3-4447-8727-328ac44605e8",
   "metadata": {},
   "outputs": [
    {
     "name": "stdout",
     "output_type": "stream",
     "text": [
      "CPU times: user 57 µs, sys: 20 µs, total: 77 µs\n",
      "Wall time: 79.4 µs\n"
     ]
    }
   ],
   "source": [
    "%%time\n",
    "\n",
    "from llama_index.embeddings.ollama import OllamaEmbedding\n",
    "\n",
    "ollama_embedding = OllamaEmbedding(\n",
    "    # model_name=\"dztech/bge-large-zh:v1.5\",\n",
    "    model_name=\"quentinz/bge-large-zh-v1.5\",\n",
    "    base_url=\"http://192.168.0.72:11435\",\n",
    "    ollama_additional_kwargs={\"mirostat\": 0},\n",
    ")"
   ]
  },
  {
   "cell_type": "markdown",
   "id": "f29b94d3-8c1b-498c-ba4d-c1ffc9ccf9d0",
   "metadata": {},
   "source": [
    "#### simple_data_en"
   ]
  },
  {
   "cell_type": "code",
   "execution_count": 42,
   "id": "ed09cbb4-ed57-448b-94dd-6a69dc7643f2",
   "metadata": {},
   "outputs": [
    {
     "name": "stdout",
     "output_type": "stream",
     "text": [
      "CPU times: user 10.4 ms, sys: 253 µs, total: 10.6 ms\n",
      "Wall time: 1.32 s\n"
     ]
    },
    {
     "data": {
      "text/plain": [
       "[0.6511125167740869, 0.39602238080864743]"
      ]
     },
     "execution_count": 42,
     "metadata": {},
     "output_type": "execute_result"
    }
   ],
   "source": [
    "%%time\n",
    "\n",
    "query_embeddings = [ollama_embedding.get_query_embedding(title) \n",
    "                    for title in simple_data_en['titles']]\n",
    "doc_embedding=ollama_embedding.get_text_embedding(simple_data_en['desc'])\n",
    "\n",
    "similarity=[ollama_embedding.similarity(query_embedding,doc_embedding)\n",
    "           for query_embedding in query_embeddings]\n",
    "similarity"
   ]
  },
  {
   "cell_type": "markdown",
   "id": "d67db2df-4e56-4ccb-9c4a-bd77690b31c4",
   "metadata": {},
   "source": [
    "#### simple_data_en2"
   ]
  },
  {
   "cell_type": "code",
   "execution_count": 43,
   "id": "95445f33-c9d1-4a7c-a031-c5ade10bb619",
   "metadata": {},
   "outputs": [
    {
     "name": "stdout",
     "output_type": "stream",
     "text": [
      "CPU times: user 8.78 ms, sys: 1.56 ms, total: 10.3 ms\n",
      "Wall time: 303 ms\n"
     ]
    },
    {
     "data": {
      "text/plain": [
       "[0.7326026137600575, 0.39623643956081306]"
      ]
     },
     "execution_count": 43,
     "metadata": {},
     "output_type": "execute_result"
    }
   ],
   "source": [
    "%%time\n",
    "\n",
    "query_embeddings = [ollama_embedding.get_query_embedding(title) \n",
    "                    for title in simple_data_en2['titles']]\n",
    "doc_embedding=ollama_embedding.get_text_embedding(simple_data_en2['desc'])\n",
    "\n",
    "similarity=[ollama_embedding.similarity(query_embedding,doc_embedding)\n",
    "           for query_embedding in query_embeddings]\n",
    "similarity"
   ]
  },
  {
   "cell_type": "markdown",
   "id": "6d3fb281-4934-470a-85c1-f6e12de3b177",
   "metadata": {},
   "source": [
    "#### simple_data_zh"
   ]
  },
  {
   "cell_type": "code",
   "execution_count": 44,
   "id": "3721faff-96ae-43f7-b9d5-74d5b72206bc",
   "metadata": {},
   "outputs": [
    {
     "name": "stdout",
     "output_type": "stream",
     "text": [
      "CPU times: user 13.7 ms, sys: 5.37 ms, total: 19.1 ms\n",
      "Wall time: 568 ms\n"
     ]
    },
    {
     "data": {
      "text/plain": [
       "[0.7338371389471868,\n",
       " 0.4380859030075601,\n",
       " 0.3091280955158122,\n",
       " 0.5194359507257739,\n",
       " 0.5239616908581779]"
      ]
     },
     "execution_count": 44,
     "metadata": {},
     "output_type": "execute_result"
    }
   ],
   "source": [
    "%%time\n",
    "\n",
    "query_embeddings = [ollama_embedding.get_query_embedding(title) \n",
    "                    for title in simple_data_zh['titles']]\n",
    "doc_embedding=ollama_embedding.get_text_embedding(simple_data_zh['desc'])\n",
    "\n",
    "similarity=[ollama_embedding.similarity(query_embedding,doc_embedding)\n",
    "           for query_embedding in query_embeddings]\n",
    "similarity"
   ]
  },
  {
   "cell_type": "markdown",
   "id": "4c1389da-36d3-4dbf-9b50-301106dc1b02",
   "metadata": {},
   "source": [
    "## gte-qwen2-1.5b-instruct-embed-f16"
   ]
  },
  {
   "cell_type": "code",
   "execution_count": 1,
   "id": "bc4d8c9a-67e2-4d62-a876-f59381f33a68",
   "metadata": {},
   "outputs": [
    {
     "name": "stdout",
     "output_type": "stream",
     "text": [
      "CPU times: user 2.62 s, sys: 359 ms, total: 2.98 s\n",
      "Wall time: 2.62 s\n"
     ]
    }
   ],
   "source": [
    "%%time\n",
    "\n",
    "from llama_index.embeddings.ollama import OllamaEmbedding\n",
    "\n",
    "ollama_embedding = OllamaEmbedding(\n",
    "    # model_name=\"dztech/bge-large-zh:v1.5\",\n",
    "    model_name=\"rjmalagon/gte-qwen2-1.5b-instruct-embed-f16\",\n",
    "    base_url=\"http://192.168.0.72:11435\",\n",
    "    ollama_additional_kwargs={\"mirostat\": 0},\n",
    ")"
   ]
  },
  {
   "cell_type": "markdown",
   "id": "26493b01-f6fe-4ce4-8a2c-84abcb4d83bc",
   "metadata": {},
   "source": [
    "### simple_data_en"
   ]
  },
  {
   "cell_type": "code",
   "execution_count": 5,
   "id": "d983c95c-b7ca-42fe-abdd-90ac7a7bb767",
   "metadata": {},
   "outputs": [
    {
     "name": "stdout",
     "output_type": "stream",
     "text": [
      "CPU times: user 13.1 ms, sys: 26 µs, total: 13.1 ms\n",
      "Wall time: 2.85 s\n"
     ]
    },
    {
     "data": {
      "text/plain": [
       "[0.6913344372407509, 0.43053375382086784]"
      ]
     },
     "execution_count": 5,
     "metadata": {},
     "output_type": "execute_result"
    }
   ],
   "source": [
    "%%time\n",
    "\n",
    "query_embeddings = [ollama_embedding.get_query_embedding(title) \n",
    "                    for title in simple_data_en['titles']]\n",
    "doc_embedding=ollama_embedding.get_text_embedding(simple_data_en['desc'])\n",
    "\n",
    "similarity=[ollama_embedding.similarity(query_embedding,doc_embedding)\n",
    "           for query_embedding in query_embeddings]\n",
    "similarity"
   ]
  },
  {
   "cell_type": "markdown",
   "id": "9aac7d3b-db26-4639-9cdb-3fd696594b23",
   "metadata": {},
   "source": [
    "### simple_data_en2"
   ]
  },
  {
   "cell_type": "code",
   "execution_count": 6,
   "id": "d92e5afb-fd93-419f-a67e-424e39a2ab61",
   "metadata": {},
   "outputs": [
    {
     "name": "stdout",
     "output_type": "stream",
     "text": [
      "CPU times: user 11.8 ms, sys: 234 µs, total: 12 ms\n",
      "Wall time: 327 ms\n"
     ]
    },
    {
     "data": {
      "text/plain": [
       "[0.7857081872132854, 0.359405007111947]"
      ]
     },
     "execution_count": 6,
     "metadata": {},
     "output_type": "execute_result"
    }
   ],
   "source": [
    "%%time\n",
    "\n",
    "query_embeddings = [ollama_embedding.get_query_embedding(title) \n",
    "                    for title in simple_data_en2['titles']]\n",
    "doc_embedding=ollama_embedding.get_text_embedding(simple_data_en2['desc'])\n",
    "\n",
    "similarity=[ollama_embedding.similarity(query_embedding,doc_embedding)\n",
    "           for query_embedding in query_embeddings]\n",
    "similarity"
   ]
  },
  {
   "cell_type": "markdown",
   "id": "ffde0ae4-37ed-49b0-8770-52adb5fded09",
   "metadata": {},
   "source": [
    "### simple_data_zh"
   ]
  },
  {
   "cell_type": "code",
   "execution_count": 7,
   "id": "76ea2169-a10c-4bc9-9366-73eccc639479",
   "metadata": {},
   "outputs": [
    {
     "name": "stdout",
     "output_type": "stream",
     "text": [
      "CPU times: user 18.6 ms, sys: 3.48 ms, total: 22.1 ms\n",
      "Wall time: 624 ms\n"
     ]
    },
    {
     "data": {
      "text/plain": [
       "[0.7387741058141705,\n",
       " 0.2787999044073892,\n",
       " 0.21621591390707512,\n",
       " 0.3526459249675495,\n",
       " 0.29698117094221566]"
      ]
     },
     "execution_count": 7,
     "metadata": {},
     "output_type": "execute_result"
    }
   ],
   "source": [
    "%%time\n",
    "\n",
    "query_embeddings = [ollama_embedding.get_query_embedding(title) \n",
    "                    for title in simple_data_zh['titles']]\n",
    "doc_embedding=ollama_embedding.get_text_embedding(simple_data_zh['desc'])\n",
    "\n",
    "similarity=[ollama_embedding.similarity(query_embedding,doc_embedding)\n",
    "           for query_embedding in query_embeddings]\n",
    "similarity"
   ]
  },
  {
   "cell_type": "code",
   "execution_count": null,
   "id": "9e756f4e-9d37-499f-a93a-6634639d4ebc",
   "metadata": {},
   "outputs": [],
   "source": []
  }
 ],
 "metadata": {
  "kernelspec": {
   "display_name": "Python 3 (ipykernel)",
   "language": "python",
   "name": "python3"
  },
  "language_info": {
   "codemirror_mode": {
    "name": "ipython",
    "version": 3
   },
   "file_extension": ".py",
   "mimetype": "text/x-python",
   "name": "python",
   "nbconvert_exporter": "python",
   "pygments_lexer": "ipython3",
   "version": "3.10.12"
  }
 },
 "nbformat": 4,
 "nbformat_minor": 5
}
