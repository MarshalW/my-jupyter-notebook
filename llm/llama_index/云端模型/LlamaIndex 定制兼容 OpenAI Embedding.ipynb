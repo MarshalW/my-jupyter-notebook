{
 "cells": [
  {
   "cell_type": "markdown",
   "id": "e1c34ef5-403c-4436-8dda-4d4e38a9d457",
   "metadata": {},
   "source": [
    "# LlamaIndex 定制兼容 OpenAI Embedding"
   ]
  },
  {
   "cell_type": "markdown",
   "id": "14ca61ae-b9c6-4515-8c7a-ae02a551b885",
   "metadata": {},
   "source": [
    "LlamaIndex 因为通过字典检查嵌入模型名称，因此其他云端模型虽然兼容 OpenAI API，但是不能直接使用 `llama-index-embeddings-openai`.\n",
    "\n",
    "以下定制了新的 Embedding，修改 LlamaIndex 的实现，取消对模型名称的检查。\n",
    "\n",
    "考察云端模型是否可用：\n",
    "\n",
    "- 智谱ai    ✅\n",
    "- 阿里云百炼 ✅\n",
    "- 豆包      ✅"
   ]
  },
  {
   "cell_type": "code",
   "execution_count": 3,
   "id": "aaf39ab1-e553-45d2-bb3b-a24b209b6b4e",
   "metadata": {},
   "outputs": [
    {
     "name": "stdout",
     "output_type": "stream",
     "text": [
      "CPU times: user 3.75 ms, sys: 489 µs, total: 4.24 ms\n",
      "Wall time: 3.71 ms\n"
     ]
    },
    {
     "data": {
      "text/plain": [
       "True"
      ]
     },
     "execution_count": 3,
     "metadata": {},
     "output_type": "execute_result"
    }
   ],
   "source": [
    "%%time\n",
    "\n",
    "from dotenv import load_dotenv\n",
    "\n",
    "load_dotenv()"
   ]
  },
  {
   "cell_type": "markdown",
   "id": "b4ec4199-6b30-43d5-bdd4-78d468c26c3f",
   "metadata": {},
   "source": [
    "## 自定义 Embedding"
   ]
  },
  {
   "cell_type": "code",
   "execution_count": 2,
   "id": "3112f81e-3d48-4000-934e-a54e35fcad3e",
   "metadata": {},
   "outputs": [
    {
     "name": "stdout",
     "output_type": "stream",
     "text": [
      "CPU times: user 3.68 ms, sys: 0 ns, total: 3.68 ms\n",
      "Wall time: 3.64 ms\n"
     ]
    }
   ],
   "source": [
    "%%time\n",
    "\n",
    "from llama_index.embeddings.openai import OpenAIEmbedding, OpenAIEmbeddingMode,OpenAIEmbeddingModelType\n",
    "import httpx\n",
    "from typing import Any, Dict, List, Optional, Tuple\n",
    "from llama_index.core.callbacks.base import CallbackManager\n",
    "\n",
    "def get_engine(\n",
    "    mode: str,\n",
    "    model: str,\n",
    "    # mode_model_dict: Dict[Tuple[OpenAIEmbeddingMode, str], OpenAIEmbeddingModeModel],\n",
    ") -> str:\n",
    "    \"\"\"Get engine.\"\"\"\n",
    "    # key = (OpenAIEmbeddingMode(mode), OpenAIEmbeddingModelType(model))\n",
    "    # if key not in mode_model_dict:\n",
    "    #     raise ValueError(f\"Invalid mode, model combination: {key}\")\n",
    "    # return mode_model_dict[key].value\n",
    "    return model\n",
    "\n",
    "\n",
    "class MyOpenAIEmbedding(OpenAIEmbedding):\n",
    "\n",
    "\n",
    "    def __init__(\n",
    "        self,\n",
    "        mode: str = OpenAIEmbeddingMode.TEXT_SEARCH_MODE,\n",
    "        model: str = OpenAIEmbeddingModelType.TEXT_EMBED_ADA_002,\n",
    "        embed_batch_size: int = 100,\n",
    "        dimensions: Optional[int] = None,\n",
    "        additional_kwargs: Optional[Dict[str, Any]] = None,\n",
    "        api_key: Optional[str] = None,\n",
    "        api_base: Optional[str] = None,\n",
    "        api_version: Optional[str] = None,\n",
    "        max_retries: int = 10,\n",
    "        timeout: float = 60.0,\n",
    "        reuse_client: bool = True,\n",
    "        callback_manager: Optional[CallbackManager] = None,\n",
    "        default_headers: Optional[Dict[str, str]] = None,\n",
    "        http_client: Optional[httpx.Client] = None,\n",
    "        async_http_client: Optional[httpx.AsyncClient] = None,\n",
    "        num_workers: Optional[int] = None,\n",
    "        **kwargs: Any,\n",
    "    ) -> None:\n",
    "        additional_kwargs = additional_kwargs or {}\n",
    "        if dimensions is not None:\n",
    "            additional_kwargs[\"dimensions\"] = dimensions\n",
    "\n",
    "        api_key, api_base, api_version = self._resolve_credentials(\n",
    "            api_key=api_key,\n",
    "            api_base=api_base,\n",
    "            api_version=api_version,\n",
    "        )\n",
    "\n",
    "        query_engine = get_engine(mode, model)\n",
    "        text_engine = get_engine(mode, model)\n",
    "\n",
    "        if \"model_name\" in kwargs:\n",
    "            model_name = kwargs.pop(\"model_name\")\n",
    "            query_engine = text_engine = model_name\n",
    "        else:\n",
    "            model_name = model\n",
    "\n",
    "        super().__init__(\n",
    "            embed_batch_size=embed_batch_size,\n",
    "            dimensions=dimensions,\n",
    "            callback_manager=callback_manager,\n",
    "            model_name=model_name,\n",
    "            additional_kwargs=additional_kwargs,\n",
    "            api_key=api_key,\n",
    "            api_base=api_base,\n",
    "            api_version=api_version,\n",
    "            max_retries=max_retries,\n",
    "            reuse_client=reuse_client,\n",
    "            timeout=timeout,\n",
    "            default_headers=default_headers,\n",
    "            num_workers=num_workers,\n",
    "            **kwargs,\n",
    "        )\n",
    "        self._query_engine = query_engine\n",
    "        self._text_engine = text_engine\n",
    "\n",
    "        self._client = None\n",
    "        self._aclient = None\n",
    "        self._http_client = http_client\n",
    "        self._async_http_client = async_http_client"
   ]
  },
  {
   "cell_type": "markdown",
   "id": "6cb3a961-510e-42a9-a26d-fac39cc815d2",
   "metadata": {},
   "source": [
    "## 对云端嵌入模型的考察"
   ]
  },
  {
   "cell_type": "markdown",
   "id": "801e94d3-766c-4469-bd9c-02ce790d4c33",
   "metadata": {},
   "source": [
    "### 智谱ai"
   ]
  },
  {
   "cell_type": "code",
   "execution_count": 4,
   "id": "92a67c99-ecda-4a80-9f20-60d289fce269",
   "metadata": {},
   "outputs": [
    {
     "data": {
      "text/plain": [
       "[-0.030153707, 0.019338187, -0.059128232, -0.004209153, -0.013122211]"
      ]
     },
     "execution_count": 4,
     "metadata": {},
     "output_type": "execute_result"
    }
   ],
   "source": [
    "import os\n",
    "\n",
    "api_key = os.getenv(\"ZHIPU_API_KEY\")\n",
    "\n",
    "embed_model = MyOpenAIEmbedding(\n",
    "    api_key=api_key,\n",
    "    model=\"embedding-2\",\n",
    "    api_base=\"https://open.bigmodel.cn/api/paas/v4\"\n",
    ")\n",
    "\n",
    "embeddings = embed_model.get_text_embedding(\n",
    "    \"花椰菜又称菜花、花菜，是一种常见的蔬菜。\"\n",
    ")\n",
    "embeddings[:5]"
   ]
  },
  {
   "cell_type": "markdown",
   "id": "033554f0-2f22-4210-b981-91710f7f2c7c",
   "metadata": {},
   "source": [
    "### 阿里云百炼"
   ]
  },
  {
   "cell_type": "code",
   "execution_count": 5,
   "id": "2a3262bc-2cc1-4afe-a383-c1feb98ff6ef",
   "metadata": {},
   "outputs": [
    {
     "name": "stdout",
     "output_type": "stream",
     "text": [
      "CPU times: user 50.9 ms, sys: 2.38 ms, total: 53.3 ms\n",
      "Wall time: 178 ms\n"
     ]
    },
    {
     "data": {
      "text/plain": [
       "[-1.0765721797943115,\n",
       " -8.908791542053223,\n",
       " 0.5645343661308289,\n",
       " 1.4505490064620972,\n",
       " -0.9708723425865173]"
      ]
     },
     "execution_count": 5,
     "metadata": {},
     "output_type": "execute_result"
    }
   ],
   "source": [
    "%%time\n",
    "\n",
    "api_key = os.getenv(\"ALIYUN_API_KEY\")\n",
    "\n",
    "embed_model = MyOpenAIEmbedding(\n",
    "    api_key=api_key,\n",
    "    model=\"text-embedding-v1\",\n",
    "    api_base=\"https://dashscope.aliyuncs.com/compatible-mode/v1\"\n",
    ")\n",
    "\n",
    "embeddings = embed_model.get_text_embedding(\n",
    "    \"花椰菜又称菜花、花菜，是一种常见的蔬菜。\"\n",
    ")\n",
    "embeddings[:5]"
   ]
  },
  {
   "cell_type": "markdown",
   "id": "ad4565c6-53c3-479e-8f8f-829645dceef6",
   "metadata": {},
   "source": [
    "### 豆包"
   ]
  },
  {
   "cell_type": "code",
   "execution_count": 6,
   "id": "6733cce0-3d44-454c-ad66-50783337a8b0",
   "metadata": {},
   "outputs": [
    {
     "name": "stdout",
     "output_type": "stream",
     "text": [
      "CPU times: user 53.8 ms, sys: 243 µs, total: 54 ms\n",
      "Wall time: 148 ms\n"
     ]
    },
    {
     "data": {
      "text/plain": [
       "[-0.337890625, -1.890625, -1.9140625, -1.6875, -1.921875]"
      ]
     },
     "execution_count": 6,
     "metadata": {},
     "output_type": "execute_result"
    }
   ],
   "source": [
    "%%time\n",
    "\n",
    "api_key = os.getenv(\"DOUBAO_API_KEY\")\n",
    "\n",
    "embed_model = MyOpenAIEmbedding(\n",
    "    api_key=api_key,\n",
    "    model=\"ep-20240918183239-l2jqq\",\n",
    "    api_base=\"https://ark.cn-beijing.volces.com/api/v3\"\n",
    ")\n",
    "\n",
    "embeddings = embed_model.get_text_embedding(\n",
    "    \"花椰菜又称菜花、花菜，是一种常见的蔬菜。\"\n",
    ")\n",
    "embeddings[:5]"
   ]
  },
  {
   "cell_type": "code",
   "execution_count": null,
   "id": "1b48c3e2-0b1e-48d3-8a2d-8aad96862229",
   "metadata": {},
   "outputs": [],
   "source": []
  }
 ],
 "metadata": {
  "kernelspec": {
   "display_name": "Python 3 (ipykernel)",
   "language": "python",
   "name": "python3"
  },
  "language_info": {
   "codemirror_mode": {
    "name": "ipython",
    "version": 3
   },
   "file_extension": ".py",
   "mimetype": "text/x-python",
   "name": "python",
   "nbconvert_exporter": "python",
   "pygments_lexer": "ipython3",
   "version": "3.10.12"
  }
 },
 "nbformat": 4,
 "nbformat_minor": 5
}
