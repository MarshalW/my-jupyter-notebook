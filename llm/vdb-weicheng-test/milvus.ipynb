{
 "cells": [
  {
   "cell_type": "markdown",
   "id": "bff9c380-4050-47a8-86eb-59e51db6b3fa",
   "metadata": {},
   "source": [
    "# 使用 milvas 测试小说《围城》数据集"
   ]
  },
  {
   "cell_type": "markdown",
   "id": "2afe140a-f247-4d22-8bc0-185dee956c7f",
   "metadata": {},
   "source": [
    "## 准备"
   ]
  },
  {
   "cell_type": "code",
   "execution_count": 1,
   "id": "95d78b79-a872-4eb7-a07a-94b0425c859c",
   "metadata": {},
   "outputs": [
    {
     "name": "stdout",
     "output_type": "stream",
     "text": [
      "CPU times: user 3.54 s, sys: 492 ms, total: 4.03 s\n",
      "Wall time: 3.67 s\n"
     ]
    }
   ],
   "source": [
    "%%time\n",
    "\n",
    "# 导入需要的包\n",
    "\n",
    "from llama_index.core import Settings\n",
    "from llama_index.embeddings.ollama import OllamaEmbedding\n",
    "from llama_index.core import (\n",
    "    SimpleDirectoryReader,\n",
    "    load_index_from_storage,\n",
    "    VectorStoreIndex,\n",
    "    StorageContext,\n",
    ")\n",
    "from llama_index.llms.openai_like import OpenAILike\n",
    "\n",
    "from milvus import default_server\n",
    "from pymilvus import connections, utility\n",
    "from llama_index.core import VectorStoreIndex, StorageContext\n",
    "from llama_index.vector_stores.milvus import MilvusVectorStore"
   ]
  },
  {
   "cell_type": "code",
   "execution_count": 2,
   "id": "fbf32b89-6d74-4ff7-bbe1-494a10f256db",
   "metadata": {},
   "outputs": [
    {
     "data": {
      "text/plain": [
       "_Settings(_llm=None, _embed_model=None, _callback_manager=None, _tokenizer=None, _node_parser=SentenceSplitter(include_metadata=True, include_prev_next_rel=True, callback_manager=<llama_index.core.callbacks.base.CallbackManager object at 0x7f77bb0c8f40>, id_func=<function default_id_func at 0x7f7880f13010>, chunk_size=128, chunk_overlap=10, separator=' ', paragraph_separator='\\n\\n\\n', secondary_chunking_regex='[^,.;。？！]+[,.;。？！]?'), _prompt_helper=None, _transformations=None)"
      ]
     },
     "execution_count": 2,
     "metadata": {},
     "output_type": "execute_result"
    }
   ],
   "source": [
    "Settings.chunk_size=128\n",
    "Settings.chunk_overlap=10\n",
    "\n",
    "Settings"
   ]
  },
  {
   "cell_type": "code",
   "execution_count": 3,
   "id": "6ae8f874-ff3d-41e0-9e12-fc08accece22",
   "metadata": {},
   "outputs": [
    {
     "name": "stdout",
     "output_type": "stream",
     "text": [
      "CPU times: user 123 ms, sys: 0 ns, total: 123 ms\n",
      "Wall time: 123 ms\n"
     ]
    }
   ],
   "source": [
    "%%time\n",
    "\n",
    "# 初始化全局 llm\n",
    "\n",
    "llm = OpenAILike(model=\"xiaoyu\", \n",
    "                 api_base=\"http://192.168.0.72:3000/v1\", \n",
    "                 api_key=\"sk-bJP6QSnUfjAYeYeE505d3eBf63A643BeB0B8E350Df9b7750\",\n",
    "                 is_chat_model=True,\n",
    "                 temperature=0.1\n",
    "                )\n",
    "\n",
    "Settings.llm =llm"
   ]
  },
  {
   "cell_type": "code",
   "execution_count": 4,
   "id": "253693fc-5d34-40eb-ba0a-c1356c0513b1",
   "metadata": {},
   "outputs": [
    {
     "name": "stdout",
     "output_type": "stream",
     "text": [
      "CPU times: user 413 ms, sys: 8.04 ms, total: 421 ms\n",
      "Wall time: 421 ms\n"
     ]
    }
   ],
   "source": [
    "%%time\n",
    "\n",
    "# 初始化全局 embedding 模型\n",
    "\n",
    "ollama_embedding = OllamaEmbedding(\n",
    "    model_name=\"dztech/bge-large-zh:v1.5\",\n",
    "    # model_name=\"bge-m3:latest\",\n",
    "    base_url=\"http://192.168.0.72:11435\",\n",
    "    ollama_additional_kwargs={\"mirostat\": 0}, # -mirostat N 使用 Mirostat 采样。\n",
    ")\n",
    "\n",
    "Settings.embed_model = ollama_embedding"
   ]
  },
  {
   "cell_type": "code",
   "execution_count": 5,
   "id": "2a0dc62b-39ae-4d3c-a456-60367a0b6763",
   "metadata": {},
   "outputs": [
    {
     "name": "stdout",
     "output_type": "stream",
     "text": [
      "CPU times: user 387 µs, sys: 47 µs, total: 434 µs\n",
      "Wall time: 438 µs\n"
     ]
    }
   ],
   "source": [
    "%%time\n",
    "\n",
    "import logging\n",
    "import sys\n",
    "\n",
    "# 设置系统日志，便于设置level排查\n",
    "\n",
    "logging.basicConfig(stream=sys.stdout, level=logging.INFO)\n",
    "logging.getLogger().addHandler(logging.StreamHandler(stream=sys.stdout))"
   ]
  },
  {
   "cell_type": "code",
   "execution_count": 6,
   "id": "a40b5b90-dd4f-4866-8bbf-db2efc3c0d15",
   "metadata": {},
   "outputs": [
    {
     "name": "stdout",
     "output_type": "stream",
     "text": [
      "v2.3.5-lite\n",
      "CPU times: user 3.18 s, sys: 312 ms, total: 3.5 s\n",
      "Wall time: 6.71 s\n"
     ]
    },
    {
     "data": {
      "text/plain": [
       "19530"
      ]
     },
     "execution_count": 6,
     "metadata": {},
     "output_type": "execute_result"
    }
   ],
   "source": [
    "%%time\n",
    "\n",
    "# 启动milvus服务器\n",
    "\n",
    "default_server.set_base_dir('milvus_data')\n",
    "\n",
    "# (OPTIONAL) if you want cleanup previous data\n",
    "default_server.cleanup()\n",
    "\n",
    "# Start your milvus server\n",
    "default_server.start()\n",
    "\n",
    "# Now you could connect with localhost and the given port\n",
    "# Port is defined by default_server.listen_port\n",
    "connections.connect(host='127.0.0.1', port=default_server.listen_port)\n",
    "\n",
    "# Check if the server is ready.\n",
    "print(utility.get_server_version())\n",
    "\n",
    "# Stop your milvus server\n",
    "# default_server.stop()\n",
    "\n",
    "default_server.listen_port"
   ]
  },
  {
   "cell_type": "markdown",
   "id": "dc718fb8-4370-4948-84c1-101b943f8bd6",
   "metadata": {},
   "source": [
    "## 索引"
   ]
  },
  {
   "cell_type": "code",
   "execution_count": 7,
   "id": "dc892db7-cf9f-4672-af50-36dc2fd90d28",
   "metadata": {},
   "outputs": [
    {
     "name": "stdout",
     "output_type": "stream",
     "text": [
      "Document ID: 69f635fb-c52d-49e0-bac7-8da506da7e40\n",
      "CPU times: user 10.6 ms, sys: 0 ns, total: 10.6 ms\n",
      "Wall time: 10.2 ms\n"
     ]
    }
   ],
   "source": [
    "%%time\n",
    "\n",
    "# load documents\n",
    "documents = SimpleDirectoryReader(\"./books/\").load_data()\n",
    "print(\"Document ID:\", documents[0].doc_id)"
   ]
  },
  {
   "cell_type": "code",
   "execution_count": 8,
   "id": "7b4e16b6-9a45-40af-8dfa-9273d00f2cef",
   "metadata": {},
   "outputs": [
    {
     "name": "stdout",
     "output_type": "stream",
     "text": [
      "DEBUG:pymilvus.milvus_client.milvus_client:Created new connection using: e603ee0fd0874fd0a9f911545f687abf\n",
      "Created new connection using: e603ee0fd0874fd0a9f911545f687abf\n",
      "DEBUG:pymilvus.milvus_client.milvus_client:Successfully created collection: llamacollection\n",
      "Successfully created collection: llamacollection\n",
      "DEBUG:pymilvus.milvus_client.milvus_client:Successfully created an index on collection: llamacollection\n",
      "Successfully created an index on collection: llamacollection\n",
      "CPU times: user 16.7 s, sys: 707 ms, total: 17.4 s\n",
      "Wall time: 1min 40s\n"
     ]
    }
   ],
   "source": [
    "%%time\n",
    "\n",
    "vector_store = MilvusVectorStore(dim=1024, overwrite=True)\n",
    "storage_context = StorageContext.from_defaults(vector_store=vector_store)\n",
    "index = VectorStoreIndex.from_documents(\n",
    "    documents, storage_context=storage_context\n",
    ")"
   ]
  },
  {
   "cell_type": "markdown",
   "id": "2b2ac5bd-4100-4e3a-8bcf-c744e64bb008",
   "metadata": {},
   "source": [
    "## 查询"
   ]
  },
  {
   "cell_type": "markdown",
   "id": "2b112bd7-5a0a-4577-bb70-70bf68a024e3",
   "metadata": {},
   "source": [
    "### 基本嵌入查询"
   ]
  },
  {
   "cell_type": "code",
   "execution_count": 9,
   "id": "1d8cae8d-26d0-46f0-94ec-0034647c577c",
   "metadata": {},
   "outputs": [
    {
     "name": "stdout",
     "output_type": "stream",
     "text": [
      "CPU times: user 37.2 ms, sys: 4.07 ms, total: 41.3 ms\n",
      "Wall time: 40.7 ms\n"
     ]
    }
   ],
   "source": [
    "%%time\n",
    "\n",
    "query_engine = index.as_query_engine(\n",
    "    streaming=True,\n",
    "    similarity_top_k=100,\n",
    "    similarity_cutoff=0.5\n",
    ")"
   ]
  },
  {
   "cell_type": "code",
   "execution_count": 10,
   "id": "57a6dbad-2292-40d6-ab7c-7f97b91392c9",
   "metadata": {},
   "outputs": [
    {
     "name": "stdout",
     "output_type": "stream",
     "text": [
      "INFO:httpx:HTTP Request: POST http://192.168.0.72:3000/v1/chat/completions \"HTTP/1.1 200 OK\"\n",
      "HTTP Request: POST http://192.168.0.72:3000/v1/chat/completions \"HTTP/1.1 200 OK\"\n",
      "INFO:httpx:HTTP Request: POST http://192.168.0.72:3000/v1/chat/completions \"HTTP/1.1 200 OK\"\n",
      "HTTP Request: POST http://192.168.0.72:3000/v1/chat/completions \"HTTP/1.1 200 OK\"\n",
      "INFO:httpx:HTTP Request: POST http://192.168.0.72:3000/v1/chat/completions \"HTTP/1.1 200 OK\"\n",
      "HTTP Request: POST http://192.168.0.72:3000/v1/chat/completions \"HTTP/1.1 200 OK\"\n",
      "INFO:httpx:HTTP Request: POST http://192.168.0.72:3000/v1/chat/completions \"HTTP/1.1 200 OK\"\n",
      "HTTP Request: POST http://192.168.0.72:3000/v1/chat/completions \"HTTP/1.1 200 OK\"\n",
      "孙柔嘉\n",
      "CPU times: user 141 ms, sys: 4.63 ms, total: 146 ms\n",
      "Wall time: 12.3 s\n"
     ]
    }
   ],
   "source": [
    "%%time\n",
    "\n",
    "streaming_response = query_engine.query(\"方鸿渐的妻子是谁\")\n",
    "streaming_response.print_response_stream()\n",
    "print()"
   ]
  },
  {
   "cell_type": "code",
   "execution_count": 11,
   "id": "3966121c-3e8b-4010-9e9a-750c785226c1",
   "metadata": {},
   "outputs": [
    {
     "name": "stdout",
     "output_type": "stream",
     "text": [
      "INFO:httpx:HTTP Request: POST http://192.168.0.72:3000/v1/chat/completions \"HTTP/1.1 200 OK\"\n",
      "HTTP Request: POST http://192.168.0.72:3000/v1/chat/completions \"HTTP/1.1 200 OK\"\n",
      "INFO:httpx:HTTP Request: POST http://192.168.0.72:3000/v1/chat/completions \"HTTP/1.1 200 OK\"\n",
      "HTTP Request: POST http://192.168.0.72:3000/v1/chat/completions \"HTTP/1.1 200 OK\"\n",
      "INFO:httpx:HTTP Request: POST http://192.168.0.72:3000/v1/chat/completions \"HTTP/1.1 200 OK\"\n",
      "HTTP Request: POST http://192.168.0.72:3000/v1/chat/completions \"HTTP/1.1 200 OK\"\n",
      "INFO:httpx:HTTP Request: POST http://192.168.0.72:3000/v1/chat/completions \"HTTP/1.1 200 OK\"\n",
      "HTTP Request: POST http://192.168.0.72:3000/v1/chat/completions \"HTTP/1.1 200 OK\"\n",
      "方豚翁\n",
      "CPU times: user 94.1 ms, sys: 4.65 ms, total: 98.7 ms\n",
      "Wall time: 9.47 s\n"
     ]
    }
   ],
   "source": [
    "%%time\n",
    "\n",
    "streaming_response = query_engine.query(\"方鸿渐的父亲是谁，说出他的名字\")\n",
    "streaming_response.print_response_stream()\n",
    "print()"
   ]
  },
  {
   "cell_type": "code",
   "execution_count": 12,
   "id": "40c94d20-bdeb-4f05-a0c9-721e979f80d4",
   "metadata": {},
   "outputs": [
    {
     "name": "stdout",
     "output_type": "stream",
     "text": [
      "INFO:httpx:HTTP Request: POST http://192.168.0.72:3000/v1/chat/completions \"HTTP/1.1 200 OK\"\n",
      "HTTP Request: POST http://192.168.0.72:3000/v1/chat/completions \"HTTP/1.1 200 OK\"\n",
      "INFO:httpx:HTTP Request: POST http://192.168.0.72:3000/v1/chat/completions \"HTTP/1.1 200 OK\"\n",
      "HTTP Request: POST http://192.168.0.72:3000/v1/chat/completions \"HTTP/1.1 200 OK\"\n",
      "INFO:httpx:HTTP Request: POST http://192.168.0.72:3000/v1/chat/completions \"HTTP/1.1 200 OK\"\n",
      "HTTP Request: POST http://192.168.0.72:3000/v1/chat/completions \"HTTP/1.1 200 OK\"\n",
      "INFO:httpx:HTTP Request: POST http://192.168.0.72:3000/v1/chat/completions \"HTTP/1.1 200 OK\"\n",
      "HTTP Request: POST http://192.168.0.72:3000/v1/chat/completions \"HTTP/1.1 200 OK\"\n",
      "方鸿渐的父亲名字是方翁（辶＋豚）。\n",
      "CPU times: user 122 ms, sys: 4.39 ms, total: 126 ms\n",
      "Wall time: 11.5 s\n"
     ]
    }
   ],
   "source": [
    "%%time\n",
    "\n",
    "streaming_response = query_engine.query(\"方鸿渐的父亲是谁，说出他的名字，名字好像带一个翁字\")\n",
    "streaming_response.print_response_stream()\n",
    "print()"
   ]
  },
  {
   "cell_type": "code",
   "execution_count": 13,
   "id": "308cef63-e8fc-46f0-9532-111b47752f90",
   "metadata": {},
   "outputs": [
    {
     "name": "stdout",
     "output_type": "stream",
     "text": [
      "INFO:httpx:HTTP Request: POST http://192.168.0.72:3000/v1/chat/completions \"HTTP/1.1 200 OK\"\n",
      "HTTP Request: POST http://192.168.0.72:3000/v1/chat/completions \"HTTP/1.1 200 OK\"\n",
      "INFO:httpx:HTTP Request: POST http://192.168.0.72:3000/v1/chat/completions \"HTTP/1.1 200 OK\"\n",
      "HTTP Request: POST http://192.168.0.72:3000/v1/chat/completions \"HTTP/1.1 200 OK\"\n",
      "INFO:httpx:HTTP Request: POST http://192.168.0.72:3000/v1/chat/completions \"HTTP/1.1 200 OK\"\n",
      "HTTP Request: POST http://192.168.0.72:3000/v1/chat/completions \"HTTP/1.1 200 OK\"\n",
      "INFO:httpx:HTTP Request: POST http://192.168.0.72:3000/v1/chat/completions \"HTTP/1.1 200 OK\"\n",
      "HTTP Request: POST http://192.168.0.72:3000/v1/chat/completions \"HTTP/1.1 200 OK\"\n",
      "INFO:httpx:HTTP Request: POST http://192.168.0.72:3000/v1/chat/completions \"HTTP/1.1 200 OK\"\n",
      "HTTP Request: POST http://192.168.0.72:3000/v1/chat/completions \"HTTP/1.1 200 OK\"\n",
      "INFO:httpx:HTTP Request: POST http://192.168.0.72:3000/v1/chat/completions \"HTTP/1.1 200 OK\"\n",
      "HTTP Request: POST http://192.168.0.72:3000/v1/chat/completions \"HTTP/1.1 200 OK\"\n",
      "局部真理在文中指的是个人见解或经验中反映的特定知识或观念，它基于特定的社会、文化或学术环境。例如，文中提到的男人与女人在社会角色上的分工，是根据当时的性别刻板印象和对教育体系的观察得出的，这在当时可能被认为是合理的，但并不一定适用于所有时间和地点。同样，学科间的竞争关系也是基于特定大学环境的观察，而非普遍真理。\n",
      "\n",
      "这种观点强调的是情境依赖性和相对性，它可能随着时代变迁和个人成长而有所调整。在讨论这些局部真理时，重要的是要意识到它们的局限性，并在更广阔的视角下进行反思和评估。\n",
      "CPU times: user 645 ms, sys: 21.5 ms, total: 666 ms\n",
      "Wall time: 38.9 s\n"
     ]
    }
   ],
   "source": [
    "%%time\n",
    "\n",
    "streaming_response = query_engine.query(\"文中提到的局部真理是啥意思\")\n",
    "streaming_response.print_response_stream()\n",
    "print()"
   ]
  },
  {
   "cell_type": "markdown",
   "id": "9fc41b21-fa0d-44ed-b471-59d49c6db6da",
   "metadata": {},
   "source": [
    "### rerank"
   ]
  },
  {
   "cell_type": "code",
   "execution_count": 14,
   "id": "2434bef6-73b6-4216-b9a4-b7a4ab12f693",
   "metadata": {},
   "outputs": [
    {
     "name": "stdout",
     "output_type": "stream",
     "text": [
      "CPU times: user 800 ms, sys: 708 ms, total: 1.51 s\n",
      "Wall time: 803 ms\n"
     ]
    }
   ],
   "source": [
    "%%time\n",
    "\n",
    "from llama_index.core.postprocessor import SentenceTransformerRerank\n",
    "\n",
    "reranker = SentenceTransformerRerank(model='/models/bge-reranker-v2-m3', top_n=5)"
   ]
  },
  {
   "cell_type": "code",
   "execution_count": 15,
   "id": "5c402440-e1b4-4a3a-ad28-1f98912fa55f",
   "metadata": {},
   "outputs": [
    {
     "name": "stdout",
     "output_type": "stream",
     "text": [
      "CPU times: user 191 µs, sys: 0 ns, total: 191 µs\n",
      "Wall time: 194 µs\n"
     ]
    }
   ],
   "source": [
    "%%time\n",
    "\n",
    "query_engine = index.as_query_engine(\n",
    "    streaming=True,\n",
    "    similarity_top_k=100,\n",
    "    node_postprocessors=[reranker],\n",
    "    similarity_cutoff=0.5\n",
    ")"
   ]
  },
  {
   "cell_type": "code",
   "execution_count": 16,
   "id": "4fd82208-bb09-49ab-be16-13542a070078",
   "metadata": {},
   "outputs": [
    {
     "data": {
      "application/vnd.jupyter.widget-view+json": {
       "model_id": "090236e9b62f473e91c8e26f3ca70ca8",
       "version_major": 2,
       "version_minor": 0
      },
      "text/plain": [
       "Batches:   0%|          | 0/4 [00:00<?, ?it/s]"
      ]
     },
     "metadata": {},
     "output_type": "display_data"
    },
    {
     "name": "stdout",
     "output_type": "stream",
     "text": [
      "INFO:httpx:HTTP Request: POST http://192.168.0.72:3000/v1/chat/completions \"HTTP/1.1 200 OK\"\n",
      "HTTP Request: POST http://192.168.0.72:3000/v1/chat/completions \"HTTP/1.1 200 OK\"\n",
      "方鸿渐的妻子是孙柔嘉。\n",
      "CPU times: user 1.45 s, sys: 92 ms, total: 1.54 s\n",
      "Wall time: 2.9 s\n"
     ]
    }
   ],
   "source": [
    "%%time\n",
    "\n",
    "streaming_response = query_engine.query(\"方鸿渐的妻子是谁\")\n",
    "streaming_response.print_response_stream()\n",
    "print()"
   ]
  },
  {
   "cell_type": "code",
   "execution_count": 17,
   "id": "69043613-3cc0-41db-9c1c-9e103e419fa1",
   "metadata": {},
   "outputs": [
    {
     "data": {
      "application/vnd.jupyter.widget-view+json": {
       "model_id": "62151b98d7f84eb68f6c621935ae791d",
       "version_major": 2,
       "version_minor": 0
      },
      "text/plain": [
       "Batches:   0%|          | 0/4 [00:00<?, ?it/s]"
      ]
     },
     "metadata": {},
     "output_type": "display_data"
    },
    {
     "name": "stdout",
     "output_type": "stream",
     "text": [
      "INFO:httpx:HTTP Request: POST http://192.168.0.72:3000/v1/chat/completions \"HTTP/1.1 200 OK\"\n",
      "HTTP Request: POST http://192.168.0.72:3000/v1/chat/completions \"HTTP/1.1 200 OK\"\n",
      "方鸿渐的父亲的名字在提供的文本中没有直接提及。不过，从上下文可以推断，他是苏鸿业、方弼和方相的长辈，以及柔嘉口中提到的“方家”的家长。由于没有具体名字，我无法直接给出答案。\n",
      "CPU times: user 859 ms, sys: 24.1 ms, total: 883 ms\n",
      "Wall time: 4.08 s\n"
     ]
    }
   ],
   "source": [
    "%%time\n",
    "\n",
    "streaming_response = query_engine.query(\"方鸿渐的父亲是谁，说出他的名字\")\n",
    "streaming_response.print_response_stream()\n",
    "print()"
   ]
  },
  {
   "cell_type": "code",
   "execution_count": 18,
   "id": "0ef21bfe-436d-4bfa-ab17-f194d31fdeb9",
   "metadata": {},
   "outputs": [
    {
     "data": {
      "application/vnd.jupyter.widget-view+json": {
       "model_id": "d9dc372ffcd0414e89d345147e631ed9",
       "version_major": 2,
       "version_minor": 0
      },
      "text/plain": [
       "Batches:   0%|          | 0/4 [00:00<?, ?it/s]"
      ]
     },
     "metadata": {},
     "output_type": "display_data"
    },
    {
     "name": "stdout",
     "output_type": "stream",
     "text": [
      "INFO:httpx:HTTP Request: POST http://192.168.0.72:3000/v1/chat/completions \"HTTP/1.1 200 OK\"\n",
      "HTTP Request: POST http://192.168.0.72:3000/v1/chat/completions \"HTTP/1.1 200 OK\"\n",
      "方鸿渐的父亲的名字是方遯翁。\n",
      "CPU times: user 844 ms, sys: 7.38 ms, total: 851 ms\n",
      "Wall time: 2.33 s\n"
     ]
    }
   ],
   "source": [
    "%%time\n",
    "\n",
    "streaming_response = query_engine.query(\"方鸿渐的父亲是谁，说出他的名字，名字好像带一个翁字\")\n",
    "streaming_response.print_response_stream()\n",
    "print()"
   ]
  },
  {
   "cell_type": "code",
   "execution_count": 19,
   "id": "7c4146b8-0c78-4d05-8294-cd0a7b8c549a",
   "metadata": {},
   "outputs": [
    {
     "data": {
      "application/vnd.jupyter.widget-view+json": {
       "model_id": "7f34fc708d854ea49c3cda6ef57361cf",
       "version_major": 2,
       "version_minor": 0
      },
      "text/plain": [
       "Batches:   0%|          | 0/4 [00:00<?, ?it/s]"
      ]
     },
     "metadata": {},
     "output_type": "display_data"
    },
    {
     "name": "stdout",
     "output_type": "stream",
     "text": [
      "INFO:httpx:HTTP Request: POST http://192.168.0.72:3000/v1/chat/completions \"HTTP/1.1 200 OK\"\n",
      "HTTP Request: POST http://192.168.0.72:3000/v1/chat/completions \"HTTP/1.1 200 OK\"\n",
      "文中提到的“局部的真理”可能是指在特定情境或语境下，某个陈述或观点虽然不全面，但却是部分正确的。鲍小姐的例子中，可能是因为她并未完全赤裸，所以他们将一个过于直接或绝对的说法修正为更符合实际情况的“局部的真理”。这表明在讨论中，人们会根据实际情况调整语言，以避免误解或过于极端。\n",
      "CPU times: user 898 ms, sys: 27 ms, total: 925 ms\n",
      "Wall time: 4.82 s\n"
     ]
    }
   ],
   "source": [
    "%%time\n",
    "\n",
    "streaming_response = query_engine.query(\"文中提到的局部真理是啥意思\")\n",
    "streaming_response.print_response_stream()\n",
    "print()"
   ]
  }
 ],
 "metadata": {
  "kernelspec": {
   "display_name": "Python 3 (ipykernel)",
   "language": "python",
   "name": "python3"
  },
  "language_info": {
   "codemirror_mode": {
    "name": "ipython",
    "version": 3
   },
   "file_extension": ".py",
   "mimetype": "text/x-python",
   "name": "python",
   "nbconvert_exporter": "python",
   "pygments_lexer": "ipython3",
   "version": "3.10.12"
  }
 },
 "nbformat": 4,
 "nbformat_minor": 5
}
