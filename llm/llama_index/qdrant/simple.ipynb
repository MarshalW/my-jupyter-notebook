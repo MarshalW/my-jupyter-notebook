{
 "cells": [
  {
   "cell_type": "markdown",
   "id": "39061cef-7ae9-46cc-9549-17059a846cf6",
   "metadata": {},
   "source": [
    "# Qdrant 示例"
   ]
  },
  {
   "cell_type": "markdown",
   "id": "7e81a33c-fe77-4dd8-a933-241e453c08f8",
   "metadata": {},
   "source": [
    "## 加载文档"
   ]
  },
  {
   "cell_type": "code",
   "execution_count": 1,
   "id": "03d1e99c-5876-463f-84d1-4b25dedb682b",
   "metadata": {},
   "outputs": [
    {
     "name": "stdout",
     "output_type": "stream",
     "text": [
      "CPU times: user 1.55 s, sys: 247 ms, total: 1.8 s\n",
      "Wall time: 1.42 s\n"
     ]
    },
    {
     "data": {
      "text/plain": [
       "2"
      ]
     },
     "execution_count": 1,
     "metadata": {},
     "output_type": "execute_result"
    }
   ],
   "source": [
    "%%time\n",
    "\n",
    "from llama_index.core import SimpleDirectoryReader\n",
    "\n",
    "documents=SimpleDirectoryReader(\n",
    "    input_dir=\"./data\",\n",
    "    filename_as_id=True,\n",
    ").load_data()\n",
    "\n",
    "len(documents)"
   ]
  },
  {
   "cell_type": "markdown",
   "id": "0b7daa1a-1b37-4403-8188-10ba3207b6ec",
   "metadata": {},
   "source": [
    "## 全局设置"
   ]
  },
  {
   "cell_type": "code",
   "execution_count": 2,
   "id": "5ec3ffcf-21f1-4fc8-92fb-3f6e5614fd3a",
   "metadata": {},
   "outputs": [
    {
     "name": "stdout",
     "output_type": "stream",
     "text": [
      "CPU times: user 732 ms, sys: 32.2 ms, total: 764 ms\n",
      "Wall time: 764 ms\n"
     ]
    }
   ],
   "source": [
    "%%time\n",
    "\n",
    "from llama_index.core import Settings\n",
    "from llama_index.llms.ollama import Ollama\n",
    "from llama_index.embeddings.ollama import OllamaEmbedding\n",
    "\n",
    "Settings.llm = Ollama(\n",
    "    base_url=\"http://ape:11434\",\n",
    "    model=\"qwen2\",\n",
    "    is_chat_model=True,\n",
    "    temperature=0.1,\n",
    "    request_timeout=60.0\n",
    ")\n",
    "\n",
    "Settings.embed_model = OllamaEmbedding(\n",
    "    model_name=\"rjmalagon/gte-qwen2-1.5b-instruct-embed-f16\",\n",
    "    base_url=\"http://ape:11434\",\n",
    "    # -mirostat N 使用 Mirostat 采样。\n",
    "    ollama_additional_kwargs={\"mirostat\": 0},\n",
    ")\n",
    "\n",
    "# Settings.chunk_size = 512\n",
    "# Settings.chunk_overlap = 50"
   ]
  },
  {
   "cell_type": "markdown",
   "id": "1951262c-5e5c-475d-a300-feb8cf3a62a2",
   "metadata": {},
   "source": [
    "## 创建向量索引"
   ]
  },
  {
   "cell_type": "code",
   "execution_count": 3,
   "id": "7c50497c-d4d3-4293-908b-34b088c86226",
   "metadata": {},
   "outputs": [
    {
     "name": "stdout",
     "output_type": "stream",
     "text": [
      "Collection 'example' 不存在，创建.\n",
      "CPU times: user 1.47 s, sys: 64.8 ms, total: 1.54 s\n",
      "Wall time: 2.35 s\n"
     ]
    },
    {
     "data": {
      "text/plain": [
       "<llama_index.core.indices.vector_store.base.VectorStoreIndex at 0x7f89fd4dbf10>"
      ]
     },
     "execution_count": 3,
     "metadata": {},
     "output_type": "execute_result"
    }
   ],
   "source": [
    "%%time\n",
    "\n",
    "import qdrant_client\n",
    "from llama_index.vector_stores.qdrant import QdrantVectorStore\n",
    "from qdrant_client.models import Distance, VectorParams\n",
    "from llama_index.core import StorageContext\n",
    "from llama_index.core import VectorStoreIndex\n",
    "\n",
    "client = qdrant_client.QdrantClient(\n",
    "    # location=\":memory:\",\n",
    "    host=\"ape\", port=6333,\n",
    ")\n",
    "\n",
    "collection_name = \"example\"\n",
    "\n",
    "vector_store = QdrantVectorStore(\n",
    "    client=client, \n",
    "    collection_name=collection_name\n",
    ")\n",
    "storage_context = StorageContext.from_defaults(vector_store=vector_store)\n",
    "\n",
    "collections = client.get_collections()\n",
    "\n",
    "# 检查集合是否存在\n",
    "if any(collection.name == collection_name for collection in collections.collections):\n",
    "    print(f\"Collection '{collection_name}' 已经存在，加载.\")\n",
    "    index = VectorStoreIndex.from_vector_store(vector_store=vector_store)\n",
    "else:\n",
    "    print(f\"Collection '{collection_name}' 不存在，创建.\")\n",
    "\n",
    "    index = VectorStoreIndex.from_documents(\n",
    "        documents,\n",
    "        storage_context=storage_context,\n",
    "    )\n",
    "\n",
    "index"
   ]
  },
  {
   "cell_type": "markdown",
   "id": "1f2f1ba1-e084-4b92-ae39-19c1292364d8",
   "metadata": {},
   "source": [
    "## 高级查询"
   ]
  },
  {
   "cell_type": "code",
   "execution_count": 4,
   "id": "24eb792c-e988-4642-830f-c7750bbbeb39",
   "metadata": {},
   "outputs": [
    {
     "name": "stdout",
     "output_type": "stream",
     "text": [
      "CPU times: user 123 µs, sys: 11 µs, total: 134 µs\n",
      "Wall time: 137 µs\n"
     ]
    }
   ],
   "source": [
    "%%time\n",
    "\n",
    "query_engine = index.as_query_engine(\n",
    "    response_mode=\"tree_summarize\", \n",
    "    streaming=True,\n",
    ")"
   ]
  },
  {
   "cell_type": "code",
   "execution_count": 5,
   "id": "2547da2d-f93c-44e5-bb11-bd275337bae5",
   "metadata": {},
   "outputs": [
    {
     "name": "stdout",
     "output_type": "stream",
     "text": [
      "天问三号任务原计划在2030年前后实施发射。CPU times: user 72.8 ms, sys: 1.94 ms, total: 74.7 ms\n",
      "Wall time: 1.16 s\n"
     ]
    }
   ],
   "source": [
    "%%time\n",
    "\n",
    "response = query_engine.query(\"天问三号原计划是何时发射？\")\n",
    "response.print_response_stream()"
   ]
  },
  {
   "cell_type": "code",
   "execution_count": 6,
   "id": "222fd2e3-7fff-4d19-807e-0807d2f73e94",
   "metadata": {},
   "outputs": [
    {
     "data": {
      "text/plain": [
       "0.68652153"
      ]
     },
     "execution_count": 6,
     "metadata": {},
     "output_type": "execute_result"
    }
   ],
   "source": [
    "response.source_nodes[0].score"
   ]
  },
  {
   "cell_type": "markdown",
   "id": "0a04b8f5-bd20-4c2c-8c3e-3ee8c88839de",
   "metadata": {},
   "source": [
    "## 底层 api 查询"
   ]
  },
  {
   "cell_type": "code",
   "execution_count": 7,
   "id": "02bc8087-b7e4-4a4e-8b4e-fff151a90b64",
   "metadata": {},
   "outputs": [
    {
     "name": "stdout",
     "output_type": "stream",
     "text": [
      "CPU times: user 4.12 ms, sys: 9 µs, total: 4.13 ms\n",
      "Wall time: 3.71 ms\n"
     ]
    }
   ],
   "source": [
    "%%time\n",
    "\n",
    "from llama_index.core import get_response_synthesizer\n",
    "from llama_index.core.retrievers import VectorIndexRetriever\n",
    "from llama_index.core.query_engine import RetrieverQueryEngine\n",
    "from llama_index.core.postprocessor import SimilarityPostprocessor\n",
    "\n",
    "retriever = VectorIndexRetriever(\n",
    "    index=index\n",
    ")\n",
    "\n",
    "response_synthesizer = get_response_synthesizer(\n",
    "    streaming=True,\n",
    ")\n",
    "\n",
    "query_engine = RetrieverQueryEngine(\n",
    "    retriever=retriever,\n",
    "    response_synthesizer=response_synthesizer,\n",
    "    node_postprocessors=[SimilarityPostprocessor(similarity_cutoff=0.3)],\n",
    ")"
   ]
  },
  {
   "cell_type": "code",
   "execution_count": 8,
   "id": "fe48ce3d-95c9-4495-9762-f3cbf4488474",
   "metadata": {},
   "outputs": [
    {
     "name": "stdout",
     "output_type": "stream",
     "text": [
      "网传“中国高铁一公里耗一万度电”的说法不属实。这一说法偷换了概念，与事实不符。以现有CRH380A、CRH380B、CR400AF、CR400BF等4个8编组的主力车型为例，其轮周功率分别为：9360kW、9200kW、9750kW、10140kW。通过在京沪高铁（往返距离2636公里）达速350km/h运行条件下的能耗测试数据显示，其耗电量分别为：56931度、61861度、51364度、55490度，据此推算出平均每公里耗电量分别为：21.6度、23.5度、19.5度、21.1度。因此，网传“一公里耗一万度电”是错误的，实际上中国高铁列车每公里耗电量远低于这一数值。CPU times: user 260 ms, sys: 29.7 ms, total: 290 ms\n",
      "Wall time: 5.03 s\n"
     ]
    }
   ],
   "source": [
    "%%time\n",
    "\n",
    "response = query_engine.query(\"高铁一公里耗电一万度是否属实？\")\n",
    "response.print_response_stream()"
   ]
  },
  {
   "cell_type": "markdown",
   "id": "83314e43-c23a-43c3-a010-940c55d1492f",
   "metadata": {},
   "source": [
    "## 追加文档"
   ]
  },
  {
   "cell_type": "code",
   "execution_count": 9,
   "id": "247348b8-6896-4acb-b122-0b82819043ad",
   "metadata": {},
   "outputs": [
    {
     "name": "stdout",
     "output_type": "stream",
     "text": [
      "CPU times: user 2.09 ms, sys: 0 ns, total: 2.09 ms\n",
      "Wall time: 1.75 ms\n"
     ]
    },
    {
     "data": {
      "text/plain": [
       "3"
      ]
     },
     "execution_count": 9,
     "metadata": {},
     "output_type": "execute_result"
    }
   ],
   "source": [
    "%%time\n",
    "\n",
    "new_document=SimpleDirectoryReader(\n",
    "    input_dir=\"./data2\",\n",
    "    filename_as_id=True,\n",
    ").load_data()[0]\n",
    "\n",
    "documents.append(new_document)\n",
    "\n",
    "len(documents)"
   ]
  },
  {
   "cell_type": "markdown",
   "id": "2abdc5f0-09bb-4b0e-90ce-c5e3484430dd",
   "metadata": {},
   "source": [
    "## 刷新索引"
   ]
  },
  {
   "cell_type": "code",
   "execution_count": 10,
   "id": "9eab38c5-51be-4f1a-a65f-60dffd47cb86",
   "metadata": {},
   "outputs": [
    {
     "name": "stdout",
     "output_type": "stream",
     "text": [
      "CPU times: user 57.2 ms, sys: 6 µs, total: 57.2 ms\n",
      "Wall time: 203 ms\n"
     ]
    },
    {
     "data": {
      "text/plain": [
       "[False, False, True]"
      ]
     },
     "execution_count": 10,
     "metadata": {},
     "output_type": "execute_result"
    }
   ],
   "source": [
    "%%time\n",
    "\n",
    "index.refresh_ref_docs(documents)"
   ]
  }
 ],
 "metadata": {
  "kernelspec": {
   "display_name": "Python 3 (ipykernel)",
   "language": "python",
   "name": "python3"
  },
  "language_info": {
   "codemirror_mode": {
    "name": "ipython",
    "version": 3
   },
   "file_extension": ".py",
   "mimetype": "text/x-python",
   "name": "python",
   "nbconvert_exporter": "python",
   "pygments_lexer": "ipython3",
   "version": "3.10.12"
  }
 },
 "nbformat": 4,
 "nbformat_minor": 5
}
