{
 "cells": [
  {
   "cell_type": "markdown",
   "id": "9f46f0f2-3109-4bf5-ae07-2aa25c4b2fc2",
   "metadata": {},
   "source": [
    "# Open AI 最基本的对话示例\n",
    "\n",
    "需要安装：\n",
    "\n",
    "```bash\n",
    "pip install openai python-dotenv\n",
    "```"
   ]
  },
  {
   "cell_type": "code",
   "execution_count": null,
   "id": "d8d9d894-640b-4c24-81e1-042473255e19",
   "metadata": {},
   "outputs": [],
   "source": [
    "# %load_ext dotenv\n",
    "# %dotenv\n",
    "%reload_ext dotenv\n",
    "\n",
    "import openai\n",
    "import os\n",
    "\n",
    "# 设置你的OpenAI API密钥\n",
    "api_key = os.environ['API_KEY']\n",
    "openai.api_key = api_key\n",
    "\n",
    "# 定义对话\n",
    "conversation = [\n",
    "    # {\"role\": \"system\", \"content\": \"You are a helpful assistant.\"},\n",
    "    # {\"role\": \"user\", \"content\": \"Who won the world series in 2020?\"},\n",
    "    # {\"role\": \"assistant\", \"content\": \"The Los Angeles Dodgers won the World Series in 2020.\"},\n",
    "    # {\"role\": \"user\", \"content\": \"Where was it played?\"}\n",
    "    {\"role\": \"system\", \"content\": \"你是一个能干的助手\"},\n",
    "    {\"role\": \"user\", \"content\": \"你现在要帮助我向一个外星人介绍南极在哪里\"},\n",
    "]\n",
    "\n",
    "# 发送对话请求\n",
    "response = openai.ChatCompletion.create(\n",
    "  model=\"gpt-3.5-turbo\",\n",
    "  messages=conversation\n",
    ")\n",
    "\n",
    "# 提取助手的回复\n",
    "assistant_reply = response['choices'][0]['message']['content']\n",
    "\n",
    "# 打印助手的回复\n",
    "print(assistant_reply)\n"
   ]
  },
  {
   "cell_type": "code",
   "execution_count": null,
   "id": "824ca9f3-06e0-45bb-accc-92c3e7d0b8f2",
   "metadata": {},
   "outputs": [],
   "source": []
  }
 ],
 "metadata": {
  "kernelspec": {
   "display_name": "Python 3 (ipykernel)",
   "language": "python",
   "name": "python3"
  },
  "language_info": {
   "codemirror_mode": {
    "name": "ipython",
    "version": 3
   },
   "file_extension": ".py",
   "mimetype": "text/x-python",
   "name": "python",
   "nbconvert_exporter": "python",
   "pygments_lexer": "ipython3",
   "version": "3.10.12"
  }
 },
 "nbformat": 4,
 "nbformat_minor": 5
}
