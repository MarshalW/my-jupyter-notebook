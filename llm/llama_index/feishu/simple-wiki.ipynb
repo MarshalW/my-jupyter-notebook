{
 "cells": [
  {
   "cell_type": "markdown",
   "id": "dc027e59-02b0-44a0-bf15-a62ee01432f3",
   "metadata": {},
   "source": [
    "# 加载 wiki 文档查询"
   ]
  },
  {
   "cell_type": "code",
   "execution_count": null,
   "id": "b1046611-9a20-4742-bd50-a6bc29f1fb44",
   "metadata": {},
   "outputs": [],
   "source": []
  },
  {
   "cell_type": "markdown",
   "id": "5aca1d13-b6e7-4552-9c3e-111eb226c6a2",
   "metadata": {},
   "source": [
    "## 全局设置"
   ]
  },
  {
   "cell_type": "code",
   "execution_count": 1,
   "id": "17d0b7ec-12a4-4340-a6d6-8b6290e3465b",
   "metadata": {},
   "outputs": [
    {
     "name": "stdout",
     "output_type": "stream",
     "text": [
      "CPU times: user 10.1 ms, sys: 3.55 ms, total: 13.7 ms\n",
      "Wall time: 1.99 s\n"
     ]
    }
   ],
   "source": [
    "%%time\n",
    "%%capture\n",
    "\n",
    "!pip install llama-index-readers-feishu-wiki"
   ]
  },
  {
   "cell_type": "code",
   "execution_count": 2,
   "id": "04ca5aea-3f18-4c03-9d2e-71a38c0a95d5",
   "metadata": {},
   "outputs": [
    {
     "name": "stdout",
     "output_type": "stream",
     "text": [
      "CPU times: user 2.16 s, sys: 228 ms, total: 2.39 s\n",
      "Wall time: 2 s\n"
     ]
    }
   ],
   "source": [
    "%%time\n",
    "\n",
    "from llama_index.core import Settings\n",
    "from llama_index.llms.ollama import Ollama\n",
    "from llama_index.embeddings.ollama import OllamaEmbedding\n",
    "\n",
    "Settings.llm=Ollama(\n",
    "    base_url=\"http://ape:11434\",\n",
    "    model=\"qwen2\",\n",
    "    is_chat_model=True,\n",
    "    temperature=0.1,\n",
    "    request_timeout=60.0\n",
    ")\n",
    "\n",
    "Settings.embed_model = OllamaEmbedding(\n",
    "    model_name=\"quentinz/bge-large-zh-v1.5\",\n",
    "    base_url=\"http://ape:11434\",\n",
    "    ollama_additional_kwargs={\"mirostat\": 0}, # -mirostat N 使用 Mirostat 采样。\n",
    ")"
   ]
  },
  {
   "cell_type": "markdown",
   "id": "1bc6ec96-08d2-4897-8bbd-b636e3f754d4",
   "metadata": {},
   "source": [
    "## 加载文档"
   ]
  },
  {
   "cell_type": "code",
   "execution_count": 43,
   "id": "cc03156e-fd45-4b58-8b42-1aa1f774d585",
   "metadata": {},
   "outputs": [],
   "source": [
    "import logging\n",
    "import sys\n",
    "\n",
    "logging.basicConfig(stream=sys.stdout, level=logging.DEBUG)\n",
    "logging.getLogger().addHandler(logging.StreamHandler(stream=sys.stdout))"
   ]
  },
  {
   "cell_type": "code",
   "execution_count": 48,
   "id": "41eb0296-7fbd-4188-8727-68ed5dca883e",
   "metadata": {},
   "outputs": [
    {
     "name": "stdout",
     "output_type": "stream",
     "text": [
      "DEBUG:urllib3.connectionpool:Starting new HTTPS connection (1): open.feishu.cn:443\n",
      "Starting new HTTPS connection (1): open.feishu.cn:443\n",
      "DEBUG:urllib3.connectionpool:https://open.feishu.cn:443 \"POST /open-apis/auth/v3/tenant_access_token/internal HTTP/11\" 200 102\n",
      "https://open.feishu.cn:443 \"POST /open-apis/auth/v3/tenant_access_token/internal HTTP/11\" 200 102\n",
      "DEBUG:urllib3.connectionpool:Starting new HTTPS connection (1): open.feishu.cn:443\n",
      "Starting new HTTPS connection (1): open.feishu.cn:443\n",
      "DEBUG:urllib3.connectionpool:https://open.feishu.cn:443 \"GET /open-apis/wiki/v2/spaces/7408151433373335556/nodes HTTP/11\" 200 None\n",
      "https://open.feishu.cn:443 \"GET /open-apis/wiki/v2/spaces/7408151433373335556/nodes HTTP/11\" 200 None\n",
      "DEBUG:urllib3.connectionpool:Starting new HTTPS connection (1): open.feishu.cn:443\n",
      "Starting new HTTPS connection (1): open.feishu.cn:443\n",
      "DEBUG:urllib3.connectionpool:https://open.feishu.cn:443 \"GET /open-apis/docx/v1/documents/FJ1ndY2MsoTWTPxWWaTcXBZonJl/raw_content HTTP/11\" 200 None\n",
      "https://open.feishu.cn:443 \"GET /open-apis/docx/v1/documents/FJ1ndY2MsoTWTPxWWaTcXBZonJl/raw_content HTTP/11\" 200 None\n",
      "DEBUG:urllib3.connectionpool:Starting new HTTPS connection (1): open.feishu.cn:443\n",
      "Starting new HTTPS connection (1): open.feishu.cn:443\n",
      "DEBUG:urllib3.connectionpool:https://open.feishu.cn:443 \"GET /open-apis/docx/v1/documents/ZZbkdrFwMomrHmxLEc6csU8ynvg/raw_content HTTP/11\" 200 None\n",
      "https://open.feishu.cn:443 \"GET /open-apis/docx/v1/documents/ZZbkdrFwMomrHmxLEc6csU8ynvg/raw_content HTTP/11\" 200 None\n",
      "CPU times: user 24.6 ms, sys: 1.07 ms, total: 25.7 ms\n",
      "Wall time: 1.19 s\n"
     ]
    }
   ],
   "source": [
    "%%time\n",
    "\n",
    "app_id = \"cli_a644510a88eb900c\"\n",
    "app_secret = \"HVk6lCNTQEg22zJkNp7rhehivBUz4GOn\"\n",
    "space_id = \"7408151433373335556\"\n",
    "\n",
    "from llama_index.readers.feishu_wiki import FeishuWikiReader\n",
    "\n",
    "documents=FeishuWikiReader(app_id, app_secret).load_data(space_id=space_id)"
   ]
  },
  {
   "cell_type": "code",
   "execution_count": 49,
   "id": "95f825b7-f261-4239-9c83-774b5776121f",
   "metadata": {},
   "outputs": [
    {
     "data": {
      "text/plain": [
       "2"
      ]
     },
     "execution_count": 49,
     "metadata": {},
     "output_type": "execute_result"
    }
   ],
   "source": [
    "len(documents)"
   ]
  },
  {
   "cell_type": "code",
   "execution_count": 50,
   "id": "facd3d9a-2ee3-47a4-9aeb-4167ace3521d",
   "metadata": {},
   "outputs": [
    {
     "data": {
      "text/plain": [
       "Document(id_='9849e2bb-5e16-4e80-880c-cebfa88a6e14', embedding=None, metadata={'document_id': 'FJ1ndY2MsoTWTPxWWaTcXBZonJl'}, excluded_embed_metadata_keys=[], excluded_llm_metadata_keys=[], relationships={}, text='Docker FAQ\\nDocker 加速相关配置\\n\\ndockerfile 中常用加速\\n\\n# 使用nvidia作为基础镜像\\nFROM nvidia/cuda:12.2.0-devel-ubuntu22.04\\n\\n# 设置时区环境变量\\nENV TZ=Asia/Shanghai\\n\\n# 设置时区\\n# 安装 python3/pip/jupyter相关\\nRUN ln -snf /usr/share/zoneinfo/$TZ /etc/localtime && echo $TZ > /etc/timezone \\\\\\n    && sed -i s@/archive.ubuntu.com/@/mirrors.tuna.tsinghua.edu.cn/@g /etc/apt/sources.list \\\\\\n    && apt update && apt install python3 pip git -y \\\\\\n    && apt-get -y install \\\\\\n        pandoc texlive-xetex texlive-fonts-recommended texlive-plain-generic \\\\\\n        latex-cjk-all -y \\\\\\n    && pip config --user set global.index-url https://pypi.tuna.tsinghua.edu.cn/simple \\\\\\n    && pip install \\\\\\n        jupyterlab jupyterlab-language-pack-zh-CN jupyterlab-git jupyterlab-github \\\\\\n        matplotlib \\\\\\n        numpy \\\\\\n        sympy \\\\\\n        mplfonts\\n\\n设置docker registry国内镜像\\n\\n参考：https://yeasy.gitbook.io/docker_practice/install/mirror\\n\\nubuntu server20.04\\n\\n/etc/docker/daemon.json\\n\\n{\\n  \"registry-mirrors\": [\\n    \"https://docker.nju.edu.cn\",\\n    \"https://hub-mirror.c.163.com\",\\n    \"https://mirror.baidubce.com\"\\n  ],\\n  \"insecure-registries\": [\"http://192.168.0.105:5000\"]\\n}\\n\\ndocker container proxy\\n\\n参见：https://docs.docker.com/network/proxy/\\n\\n编辑：~/.docker/config.json\\n\\n{\\n  \"proxies\": {\\n    \"default\": {\\n      \"httpProxy\": \"http://10.1.1.100:8118\",\\n      \"httpsProxy\": \"http://10.1.1.100:8118\",\\n      \"noProxy\": \"localhost,*.test.example.com,.example2.com\"\\n    }\\n  }\\n}  \\n\\ndocker pull image 代理\\n\\n参见：https://docs.docker.com/config/daemon/systemd/\\n\\nsudo mkdir /etc/systemd/system/docker.service.d\\nsudo nano /etc/systemd/system/docker.service.d/http-proxy.conf\\n\\nhttp-proxy.conf:\\n\\n[Service]\\nEnvironment=\"HTTP_PROXY=http://proxy.example.com:80\"\\nEnvironment=\"HTTPS_PROXY=https://proxy.example.com:443\"\\nEnvironment=\"NO_PROXY=localhost,127.0.0.1,docker-registry.example.com,.corp\"\\n\\n重启 docker\\n\\nsudo systemctl daemon-reload && sudo systemctl restart docker\\n\\n使用宿主当前用户启动docker容器\\n\\ndocker-compose.yaml:\\n\\nversion: \\'3\\'\\nservices:\\n myservice:\\n    image: myimage\\n    user: ${CURRENT_UID}\\n    working_dir: $HOME\\n    stdin_open: true\\n    volumes:\\n      - /etc/group:/etc/group:ro\\n      - /etc/passwd:/etc/passwd:ro\\n      - /etc/shadow:/etc/shadow:ro\\n      - ./doc:/doc\\n    tty: true\\n    command: tail -f /dev/null\\n\\n执行：\\n\\n\\nCURRENT_UID=$(id -u):$(id -g) docker-compose up -d\\n\\ndocker 容器在后台执行\\n\\n# tty=true -t\\ndocker run -d -t --rm bash\\n\\ndocker-compose.yaml:\\n\\nversion: \\'3\\'\\nservices:\\n  bash:\\n    container_name: bash\\n    image: bash:latest\\n    tty: true\\n\\n格式化docker ps的输出\\n\\n在~/.bashrc加入：\\n\\nalias  dps=\"docker ps -a --format=\\\\\"table {{.ID}}\\\\t{{.Names}}\\\\t{{.Image}}\\\\t{{.Command}}\\\\t{{.Status}}\\\\t{{.Ports}}\\\\\"\"\\n效果：\\n\\n~$ dps\\nCONTAINER ID   NAMES           IMAGE                              COMMAND                  STATUS                    PORTS\\n5232df6e894e   gitea-server    gitea/gitea:1.13.4                 \"/usr/bin/entrypoint…\"   Up 14 minutes             22/tcp, 3000/tcp\\n7d2d9413bc85   mysql           mysql:8.0.23                       \"docker-entrypoint.s…\"   Up 14 minutes             3306/tcp, 33060/tcp\\n...\\n\\ndocker push to registry\\n\\n# 下载一个镜像，可以换成任意一个做测试\\n$ docker  pull curlimages/curl\\n\\n# 给这个镜像打本地 registry 标签\\n$ docker tag curlimages/curl:latest 192.168.0.71:5000/curl:0.1.0\\n\\n# 将打好标签的镜像推送到本地 registry\\n$ docker push 192.168.0.71:5000/curl:0.1.0\\nThe push refers to repository [192.168.0.71:5000/curl]\\n72a521189058: Pushed \\nfb7e65a993e1: Pushed \\n528912ae6e3c: Pushed \\n866c03db78bf: Pushed \\ne983d350de9f: Pushed \\n71b9a7821e63: Pushed \\nfafa7d4f4bcf: Pushed \\n3ac16f3d5560: Pushed \\n2416cbb93d01: Pushed \\n90044511e901: Pushed \\n994393dc58e7: Pushed \\n0.1.0: digest: sha256:63026076757659e99b03b303522874eb1133594d3db13e0e19b74752b36bf1dd size: 2617\\n\\n$ DOCKER_REGISTRY=192.168.0.71:5000\\n# 查看是否上传成功\\n$ curl -s -X GET $DOCKER_REGISTRY/v2/_catalog | jq .\\n{\\n  \"repositories\": [\\n    \"app-server\",\\n    \"curl\" # <--有了\\n  ]\\n}\\n\\ndocker 下 nginx 配置简单的静态网站\\n\\n创建目录和index.html\\n\\nmkdir src\\necho \\'test site\\' > src/index.html\\n\\ndocker-compose.yml\\n\\nversion: \"3\"\\n\\nservices:\\n  web1:\\n    image: nginx\\n    ports:\\n      - 127.0.0.1:80:80\\n      - 192.168.0.81:80:80\\n    volumes:\\n      - ./src:/usr/share/nginx/html\\n\\n完全删除 docker desktop for mac\\n\\n如果不能正常升级或者安装 docker desktop for mac，需要手动删除。\\n\\n首先，正常删除，比如\\n\\nbrew uninstall --cask docker \\n\\n或者在应用程序中直接删除 docker 应用。\\n\\n然后执行 uninstall.sh:\\n\\n#!/bin/bash\\n\\nrm -rf ~/Library/Caches/com.docker.docker\\nrm -rf ~/Library/Group\\\\ Containers/group.com.docker\\nrm -rf  ~/Library/Logs/Docker\\\\ Desktop\\nrm ~/Library/Preferences/com.docker.docker.plist\\nrm ~/Library/Preferences/com.electron.docker-frontend.plist\\nrm -rf ~/Library/Saved\\\\ Application\\\\ State/com.electron.docker-frontend.savedState\\nrm -rf ~/.docker\\nsudo rm -rf /usr/local/lib/docker\\n\\n再重新安装即可。\\n\\ninit 解决 docker 容器退出时间过长问题\\n\\ndocker 内置了 tini\\n\\n以前还有个 dumb-init 做类似的事情。\\n\\n在容器内以 PID 1 运行的程序负责：\\n\\n清理孤立子进程\\n处理信号\\n返回容器的退出状态\\n\\n大多数程序不适合在容器内作为 PID 1 运行。例如：\\n\\nbash不会将信号传递给其子级；例如，SIGTERM不会导致容器被关闭\\njava当发送 SIGTERM 时，即使应用程序完全关闭，也会以退出状态 143 退出\\nnode不会获取父进程已退出的孤立子进程\\n\\nTini提供了一个适合在容器内以 PID 1 运行的程序。\\n\\n直接使用 docker 命令：\\n\\n# --init\\ndocker run -d -t --rm --init  bash\\n\\n通过 docker-compose.yaml:\\n\\nversion: \"3\"\\nservices:\\n  web:\\n    image: alpine:latest\\n    init: true\\n\\ndocker 修改数据目录\\n\\n默认安装的 docker，数据目录在 /var/lib/docker，尤其是 /var/lib/docker/overlay2 因为存放 image 会逐步很大。\\n\\n需要设置到其他分区上去。\\n\\nsudo systemctl stop docker\\n\\n# 复制到其他目录\\nsudo cp -axT /var/lib/docker /mnt/storage3/docker\\n\\n# 设置自定义目录\\nsudo nano /etc/docker/daemon.json\\ncontent=\"\\n{\\n    \"data-root\": \"/mnt/storage3/docker\"\\n}\\n\"\\n\\n# 重启\\nsudo systemctl daemon-reload && sudo systemctl start docker\\n\\n# 查看是否生效\\ndocker images\\nREPOSITORY                        TAG       IMAGE ID       CREATED         SIZE\\nbash                              latest    7ba3c700ba40   12 days ago     13.9MB\\n\\ndocker inspect 7ba3c700ba40| grep WorkDir\\n                \"WorkDir\": \"/mnt/storage3/docker/overlay2/162c2f972554be60547930f603e04a41a184a1a80395abd30c59171fb5e676e9/work\"\\n\\ndocker 加载和保存镜像\\n\\n# 加载\\ndocker load < busybox.tar.gz\\ndocker load --input fedora.tar\\n\\n# 保存\\ndocker save myimage:latest | gzip > myimage_latest.tar.gz\\ndocker save busybox > busybox.tar\\n\\ndockerfile 使用 docker compose 传入环境变量\\n\\nFROM nvidia/cuda:12.2.0-devel-ubuntu22.04\\n\\n...\\n\\nEXPOSE 8000\\n\\nENTRYPOINT [\"/bin/bash\", \"-c\"]\\nCMD [\"python3 openai_api.py --checkpoint-path $CHECKPOINT_PATH --server-name 0.0.0.0\"]\\n\\ndocker-compose.yaml:\\n\\nversion: \"3\"\\n\\nservices:\\n  llm:\\n    image: qwen-llm\\n    container_name: llm   \\n    environment:\\n      - CHECKPOINT_PATH=/models/Qwen-14B-Chat-Int4\\n..\\n\\n', mimetype='text/plain', start_char_idx=None, end_char_idx=None, text_template='{metadata_str}\\n\\n{content}', metadata_template='{key}: {value}', metadata_seperator='\\n')"
      ]
     },
     "execution_count": 50,
     "metadata": {},
     "output_type": "execute_result"
    }
   ],
   "source": [
    "documents[0]"
   ]
  },
  {
   "cell_type": "markdown",
   "id": "fce7d74f-f386-475f-818f-89db1d8f9edc",
   "metadata": {},
   "source": [
    "## 创建索引"
   ]
  },
  {
   "cell_type": "code",
   "execution_count": 51,
   "id": "1955f816-fa5f-4207-82de-288efba1e9e4",
   "metadata": {},
   "outputs": [
    {
     "name": "stdout",
     "output_type": "stream",
     "text": [
      "DEBUG:llama_index.core.node_parser.node_utils:> Adding chunk: Docker FAQ\n",
      "Docker 加速相关配置\n",
      "\n",
      "dockerfile 中常用加速\n",
      "\n",
      "# 使...\n",
      "> Adding chunk: Docker FAQ\n",
      "Docker 加速相关配置\n",
      "\n",
      "dockerfile 中常用加速\n",
      "\n",
      "# 使...\n",
      "DEBUG:llama_index.core.node_parser.node_utils:> Adding chunk: CURRENT_UID=$(id -u):$(id -g) docker-compose up...\n",
      "> Adding chunk: CURRENT_UID=$(id -u):$(id -g) docker-compose up...\n",
      "DEBUG:llama_index.core.node_parser.node_utils:> Adding chunk: {\n",
      "  \"repositories\": [\n",
      "    \"app-server\",\n",
      "    \"cu...\n",
      "> Adding chunk: {\n",
      "  \"repositories\": [\n",
      "    \"app-server\",\n",
      "    \"cu...\n",
      "DEBUG:llama_index.core.node_parser.node_utils:> Adding chunk: 首页\n",
      "在首页你可以对空间进行说明，比如包含以下内容。\n",
      "🎯  愿景和目标\n",
      "这里你可以描述知识空间...\n",
      "> Adding chunk: 首页\n",
      "在首页你可以对空间进行说明，比如包含以下内容。\n",
      "🎯  愿景和目标\n",
      "这里你可以描述知识空间...\n",
      "DEBUG:urllib3.connectionpool:Starting new HTTP connection (1): ape:11434\n",
      "Starting new HTTP connection (1): ape:11434\n",
      "DEBUG:urllib3.connectionpool:http://ape:11434 \"POST /api/embeddings HTTP/11\" 200 None\n",
      "http://ape:11434 \"POST /api/embeddings HTTP/11\" 200 None\n",
      "DEBUG:urllib3.connectionpool:Starting new HTTP connection (1): ape:11434\n",
      "Starting new HTTP connection (1): ape:11434\n",
      "DEBUG:urllib3.connectionpool:http://ape:11434 \"POST /api/embeddings HTTP/11\" 200 None\n",
      "http://ape:11434 \"POST /api/embeddings HTTP/11\" 200 None\n",
      "DEBUG:urllib3.connectionpool:Starting new HTTP connection (1): ape:11434\n",
      "Starting new HTTP connection (1): ape:11434\n",
      "DEBUG:urllib3.connectionpool:http://ape:11434 \"POST /api/embeddings HTTP/11\" 200 None\n",
      "http://ape:11434 \"POST /api/embeddings HTTP/11\" 200 None\n",
      "DEBUG:urllib3.connectionpool:Starting new HTTP connection (1): ape:11434\n",
      "Starting new HTTP connection (1): ape:11434\n",
      "DEBUG:urllib3.connectionpool:http://ape:11434 \"POST /api/embeddings HTTP/11\" 200 None\n",
      "http://ape:11434 \"POST /api/embeddings HTTP/11\" 200 None\n",
      "CPU times: user 240 ms, sys: 16.4 ms, total: 257 ms\n",
      "Wall time: 1.65 s\n"
     ]
    }
   ],
   "source": [
    "%%time\n",
    "\n",
    "from llama_index.core import VectorStoreIndex\n",
    "\n",
    "index = VectorStoreIndex.from_documents(\n",
    "    documents\n",
    ")"
   ]
  },
  {
   "cell_type": "markdown",
   "id": "d2bd4e08-1522-420f-8124-f3071e3aeeb7",
   "metadata": {},
   "source": [
    "## 查询"
   ]
  },
  {
   "cell_type": "code",
   "execution_count": 52,
   "id": "39aeadee-4c7c-4329-b105-8f97a7ab945f",
   "metadata": {},
   "outputs": [
    {
     "name": "stdout",
     "output_type": "stream",
     "text": [
      "DEBUG:urllib3.connectionpool:Starting new HTTP connection (1): ape:11434\n",
      "Starting new HTTP connection (1): ape:11434\n",
      "DEBUG:urllib3.connectionpool:http://ape:11434 \"POST /api/embeddings HTTP/11\" 200 None\n",
      "http://ape:11434 \"POST /api/embeddings HTTP/11\" 200 None\n",
      "DEBUG:llama_index.core.indices.utils:> Top 2 nodes:\n",
      "> [Node 838e3eb1-2149-468b-91c6-f8245f52d571] [Similarity score:             0.642404] Docker FAQ\n",
      "Docker 加速相关配置\n",
      "\n",
      "dockerfile 中常用加速\n",
      "\n",
      "# 使用nvidia作为基础镜像\n",
      "FROM nvidia/cuda:12.2.0-devel-ubuntu...\n",
      "> [Node 116c7d5f-11f0-41e4-a6ae-1790250834ee] [Similarity score:             0.574852] CURRENT_UID=$(id -u):$(id -g) docker-compose up -d\n",
      "\n",
      "docker 容器在后台执行\n",
      "\n",
      "# tty=true -t\n",
      "docker run -d -...\n",
      "> Top 2 nodes:\n",
      "> [Node 838e3eb1-2149-468b-91c6-f8245f52d571] [Similarity score:             0.642404] Docker FAQ\n",
      "Docker 加速相关配置\n",
      "\n",
      "dockerfile 中常用加速\n",
      "\n",
      "# 使用nvidia作为基础镜像\n",
      "FROM nvidia/cuda:12.2.0-devel-ubuntu...\n",
      "> [Node 116c7d5f-11f0-41e4-a6ae-1790250834ee] [Similarity score:             0.574852] CURRENT_UID=$(id -u):$(id -g) docker-compose up -d\n",
      "\n",
      "docker 容器在后台执行\n",
      "\n",
      "# tty=true -t\n",
      "docker run -d -...\n",
      "DEBUG:httpx:load_ssl_context verify=True cert=None trust_env=True http2=False\n",
      "load_ssl_context verify=True cert=None trust_env=True http2=False\n",
      "DEBUG:httpx:load_verify_locations cafile='/usr/local/lib/python3.10/dist-packages/certifi/cacert.pem'\n",
      "load_verify_locations cafile='/usr/local/lib/python3.10/dist-packages/certifi/cacert.pem'\n",
      "DEBUG:httpcore.connection:connect_tcp.started host='ape' port=11434 local_address=None timeout=60.0 socket_options=None\n",
      "connect_tcp.started host='ape' port=11434 local_address=None timeout=60.0 socket_options=None\n",
      "DEBUG:httpcore.connection:connect_tcp.complete return_value=<httpcore._backends.sync.SyncStream object at 0x7f31c96b9510>\n",
      "connect_tcp.complete return_value=<httpcore._backends.sync.SyncStream object at 0x7f31c96b9510>\n",
      "DEBUG:httpcore.http11:send_request_headers.started request=<Request [b'POST']>\n",
      "send_request_headers.started request=<Request [b'POST']>\n",
      "DEBUG:httpcore.http11:send_request_headers.complete\n",
      "send_request_headers.complete\n",
      "DEBUG:httpcore.http11:send_request_body.started request=<Request [b'POST']>\n",
      "send_request_body.started request=<Request [b'POST']>\n",
      "DEBUG:httpcore.http11:send_request_body.complete\n",
      "send_request_body.complete\n",
      "DEBUG:httpcore.http11:receive_response_headers.started request=<Request [b'POST']>\n",
      "receive_response_headers.started request=<Request [b'POST']>\n",
      "DEBUG:httpcore.http11:receive_response_headers.complete return_value=(b'HTTP/1.1', 200, b'OK', [(b'Content-Type', b'application/x-ndjson'), (b'Date', b'Wed, 28 Aug 2024 13:19:05 GMT'), (b'Transfer-Encoding', b'chunked')])\n",
      "receive_response_headers.complete return_value=(b'HTTP/1.1', 200, b'OK', [(b'Content-Type', b'application/x-ndjson'), (b'Date', b'Wed, 28 Aug 2024 13:19:05 GMT'), (b'Transfer-Encoding', b'chunked')])\n",
      "INFO:httpx:HTTP Request: POST http://ape:11434/api/chat \"HTTP/1.1 200 OK\"\n",
      "HTTP Request: POST http://ape:11434/api/chat \"HTTP/1.1 200 OK\"\n",
      "DEBUG:httpcore.http11:receive_response_body.started request=<Request [b'POST']>\n",
      "receive_response_body.started request=<Request [b'POST']>\n",
      "docker容器在后台执行的命令是`docker run -d -t --rm bash`。DEBUG:httpcore.http11:receive_response_body.failed exception=GeneratorExit()\n",
      "receive_response_body.failed exception=GeneratorExit()\n",
      "DEBUG:httpcore.http11:response_closed.started\n",
      "response_closed.started\n",
      "DEBUG:httpcore.http11:response_closed.complete\n",
      "response_closed.complete\n",
      "CPU times: user 92.2 ms, sys: 9.45 ms, total: 102 ms\n",
      "Wall time: 2.85 s\n"
     ]
    }
   ],
   "source": [
    "%%time\n",
    "\n",
    "query_engine = index.as_query_engine(\n",
    "    streaming=True\n",
    ")\n",
    "streaming_response = query_engine.query(\"docker容器在后台执行的命令\")\n",
    "streaming_response.print_response_stream()"
   ]
  },
  {
   "cell_type": "code",
   "execution_count": 53,
   "id": "c12e16d9-14cc-442a-990e-1f5f6526ff71",
   "metadata": {},
   "outputs": [
    {
     "name": "stdout",
     "output_type": "stream",
     "text": [
      "DEBUG:urllib3.connectionpool:Starting new HTTP connection (1): ape:11434\n",
      "Starting new HTTP connection (1): ape:11434\n",
      "DEBUG:urllib3.connectionpool:http://ape:11434 \"POST /api/embeddings HTTP/11\" 200 None\n",
      "http://ape:11434 \"POST /api/embeddings HTTP/11\" 200 None\n",
      "DEBUG:llama_index.core.indices.utils:> Top 2 nodes:\n",
      "> [Node 838e3eb1-2149-468b-91c6-f8245f52d571] [Similarity score:             0.682691] Docker FAQ\n",
      "Docker 加速相关配置\n",
      "\n",
      "dockerfile 中常用加速\n",
      "\n",
      "# 使用nvidia作为基础镜像\n",
      "FROM nvidia/cuda:12.2.0-devel-ubuntu...\n",
      "> [Node e8d6f116-79df-48bc-b710-cb9180e56c6a] [Similarity score:             0.621747] {\n",
      "  \"repositories\": [\n",
      "    \"app-server\",\n",
      "    \"curl\" # <--有了\n",
      "  ]\n",
      "}\n",
      "\n",
      "docker 下 nginx 配置简单的静态网站\n",
      "\n",
      "创建目录和...\n",
      "> Top 2 nodes:\n",
      "> [Node 838e3eb1-2149-468b-91c6-f8245f52d571] [Similarity score:             0.682691] Docker FAQ\n",
      "Docker 加速相关配置\n",
      "\n",
      "dockerfile 中常用加速\n",
      "\n",
      "# 使用nvidia作为基础镜像\n",
      "FROM nvidia/cuda:12.2.0-devel-ubuntu...\n",
      "> [Node e8d6f116-79df-48bc-b710-cb9180e56c6a] [Similarity score:             0.621747] {\n",
      "  \"repositories\": [\n",
      "    \"app-server\",\n",
      "    \"curl\" # <--有了\n",
      "  ]\n",
      "}\n",
      "\n",
      "docker 下 nginx 配置简单的静态网站\n",
      "\n",
      "创建目录和...\n",
      "DEBUG:httpx:load_ssl_context verify=True cert=None trust_env=True http2=False\n",
      "load_ssl_context verify=True cert=None trust_env=True http2=False\n",
      "DEBUG:httpx:load_verify_locations cafile='/usr/local/lib/python3.10/dist-packages/certifi/cacert.pem'\n",
      "load_verify_locations cafile='/usr/local/lib/python3.10/dist-packages/certifi/cacert.pem'\n",
      "DEBUG:httpcore.connection:connect_tcp.started host='ape' port=11434 local_address=None timeout=60.0 socket_options=None\n",
      "connect_tcp.started host='ape' port=11434 local_address=None timeout=60.0 socket_options=None\n",
      "DEBUG:httpcore.connection:connect_tcp.complete return_value=<httpcore._backends.sync.SyncStream object at 0x7f31c9538c10>\n",
      "connect_tcp.complete return_value=<httpcore._backends.sync.SyncStream object at 0x7f31c9538c10>\n",
      "DEBUG:httpcore.http11:send_request_headers.started request=<Request [b'POST']>\n",
      "send_request_headers.started request=<Request [b'POST']>\n",
      "DEBUG:httpcore.http11:send_request_headers.complete\n",
      "send_request_headers.complete\n",
      "DEBUG:httpcore.http11:send_request_body.started request=<Request [b'POST']>\n",
      "send_request_body.started request=<Request [b'POST']>\n",
      "DEBUG:httpcore.http11:send_request_body.complete\n",
      "send_request_body.complete\n",
      "DEBUG:httpcore.http11:receive_response_headers.started request=<Request [b'POST']>\n",
      "receive_response_headers.started request=<Request [b'POST']>\n",
      "DEBUG:httpcore.http11:receive_response_headers.complete return_value=(b'HTTP/1.1', 200, b'OK', [(b'Content-Type', b'application/x-ndjson'), (b'Date', b'Wed, 28 Aug 2024 13:19:21 GMT'), (b'Transfer-Encoding', b'chunked')])\n",
      "receive_response_headers.complete return_value=(b'HTTP/1.1', 200, b'OK', [(b'Content-Type', b'application/x-ndjson'), (b'Date', b'Wed, 28 Aug 2024 13:19:21 GMT'), (b'Transfer-Encoding', b'chunked')])\n",
      "INFO:httpx:HTTP Request: POST http://ape:11434/api/chat \"HTTP/1.1 200 OK\"\n",
      "HTTP Request: POST http://ape:11434/api/chat \"HTTP/1.1 200 OK\"\n",
      "DEBUG:httpcore.http11:receive_response_body.started request=<Request [b'POST']>\n",
      "receive_response_body.started request=<Request [b'POST']>\n",
      "在Docker中设置代理服务器，可以通过编辑`~/.docker/config.json`文件来实现。具体步骤如下：\n",
      "\n",
      "1. 打开或创建`~/.docker/config.json`文件。\n",
      "2. 添加以下内容到配置文件中：\n",
      "   ```json\n",
      "   {\n",
      "     \"proxies\": {\n",
      "       \"default\": {\n",
      "         \"httpProxy\": \"http://proxy.example.com:80\",\n",
      "         \"httpsProxy\": \"http://proxy.example.com:443\",\n",
      "         \"noProxy\": \"localhost,*.test.example.com,.example2.com\"\n",
      "       }\n",
      "     }\n",
      "   }\n",
      "   ```\n",
      "   其中，`proxy.example.com:80`和`proxy.example.com:443`分别是HTTP和HTTPS代理服务器的地址及端口。`noProxy`字段定义了不需要通过代理访问的域名或IP。\n",
      "\n",
      "3. 保存并关闭文件。\n",
      "4. 使用以下命令重启Docker服务以应用更改：\n",
      "   ```\n",
      "   sudo systemctl daemon-reload && sudo systemctl restart docker\n",
      "   ```\n",
      "\n",
      "这样，Docker容器就会使用指定的HTTP和HTTPS代理服务器。同时，`noProxy`字段定义的域名或IP将不通过代理直接访问。DEBUG:httpcore.http11:receive_response_body.failed exception=GeneratorExit()\n",
      "receive_response_body.failed exception=GeneratorExit()\n",
      "DEBUG:httpcore.http11:response_closed.started\n",
      "response_closed.started\n",
      "DEBUG:httpcore.http11:response_closed.complete\n",
      "response_closed.complete\n",
      "CPU times: user 288 ms, sys: 48.9 ms, total: 337 ms\n",
      "Wall time: 5.67 s\n"
     ]
    }
   ],
   "source": [
    "%%time\n",
    "\n",
    "streaming_response = query_engine.query(\"docker怎么设置代理服务器\")\n",
    "streaming_response.print_response_stream()"
   ]
  },
  {
   "cell_type": "code",
   "execution_count": 54,
   "id": "0871676a-b583-4db7-be7b-8f9750220bb7",
   "metadata": {},
   "outputs": [
    {
     "data": {
      "text/plain": [
       "NodeWithScore(node=TextNode(id_='838e3eb1-2149-468b-91c6-f8245f52d571', embedding=None, metadata={'document_id': 'FJ1ndY2MsoTWTPxWWaTcXBZonJl'}, excluded_embed_metadata_keys=[], excluded_llm_metadata_keys=[], relationships={<NodeRelationship.SOURCE: '1'>: RelatedNodeInfo(node_id='9849e2bb-5e16-4e80-880c-cebfa88a6e14', node_type=<ObjectType.DOCUMENT: '4'>, metadata={'document_id': 'FJ1ndY2MsoTWTPxWWaTcXBZonJl'}, hash='97f16a5fa6648c0b10d7558a113b42637f8ab638e35d220000b1edf0f6642d56'), <NodeRelationship.NEXT: '3'>: RelatedNodeInfo(node_id='116c7d5f-11f0-41e4-a6ae-1790250834ee', node_type=<ObjectType.TEXT: '1'>, metadata={}, hash='38ea7644d0fa218279b599e540d68d47665eb1a5499bf5af194218a923b6b0cd')}, text='Docker FAQ\\nDocker 加速相关配置\\n\\ndockerfile 中常用加速\\n\\n# 使用nvidia作为基础镜像\\nFROM nvidia/cuda:12.2.0-devel-ubuntu22.04\\n\\n# 设置时区环境变量\\nENV TZ=Asia/Shanghai\\n\\n# 设置时区\\n# 安装 python3/pip/jupyter相关\\nRUN ln -snf /usr/share/zoneinfo/$TZ /etc/localtime && echo $TZ > /etc/timezone \\\\\\n    && sed -i s@/archive.ubuntu.com/@/mirrors.tuna.tsinghua.edu.cn/@g /etc/apt/sources.list \\\\\\n    && apt update && apt install python3 pip git -y \\\\\\n    && apt-get -y install \\\\\\n        pandoc texlive-xetex texlive-fonts-recommended texlive-plain-generic \\\\\\n        latex-cjk-all -y \\\\\\n    && pip config --user set global.index-url https://pypi.tuna.tsinghua.edu.cn/simple \\\\\\n    && pip install \\\\\\n        jupyterlab jupyterlab-language-pack-zh-CN jupyterlab-git jupyterlab-github \\\\\\n        matplotlib \\\\\\n        numpy \\\\\\n        sympy \\\\\\n        mplfonts\\n\\n设置docker registry国内镜像\\n\\n参考：https://yeasy.gitbook.io/docker_practice/install/mirror\\n\\nubuntu server20.04\\n\\n/etc/docker/daemon.json\\n\\n{\\n  \"registry-mirrors\": [\\n    \"https://docker.nju.edu.cn\",\\n    \"https://hub-mirror.c.163.com\",\\n    \"https://mirror.baidubce.com\"\\n  ],\\n  \"insecure-registries\": [\"http://192.168.0.105:5000\"]\\n}\\n\\ndocker container proxy\\n\\n参见：https://docs.docker.com/network/proxy/\\n\\n编辑：~/.docker/config.json\\n\\n{\\n  \"proxies\": {\\n    \"default\": {\\n      \"httpProxy\": \"http://10.1.1.100:8118\",\\n      \"httpsProxy\": \"http://10.1.1.100:8118\",\\n      \"noProxy\": \"localhost,*.test.example.com,.example2.com\"\\n    }\\n  }\\n}  \\n\\ndocker pull image 代理\\n\\n参见：https://docs.docker.com/config/daemon/systemd/\\n\\nsudo mkdir /etc/systemd/system/docker.service.d\\nsudo nano /etc/systemd/system/docker.service.d/http-proxy.conf\\n\\nhttp-proxy.conf:\\n\\n[Service]\\nEnvironment=\"HTTP_PROXY=http://proxy.example.com:80\"\\nEnvironment=\"HTTPS_PROXY=https://proxy.example.com:443\"\\nEnvironment=\"NO_PROXY=localhost,127.0.0.1,docker-registry.example.com,.corp\"\\n\\n重启 docker\\n\\nsudo systemctl daemon-reload && sudo systemctl restart docker\\n\\n使用宿主当前用户启动docker容器\\n\\ndocker-compose.yaml:\\n\\nversion: \\'3\\'\\nservices:\\n myservice:\\n    image: myimage\\n    user: ${CURRENT_UID}\\n    working_dir: $HOME\\n    stdin_open: true\\n    volumes:\\n      - /etc/group:/etc/group:ro\\n      - /etc/passwd:/etc/passwd:ro\\n      - /etc/shadow:/etc/shadow:ro\\n      - ./doc:/doc\\n    tty: true\\n    command: tail -f /dev/null\\n\\n执行：', mimetype='text/plain', start_char_idx=0, end_char_idx=2238, text_template='{metadata_str}\\n\\n{content}', metadata_template='{key}: {value}', metadata_seperator='\\n'), score=0.6826908965359793)"
      ]
     },
     "execution_count": 54,
     "metadata": {},
     "output_type": "execute_result"
    }
   ],
   "source": [
    "streaming_response.source_nodes[0]"
   ]
  },
  {
   "cell_type": "code",
   "execution_count": null,
   "id": "08e80220-9eba-4ca7-b96c-d0b7cd9dc0ac",
   "metadata": {},
   "outputs": [],
   "source": []
  }
 ],
 "metadata": {
  "kernelspec": {
   "display_name": "Python 3 (ipykernel)",
   "language": "python",
   "name": "python3"
  },
  "language_info": {
   "codemirror_mode": {
    "name": "ipython",
    "version": 3
   },
   "file_extension": ".py",
   "mimetype": "text/x-python",
   "name": "python",
   "nbconvert_exporter": "python",
   "pygments_lexer": "ipython3",
   "version": "3.10.12"
  }
 },
 "nbformat": 4,
 "nbformat_minor": 5
}
