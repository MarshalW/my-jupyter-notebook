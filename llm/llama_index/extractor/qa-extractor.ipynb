{
 "cells": [
  {
   "cell_type": "markdown",
   "id": "c1155828-adac-4ab9-aae7-ffd181418759",
   "metadata": {},
   "source": [
    "# QuestionsAnsweredExtractor"
   ]
  },
  {
   "cell_type": "code",
   "execution_count": 1,
   "id": "a8c0006e-37ee-4d68-9a9e-0c27b310e49c",
   "metadata": {},
   "outputs": [
    {
     "name": "stdout",
     "output_type": "stream",
     "text": [
      "CPU times: user 2.54 s, sys: 377 ms, total: 2.92 s\n",
      "Wall time: 2.56 s\n"
     ]
    }
   ],
   "source": [
    "%%time\n",
    "\n",
    "from llama_index.core.extractors import (\n",
    "    QuestionsAnsweredExtractor,\n",
    ")"
   ]
  },
  {
   "cell_type": "code",
   "execution_count": 2,
   "id": "06d58ea8-85eb-49c7-a884-96c5ea017ff7",
   "metadata": {},
   "outputs": [
    {
     "name": "stdout",
     "output_type": "stream",
     "text": [
      "CPU times: user 126 ms, sys: 3.65 ms, total: 130 ms\n",
      "Wall time: 129 ms\n"
     ]
    }
   ],
   "source": [
    "%%time\n",
    "\n",
    "from llama_index.llms.openai_like import OpenAILike\n",
    "from llama_index.core import Settings\n",
    "\n",
    "llm = OpenAILike(model=\"qwen2-7b-6k\", \n",
    "                 api_base=\"http://192.168.0.72:3000/v1\", \n",
    "                 api_key=\"sk-bJP6QSnUfjAYeYeE505d3eBf63A643BeB0B8E350Df9b7750\",\n",
    "                 is_chat_model=True,\n",
    "                 temperature=0.1\n",
    "                )\n",
    "Settings.llm=llm"
   ]
  },
  {
   "cell_type": "code",
   "execution_count": 4,
   "id": "9e4b01e5-4a43-4680-a192-b6b54526a6c4",
   "metadata": {},
   "outputs": [
    {
     "name": "stdout",
     "output_type": "stream",
     "text": [
      "CPU times: user 9.17 ms, sys: 143 µs, total: 9.32 ms\n",
      "Wall time: 8.88 ms\n"
     ]
    }
   ],
   "source": [
    "%%time\n",
    "\n",
    "from llama_index.core import SimpleDirectoryReader\n",
    "\n",
    "documents = SimpleDirectoryReader(input_files=[\"../iphone.txt\"]).load_data()"
   ]
  },
  {
   "cell_type": "code",
   "execution_count": 6,
   "id": "60e872e3-6636-46e8-81b6-207f2e6fb6d5",
   "metadata": {},
   "outputs": [
    {
     "data": {
      "text/plain": [
       "'iPhone 15和iPhone 15 Plus是由Apple Inc.设计、开发和销售的智能手机。它们是第十七代、也是当前一代iPhone，接替iPhone 14 和 iPhone 14 Plus。这些设备于 2023 年 9 月 12 日在加利福尼亚州库比蒂诺Apple Park举行的Apple 活动期间与价格较高的iPhone 15 Pro 和 15 Pro Max一起发布。预订于 2023 年 9 月 15 日开始，这些设备于 2023 年 9 月 22 日上市。与 iPhone 15 Pro 和 Pro Max 一样，15 和 15 Plus 是第一批用USB-C取代专有Lightning连接器的iPhone遵守欧盟的指令。'"
      ]
     },
     "execution_count": 6,
     "metadata": {},
     "output_type": "execute_result"
    }
   ],
   "source": [
    "documents[0].get_content()"
   ]
  },
  {
   "cell_type": "code",
   "execution_count": 7,
   "id": "a7ee3f49-08c7-4be6-bf67-8f4a5c19d134",
   "metadata": {},
   "outputs": [
    {
     "name": "stdout",
     "output_type": "stream",
     "text": [
      "CPU times: user 127 ms, sys: 8.23 ms, total: 135 ms\n",
      "Wall time: 135 ms\n"
     ]
    }
   ],
   "source": [
    "%%time\n",
    "\n",
    "from llama_index.core.node_parser import SentenceSplitter\n",
    "\n",
    "parser = SentenceSplitter()"
   ]
  },
  {
   "cell_type": "code",
   "execution_count": 13,
   "id": "0ee47f44-fba4-4e87-b0ef-77b6d2bd2910",
   "metadata": {},
   "outputs": [
    {
     "name": "stdout",
     "output_type": "stream",
     "text": [
      "CPU times: user 144 µs, sys: 18 µs, total: 162 µs\n",
      "Wall time: 166 µs\n"
     ]
    }
   ],
   "source": [
    "%%time\n",
    "\n",
    "from llama_index.core.schema import MetadataMode\n",
    "from llama_index.core.ingestion import IngestionPipeline\n",
    "\n",
    "qa_extrator=QuestionsAnsweredExtractor(\n",
    "        questions=3, metadata_mode=MetadataMode.EMBED\n",
    "    )\n",
    "\n",
    "pipeline = IngestionPipeline(\n",
    "    transformations=[\n",
    "        parser, \n",
    "        qa_extrator\n",
    "    ])\n"
   ]
  },
  {
   "cell_type": "code",
   "execution_count": 15,
   "id": "1964bb2a-41b0-458b-aca5-7743a84a66f4",
   "metadata": {},
   "outputs": [
    {
     "name": "stderr",
     "output_type": "stream",
     "text": [
      "100% 1/1 [00:04<00:00,  4.03s/it]"
     ]
    },
    {
     "name": "stdout",
     "output_type": "stream",
     "text": [
      "CPU times: user 163 ms, sys: 3.74 ms, total: 167 ms\n",
      "Wall time: 4.04 s\n"
     ]
    },
    {
     "name": "stderr",
     "output_type": "stream",
     "text": [
      "\n"
     ]
    }
   ],
   "source": [
    "%%time\n",
    "\n",
    "import nest_asyncio\n",
    "nest_asyncio.apply()\n",
    "\n",
    "nodes = pipeline.run(\n",
    "    documents=documents,\n",
    "    in_place=True,\n",
    "    show_progress=True,\n",
    ")"
   ]
  },
  {
   "cell_type": "code",
   "execution_count": 16,
   "id": "54240b10-3c96-4b06-b43f-98cad439e222",
   "metadata": {},
   "outputs": [
    {
     "data": {
      "text/plain": [
       "TextNode(id_='6fed3393-be37-45cd-8cb7-b0af9154034a', embedding=None, metadata={'file_path': '../iphone.txt', 'file_name': 'iphone.txt', 'file_type': 'text/plain', 'file_size': 563, 'creation_date': '2024-06-08', 'last_modified_date': '2024-06-08', 'questions_this_excerpt_can_answer': '1. iPhone 15和iPhone 15 Plus是由哪个公司设计、开发和销售的？\\n2. 这两款设备是第几代iPhone，它们接替了哪一代产品？\\n3. iPhone 15系列（包括iPhone 15和15 Plus）在何时何地首次亮相并开始预订？'}, excluded_embed_metadata_keys=['file_name', 'file_type', 'file_size', 'creation_date', 'last_modified_date', 'last_accessed_date'], excluded_llm_metadata_keys=['file_name', 'file_type', 'file_size', 'creation_date', 'last_modified_date', 'last_accessed_date'], relationships={<NodeRelationship.SOURCE: '1'>: RelatedNodeInfo(node_id='955a8b11-1eba-466e-af08-16979a9e6757', node_type=<ObjectType.DOCUMENT: '4'>, metadata={'file_path': '../iphone.txt', 'file_name': 'iphone.txt', 'file_type': 'text/plain', 'file_size': 563, 'creation_date': '2024-06-08', 'last_modified_date': '2024-06-08'}, hash='c807a217248ea6228e0d7c293c282d456e5b6fd21c51bfad7e97df36dd146dbb')}, text='iPhone 15和iPhone 15 Plus是由Apple Inc.设计、开发和销售的智能手机。它们是第十七代、也是当前一代iPhone，接替iPhone 14 和 iPhone 14 Plus。这些设备于 2023 年 9 月 12 日在加利福尼亚州库比蒂诺Apple Park举行的Apple 活动期间与价格较高的iPhone 15 Pro 和 15 Pro Max一起发布。预订于 2023 年 9 月 15 日开始，这些设备于 2023 年 9 月 22 日上市。与 iPhone 15 Pro 和 Pro Max 一样，15 和 15 Plus 是第一批用USB-C取代专有Lightning连接器的iPhone遵守欧盟的指令。', start_char_idx=0, end_char_idx=321, text_template='[Excerpt from document]\\n{metadata_str}\\nExcerpt:\\n-----\\n{content}\\n-----\\n', metadata_template='{key}: {value}', metadata_seperator='\\n')"
      ]
     },
     "execution_count": 16,
     "metadata": {},
     "output_type": "execute_result"
    }
   ],
   "source": [
    "nodes[0]"
   ]
  },
  {
   "cell_type": "code",
   "execution_count": 17,
   "id": "5b697fd6-6fe6-418b-b776-b24b1485bd99",
   "metadata": {},
   "outputs": [
    {
     "data": {
      "text/plain": [
       "{'file_path': '../iphone.txt',\n",
       " 'file_name': 'iphone.txt',\n",
       " 'file_type': 'text/plain',\n",
       " 'file_size': 563,\n",
       " 'creation_date': '2024-06-08',\n",
       " 'last_modified_date': '2024-06-08',\n",
       " 'questions_this_excerpt_can_answer': '1. iPhone 15和iPhone 15 Plus是由哪个公司设计、开发和销售的？\\n2. 这两款设备是第几代iPhone，它们接替了哪一代产品？\\n3. iPhone 15系列（包括iPhone 15和15 Plus）在何时何地首次亮相并开始预订？'}"
      ]
     },
     "execution_count": 17,
     "metadata": {},
     "output_type": "execute_result"
    }
   ],
   "source": [
    "nodes[0].metadata"
   ]
  },
  {
   "cell_type": "code",
   "execution_count": 19,
   "id": "28b43c46-e511-41d5-8c0c-71597f7671f1",
   "metadata": {},
   "outputs": [
    {
     "name": "stdout",
     "output_type": "stream",
     "text": [
      "CPU times: user 356 µs, sys: 44 µs, total: 400 µs\n",
      "Wall time: 404 µs\n"
     ]
    }
   ],
   "source": [
    "%%time\n",
    "\n",
    "nodes = pipeline.run(\n",
    "    documents=documents,\n",
    "    in_place=False,\n",
    "    show_progress=True,\n",
    ")"
   ]
  },
  {
   "cell_type": "code",
   "execution_count": 21,
   "id": "3b79e75c-a6f6-41c2-bdbe-b2b1d896b0d7",
   "metadata": {},
   "outputs": [
    {
     "data": {
      "text/plain": [
       "{'file_path': '../iphone.txt',\n",
       " 'file_name': 'iphone.txt',\n",
       " 'file_type': 'text/plain',\n",
       " 'file_size': 563,\n",
       " 'creation_date': '2024-06-08',\n",
       " 'last_modified_date': '2024-06-08',\n",
       " 'questions_this_excerpt_can_answer': '1. iPhone 15和iPhone 15 Plus是由哪个公司设计、开发和销售的？\\n2. 这两款设备是第几代iPhone，它们接替了哪一代产品？\\n3. iPhone 15系列（包括iPhone 15和15 Plus）在何时何地首次亮相并开始预订？'}"
      ]
     },
     "execution_count": 21,
     "metadata": {},
     "output_type": "execute_result"
    }
   ],
   "source": [
    "nodes[0].metadata"
   ]
  },
  {
   "cell_type": "code",
   "execution_count": null,
   "id": "29dc3677-3306-4d47-ab68-9c7cf3467f07",
   "metadata": {},
   "outputs": [],
   "source": []
  }
 ],
 "metadata": {
  "kernelspec": {
   "display_name": "Python 3 (ipykernel)",
   "language": "python",
   "name": "python3"
  },
  "language_info": {
   "codemirror_mode": {
    "name": "ipython",
    "version": 3
   },
   "file_extension": ".py",
   "mimetype": "text/x-python",
   "name": "python",
   "nbconvert_exporter": "python",
   "pygments_lexer": "ipython3",
   "version": "3.10.12"
  }
 },
 "nbformat": 4,
 "nbformat_minor": 5
}
