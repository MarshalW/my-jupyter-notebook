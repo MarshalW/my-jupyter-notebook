{
 "cells": [
  {
   "cell_type": "markdown",
   "id": "3e34b8e1-13c5-4deb-993b-b693d018e349",
   "metadata": {},
   "source": [
    "# 飞书知识库技术原型"
   ]
  },
  {
   "cell_type": "markdown",
   "id": "7c0198d8-7cd1-4e44-800b-6a4ad3f62a7e",
   "metadata": {},
   "source": [
    "## 飞书全局变量"
   ]
  },
  {
   "cell_type": "markdown",
   "id": "e89e1aaf-e066-4bcd-ba9b-a89aadc93a21",
   "metadata": {},
   "source": [
    "企业版本，是可以用 `tenant_access_token` 的。\n",
    "\n",
    "但是之前相同代码测试个人版本，报错，wiki space 权限。"
   ]
  },
  {
   "cell_type": "code",
   "execution_count": 13,
   "id": "0d5daeac-7853-4f64-98c5-9d3f15527ac8",
   "metadata": {},
   "outputs": [
    {
     "name": "stdout",
     "output_type": "stream",
     "text": [
      "CPU times: user 1e+03 ns, sys: 0 ns, total: 1e+03 ns\n",
      "Wall time: 3.34 µs\n"
     ]
    }
   ],
   "source": [
    "%%time\n",
    "\n",
    "app_id = \"cli_a65aebd9f5bbd00b\"\n",
    "app_secret = \"rZa6tNZVO1iaEyQ08DQYlf53VY4PahXw\"\n",
    "space_id=\"7408517502861852676\""
   ]
  },
  {
   "cell_type": "markdown",
   "id": "711f44d7-78b4-4563-ab65-b459baaf8f01",
   "metadata": {},
   "source": [
    "## 创建飞书客户端"
   ]
  },
  {
   "cell_type": "code",
   "execution_count": 2,
   "id": "ec10f2bf-f4f8-4f7b-abdf-9abd8c4f3be7",
   "metadata": {},
   "outputs": [
    {
     "name": "stdout",
     "output_type": "stream",
     "text": [
      "CPU times: user 1.06 s, sys: 207 ms, total: 1.27 s\n",
      "Wall time: 1.27 s\n"
     ]
    }
   ],
   "source": [
    "%%time\n",
    "\n",
    "import lark_oapi as lark\n",
    "\n",
    "client = lark.Client.builder() \\\n",
    "    .app_id(app_id) \\\n",
    "    .app_secret(app_secret) \\\n",
    "    .build()"
   ]
  },
  {
   "cell_type": "code",
   "execution_count": 3,
   "id": "f09fb579-97df-4bf2-a859-4a98ad9ac2fa",
   "metadata": {},
   "outputs": [
    {
     "name": "stdout",
     "output_type": "stream",
     "text": [
      "Tenant Access Token: t-g1049olRKMZZJYKPUP7CS3OIJFHCVBNYU2VTF4TC\n",
      "CPU times: user 5.29 ms, sys: 291 µs, total: 5.58 ms\n",
      "Wall time: 126 ms\n"
     ]
    }
   ],
   "source": [
    "%%time\n",
    "\n",
    "import requests\n",
    "import json\n",
    "\n",
    "# 飞书的 API 端点\n",
    "url = \"https://open.feishu.cn/open-apis/auth/v3/tenant_access_token/internal\"\n",
    "\n",
    "# 请求头\n",
    "headers = {\n",
    "    \"Content-Type\": \"application/json; charset=utf-8\"\n",
    "}\n",
    "\n",
    "# 请求体\n",
    "payload = {\n",
    "    \"app_id\": app_id,\n",
    "    \"app_secret\": app_secret\n",
    "}\n",
    "\n",
    "# 发起请求获取 tenant_access_token\n",
    "response = requests.post(url, headers=headers, data=json.dumps(payload))\n",
    "\n",
    "# 解析响应\n",
    "if response.status_code == 200:\n",
    "    data = response.json()\n",
    "    if data.get(\"code\") == 0:\n",
    "        tenant_access_token = data.get(\"tenant_access_token\")\n",
    "        print(f\"Tenant Access Token: {tenant_access_token}\")\n",
    "    else:\n",
    "        print(f\"Error: {data.get('msg')}\")\n",
    "else:\n",
    "    print(f\"Failed to get token, status code: {response.status_code}\")\n"
   ]
  },
  {
   "cell_type": "code",
   "execution_count": 4,
   "id": "6b73efd2-95fe-486f-9f4d-faeaf29a8471",
   "metadata": {},
   "outputs": [
    {
     "name": "stdout",
     "output_type": "stream",
     "text": [
      "CPU times: user 49 µs, sys: 10 µs, total: 59 µs\n",
      "Wall time: 60.8 µs\n"
     ]
    }
   ],
   "source": [
    "%%time\n",
    "\n",
    "from lark_oapi.api.wiki.v2 import *\n",
    "\n",
    "request: ListSpaceNodeRequest = ListSpaceNodeRequest.builder() \\\n",
    "        .space_id(space_id) \\\n",
    "        .build()"
   ]
  },
  {
   "cell_type": "code",
   "execution_count": 5,
   "id": "c7a059ff-8a93-461a-99ee-098fffaa65d2",
   "metadata": {},
   "outputs": [
    {
     "name": "stdout",
     "output_type": "stream",
     "text": [
      "CPU times: user 5.78 ms, sys: 2.84 ms, total: 8.61 ms\n",
      "Wall time: 587 ms\n"
     ]
    }
   ],
   "source": [
    "%%time\n",
    "\n",
    "req_opt = lark.RequestOption.builder()\\\n",
    "    .tenant_access_token(tenant_access_token)\\\n",
    "    .headers(headers)\\\n",
    "    .build()\n",
    "\n",
    "response: ListSpaceNodeResponse = client.wiki.v2.space_node.list(request)"
   ]
  },
  {
   "cell_type": "code",
   "execution_count": 6,
   "id": "f088d8a4-faa2-4aea-8727-04f505aeb5a8",
   "metadata": {},
   "outputs": [
    {
     "name": "stdout",
     "output_type": "stream",
     "text": [
      "CPU times: user 131 µs, sys: 24 µs, total: 155 µs\n",
      "Wall time: 158 µs\n"
     ]
    }
   ],
   "source": [
    "%%time\n",
    "\n",
    "if not response.success():\n",
    "    lark.logger.error(\n",
    "        f\"client.wiki.v2.space_node.list failed, code: {response.code}, msg: {response.msg}, log_id: {response.get_log_id()}\")\n",
    "else:\n",
    "    lark.logger.info(lark.JSON.marshal(response.data, indent=4))"
   ]
  },
  {
   "cell_type": "code",
   "execution_count": 12,
   "id": "411cf07c-6b1c-48c0-b211-74ef1167210c",
   "metadata": {},
   "outputs": [
    {
     "data": {
      "text/plain": [
       "'CtNndKaggogsx9xzoJjc9JFcnbb'"
      ]
     },
     "execution_count": 12,
     "metadata": {},
     "output_type": "execute_result"
    }
   ],
   "source": [
    "response.data.items[0].obj_token"
   ]
  },
  {
   "cell_type": "code",
   "execution_count": 14,
   "id": "07a9c501-55c0-4c5c-bb73-8040c6c3211b",
   "metadata": {},
   "outputs": [
    {
     "data": {
      "text/plain": [
       "'1724929899'"
      ]
     },
     "execution_count": 14,
     "metadata": {},
     "output_type": "execute_result"
    }
   ],
   "source": [
    "response.data.items[0].obj_edit_time"
   ]
  },
  {
   "cell_type": "code",
   "execution_count": null,
   "id": "7112d3a3-d78e-4c7b-8ef4-f605bf927e49",
   "metadata": {},
   "outputs": [],
   "source": []
  }
 ],
 "metadata": {
  "kernelspec": {
   "display_name": "Python 3 (ipykernel)",
   "language": "python",
   "name": "python3"
  },
  "language_info": {
   "codemirror_mode": {
    "name": "ipython",
    "version": 3
   },
   "file_extension": ".py",
   "mimetype": "text/x-python",
   "name": "python",
   "nbconvert_exporter": "python",
   "pygments_lexer": "ipython3",
   "version": "3.10.12"
  }
 },
 "nbformat": 4,
 "nbformat_minor": 5
}
