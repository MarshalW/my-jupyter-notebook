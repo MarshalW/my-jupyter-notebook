{
 "cells": [
  {
   "cell_type": "markdown",
   "id": "8661d7f2-ea80-4837-9e1b-aa3b7afe1498",
   "metadata": {},
   "source": [
    "# one-api 使用示例"
   ]
  },
  {
   "cell_type": "markdown",
   "id": "17f5f479-ee9f-46cc-a51c-6d6989c1ab77",
   "metadata": {},
   "source": [
    "## 依赖包"
   ]
  },
  {
   "cell_type": "code",
   "execution_count": 1,
   "id": "f38c247b-8a0d-424c-b268-e7f25afb90e1",
   "metadata": {},
   "outputs": [
    {
     "name": "stdout",
     "output_type": "stream",
     "text": [
      "Looking in indexes: https://pypi.tuna.tsinghua.edu.cn/simple\n",
      "Requirement already satisfied: openai in /usr/local/lib/python3.10/dist-packages (1.17.0)\n",
      "Requirement already satisfied: pydantic<3,>=1.9.0 in /usr/local/lib/python3.10/dist-packages (from openai) (2.6.4)\n",
      "Requirement already satisfied: sniffio in /usr/local/lib/python3.10/dist-packages (from openai) (1.3.0)\n",
      "Requirement already satisfied: anyio<5,>=3.5.0 in /usr/local/lib/python3.10/dist-packages (from openai) (4.2.0)\n",
      "Requirement already satisfied: distro<2,>=1.7.0 in /usr/local/lib/python3.10/dist-packages (from openai) (1.9.0)\n",
      "Requirement already satisfied: typing-extensions<5,>=4.7 in /usr/local/lib/python3.10/dist-packages (from openai) (4.9.0)\n",
      "Requirement already satisfied: httpx<1,>=0.23.0 in /usr/local/lib/python3.10/dist-packages (from openai) (0.26.0)\n",
      "Requirement already satisfied: tqdm>4 in /usr/local/lib/python3.10/dist-packages (from openai) (4.66.2)\n",
      "Requirement already satisfied: exceptiongroup>=1.0.2 in /usr/local/lib/python3.10/dist-packages (from anyio<5,>=3.5.0->openai) (1.2.0)\n",
      "Requirement already satisfied: idna>=2.8 in /usr/local/lib/python3.10/dist-packages (from anyio<5,>=3.5.0->openai) (3.6)\n",
      "Requirement already satisfied: httpcore==1.* in /usr/local/lib/python3.10/dist-packages (from httpx<1,>=0.23.0->openai) (1.0.3)\n",
      "Requirement already satisfied: certifi in /usr/local/lib/python3.10/dist-packages (from httpx<1,>=0.23.0->openai) (2024.2.2)\n",
      "Requirement already satisfied: h11<0.15,>=0.13 in /usr/local/lib/python3.10/dist-packages (from httpcore==1.*->httpx<1,>=0.23.0->openai) (0.14.0)\n",
      "Requirement already satisfied: annotated-types>=0.4.0 in /usr/local/lib/python3.10/dist-packages (from pydantic<3,>=1.9.0->openai) (0.6.0)\n",
      "Requirement already satisfied: pydantic-core==2.16.3 in /usr/local/lib/python3.10/dist-packages (from pydantic<3,>=1.9.0->openai) (2.16.3)\n",
      "\u001b[33mWARNING: Running pip as the 'root' user can result in broken permissions and conflicting behaviour with the system package manager. It is recommended to use a virtual environment instead: https://pip.pypa.io/warnings/venv\u001b[0m\u001b[33m\n",
      "\u001b[0m"
     ]
    }
   ],
   "source": [
    "!pip install openai"
   ]
  },
  {
   "cell_type": "markdown",
   "id": "b7cb5455-44c3-44ff-be29-cbc621a0009c",
   "metadata": {},
   "source": [
    "## curl的使用示例"
   ]
  },
  {
   "cell_type": "markdown",
   "id": "0bdf6b49-e859-49f7-bedc-2c2719548cff",
   "metadata": {},
   "source": [
    "### ollama QWen 本地模型"
   ]
  },
  {
   "cell_type": "code",
   "execution_count": 7,
   "id": "cdd4a03f-f841-4eb6-96f3-01bbbf738940",
   "metadata": {},
   "outputs": [
    {
     "name": "stdout",
     "output_type": "stream",
     "text": [
      "{\n",
      "  \"id\": \"chatcmpl-9k0ihN3Mc3cQkYgpewaeEL8Mqrv7C\",\n",
      "  \"object\": \"chat.completion\",\n",
      "  \"created\": 1720752883,\n",
      "  \"model\": \"gpt-3.5-turbo-0125\",\n",
      "  \"choices\": [\n",
      "    {\n",
      "      \"index\": 0,\n",
      "      \"message\": {\n",
      "        \"role\": \"assistant\",\n",
      "        \"content\": \"我是一名人工智能助手，可以回答你的问题和提供帮助。有什么我可以帮助你的吗？\"\n",
      "      },\n",
      "      \"logprobs\": null,\n",
      "      \"finish_reason\": \"stop\"\n",
      "    }\n",
      "  ],\n",
      "  \"usage\": {\n",
      "    \"prompt_tokens\": 12,\n",
      "    \"completion_tokens\": 43,\n",
      "    \"total_tokens\": 55\n",
      "  },\n",
      "  \"system_fingerprint\": null\n",
      "}\n"
     ]
    }
   ],
   "source": [
    "%%bash\n",
    "\n",
    "TOKEN=sk-bJP6QSnUfjAYeYeE505d3eBf63A643BeB0B8E350Df9b7750\n",
    "HOST_URL=http://192.168.0.72:3000 \n",
    "\n",
    "curl -s \"$HOST_URL\"/v1/chat/completions \\\n",
    "  -H \"Content-Type: application/json\" \\\n",
    "  -H \"Authorization: Bearer $TOKEN\" \\\n",
    "  -d '{\n",
    "     \"model\": \"gpt-3.5-turbo\",\n",
    "     \"messages\": [{\"role\": \"user\", \"content\": \"你谁啊\"}],\n",
    "     \"temperature\": 0.7\n",
    "   }' | jq ."
   ]
  },
  {
   "cell_type": "markdown",
   "id": "f1d0bedc-d684-43a6-b8d2-f3530b30e582",
   "metadata": {},
   "source": [
    "### 百度文心一言"
   ]
  },
  {
   "cell_type": "code",
   "execution_count": 34,
   "id": "5dc22048-d5a6-4340-a0cb-e8f69f738576",
   "metadata": {},
   "outputs": [
    {
     "name": "stdout",
     "output_type": "stream",
     "text": [
      "{\n",
      "  \"id\": \"as-ma0gvm62gb\",\n",
      "  \"model\": \"ernie-bot\",\n",
      "  \"object\": \"chat.completion\",\n",
      "  \"created\": 1713084121,\n",
      "  \"choices\": [\n",
      "    {\n",
      "      \"index\": 0,\n",
      "      \"message\": {\n",
      "        \"role\": \"assistant\",\n",
      "        \"content\": \"您好，我是百度研发的知识增强大语言模型，中文名是文心一言，英文名是ERNIE Bot。我能够与人对话互动，回答问题，协助创作，高效便捷地帮助人们获取信息、知识和灵感。\\n\\n如果您有任何问题，请随时告诉我。\"\n",
      "      },\n",
      "      \"finish_reason\": \"stop\"\n",
      "    }\n",
      "  ],\n",
      "  \"usage\": {\n",
      "    \"prompt_tokens\": 3,\n",
      "    \"completion_tokens\": 59,\n",
      "    \"total_tokens\": 62\n",
      "  }\n",
      "}\n"
     ]
    }
   ],
   "source": [
    "%%bash\n",
    "\n",
    "TOKEN=sk-bJP6QSnUfjAYeYeE505d3eBf63A643BeB0B8E350Df9b7750\n",
    "HOST_URL=http://192.168.0.72:3000\n",
    "\n",
    "curl -s \"$HOST_URL\"/v1/chat/completions \\\n",
    "  -H \"Content-Type: application/json\" \\\n",
    "  -H \"Authorization: Bearer $TOKEN\" \\\n",
    "  -d '{\n",
    "     \"model\": \"ERNIE-Lite-8K-0922\",\n",
    "     \"messages\": [{\"role\": \"user\", \"content\": \"你谁啊\"}],\n",
    "     \"temperature\": 0.7\n",
    "   }' | jq ."
   ]
  },
  {
   "cell_type": "markdown",
   "id": "ade938be-82a8-4ee8-b585-e30aa6e2aa36",
   "metadata": {},
   "source": [
    "### OpenAI"
   ]
  },
  {
   "cell_type": "code",
   "execution_count": 20,
   "id": "c8f5ecfb-e6b9-458a-9572-6b2fe0192e1a",
   "metadata": {},
   "outputs": [
    {
     "name": "stdout",
     "output_type": "stream",
     "text": [
      "{\n",
      "  \"id\": \"chatcmpl-9ONa2W602dcsP5QrzSeOGAngFLlXj\",\n",
      "  \"object\": \"chat.completion\",\n",
      "  \"created\": 1715597542,\n",
      "  \"model\": \"gpt-3.5-turbo-0125\",\n",
      "  \"choices\": [\n",
      "    {\n",
      "      \"index\": 0,\n",
      "      \"message\": {\n",
      "        \"role\": \"assistant\",\n",
      "        \"content\": \"我是一个人工智能助手，可以回答你的问题和提供帮助。有什么可以帮到你的吗？\"\n",
      "      },\n",
      "      \"logprobs\": null,\n",
      "      \"finish_reason\": \"stop\"\n",
      "    }\n",
      "  ],\n",
      "  \"usage\": {\n",
      "    \"prompt_tokens\": 12,\n",
      "    \"completion_tokens\": 40,\n",
      "    \"total_tokens\": 52\n",
      "  },\n",
      "  \"system_fingerprint\": null\n",
      "}\n"
     ]
    }
   ],
   "source": [
    "%%bash\n",
    "\n",
    "TOKEN=sk-bJP6QSnUfjAYeYeE505d3eBf63A643BeB0B8E350Df9b7750\n",
    "HOST_URL=http://192.168.0.72:3000\n",
    "\n",
    "curl -s \"$HOST_URL\"/v1/chat/completions \\\n",
    "  -H \"Content-Type: application/json\" \\\n",
    "  -H \"Authorization: Bearer $TOKEN\" \\\n",
    "  -d '{\n",
    "     \"model\": \"gpt-3.5-turbo\",\n",
    "     \"messages\": [{\"role\": \"user\", \"content\": \"你谁啊\"}],\n",
    "     \"temperature\": 0.7\n",
    "   }' | jq ."
   ]
  },
  {
   "cell_type": "markdown",
   "id": "00be3cdf-c6d4-4b15-8233-5793fe7e3289",
   "metadata": {},
   "source": [
    "## python代码"
   ]
  },
  {
   "cell_type": "markdown",
   "id": "1ad7e45c-7f6a-46c7-801f-20d4f9c020aa",
   "metadata": {},
   "source": [
    "使用openai api"
   ]
  },
  {
   "cell_type": "code",
   "execution_count": 8,
   "id": "92ae74b5-53e1-428e-aaa8-3f9ba532df1c",
   "metadata": {
    "editable": true,
    "slideshow": {
     "slide_type": ""
    },
    "tags": []
   },
   "outputs": [],
   "source": [
    "from openai import OpenAI\n",
    "\n",
    "base_url = \"http://192.168.0.72:3000/v1\"\n",
    "api_key = \"sk-bJP6QSnUfjAYeYeE505d3eBf63A643BeB0B8E350Df9b7750\"\n",
    "\n",
    "client = OpenAI(api_key=api_key, base_url=base_url)\n",
    "\n",
    "def process_stream(stream):\n",
    "    for chunk in stream:\n",
    "        if chunk.usage:\n",
    "            print()\n",
    "            print(chunk.usage)\n",
    "        else:\n",
    "            print(chunk.choices[0].delta.content or \"\", end=\"\")\n",
    "        # if chunk.choices[0].delta.content is not None:\n",
    "        #     print(chunk.choices[0].delta.content, end=\"\")"
   ]
  },
  {
   "cell_type": "markdown",
   "id": "ee6a51d1-f72a-48b8-8b4b-3bbc65708af9",
   "metadata": {},
   "source": [
    "### ollama QWen 本地模型"
   ]
  },
  {
   "cell_type": "markdown",
   "id": "c2c3fae5-0fce-44ab-8d9d-5cb511eeb98b",
   "metadata": {},
   "source": [
    "使用 ollama QWen1.5-14b 自定义系统提示词模型"
   ]
  },
  {
   "cell_type": "code",
   "execution_count": 4,
   "id": "272f1b52-368e-499b-8e27-50112e8445de",
   "metadata": {},
   "outputs": [
    {
     "name": "stdout",
     "output_type": "stream",
     "text": [
      "我是来帮助你的，有什么问题可以问我哦。\n",
      "\n",
      "--------------\n",
      "\n",
      "贝叶斯主义是一种统计学方法，特别是用于处理不确定性问题。它以托马斯·贝叶斯的名字命名，他在18世纪提出了一个概率定理。\n",
      "\n",
      "在贝叶斯主义中，关键概念是先验概率和后验概率。先验概率是对某个假设在没有其他信息的情况下可能的概率。而后验概率是在观察到新数据之后对假设的概率更新。\n",
      "\n",
      "纯粹贝叶斯主义（或称理论贝叶斯主义）强调的是概率的数学理论，它不涉及具体的模型选择或实际应用。\n",
      "\n",
      "实用贝叶斯主义（或称应用贝叶斯主义）则更关注如何将贝叶斯理论应用于实际问题中，包括数据建模、决策分析等。"
     ]
    }
   ],
   "source": [
    "stream = client.chat.completions.create(\n",
    "    model=\"xiaoyu\",\n",
    "    messages=[{\"role\": \"user\", \"content\": \"你谁啊？\"}],\n",
    "    stream=True,\n",
    "    stream_options= {\"include_usage\": True}\n",
    ")\n",
    "\n",
    "process_stream(stream)\n",
    "\n",
    "print('\\n\\n--------------\\n')\n",
    "\n",
    "stream = client.chat.completions.create(\n",
    "    model=\"xiaoyu\",\n",
    "    messages=[{\"role\": \"user\", \"content\": \"什么是贝叶斯主义？纯粹贝叶斯主义和实用贝叶斯主义有啥差别？\"}],\n",
    "    stream=True,\n",
    "    stream_options= {\"include_usage\": True}\n",
    ")\n",
    "\n",
    "process_stream(stream)\n",
    "\n",
    "# for chunk in stream:\n",
    "#     if chunk.choices[0].delta.content is not None:\n",
    "#         print(chunk.choices[0].delta.content, end=\"\")"
   ]
  },
  {
   "cell_type": "markdown",
   "id": "5efa247c-ac43-42d5-9549-b477561f4e0c",
   "metadata": {},
   "source": [
    "### 百度文心一言"
   ]
  },
  {
   "cell_type": "code",
   "execution_count": 24,
   "id": "ce994ee9-f62f-475c-980e-bcc33dd614af",
   "metadata": {},
   "outputs": [
    {
     "name": "stdout",
     "output_type": "stream",
     "text": [
      "我是文心一言，一个为你答疑解惑的聊天机器人。我可以理解和回答你的问题，有什么我可以帮助你的吗？\n",
      "\n",
      "--------------\n",
      "\n",
      "频率主义（Frequencyism）是一种统计学和语言学中的理论，它强调了词汇、语法和语言现象出现的相对频率或概率在语言学习和理解中的重要性。根据这一观点，一个词的意思或某个语法结构的正确性并不完全取决于其固有的属性，而是与其在大量语料库中被使用的频率相关。\n",
      "\n",
      "在统计语言模型中，如n-gram模型，频率主义被用于预测下一个词的可能性，即基于前面词组出现的次数来估算一个词出现的概率。它对自然语言处理（NLP）和机器学习中的文本生成、翻译、情感分析等任务有着广泛应用。\n",
      "\n",
      "然而，现代语言学和认知科学认为，频率主义过于简化了人类语言的复杂性，因为语言理解和生成还涉及到其他因素，如上下文、文化背景和交际意图等。因此，尽管频率在语言中扮演着重要角色，但它并不是唯一决定性的因素。"
     ]
    }
   ],
   "source": [
    "stream = client.chat.completions.create(\n",
    "    model=\"ERNIE-Lite-8K-0922\",\n",
    "    messages=[{\"role\": \"user\", \"content\": \"你谁啊？\"}],\n",
    "    stream=True,\n",
    "    stream_options= {\"include_usage\": True}\n",
    ")\n",
    "\n",
    "process_stream(stream)\n",
    "\n",
    "print('\\n\\n--------------\\n')\n",
    "\n",
    "stream = client.chat.completions.create(\n",
    "    model=\"xiaoyu\",\n",
    "    messages=[{\"role\": \"user\", \"content\": \"简要介绍下频率主义\"}],\n",
    "    stream=True,\n",
    "    stream_options= {\"include_usage\": True}\n",
    ")\n",
    "\n",
    "process_stream(stream)"
   ]
  },
  {
   "cell_type": "markdown",
   "id": "cb49bd1f-0d43-4bb6-b840-2671aec7f890",
   "metadata": {},
   "source": [
    "### OpenAI"
   ]
  },
  {
   "cell_type": "code",
   "execution_count": 30,
   "id": "7451b000-fc25-4252-99f9-dafb065561f1",
   "metadata": {},
   "outputs": [
    {
     "name": "stdout",
     "output_type": "stream",
     "text": [
      "我是您的AI助手，可以帮助回答问题和提供信息。有什么可以帮到您的吗？\n",
      "\n",
      "--------------\n",
      "\n",
      "长征五号的主推进剂是液氧和煤油混合物，配备有四个液氧-煤油发动机。这种推进剂组合在航天发射领域被广泛使用，具有高推力和高推进效率的特点。"
     ]
    }
   ],
   "source": [
    "stream = client.chat.completions.create(\n",
    "    model=\"gpt-3.5-turbo\",\n",
    "    messages=[{\"role\": \"user\", \"content\": \"你谁啊？\"}],\n",
    "    stream=True,\n",
    "    stream_options= {\"include_usage\": True}\n",
    ")\n",
    "\n",
    "process_stream(stream)\n",
    "\n",
    "print('\\n\\n--------------\\n')\n",
    "\n",
    "stream = client.chat.completions.create(\n",
    "    model=\"gpt-3.5-turbo\",\n",
    "    messages=[{\"role\": \"user\", \"content\": \"长征五号的推进剂是啥\"}],\n",
    "    stream=True,\n",
    "    stream_options= {\"include_usage\": True}\n",
    ")\n",
    "\n",
    "process_stream(stream)"
   ]
  },
  {
   "cell_type": "markdown",
   "id": "2165b6cb-7f0e-4d39-869c-b7886b2a2e86",
   "metadata": {},
   "source": [
    "### 百川"
   ]
  },
  {
   "cell_type": "code",
   "execution_count": 11,
   "id": "9fad9b2a-ef3f-4faf-b2a9-b30ab44cde86",
   "metadata": {},
   "outputs": [
    {
     "name": "stdout",
     "output_type": "stream",
     "text": [
      "我是百川智能训练的AI大模型，你可以叫我小百。有什么我可以帮助你的吗？\n",
      "CompletionUsage(completion_tokens=20, prompt_tokens=68, total_tokens=88)\n",
      "\n",
      "\n",
      "--------------\n",
      "\n",
      "长征五号（CZ-5，也称作Long March 5）是中国的一种重型运载火箭，由中国航天科技集团有限公司研制。长征五号系列火箭使用的是无毒、无污染的推进剂组合，具体如下：\n",
      "\n",
      "1. 核心级：长征五号的核心级使用的是液氧和煤油作为推进剂，这是一种较为环保组合，相比组合，相比传统的偏二甲肼/四氧化二氮推进剂更加安全且成本更低。\n",
      "\n",
      "2. 液氢液氧助推器：长征五号的一些型号配备了液氢液氧助推器，液氢作为燃料，液氧作为氧化剂。这种组合具有很高的性能，但存储和处理难度较大，需要极低的温度条件。\n",
      "\n",
      "3. 固体助推器：在某些配置中，长征五号可能还会配备固体助推器来增加起飞推力。固体助推器使用的是固体推进剂，这种推进剂在燃烧时会产生大量的热能和推力。\n",
      "\n",
      "长征五号火箭的设计旨在提高中国进入空间的能力，支持大型卫星发射任务、深空探测任务以及未来的等等。由于其使用了较为环保的推进剂，长征五号也被视为中国运载火箭技术的一个重要进步\n",
      "CompletionUsage(completion_tokens=233, prompt_tokens=70, total_tokens=303)\n"
     ]
    }
   ],
   "source": [
    "stream = client.chat.completions.create(\n",
    "    model=\"Baichuan3-Turbo\",\n",
    "    messages=[{\"role\": \"user\", \"content\": \"你谁啊？\"}],\n",
    "    stream=True,\n",
    "    stream_options= {\"include_usage\": True}\n",
    ")\n",
    "\n",
    "process_stream(stream)\n",
    "\n",
    "print('\\n\\n--------------\\n')\n",
    "\n",
    "stream = client.chat.completions.create(\n",
    "    model=\"Baichuan3-Turbo\",\n",
    "    messages=[{\"role\": \"user\", \"content\": \"长征五号的推进剂是啥\"}],\n",
    "    stream=True,\n",
    "    stream_options= {\"include_usage\": True}\n",
    ")\n",
    "\n",
    "process_stream(stream)"
   ]
  },
  {
   "cell_type": "markdown",
   "id": "00aaf025-a029-4696-9afb-e34a121da95f",
   "metadata": {},
   "source": [
    "### MiniMax"
   ]
  },
  {
   "cell_type": "code",
   "execution_count": 13,
   "id": "8cf747fb-ae47-46b8-b984-1d9b7cc997a9",
   "metadata": {},
   "outputs": [
    {
     "name": "stdout",
     "output_type": "stream",
     "text": [
      "你好，我是一名人工智能助理，我可以回答你的问题、提供信息和建议，还可以陪你聊天，我是由MiniMax公司自研的，没有调用其他产品的接口。\n",
      "CompletionUsage(completion_tokens=None, prompt_tokens=None, total_tokens=106)\n",
      "\n",
      "\n",
      "--------------\n",
      "\n",
      "长征五号是我国新一代大推力火箭，它的推进剂包括液氧煤油和液氢液氧两种。液氧煤油发动机是我国首个突破高压补燃技术瓶颈的火箭发动机，它以液氧煤油为推进剂，具有结构简单、无毒无污染、推力大等特点，可实现大推力、高比冲、高效率等性能指标，在我国航天发射中发挥着不可替代的作用。而液氢液氧发动机是我国目前研制成功的第一台大推力氢氧发动机，它的推力大、比冲高、效率高，是我国运载火箭的“心脏”，也是我国新一代火箭中最重要的动力装置。\n",
      "CompletionUsage(completion_tokens=None, prompt_tokens=None, total_tokens=213)\n",
      "\n",
      "\n",
      "--------------\n",
      "\n",
      "长征五号运载火箭是中国自主研发的新一代大型运载火箭，它的推进剂主要由两种液体燃料组成：\n",
      "\n",
      "1. 液氢（LH2）：作为长征五号火箭的第一级和第二级的燃料，液氢是一种低温燃料，需要在极低的温度下储存和运输。\n",
      "\n",
      "2. 液氧（LOX）：与液氢一起使用，液氧作为氧化剂，提供燃烧所需的氧气，使得燃料能够充分燃烧并产生推力。\n",
      "\n",
      "长征五号火箭的推进系统采用了高效的液氢/液氧发动机，这种组合提供了较高的比冲（即单位质量的推进剂产生的推力），使得火箭能够达到更高的运载效率和更大的载荷能力。长征五号火箭主要用于发射大型卫星、空间站组件以及其他深空探测任务。\n",
      "CompletionUsage(completion_tokens=None, prompt_tokens=None, total_tokens=243)\n"
     ]
    }
   ],
   "source": [
    "stream = client.chat.completions.create(\n",
    "    model=\"abab5.5s-chat\",\n",
    "    messages=[{\"role\": \"user\", \"content\": \"你谁啊？\"}],\n",
    "    stream=True,\n",
    "    stream_options= {\"include_usage\": True}\n",
    ")\n",
    "\n",
    "process_stream(stream)\n",
    "\n",
    "print('\\n\\n--------------\\n')\n",
    "\n",
    "stream = client.chat.completions.create(\n",
    "    model=\"abab5.5s-chat\",\n",
    "    messages=[{\"role\": \"user\", \"content\": \"长征五号的推进剂是啥\"}],\n",
    "    stream=True,\n",
    "    stream_options= {\"include_usage\": True}\n",
    ")\n",
    "\n",
    "process_stream(stream)\n",
    "\n",
    "print('\\n\\n--------------\\n')\n",
    "\n",
    "stream = client.chat.completions.create(\n",
    "    model=\"abab6.5-chat\",\n",
    "    messages=[{\"role\": \"user\", \"content\": \"长征五号的推进剂是啥\"}],\n",
    "    stream=True,\n",
    "    stream_options= {\"include_usage\": True}\n",
    ")\n",
    "\n",
    "process_stream(stream)"
   ]
  },
  {
   "cell_type": "code",
   "execution_count": null,
   "id": "73f7420e-7767-4407-9f73-50a631c3f78b",
   "metadata": {},
   "outputs": [],
   "source": []
  }
 ],
 "metadata": {
  "kernelspec": {
   "display_name": "Python 3 (ipykernel)",
   "language": "python",
   "name": "python3"
  },
  "language_info": {
   "codemirror_mode": {
    "name": "ipython",
    "version": 3
   },
   "file_extension": ".py",
   "mimetype": "text/x-python",
   "name": "python",
   "nbconvert_exporter": "python",
   "pygments_lexer": "ipython3",
   "version": "3.10.12"
  }
 },
 "nbformat": 4,
 "nbformat_minor": 5
}
