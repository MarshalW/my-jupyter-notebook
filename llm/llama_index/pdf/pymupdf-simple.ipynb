{
 "cells": [
  {
   "cell_type": "markdown",
   "id": "cf7fbebe-3d90-4fe6-844c-945476d90cfc",
   "metadata": {},
   "source": [
    "# pymupdf 使用示例"
   ]
  },
  {
   "cell_type": "code",
   "execution_count": 8,
   "id": "dd9412cc-1487-40b2-a2e6-7957f9aede52",
   "metadata": {},
   "outputs": [
    {
     "name": "stdout",
     "output_type": "stream",
     "text": [
      "CPU times: user 16.6 ms, sys: 7.88 ms, total: 24.5 ms\n",
      "Wall time: 6.69 s\n"
     ]
    }
   ],
   "source": [
    "%%time\n",
    "%%capture\n",
    "\n",
    "%pip install pymupdf pymupdf4llm\n",
    "%pip install llama-index-readers-file"
   ]
  },
  {
   "cell_type": "markdown",
   "id": "214c7bec-7221-4698-9bed-88f967cb76ff",
   "metadata": {},
   "source": [
    "## 导出txt文件"
   ]
  },
  {
   "cell_type": "code",
   "execution_count": 6,
   "id": "32c8449b-f5c8-4f7d-a258-e26ff0b51e68",
   "metadata": {},
   "outputs": [
    {
     "name": "stdout",
     "output_type": "stream",
     "text": [
      "CPU times: user 165 ms, sys: 20.3 ms, total: 186 ms\n",
      "Wall time: 185 ms\n"
     ]
    }
   ],
   "source": [
    "%%time\n",
    "\n",
    "import pymupdf\n",
    "\n",
    "doc = pymupdf.open(\"伟大的中国工业革命.pdf\") # open a document\n",
    "out = open(\"output.txt\", \"wb\") # create a text output\n",
    "for page in doc: # iterate the document pages\n",
    "    text = page.get_text().encode(\"utf8\") # get plain text (is in UTF-8)\n",
    "    out.write(text) # write text of page\n",
    "    out.write(bytes((12,))) # write page delimiter (form feed 0x0C)\n",
    "out.close()"
   ]
  },
  {
   "cell_type": "markdown",
   "id": "82786a3b-84f2-486f-90db-6867d939346b",
   "metadata": {},
   "source": [
    "## 导出 markdown"
   ]
  },
  {
   "cell_type": "code",
   "execution_count": 7,
   "id": "dd4678c5-db99-43d8-8c4b-c8673ed887dc",
   "metadata": {},
   "outputs": [
    {
     "name": "stdout",
     "output_type": "stream",
     "text": [
      "CPU times: user 7.42 s, sys: 15.8 ms, total: 7.44 s\n",
      "Wall time: 7.44 s\n"
     ]
    },
    {
     "data": {
      "text/plain": [
       "680918"
      ]
     },
     "execution_count": 7,
     "metadata": {},
     "output_type": "execute_result"
    }
   ],
   "source": [
    "%%time\n",
    "\n",
    "import pymupdf4llm\n",
    "md_text = pymupdf4llm.to_markdown(\"伟大的中国工业革命.pdf\")\n",
    "\n",
    "# Write the text to some file in UTF8-encoding\n",
    "import pathlib\n",
    "pathlib.Path(\"output.md\").write_bytes(md_text.encode())"
   ]
  },
  {
   "cell_type": "markdown",
   "id": "6a9ff6bb-c527-4b5e-b792-587fa0cb591a",
   "metadata": {},
   "source": [
    "## 基于llamaindex"
   ]
  },
  {
   "cell_type": "markdown",
   "id": "b93f5921-bc57-4e71-8589-b60685005988",
   "metadata": {},
   "source": [
    "### 加载pdf"
   ]
  },
  {
   "cell_type": "code",
   "execution_count": 9,
   "id": "bc6c4f1c-9859-4ffa-bbd3-a7b10552d95a",
   "metadata": {},
   "outputs": [
    {
     "name": "stdout",
     "output_type": "stream",
     "text": [
      "CPU times: user 2.88 s, sys: 316 ms, total: 3.2 s\n",
      "Wall time: 2.82 s\n"
     ]
    }
   ],
   "source": [
    "%%time\n",
    "\n",
    "from llama_index.readers.file import PyMuPDFReader\n",
    "\n",
    "loader = PyMuPDFReader()\n",
    "documents = loader.load(file_path=\"伟大的中国工业革命.pdf\")"
   ]
  },
  {
   "cell_type": "code",
   "execution_count": 10,
   "id": "d60f436b-aa5a-49b6-8947-3bd707a7fcdb",
   "metadata": {},
   "outputs": [
    {
     "data": {
      "text/plain": [
       "176"
      ]
     },
     "execution_count": 10,
     "metadata": {},
     "output_type": "execute_result"
    }
   ],
   "source": [
    "len(documents)"
   ]
  },
  {
   "cell_type": "code",
   "execution_count": 11,
   "id": "044c3689-32bf-40dd-8581-5e867501e2f1",
   "metadata": {},
   "outputs": [
    {
     "data": {
      "text/plain": [
       "Document(id_='bdaabb2d-bb31-4fbd-aece-6caf749c8a98', embedding=None, metadata={'total_pages': 176, 'file_path': '伟大的中国工业革命.pdf', 'source': '2'}, excluded_embed_metadata_keys=[], excluded_llm_metadata_keys=[], relationships={}, text='2 \\n \\n“是什么东西，能够在一个穷国引爆工业革命，使经济腾飞？可惜，工业化的秘\\n诀，至今无人知晓——亚当•斯密的《国富论》没说清楚，新古典增长理论也没\\n道明白，而今天占统治地位的制度经济学更是误读历史、因果颠倒。难怪，工业\\n化的浪潮，尽管在无数落后国家不断掀起，但除少数波峰能翻越贫穷的鸿沟，幸\\n运到达高收入的彼岸，多数是无声退去，留下一片狼藉。\\n‘进口替代战略’令人\\n沮丧，\\n‘华盛顿共识’治国无方，\\n‘休克疗法’误人子弟，\\n‘茉莉花革命’更是病\\n急乱投医，致国家病入膏肓。在世界七十亿人口中消灭贫穷，仍然是世界银行和\\n联合国可望而不可及的攻坚目标。\\n但是，\\n自鸦片战争一百七十多年后突然异军突\\n起的中国，\\n正在以惊人的细节再次向世人展示着工业革命的秘密，\\n尽管有些眼花\\n缭乱。破译这个秘密并让所有穷国实现工业革命，是每一个经济学家的使命。\\n” \\n“贫穷、落后、工业化失败，始终是社会协作失灵的产物。问题的根源在于，创\\n建规模化的能让现代产业盈利的市场需要付出巨大的经济和社会协作成本。\\n而这\\n一成本却被自亚当•斯密以来的市场原教旨主义和新自由主义经济学所忽略了。\\n” \\n“‘自由’市场并不自由，也不是免费的。它本质上是一种成本高昂的公共品。\\n正在中国大地上展开的工业革命，\\n其源泉并非来自于技术升级本身，\\n而是来自于\\n一个有为的重商主义政府所引领的连续不断的市场创造。\\n” \\n“英国光荣革命并没有使英国政府在与劳苦大众分享政治权力方面变得更加‘包\\n容’\\n（如被制度经济学家们所过于粉饰的那样）\\n。它不过使得英国政府在征税、创\\n造市场、开辟国际商业渠道、实行重商主义的贸易政策、以及全面驾驭英国经济\\n方面变得更为集权和强大而已。” \\n“规模化工业品市场难以通过一次性的大推进（无论是进口替代还是休克疗法）\\n来建立，\\n而只能是一步一步按照正确的顺序来实现。\\n中国势不可挡地崛起为一个\\n世界经济大国，\\n正是因为它无意中发现并遵循了市场创造的正确顺序和方法。\\n这\\n与其过去120 年间在不同政治制度下的三次工业化失败形成了鲜明的对照。” \\n“工业化和技术创新的水平是由市场规模决定的，而市场规模是由国家能力实现\\n的。\\n之所以是英国而非荷兰引爆了第一次工业革命，\\n其根本原因是英国在政商强\\n强联合体制下成功开辟了18 世纪全球最大规模的纺织品市场和棉花供应链，因\\n而必然使得它在全国范围内采用纺纱机和工厂体系变得有利可图。\\n类似的，\\n是美\\n国而不是法国或德国在19 世纪末赶超并取代英国成为下一个超级大国，也在于\\n美国的政商两界通力合作打造了一个比大英帝国更加广阔的国内外市场。\\n这一市\\n场培育了世界上最伟大的发明家和工业巨头。今天，是中国而非印度做好了在\\n21 世纪取代美国制造业和技术创新地位的准备，也是因为中国在过去三十多年\\n间开创并继续开创着一个比美国还要巨大的超级市场。\\n这一市场定会孕育比卡内\\n基、福特、摩根、洛克菲勒等还要伟大的企业和企业家。” \\n“没有工业化基础的民主制是华而不实的空中楼阁。而没有统一的国家意志和正\\n确的发展战略，工业化是不可能成功的。” \\n文一（\\n《伟大的中国工业革命》\\n） \\n', start_char_idx=None, end_char_idx=None, text_template='{metadata_str}\\n\\n{content}', metadata_template='{key}: {value}', metadata_seperator='\\n')"
      ]
     },
     "execution_count": 11,
     "metadata": {},
     "output_type": "execute_result"
    }
   ],
   "source": [
    "documents[1]"
   ]
  },
  {
   "cell_type": "markdown",
   "id": "c224838d-2412-4682-a8e7-a7ca8ebf302e",
   "metadata": {},
   "source": [
    "### epub"
   ]
  },
  {
   "cell_type": "code",
   "execution_count": 19,
   "id": "4cb83430-1f72-44bd-ab2e-358d9f833ac6",
   "metadata": {
    "scrolled": true
   },
   "outputs": [
    {
     "name": "stdout",
     "output_type": "stream",
     "text": [
      "MuPDF error: format error: cannot locate font 'res:///opt/sony/ebook/FONT/tt0011m_.ttf' specified by css\n",
      "\n",
      "MuPDF error: format error: cannot locate font 'res:///opt/sony/ebook/FONT/tt0011m_.ttf' specified by css\n",
      "\n",
      "MuPDF error: format error: cannot locate font 'res:///opt/sony/ebook/FONT/tt0011m_.ttf' specified by css\n",
      "\n",
      "MuPDF error: format error: cannot locate font 'res:///opt/sony/ebook/FONT/tt0011m_.ttf' specified by css\n",
      "\n",
      "MuPDF error: format error: cannot locate font 'res:///opt/sony/ebook/FONT/tt0011m_.ttf' specified by css\n",
      "\n",
      "MuPDF error: format error: cannot locate font 'res:///opt/sony/ebook/FONT/tt0011m_.ttf' specified by css\n",
      "\n",
      "MuPDF error: format error: cannot locate font 'res:///opt/sony/ebook/FONT/tt0011m_.ttf' specified by css\n",
      "\n",
      "MuPDF error: format error: cannot locate font 'res:///opt/sony/ebook/FONT/tt0011m_.ttf' specified by css\n",
      "\n",
      "MuPDF error: format error: cannot locate font 'res:///opt/sony/ebook/FONT/tt0011m_.ttf' specified by css\n",
      "\n",
      "MuPDF error: format error: cannot locate font 'res:///opt/sony/ebook/FONT/tt0011m_.ttf' specified by css\n",
      "\n",
      "MuPDF error: format error: cannot locate font 'res:///opt/sony/ebook/FONT/tt0011m_.ttf' specified by css\n",
      "\n",
      "MuPDF error: format error: cannot locate font 'res:///opt/sony/ebook/FONT/tt0011m_.ttf' specified by css\n",
      "\n",
      "MuPDF error: format error: cannot locate font 'res:///opt/sony/ebook/FONT/tt0011m_.ttf' specified by css\n",
      "\n",
      "MuPDF error: format error: cannot locate font 'res:///opt/sony/ebook/FONT/tt0011m_.ttf' specified by css\n",
      "\n",
      "MuPDF error: format error: cannot locate font 'res:///opt/sony/ebook/FONT/tt0011m_.ttf' specified by css\n",
      "\n",
      "MuPDF error: format error: cannot locate font 'res:///opt/sony/ebook/FONT/tt0011m_.ttf' specified by css\n",
      "\n",
      "MuPDF error: format error: cannot locate font 'res:///opt/sony/ebook/FONT/tt0011m_.ttf' specified by css\n",
      "\n",
      "MuPDF error: format error: cannot locate font 'res:///opt/sony/ebook/FONT/tt0011m_.ttf' specified by css\n",
      "\n",
      "MuPDF error: format error: cannot locate font 'res:///opt/sony/ebook/FONT/tt0011m_.ttf' specified by css\n",
      "\n",
      "MuPDF error: format error: cannot locate font 'res:///opt/sony/ebook/FONT/tt0011m_.ttf' specified by css\n",
      "\n",
      "MuPDF error: format error: cannot locate font 'res:///opt/sony/ebook/FONT/tt0011m_.ttf' specified by css\n",
      "\n",
      "MuPDF error: format error: cannot locate font 'res:///opt/sony/ebook/FONT/tt0011m_.ttf' specified by css\n",
      "\n",
      "MuPDF error: format error: cannot locate font 'res:///opt/sony/ebook/FONT/tt0011m_.ttf' specified by css\n",
      "\n",
      "MuPDF error: format error: cannot locate font 'res:///opt/sony/ebook/FONT/tt0011m_.ttf' specified by css\n",
      "\n",
      "MuPDF error: format error: cannot locate font 'res:///opt/sony/ebook/FONT/tt0011m_.ttf' specified by css\n",
      "\n",
      "MuPDF error: format error: cannot locate font 'res:///opt/sony/ebook/FONT/tt0011m_.ttf' specified by css\n",
      "\n",
      "MuPDF error: format error: cannot locate font 'res:///opt/sony/ebook/FONT/tt0011m_.ttf' specified by css\n",
      "\n",
      "MuPDF error: format error: cannot locate font 'res:///opt/sony/ebook/FONT/tt0011m_.ttf' specified by css\n",
      "\n",
      "MuPDF error: format error: cannot locate font 'res:///opt/sony/ebook/FONT/tt0011m_.ttf' specified by css\n",
      "\n",
      "MuPDF error: format error: cannot locate font 'res:///opt/sony/ebook/FONT/tt0011m_.ttf' specified by css\n",
      "\n",
      "MuPDF error: format error: cannot locate font 'res:///opt/sony/ebook/FONT/tt0011m_.ttf' specified by css\n",
      "\n",
      "MuPDF error: format error: cannot locate font 'res:///opt/sony/ebook/FONT/tt0011m_.ttf' specified by css\n",
      "\n",
      "MuPDF error: format error: cannot locate font 'res:///opt/sony/ebook/FONT/tt0011m_.ttf' specified by css\n",
      "\n",
      "MuPDF error: format error: cannot locate font 'res:///opt/sony/ebook/FONT/tt0011m_.ttf' specified by css\n",
      "\n",
      "MuPDF error: format error: cannot locate font 'res:///opt/sony/ebook/FONT/tt0011m_.ttf' specified by css\n",
      "\n",
      "MuPDF error: format error: cannot locate font 'res:///opt/sony/ebook/FONT/tt0011m_.ttf' specified by css\n",
      "\n",
      "MuPDF error: format error: cannot locate font 'res:///opt/sony/ebook/FONT/tt0011m_.ttf' specified by css\n",
      "\n",
      "MuPDF error: format error: cannot locate font 'res:///opt/sony/ebook/FONT/tt0011m_.ttf' specified by css\n",
      "\n",
      "MuPDF error: format error: cannot locate font 'res:///opt/sony/ebook/FONT/tt0011m_.ttf' specified by css\n",
      "\n",
      "MuPDF error: format error: cannot locate font 'res:///opt/sony/ebook/FONT/tt0011m_.ttf' specified by css\n",
      "\n",
      "MuPDF error: format error: cannot locate font 'res:///opt/sony/ebook/FONT/tt0011m_.ttf' specified by css\n",
      "\n",
      "MuPDF error: format error: cannot locate font 'res:///opt/sony/ebook/FONT/tt0011m_.ttf' specified by css\n",
      "\n",
      "MuPDF error: format error: cannot locate font 'res:///opt/sony/ebook/FONT/tt0011m_.ttf' specified by css\n",
      "\n",
      "MuPDF error: format error: cannot locate font 'res:///opt/sony/ebook/FONT/tt0011m_.ttf' specified by css\n",
      "\n",
      "MuPDF error: format error: cannot locate font 'res:///opt/sony/ebook/FONT/tt0011m_.ttf' specified by css\n",
      "\n",
      "MuPDF error: format error: cannot locate font 'res:///opt/sony/ebook/FONT/tt0011m_.ttf' specified by css\n",
      "\n",
      "MuPDF error: format error: cannot locate font 'res:///opt/sony/ebook/FONT/tt0011m_.ttf' specified by css\n",
      "\n",
      "MuPDF error: format error: cannot locate font 'res:///opt/sony/ebook/FONT/tt0011m_.ttf' specified by css\n",
      "\n",
      "MuPDF error: format error: cannot locate font 'res:///opt/sony/ebook/FONT/tt0011m_.ttf' specified by css\n",
      "\n",
      "MuPDF error: format error: cannot locate font 'res:///opt/sony/ebook/FONT/tt0011m_.ttf' specified by css\n",
      "\n",
      "MuPDF error: format error: cannot locate font 'res:///opt/sony/ebook/FONT/tt0011m_.ttf' specified by css\n",
      "\n",
      "MuPDF error: format error: cannot locate font 'res:///opt/sony/ebook/FONT/tt0011m_.ttf' specified by css\n",
      "\n",
      "MuPDF error: format error: cannot locate font 'res:///opt/sony/ebook/FONT/tt0011m_.ttf' specified by css\n",
      "\n",
      "MuPDF error: format error: cannot locate font 'res:///opt/sony/ebook/FONT/tt0011m_.ttf' specified by css\n",
      "\n",
      "MuPDF error: format error: cannot locate font 'res:///opt/sony/ebook/FONT/tt0011m_.ttf' specified by css\n",
      "\n",
      "MuPDF error: format error: cannot locate font 'res:///opt/sony/ebook/FONT/tt0011m_.ttf' specified by css\n",
      "\n",
      "MuPDF error: format error: cannot locate font 'res:///opt/sony/ebook/FONT/tt0011m_.ttf' specified by css\n",
      "\n",
      "MuPDF error: format error: cannot locate font 'res:///opt/sony/ebook/FONT/tt0011m_.ttf' specified by css\n",
      "\n",
      "MuPDF error: format error: cannot locate font 'res:///opt/sony/ebook/FONT/tt0011m_.ttf' specified by css\n",
      "\n",
      "MuPDF error: format error: cannot locate font 'res:///opt/sony/ebook/FONT/tt0011m_.ttf' specified by css\n",
      "\n",
      "MuPDF error: format error: cannot locate font 'res:///opt/sony/ebook/FONT/tt0011m_.ttf' specified by css\n",
      "\n",
      "MuPDF error: format error: cannot locate font 'res:///opt/sony/ebook/FONT/tt0011m_.ttf' specified by css\n",
      "\n",
      "MuPDF error: format error: cannot locate font 'res:///opt/sony/ebook/FONT/tt0011m_.ttf' specified by css\n",
      "\n",
      "MuPDF error: format error: cannot locate font 'res:///opt/sony/ebook/FONT/tt0011m_.ttf' specified by css\n",
      "\n",
      "MuPDF error: format error: cannot locate font 'res:///opt/sony/ebook/FONT/tt0011m_.ttf' specified by css\n",
      "\n",
      "MuPDF error: format error: cannot locate font 'res:///opt/sony/ebook/FONT/tt0011m_.ttf' specified by css\n",
      "\n",
      "MuPDF error: format error: cannot locate font 'res:///opt/sony/ebook/FONT/tt0011m_.ttf' specified by css\n",
      "\n",
      "MuPDF error: format error: cannot locate font 'res:///opt/sony/ebook/FONT/tt0011m_.ttf' specified by css\n",
      "\n",
      "MuPDF error: format error: cannot locate font 'res:///opt/sony/ebook/FONT/tt0011m_.ttf' specified by css\n",
      "\n",
      "MuPDF error: format error: cannot locate font 'res:///opt/sony/ebook/FONT/tt0011m_.ttf' specified by css\n",
      "\n",
      "MuPDF error: format error: cannot locate font 'res:///opt/sony/ebook/FONT/tt0011m_.ttf' specified by css\n",
      "\n",
      "MuPDF error: format error: cannot locate font 'res:///opt/sony/ebook/FONT/tt0011m_.ttf' specified by css\n",
      "\n",
      "MuPDF error: format error: cannot locate font 'res:///opt/sony/ebook/FONT/tt0011m_.ttf' specified by css\n",
      "\n",
      "MuPDF error: format error: cannot locate font 'res:///opt/sony/ebook/FONT/tt0011m_.ttf' specified by css\n",
      "\n",
      "MuPDF error: format error: cannot locate font 'res:///opt/sony/ebook/FONT/tt0011m_.ttf' specified by css\n",
      "\n",
      "MuPDF error: format error: cannot locate font 'res:///opt/sony/ebook/FONT/tt0011m_.ttf' specified by css\n",
      "\n",
      "MuPDF error: format error: cannot locate font 'res:///opt/sony/ebook/FONT/tt0011m_.ttf' specified by css\n",
      "\n",
      "MuPDF error: format error: cannot locate font 'res:///opt/sony/ebook/FONT/tt0011m_.ttf' specified by css\n",
      "\n",
      "MuPDF error: format error: cannot locate font 'res:///opt/sony/ebook/FONT/tt0011m_.ttf' specified by css\n",
      "\n",
      "MuPDF error: format error: cannot locate font 'res:///opt/sony/ebook/FONT/tt0011m_.ttf' specified by css\n",
      "\n",
      "MuPDF error: format error: cannot locate font 'res:///opt/sony/ebook/FONT/tt0011m_.ttf' specified by css\n",
      "\n",
      "MuPDF error: format error: cannot locate font 'res:///opt/sony/ebook/FONT/tt0011m_.ttf' specified by css\n",
      "\n",
      "MuPDF error: format error: cannot locate font 'res:///opt/sony/ebook/FONT/tt0011m_.ttf' specified by css\n",
      "\n",
      "MuPDF error: format error: cannot locate font 'res:///opt/sony/ebook/FONT/tt0011m_.ttf' specified by css\n",
      "\n",
      "MuPDF error: format error: cannot locate font 'res:///opt/sony/ebook/FONT/tt0011m_.ttf' specified by css\n",
      "\n",
      "MuPDF error: format error: cannot locate font 'res:///opt/sony/ebook/FONT/tt0011m_.ttf' specified by css\n",
      "\n",
      "MuPDF error: format error: cannot locate font 'res:///opt/sony/ebook/FONT/tt0011m_.ttf' specified by css\n",
      "\n",
      "MuPDF error: format error: cannot locate font 'res:///opt/sony/ebook/FONT/tt0011m_.ttf' specified by css\n",
      "\n",
      "MuPDF error: format error: cannot locate font 'res:///opt/sony/ebook/FONT/tt0011m_.ttf' specified by css\n",
      "\n",
      "MuPDF error: format error: cannot locate font 'res:///opt/sony/ebook/FONT/tt0011m_.ttf' specified by css\n",
      "\n",
      "MuPDF error: format error: cannot locate font 'res:///opt/sony/ebook/FONT/tt0011m_.ttf' specified by css\n",
      "\n",
      "MuPDF error: format error: cannot locate font 'res:///opt/sony/ebook/FONT/tt0011m_.ttf' specified by css\n",
      "\n",
      "MuPDF error: format error: cannot locate font 'res:///opt/sony/ebook/FONT/tt0011m_.ttf' specified by css\n",
      "\n",
      "MuPDF error: format error: cannot locate font 'res:///opt/sony/ebook/FONT/tt0011m_.ttf' specified by css\n",
      "\n",
      "MuPDF error: format error: cannot locate font 'res:///opt/sony/ebook/FONT/tt0011m_.ttf' specified by css\n",
      "\n",
      "MuPDF error: format error: cannot locate font 'res:///opt/sony/ebook/FONT/tt0011m_.ttf' specified by css\n",
      "\n",
      "MuPDF error: format error: cannot locate font 'res:///opt/sony/ebook/FONT/tt0011m_.ttf' specified by css\n",
      "\n",
      "MuPDF error: format error: cannot locate font 'res:///opt/sony/ebook/FONT/tt0011m_.ttf' specified by css\n",
      "\n",
      "MuPDF error: format error: cannot locate font 'res:///opt/sony/ebook/FONT/tt0011m_.ttf' specified by css\n",
      "\n",
      "MuPDF error: format error: cannot locate font 'res:///opt/sony/ebook/FONT/tt0011m_.ttf' specified by css\n",
      "\n",
      "MuPDF error: format error: cannot locate font 'res:///opt/sony/ebook/FONT/tt0011m_.ttf' specified by css\n",
      "\n",
      "MuPDF error: format error: cannot locate font 'res:///opt/sony/ebook/FONT/tt0011m_.ttf' specified by css\n",
      "\n",
      "MuPDF error: format error: cannot locate font 'res:///opt/sony/ebook/FONT/tt0011m_.ttf' specified by css\n",
      "\n",
      "MuPDF error: format error: cannot locate font 'res:///opt/sony/ebook/FONT/tt0011m_.ttf' specified by css\n",
      "\n",
      "MuPDF error: format error: cannot locate font 'res:///opt/sony/ebook/FONT/tt0011m_.ttf' specified by css\n",
      "\n",
      "MuPDF error: format error: cannot locate font 'res:///opt/sony/ebook/FONT/tt0011m_.ttf' specified by css\n",
      "\n",
      "MuPDF error: format error: cannot locate font 'res:///opt/sony/ebook/FONT/tt0011m_.ttf' specified by css\n",
      "\n",
      "MuPDF error: format error: cannot locate font 'res:///opt/sony/ebook/FONT/tt0011m_.ttf' specified by css\n",
      "\n",
      "MuPDF error: format error: cannot locate font 'res:///opt/sony/ebook/FONT/tt0011m_.ttf' specified by css\n",
      "\n",
      "MuPDF error: format error: cannot locate font 'res:///opt/sony/ebook/FONT/tt0011m_.ttf' specified by css\n",
      "\n",
      "MuPDF error: format error: cannot locate font 'res:///opt/sony/ebook/FONT/tt0011m_.ttf' specified by css\n",
      "\n",
      "MuPDF error: format error: cannot locate font 'res:///opt/sony/ebook/FONT/tt0011m_.ttf' specified by css\n",
      "\n",
      "MuPDF error: format error: cannot locate font 'res:///opt/sony/ebook/FONT/tt0011m_.ttf' specified by css\n",
      "\n",
      "MuPDF error: format error: cannot locate font 'res:///opt/sony/ebook/FONT/tt0011m_.ttf' specified by css\n",
      "\n",
      "MuPDF error: format error: cannot locate font 'res:///opt/sony/ebook/FONT/tt0011m_.ttf' specified by css\n",
      "\n",
      "MuPDF error: format error: cannot locate font 'res:///opt/sony/ebook/FONT/tt0011m_.ttf' specified by css\n",
      "\n",
      "MuPDF error: format error: cannot locate font 'res:///opt/sony/ebook/FONT/tt0011m_.ttf' specified by css\n",
      "\n",
      "MuPDF error: format error: cannot locate font 'res:///opt/sony/ebook/FONT/tt0011m_.ttf' specified by css\n",
      "\n",
      "MuPDF error: format error: cannot locate font 'res:///opt/sony/ebook/FONT/tt0011m_.ttf' specified by css\n",
      "\n",
      "MuPDF error: format error: cannot locate font 'res:///opt/sony/ebook/FONT/tt0011m_.ttf' specified by css\n",
      "\n",
      "MuPDF error: format error: cannot locate font 'res:///opt/sony/ebook/FONT/tt0011m_.ttf' specified by css\n",
      "\n",
      "MuPDF error: format error: cannot locate font 'res:///opt/sony/ebook/FONT/tt0011m_.ttf' specified by css\n",
      "\n",
      "MuPDF error: format error: cannot locate font 'res:///opt/sony/ebook/FONT/tt0011m_.ttf' specified by css\n",
      "\n",
      "MuPDF error: format error: cannot locate font 'res:///opt/sony/ebook/FONT/tt0011m_.ttf' specified by css\n",
      "\n",
      "MuPDF error: format error: cannot locate font 'res:///opt/sony/ebook/FONT/tt0011m_.ttf' specified by css\n",
      "\n",
      "MuPDF error: format error: cannot locate font 'res:///opt/sony/ebook/FONT/tt0011m_.ttf' specified by css\n",
      "\n",
      "MuPDF error: format error: cannot locate font 'res:///opt/sony/ebook/FONT/tt0011m_.ttf' specified by css\n",
      "\n",
      "MuPDF error: format error: cannot locate font 'res:///opt/sony/ebook/FONT/tt0011m_.ttf' specified by css\n",
      "\n",
      "MuPDF error: format error: cannot locate font 'res:///opt/sony/ebook/FONT/tt0011m_.ttf' specified by css\n",
      "\n",
      "MuPDF error: format error: cannot locate font 'res:///opt/sony/ebook/FONT/tt0011m_.ttf' specified by css\n",
      "\n",
      "MuPDF error: format error: cannot locate font 'res:///opt/sony/ebook/FONT/tt0011m_.ttf' specified by css\n",
      "\n",
      "MuPDF error: format error: cannot locate font 'res:///opt/sony/ebook/FONT/tt0011m_.ttf' specified by css\n",
      "\n",
      "MuPDF error: format error: cannot locate font 'res:///opt/sony/ebook/FONT/tt0011m_.ttf' specified by css\n",
      "\n",
      "MuPDF error: format error: cannot locate font 'res:///opt/sony/ebook/FONT/tt0011m_.ttf' specified by css\n",
      "\n",
      "MuPDF error: format error: cannot locate font 'res:///opt/sony/ebook/FONT/tt0011m_.ttf' specified by css\n",
      "\n",
      "MuPDF error: format error: cannot locate font 'res:///opt/sony/ebook/FONT/tt0011m_.ttf' specified by css\n",
      "\n",
      "MuPDF error: format error: cannot locate font 'res:///opt/sony/ebook/FONT/tt0011m_.ttf' specified by css\n",
      "\n",
      "MuPDF error: format error: cannot locate font 'res:///opt/sony/ebook/FONT/tt0011m_.ttf' specified by css\n",
      "\n",
      "MuPDF error: format error: cannot locate font 'res:///opt/sony/ebook/FONT/tt0011m_.ttf' specified by css\n",
      "\n",
      "MuPDF error: format error: cannot locate font 'res:///opt/sony/ebook/FONT/tt0011m_.ttf' specified by css\n",
      "\n",
      "MuPDF error: format error: cannot locate font 'res:///opt/sony/ebook/FONT/tt0011m_.ttf' specified by css\n",
      "\n",
      "MuPDF error: format error: cannot locate font 'res:///opt/sony/ebook/FONT/tt0011m_.ttf' specified by css\n",
      "\n",
      "MuPDF error: format error: cannot locate font 'res:///opt/sony/ebook/FONT/tt0011m_.ttf' specified by css\n",
      "\n",
      "MuPDF error: format error: cannot locate font 'res:///opt/sony/ebook/FONT/tt0011m_.ttf' specified by css\n",
      "\n",
      "MuPDF error: format error: cannot locate font 'res:///opt/sony/ebook/FONT/tt0011m_.ttf' specified by css\n",
      "\n",
      "MuPDF error: format error: cannot locate font 'res:///opt/sony/ebook/FONT/tt0011m_.ttf' specified by css\n",
      "\n",
      "MuPDF error: format error: cannot locate font 'res:///opt/sony/ebook/FONT/tt0011m_.ttf' specified by css\n",
      "\n",
      "MuPDF error: format error: cannot locate font 'res:///opt/sony/ebook/FONT/tt0011m_.ttf' specified by css\n",
      "\n",
      "MuPDF error: format error: cannot locate font 'res:///opt/sony/ebook/FONT/tt0011m_.ttf' specified by css\n",
      "\n",
      "MuPDF error: format error: cannot locate font 'res:///opt/sony/ebook/FONT/tt0011m_.ttf' specified by css\n",
      "\n",
      "MuPDF error: format error: cannot locate font 'res:///opt/sony/ebook/FONT/tt0011m_.ttf' specified by css\n",
      "\n",
      "MuPDF error: format error: cannot locate font 'res:///opt/sony/ebook/FONT/tt0011m_.ttf' specified by css\n",
      "\n",
      "MuPDF error: format error: cannot locate font 'res:///opt/sony/ebook/FONT/tt0011m_.ttf' specified by css\n",
      "\n",
      "MuPDF error: format error: cannot locate font 'res:///opt/sony/ebook/FONT/tt0011m_.ttf' specified by css\n",
      "\n",
      "MuPDF error: format error: cannot locate font 'res:///opt/sony/ebook/FONT/tt0011m_.ttf' specified by css\n",
      "\n",
      "MuPDF error: format error: cannot locate font 'res:///opt/sony/ebook/FONT/tt0011m_.ttf' specified by css\n",
      "\n",
      "MuPDF error: format error: cannot locate font 'res:///opt/sony/ebook/FONT/tt0011m_.ttf' specified by css\n",
      "\n",
      "MuPDF error: format error: cannot locate font 'res:///opt/sony/ebook/FONT/tt0011m_.ttf' specified by css\n",
      "\n",
      "MuPDF error: format error: cannot locate font 'res:///opt/sony/ebook/FONT/tt0011m_.ttf' specified by css\n",
      "\n",
      "MuPDF error: format error: cannot locate font 'res:///opt/sony/ebook/FONT/tt0011m_.ttf' specified by css\n",
      "\n",
      "MuPDF error: format error: cannot locate font 'res:///opt/sony/ebook/FONT/tt0011m_.ttf' specified by css\n",
      "\n",
      "MuPDF error: format error: cannot locate font 'res:///opt/sony/ebook/FONT/tt0011m_.ttf' specified by css\n",
      "\n",
      "MuPDF error: format error: cannot locate font 'res:///opt/sony/ebook/FONT/tt0011m_.ttf' specified by css\n",
      "\n",
      "MuPDF error: format error: cannot locate font 'res:///opt/sony/ebook/FONT/tt0011m_.ttf' specified by css\n",
      "\n",
      "MuPDF error: format error: cannot locate font 'res:///opt/sony/ebook/FONT/tt0011m_.ttf' specified by css\n",
      "\n",
      "MuPDF error: format error: cannot locate font 'res:///opt/sony/ebook/FONT/tt0011m_.ttf' specified by css\n",
      "\n",
      "MuPDF error: format error: cannot locate font 'res:///opt/sony/ebook/FONT/tt0011m_.ttf' specified by css\n",
      "\n",
      "MuPDF error: format error: cannot locate font 'res:///opt/sony/ebook/FONT/tt0011m_.ttf' specified by css\n",
      "\n",
      "MuPDF error: format error: cannot locate font 'res:///opt/sony/ebook/FONT/tt0011m_.ttf' specified by css\n",
      "\n",
      "MuPDF error: format error: cannot locate font 'res:///opt/sony/ebook/FONT/tt0011m_.ttf' specified by css\n",
      "\n",
      "MuPDF error: format error: cannot locate font 'res:///opt/sony/ebook/FONT/tt0011m_.ttf' specified by css\n",
      "\n",
      "MuPDF error: format error: cannot locate font 'res:///opt/sony/ebook/FONT/tt0011m_.ttf' specified by css\n",
      "\n",
      "MuPDF error: format error: cannot locate font 'res:///opt/sony/ebook/FONT/tt0011m_.ttf' specified by css\n",
      "\n",
      "MuPDF error: format error: cannot locate font 'res:///opt/sony/ebook/FONT/tt0011m_.ttf' specified by css\n",
      "\n",
      "MuPDF error: format error: cannot locate font 'res:///opt/sony/ebook/FONT/tt0011m_.ttf' specified by css\n",
      "\n",
      "MuPDF error: format error: cannot locate font 'res:///opt/sony/ebook/FONT/tt0011m_.ttf' specified by css\n",
      "\n",
      "MuPDF error: format error: cannot locate font 'res:///opt/sony/ebook/FONT/tt0011m_.ttf' specified by css\n",
      "\n",
      "MuPDF error: format error: cannot locate font 'res:///opt/sony/ebook/FONT/tt0011m_.ttf' specified by css\n",
      "\n",
      "MuPDF error: format error: cannot locate font 'res:///opt/sony/ebook/FONT/tt0011m_.ttf' specified by css\n",
      "\n",
      "MuPDF error: format error: cannot locate font 'res:///opt/sony/ebook/FONT/tt0011m_.ttf' specified by css\n",
      "\n",
      "MuPDF error: format error: cannot locate font 'res:///opt/sony/ebook/FONT/tt0011m_.ttf' specified by css\n",
      "\n",
      "MuPDF error: format error: cannot locate font 'res:///opt/sony/ebook/FONT/tt0011m_.ttf' specified by css\n",
      "\n",
      "MuPDF error: format error: cannot locate font 'res:///opt/sony/ebook/FONT/tt0011m_.ttf' specified by css\n",
      "\n",
      "MuPDF error: format error: cannot locate font 'res:///opt/sony/ebook/FONT/tt0011m_.ttf' specified by css\n",
      "\n",
      "MuPDF error: format error: cannot locate font 'res:///opt/sony/ebook/FONT/tt0011m_.ttf' specified by css\n",
      "\n",
      "MuPDF error: format error: cannot locate font 'res:///opt/sony/ebook/FONT/tt0011m_.ttf' specified by css\n",
      "\n",
      "MuPDF error: format error: cannot locate font 'res:///opt/sony/ebook/FONT/tt0011m_.ttf' specified by css\n",
      "\n",
      "MuPDF error: format error: cannot locate font 'res:///opt/sony/ebook/FONT/tt0011m_.ttf' specified by css\n",
      "\n",
      "MuPDF error: format error: cannot locate font 'res:///opt/sony/ebook/FONT/tt0011m_.ttf' specified by css\n",
      "\n",
      "MuPDF error: format error: cannot locate font 'res:///opt/sony/ebook/FONT/tt0011m_.ttf' specified by css\n",
      "\n",
      "MuPDF error: format error: cannot locate font 'res:///opt/sony/ebook/FONT/tt0011m_.ttf' specified by css\n",
      "\n",
      "MuPDF error: format error: cannot locate font 'res:///opt/sony/ebook/FONT/tt0011m_.ttf' specified by css\n",
      "\n",
      "MuPDF error: format error: cannot locate font 'res:///opt/sony/ebook/FONT/tt0011m_.ttf' specified by css\n",
      "\n",
      "MuPDF error: format error: cannot locate font 'res:///opt/sony/ebook/FONT/tt0011m_.ttf' specified by css\n",
      "\n",
      "MuPDF error: format error: cannot locate font 'res:///opt/sony/ebook/FONT/tt0011m_.ttf' specified by css\n",
      "\n",
      "MuPDF error: format error: cannot locate font 'res:///opt/sony/ebook/FONT/tt0011m_.ttf' specified by css\n",
      "\n",
      "MuPDF error: format error: cannot locate font 'res:///opt/sony/ebook/FONT/tt0011m_.ttf' specified by css\n",
      "\n",
      "MuPDF error: format error: cannot locate font 'res:///opt/sony/ebook/FONT/tt0011m_.ttf' specified by css\n",
      "\n",
      "MuPDF error: format error: cannot locate font 'res:///opt/sony/ebook/FONT/tt0011m_.ttf' specified by css\n",
      "\n",
      "MuPDF error: format error: cannot locate font 'res:///opt/sony/ebook/FONT/tt0011m_.ttf' specified by css\n",
      "\n",
      "MuPDF error: format error: cannot locate font 'res:///opt/sony/ebook/FONT/tt0011m_.ttf' specified by css\n",
      "\n",
      "MuPDF error: format error: cannot locate font 'res:///opt/sony/ebook/FONT/tt0011m_.ttf' specified by css\n",
      "\n",
      "MuPDF error: format error: cannot locate font 'res:///opt/sony/ebook/FONT/tt0011m_.ttf' specified by css\n",
      "\n",
      "MuPDF error: format error: cannot locate font 'res:///opt/sony/ebook/FONT/tt0011m_.ttf' specified by css\n",
      "\n",
      "MuPDF error: format error: cannot locate font 'res:///opt/sony/ebook/FONT/tt0011m_.ttf' specified by css\n",
      "\n",
      "MuPDF error: format error: cannot locate font 'res:///opt/sony/ebook/FONT/tt0011m_.ttf' specified by css\n",
      "\n",
      "MuPDF error: format error: cannot locate font 'res:///opt/sony/ebook/FONT/tt0011m_.ttf' specified by css\n",
      "\n",
      "MuPDF error: format error: cannot locate font 'res:///opt/sony/ebook/FONT/tt0011m_.ttf' specified by css\n",
      "\n",
      "MuPDF error: format error: cannot locate font 'res:///opt/sony/ebook/FONT/tt0011m_.ttf' specified by css\n",
      "\n",
      "MuPDF error: format error: cannot locate font 'res:///opt/sony/ebook/FONT/tt0011m_.ttf' specified by css\n",
      "\n",
      "MuPDF error: format error: cannot locate font 'res:///opt/sony/ebook/FONT/tt0011m_.ttf' specified by css\n",
      "\n",
      "MuPDF error: format error: cannot locate font 'res:///opt/sony/ebook/FONT/tt0011m_.ttf' specified by css\n",
      "\n",
      "MuPDF error: format error: cannot locate font 'res:///opt/sony/ebook/FONT/tt0011m_.ttf' specified by css\n",
      "\n",
      "MuPDF error: format error: cannot locate font 'res:///opt/sony/ebook/FONT/tt0011m_.ttf' specified by css\n",
      "\n",
      "MuPDF error: format error: cannot locate font 'res:///opt/sony/ebook/FONT/tt0011m_.ttf' specified by css\n",
      "\n",
      "MuPDF error: format error: cannot locate font 'res:///opt/sony/ebook/FONT/tt0011m_.ttf' specified by css\n",
      "\n",
      "MuPDF error: format error: cannot locate font 'res:///opt/sony/ebook/FONT/tt0011m_.ttf' specified by css\n",
      "\n",
      "MuPDF error: format error: cannot locate font 'res:///opt/sony/ebook/FONT/tt0011m_.ttf' specified by css\n",
      "\n",
      "MuPDF error: format error: cannot locate font 'res:///opt/sony/ebook/FONT/tt0011m_.ttf' specified by css\n",
      "\n",
      "MuPDF error: format error: cannot locate font 'res:///opt/sony/ebook/FONT/tt0011m_.ttf' specified by css\n",
      "\n",
      "MuPDF error: format error: cannot locate font 'res:///opt/sony/ebook/FONT/tt0011m_.ttf' specified by css\n",
      "\n",
      "MuPDF error: format error: cannot locate font 'res:///opt/sony/ebook/FONT/tt0011m_.ttf' specified by css\n",
      "\n",
      "MuPDF error: format error: cannot locate font 'res:///opt/sony/ebook/FONT/tt0011m_.ttf' specified by css\n",
      "\n",
      "MuPDF error: format error: cannot locate font 'res:///opt/sony/ebook/FONT/tt0011m_.ttf' specified by css\n",
      "\n",
      "MuPDF error: format error: cannot locate font 'res:///opt/sony/ebook/FONT/tt0011m_.ttf' specified by css\n",
      "\n",
      "MuPDF error: format error: cannot locate font 'res:///opt/sony/ebook/FONT/tt0011m_.ttf' specified by css\n",
      "\n",
      "MuPDF error: format error: cannot locate font 'res:///opt/sony/ebook/FONT/tt0011m_.ttf' specified by css\n",
      "\n",
      "MuPDF error: format error: cannot locate font 'res:///opt/sony/ebook/FONT/tt0011m_.ttf' specified by css\n",
      "\n",
      "MuPDF error: format error: cannot locate font 'res:///opt/sony/ebook/FONT/tt0011m_.ttf' specified by css\n",
      "\n",
      "MuPDF error: format error: cannot locate font 'res:///opt/sony/ebook/FONT/tt0011m_.ttf' specified by css\n",
      "\n",
      "MuPDF error: format error: cannot locate font 'res:///opt/sony/ebook/FONT/tt0011m_.ttf' specified by css\n",
      "\n",
      "MuPDF error: format error: cannot locate font 'res:///opt/sony/ebook/FONT/tt0011m_.ttf' specified by css\n",
      "\n",
      "MuPDF error: format error: cannot locate font 'res:///opt/sony/ebook/FONT/tt0011m_.ttf' specified by css\n",
      "\n",
      "MuPDF error: format error: cannot locate font 'res:///opt/sony/ebook/FONT/tt0011m_.ttf' specified by css\n",
      "\n",
      "MuPDF error: format error: cannot locate font 'res:///opt/sony/ebook/FONT/tt0011m_.ttf' specified by css\n",
      "\n",
      "MuPDF error: format error: cannot locate font 'res:///opt/sony/ebook/FONT/tt0011m_.ttf' specified by css\n",
      "\n",
      "MuPDF error: format error: cannot locate font 'res:///opt/sony/ebook/FONT/tt0011m_.ttf' specified by css\n",
      "\n",
      "MuPDF error: format error: cannot locate font 'res:///opt/sony/ebook/FONT/tt0011m_.ttf' specified by css\n",
      "\n",
      "MuPDF error: format error: cannot locate font 'res:///opt/sony/ebook/FONT/tt0011m_.ttf' specified by css\n",
      "\n",
      "MuPDF error: format error: cannot locate font 'res:///opt/sony/ebook/FONT/tt0011m_.ttf' specified by css\n",
      "\n",
      "MuPDF error: format error: cannot locate font 'res:///opt/sony/ebook/FONT/tt0011m_.ttf' specified by css\n",
      "\n",
      "CPU times: user 1.28 s, sys: 28.1 ms, total: 1.31 s\n",
      "Wall time: 1.29 s\n"
     ]
    }
   ],
   "source": [
    "%%time\n",
    "%%capture\n",
    "\n",
    "from llama_index.readers.file import PyMuPDFReader\n",
    "\n",
    "loader = PyMuPDFReader()\n",
    "documents = loader.load(file_path=\"中国近代史.epub\")"
   ]
  },
  {
   "cell_type": "code",
   "execution_count": 14,
   "id": "06b6f7c3-ab8f-4b8e-bd3e-eb8e86c84341",
   "metadata": {},
   "outputs": [
    {
     "data": {
      "text/plain": [
       "810"
      ]
     },
     "execution_count": 14,
     "metadata": {},
     "output_type": "execute_result"
    }
   ],
   "source": [
    "len(documents)"
   ]
  },
  {
   "cell_type": "code",
   "execution_count": 16,
   "id": "cad27422-704d-488c-a2a8-20b6e86ed61a",
   "metadata": {},
   "outputs": [
    {
     "data": {
      "text/plain": [
       "Document(id_='72a640e4-6e59-48d4-8726-26c49c73a31f', embedding=None, metadata={'total_pages': 810, 'file_path': '中国近代史.epub', 'source': '2'}, excluded_embed_metadata_keys=[], excluded_llm_metadata_keys=[], relationships={}, text='徐中约\\n简介\\n【这本书网络流传甚广、本人非常喜爱，花费了许多时间和精力配\\n图排版制作这本书，希望大家喜欢，感谢这本书WORD版本制作者。】\\n【本书简介】《中国近代史》自1970年面世后五次修订，销售数十\\n万册，为欧美及东南亚等地中国近代史研究的权威著作及最畅销的学术\\n教科书，是一本极具深远影响的经典作品。\\n这部近代史自清朝立国起，下迄21世纪，缕述四百年来中国近代社\\n会之巨变。然作者明确指出，这段艰难的历程并非如大多西方汉学家所\\n言，是一段西方因素不断输入而中国仅仅被动回应的历史。作者拈出“政\\n府的政策和制度”、“反对外来因素的民族或种族抗争”以及“在新的天地\\n里寻求一条求生之道”三条线索，作为推动近代中国发展的三股最重要动\\n力，并通过对近代中国内部社会动荡的描摹，向世界讲述了“一个古老的\\n儒家帝国经无比艰难，蜕变为一个近代民族国家”的历史。\\n作者徐中约虽身处欧美学界，在书中想表达的却是“以中国人的身份\\n对近代中国发展进程的看法”，但这种表达不囿于任何一家学说、一种主\\n义，开出一种折衷调和的历史观。作者以超越意识形态、阶级、党派、\\n种族和文化的眼光，怀抱对各色历史人物的宽容、同情、善意之心，能\\n够公平公正、客观冷静地看待历史事件的发生。并且参考了巨量不同语\\n种的档案文献及研究著述，以跨学科的方法写就这部描述近四百年中华\\n民族之挣扎历程的史学巨著。\\n【作者简介】徐中约（Immanuel C.Y.Hsü, 1923-2005），生于上\\n海，中国近代史研究权威学者。1946年毕业于燕京大学，1954年获哈佛\\n大学哲学博士，曾任加州大学圣巴巴拉分校历史系主任、荣休教授。学\\n问严谨，著有《中国进入国际社会的外交，1858—1888年》（哈佛，\\n1960）《伊犁危机：中俄外交研究，1871-1881年》（牛津，1965）\\n等，翻译了梁启超《清代学术概论》（哈佛，1959）。1971年，由圣巴\\n巴拉分校几百位教授组成的学术评议会遴选徐教授任“研究讲\\n座”（Faculty Research Lecturer），此乃该校最高的学术荣誉。\\n该书籍由网友制作上传，版权归原作者所有，仅供学习交流之用，\\n', start_char_idx=None, end_char_idx=None, text_template='{metadata_str}\\n\\n{content}', metadata_template='{key}: {value}', metadata_seperator='\\n')"
      ]
     },
     "execution_count": 16,
     "metadata": {},
     "output_type": "execute_result"
    }
   ],
   "source": [
    "documents[1]"
   ]
  },
  {
   "cell_type": "code",
   "execution_count": 20,
   "id": "322a0a68-8ee6-4330-9c0d-ad584bf0b5a6",
   "metadata": {},
   "outputs": [
    {
     "data": {
      "text/plain": [
       "'徐中约\\n简介\\n【这本书网络流传甚广、本人非常喜爱，花费了许多时间和精力配\\n图排版制作这本书，希望大家喜欢，感谢这本书WORD版本制作者。】\\n【本书简介】《中国近代史》自1970年面世后五次修订，销售数十\\n万册，为欧美及东南亚等地中国近代史研究的权威著作及最畅销的学术\\n教科书，是一本极具深远影响的经典作品。\\n这部近代史自清朝立国起，下迄21世纪，缕述四百年来中国近代社\\n会之巨变。然作者明确指出，这段艰难的历程并非如大多西方汉学家所\\n言，是一段西方因素不断输入而中国仅仅被动回应的历史。作者拈出“政\\n府的政策和制度”、“反对外来因素的民族或种族抗争”以及“在新的天地\\n里寻求一条求生之道”三条线索，作为推动近代中国发展的三股最重要动\\n力，并通过对近代中国内部社会动荡的描摹，向世界讲述了“一个古老的\\n儒家帝国经无比艰难，蜕变为一个近代民族国家”的历史。\\n作者徐中约虽身处欧美学界，在书中想表达的却是“以中国人的身份\\n对近代中国发展进程的看法”，但这种表达不囿于任何一家学说、一种主\\n义，开出一种折衷调和的历史观。作者以超越意识形态、阶级、党派、\\n种族和文化的眼光，怀抱对各色历史人物的宽容、同情、善意之心，能\\n够公平公正、客观冷静地看待历史事件的发生。并且参考了巨量不同语\\n种的档案文献及研究著述，以跨学科的方法写就这部描述近四百年中华\\n民族之挣扎历程的史学巨著。\\n【作者简介】徐中约（Immanuel C.Y.Hsü, 1923-2005），生于上\\n海，中国近代史研究权威学者。1946年毕业于燕京大学，1954年获哈佛\\n大学哲学博士，曾任加州大学圣巴巴拉分校历史系主任、荣休教授。学\\n问严谨，著有《中国进入国际社会的外交，1858—1888年》（哈佛，\\n1960）《伊犁危机：中俄外交研究，1871-1881年》（牛津，1965）\\n等，翻译了梁启超《清代学术概论》（哈佛，1959）。1971年，由圣巴\\n巴拉分校几百位教授组成的学术评议会遴选徐教授任“研究讲\\n座”（Faculty Research Lecturer），此乃该校最高的学术荣誉。\\n该书籍由网友制作上传，版权归原作者所有，仅供学习交流之用，\\n'"
      ]
     },
     "execution_count": 20,
     "metadata": {},
     "output_type": "execute_result"
    }
   ],
   "source": [
    "documents[1].text"
   ]
  },
  {
   "cell_type": "code",
   "execution_count": 21,
   "id": "91e64e84-e215-4be0-8040-8174870d6607",
   "metadata": {},
   "outputs": [
    {
     "data": {
      "text/plain": [
       "{'total_pages': 810, 'file_path': '中国近代史.epub', 'source': '2'}"
      ]
     },
     "execution_count": 21,
     "metadata": {},
     "output_type": "execute_result"
    }
   ],
   "source": [
    "documents[1].metadata"
   ]
  },
  {
   "cell_type": "code",
   "execution_count": 24,
   "id": "36925cba-4539-476d-868a-ffac532b06e7",
   "metadata": {},
   "outputs": [
    {
     "name": "stdout",
     "output_type": "stream",
     "text": [
      "CPU times: user 196 µs, sys: 7 µs, total: 203 µs\n",
      "Wall time: 205 µs\n"
     ]
    }
   ],
   "source": [
    "%%time\n",
    "\n",
    "from llama_index.core.node_parser import (\n",
    "    HierarchicalNodeParser,\n",
    "    SentenceSplitter,\n",
    ")\n",
    "\n",
    "node_parser = HierarchicalNodeParser.from_defaults()"
   ]
  },
  {
   "cell_type": "code",
   "execution_count": 25,
   "id": "e7894f7d-1520-4954-886b-ecf5ea900d06",
   "metadata": {},
   "outputs": [
    {
     "name": "stdout",
     "output_type": "stream",
     "text": [
      "CPU times: user 3.44 s, sys: 39.6 ms, total: 3.48 s\n",
      "Wall time: 3.47 s\n"
     ]
    },
    {
     "data": {
      "text/plain": [
       "12826"
      ]
     },
     "execution_count": 25,
     "metadata": {},
     "output_type": "execute_result"
    }
   ],
   "source": [
    "%%time\n",
    "\n",
    "nodes = node_parser.get_nodes_from_documents(documents)\n",
    "len(nodes)"
   ]
  },
  {
   "cell_type": "code",
   "execution_count": 28,
   "id": "64f73a83-5dd3-4999-89a7-5a6265c76091",
   "metadata": {},
   "outputs": [
    {
     "data": {
      "text/plain": [
       "TextNode(id_='65713e99-15b5-4488-9185-66b7894fb2ad', embedding=None, metadata={'total_pages': 810, 'file_path': '中国近代史.epub', 'source': '14'}, excluded_embed_metadata_keys=[], excluded_llm_metadata_keys=[], relationships={<NodeRelationship.SOURCE: '1'>: RelatedNodeInfo(node_id='1a0603eb-d0cc-4177-ac61-6b4f57847f2b', node_type=<ObjectType.TEXT: '1'>, metadata={'total_pages': 810, 'file_path': '中国近代史.epub', 'source': '14'}, hash='23cd9fb3fda5835dc12c280139b8ebe899ddd335cc53bd8202ab74a1e58475b1'), <NodeRelationship.PREVIOUS: '2'>: RelatedNodeInfo(node_id='3d049d7b-589b-4e50-b404-36f50ccda2cd', node_type=<ObjectType.TEXT: '1'>, metadata={'total_pages': 810, 'file_path': '中国近代史.epub', 'source': '14'}, hash='377b45c9ced758bc74c2eae3421cd490f7f9868f2574eef7c9e25617480ee3a0'), <NodeRelationship.NEXT: '3'>: RelatedNodeInfo(node_id='1ca8d321-04b9-4b11-b59e-0b89e6e431db', node_type=<ObjectType.TEXT: '1'>, metadata={}, hash='365950cf3abebeaff3a8d59e67397bd32a5be13810854e42814085429dc5f8a3'), <NodeRelationship.PARENT: '4'>: RelatedNodeInfo(node_id='1a0603eb-d0cc-4177-ac61-6b4f57847f2b', node_type=<ObjectType.TEXT: '1'>, metadata={'total_pages': 810, 'file_path': '中国近代史.epub', 'source': '14'}, hash='23cd9fb3fda5835dc12c280139b8ebe899ddd335cc53bd8202ab74a1e58475b1'), <NodeRelationship.CHILD: '5'>: [RelatedNodeInfo(node_id='e7b3e15f-71f4-4b64-a57f-ab78f68c2007', node_type=<ObjectType.TEXT: '1'>, metadata={'total_pages': 810, 'file_path': '中国近代史.epub', 'source': '14'}, hash='f5e642a0b73d761ba59891dc411da7fa62ae9a93a1fda9c4e1df4321fa64ab8d'), RelatedNodeInfo(node_id='a31de590-3557-4aa8-9610-c195e85e611d', node_type=<ObjectType.TEXT: '1'>, metadata={'total_pages': 810, 'file_path': '中国近代史.epub', 'source': '14'}, hash='f83aaf93a03f9d1020f16e0be0734e1e6d1a881342c5d16a8ff9d2856d1dfcb3'), RelatedNodeInfo(node_id='b84bff07-5f3d-4d8b-b0ae-580875579eab', node_type=<ObjectType.TEXT: '1'>, metadata={'total_pages': 810, 'file_path': '中国近代史.epub', 'source': '14'}, hash='f63560633c8c4a8fb3436cf8c6ee4605f901783802e4673aa9042c9558351f77'), RelatedNodeInfo(node_id='780e5261-abf5-4a8c-a75c-1f89a4d11168', node_type=<ObjectType.TEXT: '1'>, metadata={'total_pages': 810, 'file_path': '中国近代史.epub', 'source': '14'}, hash='3d2e7c5a6f39601ba10b3b1d28991b3380ba1ef5bf36160ad161f4a498f9ce11'), RelatedNodeInfo(node_id='49cb1b18-eed4-4cf9-b69f-b5ff23810126', node_type=<ObjectType.TEXT: '1'>, metadata={'total_pages': 810, 'file_path': '中国近代史.epub', 'source': '14'}, hash='5f0421c0f05cf01dd3337498fcddeb37e87b45229aa3c161c9395874361c5033'), RelatedNodeInfo(node_id='8e844cff-bbc6-478a-9bac-22155b8b6157', node_type=<ObjectType.TEXT: '1'>, metadata={'total_pages': 810, 'file_path': '中国近代史.epub', 'source': '14'}, hash='b435db45d1fd8aa13e5d7c6849f3684cce063d6883991033c7e3d5b03c87241d'), RelatedNodeInfo(node_id='9b1eaafc-6d93-40cb-bc46-40cd40721486', node_type=<ObjectType.TEXT: '1'>, metadata={'total_pages': 810, 'file_path': '中国近代史.epub', 'source': '14'}, hash='de94ec27f22700c28bc0d6d5597f6de50184f5ac29ca5c3f58224ee1f9cd0aff')]}, text='萧一山的巨著(清代通史)在1927～1928年首版\\n时是两卷本，1963年扩展成了五卷本，该书真是一座数据宝库，为本书\\n提供了丰富的内容。费正清的著作是整整一代学者的灵感之源，而且，\\n在他多闻博识的指导下，哈佛大学东亚研究中心出版了几十种专著，大\\n大地提高了中国近代史研究的学术水平。台湾中央研究院近代史研究\\n所、东京东洋文库和中国大陆历史学会出版的一系列著作，都在各个不\\n同的方面有所帮助。本人要特别感谢印第安纳大学教授邓嗣禹博上，他\\n对本书文稿的真知灼见，令本人得以作了许多更正和改善。本人也要感\\n谢过去十年裹的许多学生，他们的启发性提问使本人不断注意到他们的\\n需要，并时常开拓了新的探讨空间。还要感谢克拉德尼克夫人(Alice\\nKladnik)为本书手稿打字；李恩涵先生则为本书准备了索引。最后，本\\n人要特别感谢内子杜乐思 (Dolores)博士，要不是她不断的鼓励、精神上\\n的支持和挚爱的陪伴，本书将不可能完成。', start_char_idx=440, end_char_idx=850, text_template='{metadata_str}\\n\\n{content}', metadata_template='{key}: {value}', metadata_seperator='\\n')"
      ]
     },
     "execution_count": 28,
     "metadata": {},
     "output_type": "execute_result"
    }
   ],
   "source": [
    "nodes[100]"
   ]
  },
  {
   "cell_type": "code",
   "execution_count": 29,
   "id": "bb39e5fe-9abe-4c3a-bfe2-05f8484b4215",
   "metadata": {},
   "outputs": [
    {
     "name": "stdout",
     "output_type": "stream",
     "text": [
      "CPU times: user 6.51 ms, sys: 0 ns, total: 6.51 ms\n",
      "Wall time: 6.42 ms\n"
     ]
    },
    {
     "data": {
      "text/plain": [
       "10048"
      ]
     },
     "execution_count": 29,
     "metadata": {},
     "output_type": "execute_result"
    }
   ],
   "source": [
    "%%time\n",
    "\n",
    "from llama_index.core.node_parser import get_leaf_nodes, get_root_nodes\n",
    "\n",
    "leaf_nodes = get_leaf_nodes(nodes)\n",
    "len(leaf_nodes)"
   ]
  },
  {
   "cell_type": "code",
   "execution_count": 66,
   "id": "7d8b1c5e-1eb3-4ad2-b768-0f322d899548",
   "metadata": {},
   "outputs": [
    {
     "data": {
      "text/plain": [
       "'徐中约\\n简介\\n【这本书网络流传甚广、本人非常喜爱，花费了许多时间和精力配\\n图排版制作这本书，希望大家喜欢，感谢这本书WORD版本制作者。'"
      ]
     },
     "execution_count": 66,
     "metadata": {},
     "output_type": "execute_result"
    }
   ],
   "source": [
    "leaf_nodes[1].text"
   ]
  },
  {
   "cell_type": "code",
   "execution_count": 34,
   "id": "24322f04-da7a-4259-964f-3df95b3f2048",
   "metadata": {},
   "outputs": [
    {
     "data": {
      "text/plain": [
       "{'total_pages': 810, 'file_path': '中国近代史.epub', 'source': '19'}"
      ]
     },
     "execution_count": 34,
     "metadata": {},
     "output_type": "execute_result"
    }
   ],
   "source": [
    "leaf_nodes[100].metadata"
   ]
  },
  {
   "cell_type": "code",
   "execution_count": 31,
   "id": "21d54fad-5b43-4e94-83f3-b3e909fb3e46",
   "metadata": {},
   "outputs": [
    {
     "name": "stdout",
     "output_type": "stream",
     "text": [
      "CPU times: user 5.69 ms, sys: 54 µs, total: 5.74 ms\n",
      "Wall time: 5.54 ms\n"
     ]
    },
    {
     "data": {
      "text/plain": [
       "787"
      ]
     },
     "execution_count": 31,
     "metadata": {},
     "output_type": "execute_result"
    }
   ],
   "source": [
    "%%time\n",
    "\n",
    "root_nodes = get_root_nodes(nodes)\n",
    "len(root_nodes)"
   ]
  },
  {
   "cell_type": "code",
   "execution_count": 51,
   "id": "20779592-058d-4a31-a42c-d61b8c25eb9c",
   "metadata": {},
   "outputs": [
    {
     "data": {
      "text/plain": [
       "'徐中约\\n简介\\n【这本书网络流传甚广、本人非常喜爱，花费了许多时间和精力配\\n图排版制作这本书，希望大家喜欢，感谢这本书WORD版本制作者。】\\n【本书简介】《中国近代史》自1970年面世后五次修订，销售数十\\n万册，为欧美及东南亚等地中国近代史研究的权威著作及最畅销的学术\\n教科书，是一本极具深远影响的经典作品。\\n这部近代史自清朝立国起，下迄21世纪，缕述四百年来中国近代社\\n会之巨变。然作者明确指出，这段艰难的历程并非如大多西方汉学家所\\n言，是一段西方因素不断输入而中国仅仅被动回应的历史。作者拈出“政\\n府的政策和制度”、“反对外来因素的民族或种族抗争”以及“在新的天地\\n里寻求一条求生之道”三条线索，作为推动近代中国发展的三股最重要动\\n力，并通过对近代中国内部社会动荡的描摹，向世界讲述了“一个古老的\\n儒家帝国经无比艰难，蜕变为一个近代民族国家”的历史。\\n作者徐中约虽身处欧美学界，在书中想表达的却是“以中国人的身份\\n对近代中国发展进程的看法”，但这种表达不囿于任何一家学说、一种主\\n义，开出一种折衷调和的历史观。作者以超越意识形态、阶级、党派、\\n种族和文化的眼光，怀抱对各色历史人物的宽容、同情、善意之心，能\\n够公平公正、客观冷静地看待历史事件的发生。并且参考了巨量不同语\\n种的档案文献及研究著述，以跨学科的方法写就这部描述近四百年中华\\n民族之挣扎历程的史学巨著。\\n【作者简介】徐中约（Immanuel C.Y.Hsü, 1923-2005），生于上\\n海，中国近代史研究权威学者。1946年毕业于燕京大学，1954年获哈佛\\n大学哲学博士，曾任加州大学圣巴巴拉分校历史系主任、荣休教授。学\\n问严谨，著有《中国进入国际社会的外交，1858—1888年》（哈佛，\\n1960）《伊犁危机：中俄外交研究，1871-1881年》（牛津，1965）\\n等，翻译了梁启超《清代学术概论》（哈佛，1959）。1971年，由圣巴\\n巴拉分校几百位教授组成的学术评议会遴选徐教授任“研究讲\\n座”（Faculty Research Lecturer），此乃该校最高的学术荣誉。\\n该书籍由网友制作上传，版权归原作者所有，仅供学习交流之用，'"
      ]
     },
     "execution_count": 51,
     "metadata": {},
     "output_type": "execute_result"
    }
   ],
   "source": [
    "root_nodes[1].text"
   ]
  },
  {
   "cell_type": "code",
   "execution_count": 37,
   "id": "b7109271-c2fe-4e52-8d07-a7f0bbdf336f",
   "metadata": {},
   "outputs": [
    {
     "data": {
      "text/plain": [
       "{'total_pages': 810, 'file_path': '中国近代史.epub', 'source': '103'}"
      ]
     },
     "execution_count": 37,
     "metadata": {},
     "output_type": "execute_result"
    }
   ],
   "source": [
    "root_nodes[100].metadata"
   ]
  },
  {
   "cell_type": "code",
   "execution_count": 56,
   "id": "b45ebf50-f0f5-4c61-8610-0a5cec346346",
   "metadata": {},
   "outputs": [
    {
     "data": {
      "text/plain": [
       "TextNode(id_='b15b407e-7dc4-4536-88a0-76d9c3375a67', embedding=None, metadata={'total_pages': 810, 'file_path': '中国近代史.epub', 'source': '2'}, excluded_embed_metadata_keys=[], excluded_llm_metadata_keys=[], relationships={<NodeRelationship.SOURCE: '1'>: RelatedNodeInfo(node_id='a902053a-164b-463e-b544-fa254ce79632', node_type=<ObjectType.DOCUMENT: '4'>, metadata={'total_pages': 810, 'file_path': '中国近代史.epub', 'source': '2'}, hash='6c3f55c0b8e4cdf800449fba1168a9a9c6b3a96abc8145d64e866909ad835880'), <NodeRelationship.CHILD: '5'>: [RelatedNodeInfo(node_id='c5690233-b0d2-4452-894c-f7dab2444f65', node_type=<ObjectType.TEXT: '1'>, metadata={'total_pages': 810, 'file_path': '中国近代史.epub', 'source': '2'}, hash='42d80cd9b7b8152ed50ec9a6225b151a03e146d68839860ea067b5befc45d58d'), RelatedNodeInfo(node_id='c7da1bfb-4638-400e-88b2-a5820db9613c', node_type=<ObjectType.TEXT: '1'>, metadata={'total_pages': 810, 'file_path': '中国近代史.epub', 'source': '2'}, hash='b1f1267da3503ef68f30cc60c1dbd20f177958bf3a7548fd0b9901f2bade40bf'), RelatedNodeInfo(node_id='9919cb3e-5c2b-47a1-8bea-dc37eb27730b', node_type=<ObjectType.TEXT: '1'>, metadata={'total_pages': 810, 'file_path': '中国近代史.epub', 'source': '2'}, hash='5972a18ef2f089255ad0cdce4711c2c6ef03134e3cd81d55bfcec51a7f213696')]}, text='徐中约\\n简介\\n【这本书网络流传甚广、本人非常喜爱，花费了许多时间和精力配\\n图排版制作这本书，希望大家喜欢，感谢这本书WORD版本制作者。】\\n【本书简介】《中国近代史》自1970年面世后五次修订，销售数十\\n万册，为欧美及东南亚等地中国近代史研究的权威著作及最畅销的学术\\n教科书，是一本极具深远影响的经典作品。\\n这部近代史自清朝立国起，下迄21世纪，缕述四百年来中国近代社\\n会之巨变。然作者明确指出，这段艰难的历程并非如大多西方汉学家所\\n言，是一段西方因素不断输入而中国仅仅被动回应的历史。作者拈出“政\\n府的政策和制度”、“反对外来因素的民族或种族抗争”以及“在新的天地\\n里寻求一条求生之道”三条线索，作为推动近代中国发展的三股最重要动\\n力，并通过对近代中国内部社会动荡的描摹，向世界讲述了“一个古老的\\n儒家帝国经无比艰难，蜕变为一个近代民族国家”的历史。\\n作者徐中约虽身处欧美学界，在书中想表达的却是“以中国人的身份\\n对近代中国发展进程的看法”，但这种表达不囿于任何一家学说、一种主\\n义，开出一种折衷调和的历史观。作者以超越意识形态、阶级、党派、\\n种族和文化的眼光，怀抱对各色历史人物的宽容、同情、善意之心，能\\n够公平公正、客观冷静地看待历史事件的发生。并且参考了巨量不同语\\n种的档案文献及研究著述，以跨学科的方法写就这部描述近四百年中华\\n民族之挣扎历程的史学巨著。\\n【作者简介】徐中约（Immanuel C.Y.Hsü, 1923-2005），生于上\\n海，中国近代史研究权威学者。1946年毕业于燕京大学，1954年获哈佛\\n大学哲学博士，曾任加州大学圣巴巴拉分校历史系主任、荣休教授。学\\n问严谨，著有《中国进入国际社会的外交，1858—1888年》（哈佛，\\n1960）《伊犁危机：中俄外交研究，1871-1881年》（牛津，1965）\\n等，翻译了梁启超《清代学术概论》（哈佛，1959）。1971年，由圣巴\\n巴拉分校几百位教授组成的学术评议会遴选徐教授任“研究讲\\n座”（Faculty Research Lecturer），此乃该校最高的学术荣誉。\\n该书籍由网友制作上传，版权归原作者所有，仅供学习交流之用，', start_char_idx=0, end_char_idx=904, text_template='{metadata_str}\\n\\n{content}', metadata_template='{key}: {value}', metadata_seperator='\\n')"
      ]
     },
     "execution_count": 56,
     "metadata": {},
     "output_type": "execute_result"
    }
   ],
   "source": [
    "root_nodes[1]"
   ]
  }
 ],
 "metadata": {
  "kernelspec": {
   "display_name": "Python 3 (ipykernel)",
   "language": "python",
   "name": "python3"
  },
  "language_info": {
   "codemirror_mode": {
    "name": "ipython",
    "version": 3
   },
   "file_extension": ".py",
   "mimetype": "text/x-python",
   "name": "python",
   "nbconvert_exporter": "python",
   "pygments_lexer": "ipython3",
   "version": "3.10.12"
  }
 },
 "nbformat": 4,
 "nbformat_minor": 5
}
