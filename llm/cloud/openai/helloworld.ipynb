{
 "cells": [
  {
   "cell_type": "markdown",
   "id": "9f46f0f2-3109-4bf5-ae07-2aa25c4b2fc2",
   "metadata": {},
   "source": [
    "# Open AI 最基本的对话示例"
   ]
  },
  {
   "cell_type": "code",
   "execution_count": 2,
   "id": "ac02bb88-85e5-44db-bdcb-c9abefa9c5b5",
   "metadata": {},
   "outputs": [
    {
     "name": "stdout",
     "output_type": "stream",
     "text": [
      "Looking in indexes: https://pypi.tuna.tsinghua.edu.cn/simple\n",
      "Requirement already satisfied: openai in /usr/local/lib/python3.10/dist-packages (1.17.0)\n",
      "Requirement already satisfied: python-dotenv in /usr/local/lib/python3.10/dist-packages (1.0.1)\n",
      "Requirement already satisfied: httpx in /usr/local/lib/python3.10/dist-packages (0.26.0)\n",
      "Requirement already satisfied: typing-extensions<5,>=4.7 in /usr/local/lib/python3.10/dist-packages (from openai) (4.9.0)\n",
      "Requirement already satisfied: distro<2,>=1.7.0 in /usr/local/lib/python3.10/dist-packages (from openai) (1.9.0)\n",
      "Requirement already satisfied: pydantic<3,>=1.9.0 in /usr/local/lib/python3.10/dist-packages (from openai) (2.6.4)\n",
      "Requirement already satisfied: sniffio in /usr/local/lib/python3.10/dist-packages (from openai) (1.3.0)\n",
      "Requirement already satisfied: anyio<5,>=3.5.0 in /usr/local/lib/python3.10/dist-packages (from openai) (4.2.0)\n",
      "Requirement already satisfied: tqdm>4 in /usr/local/lib/python3.10/dist-packages (from openai) (4.66.2)\n",
      "Requirement already satisfied: idna in /usr/local/lib/python3.10/dist-packages (from httpx) (3.6)\n",
      "Requirement already satisfied: httpcore==1.* in /usr/local/lib/python3.10/dist-packages (from httpx) (1.0.3)\n",
      "Requirement already satisfied: certifi in /usr/local/lib/python3.10/dist-packages (from httpx) (2024.2.2)\n",
      "Requirement already satisfied: h11<0.15,>=0.13 in /usr/local/lib/python3.10/dist-packages (from httpcore==1.*->httpx) (0.14.0)\n",
      "Requirement already satisfied: exceptiongroup>=1.0.2 in /usr/local/lib/python3.10/dist-packages (from anyio<5,>=3.5.0->openai) (1.2.0)\n",
      "Requirement already satisfied: annotated-types>=0.4.0 in /usr/local/lib/python3.10/dist-packages (from pydantic<3,>=1.9.0->openai) (0.6.0)\n",
      "Requirement already satisfied: pydantic-core==2.16.3 in /usr/local/lib/python3.10/dist-packages (from pydantic<3,>=1.9.0->openai) (2.16.3)\n",
      "\u001b[33mWARNING: Running pip as the 'root' user can result in broken permissions and conflicting behaviour with the system package manager. It is recommended to use a virtual environment instead: https://pip.pypa.io/warnings/venv\u001b[0m\u001b[33m\n",
      "\u001b[0m"
     ]
    }
   ],
   "source": [
    "!pip install openai python-dotenv httpx"
   ]
  },
  {
   "cell_type": "markdown",
   "id": "9e6030f0-0c98-43b4-a32c-939dd7da1531",
   "metadata": {},
   "source": [
    "## 最基本的流式输出"
   ]
  },
  {
   "cell_type": "code",
   "execution_count": 1,
   "id": "2f89ab6c-2119-4486-9391-6488bef5c5b7",
   "metadata": {},
   "outputs": [],
   "source": [
    "from openai import OpenAI\n",
    "import httpx\n",
    "from dotenv import load_dotenv\n",
    "import os\n",
    "\n",
    "load_dotenv()\n",
    "\n",
    "proxy_url = os.environ.get(\"OPENAI_PROXY_URL\")\n",
    "\n",
    "client = OpenAI() if proxy_url is None or proxy_url == \"\" else OpenAI(http_client=httpx.Client(proxy=proxy_url))"
   ]
  },
  {
   "cell_type": "code",
   "execution_count": 12,
   "id": "c51ad6c6-2629-465e-abe4-0f9df2622902",
   "metadata": {},
   "outputs": [
    {
     "name": "stdout",
     "output_type": "stream",
     "text": [
      "微分中值定理是微分学中的重要定理之一，它描述了在某个区间内，函数在两个点之间的斜率与函数在某点的导数之间的关系。其基本思路如下：\n",
      "\n",
      "1. 考虑一个函数 f(x) 在闭区间 [a, b] 上连续且在开区间 (a, b) 上可导。根据介值定理，函数 f(x) 在闭区间 [a, b] 上会取到最大值和最小值。\n",
      "\n",
      "2. 假设存在一点 c，其中 a < c < b，使得函数在点 c 处的导数等于函数在区间 [a, b] 上的平均斜率。这就是微分中值定理所要证明的内容。\n",
      "\n",
      "3. 根据拉格朗日中值定理，存在一个点 ξ，其中 a < ξ < b，使得函数在点 ξ 处的导数等于函数在点 c 处的瞬时斜率，或者说函数在点 ξ 处的斜率等于函数在区间 [a, b] 上的平均斜率。\n",
      "\n",
      "4. 这样，我们就得到了微分中值定理的基本结论：在区间 (a, b) 内，函数在某点处的斜率等于函数在该区间上的平均斜率，这一点在开区间 (a, b) 内。\n",
      "\n",
      "总而言之，微分中值定理是通过介值定理和拉格朗日中值定理得出的，它描述了函数在某个区间内的平均斜率与瞬时斜率之间的关系。\n",
      "CompletionUsage(completion_tokens=434, prompt_tokens=21, total_tokens=455)\n"
     ]
    }
   ],
   "source": [
    "stream = client.chat.completions.create(\n",
    "    model=\"gpt-3.5-turbo\",\n",
    "    messages=[{\"role\": \"user\", \"content\": \"解释下微分中值定理的基本思路\"}],\n",
    "    stream=True,\n",
    "    stream_options= {\"include_usage\": True}\n",
    ")\n",
    "\n",
    "# for chunk in stream:\n",
    "#     print(chunk.choices[0].delta.content or \"\", end=\"\")\n",
    "for chunk in stream:\n",
    "    if chunk.usage:\n",
    "        print()\n",
    "        print(chunk.usage)\n",
    "    else:\n",
    "        print(chunk.choices[0].delta.content or \"\", end=\"\")\n",
    "        "
   ]
  },
  {
   "cell_type": "code",
   "execution_count": null,
   "id": "8aa02460-4ce5-469a-8829-4609b2eadf42",
   "metadata": {},
   "outputs": [],
   "source": []
  }
 ],
 "metadata": {
  "kernelspec": {
   "display_name": "Python 3 (ipykernel)",
   "language": "python",
   "name": "python3"
  },
  "language_info": {
   "codemirror_mode": {
    "name": "ipython",
    "version": 3
   },
   "file_extension": ".py",
   "mimetype": "text/x-python",
   "name": "python",
   "nbconvert_exporter": "python",
   "pygments_lexer": "ipython3",
   "version": "3.10.12"
  }
 },
 "nbformat": 4,
 "nbformat_minor": 5
}
