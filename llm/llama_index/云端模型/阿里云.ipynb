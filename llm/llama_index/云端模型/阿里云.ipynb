{
 "cells": [
  {
   "cell_type": "markdown",
   "id": "d1d8f981-40a0-4299-b9b1-6bea6ef5e9a9",
   "metadata": {},
   "source": [
    "# 使用阿里云百炼通义千问模型"
   ]
  },
  {
   "cell_type": "markdown",
   "id": "dcf01fc9-bfd1-4c60-ad27-81b66f309550",
   "metadata": {},
   "source": [
    "结论：\n",
    "\n",
    "- LLM 可以使用 `openai_like`\n",
    "- Embedding 需要使用单独的实现 `embeddings-dashscope`\n"
   ]
  },
  {
   "cell_type": "markdown",
   "id": "c9b4c4b9-78c6-4d65-a0ec-4291c57b2267",
   "metadata": {},
   "source": [
    "## 设置和使用 LLM"
   ]
  },
  {
   "cell_type": "code",
   "execution_count": 5,
   "id": "1b62e61e-1d5c-40eb-abdf-6967f4a881ec",
   "metadata": {},
   "outputs": [
    {
     "name": "stdout",
     "output_type": "stream",
     "text": [
      "CPU times: user 14.1 ms, sys: 12.3 ms, total: 26.4 ms\n",
      "Wall time: 3.78 s\n"
     ]
    }
   ],
   "source": [
    "%%time\n",
    "%%capture\n",
    "\n",
    "!pip install python-dotenv"
   ]
  },
  {
   "cell_type": "code",
   "execution_count": 3,
   "id": "704e759d-8405-499c-8a22-3b6ec14d3c72",
   "metadata": {},
   "outputs": [
    {
     "name": "stdout",
     "output_type": "stream",
     "text": [
      "CPU times: user 3.83 ms, sys: 903 µs, total: 4.73 ms\n",
      "Wall time: 5.91 ms\n"
     ]
    }
   ],
   "source": [
    "%%time\n",
    "\n",
    "from dotenv import load_dotenv\n",
    "import os\n",
    "\n",
    "load_dotenv()\n",
    "api_key = os.getenv(\"ALIYUN_API_KEY\")"
   ]
  },
  {
   "cell_type": "code",
   "execution_count": 14,
   "id": "0a2abbb1-36f2-480a-9761-3a87a0286a2a",
   "metadata": {},
   "outputs": [
    {
     "name": "stdout",
     "output_type": "stream",
     "text": [
      "CPU times: user 100 µs, sys: 16 µs, total: 116 µs\n",
      "Wall time: 119 µs\n"
     ]
    }
   ],
   "source": [
    "%%time\n",
    "\n",
    "from llama_index.llms.openai_like import OpenAILike\n",
    "from llama_index.core import Settings\n",
    "\n",
    "model=\"qwen-turbo\"\n",
    "llm = OpenAILike(\n",
    "    model=model, \n",
    "    api_base=\"https://dashscope.aliyuncs.com/compatible-mode/v1\", \n",
    "    api_key=api_key,\n",
    "    is_chat_model=True,\n",
    "    temperature=0.1,\n",
    "    request_timeout=60.0\n",
    ")"
   ]
  },
  {
   "cell_type": "code",
   "execution_count": 15,
   "id": "416ec7e7-632c-4889-a150-3c62bd117a35",
   "metadata": {},
   "outputs": [
    {
     "name": "stdout",
     "output_type": "stream",
     "text": [
      "置信区间（Confidence Interval，CI）是统计学中用来估计未知参数值的一个重要概念。它提供了一个范围，表示在这个范围内我们有某种确定的置信水平（例如95%或99%）认为真实参数值可能存在的位置。\n",
      "\n",
      "置信区间通常基于样本数据计算得出，它包含了样本统计量（如样本均值、比例等）和一个估计误差。这个误差通常是根据样本标准差、样本大小以及所使用的分布（如正态分布）来计算的。置信区间的宽度反映了估计的精确度：区间越窄，估计越精确；区间越宽，估计的不确定性越大。\n",
      "\n",
      "置信区间的计算方法取决于所使用的统计方法和数据的分布情况。常见的计算方法包括：\n",
      "\n",
      "1. **正态分布假设下的置信区间**：如果样本来自正态分布且方差已知，可以使用Z分数来计算置信区间。\n",
      "2. **大样本情况下**：即使总体不是正态分布，只要样本足够大（通常大于30），可以使用中心极限定理，假设样本均值的分布接近正态分布，从而使用Z分数或t分数来计算置信区间。\n",
      "3. **小样本或非正态分布**：在这种情况下，通常使用t分布来计算置信区间，尤其是当样本标准差未知时。\n",
      "\n",
      "置信区间在科学研究、市场调研、医学研究等领域有着广泛的应用，帮助决策者理解结果的不确定性，并做出更合理的判断。CPU times: user 93.4 ms, sys: 0 ns, total: 93.4 ms\n",
      "Wall time: 7.13 s\n"
     ]
    }
   ],
   "source": [
    "%%time\n",
    "\n",
    "resp = llm.stream_complete(\"介绍下什么叫置信区间\")\n",
    "\n",
    "for r in resp:\n",
    "    print(r.delta, end=\"\")"
   ]
  },
  {
   "cell_type": "markdown",
   "id": "6c4c8f45-c7eb-4449-bfc6-3195189e51fa",
   "metadata": {},
   "source": [
    "## 设置和使用 Embedding"
   ]
  },
  {
   "cell_type": "code",
   "execution_count": 19,
   "id": "79f0d578-3d11-4609-a716-7511748313ca",
   "metadata": {},
   "outputs": [
    {
     "name": "stdout",
     "output_type": "stream",
     "text": [
      "CPU times: user 9.27 ms, sys: 7.64 ms, total: 16.9 ms\n",
      "Wall time: 2.28 s\n"
     ]
    }
   ],
   "source": [
    "%%time\n",
    "%%capture\n",
    "\n",
    "!pip install llama-index-embeddings-dashscope"
   ]
  },
  {
   "cell_type": "code",
   "execution_count": 20,
   "id": "5e3158f9-dac0-4668-b544-c6cb27ad52f1",
   "metadata": {},
   "outputs": [],
   "source": [
    "os.environ[\"DASHSCOPE_API_KEY\"] = api_key"
   ]
  },
  {
   "cell_type": "code",
   "execution_count": 21,
   "id": "27e07729-71de-4dba-a9fd-73ce3fcbb7fb",
   "metadata": {},
   "outputs": [
    {
     "name": "stdout",
     "output_type": "stream",
     "text": [
      "CPU times: user 78.9 ms, sys: 14.5 ms, total: 93.5 ms\n",
      "Wall time: 270 ms\n"
     ]
    }
   ],
   "source": [
    "%%time\n",
    "\n",
    "from llama_index.embeddings.dashscope import (\n",
    "    DashScopeEmbedding,\n",
    "    DashScopeTextEmbeddingModels,\n",
    "    DashScopeTextEmbeddingType,\n",
    ")\n",
    "\n",
    "embedder = DashScopeEmbedding(\n",
    "    model_name=DashScopeTextEmbeddingModels.TEXT_EMBEDDING_V1,\n",
    "    text_type=DashScopeTextEmbeddingType.TEXT_TYPE_DOCUMENT,\n",
    ")\n",
    "\n",
    "text_to_embedding = [\"风急天高猿啸哀\", \"渚清沙白鸟飞回\", \"无边落木萧萧下\", \"不尽长江滚滚来\"]\n",
    "\n",
    "result_embeddings = embedder.get_text_embedding_batch(text_to_embedding)"
   ]
  },
  {
   "cell_type": "code",
   "execution_count": 23,
   "id": "3770bf9d-eb3e-4b7e-9734-06427e634974",
   "metadata": {},
   "outputs": [
    {
     "data": {
      "text/plain": [
       "[1.5536729097366333,\n",
       " -2.237586736679077,\n",
       " 1.5397623777389526,\n",
       " -2.3466579914093018,\n",
       " 3.8610622882843018]"
      ]
     },
     "execution_count": 23,
     "metadata": {},
     "output_type": "execute_result"
    }
   ],
   "source": [
    "result_embeddings[0][:5]"
   ]
  },
  {
   "cell_type": "code",
   "execution_count": null,
   "id": "7d36133e-8002-4d55-91d3-7579fca1e408",
   "metadata": {},
   "outputs": [],
   "source": []
  }
 ],
 "metadata": {
  "kernelspec": {
   "display_name": "Python 3 (ipykernel)",
   "language": "python",
   "name": "python3"
  },
  "language_info": {
   "codemirror_mode": {
    "name": "ipython",
    "version": 3
   },
   "file_extension": ".py",
   "mimetype": "text/x-python",
   "name": "python",
   "nbconvert_exporter": "python",
   "pygments_lexer": "ipython3",
   "version": "3.10.12"
  }
 },
 "nbformat": 4,
 "nbformat_minor": 5
}
