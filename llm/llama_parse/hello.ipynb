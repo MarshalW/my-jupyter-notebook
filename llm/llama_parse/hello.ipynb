{
 "cells": [
  {
   "cell_type": "markdown",
   "id": "b29b3b55-93f0-4f14-9032-7be620fdde65",
   "metadata": {},
   "source": [
    "# llama parse 简单使用"
   ]
  },
  {
   "cell_type": "markdown",
   "id": "b901966d-b5af-426b-906c-5633b3a80945",
   "metadata": {},
   "source": [
    "## 准备"
   ]
  },
  {
   "cell_type": "code",
   "execution_count": 2,
   "id": "f570d76e-947f-4b73-9545-7069d71babc3",
   "metadata": {},
   "outputs": [
    {
     "name": "stdout",
     "output_type": "stream",
     "text": [
      "CPU times: user 15.7 ms, sys: 0 ns, total: 15.7 ms\n",
      "Wall time: 3.07 s\n"
     ]
    }
   ],
   "source": [
    "%%time\n",
    "%%capture\n",
    "\n",
    "%pip install llama-index llama-parse"
   ]
  },
  {
   "cell_type": "code",
   "execution_count": 1,
   "id": "89081ede-c54a-4ca8-a3c8-bafca051cc3e",
   "metadata": {},
   "outputs": [
    {
     "name": "stdout",
     "output_type": "stream",
     "text": [
      "CPU times: user 2.79 s, sys: 451 ms, total: 3.24 s\n",
      "Wall time: 3.56 s\n"
     ]
    }
   ],
   "source": [
    "%%time\n",
    "\n",
    "# llama-parse is async-first, running the sync code in a notebook requires the use of nest_asyncio\n",
    "import nest_asyncio\n",
    "\n",
    "nest_asyncio.apply()\n",
    "\n",
    "from llama_parse import LlamaParse\n",
    "\n",
    "import os\n",
    "\n",
    "os.environ[\"LLAMA_CLOUD_API_KEY\"] = \"llx-zKRvJ3wqj8bkXBHVjJ8DMNPlqfxQb8yRDrFGFPHpCwNxZbX6\""
   ]
  },
  {
   "cell_type": "markdown",
   "id": "4c51db32-24d9-4d63-a0be-636d9843ce7f",
   "metadata": {},
   "source": [
    "## 格式测试"
   ]
  },
  {
   "cell_type": "markdown",
   "id": "72a683cc-f20d-48f6-86c0-b083954ebd3f",
   "metadata": {},
   "source": [
    "### 支持数字版本的 pdf"
   ]
  },
  {
   "cell_type": "code",
   "execution_count": 16,
   "id": "839a52ce-8fae-40ac-ac96-01574e579abb",
   "metadata": {},
   "outputs": [
    {
     "name": "stdout",
     "output_type": "stream",
     "text": [
      "Started parsing the file under job_id f214caf4-baca-44c4-a069-875c32ef71ca\n"
     ]
    }
   ],
   "source": [
    "%%time\n",
    "\n",
    "documents = LlamaParse(result_type=\"markdown\").load_data(\"./伟大的中国工业革命.pdf\")"
   ]
  },
  {
   "cell_type": "code",
   "execution_count": 17,
   "id": "4f55bac9-92d9-4ac9-bfbe-3c39c2a7bfb6",
   "metadata": {},
   "outputs": [
    {
     "data": {
      "text/plain": [
       "'# 伟大的中国工业革命 - “发展政治经济学”一般原理批判纲要\\n\\n文一\\n\\n美国联邦储备银行（圣路易斯分行）\\n\\n清华大学（经管学院和五道口金融研究院）\\n\\n摘要：中国崛起无疑是人类历史上自英国工业革命以来最为壮观的全球性历史事件。而当代西方主流经济学理论，尤其是关于经济发展的制度经济学理论，却无力解释中国的崛起。作者认为只有彻底重新阐释被制度经济学所误读的工业革命和西方崛起的历史，才能真正解释中国的增长奇迹，以及为什么中国义无反顾的崛起是不可阻挡的。与此同时，中国从一个贫穷积弱的农业社会向工业超级大国的惊人转型所蕴含的“发展政治经济学”逻辑，不仅从一个侧面深刻揭示了当代西方主流经济学的根本缺陷，而且也为非洲难以逃离的贫困陷阱，拉丁美洲失去的年华和不断滋生的债务危机，19 世纪的大分流和欧洲的异军突起，以及貌似神秘的英国工业革命本身提供了新的更加深刻的注释。\\n\\n关键词：工业革命；劳动分工原理；中国崛起；大分流；贫困陷阱；中等收入陷阱；市场原教旨主义；新自由主义；制度经济学；新制度经济学；大推进；进口替代战略；休克疗法；华盛顿共识；新结构主义；“胚胎发育”理论；新阶段论；市场发育；市场创造；社'"
      ]
     },
     "execution_count": 17,
     "metadata": {},
     "output_type": "execute_result"
    }
   ],
   "source": [
    "documents[0].text[0:500]"
   ]
  },
  {
   "cell_type": "code",
   "execution_count": 2,
   "id": "d0071f06-809c-4451-862e-79eb16fb4b02",
   "metadata": {},
   "outputs": [
    {
     "name": "stdout",
     "output_type": "stream",
     "text": [
      "Started parsing the file under job_id 8b95b5fc-62d9-4ee2-bf6a-4b7546859a5a\n",
      "CPU times: user 481 ms, sys: 19.7 ms, total: 501 ms\n",
      "Wall time: 24.4 s\n"
     ]
    }
   ],
   "source": [
    "%%time\n",
    "\n",
    "documents = LlamaParse(result_type=\"markdown\").load_data(\"./量化CTA风格因子跟踪-本周市场高位震荡为主，风格倾向低贝.pdf\")"
   ]
  },
  {
   "cell_type": "code",
   "execution_count": 3,
   "id": "4f56718f-d70b-413b-aef9-9d3b9af6641f",
   "metadata": {},
   "outputs": [
    {
     "data": {
      "text/plain": [
       "'# 量化 CTA 风格因子跟踪-本周市场高位震荡为主，风格倾向低贝 简评报告\\n\\n|摘要|作者姓名：彭鲸桥|\\n|---|---|\\n| |邮箱：pengjingqiao@csc.com.cn|\\n| |电话：023-86769675|\\n| |期货从业信息：F3074348|\\n| |期货交易咨询从业信息：Z0012925|\\n|研究助理：盛亦青| |\\n| |邮箱：shengyiqing@csc.com.cn|\\n| |电话：021-50610683|\\n| |期货从业信息：F03107834|\\n|发布日期： 2024 年 6 月 1 日| |\\n\\n- 动量：近一月累计多空收益 0.39%，本周 0.10%。\\n- 期限结构：近一月累计多空收益-0.01%，本周-0.08%。\\n- 贝塔：近一月累计多空收益-0.56%，本周-0.92%。\\n- 波动率：近一月累计多空收益-1.12%，本周-1.16%。\\n- 偏度：近一月累计多空收益-1.38%，本周-0.25%。\\n- 持仓：近一月累计多空收益-0.41%，本周-0.35%。\\n\\n注记：本周指 20240527-20240531。 风险提示：本报告仅对商品期货市'"
      ]
     },
     "execution_count": 3,
     "metadata": {},
     "output_type": "execute_result"
    }
   ],
   "source": [
    "documents[0].text[0:500]"
   ]
  },
  {
   "cell_type": "markdown",
   "id": "742b8544-afca-419b-9fc6-cb86e59f1d58",
   "metadata": {},
   "source": [
    "### 支持 docx"
   ]
  },
  {
   "cell_type": "code",
   "execution_count": 18,
   "id": "a7bb8742-97cb-49fb-a9cd-8f47d83104c6",
   "metadata": {},
   "outputs": [
    {
     "name": "stdout",
     "output_type": "stream",
     "text": [
      "Started parsing the file under job_id 8af73302-3091-4529-9c03-13df1acb6de2\n",
      "CPU times: user 280 ms, sys: 198 µs, total: 280 ms\n",
      "Wall time: 12.6 s\n"
     ]
    }
   ],
   "source": [
    "%%time\n",
    "\n",
    "documents = LlamaParse(result_type=\"markdown\").load_data(\"./光明云媒简介.docx\")"
   ]
  },
  {
   "cell_type": "code",
   "execution_count": 19,
   "id": "1816e94a-d824-4ca5-9615-a0f4a8c6df8a",
   "metadata": {},
   "outputs": [
    {
     "data": {
      "text/plain": [
       "'# 光明云媒简介\\n\\n一、公司简介：\\n\\n光明日报创刊于1949年6月16日，是中共中央主办，以知识分子为主要读者对象的思想文化大报；毛泽东、周恩来、朱德等老一辈无产阶级革命家为光明日报题词。\\n\\n与真理同行，与时代同步。1978年5月11日，光明日报特约评论员文章《实践是检验真理的唯一标准》，对中国社会发展产生深远影响。成为中国进入新时期的标志事件。2005年6月21日，时任浙江省委书记的习近平同志在光明日报发表文章《弘扬 红船精神 走在时代前列》，首次提出并阐释了红船精神这一中国共产党的源头精神。\\n\\n光明日报在全国设有37个记者站，在世界23个国家和地区派有常驻记者，读者遍及社会各界和120多个国家和地区，报纸发行量近千万份。\\n\\n光明网创立于1998年1月1日，是中央网络安全和\\n---\\n信息化领导小组办公室（网信办） 主管，光明日报社主办，的中央重点新闻网站。二十余年来，光明延伸和发挥了光明日报的核心价值和传统优势。在文化届、知识界广大读者和网友中有着强大影响力。定位于知识分子网上精神家园、权威思想理论文化网站。新闻视野，文化视角，思想“深度，理论高度。”每逢国家重大会议、事件，光明日报'"
      ]
     },
     "execution_count": 19,
     "metadata": {},
     "output_type": "execute_result"
    }
   ],
   "source": [
    "documents[0].text[0:500]"
   ]
  },
  {
   "cell_type": "markdown",
   "id": "c66e6f2e-3ee1-4518-9624-9dd9ae4491ec",
   "metadata": {},
   "source": [
    "### 支持 doc"
   ]
  },
  {
   "cell_type": "code",
   "execution_count": 62,
   "id": "a73cd71c-8fc0-4edf-ab2e-1c220c2ef617",
   "metadata": {},
   "outputs": [
    {
     "name": "stdout",
     "output_type": "stream",
     "text": [
      "Started parsing the file under job_id 3292b574-bccd-4520-b6f1-9e8a7665ecf5\n",
      "CPU times: user 118 ms, sys: 46 µs, total: 118 ms\n",
      "Wall time: 4.51 s\n"
     ]
    }
   ],
   "source": [
    "%%time\n",
    "\n",
    "documents = LlamaParse(result_type=\"markdown\").load_data(\"./光明云媒简介.doc\")"
   ]
  },
  {
   "cell_type": "code",
   "execution_count": 63,
   "id": "f78db44b-f650-42db-a4aa-13c986faf2b1",
   "metadata": {},
   "outputs": [
    {
     "data": {
      "text/plain": [
       "'# 光明云媒简介\\n\\n一、公司简介：\\n\\n光明日报创刊于1949年6月16日，是中共中央主办，以知识分子为主要读者对象的思想文化大报；毛泽东、周恩来、朱德等老一辈无产阶级革命家为光明日报题词。\\n\\n与真理同行，与时代同步。1978年5月11日，光明日报特约评论员文章《实践是检验真理的唯一标准》，对中国社会发展产生深远影响。成为中国进入新时期的标志事件。2005年6月21日，时任浙江省委书记的习近平同志在光明日报发表文章《弘扬红船精神走在时代前列》，首次提出并阐释了红船精神这一中国共产党的源头精神。\\n\\n光明日报在全国设有37个记者站，在世界23个国家和地区派有常驻记者，读者遍及社会各界和120多个国家和地区，报纸发行量近千万份。\\n\\n光明网创立于1998年1月1日，是中央网络安全和\\n---\\n信息化领导小组办公室（网信办）主管，光明日报社主办，的中央重点新闻网站。二十余年来，光明延伸和发挥了光明日报的核心价值和传统优势。在文化届、知识界广大读者和网友中有着强大影响力。定位于知识分子网上精神家园、权威思想理论文化网站。新闻视野，文化视角，思想“深度，理论高度”。\\n\\n每逢国家重大会议、事件，光明日报、'"
      ]
     },
     "execution_count": 63,
     "metadata": {},
     "output_type": "execute_result"
    }
   ],
   "source": [
    "documents[0].text[0:500]"
   ]
  },
  {
   "cell_type": "markdown",
   "id": "b7baef87-acea-4c0f-9952-0f14991f08f7",
   "metadata": {},
   "source": [
    "### 不支持 epub"
   ]
  },
  {
   "cell_type": "code",
   "execution_count": 64,
   "id": "4e3b8af5-b5da-490d-8997-10d354af57b3",
   "metadata": {},
   "outputs": [
    {
     "name": "stdout",
     "output_type": "stream",
     "text": [
      "Started parsing the file under job_id 6d6c85ae-6ba2-49b5-a271-9bf339fbc9f0\n",
      "Error while parsing the file './中国近代史.epub': 'markdown'\n",
      "CPU times: user 122 ms, sys: 0 ns, total: 122 ms\n",
      "Wall time: 5.76 s\n"
     ]
    }
   ],
   "source": [
    "%%time\n",
    "\n",
    "documents = LlamaParse(result_type=\"markdown\").load_data(\"./中国近代史.epub\")"
   ]
  },
  {
   "cell_type": "markdown",
   "id": "55d4993b-72fd-4714-adb0-569019bf395d",
   "metadata": {},
   "source": [
    "### 不支持扫描版本的 pdf"
   ]
  },
  {
   "cell_type": "code",
   "execution_count": 24,
   "id": "e3da7511-ab79-4e9c-a681-7fdbd24da429",
   "metadata": {},
   "outputs": [
    {
     "name": "stdout",
     "output_type": "stream",
     "text": [
      "Started parsing the file under job_id 82ecbd14-f589-4d5d-bf54-d067dc0226f1\n",
      "CPU times: user 433 ms, sys: 609 µs, total: 433 ms\n",
      "Wall time: 21.9 s\n"
     ]
    }
   ],
   "source": [
    "%%time\n",
    "\n",
    "documents = LlamaParse(result_type=\"markdown\").load_data(\"./全球资源真相.pdf\")"
   ]
  },
  {
   "cell_type": "code",
   "execution_count": 27,
   "id": "a8fd6d2a-863c-48ac-965c-f58d6c6d70db",
   "metadata": {},
   "outputs": [
    {
     "data": {
      "text/plain": [
       "'            R\\n               Stieetil\\n                        bnJhDi\\nEMEI:ffz ,\\n REzxt\\n---\\nXAZHYTx\\'304\\n{fEo\\n5 _ J @ ,#A21#EE\\n2004442007 4 , ##\\'THK#*49 ~ S%o #\\n3%\\n20124F\\n---\\n   M_RMlEI T#kzIMhR: ( @##t# AAR       #J GDP#K\\n                                         RHtie\\n                                    464371 , %\\n2,                                                   hxp T\\nJL ,                           \"Re\\n                                    \"Re\\\\\\'            Xn\\n                                                     ~k\\n fle @#: (Joseph Schumpeter)\\n                                                 AA\\n                                              \"HFAJ'"
      ]
     },
     "execution_count": 27,
     "metadata": {},
     "output_type": "execute_result"
    }
   ],
   "source": [
    "documents[0].text[0:2000]"
   ]
  },
  {
   "cell_type": "markdown",
   "id": "065d6c8c-c11a-447c-81dd-5e83c88fb3e8",
   "metadata": {},
   "source": [
    "### 不支持图片格式"
   ]
  },
  {
   "cell_type": "code",
   "execution_count": 28,
   "id": "760d564d-2573-4cd7-9fab-1ab092c92b76",
   "metadata": {},
   "outputs": [
    {
     "name": "stdout",
     "output_type": "stream",
     "text": [
      "Error while parsing the file './全球资源-序.PNG': Currently, only the following file types are supported: ['.pdf', '.doc', '.docx', '.docm', '.dot', '.dotx', '.dotm', '.rtf', '.wps', '.wpd', '.sxw', '.stw', '.sxg', '.pages', '.mw', '.mcw', '.uot', '.uof', '.uos', '.uop', '.ppt', '.pptx', '.pot', '.pptm', '.potx', '.potm', '.key', '.odp', '.odg', '.otp', '.fopd', '.sxi', '.sti', '.epub', '.html', '.htm']\n",
      "Current file type: .PNG\n",
      "CPU times: user 296 µs, sys: 0 ns, total: 296 µs\n",
      "Wall time: 278 µs\n"
     ]
    }
   ],
   "source": [
    "%%time\n",
    "\n",
    "documents = LlamaParse(result_type=\"markdown\").load_data(\"./全球资源-序.PNG\")"
   ]
  },
  {
   "cell_type": "markdown",
   "id": "a93fa159-e843-47da-966c-f78db4385656",
   "metadata": {},
   "source": [
    "### 不支持excel格式"
   ]
  },
  {
   "cell_type": "code",
   "execution_count": 29,
   "id": "5578f18c-7176-4ab0-8d07-e84e9d383b17",
   "metadata": {},
   "outputs": [
    {
     "name": "stdout",
     "output_type": "stream",
     "text": [
      "Error while parsing the file './电池比较表.xlsx': Currently, only the following file types are supported: ['.pdf', '.doc', '.docx', '.docm', '.dot', '.dotx', '.dotm', '.rtf', '.wps', '.wpd', '.sxw', '.stw', '.sxg', '.pages', '.mw', '.mcw', '.uot', '.uof', '.uos', '.uop', '.ppt', '.pptx', '.pot', '.pptm', '.potx', '.potm', '.key', '.odp', '.odg', '.otp', '.fopd', '.sxi', '.sti', '.epub', '.html', '.htm']\n",
      "Current file type: .xlsx\n",
      "CPU times: user 261 µs, sys: 26 µs, total: 287 µs\n",
      "Wall time: 322 µs\n"
     ]
    }
   ],
   "source": [
    "%%time\n",
    "\n",
    "documents = LlamaParse(result_type=\"markdown\").load_data(\"./电池比较表.xlsx\")"
   ]
  },
  {
   "cell_type": "markdown",
   "id": "3aa9e3c0-ddc5-412f-9f15-7b279dc7a103",
   "metadata": {},
   "source": [
    "### 不支持 txt"
   ]
  },
  {
   "cell_type": "code",
   "execution_count": 61,
   "id": "bde4444c-ccb8-4b43-ab66-33a68ce5b428",
   "metadata": {},
   "outputs": [
    {
     "name": "stdout",
     "output_type": "stream",
     "text": [
      "Error while parsing the file './故乡.txt': Currently, only the following file types are supported: ['.pdf', '.doc', '.docx', '.docm', '.dot', '.dotx', '.dotm', '.rtf', '.wps', '.wpd', '.sxw', '.stw', '.sxg', '.pages', '.mw', '.mcw', '.uot', '.uof', '.uos', '.uop', '.ppt', '.pptx', '.pot', '.pptm', '.potx', '.potm', '.key', '.odp', '.odg', '.otp', '.fopd', '.sxi', '.sti', '.epub', '.html', '.htm']\n",
      "Current file type: .txt\n",
      "CPU times: user 395 µs, sys: 0 ns, total: 395 µs\n",
      "Wall time: 417 µs\n"
     ]
    }
   ],
   "source": [
    "%%time\n",
    "\n",
    "documents = LlamaParse(result_type=\"markdown\").load_data(\"./故乡.txt\")"
   ]
  },
  {
   "cell_type": "markdown",
   "id": "322d81f0-0b8c-479d-b3a0-a151ddab5d71",
   "metadata": {},
   "source": [
    "## 集成 llamaindex"
   ]
  },
  {
   "cell_type": "markdown",
   "id": "9b3e171f-7c0f-44d0-9370-0522758b2b14",
   "metadata": {},
   "source": [
    "### 加载字节列表"
   ]
  },
  {
   "cell_type": "code",
   "execution_count": 30,
   "id": "fb792148-cd35-47f7-88e7-b8560d419c29",
   "metadata": {},
   "outputs": [
    {
     "name": "stdout",
     "output_type": "stream",
     "text": [
      "CPU times: user 1.29 ms, sys: 0 ns, total: 1.29 ms\n",
      "Wall time: 561 µs\n"
     ]
    }
   ],
   "source": [
    "%%time\n",
    "\n",
    "def load_file_as_bytes(file_path):\n",
    "    try:\n",
    "        with open(file_path, 'rb') as file:\n",
    "            byte_array = file.read()\n",
    "        return byte_array\n",
    "    except FileNotFoundError:\n",
    "        print(f\"The file {file_path} does not exist.\")\n",
    "        return None\n",
    "    except Exception as e:\n",
    "        print(f\"An error occurred: {e}\")\n",
    "        return None\n",
    "\n",
    "bytes_data=load_file_as_bytes(\"./伟大的中国工业革命.pdf\")"
   ]
  },
  {
   "cell_type": "markdown",
   "id": "dbc46312-a248-4f0f-927e-8645f72a23ba",
   "metadata": {},
   "source": [
    "### 通过临时文件集成 llamaparse"
   ]
  },
  {
   "cell_type": "code",
   "execution_count": 45,
   "id": "e3b8dd63-bb62-4992-8f3b-bd7fa7ae44e2",
   "metadata": {},
   "outputs": [
    {
     "name": "stdout",
     "output_type": "stream",
     "text": [
      "CPU times: user 5 µs, sys: 0 ns, total: 5 µs\n",
      "Wall time: 6.68 µs\n"
     ]
    }
   ],
   "source": [
    "%%time\n",
    "\n",
    "import os\n",
    "import tempfile\n",
    "\n",
    "def save_to_temp_file(byte_array, suffix=''):\n",
    "    # Create a temporary file\n",
    "    temp_file = tempfile.NamedTemporaryFile(delete=False, suffix=suffix)\n",
    "    try:\n",
    "        # Write the byte array to the temporary file\n",
    "        temp_file.write(byte_array)\n",
    "        temp_file.close()\n",
    "        # Return the path to the temporary file\n",
    "        return temp_file.name\n",
    "    except Exception as e:\n",
    "        temp_file.close()\n",
    "        os.remove(temp_file.name)\n",
    "        raise e"
   ]
  },
  {
   "cell_type": "code",
   "execution_count": 47,
   "id": "43444cb1-7f75-4d1a-93b8-e5883eda3e51",
   "metadata": {},
   "outputs": [
    {
     "name": "stdout",
     "output_type": "stream",
     "text": [
      "/tmp/tmp1n9zqrsn.pdf\n",
      "Started parsing the file under job_id 02a0dca7-4535-4400-a6b3-160c52588e58\n",
      "CPU times: user 149 ms, sys: 16.2 ms, total: 165 ms\n",
      "Wall time: 5.66 s\n"
     ]
    }
   ],
   "source": [
    "%%time\n",
    "import os\n",
    "\n",
    "file_name=\"./伟大的中国工业革命.pdf\"\n",
    "# 获取文件扩展名\n",
    "file_extension = os.path.splitext(file_name)[1]\n",
    "\n",
    "# 保存字节数组到临时文件，并获取文件路径\n",
    "temp_file_path = save_to_temp_file(bytes_data,file_extension)\n",
    "print(temp_file_path)\n",
    "\n",
    "documents = LlamaParse(result_type=\"markdown\").load_data(temp_file_path)\n",
    "\n",
    "# 处理完数据后，手动删除临时文件\n",
    "os.remove(temp_file_path)"
   ]
  },
  {
   "cell_type": "code",
   "execution_count": 48,
   "id": "934fb03e-f2c9-4eb1-9d0f-2ce31f837e12",
   "metadata": {},
   "outputs": [
    {
     "data": {
      "text/plain": [
       "'# 伟大的中国工业革命 - “发展政治经济学”一般原理批判纲要\\n\\n文一\\n\\n美国联邦储备银行（圣路易斯分行）\\n\\n清华大学（经管学院和五道口金融研究院）\\n\\n摘要：中国崛起无疑是人类历史上自英国工业革命以来最为壮观的全球性历史事件。而当代西方主流经济学理论，尤其是关于经济发展的制度经济学理论，却无力解释中国的崛起。作者认为只有彻底重新阐释被制度经济学所误读的工业革命和西方崛起的历史，才能真正解释中国的增长奇迹，以及为什么中国义无反顾的崛起是不可阻挡的。与此同时，中国从一个贫穷积弱的农业社会向工业超级大国的惊人转型所蕴含的“发展政治经济学”逻辑，不仅从一个侧面深刻揭示了当代西方主流经济学的根本缺陷，而且也为非洲难以逃离的贫困陷阱，拉丁美洲失去的年华和不断滋生的债务危机，19 世纪的大分流和欧洲的异军突起，以及貌似神秘的英国工业革命本身提供了新的更加深刻的注释。\\n\\n关键词：工业革命；劳动分工原理；中国崛起；大分流；贫困陷阱；中等收入陷阱；市场原教旨主义；新自由主义；制度经济学；新制度经济学；大推进；进口替代战略；休克疗法；华盛顿共识；新结构主义；“胚胎发育”理论；新阶段论；市场发育；市场创造；社'"
      ]
     },
     "execution_count": 48,
     "metadata": {},
     "output_type": "execute_result"
    }
   ],
   "source": [
    "documents[0].text[:500]"
   ]
  },
  {
   "cell_type": "markdown",
   "id": "98185d04-5ced-401a-80c7-c668b1215963",
   "metadata": {},
   "source": [
    "### 集成 llamaindex"
   ]
  },
  {
   "cell_type": "markdown",
   "id": "8eefb0eb-9220-4cf1-8e47-158ba18a7f68",
   "metadata": {},
   "source": [
    "#### 配置 LLM"
   ]
  },
  {
   "cell_type": "code",
   "execution_count": 55,
   "id": "b24a2a91-e49b-48cc-9121-7adc37cbeb95",
   "metadata": {},
   "outputs": [
    {
     "name": "stdout",
     "output_type": "stream",
     "text": [
      "CPU times: user 8.98 ms, sys: 313 µs, total: 9.3 ms\n",
      "Wall time: 11.2 ms\n"
     ]
    }
   ],
   "source": [
    "%%time\n",
    "\n",
    "from llama_index.llms.openai_like import OpenAILike\n",
    "\n",
    "llm = OpenAILike(model=\"qwen:14b\", \n",
    "                 api_base=\"http://192.168.0.72:3000/v1\", \n",
    "                 api_key=\"sk-bJP6QSnUfjAYeYeE505d3eBf63A643BeB0B8E350Df9b7750\",\n",
    "                 is_chat_model=True,\n",
    "                 temperature=0.1\n",
    "                )\n",
    "\n",
    "Settings.llm =llm"
   ]
  },
  {
   "cell_type": "markdown",
   "id": "d90ab52d-3e6c-4b13-9d43-fe7bcfcc789e",
   "metadata": {},
   "source": [
    "#### 配置嵌入模型"
   ]
  },
  {
   "cell_type": "code",
   "execution_count": 52,
   "id": "74662cd4-e987-4fab-bd08-be18d1d14b89",
   "metadata": {},
   "outputs": [
    {
     "name": "stdout",
     "output_type": "stream",
     "text": [
      "CPU times: user 115 µs, sys: 0 ns, total: 115 µs\n",
      "Wall time: 118 µs\n"
     ]
    }
   ],
   "source": [
    "%%time\n",
    "\n",
    "# 初始化全局 embedding 模型\n",
    "from llama_index.embeddings.ollama import OllamaEmbedding\n",
    "\n",
    "ollama_embedding = OllamaEmbedding(\n",
    "    model_name=\"dztech/bge-large-zh:v1.5\",\n",
    "    # model_name=\"bge-m3:latest\",\n",
    "    base_url=\"http://192.168.0.72:11435\",\n",
    "    ollama_additional_kwargs={\"mirostat\": 0}, # -mirostat N 使用 Mirostat 采样。\n",
    ")\n",
    "\n",
    "Settings.embed_model = ollama_embedding"
   ]
  },
  {
   "cell_type": "code",
   "execution_count": 53,
   "id": "9acbe309-2c2b-49cc-833a-5dd6e7f005b3",
   "metadata": {},
   "outputs": [
    {
     "data": {
      "text/plain": [
       "_Settings(_llm=None, _embed_model=OllamaEmbedding(model_name='dztech/bge-large-zh:v1.5', embed_batch_size=10, callback_manager=<llama_index.core.callbacks.base.CallbackManager object at 0x7f204ab56cb0>, num_workers=None, base_url='http://192.168.0.72:11435', ollama_additional_kwargs={'mirostat': 0}), _callback_manager=<llama_index.core.callbacks.base.CallbackManager object at 0x7f204ab56cb0>, _tokenizer=None, _node_parser=SentenceSplitter(include_metadata=True, include_prev_next_rel=True, callback_manager=<llama_index.core.callbacks.base.CallbackManager object at 0x7f204ab56cb0>, id_func=<function default_id_func at 0x7f2108ebd870>, chunk_size=128, chunk_overlap=10, separator=' ', paragraph_separator='\\n\\n\\n', secondary_chunking_regex='[^,.;。？！]+[,.;。？！]?'), _prompt_helper=None, _transformations=None)"
      ]
     },
     "execution_count": 53,
     "metadata": {},
     "output_type": "execute_result"
    }
   ],
   "source": [
    "Settings.chunk_size=128\n",
    "Settings.chunk_overlap=10\n",
    "\n",
    "Settings"
   ]
  },
  {
   "cell_type": "markdown",
   "id": "c12b083d-7c67-4686-85d1-56639d95fbff",
   "metadata": {},
   "source": [
    "#### 创建索引"
   ]
  },
  {
   "cell_type": "code",
   "execution_count": 54,
   "id": "9c3afba3-05be-40c4-92f4-3f52ce72b45a",
   "metadata": {},
   "outputs": [
    {
     "name": "stdout",
     "output_type": "stream",
     "text": [
      "CPU times: user 15.2 s, sys: 281 ms, total: 15.4 s\n",
      "Wall time: 1min 1s\n"
     ]
    }
   ],
   "source": [
    "%%time\n",
    "\n",
    "import faiss\n",
    "from llama_index.vector_stores.faiss import FaissVectorStore\n",
    "\n",
    "# bge large embedding\n",
    "d = 1024\n",
    "faiss_index = faiss.IndexFlatIP(d)\n",
    "vector_store = FaissVectorStore(faiss_index=faiss_index)\n",
    "storage_context = StorageContext.from_defaults(vector_store=vector_store)\n",
    "\n",
    "index = VectorStoreIndex.from_documents(\n",
    "    documents, storage_context=storage_context\n",
    ")"
   ]
  },
  {
   "cell_type": "markdown",
   "id": "494e533f-01d1-4b14-87bb-d40f33bd016f",
   "metadata": {},
   "source": [
    "#### 检索"
   ]
  },
  {
   "cell_type": "code",
   "execution_count": 56,
   "id": "2e1deb41-1bbc-4160-af15-7651b43c67ec",
   "metadata": {},
   "outputs": [
    {
     "name": "stdout",
     "output_type": "stream",
     "text": [
      "大分流（Great Divergence）是指18世纪末至20世纪初期间，全球范围内经济发展的显著不均衡。西方国家，特别是英国和随后的美国，经历了工业革命和技术革新，推动了经济增长、城市化以及社会福利的提升。\n",
      "\n",
      "相比之下，东方国家如中国，在工业化、技术创新和市场开放方面相对较慢，导致经济发展水平与西方国家存在较大差距。这一历史现象反映了全球化进程中的经济不平衡，以及不同地区在应对现代化挑战时所采取的不同策略。\n",
      "CPU times: user 292 ms, sys: 25 ms, total: 317 ms\n",
      "Wall time: 13.3 s\n"
     ]
    }
   ],
   "source": [
    "%%time\n",
    "\n",
    "query_engine = index.as_query_engine(\n",
    "    streaming=True,\n",
    "    similarity_top_k=50\n",
    ")\n",
    "response = query_engine.query(\"什么是大分流\")\n",
    "response.print_response_stream()"
   ]
  },
  {
   "cell_type": "code",
   "execution_count": 58,
   "id": "ab1fbfa7-faee-463a-9c73-db966a822f16",
   "metadata": {},
   "outputs": [
    {
     "name": "stdout",
     "output_type": "stream",
     "text": [
      "制度经济学（Institutional Economics）是新古典经济学的一个分支，它着重于研究社会制度、法律规则以及非正式的社会习俗如何影响和塑造经济行为。\n",
      "\n",
      "与传统的新古典经济学理论相比，制度经济学更强调制度变迁在经济发展中的作用。它认为，有效的制度可以降低交易成本，促进市场发育，而不良的制度则可能导致资源浪费和经济效率低下。\n",
      "\n",
      "总之，制度经济学提供了一个深入理解社会制度对经济活动影响的重要视角。\n",
      "CPU times: user 212 ms, sys: 25.6 ms, total: 238 ms\n",
      "Wall time: 11 s\n"
     ]
    }
   ],
   "source": [
    "%%time\n",
    "\n",
    "response = query_engine.query(\"什么是制度经济学\")\n",
    "response.print_response_stream()"
   ]
  },
  {
   "cell_type": "code",
   "execution_count": 59,
   "id": "221f2a37-3d07-41d4-a0d6-e72a7724f309",
   "metadata": {},
   "outputs": [
    {
     "name": "stdout",
     "output_type": "stream",
     "text": [
      "大推进可以理解为一种快速而集中的发展模式，它可能包括大规模的城市化计划、工业化的加速推进、基础设施的迅速建设等。\n",
      "\n",
      "这种策略通常用于试图在较短的时间内缩小与先进国家之间的差距。然而，过度的大推进可能会带来一系列问题，如资源消耗过大、环境破坏严重、社会公平受损等。\n",
      "CPU times: user 154 ms, sys: 4.36 ms, total: 159 ms\n",
      "Wall time: 7.03 s\n"
     ]
    }
   ],
   "source": [
    "%%time\n",
    "\n",
    "response = query_engine.query(\"什么是大推进\")\n",
    "response.print_response_stream()"
   ]
  },
  {
   "cell_type": "code",
   "execution_count": 60,
   "id": "d1ebe75b-7936-40cc-88c7-95c261070ecf",
   "metadata": {},
   "outputs": [
    {
     "name": "stdout",
     "output_type": "stream",
     "text": [
      " 华盛顿共识（Washington Consensus）是一套在20世纪80年代末至90年代初由国际货币基金组织（IMF）、世界银行等机构倡导的经济政策建议。这套共识主要包括以下几个方面：\n",
      "\n",
      "1. **市场导向**：强调私有化、价格自由化和贸易开放，认为市场经济是经济增长的关键。\n",
      "\n",
      "2. **财政纪律**：提倡政府减少赤字、降低债务水平，并通过税收改革来提高财政收入效率。\n",
      "\n",
      "3. **宏观经济稳定**：主张实施紧缩性货币政策以控制通货膨胀，同时保持适度的经济增长速度。\n",
      "\n",
      "4. **金融自由化**：鼓励金融机构的私有化和竞争，放松对资本流动的管制，以促进金融市场的发展。\n",
      "\n",
      "这些政策建议在当时被认为是推动发展中国家经济改革的重要工具。然而随着时间的推移，华盛顿共识受到了广泛的质疑和批评，认为它过于强调市场机制的作用，忽视了社会公平、环境保护以及国家主权等方面的问题。\n",
      "\n",
      "\n",
      "\n",
      "CPU times: user 429 ms, sys: 9.45 ms, total: 438 ms\n",
      "Wall time: 20.5 s\n"
     ]
    }
   ],
   "source": [
    "%%time\n",
    "\n",
    "response = query_engine.query(\"什么是华盛顿共识\")\n",
    "response.print_response_stream()"
   ]
  },
  {
   "cell_type": "code",
   "execution_count": null,
   "id": "74169cc0-6ee3-4cd2-ac74-56f14f32b649",
   "metadata": {},
   "outputs": [],
   "source": []
  }
 ],
 "metadata": {
  "kernelspec": {
   "display_name": "Python 3 (ipykernel)",
   "language": "python",
   "name": "python3"
  },
  "language_info": {
   "codemirror_mode": {
    "name": "ipython",
    "version": 3
   },
   "file_extension": ".py",
   "mimetype": "text/x-python",
   "name": "python",
   "nbconvert_exporter": "python",
   "pygments_lexer": "ipython3",
   "version": "3.10.12"
  }
 },
 "nbformat": 4,
 "nbformat_minor": 5
}
