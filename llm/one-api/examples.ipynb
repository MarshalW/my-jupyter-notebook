{
 "cells": [
  {
   "cell_type": "markdown",
   "id": "8661d7f2-ea80-4837-9e1b-aa3b7afe1498",
   "metadata": {},
   "source": [
    "# one-api 使用示例"
   ]
  },
  {
   "cell_type": "markdown",
   "id": "17f5f479-ee9f-46cc-a51c-6d6989c1ab77",
   "metadata": {
    "jp-MarkdownHeadingCollapsed": true
   },
   "source": [
    "## 依赖包"
   ]
  },
  {
   "cell_type": "code",
   "execution_count": 1,
   "id": "f38c247b-8a0d-424c-b268-e7f25afb90e1",
   "metadata": {},
   "outputs": [
    {
     "name": "stdout",
     "output_type": "stream",
     "text": [
      "Looking in indexes: https://pypi.tuna.tsinghua.edu.cn/simple\n",
      "Requirement already satisfied: openai in /usr/local/lib/python3.10/dist-packages (1.17.0)\n",
      "Requirement already satisfied: pydantic<3,>=1.9.0 in /usr/local/lib/python3.10/dist-packages (from openai) (2.6.4)\n",
      "Requirement already satisfied: sniffio in /usr/local/lib/python3.10/dist-packages (from openai) (1.3.0)\n",
      "Requirement already satisfied: anyio<5,>=3.5.0 in /usr/local/lib/python3.10/dist-packages (from openai) (4.2.0)\n",
      "Requirement already satisfied: distro<2,>=1.7.0 in /usr/local/lib/python3.10/dist-packages (from openai) (1.9.0)\n",
      "Requirement already satisfied: typing-extensions<5,>=4.7 in /usr/local/lib/python3.10/dist-packages (from openai) (4.9.0)\n",
      "Requirement already satisfied: httpx<1,>=0.23.0 in /usr/local/lib/python3.10/dist-packages (from openai) (0.26.0)\n",
      "Requirement already satisfied: tqdm>4 in /usr/local/lib/python3.10/dist-packages (from openai) (4.66.2)\n",
      "Requirement already satisfied: exceptiongroup>=1.0.2 in /usr/local/lib/python3.10/dist-packages (from anyio<5,>=3.5.0->openai) (1.2.0)\n",
      "Requirement already satisfied: idna>=2.8 in /usr/local/lib/python3.10/dist-packages (from anyio<5,>=3.5.0->openai) (3.6)\n",
      "Requirement already satisfied: httpcore==1.* in /usr/local/lib/python3.10/dist-packages (from httpx<1,>=0.23.0->openai) (1.0.3)\n",
      "Requirement already satisfied: certifi in /usr/local/lib/python3.10/dist-packages (from httpx<1,>=0.23.0->openai) (2024.2.2)\n",
      "Requirement already satisfied: h11<0.15,>=0.13 in /usr/local/lib/python3.10/dist-packages (from httpcore==1.*->httpx<1,>=0.23.0->openai) (0.14.0)\n",
      "Requirement already satisfied: annotated-types>=0.4.0 in /usr/local/lib/python3.10/dist-packages (from pydantic<3,>=1.9.0->openai) (0.6.0)\n",
      "Requirement already satisfied: pydantic-core==2.16.3 in /usr/local/lib/python3.10/dist-packages (from pydantic<3,>=1.9.0->openai) (2.16.3)\n",
      "\u001b[33mWARNING: Running pip as the 'root' user can result in broken permissions and conflicting behaviour with the system package manager. It is recommended to use a virtual environment instead: https://pip.pypa.io/warnings/venv\u001b[0m\u001b[33m\n",
      "\u001b[0m"
     ]
    }
   ],
   "source": [
    "!pip install openai"
   ]
  },
  {
   "cell_type": "markdown",
   "id": "b7cb5455-44c3-44ff-be29-cbc621a0009c",
   "metadata": {},
   "source": [
    "## curl的使用示例"
   ]
  },
  {
   "cell_type": "code",
   "execution_count": 10,
   "id": "cdd4a03f-f841-4eb6-96f3-01bbbf738940",
   "metadata": {},
   "outputs": [
    {
     "name": "stdout",
     "output_type": "stream",
     "text": [
      "{\n",
      "  \"id\": \"chatcmpl-f14abbff1da248cea0582b7f205d2d14\",\n",
      "  \"object\": \"chat.completion\",\n",
      "  \"created\": 1713077123,\n",
      "  \"choices\": [\n",
      "    {\n",
      "      \"index\": 0,\n",
      "      \"message\": {\n",
      "        \"role\": \"assistant\",\n",
      "        \"content\": \"我是小羽，由羽胜科技开发的AI助手。我在这里是为了帮助用户解答问题和提供信息。如果你有任何需要帮助的地方，请随时告诉我。\"\n",
      "      },\n",
      "      \"finish_reason\": \"stop\"\n",
      "    }\n",
      "  ],\n",
      "  \"usage\": {\n",
      "    \"prompt_tokens\": 141,\n",
      "    \"completion_tokens\": 34,\n",
      "    \"total_tokens\": 175\n",
      "  }\n",
      "}\n"
     ]
    }
   ],
   "source": [
    "%%bash\n",
    "\n",
    "TOKEN=sk-uyJUejIUCXLvGgxC9f463bB124F245E1975cC7EdAaCb2901\n",
    "HOST_URL=http://192.168.0.72:3000 \n",
    "\n",
    "curl -s \"$HOST_URL\"/v1/chat/completions \\\n",
    "  -H \"Content-Type: application/json\" \\\n",
    "  -H \"Authorization: Bearer $TOKEN\" \\\n",
    "  -d '{\n",
    "     \"model\": \"xiaoyu\",\n",
    "     \"messages\": [{\"role\": \"user\", \"content\": \"你谁啊\"}],\n",
    "     \"temperature\": 0.7\n",
    "   }' | jq ."
   ]
  },
  {
   "cell_type": "markdown",
   "id": "00be3cdf-c6d4-4b15-8233-5793fe7e3289",
   "metadata": {},
   "source": [
    "## python代码"
   ]
  },
  {
   "cell_type": "code",
   "execution_count": 14,
   "id": "272f1b52-368e-499b-8e27-50112e8445de",
   "metadata": {},
   "outputs": [
    {
     "name": "stdout",
     "output_type": "stream",
     "text": [
      "贝叶斯主义是一种统计学方法论，尤其在概率论中占据核心地位，它以托马斯·贝叶斯（Thomas Bayes）的工作为基础。贝叶斯理论的核心是贝叶斯定理，这个定理允许我们更新或修正先前对随机事件不确定性的信念（概率），当我们获得新的证据或信息时。\n",
      "\n",
      "纯粹贝叶斯主义（或正统贝叶斯主义）强调的是从一个先验概率分布出发，根据新数据不断进行后验概率的计算和更新。这种方法论关注的是理论上的严格性，以及概率作为信念强度的内在哲学含义。它通常用于理想化的假设，例如在统计推断中，我们通常假设观察到的数据是独立同分布的。\n",
      "\n",
      "实用贝叶斯主义（或经验贝叶斯主义）则更偏向于实际应用，它允许在缺乏完整先验知识时使用启发式方法或者基于经验的估计来设置先验概率。这种做法在复杂问题或数据不足的情况下很常见，因为完全的先验知识可能很难获得。实用贝叶斯主义者可能会使用贝叶斯定理，但同时也会考虑数据本身的特点、领域知识和专家意见。\n",
      "\n",
      "简而言之，纯粹贝叶斯主义更关注理论基础和严格推理，而实用贝叶斯主义则更加灵活，适用于实际问题中的不确定性和有限资源。"
     ]
    }
   ],
   "source": [
    "from openai import OpenAI\n",
    "\n",
    "base_url = \"http://192.168.0.72:3000/v1\"\n",
    "api_key = \"sk-uyJUejIUCXLvGgxC9f463bB124F245E1975cC7EdAaCb2901\"\n",
    "\n",
    "client = OpenAI(api_key=api_key, base_url=base_url)\n",
    "\n",
    "stream = client.chat.completions.create(\n",
    "    model=\"xiaoyu\",\n",
    "    messages=[{\"role\": \"user\", \"content\": \"什么是贝叶斯主义？纯粹贝叶斯主义和实用贝叶斯主义有啥差别？\"}],\n",
    "    stream=True,\n",
    ")\n",
    "\n",
    "for chunk in stream:\n",
    "    if chunk.choices[0].delta.content is not None:\n",
    "        print(chunk.choices[0].delta.content, end=\"\")"
   ]
  },
  {
   "cell_type": "code",
   "execution_count": null,
   "id": "acf9821e-8dfa-4d2c-8b5e-2a10a88d1d93",
   "metadata": {},
   "outputs": [],
   "source": []
  }
 ],
 "metadata": {
  "kernelspec": {
   "display_name": "Python 3 (ipykernel)",
   "language": "python",
   "name": "python3"
  },
  "language_info": {
   "codemirror_mode": {
    "name": "ipython",
    "version": 3
   },
   "file_extension": ".py",
   "mimetype": "text/x-python",
   "name": "python",
   "nbconvert_exporter": "python",
   "pygments_lexer": "ipython3",
   "version": "3.10.12"
  }
 },
 "nbformat": 4,
 "nbformat_minor": 5
}
