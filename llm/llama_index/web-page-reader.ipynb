{
 "cells": [
  {
   "cell_type": "markdown",
   "id": "f0844ae4-673f-4f2b-b12d-c1ad27f88a47",
   "metadata": {},
   "source": [
    "# web page reader && RAG"
   ]
  },
  {
   "cell_type": "markdown",
   "id": "2b66a51e-d39c-41ce-b0c3-fa7b575cb0bc",
   "metadata": {},
   "source": [
    "## 准备"
   ]
  },
  {
   "cell_type": "code",
   "execution_count": 1,
   "id": "fa3d14ef-200c-49d7-9db9-da0f2196eac9",
   "metadata": {},
   "outputs": [
    {
     "name": "stdout",
     "output_type": "stream",
     "text": [
      "CPU times: user 77.5 ms, sys: 5.11 ms, total: 82.6 ms\n",
      "Wall time: 22.7 s\n"
     ]
    }
   ],
   "source": [
    "%%time\n",
    "%%capture\n",
    "\n",
    "%pip install llama-index llama-index-readers-web"
   ]
  },
  {
   "cell_type": "code",
   "execution_count": null,
   "id": "c64fc16c-4e73-4da1-a889-5b72dcc40c14",
   "metadata": {},
   "outputs": [],
   "source": [
    "%%time\n",
    "\n",
    "import logging\n",
    "import sys\n",
    "\n",
    "logging.basicConfig(stream=sys.stdout, level=logging.INFO)\n",
    "logging.getLogger().addHandler(logging.StreamHandler(stream=sys.stdout))"
   ]
  },
  {
   "cell_type": "code",
   "execution_count": 2,
   "id": "52a42ee1-b614-408d-bb22-0b649b88ee08",
   "metadata": {},
   "outputs": [
    {
     "name": "stdout",
     "output_type": "stream",
     "text": [
      "CPU times: user 2.73 s, sys: 612 ms, total: 3.34 s\n",
      "Wall time: 4.35 s\n"
     ]
    }
   ],
   "source": [
    "%%time\n",
    "\n",
    "from llama_index.core import SummaryIndex\n",
    "from llama_index.readers.web import SimpleWebPageReader\n",
    "from IPython.display import Markdown, display\n",
    "import os"
   ]
  },
  {
   "cell_type": "markdown",
   "id": "740eddb7-405f-481f-89d9-62a2bae6b5ae",
   "metadata": {},
   "source": [
    "## 获取文档对象"
   ]
  },
  {
   "cell_type": "code",
   "execution_count": 3,
   "id": "801b9cbf-9c13-4b74-8a95-9a469aa727cd",
   "metadata": {},
   "outputs": [
    {
     "name": "stdout",
     "output_type": "stream",
     "text": [
      "CPU times: user 2 µs, sys: 1e+03 ns, total: 3 µs\n",
      "Wall time: 3.81 µs\n"
     ]
    }
   ],
   "source": [
    "%%time\n",
    "\n",
    "def get_documents(url):\n",
    "    return SimpleWebPageReader(html_to_text=True).load_data(\n",
    "        [url]\n",
    "    )"
   ]
  },
  {
   "cell_type": "code",
   "execution_count": 5,
   "id": "d5967bdb-23d6-41fa-b965-c24ca186814e",
   "metadata": {},
   "outputs": [
    {
     "name": "stdout",
     "output_type": "stream",
     "text": [
      "CPU times: user 73.9 ms, sys: 2.03 ms, total: 75.9 ms\n",
      "Wall time: 127 ms\n"
     ]
    }
   ],
   "source": [
    "%%time\n",
    "\n",
    "url=\"https://www.guancha.cn/andelie/2024_06_06_737185_s.shtml\"\n",
    "\n",
    "docs=get_documents(url)"
   ]
  },
  {
   "cell_type": "markdown",
   "id": "01337f2b-224f-4d96-a218-209359a69998",
   "metadata": {},
   "source": [
    "## 直接将网页传给 LLM"
   ]
  },
  {
   "cell_type": "markdown",
   "id": "2a7c48a9-6f44-4004-a589-be1572063d40",
   "metadata": {},
   "source": [
    "效果不好。问题在于是整个网页内容，LLM没有找到主要新闻内容。 -- 是因为llm上下文长度太小。"
   ]
  },
  {
   "cell_type": "code",
   "execution_count": 107,
   "id": "3d84cab4-f528-4a2e-ac09-702094aeb0a7",
   "metadata": {},
   "outputs": [
    {
     "name": "stdout",
     "output_type": "stream",
     "text": [
      "CPU times: user 50.4 ms, sys: 0 ns, total: 50.4 ms\n",
      "Wall time: 49.1 ms\n"
     ]
    }
   ],
   "source": [
    "%%time\n",
    "\n",
    "from openai import OpenAI\n",
    "\n",
    "client = OpenAI(\n",
    "    base_url = 'http://192.168.0.72:11434/v1',\n",
    "    api_key='ollama', # required, but unused\n",
    ")"
   ]
  },
  {
   "cell_type": "markdown",
   "id": "cfbc61f2-85aa-4162-9b20-e0414c6ce1ef",
   "metadata": {},
   "source": [
    "## 加大上下文长度"
   ]
  },
  {
   "cell_type": "code",
   "execution_count": 108,
   "id": "60e52354-848b-4ebb-add5-d4a8448c6cd2",
   "metadata": {},
   "outputs": [
    {
     "name": "stdout",
     "output_type": "stream",
     "text": [
      "我是通义千问，由阿里云开发的AI助手。我被设计用来回答各种问题、提供信息和与用户进行对话。有什么我可以帮助你的吗？CPU times: user 44.3 ms, sys: 6.73 ms, total: 51 ms\n",
      "Wall time: 48.3 s\n"
     ]
    }
   ],
   "source": [
    "%%time\n",
    "\n",
    "stream = client.chat.completions.create(\n",
    "  model=\"qwen-14b-4k\",\n",
    "  messages=[\n",
    "    # {\"role\": \"system\", \"content\": \"你是一个概括内容和提炼主要内容的助手。\"},\n",
    "    {\"role\": \"user\", \"content\": \"你是谁？\"}\n",
    "  ],\n",
    "  stream=True,\n",
    ")\n",
    "\n",
    "for chunk in stream:\n",
    "    print(chunk.choices[0].delta.content or \"\", end=\"\")"
   ]
  },
  {
   "cell_type": "code",
   "execution_count": 109,
   "id": "a4e825f8-b685-4d3c-ae29-239f07e241c5",
   "metadata": {},
   "outputs": [
    {
     "name": "stdout",
     "output_type": "stream",
     "text": [
      "CPU times: user 1.07 ms, sys: 0 ns, total: 1.07 ms\n",
      "Wall time: 1.06 ms\n"
     ]
    }
   ],
   "source": [
    "%%time\n",
    "\n",
    "file_path = './content.txt'\n",
    "\n",
    "# Read the content of the file and store it in a string variable\n",
    "with open(file_path, 'r', encoding='utf-8') as file:\n",
    "    content = file.read()"
   ]
  },
  {
   "cell_type": "code",
   "execution_count": 110,
   "id": "9bbabcd6-9f58-4623-8eed-ede7c801150e",
   "metadata": {},
   "outputs": [
    {
     "data": {
      "text/plain": [
       "6290"
      ]
     },
     "execution_count": 110,
     "metadata": {},
     "output_type": "execute_result"
    }
   ],
   "source": [
    "len(content)"
   ]
  },
  {
   "cell_type": "code",
   "execution_count": null,
   "id": "62e1d867-7256-4d04-8c7b-4dbdb4f7a980",
   "metadata": {},
   "outputs": [],
   "source": [
    "%%time\n",
    "\n",
    "stream = client.chat.completions.create(\n",
    "  model=\"qwen-14b-4k\",\n",
    "  max_tokens=5000,\n",
    "  messages=[\n",
    "    {\"role\": \"system\", \"content\": \"你是一个概括内容和提炼主要内容的助手。\"},\n",
    "    {\"role\": \"user\", \"content\": f\"文章内容：{content}\\n\\n主要讲了啥，详细归纳一下，形成要点列表。\"}\n",
    "  ],\n",
    "  stream=True,\n",
    ")\n",
    "\n",
    "for chunk in stream:\n",
    "    print(chunk.choices[0].delta.content or \"\", end=\"\")\n",
    "\n",
    "# 乱码了"
   ]
  },
  {
   "cell_type": "code",
   "execution_count": 7,
   "id": "89fa4d56-70ce-4ee6-bea4-8815056a1ec6",
   "metadata": {},
   "outputs": [
    {
     "name": "stdout",
     "output_type": "stream",
     "text": [
      "CPU times: user 171 µs, sys: 33 µs, total: 204 µs\n",
      "Wall time: 207 µs\n"
     ]
    }
   ],
   "source": [
    "%%time\n",
    "\n",
    "from llama_index.llms.openai_like import OpenAILike\n",
    "from llama_index.core import Settings\n",
    "\n",
    "llm = OpenAILike(model=\"qwen:14b\", \n",
    "                 api_base=\"http://192.168.0.72:3000/v1\", \n",
    "                 api_key=\"sk-bJP6QSnUfjAYeYeE505d3eBf63A643BeB0B8E350Df9b7750\",\n",
    "                 is_chat_model=True\n",
    "                )\n",
    "Settings.llm =llm"
   ]
  },
  {
   "cell_type": "code",
   "execution_count": 23,
   "id": "aac5bd37-e615-4a57-83e9-2f4509b6852e",
   "metadata": {},
   "outputs": [
    {
     "name": "stdout",
     "output_type": "stream",
     "text": [
      "CPU times: user 14 ms, sys: 11.3 ms, total: 25.4 ms\n",
      "Wall time: 5.82 s\n"
     ]
    }
   ],
   "source": [
    "%%time\n",
    "%%capture\n",
    "\n",
    "%pip install beautifulsoup4\n",
    "%pip install requests"
   ]
  },
  {
   "cell_type": "markdown",
   "id": "18729f7b-341e-46a7-8117-2a2c799c7a0c",
   "metadata": {},
   "source": [
    "## 使用 beautifulsoup"
   ]
  },
  {
   "cell_type": "code",
   "execution_count": null,
   "id": "53590b4d-c2d0-47d8-bb65-520d937b23ef",
   "metadata": {},
   "outputs": [],
   "source": [
    "效果也不理想。只是获取了完整的html文本。\n",
    "\n",
    "如果抽取指定内容，比如正文部分，需要自己解析。"
   ]
  },
  {
   "cell_type": "code",
   "execution_count": 24,
   "id": "43acbae3-3bae-4dbe-8e2e-b5798a45528c",
   "metadata": {},
   "outputs": [
    {
     "name": "stdout",
     "output_type": "stream",
     "text": [
      "CPU times: user 126 ms, sys: 7.34 ms, total: 134 ms\n",
      "Wall time: 276 ms\n"
     ]
    }
   ],
   "source": [
    "%%time\n",
    "\n",
    "from bs4 import BeautifulSoup\n",
    "import requests\n",
    "\n",
    "url = \"https://www.guancha.cn/andelie/2024_06_06_737185_s.shtml\"\n",
    "response = requests.get(url)\n",
    "soup = BeautifulSoup(response.text, 'html.parser')"
   ]
  },
  {
   "cell_type": "code",
   "execution_count": 27,
   "id": "9cdb25d4-25df-45ba-94c1-fc9cbe027607",
   "metadata": {
    "scrolled": true
   },
   "outputs": [
    {
     "data": {
      "text/plain": [
       "<!DOCTYPE html>\n",
       "\n",
       "<html lang=\"zh-cmn-Hans\">\n",
       "<head>\n",
       "<meta charset=\"utf-8\"/>\n",
       "<meta content=\"IE=edge,chrome=1\" http-equiv=\"X-UA-Compatible\"/>\n",
       "<link href=\"../css/public.css?20230516\" rel=\"stylesheet\" type=\"text/css\"/>\n",
       "<link href=\"../css/main.css?2020123101\" rel=\"stylesheet\" type=\"text/css\"/>\n",
       "<meta content=\"text/html; charset=utf-8\" http-equiv=\"Content-Type\"/>\n",
       "<meta content=\"zh-CN\" http-equiv=\"content-language\"/>\n",
       "<meta content=\"no-transform\" http-equiv=\"Cache-Control\">\n",
       "<meta content=\"no-siteapp\" http-equiv=\"Cache-Control\">\n",
       "<meta content=\"pc\" name=\"applicable-device\"/>\n",
       "<meta content=\"format=xhtml;url=https://m.guancha.cn/andelie/2024_06_06_737185.shtml\" name=\"mobile-agent\"/>\n",
       "<link href=\"https://m.guancha.cn/andelie/2024_06_06_737185.shtml\" media=\"only screen and (max-width: 970px)\" rel=\"alternate\"/>\n",
       "<meta content=\"format=html5;url=https://m.guancha.cn/andelie/2024_06_06_737185.shtml\" name=\"mobile-agent\"/>\n",
       "<meta content=\"\" name=\"Keywords\"/>\n",
       "<meta content=\"朝鲜半岛问题，台湾问题都是冷战的历史遗留问题，可以说在亚洲，冷战还没有结束，但亚洲的机会之窗尚未关闭，历史的终局尚未到来。\" name=\"Description\"/>\n",
       "<link href=\"https://i.guancha.cn/images/favorite.ico\" rel=\"shortcut icon\">\n",
       "<script src=\"../js/jquery-3.6.0.min.js\" type=\"text/javascript\"></script>\n",
       "<script src=\"../js/jquery.touchSlider.js\" type=\"text/javascript\"></script>\n",
       "<title>安德烈·科尔图诺夫：无论经济发展还是和平建设，亚洲都可以给欧洲上一课</title>\n",
       "<style>\n",
       "        .all-txt img {max-width: 700px}\n",
       "        .content-menu{border-bottom:1px solid #e6e6e6;}\n",
       "        .header-content{width: 1200px;height: 64px;margin:0 auto;}\n",
       "        .nav{position:relative;bottom:35px;right:150px;width:600px;height:64px;margin:-30px auto;padding:0;background-color:#fff;}\n",
       "        .nav-cell{float:left;height:64px;width:auto;margin-left:0x;}\n",
       "        .nav-cell > a{display:block;width:auto;padding:0 10px;line-height:65px;text-align:center;font-size: 16px;color:#000;font-weight:normal;background:inherit}\n",
       "        .nav-cell > a.last{background:none;}\n",
       "        .nav-cell > a:hover{text-decoration: none;background:#9d1518;color:#fff;}\n",
       "        .sub-menu{position:absolute;left:-168px;top:64px;width:1198px;height:240px;border:1px solid #bd0509;background:#fff;display: none;z-index: 100;}\n",
       "        .login-image{padding:6px 12px;position:relative;right:10px;}\n",
       "        .header-login-yet > a{line-height:65px;font-size:16px;color:#000}\n",
       "        .header-user{line-height:65px;}\n",
       "        .header-user img{display: inline-block;width:30px;height:30px;border-radius: 50%;}\n",
       "        .header-user span{font-size:16px;}\n",
       "        .set-menu{top:64px;z-index:500}\n",
       "        .set-menu span{font-size:14px;}\n",
       "        .set-menu li{height:40px;line-height:40px;}\n",
       "        .set-menu a i{margin-top:12px;}\n",
       "        .warm-spots{right:-2px;top:22px;}\n",
       "        .notice-box {left: -217px;top: 55px;}\n",
       "        .post-recommend{font-size:20px;font-weight:bold;color:#ff0000;padding-bottom:10px;}\n",
       "        .post_ad_close{position:absolute;right:0px;top:-18px;border:1px solid;}\n",
       "        .post_ad_gesture{position:relative;bottom:2px;display:inline-block;width:15px;height:3px;background:#000;line-height: 0;font-size:0;vertical-align:middle;-webkit-transform:rotate(45deg);}\n",
       "        .post_ad_gesture:after{content:'/';display:block;width:15px;height:3px;background:#000;-webkit-transform:rotate(-90deg);}\n",
       "        .go_vip{width:170px;height:32px;text-align:center;line-height:32px;font-size:18px;color:#bb0c17;background-color:#EEE1E1;margin:5px auto 10px;cursor:pointer;display:block;text-decoration:none !important;}\n",
       "        .baidu-commercial{display:none;}\n",
       "        .post_vline{float:left;padding:0 10px;font-size:16px;}\n",
       "        .post_accusation{float:left;font-size:14px;cursor:pointer;}\n",
       "        .accusation-down-list{\n",
       "            position: absolute;\n",
       "            background: #fff;\n",
       "            z-index: 100;\n",
       "            top: 55px;\n",
       "            left: 408px;\n",
       "            border-bottom-left-radius: 4px;\n",
       "            border-bottom-right-radius: 4px;\n",
       "            box-shadow: 0px 2px 19px #888888;\n",
       "            z-index: 1000;\n",
       "        \twidth: 400px;\n",
       "        \tdisplay:none;\n",
       "        }\n",
       "        .accusation-down-list .arrows{    \n",
       "            width: 15px;\n",
       "            height: 7px;\n",
       "            position: absolute;\n",
       "            top: -7px;\n",
       "            left: 8px;\n",
       "            background: url(../images/notice-icons.png) no-repeat -373px -20px;\n",
       "        }\n",
       "        .acc-tips-body ul>li{\n",
       "        \tline-height: 20px;\n",
       "        }\n",
       "        .content-bottom-ad{width:770px;height:140px;overflow:hidden;position:relative;margin-top:20px;}\n",
       "        .content-bottom-ad-flicking{width:770px;height:8px;position:absolute;bottom:10px;z-index:50;text-align:center;}\n",
       "        .content-bottom-ad-flicking div{width:20px;height:8px;display:inline-block;margin:0 1px;}\n",
       "        .content-bottom-ad-flicking a{width:16px;height:6px;display:block;text-indent:-1000px;border-radius:3px;background-color:rgba(255,255,255,.4);margin:1px 2px 0;}\n",
       "        .content-bottom-ad-flicking a.on{background-color:#ffffff;width:20px;height:8px;margin:0px;}\n",
       "        .content-bottom-ad-image{\n",
       "        \twidth:770px;\n",
       "        \theight:140px;\n",
       "        }\n",
       "        .showbigimg img{max-width:2000px;}\n",
       "        input::-webkit-outer-spin-button,input::-webkit-inner-spin-button{-webkit-appearance: none;}\n",
       "        input[type=\"number\"]{-moz-appearance: textfield;}\n",
       "    </style>\n",
       "<script type=\"text/javascript\">\n",
       "\tvar _API_URL=\"http://api.guancha.cn\",\n",
       "\t\t_CMT_URL=\"http://comment.guancha.cn\",\n",
       "\t\t_DOC_ID=\"648310\";\n",
       "\t\t_AD_SWITCH=\"1\";\n",
       "\tvar\tshare_options = {\n",
       "\t\t\t\"url\" : window.location.href,\n",
       "\t\t\t\"title\" : \"安德烈·科尔图诺夫：无论经济发展还是和平建设，亚洲都可以给欧洲上一课\",\n",
       "\t\t\t\"summary\" : \"朝鲜半岛问题，台湾问题都是冷战的历史遗留问题，可以说在亚洲，冷战还没有结束，但亚洲的机会之窗尚未关闭，历史的终局尚未到来。\",\n",
       "\t\t\t\"pic\" : \"https://i.guancha.cn/news/2024/06/03/20240603160311103.jpg?imageMogr2/thumbnail/147x147\",\n",
       "\t\t}\n",
       "\tvar sensor_duration=Math.round(new Date().getTime()/1000);\n",
       "\tvar sensor_content_name=\"安德烈·科尔图诺夫：无论经济发展还是和平建设，亚洲都可以给欧洲上一课\";\n",
       "\tvar sensor_author_id; \n",
       "\tvar sensor_author_name;\n",
       "\tvar sensor_author_type;\n",
       "\tvar sensor_content_url;\n",
       "\tvar sensor_content_external_source;\n",
       "\tvar sensor_publish_time=\"2024-06-06T08:12:41\";\n",
       "\tvar sensor_news_type=\"shiping\";\n",
       "\tvar sensor_column=\"\";\n",
       "\tvar sensor_special=\"\";\n",
       "\tvar sensor_content_form;\n",
       "\tvar sensor_content_height;\n",
       "\tvar sensor_content_words_num;\n",
       "\tvar sensor_is_tuijian;\n",
       "</script>\n",
       "</link></meta></meta></head>\n",
       "<body>\n",
       "<div class=\"content\">\n",
       "<!-- 导航 start -->\n",
       "<style>\n",
       ".vip-crown-index-menu{\n",
       "    position: relative;\n",
       "    width: 23px !important;\n",
       "    height: 23px !important;\n",
       "    z-index: 100;\n",
       "    margin-left: -7px;\n",
       "    top: -1px;\n",
       "    padding-right: 4px;\n",
       "}\n",
       "</style>\n",
       "<div class=\"header-index\">\n",
       "<div class=\"header-index-box\">\n",
       "<a href=\"/\" target=\"_blank\"><img src=\"../images/mian-logo.png\" style=\"padding:13px 0;\"/></a>\n",
       "<div class=\"header-index-nav\">\n",
       "<div class=\"header-nav-cell j-nav-cell\">\n",
       "<a href=\"/?s=dhshouye\">首页</a>\n",
       "</div>\n",
       "<div class=\"header-nav-cell j-nav-cell\">\n",
       "<a href=\"http://user.guancha.cn/?s=dhfengwen\">风闻</a>\n",
       "</div>\n",
       "<div class=\"header-nav-cell j-nav-cell\">\n",
       "<a href=\"/economy?s=dhcaijing\" title=\"财经\">财经</a>\n",
       "</div>\n",
       "<div class=\"header-nav-cell j-nav-cell\">\n",
       "<a href=\"/internation?s=dhguoji\" title=\"国际\">国际</a>\n",
       "</div>\n",
       "<div class=\"header-nav-cell j-nav-cell\">\n",
       "<a href=\"/military-affairs?s=dhjunshi\" title=\"军事\">军事</a>\n",
       "</div>\n",
       "<div class=\"header-nav-cell j-nav-cell\">\n",
       "<a href=\"/chanjing?s=dhchanjing\" title=\"公司\">公司</a>\n",
       "</div>\n",
       "<div class=\"header-nav-cell j-nav-cell\">\n",
       "<a href=\"/gongye·keji?s=dhgongye·keji\" title=\"科技\">科技</a>\n",
       "</div>\n",
       "<div class=\"header-nav-cell j-nav-cell\">\n",
       "<a href=\"/qiche?s=dhqiche\" title=\"汽车\">汽车</a>\n",
       "</div>\n",
       "<div class=\"header-nav-cell j-nav-cell\">\n",
       "<a href=\"/video/gczvideo/list.html\" title=\"视频\">视频</a>\n",
       "</div>\n",
       "<div class=\"header-nav-cell j-nav-cell\">\n",
       "<div class=\"header-nav-cell j-nav-cell\">\n",
       "<i style=\"width:2px;height:15px;background-color:#454545;margin:-2px 12px;display:block;\"></i>\n",
       "</div>\n",
       "<a class=\"last go-member\" href=\"javascript:void(0)\"><img class=\"vip-crown-index-menu\" src=\"https://i.guancha.cn/vip-diamond.gif\"/>观察员</a>\n",
       "</div>\n",
       "</div>\n",
       "<div class=\"header-index-right\">\n",
       "</div>\n",
       "<div class=\"header-index-app\" id=\"header-index-app\">\n",
       "<i></i>\n",
       "<span>APP下载</span>\n",
       "</div>\n",
       "<div class=\"header-index-erweima\">\n",
       "<img src=\"https://i.guancha.cn/app-erweima.png?20190610\"/>\n",
       "<p>扫一扫</p>\n",
       "<p>下载观察者APP</p>\n",
       "</div>\n",
       "</div>\n",
       "</div> <!-- 导航 end -->\n",
       "<div class=\"main content-main\">\n",
       "<!-- 二栏 start -->\n",
       "<ul class=\"two-coloum fix\">\n",
       "<li class=\"left left-main\" style=\"position:relative;bottom:43px;\">\n",
       "<h3>安德烈·科尔图诺夫：无论经济发展还是和平建设，亚洲都可以给欧洲上一课</h3>\n",
       "<ul class=\"author fix\">\n",
       "<li>\n",
       "<div class=\"author-intro fix\">\n",
       "<a href=\"../andelie\" target=\"_blank\"><img alt=\"安德烈·科尔图诺夫\" border=\"0\" src=\"https://i.guancha.cn/authors/andelie/20220524105234640.png\" title=\"安德烈·科尔图诺夫\" width=\"45\"/></a>\n",
       "<p><a href=\"../andelie\" target=\"_blank\">安德烈·科尔图诺夫</a><span>俄罗斯国际事务委员会学术委员会主任</span></p>\n",
       "</div>\n",
       "</li>\n",
       "</ul>\n",
       "<!-- 分享 -->\n",
       "<div class=\"share\">\n",
       "<span>分享到：</span>\n",
       "<div class=\"share-box fl share-box-2\" style=\"margin-top:0px;\">\n",
       "<div class=\"share-block\"><a class=\"sina-2\" data-cmd=\"tsina\"></a></div>\n",
       "<div class=\"share-block\"><a class=\"qq-2\" data-cmd=\"sqq\"></a></div>\n",
       "<div class=\"share-block\"><a class=\"qq-z-2\" data-cmd=\"qzone\"></a></div>\n",
       "<div class=\"share-block\"><a class=\"weixin-2\" data-cmd=\"weixin\"></a></div>\n",
       "</div>\n",
       "<div class=\"other-box fr\">\n",
       "<a class=\"collect ml10\" title=\"收藏本文\"><i></i><span id=\"count0\"></span></a>\n",
       "<a class=\"comment ml10\" href=\"#comment\" onclick='_czc.push([\"_trackEvent\", \"commentcount\", \"click\", \"icon\"]);' title=\"查看评论\"><i></i>\n",
       "<span id=\"count2\"></span></a>\n",
       "<a class=\"count\" href=\"#comment\" onclick='_czc.push([\"_trackEvent\", \"commentcount\", \"click\", \"num\"]);'></a>\n",
       "</div>\n",
       "</div>\n",
       "<div class=\"time fix\">\n",
       "<span>2024-06-06 08:12:41</span>\n",
       "<span>字号：<a class=\"current ft-s\" fsize=\"14px\" href=\"javascript:void(0);\">A-</a>\n",
       "<a class=\"ft-zc\" fsize=\"18px\" href=\"javascript:void(0);\">A</a>\n",
       "<a class=\"ft-b\" fsize=\"22px\" href=\"javascript:void(0);\">A+</a></span>\n",
       "<span>来源：观察者网</span>\n",
       "<span class=\"postpage-view\"></span>\n",
       "</div>\n",
       "<div class=\"time fix\" style=\"padding:0\"><span>最后更新: 2024-06-06 13:23:14</span></div>\n",
       "<div class=\"content all-txt\">\n",
       "<p>\n",
       "\t【文/观察者网专栏作者 安德烈·科尔图诺夫，翻译/马力】\n",
       "</p>\n",
       "<p>\n",
       "\t上世纪90年代初，我第一次来到了哈尔滨，这座掩映在丁香树林中的城市给我留下的印象是，这座城市正致力于消除俄罗斯残余痕迹，这是欧洲殖民主义最后一点影响的象征。\n",
       "</p>\n",
       "<p>\n",
       "\t事实上，这座始建于1898年的城市最初是由中东铁路线上的一个车站逐渐发展而来的，在其建成后的头20年里，哈尔滨具有特殊的治外法权地位，而且实际上已经脱离了首都北京的管辖。长期以来，当地中国人对这段国家主权受到损害的历史有着痛苦的回忆，而且对这段历史非常敏感，对此我们俄罗斯人必须接受并给予理解。\n",
       "</p>\n",
       "<p>\n",
       "\t然而，在过去的30多年里，人们的态度似乎发生了巨大的改变。如今，这座城市的俄罗斯历史遗产获得了高度重视并受到了精心保护。我在30年前看到的圣索菲亚大教堂几乎完全处于被遗弃和荒废的状态，而如今已完全修复，圣索菲亚大教堂甚至已经成为这座城市的标志性建筑之一。值得称赞的是，哈尔滨市政府甚至拆掉了教堂周围的建筑，重现了大教堂广场当初的盛况。\n",
       "</p>\n",
       "<p align=\"center\">\n",
       "<img class=\"bigimg\" src=\"https://i.guancha.cn/news/dfic/2024/06/03/20240603154504546.jpg\" title=\"点击查看大图\" width=\"530\">\n",
       "</img></p>\n",
       "<p align=\"center\">\n",
       "<span style=\"color:#666666;\">哈尔滨索菲亚大教堂 图自IC photo</span>\n",
       "</p>\n",
       "<p>\n",
       "\t还有哈尔滨火车站，1909年10月，朝鲜人安重根在此刺杀了日本首相伊藤博文，如今新落成的哈尔滨火车站新站房汲取了1899年沙俄时代老站房的一些元素，展现出了宏伟的欧洲新艺术风格。\n",
       "</p>\n",
       "<p>\n",
       "\t看到这些改变，我可以说：哈尔滨完全有理由把自己定位为中国与北方邻国进行经济、文化、教育和人文交流的国家级枢纽城市。\n",
       "</p>\n",
       "<p>\n",
       "<strong>在亚洲纪念第二次世界大战</strong>\n",
       "</p>\n",
       "<p>\n",
       "\t而对于俄罗斯人来说，哈尔滨也在历史上牵连着悠久而复杂的中俄关系。\n",
       "</p>\n",
       "<p>\n",
       "\t在第二次世界大战期间，约一万两千名苏联官兵为将中国东北从日本占领下解放出来而牺牲，前些日子俄罗斯总统普京来哈尔滨时，还向纪念这些苏联官兵的纪念碑献花。这位俄罗斯领导人特别注意到了中国为纪念两国共同的军事荣耀和兄弟情谊所表现出来的重视态度。这种对历史妥帖而及时的纪念，不仅适用于中国人，同样也适用于俄罗斯人。\n",
       "</p>\n",
       "<p>\n",
       "\t不可否认，与许多其他国家一样，俄罗斯人通常认为第二次世界大战主要是一场“发生在欧洲的战争”。如果你问一个普通俄罗斯人，20世纪最致命和最具破坏性的冲突是何时开始的，他很可能会回答说，应该是希特勒进攻苏联的1941年6月22日。知识更渊博或受教育程度更高的俄罗斯人可能会回答，第二次世界大战实际上是在1939年9月1日纳粹德国入侵波兰时爆发的。当然，如果从亚洲的角度来看，第二次世界大战的时间线就大不相同了：日本于1937年7月7日发动了大规模侵华战争，而日本对因长期内战而四分五裂的中国发动的首次进攻，甚至可以追溯到1931年。\n",
       "</p>\n",
       "<p>\n",
       "\t同样，我们通常强调战争造成的死亡规模，特别是在欧洲的死亡规模。然而，就总体数字而言，中国（多达2000万人死亡）仅次于苏联（多达2700万人死亡），远远高于所有其他欧洲国家，包括德国（840万人死亡）、波兰（600万人死亡）以及日本（300万人死亡）。\n",
       "</p>\n",
       "<p>\n",
       "\t值得注意的是，苏联和中国之所以有如此高的死亡数字，主要是因为侵略者在我们两国表现出前所未有的残忍，造成了大量的平民死亡。日本人在中国犯下了大规模战争罪行，其残暴程度丝毫不亚于纳粹在苏联犯下的罪行。我们欧洲人对奥斯威辛集中营或布痕瓦尔德集中营知道得很多，但对南京大屠杀或日本皇军航空队对中国平民实施的化学战和生物战却知之甚少。其中，人们对臭名昭著的日本“731部队”的了解就更少，这支驻扎在哈尔滨郊区的日本部队在二战期间曾残忍地杀害了数以千计的平民，其中还有约30%是居住在哈尔滨的俄罗斯人。\n",
       "</p>\n",
       "<p align=\"center\">\n",
       "<img class=\"bigimg\" src=\"https://i.guancha.cn/news/dfic/2024/06/03/20240603154736654.jpg\" title=\"点击查看大图\" width=\"530\">\n",
       "</img></p>\n",
       "<p align=\"center\">\n",
       "<span style=\"color:#666666;\">位于哈尔滨市平房区</span><span style=\"color:#666666;\">的侵华日军第七三一（731）部队罪证陈列馆 图自IC photo</span>\n",
       "</p>\n",
       "<p>\n",
       "\t然而归根结底，问题的重点并不在于俄罗斯或其他国家的公众对二战所产生的误解。更重要的是，人们应该意识到，二战在欧洲和亚洲是以不同的方式结束的。在欧洲，德国不仅被迫投降，而且还经历了非常彻底甚至是痛苦的去纳粹化过程。此外，在二战结束后，德国还不得不经历了持续40多年的国家分裂。\n",
       "</p>\n",
       "<p>\n",
       "\t但在亚洲，日本并没有受到这种待遇——日本没有被分裂，战后日本政府人员的换血与德国相比，可以说实施得更加不彻底而且是有选择性的。尽管日本政府高级官员曾就战争罪行作出了多次道歉，但日本对二战的整体态度仍然比德国更具争议性。至少仍然有一些日本人似乎在非常强烈地主张，他们的国家在这场战争中与其说是侵略者，不如说是受害者。\n",
       "</p>\n",
       "<p>\n",
       "\t然而，当日本政府高级官员参拜祭祀所有日本战死者（包括已被定罪的战争罪犯）的靖国神社时，人们不仅感到担忧：如今日本人对二战中自己国家所犯下的战争罪行的悔恨，到底有多深呢？\n",
       "</p>\n",
       "<p>\n",
       "\t岸田文雄政府在2022年底很容易地推动了日本国防政策的重大转变，目标是到2027年让日本成为全球第三大军费开支国，这显然表明日本社会现在已经准备好要改变该国二战后所遵循一系列基本的外交政策原则了。\n",
       "</p>\n",
       "<p>\n",
       "<strong>亚洲的冷战</strong>\n",
       "</p>\n",
       "<p>\n",
       "\t可以说，发生在亚洲的冷战要比发生在欧洲的更加激烈、更加残酷。是的，在欧洲，苏联对匈牙利（1956）和捷克斯洛伐克（1968）实施了军事干预，但就冲突规模、持续时间和伤亡数量而言，这两场战争都无法与朝鲜战争（1950-1953）或越南战争（1965-1974）相提并论。\n",
       "</p>\n",
       "<p>\n",
       "\t在这两场发生在亚洲的冲突中，都有数百万人死亡，其中大部分是平民，流离失所的人更是不计其数。国家在冷战中遭到分裂的三个案例（中国、朝鲜和越南）中，只有越南实现了国家统一。中国恢复了对香港行使主权，但仍在努力解决台湾问题；而朝鲜半岛的统一看起来仍是一个遥远的梦。\n",
       "</p>\n",
       "<p align=\"center\">\n",
       "<img class=\"bigimg\" src=\"https://i.guancha.cn/news/internet/2024/06/03/20240603163111810.jpg\" title=\"点击查看大图\" width=\"530\">\n",
       "</img></p>\n",
       "<p align=\"center\">\n",
       "<span style=\"color:#666666;\">1961至1975年，美国对越南发动侵略战争，</span><span style=\"color:#666666;\">是冷战背景下发生的一场大规模局部战争，最终以美国的失败告终。图自网络</span>\n",
       "</p>\n",
       "<p>\n",
       "\t欧洲冷战与亚洲冷战的另一个不同之处在于，欧洲的冷战是“经典”的两极格局——美国和苏联分别领导着各自等级森严、纪律严明、结构完整的军事联盟彼此对立。当然，这两个阵营中都有持不同政见者甚至是背叛者。然而，这些都是极个别的例外，不是普遍情况。\n",
       "</p>\n",
       "<p>\n",
       "\t在亚洲，从20世纪60年代初开始，平衡变得更加复杂，它不仅受到美苏对抗的影响，而且还受到苏联、中国和印度等主要大陆行为体之间非常复杂的关系的影响。这些国家之间曾发生过几次直接的军事冲突，如1962年的中印战争和1969年的苏中边境冲突。\n",
       "</p>\n",
       "<p>\n",
       "\t亚洲政治和军事平衡的复杂性，也为主要行为体与较小的自治权力中心之间的冲突打开了大门，这些冲突并不符合标准的“欧洲”两极模式——印巴之间在1947年、1965年、1971年和1999年爆发的战争，1979年的对越自卫反击战，以及1979年-1989年期间苏联对阿富汗的军事介入（在此期间，中国与美国站在一起，支持圣战抵抗运动）。除此之外，亚洲还发生了许多血腥的内战，甚至还发生了20世纪下半叶欧洲从未发生过的大规模屠杀平民事件——1965年-1966年在印度尼西亚发生的大屠杀和1976年-1978年在柬埔寨发生的种族灭绝事件，就足以证明这一点。\n",
       "</p>\n",
       "<p>\n",
       "\t严格来说，冷战在亚洲至今仍未结束，这种情况正如1989年身陷冷战的欧洲。造成欧亚这一差异的主要原因是显而易见的——亚洲的社会主义国家（中华人民共和国、朝鲜民主主义人民共和国和越南社会主义共和国）从未像包括苏联在内的中东欧社会主义国家那样崩溃、内爆或拥抱西方资本主义。\n",
       "</p>\n",
       "<p>\n",
       "\t此外，在亚洲，人们历来不愿意签署复杂的、具有法律约束力的、带有强制性核查机制的协议，也不愿意加入对国家主权有严重限制的多边联盟。\n",
       "</p>\n",
       "<p>\n",
       "\t这就是为什么尽管东南亚经济一体化的启动时间并没有比西欧晚很多（欧洲经济共同体可追溯到1957年，而东南亚国家联盟则于1967年宣布成立），但欧洲到1992年就已经发展成为一个强大的、制度化程度较高的经济和政治联盟（即欧盟），而东盟至今仍然是一个相当松散的、制度化程度相对较低的主权国家共同体。\n",
       "</p>\n",
       "<linebreak id=\"page_1\"></linebreak>\n",
       "<p>\n",
       "\t正因为这一点，尽管不断努力，但美国仍未能在亚洲建立一个像位于欧洲的北约那样强大的多边联盟。在亚洲南部，为了对抗亚洲的共产主义，华盛顿于1954年成立了东南亚条约组织（SEATO）；该倡议从一开始就遇到了许多问题，并在美国战败于越南后分崩离析。在亚洲北部，由于首尔和东京之间错综复杂的关系，美国试图将日本和韩国团结在一个共同的安全保护伞下的所有努力都失败了。\n",
       "</p>\n",
       "<p align=\"center\">\n",
       "<img class=\"bigimg\" src=\"https://i.guancha.cn/news/internet/2024/06/03/20240603170635338.jpg\" title=\"点击查看大图\" width=\"530\">\n",
       "</img></p>\n",
       "<p align=\"center\">\n",
       "<span style=\"color:#666666;\">部分东约成员国的领袖和韩国总统朴正熙、南越领导人阮文绍和南越总理阮高祺于1966年10月24日在菲律宾马尼拉国会大厦前合照。当时东约在马尼拉举行会议，会议主持人为菲律宾总统马科斯。</span>\n",
       "</p>\n",
       "<p>\n",
       "\t毫不意外，在亚洲，没有人试图签署类似1990年《新欧洲巴黎宪章》的任何冷战最终解决文件（《新欧洲巴黎宪章》又称《巴黎宪章》，该文件获得签署的基础是自由民主的价值观以及在欧洲未来将选择怎样的道路问题上各方所达成的共识）。同样，在亚洲，从来没有人认真地试图建立一个像欧洲合作与安全组织（OSCE）那样的包容性的多边机构。亚洲各国也没有致力于进行类似1990年签署的《欧洲常规武装力量条约》（CFE）或1999年签署的该条约的修订版那样的常规军控谈判，也没有致力于进行类似于1987年缔结的《美苏中程核力量条约》（INF）以及后来的《美俄中程核力量条约》（INF）那样的核军备控制。在亚洲，即便是万众瞩目的多边倡议，如2003年-2007年期间进行的关于朝鲜核问题的六方会谈，也只取得了非常有限的成果，而且会谈很快就终止了。\n",
       "</p>\n",
       "<p>\n",
       "\t在泛欧合作的鼎盛时期，许多政治家、学者和记者试图比较欧洲和亚洲在20世纪下半叶的历史时，通常会将前者的表现置于后者之上，认为亚洲在二战后出现了“制度赤字”，即便在1989年冷战宣布结束后，亚洲国家也未能消除这一赤字。\n",
       "</p>\n",
       "<p>\n",
       "\t然而，在今天看来，如果说欧洲最终在处理其冷战历史问题方面比亚洲更成功，那么这种说法即便不是荒谬的，也是不恰当的。冷战后欧洲的所有机构——不仅是欧安组织，还有欧洲委员会、北约-俄罗斯理事会、波罗的海国家理事会、黑海经济合作组织等等——都未能阻止欧洲大陆新一轮的剧烈分裂，而且这种分裂可能还会持续很长一段时间。\n",
       "</p>\n",
       "<p>\n",
       "\t如今，这些机构中的大多数要么完全停止运转，要么失去了泛欧身份。欧洲的核军控和常规军控已经几乎不复存在，《开放天空条约》或2011年《维也纳文件》等建立信任的协议也不再发挥效力。更重要的是，两年多来，在欧洲大陆的中心地带爆发了大规模军事冲突，而幸运的是，亚洲的情况要好得多。\n",
       "</p>\n",
       "<p>\n",
       "<strong>欧洲能够从亚洲学到什么？</strong>\n",
       "</p>\n",
       "<p>\n",
       "\t欧洲的确失败了，然而这一不可否认的事实并不意味着亚洲就一定能成功。今天亚洲的局势并不稳定——大陆军备竞赛正在加剧，北约正在积极增加其在印度洋和太平洋的活动，美英澳三边集团（AUKUS）正在考虑接纳新的成员，而美国、印度、日本和澳大利亚建立的四方安全对话（QUAD）也有扩员的趋势。\n",
       "</p>\n",
       "<p>\n",
       "\t大规模冲突可能会在朝鲜半岛、台湾海峡、南海、中印边境或亚洲其他地方爆发。这些冲突中有许多的确是由外部因素煽动的，但不可否认的是，亚洲大陆内部的问题也是促成此类冲突的因素之一。很不幸的是，即便各国之间经济高度相互依存，也无法成为保护亚洲各国免于陷入直接军事对抗的可靠护栏。\n",
       "</p>\n",
       "<p>\n",
       "\t这对亚洲安全的未来意味着什么？首先，最重要的一点是，这意味着认为亚洲将很快构建一个强大而全面的安全体系是不现实的。这种做法在20世纪90年代欧洲最有利的环境下都未能取得成功，在21世纪20年代甚至30年代的亚洲也不可能取得成功，因为亚洲此时的环境可能更不利于这种雄心勃勃的规划成为现实。亚洲的大国竞争格局将持续很长时间，这种竞争将对多边机构的建设造成严重的制约。\n",
       "</p>\n",
       "<p>\n",
       "\t此外，亚洲太大，同时又太小，根本无法建立一个覆盖整个大陆的安全体系。说亚洲太大，是因为东北亚、东南亚、南亚和中亚所面临的安全挑战并不相同；很难想象用“一刀切”的方式为整个亚洲做出全面的安全安排。\n",
       "</p>\n",
       "<p>\n",
       "\t说亚洲太小，是因为亚洲的许多安全问题都与中美关系或俄美关系等全球安全问题有着千丝万缕的联系，如果不与亚洲域外大国达成全球层面的协议（如在战略稳定方面），就无法解决亚洲自身的安全问题。在相互依存的现代世界里，“用亚洲办法解决亚洲问题”的旧有原则不可能在所有情况下都适用。\n",
       "</p>\n",
       "<p>\n",
       "\t现在就为亚洲大陆制定一个长期解决方案可能为时尚早。亚洲的战略动荡局势可能还会持续相当长的一段时间，这将使任何试图在稳定的力量平衡基础上制定双方都能接受的游戏规则的努力变得更加复杂，对不稳定的预期可能会增加军事冲突意外爆发的风险。\n",
       "</p>\n",
       "<p align=\"center\">\n",
       "<img class=\"bigimg\" src=\"https://i.guancha.cn/news/mainland/2024/06/06/20240606081131158.jpg\" title=\"点击查看大图\" width=\"530\"/>\n",
       "</p>\n",
       "<p align=\"center\">\n",
       "<span style=\"color:#666666;\">5月27日，第九届中日韩领导人会议上在首尔举行。图源：法新社</span>\n",
       "</p>\n",
       "<p>\n",
       "\t不过，好消息是，与一个世纪前日本致力于通过军事手段建立“大东亚共荣圈”不同，如今在亚洲没有人有兴趣发动一场大规模战争。今天，在中印之间、印巴之间、朝韩之间的确不时发生冲突或一些危险事件，但这些冲突和危险事件还从未升级到大规模军事对抗的程度。最近在欧洲发生的战争也是一个明确警示，它提醒亚洲国家不要鲁莽地出手，否则会导致灾难性的结果。\n",
       "</p>\n",
       "<p>\n",
       "\t冷战经验告诉我们，即使大国关系走上错误的道路，保持大国之间沟通渠道的畅通也是非常重要的。保持中美、中印以及亚洲其他大国之间的沟通尤为重要。在潜在敌对国家的双边关系中增加透明度、可预测性和相互理解，在这方面做好哪怕是非常小的、渐进的工作，也将是一个重大的成就。在许多情况下，可以在第二轨道层面朝着建立信任的方向迈出第一步，这将为双方官员富有成效的接触铺平道路。\n",
       "</p>\n",
       "<p>\n",
       "\t最重要的是，俄中战略协作伙伴关系仍然是亚洲大陆乃至全球战略稳定的基石。普京总统最近的中国之行以及他与习近平主席的会谈，将为进一步推进这一伙伴关系提供新的动力。在上海合作组织（SCO）、金砖国家机制（BRICS）、亚太经合组织（APEC）等多边框架内加强以安全为重点的合作，将是对这一伙伴关系的有益补充。虽然这些角色互相叠加的机构并不是解决亚洲所有安全挑战的灵丹妙药，但只要它们能共同发挥作用，就可以确保亚洲不会陷入欧洲的困境。\n",
       "</p>\n",
       "<p>\n",
       "\t2022年4月，中国国家主席习近平在博鳌亚洲论坛开幕式上发表讲话，提出“全球安全倡议”（GSI）以应对世界上日益加剧的冲突和安全挑战。中国领导人的这一提议为中国外交部于2023年2月21日正式发布的《全球安全倡议概念文件》奠定了基础。尽管“全球安全倡议”所阐述的原则具有普遍性，可以适用于世界上任何地区，但在亚洲对这些原则进行检验是非常有意义的，因为亚洲不仅是世界上人口最多的地区，也是最有活力、最有朝气的一片大陆。\n",
       "</p>\n",
       "<p>\n",
       "\t如今，已经到了不仅在经济发展方面而且在和平建设方面亚洲给欧洲上一课的时候了。也许，今天的亚洲领导人能够以非常务实、坚持不懈和负责任的方式共同努力，比他们的欧洲同行或一个世纪或半个世纪前的政治家们做得更好。\n",
       "</p>\n",
       "<p>\n",
       "\t亚洲的机会之窗尚未关闭，历史的终局尚未到来。现在是结束亚洲冷战的时候了——不是像1989年在欧洲那样轰轰烈烈地结束冷战，而是像习近平主席所说的那样，通过一系列经过精心安排的渐进和谨慎的步骤，迈向“人类命运共同体”。我们所有人对这一伟大事业负有共同的责任。正如人们常说的一句俗语，胜利不需解释，失败不容解释。\n",
       "</p>\n",
       "<p>\n",
       "<strong>本文系观察者网独家稿件，文章内容纯属作者个人观点，不代表平台观点，未经授权，不得转载，否则将追究法律责任。关注观察者网微信guanchacn，每日阅读趣味文章。</strong>\n",
       "</p>\n",
       "<p align=\"center\">\n",
       "<img src=\"https://i.guancha.cn/shiping-banner.jpg\" width=\"530px\"/>\n",
       "</p>\n",
       "</div> <div class=\"content-bottom-ad\">\n",
       "<div class=\"content-bottom-ad-flicking\" style=\"display:none;\">\n",
       "<div><a class=\"on\" href=\"#\"></a></div>\n",
       "</div>\n",
       "<div class=\"content-bottom-ad-image\">\n",
       "<ul>\n",
       "<li>\n",
       "<a href=\"https://member.guancha.cn/gcyquanyi/member.html\" target=\"_blank\">\n",
       "<img alt=\"加入观察员\" src=\"https://i.guancha.cn/member/news_content_image.png?r=1717657591\" width=\"770px\"/>\n",
       "</a>\n",
       "</li>\n",
       "</ul>\n",
       "</div>\n",
       "<a href=\"javascript:;\" id=\"content-bottom-ad-btn_prev\" style=\"display:none;\"></a>\n",
       "<a href=\"javascript:;\" id=\"content-bottom-ad-btn_next\" style=\"display:none;\"></a>\n",
       "</div>\n",
       "<!--\n",
       "-->\n",
       "<div class=\"share fix\" style=\"position:relative;\">\n",
       "<div class=\"share-box share-box-2 fl\">\n",
       "<div class=\"share-block\"><a class=\"sina-2\" data-cmd=\"tsina\"></a></div>\n",
       "<div class=\"share-block\"><a class=\"qq-2\" data-cmd=\"sqq\"></a></div>\n",
       "<div class=\"share-block\"><a class=\"qq-z-2\" data-cmd=\"qzone\"></a></div>\n",
       "<div class=\"share-block\"><a class=\"weixin-2\" data-cmd=\"weixin\"></a></div>\n",
       "</div>\n",
       "<div class=\"other-box fl\">\n",
       "<a class=\"collect ml10\" title=\"收藏本文\"><i></i><span id=\"count0_1\"></span></a>\n",
       "</div>\n",
       "<div class=\"post_vline\">|</div>\n",
       "<div class=\"post_accusation\">举报</div>\n",
       "<div class=\"accusation-down-list\">\n",
       "<div class=\"acc-tips-body\">\n",
       "<ul>\n",
       "<li>\n",
       "<input id=\"accusation1\" name=\"accusation_type\" type=\"radio\" value=\"1\"/>\n",
       "<label for=\"accusation1\">违反法律法规</label>\n",
       "</li>\n",
       "<li>\n",
       "<input id=\"accusation2\" name=\"accusation_type\" type=\"radio\" value=\"2\"/>\n",
       "<label for=\"accusation2\">垃圾信息、广告</label>\n",
       "</li>\n",
       "<li>\n",
       "<input id=\"accusation3\" name=\"accusation_type\" type=\"radio\" value=\"3\"/>\n",
       "<label for=\"accusation3\">色情、淫秽信息</label>\n",
       "</li>\n",
       "<li>\n",
       "<input id=\"accusation4\" name=\"accusation_type\" type=\"radio\" value=\"4\"/>\n",
       "<label for=\"accusation4\">人身攻击</label>\n",
       "</li>\n",
       "<li>\n",
       "<input id=\"accusation5\" name=\"accusation_type\" type=\"radio\" value=\"5\"/>\n",
       "<label for=\"accusation5\">谣言、不实信息</label>\n",
       "</li>\n",
       "<li>\n",
       "<input id=\"accusation6\" name=\"accusation_type\" type=\"radio\" value=\"6\"/>\n",
       "<label for=\"accusation6\">冒充，冒用信息</label>\n",
       "</li>\n",
       "<li>\n",
       "<input id=\"accusation8\" name=\"accusation_type\" type=\"radio\" value=\"8\"/>\n",
       "<label for=\"accusation7\">破坏社区秩序</label>\n",
       "</li>\n",
       "<li>\n",
       "<input id=\"accusation7\" name=\"accusation_type\" type=\"radio\" value=\"7\"/>\n",
       "<label for=\"accusation8\">其他</label>\n",
       "</li>\n",
       "<li>\n",
       "<input id=\"accusation9\" name=\"accusation_type\" type=\"radio\" value=\"9\"/>\n",
       "<label for=\"accusation8\">涉未成年人有害信息</label>\n",
       "</li>\n",
       "</ul>\n",
       "<div class=\"clear\"></div>\n",
       "<p><a href=\"//www.guancha.cn/broken-news/2017_03_28_400912_3.shtml\" target=\"_blank\">观察者网举报制度规范</a></p>\n",
       "</div>\n",
       "<div class=\"arr-tips-footer\"> <a class=\"ok\" href=\"javascript:;\">确定</a> <a class=\"cancel\" href=\"javascript:;\">取消</a> </div>\n",
       "<div class=\"arrows\"></div>\n",
       "</div>\n",
       "</div>\n",
       "<div class=\"key-word fix mt15\">\n",
       "<span>标签 </span><a href=\"https://www.guancha.cn/api/search.htm?click=news&amp;keyword=%E4%BF%84%E7%BD%97%E6%96%AF\" style=\"color:#d06868\">俄罗斯</a><a href=\"https://www.guancha.cn/api/search.htm?click=news&amp;keyword=%E4%BA%9A%E6%B4%B2\" style=\"color:#d06868\">亚洲</a><a href=\"https://www.guancha.cn/api/search.htm?click=news&amp;keyword=%E7%BE%8E%E5%9B%BD\" style=\"color:#d06868\">美国</a><a href=\"https://www.guancha.cn/api/search.htm?click=news&amp;keyword=%E5%86%B7%E6%88%98\" style=\"color:#d06868\">冷战</a><a href=\"https://www.guancha.cn/api/search.htm?click=news&amp;keyword=%E4%BA%8C%E6%88%98%20%20\" style=\"color:#d06868\">二战  </a></div>\n",
       "<ul class=\"article-other\">\n",
       "<span class=\"gray\">本文仅代表作者个人观点。</span> <li>责任编辑:\n",
       "\t\t\t岳冠东 \n",
       "\t\t</li>\n",
       "</ul> <!-- 文底硬广 -->\n",
       "<!-- 领书 -->\n",
       "<!--  <div id=\"post-member\"></div>-->\n",
       "<div style=\"clear:both;\"></div>\n",
       "<a id=\"comment\" name=\"comment\"></a>\n",
       "<div class=\"gc-comment\" data-from=\"cms\" data-id=\"648310\" data-type=\"1\" id=\"comments-container\"></div>\n",
       "<ul class=\"new-left-list\" style=\"border:0px;\">\n",
       "<div class=\"post-recommend\">相关推荐</div>\n",
       "<li class=\"fix\" style=\"padding:15px 0 4px 0;border-bottom: 1px solid #cccccc;\">\n",
       "<a class=\"fl\" href=\"/economy/2024_06_06_737217.shtml?s=zwyxgtjdt\" target=\"_blank\"><img alt=\"\" height=\"106\" src=\"https://i.guancha.cn/news/2024/06/06/20240606114931593.jpg\" width=\"150\"/></a>\n",
       "<div class=\"right fn\" style=\"margin-left:180px;\">\n",
       "<h4 class=\"module-title\" style=\"height:52px\"><a href=\"/economy/2024_06_06_737217.shtml?s=zwyxgtjbt\" style=\"font-size:20px;font-weight:bold;\" target=\"_blank\">共享充电宝涨到每小时4元起步，“行业老大”却不赚钱了？</a></h4>\n",
       "<div class=\"module-interact\" style=\"margin-top:28px;\">\n",
       "<span style=\"color:#7b7b7b;font-size:14px;\">2024-06-06 12:05</span>\n",
       "<a class=\"interact-key\" href=\"/GuanWangCaiJingHuLianWang?s=zwyxgtjzt\" style=\"color:#ff0000;font-size:14px;float: right;padding-right:0px;\" target=\"_blank\">观网财经-互联网</a>\n",
       "</div>\n",
       "</div>\n",
       "</li>\n",
       "<li class=\"fix\" style=\"padding:15px 0 4px 0;border-bottom: 1px solid #cccccc;\">\n",
       "<a class=\"fl\" href=\"/economy/2024_06_06_737205.shtml?s=zwyxgtjdt\" target=\"_blank\"><img alt=\"\" height=\"106\" src=\"https://i.guancha.cn/news/2024/06/06/20240606101458254.jpg\" width=\"150\"/></a>\n",
       "<div class=\"right fn\" style=\"margin-left:180px;\">\n",
       "<h4 class=\"module-title\" style=\"height:52px\"><a href=\"/economy/2024_06_06_737205.shtml?s=zwyxgtjbt\" style=\"font-size:20px;font-weight:bold;\" target=\"_blank\">英伟达市值突破3万亿美元超苹果，是泡沫吗？</a></h4>\n",
       "<div class=\"module-interact\" style=\"margin-top:28px;\">\n",
       "<span style=\"color:#7b7b7b;font-size:14px;\">2024-06-06 10:24</span>\n",
       "<a class=\"interact-key\" href=\"/GuanWangCaiJingHaiWai?s=zwyxgtjzt\" style=\"color:#ff0000;font-size:14px;float: right;padding-right:0px;\" target=\"_blank\">观网财经-海外</a>\n",
       "</div>\n",
       "</div>\n",
       "</li>\n",
       "<li class=\"fix\" style=\"padding:15px 0 4px 0;border-bottom: 1px solid #cccccc;\">\n",
       "<a class=\"fl\" href=\"/economy/2024_06_06_737172.shtml?s=zwyxgtjdt\" target=\"_blank\"><img alt=\"\" height=\"106\" src=\"https://i.guancha.cn/news/2024/06/06/20240606070735435.jpg\" width=\"150\"/></a>\n",
       "<div class=\"right fn\" style=\"margin-left:180px;\">\n",
       "<h4 class=\"module-title\" style=\"height:52px\"><a href=\"/economy/2024_06_06_737172.shtml?s=zwyxgtjbt\" style=\"font-size:20px;font-weight:bold;\" target=\"_blank\">四川南江：探索农村集体土地所有权房屋抵押贷，用于县内购房</a></h4>\n",
       "<div class=\"module-interact\" style=\"margin-top:28px;\">\n",
       "<span style=\"color:#7b7b7b;font-size:14px;\">2024-06-06 07:15</span>\n",
       "<a class=\"interact-key\" href=\"/GuanWangCaiJingGangChan?s=zwyxgtjzt\" style=\"color:#ff0000;font-size:14px;float: right;padding-right:0px;\" target=\"_blank\">观网财经-房产</a>\n",
       "</div>\n",
       "</div>\n",
       "</li>\n",
       "<li class=\"fix\" style=\"padding:15px 0 4px 0;border-bottom: 1px solid #cccccc;\">\n",
       "<a class=\"fl\" href=\"/economy/2024_06_05_737151.shtml?s=zwyxgtjdt\" target=\"_blank\"><img alt=\"\" height=\"106\" src=\"https://i.guancha.cn/news/2024/06/05/20240605185410400.jpg\" width=\"150\"/></a>\n",
       "<div class=\"right fn\" style=\"margin-left:180px;\">\n",
       "<h4 class=\"module-title\" style=\"height:52px\"><a href=\"/economy/2024_06_05_737151.shtml?s=zwyxgtjbt\" style=\"font-size:20px;font-weight:bold;\" target=\"_blank\">斗鱼主动退缴涉主播非法收益超1亿</a></h4>\n",
       "<div class=\"module-interact\" style=\"margin-top:28px;\">\n",
       "<span style=\"color:#7b7b7b;font-size:14px;\">2024-06-05 18:57</span>\n",
       "<a class=\"interact-key\" href=\"/GuanWangCaiJingHuLianWang?s=zwyxgtjzt\" style=\"color:#ff0000;font-size:14px;float: right;padding-right:0px;\" target=\"_blank\">观网财经-互联网</a>\n",
       "</div>\n",
       "</div>\n",
       "</li>\n",
       "<li class=\"fix\" style=\"padding:15px 0 4px 0;border-bottom: 1px solid #cccccc;\">\n",
       "<a class=\"fl\" href=\"/economy/2024_06_05_737119.shtml?s=zwyxgtjdt\" target=\"_blank\"><img alt=\"\" height=\"106\" src=\"https://i.guancha.cn/news/2024/06/05/20240605141324862.jpg\" width=\"150\"/></a>\n",
       "<div class=\"right fn\" style=\"margin-left:180px;\">\n",
       "<h4 class=\"module-title\" style=\"height:52px\"><a href=\"/economy/2024_06_05_737119.shtml?s=zwyxgtjbt\" style=\"font-size:20px;font-weight:bold;\" target=\"_blank\">交通银行：聘任张宝江为行长</a></h4>\n",
       "<div class=\"module-interact\" style=\"margin-top:28px;\">\n",
       "<span style=\"color:#7b7b7b;font-size:14px;\">2024-06-05 14:16</span>\n",
       "<a class=\"interact-key\" href=\"/GuanWangCaiJingJinRong?s=zwyxgtjzt\" style=\"color:#ff0000;font-size:14px;float: right;padding-right:0px;\" target=\"_blank\">观网财经-金融</a>\n",
       "</div>\n",
       "</div>\n",
       "</li>\n",
       "<li class=\"fix\" style=\"padding:15px 0 4px 0;border-bottom: 1px solid #cccccc;\">\n",
       "<a class=\"fl\" href=\"/economy/2024_06_05_737118.shtml?s=zwyxgtjdt\" target=\"_blank\"><img alt=\"\" height=\"106\" src=\"https://i.guancha.cn/news/2024/06/05/20240605141403776.jpg\" width=\"150\"/></a>\n",
       "<div class=\"right fn\" style=\"margin-left:180px;\">\n",
       "<h4 class=\"module-title\" style=\"height:52px\"><a href=\"/economy/2024_06_05_737118.shtml?s=zwyxgtjbt\" style=\"font-size:20px;font-weight:bold;\" target=\"_blank\">“70后”张毅正式就任建设银行行长</a></h4>\n",
       "<div class=\"module-interact\" style=\"margin-top:28px;\">\n",
       "<span style=\"color:#7b7b7b;font-size:14px;\">2024-06-05 14:12</span>\n",
       "<a class=\"interact-key\" href=\"/GuanWangCaiJingJinRong?s=zwyxgtjzt\" style=\"color:#ff0000;font-size:14px;float: right;padding-right:0px;\" target=\"_blank\">观网财经-金融</a>\n",
       "</div>\n",
       "</div>\n",
       "</li>\n",
       "<li class=\"fix\" style=\"padding:15px 0 4px 0;border-bottom: 1px solid #cccccc;\">\n",
       "<a class=\"fl\" href=\"/economy/2024_06_05_737115.shtml?s=zwyxgtjdt\" target=\"_blank\"><img alt=\"\" height=\"106\" src=\"https://i.guancha.cn/news/2024/06/05/20240605130555774.jpg\" width=\"150\"/></a>\n",
       "<div class=\"right fn\" style=\"margin-left:180px;\">\n",
       "<h4 class=\"module-title\" style=\"height:52px\"><a href=\"/economy/2024_06_05_737115.shtml?s=zwyxgtjbt\" style=\"font-size:20px;font-weight:bold;\" target=\"_blank\">金价飙升，为何周大福深圳工厂突然停工停产？</a></h4>\n",
       "<div class=\"module-interact\" style=\"margin-top:28px;\">\n",
       "<span style=\"color:#7b7b7b;font-size:14px;\">2024-06-05 13:22</span>\n",
       "<a class=\"interact-key\" href=\"/HuangJinYouXi?s=zwyxgtjzt\" style=\"color:#ff0000;font-size:14px;float: right;padding-right:0px;\" target=\"_blank\">黄金游戏</a>\n",
       "</div>\n",
       "</div>\n",
       "</li>\n",
       "<li class=\"fix\" style=\"padding:15px 0 4px 0;border-bottom: 1px solid #cccccc;\">\n",
       "<a class=\"fl\" href=\"/economy/2024_06_05_737108.shtml?s=zwyxgtjdt\" target=\"_blank\"><img alt=\"\" height=\"106\" src=\"https://i.guancha.cn/news/2024/06/05/20240605112929796.jpg\" width=\"150\"/></a>\n",
       "<div class=\"right fn\" style=\"margin-left:180px;\">\n",
       "<h4 class=\"module-title\" style=\"height:52px\"><a href=\"/economy/2024_06_05_737108.shtml?s=zwyxgtjbt\" style=\"font-size:20px;font-weight:bold;\" target=\"_blank\">懂车帝将分拆IPO？消息称字节寻求筹资至多8亿美元</a></h4>\n",
       "<div class=\"module-interact\" style=\"margin-top:28px;\">\n",
       "<span style=\"color:#7b7b7b;font-size:14px;\">2024-06-05 11:41</span>\n",
       "<a class=\"interact-key\" href=\"/GuanWangCaiJingHuLianWang?s=zwyxgtjzt\" style=\"color:#ff0000;font-size:14px;float: right;padding-right:0px;\" target=\"_blank\">观网财经-互联网</a>\n",
       "</div>\n",
       "</div>\n",
       "</li>\n",
       "<li class=\"fix\" style=\"padding:15px 0 4px 0;border-bottom: 1px solid #cccccc;\">\n",
       "<a class=\"fl\" href=\"/economy/2024_06_05_737084.shtml?s=zwyxgtjdt\" target=\"_blank\"><img alt=\"\" height=\"106\" src=\"https://i.guancha.cn/news/2024/06/05/20240605083203349.jpg\" width=\"150\"/></a>\n",
       "<div class=\"right fn\" style=\"margin-left:180px;\">\n",
       "<h4 class=\"module-title\" style=\"height:52px\"><a href=\"/economy/2024_06_05_737084.shtml?s=zwyxgtjbt\" style=\"font-size:20px;font-weight:bold;\" target=\"_blank\">央行主管媒体评普华永道“退单”风波</a></h4>\n",
       "<div class=\"module-interact\" style=\"margin-top:28px;\">\n",
       "<span style=\"color:#7b7b7b;font-size:14px;\">2024-06-05 08:45</span>\n",
       "<a class=\"interact-key\" href=\"/GuanWangCaiJingJinRong?s=zwyxgtjzt\" style=\"color:#ff0000;font-size:14px;float: right;padding-right:0px;\" target=\"_blank\">观网财经-金融</a>\n",
       "</div>\n",
       "</div>\n",
       "</li>\n",
       "<li class=\"fix\" style=\"padding:15px 0 4px 0;border-bottom: 1px solid #cccccc;\">\n",
       "<a class=\"fl\" href=\"/economy/2024_06_04_737054.shtml?s=zwyxgtjdt\" target=\"_blank\"><img alt=\"\" height=\"106\" src=\"https://i.guancha.cn/news/2024/06/04/20240604222129638.jpg\" width=\"150\"/></a>\n",
       "<div class=\"right fn\" style=\"margin-left:180px;\">\n",
       "<h4 class=\"module-title\" style=\"height:52px\"><a href=\"/economy/2024_06_04_737054.shtml?s=zwyxgtjbt\" style=\"font-size:20px;font-weight:bold;\" target=\"_blank\">英特尔CEO：如果美出口管制太严，中国就必须生产自己的芯片</a></h4>\n",
       "<div class=\"module-interact\" style=\"margin-top:28px;\">\n",
       "<span style=\"color:#7b7b7b;font-size:14px;\">2024-06-04 22:30</span>\n",
       "<a class=\"interact-key\" href=\"/GuanWangCaiJingKeChuang?s=zwyxgtjzt\" style=\"color:#ff0000;font-size:14px;float: right;padding-right:0px;\" target=\"_blank\">观网财经-科创</a>\n",
       "</div>\n",
       "</div>\n",
       "</li>\n",
       "<li class=\"fix\" style=\"padding:15px 0 4px 0;border-bottom: 1px solid #cccccc;\">\n",
       "<a class=\"fl\" href=\"/economy/2024_06_04_737013.shtml?s=zwyxgtjdt\" target=\"_blank\"><img alt=\"\" height=\"106\" src=\"https://i.guancha.cn/news/2024/06/04/20240604110116573.jpg\" width=\"150\"/></a>\n",
       "<div class=\"right fn\" style=\"margin-left:180px;\">\n",
       "<h4 class=\"module-title\" style=\"height:52px\"><a href=\"/economy/2024_06_04_737013.shtml?s=zwyxgtjbt\" style=\"font-size:20px;font-weight:bold;\" target=\"_blank\">4月份全国共销售彩票554.57亿元，同比增长10.2%</a></h4>\n",
       "<div class=\"module-interact\" style=\"margin-top:28px;\">\n",
       "<span style=\"color:#7b7b7b;font-size:14px;\">2024-06-04 15:21</span>\n",
       "</div>\n",
       "</div>\n",
       "</li>\n",
       "<li class=\"fix\" style=\"padding:15px 0 4px 0;border-bottom: 1px solid #cccccc;\">\n",
       "<a class=\"fl\" href=\"/economy/2024_06_04_736991.shtml?s=zwyxgtjdt\" target=\"_blank\"><img alt=\"\" height=\"106\" src=\"https://i.guancha.cn/news/2024/06/04/20240604105518723.jpg\" width=\"150\"/></a>\n",
       "<div class=\"right fn\" style=\"margin-left:180px;\">\n",
       "<h4 class=\"module-title\" style=\"height:52px\"><a href=\"/economy/2024_06_04_736991.shtml?s=zwyxgtjbt\" style=\"font-size:20px;font-weight:bold;\" target=\"_blank\">国内首座重载铁路加氢站正式投入商业运营</a></h4>\n",
       "<div class=\"module-interact\" style=\"margin-top:28px;\">\n",
       "<span style=\"color:#7b7b7b;font-size:14px;\">2024-06-04 10:56</span>\n",
       "<a class=\"interact-key\" href=\"/NengYuanZhanLue?s=zwyxgtjzt\" style=\"color:#ff0000;font-size:14px;float: right;padding-right:0px;\" target=\"_blank\">能源战略</a>\n",
       "</div>\n",
       "</div>\n",
       "</li>\n",
       "<li class=\"fix\" style=\"padding:15px 0 4px 0;border-bottom: 1px solid #cccccc;\">\n",
       "<a class=\"fl\" href=\"/economy/2024_06_04_736965.shtml?s=zwyxgtjdt\" target=\"_blank\"><img alt=\"\" height=\"106\" src=\"https://i.guancha.cn/news/2024/06/04/20240604072037222.jpg\" width=\"150\"/></a>\n",
       "<div class=\"right fn\" style=\"margin-left:180px;\">\n",
       "<h4 class=\"module-title\" style=\"height:52px\"><a href=\"/economy/2024_06_04_736965.shtml?s=zwyxgtjbt\" style=\"font-size:20px;font-weight:bold;\" target=\"_blank\">“AR行业的iPhone时刻还没到来，取代手机是漫长的过程”</a></h4>\n",
       "<div class=\"module-interact\" style=\"margin-top:28px;\">\n",
       "<span style=\"color:#7b7b7b;font-size:14px;\">2024-06-04 07:26</span>\n",
       "<a class=\"interact-key\" href=\"/GuanWangCaiJingKeChuang?s=zwyxgtjzt\" style=\"color:#ff0000;font-size:14px;float: right;padding-right:0px;\" target=\"_blank\">观网财经-科创</a>\n",
       "</div>\n",
       "</div>\n",
       "</li>\n",
       "<li class=\"fix\" style=\"padding:15px 0 4px 0;border-bottom: 1px solid #cccccc;\">\n",
       "<a class=\"fl\" href=\"/economy/2024_06_04_736964.shtml?s=zwyxgtjdt\" target=\"_blank\"><img alt=\"\" height=\"106\" src=\"https://i.guancha.cn/news/2024/06/04/20240604072046455.jpg\" width=\"150\"/></a>\n",
       "<div class=\"right fn\" style=\"margin-left:180px;\">\n",
       "<h4 class=\"module-title\" style=\"height:52px\"><a href=\"/economy/2024_06_04_736964.shtml?s=zwyxgtjbt\" style=\"font-size:20px;font-weight:bold;\" target=\"_blank\">多家银行拟招聘催收人才</a></h4>\n",
       "<div class=\"module-interact\" style=\"margin-top:28px;\">\n",
       "<span style=\"color:#7b7b7b;font-size:14px;\">2024-06-04 07:25</span>\n",
       "<a class=\"interact-key\" href=\"/GuanWangCaiJingJinRong?s=zwyxgtjzt\" style=\"color:#ff0000;font-size:14px;float: right;padding-right:0px;\" target=\"_blank\">观网财经-金融</a>\n",
       "</div>\n",
       "</div>\n",
       "</li>\n",
       "<li class=\"fix\" style=\"padding:15px 0 4px 0;border-bottom: 1px solid #cccccc;\">\n",
       "<a class=\"fl\" href=\"/economy/2024_06_04_736963.shtml?s=zwyxgtjdt\" target=\"_blank\"><img alt=\"\" height=\"106\" src=\"https://i.guancha.cn/news/2024/06/04/20240604065138482.jpg\" width=\"150\"/></a>\n",
       "<div class=\"right fn\" style=\"margin-left:180px;\">\n",
       "<h4 class=\"module-title\" style=\"height:52px\"><a href=\"/economy/2024_06_04_736963.shtml?s=zwyxgtjbt\" style=\"font-size:20px;font-weight:bold;\" target=\"_blank\">数只美股一度跌超98%，纽交所回应</a></h4>\n",
       "<div class=\"module-interact\" style=\"margin-top:28px;\">\n",
       "<span style=\"color:#7b7b7b;font-size:14px;\">2024-06-04 07:23</span>\n",
       "<a class=\"interact-key\" href=\"/GuanWangCaiJingHaiWai?s=zwyxgtjzt\" style=\"color:#ff0000;font-size:14px;float: right;padding-right:0px;\" target=\"_blank\">观网财经-海外</a>\n",
       "</div>\n",
       "</div>\n",
       "</li>\n",
       "<li class=\"fix\" style=\"padding:15px 0 4px 0;border-bottom: 1px solid #cccccc;\">\n",
       "<a class=\"fl\" href=\"/economy/2024_06_03_736934.shtml?s=zwyxgtjdt\" target=\"_blank\"><img alt=\"\" height=\"106\" src=\"https://i.guancha.cn/news/2024/06/03/20240603174638355.jpg\" width=\"150\"/></a>\n",
       "<div class=\"right fn\" style=\"margin-left:180px;\">\n",
       "<h4 class=\"module-title\" style=\"height:52px\"><a href=\"/economy/2024_06_03_736934.shtml?s=zwyxgtjbt\" style=\"font-size:20px;font-weight:bold;\" target=\"_blank\">斯坦福AI团队，竟抄袭中国大模型？</a></h4>\n",
       "<div class=\"module-interact\" style=\"margin-top:28px;\">\n",
       "<span style=\"color:#7b7b7b;font-size:14px;\">2024-06-03 18:01</span>\n",
       "<a class=\"interact-key\" href=\"/GuanWangCaiJingKeChuang?s=zwyxgtjzt\" style=\"color:#ff0000;font-size:14px;float: right;padding-right:0px;\" target=\"_blank\">观网财经-科创</a>\n",
       "</div>\n",
       "</div>\n",
       "</li>\n",
       "<li class=\"fix\" style=\"padding:15px 0 4px 0;border-bottom: 1px solid #cccccc;\">\n",
       "<a class=\"fl\" href=\"/economy/2024_06_03_736901.shtml?s=zwyxgtjdt\" target=\"_blank\"><img alt=\"\" height=\"106\" src=\"https://i.guancha.cn/news/2024/06/03/20240603130039479.jpg\" width=\"150\"/></a>\n",
       "<div class=\"right fn\" style=\"margin-left:180px;\">\n",
       "<h4 class=\"module-title\" style=\"height:52px\"><a href=\"/economy/2024_06_03_736901.shtml?s=zwyxgtjbt\" style=\"font-size:20px;font-weight:bold;\" target=\"_blank\">“国产手机芯”新融资超40亿，京沪国资参投</a></h4>\n",
       "<div class=\"module-interact\" style=\"margin-top:28px;\">\n",
       "<span style=\"color:#7b7b7b;font-size:14px;\">2024-06-03 13:44</span>\n",
       "<a class=\"interact-key\" href=\"/GuanWangCaiJingKeChuang?s=zwyxgtjzt\" style=\"color:#ff0000;font-size:14px;float: right;padding-right:0px;\" target=\"_blank\">观网财经-科创</a>\n",
       "</div>\n",
       "</div>\n",
       "</li>\n",
       "<li class=\"fix\" style=\"padding:15px 0 4px 0;border-bottom: 1px solid #cccccc;\">\n",
       "<a class=\"fl\" href=\"/economy/2024_06_03_736894.shtml?s=zwyxgtjdt\" target=\"_blank\"><img alt=\"\" height=\"106\" src=\"https://i.guancha.cn/news/2024/06/03/20240603124455199.jpg\" width=\"150\"/></a>\n",
       "<div class=\"right fn\" style=\"margin-left:180px;\">\n",
       "<h4 class=\"module-title\" style=\"height:52px\"><a href=\"/economy/2024_06_03_736894.shtml?s=zwyxgtjbt\" style=\"font-size:20px;font-weight:bold;\" target=\"_blank\">央行今日进行20亿元7天期逆回购操作，本周6140亿逆回购到期</a></h4>\n",
       "<div class=\"module-interact\" style=\"margin-top:28px;\">\n",
       "<span style=\"color:#7b7b7b;font-size:14px;\">2024-06-03 12:49</span>\n",
       "<a class=\"interact-key\" href=\"/ChanYeWanXiang?s=zwyxgtjzt\" style=\"color:#ff0000;font-size:14px;float: right;padding-right:0px;\" target=\"_blank\">产业万象</a>\n",
       "</div>\n",
       "</div>\n",
       "</li>\n",
       "<li class=\"fix\" style=\"padding:15px 0 4px 0;border-bottom: 1px solid #cccccc;\">\n",
       "<a class=\"fl\" href=\"/economy/2024_06_03_736893.shtml?s=zwyxgtjdt\" target=\"_blank\"><img alt=\"\" height=\"106\" src=\"https://i.guancha.cn/news/2024/06/03/20240603120723381.jpg\" width=\"150\"/></a>\n",
       "<div class=\"right fn\" style=\"margin-left:180px;\">\n",
       "<h4 class=\"module-title\" style=\"height:52px\"><a href=\"/economy/2024_06_03_736893.shtml?s=zwyxgtjbt\" style=\"font-size:20px;font-weight:bold;\" target=\"_blank\">业界预计5月份新增信贷环比增长，社融增量有望达2.3万亿元</a></h4>\n",
       "<div class=\"module-interact\" style=\"margin-top:28px;\">\n",
       "<span style=\"color:#7b7b7b;font-size:14px;\">2024-06-03 12:36</span>\n",
       "<a class=\"interact-key\" href=\"/GuanWangCaiJingJinRong?s=zwyxgtjzt\" style=\"color:#ff0000;font-size:14px;float: right;padding-right:0px;\" target=\"_blank\">观网财经-金融</a>\n",
       "</div>\n",
       "</div>\n",
       "</li>\n",
       "<li class=\"fix\" style=\"padding:15px 0 4px 0;border-bottom: 1px solid #cccccc;\">\n",
       "<a class=\"fl\" href=\"/economy/2024_06_03_736892.shtml?s=zwyxgtjdt\" target=\"_blank\"><img alt=\"\" height=\"106\" src=\"https://i.guancha.cn/news/2024/06/03/20240603121409100.jpg\" width=\"150\"/></a>\n",
       "<div class=\"right fn\" style=\"margin-left:180px;\">\n",
       "<h4 class=\"module-title\" style=\"height:52px\"><a href=\"/economy/2024_06_03_736892.shtml?s=zwyxgtjbt\" style=\"font-size:20px;font-weight:bold;\" target=\"_blank\">央行批准31家支付机构更名</a></h4>\n",
       "<div class=\"module-interact\" style=\"margin-top:28px;\">\n",
       "<span style=\"color:#7b7b7b;font-size:14px;\">2024-06-03 12:36</span>\n",
       "<a class=\"interact-key\" href=\"/GuanWangCaiJingJinRong?s=zwyxgtjzt\" style=\"color:#ff0000;font-size:14px;float: right;padding-right:0px;\" target=\"_blank\">观网财经-金融</a>\n",
       "</div>\n",
       "</div>\n",
       "</li>\n",
       "</ul>\n",
       "<script>\n",
       "$(function(){\n",
       "\t$('.module-interact span').each(function(){\n",
       "\t\tndate = $(this).text();\n",
       "\t\t$(this).text(ndate.substr(0,16));\n",
       "\t})\n",
       "})\n",
       "</script> </li>\n",
       "<li class=\"right\" style=\"position:relative;bottom:36px;\">\n",
       "<script type=\"text/javascript\">\n",
       "    function gotoUrl() {\n",
       "        var objvalue = document.getElementById(\"txtkey\").value;\n",
       "        if (objvalue == \"\"||objvalue == \"请输入关键字！\") {\n",
       "            alert(\"请输入查询关键字\");\n",
       "            document.getElementById(\"txtkey\").focus();\n",
       "            return false;\n",
       "        }\n",
       "        else {\n",
       "        \tvar temp = document.domain.split(\".\");\n",
       "            var url = \"/api/search.htm?click=news&keyword=\" + objvalue;\n",
       "            url = encodeURI(url);\n",
       "            _url = window.location.href;\n",
       "            if(_url.indexOf(\"/api/search.htm\") == -1){\n",
       "                window.open(url);\n",
       "            }else{\n",
       "            \twindow.location.href = url;\n",
       "            }\n",
       "            return true;\n",
       "        }\n",
       "    }\n",
       "\tdocument.onkeydown=function(event){\n",
       "\t\tvar e = event || window.event || arguments.callee.caller.arguments[0];\n",
       "\t\tif(e && e.keyCode==13 && document.activeElement.id==\"txtkey\"){ \n",
       "\t\t\treturn gotoUrl();\n",
       "\t\t}\n",
       "\t}\n",
       "</script>\n",
       "<div class=\"search fix\">\n",
       "<input id=\"txtkey\" onblur=\"this.style.color='#999';if(this.value=='') this.value='请输入关键字！';\" onfocus=\"this.style.color='#000';if(this.value=='请输入关键字！') this.value='';\" type=\"text\" value=\"请输入关键字！\"/>\n",
       "<a onclick=\"gotoUrl();\">搜索</a>\n",
       "</div> <div class=\"head-inpost\">\n",
       "<div class=\"head-inpost-header\">\n",
       "<a href=\"/GuanChaZheTouTiao\" style=\"float:none\" target=\"_blank\"><span style=\"font-size:22px;color:#000\">   观察者头条</span></a>\n",
       "<a href=\"/GuanChaZheTouTiao\" target=\"_blank\">查看全部</a>\n",
       "</div>\n",
       "<div class=\"head-inpost-box\" style=\"border:0px;\">\n",
       "<a href=\"/internation/2024_06_06_737215.shtml?s=zwytt\" target=\"_blank\"><img alt=\"\" src=\"https://i.guancha.cn/news/2024/06/06/20240606111540150.jpg\" width=\"100\"/></a>\n",
       "<div class=\"head-inpost-box-right\">\n",
       "<a class=\"head-inpost-title\" href=\"/internation/2024_06_06_737215.shtml?s=zwytt\" target=\"_blank\">普京：中国模式优于美国，已是俄专家的普遍共识</a>\n",
       "<span>评论 132</span>\n",
       "</div>\n",
       "</div>\n",
       "<div class=\"head-inpost-box\">\n",
       "<a href=\"/politics/2024_06_06_737213.shtml?s=zwytt\" target=\"_blank\"><img alt=\"\" src=\"https://i.guancha.cn/news/2024/06/06/20240606104904182.jpg\" width=\"100\"/></a>\n",
       "<div class=\"head-inpost-box-right\">\n",
       "<a class=\"head-inpost-title\" href=\"/politics/2024_06_06_737213.shtml?s=zwytt\" target=\"_blank\">世界最大单体光伏项目在新疆并网，能为小国发电一年</a>\n",
       "<span>评论 209</span>\n",
       "</div>\n",
       "</div>\n",
       "<div class=\"head-inpost-box\">\n",
       "<a href=\"/internation/2024_06_06_737171.shtml?s=zwytt\" target=\"_blank\"><img alt=\"\" src=\"https://i.guancha.cn/news/2024/06/06/20240606073856163.jpg\" width=\"100\"/></a>\n",
       "<div class=\"head-inpost-box-right\">\n",
       "<a class=\"head-inpost-title\" href=\"/internation/2024_06_06_737171.shtml?s=zwytt\" target=\"_blank\">法英德就伊核问题推动通过对伊施压决议，中俄反对</a>\n",
       "<span>评论 140</span>\n",
       "</div>\n",
       "</div>\n",
       "<div class=\"head-inpost-box\">\n",
       "<a href=\"/internation/2024_06_05_737161.shtml?s=zwytt\" target=\"_blank\"><img alt=\"\" src=\"https://i.guancha.cn/news/2024/06/05/20240605211224494.jpg\" width=\"100\"/></a>\n",
       "<div class=\"head-inpost-box-right\">\n",
       "<a class=\"head-inpost-title\" href=\"/internation/2024_06_05_737161.shtml?s=zwytt\" target=\"_blank\">马来西亚：严查以色列集装箱，不能妥协</a>\n",
       "<span>评论 82</span>\n",
       "</div>\n",
       "</div>\n",
       "<div class=\"head-inpost-box\">\n",
       "<a href=\"/internation/2024_06_05_737148.shtml?s=zwytt\" target=\"_blank\"><img alt=\"\" src=\"https://i.guancha.cn/news/2024/06/05/20240605172132139.jpg\" width=\"100\"/></a>\n",
       "<div class=\"head-inpost-box-right\">\n",
       "<a class=\"head-inpost-title\" href=\"/internation/2024_06_05_737148.shtml?s=zwytt\" target=\"_blank\">莫迪“虽胜犹败”，屡试不爽的民族主义大旗失灵了？</a>\n",
       "<span>评论 118</span>\n",
       "</div>\n",
       "</div>\n",
       "</div> <!-- -->\n",
       "<div class=\"ad_post_right\" style=\"display:none;\"></div>\n",
       "<!--  <div class=\"post-member-right\"></div>-->\n",
       "<div class=\"fenwen24\">\n",
       "<div class=\"fenwen24-header\" id=\"post-fengwen-hot\">\n",
       "<a href=\"//user.guancha.cn/?s=zwyessckqb\" style=\"float:none\" target=\"_blank\"><span style=\"font-size:22px;color:#000\">   风闻 · 24小时最热</span></a>\n",
       "<a href=\"//user.guancha.cn/?s=zwyessckqb\" target=\"_blank\">查看全部</a>\n",
       "</div>\n",
       "<div id=\"post-fengwen\"></div>\n",
       "</div>\n",
       "<div class=\"latest-video\">\n",
       "<div class=\"latest-video-header\" id=\"post-shipin-zuixin\">\n",
       "<a href=\"/GuanWangKanPian\" style=\"float:none\" target=\"_blank\"><span style=\"font-size:22px;color:#000\">   最新视频</span></a>\n",
       "<a href=\"/GuanWangKanPian\" target=\"_blank\">查看全部</a>\n",
       "</div>\n",
       "<div id=\"post-shipin\"></div>\n",
       "</div>\n",
       "<!--评论精选     <div class=\"module-news gray\">\n",
       "\t\t\t\t\t<div class=\"module-news-header comment-news-header\">\n",
       "\t\t\t\t\t\t<a href=\"/other/commentselected.shtml\" target=\"_blank\"><span>评论精选</span></a>\n",
       "\t\t\t\t\t\t<div class=\"change fix\"><a href=\"javascript:;\">换一条</a></div>\n",
       "\t\t\t\t\t</div>\n",
       "\t\t\t\t\t<div id=\"selection-comment\" class=\"module-news-main\">\n",
       "\t\t\t\t\t\t<p class=\"module-artile\"></p>\n",
       "\t\t\t\t\t\t<div class=\"comment fix\"></div>\n",
       "\t\t\t\t\t\t<div class=\"module-more fix\"><a href=\"/other/commentselected.shtml\" class=\"fr\" target=\"_blank\">more</a></div>\n",
       "\t\t\t\t\t</div>\n",
       "\t\t\t\t</div> -->\n",
       "<div class=\"module-news-2\">\n",
       "<div class=\"module-news-2-header\">\n",
       "<span style=\"font-size:22px;color:#000\">   最新闻 Hot</span>\n",
       "</div>\n",
       "<div class=\"module-news-2-main\">\n",
       "<ul class=\"hot-list-2\">\n",
       "<li style=\"border-top:0px;\">\n",
       "<a href=\"/politics/2024_06_06_737213.shtml?s=zwyzxw\" onclick='_czc.push([\"_trackEvent\", \"zuixinwen\", \"pcclick\"]);' target=\"_blank\"><img alt=\"世界最大单体光伏项目在新疆并网，能为小国发电一年\" height=\"152\" src=\"https://i.guancha.cn/news/2024/06/06/20240606104911409.jpg\" width=\"390\"/></a>\n",
       "<h4><a href=\"/politics/2024_06_06_737213.shtml?s=zwyzxw\" onclick='_czc.push([\"_trackEvent\", \"zuixinwen\", \"pcclick\"]);' target=\"_blank\">世界最大单体光伏项目在新疆并网，能为小国发电一年</a></h4>\n",
       "</li>\n",
       "<li>\n",
       "<a href=\"/internation/2024_06_06_737215.shtml?s=zwyzxw\" onclick='_czc.push([\"_trackEvent\", \"zuixinwen\", \"pcclick\"]);' target=\"_blank\"><img alt=\"普京：中国模式优于美国，已是俄专家的普遍共识\" height=\"152\" src=\"https://i.guancha.cn/news/2024/06/06/20240606111545466.jpg\" width=\"390\"/></a>\n",
       "<h4><a href=\"/internation/2024_06_06_737215.shtml?s=zwyzxw\" onclick='_czc.push([\"_trackEvent\", \"zuixinwen\", \"pcclick\"]);' target=\"_blank\">普京：中国模式优于美国，已是俄专家的普遍共识</a></h4>\n",
       "</li>\n",
       "<li>\n",
       "<a href=\"/economy/2024_06_06_737205.shtml?s=zwyzxw\" onclick='_czc.push([\"_trackEvent\", \"zuixinwen\", \"pcclick\"]);' target=\"_blank\"><img alt=\"英伟达市值突破3万亿美元超苹果，是泡沫吗？\" height=\"152\" src=\"https://i.guancha.cn/news/2024/06/06/20240606101503848.jpg\" width=\"390\"/></a>\n",
       "<h4><a href=\"/economy/2024_06_06_737205.shtml?s=zwyzxw\" onclick='_czc.push([\"_trackEvent\", \"zuixinwen\", \"pcclick\"]);' target=\"_blank\">英伟达市值突破3万亿美元超苹果，是泡沫吗？</a></h4>\n",
       "</li>\n",
       "<li>\n",
       "<a href=\"/internation/2024_06_06_737208.shtml?s=zwyzxw\" onclick='_czc.push([\"_trackEvent\", \"zuixinwen\", \"pcclick\"]);' target=\"_blank\"><img alt=\"“西方净胡说八道，若中国汽车全被买走算哪门子‘产能过剩’？”\" height=\"152\" src=\"https://i.guancha.cn/news/2024/06/06/20240606104054931.jpg\" width=\"390\"/></a>\n",
       "<h4><a href=\"/internation/2024_06_06_737208.shtml?s=zwyzxw\" onclick='_czc.push([\"_trackEvent\", \"zuixinwen\", \"pcclick\"]);' target=\"_blank\">“西方净胡说八道，若中国汽车全被买走算哪门子‘产能过剩’？”</a></h4>\n",
       "</li>\n",
       "<li>\n",
       "<a href=\"/internation/2024_06_06_737209.shtml?s=zwyzxw\" onclick='_czc.push([\"_trackEvent\", \"zuixinwen\", \"pcclick\"]);' target=\"_blank\"><img alt=\"“数周内，俄军舰将抵达加勒比海”\" height=\"152\" src=\"https://i.guancha.cn/news/2024/06/06/20240606094346717.jpg\" width=\"390\"/></a>\n",
       "<h4><a href=\"/internation/2024_06_06_737209.shtml?s=zwyzxw\" onclick='_czc.push([\"_trackEvent\", \"zuixinwen\", \"pcclick\"]);' target=\"_blank\">“数周内，俄军舰将抵达加勒比海”</a></h4>\n",
       "</li>\n",
       "<li>\n",
       "<a href=\"/internation/2024_06_06_737194.shtml?s=zwyzxw\" onclick='_czc.push([\"_trackEvent\", \"zuixinwen\", \"pcclick\"]);' target=\"_blank\"><img alt=\"TikTok首轮对决：特朗普大胜！\" height=\"152\" src=\"https://i.guancha.cn/news/2024/06/06/20240606083540628.jpg\" width=\"390\"/></a>\n",
       "<h4><a href=\"/internation/2024_06_06_737194.shtml?s=zwyzxw\" onclick='_czc.push([\"_trackEvent\", \"zuixinwen\", \"pcclick\"]);' target=\"_blank\">TikTok首轮对决：特朗普大胜！</a></h4>\n",
       "</li>\n",
       "<li>\n",
       "<a href=\"/internation/2024_06_06_737192.shtml?s=zwyzxw\" onclick='_czc.push([\"_trackEvent\", \"zuixinwen\", \"pcclick\"]);' target=\"_blank\"><img alt=\"“拜登宣布停火协议前未征得内塔尼亚胡同意，试图向其施压”\" height=\"152\" src=\"https://i.guancha.cn/news/2024/06/06/20240606080732683.jpg\" width=\"390\"/></a>\n",
       "<h4><a href=\"/internation/2024_06_06_737192.shtml?s=zwyzxw\" onclick='_czc.push([\"_trackEvent\", \"zuixinwen\", \"pcclick\"]);' target=\"_blank\">“拜登宣布停火协议前未征得内塔尼亚胡同意，试图向其施压”</a></h4>\n",
       "</li>\n",
       "<li>\n",
       "<a href=\"/internation/2024_06_06_737171.shtml?s=zwyzxw\" onclick='_czc.push([\"_trackEvent\", \"zuixinwen\", \"pcclick\"]);' target=\"_blank\"><img alt=\"法英德就伊核问题推动通过对伊施压决议，中俄反对\" height=\"152\" src=\"https://i.guancha.cn/news/2024/06/06/20240606073918924.jpg\" width=\"390\"/></a>\n",
       "<h4><a href=\"/internation/2024_06_06_737171.shtml?s=zwyzxw\" onclick='_czc.push([\"_trackEvent\", \"zuixinwen\", \"pcclick\"]);' target=\"_blank\">法英德就伊核问题推动通过对伊施压决议，中俄反对</a></h4>\n",
       "</li>\n",
       "<li>\n",
       "<a href=\"/internation/2024_06_05_737169.shtml?s=zwyzxw\" onclick='_czc.push([\"_trackEvent\", \"zuixinwen\", \"pcclick\"]);' target=\"_blank\"><img alt=\"中国将提前实现这一目标，超过世界其他国家总和\" height=\"152\" src=\"https://i.guancha.cn/news/2024/06/05/20240605230748516.jpg\" width=\"390\"/></a>\n",
       "<h4><a href=\"/internation/2024_06_05_737169.shtml?s=zwyzxw\" onclick='_czc.push([\"_trackEvent\", \"zuixinwen\", \"pcclick\"]);' target=\"_blank\">中国将提前实现这一目标，超过世界其他国家总和</a></h4>\n",
       "</li>\n",
       "<li>\n",
       "<a href=\"/internation/2024_06_05_737148.shtml?s=zwyzxw\" onclick='_czc.push([\"_trackEvent\", \"zuixinwen\", \"pcclick\"]);' target=\"_blank\"><img alt=\"莫迪“虽胜犹败”，屡试不爽的民族主义大旗失灵了？\" height=\"152\" src=\"https://i.guancha.cn/news/2024/06/05/20240605172200419.jpg\" width=\"390\"/></a>\n",
       "<h4><a href=\"/internation/2024_06_05_737148.shtml?s=zwyzxw\" onclick='_czc.push([\"_trackEvent\", \"zuixinwen\", \"pcclick\"]);' target=\"_blank\">莫迪“虽胜犹败”，屡试不爽的民族主义大旗失灵了？</a></h4>\n",
       "</li>\n",
       "<li>\n",
       "<a href=\"/internation/2024_06_05_737149.shtml?s=zwyzxw\" onclick='_czc.push([\"_trackEvent\", \"zuixinwen\", \"pcclick\"]);' target=\"_blank\"><img alt=\"他急了：美国纳税人的钱不该被送到禁止以色列公民入境的国家\" height=\"152\" src=\"https://i.guancha.cn/news/2024/06/05/20240605180401602.jpg\" width=\"390\"/></a>\n",
       "<h4><a href=\"/internation/2024_06_05_737149.shtml?s=zwyzxw\" onclick='_czc.push([\"_trackEvent\", \"zuixinwen\", \"pcclick\"]);' target=\"_blank\">他急了：美国纳税人的钱不该被送到禁止以色列公民入境的国家</a></h4>\n",
       "</li>\n",
       "<li>\n",
       "<a href=\"/internation/2024_06_05_737161.shtml?s=zwyzxw\" onclick='_czc.push([\"_trackEvent\", \"zuixinwen\", \"pcclick\"]);' target=\"_blank\"><img alt=\"马来西亚：严查以色列集装箱，不能妥协\" height=\"152\" src=\"https://i.guancha.cn/news/2024/06/05/20240605211234541.jpg\" width=\"390\"/></a>\n",
       "<h4><a href=\"/internation/2024_06_05_737161.shtml?s=zwyzxw\" onclick='_czc.push([\"_trackEvent\", \"zuixinwen\", \"pcclick\"]);' target=\"_blank\">马来西亚：严查以色列集装箱，不能妥协</a></h4>\n",
       "</li>\n",
       "<li>\n",
       "<a href=\"/internation/2024_06_05_737142.shtml?s=zwyzxw\" onclick='_czc.push([\"_trackEvent\", \"zuixinwen\", \"pcclick\"]);' target=\"_blank\"><img alt=\"他率庞大经贸团访华：历史已经驳斥了对中国模式的一切质疑\" height=\"152\" src=\"https://i.guancha.cn/news/2024/06/05/20240605155318795.jpg\" width=\"390\"/></a>\n",
       "<h4><a href=\"/internation/2024_06_05_737142.shtml?s=zwyzxw\" onclick='_czc.push([\"_trackEvent\", \"zuixinwen\", \"pcclick\"]);' target=\"_blank\">他率庞大经贸团访华：历史已经驳斥了对中国模式的一切质疑</a></h4>\n",
       "</li>\n",
       "<li>\n",
       "<a href=\"/internation/2024_06_05_737135.shtml?s=zwyzxw\" onclick='_czc.push([\"_trackEvent\", \"zuixinwen\", \"pcclick\"]);' target=\"_blank\"><img alt=\"他看完嫦娥六号吐槽：等美国建成月球基地，黄花菜都凉了…\" height=\"152\" src=\"https://i.guancha.cn/news/2024/06/05/20240605153127233.jpg\" width=\"390\"/></a>\n",
       "<h4><a href=\"/internation/2024_06_05_737135.shtml?s=zwyzxw\" onclick='_czc.push([\"_trackEvent\", \"zuixinwen\", \"pcclick\"]);' target=\"_blank\">他看完嫦娥六号吐槽：等美国建成月球基地，黄花菜都凉了…</a></h4>\n",
       "</li>\n",
       "<li>\n",
       "<a href=\"/internation/2024_06_05_737120.shtml?s=zwyzxw\" onclick='_czc.push([\"_trackEvent\", \"zuixinwen\", \"pcclick\"]);' target=\"_blank\"><img alt=\"莫迪到底是赢了，还是“输”了？\" height=\"152\" src=\"https://i.guancha.cn/news/2024/06/05/20240605145629447.jpg\" width=\"390\"/></a>\n",
       "<h4><a href=\"/internation/2024_06_05_737120.shtml?s=zwyzxw\" onclick='_czc.push([\"_trackEvent\", \"zuixinwen\", \"pcclick\"]);' target=\"_blank\">莫迪到底是赢了，还是“输”了？</a></h4>\n",
       "</li>\n",
       "<li>\n",
       "<a href=\"/internation/2024_06_05_737128.shtml?s=zwyzxw\" onclick='_czc.push([\"_trackEvent\", \"zuixinwen\", \"pcclick\"]);' target=\"_blank\"><img alt=\"美驻乌使馆发警告：有美国国籍也没用，别来！\" height=\"152\" src=\"https://i.guancha.cn/news/2024/06/05/20240605144343310.jpg\" width=\"390\"/></a>\n",
       "<h4><a href=\"/internation/2024_06_05_737128.shtml?s=zwyzxw\" onclick='_czc.push([\"_trackEvent\", \"zuixinwen\", \"pcclick\"]);' target=\"_blank\">美驻乌使馆发警告：有美国国籍也没用，别来！</a></h4>\n",
       "</li>\n",
       "</ul>\n",
       "</div>\n",
       "</div> <div class=\"kuaixun-new\">\n",
       "<div class=\"kuaixun-new-header\" id=\"news-focus-post\">\n",
       "<span style=\"font-size:22px;color:#000\">   快讯</span>\n",
       "</div>\n",
       "<div id=\"news-focus\">\n",
       "<ul class=\"kuaixun-new-content\">\n",
       "<li><a href=\"/politics/2024_06_06_737235.shtml\" target=\"_blank\" title=\"张桂梅寄语高考学子\">张桂梅寄语高考学子</a></li>\n",
       "<li><a href=\"/politics/2024_06_06_737234.shtml\" target=\"_blank\" title=\"苟仲文、唐一军被撤销全国政协委员资格\">苟仲文、唐一军被撤销全国政协委员资格</a></li>\n",
       "<li><a href=\"/economy/2024_06_06_737233.shtml\" target=\"_blank\" title=\"盒马自有品牌出海，进驻美国超市和电商平台\">盒马自有品牌出海，进驻美国超市和电商平台</a></li>\n",
       "<li><a href=\"/economy/2024_06_06_737231.shtml\" target=\"_blank\" title=\"2024世界人工智能大会青年优秀论文TOP20发布\">2024世界人工智能大会青年优秀论文TOP20发布</a></li>\n",
       "<li><a href=\"/economy/2024_06_06_737230.shtml\" target=\"_blank\" title=\"2024世界人工智能大会SAIL奖TOP30榜单发布\">2024世界人工智能大会SAIL奖TOP30榜单发布</a></li>\n",
       "<li><a href=\"/economy/2024_06_06_737228.shtml\" target=\"_blank\" title=\"WAIC 2024倒计时30天发布会顺利召开，主视觉及主题发布\">WAIC 2024倒计时30天发布会顺利召开，主视觉及主题发布</a></li>\n",
       "<li><a href=\"/politics/2024_06_06_737226.shtml\" target=\"_blank\" title=\"马晓伟增补为全国政协委员，任教科卫体委员会副主任\">马晓伟增补为全国政协委员，任教科卫体委员会副主任</a></li>\n",
       "<li><a href=\"/politics/2024_06_06_737225.shtml\" target=\"_blank\" title=\"男子杀妻后畏罪跳楼，重庆警方呼吁：不转发血腥内容\">男子杀妻后畏罪跳楼，重庆警方呼吁：不转发血腥内容</a></li>\n",
       "</ul>\n",
       "</div>\n",
       "</div> <!--\n",
       "\t\t\t\t<div id=\"page-top-fixed\">\n",
       "    \t\t\t\t<div id=\"member-recommend\">\n",
       "    \t\t\t\t    <div class=\"member-recommend\"></div>\n",
       "    \t\t\t    </div>  \n",
       "    \t\t\t\t<div id=\"fengwen-hot-comment\">\n",
       "    \t\t\t\t    <div class=\"fengwen-hot-comment\"></div>\n",
       "    \t\t\t\t</div>\n",
       "\t\t\t\t</div>\n",
       "\t\t\t\t-->\n",
       "</li>\n",
       "</ul>\n",
       "</div>\n",
       "</div>\n",
       "<div class=\"footer\">\n",
       "<ul class=\"fix\">\n",
       "<li><a href=\"http://www.guancha.cn/about/ManuscriptDelivery.shtml\" target=\"_blank\">联系我们 </a></li>\n",
       "<li><a href=\"http://www.guancha.cn/about/about.shtml\" target=\"_blank\">关于我们 </a></li>\n",
       "<li><a href=\"http://www.guancha.cn/about/Copyright.shtml\" target=\"_blank\">版权声明 </a></li>\n",
       "<li><a href=\"http://www.guancha.cn/about/TermsOfService.shtml\" target=\"_blank\">服务条款 </a></li>\n",
       "<li><a href=\"http://www.guancha.cn/about/Advertise.shtml\" target=\"_blank\">刊登广告 </a></li>\n",
       "<li><a href=\"http://weibo.com/newoutlook\" target=\"_blank\">联系微博</a></li>\n",
       "<li><a href=\"http://www.guancha.cn/life/2012_09_05_74361.shtml\" target=\"_blank\">加入我们</a></li>\n",
       "<li><a href=\"http://www.guancha.cn/about/sitemap.shtml\" target=\"_blank\">网站地图</a></li>\n",
       "<li><a href=\"http://www.shjbzx.cn\" target=\"_blank\">举报链接</a></li>\n",
       "<li><a href=\"http://www.guancha.cn/broken-news/2017_03_28_400912_3.shtml\" target=\"_blank\">举报制度规范</a></li>\n",
       "<li><a href=\"http://www.guancha.cn/life/2018_02_11_446706.shtml\" target=\"_blank\">《网站自律管理承诺书》</a></li>\n",
       "</ul>\n",
       "<p>\n",
       "\t\tCopyright © 2014-2024 观察者 All rights reserved。<br/><a href=\"https://beian.miit.gov.cn\" target=\"_blank\">沪ICP备10213822号-2</a>  互联网新闻信息服务许可证：31220170001\n",
       "网登网视备（沪）02020000041-1号  互联网宗教信息服务许可证：沪（2022）0000197\n",
       "广播电视节目制作经营许可证：（沪）字第03952号<br/>增值电信业务经营许可证：沪B2-20210968   违法及不良信息举报电话：021-62376571<br/><br/>\n",
       "<a href=\"http://www.beian.gov.cn/portal/registerSystemInfo?recordcode=31010502000027\" target=\"_blank\"><img src=\"../images/beian-icon.png\" style=\"vertical-align:middle;\"/> 沪公网安备 31010502000027号</a>\n",
       "<a href=\"http://www.12377.cn/\" target=\"_blank\"><img src=\"../images/jubao-icon.png\" style=\"vertical-align:middle;\"/> 中国互联网举报中心</a>\n",
       "<a href=\"http://www.shjbzx.cn/\" target=\"_blank\"><img src=\"../images/wangxinban_jubao.png\" style=\"vertical-align:middle;\"/> 上海市互联网违法与不良信息举报中心</a>\n",
       "</p>\n",
       "</div>\n",
       "<script type=\"text/javascript\">\n",
       "var _bdhmProtocol = ((\"https:\" == document.location.protocol) ? \" https://\" : \" http://\");\n",
       "document.write(unescape(\"%3Cscript src='\" + _bdhmProtocol + \"hm.baidu.com/h.js%3F8ab18ec6e3ee89210917ef2c8572b30e' type='text/javascript'%3E%3C/script%3E\"));\n",
       "</script>\n",
       "<div style=\"display:none\"><script type=\"text/javascript\">var cnzz_protocol = ((\"https:\" == document.location.protocol) ? \" https://\" : \" http://\");document.write(unescape(\"%3Cspan id='cnzz_stat_icon_1254137364'%3E%3C/span%3E%3Cscript src='\" + cnzz_protocol + \"s95.cnzz.com/z_stat.php%3Fid%3D1254137364' type='text/javascript'%3E%3C/script%3E\"));</script></div><div class=\"full_nav\">\n",
       "<a class=\"gocomment\" href=\"#comment\">\n",
       "<img alt=\"评论\" src=\"/images/chat_icon.png\">\n",
       "</img></a>\n",
       "<a class=\"gotop\" href=\"javascript:;\">\n",
       "<img alt=\"返回顶部\" src=\"/images/gotop.png\">\n",
       "</img></a>\n",
       "</div>\n",
       "<div class=\"full_nav1\">\n",
       "<a class=\"sendcomment\" href=\"/Feedback/2016_11_24_381671.shtml\" target=\"_blank\">\n",
       "</a>\n",
       "<a class=\"showGuancha\" href=\"javascript:;\">\n",
       "<span></span>\n",
       "</a>\n",
       "<a class=\"changColer\" href=\"javascript:;\">\n",
       "</a>\n",
       "</div>\n",
       "<input id=\"GlobalMsgButton\" type=\"hidden\" value=\"发送私信\">\n",
       "<script src=\"../js/jquery.cookie.js\" type=\"text/javascript\"></script>\n",
       "<script charset=\"UTF-8\" src=\"../js/sensorsdata.min.js\"></script>\n",
       "<script src=\"../js/sensor.js?202112271319\"></script>\n",
       "<script src=\"../js/base.js\" type=\"text/javascript\"></script>\n",
       "<script src=\"../js/main.js?20230629\" type=\"text/javascript\"></script>\n",
       "<script src=\"../js/tongji.js?20180725\" type=\"text/javascript\"></script>\n",
       "<script src=\"//user.guancha.cn/static/js/comments-plugin-cms.js?20221207\" type=\"text/javascript\"></script>\n",
       "<script src=\"../js/pay.js?20191224\" type=\"text/javascript\"></script>\n",
       "<script>\n",
       "\tvar $prve = $('.J-prve'),\n",
       "\t\t$next = $('.J-next'),\n",
       "\t\t$changeImg = $('.J-change-img'),\n",
       "\t\t$titles = $('.J-titles'),\n",
       "\t\t$box = $('.J-img-box'),\n",
       "\t\t$boxEle = $box.find('ul li'),\n",
       "\t\t_len = $boxEle.length,\n",
       "\t\t_w = $boxEle.width(),\n",
       "\t\tt = null,\n",
       "\t\t_a = 0;\n",
       "\n",
       "\t$next.on('click',_go);\n",
       "\t$prve.on('click',function(){\n",
       "\t\t_a--;\n",
       "\t\tif(_a < 0) _a = _len-1;\n",
       "\t\t$boxEle.hide();\n",
       "\t\t$boxEle.eq(_a).show();\n",
       "\t\t$titles.find('li').hide();\n",
       "\t\t$titles.find('li').eq(_a).show();\n",
       "\t});\n",
       "\tt = setInterval('_go()',5000);\n",
       "\t$changeImg.hover(function(){\n",
       "\t\tclearInterval(t);\n",
       "\t},function(){\n",
       "\t\tt = setInterval('_go()',5000);\n",
       "\t});\n",
       "\tfunction _go(){\n",
       "\t\t_a++;\n",
       "\t\tif(_a > _len-1) _a = 0;\n",
       "\t\t$boxEle.hide();\n",
       "\t\t$boxEle.eq(_a).show();\n",
       "\t\t$titles.find('li').hide();\n",
       "\t\t$titles.find('li').eq(_a).show();\n",
       "\t}\n",
       "\t$(\"#context_endf\").html(\n",
       "\t\t\t\"请支持独立网站，转发请注明本文链接：<a href='\" + location.href + \"'>\"+ location.href + \"</a>\");\n",
       "</script>\n",
       "<script>\n",
       "$(function(){\n",
       "    $.ajax({\n",
       "        url: '//user.guancha.cn/post/collect-count.json',\n",
       "        type: 'GET',\n",
       "        dataType: 'jsonp',\n",
       "\t    cache: true,\n",
       "\t\tjsonpCallback: 'callback',\n",
       "        data: { 'codeId': _DOC_ID},\n",
       "        success : function(res) {\n",
       "            if (res.code == 0) {\n",
       "                 $('#count0').text(res.count);\n",
       "                 $('#count0_1').text(res.count);\n",
       "            }\n",
       "        }\n",
       "    });\n",
       "\n",
       "\t//返回顶部\n",
       "\t$(window).scroll(function(){\n",
       " \t\tif($(window).scrollTop()>=800){\n",
       " \t\t\t$('.full_nav').show();\t\n",
       " \t\t}else{\n",
       " \t\t\t$('.full_nav').hide();\n",
       " \t\t}\n",
       " \t});\n",
       "\n",
       "\t$('.post_ad_close').click(function(){\n",
       "\t\t$('.post_ad').hide();\n",
       "\t})\n",
       " \t\n",
       "\tfunction reFullNav(){\n",
       "\t\tvar left=($(window).width()-1200)/2+1200;\n",
       " \t\t$('.full_nav').css('left',left);\n",
       " \t\t \n",
       " \t\tvar left1=0;\n",
       "\t\tvar sellbook = $('#sellbook');\n",
       "\t\tif(sellbook.length==0)\n",
       "\t\t{\n",
       "\t\t\tleft1=($(window).width()-1200)/2-$('.full_nav1').width()-25;\n",
       "\t\t}\n",
       "\t\telse\n",
       "\t\t{\n",
       "\t\t\tleft1=($(window).width()-1200)/2-$('.full_nav1').find('img').eq(0).width()-10;\n",
       "\t\t}\n",
       "\t\t\n",
       " \t\t$('.full_nav1').css('left',left1).show();\n",
       "\t}\n",
       "\twindow.onload=function(){\n",
       " \t\treFullNav()\n",
       " \t}\n",
       "\t$(window).resize(function(){\n",
       "\t\treFullNav();\n",
       " \t});\n",
       "\n",
       "\t$('.last').click(function(){\n",
       "\t\tif(document.body.scrollTop!=0){ //非标准写法,chrome能识别\n",
       "\t\t\tscrollTop=parseInt(document.body.scrollTop);\n",
       "\t\t}else{ //标准写法\n",
       "\t\t\tscrollTop=parseInt(document.documentElement.scrollTop);\n",
       "\t\t}\n",
       "\t\tvalue = scrollTop-parseInt(document.getElementById('select_page').offsetTop);\n",
       "\t\t$.cookie('content',value);\n",
       "\t\t$.cookie('page',$('.module-page span').text())\n",
       "\t})\n",
       "\t\n",
       "    if($.cookie('content')!=null){\n",
       "\t    scroll = document.getElementById(\"page_\"+$.cookie('page')).offsetTop + parseInt($.cookie('content'));\n",
       "\t    window.scrollTo(0,scroll);\n",
       "\t    $.cookie('content',null);\n",
       "\t    $.cookie('page',null)\n",
       "    }\n",
       "\n",
       "    $(document).on('click', '.reveal-modal-bg', function(){\n",
       "    \tsetTimeout($('.showbigimg').remove(), 500);\n",
       "    })\n",
       "})\n",
       "</script>\n",
       "<script type=\"application/ld+json\">\n",
       "        {\n",
       "            \"@context\": \"https://ziyuan.baidu.com/contexts/cambrian.jsonld \",\n",
       "            \"@id\": \"https://www.guancha.cn/andelie/2024_06_06_737185.shtml \",\n",
       "            \"appid\": \"1546608532556400\",\n",
       "            \"title\": \"安德烈·科尔图诺夫：无论经济发展还是和平建设，亚洲都可以给欧洲上一课\",\n",
       "            \"images\": [\n",
       "                \"https://i.guancha.cn/news/2024/06/03/20240603160311103.jpg\"            ], \n",
       "            \"pubDate\": \"2024-06-06T08:12:41\"\n",
       "        }\n",
       "</script>\n",
       "<script type=\"text/javascript\"> \n",
       "$(function () { \n",
       "\tvar fc_comment = $('#page-top-fixed'), st; \n",
       "\t$(window).scroll(function () { \n",
       "\t\tif(fc_comment.css('position')=='static'&&fc_comment.offset().top>5500) fc_comment.attr('otop', fc_comment.offset().top); //存储原来的距离顶部的距离 \n",
       "\t\tst = Math.max(document.body.scrollTop || document.documentElement.scrollTop); \n",
       "\t\tif (st > parseInt(fc_comment.attr('otop'))) { \n",
       "\t\t\tif (fc_comment.css('position') != 'fixed') fc_comment.css({ 'position': 'fixed', top: 0,'width':'395px' }); \n",
       "\t\t} else if (fc_comment.css('position') != 'static') fc_comment.css({ 'position': 'static' }); \n",
       "\t}); \n",
       "}); \n",
       "</script>\n",
       "</input></body>\n",
       "</html>"
      ]
     },
     "execution_count": 27,
     "metadata": {},
     "output_type": "execute_result"
    }
   ],
   "source": [
    "soup"
   ]
  },
  {
   "cell_type": "code",
   "execution_count": 28,
   "id": "8860e8f7-aa02-4ad4-95b6-8085f2f5d1d8",
   "metadata": {},
   "outputs": [
    {
     "data": {
      "text/plain": [
       "'安德烈·科尔图诺夫：无论经济发展还是和平建设，亚洲都可以给欧洲上一课'"
      ]
     },
     "execution_count": 28,
     "metadata": {},
     "output_type": "execute_result"
    }
   ],
   "source": [
    "title_text = soup.find('title').get_text()\n",
    "title_text"
   ]
  },
  {
   "cell_type": "code",
   "execution_count": 30,
   "id": "d468af24-7035-418d-96e1-15751dca0918",
   "metadata": {},
   "outputs": [
    {
     "name": "stdout",
     "output_type": "stream",
     "text": [
      "CPU times: user 492 µs, sys: 0 ns, total: 492 µs\n",
      "Wall time: 495 µs\n"
     ]
    }
   ],
   "source": [
    "%%time\n",
    "\n",
    "content=soup.find('div').get_text()"
   ]
  },
  {
   "cell_type": "code",
   "execution_count": 32,
   "id": "4a487152-7edc-4beb-9261-49092e6c1395",
   "metadata": {},
   "outputs": [
    {
     "data": {
      "text/plain": [
       "'\\n\\n\\n\\n\\n\\n\\n\\n首页\\n\\n\\n风闻\\n\\n\\n财经\\n\\n\\n国际\\n\\n\\n军事\\n\\n\\n公司\\n\\n\\n科技\\n\\n\\n汽车\\n\\n\\n视频\\n\\n\\n\\n\\n\\n观察员\\n\\n\\n\\n\\n\\n\\nAPP下载\\n\\n\\n\\n扫一扫\\n下载观察者APP\\n\\n\\n \\n\\n\\n\\n\\n安德烈·科尔图诺夫：无论经济发展还是和平建设，亚洲都可以给欧洲上一课\\n\\n\\n\\n\\n安德烈·科尔图诺夫俄罗斯国际事务委员会学术委员会主任\\n\\n\\n\\n\\n\\n分享到：\\n\\n\\n\\n\\n\\n\\n\\n\\n\\n\\n\\n\\n\\n\\n2024-06-06 08:12:41\\n字号：A-\\nA\\nA+\\n来源：观察者网\\n\\n\\n最后更新: 2024-06-06 13:23:14\\n\\n\\r\\n\\t【文/观察者网专栏作者 安德烈·科尔图诺夫，翻译/马力】\\r\\n\\n\\r\\n\\t上世纪90年代初，我第一次来到了哈尔滨，这座掩映在丁香树林中的城市给我留下的印象是，这座城市正致力于消除俄罗斯残余痕迹，这是欧洲殖民主义最后一点影响的象征。\\r\\n\\n\\r\\n\\t事实上，这座始建于1898年的城市最初是由中东铁路线上的一个车站逐渐发展而来的，在其建成后的头20年里，哈尔滨具有特殊的治外法权地位，而且实际上已经脱离了首都北京的管辖。长期以来，当地中国人对这段国家主权受到损害的历史有着痛苦的回忆，而且对这段历史非常敏感，对此我们俄罗斯人必须接受并给予理解。\\r\\n\\n\\r\\n\\t然而，在过去的30多年里，人们的态度似乎发生了巨大的改变。如今，这座城市的俄罗斯历史遗产获得了高度重视并受到了精心保护。我在30年前看到的圣索菲亚大教堂几乎完全处于被遗弃和荒废的状态，而如今已完全修复，圣索菲亚大教堂甚至已经成为这座城市的标志性建筑之一。值得称赞的是，哈尔滨市政府甚至拆掉了教堂周围的建筑，重现了大教堂广场当初的盛况。\\r\\n\\n\\n\\n\\n\\n哈尔滨索菲亚大教堂 图自IC photo\\n\\n\\r\\n\\t还有哈尔滨火车站，1909年10月，朝鲜人安重根在此刺杀了日本首相伊藤博文，如今新落成的哈尔滨火车站新站房汲取了1899年沙俄时代老站房的一些元素，展现出了宏伟的欧洲新艺术风格。\\r\\n\\n\\r\\n\\t看到这些改变，我可以说：哈尔滨完全有理由把自己定位为中国与北方邻国进行经济、文化、教育和人文交流的国家级枢纽城市。\\r\\n\\n\\n在亚洲纪念第二次世界大战\\n\\n\\r\\n\\t而对于俄罗斯人来说，哈尔滨也在历史上牵连着悠久而复杂的中俄关系。\\r\\n\\n\\r\\n\\t在第二次世界大战期间，约一万两千名苏联官兵为将中国东北从日本占领下解放出来而牺牲，前些日子俄罗斯总统普京来哈尔滨时，还向纪念'"
      ]
     },
     "execution_count": 32,
     "metadata": {},
     "output_type": "execute_result"
    }
   ],
   "source": [
    "content[:1000]"
   ]
  },
  {
   "cell_type": "code",
   "execution_count": 33,
   "id": "6d0dfd84-3b53-46b4-8e0f-4bcd62e4a899",
   "metadata": {},
   "outputs": [
    {
     "name": "stdout",
     "output_type": "stream",
     "text": [
      "这些新闻摘要讲述了多方面的事件：\n",
      "\n",
      "1. 张桂梅寄语高考学子，关注教育领域。\n",
      "\n",
      "2. 有关苟仲文、唐一军被撤销全国政协委员资格的信息。\n",
      "\n",
      "3. 盒马自有品牌出海的消息，反映了零售行业的全球化趋势。\n",
      "\n",
      "4. 世界人工智能大会相关活动的发布，体现了科技领域的重大进展。\n",
      "\n",
      "5. 其他涉及法律、安全和警示方面的信息。"
     ]
    }
   ],
   "source": [
    "stream = client.chat.completions.create(\n",
    "  model=\"qwen:14b\",\n",
    "  messages=[\n",
    "    {\"role\": \"system\", \"content\": \"你是一个概括内容和提炼主要内容的助手。\"},\n",
    "    {\"role\": \"user\", \"content\": f\"文章内容：{content}\\n\\n主要讲了啥，简要说明一下。\"}\n",
    "  ],\n",
    "  stream=True,\n",
    ")\n",
    "\n",
    "for chunk in stream:\n",
    "    print(chunk.choices[0].delta.content or \"\", end=\"\")"
   ]
  },
  {
   "cell_type": "markdown",
   "id": "248c92d7-aac3-4a16-ac24-1ee59738fc4a",
   "metadata": {},
   "source": [
    "## 直接用文本测试 LLM"
   ]
  },
  {
   "cell_type": "code",
   "execution_count": 104,
   "id": "6c6a4fbc-b17f-4600-91e2-c20395c5ff50",
   "metadata": {},
   "outputs": [
    {
     "name": "stdout",
     "output_type": "stream",
     "text": [
      "CPU times: user 938 µs, sys: 0 ns, total: 938 µs\n",
      "Wall time: 799 µs\n"
     ]
    }
   ],
   "source": [
    "%%time\n",
    "\n",
    "file_path = './content.txt'\n",
    "\n",
    "# Read the content of the file and store it in a string variable\n",
    "with open(file_path, 'r', encoding='utf-8') as file:\n",
    "    content = file.read()"
   ]
  },
  {
   "cell_type": "code",
   "execution_count": 105,
   "id": "0d61d21c-cdce-4ada-af4a-4ad396f6a95e",
   "metadata": {},
   "outputs": [
    {
     "name": "stdout",
     "output_type": "stream",
     "text": [
      "要点列表：\n",
      "\n",
      "1. 欧洲的战略困境：冷战结束后的不稳定，军备竞赛、区域合作和多边机构的作用。\n",
      "\n",
      "2. 亚洲的机会与挑战：地区战略关系的复杂性，大国竞争对安全的影响，以及域外大国的作用。\n",
      "\n",
      "3. 全球安全倡议：中国提出的应对全球安全挑战的新方案，旨在推动构建人类命运共同体。\n",
      "\n",
      "4. 结论：亚洲有结束冷战并向前迈进的战略机会。现在是通过合作迈向和平与繁荣的关键时期。CPU times: user 68 ms, sys: 5.95 ms, total: 73.9 ms\n",
      "Wall time: 8.02 s\n"
     ]
    }
   ],
   "source": [
    "%%time\n",
    "\n",
    "stream = client.chat.completions.create(\n",
    "  model=\"qwen:14b\",\n",
    "  max_tokens=5000,\n",
    "  messages=[\n",
    "    {\"role\": \"system\", \"content\": \"你是一个概括内容和提炼主要内容的助手。\"},\n",
    "    {\"role\": \"user\", \"content\": f\"文章内容：{content}\\n\\n主要讲了啥，详细归纳一下，形成要点列表。\"}\n",
    "  ],\n",
    "  stream=True,\n",
    ")\n",
    "\n",
    "for chunk in stream:\n",
    "    print(chunk.choices[0].delta.content or \"\", end=\"\")"
   ]
  },
  {
   "cell_type": "code",
   "execution_count": 106,
   "id": "bec104c6-9f5a-465a-b12c-e0cc08bf87cd",
   "metadata": {},
   "outputs": [
    {
     "name": "stdout",
     "output_type": "stream",
     "text": [
      "这篇文章讲述了欧洲在冷战后未能成功建立一个强大且全面的安全体系，而亚洲的情况更复杂，战略动荡持续，大国关系紧张。文章强调了保持大国间沟通的重要性，并指出俄中战略合作伙伴关系对亚洲和全球安全稳定起着基石作用。最后文章呼吁亚洲国家领导人以务实、负责任的方式共同努力，为建设“人类命运共同体”做出贡献。CPU times: user 51.4 ms, sys: 8.93 ms, total: 60.3 ms\n",
      "Wall time: 7.19 s\n"
     ]
    }
   ],
   "source": [
    "%%time\n",
    "\n",
    "stream = client.chat.completions.create(\n",
    "  model=\"qwen:14b\",\n",
    "  max_tokens=5000,\n",
    "  messages=[\n",
    "    {\"role\": \"system\", \"content\": \"你是一个概括内容和提炼主要内容的助手。\"},\n",
    "    {\"role\": \"user\", \"content\": f\"文章内容：{content}\\n\\n主要讲了啥，提炼要点并做适当的解释。要求基于原文意思解释。\"}\n",
    "  ],\n",
    "  stream=True,\n",
    ")\n",
    "\n",
    "for chunk in stream:\n",
    "    print(chunk.choices[0].delta.content or \"\", end=\"\")"
   ]
  },
  {
   "cell_type": "code",
   "execution_count": 92,
   "id": "3cf07f1e-8979-4687-aca3-4118466fef96",
   "metadata": {},
   "outputs": [
    {
     "data": {
      "text/plain": [
       "6290"
      ]
     },
     "execution_count": 92,
     "metadata": {},
     "output_type": "execute_result"
    }
   ],
   "source": [
    "len(content)"
   ]
  },
  {
   "cell_type": "code",
   "execution_count": 94,
   "id": "a989b9c9-a749-414d-8e2f-c9f95affcf72",
   "metadata": {},
   "outputs": [
    {
     "name": "stdout",
     "output_type": "stream",
     "text": [
      "CPU times: user 1.98 ms, sys: 0 ns, total: 1.98 ms\n",
      "Wall time: 1.54 ms\n"
     ]
    }
   ],
   "source": [
    "%%time\n",
    "\n",
    "file_path = './books/围城.txt'\n",
    "\n",
    "# Read the content of the file and store it in a string variable\n",
    "with open(file_path, 'r', encoding='utf-8') as file:\n",
    "    content = file.read()"
   ]
  },
  {
   "cell_type": "code",
   "execution_count": 95,
   "id": "352adcc7-92af-44ea-8585-d78d797e0ef1",
   "metadata": {},
   "outputs": [
    {
     "data": {
      "text/plain": [
       "218562"
      ]
     },
     "execution_count": 95,
     "metadata": {},
     "output_type": "execute_result"
    }
   ],
   "source": [
    "len(content)"
   ]
  },
  {
   "cell_type": "code",
   "execution_count": 103,
   "id": "1ffaea34-d1ec-47ab-a516-de13a19bb976",
   "metadata": {},
   "outputs": [
    {
     "name": "stdout",
     "output_type": "stream",
     "text": [
      "《围城》是钱钟书先生的代表作，是一部探讨婚姻与人生的长篇小说。\n",
      "\n",
      "故事围绕主人公方鸿渐的生活展开。方鸿渐在国外留学期间，感情波折不断，最终娶了并不爱的女子孙柔嘉。婚后生活并不如意，两人的矛盾逐渐升级，导致家庭的不和谐。\n",
      "\n",
      "《围城》通过主人公的生活经历和内心世界，揭示了婚姻、人际关系以及人生选择中的困境与无奈。这部作品语言幽默犀利，情节引人入胜，被誉为中国现代文学的经典之作。CPU times: user 78.3 ms, sys: 7.77 ms, total: 86 ms\n",
      "Wall time: 8.28 s\n"
     ]
    }
   ],
   "source": [
    "%%time\n",
    "\n",
    "stream = client.chat.completions.create(\n",
    "  model=\"qwen:14b\",\n",
    "  max_tokens=5000,\n",
    "  messages=[\n",
    "    {\"role\": \"system\", \"content\": \"你是一个概括内容和提炼主要内容的助手。\"},\n",
    "    {\"role\": \"user\", \"content\": f\"文章内容：{content}\\n\\n主要讲了啥，提炼要点并做适当的解释。要求基于原文意思解释。\"}\n",
    "  ],\n",
    "  stream=True,\n",
    ")\n",
    "\n",
    "for chunk in stream:\n",
    "    print(chunk.choices[0].delta.content or \"\", end=\"\")"
   ]
  },
  {
   "cell_type": "code",
   "execution_count": 102,
   "id": "a3ac1eb7-6d1d-431c-a0d1-a73aa4118646",
   "metadata": {},
   "outputs": [
    {
     "name": "stdout",
     "output_type": "stream",
     "text": [
      "方鸿渐的老婆是孙柔嘉。CPU times: user 11.5 ms, sys: 4.29 ms, total: 15.8 ms\n",
      "Wall time: 7.06 s\n"
     ]
    }
   ],
   "source": [
    "%%time\n",
    "\n",
    "stream = client.chat.completions.create(\n",
    "  model=\"qwen:14b\",\n",
    "  max_tokens=5000,\n",
    "  messages=[\n",
    "    {\"role\": \"system\", \"content\": \"你是一个概括内容和提炼主要内容的助手。要根据给出的文章内容回答。\"},\n",
    "    {\"role\": \"user\", \"content\": f\"文章内容：{content}\\n\\n方鸿渐的老婆是谁\"}\n",
    "  ],\n",
    "  stream=True,\n",
    ")\n",
    "\n",
    "for chunk in stream:\n",
    "    print(chunk.choices[0].delta.content or \"\", end=\"\")"
   ]
  },
  {
   "cell_type": "code",
   "execution_count": 98,
   "id": "0f85ac21-04d6-47ab-be4d-6f4a65d721f2",
   "metadata": {},
   "outputs": [
    {
     "name": "stdout",
     "output_type": "stream",
     "text": [
      "方鸿渐的老婆是苏小姐，也就是后来改名为孙柔嘉的女性。在小说《围城》中，他们的婚姻生活也是故事的重要内容之一。CPU times: user 23.2 ms, sys: 5.72 ms, total: 28.9 ms\n",
      "Wall time: 2.09 s\n"
     ]
    }
   ],
   "source": [
    "%%time\n",
    "\n",
    "stream = client.chat.completions.create(\n",
    "  model=\"qwen:14b\",\n",
    "  messages=[\n",
    "    {\"role\": \"system\", \"content\": \"你是一个回答各种问题的助手\"},\n",
    "    {\"role\": \"user\", \"content\": \"方鸿渐的老婆是谁\"}\n",
    "  ],\n",
    "  stream=True,\n",
    ")\n",
    "\n",
    "for chunk in stream:\n",
    "    print(chunk.choices[0].delta.content or \"\", end=\"\")"
   ]
  },
  {
   "cell_type": "markdown",
   "id": "181445d1-dd75-4ed3-9c98-1f590340c640",
   "metadata": {},
   "source": [
    "## 使用嵌入是否能直接从网页开始"
   ]
  },
  {
   "cell_type": "markdown",
   "id": "2b03347e-572f-4fde-a90c-c4696c67de2f",
   "metadata": {},
   "source": [
    "直接加载文本做嵌入，效果是不行的。"
   ]
  },
  {
   "cell_type": "code",
   "execution_count": 40,
   "id": "92c33e69-2cce-4632-aaa3-67948103f432",
   "metadata": {},
   "outputs": [
    {
     "name": "stdout",
     "output_type": "stream",
     "text": [
      "CPU times: user 5.11 ms, sys: 0 ns, total: 5.11 ms\n",
      "Wall time: 7.98 ms\n"
     ]
    }
   ],
   "source": [
    "%%time\n",
    "\n",
    "# 导入需要的包\n",
    "\n",
    "from llama_index.core import Settings\n",
    "from llama_index.embeddings.ollama import OllamaEmbedding\n",
    "from llama_index.core import (\n",
    "    SimpleDirectoryReader,\n",
    "    load_index_from_storage,\n",
    "    VectorStoreIndex,\n",
    "    StorageContext,\n",
    ")\n",
    "from llama_index.vector_stores.faiss import FaissVectorStore"
   ]
  },
  {
   "cell_type": "code",
   "execution_count": 41,
   "id": "c582d9fe-0874-4cd9-89f9-a07fc03a0605",
   "metadata": {},
   "outputs": [
    {
     "name": "stdout",
     "output_type": "stream",
     "text": [
      "CPU times: user 446 ms, sys: 45.5 ms, total: 491 ms\n",
      "Wall time: 625 ms\n"
     ]
    }
   ],
   "source": [
    "%%time\n",
    "\n",
    "# 初始化全局 embedding 模型\n",
    "from llama_index.embeddings.ollama import OllamaEmbedding\n",
    "\n",
    "ollama_embedding = OllamaEmbedding(\n",
    "    model_name=\"dztech/bge-large-zh:v1.5\",\n",
    "    # model_name=\"bge-m3:latest\",\n",
    "    base_url=\"http://192.168.0.72:11435\",\n",
    "    ollama_additional_kwargs={\"mirostat\": 0}, # -mirostat N 使用 Mirostat 采样。\n",
    ")\n",
    "\n",
    "Settings.embed_model = ollama_embedding"
   ]
  },
  {
   "cell_type": "code",
   "execution_count": 42,
   "id": "b17f1b3f-bff1-490d-9a6d-98cbedc525c7",
   "metadata": {},
   "outputs": [
    {
     "name": "stdout",
     "output_type": "stream",
     "text": [
      "CPU times: user 75.2 ms, sys: 1.9 ms, total: 77.1 ms\n",
      "Wall time: 180 ms\n"
     ]
    }
   ],
   "source": [
    "%%time\n",
    "\n",
    "url=\"https://www.guancha.cn/andelie/2024_06_06_737185_s.shtml\"\n",
    "documents=get_documents(url)"
   ]
  },
  {
   "cell_type": "code",
   "execution_count": 43,
   "id": "762ae97a-86e8-4552-a828-348e38f82735",
   "metadata": {},
   "outputs": [
    {
     "name": "stdout",
     "output_type": "stream",
     "text": [
      "CPU times: user 903 ms, sys: 71.2 ms, total: 974 ms\n",
      "Wall time: 17.8 s\n"
     ]
    }
   ],
   "source": [
    "%%time\n",
    "\n",
    "# 生成faiss索引\n",
    "\n",
    "import faiss\n",
    "\n",
    "Settings.chunk_size=128\n",
    "Settings.chunk_overlap=20\n",
    "\n",
    "# dimensions of bge-large-zh\n",
    "d = 1024\n",
    "faiss_index = faiss.IndexFlatL2(d)\n",
    "\n",
    "vector_store = FaissVectorStore(faiss_index=faiss_index)\n",
    "storage_context = StorageContext.from_defaults(vector_store=vector_store)\n",
    "index = VectorStoreIndex.from_documents(\n",
    "    documents, storage_context=storage_context\n",
    ")"
   ]
  },
  {
   "cell_type": "code",
   "execution_count": 44,
   "id": "65e67faa-9525-46be-a62e-7de6cab6256f",
   "metadata": {},
   "outputs": [
    {
     "name": "stdout",
     "output_type": "stream",
     "text": [
      "由于新的上下文没有提供具体的文章内容，我不能直接概括文章主题。根据之前的回答策略，我会重复原来的答案。\n",
      "\n",
      "\"对不起，由于提供的链接格式不正确，我无法访问并分析文章的内容。请确保链接的正确性，并提供详细的链接或问题描述，我将尽力帮助您概括文章的主题。\"\n",
      "\n",
      "请注意，如果新的上下文中有文章的具体内容，你应该重新提供问题，以便我能给出更准确的答案。\n",
      "CPU times: user 312 ms, sys: 35.4 ms, total: 347 ms\n",
      "Wall time: 35.1 s\n"
     ]
    }
   ],
   "source": [
    "%%time\n",
    "\n",
    "# set Logging to DEBUG for more detailed outputs\n",
    "# logging.basicConfig(stream=sys.stdout, level=logging.DEBUG)\n",
    "\n",
    "query_engine = index.as_query_engine(\n",
    "    streaming=True,\n",
    "    similarity_top_k=100\n",
    ")\n",
    "\n",
    "streaming_response = query_engine.query(\"文章主要讲了啥\")\n",
    "streaming_response.print_response_stream()\n",
    "print()"
   ]
  },
  {
   "cell_type": "code",
   "execution_count": 51,
   "id": "63148c7a-4b6b-4330-9a2b-c90dc661f376",
   "metadata": {},
   "outputs": [
    {
     "data": {
      "text/plain": [
       "'[![](../images/mian-logo.png)](/)\\n\\n[首页](/?s=dhshouye)\\n\\n[风闻](http://user.guancha.cn/?s=dhfengwen)\\n\\n[财经](/economy?s=dhcaijing \"财经\")\\n\\n[国际](/internation?s=dhguoji \"国际\")\\n\\n[军事](/military-affairs?s=dhjunshi \"军事\")\\n\\n[公司](/chanjing?s=dhchanjing \"公司\")\\n\\n[科技](/gongye·keji?s=dhgongye·keji \"科技\")\\n\\n[汽车](/qiche?s=dhqiche \"汽车\")\\n\\n[视频](/video/gczvideo/list.html \"视频\")\\n\\n__\\n\\n[![](https://i.guancha.cn/vip-diamond.gif)观察员](javascript:void\\\\(0\\\\))\\n\\n__ APP下载\\n\\n![](https://i.guancha.cn/app-erweima.png?20190610)\\n\\n扫一扫\\n\\n下载观察者APP\\n\\n  * ### 安德烈·科尔图诺夫：无论经济发展还是和平建设，亚洲都可以给欧洲上一课\\n\\n    * [![安德烈·科尔图诺夫](https://i.guancha.cn/authors/andelie/20220524105234640.png)](../andelie)\\n\\n[安德烈·科尔图诺夫](../andelie)俄罗斯国际事务委员会学术委员会主任\\n\\n分享到：\\n\\n____\\n\\n2024-06-06 08:12:41 字号：[A-](javascript:void\\\\(0\\\\);) [A](javascript:void\\\\(0\\\\);)\\n[A+](javascript:void\\\\(0\\\\);) 来源：观察者网\\n\\n最后更新: 2024-06-06 13:23:14\\n\\n【文/观察者网专栏作者 安德烈·科尔图诺夫，翻译/马力】\\n\\n上世纪90年代初，我第一次来到了哈尔滨，这座掩映在丁香树林中的城市给我留下的印象是，这座城市正致力于消除俄罗斯残余痕迹，这是欧洲殖民主义最后一点影响的象征。\\n\\n事实上，这座始建于1898年的城市最初是由中东铁路线上的一个车站逐渐发展而来的，在其建成后的头20年里，哈尔滨'"
      ]
     },
     "execution_count": 51,
     "metadata": {},
     "output_type": "execute_result"
    }
   ],
   "source": [
    "documents[0].text[:1000]"
   ]
  },
  {
   "cell_type": "markdown",
   "id": "17002299-a4f2-445d-b9ee-40960b1619d6",
   "metadata": {},
   "source": [
    "## 尝试用 MainContentExtractorReader 生成 markdown 格式"
   ]
  },
  {
   "cell_type": "code",
   "execution_count": 56,
   "id": "88e87f71-d02c-4f51-b52e-cf9ef1bdbb21",
   "metadata": {},
   "outputs": [
    {
     "name": "stdout",
     "output_type": "stream",
     "text": [
      "CPU times: user 11.3 ms, sys: 7.44 ms, total: 18.8 ms\n",
      "Wall time: 3.21 s\n"
     ]
    }
   ],
   "source": [
    "%%time\n",
    "%%capture\n",
    "\n",
    "%pip install MainContentExtractor\n",
    "\n",
    "from llama_index.readers.web import MainContentExtractorReader\n",
    "\n",
    "def get_markdown_document(url):\n",
    "    return MainContentExtractorReader().load_data(\n",
    "        [url]\n",
    "    )"
   ]
  },
  {
   "cell_type": "code",
   "execution_count": 66,
   "id": "091358dd-4a5f-4233-88f0-ea8fb605b250",
   "metadata": {},
   "outputs": [
    {
     "name": "stdout",
     "output_type": "stream",
     "text": [
      "CPU times: user 57.9 ms, sys: 3.04 ms, total: 61 ms\n",
      "Wall time: 132 ms\n"
     ]
    },
    {
     "data": {
      "text/plain": [
       "'仅500余股收涨，149家跌停！A股新风向：市值越大的越“香”？\\n\\n'"
      ]
     },
     "execution_count": 66,
     "metadata": {},
     "output_type": "execute_result"
    }
   ],
   "source": [
    "%%time\n",
    "\n",
    "url=\"https://www.guancha.cn/andelie/2024_06_06_737185_s.shtml\" # parse error\n",
    "url=\"https://www.163.com/dy/article/J40MKVM60514R9P4.html\" # http 403\n",
    "url=\"http://military.china.com.cn/2024-06/06/content_117238318.shtml\" # 可以解析\n",
    "url=\"https://baijiahao.baidu.com/s?id=1801081972774741387\" # 乱码\n",
    "url=\"https://new.qq.com/rain/a/20240606A067CK00\" # 只有标题\n",
    "documents=get_markdown_document(url)\n",
    "\n",
    "documents[0].text"
   ]
  },
  {
   "cell_type": "markdown",
   "id": "f1da614a-bd4c-4a5e-97f4-adfb088f5a33",
   "metadata": {},
   "source": [
    "## 使用 GNE 抽取正文内容"
   ]
  },
  {
   "cell_type": "markdown",
   "id": "94cd6ac9-a6e4-4d17-8114-d733ba152900",
   "metadata": {},
   "source": [
    "可能比较适合新闻网站。\n",
    "\n",
    "[GeneralNewsExtractor/GeneralNewsExtractor](https://github.com/GeneralNewsExtractor/GeneralNewsExtractor)"
   ]
  },
  {
   "cell_type": "code",
   "execution_count": 72,
   "id": "c913d13d-90f6-4baa-9389-b6d3a4e100c2",
   "metadata": {},
   "outputs": [
    {
     "name": "stdout",
     "output_type": "stream",
     "text": [
      "CPU times: user 9 ms, sys: 8.7 ms, total: 17.7 ms\n",
      "Wall time: 2.96 s\n"
     ]
    }
   ],
   "source": [
    "%%time\n",
    "%%capture\n",
    "\n",
    "%pip install gne"
   ]
  },
  {
   "cell_type": "code",
   "execution_count": 78,
   "id": "6b4f4878-7f46-4f96-918b-61ba504d7afb",
   "metadata": {
    "scrolled": true
   },
   "outputs": [
    {
     "name": "stdout",
     "output_type": "stream",
     "text": [
      "CPU times: user 110 ms, sys: 0 ns, total: 110 ms\n",
      "Wall time: 180 ms\n"
     ]
    },
    {
     "data": {
      "text/plain": [
       "{'title': '安德烈·科尔图诺夫：为什么二战后亚洲不像欧洲那样热衷建立多边联盟？',\n",
       " 'author': '岳冠东',\n",
       " 'publish_time': '2024-06-06 08:12:41',\n",
       " 'content': '【文/观察者网专栏作者 安德烈·科尔图诺夫，翻译/马力】\\n上世纪90年代初，我第一次来到了哈尔滨，这座掩映在丁香树林中的城市给我留下的印象是，这座城市正致力于消除俄罗斯残余痕迹，这是欧洲殖民主义最后一点影响的象征。\\n事实上，这座始建于1898年的城市最初是由中东铁路线上的一个车站逐渐发展而来的，在其建成后的头20年里，哈尔滨具有特殊的治外法权地位，而且实际上已经脱离了首都北京的管辖。长期以来，当地中国人对这段国家主权受到损害的历史有着痛苦的回忆，而且对这段历史非常敏感，对此我们俄罗斯人必须接受并给予理解。\\n然而，在过去的30多年里，人们的态度似乎发生了巨大的改变。如今，这座城市的俄罗斯历史遗产获得了高度重视并受到了精心保护。我在30年前看到的圣索菲亚大教堂几乎完全处于被遗弃和荒废的状态，而如今已完全修复，圣索菲亚大教堂甚至已经成为这座城市的标志性建筑之一。值得称赞的是，哈尔滨市政府甚至拆掉了教堂周围的建筑，重现了大教堂广场当初的盛况。\\n哈尔滨索菲亚大教堂 图自IC photo\\n还有哈尔滨火车站，1909年10月，朝鲜人安重根在此刺杀了日本首相伊藤博文，如今新落成的哈尔滨火车站新站房汲取了1899年沙俄时代老站房的一些元素，展现出了宏伟的欧洲新艺术风格。\\n看到这些改变，我可以说：哈尔滨完全有理由把自己定位为中国与北方邻国进行经济、文化、教育和人文交流的国家级枢纽城市。\\n在亚洲纪念第二次世界大战\\n而对于俄罗斯人来说，哈尔滨也在历史上牵连着悠久而复杂的中俄关系。\\n在第二次世界大战期间，约一万两千名苏联官兵为将中国东北从日本占领下解放出来而牺牲，前些日子俄罗斯总统普京来哈尔滨时，还向纪念这些苏联官兵的纪念碑献花。这位俄罗斯领导人特别注意到了中国为纪念两国共同的军事荣耀和兄弟情谊所表现出来的重视态度。这种对历史妥帖而及时的纪念，不仅适用于中国人，同样也适用于俄罗斯人。\\n不可否认，与许多其他国家一样，俄罗斯人通常认为第二次世界大战主要是一场“发生在欧洲的战争”。如果你问一个普通俄罗斯人，20世纪最致命和最具破坏性的冲突是何时开始的，他很可能会回答说，应该是希特勒进攻苏联的1941年6月22日。知识更渊博或受教育程度更高的俄罗斯人可能会回答，第二次世界大战实际上是在1939年9月1日纳粹德国入侵波兰时爆发的。当然，如果从亚洲的角度来看，第二次世界大战的时间线就大不相同了：日本于1937年7月7日发动了大规模侵华战争，而日本对因长期内战而四分五裂的中国发动的首次进攻，甚至可以追溯到1931年。\\n同样，我们通常强调战争造成的死亡规模，特别是在欧洲的死亡规模。然而，就总体数字而言，中国（多达2000万人死亡）仅次于苏联（多达2700万人死亡），远远高于所有其他欧洲国家，包括德国（840万人死亡）、波兰（600万人死亡）以及日本（300万人死亡）。\\n值得注意的是，苏联和中国之所以有如此高的死亡数字，主要是因为侵略者在我们两国表现出前所未有的残忍，造成了大量的平民死亡。日本人在中国犯下了大规模战争罪行，其残暴程度丝毫不亚于纳粹在苏联犯下的罪行。我们欧洲人对奥斯威辛集中营或布痕瓦尔德集中营知道得很多，但对南京大屠杀或日本皇军航空队对中国平民实施的化学战和生物战却知之甚少。其中，人们对臭名昭著的日本“731部队”的了解就更少，这支驻扎在哈尔滨郊区的日本部队在二战期间曾残忍地杀害了数以千计的平民，其中还有约30%是居住在哈尔滨的俄罗斯人。\\n位于哈尔滨市平房区\\n的侵华日军第七三一（731）部队罪证陈列馆 图自IC photo\\n然而归根结底，问题的重点并不在于俄罗斯或其他国家的公众对二战所产生的误解。更重要的是，人们应该意识到，二战在欧洲和亚洲是以不同的方式结束的。在欧洲，德国不仅被迫投降，而且还经历了非常彻底甚至是痛苦的去纳粹化过程。此外，在二战结束后，德国还不得不经历了持续40多年的国家分裂。\\n但在亚洲，日本并没有受到这种待遇——日本没有被分裂，战后日本政府人员的换血与德国相比，可以说实施得更加不彻底而且是有选择性的。尽管日本政府高级官员曾就战争罪行作出了多次道歉，但日本对二战的整体态度仍然比德国更具争议性。至少仍然有一些日本人似乎在非常强烈地主张，他们的国家在这场战争中与其说是侵略者，不如说是受害者。\\n然而，当日本政府高级官员参拜祭祀所有日本战死者（包括已被定罪的战争罪犯）的靖国神社时，人们不仅感到担忧：如今日本人对二战中自己国家所犯下的战争罪行的悔恨，到底有多深呢？\\n岸田文雄政府在2022年底很容易地推动了日本国防政策的重大转变，目标是到2027年让日本成为全球第三大军费开支国，这显然表明日本社会现在已经准备好要改变该国二战后所遵循一系列基本的外交政策原则了。\\n亚洲的冷战\\n可以说，发生在亚洲的冷战要比发生在欧洲的更加激烈、更加残酷。是的，在欧洲，苏联对匈牙利（1956）和捷克斯洛伐克（1968）实施了军事干预，但就冲突规模、持续时间和伤亡数量而言，这两场战争都无法与朝鲜战争（1950-1953）或越南战争（1965-1974）相提并论。\\n在这两场发生在亚洲的冲突中，都有数百万人死亡，其中大部分是平民，流离失所的人更是不计其数。国家在冷战中遭到分裂的三个案例（中国、朝鲜和越南）中，只有越南实现了国家统一。中国恢复了对香港行使主权，但仍在努力解决台湾问题；而朝鲜半岛的统一看起来仍是一个遥远的梦。\\n1961至1975年，美国对越南发动侵略战争，\\n是冷战背景下发生的一场大规模局部战争，最终以美国的失败告终。图自网络\\n欧洲冷战与亚洲冷战的另一个不同之处在于，欧洲的冷战是“经典”的两极格局——美国和苏联分别领导着各自等级森严、纪律严明、结构完整的军事联盟彼此对立。当然，这两个阵营中都有持不同政见者甚至是背叛者。然而，这些都是极个别的例外，不是普遍情况。\\n在亚洲，从20世纪60年代初开始，平衡变得更加复杂，它不仅受到美苏对抗的影响，而且还受到苏联、中国和印度等主要大陆行为体之间非常复杂的关系的影响。这些国家之间曾发生过几次直接的军事冲突，如1962年的中印战争和1969年的苏中边境冲突。\\n亚洲政治和军事平衡的复杂性，也为主要行为体与较小的自治权力中心之间的冲突打开了大门，这些冲突并不符合标准的“欧洲”两极模式——印巴之间在1947年、1965年、1971年和1999年爆发的战争，1979年的对越自卫反击战，以及1979年-1989年期间苏联对阿富汗的军事介入（在此期间，中国与美国站在一起，支持圣战抵抗运动）。除此之外，亚洲还发生了许多血腥的内战，甚至还发生了20世纪下半叶欧洲从未发生过的大规模屠杀平民事件——1965年-1966年在印度尼西亚发生的大屠杀和1976年-1978年在柬埔寨发生的种族灭绝事件，就足以证明这一点。\\n严格来说，冷战在亚洲至今仍未结束，这种情况正如1989年身陷冷战的欧洲。造成欧亚这一差异的主要原因是显而易见的——亚洲的社会主义国家（中华人民共和国、朝鲜民主主义人民共和国和越南社会主义共和国）从未像包括苏联在内的中东欧社会主义国家那样崩溃、内爆或拥抱西方资本主义。\\n此外，在亚洲，人们历来不愿意签署复杂的、具有法律约束力的、带有强制性核查机制的协议，也不愿意加入对国家主权有严重限制的多边联盟。\\n这就是为什么尽管东南亚经济一体化的启动时间并没有比西欧晚很多（欧洲经济共同体可追溯到1957年，而东南亚国家联盟则于1967年宣布成立），但欧洲到1992年就已经发展成为一个强大的、制度化程度较高的经济和政治联盟（即欧盟），而东盟至今仍然是一个相当松散的、制度化程度相对较低的主权国家共同体。\\n正因为这一点，尽管不断努力，但美国仍未能在亚洲建立一个像位于欧洲的北约那样强大的多边联盟。在亚洲南部，为了对抗亚洲的共产主义，华盛顿于1954年成立了东南亚条约组织（SEATO）；该倡议从一开始就遇到了许多问题，并在美国战败于越南后分崩离析。在亚洲北部，由于首尔和东京之间错综复杂的关系，美国试图将日本和韩国团结在一个共同的安全保护伞下的所有努力都失败了。\\n部分东约成员国的领袖和韩国总统朴正熙、南越领导人阮文绍和南越总理阮高祺于1966年10月24日在菲律宾马尼拉国会大厦前合照。当时东约在马尼拉举行会议，会议主持人为菲律宾总统马科斯。\\n毫不意外，在亚洲，没有人试图签署类似1990年《新欧洲巴黎宪章》的任何冷战最终解决文件（《新欧洲巴黎宪章》又称《巴黎宪章》，该文件获得签署的基础是自由民主的价值观以及在欧洲未来将选择怎样的道路问题上各方所达成的共识）。同样，在亚洲，从来没有人认真地试图建立一个像欧洲合作与安全组织（OSCE）那样的包容性的多边机构。亚洲各国也没有致力于进行类似1990年签署的《欧洲常规武装力量条约》（CFE）或1999年签署的该条约的修订版那样的常规军控谈判，也没有致力于进行类似于1987年缔结的《美苏中程核力量条约》（INF）以及后来的《美俄中程核力量条约》（INF）那样的核军备控制。在亚洲，即便是万众瞩目的多边倡议，如2003年-2007年期间进行的关于朝鲜核问题的六方会谈，也只取得了非常有限的成果，而且会谈很快就终止了。\\n在泛欧合作的鼎盛时期，许多政治家、学者和记者试图比较欧洲和亚洲在20世纪下半叶的历史时，通常会将前者的表现置于后者之上，认为亚洲在二战后出现了“制度赤字”，即便在1989年冷战宣布结束后，亚洲国家也未能消除这一赤字。\\n然而，在今天看来，如果说欧洲最终在处理其冷战历史问题方面比亚洲更成功，那么这种说法即便不是荒谬的，也是不恰当的。冷战后欧洲的所有机构——不仅是欧安组织，还有欧洲委员会、北约-俄罗斯理事会、波罗的海国家理事会、黑海经济合作组织等等——都未能阻止欧洲大陆新一轮的剧烈分裂，而且这种分裂可能还会持续很长一段时间。\\n如今，这些机构中的大多数要么完全停止运转，要么失去了泛欧身份。欧洲的核军控和常规军控已经几乎不复存在，《开放天空条约》或2011年《维也纳文件》等建立信任的协议也不再发挥效力。更重要的是，两年多来，在欧洲大陆的中心地带爆发了大规模军事冲突，而幸运的是，亚洲的情况要好得多。\\n欧洲能够从亚洲学到什么？\\n欧洲的确失败了，然而这一不可否认的事实并不意味着亚洲就一定能成功。今天亚洲的局势并不稳定——大陆军备竞赛正在加剧，北约正在积极增加其在印度洋和太平洋的活动，美英澳三边集团（AUKUS）正在考虑接纳新的成员，而美国、印度、日本和澳大利亚建立的四方安全对话（QUAD）也有扩员的趋势。\\n大规模冲突可能会在朝鲜半岛、台湾海峡、南海、中印边境或亚洲其他地方爆发。这些冲突中有许多的确是由外部因素煽动的，但不可否认的是，亚洲大陆内部的问题也是促成此类冲突的因素之一。很不幸的是，即便各国之间经济高度相互依存，也无法成为保护亚洲各国免于陷入直接军事对抗的可靠护栏。\\n这对亚洲安全的未来意味着什么？首先，最重要的一点是，这意味着认为亚洲将很快构建一个强大而全面的安全体系是不现实的。这种做法在20世纪90年代欧洲最有利的环境下都未能取得成功，在21世纪20年代甚至30年代的亚洲也不可能取得成功，因为亚洲此时的环境可能更不利于这种雄心勃勃的规划成为现实。亚洲的大国竞争格局将持续很长时间，这种竞争将对多边机构的建设造成严重的制约。\\n此外，亚洲太大，同时又太小，根本无法建立一个覆盖整个大陆的安全体系。说亚洲太大，是因为东北亚、东南亚、南亚和中亚所面临的安全挑战并不相同；很难想象用“一刀切”的方式为整个亚洲做出全面的安全安排。\\n说亚洲太小，是因为亚洲的许多安全问题都与中美关系或俄美关系等全球安全问题有着千丝万缕的联系，如果不与亚洲域外大国达成全球层面的协议（如在战略稳定方面），就无法解决亚洲自身的安全问题。在相互依存的现代世界里，“用亚洲办法解决亚洲问题”的旧有原则不可能在所有情况下都适用。\\n现在就为亚洲大陆制定一个长期解决方案可能为时尚早。亚洲的战略动荡局势可能还会持续相当长的一段时间，这将使任何试图在稳定的力量平衡基础上制定双方都能接受的游戏规则的努力变得更加复杂，对不稳定的预期可能会增加军事冲突意外爆发的风险。\\n5月27日，第九届中日韩领导人会议上在首尔举行。图源：法新社\\n不过，好消息是，与一个世纪前日本致力于通过军事手段建立“大东亚共荣圈”不同，如今在亚洲没有人有兴趣发动一场大规模战争。今天，在中印之间、印巴之间、朝韩之间的确不时发生冲突或一些危险事件，但这些冲突和危险事件还从未升级到大规模军事对抗的程度。最近在欧洲发生的战争也是一个明确警示，它提醒亚洲国家不要鲁莽地出手，否则会导致灾难性的结果。\\n冷战经验告诉我们，即使大国关系走上错误的道路，保持大国之间沟通渠道的畅通也是非常重要的。保持中美、中印以及亚洲其他大国之间的沟通尤为重要。在潜在敌对国家的双边关系中增加透明度、可预测性和相互理解，在这方面做好哪怕是非常小的、渐进的工作，也将是一个重大的成就。在许多情况下，可以在第二轨道层面朝着建立信任的方向迈出第一步，这将为双方官员富有成效的接触铺平道路。\\n最重要的是，俄中战略协作伙伴关系仍然是亚洲大陆乃至全球战略稳定的基石。普京总统最近的中国之行以及他与习近平主席的会谈，将为进一步推进这一伙伴关系提供新的动力。在上海合作组织（SCO）、金砖国家机制（BRICS）、亚太经合组织（APEC）等多边框架内加强以安全为重点的合作，将是对这一伙伴关系的有益补充。虽然这些角色互相叠加的机构并不是解决亚洲所有安全挑战的灵丹妙药，但只要它们能共同发挥作用，就可以确保亚洲不会陷入欧洲的困境。\\n2022年4月，中国国家主席习近平在博鳌亚洲论坛开幕式上发表讲话，提出“全球安全倡议”（GSI）以应对世界上日益加剧的冲突和安全挑战。中国领导人的这一提议为中国外交部于2023年2月21日正式发布的《全球安全倡议概念文件》奠定了基础。尽管“全球安全倡议”所阐述的原则具有普遍性，可以适用于世界上任何地区，但在亚洲对这些原则进行检验是非常有意义的，因为亚洲不仅是世界上人口最多的地区，也是最有活力、最有朝气的一片大陆。\\n如今，已经到了不仅在经济发展方面而且在和平建设方面亚洲给欧洲上一课的时候了。也许，今天的亚洲领导人能够以非常务实、坚持不懈和负责任的方式共同努力，比他们的欧洲同行或一个世纪或半个世纪前的政治家们做得更好。\\n亚洲的机会之窗尚未关闭，历史的终局尚未到来。现在是结束亚洲冷战的时候了——不是像1989年在欧洲那样轰轰烈烈地结束冷战，而是像习近平主席所说的那样，通过一系列经过精心安排的渐进和谨慎的步骤，迈向“人类命运共同体”。我们所有人对这一伟大事业负有共同的责任。正如人们常说的一句俗语，胜利不需解释，失败不容解释。\\n本文系观察者网独家稿件，文章内容纯属作者个人观点，不代表平台观点，未经授权，不得转载，否则将追究法律责任。关注观察者网微信guanchacn，每日阅读趣味文章。',\n",
       " 'images': ['https://i.guancha.cn/news/dfic/2024/06/03/20240603154504546.jpg',\n",
       "  'https://i.guancha.cn/news/dfic/2024/06/03/20240603154736654.jpg',\n",
       "  'https://i.guancha.cn/news/internet/2024/06/03/20240603163111810.jpg',\n",
       "  'https://i.guancha.cn/news/internet/2024/06/03/20240603170635338.jpg',\n",
       "  'https://i.guancha.cn/news/mainland/2024/06/06/20240606081131158.jpg',\n",
       "  'https://i.guancha.cn/shiping-banner.jpg'],\n",
       " 'meta': {'applicable-device': 'pc',\n",
       "  'mobile-agent': 'format=html5;url=https://m.guancha.cn/andelie/2024_06_06_737185.shtml',\n",
       "  'Keywords': '',\n",
       "  'Description': '朝鲜半岛问题，台湾问题都是冷战的历史遗留问题，可以说在亚洲，冷战还没有结束，但亚洲的机会之窗尚未关闭，历史的终局尚未到来。'}}"
      ]
     },
     "execution_count": 78,
     "metadata": {},
     "output_type": "execute_result"
    }
   ],
   "source": [
    "%%time\n",
    "\n",
    "from gne import GeneralNewsExtractor\n",
    "import requests\n",
    "\n",
    "url = \"https://www.guancha.cn/andelie/2024_06_06_737185_s.shtml\"\n",
    "response = requests.get(url)\n",
    "html=response.text\n",
    "\n",
    "extractor = GeneralNewsExtractor()\n",
    "result = extractor.extract(soup, noise_node_list=['//div[@class=\"comment-list\"]'])\n",
    "\n",
    "result"
   ]
  },
  {
   "cell_type": "code",
   "execution_count": 79,
   "id": "2f83cb48-030d-4562-bf8d-5f9dd4b5cf52",
   "metadata": {},
   "outputs": [
    {
     "name": "stdout",
     "output_type": "stream",
     "text": [
      "CPU times: user 6 µs, sys: 0 ns, total: 6 µs\n",
      "Wall time: 7.87 µs\n"
     ]
    }
   ],
   "source": [
    "%%time\n",
    "\n",
    "def get_extract_data(url):\n",
    "    response = requests.get(url)\n",
    "    html=response.text\n",
    "    extractor = GeneralNewsExtractor()\n",
    "    result = extractor.extract(soup, noise_node_list=['//div[@class=\"comment-list\"]'])\n",
    "\n",
    "    return result"
   ]
  },
  {
   "cell_type": "code",
   "execution_count": 83,
   "id": "61a0a240-f8f7-4aee-8f52-03f80bda85f4",
   "metadata": {},
   "outputs": [
    {
     "name": "stdout",
     "output_type": "stream",
     "text": [
      "CPU times: user 393 ms, sys: 8.18 ms, total: 401 ms\n",
      "Wall time: 9.12 s\n"
     ]
    }
   ],
   "source": [
    "%%time\n",
    "\n",
    "from llama_index.core import VectorStoreIndex, StorageContext, Document\n",
    "\n",
    "url = \"https://www.guancha.cn/andelie/2024_06_06_737185_s.shtml\"\n",
    "data=get_extract_data(url)\n",
    "\n",
    "documents=[Document(text=data['content'])]\n",
    "\n",
    "\n",
    "Settings.chunk_size=128\n",
    "Settings.chunk_overlap=20\n",
    "\n",
    "# dimensions of bge-large-zh\n",
    "d = 1024\n",
    "faiss_index = faiss.IndexFlatL2(d)\n",
    "\n",
    "vector_store = FaissVectorStore(faiss_index=faiss_index)\n",
    "storage_context = StorageContext.from_defaults(vector_store=vector_store)\n",
    "index = VectorStoreIndex.from_documents(\n",
    "    documents, storage_context=storage_context\n",
    ")"
   ]
  },
  {
   "cell_type": "code",
   "execution_count": 85,
   "id": "2af2c4ec-7cd6-4719-b709-fe783c38f563",
   "metadata": {},
   "outputs": [
    {
     "name": "stdout",
     "output_type": "stream",
     "text": [
      "文章主要探讨了以下几个关键点：\n",
      "\n",
      "1. **全球安全倡议（GSI））在中国的角色**：中国倡导的GSI反映了对全球安全挑战的日益重视。\n",
      "\n",
      "2. **亚洲冷战与欧洲冷战的比较分析**：文章强调亚洲冷战可能更具复杂性和破坏性，不同于欧洲冷战模式。\n",
      "\n",
      "3. **战略不稳定对亚洲地区的影响评估**：长期的战略不确定性可能导致亚洲地区的地缘政治格局变得更为敏感和动荡。\n",
      "\n",
      "4. **大国间沟通与合作的重要性**：文章提醒国际社会，尤其是在大国之间，保持有效的沟通和协作对于维护和平与稳定至关重要。\n",
      "\n",
      "5. **亚洲冲突的风险及潜在后果**：文章指出尽管亚洲的冲突可能不会升级到全面战争，但局部紧张局势仍然存在，并可能导致不稳定局面。\n",
      "CPU times: user 433 ms, sys: 36 ms, total: 469 ms\n",
      "Wall time: 1min 6s\n"
     ]
    }
   ],
   "source": [
    "%%time\n",
    "\n",
    "# set Logging to DEBUG for more detailed outputs\n",
    "# logging.basicConfig(stream=sys.stdout, level=logging.DEBUG)\n",
    "\n",
    "query_engine = index.as_query_engine(\n",
    "    streaming=True,\n",
    "    similarity_top_k=100\n",
    ")\n",
    "\n",
    "streaming_response = query_engine.query(\"文章主要讲了啥, 详细总结，形成列表要点说明\")\n",
    "streaming_response.print_response_stream()\n",
    "print()"
   ]
  },
  {
   "cell_type": "code",
   "execution_count": 86,
   "id": "ee59ec37-5472-4ee0-9936-a95e6e604115",
   "metadata": {},
   "outputs": [
    {
     "name": "stdout",
     "output_type": "stream",
     "text": [
      "文章主要讨论了以下几个关键点：\n",
      "\n",
      "1. **中国提出的全球安全倡议（GSI））**：习近平主席在博鳌亚洲论坛上提出了这个旨在应对全球安全挑战的倡议。\n",
      "\n",
      "2. **亚洲冷战与欧洲冷战的比较**：文章强调了亚洲冷战的独特性和复杂性，并将其与欧洲冷战进行了对比分析。\n",
      "\n",
      "3. **亚洲内部的战略动荡和安全威胁**：文章指出亚洲内部存在军事冲突的风险，以及各国在战略上的紧张关系，这可能对地区稳定构成挑战。\n",
      "\n",
      "4. **大国间沟通的重要性**：文章强调了中美、中印等大国之间保持开放和透明的沟通对于维护地区稳定和避免误解的重要性。\n",
      "\n",
      "5. **全球安全倡议面临的挑战与前景**：文章总结了全球安全倡议在全球安全领域可能带来的变革，同时也探讨了实施这一倡议所面临的具体挑战，以及未来的发展方向。\n",
      "CPU times: user 494 ms, sys: 12.3 ms, total: 507 ms\n",
      "Wall time: 1min 17s\n"
     ]
    }
   ],
   "source": [
    "%%time\n",
    "\n",
    "# set Logging to DEBUG for more detailed outputs\n",
    "# logging.basicConfig(stream=sys.stdout, level=logging.DEBUG)\n",
    "\n",
    "query_engine = index.as_query_engine(\n",
    "    streaming=True,\n",
    "    similarity_top_k=500\n",
    ")\n",
    "\n",
    "streaming_response = query_engine.query(\"文章主要讲了啥, 详细总结，形成列表要点说明\")\n",
    "streaming_response.print_response_stream()\n",
    "print()"
   ]
  },
  {
   "cell_type": "code",
   "execution_count": 87,
   "id": "a35783fa-6b9d-4c54-934a-5104cb2129c0",
   "metadata": {},
   "outputs": [
    {
     "name": "stdout",
     "output_type": "stream",
     "text": [
      "文章主要讨论了以下几个关键点：\n",
      "\n",
      "1. **亚洲冷战的特点**：文章强调了亚洲冷战不同于欧洲冷战的独特性和复杂性。\n",
      "\n",
      "2. **中国的全球安全倡议（GSI）**：中国提出这一倡议，旨在促进全球范围内的安全合作与对话。\n",
      "\n",
      "3. **战略关系和冲突风险的分析**：文章探讨了在亚洲地区存在的军备竞赛、潜在军事冲突以及大国间的战略互动。\n",
      "\n",
      "4. **沟通与信任的重要性**：文章强调了在全球安全问题上保持开放沟通、建立互信机制的重要性。\n",
      "\n",
      "5. **全球安全合作的挑战与前景展望**：最后，文章分析了当前全球安全合作面临的挑战，并对未来可能的合作趋势进行了预测。\n",
      "CPU times: user 412 ms, sys: 24.5 ms, total: 437 ms\n",
      "Wall time: 1min 13s\n"
     ]
    }
   ],
   "source": [
    "%%time\n",
    "\n",
    "# set Logging to DEBUG for more detailed outputs\n",
    "# logging.basicConfig(stream=sys.stdout, level=logging.DEBUG)\n",
    "\n",
    "query_engine = index.as_query_engine(\n",
    "    streaming=True,\n",
    "    similarity_top_k=1000\n",
    ")\n",
    "\n",
    "streaming_response = query_engine.query(\"文章主要讲了啥, 详细总结，形成列表要点说明\")\n",
    "streaming_response.print_response_stream()\n",
    "print()"
   ]
  },
  {
   "cell_type": "code",
   "execution_count": null,
   "id": "72f321e8-e9d9-4985-894d-a04528a8f366",
   "metadata": {},
   "outputs": [],
   "source": []
  }
 ],
 "metadata": {
  "kernelspec": {
   "display_name": "Python 3 (ipykernel)",
   "language": "python",
   "name": "python3"
  },
  "language_info": {
   "codemirror_mode": {
    "name": "ipython",
    "version": 3
   },
   "file_extension": ".py",
   "mimetype": "text/x-python",
   "name": "python",
   "nbconvert_exporter": "python",
   "pygments_lexer": "ipython3",
   "version": "3.10.12"
  }
 },
 "nbformat": 4,
 "nbformat_minor": 5
}
