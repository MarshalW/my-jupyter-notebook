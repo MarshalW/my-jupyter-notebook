{
 "cells": [
  {
   "cell_type": "markdown",
   "id": "afdcb4f9-202b-4596-b078-8a0388b14fcc",
   "metadata": {},
   "source": [
    "# 尝试qwen7b 4k上下文"
   ]
  },
  {
   "cell_type": "code",
   "execution_count": 1,
   "id": "a33b0a6f-3881-43e3-b003-e4204addb7d0",
   "metadata": {},
   "outputs": [
    {
     "name": "stdout",
     "output_type": "stream",
     "text": [
      "CPU times: user 344 ms, sys: 24.3 ms, total: 368 ms\n",
      "Wall time: 368 ms\n"
     ]
    }
   ],
   "source": [
    "%%time\n",
    "\n",
    "from openai import OpenAI\n",
    "\n",
    "client = OpenAI(\n",
    "    base_url = 'http://192.168.0.72:11434/v1',\n",
    "    api_key='ollama', # required, but unused\n",
    ")"
   ]
  },
  {
   "cell_type": "code",
   "execution_count": 2,
   "id": "5e1c903c-2244-434e-8c48-dd1fad7e96da",
   "metadata": {},
   "outputs": [
    {
     "name": "stdout",
     "output_type": "stream",
     "text": [
      "我是阿里云研发的大规模语言模型，我叫通义千问。CPU times: user 13.8 ms, sys: 4.18 ms, total: 17.9 ms\n",
      "Wall time: 3.87 s\n"
     ]
    }
   ],
   "source": [
    "%%time\n",
    "\n",
    "stream = client.chat.completions.create(\n",
    "  model=\"qwen-7b-4k\",\n",
    "  messages=[\n",
    "    # {\"role\": \"system\", \"content\": \"你是一个概括内容和提炼主要内容的助手。\"},\n",
    "    {\"role\": \"user\", \"content\": \"你是谁？\"}\n",
    "  ],\n",
    "  stream=True,\n",
    ")\n",
    "\n",
    "for chunk in stream:\n",
    "    print(chunk.choices[0].delta.content or \"\", end=\"\")"
   ]
  },
  {
   "cell_type": "code",
   "execution_count": 3,
   "id": "35d0d9ac-f9ab-4cbb-9f13-f43ab7c3032b",
   "metadata": {},
   "outputs": [
    {
     "name": "stdout",
     "output_type": "stream",
     "text": [
      "CPU times: user 580 µs, sys: 0 ns, total: 580 µs\n",
      "Wall time: 607 µs\n"
     ]
    },
    {
     "data": {
      "text/plain": [
       "1384"
      ]
     },
     "execution_count": 3,
     "metadata": {},
     "output_type": "execute_result"
    }
   ],
   "source": [
    "%%time\n",
    "\n",
    "file_path = './content.txt'\n",
    "\n",
    "# Read the content of the file and store it in a string variable\n",
    "with open(file_path, 'r', encoding='utf-8') as file:\n",
    "    content = file.read()\n",
    "\n",
    "len(content)"
   ]
  },
  {
   "cell_type": "code",
   "execution_count": 4,
   "id": "90326a65-6139-4cea-87b4-e252102f513a",
   "metadata": {},
   "outputs": [
    {
     "name": "stdout",
     "output_type": "stream",
     "text": [
      "要点列表：\n",
      "\n",
      "1. 莫迪老仙“惨胜”，赢得240个议席，未达到半数。\n",
      "2. 印度民主联盟获得过半数席位，需要与盟友协商组建政府。\n",
      "3. 莫迪在政策执行方面存在不足，未能带给民众明显的收获感。\n",
      "4. 国大党联盟相对团结，这是莫迪选举表现不佳的一个原因。\n",
      "5. 对于中印制造业差距扩大的现象，作者认为目前的趋势是在加剧，而非缓解。CPU times: user 56.5 ms, sys: 10.3 ms, total: 66.8 ms\n",
      "Wall time: 3.23 s\n"
     ]
    }
   ],
   "source": [
    "%%time\n",
    "\n",
    "stream = client.chat.completions.create(\n",
    "  model=\"qwen-7b-4k\",\n",
    "  max_tokens=5000,\n",
    "  messages=[\n",
    "    {\"role\": \"system\", \"content\": \"你是一个概括内容和提炼主要内容的助手。\"},\n",
    "    {\"role\": \"user\", \"content\": f\"文章内容：{content}\\n\\n主要讲了啥，详细归纳一下，形成要点列表。\"}\n",
    "  ],\n",
    "  stream=True,\n",
    ")\n",
    "\n",
    "for chunk in stream:\n",
    "    print(chunk.choices[0].delta.content or \"\", end=\"\")"
   ]
  },
  {
   "cell_type": "code",
   "execution_count": 5,
   "id": "19fd101f-db2c-447f-a475-d92ed78ad567",
   "metadata": {},
   "outputs": [
    {
     "name": "stdout",
     "output_type": "stream",
     "text": [
      "文章内容概述如下：\n",
      "\n",
      "1. 莫迪老仙“惨胜”：印度人民院选举结果显示莫迪领导的全国民主联盟获胜，但赢得不理想。\n",
      "\n",
      "2. 获得席位不足半数：尽管NDA获得多数席位，但未达到需要与盟友共组政府的半数（272个席位）。\n",
      "\n",
      "3. 之前表现欠佳的原因分析：莫迪政策口号性强但落实不佳，导致民众收获感不多；此外，他在任期间过于强势和欺负人，反噬选民对他的支持意愿。\n",
      "\n",
      "4. 莫迪可能继续推进制造业发展：虽然印度制造业有所进步，但它要赶上中国还有很大难度。\n",
      "\n",
      "5. 中印制造业差距正在拉大：根据观察，目前中印制造业的差距在扩大而非缩小。CPU times: user 104 ms, sys: 3.64 ms, total: 108 ms\n",
      "Wall time: 5.11 s\n"
     ]
    }
   ],
   "source": [
    "%%time\n",
    "\n",
    "stream = client.chat.completions.create(\n",
    "  model=\"qwen-7b-4k\",\n",
    "  max_tokens=5000,\n",
    "  messages=[\n",
    "    {\"role\": \"system\", \"content\": \"你是一个概括内容和提炼主要内容的助手。只允许基于文章内容回答。\"},\n",
    "    {\"role\": \"user\", \"content\": f\"文章内容：{content}\\n\\n主要讲了啥，提炼出主要内容。\"}\n",
    "  ],\n",
    "  stream=True,\n",
    ")\n",
    "\n",
    "for chunk in stream:\n",
    "    print(chunk.choices[0].delta.content or \"\", end=\"\")"
   ]
  },
  {
   "cell_type": "code",
   "execution_count": 2,
   "id": "a25ca911-f4b7-47b9-b278-0fd6205e1c56",
   "metadata": {},
   "outputs": [
    {
     "name": "stdout",
     "output_type": "stream",
     "text": [
      "CPU times: user 248 µs, sys: 0 ns, total: 248 µs\n",
      "Wall time: 318 µs\n"
     ]
    },
    {
     "data": {
      "text/plain": [
       "17587"
      ]
     },
     "execution_count": 2,
     "metadata": {},
     "output_type": "execute_result"
    }
   ],
   "source": [
    "%%time\n",
    "\n",
    "file_path = './content2.txt'\n",
    "\n",
    "# Read the content of the file and store it in a string variable\n",
    "with open(file_path, 'r', encoding='utf-8') as file:\n",
    "    content2 = file.read()\n",
    "\n",
    "len(content2)"
   ]
  },
  {
   "cell_type": "code",
   "execution_count": 7,
   "id": "89d22f9f-08bd-4491-ab21-9f0f128fe569",
   "metadata": {},
   "outputs": [
    {
     "name": "stdout",
     "output_type": "stream",
     "text": [
      "主体内容提炼如下：\n",
      "\n",
      "1. 应对之道：中国在面对“大争之世”挑战时，坚持内部团结，通过发展高质量经济、斗争精神以及积极外交来应对美国的战略对抗。\n",
      "\n",
      "2. 发展模式：中国提供的发展路径是一种与西方不同的道路，这使得中国在全球秩序重塑中成为具有竞争力的力量。\n",
      "\n",
      "3. 硬实力与软实力并举：面对外部压力，中国既要保持和提升硬实力（如经济、军事等），也要通过文化和价值观的输出来增强软实力，以应对全球竞争。CPU times: user 61.4 ms, sys: 13.8 ms, total: 75.2 ms\n",
      "Wall time: 5.28 s\n"
     ]
    }
   ],
   "source": [
    "%%time\n",
    "\n",
    "stream = client.chat.completions.create(\n",
    "  model=\"qwen-7b-4k\",\n",
    "  max_tokens=5000,\n",
    "  messages=[\n",
    "    {\"role\": \"system\", \"content\": \"你是一个概括内容和提炼主要内容的助手。只允许基于文章内容回答。\"},\n",
    "    {\"role\": \"user\", \"content\": f\"文章内容：{content2}\\n\\n主要讲了啥，提炼出主要内容。\"}\n",
    "  ],\n",
    "  stream=True,\n",
    ")\n",
    "\n",
    "for chunk in stream:\n",
    "    print(chunk.choices[0].delta.content or \"\", end=\"\")"
   ]
  },
  {
   "cell_type": "code",
   "execution_count": null,
   "id": "b462ddde-9d06-473f-9f02-87f68271c25e",
   "metadata": {},
   "outputs": [],
   "source": [
    "%%time\n",
    "\n",
    "stream = client.chat.completions.create(\n",
    "  model=\"qwen-7b-8k\",\n",
    "  max_tokens=5000,\n",
    "  messages=[\n",
    "    {\"role\": \"system\", \"content\": \"你是一个概括内容和提炼主要内容的助手。只允许基于文章内容回答。\"},\n",
    "    {\"role\": \"user\", \"content\": f\"文章内容：{content2}\\n\\n主要讲了啥，提炼出主要内容。\"}\n",
    "  ],\n",
    "  stream=True,\n",
    ")\n",
    "\n",
    "for chunk in stream:\n",
    "    print(chunk.choices[0].delta.content or \"\", end=\"\")\n",
    "\n",
    "# 出现乱码，不过主要还是汉子，就是说的和文章不搭界了。"
   ]
  },
  {
   "cell_type": "code",
   "execution_count": 3,
   "id": "61830da5-ed45-4981-a925-7b72e73ff00f",
   "metadata": {},
   "outputs": [
    {
     "name": "stdout",
     "output_type": "stream",
     "text": [
      "结论：\n",
      "\n",
      "1. 经济、贸易和技术创新与可持续性发展策略；2. 制度变革和技术升级；3. 技术发展路径中的战略和国际合作中，中国正在通过全球治理模式下的一体化过程，推动新型全球化的趋势下，中国在科技、能源和经济模式的建设者之一，持续的技术和经济体系改革者，推动者包括以技术和政治经济全球化的制度变革者之一，特别是中国所倡导的推动者之一。这一阶段，中国作为全球化的推动者的概念下的能源与技术革新者之一，不仅是中国在全球范围内，科技和全球化战略的一体化问题中，新能源、知识产权、技术创新和新型全球化趋势中的新能源和新技术领域的挑战者之一，中国在全球治理和发展模式，以及创新性策略，特别是可持续性发展战略者，包括中国作为一个全球化的技术和经济政策方面的一个大背景下，中国在国际和全球经济和政治制度和科技创新的一个时代，涉及新能源与环保、绿色低碳技术方向的全球化议题下的一系列科技发展方面的技术创新领域内的绿色能源与技术创新领域的全球化议题下的技术创新和绿色低碳型的全球化趋势下的技术创新者之一，全球化的绿色经济与环境与技术创新者，中国在全球化背景下，包括但不限于绿色低碳创新者之一。因此，在科技创新与技术创新者，尤其是绿色能源、经济、技术和政策，以及在国际体系中的技术创新者之一，包括环保与可持续发展和绿色低碳型的科技创新者的议题下的一系列绿色低碳型的发展趋势下的技术与全球范围内，特别是从中国在全球化背景下的低碳技术和绿色发展方面，将为全球化大背景下的一些国家和地区化过程中的能源和绿色低碳发展方面的政策，作为全球化的进程中，中国在国际化的绿色经济和技术政策下的全球化和环保型政策，特别是在国际能源与技术创新、低碳发展战略之一的政策，包括技术领域，特别是碳排放的全球化问题上，特别是全球化的路径下，为一个全新的能源与大趋势下的一系列政策。CPU times: user 481 ms, sys: 17.4 ms, total: 499 ms\n",
      "Wall time: 2min 17s\n"
     ]
    }
   ],
   "source": [
    "%%time\n",
    "\n",
    "stream = client.chat.completions.create(\n",
    "  model=\"qwen-7b-6k\",\n",
    "  max_tokens=5000,\n",
    "  messages=[\n",
    "    {\"role\": \"system\", \"content\": \"你是一个概括内容和提炼主要内容的助手。只允许基于文章内容回答。\"},\n",
    "    {\"role\": \"user\", \"content\": f\"文章内容：{content2}\\n\\n主要讲了啥，提炼出主要内容。\"}\n",
    "  ],\n",
    "  stream=True,\n",
    ")\n",
    "\n",
    "for chunk in stream:\n",
    "    print(chunk.choices[0].delta.content or \"\", end=\"\")"
   ]
  },
  {
   "cell_type": "code",
   "execution_count": 4,
   "id": "df08a7a9-24eb-4625-9880-424ff4a4fcbc",
   "metadata": {},
   "outputs": [
    {
     "name": "stdout",
     "output_type": "stream",
     "text": [
      "CPU times: user 0 ns, sys: 154 µs, total: 154 µs\n",
      "Wall time: 201 µs\n"
     ]
    },
    {
     "data": {
      "text/plain": [
       "5165"
      ]
     },
     "execution_count": 4,
     "metadata": {},
     "output_type": "execute_result"
    }
   ],
   "source": [
    "%%time\n",
    "\n",
    "file_path = './content3.txt'\n",
    "\n",
    "# Read the content of the file and store it in a string variable\n",
    "with open(file_path, 'r', encoding='utf-8') as file:\n",
    "    content3 = file.read()\n",
    "\n",
    "len(content3)"
   ]
  },
  {
   "cell_type": "code",
   "execution_count": 5,
   "id": "70675098-40af-4e32-8032-1add254a804a",
   "metadata": {},
   "outputs": [
    {
     "name": "stdout",
     "output_type": "stream",
     "text": [
      "2023年以来，激光雷达市场，包括高精度固态激光雷达产品成为主流，国内激光雷达厂商们也在加速布局，迈向更先进的L4自动驾驶技术路径。CPU times: user 46.4 ms, sys: 7.82 ms, total: 54.2 ms\n",
      "Wall time: 17.3 s\n"
     ]
    }
   ],
   "source": [
    "%%time\n",
    "\n",
    "stream = client.chat.completions.create(\n",
    "  model=\"qwen-7b-6k\",\n",
    "  max_tokens=5000,\n",
    "  messages=[\n",
    "    {\"role\": \"system\", \"content\": \"你是一个概括内容和提炼主要内容的助手。只允许基于文章内容回答。\"},\n",
    "    {\"role\": \"user\", \"content\": f\"文章内容：{content3}\\n\\n主要讲了啥，提炼出主要内容。\"}\n",
    "  ],\n",
    "  stream=True,\n",
    ")\n",
    "\n",
    "for chunk in stream:\n",
    "    print(chunk.choices[0].delta.content or \"\", end=\"\")"
   ]
  },
  {
   "cell_type": "code",
   "execution_count": 6,
   "id": "446c2299-2fd8-42f6-a068-6b798add67ca",
   "metadata": {},
   "outputs": [
    {
     "name": "stdout",
     "output_type": "stream",
     "text": [
      "基于数据和市场研究，本文试图深入探讨激光雷达技术路线及应用场景。CPU times: user 27.9 ms, sys: 0 ns, total: 27.9 ms\n",
      "Wall time: 9.31 s\n"
     ]
    }
   ],
   "source": [
    "%%time\n",
    "\n",
    "stream = client.chat.completions.create(\n",
    "  model=\"qwen-7b-6k\",\n",
    "  max_tokens=5000,\n",
    "  messages=[\n",
    "    {\"role\": \"system\", \"content\": \"你是一个概括内容和提炼主要内容的助手。只允许基于文章内容回答。\"},\n",
    "    {\"role\": \"user\", \"content\": f\"文章内容：{content3}\\n\\n主要讲了啥，提炼出主要内容，形成要点，以及支撑要点的主要论据。\"}\n",
    "  ],\n",
    "  stream=True,\n",
    ")\n",
    "\n",
    "for chunk in stream:\n",
    "    print(chunk.choices[0].delta.content or \"\", end=\"\")"
   ]
  },
  {
   "cell_type": "code",
   "execution_count": 7,
   "id": "415e7379-0e94-4c51-a981-d476ad38a9d0",
   "metadata": {},
   "outputs": [
    {
     "name": "stdout",
     "output_type": "stream",
     "text": [
      "国内某激光雷达厂商Ivysight，在其3月份发布最新产品——Ivysight Model X1，这个传感器价格区间比Model Y要便宜很多倍，但整体上仍然不赚钱。CPU times: user 51.4 ms, sys: 7.52 ms, total: 58.9 ms\n",
      "Wall time: 17.3 s\n"
     ]
    }
   ],
   "source": [
    "%%time\n",
    "\n",
    "stream = client.chat.completions.create(\n",
    "  model=\"qwen-7b-6k\",\n",
    "  max_tokens=5000,\n",
    "  messages=[\n",
    "    {\"role\": \"system\", \"content\": \"你是一个概括内容和提炼主要内容的助手。只允许基于文章内容回答。\"},\n",
    "    {\"role\": \"user\", \"content\": f\"文章内容：{content3}\\n\\n主要讲了啥，详细介绍下。\"}\n",
    "  ],\n",
    "  stream=True,\n",
    ")\n",
    "\n",
    "for chunk in stream:\n",
    "    print(chunk.choices[0].delta.content or \"\", end=\"\")"
   ]
  },
  {
   "cell_type": "code",
   "execution_count": 8,
   "id": "c07ed53f-b9b8-4104-a2d4-315f7c719b7b",
   "metadata": {},
   "outputs": [
    {
     "name": "stdout",
     "output_type": "stream",
     "text": [
      "文章内容：集体降价后，激光雷达玩家们离盈利更近了？\n",
      "\n",
      "连线出行8小时前\n",
      "500\n",
      "\n",
      "文/边城 \n",
      "\n",
      "编辑/陈锋 \n",
      "\n",
      "到底要不要激光雷达？\n",
      "\n",
      "这个问题一度在汽车行业引起了很大争议与讨论。时至今日，自动驾驶到底应该走纯视觉方案，还是激光雷达方案，业内还在争论。\n",
      "\n",
      "把这个问题抛到所有车企面前的，是特斯拉创始人马斯克。\n",
      "\n",
      "马斯克是激光雷达的坚定反对者。早在几年前的特斯拉自动驾驶日活动上，他就说“任何使用激光雷达的自动驾驶公司注定失败。”\n",
      "\n",
      "2022年，随着Ibeo、Quanergy先后破产，Ouster和Velodyne合并，马斯克的这一判断似乎正在应验。\n",
      "\n",
      "聚焦到中国市场，则是另一番景象。\n",
      "\n",
      "自2020年以来，围绕智能驾驶，中国的新能源车企们走出了两条并行的技术路线——从智能驾驶辅助系统到迈向更高级别自动驾驶的过程中，虽然讨论一直不断，但激光雷达上车的速度也没有停下。\n",
      "\n",
      "2022年被业界普遍视为激光雷达量产元年。盖世汽车研究院数据显示，2022年，中国市场激光雷达装车量达到11.8万台。再到2023年，随着高阶智驾加速走向普及，激光雷达装车量也接近55万台，同比增速超过300%。\n",
      "\n",
      "激光雷达的加速上车，也带动了国内一批独角兽企业成长起来。\n",
      "\n",
      "按2023年的出货量排行来看，行业里位居前三的禾赛科技、图达通、速腾聚创，合计拿到了87.1%的市场份额。目前禾赛科技和速腾聚创已经分别在纳斯达克、港交所上市，图达通也在加速推进上市计划。\n",
      "\n",
      "500\n",
      "\n",
      "2023年中国激光雷达厂商市场格局，图源山西证券 \n",
      "\n",
      "从目前的阶段来看，它们的出货量在不断上升，尽管还未到达盈利拐点，但从今年一季度的财报来看，它们的亏损幅度在明显收窄，也有玩家给出了盈利时间表。\n",
      "\n",
      "与此同时，激光雷达的价格也在持续下探。据国联证券测算，2024年用于ADAS（高级辅助驾驶）系统的激光雷达均价，将同比下跌15.56%至3800元。\n",
      "\n",
      "更低的成本，意味着激光雷达产品有更大的市场空间。禾赛科技向连线出行表示，今年4月，15万元及以上新能源市场激光雷达渗透率达到了18.4%，成功“跨越鸿沟”，进入快速增长的全新周期，禾赛科技也将持续推动激光雷达产品在高端车型、中低端车型两大市场方向的渗透。\n",
      "\n",
      "对上述几家头部独角兽而言，也意味着，它们有了通过规模效应摊薄成本，加速走向大规模商业化的机会。\n",
      "\n",
      "1、亏损收窄，激光雷达企业们距离盈利不远了？\n",
      "\n",
      "5月20日，激光雷达头部企业速腾聚创公布了今年一季度财报。\n",
      "\n",
      "在营收方面，速腾聚创同比增长149.1%至3.61亿；盈利方面，一季度速腾聚创净亏损额为1.307亿，较2023年同期的3.428亿收窄61.9%，若不包括以股份为基础的薪酬、向投资者发行的金融工具的公允价值变动和上市费用，则速腾聚创调整后净亏损为8410万，同比收窄了11.5%。\n",
      "\n",
      "就在速腾聚创公布财报的后一天，禾赛科技也发布了今年一季度财报。\n",
      "\n",
      "财报显示，一季度禾赛科技营收同比下滑16.5%至3.6亿，同时，禾赛科技的净亏损也在同比收窄，收窄幅度为10.01%，净亏损额为1.069亿。\n",
      "\n",
      "禾赛科技和速腾聚创大规模减亏背后，实则是激光雷达赛道曙光初现。\n",
      "\n",
      "激光雷达本质上仍属制造业，规模越大均摊成本越低。而2022年至今，全球新能源车销量不断增长，为激光雷达厂商，尤其是头部厂商带来了较大的订单增量，推动激光雷达厂商加速上车。\n",
      "\n",
      "CPU times: user 476 ms, sys: 30 ms, total: 506 ms\n",
      "Wall time: 22.3 s\n"
     ]
    }
   ],
   "source": [
    "%%time\n",
    "\n",
    "stream = client.chat.completions.create(\n",
    "  model=\"yi-6b-6k\",\n",
    "  max_tokens=5000,\n",
    "  messages=[\n",
    "    {\"role\": \"system\", \"content\": \"你是一个概括内容和提炼主要内容的助手。只允许基于文章内容回答。\"},\n",
    "    {\"role\": \"user\", \"content\": f\"文章内容：{content3}\\n\\n主要讲了啥，详细介绍下。\"}\n",
    "  ],\n",
    "  stream=True,\n",
    ")\n",
    "\n",
    "for chunk in stream:\n",
    "    print(chunk.choices[0].delta.content or \"\", end=\"\")"
   ]
  },
  {
   "cell_type": "code",
   "execution_count": 9,
   "id": "a0ae2ebd-aae1-4b25-83b8-11df94129a09",
   "metadata": {},
   "outputs": [
    {
     "name": "stdout",
     "output_type": "stream",
     "text": [
      "文章内容概述：\n",
      "\n",
      "1. 激光雷达技术的发展和市场接受度提高；\n",
      "2. 价格下降对激光雷达市场的积极影响；\n",
      "3. 头部供应商如禾赛科技、速腾聚创在技术和成本控制上的平衡与挑战；\n",
      "4. 车企对智能驾驶路线的选择不确定性，可能对激光雷达市场产生的影响。CPU times: user 47.7 ms, sys: 502 µs, total: 48.2 ms\n",
      "Wall time: 3.87 s\n"
     ]
    }
   ],
   "source": [
    "%%time\n",
    "\n",
    "stream = client.chat.completions.create(\n",
    "  model=\"yi-6b-6k\",\n",
    "  max_tokens=5000,\n",
    "  messages=[\n",
    "    {\"role\": \"system\", \"content\": \"你是一个概括内容和提炼主要内容的助手。只允许基于文章内容回答。\"},\n",
    "    {\"role\": \"user\", \"content\": f\"文章内容：{content3}\\n\\n主要讲了啥，基于主要观点列表说明。\"}\n",
    "  ],\n",
    "  stream=True,\n",
    ")\n",
    "\n",
    "for chunk in stream:\n",
    "    print(chunk.choices[0].delta.content or \"\", end=\"\")"
   ]
  },
  {
   "cell_type": "code",
   "execution_count": 10,
   "id": "36e0f9a2-e146-49e8-af0a-8382941a3686",
   "metadata": {},
   "outputs": [
    {
     "name": "stdout",
     "output_type": "stream",
     "text": [
      "总结：激光雷达行业和车企间竞争愈发激烈，技术路线之争已不再是单纯的技术比拼。从2023年的市场表现来看，已经有不少企业开始盈利，这无疑是向好的消息。不过，随着市场逐渐走向成熟，激光雷达作为智能驾驶的基础设施产品，已经有很多企业在积极布局与研发，加速激光雷达产品的规模化效应。其中，禾赛科技、速腾聚创等厂商在激光雷达赛道上，已经显示出较强的竞争力和盈利能力。CPU times: user 120 ms, sys: 4.59 ms, total: 124 ms\n",
      "Wall time: 39.3 s\n"
     ]
    }
   ],
   "source": [
    "%%time\n",
    "\n",
    "stream = client.chat.completions.create(\n",
    "  model=\"qwen-7b-6k\",\n",
    "  max_tokens=5000,\n",
    "  messages=[\n",
    "    {\"role\": \"system\", \"content\": \"你是一个概括内容和提炼主要内容的助手。只允许基于文章内容回答。\"},\n",
    "    {\"role\": \"user\", \"content\": f\"文章内容：{content3}\\n\\n主要讲了啥，基于主要观点列表说明。\"}\n",
    "  ],\n",
    "  stream=True,\n",
    ")\n",
    "\n",
    "for chunk in stream:\n",
    "    print(chunk.choices[0].delta.content or \"\", end=\"\")"
   ]
  },
  {
   "cell_type": "code",
   "execution_count": null,
   "id": "7f048889-19ed-4f29-870a-92d36a3e1af4",
   "metadata": {},
   "outputs": [],
   "source": []
  }
 ],
 "metadata": {
  "kernelspec": {
   "display_name": "Python 3 (ipykernel)",
   "language": "python",
   "name": "python3"
  },
  "language_info": {
   "codemirror_mode": {
    "name": "ipython",
    "version": 3
   },
   "file_extension": ".py",
   "mimetype": "text/x-python",
   "name": "python",
   "nbconvert_exporter": "python",
   "pygments_lexer": "ipython3",
   "version": "3.10.12"
  }
 },
 "nbformat": 4,
 "nbformat_minor": 5
}
