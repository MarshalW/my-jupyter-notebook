{
 "cells": [
  {
   "cell_type": "markdown",
   "id": "096152be-88f9-4682-b7f7-b5fbc5e31501",
   "metadata": {},
   "source": [
    "# LiteLLM 和 Ollama"
   ]
  },
  {
   "cell_type": "code",
   "execution_count": 1,
   "id": "c3249b84-ed18-4b11-8744-ad9c91649c77",
   "metadata": {},
   "outputs": [
    {
     "name": "stdout",
     "output_type": "stream",
     "text": [
      "CPU times: user 8.29 ms, sys: 3.38 ms, total: 11.7 ms\n",
      "Wall time: 1.82 s\n"
     ]
    }
   ],
   "source": [
    "%%time\n",
    "%%capture\n",
    "\n",
    "pip install litellm"
   ]
  },
  {
   "cell_type": "markdown",
   "id": "86a831c3-a917-43a1-9961-ec7594bbc36f",
   "metadata": {},
   "source": [
    "## 最基本的使用"
   ]
  },
  {
   "cell_type": "code",
   "execution_count": 14,
   "id": "b57eb2fd-6376-4de1-8f9c-541206fbdfd4",
   "metadata": {},
   "outputs": [
    {
     "name": "stdout",
     "output_type": "stream",
     "text": [
      "CPU times: user 3.83 ms, sys: 0 ns, total: 3.83 ms\n",
      "Wall time: 1.42 s\n"
     ]
    },
    {
     "data": {
      "text/plain": [
       "ModelResponse(id='chatcmpl-e097da15-3252-4277-a792-ced08f3b8345', choices=[Choices(finish_reason='stop', index=0, message=Message(content='我是阿里云开发的一款超大规模语言模型，我叫通义千问。作为一个AI助手，我的目标是帮助用户获得准确、有用的信息，解决他们的问题和困惑。无论是学术知识、实用技巧、娱乐资讯还是日常生活中的问题，我都尽力提供高质量的回答和建议。请随时向我提问，我会尽力提供帮助！', role='assistant', tool_calls=None, function_call=None))], created=1722839564, model='ollama/qwen2', object='chat.completion', system_fingerprint=None, usage=Usage(prompt_tokens=14, completion_tokens=72, total_tokens=86))"
      ]
     },
     "execution_count": 14,
     "metadata": {},
     "output_type": "execute_result"
    }
   ],
   "source": [
    "%%time\n",
    "\n",
    "from litellm import completion\n",
    "\n",
    "response = completion(\n",
    "            model=\"ollama/qwen2\",\n",
    "            messages = [{ \"content\": \"你是谁?\",\"role\": \"user\"}],\n",
    "            api_base=\"http://monkey:11434\"\n",
    ")\n",
    "\n",
    "response"
   ]
  },
  {
   "cell_type": "code",
   "execution_count": 15,
   "id": "0abe125c-6444-4292-84cb-1996f0f24fe4",
   "metadata": {},
   "outputs": [
    {
     "data": {
      "text/plain": [
       "'我是阿里云开发的一款超大规模语言模型，我叫通义千问。作为一个AI助手，我的目标是帮助用户获得准确、有用的信息，解决他们的问题和困惑。无论是学术知识、实用技巧、娱乐资讯还是日常生活中的问题，我都尽力提供高质量的回答和建议。请随时向我提问，我会尽力提供帮助！'"
      ]
     },
     "execution_count": 15,
     "metadata": {},
     "output_type": "execute_result"
    }
   ],
   "source": [
    "response.choices[0].message.content"
   ]
  },
  {
   "cell_type": "markdown",
   "id": "e6779a63-fb2b-4596-96ad-2d70da8ca0c9",
   "metadata": {},
   "source": [
    "## 流式输出"
   ]
  },
  {
   "cell_type": "code",
   "execution_count": 18,
   "id": "e6e02f7c-f281-4d4e-944b-927c50c0fb13",
   "metadata": {},
   "outputs": [
    {
     "name": "stdout",
     "output_type": "stream",
     "text": [
      "热传导是物质内部或不同物质之间由于温度差而引起的能量传递过程。它主要通过分子、原子和离子的微观运动实现热量的传递，主要有以下几种方式：\n",
      "\n",
      "1. **纯导热**：这是最常见的一种热传导形式，发生在固体中。当一个区域的分子具有比周围区域更高的能量时，这些高能分子会将一部分能量（即热）转移到周围的低能分子上，这一过程通过分子间的直接接触进行。\n",
      "\n",
      "2. **对流**：虽然严格意义上属于热传递的方式之一，但通常与热传导和辐射紧密相连。在液体或气体中，当温度不同导致密度差异时，较轻的高温流体会上升，而较低温的流体则下降，形成循环流动。这种流动过程中的热量转移被称为对流。\n",
      "\n",
      "3. **自然对流**：发生在没有外部强制作用力（如风扇、泵等）的情况下，仅由温度梯度产生的压力差所驱动的热流现象。例如，在热水瓶中热水上升而冷水下沉的过程就是自然对流的一个例子。\n",
      "\n",
      "4. **强迫对流**：与自然对流相反，强迫对流是由外加力（如风扇、水泵等）直接推动流体运动而引起的热量传递过程。这种形式的对流通常发生在加热或冷却设备的设计中，以提高热效率和传热速率。\n",
      "\n",
      "5. **辐射**：虽然辐射主要被认为是电磁波的传播方式，但它也用于描述热能的传输。辐射不需要物质介质作为载体，在真空或任何透明物质中都可以发生。这是太阳向地球传递热量的主要机制之一。\n",
      "\n",
      "6. **传导对流复合**：在某些情况下，物体内的热传导和对流会同时存在并相互作用。例如，在液体循环系统中，热量通过传导从高温区域传输到低温区域，并通过对流帮助将这些热量分布到整个系统的不同部分。\n",
      "\n",
      "理解这些不同的热传递方式对于设计高效热管理系统（如空调、散热片等）、解释自然现象（如气候变化）以及优化工业流程至关重要。CPU times: user 345 ms, sys: 28.2 ms, total: 373 ms\n",
      "Wall time: 9.07 s\n"
     ]
    },
    {
     "name": "stderr",
     "output_type": "stream",
     "text": [
      "\u001b[92m14:45:59 - LiteLLM:WARNING\u001b[0m: litellm_logging.py:1294 - Model=qwen2 not found in completion cost map. Setting 'response_cost' to None\n"
     ]
    }
   ],
   "source": [
    "%%time\n",
    "\n",
    "messages = [{ \"content\": \"说出热传导的各种方式并做简要说明\",\"role\": \"user\"}]\n",
    "\n",
    "response = completion(\n",
    "    model=\"ollama/qwen2\",\n",
    "    api_base=\"http://monkey:11434\",\n",
    "    messages=messages, \n",
    "    stream=True\n",
    ")\n",
    "\n",
    "for part in response:\n",
    "    print(part.choices[0].delta.content or \"\", end=\"\")"
   ]
  },
  {
   "cell_type": "code",
   "execution_count": null,
   "id": "e6213254-0066-4221-a012-ec187939125f",
   "metadata": {},
   "outputs": [],
   "source": []
  }
 ],
 "metadata": {
  "kernelspec": {
   "display_name": "Python 3 (ipykernel)",
   "language": "python",
   "name": "python3"
  },
  "language_info": {
   "codemirror_mode": {
    "name": "ipython",
    "version": 3
   },
   "file_extension": ".py",
   "mimetype": "text/x-python",
   "name": "python",
   "nbconvert_exporter": "python",
   "pygments_lexer": "ipython3",
   "version": "3.10.12"
  }
 },
 "nbformat": 4,
 "nbformat_minor": 5
}
