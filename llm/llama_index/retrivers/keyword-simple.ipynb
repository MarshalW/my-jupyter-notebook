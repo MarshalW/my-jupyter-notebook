{
 "cells": [
  {
   "cell_type": "markdown",
   "id": "db69584b-e0ef-4ef3-9caa-c22a071737d1",
   "metadata": {},
   "source": [
    "# 使用 keyword index simple 方式"
   ]
  },
  {
   "cell_type": "markdown",
   "id": "67d671ef-b8f4-46c3-8d3e-dc913faaf9a0",
   "metadata": {},
   "source": [
    "使用 obsidian 作为数据源。\n",
    "\n",
    "评估 keyword table index `simple` 方式，是否可以作为 embedding 方式的补充。\n",
    "\n",
    "初步结论：\n",
    "\n",
    "- 效果不好，查询结果为空\n",
    "- llamaindex的简单分词无法支持中文"
   ]
  },
  {
   "cell_type": "markdown",
   "id": "9c3e3d9e-1878-43db-b922-718586fad6df",
   "metadata": {},
   "source": [
    "## 全局设置"
   ]
  },
  {
   "cell_type": "code",
   "execution_count": 2,
   "id": "4f7656a5-4258-43a7-84db-b86d023c1cd6",
   "metadata": {},
   "outputs": [
    {
     "name": "stdout",
     "output_type": "stream",
     "text": [
      "CPU times: user 730 ms, sys: 47.9 ms, total: 778 ms\n",
      "Wall time: 778 ms\n"
     ]
    }
   ],
   "source": [
    "%%time\n",
    "\n",
    "from llama_index.core import Settings\n",
    "from llama_index.llms.ollama import Ollama\n",
    "from llama_index.embeddings.ollama import OllamaEmbedding\n",
    "\n",
    "Settings.llm=Ollama(\n",
    "    base_url=\"http://ape:11434\",\n",
    "    model=\"qwen2\",\n",
    "    is_chat_model=True,\n",
    "    temperature=0.1,\n",
    "    request_timeout=60.0\n",
    ")\n",
    "\n",
    "Settings.embed_model = OllamaEmbedding(\n",
    "    model_name=\"quentinz/bge-large-zh-v1.5\",\n",
    "    base_url=\"http://ape:11434\",\n",
    "    ollama_additional_kwargs={\"mirostat\": 0}, # -mirostat N 使用 Mirostat 采样。\n",
    ")"
   ]
  },
  {
   "cell_type": "markdown",
   "id": "edfb7c55-eaab-49ce-bef2-aaf2fb52fe8a",
   "metadata": {},
   "source": [
    "## 加载文档"
   ]
  },
  {
   "cell_type": "code",
   "execution_count": 3,
   "id": "10acc450-34a6-474e-aec0-d1dd13e51bb1",
   "metadata": {},
   "outputs": [
    {
     "name": "stdout",
     "output_type": "stream",
     "text": [
      "CPU times: user 0 ns, sys: 2.37 ms, total: 2.37 ms\n",
      "Wall time: 2.2 ms\n"
     ]
    },
    {
     "data": {
      "text/plain": [
       "21"
      ]
     },
     "execution_count": 3,
     "metadata": {},
     "output_type": "execute_result"
    }
   ],
   "source": [
    "%%time\n",
    "\n",
    "from llama_index.readers.obsidian import ObsidianReader\n",
    "\n",
    "\n",
    "documents = ObsidianReader(\n",
    "    \"/models/obsidian/kb/知识库\"\n",
    ").load_data() \n",
    "\n",
    "len(documents)"
   ]
  },
  {
   "cell_type": "markdown",
   "id": "aadb3598-5810-4750-9b4a-a78d6239bbf7",
   "metadata": {},
   "source": [
    "## 创建索引"
   ]
  },
  {
   "cell_type": "code",
   "execution_count": 4,
   "id": "d7388600-8040-4635-a18a-d9568304607b",
   "metadata": {},
   "outputs": [
    {
     "name": "stdout",
     "output_type": "stream",
     "text": [
      "CPU times: user 227 ms, sys: 19.9 ms, total: 247 ms\n",
      "Wall time: 246 ms\n"
     ]
    }
   ],
   "source": [
    "%%time\n",
    "\n",
    "from llama_index.core import SimpleKeywordTableIndex\n",
    "\n",
    "index = SimpleKeywordTableIndex.from_documents(\n",
    "    documents\n",
    ")"
   ]
  },
  {
   "cell_type": "markdown",
   "id": "78751a9d-df89-4b38-b96a-12828611f2e2",
   "metadata": {},
   "source": [
    "## 查询"
   ]
  },
  {
   "cell_type": "code",
   "execution_count": 5,
   "id": "c75e98dd-070f-4423-823d-bdb754cdf109",
   "metadata": {},
   "outputs": [
    {
     "name": "stdout",
     "output_type": "stream",
     "text": [
      "Empty ResponseCPU times: user 2.34 ms, sys: 271 µs, total: 2.61 ms\n",
      "Wall time: 2.17 ms\n"
     ]
    }
   ],
   "source": [
    "%%time\n",
    "\n",
    "query_engine = index.as_query_engine(\n",
    "    streaming=True\n",
    ")\n",
    "streaming_response = query_engine.query(\"docker容器在后台执行的命令\")\n",
    "streaming_response.print_response_stream()"
   ]
  },
  {
   "cell_type": "code",
   "execution_count": null,
   "id": "d6a1ec05-27cc-499a-9d6e-367730102eb1",
   "metadata": {},
   "outputs": [],
   "source": []
  },
  {
   "cell_type": "code",
   "execution_count": null,
   "id": "8c9d4889-f1dd-4696-ba1f-f45969cc5a05",
   "metadata": {},
   "outputs": [],
   "source": []
  },
  {
   "cell_type": "code",
   "execution_count": null,
   "id": "51f9b38f-35d8-4c39-abdb-13759eb7c60c",
   "metadata": {},
   "outputs": [],
   "source": []
  }
 ],
 "metadata": {
  "kernelspec": {
   "display_name": "Python 3 (ipykernel)",
   "language": "python",
   "name": "python3"
  },
  "language_info": {
   "codemirror_mode": {
    "name": "ipython",
    "version": 3
   },
   "file_extension": ".py",
   "mimetype": "text/x-python",
   "name": "python",
   "nbconvert_exporter": "python",
   "pygments_lexer": "ipython3",
   "version": "3.10.12"
  }
 },
 "nbformat": 4,
 "nbformat_minor": 5
}
