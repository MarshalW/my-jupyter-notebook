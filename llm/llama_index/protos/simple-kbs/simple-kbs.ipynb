{
 "cells": [
  {
   "cell_type": "markdown",
   "id": "795a4fed-ad85-4fa8-bf66-0133a96bd586",
   "metadata": {},
   "source": [
    "# Simple KBs"
   ]
  },
  {
   "cell_type": "markdown",
   "id": "8136016f-3802-4ac4-be6b-7f0f04a0842a",
   "metadata": {},
   "source": [
    "目标：\n",
    "\n",
    "- 实现一个混合检索的示例，基于北京景点数据\n",
    "- 完整的过程，包括自动评估效果\n",
    "\n",
    "\n",
    "问题：\n",
    "\n",
    "- bm25在当前数据下效果不好，检索召回率是0\n",
    "- 可能需要找更合适的场景"
   ]
  },
  {
   "cell_type": "markdown",
   "id": "386570ca-b865-4e7e-928b-f6359a1a2752",
   "metadata": {},
   "source": [
    "## 生成数据"
   ]
  },
  {
   "cell_type": "code",
   "execution_count": 1,
   "id": "fd73b323-6c54-4512-af0e-b412ad0242ce",
   "metadata": {},
   "outputs": [
    {
     "name": "stdout",
     "output_type": "stream",
     "text": [
      "CPU times: user 9.02 ms, sys: 4.12 ms, total: 13.1 ms\n",
      "Wall time: 113 ms\n"
     ]
    }
   ],
   "source": [
    "%%time\n",
    "\n",
    "!rm -rf data && mkdir -p data\n",
    "\n",
    "items=[\n",
    "    \"颐和园\",\n",
    "    \"恭王府\",\n",
    "    \"国家博物馆\",\n",
    "    \"八达岭长城\",\n",
    "    \"故宫\",\n",
    "    \"北海公园\",\n",
    "    \"景山公园\",\n",
    "    \"天坛公园\",\n",
    "]"
   ]
  },
  {
   "cell_type": "code",
   "execution_count": 2,
   "id": "e1ec5066-2a68-46aa-be56-ef34b039e38f",
   "metadata": {},
   "outputs": [
    {
     "name": "stdout",
     "output_type": "stream",
     "text": [
      "CPU times: user 12.6 ms, sys: 62 µs, total: 12.7 ms\n",
      "Wall time: 3.39 s\n"
     ]
    }
   ],
   "source": [
    "%%time\n",
    "%%capture\n",
    "\n",
    "!pip install trafilatura"
   ]
  },
  {
   "cell_type": "code",
   "execution_count": 3,
   "id": "b7b217c6-3f8e-41d7-8571-8fb7a8689713",
   "metadata": {},
   "outputs": [
    {
     "name": "stdout",
     "output_type": "stream",
     "text": [
      "CPU times: user 4.04 s, sys: 421 ms, total: 4.46 s\n",
      "Wall time: 4.65 s\n"
     ]
    },
    {
     "data": {
      "text/plain": [
       "8"
      ]
     },
     "execution_count": 3,
     "metadata": {},
     "output_type": "execute_result"
    }
   ],
   "source": [
    "%%time\n",
    "\n",
    "from llama_index.readers.web import TrafilaturaWebReader\n",
    "\n",
    "documents = TrafilaturaWebReader().load_data(\n",
    "    [ f\"https://baike.baidu.com/item/{item}\" for item in items]\n",
    ")\n",
    "\n",
    "len(documents)"
   ]
  },
  {
   "cell_type": "code",
   "execution_count": 4,
   "id": "f1659075-b069-42cf-8caa-f7444c0979df",
   "metadata": {},
   "outputs": [
    {
     "name": "stdout",
     "output_type": "stream",
     "text": [
      "CPU times: user 2.01 ms, sys: 67 µs, total: 2.08 ms\n",
      "Wall time: 1.79 ms\n"
     ]
    }
   ],
   "source": [
    "%%time\n",
    "\n",
    "import os\n",
    "\n",
    "documents_data=[[items[index], documents[index].text] for index,item in enumerate(items)]\n",
    "\n",
    "for data in documents_data:\n",
    "    with open(os.path.join('./data', f\"{data[0]}.txt\"), \"w\", encoding=\"utf-8\") as file:\n",
    "        file.write(data[1])\n",
    "    "
   ]
  },
  {
   "cell_type": "code",
   "execution_count": 5,
   "id": "1f5196ee-51ea-4c4d-9bba-2b976d73cc1d",
   "metadata": {},
   "outputs": [
    {
     "name": "stdout",
     "output_type": "stream",
     "text": [
      "total 304K\n",
      "-rw-r--r-- 1 root root 37K Jul 17 18:36 八达岭长城.txt\n",
      "-rw-r--r-- 1 root root 14K Jul 17 18:36 北海公园.txt\n",
      "-rw-r--r-- 1 root root 80K Jul 17 18:36 国家博物馆.txt\n",
      "-rw-r--r-- 1 root root 29K Jul 17 18:36 天坛公园.txt\n",
      "-rw-r--r-- 1 root root 26K Jul 17 18:36 恭王府.txt\n",
      "-rw-r--r-- 1 root root 52K Jul 17 18:36 故宫.txt\n",
      "-rw-r--r-- 1 root root 22K Jul 17 18:36 景山公园.txt\n",
      "-rw-r--r-- 1 root root 31K Jul 17 18:36 颐和园.txt\n"
     ]
    }
   ],
   "source": [
    "!ls ./data -hl"
   ]
  },
  {
   "cell_type": "markdown",
   "id": "edb9bc90-3ddf-45b4-aa18-add9f68e3284",
   "metadata": {},
   "source": [
    "## 设置 LlamaIndex 全局变量"
   ]
  },
  {
   "cell_type": "code",
   "execution_count": 6,
   "id": "0e0d6bcd-9ff9-4271-922b-bb2110c4e7fa",
   "metadata": {},
   "outputs": [
    {
     "name": "stdout",
     "output_type": "stream",
     "text": [
      "CPU times: user 668 ms, sys: 79.7 ms, total: 748 ms\n",
      "Wall time: 857 ms\n"
     ]
    }
   ],
   "source": [
    "%%time\n",
    "\n",
    "# 加载llm和embeddings\n",
    "%run ../../utils2.py\n",
    "\n",
    "from llama_index.core import Settings\n",
    "\n",
    "Settings.llm=get_llm(model=\"qwen2-7b-6k\")\n",
    "\n",
    "# Settings.embed_model = get_embedding(model_name=\"quentinz/bge-large-zh-v1.5\")\n",
    "# embedding_dimension=1024\n",
    "\n",
    "Settings.embed_model = get_embedding(model_name=\"rjmalagon/gte-qwen2-1.5b-instruct-embed-f16\")\n",
    "embedding_dimension=1536\n",
    "\n",
    "persist_dir=\"/tmp/simple-kbs\"\n",
    "!rm -rf $persist_dir"
   ]
  },
  {
   "cell_type": "markdown",
   "id": "2f96d5aa-ffbf-46cb-9c48-42a947042789",
   "metadata": {},
   "source": [
    "## 基于嵌入的检索查询"
   ]
  },
  {
   "cell_type": "markdown",
   "id": "f066b779-9a6f-4100-bbc2-da7ac1aed9c6",
   "metadata": {},
   "source": [
    "### 设置向量存储 - Qdrant"
   ]
  },
  {
   "cell_type": "code",
   "execution_count": 7,
   "id": "1473e357-9d64-4d81-9619-18d6dbaf0a5a",
   "metadata": {},
   "outputs": [
    {
     "name": "stdout",
     "output_type": "stream",
     "text": [
      "CPU times: user 831 ms, sys: 35.3 ms, total: 866 ms\n",
      "Wall time: 866 ms\n"
     ]
    }
   ],
   "source": [
    "%%time\n",
    "\n",
    "from qdrant_client import QdrantClient\n",
    "from qdrant_client import models\n",
    "\n",
    "client = QdrantClient(\":memory:\")\n",
    "collection_name=\"attractions\"\n",
    "\n",
    "if not client.collection_exists(collection_name):\n",
    "    client.create_collection(\n",
    "        collection_name=collection_name,\n",
    "        vectors_config=models.VectorParams(\n",
    "            size=embedding_dimension,\n",
    "            distance=models.Distance.COSINE,\n",
    "        ),\n",
    "    )"
   ]
  },
  {
   "cell_type": "markdown",
   "id": "b06b98db-53e7-43c4-98cb-9a80f301f928",
   "metadata": {},
   "source": [
    "### 创建向量存储索引"
   ]
  },
  {
   "cell_type": "code",
   "execution_count": 8,
   "id": "b8366929-34a9-4ebd-9a15-6b851e397ff4",
   "metadata": {},
   "outputs": [
    {
     "name": "stdout",
     "output_type": "stream",
     "text": [
      "CPU times: user 495 ms, sys: 19.8 ms, total: 515 ms\n",
      "Wall time: 514 ms\n"
     ]
    },
    {
     "data": {
      "text/plain": [
       "1309"
      ]
     },
     "execution_count": 8,
     "metadata": {},
     "output_type": "execute_result"
    }
   ],
   "source": [
    "%%time\n",
    "\n",
    "from llama_index.vector_stores.qdrant import QdrantVectorStore\n",
    "from llama_index.core import StorageContext\n",
    "from llama_index.core import VectorStoreIndex\n",
    "from llama_index.core.node_parser import SentenceSplitter\n",
    "from qdrant_client import models\n",
    "\n",
    "vector_store = QdrantVectorStore(\n",
    "    client=client, \n",
    "    collection_name=collection_name,\n",
    "    vectors_config=models.VectorParams(\n",
    "        size=embedding_dimension,\n",
    "        distance=models.Distance.COSINE,\n",
    "    ),\n",
    ")\n",
    "storage_context = StorageContext.from_defaults(\n",
    "    vector_store=vector_store,\n",
    ")\n",
    "\n",
    "parser = SentenceSplitter(\n",
    "    chunk_size=128,\n",
    "    chunk_overlap=10\n",
    ")\n",
    "nodes = parser.get_nodes_from_documents(documents)\n",
    "\n",
    "len(nodes)"
   ]
  },
  {
   "cell_type": "code",
   "execution_count": 9,
   "id": "5a44b9cb-7e58-4651-b6fa-ca040984a93a",
   "metadata": {},
   "outputs": [
    {
     "name": "stdout",
     "output_type": "stream",
     "text": [
      "CPU times: user 7.55 s, sys: 194 ms, total: 7.75 s\n",
      "Wall time: 2min 22s\n"
     ]
    }
   ],
   "source": [
    "%%time\n",
    "\n",
    "index = VectorStoreIndex(nodes, storage_context=storage_context)"
   ]
  },
  {
   "cell_type": "markdown",
   "id": "afd0b2d5-8a2a-41e6-b1c9-f4801a730a8b",
   "metadata": {},
   "source": [
    "### 保存索引数据"
   ]
  },
  {
   "cell_type": "code",
   "execution_count": 10,
   "id": "fbaecd7d-eb95-4c33-ba7f-b6582250d230",
   "metadata": {},
   "outputs": [
    {
     "name": "stdout",
     "output_type": "stream",
     "text": [
      "CPU times: user 1.71 ms, sys: 0 ns, total: 1.71 ms\n",
      "Wall time: 1.59 ms\n"
     ]
    }
   ],
   "source": [
    "%%time\n",
    "\n",
    "index.storage_context.persist(persist_dir)"
   ]
  },
  {
   "cell_type": "markdown",
   "id": "1598ffa8-cada-4eb2-8006-8292ec2b6d11",
   "metadata": {},
   "source": [
    "### 加载索引数据"
   ]
  },
  {
   "cell_type": "code",
   "execution_count": 11,
   "id": "eb581bb4-7fd6-4134-b1fa-fa3321c81330",
   "metadata": {},
   "outputs": [
    {
     "name": "stdout",
     "output_type": "stream",
     "text": [
      "CPU times: user 2.08 ms, sys: 0 ns, total: 2.08 ms\n",
      "Wall time: 1.8 ms\n"
     ]
    }
   ],
   "source": [
    "%%time\n",
    "\n",
    "from llama_index.core import load_index_from_storage\n",
    "\n",
    "storage_context = StorageContext.from_defaults(\n",
    "    vector_store=vector_store,\n",
    "    persist_dir=persist_dir\n",
    ")\n",
    "index = load_index_from_storage(storage_context)"
   ]
  },
  {
   "cell_type": "markdown",
   "id": "fc1b7ba4-6a83-4d65-b69e-9739aee7a6c2",
   "metadata": {},
   "source": [
    "### 使用嵌入检索"
   ]
  },
  {
   "cell_type": "code",
   "execution_count": 12,
   "id": "f8c2481e-d170-48b9-ad94-47c188ca4f3d",
   "metadata": {},
   "outputs": [
    {
     "name": "stdout",
     "output_type": "stream",
     "text": [
      "CPU times: user 20 ms, sys: 0 ns, total: 20 ms\n",
      "Wall time: 30.6 ms\n"
     ]
    },
    {
     "data": {
      "text/plain": [
       "[NodeWithScore(node=TextNode(id_='d70c925e-6d6a-481f-bbfe-d03d1d3b72e4', embedding=None, metadata={}, excluded_embed_metadata_keys=[], excluded_llm_metadata_keys=[], relationships={<NodeRelationship.SOURCE: '1'>: RelatedNodeInfo(node_id='https://baike.baidu.com/item/八达岭长城', node_type=<ObjectType.DOCUMENT: '4'>, metadata={}, hash='6094cad509ca3fc0e41e11bb8f15093212609bf61c5ba4c8bd5a99dc37df17d3'), <NodeRelationship.PREVIOUS: '2'>: RelatedNodeInfo(node_id='f9007a2d-cc1f-437c-9251-5de91b27899e', node_type=<ObjectType.TEXT: '1'>, metadata={}, hash='f7e68e475bf69ac681f99c22c1906ea43568c9f05d6ac02636d89d6a7b742c57'), <NodeRelationship.NEXT: '3'>: RelatedNodeInfo(node_id='40b45cab-205b-4a5d-ab99-048d33826219', node_type=<ObjectType.TEXT: '1'>, metadata={}, hash='194bd5a3abb3dca61735dfe8ffc435a99bd5a3823e8c08d4ee1989f94ae65e14')}, text='如果当停车辆接近这个数量时会在距景区2、3公里以外将车辆分流到附近的野生动物园外和岔道村西的停车场里。为了方便游客，分流后景区将设立摆渡车，免费将游客拉到长城登城口附近。 [27]\\n旺季门票执行时间：每年4月1日——10月31日\\n长城普通成人票', start_char_idx=12513, end_char_idx=12635, text_template='{metadata_str}\\n\\n{content}', metadata_template='{key}: {value}', metadata_seperator='\\n'), score=0.7401218625150386),\n",
       " NodeWithScore(node=TextNode(id_='40b45cab-205b-4a5d-ab99-048d33826219', embedding=None, metadata={}, excluded_embed_metadata_keys=[], excluded_llm_metadata_keys=[], relationships={<NodeRelationship.SOURCE: '1'>: RelatedNodeInfo(node_id='https://baike.baidu.com/item/八达岭长城', node_type=<ObjectType.DOCUMENT: '4'>, metadata={}, hash='6094cad509ca3fc0e41e11bb8f15093212609bf61c5ba4c8bd5a99dc37df17d3'), <NodeRelationship.PREVIOUS: '2'>: RelatedNodeInfo(node_id='d70c925e-6d6a-481f-bbfe-d03d1d3b72e4', node_type=<ObjectType.TEXT: '1'>, metadata={}, hash='cade2b1bff431302e4ef58de4cd644dd2d30ba700cda58d4207e6453ef064594'), <NodeRelationship.NEXT: '3'>: RelatedNodeInfo(node_id='534b1fd3-d3d0-4b82-a3a2-bf78d538985a', node_type=<ObjectType.TEXT: '1'>, metadata={}, hash='839ed334fec2eae2961178cc76f45fd2fede27c0e1cea629581807f6d0dbf4d8')}, text='40元\\n普通优惠门票：学生凭有效证件（不含成教） 20元\\n60岁（含）以上老年人凭有效证件 20元\\n6周岁（不含）至18周岁（含）未成年人凭有效证件 20元\\n享社会保障金人员凭领取证 20元\\n淡季门票执行时间：每年11月1日——次年3月31日\\n长城普通成人票', start_char_idx=12636, end_char_idx=12765, text_template='{metadata_str}\\n\\n{content}', metadata_template='{key}: {value}', metadata_seperator='\\n'), score=0.7391461995920563)]"
      ]
     },
     "execution_count": 12,
     "metadata": {},
     "output_type": "execute_result"
    }
   ],
   "source": [
    "%%time\n",
    "\n",
    "retriever = index.as_retriever()\n",
    "nodes = retriever.retrieve(\"颐和园门票多少钱\")\n",
    "\n",
    "nodes"
   ]
  },
  {
   "cell_type": "markdown",
   "id": "21fdf6a4-0f9f-4b25-98c1-63bf995e3d8d",
   "metadata": {},
   "source": [
    "### 基于嵌入检索的查询"
   ]
  },
  {
   "cell_type": "code",
   "execution_count": 13,
   "id": "7a3595f6-dd2a-4645-afe6-559360f5fd9e",
   "metadata": {},
   "outputs": [
    {
     "name": "stdout",
     "output_type": "stream",
     "text": [
      "颐和园的门票价格为：\n",
      "- 旺季：60元/张\n",
      "- 淡季：50元/张\n",
      "\n",
      "同时，颐和园提供半价票。CPU times: user 204 ms, sys: 286 ms, total: 490 ms\n",
      "Wall time: 4.02 s\n"
     ]
    }
   ],
   "source": [
    "%%time\n",
    "\n",
    "from llama_index.core import get_response_synthesizer\n",
    "from llama_index.core.query_engine import RetrieverQueryEngine\n",
    "\n",
    "retriever = index.as_retriever(\n",
    "    similarity_top_k=5,\n",
    ")\n",
    "\n",
    "response_synthesizer = get_response_synthesizer(\n",
    "    response_mode=\"tree_summarize\",\n",
    "    streaming=True,\n",
    ")\n",
    "\n",
    "# assemble query engine\n",
    "query_engine = RetrieverQueryEngine(\n",
    "    retriever=retriever,\n",
    "    response_synthesizer=response_synthesizer,\n",
    ")\n",
    "\n",
    "# query\n",
    "streaming_response = query_engine.query(\"颐和园门票多少钱\")\n",
    "streaming_response.print_response_stream()"
   ]
  },
  {
   "cell_type": "markdown",
   "id": "455d1188-7248-4b03-b220-9ec7e7353074",
   "metadata": {},
   "source": [
    "## 基于 BM25 的检索查询"
   ]
  },
  {
   "cell_type": "markdown",
   "id": "a369b638-7db9-4577-8c23-406459ab182e",
   "metadata": {},
   "source": [
    "### 使用 BM25 检索"
   ]
  },
  {
   "cell_type": "code",
   "execution_count": 15,
   "id": "3a43e901-3774-4164-ac0c-091f33ce1bee",
   "metadata": {},
   "outputs": [
    {
     "name": "stdout",
     "output_type": "stream",
     "text": [
      "CPU times: user 2.02 ms, sys: 8.39 ms, total: 10.4 ms\n",
      "Wall time: 412 ms\n"
     ]
    },
    {
     "name": "stderr",
     "output_type": "stream",
     "text": [
      "[nltk_data] Downloading package stopwords to /root/nltk_data...\n",
      "[nltk_data]   Package stopwords is already up-to-date!\n"
     ]
    },
    {
     "data": {
      "text/plain": [
       "True"
      ]
     },
     "execution_count": 15,
     "metadata": {},
     "output_type": "execute_result"
    }
   ],
   "source": [
    "%%time\n",
    "\n",
    "# 下载停用词\n",
    "\n",
    "# 设置 HTTP 代理环境变量\n",
    "# https://github.com/nltk/nltk_data/issues/154#issuecomment-2144880495\n",
    "http_proxy=\"http://192.168.0.134:7890\"\n",
    "\n",
    "import nltk\n",
    "nltk.set_proxy(f'{http_proxy}')\n",
    "nltk.download('stopwords')"
   ]
  },
  {
   "cell_type": "code",
   "execution_count": 16,
   "id": "5bb0a5ef-c423-4c15-a19e-003cada07aa1",
   "metadata": {},
   "outputs": [
    {
     "name": "stdout",
     "output_type": "stream",
     "text": [
      "CPU times: user 71.3 ms, sys: 8.25 ms, total: 79.6 ms\n",
      "Wall time: 79.8 ms\n"
     ]
    }
   ],
   "source": [
    "%%time\n",
    "\n",
    "import jieba\n",
    "from typing import List\n",
    "from nltk.corpus import stopwords\n",
    "\n",
    "def chinese_tokenizer(text: str) -> List[str]:\n",
    "    # Use jieba to segment Chinese text\n",
    "    return list(jieba.cut(text))"
   ]
  },
  {
   "cell_type": "code",
   "execution_count": 27,
   "id": "a80de1a7-6c73-429f-9c6f-7f9453769aa6",
   "metadata": {},
   "outputs": [
    {
     "name": "stdout",
     "output_type": "stream",
     "text": [
      "CPU times: user 667 ms, sys: 0 ns, total: 667 ms\n",
      "Wall time: 666 ms\n"
     ]
    }
   ],
   "source": [
    "%%time\n",
    "\n",
    "from llama_index.retrievers.bm25 import BM25Retriever\n",
    "from llama_index.core.storage.docstore import SimpleDocumentStore\n",
    "\n",
    "splitter = SentenceSplitter(chunk_size=128, chunk_overlap=10)\n",
    "docstore = SimpleDocumentStore()\n",
    "docstore.add_documents(splitter.get_nodes_from_documents(documents))\n",
    "\n",
    "retriever=BM25Retriever.from_defaults(\n",
    "    docstore=docstore, \n",
    "    similarity_top_k=2,\n",
    "    tokenizer=chinese_tokenizer,\n",
    ")"
   ]
  },
  {
   "cell_type": "code",
   "execution_count": 28,
   "id": "99f76acc-9a0e-4b04-8812-6de57bdb8290",
   "metadata": {},
   "outputs": [
    {
     "name": "stdout",
     "output_type": "stream",
     "text": [
      "CPU times: user 18.3 ms, sys: 0 ns, total: 18.3 ms\n",
      "Wall time: 121 ms\n"
     ]
    },
    {
     "data": {
      "text/plain": [
       "[NodeWithScore(node=TextNode(id_='d70c925e-6d6a-481f-bbfe-d03d1d3b72e4', embedding=None, metadata={}, excluded_embed_metadata_keys=[], excluded_llm_metadata_keys=[], relationships={<NodeRelationship.SOURCE: '1'>: RelatedNodeInfo(node_id='https://baike.baidu.com/item/八达岭长城', node_type=<ObjectType.DOCUMENT: '4'>, metadata={}, hash='6094cad509ca3fc0e41e11bb8f15093212609bf61c5ba4c8bd5a99dc37df17d3'), <NodeRelationship.PREVIOUS: '2'>: RelatedNodeInfo(node_id='f9007a2d-cc1f-437c-9251-5de91b27899e', node_type=<ObjectType.TEXT: '1'>, metadata={}, hash='f7e68e475bf69ac681f99c22c1906ea43568c9f05d6ac02636d89d6a7b742c57'), <NodeRelationship.NEXT: '3'>: RelatedNodeInfo(node_id='40b45cab-205b-4a5d-ab99-048d33826219', node_type=<ObjectType.TEXT: '1'>, metadata={}, hash='194bd5a3abb3dca61735dfe8ffc435a99bd5a3823e8c08d4ee1989f94ae65e14')}, text='如果当停车辆接近这个数量时会在距景区2、3公里以外将车辆分流到附近的野生动物园外和岔道村西的停车场里。为了方便游客，分流后景区将设立摆渡车，免费将游客拉到长城登城口附近。 [27]\\n旺季门票执行时间：每年4月1日——10月31日\\n长城普通成人票', start_char_idx=12513, end_char_idx=12635, text_template='{metadata_str}\\n\\n{content}', metadata_template='{key}: {value}', metadata_seperator='\\n'), score=0.7401218625150386),\n",
       " NodeWithScore(node=TextNode(id_='40b45cab-205b-4a5d-ab99-048d33826219', embedding=None, metadata={}, excluded_embed_metadata_keys=[], excluded_llm_metadata_keys=[], relationships={<NodeRelationship.SOURCE: '1'>: RelatedNodeInfo(node_id='https://baike.baidu.com/item/八达岭长城', node_type=<ObjectType.DOCUMENT: '4'>, metadata={}, hash='6094cad509ca3fc0e41e11bb8f15093212609bf61c5ba4c8bd5a99dc37df17d3'), <NodeRelationship.PREVIOUS: '2'>: RelatedNodeInfo(node_id='d70c925e-6d6a-481f-bbfe-d03d1d3b72e4', node_type=<ObjectType.TEXT: '1'>, metadata={}, hash='cade2b1bff431302e4ef58de4cd644dd2d30ba700cda58d4207e6453ef064594'), <NodeRelationship.NEXT: '3'>: RelatedNodeInfo(node_id='534b1fd3-d3d0-4b82-a3a2-bf78d538985a', node_type=<ObjectType.TEXT: '1'>, metadata={}, hash='839ed334fec2eae2961178cc76f45fd2fede27c0e1cea629581807f6d0dbf4d8')}, text='40元\\n普通优惠门票：学生凭有效证件（不含成教） 20元\\n60岁（含）以上老年人凭有效证件 20元\\n6周岁（不含）至18周岁（含）未成年人凭有效证件 20元\\n享社会保障金人员凭领取证 20元\\n淡季门票执行时间：每年11月1日——次年3月31日\\n长城普通成人票', start_char_idx=12636, end_char_idx=12765, text_template='{metadata_str}\\n\\n{content}', metadata_template='{key}: {value}', metadata_seperator='\\n'), score=0.7391461995920563)]"
      ]
     },
     "execution_count": 28,
     "metadata": {},
     "output_type": "execute_result"
    }
   ],
   "source": [
    "%%time\n",
    "\n",
    "retriever = index.as_retriever()\n",
    "nodes = retriever.retrieve(\"颐和园门票多少钱\")\n",
    "\n",
    "nodes"
   ]
  },
  {
   "cell_type": "markdown",
   "id": "eb641de1-f879-4534-9100-3bd1acec46b1",
   "metadata": {},
   "source": [
    "### 使用 BM25 检索的查询"
   ]
  },
  {
   "cell_type": "code",
   "execution_count": 29,
   "id": "ebc883d3-7a41-4c38-ad0c-c23885eed2b9",
   "metadata": {},
   "outputs": [
    {
     "name": "stdout",
     "output_type": "stream",
     "text": [
      "The provided context does not mention the price of tickets for the Summer Palace (颐和园). Please provide more specific details or check the current pricing information for the Summer Palace.CPU times: user 70.9 ms, sys: 120 ms, total: 191 ms\n",
      "Wall time: 1.2 s\n"
     ]
    }
   ],
   "source": [
    "%%time\n",
    "\n",
    "response_synthesizer = get_response_synthesizer(\n",
    "    response_mode=\"tree_summarize\",\n",
    "    streaming=True,\n",
    ")\n",
    "\n",
    "# assemble query engine\n",
    "query_engine = RetrieverQueryEngine(\n",
    "    retriever=retriever,\n",
    "    response_synthesizer=response_synthesizer,\n",
    ")\n",
    "\n",
    "# query\n",
    "streaming_response = query_engine.query(\"颐和园门票多少钱\")\n",
    "streaming_response.print_response_stream()"
   ]
  },
  {
   "cell_type": "markdown",
   "id": "8722389c-354d-428b-9cf4-98732e7cf567",
   "metadata": {},
   "source": [
    "## 基于混合检索的查询"
   ]
  },
  {
   "cell_type": "markdown",
   "id": "462cbc4a-39cf-474c-8f36-070855b8c907",
   "metadata": {},
   "source": [
    "### 混合检索"
   ]
  },
  {
   "cell_type": "code",
   "execution_count": 36,
   "id": "96187086-4e60-4e51-8c30-20409787f1d4",
   "metadata": {},
   "outputs": [
    {
     "name": "stdout",
     "output_type": "stream",
     "text": [
      "CPU times: user 362 ms, sys: 0 ns, total: 362 ms\n",
      "Wall time: 361 ms\n"
     ]
    }
   ],
   "source": [
    "%%time\n",
    "\n",
    "from llama_index.core.retrievers import QueryFusionRetriever\n",
    "\n",
    "retriever = QueryFusionRetriever(\n",
    "    [\n",
    "        index.as_retriever(similarity_top_k=5),\n",
    "        BM25Retriever.from_defaults( \n",
    "            docstore=docstore,\n",
    "            similarity_top_k=5,\n",
    "            tokenizer=chinese_tokenizer,\n",
    "        ),\n",
    "    ],\n",
    "    num_queries=1,\n",
    "    use_async=True,\n",
    ")"
   ]
  },
  {
   "cell_type": "code",
   "execution_count": 37,
   "id": "330f3fba-5524-43a8-9d35-e704eff7ef0d",
   "metadata": {},
   "outputs": [
    {
     "name": "stdout",
     "output_type": "stream",
     "text": [
      "CPU times: user 18.7 ms, sys: 622 µs, total: 19.3 ms\n",
      "Wall time: 128 ms\n"
     ]
    },
    {
     "data": {
      "text/plain": [
       "[NodeWithScore(node=TextNode(id_='d70c925e-6d6a-481f-bbfe-d03d1d3b72e4', embedding=None, metadata={}, excluded_embed_metadata_keys=[], excluded_llm_metadata_keys=[], relationships={<NodeRelationship.SOURCE: '1'>: RelatedNodeInfo(node_id='https://baike.baidu.com/item/八达岭长城', node_type=<ObjectType.DOCUMENT: '4'>, metadata={}, hash='6094cad509ca3fc0e41e11bb8f15093212609bf61c5ba4c8bd5a99dc37df17d3'), <NodeRelationship.PREVIOUS: '2'>: RelatedNodeInfo(node_id='f9007a2d-cc1f-437c-9251-5de91b27899e', node_type=<ObjectType.TEXT: '1'>, metadata={}, hash='f7e68e475bf69ac681f99c22c1906ea43568c9f05d6ac02636d89d6a7b742c57'), <NodeRelationship.NEXT: '3'>: RelatedNodeInfo(node_id='40b45cab-205b-4a5d-ab99-048d33826219', node_type=<ObjectType.TEXT: '1'>, metadata={}, hash='194bd5a3abb3dca61735dfe8ffc435a99bd5a3823e8c08d4ee1989f94ae65e14')}, text='如果当停车辆接近这个数量时会在距景区2、3公里以外将车辆分流到附近的野生动物园外和岔道村西的停车场里。为了方便游客，分流后景区将设立摆渡车，免费将游客拉到长城登城口附近。 [27]\\n旺季门票执行时间：每年4月1日——10月31日\\n长城普通成人票', start_char_idx=12513, end_char_idx=12635, text_template='{metadata_str}\\n\\n{content}', metadata_template='{key}: {value}', metadata_seperator='\\n'), score=0.740197441809586),\n",
       " NodeWithScore(node=TextNode(id_='40b45cab-205b-4a5d-ab99-048d33826219', embedding=None, metadata={}, excluded_embed_metadata_keys=[], excluded_llm_metadata_keys=[], relationships={<NodeRelationship.SOURCE: '1'>: RelatedNodeInfo(node_id='https://baike.baidu.com/item/八达岭长城', node_type=<ObjectType.DOCUMENT: '4'>, metadata={}, hash='6094cad509ca3fc0e41e11bb8f15093212609bf61c5ba4c8bd5a99dc37df17d3'), <NodeRelationship.PREVIOUS: '2'>: RelatedNodeInfo(node_id='d70c925e-6d6a-481f-bbfe-d03d1d3b72e4', node_type=<ObjectType.TEXT: '1'>, metadata={}, hash='cade2b1bff431302e4ef58de4cd644dd2d30ba700cda58d4207e6453ef064594'), <NodeRelationship.NEXT: '3'>: RelatedNodeInfo(node_id='534b1fd3-d3d0-4b82-a3a2-bf78d538985a', node_type=<ObjectType.TEXT: '1'>, metadata={}, hash='839ed334fec2eae2961178cc76f45fd2fede27c0e1cea629581807f6d0dbf4d8')}, text='40元\\n普通优惠门票：学生凭有效证件（不含成教） 20元\\n60岁（含）以上老年人凭有效证件 20元\\n6周岁（不含）至18周岁（含）未成年人凭有效证件 20元\\n享社会保障金人员凭领取证 20元\\n淡季门票执行时间：每年11月1日——次年3月31日\\n长城普通成人票', start_char_idx=12636, end_char_idx=12765, text_template='{metadata_str}\\n\\n{content}', metadata_template='{key}: {value}', metadata_seperator='\\n'), score=0.7392907483416385),\n",
       " NodeWithScore(node=TextNode(id_='0a6fefe7-4ba5-4873-951c-6b8160976da7', embedding=None, metadata={}, excluded_embed_metadata_keys=[], excluded_llm_metadata_keys=[], relationships={<NodeRelationship.SOURCE: '1'>: RelatedNodeInfo(node_id='https://baike.baidu.com/item/故宫', node_type=<ObjectType.DOCUMENT: '4'>, metadata={}, hash='6c8a274ed82a83788d9658e4b0e84456e1f42f0abc191ace9c60701e9dea8bdf'), <NodeRelationship.PREVIOUS: '2'>: RelatedNodeInfo(node_id='2e7642e6-778b-47e2-bf76-c6cb8fc58ce5', node_type=<ObjectType.TEXT: '1'>, metadata={}, hash='990d46fe1ff5f091ff26887dee20d8322410316eb73c755efb7f51b061f70e80'), <NodeRelationship.NEXT: '3'>: RelatedNodeInfo(node_id='2804426c-a190-444d-ae81-532d40673c29', node_type=<ObjectType.TEXT: '1'>, metadata={}, hash='4576834864a41701d986a78712ab48fedf18be1d98523fde7be3450c083eea3c')}, text='1-10.31：08:30-17:00(停止售票16:00,最晚入园16:10)；11.1-3.31：08:30-16:30(停止售票15:30,最晚入园15:40)；除法定节假日外每周一闭馆 [4] [84]\\n- 门票价格\\n- 60元旺季/40元淡季', start_char_idx=876, end_char_idx=1002, text_template='{metadata_str}\\n\\n{content}', metadata_template='{key}: {value}', metadata_seperator='\\n'), score=0.6823728403411577),\n",
       " NodeWithScore(node=TextNode(id_='6074cfda-99bb-4126-ba3b-33f69af04fd4', embedding=None, metadata={}, excluded_embed_metadata_keys=[], excluded_llm_metadata_keys=[], relationships={<NodeRelationship.SOURCE: '1'>: RelatedNodeInfo(node_id='https://baike.baidu.com/item/颐和园', node_type=<ObjectType.DOCUMENT: '4'>, metadata={}, hash='f97d71f24a423b6c21e16b6ea40bad2744a4342145c4d2c6b8d97a21255561bb'), <NodeRelationship.PREVIOUS: '2'>: RelatedNodeInfo(node_id='f8144e75-3dab-46c2-a830-af51dceea6b7', node_type=<ObjectType.TEXT: '1'>, metadata={}, hash='12def6265988590bba8411b84c1553cd624e8fc67b80f4d35a897a1e73470915'), <NodeRelationship.NEXT: '3'>: RelatedNodeInfo(node_id='f1cc7195-881f-4b84-b6ac-9b0aaa607337', node_type=<ObjectType.TEXT: '1'>, metadata={}, hash='f7328b2d14555039243d9cdc9f44b10d4c80232f3e2c449619f060fdd8eb696c')}, text='颐和园联票：60元/张（旺季），50元/张（淡季），有半价票。1、联票包括门票和园中园门票 （园中园包括文昌院、德和园、佛香阁和苏州街）。2、门票和联票均有优惠票，优惠门票：15元。', start_char_idx=11483, end_char_idx=11574, text_template='{metadata_str}\\n\\n{content}', metadata_template='{key}: {value}', metadata_seperator='\\n'), score=0.6817913059062369),\n",
       " NodeWithScore(node=TextNode(id_='31f1885f-9877-410c-b379-c2ee8ef36bc1', embedding=None, metadata={}, excluded_embed_metadata_keys=[], excluded_llm_metadata_keys=[], relationships={<NodeRelationship.SOURCE: '1'>: RelatedNodeInfo(node_id='https://baike.baidu.com/item/故宫', node_type=<ObjectType.DOCUMENT: '4'>, metadata={}, hash='6c8a274ed82a83788d9658e4b0e84456e1f42f0abc191ace9c60701e9dea8bdf'), <NodeRelationship.PREVIOUS: '2'>: RelatedNodeInfo(node_id='63be1f0a-ad74-48f7-8f26-4224ffc6bae9', node_type=<ObjectType.TEXT: '1'>, metadata={}, hash='81c35af36693d5ce6dc7990ccda2cb32cada4d687e74dc0e95757499969ac151'), <NodeRelationship.NEXT: '3'>: RelatedNodeInfo(node_id='9f7a145a-a6cb-49c4-b2a2-98bf93612b8e', node_type=<ObjectType.TEXT: '1'>, metadata={}, hash='8ad832a6b9f4d087e9c4ac3dafaffc558d48c3fce724b7489ad0010fdc4ca974')}, text='基于此，两岸故宫博物院在学术研究上的交流与合作就是不可避免的，人为地阻隔只能是暂时的，事实上这种交流也是在不断地发展。 [75]\\n北京故宫门票价格旺季60元，淡季40元。', start_char_idx=17946, end_char_idx=18031, text_template='{metadata_str}\\n\\n{content}', metadata_template='{key}: {value}', metadata_seperator='\\n'), score=0.6629508245417159)]"
      ]
     },
     "execution_count": 37,
     "metadata": {},
     "output_type": "execute_result"
    }
   ],
   "source": [
    "%%time\n",
    "\n",
    "retriever = index.as_retriever(\n",
    "    similarity_top_k=5,\n",
    ")\n",
    "nodes = retriever.retrieve(\"颐和园门票多少钱\")\n",
    "\n",
    "nodes"
   ]
  },
  {
   "cell_type": "code",
   "execution_count": 38,
   "id": "c55cffc4-c4ff-4414-b105-309bd896aba7",
   "metadata": {},
   "outputs": [
    {
     "data": {
      "text/plain": [
       "5"
      ]
     },
     "execution_count": 38,
     "metadata": {},
     "output_type": "execute_result"
    }
   ],
   "source": [
    "len(nodes)"
   ]
  },
  {
   "cell_type": "markdown",
   "id": "10ce913b-ada4-42ec-b1a9-95ae793a1596",
   "metadata": {},
   "source": [
    "### 基于混合检索的查询"
   ]
  },
  {
   "cell_type": "code",
   "execution_count": 39,
   "id": "aaf46677-92e2-4917-a432-f5d9720f6006",
   "metadata": {},
   "outputs": [
    {
     "name": "stdout",
     "output_type": "stream",
     "text": [
      "颐和园的门票价格为：\n",
      "- 旺季：60元/张\n",
      "- 淡季：50元/张\n",
      "\n",
      "同时，颐和园提供半价票。CPU times: user 75.7 ms, sys: 137 ms, total: 213 ms\n",
      "Wall time: 3.93 s\n"
     ]
    }
   ],
   "source": [
    "%%time\n",
    "\n",
    "response_synthesizer = get_response_synthesizer(\n",
    "    response_mode=\"tree_summarize\",\n",
    "    streaming=True,\n",
    ")\n",
    "\n",
    "# assemble query engine\n",
    "query_engine = RetrieverQueryEngine(\n",
    "    retriever=retriever,\n",
    "    response_synthesizer=response_synthesizer,\n",
    ")\n",
    "\n",
    "# query\n",
    "streaming_response = query_engine.query(\"颐和园门票多少钱\")\n",
    "streaming_response.print_response_stream()"
   ]
  },
  {
   "cell_type": "code",
   "execution_count": null,
   "id": "08486f06-06a5-4191-88b4-35dfda5dac8e",
   "metadata": {},
   "outputs": [],
   "source": []
  }
 ],
 "metadata": {
  "kernelspec": {
   "display_name": "Python 3 (ipykernel)",
   "language": "python",
   "name": "python3"
  },
  "language_info": {
   "codemirror_mode": {
    "name": "ipython",
    "version": 3
   },
   "file_extension": ".py",
   "mimetype": "text/x-python",
   "name": "python",
   "nbconvert_exporter": "python",
   "pygments_lexer": "ipython3",
   "version": "3.10.12"
  }
 },
 "nbformat": 4,
 "nbformat_minor": 5
}
