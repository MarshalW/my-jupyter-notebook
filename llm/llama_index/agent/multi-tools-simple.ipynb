{
 "cells": [
  {
   "cell_type": "markdown",
   "id": "a9addd1e-2231-4cab-8c1b-ece895ae4bb3",
   "metadata": {},
   "source": [
    "# 多个function call并列情况下是否能正常工作"
   ]
  },
  {
   "cell_type": "markdown",
   "id": "4007da68-88a2-438a-b11f-f95fe76bf237",
   "metadata": {},
   "source": [
    "看起来是不能正常工作。\n",
    "\n",
    "出现了执行一个函数后又去执行了另一个函数。"
   ]
  },
  {
   "cell_type": "code",
   "execution_count": 1,
   "id": "ade1c614-d2cd-47c2-8fa4-e25b3b3f11be",
   "metadata": {},
   "outputs": [
    {
     "name": "stdout",
     "output_type": "stream",
     "text": [
      "CPU times: user 3.36 s, sys: 340 ms, total: 3.7 s\n",
      "Wall time: 3.33 s\n"
     ]
    }
   ],
   "source": [
    "%%time\n",
    "\n",
    "# 加载llm和embeddings\n",
    "%run ../utils.py"
   ]
  },
  {
   "cell_type": "code",
   "execution_count": null,
   "id": "c87560c5-94c3-4e6a-981d-b747646a2a94",
   "metadata": {},
   "outputs": [],
   "source": [
    "%%time\n",
    "\n",
    "from llama_index.core.tools import BaseTool, FunctionTool"
   ]
  },
  {
   "cell_type": "code",
   "execution_count": 16,
   "id": "d8941088-8636-41a9-ae34-23616d3d8373",
   "metadata": {},
   "outputs": [
    {
     "name": "stdout",
     "output_type": "stream",
     "text": [
      "CPU times: user 594 µs, sys: 0 ns, total: 594 µs\n",
      "Wall time: 597 µs\n"
     ]
    }
   ],
   "source": [
    "%%time\n",
    "\n",
    "from llama_index.core.tools import FunctionTool\n",
    "\n",
    "def get_news(url: str) -> str:\n",
    "    \"\"\"根据url获取新闻内容\"\"\"\n",
    "    return f\"新闻内容来源于{url}\"\n",
    "\n",
    "get_news_tool = FunctionTool.from_defaults(\n",
    "            fn=get_news)\n",
    "\n",
    "def query(query: str) ->str:\n",
    "    \"\"\"根据查询提示词得到信息\"\"\"\n",
    "\n",
    "    content=\"安全事故频发、“吹哨人”被曝遭到报复，让美国波音公司深陷舆论和信任危机。\"\n",
    "    return f\"根据{query}查询到信息\\n\\n{content}\"\n",
    "\n",
    "query_tool = FunctionTool.from_defaults(\n",
    "            fn=query)"
   ]
  },
  {
   "cell_type": "code",
   "execution_count": 17,
   "id": "0238eb35-49a6-4119-90bf-97b9ad0c5535",
   "metadata": {},
   "outputs": [
    {
     "name": "stdout",
     "output_type": "stream",
     "text": [
      "CPU times: user 141 µs, sys: 16 µs, total: 157 µs\n",
      "Wall time: 159 µs\n"
     ]
    }
   ],
   "source": [
    "%%time\n",
    "\n",
    "from llama_index.core.agent import ReActAgent\n",
    "\n",
    "agent = ReActAgent.from_tools(\n",
    "            [get_news_tool,query_tool], verbose=True)"
   ]
  },
  {
   "cell_type": "code",
   "execution_count": 18,
   "id": "f2c21154-ad85-4b00-8b95-c145622e5eb2",
   "metadata": {},
   "outputs": [
    {
     "name": "stdout",
     "output_type": "stream",
     "text": [
      "\u001b[1;3;38;5;200mThought: The user has provided a URL to an article. I need to use the 'get_news' tool to extract the content of this article.\n",
      "Action: get_news\n",
      "Action Input: {'url': 'https://www.guancha.cn/internation/2024_06_19_738488.shtml'}\n",
      "\u001b[0m\u001b[1;3;34mObservation: 新闻内容来源于https://www.guancha.cn/internation/2024_06_19_738488.shtml\n",
      "\u001b[0m\u001b[1;3;38;5;200mThought: I have successfully retrieved the content of the article using the 'get_news' tool. Now, I need to read and understand the content before providing an answer in the user's language.\n",
      "Action: query\n",
      "Action Input: {'query': '新闻内容'}\n",
      "\u001b[0m\u001b[1;3;34mObservation: 根据新闻内容查询到信息\n",
      "\n",
      "安全事故频发、“吹哨人”被曝遭到报复，让美国波音公司深陷舆论和信任危机。\n",
      "\u001b[0m 这篇文章讨论了波音公司因为安全事故频发以及“吹哨人”遭受报复事件，导致该公司陷入了公众关注和信任危机。CPU times: user 625 ms, sys: 123 ms, total: 748 ms\n",
      "Wall time: 5.66 s\n"
     ]
    }
   ],
   "source": [
    "%%time\n",
    "\n",
    "response = agent.stream_chat(\"https://www.guancha.cn/internation/2024_06_19_738488.shtml\")\n",
    "response.print_response_stream()"
   ]
  },
  {
   "cell_type": "code",
   "execution_count": null,
   "id": "59050e95-aef5-4783-bf16-0382a0dcbae0",
   "metadata": {},
   "outputs": [],
   "source": []
  }
 ],
 "metadata": {
  "kernelspec": {
   "display_name": "Python 3 (ipykernel)",
   "language": "python",
   "name": "python3"
  },
  "language_info": {
   "codemirror_mode": {
    "name": "ipython",
    "version": 3
   },
   "file_extension": ".py",
   "mimetype": "text/x-python",
   "name": "python",
   "nbconvert_exporter": "python",
   "pygments_lexer": "ipython3",
   "version": "3.10.12"
  }
 },
 "nbformat": 4,
 "nbformat_minor": 5
}
