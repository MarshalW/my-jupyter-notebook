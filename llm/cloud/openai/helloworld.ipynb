{
 "cells": [
  {
   "cell_type": "markdown",
   "id": "9f46f0f2-3109-4bf5-ae07-2aa25c4b2fc2",
   "metadata": {},
   "source": [
    "# Open AI 最基本的对话示例\n",
    "\n",
    "需要安装：\n",
    "\n",
    "```bash\n",
    "pip install openai python-dotenv\n",
    "```"
   ]
  },
  {
   "cell_type": "code",
   "execution_count": 3,
   "id": "d8d9d894-640b-4c24-81e1-042473255e19",
   "metadata": {},
   "outputs": [
    {
     "name": "stdout",
     "output_type": "stream",
     "text": [
      "好的，我很乐意帮助你向外星人介绍南极的位置。\n",
      "\n",
      "南极是地球上的一个大陆，位于南半球的极地地区，它覆盖了南极洲和周围的海洋区域。具体来说，南极洲位于南纬60度以南的区域，被南冰洋包围。\n",
      "\n",
      "如果你要告诉外星人南极的具体位置，你可以说南极洲位于地球的南部，在南纬60度以南，它是地球上最寒冷、最风暴、最干燥的地区之一。南极洲有着广阔的冰盖，其中包含着大量的冰和雪，也拥有世界上最厚的冰层。\n",
      "\n",
      "你还可以向外星人介绍南极的特点，例如宇航员登陆过南极，南极拥有丰富的野生动植物，包括企鹅、海豹、海鸟等，此外，在南极也可以观测到令人震撼的极光。\n",
      "\n",
      "希望这些信息对你有所帮助，让你能向外星人准确地介绍南极的位置和特点。如果你还有其他问题或需要帮助，请随时告诉我。\n"
     ]
    }
   ],
   "source": [
    "# %load_ext dotenv\n",
    "# %dotenv\n",
    "%reload_ext dotenv\n",
    "\n",
    "import openai\n",
    "import os\n",
    "\n",
    "# 设置你的OpenAI API密钥\n",
    "api_key = os.environ['API_KEY']\n",
    "openai.api_key = api_key\n",
    "\n",
    "# 定义对话\n",
    "conversation = [\n",
    "    # {\"role\": \"system\", \"content\": \"You are a helpful assistant.\"},\n",
    "    # {\"role\": \"user\", \"content\": \"Who won the world series in 2020?\"},\n",
    "    # {\"role\": \"assistant\", \"content\": \"The Los Angeles Dodgers won the World Series in 2020.\"},\n",
    "    # {\"role\": \"user\", \"content\": \"Where was it played?\"}\n",
    "    {\"role\": \"system\", \"content\": \"你是一个能干的助手\"},\n",
    "    {\"role\": \"user\", \"content\": \"你现在要帮助我向一个外星人介绍南极在哪里\"},\n",
    "]\n",
    "\n",
    "# 发送对话请求\n",
    "response = openai.ChatCompletion.create(\n",
    "  model=\"gpt-3.5-turbo\",\n",
    "  messages=conversation\n",
    ")\n",
    "\n",
    "# 提取助手的回复\n",
    "assistant_reply = response['choices'][0]['message']['content']\n",
    "\n",
    "# 打印助手的回复\n",
    "print(assistant_reply)\n"
   ]
  },
  {
   "cell_type": "code",
   "execution_count": null,
   "id": "824ca9f3-06e0-45bb-accc-92c3e7d0b8f2",
   "metadata": {},
   "outputs": [],
   "source": []
  }
 ],
 "metadata": {
  "kernelspec": {
   "display_name": "Python 3 (ipykernel)",
   "language": "python",
   "name": "python3"
  },
  "language_info": {
   "codemirror_mode": {
    "name": "ipython",
    "version": 3
   },
   "file_extension": ".py",
   "mimetype": "text/x-python",
   "name": "python",
   "nbconvert_exporter": "python",
   "pygments_lexer": "ipython3",
   "version": "3.10.12"
  }
 },
 "nbformat": 4,
 "nbformat_minor": 5
}
