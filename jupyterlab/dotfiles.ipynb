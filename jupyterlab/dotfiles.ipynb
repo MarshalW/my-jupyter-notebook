{
 "cells": [
  {
   "cell_type": "markdown",
   "id": "fe058020-191c-448e-baf3-aa152f9ad44d",
   "metadata": {},
   "source": [
    "# 怎样编辑 dotfiles \n",
    "\n",
    "默认情况下，jupyterlab 无法显示 dotfile，比如 `.env`\n",
    "\n",
    "目前我临时性的，使用 nano 在终端编辑。\n",
    "\n",
    "后续可能考虑尝试：[Option to display hidden files in the file browser side panel #2049](https://github.com/jupyterlab/jupyterlab/issues/2049#issuecomment-653913853)\n",
    "\n",
    "```bash\n",
    "jupyter lab  --ContentsManager.allow_hidden=True\n",
    "```\n",
    "\n",
    "尝试将这个参数加入镜像。\n"
   ]
  }
 ],
 "metadata": {
  "kernelspec": {
   "display_name": "Python 3 (ipykernel)",
   "language": "python",
   "name": "python3"
  },
  "language_info": {
   "codemirror_mode": {
    "name": "ipython",
    "version": 3
   },
   "file_extension": ".py",
   "mimetype": "text/x-python",
   "name": "python",
   "nbconvert_exporter": "python",
   "pygments_lexer": "ipython3",
   "version": "3.10.12"
  }
 },
 "nbformat": 4,
 "nbformat_minor": 5
}
