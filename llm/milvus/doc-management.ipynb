{
 "cells": [
  {
   "cell_type": "markdown",
   "id": "25af189c-9045-45e2-81e5-21d6a9da1047",
   "metadata": {},
   "source": [
    "# 使用 milvus 管理文档"
   ]
  },
  {
   "cell_type": "markdown",
   "id": "5e2354ed-0672-432b-8ab0-0e309f1bd253",
   "metadata": {},
   "source": [
    "## 准备"
   ]
  },
  {
   "cell_type": "code",
   "execution_count": 10,
   "id": "d5991d52-d871-406c-8193-41b96438dbc2",
   "metadata": {},
   "outputs": [
    {
     "name": "stdout",
     "output_type": "stream",
     "text": [
      "CPU times: user 22 µs, sys: 0 ns, total: 22 µs\n",
      "Wall time: 25 µs\n"
     ]
    }
   ],
   "source": [
    "%%time\n",
    "\n",
    "from llama_index.core import SummaryIndex, Document\n",
    "from llama_index.core import Settings\n",
    "\n",
    "from llama_index.llms.openai_like import OpenAILike\n",
    "from llama_index.embeddings.ollama import OllamaEmbedding\n",
    "\n",
    "from milvus import default_server\n",
    "from pymilvus import connections, utility\n",
    "\n",
    "from llama_index.core import VectorStoreIndex, StorageContext\n",
    "from llama_index.core import (\n",
    "    SimpleDirectoryReader,\n",
    "    load_index_from_storage,\n",
    "    VectorStoreIndex,\n",
    "    StorageContext,\n",
    ")\n",
    "from llama_index.vector_stores.milvus import MilvusVectorStore\n",
    "\n",
    "from llama_index.core.llms import ChatMessage"
   ]
  },
  {
   "cell_type": "code",
   "execution_count": 2,
   "id": "19535386-8565-4e34-82a8-e776cf1bb8de",
   "metadata": {},
   "outputs": [
    {
     "data": {
      "text/plain": [
       "_Settings(_llm=None, _embed_model=None, _callback_manager=None, _tokenizer=None, _node_parser=SentenceSplitter(include_metadata=True, include_prev_next_rel=True, callback_manager=<llama_index.core.callbacks.base.CallbackManager object at 0x7fecb5ea4f10>, id_func=<function default_id_func at 0x7fed7ba8f010>, chunk_size=128, chunk_overlap=10, separator=' ', paragraph_separator='\\n\\n\\n', secondary_chunking_regex='[^,.;。？！]+[,.;。？！]?'), _prompt_helper=None, _transformations=None)"
      ]
     },
     "execution_count": 2,
     "metadata": {},
     "output_type": "execute_result"
    }
   ],
   "source": [
    "Settings.chunk_size=128\n",
    "Settings.chunk_overlap=10\n",
    "\n",
    "Settings"
   ]
  },
  {
   "cell_type": "code",
   "execution_count": 3,
   "id": "1c8d64f8-c1b4-4405-bcaf-946ed0621e23",
   "metadata": {},
   "outputs": [
    {
     "name": "stdout",
     "output_type": "stream",
     "text": [
      "v2.3.5-lite\n",
      "CPU times: user 3.16 s, sys: 284 ms, total: 3.45 s\n",
      "Wall time: 6.66 s\n"
     ]
    },
    {
     "data": {
      "text/plain": [
       "19530"
      ]
     },
     "execution_count": 3,
     "metadata": {},
     "output_type": "execute_result"
    }
   ],
   "source": [
    "%%time\n",
    "\n",
    "# 启动milvus服务器\n",
    "\n",
    "default_server.set_base_dir('milvus_data')\n",
    "\n",
    "# (OPTIONAL) if you want cleanup previous data\n",
    "default_server.cleanup()\n",
    "\n",
    "# Start your milvus server\n",
    "default_server.start()\n",
    "\n",
    "# Now you could connect with localhost and the given port\n",
    "# Port is defined by default_server.listen_port\n",
    "connections.connect(host='127.0.0.1', port=default_server.listen_port)\n",
    "\n",
    "# Check if the server is ready.\n",
    "print(utility.get_server_version())\n",
    "\n",
    "# Stop your milvus server\n",
    "# default_server.stop()\n",
    "\n",
    "default_server.listen_port"
   ]
  },
  {
   "cell_type": "code",
   "execution_count": 4,
   "id": "7b286a61-9a47-4f85-b81f-e5815d9ea4b3",
   "metadata": {},
   "outputs": [
    {
     "name": "stdout",
     "output_type": "stream",
     "text": [
      "CPU times: user 114 ms, sys: 7.87 ms, total: 122 ms\n",
      "Wall time: 121 ms\n"
     ]
    }
   ],
   "source": [
    "%%time\n",
    "\n",
    "# 初始化全局 llm\n",
    "\n",
    "llm = OpenAILike(model=\"xiaoyu\", \n",
    "                 api_base=\"http://192.168.0.72:3000/v1\", \n",
    "                 api_key=\"sk-bJP6QSnUfjAYeYeE505d3eBf63A643BeB0B8E350Df9b7750\",\n",
    "                 is_chat_model=True,\n",
    "                 temperature=0.1\n",
    "                )\n",
    "\n",
    "Settings.llm =llm"
   ]
  },
  {
   "cell_type": "code",
   "execution_count": 5,
   "id": "6f89d797-7687-4086-91e9-934a6a979688",
   "metadata": {},
   "outputs": [
    {
     "name": "stdout",
     "output_type": "stream",
     "text": [
      "CPU times: user 396 ms, sys: 12.3 ms, total: 408 ms\n",
      "Wall time: 407 ms\n"
     ]
    }
   ],
   "source": [
    "%%time\n",
    "\n",
    "# 初始化全局 embedding 模型\n",
    "\n",
    "ollama_embedding = OllamaEmbedding(\n",
    "    model_name=\"dztech/bge-large-zh:v1.5\",\n",
    "    # model_name=\"bge-m3:latest\",\n",
    "    base_url=\"http://192.168.0.72:11435\",\n",
    "    ollama_additional_kwargs={\"mirostat\": 0}, # -mirostat N 使用 Mirostat 采样。\n",
    ")\n",
    "\n",
    "Settings.embed_model = ollama_embedding"
   ]
  },
  {
   "cell_type": "code",
   "execution_count": 6,
   "id": "e4a78f12-c0b7-4420-8da8-b02f87ba41fe",
   "metadata": {},
   "outputs": [
    {
     "name": "stdout",
     "output_type": "stream",
     "text": [
      "CPU times: user 352 µs, sys: 0 ns, total: 352 µs\n",
      "Wall time: 356 µs\n"
     ]
    }
   ],
   "source": [
    "%%time\n",
    "\n",
    "import logging\n",
    "import sys\n",
    "\n",
    "# 设置系统日志，便于设置level排查\n",
    "\n",
    "logging.basicConfig(stream=sys.stdout, level=logging.INFO)\n",
    "logging.getLogger().addHandler(logging.StreamHandler(stream=sys.stdout))"
   ]
  },
  {
   "cell_type": "code",
   "execution_count": 7,
   "id": "e93f26bf-467f-4adc-9524-fa23418e576c",
   "metadata": {},
   "outputs": [
    {
     "name": "stdout",
     "output_type": "stream",
     "text": [
      "5ef51c3f-08e9-4ec4-a409-9ee797789c40 孔乙己.txt\n",
      "5b3fe221-0637-4660-8ea8-fe0e73f4edfc 社戏.txt\n",
      "CPU times: user 9.54 ms, sys: 0 ns, total: 9.54 ms\n",
      "Wall time: 9.11 ms\n"
     ]
    }
   ],
   "source": [
    "%%time\n",
    "\n",
    "# load documents\n",
    "documents = SimpleDirectoryReader(\"./books1/\").load_data()\n",
    "for doc in documents:\n",
    "    print(doc.doc_id, doc.metadata['file_name'])"
   ]
  },
  {
   "cell_type": "code",
   "execution_count": 8,
   "id": "0a43240d-d3fc-4eee-9b8e-018b5d866b51",
   "metadata": {},
   "outputs": [
    {
     "name": "stdout",
     "output_type": "stream",
     "text": [
      "DEBUG:pymilvus.milvus_client.milvus_client:Created new connection using: d39afef27ad244c58d5642f568635721\n",
      "Created new connection using: d39afef27ad244c58d5642f568635721\n",
      "DEBUG:pymilvus.milvus_client.milvus_client:Successfully created collection: llamacollection\n",
      "Successfully created collection: llamacollection\n",
      "DEBUG:pymilvus.milvus_client.milvus_client:Successfully created an index on collection: llamacollection\n",
      "Successfully created an index on collection: llamacollection\n",
      "CPU times: user 746 ms, sys: 37 ms, total: 783 ms\n",
      "Wall time: 14.5 s\n"
     ]
    }
   ],
   "source": [
    "%%time\n",
    "\n",
    "vector_store = MilvusVectorStore(dim=1024, overwrite=True)\n",
    "storage_context = StorageContext.from_defaults(vector_store=vector_store)\n",
    "index = VectorStoreIndex.from_documents(\n",
    "    documents, storage_context=storage_context\n",
    ")"
   ]
  },
  {
   "cell_type": "markdown",
   "id": "abb4b7c6-087c-4bd5-93a1-fd1ffbd44d1e",
   "metadata": {},
   "source": [
    "## 直接用llm对话"
   ]
  },
  {
   "cell_type": "code",
   "execution_count": 11,
   "id": "86fb9471-4bc5-4d31-b999-29fa7c20cf21",
   "metadata": {},
   "outputs": [
    {
     "name": "stdout",
     "output_type": "stream",
     "text": [
      "INFO:httpx:HTTP Request: POST http://192.168.0.72:3000/v1/chat/completions \"HTTP/1.1 200 OK\"\n",
      "HTTP Request: POST http://192.168.0.72:3000/v1/chat/completions \"HTTP/1.1 200 OK\"\n",
      "孔乙己是鲁迅先生在小说《呐喊》中塑造的一个经典人物形象。他是19世纪末中国旧社会的一个底层知识分子，以“孔乙己”这一绰号为人所知。孔乙己生活贫困，穿着破旧的长衫，常去咸亨酒店喝酒，但他对自己的身份和学问颇为自豪，尽管他连基本的生活技能都不具备，比如识字、写字。\n",
      "\n",
      "孔乙己的故事反映了那个时代的社会冷漠和阶级差距，人们对他既嘲笑又同情。他的悲剧命运在于他无法适应社会的变化，也无法融入普通人的生活，最终在贫困和嘲笑中默默死去。这个角色成为了中国文学中一个深刻的社会寓言，提醒人们关注底层人民的生存状态和人性的复杂性。CPU times: user 271 ms, sys: 22.7 ms, total: 294 ms\n",
      "Wall time: 8.81 s\n"
     ]
    }
   ],
   "source": [
    "%%time\n",
    "\n",
    "gen = llm.stream_chat([ChatMessage(role=\"user\", content=\"介绍下孔乙己\")])\n",
    "for response in gen:\n",
    "    print(response.delta, end=\"\", flush=True)"
   ]
  },
  {
   "cell_type": "markdown",
   "id": "8a629023-6725-4936-8d5e-ceaa26ab0686",
   "metadata": {},
   "source": [
    "## 使用嵌入的问答"
   ]
  },
  {
   "cell_type": "code",
   "execution_count": 12,
   "id": "3d616fad-082e-498c-8572-d355bb0dfaef",
   "metadata": {},
   "outputs": [
    {
     "name": "stdout",
     "output_type": "stream",
     "text": [
      "INFO:httpx:HTTP Request: POST http://192.168.0.72:3000/v1/chat/completions \"HTTP/1.1 200 OK\"\n",
      "HTTP Request: POST http://192.168.0.72:3000/v1/chat/completions \"HTTP/1.1 200 OK\"\n",
      "INFO:httpx:HTTP Request: POST http://192.168.0.72:3000/v1/chat/completions \"HTTP/1.1 200 OK\"\n",
      "HTTP Request: POST http://192.168.0.72:3000/v1/chat/completions \"HTTP/1.1 200 OK\"\n",
      "INFO:httpx:HTTP Request: POST http://192.168.0.72:3000/v1/chat/completions \"HTTP/1.1 200 OK\"\n",
      "HTTP Request: POST http://192.168.0.72:3000/v1/chat/completions \"HTTP/1.1 200 OK\"\n",
      "INFO:httpx:HTTP Request: POST http://192.168.0.72:3000/v1/chat/completions \"HTTP/1.1 200 OK\"\n",
      "HTTP Request: POST http://192.168.0.72:3000/v1/chat/completions \"HTTP/1.1 200 OK\"\n",
      "INFO:httpx:HTTP Request: POST http://192.168.0.72:3000/v1/chat/completions \"HTTP/1.1 200 OK\"\n",
      "HTTP Request: POST http://192.168.0.72:3000/v1/chat/completions \"HTTP/1.1 200 OK\"\n",
      "INFO:httpx:HTTP Request: POST http://192.168.0.72:3000/v1/chat/completions \"HTTP/1.1 200 OK\"\n",
      "HTTP Request: POST http://192.168.0.72:3000/v1/chat/completions \"HTTP/1.1 200 OK\"\n",
      "对不起，我找不到关于孔乙己的介绍，因为提供的文本内容主要围绕《社戏》这篇小说，而孔乙己是另一篇鲁迅作品《孔乙己》中的角色。如果你对《孔乙己》感兴趣，建议查阅《呐喊》这部小说或相关文学分析。\n",
      "CPU times: user 477 ms, sys: 26.5 ms, total: 504 ms\n",
      "Wall time: 30.8 s\n"
     ]
    }
   ],
   "source": [
    "%%time\n",
    "\n",
    "query_engine = index.as_query_engine(\n",
    "    streaming=True,\n",
    "    similarity_top_k=100,\n",
    "    similarity_cutoff=0.5\n",
    ")\n",
    "\n",
    "streaming_response = query_engine.query(\"介绍下孔乙己\")\n",
    "streaming_response.print_response_stream()\n",
    "print()"
   ]
  },
  {
   "cell_type": "markdown",
   "id": "ebd45b76-a0d8-40b0-a280-43f8cdf4cbc7",
   "metadata": {},
   "source": [
    "## rerank"
   ]
  },
  {
   "cell_type": "code",
   "execution_count": 13,
   "id": "4eaa3c60-90cd-4148-9d60-5b4786c5195d",
   "metadata": {},
   "outputs": [
    {
     "name": "stdout",
     "output_type": "stream",
     "text": [
      "CPU times: user 1.09 s, sys: 677 ms, total: 1.76 s\n",
      "Wall time: 963 ms\n"
     ]
    }
   ],
   "source": [
    "%%time\n",
    "\n",
    "from llama_index.core.postprocessor import SentenceTransformerRerank\n",
    "\n",
    "reranker = SentenceTransformerRerank(model='/models/bge-reranker-v2-m3', top_n=5)"
   ]
  },
  {
   "cell_type": "code",
   "execution_count": 14,
   "id": "d4c31493-9bbd-488a-8514-870eba074317",
   "metadata": {},
   "outputs": [
    {
     "data": {
      "application/vnd.jupyter.widget-view+json": {
       "model_id": "f5965e27a3c04f8e8245913da2e60bf1",
       "version_major": 2,
       "version_minor": 0
      },
      "text/plain": [
       "Batches:   0%|          | 0/4 [00:00<?, ?it/s]"
      ]
     },
     "metadata": {},
     "output_type": "display_data"
    },
    {
     "name": "stdout",
     "output_type": "stream",
     "text": [
      "INFO:httpx:HTTP Request: POST http://192.168.0.72:3000/v1/chat/completions \"HTTP/1.1 200 OK\"\n",
      "HTTP Request: POST http://192.168.0.72:3000/v1/chat/completions \"HTTP/1.1 200 OK\"\n",
      "孔乙己是鲁迅先生笔下《呐喊》中的人物，他是一个独特的形象。他以站着喝酒而穿长衫的装束在鲁镇的酒店中显得与众不同，这体现了他的社会地位和经济状况可能较为特殊，可能是穷困的知识分子。他身材高大，脸色青白且带有伤痕，留着乱蓬蓬的花白胡子，给人一种落魄但又坚韧的感觉。\n",
      "\n",
      "孔乙己的生活并不如意，他的存在为周围的人带来了一丝欢乐，因为掌柜和主顾们对他有些同情，他的笑声能打破店内的沉闷。然而，他似乎并未完全融入这个社会，与其他人有着明显的隔阂，比如他无法与他们谈天，只能与孩子们交流。\n",
      "\n",
      "酒店的环境也反映了孔乙己的生活状态，当街的曲尺形柜台和随时温酒的服务，暗示了他可能是个常客，但他的穿着破旧，如盘腿而坐、用草绳挂蒲包等细节，显示出他的贫困。他对学问有些许自豪，试图通过考问我这样的孩子来证明自己的身份或寻求一丝尊严。\n",
      "\n",
      "总的来说，孔乙己是一个被社会边缘化，既可怜又可悲的知识分子形象，他的故事揭示了当时社会的冷漠和不公。\n",
      "CPU times: user 1.86 s, sys: 105 ms, total: 1.96 s\n",
      "Wall time: 12.5 s\n"
     ]
    }
   ],
   "source": [
    "%%time\n",
    "\n",
    "query_engine = index.as_query_engine(\n",
    "    streaming=True,\n",
    "    similarity_top_k=100,\n",
    "    node_postprocessors=[reranker],\n",
    "    similarity_cutoff=0.5\n",
    ")\n",
    "\n",
    "streaming_response = query_engine.query(\"介绍下孔乙己\")\n",
    "streaming_response.print_response_stream()\n",
    "print()"
   ]
  },
  {
   "cell_type": "markdown",
   "id": "6ebeee39-8b7f-4463-9f24-3c00abb19b7a",
   "metadata": {},
   "source": [
    "## 删除社戏后的嵌入问答"
   ]
  },
  {
   "cell_type": "code",
   "execution_count": 15,
   "id": "3927a320-b679-4869-b548-191f3c006769",
   "metadata": {},
   "outputs": [
    {
     "name": "stdout",
     "output_type": "stream",
     "text": [
      "INFO:httpx:HTTP Request: POST http://192.168.0.72:3000/v1/chat/completions \"HTTP/1.1 200 OK\"\n",
      "HTTP Request: POST http://192.168.0.72:3000/v1/chat/completions \"HTTP/1.1 200 OK\"\n",
      "INFO:httpx:HTTP Request: POST http://192.168.0.72:3000/v1/chat/completions \"HTTP/1.1 200 OK\"\n",
      "HTTP Request: POST http://192.168.0.72:3000/v1/chat/completions \"HTTP/1.1 200 OK\"\n",
      "孔乙己是鲁迅先生笔下的一位经典人物，他生活在清朝末年的鲁镇，以读书人的身份自居，但实际上没有功名，连秀才都不是，这让他在社会上处于边缘地位。他的穿着特征是破旧的长衫，脸上有伤疤，这是他被嘲笑和歧视的一个标志。孔乙己常去咸亨酒店喝酒，茴香豆是他喜欢的小吃，但他经济拮据，常常赊账，甚至偶尔偷窃以维持生计。他的生活充满了困苦和无奈，他的遭遇揭示了当时社会的冷漠和底层人民的艰难生活状态。尽管他试图通过学习写字来提升自己，但最终因为偷窃被打断腿，这标志着他人生的彻底衰落。孔乙己的故事不仅是个体的悲剧，也是对那个时代社会问题的深刻反映。|>\n",
      "CPU times: user 394 ms, sys: 42.6 ms, total: 437 ms\n",
      "Wall time: 18.4 s\n"
     ]
    }
   ],
   "source": [
    "%%time\n",
    "\n",
    "index.delete_ref_doc(\"5b3fe221-0637-4660-8ea8-fe0e73f4edfc\", delete_from_docstore=True)\n",
    "\n",
    "query_engine = index.as_query_engine(\n",
    "    streaming=True,\n",
    "    similarity_top_k=100,\n",
    "    similarity_cutoff=0.5\n",
    ")\n",
    "\n",
    "streaming_response = query_engine.query(\"介绍下孔乙己\")\n",
    "streaming_response.print_response_stream()\n",
    "print()"
   ]
  },
  {
   "cell_type": "markdown",
   "id": "492b7e04-067b-4a60-8c43-b6b4d83cd754",
   "metadata": {},
   "source": [
    "## 删除社戏后的rerank问答"
   ]
  },
  {
   "cell_type": "code",
   "execution_count": 16,
   "id": "577bbe3f-ae01-4278-8a33-3bc120d58ba4",
   "metadata": {},
   "outputs": [
    {
     "data": {
      "application/vnd.jupyter.widget-view+json": {
       "model_id": "ea24b75d9f0449008479633bfab9ad8b",
       "version_major": 2,
       "version_minor": 0
      },
      "text/plain": [
       "Batches:   0%|          | 0/2 [00:00<?, ?it/s]"
      ]
     },
     "metadata": {},
     "output_type": "display_data"
    },
    {
     "name": "stdout",
     "output_type": "stream",
     "text": [
      "INFO:httpx:HTTP Request: POST http://192.168.0.72:3000/v1/chat/completions \"HTTP/1.1 200 OK\"\n",
      "HTTP Request: POST http://192.168.0.72:3000/v1/chat/completions \"HTTP/1.1 200 OK\"\n",
      "孔乙己是鲁迅先生笔下《呐喊》中的人物，他是一个独特的形象。他以站着喝酒而穿长衫的装束在鲁镇的酒店中出现，这表明了他的社会地位不高，可能是个落魄的读书人。他的身材高大，脸色青白且带有伤痕，胡子乱蓬蓬的，显示出生活的艰辛和岁月的痕迹。\n",
      "\n",
      "孔乙己的生活并不如意，他的存在为周围环境带来了一丝欢乐，因为掌柜和主顾们对他有些同情，他的笑声能打破店内的沉闷。酒店的格局是当街的曲尺形大柜台，这可能是他常去的地方，尽管他可能没有什么失职，但工作单调无聊，环境压抑。\n",
      "\n",
      "孔乙己的形象刻画得非常细致，从他的穿着（破夹袄、蒲包和草绳）可以看出他的贫困，而他对孩子的提问则显示出他对知识的渴望，尽管他自己可能并不受人尊重。总的来说，孔乙己是一个被社会边缘化，但又保持着尊严和知识追求的人物。\n",
      "CPU times: user 741 ms, sys: 22.1 ms, total: 763 ms\n",
      "Wall time: 9.53 s\n"
     ]
    }
   ],
   "source": [
    "%%time\n",
    "\n",
    "query_engine = index.as_query_engine(\n",
    "    streaming=True,\n",
    "    similarity_top_k=100,\n",
    "    node_postprocessors=[reranker],\n",
    "    similarity_cutoff=0.5\n",
    ")\n",
    "\n",
    "streaming_response = query_engine.query(\"介绍下孔乙己\")\n",
    "streaming_response.print_response_stream()\n",
    "print()"
   ]
  },
  {
   "cell_type": "markdown",
   "id": "cafdd51c-28dc-4f50-b24f-16ca2fc9911a",
   "metadata": {},
   "source": [
    "## 继续删除孔乙己文档后嵌入问答"
   ]
  },
  {
   "cell_type": "code",
   "execution_count": 17,
   "id": "5dbe57b8-01c4-4ea5-ab55-581bd9660f9c",
   "metadata": {},
   "outputs": [
    {
     "name": "stdout",
     "output_type": "stream",
     "text": [
      "Empty Response\n",
      "CPU times: user 25.6 ms, sys: 4.05 ms, total: 29.6 ms\n",
      "Wall time: 719 ms\n"
     ]
    }
   ],
   "source": [
    "%%time\n",
    "\n",
    "index.delete_ref_doc(\"5ef51c3f-08e9-4ec4-a409-9ee797789c40\", delete_from_docstore=True)\n",
    "\n",
    "query_engine = index.as_query_engine(\n",
    "    streaming=True,\n",
    "    similarity_top_k=100,\n",
    "    similarity_cutoff=0.5\n",
    ")\n",
    "\n",
    "streaming_response = query_engine.query(\"介绍下孔乙己\")\n",
    "streaming_response.print_response_stream()\n",
    "print()"
   ]
  },
  {
   "cell_type": "markdown",
   "id": "c887217c-7f67-4816-9097-ce6e93e51e21",
   "metadata": {},
   "source": [
    "## 删除孔乙己文档后rerank问答"
   ]
  },
  {
   "cell_type": "code",
   "execution_count": 18,
   "id": "b7c7a108-76c6-4416-9a97-210b3ab3bd26",
   "metadata": {},
   "outputs": [
    {
     "name": "stdout",
     "output_type": "stream",
     "text": [
      "Empty Response\n",
      "CPU times: user 8.06 ms, sys: 0 ns, total: 8.06 ms\n",
      "Wall time: 267 ms\n"
     ]
    }
   ],
   "source": [
    "%%time\n",
    "\n",
    "query_engine = index.as_query_engine(\n",
    "    streaming=True,\n",
    "    similarity_top_k=100,\n",
    "    node_postprocessors=[reranker],\n",
    "    similarity_cutoff=0.5\n",
    ")\n",
    "\n",
    "streaming_response = query_engine.query(\"介绍下孔乙己\")\n",
    "streaming_response.print_response_stream()\n",
    "print()"
   ]
  },
  {
   "cell_type": "markdown",
   "id": "e036e13e-57b5-46cd-b8d4-544b8dfd64e7",
   "metadata": {},
   "source": [
    "## 重新插入孔乙己文档后的嵌入"
   ]
  },
  {
   "cell_type": "code",
   "execution_count": 21,
   "id": "1a21dac4-126d-4481-87d6-c8db7cd49404",
   "metadata": {},
   "outputs": [
    {
     "name": "stdout",
     "output_type": "stream",
     "text": [
      "4edc2387-1f2c-4a7e-96fb-70894dc7a215 孔乙己.txt\n",
      "CPU times: user 213 ms, sys: 21.6 ms, total: 235 ms\n",
      "Wall time: 4.57 s\n"
     ]
    }
   ],
   "source": [
    "%%time\n",
    "\n",
    "documents = SimpleDirectoryReader(input_files=[\"books1/孔乙己.txt\"]).load_data()\n",
    "for doc in documents:\n",
    "    print(doc.doc_id, doc.metadata['file_name'])\n",
    "\n",
    "index.insert(documents[0])"
   ]
  },
  {
   "cell_type": "code",
   "execution_count": 23,
   "id": "21afa9ba-df7b-4b6d-9110-fcacc426d5e5",
   "metadata": {},
   "outputs": [
    {
     "name": "stdout",
     "output_type": "stream",
     "text": [
      "INFO:httpx:HTTP Request: POST http://192.168.0.72:3000/v1/chat/completions \"HTTP/1.1 200 OK\"\n",
      "HTTP Request: POST http://192.168.0.72:3000/v1/chat/completions \"HTTP/1.1 200 OK\"\n",
      "INFO:httpx:HTTP Request: POST http://192.168.0.72:3000/v1/chat/completions \"HTTP/1.1 200 OK\"\n",
      "HTTP Request: POST http://192.168.0.72:3000/v1/chat/completions \"HTTP/1.1 200 OK\"\n",
      "孔乙己是鲁迅先生在《孔乙己》这篇小说中塑造的一个典型角色，他生活在清朝末年的鲁镇，以咸亨酒店为常驻地。他穿着破旧的长衫，尽管经济拮据，却保持着读书人的自尊，喜欢谈论古文和一些似通非通的典故，如“君子固穷”和“者乎”等，这反映了他试图保持文化和知识上的优越感。他的主要活动是温酒，但其实并不真正参与酒店的日常经营，掌柜认为他不适合侍候穿长衫的主顾。\n",
      "\n",
      "孔乙己的生活充满了贫困和孤独，他用四文大钱买酒，手满是泥，这暗示了他生活的艰辛。他的形象揭示了当时社会对底层人民的冷漠态度，以及科举制度下读书人地位的尴尬。小说通过他的命运变迁，探讨了社会的残酷和人性的复杂。尽管他的结局悲惨，但他的故事成为了文学作品中一个深刻的社会寓言。\n",
      "CPU times: user 412 ms, sys: 37.6 ms, total: 450 ms\n",
      "Wall time: 18.8 s\n"
     ]
    }
   ],
   "source": [
    "%%time\n",
    "\n",
    "query_engine = index.as_query_engine(\n",
    "    streaming=True,\n",
    "    similarity_top_k=100,\n",
    "    similarity_cutoff=0.5\n",
    ")\n",
    "\n",
    "streaming_response = query_engine.query(\"介绍下孔乙己\")\n",
    "streaming_response.print_response_stream()\n",
    "print()"
   ]
  },
  {
   "cell_type": "markdown",
   "id": "2f13ef86-7e50-440b-8c5f-df977db81d28",
   "metadata": {},
   "source": [
    "## 重新插入孔乙己文档后的rerank"
   ]
  },
  {
   "cell_type": "code",
   "execution_count": 24,
   "id": "58df433f-176c-4b30-90c6-3c3394f99d61",
   "metadata": {},
   "outputs": [
    {
     "data": {
      "application/vnd.jupyter.widget-view+json": {
       "model_id": "755ffa517b85496696bee4589cfb8508",
       "version_major": 2,
       "version_minor": 0
      },
      "text/plain": [
       "Batches:   0%|          | 0/2 [00:00<?, ?it/s]"
      ]
     },
     "metadata": {},
     "output_type": "display_data"
    },
    {
     "name": "stdout",
     "output_type": "stream",
     "text": [
      "INFO:httpx:HTTP Request: POST http://192.168.0.72:3000/v1/chat/completions \"HTTP/1.1 200 OK\"\n",
      "HTTP Request: POST http://192.168.0.72:3000/v1/chat/completions \"HTTP/1.1 200 OK\"\n",
      "孔乙己是鲁迅先生笔下《呐喊》中的人物，他是个独特的形象，穿着长衫却站着喝酒，这在当时的社会中显得格格不入。他有学问，曾读过书但未能考取秀才（进学），因此生活贫困，只能通过抄写书籍来换取食物。孔乙己说话喜欢用文言文，如“之乎者也”，这让他的话半懂不懂，人们根据他的姓氏和描红纸上的“上大人孔乙己”给他取了绰号。\n",
      "\n",
      "他的性格中既有善良的一面，能给周围的人带来欢乐，但也有缺点，好吃懒做，导致他经济状况每况愈下。由于偷窃的行为，他失去了抄书的工作，生活更加艰难。总的来说，孔乙己是一个穷困潦倒、边缘化的知识分子形象，反映了当时社会的冷漠和不公。\n",
      "CPU times: user 582 ms, sys: 18.4 ms, total: 600 ms\n",
      "Wall time: 8.13 s\n"
     ]
    }
   ],
   "source": [
    "%%time\n",
    "\n",
    "query_engine = index.as_query_engine(\n",
    "    streaming=True,\n",
    "    similarity_top_k=100,\n",
    "    node_postprocessors=[reranker],\n",
    "    similarity_cutoff=0.5\n",
    ")\n",
    "\n",
    "streaming_response = query_engine.query(\"介绍下孔乙己\")\n",
    "streaming_response.print_response_stream()\n",
    "print()"
   ]
  },
  {
   "cell_type": "markdown",
   "id": "621f88f2-e0c1-4d2f-a272-387f53bff0df",
   "metadata": {},
   "source": [
    "## 尝试并发问答模式"
   ]
  },
  {
   "cell_type": "code",
   "execution_count": 25,
   "id": "b534f904-4b60-48c7-9722-45bf473d4cb9",
   "metadata": {},
   "outputs": [
    {
     "name": "stdout",
     "output_type": "stream",
     "text": [
      "INFO:httpx:HTTP Request: POST http://192.168.0.72:3000/v1/chat/completions \"HTTP/1.1 200 OK\"\n",
      "HTTP Request: POST http://192.168.0.72:3000/v1/chat/completions \"HTTP/1.1 200 OK\"\n",
      "INFO:httpx:HTTP Request: POST http://192.168.0.72:3000/v1/chat/completions \"HTTP/1.1 200 OK\"\n",
      "HTTP Request: POST http://192.168.0.72:3000/v1/chat/completions \"HTTP/1.1 200 OK\"\n",
      "INFO:httpx:HTTP Request: POST http://192.168.0.72:3000/v1/chat/completions \"HTTP/1.1 200 OK\"\n",
      "HTTP Request: POST http://192.168.0.72:3000/v1/chat/completions \"HTTP/1.1 200 OK\"\n",
      "孔乙己是鲁迅先生在短篇小说《呐喊》中塑造的一个经典人物，他生活在中国清朝末年的社会底层。孔乙己以读书人自居，却穿着破旧的长衫，这象征着他的社会地位不高，被归类为“短衣帮”。他常去鲁镇的咸亨酒店赊账喝酒，尽管经济困难，但他坚持这种生活方式，体现了他对传统文化和知识的坚守。\n",
      "\n",
      "孔乙己曾经有过进学的经历，是个秀才，但科举制度并未改变他的贫困命运。他通过谈论“回”字和引用“君子固穷”的典故来展现自己的文化素养，然而这在现实生活中并没有给他带来实质的帮助，反而成为他人嘲笑和捉弄的对象。\n",
      "\n",
      "孔乙己的故事揭示了当时社会的冷漠无情，以及读书人地位的尴尬。他的悲剧命运反映了科举制度下的知识分子困境，鲁迅通过这个角色批判了旧式教育和封建社会的不公。孔乙己的形象在鲁迅笔下具有深刻的讽刺意味和社会批判价值。\n",
      "CPU times: user 337 ms, sys: 41.6 ms, total: 378 ms\n",
      "Wall time: 29.4 s\n"
     ]
    }
   ],
   "source": [
    "%%time\n",
    "\n",
    "query_engine = index.as_query_engine(\n",
    "    streaming=True,\n",
    "    similarity_top_k=100,\n",
    "    similarity_cutoff=0.5,\n",
    "    response_mode=\"tree_summarize\" \n",
    ")\n",
    "\n",
    "streaming_response = query_engine.query(\"介绍下孔乙己\")\n",
    "streaming_response.print_response_stream()\n",
    "print()"
   ]
  },
  {
   "cell_type": "code",
   "execution_count": null,
   "id": "d9eb0ad1-c762-4ee0-a2b0-9e81b9084c43",
   "metadata": {},
   "outputs": [],
   "source": []
  }
 ],
 "metadata": {
  "kernelspec": {
   "display_name": "Python 3 (ipykernel)",
   "language": "python",
   "name": "python3"
  },
  "language_info": {
   "codemirror_mode": {
    "name": "ipython",
    "version": 3
   },
   "file_extension": ".py",
   "mimetype": "text/x-python",
   "name": "python",
   "nbconvert_exporter": "python",
   "pygments_lexer": "ipython3",
   "version": "3.10.12"
  }
 },
 "nbformat": 4,
 "nbformat_minor": 5
}
