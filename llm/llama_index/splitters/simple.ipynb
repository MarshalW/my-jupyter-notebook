{
 "cells": [
  {
   "cell_type": "markdown",
   "id": "8bfde689-dac5-4d43-86c8-3e79d41e6db9",
   "metadata": {},
   "source": [
    "# splitter"
   ]
  },
  {
   "cell_type": "markdown",
   "id": "627f41f0-7d79-4d01-a06e-308f664ae11a",
   "metadata": {},
   "source": [
    "初步结论，SentenceSplitter 对中文断句是没有问题的。\n",
    "\n",
    "《孔乙己》在分块长度128时有问题，是因为逗号太多。如果分块设置为256，就没问题了。"
   ]
  },
  {
   "cell_type": "markdown",
   "id": "a7de4de9-0862-4660-9445-b8803aa4c098",
   "metadata": {},
   "source": [
    "## document"
   ]
  },
  {
   "cell_type": "code",
   "execution_count": 2,
   "id": "e7a2526c-5903-4443-b695-4dd8c390cc8e",
   "metadata": {},
   "outputs": [
    {
     "name": "stdout",
     "output_type": "stream",
     "text": [
      "CPU times: user 90 µs, sys: 0 ns, total: 90 µs\n",
      "Wall time: 83.2 µs\n"
     ]
    },
    {
     "data": {
      "text/plain": [
       "Document(id_='9948851f-dac4-4c32-b27b-8bc1304e9e59', embedding=None, metadata={'filename': './content.txt', 'category': '动物'}, excluded_embed_metadata_keys=[], excluded_llm_metadata_keys=[], relationships={}, text='\\n大熊猫（学名：Ailuropoda melanoleuca）属于熊科、大熊猫属哺乳动物，是中国特有种。仅有两个亚种，四川亚种和秦岭亚种。雌性比雄性小10-20％。头躯长1.2-1.8米，尾长10-12厘米。体重80-120千克，最重可达180千克。体型肥硕似熊、丰腴富态。头圆、体肥、尾短。体色为黑白两色，眼圈、耳壳、吻鼻端 [53]、肩和四肢为深黑色外，其余部分均为乳白色。脸颊圆，有很大的“黑眼圈”，标志性的内八字的行走方式，也有解剖刀般锋利的爪子。大熊猫皮肤厚，最厚处可达10毫米。\\n', start_char_idx=None, end_char_idx=None, text_template='{metadata_str}\\n\\n{content}', metadata_template='{key}: {value}', metadata_seperator='\\n')"
      ]
     },
     "execution_count": 2,
     "metadata": {},
     "output_type": "execute_result"
    }
   ],
   "source": [
    "%%time\n",
    "\n",
    "from llama_index.core import Document\n",
    "\n",
    "content=\"\"\"\n",
    "大熊猫（学名：Ailuropoda melanoleuca）属于熊科、大熊猫属哺乳动物，是中国特有种。仅有两个亚种，四川亚种和秦岭亚种。雌性比雄性小10-20％。头躯长1.2-1.8米，尾长10-12厘米。体重80-120千克，最重可达180千克。体型肥硕似熊、丰腴富态。头圆、体肥、尾短。体色为黑白两色，眼圈、耳壳、吻鼻端 [53]、肩和四肢为深黑色外，其余部分均为乳白色。脸颊圆，有很大的“黑眼圈”，标志性的内八字的行走方式，也有解剖刀般锋利的爪子。大熊猫皮肤厚，最厚处可达10毫米。\n",
    "\"\"\"\n",
    "\n",
    "document = Document(\n",
    "    text=content,\n",
    "    metadata={\"filename\": \"./content.txt\", \"category\": \"动物\"},\n",
    ")\n",
    "\n",
    "document"
   ]
  },
  {
   "cell_type": "code",
   "execution_count": 9,
   "id": "fbea4198-4ea4-4c7d-9513-1095f2a7ff94",
   "metadata": {},
   "outputs": [
    {
     "data": {
      "text/plain": [
       "Document(id_='a82b7627-ded2-4351-ba46-26136dc45562', embedding=None, metadata={'filename': './content2.txt', 'category': '小说'}, excluded_embed_metadata_keys=[], excluded_llm_metadata_keys=[], relationships={}, text='\\n故乡(1)\\n\\n\\n\\n\\u3000\\u3000我冒了严寒，回到相隔二千余里，别了二十余年的故乡去。\\n\\n\\u3000\\u3000时候既然是深冬；渐近故乡时，天气又阴晦了，冷风吹进船舱中，呜呜的响，从蓬隙向外一望，苍黄的天底下，远近横着几个萧索的荒村，没有一些活气。我的心禁不住悲凉起来了。阿！这不是我二十年来时时记得的故乡？\\n\\n\\u3000\\u3000我所记得的故乡全不如此。我的故乡好得多了。但要我记起他的美丽，说出他的佳处来，却又没有影像，没有言辞了。仿佛也就如此。于是我自己解释说：故乡本也如此，——虽然没有进步，也未必有如我所感的悲凉，这只是我自己心情的改变罢了，因为我这次回乡，本没有什么好心绪。\\n', start_char_idx=None, end_char_idx=None, text_template='{metadata_str}\\n\\n{content}', metadata_template='{key}: {value}', metadata_seperator='\\n')"
      ]
     },
     "execution_count": 9,
     "metadata": {},
     "output_type": "execute_result"
    }
   ],
   "source": [
    "content=\"\"\"\n",
    "故乡(1)\n",
    "\n",
    "\n",
    "\n",
    "　　我冒了严寒，回到相隔二千余里，别了二十余年的故乡去。\n",
    "\n",
    "　　时候既然是深冬；渐近故乡时，天气又阴晦了，冷风吹进船舱中，呜呜的响，从蓬隙向外一望，苍黄的天底下，远近横着几个萧索的荒村，没有一些活气。我的心禁不住悲凉起来了。阿！这不是我二十年来时时记得的故乡？\n",
    "\n",
    "　　我所记得的故乡全不如此。我的故乡好得多了。但要我记起他的美丽，说出他的佳处来，却又没有影像，没有言辞了。仿佛也就如此。于是我自己解释说：故乡本也如此，——虽然没有进步，也未必有如我所感的悲凉，这只是我自己心情的改变罢了，因为我这次回乡，本没有什么好心绪。\n",
    "\"\"\"\n",
    "\n",
    "document2 = Document(\n",
    "    text=content,\n",
    "    metadata={\"filename\": \"./content2.txt\", \"category\": \"小说\"},\n",
    ")\n",
    "\n",
    "document2"
   ]
  },
  {
   "cell_type": "code",
   "execution_count": 15,
   "id": "c1cde0dd-89a4-45f4-b06e-5b0fcf32e6bf",
   "metadata": {},
   "outputs": [
    {
     "data": {
      "text/plain": [
       "Document(id_='3994a88c-f889-4557-a77e-5d898d67cddb', embedding=None, metadata={'filename': './content3.txt', 'category': '小说'}, excluded_embed_metadata_keys=[], excluded_llm_metadata_keys=[], relationships={}, text='\\n   红海早过了。船在印度洋面上开驶着。但是太阳依然不饶人地迟落早起侵占去大部分的夜。夜仿佛纸浸了油，变成半透明体；它给太阳拥抱住了，分不出身来，也许是给太阳陶醉了，所以夕照霞隐褪后的夜色也带着酡红。到红消醉醒，船舱里的睡人也一身腻汗地醒来，洗了澡赶到甲板上吹海风，又是一天开始。这是七月下旬，合中国旧历的三伏，一年最爇的时候。在中国爇得更比常年利害，事后大家都说是兵戈之象，因为这就是民国二十六年【一九三七年】。\\n    这条法国邮船白拉日隆子爵号（Ｖｉｃｏｍｔｅｄｅｂｒａｇｅｌｏｏｎｅ）正向中国开来。早晨八点多钟，冲洗过的三等舱甲板湿意未干，但已坐立了人，法国人，德国流亡出来的尤太人、印度人、安南人，不用说还有中国人。海风里早寒着燥爇，胖人身体给风吹干了，蒙上一层汗结的盐霜，仿佛刚在巴勒斯坦的死海里洗过澡。毕竟是清晨，人的兴致还不没给太阳晒萎，烘懒，说话做事都很起劲。那几个新派到安南或中国租界当警察的法国人，正围了那年轻善撒娇的尤太女人在调情。俾斯麦曾说过，法国公使大使的特点，就是一句外国话不会讲；这几样警察并不懂德文，居然传情达意，引得尤太女人格格地笑，比他们的外交官强多了。这女人的漂亮丈夫，在旁顾而乐之，因为几天来，香烟、啤酒、柠檬水沾光了不少。红海已过，不怕爇极引火，所以等一会甲板上零星果皮、纸片、瓶塞之外，香烟头定又遍处皆是。法国人的思想是有名的清楚，他们的文章也明白干净，但是他们的做事，无不混乱、肮脏、喧哗，但看这船上的乱糟糟。这船，倚仗人的机巧，载满人的扰攘，寄满人的希望，爇闹地行着，每分钟把沾污了人气的一小方水面，还给那无情、无尽、无际的大海。\\n', start_char_idx=None, end_char_idx=None, text_template='{metadata_str}\\n\\n{content}', metadata_template='{key}: {value}', metadata_seperator='\\n')"
      ]
     },
     "execution_count": 15,
     "metadata": {},
     "output_type": "execute_result"
    }
   ],
   "source": [
    "content=\"\"\"\n",
    "   红海早过了。船在印度洋面上开驶着。但是太阳依然不饶人地迟落早起侵占去大部分的夜。夜仿佛纸浸了油，变成半透明体；它给太阳拥抱住了，分不出身来，也许是给太阳陶醉了，所以夕照霞隐褪后的夜色也带着酡红。到红消醉醒，船舱里的睡人也一身腻汗地醒来，洗了澡赶到甲板上吹海风，又是一天开始。这是七月下旬，合中国旧历的三伏，一年最爇的时候。在中国爇得更比常年利害，事后大家都说是兵戈之象，因为这就是民国二十六年【一九三七年】。\n",
    "    这条法国邮船白拉日隆子爵号（Ｖｉｃｏｍｔｅｄｅｂｒａｇｅｌｏｏｎｅ）正向中国开来。早晨八点多钟，冲洗过的三等舱甲板湿意未干，但已坐立了人，法国人，德国流亡出来的尤太人、印度人、安南人，不用说还有中国人。海风里早寒着燥爇，胖人身体给风吹干了，蒙上一层汗结的盐霜，仿佛刚在巴勒斯坦的死海里洗过澡。毕竟是清晨，人的兴致还不没给太阳晒萎，烘懒，说话做事都很起劲。那几个新派到安南或中国租界当警察的法国人，正围了那年轻善撒娇的尤太女人在调情。俾斯麦曾说过，法国公使大使的特点，就是一句外国话不会讲；这几样警察并不懂德文，居然传情达意，引得尤太女人格格地笑，比他们的外交官强多了。这女人的漂亮丈夫，在旁顾而乐之，因为几天来，香烟、啤酒、柠檬水沾光了不少。红海已过，不怕爇极引火，所以等一会甲板上零星果皮、纸片、瓶塞之外，香烟头定又遍处皆是。法国人的思想是有名的清楚，他们的文章也明白干净，但是他们的做事，无不混乱、肮脏、喧哗，但看这船上的乱糟糟。这船，倚仗人的机巧，载满人的扰攘，寄满人的希望，爇闹地行着，每分钟把沾污了人气的一小方水面，还给那无情、无尽、无际的大海。\n",
    "\"\"\"\n",
    "\n",
    "document3 = Document(\n",
    "    text=content,\n",
    "    metadata={\"filename\": \"./content3.txt\", \"category\": \"小说\"},\n",
    ")\n",
    "\n",
    "document3"
   ]
  },
  {
   "cell_type": "code",
   "execution_count": 17,
   "id": "961d9791-aeec-4c3b-a90d-205b8c763a8d",
   "metadata": {},
   "outputs": [
    {
     "data": {
      "text/plain": [
       "Document(id_='a048afe3-c36b-4af5-a721-80f0679771ac', embedding=None, metadata={'filename': './content4.txt', 'category': '小说'}, excluded_embed_metadata_keys=[], excluded_llm_metadata_keys=[], relationships={}, text='\\n\\u3000\\u3000鲁镇的酒店的格局，是和别处不\\n  同的：都是当街一个曲尺形的大柜台，柜里面\\n  预备着热水，可以随时温酒。做工的人，傍午傍晚散了工，每每花四文铜钱，买一碗酒，——这是二十多年前的事，现在每碗要涨到十文，——靠柜外站着，热热的喝了休息；倘肯多花一文，便可以买一碟盐煮笋，或者茴香豆，做下酒物了，如果出到十几文，那就能买一样荤菜，但这些顾客，多是短衣帮，大抵没有这样阔绰。只有穿长衫的，才踱进店面隔壁的房子里，要酒要菜，慢慢地坐喝。\\n\\n\\u3000\\u3000我从十二岁起，便在镇口的咸亨酒店里\\n  当伙计，掌柜说，样子太傻，怕侍候不了长衫主顾，就在外面做点事罢。外面的短衣主顾，虽然容易说话，但唠唠叨叨缠夹不清的也很不少。他们往往要亲眼看着黄酒从坛子里舀出，看过壶子底里有水没有，又亲看将壶子放在热水里，然后放心：在这严重兼督下，羼水也很为难。所以过了几天，掌柜又说我干不了这事。幸亏荐头的情面大，辞退不得，便改为专管温酒的一种无聊职务了。\\n\\n', start_char_idx=None, end_char_idx=None, text_template='{metadata_str}\\n\\n{content}', metadata_template='{key}: {value}', metadata_seperator='\\n')"
      ]
     },
     "execution_count": 17,
     "metadata": {},
     "output_type": "execute_result"
    }
   ],
   "source": [
    "# 故意做了一些折行\n",
    "content=\"\"\"\n",
    "　　鲁镇的酒店的格局，是和别处不\n",
    "  同的：都是当街一个曲尺形的大柜台，柜里面\n",
    "  预备着热水，可以随时温酒。做工的人，傍午傍晚散了工，每每花四文铜钱，买一碗酒，——这是二十多年前的事，现在每碗要涨到十文，——靠柜外站着，热热的喝了休息；倘肯多花一文，便可以买一碟盐煮笋，或者茴香豆，做下酒物了，如果出到十几文，那就能买一样荤菜，但这些顾客，多是短衣帮，大抵没有这样阔绰。只有穿长衫的，才踱进店面隔壁的房子里，要酒要菜，慢慢地坐喝。\n",
    "\n",
    "　　我从十二岁起，便在镇口的咸亨酒店里\n",
    "  当伙计，掌柜说，样子太傻，怕侍候不了长衫主顾，就在外面做点事罢。外面的短衣主顾，虽然容易说话，但唠唠叨叨缠夹不清的也很不少。他们往往要亲眼看着黄酒从坛子里舀出，看过壶子底里有水没有，又亲看将壶子放在热水里，然后放心：在这严重兼督下，羼水也很为难。所以过了几天，掌柜又说我干不了这事。幸亏荐头的情面大，辞退不得，便改为专管温酒的一种无聊职务了。\n",
    "\n",
    "\"\"\"\n",
    "\n",
    "document4 = Document(\n",
    "    text=content,\n",
    "    metadata={\"filename\": \"./content4.txt\", \"category\": \"小说\"},\n",
    ")\n",
    "\n",
    "document4"
   ]
  },
  {
   "cell_type": "markdown",
   "id": "ed3cf823-7c4f-4911-a907-e4916225a611",
   "metadata": {},
   "source": [
    "## SentenceSplitter"
   ]
  },
  {
   "cell_type": "code",
   "execution_count": 5,
   "id": "d2d8cf84-3409-4809-8b81-ddb6e4fe9aa9",
   "metadata": {},
   "outputs": [
    {
     "data": {
      "text/plain": [
       "[TextNode(id_='8fe0fc28-9788-4a54-9113-46f990d6ef74', embedding=None, metadata={'filename': './content.txt', 'category': '动物'}, excluded_embed_metadata_keys=[], excluded_llm_metadata_keys=[], relationships={<NodeRelationship.SOURCE: '1'>: RelatedNodeInfo(node_id='9948851f-dac4-4c32-b27b-8bc1304e9e59', node_type=<ObjectType.DOCUMENT: '4'>, metadata={'filename': './content.txt', 'category': '动物'}, hash='cb143ea31441dc7bcb622a5b437f756bc75156e9eb7b5597aa20da6cdd6dd599'), <NodeRelationship.NEXT: '3'>: RelatedNodeInfo(node_id='36861a92-eba2-45ec-bc35-e481f311577a', node_type=<ObjectType.TEXT: '1'>, metadata={}, hash='4dee9df1047ddc9ce785557f407b846995cac89976acb57e3754d482aa31b711')}, text='大熊猫（学名：Ailuropoda melanoleuca）属于熊科、大熊猫属哺乳动物，是中国特有种。仅有两个亚种，四川亚种和秦岭亚种。雌性比雄性小10-20％。头躯长1.2-1.8米，尾长10-12厘米。', start_char_idx=1, end_char_idx=104, text_template='{metadata_str}\\n\\n{content}', metadata_template='{key}: {value}', metadata_seperator='\\n'),\n",
       " TextNode(id_='36861a92-eba2-45ec-bc35-e481f311577a', embedding=None, metadata={'filename': './content.txt', 'category': '动物'}, excluded_embed_metadata_keys=[], excluded_llm_metadata_keys=[], relationships={<NodeRelationship.SOURCE: '1'>: RelatedNodeInfo(node_id='9948851f-dac4-4c32-b27b-8bc1304e9e59', node_type=<ObjectType.DOCUMENT: '4'>, metadata={'filename': './content.txt', 'category': '动物'}, hash='cb143ea31441dc7bcb622a5b437f756bc75156e9eb7b5597aa20da6cdd6dd599'), <NodeRelationship.PREVIOUS: '2'>: RelatedNodeInfo(node_id='8fe0fc28-9788-4a54-9113-46f990d6ef74', node_type=<ObjectType.TEXT: '1'>, metadata={'filename': './content.txt', 'category': '动物'}, hash='27f77075e799b1a461fb41241aed01024f14eb3b97023e1fee48e4fd2c20a471'), <NodeRelationship.NEXT: '3'>: RelatedNodeInfo(node_id='0eca2197-2a53-4bdc-9157-4cc8ae4d0a6e', node_type=<ObjectType.TEXT: '1'>, metadata={}, hash='487e81838f244d8cc682fcb63872fc2cb838d71e8d7441069f0ac00e41589e07')}, text='体重80-120千克，最重可达180千克。体型肥硕似熊、丰腴富态。头圆、体肥、尾短。体色为黑白两色，眼圈、耳壳、吻鼻端 [53]、肩和四肢为深黑色外，其余部分均为乳白色。', start_char_idx=104, end_char_idx=189, text_template='{metadata_str}\\n\\n{content}', metadata_template='{key}: {value}', metadata_seperator='\\n'),\n",
       " TextNode(id_='0eca2197-2a53-4bdc-9157-4cc8ae4d0a6e', embedding=None, metadata={'filename': './content.txt', 'category': '动物'}, excluded_embed_metadata_keys=[], excluded_llm_metadata_keys=[], relationships={<NodeRelationship.SOURCE: '1'>: RelatedNodeInfo(node_id='9948851f-dac4-4c32-b27b-8bc1304e9e59', node_type=<ObjectType.DOCUMENT: '4'>, metadata={'filename': './content.txt', 'category': '动物'}, hash='cb143ea31441dc7bcb622a5b437f756bc75156e9eb7b5597aa20da6cdd6dd599'), <NodeRelationship.PREVIOUS: '2'>: RelatedNodeInfo(node_id='36861a92-eba2-45ec-bc35-e481f311577a', node_type=<ObjectType.TEXT: '1'>, metadata={'filename': './content.txt', 'category': '动物'}, hash='e245e2dec76167f5adbcec021597c3e43cbd00bb646c44ac57b16892d6e0f28b')}, text='脸颊圆，有很大的“黑眼圈”，标志性的内八字的行走方式，也有解剖刀般锋利的爪子。大熊猫皮肤厚，最厚处可达10毫米。', start_char_idx=189, end_char_idx=245, text_template='{metadata_str}\\n\\n{content}', metadata_template='{key}: {value}', metadata_seperator='\\n')]"
      ]
     },
     "execution_count": 5,
     "metadata": {},
     "output_type": "execute_result"
    }
   ],
   "source": [
    "from llama_index.core.node_parser import SentenceSplitter\n",
    "\n",
    "splitter = SentenceSplitter(\n",
    "    chunk_size=128,\n",
    "    chunk_overlap=10,\n",
    ")\n",
    "nodes = splitter.get_nodes_from_documents([document])\n",
    "\n",
    "nodes"
   ]
  },
  {
   "cell_type": "code",
   "execution_count": 8,
   "id": "cd0b3a69-7591-4a1e-b335-33012bb4d771",
   "metadata": {},
   "outputs": [
    {
     "name": "stdout",
     "output_type": "stream",
     "text": [
      "大熊猫（学名：Ailuropoda melanoleuca）属于熊科、大熊猫属哺乳动物，是中国特有种。仅有两个亚种，四川亚种和秦岭亚种。雌性比雄性小10-20％。头躯长1.2-1.8米，尾长10-12厘米。\n",
      "\n",
      "体重80-120千克，最重可达180千克。体型肥硕似熊、丰腴富态。头圆、体肥、尾短。体色为黑白两色，眼圈、耳壳、吻鼻端 [53]、肩和四肢为深黑色外，其余部分均为乳白色。\n",
      "\n",
      "脸颊圆，有很大的“黑眼圈”，标志性的内八字的行走方式，也有解剖刀般锋利的爪子。大熊猫皮肤厚，最厚处可达10毫米。\n"
     ]
    }
   ],
   "source": [
    "print(\"\\n\\n\".join(node.text for node in nodes))"
   ]
  },
  {
   "cell_type": "code",
   "execution_count": 14,
   "id": "8ea572b8-0aed-4713-b28e-444b17f896aa",
   "metadata": {},
   "outputs": [
    {
     "name": "stdout",
     "output_type": "stream",
     "text": [
      "故乡(1)\n",
      "\n",
      "\n",
      "\n",
      "　　我冒了严寒，回到相隔二千余里，别了二十余年的故乡去。\n",
      "---\n",
      "\n",
      "时候既然是深冬；渐近故乡时，天气又阴晦了，冷风吹进船舱中，呜呜的响，从蓬隙向外一望，苍黄的天底下，远近横着几个萧索的荒村，没有一些活气。\n",
      "---\n",
      "\n",
      "我的心禁不住悲凉起来了。阿！这不是我二十年来时时记得的故乡？\n",
      "\n",
      "　　我所记得的故乡全不如此。我的故乡好得多了。但要我记起他的美丽，说出他的佳处来，却又没有影像，没有言辞了。仿佛也就如此。\n",
      "---\n",
      "\n",
      "仿佛也就如此。于是我自己解释说：故乡本也如此，——虽然没有进步，也未必有如我所感的悲凉，这只是我自己心情的改变罢了，因为我这次回乡，本没有什么好心绪。\n"
     ]
    }
   ],
   "source": [
    "nodes = splitter.get_nodes_from_documents([document2])\n",
    "\n",
    "print(\"\\n---\\n\\n\".join(node.text for node in nodes))"
   ]
  },
  {
   "cell_type": "code",
   "execution_count": 16,
   "id": "15ec9f8a-034e-4299-a77e-de318527da2b",
   "metadata": {},
   "outputs": [
    {
     "name": "stdout",
     "output_type": "stream",
     "text": [
      "红海早过了。船在印度洋面上开驶着。但是太阳依然不饶人地迟落早起侵占去大部分的夜。\n",
      "---\n",
      "\n",
      "夜仿佛纸浸了油，变成半透明体；它给太阳拥抱住了，分不出身来，也许是给太阳陶醉了，所以夕照霞隐褪后的夜色也带着酡红。\n",
      "---\n",
      "\n",
      "到红消醉醒，船舱里的睡人也一身腻汗地醒来，洗了澡赶到甲板上吹海风，又是一天开始。这是七月下旬，合中国旧历的三伏，一年最爇的时候。\n",
      "---\n",
      "\n",
      "在中国爇得更比常年利害，事后大家都说是兵戈之象，因为这就是民国二十六年【一九三七年】。\n",
      "    这条法国邮船白拉日隆子爵号（Ｖｉｃｏｍｔｅｄｅｂｒａｇｅｌｏｏｎｅ）正向中国开来。\n",
      "---\n",
      "\n",
      "早晨八点多钟，冲洗过的三等舱甲板湿意未干，但已坐立了人，法国人，德国流亡出来的尤太人、印度人、安南人，不用说还有中国人。\n",
      "---\n",
      "\n",
      "海风里早寒着燥爇，胖人身体给风吹干了，蒙上一层汗结的盐霜，仿佛刚在巴勒斯坦的死海里洗过澡。\n",
      "---\n",
      "\n",
      "毕竟是清晨，人的兴致还不没给太阳晒萎，烘懒，说话做事都很起劲。那几个新派到安南或中国租界当警察的法国人，正围了那年轻善撒娇的尤太女人在调情。\n",
      "---\n",
      "\n",
      "俾斯麦曾说过，法国公使大使的特点，就是一句外国话不会讲；这几样警察并不懂德文，居然传情达意，引得尤太女人格格地笑，比他们的外交官强多了。\n",
      "---\n",
      "\n",
      "这女人的漂亮丈夫，在旁顾而乐之，因为几天来，香烟、啤酒、柠檬水沾光了不少。红海已过，不怕爇极引火，所以等一会甲板上零星果皮、纸片、瓶塞之外，香烟头定又遍处皆是。\n",
      "---\n",
      "\n",
      "法国人的思想是有名的清楚，他们的文章也明白干净，但是他们的做事，无不混乱、肮脏、喧哗，但看这船上的乱糟糟。\n",
      "---\n",
      "\n",
      "这船，倚仗人的机巧，载满人的扰攘，寄满人的希望，爇闹地行着，每分钟把沾污了人气的一小方水面，还给那无情、无尽、无际的大海。\n"
     ]
    }
   ],
   "source": [
    "nodes = splitter.get_nodes_from_documents([document3])\n",
    "\n",
    "print(\"\\n---\\n\\n\".join(node.text for node in nodes))"
   ]
  },
  {
   "cell_type": "code",
   "execution_count": 18,
   "id": "07da7b28-d360-4e29-9f6f-ef400f704c7c",
   "metadata": {},
   "outputs": [
    {
     "name": "stdout",
     "output_type": "stream",
     "text": [
      "鲁镇的酒店的格局，是和别处不\n",
      "  同的：都是当街一个曲尺形的大柜台，柜里面\n",
      "  预备着热水，可以随时温酒。做工的人，傍午傍晚散了工，每每花四文铜钱，买一碗酒，——这是\n",
      "---\n",
      "\n",
      "碗酒，——这是二十多年前的事，现在每碗要涨到十文，——靠柜外站着，热热的喝了休息；倘肯多花一文，便可以买一碟盐煮笋，或者茴香豆，做下酒物了，如果出到十几文，那就能买一\n",
      "---\n",
      "\n",
      "文，那就能买一样荤菜，但这些顾客，多是短衣帮，大抵没有这样阔绰。只有穿长衫的，才踱进店面隔壁的房子里，要酒要菜，慢慢地坐喝。\n",
      "---\n",
      "\n",
      "我从十二岁起，便在镇口的咸亨酒店里\n",
      "  当伙计，掌柜说，样子太傻，怕侍候不了长衫主顾，就在外面做点事罢。外面的短衣主顾，虽然容易说话，但唠唠叨叨缠夹不清的也很不少。\n",
      "---\n",
      "\n",
      "他们往往要亲眼看着黄酒从坛子里舀出，看过壶子底里有水没有，又亲看将壶子放在热水里，然后放心：在这严重兼督下，羼水也很为难。所以过了几天，掌柜又说我干不了这事。\n",
      "---\n",
      "\n",
      "幸亏荐头的情面大，辞退不得，便改为专管温酒的一种无聊职务了。\n"
     ]
    }
   ],
   "source": [
    "nodes = splitter.get_nodes_from_documents([document4])\n",
    "\n",
    "print(\"\\n---\\n\\n\".join(node.text for node in nodes))"
   ]
  },
  {
   "cell_type": "code",
   "execution_count": 19,
   "id": "1cb859ed-3c61-47cd-91b2-771a90b2de4e",
   "metadata": {},
   "outputs": [
    {
     "name": "stdout",
     "output_type": "stream",
     "text": [
      "鲁镇的酒店的格局，是和别处不\n",
      "  同的：都是当街一个曲尺形的大柜台，柜里面\n",
      "  预备着热水，可以随时温酒。\n",
      "---\n",
      "\n",
      "做工的人，傍午傍晚散了工，每每花四文铜钱，买一碗酒，——这是二十多年前的事，现在每碗要涨到十文，——靠柜外站着，热热的喝了休息；倘肯多花一文，便可以买一碟盐煮笋，或者茴香豆，做下酒物了，如果出到十几文，那就能买一样荤菜，但这些顾客，多是短衣帮，大抵没有这样阔绰。只有穿长衫的，才踱进店面隔壁的房子里，要酒要菜，慢慢地坐喝。\n",
      "---\n",
      "\n",
      "我从十二岁起，便在镇口的咸亨酒店里\n",
      "  当伙计，掌柜说，样子太傻，怕侍候不了长衫主顾，就在外面做点事罢。外面的短衣主顾，虽然容易说话，但唠唠叨叨缠夹不清的也很不少。他们往往要亲眼看着黄酒从坛子里舀出，看过壶子底里有水没有，又亲看将壶子放在热水里，然后放心：在这严重兼督下，羼水也很为难。所以过了几天，掌柜又说我干不了这事。\n",
      "---\n",
      "\n",
      "幸亏荐头的情面大，辞退不得，便改为专管温酒的一种无聊职务了。\n"
     ]
    }
   ],
   "source": [
    "splitter = SentenceSplitter(\n",
    "    chunk_size=256,\n",
    "    chunk_overlap=10,\n",
    ")\n",
    "nodes = splitter.get_nodes_from_documents([document4])\n",
    "\n",
    "print(\"\\n---\\n\\n\".join(node.text for node in nodes))"
   ]
  },
  {
   "cell_type": "code",
   "execution_count": null,
   "id": "2006065a-0248-43c5-a064-685de1405f6c",
   "metadata": {},
   "outputs": [],
   "source": []
  }
 ],
 "metadata": {
  "kernelspec": {
   "display_name": "Python 3 (ipykernel)",
   "language": "python",
   "name": "python3"
  },
  "language_info": {
   "codemirror_mode": {
    "name": "ipython",
    "version": 3
   },
   "file_extension": ".py",
   "mimetype": "text/x-python",
   "name": "python",
   "nbconvert_exporter": "python",
   "pygments_lexer": "ipython3",
   "version": "3.10.12"
  }
 },
 "nbformat": 4,
 "nbformat_minor": 5
}
