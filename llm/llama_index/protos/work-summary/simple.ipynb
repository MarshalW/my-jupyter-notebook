{
 "cells": [
  {
   "cell_type": "markdown",
   "id": "0cf00d8c-0a84-4053-b4d9-cc3fd6db59fd",
   "metadata": {},
   "source": [
    "# 实现工作总结的原型"
   ]
  },
  {
   "cell_type": "markdown",
   "id": "31af6f91-20ce-4445-bfb2-0c43ad606481",
   "metadata": {},
   "source": [
    "## 全局设置"
   ]
  },
  {
   "cell_type": "code",
   "execution_count": 1,
   "id": "2014dbd8-65d1-4a95-979b-5d3cee0ce647",
   "metadata": {},
   "outputs": [
    {
     "name": "stdout",
     "output_type": "stream",
     "text": [
      "CPU times: user 3.47 s, sys: 417 ms, total: 3.89 s\n",
      "Wall time: 3.54 s\n"
     ]
    }
   ],
   "source": [
    "%%time\n",
    "\n",
    "from llama_index.core import Settings\n",
    "from llama_index.llms.openai_like import OpenAILike\n",
    "from llama_index.embeddings.ollama import OllamaEmbedding\n",
    "\n",
    "Settings.llm=OpenAILike(\n",
    "    model=\"qwen2\", \n",
    "    api_base=\"http://ape:3000/v1\", \n",
    "    api_key=\"sk-bJP6QSnUfjAYeYeE505d3eBf63A643BeB0B8E350Df9b7750\",\n",
    "    is_chat_model=True,\n",
    "    temperature=0.1,\n",
    "    request_timeout=60.0\n",
    ")\n",
    "\n",
    "Settings.embed_model = OllamaEmbedding(\n",
    "    model_name=\"quentinz/bge-large-zh-v1.5\",\n",
    "    base_url=\"http://ape:11434\",\n",
    "    ollama_additional_kwargs={\"mirostat\": 0}, # -mirostat N 使用 Mirostat 采样。\n",
    ")\n",
    "\n",
    "Settings.chunk_size = 128\n",
    "Settings.chunk_overlap = 10"
   ]
  },
  {
   "cell_type": "code",
   "execution_count": 2,
   "id": "e37516f3-5fd6-4764-90bc-5294fb3d3e87",
   "metadata": {},
   "outputs": [
    {
     "name": "stdout",
     "output_type": "stream",
     "text": [
      "CPU times: user 1.11 ms, sys: 110 µs, total: 1.22 ms\n",
      "Wall time: 1.01 ms\n"
     ]
    }
   ],
   "source": [
    "%%time\n",
    "\n",
    "import nest_asyncio\n",
    "nest_asyncio.apply()"
   ]
  },
  {
   "cell_type": "markdown",
   "id": "3cc008dc-6825-4605-b5f5-7bcf322fc9be",
   "metadata": {},
   "source": [
    "## 加载数据"
   ]
  },
  {
   "cell_type": "code",
   "execution_count": 3,
   "id": "19f7a79a-35fe-495d-ad38-c0f5e87bdcc5",
   "metadata": {},
   "outputs": [
    {
     "name": "stdout",
     "output_type": "stream",
     "text": [
      "CPU times: user 2 µs, sys: 1 µs, total: 3 µs\n",
      "Wall time: 3.81 µs\n"
     ]
    }
   ],
   "source": [
    "%%time\n",
    "\n",
    "# 模拟一个当天的全体人员工作日志\n",
    "items=[\n",
    "\"开发部韩宇轩，simple-rag 产品，实现新特性：针对文档的摘要索引\",\n",
    "\"开发部陈逸飞，simple-rag 产品，修正bug：中文断句不完整\",\n",
    "\"产品部林晓琪，simple-rag 产品，提交新特性需求：多数据源的融合检索查询\",\n",
    "\"产品部林晓琪，江南皮革厂客服助手项目，和客户开会，沟通需求\",\n",
    "\"运维部李泽言，江南皮革厂客服平台，系统扩容，解决了负载过高造成服务卡的问题\",\n",
    "\"销售部韩雪薇，天津化工集团后勤服务平台，准备标书商务部分，完成公司资质方面的文案\",\n",
    "\"法务部张峻宁，完成审核了与深圳做大事公司的商务合同\",\n",
    "\"开发部郑千，simple-rag 产品，修正bug：聊天界面 markdown 格式显示错误\",\n",
    "]"
   ]
  },
  {
   "cell_type": "code",
   "execution_count": 4,
   "id": "e3be7837-07a9-4f2b-871d-ee919c6491a0",
   "metadata": {},
   "outputs": [
    {
     "data": {
      "text/plain": [
       "[TextNode(id_='node_0', embedding=None, metadata={}, excluded_embed_metadata_keys=[], excluded_llm_metadata_keys=[], relationships={}, text='开发部韩宇轩，simple-rag 产品，实现新特性：针对文档的摘要索引', start_char_idx=None, end_char_idx=None, text_template='{metadata_str}\\n\\n{content}', metadata_template='{key}: {value}', metadata_seperator='\\n'),\n",
       " TextNode(id_='node_1', embedding=None, metadata={}, excluded_embed_metadata_keys=[], excluded_llm_metadata_keys=[], relationships={}, text='开发部陈逸飞，simple-rag 产品，修正bug：中文断句不完整', start_char_idx=None, end_char_idx=None, text_template='{metadata_str}\\n\\n{content}', metadata_template='{key}: {value}', metadata_seperator='\\n'),\n",
       " TextNode(id_='node_2', embedding=None, metadata={}, excluded_embed_metadata_keys=[], excluded_llm_metadata_keys=[], relationships={}, text='产品部林晓琪，simple-rag 产品，提交新特性需求：多数据源的融合检索查询', start_char_idx=None, end_char_idx=None, text_template='{metadata_str}\\n\\n{content}', metadata_template='{key}: {value}', metadata_seperator='\\n'),\n",
       " TextNode(id_='node_3', embedding=None, metadata={}, excluded_embed_metadata_keys=[], excluded_llm_metadata_keys=[], relationships={}, text='产品部林晓琪，江南皮革厂客服助手项目，和客户开会，沟通需求', start_char_idx=None, end_char_idx=None, text_template='{metadata_str}\\n\\n{content}', metadata_template='{key}: {value}', metadata_seperator='\\n'),\n",
       " TextNode(id_='node_4', embedding=None, metadata={}, excluded_embed_metadata_keys=[], excluded_llm_metadata_keys=[], relationships={}, text='运维部李泽言，江南皮革厂客服平台，系统扩容，解决了负载过高造成服务卡的问题', start_char_idx=None, end_char_idx=None, text_template='{metadata_str}\\n\\n{content}', metadata_template='{key}: {value}', metadata_seperator='\\n'),\n",
       " TextNode(id_='node_5', embedding=None, metadata={}, excluded_embed_metadata_keys=[], excluded_llm_metadata_keys=[], relationships={}, text='销售部韩雪薇，天津化工集团后勤服务平台，准备标书商务部分，完成公司资质方面的文案', start_char_idx=None, end_char_idx=None, text_template='{metadata_str}\\n\\n{content}', metadata_template='{key}: {value}', metadata_seperator='\\n'),\n",
       " TextNode(id_='node_6', embedding=None, metadata={}, excluded_embed_metadata_keys=[], excluded_llm_metadata_keys=[], relationships={}, text='法务部张峻宁，完成审核了与深圳做大事公司的商务合同', start_char_idx=None, end_char_idx=None, text_template='{metadata_str}\\n\\n{content}', metadata_template='{key}: {value}', metadata_seperator='\\n'),\n",
       " TextNode(id_='node_7', embedding=None, metadata={}, excluded_embed_metadata_keys=[], excluded_llm_metadata_keys=[], relationships={}, text='开发部郑千，simple-rag 产品，修正bug：聊天界面 markdown 格式显示错误', start_char_idx=None, end_char_idx=None, text_template='{metadata_str}\\n\\n{content}', metadata_template='{key}: {value}', metadata_seperator='\\n')]"
      ]
     },
     "execution_count": 4,
     "metadata": {},
     "output_type": "execute_result"
    }
   ],
   "source": [
    "from llama_index.core.schema import TextNode\n",
    "\n",
    "nodes=[ TextNode(text=item, id_=f\"node_{index}\") for index, item in enumerate(items)]\n",
    "nodes"
   ]
  },
  {
   "cell_type": "markdown",
   "id": "4108de64-1b3d-4192-b13b-84f39807d803",
   "metadata": {},
   "source": [
    "## 建立摘要索引和向量索引"
   ]
  },
  {
   "cell_type": "code",
   "execution_count": 5,
   "id": "c4677755-d933-41f8-8a0e-227dc99a8f56",
   "metadata": {},
   "outputs": [
    {
     "name": "stdout",
     "output_type": "stream",
     "text": [
      "CPU times: user 35.2 ms, sys: 1.26 ms, total: 36.4 ms\n",
      "Wall time: 1.76 s\n"
     ]
    }
   ],
   "source": [
    "%%time\n",
    "\n",
    "\n",
    "from llama_index.core import SummaryIndex\n",
    "from llama_index.core import VectorStoreIndex\n",
    "\n",
    "summary_index = SummaryIndex(nodes)\n",
    "vector_index = VectorStoreIndex(nodes)"
   ]
  },
  {
   "cell_type": "markdown",
   "id": "b7be28b8-09c4-4a3f-a72d-60a147ca1a0d",
   "metadata": {},
   "source": [
    "## 定义查询引擎和元数据"
   ]
  },
  {
   "cell_type": "code",
   "execution_count": 6,
   "id": "0dc42b18-e1e0-4dbf-b85e-942f02e6eceb",
   "metadata": {},
   "outputs": [
    {
     "name": "stdout",
     "output_type": "stream",
     "text": [
      "CPU times: user 33.4 ms, sys: 0 ns, total: 33.4 ms\n",
      "Wall time: 32.9 ms\n"
     ]
    }
   ],
   "source": [
    "%%time\n",
    "\n",
    "\n",
    "list_query_engine = summary_index.as_query_engine(\n",
    "    response_mode=\"tree_summarize\",\n",
    "    use_async=True,\n",
    ")\n",
    "vector_query_engine = vector_index.as_query_engine()"
   ]
  },
  {
   "cell_type": "code",
   "execution_count": 7,
   "id": "40d99ee4-81e7-4d7d-8ac7-c90b70dac3cf",
   "metadata": {},
   "outputs": [
    {
     "name": "stdout",
     "output_type": "stream",
     "text": [
      "CPU times: user 13 µs, sys: 0 ns, total: 13 µs\n",
      "Wall time: 15.7 µs\n"
     ]
    }
   ],
   "source": [
    "%%time\n",
    "\n",
    "from llama_index.core.tools import QueryEngineTool\n",
    "\n",
    "\n",
    "list_tool = QueryEngineTool.from_defaults(\n",
    "    query_engine=list_query_engine,\n",
    "    description=(\n",
    "        \"对工作总结方面的问题很有用。\"\n",
    "    ),\n",
    ")\n",
    "\n",
    "vector_tool = QueryEngineTool.from_defaults(\n",
    "    query_engine=vector_query_engine,\n",
    "    description=(\n",
    "        \"适用于工作相关的具体问题。\"\n",
    "    ),\n",
    ")"
   ]
  },
  {
   "cell_type": "markdown",
   "id": "212f261e-7ebd-4339-9c03-c760e14e709f",
   "metadata": {},
   "source": [
    "### 单选"
   ]
  },
  {
   "cell_type": "code",
   "execution_count": 22,
   "id": "8e524f4f-6720-4922-9fdd-66fa90fc7e3f",
   "metadata": {},
   "outputs": [
    {
     "name": "stdout",
     "output_type": "stream",
     "text": [
      "CPU times: user 161 µs, sys: 18 µs, total: 179 µs\n",
      "Wall time: 182 µs\n"
     ]
    }
   ],
   "source": [
    "%%time\n",
    "\n",
    "from llama_index.core.query_engine import RouterQueryEngine\n",
    "from llama_index.core.selectors import LLMSingleSelector\n",
    "\n",
    "query_engine = RouterQueryEngine(\n",
    "    selector=LLMSingleSelector.from_defaults(),\n",
    "    query_engine_tools=[\n",
    "        list_tool,\n",
    "        vector_tool,\n",
    "    ],\n",
    ")"
   ]
  },
  {
   "cell_type": "code",
   "execution_count": 23,
   "id": "ed9feb85-ab35-4677-89b6-ecaa4ab35c1b",
   "metadata": {},
   "outputs": [],
   "source": [
    "response = query_engine.query(\n",
    "    \"按照部门、人员，总结完成的任务。\"\n",
    "    \"比如：\"\n",
    "    \"产品部，张三，完成了如下工作：1，xxxx; 2, xxxx ...\"\n",
    "    \"开发部，李四，完成了如下工作：1，xxxx; 2, xxxx ...\"\n",
    "    \"       王五，完成了如下工作：1，xxxx; 2, xxxx ...\"\n",
    ")"
   ]
  },
  {
   "cell_type": "code",
   "execution_count": 24,
   "id": "b8a57361-ae6d-421d-a6b0-678f4e1bcd8e",
   "metadata": {},
   "outputs": [
    {
     "name": "stdout",
     "output_type": "stream",
     "text": [
      "产品部，林晓琪：\n",
      "1. 提交了多数据源融合检索查询的新特性需求；\n",
      "2. 参与了江南皮革厂客服助手项目的客户会议，沟通需求。\n",
      "\n",
      "开发部，韩宇轩：\n",
      "1. 实现了simple-rag产品的文档摘要索引新特性；\n",
      "2. 修正了simple-rag产品中的markdown格式显示错误问题。\n",
      "\n",
      "开发部，陈逸飞：\n",
      "1. 修正了simple-rag产品中的中文断句不完整bug；\n",
      "2. 完成了聊天界面markdown格式显示的bug修复工作。\n",
      "\n",
      "运维部，李泽言：\n",
      "1. 解决了江南皮革厂客服平台负载过高导致的服务卡顿问题；\n",
      "2. 进行了系统扩容操作。\n",
      "\n",
      "销售部，韩雪薇：\n",
      "1. 准备了天津化工集团后勤服务平台的标书商务部分；\n",
      "2. 完成了公司资质方面的文案工作。\n",
      "\n",
      "法务部，张峻宁：\n",
      "1. 审核并完成了与深圳做大事公司的商务合同。\n"
     ]
    }
   ],
   "source": [
    "print(str(response))"
   ]
  },
  {
   "cell_type": "code",
   "execution_count": 11,
   "id": "2fb46ed1-2782-4275-9a6a-cf84a43a0ba7",
   "metadata": {},
   "outputs": [
    {
     "name": "stdout",
     "output_type": "stream",
     "text": [
      "开发部工作总结：\n",
      "- 陈逸飞：1. 修正bug：中文断句不完整；\n",
      "- 郑千：1. 修正bug：聊天界面markdown格式显示错误。\n"
     ]
    }
   ],
   "source": [
    "response = query_engine.query(\n",
    "    \"总结开发部完成的任务。\"\n",
    "    \"要求：人员按照如下次序，韩宇轩、陈逸飞、郑千\"\n",
    "    \"格式要求：\"\n",
    "    \"开发部工作总结：\"\n",
    "    \"- 张三： 1. 解决了xxx；2. 完成了xxx\"\n",
    "    \"- 李四： 1. 修正了xxx\"\n",
    "    \"...\"\n",
    ")\n",
    "print(str(response))"
   ]
  },
  {
   "cell_type": "code",
   "execution_count": 12,
   "id": "4aa1fdef-a254-486a-b67d-ad02e73df36c",
   "metadata": {},
   "outputs": [
    {
     "name": "stdout",
     "output_type": "stream",
     "text": [
      "按照项目（simple-rag产品）和任务分类，以下是开发部的工作情况：\n",
      "\n",
      "1. **陈逸飞**完成了对中文断句不完整问题的修正。\n",
      "2. **郑千**解决了聊天界面markdown格式显示错误的问题。\n",
      "CPU times: user 18.1 ms, sys: 0 ns, total: 18.1 ms\n",
      "Wall time: 2.08 s\n"
     ]
    }
   ],
   "source": [
    "%%time\n",
    "\n",
    "response = query_engine.query(\"按照项目/产品/业务，列出开发部工作完成的情况，列表说明：谁干了什么\")\n",
    "print(str(response))"
   ]
  },
  {
   "cell_type": "code",
   "execution_count": 13,
   "id": "394ae850-f4f6-4254-9c5e-52a151f0cf57",
   "metadata": {},
   "outputs": [
    {
     "name": "stdout",
     "output_type": "stream",
     "text": [
      "开发部有两位人员，他们的姓名分别是陈逸飞和韩宇轩。\n",
      "CPU times: user 17.8 ms, sys: 0 ns, total: 17.8 ms\n",
      "Wall time: 1.31 s\n"
     ]
    }
   ],
   "source": [
    "%%time\n",
    "\n",
    "response = query_engine.query(\"列出开发部所有人员姓名\")\n",
    "print(str(response))"
   ]
  },
  {
   "cell_type": "code",
   "execution_count": 14,
   "id": "2c53f352-b411-439b-9287-f82f991ebcd8",
   "metadata": {},
   "outputs": [
    {
     "name": "stdout",
     "output_type": "stream",
     "text": [
      "张峻宁完成了对与深圳做大事公司的商务合同的审核工作。\n",
      "CPU times: user 15.8 ms, sys: 2.52 ms, total: 18.3 ms\n",
      "Wall time: 1.29 s\n"
     ]
    }
   ],
   "source": [
    "%%time\n",
    "\n",
    "response = query_engine.query(\"张峻宁干了啥\")\n",
    "print(str(response))"
   ]
  },
  {
   "cell_type": "code",
   "execution_count": 15,
   "id": "4249ef2d-180d-485e-a022-dd6c231127eb",
   "metadata": {},
   "outputs": [
    {
     "name": "stdout",
     "output_type": "stream",
     "text": [
      "简单RAG产品中，开发部韩宇轩实现了新特性：针对文档的摘要索引；开发部陈逸飞修正了bug：中文断句不完整。\n",
      "CPU times: user 17.5 ms, sys: 501 µs, total: 18 ms\n",
      "Wall time: 1.85 s\n"
     ]
    }
   ],
   "source": [
    "%%time\n",
    "\n",
    "response = query_engine.query(\"simple-rag 产品都完成了哪些事情，包括开发部和产品部。列表说明。\")\n",
    "print(str(response))"
   ]
  },
  {
   "cell_type": "markdown",
   "id": "a436f06e-8569-4441-a1cc-cbac43fe9fc7",
   "metadata": {},
   "source": [
    "### 多选"
   ]
  },
  {
   "cell_type": "code",
   "execution_count": 16,
   "id": "5f2f4ccb-f2b7-42ac-b1d5-706e87568b82",
   "metadata": {},
   "outputs": [
    {
     "name": "stdout",
     "output_type": "stream",
     "text": [
      "CPU times: user 195 µs, sys: 0 ns, total: 195 µs\n",
      "Wall time: 198 µs\n"
     ]
    }
   ],
   "source": [
    "%%time\n",
    "\n",
    "from llama_index.core.selectors import LLMMultiSelector\n",
    "\n",
    "query_engine = RouterQueryEngine(\n",
    "    selector=LLMMultiSelector.from_defaults(),\n",
    "    query_engine_tools=[\n",
    "        list_tool,\n",
    "        vector_tool,\n",
    "    ],\n",
    ")"
   ]
  },
  {
   "cell_type": "code",
   "execution_count": 17,
   "id": "b3b78b4b-f4aa-4bc0-9b51-b5bdc6e47fdf",
   "metadata": {},
   "outputs": [
    {
     "name": "stdout",
     "output_type": "stream",
     "text": [
      "销售部韩雪薇正在准备标书商务部分，并专注于公司资质方面的文案撰写。这表明她已经完成了与天津化工集团后勤服务平台相关的准备工作。\n",
      "\n",
      "产品部林晓琪则在进行simple-rag产品的特新需求提交，具体是关于多数据源的融合检索查询功能的需求。这意味着她的工作也已进入完成阶段，正在为产品特性添加新的功能需求。\n",
      "CPU times: user 13.1 ms, sys: 3.77 ms, total: 16.8 ms\n",
      "Wall time: 2.67 s\n"
     ]
    }
   ],
   "source": [
    "%%time\n",
    "\n",
    "response = query_engine.query(\"按照项目/产品/业务，列出工作完成的情况，列表说明\")\n",
    "print(str(response))"
   ]
  },
  {
   "cell_type": "code",
   "execution_count": 18,
   "id": "06991f48-6921-4798-82c0-cda55416d75e",
   "metadata": {},
   "outputs": [
    {
     "name": "stdout",
     "output_type": "stream",
     "text": [
      "产品部，林晓琪：\n",
      "1. 提交了多数据源融合检索查询的新特性需求。\n",
      "2. 参与了江南皮革厂客服助手项目的客户会议，沟通需求。\n",
      "\n",
      "开发部，韩宇轩：\n",
      "1. 实现了simple-rag产品的文档摘要索引新特性。\n",
      "\n",
      "开发部，陈逸飞：\n",
      "1. 修正了simple-rag产品中的中文断句不完整bug。\n",
      "2. 解决了聊天界面markdown格式显示错误的bug。\n",
      "\n",
      "运维部，李泽言：\n",
      "1. 对江南皮革厂客服平台进行了系统扩容，解决了负载过高导致的服务卡顿问题。\n",
      "\n",
      "销售部，韩雪薇：\n",
      "1. 准备了天津化工集团后勤服务平台的标书商务部分。\n",
      "2. 完成了公司资质方面的文案工作。\n",
      "\n",
      "法务部，张峻宁：\n",
      "1. 审核并完成了与深圳做大事公司的商务合同。\n",
      "CPU times: user 13.7 ms, sys: 191 µs, total: 13.9 ms\n",
      "Wall time: 4.55 s\n"
     ]
    }
   ],
   "source": [
    "%%time\n",
    "\n",
    "response = query_engine.query(\n",
    "    \"按照部门、人员，总结完成的任务。\"\n",
    "    \"比如：\"\n",
    "    \"产品部，张三，完成了如下工作：1，xxxx; 2, xxxx ...\"\n",
    "    \"开发部，李四，完成了如下工作：1，xxxx; 2, xxxx ...\"\n",
    "    \"       王五，完成了如下工作：1，xxxx; 2, xxxx ...\"\n",
    ")\n",
    "print(str(response))"
   ]
  },
  {
   "cell_type": "code",
   "execution_count": 19,
   "id": "66a5bf6b-5274-4960-85a9-a3a07bb932c9",
   "metadata": {},
   "outputs": [
    {
     "name": "stdout",
     "output_type": "stream",
     "text": [
      "法务部完成了与深圳做大事公司的商务合同的审核工作。\n",
      "CPU times: user 30.8 ms, sys: 299 µs, total: 31.1 ms\n",
      "Wall time: 3.11 s\n"
     ]
    }
   ],
   "source": [
    "%%time\n",
    "\n",
    "response = query_engine.query(\"法务部完成了啥\")\n",
    "print(str(response))"
   ]
  },
  {
   "cell_type": "code",
   "execution_count": null,
   "id": "a8ac58d3-713c-4914-a8b5-4894c9c0abf3",
   "metadata": {},
   "outputs": [],
   "source": []
  }
 ],
 "metadata": {
  "kernelspec": {
   "display_name": "Python 3 (ipykernel)",
   "language": "python",
   "name": "python3"
  },
  "language_info": {
   "codemirror_mode": {
    "name": "ipython",
    "version": 3
   },
   "file_extension": ".py",
   "mimetype": "text/x-python",
   "name": "python",
   "nbconvert_exporter": "python",
   "pygments_lexer": "ipython3",
   "version": "3.10.12"
  }
 },
 "nbformat": 4,
 "nbformat_minor": 5
}
