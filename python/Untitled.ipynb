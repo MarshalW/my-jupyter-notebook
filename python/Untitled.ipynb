{
 "cells": [
  {
   "cell_type": "code",
   "execution_count": 2,
   "id": "d990eb6f-2498-4030-b61e-ff9d613ea900",
   "metadata": {},
   "outputs": [
    {
     "name": "stdout",
     "output_type": "stream",
     "text": [
      "ok\n"
     ]
    }
   ],
   "source": [
    "if True:\n",
    "    hello='ok'\n",
    "\n",
    "print(hello)"
   ]
  },
  {
   "cell_type": "code",
   "execution_count": 1,
   "id": "c2ef04fd-d73b-4be2-9ad3-73fd9d992996",
   "metadata": {},
   "outputs": [
    {
     "name": "stdout",
     "output_type": "stream",
     "text": [
      "物业信息/姚家园西里\n"
     ]
    }
   ],
   "source": [
    "def extract_property_info(file_path):\n",
    "    # 移除路径的前缀\n",
    "    trimmed_path = file_path.split(\"/知识库/\", 1)[-1]\n",
    "    # 移除文件后缀\n",
    "    property_info = trimmed_path.replace(\".md\", \"\")\n",
    "    return property_info\n",
    "\n",
    "# 测试\n",
    "file_path = \"/data/知识库/物业信息/姚家园西里.md\"\n",
    "result = extract_property_info(file_path)\n",
    "print(result)"
   ]
  },
  {
   "cell_type": "code",
   "execution_count": null,
   "id": "7270f014-c758-48b9-9246-f208ff289135",
   "metadata": {},
   "outputs": [],
   "source": []
  }
 ],
 "metadata": {
  "kernelspec": {
   "display_name": "Python 3 (ipykernel)",
   "language": "python",
   "name": "python3"
  },
  "language_info": {
   "codemirror_mode": {
    "name": "ipython",
    "version": 3
   },
   "file_extension": ".py",
   "mimetype": "text/x-python",
   "name": "python",
   "nbconvert_exporter": "python",
   "pygments_lexer": "ipython3",
   "version": "3.10.12"
  }
 },
 "nbformat": 4,
 "nbformat_minor": 5
}
