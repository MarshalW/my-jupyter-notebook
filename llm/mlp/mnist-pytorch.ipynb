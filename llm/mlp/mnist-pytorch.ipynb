{
 "cells": [
  {
   "cell_type": "markdown",
   "id": "f6ffd053-899a-42f5-8593-c036053faf0d",
   "metadata": {},
   "source": [
    "# 最基本的手写数字识别"
   ]
  },
  {
   "cell_type": "markdown",
   "id": "b013bddc-1b5b-4fd9-b0a3-dbf3ac5ef7c5",
   "metadata": {},
   "source": [
    "## 需要的包"
   ]
  },
  {
   "cell_type": "code",
   "execution_count": 2,
   "id": "4b7a9993-b830-4cfa-97f1-6a24556c10c2",
   "metadata": {},
   "outputs": [],
   "source": [
    "import torch\n",
    "import torch.nn as nn\n",
    "import torch.optim as optim\n",
    "import torchvision\n",
    "import torchvision.transforms as transforms"
   ]
  },
  {
   "cell_type": "markdown",
   "id": "207d116a-f17a-4462-bfd1-34bbb3773ab2",
   "metadata": {},
   "source": [
    "## 是否使用cuda"
   ]
  },
  {
   "cell_type": "code",
   "execution_count": 3,
   "id": "e411a94f-9f9b-4500-910f-310347e84be2",
   "metadata": {},
   "outputs": [
    {
     "name": "stdout",
     "output_type": "stream",
     "text": [
      "使用设备: cuda\n"
     ]
    }
   ],
   "source": [
    "device = torch.device(\"cuda\" if torch.cuda.is_available() else \"cpu\")\n",
    "print(f\"使用设备: {device}\")"
   ]
  },
  {
   "cell_type": "markdown",
   "id": "146ea4e7-f64f-40cb-b8f2-219ef849412c",
   "metadata": {},
   "source": [
    "## 加载数据"
   ]
  },
  {
   "cell_type": "code",
   "execution_count": 5,
   "id": "d6038bca-f0b3-4027-8d73-cb6e0c94ea50",
   "metadata": {},
   "outputs": [],
   "source": [
    "# 数据预处理\n",
    "transform = transforms.Compose([\n",
    "    transforms.ToTensor(),\n",
    "    transforms.Normalize((0.5,), (0.5,))\n",
    "])\n",
    "\n",
    "# 加载训练集和测试集\n",
    "trainset = torchvision.datasets.MNIST(root='./data', train=True, download=True, transform=transform)\n",
    "trainloader = torch.utils.data.DataLoader(trainset, batch_size=64, shuffle=True)\n",
    "testset = torchvision.datasets.MNIST(root='./data', train=False, download=True, transform=transform)\n",
    "testloader = torch.utils.data.DataLoader(testset, batch_size=64, shuffle=False)"
   ]
  },
  {
   "cell_type": "markdown",
   "id": "b9588d3b-2d53-4489-ad96-89ef8bf42de5",
   "metadata": {},
   "source": [
    "## 定义模型、损失函数和优化器"
   ]
  },
  {
   "cell_type": "code",
   "execution_count": 6,
   "id": "59e7102f-e3f4-44d0-a617-335fc9b8a794",
   "metadata": {},
   "outputs": [
    {
     "name": "stdout",
     "output_type": "stream",
     "text": [
      "定义模型 .. OK\n"
     ]
    }
   ],
   "source": [
    "# 定义模型\n",
    "model = nn.Sequential(\n",
    "    nn.Linear(784, 128),\n",
    "    nn.ReLU(),\n",
    "    nn.Linear(128, 10)\n",
    ")\n",
    "\n",
    "# 定义损失函数和优化器\n",
    "criterion = nn.CrossEntropyLoss()\n",
    "optimizer = optim.SGD(model.parameters(), lr=0.01)\n",
    "\n",
    "print('定义模型 .. OK')\n",
    "\n",
    "# 定义损失函数和优化器\n",
    "criterion = nn.CrossEntropyLoss()\n",
    "optimizer = optim.SGD(model.parameters(), lr=0.01)"
   ]
  },
  {
   "cell_type": "markdown",
   "id": "310cc0bd-d84a-43fb-8edc-0bef6d90e32a",
   "metadata": {},
   "source": [
    "## 基于cpu的训练"
   ]
  },
  {
   "cell_type": "code",
   "execution_count": 7,
   "id": "da8b049c-da66-4684-b987-a38f16ede5af",
   "metadata": {},
   "outputs": [
    {
     "name": "stdout",
     "output_type": "stream",
     "text": [
      "Epoch: 1, Batch: 200, Loss: 1.551\n",
      "Epoch: 1, Batch: 400, Loss: 0.731\n",
      "Epoch: 1, Batch: 600, Loss: 0.529\n",
      "Epoch: 1, Batch: 800, Loss: 0.456\n",
      "Epoch: 2, Batch: 200, Loss: 0.403\n",
      "Epoch: 2, Batch: 400, Loss: 0.371\n",
      "Epoch: 2, Batch: 600, Loss: 0.361\n",
      "Epoch: 2, Batch: 800, Loss: 0.349\n",
      "Epoch: 3, Batch: 200, Loss: 0.344\n",
      "Epoch: 3, Batch: 400, Loss: 0.325\n",
      "Epoch: 3, Batch: 600, Loss: 0.320\n",
      "Epoch: 3, Batch: 800, Loss: 0.313\n",
      "Epoch: 4, Batch: 200, Loss: 0.307\n",
      "Epoch: 4, Batch: 400, Loss: 0.310\n",
      "Epoch: 4, Batch: 600, Loss: 0.288\n",
      "Epoch: 4, Batch: 800, Loss: 0.290\n",
      "Epoch: 5, Batch: 200, Loss: 0.281\n",
      "Epoch: 5, Batch: 400, Loss: 0.274\n",
      "Epoch: 5, Batch: 600, Loss: 0.281\n",
      "Epoch: 5, Batch: 800, Loss: 0.276\n",
      "训练 .. OK\n",
      "CPU times: user 1min, sys: 1.4 s, total: 1min 1s\n",
      "Wall time: 52.2 s\n"
     ]
    }
   ],
   "source": [
    "%%time\n",
    "\n",
    "# 训练模型\n",
    "for epoch in range(5):  # 进行5个epoch的训练\n",
    "    running_loss = 0.0\n",
    "    for i, data in enumerate(trainloader, 0):\n",
    "        inputs, labels = data\n",
    "\n",
    "        optimizer.zero_grad()\n",
    "\n",
    "        outputs = model(inputs.view(inputs.size(0), -1))\n",
    "        loss = criterion(outputs, labels)\n",
    "        loss.backward()\n",
    "        optimizer.step()\n",
    "\n",
    "        running_loss += loss.item()\n",
    "        if i % 200 == 199:  # 每200个batch打印一次损失值\n",
    "            print(f'Epoch: {epoch + 1}, Batch: {i + 1}, Loss: {running_loss / 200:.3f}')\n",
    "            running_loss = 0.0\n",
    "\n",
    "print('训练 .. OK')"
   ]
  },
  {
   "cell_type": "markdown",
   "id": "adb470a8-2d03-4938-a081-2d4575618353",
   "metadata": {},
   "source": [
    "## 基于gpu的训练"
   ]
  },
  {
   "cell_type": "markdown",
   "id": "1476dbd0-3b84-406d-aef6-63c2227d7cbb",
   "metadata": {},
   "source": [
    "设置 gpu"
   ]
  },
  {
   "cell_type": "code",
   "execution_count": 8,
   "id": "2a6bdf67-6ba2-4008-8c0a-58b8b9227afe",
   "metadata": {},
   "outputs": [],
   "source": [
    "# 将模型移动到 GPU 上\n",
    "model = model.to(device)"
   ]
  },
  {
   "cell_type": "markdown",
   "id": "c76982e6-e838-496f-9118-55e0392b1671",
   "metadata": {},
   "source": [
    "使用 gpu 训练模型"
   ]
  },
  {
   "cell_type": "code",
   "execution_count": 12,
   "id": "1c9b2ee6-4450-47f7-9295-c7561a1c7219",
   "metadata": {},
   "outputs": [
    {
     "name": "stdout",
     "output_type": "stream",
     "text": [
      "Epoch: 1, Batch: 200, Loss: 0.189\n",
      "Epoch: 1, Batch: 400, Loss: 0.180\n",
      "Epoch: 1, Batch: 600, Loss: 0.187\n",
      "Epoch: 1, Batch: 800, Loss: 0.184\n",
      "Epoch: 2, Batch: 200, Loss: 0.176\n",
      "Epoch: 2, Batch: 400, Loss: 0.175\n",
      "Epoch: 2, Batch: 600, Loss: 0.170\n",
      "Epoch: 2, Batch: 800, Loss: 0.178\n",
      "Epoch: 3, Batch: 200, Loss: 0.169\n",
      "Epoch: 3, Batch: 400, Loss: 0.168\n",
      "Epoch: 3, Batch: 600, Loss: 0.168\n",
      "Epoch: 3, Batch: 800, Loss: 0.167\n",
      "Epoch: 4, Batch: 200, Loss: 0.151\n",
      "Epoch: 4, Batch: 400, Loss: 0.161\n",
      "Epoch: 4, Batch: 600, Loss: 0.159\n",
      "Epoch: 4, Batch: 800, Loss: 0.159\n",
      "Epoch: 5, Batch: 200, Loss: 0.150\n",
      "Epoch: 5, Batch: 400, Loss: 0.155\n",
      "Epoch: 5, Batch: 600, Loss: 0.142\n",
      "Epoch: 5, Batch: 800, Loss: 0.151\n",
      "训练 .. OK\n",
      "CPU times: user 50.2 s, sys: 1.33 s, total: 51.5 s\n",
      "Wall time: 51.7 s\n"
     ]
    }
   ],
   "source": [
    "%%time\n",
    "# 在训练循环开始前将数据移动到 GPU 上\n",
    "for epoch in range(5):  # 进行5个epoch的训练\n",
    "    running_loss = 0.0\n",
    "    for i, data in enumerate(trainloader, 0):\n",
    "        inputs, labels = data\n",
    "        inputs, labels = inputs.to(device), labels.to(device)  # 将数据移动到 GPU 上\n",
    "\n",
    "        optimizer.zero_grad()\n",
    "\n",
    "        outputs = model(inputs.view(inputs.size(0), -1))\n",
    "        loss = criterion(outputs, labels)\n",
    "        loss.backward()\n",
    "        optimizer.step()\n",
    "\n",
    "        running_loss += loss.item()\n",
    "        if i % 200 == 199:  # 每200个batch打印一次损失值\n",
    "            print(f'Epoch: {epoch + 1}, Batch: {i + 1}, Loss: {running_loss / 200:.3f}')\n",
    "            running_loss = 0.0\n",
    "\n",
    "print('训练 .. OK')"
   ]
  },
  {
   "cell_type": "markdown",
   "id": "07f8c52f-b904-43da-afac-98c431413013",
   "metadata": {},
   "source": [
    "## 基于gpu推理测试"
   ]
  },
  {
   "cell_type": "code",
   "execution_count": 11,
   "id": "72c3c2ee-1e73-4d19-a260-6795a685aece",
   "metadata": {},
   "outputs": [
    {
     "name": "stdout",
     "output_type": "stream",
     "text": [
      "测试模型的准确度: 94.43%\n"
     ]
    }
   ],
   "source": [
    "# 在测试集上进行推理\n",
    "correct = 0\n",
    "total = 0\n",
    "with torch.no_grad():\n",
    "    for data in testloader:\n",
    "        images, labels = data\n",
    "        images, labels = images.to(device), labels.to(device)  # 将数据移动到 GPU 上\n",
    "        outputs = model(images.view(images.size(0), -1))\n",
    "        _, predicted = torch.max(outputs.data, 1)\n",
    "        total += labels.size(0)\n",
    "        correct += (predicted == labels).sum().item()\n",
    "\n",
    "print(f'测试模型的准确度: {(100 * correct / total):.2f}%')"
   ]
  }
 ],
 "metadata": {
  "kernelspec": {
   "display_name": "Python 3 (ipykernel)",
   "language": "python",
   "name": "python3"
  },
  "language_info": {
   "codemirror_mode": {
    "name": "ipython",
    "version": 3
   },
   "file_extension": ".py",
   "mimetype": "text/x-python",
   "name": "python",
   "nbconvert_exporter": "python",
   "pygments_lexer": "ipython3",
   "version": "3.10.12"
  }
 },
 "nbformat": 4,
 "nbformat_minor": 5
}
