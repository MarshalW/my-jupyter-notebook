{
 "cells": [
  {
   "cell_type": "markdown",
   "id": "051a5f79-2c80-40df-8f24-166b2f9e9109",
   "metadata": {
    "editable": true,
    "slideshow": {
     "slide_type": ""
    },
    "tags": []
   },
   "source": [
    "# bge-m3嵌入"
   ]
  },
  {
   "cell_type": "code",
   "execution_count": 1,
   "id": "e5803853-c756-43a7-81fc-e2da93fe62ef",
   "metadata": {
    "editable": true,
    "slideshow": {
     "slide_type": ""
    },
    "tags": []
   },
   "outputs": [
    {
     "name": "stdout",
     "output_type": "stream",
     "text": [
      "CPU times: user 1.4 s, sys: 253 ms, total: 1.65 s\n",
      "Wall time: 3.37 s\n"
     ]
    },
    {
     "data": {
      "text/plain": [
       "1024"
      ]
     },
     "execution_count": 1,
     "metadata": {},
     "output_type": "execute_result"
    }
   ],
   "source": [
    "%%time\n",
    "\n",
    "from llama_index.embeddings.ollama import OllamaEmbedding\n",
    "\n",
    "ollama_embedding = OllamaEmbedding(\n",
    "    model_name=\"bge-m3\",\n",
    "    # model_name=\"bge-m3:latest\",\n",
    "    base_url=\"http://192.168.0.72:11435\",\n",
    "    ollama_additional_kwargs={\"mirostat\": 0}, # -mirostat N 使用 Mirostat 采样。\n",
    ")\n",
    "\n",
    "pass_embedding = ollama_embedding.get_text_embedding_batch(\n",
    "    [\"This is a passage!\", \"This is another passage\"], \n",
    "    # show_progress=True\n",
    ")\n",
    "len(pass_embedding[1])"
   ]
  },
  {
   "cell_type": "code",
   "execution_count": 2,
   "id": "bb3f048c-990c-4646-af21-7991a7dff2ed",
   "metadata": {
    "editable": true,
    "slideshow": {
     "slide_type": ""
    },
    "tags": []
   },
   "outputs": [
    {
     "name": "stdout",
     "output_type": "stream",
     "text": [
      "CPU times: user 32.2 ms, sys: 16.8 ms, total: 49 ms\n",
      "Wall time: 7.45 s\n"
     ]
    }
   ],
   "source": [
    "%%time\n",
    "%%capture\n",
    "\n",
    "!pip install llama-index\n",
    "!pip install llama-index-llms-openai-like\n",
    "!pip install llama-index-llms-ollama\n",
    "!pip install llama-index-vector-stores-faiss"
   ]
  },
  {
   "cell_type": "code",
   "execution_count": 3,
   "id": "78025dc3-92bb-4dd0-a958-7a6bda10a3e3",
   "metadata": {
    "editable": true,
    "slideshow": {
     "slide_type": ""
    },
    "tags": []
   },
   "outputs": [
    {
     "name": "stdout",
     "output_type": "stream",
     "text": [
      "CPU times: user 2.65 ms, sys: 455 µs, total: 3.1 ms\n",
      "Wall time: 2.62 ms\n"
     ]
    }
   ],
   "source": [
    "%%time\n",
    "\n",
    "from llama_index.core import Settings\n",
    "from llama_index.embeddings.ollama import OllamaEmbedding\n",
    "from llama_index.core import (\n",
    "    SimpleDirectoryReader,\n",
    "    load_index_from_storage,\n",
    "    VectorStoreIndex,\n",
    "    StorageContext,\n",
    ")\n",
    "from llama_index.vector_stores.faiss import FaissVectorStore"
   ]
  },
  {
   "cell_type": "code",
   "execution_count": 4,
   "id": "70f72ac4-6b3e-4722-acb1-c1dc391da5cf",
   "metadata": {
    "editable": true,
    "slideshow": {
     "slide_type": ""
    },
    "tags": []
   },
   "outputs": [
    {
     "name": "stdout",
     "output_type": "stream",
     "text": [
      "CPU times: user 275 µs, sys: 0 ns, total: 275 µs\n",
      "Wall time: 278 µs\n"
     ]
    }
   ],
   "source": [
    "%%time\n",
    "\n",
    "import logging\n",
    "import sys\n",
    "\n",
    "logging.basicConfig(stream=sys.stdout, level=logging.INFO)\n",
    "logging.getLogger().addHandler(logging.StreamHandler(stream=sys.stdout))"
   ]
  },
  {
   "cell_type": "code",
   "execution_count": 5,
   "id": "3bbafd77-3d82-4181-b559-1e956469b707",
   "metadata": {
    "editable": true,
    "slideshow": {
     "slide_type": ""
    },
    "tags": []
   },
   "outputs": [
    {
     "name": "stdout",
     "output_type": "stream",
     "text": [
      "CPU times: user 617 ms, sys: 43.8 ms, total: 661 ms\n",
      "Wall time: 661 ms\n"
     ]
    }
   ],
   "source": [
    "%%time\n",
    "\n",
    "Settings.embed_model = ollama_embedding"
   ]
  },
  {
   "cell_type": "code",
   "execution_count": 6,
   "id": "6dea5588-fbcc-429f-b700-d3826dba4a3d",
   "metadata": {
    "editable": true,
    "slideshow": {
     "slide_type": ""
    },
    "tags": []
   },
   "outputs": [
    {
     "name": "stdout",
     "output_type": "stream",
     "text": [
      "CPU times: user 10.1 ms, sys: 0 ns, total: 10.1 ms\n",
      "Wall time: 9.58 ms\n"
     ]
    },
    {
     "data": {
      "text/plain": [
       "[Document(id_='1d0663c0-f2e3-4330-bc42-1088db6a92c8', embedding=None, metadata={'file_path': '/root/notebook/my-jupyter-notebook/llm/bge/books/iphone.txt', 'file_name': 'iphone.txt', 'file_type': 'text/plain', 'file_size': 563, 'creation_date': '2024-05-07', 'last_modified_date': '2024-05-07'}, excluded_embed_metadata_keys=['file_name', 'file_type', 'file_size', 'creation_date', 'last_modified_date', 'last_accessed_date'], excluded_llm_metadata_keys=['file_name', 'file_type', 'file_size', 'creation_date', 'last_modified_date', 'last_accessed_date'], relationships={}, text='iPhone 15和iPhone 15 Plus是由Apple Inc.设计、开发和销售的智能手机。它们是第十七代、也是当前一代iPhone，接替iPhone 14 和 iPhone 14 Plus。这些设备于 2023 年 9 月 12 日在加利福尼亚州库比蒂诺Apple Park举行的Apple 活动期间与价格较高的iPhone 15 Pro 和 15 Pro Max一起发布。预订于 2023 年 9 月 15 日开始，这些设备于 2023 年 9 月 22 日上市。与 iPhone 15 Pro 和 Pro Max 一样，15 和 15 Plus 是第一批用USB-C取代专有Lightning连接器的iPhone遵守欧盟的指令。', start_char_idx=None, end_char_idx=None, text_template='{metadata_str}\\n\\n{content}', metadata_template='{key}: {value}', metadata_seperator='\\n'),\n",
       " Document(id_='04731ff1-830d-4b06-8664-9437adc0f153', embedding=None, metadata={'file_path': '/root/notebook/my-jupyter-notebook/llm/bge/books/tree.txt', 'file_name': 'tree.txt', 'file_type': 'text/plain', 'file_size': 485, 'creation_date': '2024-05-07', 'last_modified_date': '2024-05-07'}, excluded_embed_metadata_keys=['file_name', 'file_type', 'file_size', 'creation_date', 'last_modified_date', 'last_accessed_date'], excluded_llm_metadata_keys=['file_name', 'file_type', 'file_size', 'creation_date', 'last_modified_date', 'last_accessed_date'], relationships={}, text='苹果树（学名：Malus domestica）是蔷薇科苹果亚科苹果属植物，为落叶乔木，在世界上广泛种植。苹果，又称柰或林檎，是苹果树的果实，一般呈红色，但需视品种而定，富含矿物质和维生素，是人们最常食用的水果之一。人们根据需求的不同口感、用途（比如烹饪、生吃、酿苹果酒等）培育不同的品种，已知有超过7,500个苹果品种，拥有一系列人们需要的不同特性。', start_char_idx=None, end_char_idx=None, text_template='{metadata_str}\\n\\n{content}', metadata_template='{key}: {value}', metadata_seperator='\\n'),\n",
       " Document(id_='ea1fa31c-1d81-425f-897d-41acd818c49b', embedding=None, metadata={'file_path': '/root/notebook/my-jupyter-notebook/llm/bge/books/xiaomi.txt', 'file_name': 'xiaomi.txt', 'file_type': 'text/plain', 'file_size': 403, 'creation_date': '2024-05-07', 'last_modified_date': '2024-05-07'}, excluded_embed_metadata_keys=['file_name', 'file_type', 'file_size', 'creation_date', 'last_modified_date', 'last_accessed_date'], excluded_llm_metadata_keys=['file_name', 'file_type', 'file_size', 'creation_date', 'last_modified_date', 'last_accessed_date'], relationships={}, text='小米14是小米公司继小米13系列之后推出的一系列基于Android的智能手机。该系列是该公司的旗舰产品[4]。小米 14 和 14 Pro 是首款搭载高通 Snapdragon 8 Gen 3片上系统的手机，[5]于 2023 年 10 月 26 日发布，并于 2023 年 11 月 1 日在中国发布。小米 14 Ultra 于 2 月 22 日发布，2024 年在中国与小米 Pad 6S Pro 一起推出。[6]', start_char_idx=None, end_char_idx=None, text_template='{metadata_str}\\n\\n{content}', metadata_template='{key}: {value}', metadata_seperator='\\n')]"
      ]
     },
     "execution_count": 6,
     "metadata": {},
     "output_type": "execute_result"
    }
   ],
   "source": [
    "%%time\n",
    "\n",
    "documents = SimpleDirectoryReader(\"./books/\").load_data()\n",
    "documents"
   ]
  },
  {
   "cell_type": "code",
   "execution_count": 7,
   "id": "8d258cee-886e-4c6e-8e90-819f7bc9eef6",
   "metadata": {
    "editable": true,
    "slideshow": {
     "slide_type": ""
    },
    "tags": []
   },
   "outputs": [
    {
     "name": "stdout",
     "output_type": "stream",
     "text": [
      "INFO:faiss.loader:Loading faiss with AVX2 support.\n",
      "Loading faiss with AVX2 support.\n",
      "INFO:faiss.loader:Successfully loaded faiss with AVX2 support.\n",
      "Successfully loaded faiss with AVX2 support.\n",
      "CPU times: user 17.9 ms, sys: 0 ns, total: 17.9 ms\n",
      "Wall time: 17.1 ms\n"
     ]
    }
   ],
   "source": [
    "%%time\n",
    "\n",
    "import faiss\n",
    "\n",
    "# dimensions of bge-m3\n",
    "d = 1024\n",
    "faiss_index = faiss.IndexFlatL2(d)"
   ]
  },
  {
   "cell_type": "markdown",
   "id": "6081ff26-b36e-4359-90ff-7397a4a00194",
   "metadata": {
    "editable": true,
    "slideshow": {
     "slide_type": ""
    },
    "tags": []
   },
   "source": [
    "运行到下面代码，会一直等待，目前看ollama+bge-m3+llamaindex不可行 -- 不知道问题出在哪个部分\n",
    "\n",
    "bge-m3的模型文件不是通过ollama加载的，从其他地方下载的。但是curl是可以运行的。"
   ]
  },
  {
   "cell_type": "code",
   "execution_count": 10,
   "id": "6dcd1636-c98a-4983-82ab-47a14f7da7f5",
   "metadata": {
    "editable": true,
    "slideshow": {
     "slide_type": ""
    },
    "tags": []
   },
   "outputs": [
    {
     "name": "stdout",
     "output_type": "stream",
     "text": [
      "CPU times: user 3.85 ms, sys: 0 ns, total: 3.85 ms\n",
      "Wall time: 33.5 ms\n"
     ]
    }
   ],
   "source": [
    "%%time\n",
    "%%capture\n",
    "%%bash\n",
    "\n",
    "curl -s http://192.168.0.72:11435/api/embeddings \\\n",
    "    -H \"Content-Type: application/json\" \\\n",
    "    -d '{\n",
    "        \"model\": \"bge-m3\",\n",
    "        \"prompt\": \"Llamas are members of the camelid family\"\n",
    "    }'"
   ]
  },
  {
   "cell_type": "code",
   "execution_count": null,
   "id": "6877fa9d-37ef-46b6-8e43-9868708d2bfb",
   "metadata": {
    "editable": true,
    "slideshow": {
     "slide_type": ""
    },
    "tags": []
   },
   "outputs": [],
   "source": [
    "%%time\n",
    "\n",
    "vector_store = FaissVectorStore(faiss_index=faiss_index)\n",
    "storage_context = StorageContext.from_defaults(vector_store=vector_store)\n",
    "index = VectorStoreIndex.from_documents(\n",
    "    documents, storage_context=storage_context\n",
    ")"
   ]
  },
  {
   "cell_type": "code",
   "execution_count": null,
   "id": "9922755f-e177-42c7-a9e6-d5c4fc8eb216",
   "metadata": {
    "editable": true,
    "slideshow": {
     "slide_type": ""
    },
    "tags": []
   },
   "outputs": [],
   "source": []
  }
 ],
 "metadata": {
  "kernelspec": {
   "display_name": "Python 3 (ipykernel)",
   "language": "python",
   "name": "python3"
  },
  "language_info": {
   "codemirror_mode": {
    "name": "ipython",
    "version": 3
   },
   "file_extension": ".py",
   "mimetype": "text/x-python",
   "name": "python",
   "nbconvert_exporter": "python",
   "pygments_lexer": "ipython3",
   "version": "3.10.12"
  }
 },
 "nbformat": 4,
 "nbformat_minor": 5
}
