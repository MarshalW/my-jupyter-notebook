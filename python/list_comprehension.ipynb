{
 "cells": [
  {
   "cell_type": "markdown",
   "id": "d8195abe-bdbd-4452-802f-c57033efa45d",
   "metadata": {},
   "source": [
    "# 列表推导式示例"
   ]
  },
  {
   "cell_type": "code",
   "execution_count": 6,
   "id": "6c503847-03a9-439e-a1a6-f7307de37348",
   "metadata": {},
   "outputs": [
    {
     "data": {
      "text/plain": [
       "[{'username': 'zhangsan'}, {'username': 'wangwu'}]"
      ]
     },
     "execution_count": 6,
     "metadata": {},
     "output_type": "execute_result"
    }
   ],
   "source": [
    "messages=[{\"name\": \"zhangsan\", \"age\": 15}, {\"name\": \"wangwu\", \"age\": 33}]\n",
    "names=[{\"username\": m[\"name\"]} for m in messages]\n",
    "names"
   ]
  },
  {
   "cell_type": "code",
   "execution_count": null,
   "id": "d3cf7f7a-d00c-42f1-9383-1b749b276c34",
   "metadata": {},
   "outputs": [],
   "source": []
  }
 ],
 "metadata": {
  "kernelspec": {
   "display_name": "Python 3 (ipykernel)",
   "language": "python",
   "name": "python3"
  },
  "language_info": {
   "codemirror_mode": {
    "name": "ipython",
    "version": 3
   },
   "file_extension": ".py",
   "mimetype": "text/x-python",
   "name": "python",
   "nbconvert_exporter": "python",
   "pygments_lexer": "ipython3",
   "version": "3.10.12"
  }
 },
 "nbformat": 4,
 "nbformat_minor": 5
}
