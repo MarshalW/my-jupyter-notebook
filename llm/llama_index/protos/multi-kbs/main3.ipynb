{
 "cells": [
  {
   "cell_type": "markdown",
   "id": "cbe0f75b-fe18-48d2-932a-32fa7859c73f",
   "metadata": {},
   "source": [
    "# 路由查询引擎"
   ]
  },
  {
   "cell_type": "markdown",
   "id": "8216f73f-520c-4580-a158-33d7f7ce446c",
   "metadata": {},
   "source": [
    "多选效果不明显，而且可能会很慢。"
   ]
  },
  {
   "cell_type": "markdown",
   "id": "024cc342-b77d-4ce5-a75e-c3370f4b9ee3",
   "metadata": {},
   "source": [
    "## 全局设置"
   ]
  },
  {
   "cell_type": "code",
   "execution_count": 1,
   "id": "0585d198-16e7-4cbc-97cc-9868b8fda23c",
   "metadata": {},
   "outputs": [
    {
     "name": "stdout",
     "output_type": "stream",
     "text": [
      "CPU times: user 3.41 s, sys: 404 ms, total: 3.82 s\n",
      "Wall time: 3.46 s\n"
     ]
    }
   ],
   "source": [
    "%%time\n",
    "\n",
    "from llama_index.core import Settings\n",
    "from llama_index.llms.openai_like import OpenAILike\n",
    "from llama_index.embeddings.ollama import OllamaEmbedding\n",
    "\n",
    "Settings.llm=OpenAILike(\n",
    "    model=\"qwen2\", \n",
    "    api_base=\"http://ape:3000/v1\", \n",
    "    api_key=\"sk-bJP6QSnUfjAYeYeE505d3eBf63A643BeB0B8E350Df9b7750\",\n",
    "    is_chat_model=True,\n",
    "    temperature=0.1,\n",
    "    request_timeout=60.0\n",
    ")\n",
    "\n",
    "Settings.embed_model = OllamaEmbedding(\n",
    "    model_name=\"quentinz/bge-large-zh-v1.5\",\n",
    "    base_url=\"http://ape:11434\",\n",
    "    ollama_additional_kwargs={\"mirostat\": 0}, # -mirostat N 使用 Mirostat 采样。\n",
    ")\n",
    "\n",
    "Settings.chunk_size = 128\n",
    "Settings.chunk_overlap = 10"
   ]
  },
  {
   "cell_type": "code",
   "execution_count": 18,
   "id": "6c952500-5b11-4aa7-8179-e9fcf30518e4",
   "metadata": {},
   "outputs": [],
   "source": [
    "import nest_asyncio\n",
    "\n",
    "nest_asyncio.apply()"
   ]
  },
  {
   "cell_type": "markdown",
   "id": "c82532c7-94c4-41dc-aa82-bd8358ecf5d7",
   "metadata": {},
   "source": [
    "## 加载数据"
   ]
  },
  {
   "cell_type": "code",
   "execution_count": 2,
   "id": "8e5052c1-eabf-4017-b83e-3b0a93d60a92",
   "metadata": {},
   "outputs": [
    {
     "name": "stdout",
     "output_type": "stream",
     "text": [
      "CPU times: user 751 ms, sys: 3.79 ms, total: 755 ms\n",
      "Wall time: 994 ms\n"
     ]
    },
    {
     "data": {
      "text/plain": [
       "3"
      ]
     },
     "execution_count": 2,
     "metadata": {},
     "output_type": "execute_result"
    }
   ],
   "source": [
    "%%time\n",
    "\n",
    "items=[\n",
    "    \"颐和园\",\n",
    "    \"北海公园\",\n",
    "    \"故宫\",\n",
    "]\n",
    "\n",
    "from llama_index.readers.web import TrafilaturaWebReader\n",
    "\n",
    "documents = TrafilaturaWebReader().load_data(\n",
    "    [ f\"https://baike.baidu.com/item/{item}\" for item in items]\n",
    ")\n",
    "\n",
    "len(documents)"
   ]
  },
  {
   "cell_type": "code",
   "execution_count": 3,
   "id": "6dc09367-e143-4112-aed7-d67aa13a85fa",
   "metadata": {},
   "outputs": [
    {
     "name": "stdout",
     "output_type": "stream",
     "text": [
      "CPU times: user 83.8 ms, sys: 0 ns, total: 83.8 ms\n",
      "Wall time: 83 ms\n"
     ]
    }
   ],
   "source": [
    "%%time\n",
    "\n",
    "nodes = Settings.node_parser.get_nodes_from_documents(documents)"
   ]
  },
  {
   "cell_type": "markdown",
   "id": "252d5db5-56cb-4707-acba-bae6f7b20c63",
   "metadata": {},
   "source": [
    "## 在相同数据上建立摘要索引和向量索引"
   ]
  },
  {
   "cell_type": "code",
   "execution_count": 4,
   "id": "cf052b62-3a9a-4523-b45f-2847a24febc6",
   "metadata": {},
   "outputs": [
    {
     "name": "stdout",
     "output_type": "stream",
     "text": [
      "CPU times: user 2.5 s, sys: 119 ms, total: 2.61 s\n",
      "Wall time: 54.7 s\n"
     ]
    }
   ],
   "source": [
    "%%time\n",
    "\n",
    "\n",
    "from llama_index.core import SummaryIndex\n",
    "from llama_index.core import VectorStoreIndex\n",
    "\n",
    "summary_index = SummaryIndex(nodes)\n",
    "vector_index = VectorStoreIndex(nodes)"
   ]
  },
  {
   "cell_type": "markdown",
   "id": "6fa7d304-499d-4964-8d70-9170a92b7e46",
   "metadata": {},
   "source": [
    "## 定义查询引擎和元数据"
   ]
  },
  {
   "cell_type": "code",
   "execution_count": 5,
   "id": "dc10b9b2-e7ba-44b7-a3e0-aedc1f55d00d",
   "metadata": {},
   "outputs": [
    {
     "name": "stdout",
     "output_type": "stream",
     "text": [
      "CPU times: user 30.8 ms, sys: 3.95 ms, total: 34.8 ms\n",
      "Wall time: 34.2 ms\n"
     ]
    }
   ],
   "source": [
    "%%time\n",
    "\n",
    "\n",
    "list_query_engine = summary_index.as_query_engine(\n",
    "    response_mode=\"tree_summarize\",\n",
    "    use_async=True,\n",
    ")\n",
    "vector_query_engine = vector_index.as_query_engine()"
   ]
  },
  {
   "cell_type": "code",
   "execution_count": 6,
   "id": "7f124714-82a1-4e0a-b26e-f1ccc7483b7a",
   "metadata": {},
   "outputs": [
    {
     "name": "stdout",
     "output_type": "stream",
     "text": [
      "CPU times: user 14 µs, sys: 1 µs, total: 15 µs\n",
      "Wall time: 16.7 µs\n"
     ]
    }
   ],
   "source": [
    "%%time\n",
    "\n",
    "from llama_index.core.tools import QueryEngineTool\n",
    "\n",
    "\n",
    "list_tool = QueryEngineTool.from_defaults(\n",
    "    query_engine=list_query_engine,\n",
    "    description=(\n",
    "        \"对景点问题的总结问题很有用。\"\n",
    "    ),\n",
    ")\n",
    "\n",
    "vector_tool = QueryEngineTool.from_defaults(\n",
    "    query_engine=vector_query_engine,\n",
    "    description=(\n",
    "        \"适用于景点相关的具体问题。\"\n",
    "    ),\n",
    ")"
   ]
  },
  {
   "cell_type": "markdown",
   "id": "3f444cfa-a213-47e5-8ce4-18fd36190ab0",
   "metadata": {},
   "source": [
    "### 单选"
   ]
  },
  {
   "cell_type": "code",
   "execution_count": 7,
   "id": "28e4ce68-a778-4e72-837f-7251197a598c",
   "metadata": {},
   "outputs": [
    {
     "name": "stdout",
     "output_type": "stream",
     "text": [
      "CPU times: user 190 µs, sys: 0 ns, total: 190 µs\n",
      "Wall time: 192 µs\n"
     ]
    }
   ],
   "source": [
    "%%time\n",
    "\n",
    "from llama_index.core.query_engine import RouterQueryEngine\n",
    "from llama_index.core.selectors import LLMSingleSelector\n",
    "\n",
    "query_engine = RouterQueryEngine(\n",
    "    selector=LLMSingleSelector.from_defaults(),\n",
    "    query_engine_tools=[\n",
    "        list_tool,\n",
    "        vector_tool,\n",
    "    ],\n",
    ")"
   ]
  },
  {
   "cell_type": "code",
   "execution_count": 8,
   "id": "202efa63-e3d2-4009-be66-2961d18cdab8",
   "metadata": {},
   "outputs": [
    {
     "name": "stdout",
     "output_type": "stream",
     "text": [
      "颐和园是中国清朝时期的皇家园林，位于北京市西郊海淀区新建宫门路19号。它最初名为清漪园，始建于乾隆十五年（1750年），但在咸丰十年（1860年）被英法联军烧毁。\n",
      "\n",
      "颐和园以其利用昆明湖、万寿山为基址的独特布局而闻名，其设计灵感来源于杭州西湖的风景，并融合了江南园林的设计手法和意境。它被誉为“皇家园林博物馆”，是保存最完好的一座皇家行宫御苑。整个园区占地3.0平方公里，展现了中国古典园林艺术的魅力。\n",
      "CPU times: user 86.9 ms, sys: 0 ns, total: 86.9 ms\n",
      "Wall time: 5.36 s\n"
     ]
    }
   ],
   "source": [
    "%%time\n",
    "\n",
    "response = query_engine.query(\"介绍下颐和园\")\n",
    "print(str(response))"
   ]
  },
  {
   "cell_type": "code",
   "execution_count": 9,
   "id": "416bd406-7e7f-46ad-9407-282db7325f86",
   "metadata": {},
   "outputs": [
    {
     "name": "stdout",
     "output_type": "stream",
     "text": [
      "CPU times: user 34.3 ms, sys: 0 ns, total: 34.3 ms\n",
      "Wall time: 1.48 s\n"
     ]
    },
    {
     "data": {
      "text/plain": [
       "'颐和园的门票价格在旺季为30元/张，在淡季为20元/张。'"
      ]
     },
     "execution_count": 9,
     "metadata": {},
     "output_type": "execute_result"
    }
   ],
   "source": [
    "%%time\n",
    "\n",
    "response = query_engine.query(\"颐和园的门票价格？\")\n",
    "response.response"
   ]
  },
  {
   "cell_type": "code",
   "execution_count": 10,
   "id": "e71d7b6a-3aa0-4c80-a16f-19339cb1091b",
   "metadata": {},
   "outputs": [
    {
     "name": "stdout",
     "output_type": "stream",
     "text": [
      "CPU times: user 33.9 ms, sys: 0 ns, total: 33.9 ms\n",
      "Wall time: 5.24 s\n"
     ]
    },
    {
     "data": {
      "text/plain": [
       "'颐和园是中国著名的皇家园林之一，位于北京市。它拥有丰富的历史背景和美丽的自然景观，是游客游览北京的热门景点。\\n\\n在不同的季节，颐和园有不同的门票价格：\\n- 在旺季（通常指春季、夏季和秋季），单人门票的价格为30元人民币。\\n- 在淡季（一般指冬季），单人门票的价格为20元人民币。\\n\\n此外，颐和园还提供联票，包含入园费用以及访问部分特色景点的权限。联票价格如下：\\n- 在旺季，联票的价格为60元人民币。\\n- 在淡季，联票的价格为50元人民币。\\n\\n这些特色景点包括德和园、颐和园博物馆、佛香阁和苏州街。其中，单独参观德和园需要支付5元人民币，访问颐和园博物馆需20元人民币，佛香阁的门票是10元人民币，而苏州街则为10元人民币。\\n\\n通过购买联票，游客可以更方便地游览这些景点，享受更多优惠。'"
      ]
     },
     "execution_count": 10,
     "metadata": {},
     "output_type": "execute_result"
    }
   ],
   "source": [
    "%%time\n",
    "\n",
    "response = query_engine.query(\"介绍下颐和园，以及门票价格\")\n",
    "response.response"
   ]
  },
  {
   "cell_type": "markdown",
   "id": "2a02db18-45e4-44e6-b279-5c601bca930d",
   "metadata": {},
   "source": [
    "### 多选"
   ]
  },
  {
   "cell_type": "code",
   "execution_count": 16,
   "id": "146b29da-731c-4443-9583-13fe6f4c7b82",
   "metadata": {},
   "outputs": [
    {
     "name": "stdout",
     "output_type": "stream",
     "text": [
      "CPU times: user 222 µs, sys: 17 µs, total: 239 µs\n",
      "Wall time: 244 µs\n"
     ]
    }
   ],
   "source": [
    "%%time\n",
    "\n",
    "from llama_index.core.selectors import LLMMultiSelector\n",
    "\n",
    "query_engine = RouterQueryEngine(\n",
    "    selector=LLMMultiSelector.from_defaults(),\n",
    "    query_engine_tools=[\n",
    "        list_tool,\n",
    "        vector_tool,\n",
    "    ],\n",
    ")"
   ]
  },
  {
   "cell_type": "code",
   "execution_count": 19,
   "id": "4ea788ac-d7a6-4752-b5f0-bc5e071db78e",
   "metadata": {},
   "outputs": [
    {
     "name": "stdout",
     "output_type": "stream",
     "text": [
      "CPU times: user 490 ms, sys: 10.7 ms, total: 500 ms\n",
      "Wall time: 2min 6s\n"
     ]
    },
    {
     "data": {
      "text/plain": [
       "'颐和园位于中国北京市西郊，是清朝时期的大型皇家园林。它以昆明湖与万寿山为基础，融合了中国古代园林艺术的精髓，并在乾隆年间进行了大规模扩建与改造，最终形成了一座集自然景观与人工建筑于一体的宏伟园区。\\n\\n### 历史沿革\\n颐和园最初名为“清漪园”，始建于1750年左右，作为皇帝休闲娱乐的场所。然而，在第二次鸦片战争中，它遭到英法联军破坏。战后，清朝政府决定重建，并改名“颐和园”。在光绪时期进行了大规模扩建，并增加了许多新的建筑。\\n\\n### 主要景点\\n- **苏州街**：原称万寿买卖街，位于昆明湖西侧，是乾隆皇帝命人仿照江南水乡建造的商业街。\\n  \\n- **长廊**：全长约728米，是中国最长的画廊之一。沿湖而建，两侧绘有多幅山水人物、花鸟鱼虫等题材的彩画。\\n\\n- **佛香阁**：位于万寿山顶部，高约41米，八角形三层楼阁，内部供奉着佛像，是颐和园的标志性建筑。\\n\\n### 文化价值\\n颐和园不仅展现了中国古典园林艺术的精湛技艺，还融合了佛教、道教以及民间艺术元素。它是中国传统文化与自然景观完美结合的典范，体现了五个多世纪以来中国最高权力中心的文化象征。作为世界文化遗产之一，颐和园不仅是历史的见证，也是现代人了解中国古代文化和建筑艺术的重要窗口。\\n\\n颐和园占地3.0平方公里，不仅拥有宏伟的建筑群，还保留了大量的历史遗迹，是中国传统文化的重要象征。'"
      ]
     },
     "execution_count": 19,
     "metadata": {},
     "output_type": "execute_result"
    }
   ],
   "source": [
    "%%time\n",
    "\n",
    "response = query_engine.query(\"介绍下颐和园\")\n",
    "response.response"
   ]
  },
  {
   "cell_type": "code",
   "execution_count": 20,
   "id": "7f95e013-4b88-48a9-b717-fb24bd37a99d",
   "metadata": {},
   "outputs": [
    {
     "name": "stdout",
     "output_type": "stream",
     "text": [
      "CPU times: user 34.6 ms, sys: 0 ns, total: 34.6 ms\n",
      "Wall time: 1.65 s\n"
     ]
    },
    {
     "data": {
      "text/plain": [
       "'颐和园的门票价格在旺季为30元/张，在淡季为20元/张。'"
      ]
     },
     "execution_count": 20,
     "metadata": {},
     "output_type": "execute_result"
    }
   ],
   "source": [
    "%%time\n",
    "\n",
    "response = query_engine.query(\"颐和园的门票价格？\")\n",
    "response.response"
   ]
  },
  {
   "cell_type": "code",
   "execution_count": 21,
   "id": "41fbd721-a28a-4ae0-b56b-d4f551a3672d",
   "metadata": {},
   "outputs": [
    {
     "name": "stdout",
     "output_type": "stream",
     "text": [
      "CPU times: user 30.8 ms, sys: 4.27 ms, total: 35.1 ms\n",
      "Wall time: 4.66 s\n"
     ]
    },
    {
     "data": {
      "text/plain": [
       "'颐和园是中国著名的皇家园林之一，位于北京。它分为两部分：主要区域和\"园中园\"。主要区域的门票在旺季时为30元/张，在淡季时为20元/张。如果购买联票，则价格在旺季为60元/张，在淡季为50元/张，联票包含了门票以及园中园的访问权限。\\n\\n\"园中园\"包括德和园、颐和园博物馆、佛香阁和苏州街。其中，德和园的门票是5元/张；颐和园博物馆的票价为20元/张；佛香阁的票价为10元/张；苏州街的票价也是10元/张。\\n\\n联票包含了上述所有景点的访问权限。'"
      ]
     },
     "execution_count": 21,
     "metadata": {},
     "output_type": "execute_result"
    }
   ],
   "source": [
    "%%time\n",
    "\n",
    "response = query_engine.query(\"介绍下颐和园，以及门票价格\")\n",
    "response.response"
   ]
  },
  {
   "cell_type": "code",
   "execution_count": null,
   "id": "74ecfe25-011d-4a92-8272-c9647fca17b3",
   "metadata": {},
   "outputs": [],
   "source": []
  }
 ],
 "metadata": {
  "kernelspec": {
   "display_name": "Python 3 (ipykernel)",
   "language": "python",
   "name": "python3"
  },
  "language_info": {
   "codemirror_mode": {
    "name": "ipython",
    "version": 3
   },
   "file_extension": ".py",
   "mimetype": "text/x-python",
   "name": "python",
   "nbconvert_exporter": "python",
   "pygments_lexer": "ipython3",
   "version": "3.10.12"
  }
 },
 "nbformat": 4,
 "nbformat_minor": 5
}
