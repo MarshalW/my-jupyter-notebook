{
 "cells": [
  {
   "cell_type": "markdown",
   "id": "1f351acf-1061-470d-b278-22c2ad0705dd",
   "metadata": {},
   "source": [
    "# 多个function call并列情况下是否能正常工作 - 改进版本"
   ]
  },
  {
   "cell_type": "markdown",
   "id": "ac633b6f-70fb-4874-8114-99cb1e24d1a2",
   "metadata": {},
   "source": [
    "改进方面：\n",
    "\n",
    "- 使用了utils2.py - 便于定义不同的模型\n",
    "\n",
    "初步结论：\n",
    "\n",
    "- function call并列是可行的，主要是需要编写好“互斥”的提示词"
   ]
  },
  {
   "cell_type": "markdown",
   "id": "579d35bb-9f6d-4c72-bd02-3d99549c50e1",
   "metadata": {},
   "source": [
    "## 准备"
   ]
  },
  {
   "cell_type": "code",
   "execution_count": 1,
   "id": "efdd778e-474f-4993-a606-13d5381ecff9",
   "metadata": {},
   "outputs": [
    {
     "name": "stdout",
     "output_type": "stream",
     "text": [
      "CPU times: user 2.68 s, sys: 415 ms, total: 3.09 s\n",
      "Wall time: 2.73 s\n"
     ]
    }
   ],
   "source": [
    "%%time\n",
    "\n",
    "# 加载llm和embeddings\n",
    "%run ../utils2.py"
   ]
  },
  {
   "cell_type": "code",
   "execution_count": 2,
   "id": "a4b91323-a360-43e8-9a48-0804e1a1e03f",
   "metadata": {},
   "outputs": [
    {
     "name": "stdout",
     "output_type": "stream",
     "text": [
      "CPU times: user 670 ms, sys: 19.8 ms, total: 690 ms\n",
      "Wall time: 689 ms\n"
     ]
    }
   ],
   "source": [
    "%%time\n",
    "\n",
    "from llama_index.core import Settings\n",
    "\n",
    "Settings.llm=get_llm()\n",
    "Settings.embed_model=get_llm()"
   ]
  },
  {
   "cell_type": "code",
   "execution_count": 9,
   "id": "8b0ba0a9-8fd0-40ad-92f7-573bbfff0b03",
   "metadata": {},
   "outputs": [
    {
     "name": "stdout",
     "output_type": "stream",
     "text": [
      "CPU times: user 635 µs, sys: 0 ns, total: 635 µs\n",
      "Wall time: 639 µs\n"
     ]
    }
   ],
   "source": [
    "%%time\n",
    "\n",
    "from llama_index.core.tools import FunctionTool\n",
    "\n",
    "def get_news(url: str) -> str:\n",
    "    \"\"\"根据url获取新闻内容, 提示词中应提供url\"\"\"\n",
    "    return f\"新闻内容来源于{url}\"\n",
    "\n",
    "get_news_tool = FunctionTool.from_defaults(\n",
    "            fn=get_news)\n",
    "\n",
    "def query(query: str) ->str:\n",
    "    \"\"\"根据提示词查询信息，提示词不应存在url\"\"\"\n",
    "\n",
    "    content='查询到的信息: 1. xxx, 2. xxx ...'\n",
    "    return f\"根据{query}查询到信息\\n\\n{content}\"\n",
    "\n",
    "query_tool = FunctionTool.from_defaults(\n",
    "            fn=query)"
   ]
  },
  {
   "cell_type": "code",
   "execution_count": 10,
   "id": "f72e4a38-e2b7-4739-8885-9cbfb519c85b",
   "metadata": {},
   "outputs": [
    {
     "name": "stdout",
     "output_type": "stream",
     "text": [
      "CPU times: user 167 µs, sys: 27 µs, total: 194 µs\n",
      "Wall time: 195 µs\n"
     ]
    }
   ],
   "source": [
    "%%time\n",
    "\n",
    "from llama_index.core.agent import ReActAgent\n",
    "\n",
    "agent = ReActAgent.from_tools(\n",
    "            [get_news_tool,query_tool], verbose=True)"
   ]
  },
  {
   "cell_type": "markdown",
   "id": "9516e1c4-ab32-4483-bd9b-920109bbb01f",
   "metadata": {},
   "source": [
    "## 使用"
   ]
  },
  {
   "cell_type": "markdown",
   "id": "ad651091-fa46-423b-868f-7fc29ef6a7fe",
   "metadata": {},
   "source": [
    "### 输入url的情况"
   ]
  },
  {
   "cell_type": "code",
   "execution_count": 16,
   "id": "39f9b86e-4c5b-460b-8457-b7be3f5f2e2b",
   "metadata": {},
   "outputs": [
    {
     "name": "stdout",
     "output_type": "stream",
     "text": [
      "\u001b[1;3;38;5;200mThought: The user has provided a URL to a news article. I need to use the 'get_news' tool to extract the content of this article.\n",
      "Action: get_news\n",
      "Action Input: {'url': 'https://www.guancha.cn/internation/2024_06_19_738488.shtml'}\n",
      "\u001b[0m\u001b[1;3;34mObservation: 新闻内容来源于https://www.guancha.cn/internation/2024_06_19_738488.shtml\n",
      "\u001b[0m 您提供的链接指向的新闻文章标题和内容是什么？请提供详细信息，以便我可以帮助您解答相关问题。CPU times: user 502 ms, sys: 105 ms, total: 607 ms\n",
      "Wall time: 3.16 s\n"
     ]
    }
   ],
   "source": [
    "%%time\n",
    "\n",
    "response = agent.stream_chat(\"https://www.guancha.cn/internation/2024_06_19_738488.shtml\",chat_history=[])\n",
    "response.print_response_stream()"
   ]
  },
  {
   "cell_type": "markdown",
   "id": "d543cadc-2c67-41c3-bf24-60d613c4211d",
   "metadata": {},
   "source": [
    "### 输入文字问题的情况"
   ]
  },
  {
   "cell_type": "code",
   "execution_count": 17,
   "id": "796465c9-676a-47ec-8e41-7e713c8d8b92",
   "metadata": {},
   "outputs": [
    {
     "name": "stdout",
     "output_type": "stream",
     "text": [
      "\u001b[1;3;38;5;200mThought: 用户询问关于波音公司的危机原因，我需要查询相关信息来回答这个问题。\n",
      "Action: query\n",
      "Action Input: {'query': '波音公司为何陷入危机'}\n",
      "\u001b[0m\u001b[1;3;34mObservation: 根据波音公司为何陷入危机查询到信息\n",
      "\n",
      "查询到的信息: 1. xxx, 2. xxx ...\n",
      "\u001b[0m 波音公司深陷危机的原因包括：1.xxx，2.xxx。具体来说，原因可能涉及产品质量、安全问题、财务状况或市场竞争力等。CPU times: user 631 ms, sys: 121 ms, total: 751 ms\n",
      "Wall time: 2.28 s\n"
     ]
    }
   ],
   "source": [
    "%%time\n",
    "\n",
    "response = agent.stream_chat(\"波音公司为啥深陷危机？\",chat_history=[])\n",
    "response.print_response_stream()"
   ]
  },
  {
   "cell_type": "code",
   "execution_count": null,
   "id": "9021e70b-6f7b-467a-8013-6491b16574bb",
   "metadata": {},
   "outputs": [],
   "source": []
  }
 ],
 "metadata": {
  "kernelspec": {
   "display_name": "Python 3 (ipykernel)",
   "language": "python",
   "name": "python3"
  },
  "language_info": {
   "codemirror_mode": {
    "name": "ipython",
    "version": 3
   },
   "file_extension": ".py",
   "mimetype": "text/x-python",
   "name": "python",
   "nbconvert_exporter": "python",
   "pygments_lexer": "ipython3",
   "version": "3.10.12"
  }
 },
 "nbformat": 4,
 "nbformat_minor": 5
}
