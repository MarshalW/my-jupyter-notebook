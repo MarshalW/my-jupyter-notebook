{
 "cells": [
  {
   "cell_type": "markdown",
   "id": "bd71e3a1-cc30-49c4-ac0a-8e426b93e65b",
   "metadata": {},
   "source": [
    "# 通过dns和whois查看邮箱信息"
   ]
  },
  {
   "cell_type": "code",
   "execution_count": 1,
   "id": "79169f81-6465-4eae-9103-f841e9c2d4a7",
   "metadata": {},
   "outputs": [
    {
     "name": "stdout",
     "output_type": "stream",
     "text": [
      "CPU times: user 8.73 ms, sys: 4.48 ms, total: 13.2 ms\n",
      "Wall time: 3.62 s\n"
     ]
    }
   ],
   "source": [
    "%%time\n",
    "%%capture\n",
    "\n",
    "!pip install python-whois"
   ]
  },
  {
   "cell_type": "code",
   "execution_count": 6,
   "id": "b0c47bf1-76d8-437b-9977-09b745727f9b",
   "metadata": {},
   "outputs": [
    {
     "name": "stdout",
     "output_type": "stream",
     "text": [
      "['abusecomplaints@markmonitor.com', 'whoisrequest@markmonitor.com']\n",
      "CPU times: user 7.12 ms, sys: 0 ns, total: 7.12 ms\n",
      "Wall time: 1.42 s\n"
     ]
    }
   ],
   "source": [
    "%%time\n",
    "\n",
    "import whois\n",
    "\n",
    "def get_domain_email(domain):\n",
    "    try:\n",
    "        # 查询域名的 WHOIS 信息\n",
    "        domain_info = whois.whois(domain)\n",
    "        \n",
    "        # 获取注册人的电子邮件地址\n",
    "        email = domain_info.get('emails')\n",
    "        \n",
    "        if email:\n",
    "            return email\n",
    "        else:\n",
    "            return \"No email found for this domain.\"\n",
    "    except Exception as e:\n",
    "        return f\"An error occurred: {e}\"\n",
    "\n",
    "# 测试函数\n",
    "domain = \"qq.com\"\n",
    "print(get_domain_email(domain))\n"
   ]
  },
  {
   "cell_type": "code",
   "execution_count": 7,
   "id": "ae5f481c-b55c-4dc0-b8d4-5db07dd3e10a",
   "metadata": {},
   "outputs": [
    {
     "name": "stdout",
     "output_type": "stream",
     "text": [
      "CPU times: user 6.39 ms, sys: 3.22 ms, total: 9.61 ms\n",
      "Wall time: 3.17 s\n"
     ]
    }
   ],
   "source": [
    "%%time\n",
    "%%capture\n",
    "\n",
    "!pip install dnspython"
   ]
  },
  {
   "cell_type": "code",
   "execution_count": 9,
   "id": "bf9c8355-b7fc-49e3-83f0-04691b64dcaa",
   "metadata": {},
   "outputs": [
    {
     "name": "stdout",
     "output_type": "stream",
     "text": [
      "['mxn.mxhichina.com.', 'mxw.mxhichina.com.']\n",
      "MX Records: ['mxn.mxhichina.com.', 'mxw.mxhichina.com.']\n",
      "Email Provider: Unknown email provider\n"
     ]
    }
   ],
   "source": [
    "import dns.resolver\n",
    "\n",
    "def get_mx_records(domain):\n",
    "    try:\n",
    "        # 查询 MX 记录\n",
    "        answers = dns.resolver.resolve(domain, 'MX')\n",
    "        \n",
    "        # 提取并返回 MX 记录\n",
    "        mx_records = [r.exchange.to_text() for r in answers]\n",
    "        return mx_records\n",
    "    except Exception as e:\n",
    "        return f\"An error occurred: {e}\"\n",
    "\n",
    "def identify_email_provider(mx_records):\n",
    "    providers = {\n",
    "        \"google.com\": \"Google Workspace\",\n",
    "        \"outlook.com\": \"Microsoft 365\",\n",
    "        \"qq.com\": \"QQ Mail\",\n",
    "        \"aliyun.com\": \"Alibaba Cloud Mail\",\n",
    "        # 你可以添加更多常见的邮件提供商\n",
    "    }\n",
    "    \n",
    "    for record in mx_records:\n",
    "        for domain, provider in providers.items():\n",
    "            if domain in record:\n",
    "                return provider\n",
    "    return \"Unknown email provider\"\n",
    "\n",
    "# 测试函数\n",
    "domain = \"feawin.com\"\n",
    "mx_records = get_mx_records(domain)\n",
    "print(mx_records)\n",
    "\n",
    "if isinstance(mx_records, list):\n",
    "    email_provider = identify_email_provider(mx_records)\n",
    "    print(f\"MX Records: {mx_records}\")\n",
    "    print(f\"Email Provider: {email_provider}\")\n",
    "else:\n",
    "    print(mx_records)\n"
   ]
  },
  {
   "cell_type": "code",
   "execution_count": 12,
   "id": "20b5c037-48b4-4145-929d-c841232ac7f4",
   "metadata": {},
   "outputs": [
    {
     "data": {
      "text/plain": [
       "['mxw.mxhichina.com.', 'mxn.mxhichina.com.']"
      ]
     },
     "execution_count": 12,
     "metadata": {},
     "output_type": "execute_result"
    }
   ],
   "source": [
    "answers = dns.resolver.resolve('feawin.com', 'MX')\n",
    "mx_records = [r.exchange.to_text() for r in answers]\n",
    "mx_records"
   ]
  },
  {
   "cell_type": "code",
   "execution_count": 14,
   "id": "d61e531c-52d1-455e-a078-fa154aee202f",
   "metadata": {},
   "outputs": [
    {
     "data": {
      "text/plain": [
       "['mail.gmw.cn.']"
      ]
     },
     "execution_count": 14,
     "metadata": {},
     "output_type": "execute_result"
    }
   ],
   "source": [
    "answers = dns.resolver.resolve('gmw.cn', 'MX')\n",
    "mx_records = [r.exchange.to_text() for r in answers]\n",
    "mx_records"
   ]
  },
  {
   "cell_type": "code",
   "execution_count": null,
   "id": "54e38c13-9b31-4d56-8726-e179c654e980",
   "metadata": {},
   "outputs": [],
   "source": []
  }
 ],
 "metadata": {
  "kernelspec": {
   "display_name": "Python 3 (ipykernel)",
   "language": "python",
   "name": "python3"
  },
  "language_info": {
   "codemirror_mode": {
    "name": "ipython",
    "version": 3
   },
   "file_extension": ".py",
   "mimetype": "text/x-python",
   "name": "python",
   "nbconvert_exporter": "python",
   "pygments_lexer": "ipython3",
   "version": "3.10.12"
  }
 },
 "nbformat": 4,
 "nbformat_minor": 5
}
