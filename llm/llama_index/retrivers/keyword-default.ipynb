{
 "cells": [
  {
   "cell_type": "markdown",
   "id": "52e201d4-0faf-4a9c-8850-819dc0fddb9c",
   "metadata": {},
   "source": [
    "# 使用 keyword index default 方式"
   ]
  },
  {
   "cell_type": "markdown",
   "id": "430c6d13-4eeb-4d8d-bda3-9a51febc69d9",
   "metadata": {},
   "source": [
    "使用 obsidian 作为数据源。\n",
    "\n",
    "评估 keyword table index `default` 方式，是否可以作为 embedding 方式的补充。\n",
    "\n",
    "初步结论：\n",
    "\n",
    "- 创建索引很慢，2个笔记耗时 `19.5 s`, 约为嵌入索引的5倍\n",
    "- 查询效果没问题，耗时比嵌入检索的查询快"
   ]
  },
  {
   "cell_type": "markdown",
   "id": "935bd14f-e72b-41e1-9491-340835cc6f62",
   "metadata": {},
   "source": [
    "## 全局设置"
   ]
  },
  {
   "cell_type": "code",
   "execution_count": 1,
   "id": "32fa8959-d20c-400a-85d8-dd6e49497d58",
   "metadata": {},
   "outputs": [
    {
     "name": "stdout",
     "output_type": "stream",
     "text": [
      "CPU times: user 2.17 s, sys: 240 ms, total: 2.41 s\n",
      "Wall time: 2.03 s\n"
     ]
    }
   ],
   "source": [
    "%%time\n",
    "\n",
    "from llama_index.core import Settings\n",
    "from llama_index.llms.ollama import Ollama\n",
    "from llama_index.embeddings.ollama import OllamaEmbedding\n",
    "\n",
    "Settings.llm=Ollama(\n",
    "    base_url=\"http://ape:11434\",\n",
    "    model=\"qwen2\",\n",
    "    is_chat_model=True,\n",
    "    temperature=0.1,\n",
    "    request_timeout=60.0\n",
    ")\n",
    "\n",
    "Settings.embed_model = OllamaEmbedding(\n",
    "    model_name=\"quentinz/bge-large-zh-v1.5\",\n",
    "    base_url=\"http://ape:11434\",\n",
    "    ollama_additional_kwargs={\"mirostat\": 0}, # -mirostat N 使用 Mirostat 采样。\n",
    ")"
   ]
  },
  {
   "cell_type": "markdown",
   "id": "3b52ef6e-5641-4f06-9bbf-4e763406a26f",
   "metadata": {},
   "source": [
    "## 加载文档"
   ]
  },
  {
   "cell_type": "code",
   "execution_count": 3,
   "id": "6f354d6d-7c48-4d9f-9717-426d26a246d1",
   "metadata": {},
   "outputs": [
    {
     "name": "stdout",
     "output_type": "stream",
     "text": [
      "CPU times: user 2.22 ms, sys: 0 ns, total: 2.22 ms\n",
      "Wall time: 2.21 ms\n"
     ]
    },
    {
     "data": {
      "text/plain": [
       "21"
      ]
     },
     "execution_count": 3,
     "metadata": {},
     "output_type": "execute_result"
    }
   ],
   "source": [
    "%%time\n",
    "\n",
    "from llama_index.readers.obsidian import ObsidianReader\n",
    "\n",
    "\n",
    "documents = ObsidianReader(\n",
    "    \"/models/obsidian/kb/知识库\"\n",
    ").load_data() \n",
    "\n",
    "len(documents)"
   ]
  },
  {
   "cell_type": "markdown",
   "id": "56fdb2e8-61da-455d-9dac-7a736cbb252b",
   "metadata": {},
   "source": [
    "## 创建索引"
   ]
  },
  {
   "cell_type": "code",
   "execution_count": 4,
   "id": "693c764e-f7b8-4fee-b141-0ecb4e5c73bd",
   "metadata": {},
   "outputs": [
    {
     "name": "stdout",
     "output_type": "stream",
     "text": [
      "CPU times: user 1.29 s, sys: 27 ms, total: 1.32 s\n",
      "Wall time: 19.5 s\n"
     ]
    }
   ],
   "source": [
    "%%time\n",
    "\n",
    "from llama_index.core import KeywordTableIndex\n",
    "\n",
    "index = KeywordTableIndex.from_documents(\n",
    "    documents\n",
    ")"
   ]
  },
  {
   "cell_type": "markdown",
   "id": "53a8ba7b-a955-4906-b827-75f0890f49e0",
   "metadata": {},
   "source": [
    "## 查询"
   ]
  },
  {
   "cell_type": "code",
   "execution_count": 5,
   "id": "d8f893f7-2db7-4b98-9410-d23c3e70a9d3",
   "metadata": {},
   "outputs": [
    {
     "name": "stdout",
     "output_type": "stream",
     "text": [
      "docker容器在后台执行的命令是通过`docker run -d`来实现的。例如：\n",
      "\n",
      "```bash\n",
      "docker run -d --rm bash\n",
      "```\n",
      "\n",
      "这里的`-d`参数表示在后台启动容器，而`--rm`则表示运行完成后自动删除容器。所以这个命令会在后台启动一个bash shell，并且一旦完成操作或出现错误，该容器会自动被移除。CPU times: user 186 ms, sys: 4.18 ms, total: 190 ms\n",
      "Wall time: 2.67 s\n"
     ]
    }
   ],
   "source": [
    "%%time\n",
    "\n",
    "query_engine = index.as_query_engine(\n",
    "    streaming=True\n",
    ")\n",
    "streaming_response = query_engine.query(\"docker容器在后台执行的命令\")\n",
    "streaming_response.print_response_stream()"
   ]
  },
  {
   "cell_type": "code",
   "execution_count": 6,
   "id": "58a1a306-58a6-4093-a048-d51632237816",
   "metadata": {},
   "outputs": [
    {
     "data": {
      "text/plain": [
       "10"
      ]
     },
     "execution_count": 6,
     "metadata": {},
     "output_type": "execute_result"
    }
   ],
   "source": [
    "len(streaming_response.source_nodes)"
   ]
  },
  {
   "cell_type": "code",
   "execution_count": 7,
   "id": "b7d15367-46d7-4086-99fa-5a406a3d3035",
   "metadata": {},
   "outputs": [
    {
     "data": {
      "text/plain": [
       "NodeWithScore(node=TextNode(id_='e4e3bdcd-5814-45a6-a70c-45219d9e414b', embedding=None, metadata={}, excluded_embed_metadata_keys=[], excluded_llm_metadata_keys=[], relationships={<NodeRelationship.SOURCE: '1'>: RelatedNodeInfo(node_id='61f6ff28-ead9-45a5-8143-5bf6da72dbcd', node_type=<ObjectType.DOCUMENT: '4'>, metadata={}, hash='c14c8b160d0f44e1fe479685616bd0d906b78ea2587e38eabfc96295ecca7f2d')}, text=\"docker 容器在后台执行\\n\\n```bash\\n# tty=true -t\\ndocker run -d -t --rm bash\\n```\\n\\ndocker-compose.yaml:\\n\\n```yaml\\nversion: '3'\\nservices:\\n  bash:\\n    container_name: bash\\n    image: bash:latest\\n    tty: true\\n```\", mimetype='text/plain', start_char_idx=2, end_char_idx=198, text_template='{metadata_str}\\n\\n{content}', metadata_template='{key}: {value}', metadata_seperator='\\n'), score=None)"
      ]
     },
     "execution_count": 7,
     "metadata": {},
     "output_type": "execute_result"
    }
   ],
   "source": [
    "streaming_response.source_nodes[0]"
   ]
  },
  {
   "cell_type": "code",
   "execution_count": 8,
   "id": "04c1fc25-f2d5-4c37-bbea-0fd1e2d9f999",
   "metadata": {},
   "outputs": [
    {
     "data": {
      "text/plain": [
       "NodeWithScore(node=TextNode(id_='674f88e5-e6d2-4b5d-b7f4-cd5ce83d3872', embedding=None, metadata={}, excluded_embed_metadata_keys=[], excluded_llm_metadata_keys=[], relationships={<NodeRelationship.SOURCE: '1'>: RelatedNodeInfo(node_id='aa2835a2-b111-46ca-8550-42bece16b290', node_type=<ObjectType.DOCUMENT: '4'>, metadata={}, hash='84ad709a0fbb660867926152c5028e5e32e3c3556ad739945dc1431d6b076da2')}, text='Docker 加速相关配置', mimetype='text/plain', start_char_idx=2, end_char_idx=15, text_template='{metadata_str}\\n\\n{content}', metadata_template='{key}: {value}', metadata_seperator='\\n'), score=None)"
      ]
     },
     "execution_count": 8,
     "metadata": {},
     "output_type": "execute_result"
    }
   ],
   "source": [
    "streaming_response.source_nodes[5]"
   ]
  },
  {
   "cell_type": "code",
   "execution_count": null,
   "id": "69246316-d5f6-41b8-9903-7b66e6169b8b",
   "metadata": {},
   "outputs": [],
   "source": []
  }
 ],
 "metadata": {
  "kernelspec": {
   "display_name": "Python 3 (ipykernel)",
   "language": "python",
   "name": "python3"
  },
  "language_info": {
   "codemirror_mode": {
    "name": "ipython",
    "version": 3
   },
   "file_extension": ".py",
   "mimetype": "text/x-python",
   "name": "python",
   "nbconvert_exporter": "python",
   "pygments_lexer": "ipython3",
   "version": "3.10.12"
  }
 },
 "nbformat": 4,
 "nbformat_minor": 5
}
