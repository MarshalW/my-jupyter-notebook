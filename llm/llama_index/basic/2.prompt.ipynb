{
 "cells": [
  {
   "cell_type": "markdown",
   "id": "ee92e9d5-691e-4b93-abe4-f12dd7ec1212",
   "metadata": {},
   "source": [
    "# prompts"
   ]
  },
  {
   "cell_type": "markdown",
   "id": "614b32de-e332-478d-906e-cd7a57154a34",
   "metadata": {},
   "source": [
    "## 概念"
   ]
  },
  {
   "cell_type": "markdown",
   "id": "3f6ec8ca-2f16-41d9-8b87-7f34c0e674f8",
   "metadata": {},
   "source": [
    "提示是赋予 LLM 表达能力的基本输入。\n",
    "\n",
    "LlamaIndex 使用提示来\n",
    "\n",
    "- 构建索引\n",
    "- 进行插入\n",
    "- 在查询期间执行遍历\n",
    "- 并合成最终答案。\n",
    "\n",
    "LlamaIndex 使用一组开箱即用的[默认提示模板](https://github.com/run-llama/llama_index/blob/main/llama-index-core/llama_index/core/prompts/default_prompts.py)。\n",
    "\n",
    "此外，还有一些专门为聊天模型编写和使用的提示，例如gpt-3.5-turbo [这里](https://github.com/run-llama/llama_index/blob/main/llama-index-core/llama_index/core/prompts/chat_prompts.py)。"
   ]
  },
  {
   "cell_type": "markdown",
   "id": "aee905df-0ca7-4e99-9de2-6dd3df4d7a1e",
   "metadata": {},
   "source": [
    "## 使用模式"
   ]
  },
  {
   "cell_type": "code",
   "execution_count": null,
   "id": "57d91e6f-4a55-400e-bf50-cc9f6f5be96d",
   "metadata": {},
   "outputs": [],
   "source": [
    "from llama_index.core import PromptTemplate\n",
    "\n",
    "template = (\n",
    "    \"We have provided context information below. \\n\"\n",
    "    \"---------------------\\n\"\n",
    "    \"{context_str}\"\n",
    "    \"\\n---------------------\\n\"\n",
    "    \"Given this information, please answer the question: {query_str}\\n\"\n",
    ")\n",
    "qa_template = PromptTemplate(template)\n",
    "\n",
    "# you can create text prompt (for completion API)\n",
    "prompt = qa_template.format(context_str=..., query_str=...)\n",
    "\n",
    "# or easily convert to message prompts (for chat API)\n",
    "messages = qa_template.format_messages(context_str=..., query_str=...)"
   ]
  },
  {
   "cell_type": "markdown",
   "id": "f45b5588-3f12-44ce-bf8b-f37b0e91f845",
   "metadata": {},
   "source": [
    "从聊天消息中定义模板"
   ]
  },
  {
   "cell_type": "code",
   "execution_count": null,
   "id": "8ef650b2-6520-4b70-b6ad-ceef203cdf4b",
   "metadata": {},
   "outputs": [],
   "source": [
    "from llama_index.core import ChatPromptTemplate\n",
    "from llama_index.core.llms import ChatMessage, MessageRole\n",
    "\n",
    "message_templates = [\n",
    "    ChatMessage(content=\"You are an expert system.\", role=MessageRole.SYSTEM),\n",
    "    ChatMessage(\n",
    "        content=\"Generate a short story about {topic}\",\n",
    "        role=MessageRole.USER,\n",
    "    ),\n",
    "]\n",
    "chat_template = ChatPromptTemplate(message_templates=message_templates)\n",
    "\n",
    "# you can create message prompts (for chat API)\n",
    "messages = chat_template.format_messages(topic=...)\n",
    "\n",
    "# or easily convert to text prompt (for completion API)\n",
    "prompt = chat_template.format(topic=...)"
   ]
  },
  {
   "cell_type": "markdown",
   "id": "86146324-245d-4859-a1af-394ad952cc41",
   "metadata": {},
   "source": [
    "## 常用提示"
   ]
  },
  {
   "cell_type": "markdown",
   "id": "ce1e1d8f-dbaa-476d-b6a0-b81c5d296ab4",
   "metadata": {},
   "source": [
    "最常用的提示是text_qa_template和refine_template。\n",
    "\n",
    "- text_qa_template- 用于使用检索到的节点获取查询的初始答案\n",
    "- refine_template- 当检索到的文本不适合单个 LLM 调用response_mode=\"compact\"（默认）时使用，或者当使用检索多个节点时使用response_mode=\"refine\"。第一个查询的答案作为插入existing_answer，LLM 必须根据新上下文更新或重复现有答案。"
   ]
  },
  {
   "cell_type": "markdown",
   "id": "c2b6028b-6161-4471-b1d0-3610cf8b3177",
   "metadata": {},
   "source": [
    "## 查看当前环境的提示"
   ]
  },
  {
   "cell_type": "code",
   "execution_count": null,
   "id": "ee90e8c7-5564-4486-904e-49fe2185b634",
   "metadata": {},
   "outputs": [],
   "source": [
    "query_engine = index.as_query_engine(response_mode=\"compact\")\n",
    "prompts_dict = query_engine.get_prompts()\n",
    "print(list(prompts_dict.keys()))"
   ]
  },
  {
   "cell_type": "markdown",
   "id": "7da9abd1-e692-474a-ac82-edf231c956c9",
   "metadata": {},
   "source": [
    "## 更新提示"
   ]
  },
  {
   "cell_type": "code",
   "execution_count": null,
   "id": "4899949f-3d1c-40ec-a937-29e05b8b24ed",
   "metadata": {},
   "outputs": [],
   "source": [
    "# shakespeare!\n",
    "qa_prompt_tmpl_str = (\n",
    "    \"Context information is below.\\n\"\n",
    "    \"---------------------\\n\"\n",
    "    \"{context_str}\\n\"\n",
    "    \"---------------------\\n\"\n",
    "    \"Given the context information and not prior knowledge, \"\n",
    "    \"answer the query in the style of a Shakespeare play.\\n\"\n",
    "    \"Query: {query_str}\\n\"\n",
    "    \"Answer: \"\n",
    ")\n",
    "qa_prompt_tmpl = PromptTemplate(qa_prompt_tmpl_str)\n",
    "\n",
    "query_engine.update_prompts(\n",
    "    {\"response_synthesizer:text_qa_template\": qa_prompt_tmpl}\n",
    ")"
   ]
  },
  {
   "cell_type": "markdown",
   "id": "4de1e5b4-8364-4f7b-9746-31d4710308c3",
   "metadata": {},
   "source": [
    "## 修改查询引擎中使用的提示"
   ]
  },
  {
   "cell_type": "code",
   "execution_count": null,
   "id": "25abd959-ec1f-4130-9874-ccf014981bee",
   "metadata": {},
   "outputs": [],
   "source": [
    "# 高级 API\n",
    "query_engine = index.as_query_engine(\n",
    "    text_qa_template=custom_qa_prompt, refine_template=custom_refine_prompt\n",
    ")\n",
    "\n",
    "# 底层 api\n",
    "retriever = index.as_retriever()\n",
    "synth = get_response_synthesizer(\n",
    "    text_qa_template=custom_qa_prompt, refine_template=custom_refine_prompt\n",
    ")\n",
    "query_engine = RetrieverQueryEngine(retriever, response_synthesizer)"
   ]
  },
  {
   "cell_type": "markdown",
   "id": "7124be87-a992-4224-97d0-01c19d841942",
   "metadata": {},
   "source": [
    "## 修改索引构建中使用的提示"
   ]
  },
  {
   "cell_type": "markdown",
   "id": "d4adad83-87a0-4b11-81c4-8b0a75911541",
   "metadata": {},
   "source": [
    "一些索引在构建过程中使用不同类型的提示（注意：最常见的VectorStoreIndex和SummaryIndex不使用任何提示）。"
   ]
  },
  {
   "cell_type": "code",
   "execution_count": null,
   "id": "7ae051d3-e9aa-4201-9785-a4e55e929d7e",
   "metadata": {},
   "outputs": [],
   "source": [
    "# TreeIndex\n",
    "index = TreeIndex(nodes, summary_template=custom_prompt)\n",
    "\n",
    "# 另一种方式\n",
    "index = TreeIndex.from_documents(docs, summary_template=custom_prompt)"
   ]
  },
  {
   "cell_type": "markdown",
   "id": "59b8892a-58db-49ae-88b8-67a4ef5baf90",
   "metadata": {},
   "source": [
    "## 高级提示功能"
   ]
  },
  {
   "cell_type": "markdown",
   "id": "a474208b-1468-44b2-95ae-092dd44a8c8d",
   "metadata": {},
   "source": [
    "### 部分格式化"
   ]
  },
  {
   "cell_type": "markdown",
   "id": "0461f1b9-1c64-4e17-9596-f6cc7bb1fdea",
   "metadata": {},
   "source": [
    "部分格式化提示，填写一些变量，同时将其他变量留待以后填写。"
   ]
  },
  {
   "cell_type": "markdown",
   "id": "749c0a58-cd9b-44a8-af23-40629a4f8b20",
   "metadata": {},
   "source": [
    "### 模板变量映射"
   ]
  },
  {
   "cell_type": "markdown",
   "id": "a2acc7ae-0c40-4e02-bf8a-b1f48a41a64e",
   "metadata": {},
   "source": [
    "将当前环境的变量映射为模版的变量。"
   ]
  },
  {
   "cell_type": "markdown",
   "id": "17b4625e-9c94-4578-a01a-e1068f976712",
   "metadata": {},
   "source": [
    "### 函数映射"
   ]
  },
  {
   "cell_type": "markdown",
   "id": "c1dd355d-38c7-4b24-aff9-5b14c38af8db",
   "metadata": {},
   "source": [
    "传入函数作为模板变量而不是固定值。"
   ]
  },
  {
   "cell_type": "code",
   "execution_count": null,
   "id": "ad1a4ce3-d9a2-4648-94c3-254f602dbfc8",
   "metadata": {},
   "outputs": [],
   "source": []
  }
 ],
 "metadata": {
  "kernelspec": {
   "display_name": "Python 3 (ipykernel)",
   "language": "python",
   "name": "python3"
  },
  "language_info": {
   "codemirror_mode": {
    "name": "ipython",
    "version": 3
   },
   "file_extension": ".py",
   "mimetype": "text/x-python",
   "name": "python",
   "nbconvert_exporter": "python",
   "pygments_lexer": "ipython3",
   "version": "3.10.12"
  }
 },
 "nbformat": 4,
 "nbformat_minor": 5
}
