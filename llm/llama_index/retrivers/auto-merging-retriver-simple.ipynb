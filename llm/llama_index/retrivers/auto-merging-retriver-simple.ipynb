{
 "cells": [
  {
   "cell_type": "markdown",
   "id": "6bd4a944-e954-4293-b40e-56929c6c8e5e",
   "metadata": {},
   "source": [
    "# 自动合并检索"
   ]
  },
  {
   "cell_type": "markdown",
   "id": "1df3d749-adab-4da0-8aa3-3a42cfd4efd0",
   "metadata": {},
   "source": [
    "## 准备"
   ]
  },
  {
   "cell_type": "code",
   "execution_count": 2,
   "id": "01e10aad-8827-41cb-aad8-dfd5796ee201",
   "metadata": {},
   "outputs": [
    {
     "name": "stdout",
     "output_type": "stream",
     "text": [
      "CPU times: user 9.59 ms, sys: 6.51 ms, total: 16.1 ms\n",
      "Wall time: 3.5 s\n"
     ]
    }
   ],
   "source": [
    "%%time\n",
    "%%capture\n",
    "\n",
    "!pip install llama-index"
   ]
  },
  {
   "cell_type": "markdown",
   "id": "b5bb18ce-271d-40dc-aa35-718dd3a51a43",
   "metadata": {},
   "source": [
    "## 加载文档"
   ]
  },
  {
   "cell_type": "code",
   "execution_count": 5,
   "id": "2b83cb44-80c6-4999-9192-54619d35b348",
   "metadata": {},
   "outputs": [
    {
     "name": "stdout",
     "output_type": "stream",
     "text": [
      "CPU times: user 9.41 ms, sys: 4.16 ms, total: 13.6 ms\n",
      "Wall time: 13.2 ms\n"
     ]
    }
   ],
   "source": [
    "%%time\n",
    "\n",
    "from llama_index.core import SimpleDirectoryReader\n",
    "\n",
    "documents = SimpleDirectoryReader(input_files=[\"data/故乡.txt\"]).load_data()"
   ]
  },
  {
   "cell_type": "markdown",
   "id": "398ef4c2-ba10-4b8d-b11b-7558b9130c3f",
   "metadata": {},
   "source": [
    "## 生成 root 节点和叶子结点"
   ]
  },
  {
   "cell_type": "code",
   "execution_count": 6,
   "id": "cd868c13-6e6c-40a6-a11b-ca8886aeb0f1",
   "metadata": {},
   "outputs": [
    {
     "name": "stdout",
     "output_type": "stream",
     "text": [
      "CPU times: user 270 ms, sys: 20.3 ms, total: 290 ms\n",
      "Wall time: 290 ms\n"
     ]
    },
    {
     "data": {
      "text/plain": [
       "111"
      ]
     },
     "execution_count": 6,
     "metadata": {},
     "output_type": "execute_result"
    }
   ],
   "source": [
    "%%time\n",
    "\n",
    "from llama_index.core.node_parser import (\n",
    "    HierarchicalNodeParser,\n",
    "    SentenceSplitter,\n",
    ")\n",
    "\n",
    "node_parser = HierarchicalNodeParser.from_defaults()\n",
    "nodes = node_parser.get_nodes_from_documents(documents)\n",
    "\n",
    "\n",
    "len(nodes)"
   ]
  },
  {
   "cell_type": "code",
   "execution_count": 7,
   "id": "db21bc15-e021-44d7-a274-68278c7f5ab0",
   "metadata": {},
   "outputs": [
    {
     "name": "stdout",
     "output_type": "stream",
     "text": [
      "CPU times: user 58 µs, sys: 7 µs, total: 65 µs\n",
      "Wall time: 67.2 µs\n"
     ]
    }
   ],
   "source": [
    "%%time\n",
    "\n",
    "from llama_index.core.node_parser import get_leaf_nodes, get_root_nodes\n",
    "\n",
    "leaf_nodes = get_leaf_nodes(nodes)"
   ]
  },
  {
   "cell_type": "code",
   "execution_count": 8,
   "id": "507b5223-f3aa-48a4-99ec-7a1d0fc67105",
   "metadata": {},
   "outputs": [
    {
     "data": {
      "text/plain": [
       "88"
      ]
     },
     "execution_count": 8,
     "metadata": {},
     "output_type": "execute_result"
    }
   ],
   "source": [
    "len(leaf_nodes)"
   ]
  },
  {
   "cell_type": "code",
   "execution_count": 10,
   "id": "23f783c6-03f7-44b6-a38e-4d908534f740",
   "metadata": {},
   "outputs": [
    {
     "data": {
      "text/plain": [
       "4"
      ]
     },
     "execution_count": 10,
     "metadata": {},
     "output_type": "execute_result"
    }
   ],
   "source": [
    "root_nodes = get_root_nodes(nodes)\n",
    "len(root_nodes)"
   ]
  },
  {
   "cell_type": "markdown",
   "id": "4192ed0f-91df-478c-b3d3-69d6d33207b3",
   "metadata": {},
   "source": [
    "## 存储文档"
   ]
  },
  {
   "cell_type": "code",
   "execution_count": 16,
   "id": "9774c1f7-54de-4779-b7ce-0822f0ef6db9",
   "metadata": {},
   "outputs": [
    {
     "name": "stdout",
     "output_type": "stream",
     "text": [
      "CPU times: user 18.8 ms, sys: 322 µs, total: 19.1 ms\n",
      "Wall time: 18.5 ms\n"
     ]
    }
   ],
   "source": [
    "%%time\n",
    "\n",
    "# define storage context\n",
    "from llama_index.core.storage.docstore import SimpleDocumentStore\n",
    "from llama_index.core import StorageContext\n",
    "\n",
    "docstore = SimpleDocumentStore()\n",
    "\n",
    "# insert nodes into docstore\n",
    "docstore.add_documents(nodes)\n",
    "\n",
    "# define storage context (will include vector store by default too)\n",
    "storage_context = StorageContext.from_defaults(docstore=docstore)"
   ]
  },
  {
   "cell_type": "code",
   "execution_count": 17,
   "id": "916ff369-22fa-4369-bd50-1d90bc0a939d",
   "metadata": {},
   "outputs": [
    {
     "name": "stdout",
     "output_type": "stream",
     "text": [
      "CPU times: user 2 µs, sys: 0 ns, total: 2 µs\n",
      "Wall time: 3.58 µs\n"
     ]
    }
   ],
   "source": [
    "%time\n",
    "\n",
    "# 加载llm和embeddings\n",
    "%run ../utils2.py\n",
    "\n",
    "from llama_index.core import Settings\n",
    "\n",
    "Settings.llm=get_llm()\n",
    "Settings.embed_model = get_embedding()"
   ]
  },
  {
   "cell_type": "code",
   "execution_count": 18,
   "id": "0f9cbf20-c03b-4e1a-82d3-efe6a57cfd9c",
   "metadata": {},
   "outputs": [
    {
     "name": "stdout",
     "output_type": "stream",
     "text": [
      "CPU times: user 374 ms, sys: 18.4 ms, total: 392 ms\n",
      "Wall time: 9.29 s\n"
     ]
    }
   ],
   "source": [
    "%%time\n",
    "\n",
    "## Load index into vector index\n",
    "from llama_index.core import VectorStoreIndex\n",
    "\n",
    "base_index = VectorStoreIndex(\n",
    "    leaf_nodes,\n",
    "    storage_context=storage_context,\n",
    ")"
   ]
  },
  {
   "cell_type": "markdown",
   "id": "ccea7694-834d-4890-ba6b-16aaf2d633fe",
   "metadata": {},
   "source": [
    "## AutoMergingRetriever"
   ]
  },
  {
   "cell_type": "code",
   "execution_count": 20,
   "id": "72ef94d6-fb0a-4f20-b2fe-7e6483cb505a",
   "metadata": {},
   "outputs": [
    {
     "name": "stdout",
     "output_type": "stream",
     "text": [
      "CPU times: user 2 µs, sys: 0 ns, total: 2 µs\n",
      "Wall time: 3.58 µs\n"
     ]
    }
   ],
   "source": [
    "%time\n",
    "\n",
    "from llama_index.core.retrievers import AutoMergingRetriever\n",
    "\n",
    "base_retriever = base_index.as_retriever(similarity_top_k=6)\n",
    "retriever = AutoMergingRetriever(base_retriever, storage_context, verbose=True)"
   ]
  },
  {
   "cell_type": "code",
   "execution_count": 26,
   "id": "f10b940a-f8a2-424e-8899-8cc7887f2198",
   "metadata": {},
   "outputs": [
    {
     "name": "stdout",
     "output_type": "stream",
     "text": [
      "CPU times: user 1 µs, sys: 0 ns, total: 1 µs\n",
      "Wall time: 3.34 µs\n"
     ]
    },
    {
     "data": {
      "text/plain": [
       "6"
      ]
     },
     "execution_count": 26,
     "metadata": {},
     "output_type": "execute_result"
    }
   ],
   "source": [
    "%time\n",
    "\n",
    "query_str = (\n",
    "    \"闰土是谁\"\n",
    ")\n",
    "\n",
    "nodes = retriever.retrieve(query_str)\n",
    "base_nodes = base_retriever.retrieve(query_str)\n",
    "                                     \n",
    "len(nodes)"
   ]
  },
  {
   "cell_type": "code",
   "execution_count": 27,
   "id": "afe0b30b-dab0-4ed5-a876-195787cec35d",
   "metadata": {},
   "outputs": [
    {
     "data": {
      "text/plain": [
       "6"
      ]
     },
     "execution_count": 27,
     "metadata": {},
     "output_type": "execute_result"
    }
   ],
   "source": [
    "len(base_nodes)"
   ]
  },
  {
   "cell_type": "code",
   "execution_count": 28,
   "id": "9b05cd6a-5fe8-46fe-9b63-27d767d16de7",
   "metadata": {},
   "outputs": [
    {
     "data": {
      "text/plain": [
       "NodeWithScore(node=TextNode(id_='56e82bf8-d532-401f-bdae-86eca2343be5', embedding=None, metadata={'file_path': 'data/故乡.txt', 'file_name': '故乡.txt', 'file_type': 'text/plain', 'file_size': 17811, 'creation_date': '2024-07-16', 'last_modified_date': '2024-07-16'}, excluded_embed_metadata_keys=['file_name', 'file_type', 'file_size', 'creation_date', 'last_modified_date', 'last_accessed_date'], excluded_llm_metadata_keys=['file_name', 'file_type', 'file_size', 'creation_date', 'last_modified_date', 'last_accessed_date'], relationships={<NodeRelationship.SOURCE: '1'>: RelatedNodeInfo(node_id='dd3cc72d-293a-4ba9-9033-65a09d61cd9e', node_type=<ObjectType.TEXT: '1'>, metadata={'file_path': 'data/故乡.txt', 'file_name': '故乡.txt', 'file_type': 'text/plain', 'file_size': 17811, 'creation_date': '2024-07-16', 'last_modified_date': '2024-07-16'}, hash='4c188c1948cc5baea6b04bc0bf5ae4d6e59e2dd579f02e25c27d8a2c1f7b979d'), <NodeRelationship.PREVIOUS: '2'>: RelatedNodeInfo(node_id='97ad5472-3b41-47fd-a5a3-0490be39a184', node_type=<ObjectType.TEXT: '1'>, metadata={'file_path': 'data/故乡.txt', 'file_name': '故乡.txt', 'file_type': 'text/plain', 'file_size': 17811, 'creation_date': '2024-07-16', 'last_modified_date': '2024-07-16'}, hash='2205672e529a72ca65d28937f4c9bdbee4f045fc3b45977cefda65289ef236e9'), <NodeRelationship.PARENT: '4'>: RelatedNodeInfo(node_id='dd3cc72d-293a-4ba9-9033-65a09d61cd9e', node_type=<ObjectType.TEXT: '1'>, metadata={'file_path': 'data/故乡.txt', 'file_name': '故乡.txt', 'file_type': 'text/plain', 'file_size': 17811, 'creation_date': '2024-07-16', 'last_modified_date': '2024-07-16'}, hash='4c188c1948cc5baea6b04bc0bf5ae4d6e59e2dd579f02e25c27d8a2c1f7b979d')}, text='⑷五行缺土：旧社会所谓算“八字”的迷信说法。', start_char_idx=280, end_char_idx=302, text_template='{metadata_str}\\n\\n{content}', metadata_template='{key}: {value}', metadata_seperator='\\n'), score=0.5431064700941325)"
      ]
     },
     "execution_count": 28,
     "metadata": {},
     "output_type": "execute_result"
    }
   ],
   "source": [
    "nodes[0]"
   ]
  },
  {
   "cell_type": "code",
   "execution_count": null,
   "id": "fd3b649f-00bb-447d-af26-895ae049f3c9",
   "metadata": {},
   "outputs": [],
   "source": []
  }
 ],
 "metadata": {
  "kernelspec": {
   "display_name": "Python 3 (ipykernel)",
   "language": "python",
   "name": "python3"
  },
  "language_info": {
   "codemirror_mode": {
    "name": "ipython",
    "version": 3
   },
   "file_extension": ".py",
   "mimetype": "text/x-python",
   "name": "python",
   "nbconvert_exporter": "python",
   "pygments_lexer": "ipython3",
   "version": "3.10.12"
  }
 },
 "nbformat": 4,
 "nbformat_minor": 5
}
